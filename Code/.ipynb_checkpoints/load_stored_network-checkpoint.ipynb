{
 "metadata": {
  "name": "",
  "signature": "sha256:89eb891b159420300947cbc501b92d6e04b333c9b46e8cb01fffc377b36111b1"
 },
 "nbformat": 3,
 "nbformat_minor": 0,
 "worksheets": [
  {
   "cells": [
    {
     "cell_type": "code",
     "collapsed": false,
     "input": [
      "%load_ext autoreload\n",
      "%autoreload 2\n",
      "import pickle\n",
      "import numpy as np\n",
      "import os\n",
      "import glob\n",
      "\n",
      "from test_cnn import TestCNN"
     ],
     "language": "python",
     "metadata": {},
     "outputs": [
      {
       "output_type": "stream",
       "stream": "stderr",
       "text": [
        "Using gpu device 0: GeForce GTX TITAN (CNMeM is disabled)\n"
       ]
      }
     ],
     "prompt_number": 1
    },
    {
     "cell_type": "code",
     "collapsed": false,
     "input": [
      "RESULTS_ID = '2b2e4f21-fa97-4e49-b954-59b18916a04e'"
     ],
     "language": "python",
     "metadata": {},
     "outputs": [],
     "prompt_number": 2
    },
    {
     "cell_type": "code",
     "collapsed": false,
     "input": [
      "t = TestCNN(RESULTS_ID)"
     ],
     "language": "python",
     "metadata": {},
     "outputs": [],
     "prompt_number": 3
    },
    {
     "cell_type": "code",
     "collapsed": false,
     "input": [
      "layers = t.run()"
     ],
     "language": "python",
     "metadata": {},
     "outputs": [
      {
       "output_type": "stream",
       "stream": "stdout",
       "text": [
        "Loading data...\n",
        "Loading"
       ]
      },
      {
       "output_type": "stream",
       "stream": "stdout",
       "text": [
        " ['/Volumes/DATA1/split_cnn/patches_large2/2b2e4f21-fa97-4e49-b954-59b18916a04e/configuration.txt']\n",
        "[\"{'outputpath': '/n/regal/pfister_lab/haehn/split_cnn/patches_large2/', 'filtersize1': 13, 'filters3': 16, 'filters2': 16, 'batchsize': 100, 'datapath': '/n/regal/pfister_lab/haehn/', 'epochs': 500, 'runmode': 'cluster', 'filtersize2': 13, 'filtersize3': 13, 'filters1': 16, 'patchpath': 'patches_large2', 'thirdconvlayer': True, 'learning_rate': 0.0001, 'momentum': 0.95}\"]\n",
        "Loading ['/Volumes/DATA1/split_cnn/patches_large2/2b2e4f21-fa97-4e49-b954-59b18916a04e/network_153.p']\n",
        "Final results:"
       ]
      },
      {
       "output_type": "stream",
       "stream": "stdout",
       "text": [
        "\n",
        "  test loss:\t\t\t0.008265\n",
        "  test accuracy:\t\t99.80 %\n"
       ]
      }
     ],
     "prompt_number": 8
    },
    {
     "cell_type": "code",
     "collapsed": false,
     "input": [],
     "language": "python",
     "metadata": {},
     "outputs": []
    }
   ],
   "metadata": {}
  }
 ]
}