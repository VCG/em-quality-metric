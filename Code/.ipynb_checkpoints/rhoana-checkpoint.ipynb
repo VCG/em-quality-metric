{
 "metadata": {
  "name": "",
  "signature": "sha256:142dce90b1e595e7184712cbea08bbb7fa1876d8e0ac349dc460422d47792851"
 },
 "nbformat": 3,
 "nbformat_minor": 0,
 "worksheets": [
  {
   "cells": [
    {
     "cell_type": "code",
     "collapsed": false,
     "input": [
      "%load_ext autoreload\n",
      "%autoreload 2\n",
      "\n",
      "from matplotlib.pyplot import imshow\n",
      "%matplotlib inline\n",
      "\n",
      "import _metrics"
     ],
     "language": "python",
     "metadata": {},
     "outputs": [
      {
       "output_type": "stream",
       "stream": "stderr",
       "text": [
        "_metrics/tifffile.py:1995: UserWarning: failed to import _tifffile.decodepackbits\n",
        "  warnings.warn(\"failed to import %s\" % module_function)\n",
        "_metrics/tifffile.py:1995: UserWarning: failed to import _tifffile.decodelzw\n",
        "  warnings.warn(\"failed to import %s\" % module_function)\n",
        "_metrics/tifffile.py:1995: UserWarning: failed to import _tifffile.unpackints\n",
        "  warnings.warn(\"failed to import %s\" % module_function)\n"
       ]
      }
     ],
     "prompt_number": 1
    },
    {
     "cell_type": "code",
     "collapsed": false,
     "input": [
      "\n",
      "import cv2\n",
      "import glob\n",
      "import numpy as np\n",
      "import mahotas as mh\n",
      "import os\n",
      "import uuid\n",
      "import tifffile as tif\n",
      "from scipy import ndimage as nd\n",
      "from scipy.misc import imrotate\n",
      "import skimage.measure\n",
      "from skimage import img_as_ubyte\n",
      "import random\n",
      "import cPickle as pickle\n",
      "import time\n",
      "import partition_comparison\n",
      "\n",
      "DATA_PATH = '/Volumes/DATA1/EMQM_DATA/ac3x75/'\n",
      "GOLD_PATH = os.path.join(DATA_PATH,'gold/')\n",
      "RHOANA_PATH = os.path.join(DATA_PATH,'rhoana/')\n",
      "IMAGE_PATH = os.path.join(DATA_PATH,'input/')\n",
      "PROB_PATH = os.path.join(DATA_PATH,'prob/')\n",
      "PATCH_PATH = os.path.join(DATA_PATH,'test_rhoana/')\n",
      "\n",
      "\n",
      "gold = _metrics.Util.read(GOLD_PATH+'*.tif')\n",
      "rhoana = _metrics.Util.read(RHOANA_PATH+'*.tif')\n",
      "images = _metrics.Util.read(IMAGE_PATH+'*.tif')\n",
      "probs = _metrics.Util.read(PROB_PATH+'*.tif')"
     ],
     "language": "python",
     "metadata": {},
     "outputs": [
      {
       "output_type": "stream",
       "stream": "stdout",
       "text": [
        "Loaded 75 images.\n",
        "Loaded"
       ]
      },
      {
       "output_type": "stream",
       "stream": "stdout",
       "text": [
        " 75 images.\n",
        "Loaded"
       ]
      },
      {
       "output_type": "stream",
       "stream": "stdout",
       "text": [
        " 75 images.\n",
        "Loaded"
       ]
      },
      {
       "output_type": "stream",
       "stream": "stdout",
       "text": [
        " 75 images.\n"
       ]
      },
      {
       "output_type": "stream",
       "stream": "stderr",
       "text": [
        "tifffile.py:1995: UserWarning: failed to import _tifffile.decodepackbits\n",
        "  warnings.warn(\"failed to import %s\" % module_function)\n",
        "tifffile.py:1995: UserWarning: failed to import _tifffile.decodelzw\n",
        "  warnings.warn(\"failed to import %s\" % module_function)\n",
        "tifffile.py:1995: UserWarning: failed to import _tifffile.unpackints\n",
        "  warnings.warn(\"failed to import %s\" % module_function)\n"
       ]
      }
     ],
     "prompt_number": 2
    },
    {
     "cell_type": "code",
     "collapsed": false,
     "input": [
      "SLICE = 70"
     ],
     "language": "python",
     "metadata": {},
     "outputs": [],
     "prompt_number": 3
    },
    {
     "cell_type": "code",
     "collapsed": false,
     "input": [
      "image = images[SLICE]\n",
      "prob = probs[SLICE]\n",
      "seg = _metrics.Util.normalize_labels(rhoana[SLICE])[0]\n",
      "\n",
      "# fill and normalize gold\n",
      "gold_zeros = _metrics.Util.threshold(gold[SLICE], 0)\n",
      "gold_filled = _metrics.Util.fill(gold[SLICE], gold_zeros.astype(np.bool))\n",
      "gold_filled_relabeled = skimage.measure.label(gold_filled).astype(np.uint64)\n",
      "gold_normalized = _metrics.Util.normalize_labels(gold_filled_relabeled)[0]\n",
      "\n",
      "# color both segmentations\n",
      "cm = _metrics.Util.load_colormap('/Volumes/DATA1/ac3x75/mojo/ids/colorMap.hdf5')\n",
      "colored_rhoana_normalized = cm[seg % len(cm)]\n",
      "colored_gold_normalized = cm[gold_normalized % len(cm)]\n"
     ],
     "language": "python",
     "metadata": {},
     "outputs": [],
     "prompt_number": 236
    },
    {
     "cell_type": "code",
     "collapsed": false,
     "input": [
      "def grab_neighbors(array, label):\n",
      "\n",
      "    thresholded_array = _metrics.Util.threshold(array, label)\n",
      "    thresholded_array_dilated = mh.dilate(thresholded_array.astype(np.uint64))\n",
      "\n",
      "    all_neighbors = np.unique(array[thresholded_array_dilated == thresholded_array_dilated.max()].astype(np.uint64))\n",
      "    all_neighbors = np.delete(all_neighbors, np.where(all_neighbors == label))\n",
      "\n",
      "    return all_neighbors\n",
      "\n",
      "def grab_patch(image, prob, segmentation, l, n, patch_size=(75,75)):\n",
      "\n",
      "    border = mh.labeled.border(segmentation, l, n)\n",
      "    border_yx = indices = zip(*np.where(border==True))\n",
      "\n",
      "    # fault check if no border is found\n",
      "    if len(border_yx) < 2:\n",
      "        print 'no border', l, n\n",
      "        return None\n",
      "\n",
      "    empty_labeled = skimage.measure.label(border)\n",
      "    if empty_labeled.max() > 1:\n",
      "        #print 'borders', empty_labeled.max(), 'labels', l,n\n",
      "        return None\n",
      "\n",
      "    #\n",
      "    # calculate border center properly\n",
      "    #\n",
      "    node = mh.center_of_mass(border)\n",
      "    nodes = border_yx\n",
      "    nodes = np.asarray(nodes)\n",
      "    deltas = nodes - node\n",
      "    dist_2 = np.einsum('ij,ij->i', deltas, deltas)\n",
      "    border_center = border_yx[np.argmin(dist_2)]\n",
      "\n",
      "    # check if border_center is too close to the 4 edges\n",
      "    new_border_center = [border_center[0], border_center[1]]\n",
      "    if border_center[0] < patch_size[0]/2:\n",
      "        return None\n",
      "    if border_center[0]+patch_size[0]/2 >= segmentation.shape[0]:\n",
      "        return None\n",
      "    if border_center[1] < patch_size[1]/2:\n",
      "        return None\n",
      "    if border_center[1]+patch_size[1]/2 >= segmentation.shape[1]:\n",
      "        return None\n",
      "\n",
      "    bbox = [new_border_center[0]-patch_size[0]/2, \n",
      "            new_border_center[0]+patch_size[0]/2,\n",
      "            new_border_center[1]-patch_size[1]/2, \n",
      "            new_border_center[1]+patch_size[1]/2]\n",
      "\n",
      "    ### workaround to not sample white border of probability map\n",
      "    if bbox[0] <= 33:\n",
      "        return None\n",
      "    if bbox[1] >= segmentation.shape[0]-33:\n",
      "        return None\n",
      "    if bbox[2] <= 33:\n",
      "        return None\n",
      "    if bbox[3] >= segmentation.shape[1]-33:\n",
      "        return None\n",
      "\n",
      "    \n",
      "    # threshold for label1\n",
      "    array1 = _metrics.Util.threshold(segmentation, l).astype(np.uint8)\n",
      "    # threshold for label2\n",
      "    array2 = _metrics.Util.threshold(segmentation, n).astype(np.uint8)\n",
      "    merged_array = array1 + array2\n",
      "\n",
      "    # dilate for overlap\n",
      "    dilated_array1 = np.array(array1)\n",
      "    dilated_array2 = np.array(array2)\n",
      "    for o in range(10):\n",
      "        dilated_array1 = mh.dilate(dilated_array1.astype(np.uint64))\n",
      "        dilated_array2 = mh.dilate(dilated_array2.astype(np.uint64))\n",
      "    overlap = np.logical_and(dilated_array1, dilated_array2)\n",
      "    overlap[merged_array == 0] = 0\n",
      "\n",
      "    output = {}\n",
      "    output['id'] = str(uuid.uuid4())\n",
      "    output['image'] = image[bbox[0]:bbox[1] + 1, bbox[2]:bbox[3] + 1]\n",
      "    output['prob'] = prob[bbox[0]:bbox[1] + 1, bbox[2]:bbox[3] + 1]\n",
      "    output['l'] = l\n",
      "    output['n'] = n\n",
      "    output['bbox'] = bbox\n",
      "    output['border'] = border_yx\n",
      "    output['border_center'] = new_border_center\n",
      "    output['binary1'] = array1[bbox[0]:bbox[1] + 1, bbox[2]:bbox[3] + 1].astype(np.bool)\n",
      "    output['binary2'] = array2[bbox[0]:bbox[1] + 1, bbox[2]:bbox[3] + 1].astype(np.bool)\n",
      "    output['overlap'] = overlap[bbox[0]:bbox[1] + 1, bbox[2]:bbox[3] + 1].astype(np.bool)\n",
      "\n",
      "    return output\n",
      "    \n",
      "    \n",
      "\n",
      "def loop(image, prob, segmentation):\n",
      "    labels = range(1,len(_metrics.Util.get_histogram(segmentation.astype(np.uint64))))\n",
      "\n",
      "    patches = []\n",
      "    \n",
      "    for l in labels:\n",
      "        neighbors = grab_neighbors(segmentation, l)\n",
      "        for n in neighbors:\n",
      "            p = grab_patch(image, prob, segmentation, l, n)\n",
      "            if not p:\n",
      "                continue\n",
      "                \n",
      "            patches.append(p)\n",
      "            \n",
      "    return patches\n",
      "\n",
      "            \n",
      "def setup_n():\n",
      "    from test_cnn_vis import TestCNN\n",
      "    t = TestCNN('7b76867e-c76a-416f-910a-7065e93c616a', 'patches_large2new')\n",
      "    val_fn = t.run()\n",
      "    \n",
      "    return val_fn\n",
      "            \n",
      "def test_patch(val_fn, p):\n",
      "\n",
      "    images = p['image'].reshape(-1, 1, 75, 75).astype(np.uint8)\n",
      "    probs = p['prob'].reshape(-1, 1, 75, 75).astype(np.uint8)\n",
      "    binary1s = p['binary1'].reshape(-1, 1, 75, 75).astype(np.uint8)*255\n",
      "    binary2s = p['binary2'].reshape(-1, 1, 75, 75).astype(np.uint8)*255\n",
      "    overlaps = p['overlap'].reshape(-1, 1, 75, 75).astype(np.uint8)*255\n",
      "    targets = np.array([0], dtype=np.uint8)\n",
      "    \n",
      "    pred, err, acc = val_fn(images, probs, binary1s, binary2s, overlaps, targets)\n",
      "            \n",
      "    return pred[0][1]\n",
      "\n",
      "def create_matrix(val_fn, segmentation, patches):\n",
      "    \n",
      "    \n",
      "    no_labels = len(_metrics.Util.get_histogram(segmentation.astype(np.uint64)))\n",
      "    \n",
      "    m = np.zeros((no_labels,no_labels), dtype=np.float)\n",
      "    m[:,:] = -1 # all uninitialised\n",
      "    print m.shape\n",
      "    for p in patches:\n",
      "\n",
      "        prediction = test_patch(val_fn, p)\n",
      "        m[p['l'], p['n']] = prediction\n",
      "        m[p['n'], p['l']] = prediction\n",
      "        \n",
      "    return m\n",
      "\n",
      "def merge(image, seg, prob, m_old, sureness=1.):\n",
      "    \n",
      "    out = np.array(seg)\n",
      "    m = np.array(m_old)\n",
      "    \n",
      "    patches = []\n",
      "    \n",
      "    # find largest value in matrix\n",
      "    largest_index = np.where(m==m.max())\n",
      "    l,n = (largest_index[0][0], largest_index[1][0])\n",
      "    \n",
      "    # merge these labels\n",
      "    print 'merging', l, n\n",
      "    out[out == l] = n\n",
      "    # set matrix as merged for this entry\n",
      "    m[l,:] = -2\n",
      "    m[:,l] = -2\n",
      "    \n",
      "    # grab neighbors of l\n",
      "    old_neighbors = grab_neighbors(seg, l)\n",
      "    # get patches for l and n_l\n",
      "    for n in old_neighbors:\n",
      "        neighbors = grab_neighbors(out, n)\n",
      "        for k in neighbors:\n",
      "            p = grab_patch(image, prob, out, n, k)\n",
      "            if not p:\n",
      "                continue\n",
      "\n",
      "            patches.append(p)\n",
      "        \n",
      "    print 'recomputed', len(patches), 'patches'\n",
      "\n",
      "    # now we have a bunch of new patches\n",
      "    # -> update our matrix\n",
      "    for p in patches:\n",
      "        prediction = test_patch(val_fn, p)\n",
      "        m[p['l'], p['n']] = prediction\n",
      "        m[p['n'], p['l']] = prediction\n",
      "\n",
      "    return m, out\n",
      "        "
     ],
     "language": "python",
     "metadata": {},
     "outputs": [],
     "prompt_number": 208
    },
    {
     "cell_type": "code",
     "collapsed": false,
     "input": [
      "import time\n",
      "t0 = time.time()\n",
      "p = loop(image, prob, seg)\n",
      "print time.time()-t0"
     ],
     "language": "python",
     "metadata": {},
     "outputs": [
      {
       "output_type": "stream",
       "stream": "stdout",
       "text": [
        "borders 2 labels 15 37\n",
        "borders"
       ]
      },
      {
       "output_type": "stream",
       "stream": "stdout",
       "text": [
        " 2 labels 15 44\n",
        "borders"
       ]
      },
      {
       "output_type": "stream",
       "stream": "stdout",
       "text": [
        " 2 labels 15 112\n",
        "borders"
       ]
      },
      {
       "output_type": "stream",
       "stream": "stdout",
       "text": [
        " 2 labels 15 118\n",
        "borders"
       ]
      },
      {
       "output_type": "stream",
       "stream": "stdout",
       "text": [
        " 2 labels 15 148\n",
        "borders"
       ]
      },
      {
       "output_type": "stream",
       "stream": "stdout",
       "text": [
        " 2 labels 15 209\n",
        "borders"
       ]
      },
      {
       "output_type": "stream",
       "stream": "stdout",
       "text": [
        " 2 labels 20 33\n",
        "borders"
       ]
      },
      {
       "output_type": "stream",
       "stream": "stdout",
       "text": [
        " 2 labels 33 20\n",
        "borders"
       ]
      },
      {
       "output_type": "stream",
       "stream": "stdout",
       "text": [
        " 2 labels 37 15\n",
        "borders"
       ]
      },
      {
       "output_type": "stream",
       "stream": "stdout",
       "text": [
        " 2 labels 37 79\n",
        "borders"
       ]
      },
      {
       "output_type": "stream",
       "stream": "stdout",
       "text": [
        " 2 labels 44 15\n",
        "borders"
       ]
      },
      {
       "output_type": "stream",
       "stream": "stdout",
       "text": [
        " 2 labels 56 71\n",
        "borders"
       ]
      },
      {
       "output_type": "stream",
       "stream": "stdout",
       "text": [
        " 2 labels 66 104\n",
        "borders"
       ]
      },
      {
       "output_type": "stream",
       "stream": "stdout",
       "text": [
        " 2 labels 66 127\n",
        "borders"
       ]
      },
      {
       "output_type": "stream",
       "stream": "stdout",
       "text": [
        " 2 labels 71 56\n",
        "borders"
       ]
      },
      {
       "output_type": "stream",
       "stream": "stdout",
       "text": [
        " 2 labels 79 37\n",
        "borders"
       ]
      },
      {
       "output_type": "stream",
       "stream": "stdout",
       "text": [
        " 2 labels 104 66\n",
        "borders"
       ]
      },
      {
       "output_type": "stream",
       "stream": "stdout",
       "text": [
        " 2 labels 104 108\n",
        "borders"
       ]
      },
      {
       "output_type": "stream",
       "stream": "stdout",
       "text": [
        " 2 labels 108 104\n",
        "borders"
       ]
      },
      {
       "output_type": "stream",
       "stream": "stdout",
       "text": [
        " 2 labels 112 15\n",
        "borders"
       ]
      },
      {
       "output_type": "stream",
       "stream": "stdout",
       "text": [
        " 2 labels 118 15\n",
        "borders"
       ]
      },
      {
       "output_type": "stream",
       "stream": "stdout",
       "text": [
        " 2 labels 125 142\n",
        "borders"
       ]
      },
      {
       "output_type": "stream",
       "stream": "stdout",
       "text": [
        " 2 labels 127 66\n",
        "borders"
       ]
      },
      {
       "output_type": "stream",
       "stream": "stdout",
       "text": [
        " 2 labels 135 154\n",
        "borders"
       ]
      },
      {
       "output_type": "stream",
       "stream": "stdout",
       "text": [
        " 2 labels 140 269\n",
        "borders"
       ]
      },
      {
       "output_type": "stream",
       "stream": "stdout",
       "text": [
        " 2 labels 142 125\n",
        "borders"
       ]
      },
      {
       "output_type": "stream",
       "stream": "stdout",
       "text": [
        " 2 labels 142 151\n",
        "borders"
       ]
      },
      {
       "output_type": "stream",
       "stream": "stdout",
       "text": [
        " 2 labels 148 15\n",
        "borders"
       ]
      },
      {
       "output_type": "stream",
       "stream": "stdout",
       "text": [
        " 2 labels 151 142\n",
        "borders"
       ]
      },
      {
       "output_type": "stream",
       "stream": "stdout",
       "text": [
        " 2 labels 152 181\n",
        "borders"
       ]
      },
      {
       "output_type": "stream",
       "stream": "stdout",
       "text": [
        " 2 labels 154 135\n",
        "borders"
       ]
      },
      {
       "output_type": "stream",
       "stream": "stdout",
       "text": [
        " 2 labels 181 152\n",
        "borders"
       ]
      },
      {
       "output_type": "stream",
       "stream": "stdout",
       "text": [
        " 2 labels 181 191\n",
        "borders"
       ]
      },
      {
       "output_type": "stream",
       "stream": "stdout",
       "text": [
        " 2 labels 191 181\n",
        "borders"
       ]
      },
      {
       "output_type": "stream",
       "stream": "stdout",
       "text": [
        " 2 labels 203 269\n",
        "borders"
       ]
      },
      {
       "output_type": "stream",
       "stream": "stdout",
       "text": [
        " 2 labels 209 15\n",
        "borders"
       ]
      },
      {
       "output_type": "stream",
       "stream": "stdout",
       "text": [
        " 2 labels 211 228\n",
        "borders"
       ]
      },
      {
       "output_type": "stream",
       "stream": "stdout",
       "text": [
        " 2 labels 228 211\n",
        "borders"
       ]
      },
      {
       "output_type": "stream",
       "stream": "stdout",
       "text": [
        " 3 labels 261 329\n",
        "borders"
       ]
      },
      {
       "output_type": "stream",
       "stream": "stdout",
       "text": [
        " 2 labels 269 140\n",
        "borders"
       ]
      },
      {
       "output_type": "stream",
       "stream": "stdout",
       "text": [
        " 2 labels 269 203\n",
        "borders"
       ]
      },
      {
       "output_type": "stream",
       "stream": "stdout",
       "text": [
        " 2 labels 295 314\n",
        "borders"
       ]
      },
      {
       "output_type": "stream",
       "stream": "stdout",
       "text": [
        " 2 labels 295 325\n",
        "borders"
       ]
      },
      {
       "output_type": "stream",
       "stream": "stdout",
       "text": [
        " 2 labels 314 295\n",
        "borders"
       ]
      },
      {
       "output_type": "stream",
       "stream": "stdout",
       "text": [
        " 2 labels 322 345\n",
        "borders"
       ]
      },
      {
       "output_type": "stream",
       "stream": "stdout",
       "text": [
        " 2 labels 325 295\n",
        "borders"
       ]
      },
      {
       "output_type": "stream",
       "stream": "stdout",
       "text": [
        " 3 labels 329 261\n",
        "borders"
       ]
      },
      {
       "output_type": "stream",
       "stream": "stdout",
       "text": [
        " 2 labels 329 333\n",
        "borders"
       ]
      },
      {
       "output_type": "stream",
       "stream": "stdout",
       "text": [
        " 2 labels 329 346\n",
        "borders"
       ]
      },
      {
       "output_type": "stream",
       "stream": "stdout",
       "text": [
        " 2 labels 333 329\n",
        "borders"
       ]
      },
      {
       "output_type": "stream",
       "stream": "stdout",
       "text": [
        " 2 labels 345 322\n",
        "borders"
       ]
      },
      {
       "output_type": "stream",
       "stream": "stdout",
       "text": [
        " 2 labels 345 372\n",
        "borders"
       ]
      },
      {
       "output_type": "stream",
       "stream": "stdout",
       "text": [
        " 2 labels 346 329\n",
        "borders"
       ]
      },
      {
       "output_type": "stream",
       "stream": "stdout",
       "text": [
        " 2 labels 372 345\n",
        "751.941801071"
       ]
      },
      {
       "output_type": "stream",
       "stream": "stdout",
       "text": [
        "\n"
       ]
      }
     ],
     "prompt_number": 109
    },
    {
     "cell_type": "code",
     "collapsed": false,
     "input": [
      "m = create_matrix(val_fn, seg, p)"
     ],
     "language": "python",
     "metadata": {},
     "outputs": [
      {
       "output_type": "stream",
       "stream": "stdout",
       "text": [
        "(387, 387)\n"
       ]
      }
     ],
     "prompt_number": 133
    },
    {
     "cell_type": "code",
     "collapsed": false,
     "input": [
      "m.mean()"
     ],
     "language": "python",
     "metadata": {},
     "outputs": [
      {
       "metadata": {},
       "output_type": "pyout",
       "prompt_number": 135,
       "text": [
        "-0.98859368076324061"
       ]
      }
     ],
     "prompt_number": 135
    },
    {
     "cell_type": "code",
     "collapsed": false,
     "input": [
      "val_fn = setup_n()"
     ],
     "language": "python",
     "metadata": {},
     "outputs": [
      {
       "output_type": "stream",
       "stream": "stdout",
       "text": [
        "Loading ['/Volumes/DATA1/split_cnn/patches_large2new/7b76867e-c76a-416f-910a-7065e93c616a/configuration.txt']\n",
        "[\"{'outputpath': '/n/regal/pfister_lab/haehn/split_cnn/patches_large2new/', 'filtersize1': 9, 'filters3': 16, 'filters2': 16, 'batchsize': 100, 'datapath': '/n/regal/pfister_lab/haehn/', 'epochs': 500, 'runmode': 'cluster', 'filtersize2': 9, 'filtersize3': 9, 'filters1': 16, 'patchpath': 'patches_large2new', 'thirdconvlayer': True, 'learning_rate': 0.0001, 'momentum': 0.9}\"]\n",
        "Loading ['/Volumes/DATA1/split_cnn/patches_large2new/7b76867e-c76a-416f-910a-7065e93c616a/network_199.p']\n"
       ]
      }
     ],
     "prompt_number": 78
    },
    {
     "cell_type": "code",
     "collapsed": false,
     "input": [
      "test_patch( val_fn, p)"
     ],
     "language": "python",
     "metadata": {},
     "outputs": [
      {
       "metadata": {},
       "output_type": "pyout",
       "prompt_number": 104,
       "text": [
        "3.239694e-06"
       ]
      }
     ],
     "prompt_number": 104
    },
    {
     "cell_type": "code",
     "collapsed": false,
     "input": [
      "imshow(p['image'], cmap='gray')"
     ],
     "language": "python",
     "metadata": {},
     "outputs": [
      {
       "metadata": {},
       "output_type": "pyout",
       "prompt_number": 94,
       "text": [
        "<matplotlib.image.AxesImage at 0x106c5fd90>"
       ]
      },
      {
       "metadata": {},
       "output_type": "display_data",
       "png": "[encoded data removed]",
       "text": [
        "<matplotlib.figure.Figure at 0x1ac87c590>"
       ]
      }
     ],
     "prompt_number": 94
    },
    {
     "cell_type": "code",
     "collapsed": false,
     "input": [
      "imshow(seg[p['bbox'][0]:p['bbox'][1],p['bbox'][2]:p['bbox'][3]])"
     ],
     "language": "python",
     "metadata": {},
     "outputs": [
      {
       "metadata": {},
       "output_type": "pyout",
       "prompt_number": 99,
       "text": [
        "<matplotlib.image.AxesImage at 0x1ac4afd90>"
       ]
      },
      {
       "metadata": {},
       "output_type": "display_data",
       "png": "[encoded data removed]",
       "text": [
        "<matplotlib.figure.Figure at 0x1aa2b6110>"
       ]
      }
     ],
     "prompt_number": 99
    },
    {
     "cell_type": "code",
     "collapsed": false,
     "input": [
      "9.99996781e-01"
     ],
     "language": "python",
     "metadata": {},
     "outputs": [
      {
       "metadata": {},
       "output_type": "pyout",
       "prompt_number": 100,
       "text": [
        "0.999996781"
       ]
      }
     ],
     "prompt_number": 100
    },
    {
     "cell_type": "code",
     "collapsed": false,
     "input": [
      "3.23969402e-06+9.99996781e-01"
     ],
     "language": "python",
     "metadata": {},
     "outputs": [
      {
       "metadata": {},
       "output_type": "pyout",
       "prompt_number": 102,
       "text": [
        "1.00000002069402"
       ]
      }
     ],
     "prompt_number": 102
    },
    {
     "cell_type": "code",
     "collapsed": false,
     "input": [
      "np.where(m_new==m_new.max())"
     ],
     "language": "python",
     "metadata": {},
     "outputs": [
      {
       "metadata": {},
       "output_type": "pyout",
       "prompt_number": 230,
       "text": [
        "(array([322, 355]), array([355, 322]))"
       ]
      }
     ],
     "prompt_number": 230
    },
    {
     "cell_type": "code",
     "collapsed": false,
     "input": [],
     "language": "python",
     "metadata": {},
     "outputs": [
      {
       "output_type": "stream",
       "stream": "stdout",
       "text": [
        "(387, 387)\n"
       ]
      }
     ],
     "prompt_number": 246
    },
    {
     "cell_type": "code",
     "collapsed": false,
     "input": [
      "print 'creating matrix'\n",
      "new_m = create_matrix(val_fn, seg, p)\n",
      "\n",
      "sureness = .9\n",
      "surenesses = []\n",
      "vi_s = []\n",
      "\n",
      "\n",
      "while m_new.max() >= sureness:\n",
      "    print 'Merging for sureness s=', m_new.max()\n",
      "    surenesses.append(m_new.max())\n",
      "    \n",
      "    m_new, out = merge(image, out, prob, m_new)\n",
      "    \n",
      "    vi = partition_comparison.variation_of_information(out.ravel(), gold_normalized.ravel())\n",
      "    vi_s.append(vi)\n",
      "    print 'New VI', vi\n",
      "    print '-'*80\n",
      "    "
     ],
     "language": "python",
     "metadata": {},
     "outputs": [],
     "prompt_number": 245
    },
    {
     "cell_type": "code",
     "collapsed": false,
     "input": [
      "m_new, out = merge(image, out, prob, m_new)"
     ],
     "language": "python",
     "metadata": {},
     "outputs": [
      {
       "output_type": "stream",
       "stream": "stdout",
       "text": [
        "merging 322 355\n",
        "recomputed"
       ]
      },
      {
       "output_type": "stream",
       "stream": "stdout",
       "text": [
        " 40 patches\n"
       ]
      }
     ],
     "prompt_number": 231
    },
    {
     "cell_type": "code",
     "collapsed": false,
     "input": [
      "m_new.max()"
     ],
     "language": "python",
     "metadata": {},
     "outputs": [
      {
       "metadata": {},
       "output_type": "pyout",
       "prompt_number": 232,
       "text": [
        "0.9999995231628418"
       ]
      }
     ],
     "prompt_number": 232
    },
    {
     "cell_type": "code",
     "collapsed": false,
     "input": [
      "imshow(out)"
     ],
     "language": "python",
     "metadata": {},
     "outputs": [
      {
       "metadata": {},
       "output_type": "pyout",
       "prompt_number": 233,
       "text": [
        "<matplotlib.image.AxesImage at 0x1a2113d90>"
       ]
      },
      {
       "metadata": {},
       "output_type": "display_data",
       "png": "[encoded data removed]",
       "text": [
        "<matplotlib.figure.Figure at 0x1ac491ed0>"
       ]
      }
     ],
     "prompt_number": 233
    },
    {
     "cell_type": "code",
     "collapsed": false,
     "input": [
      "partition_comparison.variation_of_information(out.ravel(), gold_normalized.ravel())"
     ],
     "language": "python",
     "metadata": {},
     "outputs": [
      {
       "metadata": {},
       "output_type": "pyout",
       "prompt_number": 244,
       "text": [
        "0.8198876564051094"
       ]
      }
     ],
     "prompt_number": 244
    },
    {
     "cell_type": "code",
     "collapsed": false,
     "input": [
      "imshow(colored_gold_normalized)"
     ],
     "language": "python",
     "metadata": {},
     "outputs": [
      {
       "metadata": {},
       "output_type": "pyout",
       "prompt_number": 240,
       "text": [
        "<matplotlib.image.AxesImage at 0x19f16b950>"
       ]
      },
      {
       "metadata": {},
       "output_type": "display_data",
       "png": "[encoded data removed]",
       "text": [
        "<matplotlib.figure.Figure at 0x1a20f6110>"
       ]
      }
     ],
     "prompt_number": 240
    },
    {
     "cell_type": "code",
     "collapsed": false,
     "input": [
      "imshow(colored_rhoana_normalized)"
     ],
     "language": "python",
     "metadata": {},
     "outputs": [
      {
       "metadata": {},
       "output_type": "pyout",
       "prompt_number": 241,
       "text": [
        "<matplotlib.image.AxesImage at 0x1a1e86290>"
       ]
      },
      {
       "metadata": {},
       "output_type": "display_data",
       "png": "[encoded data removed]",
       "text": [
        "<matplotlib.figure.Figure at 0x19f17dfd0>"
       ]
      }
     ],
     "prompt_number": 241
    },
    {
     "cell_type": "code",
     "collapsed": false,
     "input": [
      "colored_out_normalized = cm[out % len(cm)]\n",
      "imshow(colored_out_normalized)"
     ],
     "language": "python",
     "metadata": {},
     "outputs": [
      {
       "metadata": {},
       "output_type": "pyout",
       "prompt_number": 242,
       "text": [
        "<matplotlib.image.AxesImage at 0x19f3d3890>"
       ]
      },
      {
       "metadata": {},
       "output_type": "display_data",
       "png": "[encoded data removed]",
       "text": [
        "<matplotlib.figure.Figure at 0x1a1e700d0>"
       ]
      }
     ],
     "prompt_number": 242
    },
    {
     "cell_type": "code",
     "collapsed": false,
     "input": [],
     "language": "python",
     "metadata": {},
     "outputs": []
    }
   ],
   "metadata": {}
  }
 ]
}