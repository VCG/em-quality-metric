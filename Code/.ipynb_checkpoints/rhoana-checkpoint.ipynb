{
 "metadata": {
  "name": "",
  "signature": "sha256:3a1968916a3fa0faea1d56b7f1a31d82297c34c59877a80fe084c5d42a9ad7c9"
 },
 "nbformat": 3,
 "nbformat_minor": 0,
 "worksheets": [
  {
   "cells": [
    {
     "cell_type": "code",
     "collapsed": false,
     "input": [
      "%load_ext autoreload\n",
      "%autoreload 2\n",
      "\n",
      "from matplotlib.pyplot import imshow\n",
      "%matplotlib inline\n",
      "\n",
      "import _metrics"
     ],
     "language": "python",
     "metadata": {},
     "outputs": [
      {
       "output_type": "stream",
       "stream": "stderr",
       "text": [
        "_metrics/tifffile.py:1995: UserWarning: failed to import _tifffile.decodepackbits\n",
        "  warnings.warn(\"failed to import %s\" % module_function)\n",
        "_metrics/tifffile.py:1995: UserWarning: failed to import _tifffile.decodelzw\n",
        "  warnings.warn(\"failed to import %s\" % module_function)\n",
        "_metrics/tifffile.py:1995: UserWarning: failed to import _tifffile.unpackints\n",
        "  warnings.warn(\"failed to import %s\" % module_function)\n"
       ]
      }
     ],
     "prompt_number": 1
    },
    {
     "cell_type": "code",
     "collapsed": false,
     "input": [
      "\n",
      "import cv2\n",
      "import glob\n",
      "import numpy as np\n",
      "import mahotas as mh\n",
      "import os\n",
      "import uuid\n",
      "import tifffile as tif\n",
      "from scipy import ndimage as nd\n",
      "from scipy.misc import imrotate\n",
      "import skimage.measure\n",
      "from skimage import img_as_ubyte\n",
      "import random\n",
      "import cPickle as pickle\n",
      "import time\n",
      "import partition_comparison\n",
      "\n",
      "DATA_PATH = '/Volumes/DATA1/EMQM_DATA/ac3x75/'\n",
      "GOLD_PATH = os.path.join(DATA_PATH,'gold/')\n",
      "RHOANA_PATH = os.path.join(DATA_PATH,'rhoana/')\n",
      "IMAGE_PATH = os.path.join(DATA_PATH,'input/')\n",
      "PROB_PATH = os.path.join(DATA_PATH,'prob/')\n",
      "PATCH_PATH = os.path.join(DATA_PATH,'test_rhoana/')\n",
      "\n",
      "\n",
      "gold = _metrics.Util.read(GOLD_PATH+'*.tif')\n",
      "rhoana = _metrics.Util.read(RHOANA_PATH+'*.tif')\n",
      "images = _metrics.Util.read(IMAGE_PATH+'*.tif')\n",
      "probs = _metrics.Util.read(PROB_PATH+'*.tif')"
     ],
     "language": "python",
     "metadata": {},
     "outputs": [
      {
       "output_type": "stream",
       "stream": "stdout",
       "text": [
        "Loaded 75 images.\n",
        "Loaded"
       ]
      },
      {
       "output_type": "stream",
       "stream": "stdout",
       "text": [
        " 75 images.\n",
        "Loaded"
       ]
      },
      {
       "output_type": "stream",
       "stream": "stdout",
       "text": [
        " 75 images.\n",
        "Loaded"
       ]
      },
      {
       "output_type": "stream",
       "stream": "stdout",
       "text": [
        " 75 images.\n"
       ]
      },
      {
       "output_type": "stream",
       "stream": "stderr",
       "text": [
        "tifffile.py:1995: UserWarning: failed to import _tifffile.decodepackbits\n",
        "  warnings.warn(\"failed to import %s\" % module_function)\n",
        "tifffile.py:1995: UserWarning: failed to import _tifffile.decodelzw\n",
        "  warnings.warn(\"failed to import %s\" % module_function)\n",
        "tifffile.py:1995: UserWarning: failed to import _tifffile.unpackints\n",
        "  warnings.warn(\"failed to import %s\" % module_function)\n"
       ]
      }
     ],
     "prompt_number": 2
    },
    {
     "cell_type": "code",
     "collapsed": false,
     "input": [
      "SLICE = 70"
     ],
     "language": "python",
     "metadata": {},
     "outputs": [],
     "prompt_number": 3
    },
    {
     "cell_type": "code",
     "collapsed": false,
     "input": [
      "image = images[SLICE]\n",
      "prob = probs[SLICE]\n",
      "seg = _metrics.Util.normalize_labels(rhoana[SLICE])[0]\n",
      "\n",
      "# fill and normalize gold\n",
      "gold_zeros = _metrics.Util.threshold(gold[SLICE], 0)\n",
      "gold_filled = _metrics.Util.fill(gold[SLICE], gold_zeros.astype(np.bool))\n",
      "gold_filled_relabeled = skimage.measure.label(gold_filled).astype(np.uint64)\n",
      "gold_normalized = _metrics.Util.normalize_labels(gold_filled_relabeled)[0]\n",
      "\n",
      "# color both segmentations\n",
      "cm = _metrics.Util.load_colormap('/Volumes/DATA1/ac3x75/mojo/ids/colorMap.hdf5')\n",
      "colored_rhoana_normalized = cm[seg % len(cm)]\n",
      "colored_gold_normalized = cm[gold_normalized % len(cm)]\n"
     ],
     "language": "python",
     "metadata": {},
     "outputs": [],
     "prompt_number": 236
    },
    {
     "cell_type": "code",
     "collapsed": false,
     "input": [
      "def grab_neighbors(array, label):\n",
      "\n",
      "    thresholded_array = _metrics.Util.threshold(array, label)\n",
      "    thresholded_array_dilated = mh.dilate(thresholded_array.astype(np.uint64))\n",
      "\n",
      "    all_neighbors = np.unique(array[thresholded_array_dilated == thresholded_array_dilated.max()].astype(np.uint64))\n",
      "    all_neighbors = np.delete(all_neighbors, np.where(all_neighbors == label))\n",
      "\n",
      "    return all_neighbors\n",
      "\n",
      "def grab_patch(image, prob, segmentation, l, n, patch_size=(75,75)):\n",
      "\n",
      "    borders = mh.labeled.border(segmentation, l, n)\n",
      "\n",
      "    borders_labeled = skimage.measure.label(borders)\n",
      "    \n",
      "    patches = []\n",
      "    \n",
      "    # check if we need multiple patches because of multiple borders\n",
      "    for b in range(1,borders_labeled.max()+1):\n",
      "#         print 'patch for border', b\n",
      "        \n",
      "        border = _metrics.Util.threshold(borders_labeled, b)\n",
      "\n",
      "        border_yx = indices = zip(*np.where(border==1))\n",
      "\n",
      "        # fault check if no border is found\n",
      "        if len(border_yx) < 2:\n",
      "            print 'no border', l, n, 'border', b\n",
      "            continue\n",
      "\n",
      "        #\n",
      "        # calculate border center properly\n",
      "        #\n",
      "        node = mh.center_of_mass(border)\n",
      "        nodes = border_yx\n",
      "        nodes = np.asarray(nodes)\n",
      "        deltas = nodes - node\n",
      "        dist_2 = np.einsum('ij,ij->i', deltas, deltas)\n",
      "        border_center = border_yx[np.argmin(dist_2)]\n",
      "\n",
      "        # check if border_center is too close to the 4 edges\n",
      "        new_border_center = [border_center[0], border_center[1]]\n",
      "        if border_center[0] < patch_size[0]/2:\n",
      "            return None\n",
      "        if border_center[0]+patch_size[0]/2 >= segmentation.shape[0]:\n",
      "            return None\n",
      "        if border_center[1] < patch_size[1]/2:\n",
      "            return None\n",
      "        if border_center[1]+patch_size[1]/2 >= segmentation.shape[1]:\n",
      "            return None\n",
      "\n",
      "        bbox = [new_border_center[0]-patch_size[0]/2, \n",
      "                new_border_center[0]+patch_size[0]/2,\n",
      "                new_border_center[1]-patch_size[1]/2, \n",
      "                new_border_center[1]+patch_size[1]/2]\n",
      "\n",
      "        ### workaround to not sample white border of probability map\n",
      "        if bbox[0] <= 33:\n",
      "            return None\n",
      "        if bbox[1] >= segmentation.shape[0]-33:\n",
      "            return None\n",
      "        if bbox[2] <= 33:\n",
      "            return None\n",
      "        if bbox[3] >= segmentation.shape[1]-33:\n",
      "            return None\n",
      "\n",
      "\n",
      "        # threshold for label1\n",
      "        array1 = _metrics.Util.threshold(segmentation, l).astype(np.uint8)\n",
      "        # threshold for label2\n",
      "        array2 = _metrics.Util.threshold(segmentation, n).astype(np.uint8)\n",
      "        merged_array = array1 + array2\n",
      "\n",
      "        # dilate for overlap\n",
      "        dilated_array1 = np.array(array1)\n",
      "        dilated_array2 = np.array(array2)\n",
      "        for o in range(10):\n",
      "            dilated_array1 = mh.dilate(dilated_array1.astype(np.uint64))\n",
      "            dilated_array2 = mh.dilate(dilated_array2.astype(np.uint64))\n",
      "        overlap = np.logical_and(dilated_array1, dilated_array2)\n",
      "        overlap[merged_array == 0] = 0\n",
      "\n",
      "        output = {}\n",
      "        output['id'] = str(uuid.uuid4())\n",
      "        output['image'] = image[bbox[0]:bbox[1] + 1, bbox[2]:bbox[3] + 1]\n",
      "        output['prob'] = prob[bbox[0]:bbox[1] + 1, bbox[2]:bbox[3] + 1]\n",
      "        output['l'] = l\n",
      "        output['n'] = n\n",
      "        output['bbox'] = bbox\n",
      "        output['border'] = border_yx\n",
      "        output['border_center'] = new_border_center\n",
      "        output['binary1'] = array1[bbox[0]:bbox[1] + 1, bbox[2]:bbox[3] + 1].astype(np.bool)\n",
      "        output['binary2'] = array2[bbox[0]:bbox[1] + 1, bbox[2]:bbox[3] + 1].astype(np.bool)\n",
      "        output['overlap'] = overlap[bbox[0]:bbox[1] + 1, bbox[2]:bbox[3] + 1].astype(np.bool)\n",
      "\n",
      "        patches.append(output)\n",
      "        \n",
      "    return patches\n",
      "    \n",
      "    \n",
      "\n",
      "def loop(image, prob, segmentation):\n",
      "    labels = range(1,len(_metrics.Util.get_histogram(segmentation.astype(np.uint64))))\n",
      "\n",
      "    patches = []\n",
      "    \n",
      "    for l in labels:\n",
      "        neighbors = grab_neighbors(segmentation, l)\n",
      "        for n in neighbors:\n",
      "            p = grab_patch(image, prob, segmentation, l, n)\n",
      "            if not p:\n",
      "                continue\n",
      "                \n",
      "            patches += p\n",
      "            \n",
      "    return patches\n",
      "\n",
      "def fill_matrix(m, patches):\n",
      "    \n",
      "    patch_grouper = {}\n",
      "    for p in patches:\n",
      "        # create key\n",
      "        minlabel = min(p['l'], p['n'])\n",
      "        maxlabel = max(p['l'], p['n'])\n",
      "        key = str(minlabel)+'-'+str(maxlabel)\n",
      "\n",
      "        if not key in patch_grouper:\n",
      "            patch_grouper[key] = []\n",
      "\n",
      "        patch_grouper[key] += [p]\n",
      "\n",
      "    # now average the probabilities\n",
      "    for k in patch_grouper.keys():\n",
      "\n",
      "        weights = []\n",
      "        predictions = []\n",
      "\n",
      "        for p in patch_grouper[k]:\n",
      "\n",
      "             weights.append(len(p['border']))\n",
      "             predictions.append(test_patch(val_fn, p))\n",
      "\n",
      "        if len(patch_grouper[k]) == 1:\n",
      "            weights[0] = 1\n",
      "\n",
      "        p_sum = 0\n",
      "        w_sum = 0\n",
      "        for i,w in enumerate(weights):\n",
      "            # weighted arithmetic mean\n",
      "            p_sum += w*predictions[i]\n",
      "            w_sum += w\n",
      "\n",
      "        p_sum /= w_sum\n",
      "\n",
      "        patch_grouper[k] = p_sum\n",
      "\n",
      "    for p in patch_grouper.keys():\n",
      "        l = int(p.split('-')[0])\n",
      "        n = int(p.split('-')[1])\n",
      "        \n",
      "        m[l,n] = patch_grouper[p]\n",
      "        \n",
      "    print 'merged', len(patches), 'patches into', len(patch_grouper.keys())\n",
      "        \n",
      "    return m\n",
      "\n",
      "            \n",
      "def setup_n():\n",
      "    from test_cnn_vis import TestCNN\n",
      "    t = TestCNN('7b76867e-c76a-416f-910a-7065e93c616a', 'patches_large2new')\n",
      "    val_fn = t.run()\n",
      "    \n",
      "    return val_fn\n",
      "            \n",
      "def test_patch(val_fn, p):\n",
      "\n",
      "    images = p['image'].reshape(-1, 1, 75, 75).astype(np.uint8)\n",
      "    probs = p['prob'].reshape(-1, 1, 75, 75).astype(np.uint8)\n",
      "    binary1s = p['binary1'].reshape(-1, 1, 75, 75).astype(np.uint8)*255\n",
      "    binary2s = p['binary2'].reshape(-1, 1, 75, 75).astype(np.uint8)*255\n",
      "    overlaps = p['overlap'].reshape(-1, 1, 75, 75).astype(np.uint8)*255\n",
      "    targets = np.array([0], dtype=np.uint8)\n",
      "    \n",
      "    pred, err, acc = val_fn(images, probs, binary1s, binary2s, overlaps, targets)\n",
      "            \n",
      "    return pred[0][1]\n",
      "\n",
      "def create_matrix(val_fn, segmentation, patches):\n",
      "    \n",
      "    \n",
      "    no_labels = len(_metrics.Util.get_histogram(segmentation.astype(np.uint64)))\n",
      "    \n",
      "    m = np.zeros((no_labels,no_labels), dtype=np.float)\n",
      "    m[:,:] = -1 # all uninitialised\n",
      " \n",
      "#     for p in patches:\n",
      "\n",
      "#         prediction = test_patch(val_fn, p)\n",
      "#         m[p['l'], p['n']] = prediction\n",
      "#         m[p['n'], p['l']] = prediction\n",
      "\n",
      "    m = fill_matrix(m, patches)\n",
      "\n",
      "    return m\n",
      "\n",
      "def merge(image, seg, prob, m_old, sureness=1.):\n",
      "    \n",
      "    out = np.array(seg)\n",
      "    m = np.array(m_old)\n",
      "    \n",
      "    patches = []\n",
      "    \n",
      "    # find largest value in matrix\n",
      "    largest_index = np.where(m==m.max())\n",
      "    l,n = (largest_index[0][0], largest_index[1][0])\n",
      "    \n",
      "    # merge these labels\n",
      "    print 'merging', l, n\n",
      "    out[out == l] = n\n",
      "    # set matrix as merged for this entry\n",
      "    m[l,:] = -2\n",
      "    m[:,l] = -2\n",
      "    \n",
      "    # grab neighbors of l\n",
      "    old_neighbors = grab_neighbors(seg, l)\n",
      "    # get patches for l and n_l\n",
      "    for n in old_neighbors:\n",
      "        neighbors = grab_neighbors(out, n)\n",
      "        for k in neighbors:\n",
      "            \n",
      "            # check if this is still a valid combination\n",
      "            if m[n,k] < 0:\n",
      "                # nope!\n",
      "                continue\n",
      "            \n",
      "            p = grab_patch(image, prob, out, n, k)\n",
      "            if not p:\n",
      "                continue\n",
      "\n",
      "            patches += p\n",
      "        \n",
      "    print 'recomputed', len(patches), 'patches'\n",
      "\n",
      "    # now we have a bunch of new patches\n",
      "    # -> update our matrix    \n",
      "#     for p in patches:\n",
      "#         prediction = test_patch(val_fn, p)\n",
      "#         m[p['l'], p['n']] = prediction\n",
      "#         m[p['n'], p['l']] = prediction\n",
      "\n",
      "    m = fill_matrix(m, patches)\n",
      "\n",
      "    return m, out\n",
      "\n",
      "\n",
      "\n",
      "def propagate_max_overlap(rhoana, gold):\n",
      "\n",
      "    out = np.array(rhoana)\n",
      "    \n",
      "    rhoana_labels = _metrics.Util.get_histogram(rhoana.astype(np.uint64))\n",
      "    \n",
      "    for l,k in enumerate(rhoana_labels):\n",
      "        if l == 0:\n",
      "            # ignore 0 since rhoana does not have it\n",
      "            continue\n",
      "        values = gold[rhoana == l]\n",
      "        largest_label = _metrics.Util.get_largest_label(values.astype(np.uint64))\n",
      "    \n",
      "        out[rhoana == l] = largest_label # set the largest label from gold here\n",
      "    \n",
      "    return out\n",
      "        "
     ],
     "language": "python",
     "metadata": {},
     "outputs": [],
     "prompt_number": 460
    },
    {
     "cell_type": "code",
     "collapsed": false,
     "input": [
      "import time\n",
      "t0 = time.time()\n",
      "p = loop(image, prob, seg)\n",
      "print time.time()-t0"
     ],
     "language": "python",
     "metadata": {},
     "outputs": [
      {
       "output_type": "stream",
       "stream": "stdout",
       "text": [
        "788.629153013\n"
       ]
      }
     ],
     "prompt_number": 452
    },
    {
     "cell_type": "code",
     "collapsed": false,
     "input": [
      "val_fn = setup_n()"
     ],
     "language": "python",
     "metadata": {},
     "outputs": [
      {
       "output_type": "stream",
       "stream": "stdout",
       "text": [
        "Loading ['/Volumes/DATA1/split_cnn/patches_large2new/7b76867e-c76a-416f-910a-7065e93c616a/configuration.txt']\n",
        "[\"{'outputpath': '/n/regal/pfister_lab/haehn/split_cnn/patches_large2new/', 'filtersize1': 9, 'filters3': 16, 'filters2': 16, 'batchsize': 100, 'datapath': '/n/regal/pfister_lab/haehn/', 'epochs': 500, 'runmode': 'cluster', 'filtersize2': 9, 'filtersize3': 9, 'filters1': 16, 'patchpath': 'patches_large2new', 'thirdconvlayer': True, 'learning_rate': 0.0001, 'momentum': 0.9}\"]\n",
        "Loading ['/Volumes/DATA1/split_cnn/patches_large2new/7b76867e-c76a-416f-910a-7065e93c616a/network_199.p']\n"
       ]
      }
     ],
     "prompt_number": 78
    },
    {
     "cell_type": "code",
     "collapsed": false,
     "input": [
      "print 'creating matrix'\n",
      "m_new = create_matrix(val_fn, seg, p)\n",
      "out = seg\n",
      "sureness = 0.\n",
      "surenesses = []\n",
      "vi_s = []\n",
      "images = []\n",
      "\n",
      "\n",
      "while m_new.max() >= sureness:\n",
      "    print 'Merging for sureness s=', m_new.max()\n",
      "    surenesses.append(m_new.max())\n",
      "    \n",
      "    m_new, out = merge(image, out, prob, m_new)\n",
      "    \n",
      "    vi = partition_comparison.variation_of_information(out.ravel(), gold_normalized.ravel())\n",
      "    vi_s.append(vi)\n",
      "    \n",
      "    images.append(np.array(out))\n",
      "    \n",
      "    print 'New VI', vi\n",
      "    print '-'*80\n",
      "    "
     ],
     "language": "python",
     "metadata": {},
     "outputs": [
      {
       "output_type": "stream",
       "stream": "stdout",
       "text": [
        "creating matrix\n",
        "merged"
       ]
      },
      {
       "output_type": "stream",
       "stream": "stdout",
       "text": [
        " 1578 patches into 769\n",
        "Merging for sureness s= 1.0\n",
        "merging 56 92\n",
        "recomputed"
       ]
      },
      {
       "output_type": "stream",
       "stream": "stdout",
       "text": [
        " 36 patches\n",
        "merged"
       ]
      },
      {
       "output_type": "stream",
       "stream": "stdout",
       "text": [
        " 36 patches into 35\n",
        "New VI"
       ]
      },
      {
       "output_type": "stream",
       "stream": "stdout",
       "text": [
        " 0.817495412153\n",
        "--------------------------------------------------------------------------------\n",
        "Merging for sureness s= 1.0\n",
        "merging 93 94\n",
        "recomputed"
       ]
      },
      {
       "output_type": "stream",
       "stream": "stdout",
       "text": [
        " 8 patches\n",
        "merged"
       ]
      },
      {
       "output_type": "stream",
       "stream": "stdout",
       "text": [
        " 8 patches into 8\n",
        "New VI"
       ]
      },
      {
       "output_type": "stream",
       "stream": "stdout",
       "text": [
        " 0.817496076009\n",
        "--------------------------------------------------------------------------------\n",
        "Merging for sureness s= 1.0\n",
        "merging 125 145\n",
        "recomputed"
       ]
      },
      {
       "output_type": "stream",
       "stream": "stdout",
       "text": [
        " 19 patches\n",
        "merged"
       ]
      },
      {
       "output_type": "stream",
       "stream": "stdout",
       "text": [
        " 19 patches into 18\n",
        "New VI"
       ]
      },
      {
       "output_type": "stream",
       "stream": "stdout",
       "text": [
        " 0.817345725205\n",
        "--------------------------------------------------------------------------------\n",
        "Merging for sureness s= 1.0\n",
        "merging 224 228\n",
        "recomputed"
       ]
      },
      {
       "output_type": "stream",
       "stream": "stdout",
       "text": [
        " 13 patches\n",
        "merged"
       ]
      },
      {
       "output_type": "stream",
       "stream": "stdout",
       "text": [
        " 13 patches into 12\n",
        "New VI"
       ]
      },
      {
       "output_type": "stream",
       "stream": "stdout",
       "text": [
        " 0.816164002404\n",
        "--------------------------------------------------------------------------------\n",
        "Merging for sureness s= 1.0\n",
        "merging 315 318\n",
        "recomputed"
       ]
      },
      {
       "output_type": "stream",
       "stream": "stdout",
       "text": [
        " 23 patches\n",
        "merged"
       ]
      },
      {
       "output_type": "stream",
       "stream": "stdout",
       "text": [
        " 23 patches into 23\n",
        "New VI"
       ]
      },
      {
       "output_type": "stream",
       "stream": "stdout",
       "text": [
        " 0.815224805783\n",
        "--------------------------------------------------------------------------------\n",
        "Merging for sureness s= 0.999999344349\n",
        "merging 66 133\n",
        "recomputed"
       ]
      },
      {
       "output_type": "stream",
       "stream": "stdout",
       "text": [
        " 25 patches\n",
        "merged"
       ]
      },
      {
       "output_type": "stream",
       "stream": "stdout",
       "text": [
        " 25 patches into 24\n",
        "New VI"
       ]
      },
      {
       "output_type": "stream",
       "stream": "stdout",
       "text": [
        " 0.810386772272\n",
        "--------------------------------------------------------------------------------\n",
        "Merging for sureness s= 0.999994635582\n",
        "merging 209 225\n",
        "recomputed"
       ]
      },
      {
       "output_type": "stream",
       "stream": "stdout",
       "text": [
        " 89 patches\n",
        "merged"
       ]
      },
      {
       "output_type": "stream",
       "stream": "stdout",
       "text": [
        " 89 patches into 85\n",
        "New VI"
       ]
      },
      {
       "output_type": "stream",
       "stream": "stdout",
       "text": [
        " 0.810291085346\n",
        "--------------------------------------------------------------------------------\n",
        "Merging for sureness s= 0.999952197075\n",
        "merging 172 173\n",
        "recomputed"
       ]
      },
      {
       "output_type": "stream",
       "stream": "stdout",
       "text": [
        " 16 patches\n",
        "merged"
       ]
      },
      {
       "output_type": "stream",
       "stream": "stdout",
       "text": [
        " 16 patches into 15\n",
        "New VI"
       ]
      },
      {
       "output_type": "stream",
       "stream": "stdout",
       "text": [
        " 0.810022359262\n",
        "--------------------------------------------------------------------------------\n",
        "Merging for sureness s= 0.999943912029\n",
        "merging 329 339\n",
        "recomputed"
       ]
      },
      {
       "output_type": "stream",
       "stream": "stdout",
       "text": [
        " 26 patches\n",
        "merged"
       ]
      },
      {
       "output_type": "stream",
       "stream": "stdout",
       "text": [
        " 26 patches into 26\n",
        "New VI"
       ]
      },
      {
       "output_type": "stream",
       "stream": "stdout",
       "text": [
        " 0.808679383774\n",
        "--------------------------------------------------------------------------------\n",
        "Merging for sureness s= 0.999909520149\n",
        "merging 303 317\n",
        "recomputed"
       ]
      },
      {
       "output_type": "stream",
       "stream": "stdout",
       "text": [
        " 17 patches\n",
        "merged"
       ]
      },
      {
       "output_type": "stream",
       "stream": "stdout",
       "text": [
        " 17 patches into 16\n",
        "New VI"
       ]
      },
      {
       "output_type": "stream",
       "stream": "stdout",
       "text": [
        " 0.808310636671\n",
        "--------------------------------------------------------------------------------\n",
        "Merging for sureness s= 0.999903678894\n",
        "merging 165 167\n",
        "recomputed"
       ]
      },
      {
       "output_type": "stream",
       "stream": "stdout",
       "text": [
        " 58 patches\n",
        "merged"
       ]
      },
      {
       "output_type": "stream",
       "stream": "stdout",
       "text": [
        " 58 patches into 54\n",
        "New VI"
       ]
      },
      {
       "output_type": "stream",
       "stream": "stdout",
       "text": [
        " 0.808142737696\n",
        "--------------------------------------------------------------------------------\n",
        "Merging for sureness s= 0.999897122383\n",
        "merging 255 259\n",
        "recomputed"
       ]
      },
      {
       "output_type": "stream",
       "stream": "stdout",
       "text": [
        " 29 patches\n",
        "merged"
       ]
      },
      {
       "output_type": "stream",
       "stream": "stdout",
       "text": [
        " 29 patches into 29\n",
        "New VI"
       ]
      },
      {
       "output_type": "stream",
       "stream": "stdout",
       "text": [
        " 0.807763258689\n",
        "--------------------------------------------------------------------------------\n",
        "Merging for sureness s= 0.999696552753\n",
        "merging 140 198\n",
        "recomputed"
       ]
      },
      {
       "output_type": "stream",
       "stream": "stdout",
       "text": [
        " 142 patches\n",
        "merged"
       ]
      },
      {
       "output_type": "stream",
       "stream": "stdout",
       "text": [
        " 142 patches into 138\n",
        "New VI"
       ]
      },
      {
       "output_type": "stream",
       "stream": "stdout",
       "text": [
        " 0.807779367446\n",
        "--------------------------------------------------------------------------------\n",
        "Merging for sureness s= 0.99965184927\n",
        "merging 151 157\n",
        "recomputed"
       ]
      },
      {
       "output_type": "stream",
       "stream": "stdout",
       "text": [
        " 15 patches\n",
        "merged"
       ]
      },
      {
       "output_type": "stream",
       "stream": "stdout",
       "text": [
        " 15 patches into 15\n",
        "New VI"
       ]
      },
      {
       "output_type": "stream",
       "stream": "stdout",
       "text": [
        " 0.807909770871\n",
        "--------------------------------------------------------------------------------\n",
        "Merging for sureness s= 0.998836219311\n",
        "merging 25 42\n",
        "recomputed"
       ]
      },
      {
       "output_type": "stream",
       "stream": "stdout",
       "text": [
        " 18 patches\n",
        "merged"
       ]
      },
      {
       "output_type": "stream",
       "stream": "stdout",
       "text": [
        " 18 patches into 18\n",
        "New VI"
       ]
      },
      {
       "output_type": "stream",
       "stream": "stdout",
       "text": [
        " 0.807159155296\n",
        "--------------------------------------------------------------------------------\n",
        "Merging for sureness s= 0.995775580406\n",
        "merging 313 318\n",
        "recomputed"
       ]
      },
      {
       "output_type": "stream",
       "stream": "stdout",
       "text": [
        " 7 patches\n",
        "merged 7 patches into 7\n",
        "New VI"
       ]
      },
      {
       "output_type": "stream",
       "stream": "stdout",
       "text": [
        " 0.805977322234\n",
        "--------------------------------------------------------------------------------\n",
        "Merging for sureness s= 0.995340824127\n",
        "merging 261 328\n",
        "recomputed"
       ]
      },
      {
       "output_type": "stream",
       "stream": "stdout",
       "text": [
        " 34 patches\n",
        "merged"
       ]
      },
      {
       "output_type": "stream",
       "stream": "stdout",
       "text": [
        " 34 patches into 34\n",
        "New VI"
       ]
      },
      {
       "output_type": "stream",
       "stream": "stdout",
       "text": [
        " 0.80545187404\n",
        "--------------------------------------------------------------------------------\n",
        "Merging for sureness s= 0.983582258224\n",
        "merging 158 161\n",
        "recomputed"
       ]
      },
      {
       "output_type": "stream",
       "stream": "stdout",
       "text": [
        " 18 patches\n",
        "merged"
       ]
      },
      {
       "output_type": "stream",
       "stream": "stdout",
       "text": [
        " 18 patches into 17\n",
        "New VI"
       ]
      },
      {
       "output_type": "stream",
       "stream": "stdout",
       "text": [
        " 0.805452333084\n",
        "--------------------------------------------------------------------------------\n",
        "Merging for sureness s= 0.978759109974\n",
        "merging 299 310\n",
        "recomputed"
       ]
      },
      {
       "output_type": "stream",
       "stream": "stdout",
       "text": [
        " 7 patches\n",
        "merged 7 patches into 7\n",
        "New VI"
       ]
      },
      {
       "output_type": "stream",
       "stream": "stdout",
       "text": [
        " 0.805367549763\n",
        "--------------------------------------------------------------------------------\n",
        "Merging for sureness s= 0.999544799328\n",
        "merging 310 312\n",
        "recomputed"
       ]
      },
      {
       "output_type": "stream",
       "stream": "stdout",
       "text": [
        " 8 patches\n",
        "merged"
       ]
      },
      {
       "output_type": "stream",
       "stream": "stdout",
       "text": [
        " 8 patches into 8\n",
        "New VI"
       ]
      },
      {
       "output_type": "stream",
       "stream": "stdout",
       "text": [
        " 0.805058396209\n",
        "--------------------------------------------------------------------------------\n",
        "Merging for sureness s= 0.993987798691\n",
        "merging 295 352\n",
        "recomputed"
       ]
      },
      {
       "output_type": "stream",
       "stream": "stdout",
       "text": [
        " 11 patches\n",
        "merged"
       ]
      },
      {
       "output_type": "stream",
       "stream": "stdout",
       "text": [
        " 11 patches into 11\n",
        "New VI"
       ]
      },
      {
       "output_type": "stream",
       "stream": "stdout",
       "text": [
        " 0.804479452177\n",
        "--------------------------------------------------------------------------------\n",
        "Merging for sureness s= 0.966457128525\n",
        "merging 322 355\n",
        "recomputed"
       ]
      },
      {
       "output_type": "stream",
       "stream": "stdout",
       "text": [
        " 12 patches\n",
        "merged"
       ]
      },
      {
       "output_type": "stream",
       "stream": "stdout",
       "text": [
        " 12 patches into 12\n",
        "New VI"
       ]
      },
      {
       "output_type": "stream",
       "stream": "stdout",
       "text": [
        " 0.804427420612\n",
        "--------------------------------------------------------------------------------\n",
        "Merging for sureness s= 0.933381319046\n",
        "merging 323 327\n",
        "recomputed"
       ]
      },
      {
       "output_type": "stream",
       "stream": "stdout",
       "text": [
        " 3 patches\n",
        "merged 3 patches into 3\n",
        "New VI"
       ]
      },
      {
       "output_type": "stream",
       "stream": "stdout",
       "text": [
        " 0.804164244655\n",
        "--------------------------------------------------------------------------------\n",
        "Merging for sureness s= 0.923069894314\n",
        "merging 73 81\n",
        "recomputed"
       ]
      },
      {
       "output_type": "stream",
       "stream": "stdout",
       "text": [
        " 16 patches\n",
        "merged"
       ]
      },
      {
       "output_type": "stream",
       "stream": "stdout",
       "text": [
        " 16 patches into 16\n",
        "New VI"
       ]
      },
      {
       "output_type": "stream",
       "stream": "stdout",
       "text": [
        " 0.803522056162\n",
        "--------------------------------------------------------------------------------\n",
        "Merging for sureness s= 0.914203584194\n",
        "merging 191 193\n",
        "recomputed"
       ]
      },
      {
       "output_type": "stream",
       "stream": "stdout",
       "text": [
        " 31 patches\n",
        "merged"
       ]
      },
      {
       "output_type": "stream",
       "stream": "stdout",
       "text": [
        " 31 patches into 30\n",
        "New VI"
       ]
      },
      {
       "output_type": "stream",
       "stream": "stdout",
       "text": [
        " 0.802971154887\n",
        "--------------------------------------------------------------------------------\n",
        "Merging for sureness s= 0.912452340126\n",
        "merging 208 212\n",
        "recomputed"
       ]
      },
      {
       "output_type": "stream",
       "stream": "stdout",
       "text": [
        " 21 patches\n",
        "merged"
       ]
      },
      {
       "output_type": "stream",
       "stream": "stdout",
       "text": [
        " 21 patches into 21\n",
        "New VI"
       ]
      },
      {
       "output_type": "stream",
       "stream": "stdout",
       "text": [
        " 0.80286640207\n",
        "--------------------------------------------------------------------------------\n",
        "Merging for sureness s= 0.896133959293\n",
        "merging 15 150\n",
        "recomputed"
       ]
      },
      {
       "output_type": "stream",
       "stream": "stdout",
       "text": [
        " 113 patches\n",
        "merged"
       ]
      },
      {
       "output_type": "stream",
       "stream": "stdout",
       "text": [
        " 113 patches into 111\n",
        "New VI"
       ]
      },
      {
       "output_type": "stream",
       "stream": "stdout",
       "text": [
        " 0.807460463654\n",
        "--------------------------------------------------------------------------------\n",
        "Merging for sureness s= 0.953390479088\n",
        "merging 69 78\n",
        "recomputed"
       ]
      },
      {
       "output_type": "stream",
       "stream": "stdout",
       "text": [
        " 10 patches\n",
        "merged"
       ]
      },
      {
       "output_type": "stream",
       "stream": "stdout",
       "text": [
        " 10 patches into 10\n",
        "New VI"
       ]
      },
      {
       "output_type": "stream",
       "stream": "stdout",
       "text": [
        " 0.807846044844\n",
        "--------------------------------------------------------------------------------\n",
        "Merging for sureness s= 0.869880020618\n",
        "merging 167 170\n",
        "recomputed"
       ]
      },
      {
       "output_type": "stream",
       "stream": "stdout",
       "text": [
        " 8 patches\n",
        "merged 8 patches into 8\n",
        "New VI"
       ]
      },
      {
       "output_type": "stream",
       "stream": "stdout",
       "text": [
        " 0.807144769645\n",
        "--------------------------------------------------------------------------------\n",
        "Merging for sureness s= 0.829301476479\n",
        "merging 148 149\n",
        "recomputed"
       ]
      },
      {
       "output_type": "stream",
       "stream": "stdout",
       "text": [
        " 6 patches\n",
        "merged 6 patches into 6\n",
        "New VI"
       ]
      },
      {
       "output_type": "stream",
       "stream": "stdout",
       "text": [
        " 0.806867149733\n",
        "--------------------------------------------------------------------------------\n",
        "Merging for sureness s= 0.811483442783\n",
        "merging 207 218\n",
        "recomputed"
       ]
      },
      {
       "output_type": "stream",
       "stream": "stdout",
       "text": [
        " 10 patches\n",
        "merged"
       ]
      },
      {
       "output_type": "stream",
       "stream": "stdout",
       "text": [
        " 10 patches into 9\n",
        "New VI"
       ]
      },
      {
       "output_type": "stream",
       "stream": "stdout",
       "text": [
        " 0.806600548195\n",
        "--------------------------------------------------------------------------------\n",
        "Merging for sureness s= 0.783041119576\n",
        "merging 100 106\n",
        "recomputed"
       ]
      },
      {
       "output_type": "stream",
       "stream": "stdout",
       "text": [
        " 15 patches\n",
        "merged"
       ]
      },
      {
       "output_type": "stream",
       "stream": "stdout",
       "text": [
        " 15 patches into 15\n",
        "New VI"
       ]
      },
      {
       "output_type": "stream",
       "stream": "stdout",
       "text": [
        " 0.803682495607\n",
        "--------------------------------------------------------------------------------\n",
        "Merging for sureness s= 0.703884691\n",
        "merging 243 245\n",
        "recomputed"
       ]
      },
      {
       "output_type": "stream",
       "stream": "stdout",
       "text": [
        " 20 patches\n",
        "merged"
       ]
      },
      {
       "output_type": "stream",
       "stream": "stdout",
       "text": [
        " 20 patches into 19\n",
        "New VI"
       ]
      },
      {
       "output_type": "stream",
       "stream": "stdout",
       "text": [
        " 0.803773624299\n",
        "--------------------------------------------------------------------------------\n",
        "Merging for sureness s= 0.698103904724\n",
        "merging 331 333\n",
        "recomputed"
       ]
      },
      {
       "output_type": "stream",
       "stream": "stdout",
       "text": [
        " 2 patches\n",
        "merged 2 patches into 2\n",
        "New VI"
       ]
      },
      {
       "output_type": "stream",
       "stream": "stdout",
       "text": [
        " 0.802799182441\n",
        "--------------------------------------------------------------------------------\n",
        "Merging for sureness s= 0.696213358762\n",
        "merging 71 92\n",
        "recomputed"
       ]
      },
      {
       "output_type": "stream",
       "stream": "stdout",
       "text": [
        " 8 patches\n",
        "merged"
       ]
      },
      {
       "output_type": "stream",
       "stream": "stdout",
       "text": [
        " 8 patches into 8\n",
        "New VI"
       ]
      },
      {
       "output_type": "stream",
       "stream": "stdout",
       "text": [
        " 0.803903950142\n",
        "--------------------------------------------------------------------------------\n",
        "Merging for sureness s= 0.683163821697\n",
        "merging 146 153\n",
        "recomputed"
       ]
      },
      {
       "output_type": "stream",
       "stream": "stdout",
       "text": [
        " 12 patches\n",
        "merged"
       ]
      },
      {
       "output_type": "stream",
       "stream": "stdout",
       "text": [
        " 12 patches into 12\n",
        "New VI"
       ]
      },
      {
       "output_type": "stream",
       "stream": "stdout",
       "text": [
        " 0.802693774285\n",
        "--------------------------------------------------------------------------------\n",
        "Merging for sureness s= 0.646556317806\n",
        "merging 270 290\n",
        "recomputed"
       ]
      },
      {
       "output_type": "stream",
       "stream": "stdout",
       "text": [
        " 25 patches\n",
        "merged"
       ]
      },
      {
       "output_type": "stream",
       "stream": "stdout",
       "text": [
        " 25 patches into 25\n",
        "New VI"
       ]
      },
      {
       "output_type": "stream",
       "stream": "stdout",
       "text": [
        " 0.800454363798\n",
        "--------------------------------------------------------------------------------\n",
        "Merging for sureness s= 0.626136437058\n",
        "merging 232 233\n",
        "recomputed"
       ]
      },
      {
       "output_type": "stream",
       "stream": "stdout",
       "text": [
        " 13 patches\n",
        "merged"
       ]
      },
      {
       "output_type": "stream",
       "stream": "stdout",
       "text": [
        " 13 patches into 12\n",
        "New VI"
       ]
      },
      {
       "output_type": "stream",
       "stream": "stdout",
       "text": [
        " 0.799264762813\n",
        "--------------------------------------------------------------------------------\n",
        "Merging for sureness s= 0.809605240822\n",
        "merging 227 233\n",
        "recomputed"
       ]
      },
      {
       "output_type": "stream",
       "stream": "stdout",
       "text": [
        " 10 patches\n",
        "merged"
       ]
      },
      {
       "output_type": "stream",
       "stream": "stdout",
       "text": [
        " 10 patches into 9\n",
        "New VI"
       ]
      },
      {
       "output_type": "stream",
       "stream": "stdout",
       "text": [
        " 0.797067244334\n",
        "--------------------------------------------------------------------------------\n",
        "Merging for sureness s= 0.5094627738\n",
        "merging 332 344\n",
        "recomputed"
       ]
      },
      {
       "output_type": "stream",
       "stream": "stdout",
       "text": [
        " 4 patches\n",
        "merged 4 patches into 4\n",
        "New VI"
       ]
      },
      {
       "output_type": "stream",
       "stream": "stdout",
       "text": [
        " 0.796191009874\n",
        "--------------------------------------------------------------------------------\n",
        "Merging for sureness s= 0.473218262196\n",
        "merging 133 134\n",
        "recomputed"
       ]
      },
      {
       "output_type": "stream",
       "stream": "stdout",
       "text": [
        " 24 patches\n",
        "merged"
       ]
      },
      {
       "output_type": "stream",
       "stream": "stdout",
       "text": [
        " 24 patches into 22\n",
        "New VI"
       ]
      },
      {
       "output_type": "stream",
       "stream": "stdout",
       "text": [
        " 0.793848385157\n",
        "--------------------------------------------------------------------------------\n",
        "Merging for sureness s= 0.462960451841\n",
        "merging 170 188\n",
        "recomputed"
       ]
      },
      {
       "output_type": "stream",
       "stream": "stdout",
       "text": [
        " 9 patches\n",
        "merged"
       ]
      },
      {
       "output_type": "stream",
       "stream": "stdout",
       "text": [
        " 9 patches into 8\n",
        "New VI"
       ]
      },
      {
       "output_type": "stream",
       "stream": "stdout",
       "text": [
        " 0.794827496058\n",
        "--------------------------------------------------------------------------------\n",
        "Merging for sureness s= 0.405592143536\n",
        "merging 221 228\n",
        "recomputed"
       ]
      },
      {
       "output_type": "stream",
       "stream": "stdout",
       "text": [
        " 5 patches\n",
        "merged 5 patches into 5\n",
        "New VI"
       ]
      },
      {
       "output_type": "stream",
       "stream": "stdout",
       "text": [
        " 0.794135264823\n",
        "--------------------------------------------------------------------------------\n",
        "Merging for sureness s= 0.401423960924\n",
        "merging 217 219\n",
        "recomputed"
       ]
      },
      {
       "output_type": "stream",
       "stream": "stdout",
       "text": [
        " 13 patches\n",
        "merged"
       ]
      },
      {
       "output_type": "stream",
       "stream": "stdout",
       "text": [
        " 13 patches into 13\n",
        "New VI"
       ]
      },
      {
       "output_type": "stream",
       "stream": "stdout",
       "text": [
        " 0.794064372023\n",
        "--------------------------------------------------------------------------------\n",
        "Merging for sureness s= 0.317683875561\n",
        "merging 245 252\n",
        "recomputed"
       ]
      },
      {
       "output_type": "stream",
       "stream": "stdout",
       "text": [
        " 21 patches\n",
        "merged"
       ]
      },
      {
       "output_type": "stream",
       "stream": "stdout",
       "text": [
        " 21 patches into 20\n",
        "New VI"
       ]
      },
      {
       "output_type": "stream",
       "stream": "stdout",
       "text": [
        " 0.79413149714\n",
        "--------------------------------------------------------------------------------\n",
        "Merging for sureness s= 0.283774286509\n",
        "merging 142 152\n",
        "recomputed"
       ]
      },
      {
       "output_type": "stream",
       "stream": "stdout",
       "text": [
        " 15 patches\n",
        "merged"
       ]
      },
      {
       "output_type": "stream",
       "stream": "stdout",
       "text": [
        " 15 patches into 14\n",
        "New VI"
       ]
      },
      {
       "output_type": "stream",
       "stream": "stdout",
       "text": [
        " 0.798395440551\n",
        "--------------------------------------------------------------------------------\n",
        "Merging for sureness s= 0.256100773811\n",
        "merging 294 302\n",
        "recomputed"
       ]
      },
      {
       "output_type": "stream",
       "stream": "stdout",
       "text": [
        " 11 patches\n",
        "merged"
       ]
      },
      {
       "output_type": "stream",
       "stream": "stdout",
       "text": [
        " 11 patches into 11\n",
        "New VI"
       ]
      },
      {
       "output_type": "stream",
       "stream": "stdout",
       "text": [
        " 0.797440056332\n",
        "--------------------------------------------------------------------------------\n",
        "Merging for sureness s= 0.207296684384\n",
        "merging 244 286\n",
        "recomputed"
       ]
      },
      {
       "output_type": "stream",
       "stream": "stdout",
       "text": [
        " 18 patches\n",
        "merged"
       ]
      },
      {
       "output_type": "stream",
       "stream": "stdout",
       "text": [
        " 18 patches into 17\n",
        "New VI"
       ]
      },
      {
       "output_type": "stream",
       "stream": "stdout",
       "text": [
        " 0.801747890069\n",
        "--------------------------------------------------------------------------------\n",
        "Merging for sureness s= 0.204888179898\n",
        "merging 169 181\n",
        "recomputed"
       ]
      },
      {
       "output_type": "stream",
       "stream": "stdout",
       "text": [
        " 15 patches\n",
        "merged"
       ]
      },
      {
       "output_type": "stream",
       "stream": "stdout",
       "text": [
        " 15 patches into 14\n",
        "New VI"
       ]
      },
      {
       "output_type": "stream",
       "stream": "stdout",
       "text": [
        " 0.801756313189\n",
        "--------------------------------------------------------------------------------\n",
        "Merging for sureness s= 0.185118824244\n",
        "merging 106 115\n",
        "recomputed"
       ]
      },
      {
       "output_type": "stream",
       "stream": "stdout",
       "text": [
        " 16 patches\n",
        "merged"
       ]
      },
      {
       "output_type": "stream",
       "stream": "stdout",
       "text": [
        " 16 patches into 16\n",
        "New VI"
       ]
      },
      {
       "output_type": "stream",
       "stream": "stdout",
       "text": [
        " 0.801110999608\n",
        "--------------------------------------------------------------------------------\n",
        "Merging for sureness s= 0.161740273237\n",
        "merging 320 326\n",
        "recomputed"
       ]
      },
      {
       "output_type": "stream",
       "stream": "stdout",
       "text": [
        " 6 patches\n",
        "merged 6 patches into 6\n",
        "New VI"
       ]
      },
      {
       "output_type": "stream",
       "stream": "stdout",
       "text": [
        " 0.800998263698\n",
        "--------------------------------------------------------------------------------\n",
        "Merging for sureness s= 0.155232107267\n",
        "merging 325 352\n",
        "recomputed"
       ]
      },
      {
       "output_type": "stream",
       "stream": "stdout",
       "text": [
        " 3 patches\n",
        "merged 3 patches into 2\n",
        "New VI"
       ]
      },
      {
       "output_type": "stream",
       "stream": "stdout",
       "text": [
        " 0.816100395426\n",
        "--------------------------------------------------------------------------------\n",
        "Merging for sureness s= 0.820689491934\n",
        "merging 335 352\n",
        "recomputed"
       ]
      },
      {
       "output_type": "stream",
       "stream": "stdout",
       "text": [
        " 0 patches\n",
        "merged 0 patches into 0\n",
        "New VI"
       ]
      },
      {
       "output_type": "stream",
       "stream": "stdout",
       "text": [
        " 0.8128153086\n",
        "--------------------------------------------------------------------------------\n",
        "Merging for sureness s= 0.145761862397\n",
        "merging 228 246\n",
        "recomputed"
       ]
      },
      {
       "output_type": "stream",
       "stream": "stdout",
       "text": [
        " 20 patches\n",
        "merged"
       ]
      },
      {
       "output_type": "stream",
       "stream": "stdout",
       "text": [
        " 20 patches into 20\n",
        "New VI"
       ]
      },
      {
       "output_type": "stream",
       "stream": "stdout",
       "text": [
        " 0.812202500206\n",
        "--------------------------------------------------------------------------------\n",
        "Merging for sureness s= 0.142382979393\n",
        "merging 153 168\n",
        "recomputed"
       ]
      },
      {
       "output_type": "stream",
       "stream": "stdout",
       "text": [
        " 24 patches\n",
        "merged"
       ]
      },
      {
       "output_type": "stream",
       "stream": "stdout",
       "text": [
        " 24 patches into 23\n",
        "New VI"
       ]
      },
      {
       "output_type": "stream",
       "stream": "stdout",
       "text": [
        " 0.81120486054\n",
        "--------------------------------------------------------------------------------\n",
        "Merging for sureness s= 0.13500854373\n",
        "merging 268 275\n",
        "recomputed"
       ]
      },
      {
       "output_type": "stream",
       "stream": "stdout",
       "text": [
        " 6 patches\n",
        "merged 6 patches into 6\n",
        "New VI"
       ]
      },
      {
       "output_type": "stream",
       "stream": "stdout",
       "text": [
        " 0.811010446535\n",
        "--------------------------------------------------------------------------------\n",
        "Merging for sureness s= 0.110993154347\n",
        "merging 131 135\n",
        "recomputed"
       ]
      },
      {
       "output_type": "stream",
       "stream": "stdout",
       "text": [
        " 16 patches\n",
        "merged"
       ]
      },
      {
       "output_type": "stream",
       "stream": "stdout",
       "text": [
        " 16 patches into 15\n",
        "New VI"
       ]
      },
      {
       "output_type": "stream",
       "stream": "stdout",
       "text": [
        " 0.811056962184\n",
        "--------------------------------------------------------------------------------\n",
        "Merging for sureness s= 0.109164245427\n",
        "merging 53 57\n",
        "recomputed"
       ]
      },
      {
       "output_type": "stream",
       "stream": "stdout",
       "text": [
        " 1 patches\n",
        "merged 1 patches into 1\n",
        "New VI"
       ]
      },
      {
       "output_type": "stream",
       "stream": "stdout",
       "text": [
        " 0.811285062689\n",
        "--------------------------------------------------------------------------------\n",
        "Merging for sureness s= 0.101553678513\n",
        "merging 127 141\n",
        "recomputed"
       ]
      },
      {
       "output_type": "stream",
       "stream": "stdout",
       "text": [
        " 1 patches\n",
        "merged 1 patches into 1\n",
        "New VI"
       ]
      },
      {
       "output_type": "stream",
       "stream": "stdout",
       "text": [
        " 0.809731396042\n",
        "--------------------------------------------------------------------------------\n",
        "Merging for sureness s= 0.0964994952083\n",
        "merging 60 64\n",
        "recomputed"
       ]
      },
      {
       "output_type": "stream",
       "stream": "stdout",
       "text": [
        " 11 patches\n",
        "merged"
       ]
      },
      {
       "output_type": "stream",
       "stream": "stdout",
       "text": [
        " 11 patches into 11\n",
        "New VI"
       ]
      },
      {
       "output_type": "stream",
       "stream": "stdout",
       "text": [
        " 0.810375259535\n",
        "--------------------------------------------------------------------------------\n",
        "Merging for sureness s= 0.0958518832922\n",
        "merging 168 176\n",
        "recomputed"
       ]
      },
      {
       "output_type": "stream",
       "stream": "stdout",
       "text": [
        " 26 patches\n",
        "merged"
       ]
      },
      {
       "output_type": "stream",
       "stream": "stdout",
       "text": [
        " 26 patches into 25\n",
        "New VI"
       ]
      },
      {
       "output_type": "stream",
       "stream": "stdout",
       "text": [
        " 0.809625896433\n",
        "--------------------------------------------------------------------------------\n",
        "Merging for sureness s= 0.093497119844\n",
        "merging 233 240\n",
        "recomputed"
       ]
      },
      {
       "output_type": "stream",
       "stream": "stdout",
       "text": [
        " 10 patches\n",
        "merged"
       ]
      },
      {
       "output_type": "stream",
       "stream": "stdout",
       "text": [
        " 10 patches into 9\n",
        "New VI"
       ]
      },
      {
       "output_type": "stream",
       "stream": "stdout",
       "text": [
        " 0.808815998531\n",
        "--------------------------------------------------------------------------------\n",
        "Merging for sureness s= 0.103656906979\n",
        "merging 203 240\n",
        "recomputed"
       ]
      },
      {
       "output_type": "stream",
       "stream": "stdout",
       "text": [
        " 4 patches\n",
        "merged 4 patches into 3\n",
        "New VI"
       ]
      },
      {
       "output_type": "stream",
       "stream": "stdout",
       "text": [
        " 0.817625041976\n",
        "--------------------------------------------------------------------------------\n",
        "Merging for sureness s= 0.993068323579\n",
        "merging 236 240\n",
        "recomputed"
       ]
      },
      {
       "output_type": "stream",
       "stream": "stdout",
       "text": [
        " 0 patches\n",
        "merged 0 patches into 0\n",
        "New VI"
       ]
      },
      {
       "output_type": "stream",
       "stream": "stdout",
       "text": [
        " 0.816647331512\n",
        "--------------------------------------------------------------------------------\n",
        "Merging for sureness s= 0.0915633067489\n",
        "merging 81 82\n",
        "recomputed"
       ]
      },
      {
       "output_type": "stream",
       "stream": "stdout",
       "text": [
        " 14 patches\n",
        "merged"
       ]
      },
      {
       "output_type": "stream",
       "stream": "stdout",
       "text": [
        " 14 patches into 14\n",
        "New VI"
       ]
      },
      {
       "output_type": "stream",
       "stream": "stdout",
       "text": [
        " 0.815930884841\n",
        "--------------------------------------------------------------------------------\n",
        "Merging for sureness s= 0.0886095836759\n",
        "merging 104 111\n",
        "recomputed"
       ]
      },
      {
       "output_type": "stream",
       "stream": "stdout",
       "text": [
        " 5 patches\n",
        "merged 5 patches into 5\n",
        "New VI"
       ]
      },
      {
       "output_type": "stream",
       "stream": "stdout",
       "text": [
        " 0.816730536061\n",
        "--------------------------------------------------------------------------------\n",
        "Merging for sureness s= 0.0774200931191\n",
        "merging 211 246\n",
        "recomputed"
       ]
      },
      {
       "output_type": "stream",
       "stream": "stdout",
       "text": [
        " 12 patches\n",
        "merged"
       ]
      },
      {
       "output_type": "stream",
       "stream": "stdout",
       "text": [
        " 12 patches into 12\n",
        "New VI"
       ]
      },
      {
       "output_type": "stream",
       "stream": "stdout",
       "text": [
        " 0.825530457186\n",
        "--------------------------------------------------------------------------------\n",
        "Merging for sureness s= 0.0770706832409\n",
        "merging 78 87\n",
        "recomputed"
       ]
      },
      {
       "output_type": "stream",
       "stream": "stdout",
       "text": [
        " 20 patches\n",
        "merged"
       ]
      },
      {
       "output_type": "stream",
       "stream": "stdout",
       "text": [
        " 20 patches into 19\n",
        "New VI"
       ]
      },
      {
       "output_type": "stream",
       "stream": "stdout",
       "text": [
        " 0.82708057863\n",
        "--------------------------------------------------------------------------------\n",
        "Merging for sureness s= 0.963236033916\n",
        "merging 87 91\n",
        "recomputed"
       ]
      },
      {
       "output_type": "stream",
       "stream": "stdout",
       "text": [
        " 18 patches\n",
        "merged"
       ]
      },
      {
       "output_type": "stream",
       "stream": "stdout",
       "text": [
        " 18 patches into 18\n",
        "New VI"
       ]
      },
      {
       "output_type": "stream",
       "stream": "stdout",
       "text": [
        " 0.826280990292\n",
        "--------------------------------------------------------------------------------\n",
        "Merging for sureness s= 0.999383807182\n",
        "merging 91 96\n",
        "recomputed"
       ]
      },
      {
       "output_type": "stream",
       "stream": "stdout",
       "text": [
        " 17 patches\n",
        "merged"
       ]
      },
      {
       "output_type": "stream",
       "stream": "stdout",
       "text": [
        " 17 patches into 17\n",
        "New VI"
       ]
      },
      {
       "output_type": "stream",
       "stream": "stdout",
       "text": [
        " 0.832961717163\n",
        "--------------------------------------------------------------------------------\n",
        "Merging for sureness s= 0.0751153770834\n",
        "merging 61 65\n",
        "recomputed"
       ]
      },
      {
       "output_type": "stream",
       "stream": "stdout",
       "text": [
        " 14 patches\n",
        "merged"
       ]
      },
      {
       "output_type": "stream",
       "stream": "stdout",
       "text": [
        " 14 patches into 14\n",
        "New VI"
       ]
      },
      {
       "output_type": "stream",
       "stream": "stdout",
       "text": [
        " 0.831519080148\n",
        "--------------------------------------------------------------------------------\n",
        "Merging for sureness s= 0.0657697943971\n",
        "merging 34 42\n",
        "recomputed"
       ]
      },
      {
       "output_type": "stream",
       "stream": "stdout",
       "text": [
        " 9 patches\n",
        "merged"
       ]
      },
      {
       "output_type": "stream",
       "stream": "stdout",
       "text": [
        " 9 patches into 8\n",
        "New VI"
       ]
      },
      {
       "output_type": "stream",
       "stream": "stdout",
       "text": [
        " 0.828346023605\n",
        "--------------------------------------------------------------------------------\n",
        "Merging for sureness s= 0.130353376269\n",
        "merging 43 44\n",
        "recomputed"
       ]
      },
      {
       "output_type": "stream",
       "stream": "stdout",
       "text": [
        " 6 patches\n",
        "merged 6 patches into 6\n",
        "New VI"
       ]
      },
      {
       "output_type": "stream",
       "stream": "stdout",
       "text": [
        " 0.828070312155\n",
        "--------------------------------------------------------------------------------\n",
        "Merging for sureness s= 0.0585168600082\n",
        "merging 33 38\n",
        "recomputed"
       ]
      },
      {
       "output_type": "stream",
       "stream": "stdout",
       "text": [
        " 19 patches\n",
        "merged"
       ]
      },
      {
       "output_type": "stream",
       "stream": "stdout",
       "text": [
        " 19 patches into 19\n",
        "New VI"
       ]
      },
      {
       "output_type": "stream",
       "stream": "stdout",
       "text": [
        " 0.831331657155\n",
        "--------------------------------------------------------------------------------\n",
        "Merging for sureness s= 0.0576312504709\n",
        "merging 178 182\n",
        "recomputed"
       ]
      },
      {
       "output_type": "stream",
       "stream": "stdout",
       "text": [
        " 11 patches\n",
        "merged"
       ]
      },
      {
       "output_type": "stream",
       "stream": "stdout",
       "text": [
        " 11 patches into 11\n",
        "New VI"
       ]
      },
      {
       "output_type": "stream",
       "stream": "stdout",
       "text": [
        " 0.831082561582\n",
        "--------------------------------------------------------------------------------\n",
        "Merging for sureness s= 0.0550463460386\n",
        "merging 183 188\n",
        "recomputed"
       ]
      },
      {
       "output_type": "stream",
       "stream": "stdout",
       "text": [
        " 4 patches\n",
        "merged 4 patches into 4\n",
        "New VI"
       ]
      },
      {
       "output_type": "stream",
       "stream": "stdout",
       "text": [
        " 0.830944387443\n",
        "--------------------------------------------------------------------------------\n",
        "Merging for sureness s= 0.0533469580114\n",
        "merging 68 85\n",
        "recomputed"
       ]
      },
      {
       "output_type": "stream",
       "stream": "stdout",
       "text": [
        " 13 patches\n",
        "merged"
       ]
      },
      {
       "output_type": "stream",
       "stream": "stdout",
       "text": [
        " 13 patches into 13\n",
        "New VI"
       ]
      },
      {
       "output_type": "stream",
       "stream": "stdout",
       "text": [
        " 0.830687878685\n",
        "--------------------------------------------------------------------------------\n",
        "Merging for sureness s= 0.0490861348808\n",
        "merging 38 55\n",
        "recomputed"
       ]
      },
      {
       "output_type": "stream",
       "stream": "stdout",
       "text": [
        " 20 patches\n",
        "merged"
       ]
      },
      {
       "output_type": "stream",
       "stream": "stdout",
       "text": [
        " 20 patches into 20\n",
        "New VI"
       ]
      },
      {
       "output_type": "stream",
       "stream": "stdout",
       "text": [
        " 0.833615287789\n",
        "--------------------------------------------------------------------------------\n",
        "Merging for sureness s= 0.0434339940548\n",
        "merging 42 44\n",
        "recomputed"
       ]
      },
      {
       "output_type": "stream",
       "stream": "stdout",
       "text": [
        " 12 patches\n",
        "merged"
       ]
      },
      {
       "output_type": "stream",
       "stream": "stdout",
       "text": [
        " 12 patches into 12\n",
        "New VI"
       ]
      },
      {
       "output_type": "stream",
       "stream": "stdout",
       "text": [
        " 0.84489322564\n",
        "--------------------------------------------------------------------------------\n",
        "Merging for sureness s= 0.320606201887\n",
        "merging 17 44\n",
        "recomputed"
       ]
      },
      {
       "output_type": "stream",
       "stream": "stdout",
       "text": [
        " 14 patches\n",
        "merged"
       ]
      },
      {
       "output_type": "stream",
       "stream": "stdout",
       "text": [
        " 14 patches into 13\n",
        "New VI"
       ]
      },
      {
       "output_type": "stream",
       "stream": "stdout",
       "text": [
        " 0.872478223169\n",
        "--------------------------------------------------------------------------------\n",
        "Merging for sureness s= 0.0303867012262\n",
        "merging 258 262\n",
        "recomputed"
       ]
      },
      {
       "output_type": "stream",
       "stream": "stdout",
       "text": [
        " 6 patches\n",
        "merged 6 patches into 6\n",
        "New VI"
       ]
      },
      {
       "output_type": "stream",
       "stream": "stdout",
       "text": [
        " 0.872488261\n",
        "--------------------------------------------------------------------------------\n",
        "Merging for sureness s= 0.0279706008732\n",
        "merging 247 260\n",
        "recomputed"
       ]
      },
      {
       "output_type": "stream",
       "stream": "stdout",
       "text": [
        " 2 patches\n",
        "merged 2 patches into 2\n",
        "New VI"
       ]
      },
      {
       "output_type": "stream",
       "stream": "stdout",
       "text": [
        " 0.871802343556\n",
        "--------------------------------------------------------------------------------\n",
        "Merging for sureness s= 0.0270073600113\n",
        "merging 114 121\n",
        "recomputed"
       ]
      },
      {
       "output_type": "stream",
       "stream": "stdout",
       "text": [
        " 12 patches\n",
        "merged"
       ]
      },
      {
       "output_type": "stream",
       "stream": "stdout",
       "text": [
        " 12 patches into 12\n",
        "New VI"
       ]
      },
      {
       "output_type": "stream",
       "stream": "stdout",
       "text": [
        " 0.871957875206\n",
        "--------------------------------------------------------------------------------\n",
        "Merging for sureness s= 0.0978981256485\n",
        "merging 112 121\n",
        "recomputed"
       ]
      },
      {
       "output_type": "stream",
       "stream": "stdout",
       "text": [
        " 19 patches\n",
        "merged"
       ]
      },
      {
       "output_type": "stream",
       "stream": "stdout",
       "text": [
        " 19 patches into 18\n",
        "New VI"
       ]
      },
      {
       "output_type": "stream",
       "stream": "stdout",
       "text": [
        " 0.875671393344\n",
        "--------------------------------------------------------------------------------\n",
        "Merging for sureness s= 0.0217921119183\n",
        "merging 70 79\n",
        "recomputed"
       ]
      },
      {
       "output_type": "stream",
       "stream": "stdout",
       "text": [
        " 7 patches\n",
        "merged 7 patches into 7\n",
        "New VI"
       ]
      },
      {
       "output_type": "stream",
       "stream": "stdout",
       "text": [
        " 0.875807682216\n",
        "--------------------------------------------------------------------------------\n",
        "Merging for sureness s= 0.0188205000013\n",
        "merging 276 317\n",
        "recomputed"
       ]
      },
      {
       "output_type": "stream",
       "stream": "stdout",
       "text": [
        " 19 patches\n",
        "merged"
       ]
      },
      {
       "output_type": "stream",
       "stream": "stdout",
       "text": [
        " 19 patches into 19\n",
        "New VI"
       ]
      },
      {
       "output_type": "stream",
       "stream": "stdout",
       "text": [
        " 0.87632642495\n",
        "--------------------------------------------------------------------------------\n",
        "Merging for sureness s= 0.0177941452712\n",
        "merging 201 202\n",
        "recomputed"
       ]
      },
      {
       "output_type": "stream",
       "stream": "stdout",
       "text": [
        " 4 patches\n",
        "merged 4 patches into 4\n",
        "New VI"
       ]
      },
      {
       "output_type": "stream",
       "stream": "stdout",
       "text": [
        " 0.876172279989\n",
        "--------------------------------------------------------------------------------\n",
        "Merging for sureness s= 0.0177842229605\n",
        "merging 291 314\n",
        "recomputed"
       ]
      },
      {
       "output_type": "stream",
       "stream": "stdout",
       "text": [
        " 5 patches\n",
        "merged 5 patches into 4\n",
        "New VI"
       ]
      },
      {
       "output_type": "stream",
       "stream": "stdout",
       "text": [
        " 0.880521508466\n",
        "--------------------------------------------------------------------------------\n",
        "Merging for sureness s= 0.0171128381044\n",
        "merging 63 74\n",
        "recomputed"
       ]
      },
      {
       "output_type": "stream",
       "stream": "stdout",
       "text": [
        " 10 patches\n",
        "merged"
       ]
      },
      {
       "output_type": "stream",
       "stream": "stdout",
       "text": [
        " 10 patches into 10\n",
        "New VI"
       ]
      },
      {
       "output_type": "stream",
       "stream": "stdout",
       "text": [
        " 0.879716155447\n",
        "--------------------------------------------------------------------------------\n",
        "Merging for sureness s= 0.0130840530619\n",
        "merging 314 341\n",
        "recomputed"
       ]
      },
      {
       "output_type": "stream",
       "stream": "stdout",
       "text": [
        " 4 patches\n",
        "merged 4 patches into 3\n",
        "New VI"
       ]
      },
      {
       "output_type": "stream",
       "stream": "stdout",
       "text": [
        " 0.880710742077\n",
        "--------------------------------------------------------------------------------\n",
        "Merging for sureness s= 0.0127881038934\n",
        "merging 135 174\n",
        "recomputed"
       ]
      },
      {
       "output_type": "stream",
       "stream": "stdout",
       "text": [
        " 20 patches\n",
        "merged"
       ]
      },
      {
       "output_type": "stream",
       "stream": "stdout",
       "text": [
        " 20 patches into 19\n",
        "New VI"
       ]
      },
      {
       "output_type": "stream",
       "stream": "stdout",
       "text": [
        " 0.8809366937\n",
        "--------------------------------------------------------------------------------\n",
        "Merging for sureness s= 0.0121465867851\n",
        "merging 95 99\n",
        "recomputed"
       ]
      },
      {
       "output_type": "stream",
       "stream": "stdout",
       "text": [
        " 7 patches\n",
        "merged 7 patches into 7\n",
        "New VI"
       ]
      },
      {
       "output_type": "stream",
       "stream": "stdout",
       "text": [
        " 0.881437853463\n",
        "--------------------------------------------------------------------------------\n",
        "Merging for sureness s= 0.0172412656248\n",
        "merging 76 99\n",
        "recomputed"
       ]
      },
      {
       "output_type": "stream",
       "stream": "stdout",
       "text": [
        " 4 patches\n",
        "merged 4 patches into 4\n",
        "New VI"
       ]
      },
      {
       "output_type": "stream",
       "stream": "stdout",
       "text": [
        " 0.880189501822\n",
        "--------------------------------------------------------------------------------\n",
        "Merging for sureness s= 0.00993022974581\n",
        "merging 143 150\n",
        "recomputed"
       ]
      },
      {
       "output_type": "stream",
       "stream": "stdout",
       "text": [
        " 3 patches\n",
        "merged 3 patches into 3\n",
        "New VI"
       ]
      },
      {
       "output_type": "stream",
       "stream": "stdout",
       "text": [
        " 0.885124901282\n",
        "--------------------------------------------------------------------------------\n",
        "Merging for sureness s= 0.00928328000009\n",
        "merging 231 237\n",
        "recomputed"
       ]
      },
      {
       "output_type": "stream",
       "stream": "stdout",
       "text": [
        " 11 patches\n",
        "merged"
       ]
      },
      {
       "output_type": "stream",
       "stream": "stdout",
       "text": [
        " 11 patches into 11\n",
        "New VI"
       ]
      },
      {
       "output_type": "stream",
       "stream": "stdout",
       "text": [
        " 0.886337502454\n",
        "--------------------------------------------------------------------------------\n",
        "Merging for sureness s= 0.00824573356658\n",
        "merging 144 150\n",
        "recomputed"
       ]
      },
      {
       "output_type": "stream",
       "stream": "stdout",
       "text": [
        " 0 patches\n",
        "merged 0 patches into 0\n",
        "New VI"
       ]
      },
      {
       "output_type": "stream",
       "stream": "stdout",
       "text": [
        " 0.888235206802\n",
        "--------------------------------------------------------------------------------\n",
        "Merging for sureness s= 0.00725249946117\n",
        "merging 51 57\n",
        "recomputed"
       ]
      },
      {
       "output_type": "stream",
       "stream": "stdout",
       "text": [
        " 5 patches\n",
        "merged 5 patches into 4\n",
        "New VI"
       ]
      },
      {
       "output_type": "stream",
       "stream": "stdout",
       "text": [
        " 0.888707519247\n",
        "--------------------------------------------------------------------------------\n",
        "Merging for sureness s= 0.00648861331865\n",
        "merging 279 283\n",
        "recomputed"
       ]
      },
      {
       "output_type": "stream",
       "stream": "stdout",
       "text": [
        " 5 patches\n",
        "merged 5 patches into 5\n",
        "New VI"
       ]
      },
      {
       "output_type": "stream",
       "stream": "stdout",
       "text": [
        " 0.888847797475\n",
        "--------------------------------------------------------------------------------\n",
        "Merging for sureness s= 0.00547285331413\n",
        "merging 159 163\n",
        "recomputed"
       ]
      },
      {
       "output_type": "stream",
       "stream": "stdout",
       "text": [
        " 5 patches\n",
        "merged 5 patches into 4\n",
        "New VI"
       ]
      },
      {
       "output_type": "stream",
       "stream": "stdout",
       "text": [
        " 0.889402908121\n",
        "--------------------------------------------------------------------------------\n",
        "Merging for sureness s= 0.00512658338994\n",
        "merging 103 110\n",
        "recomputed"
       ]
      },
      {
       "output_type": "stream",
       "stream": "stdout",
       "text": [
        " 5 patches\n",
        "merged 5 patches into 5\n",
        "New VI"
       ]
      },
      {
       "output_type": "stream",
       "stream": "stdout",
       "text": [
        " 0.888958730931\n",
        "--------------------------------------------------------------------------------\n",
        "Merging for sureness s= 0.0222648121417\n",
        "merging 101 110\n",
        "recomputed"
       ]
      },
      {
       "output_type": "stream",
       "stream": "stdout",
       "text": [
        " 6 patches\n",
        "merged 6 patches into 6\n",
        "New VI"
       ]
      },
      {
       "output_type": "stream",
       "stream": "stdout",
       "text": [
        " 0.88867277869\n",
        "--------------------------------------------------------------------------------\n",
        "Merging for sureness s= 0.0384107492864\n",
        "merging 96 110\n",
        "recomputed"
       ]
      },
      {
       "output_type": "stream",
       "stream": "stdout",
       "text": [
        " 11 patches\n",
        "merged"
       ]
      },
      {
       "output_type": "stream",
       "stream": "stdout",
       "text": [
        " 11 patches into 11\n",
        "New VI"
       ]
      },
      {
       "output_type": "stream",
       "stream": "stdout",
       "text": [
        " 0.891861048242\n",
        "--------------------------------------------------------------------------------\n",
        "Merging for sureness s= 0.00487307459116\n",
        "merging 82 89\n",
        "recomputed"
       ]
      },
      {
       "output_type": "stream",
       "stream": "stdout",
       "text": [
        " 8 patches\n",
        "merged 8 patches into 8\n",
        "New VI"
       ]
      },
      {
       "output_type": "stream",
       "stream": "stdout",
       "text": [
        " 0.892542718086\n",
        "--------------------------------------------------------------------------------\n",
        "Merging for sureness s= 0.526408612728\n",
        "merging 88 89\n",
        "recomputed"
       ]
      },
      {
       "output_type": "stream",
       "stream": "stdout",
       "text": [
        " 7 patches\n",
        "merged 7 patches into 7\n",
        "New VI"
       ]
      },
      {
       "output_type": "stream",
       "stream": "stdout",
       "text": [
        " 0.894492558017\n",
        "--------------------------------------------------------------------------------\n",
        "Merging for sureness s= 0.00486999191344\n",
        "merging 62 65\n",
        "recomputed"
       ]
      },
      {
       "output_type": "stream",
       "stream": "stdout",
       "text": [
        " 8 patches\n",
        "merged 8 patches into 7\n",
        "New VI"
       ]
      },
      {
       "output_type": "stream",
       "stream": "stdout",
       "text": [
        " 0.892592704625\n",
        "--------------------------------------------------------------------------------\n",
        "Merging for sureness s= 0.00394012592733\n",
        "merging 293 296\n",
        "recomputed"
       ]
      },
      {
       "output_type": "stream",
       "stream": "stdout",
       "text": [
        " 7 patches\n",
        "merged 7 patches into 7\n",
        "New VI"
       ]
      },
      {
       "output_type": "stream",
       "stream": "stdout",
       "text": [
        " 0.893006012198\n",
        "--------------------------------------------------------------------------------\n",
        "Merging for sureness s= 0.00308380555362\n",
        "merging 154 160\n",
        "recomputed"
       ]
      },
      {
       "output_type": "stream",
       "stream": "stdout",
       "text": [
        " 11 patches\n",
        "merged"
       ]
      },
      {
       "output_type": "stream",
       "stream": "stdout",
       "text": [
        " 11 patches into 11\n",
        "New VI"
       ]
      },
      {
       "output_type": "stream",
       "stream": "stdout",
       "text": [
        " 0.893110109555\n",
        "--------------------------------------------------------------------------------\n",
        "Merging for sureness s= 0.00299209263176\n",
        "merging 173 182\n",
        "recomputed"
       ]
      },
      {
       "output_type": "stream",
       "stream": "stdout",
       "text": [
        " 8 patches\n",
        "merged"
       ]
      },
      {
       "output_type": "stream",
       "stream": "stdout",
       "text": [
        " 8 patches into 7\n",
        "New VI"
       ]
      },
      {
       "output_type": "stream",
       "stream": "stdout",
       "text": [
        " 0.893356591627\n",
        "--------------------------------------------------------------------------------\n",
        "Merging for sureness s= 0.00288776843809\n",
        "merging 285 286\n",
        "recomputed"
       ]
      },
      {
       "output_type": "stream",
       "stream": "stdout",
       "text": [
        " 2 patches\n",
        "merged 2 patches into 2\n",
        "New VI"
       ]
      },
      {
       "output_type": "stream",
       "stream": "stdout",
       "text": [
        " 0.893171132169\n",
        "--------------------------------------------------------------------------------\n",
        "Merging for sureness s= 0.00272530666552\n",
        "merging 139 141\n",
        "recomputed"
       ]
      },
      {
       "output_type": "stream",
       "stream": "stdout",
       "text": [
        " 0 patches\n",
        "merged 0 patches into 0\n",
        "New VI"
       ]
      },
      {
       "output_type": "stream",
       "stream": "stdout",
       "text": [
        " 0.891667310332\n",
        "--------------------------------------------------------------------------------\n",
        "Merging for sureness s= 0.00270633748733\n",
        "merging 253 256\n",
        "recomputed"
       ]
      },
      {
       "output_type": "stream",
       "stream": "stdout",
       "text": [
        " 5 patches\n",
        "merged 5 patches into 5\n",
        "New VI"
       ]
      },
      {
       "output_type": "stream",
       "stream": "stdout",
       "text": [
        " 0.892037805007\n",
        "--------------------------------------------------------------------------------\n",
        "Merging for sureness s= 0.00257051619701\n",
        "merging 338 344\n",
        "recomputed"
       ]
      },
      {
       "output_type": "stream",
       "stream": "stdout",
       "text": [
        " 1 patches\n",
        "merged 1 patches into 1\n",
        "New VI"
       ]
      },
      {
       "output_type": "stream",
       "stream": "stdout",
       "text": [
        " 0.893154003254\n",
        "--------------------------------------------------------------------------------\n",
        "Merging for sureness s= 0.00255608814768\n",
        "merging 210 219\n",
        "recomputed"
       ]
      },
      {
       "output_type": "stream",
       "stream": "stdout",
       "text": [
        " 19 patches\n",
        "merged"
       ]
      },
      {
       "output_type": "stream",
       "stream": "stdout",
       "text": [
        " 19 patches into 18\n",
        "New VI"
       ]
      },
      {
       "output_type": "stream",
       "stream": "stdout",
       "text": [
        " 0.894384268298\n",
        "--------------------------------------------------------------------------------\n",
        "Merging for sureness s= 0.002323260298\n",
        "merging 180 206\n",
        "recomputed"
       ]
      },
      {
       "output_type": "stream",
       "stream": "stdout",
       "text": [
        " 7 patches\n",
        "merged 7 patches into 7\n",
        "New VI"
       ]
      },
      {
       "output_type": "stream",
       "stream": "stdout",
       "text": [
        " 0.893117203154\n",
        "--------------------------------------------------------------------------------\n",
        "Merging for sureness s= 0.00213568331674\n",
        "merging 44 54\n",
        "recomputed"
       ]
      },
      {
       "output_type": "stream",
       "stream": "stdout",
       "text": [
        " 9 patches\n",
        "merged"
       ]
      },
      {
       "output_type": "stream",
       "stream": "stdout",
       "text": [
        " 9 patches into 9\n",
        "New VI"
       ]
      },
      {
       "output_type": "stream",
       "stream": "stdout",
       "text": [
        " 0.894714447537\n",
        "--------------------------------------------------------------------------------\n",
        "Merging for sureness s= 0.00166884169448\n",
        "merging 156 161\n",
        "recomputed"
       ]
      },
      {
       "output_type": "stream",
       "stream": "stdout",
       "text": [
        " 9 patches\n",
        "merged"
       ]
      },
      {
       "output_type": "stream",
       "stream": "stdout",
       "text": [
        " 9 patches into 8\n",
        "New VI"
       ]
      },
      {
       "output_type": "stream",
       "stream": "stdout",
       "text": [
        " 0.895095685894\n",
        "--------------------------------------------------------------------------------\n",
        "Merging for sureness s= 0.00162873149384\n",
        "merging 252 254\n",
        "recomputed"
       ]
      },
      {
       "output_type": "stream",
       "stream": "stdout",
       "text": [
        " 11 patches\n",
        "merged"
       ]
      },
      {
       "output_type": "stream",
       "stream": "stdout",
       "text": [
        " 11 patches into 11\n",
        "New VI"
       ]
      },
      {
       "output_type": "stream",
       "stream": "stdout",
       "text": [
        " 0.896197948323\n",
        "--------------------------------------------------------------------------------\n",
        "Merging for sureness s= 0.00243852147833\n",
        "merging 251 254\n",
        "recomputed"
       ]
      },
      {
       "output_type": "stream",
       "stream": "stdout",
       "text": [
        " 6 patches\n",
        "merged 6 patches into 6\n",
        "New VI"
       ]
      },
      {
       "output_type": "stream",
       "stream": "stdout",
       "text": [
        " 0.901846635123\n",
        "--------------------------------------------------------------------------------\n",
        "Merging for sureness s= 0.0039286641404\n",
        "merging 254 266\n",
        "recomputed"
       ]
      },
      {
       "output_type": "stream",
       "stream": "stdout",
       "text": [
        " 10 patches\n",
        "merged"
       ]
      },
      {
       "output_type": "stream",
       "stream": "stdout",
       "text": [
        " 10 patches into 10\n",
        "New VI"
       ]
      },
      {
       "output_type": "stream",
       "stream": "stdout",
       "text": [
        " 0.903539327305\n",
        "--------------------------------------------------------------------------------\n",
        "Merging for sureness s= 0.00361818494275\n",
        "merging 257 266\n",
        "recomputed"
       ]
      },
      {
       "output_type": "stream",
       "stream": "stdout",
       "text": [
        " 1 patches\n",
        "merged 1 patches into 1\n",
        "New VI"
       ]
      },
      {
       "output_type": "stream",
       "stream": "stdout",
       "text": [
        " 0.907852613991\n",
        "--------------------------------------------------------------------------------\n",
        "Merging for sureness s= 0.00143853120971\n",
        "merging 187 196\n",
        "recomputed"
       ]
      },
      {
       "output_type": "stream",
       "stream": "stdout",
       "text": [
        " 4 patches\n",
        "merged 4 patches into 4\n",
        "New VI"
       ]
      },
      {
       "output_type": "stream",
       "stream": "stdout",
       "text": [
        " 0.908744351575\n",
        "--------------------------------------------------------------------------------\n",
        "Merging for sureness s= 0.00131553504616\n",
        "merging 118 123\n",
        "recomputed"
       ]
      },
      {
       "output_type": "stream",
       "stream": "stdout",
       "text": [
        " 1 patches\n",
        "merged 1 patches into 1\n",
        "New VI"
       ]
      },
      {
       "output_type": "stream",
       "stream": "stdout",
       "text": [
        " 0.908520158018\n",
        "--------------------------------------------------------------------------------\n",
        "Merging for sureness s= 0.00115567620378\n",
        "merging 163 166\n",
        "recomputed"
       ]
      },
      {
       "output_type": "stream",
       "stream": "stdout",
       "text": [
        " 5 patches\n",
        "merged 5 patches into 4\n",
        "New VI"
       ]
      },
      {
       "output_type": "stream",
       "stream": "stdout",
       "text": [
        " 0.911318224196\n",
        "--------------------------------------------------------------------------------\n",
        "Merging for sureness s= 0.00112549774349\n",
        "merging 181 182\n",
        "recomputed"
       ]
      },
      {
       "output_type": "stream",
       "stream": "stdout",
       "text": [
        " 8 patches\n",
        "merged 8 patches into 7\n",
        "New VI"
       ]
      },
      {
       "output_type": "stream",
       "stream": "stdout",
       "text": [
        " 0.912423333659\n",
        "--------------------------------------------------------------------------------\n",
        "Merging for sureness s= 0.124789351972\n",
        "merging 152 182\n",
        "recomputed"
       ]
      },
      {
       "output_type": "stream",
       "stream": "stdout",
       "text": [
        " 4 patches\n",
        "merged 4 patches into 4\n",
        "New VI"
       ]
      },
      {
       "output_type": "stream",
       "stream": "stdout",
       "text": [
        " 0.917827289339\n",
        "--------------------------------------------------------------------------------\n",
        "Merging for sureness s= 0.000963944243267\n",
        "merging 155 162\n",
        "recomputed"
       ]
      },
      {
       "output_type": "stream",
       "stream": "stdout",
       "text": [
        " 9 patches\n",
        "merged"
       ]
      },
      {
       "output_type": "stream",
       "stream": "stdout",
       "text": [
        " 9 patches into 9\n",
        "New VI"
       ]
      },
      {
       "output_type": "stream",
       "stream": "stdout",
       "text": [
        " 0.918233890336\n",
        "--------------------------------------------------------------------------------\n",
        "Merging for sureness s= 0.0186421312392\n",
        "merging 79 162\n",
        "recomputed"
       ]
      },
      {
       "output_type": "stream",
       "stream": "stdout",
       "text": [
        " 11 patches\n",
        "merged"
       ]
      },
      {
       "output_type": "stream",
       "stream": "stdout",
       "text": [
        " 11 patches into 11\n",
        "New VI"
       ]
      },
      {
       "output_type": "stream",
       "stream": "stdout",
       "text": [
        " 0.926258847706\n",
        "--------------------------------------------------------------------------------\n",
        "Merging for sureness s= 0.000914268486667\n",
        "merging 83 90\n",
        "recomputed"
       ]
      },
      {
       "output_type": "stream",
       "stream": "stdout",
       "text": [
        " 4 patches\n",
        "merged 4 patches into 4\n",
        "New VI"
       ]
      },
      {
       "output_type": "stream",
       "stream": "stdout",
       "text": [
        " 0.928493787235\n",
        "--------------------------------------------------------------------------------\n",
        "Merging for sureness s= 0.000887343427166\n",
        "merging 301 305\n",
        "recomputed"
       ]
      },
      {
       "output_type": "stream",
       "stream": "stdout",
       "text": [
        " 5 patches\n",
        "merged 5 patches into 5\n",
        "New VI"
       ]
      },
      {
       "output_type": "stream",
       "stream": "stdout",
       "text": [
        " 0.929523364022\n",
        "--------------------------------------------------------------------------------\n",
        "Merging for sureness s= 0.000769623205997\n",
        "merging 174 179\n",
        "recomputed"
       ]
      },
      {
       "output_type": "stream",
       "stream": "stdout",
       "text": [
        " 4 patches\n",
        "merged 4 patches into 4\n",
        "New VI"
       ]
      },
      {
       "output_type": "stream",
       "stream": "stdout",
       "text": [
        " 0.931271109677\n",
        "--------------------------------------------------------------------------------\n",
        "Merging for sureness s= 0.000759835063946\n",
        "merging 65 74\n",
        "recomputed"
       ]
      },
      {
       "output_type": "stream",
       "stream": "stdout",
       "text": [
        " 3 patches\n",
        "merged 3 patches into 3\n",
        "New VI"
       ]
      },
      {
       "output_type": "stream",
       "stream": "stdout",
       "text": [
        " 0.933396707581\n",
        "--------------------------------------------------------------------------------\n",
        "Merging for sureness s= 0.000670139386784\n",
        "merging 286 288\n",
        "recomputed"
       ]
      },
      {
       "output_type": "stream",
       "stream": "stdout",
       "text": [
        " 1 patches\n",
        "merged 1 patches into 1\n",
        "New VI"
       ]
      },
      {
       "output_type": "stream",
       "stream": "stdout",
       "text": [
        " 0.9494486342\n",
        "--------------------------------------------------------------------------------\n",
        "Merging for sureness s= 0.999846339226\n",
        "merging 288 312\n",
        "recomputed"
       ]
      },
      {
       "output_type": "stream",
       "stream": "stdout",
       "text": [
        " 0 patches\n",
        "merged 0 patches into 0\n",
        "New VI"
       ]
      },
      {
       "output_type": "stream",
       "stream": "stdout",
       "text": [
        " 0.949514543732\n",
        "--------------------------------------------------------------------------------\n",
        "Merging for sureness s= 0.00055498466827\n",
        "merging 296 308\n",
        "recomputed"
       ]
      },
      {
       "output_type": "stream",
       "stream": "stdout",
       "text": [
        " 6 patches\n",
        "merged 6 patches into 6\n",
        "New VI"
       ]
      },
      {
       "output_type": "stream",
       "stream": "stdout",
       "text": [
        " 0.951183397289\n",
        "--------------------------------------------------------------------------------\n",
        "Merging for sureness s= 0.000487792101922\n",
        "merging 89 92\n",
        "recomputed"
       ]
      },
      {
       "output_type": "stream",
       "stream": "stdout",
       "text": [
        " 4 patches\n",
        "merged 4 patches into 4\n",
        "New VI"
       ]
      },
      {
       "output_type": "stream",
       "stream": "stdout",
       "text": [
        " 0.958957035003\n",
        "--------------------------------------------------------------------------------\n",
        "Merging for sureness s= 0.00044410242117\n",
        "merging 194 204\n",
        "recomputed"
       ]
      },
      {
       "output_type": "stream",
       "stream": "stdout",
       "text": [
        " 6 patches\n",
        "merged 6 patches into 6\n",
        "New VI"
       ]
      },
      {
       "output_type": "stream",
       "stream": "stdout",
       "text": [
        " 0.959471185879\n",
        "--------------------------------------------------------------------------------\n",
        "Merging for sureness s= 0.00343817705289\n",
        "merging 195 204\n",
        "recomputed"
       ]
      },
      {
       "output_type": "stream",
       "stream": "stdout",
       "text": [
        " 6 patches\n",
        "merged 6 patches into 6\n",
        "New VI"
       ]
      },
      {
       "output_type": "stream",
       "stream": "stdout",
       "text": [
        " 0.962111716974\n",
        "--------------------------------------------------------------------------------\n",
        "Merging for sureness s= 0.000400032105972\n",
        "merging 235 241\n",
        "recomputed"
       ]
      },
      {
       "output_type": "stream",
       "stream": "stdout",
       "text": [
        " 2 patches\n",
        "merged 2 patches into 2\n",
        "New VI"
       ]
      },
      {
       "output_type": "stream",
       "stream": "stdout",
       "text": [
        " 0.962705062949\n",
        "--------------------------------------------------------------------------------\n",
        "Merging for sureness s= 0.000344602216501\n",
        "merging 272 281\n",
        "recomputed"
       ]
      },
      {
       "output_type": "stream",
       "stream": "stdout",
       "text": [
        " 10 patches\n",
        "merged"
       ]
      },
      {
       "output_type": "stream",
       "stream": "stdout",
       "text": [
        " 10 patches into 10\n",
        "New VI"
       ]
      },
      {
       "output_type": "stream",
       "stream": "stdout",
       "text": [
        " 0.963267929555\n",
        "--------------------------------------------------------------------------------\n",
        "Merging for sureness s= 0.000256679981248\n",
        "merging 77 94\n",
        "recomputed"
       ]
      },
      {
       "output_type": "stream",
       "stream": "stdout",
       "text": [
        " 5 patches\n",
        "merged 5 patches into 5\n",
        "New VI"
       ]
      },
      {
       "output_type": "stream",
       "stream": "stdout",
       "text": [
        " 0.964954227059\n",
        "--------------------------------------------------------------------------------\n",
        "Merging for sureness s= 0.00025271094637\n",
        "merging 20 49\n",
        "recomputed"
       ]
      },
      {
       "output_type": "stream",
       "stream": "stdout",
       "text": [
        " 2 patches\n",
        "merged 2 patches into 2\n",
        "New VI"
       ]
      },
      {
       "output_type": "stream",
       "stream": "stdout",
       "text": [
        " 0.966203972319\n",
        "--------------------------------------------------------------------------------\n",
        "Merging for sureness s= 0.000227748925681\n",
        "merging 262 263\n",
        "recomputed"
       ]
      },
      {
       "output_type": "stream",
       "stream": "stdout",
       "text": [
        " 0 patches\n",
        "merged 0 patches into 0\n",
        "New VI"
       ]
      },
      {
       "output_type": "stream",
       "stream": "stdout",
       "text": [
        " 0.966717978032\n",
        "--------------------------------------------------------------------------------\n",
        "Merging for sureness s= 0.000179501119419\n",
        "merging 116 121\n",
        "recomputed"
       ]
      },
      {
       "output_type": "stream",
       "stream": "stdout",
       "text": [
        " 6 patches\n",
        "merged 6 patches into 6\n",
        "New VI"
       ]
      },
      {
       "output_type": "stream",
       "stream": "stdout",
       "text": [
        " 0.967126520639\n",
        "--------------------------------------------------------------------------------\n",
        "Merging for sureness s= 0.000176170506165\n",
        "merging 108 113\n",
        "recomputed"
       ]
      },
      {
       "output_type": "stream",
       "stream": "stdout",
       "text": [
        " 1 patches\n",
        "merged 1 patches into 1\n",
        "New VI"
       ]
      },
      {
       "output_type": "stream",
       "stream": "stdout",
       "text": [
        " 0.967130586486\n",
        "--------------------------------------------------------------------------------\n",
        "Merging for sureness s= 0.000175902212504\n",
        "merging 177 188\n",
        "recomputed"
       ]
      },
      {
       "output_type": "stream",
       "stream": "stdout",
       "text": [
        " 3 patches\n",
        "merged 3 patches into 3\n",
        "New VI"
       ]
      },
      {
       "output_type": "stream",
       "stream": "stdout",
       "text": [
        " 0.966909346941\n",
        "--------------------------------------------------------------------------------\n",
        "Merging for sureness s= 0.0124361943454\n",
        "merging 166 188\n",
        "recomputed"
       ]
      },
      {
       "output_type": "stream",
       "stream": "stdout",
       "text": [
        " 3 patches\n",
        "merged 3 patches into 3\n",
        "New VI"
       ]
      },
      {
       "output_type": "stream",
       "stream": "stdout",
       "text": [
        " 0.968712043717\n",
        "--------------------------------------------------------------------------------\n",
        "Merging for sureness s= 0.000156101741595\n",
        "merging 48 55\n",
        "recomputed"
       ]
      },
      {
       "output_type": "stream",
       "stream": "stdout",
       "text": [
        " 2 patches\n",
        "merged 2 patches into 2\n",
        "New VI"
       ]
      },
      {
       "output_type": "stream",
       "stream": "stdout",
       "text": [
        " 0.965757465107\n",
        "--------------------------------------------------------------------------------\n",
        "Merging for sureness s= 0.000376742566004\n",
        "merging 55 59\n",
        "recomputed"
       ]
      },
      {
       "output_type": "stream",
       "stream": "stdout",
       "text": [
        " 1 patches\n",
        "merged 1 patches into 1\n",
        "New VI"
       ]
      },
      {
       "output_type": "stream",
       "stream": "stdout",
       "text": [
        " 0.971350937155\n",
        "--------------------------------------------------------------------------------\n",
        "Merging for sureness s= 0.00012834687368\n",
        "merging 307 309\n",
        "recomputed"
       ]
      },
      {
       "output_type": "stream",
       "stream": "stdout",
       "text": [
        " 5 patches\n",
        "merged 5 patches into 5\n",
        "New VI"
       ]
      },
      {
       "output_type": "stream",
       "stream": "stdout",
       "text": [
        " 0.971779016127\n",
        "--------------------------------------------------------------------------------\n",
        "Merging for sureness s= 9.90203770925e-05\n",
        "merging 132 147\n",
        "recomputed"
       ]
      },
      {
       "output_type": "stream",
       "stream": "stdout",
       "text": [
        " 3 patches\n",
        "merged 3 patches into 3\n",
        "New VI"
       ]
      },
      {
       "output_type": "stream",
       "stream": "stdout",
       "text": [
        " 0.971772636898\n",
        "--------------------------------------------------------------------------------\n",
        "Merging for sureness s= 9.86618979368e-05\n",
        "merging 120 121\n",
        "recomputed"
       ]
      },
      {
       "output_type": "stream",
       "stream": "stdout",
       "text": [
        " 1 patches\n",
        "merged 1 patches into 1\n",
        "New VI"
       ]
      },
      {
       "output_type": "stream",
       "stream": "stdout",
       "text": [
        " 0.97369816165\n",
        "--------------------------------------------------------------------------------\n",
        "Merging for sureness s= 0.00169049412943\n",
        "merging 121 136\n",
        "recomputed"
       ]
      },
      {
       "output_type": "stream",
       "stream": "stdout",
       "text": [
        " 5 patches\n",
        "merged 5 patches into 5\n",
        "New VI"
       ]
      },
      {
       "output_type": "stream",
       "stream": "stdout",
       "text": [
        " 0.974063677135\n",
        "--------------------------------------------------------------------------------\n",
        "Merging for sureness s= 9.29157322389e-05\n",
        "merging 297 298\n",
        "recomputed"
       ]
      },
      {
       "output_type": "stream",
       "stream": "stdout",
       "text": [
        " 3 patches\n",
        "merged 3 patches into 3\n",
        "New VI"
       ]
      },
      {
       "output_type": "stream",
       "stream": "stdout",
       "text": [
        " 0.97405683629\n",
        "--------------------------------------------------------------------------------\n",
        "Merging for sureness s= 9.08335787244e-05\n",
        "merging 336 337\n",
        "recomputed"
       ]
      },
      {
       "output_type": "stream",
       "stream": "stdout",
       "text": [
        " 5 patches\n",
        "merged 5 patches into 5\n",
        "New VI"
       ]
      },
      {
       "output_type": "stream",
       "stream": "stdout",
       "text": [
        " 0.97535817422\n",
        "--------------------------------------------------------------------------------\n",
        "Merging for sureness s= 8.90943556442e-05\n",
        "merging 341 346\n",
        "recomputed"
       ]
      },
      {
       "output_type": "stream",
       "stream": "stdout",
       "text": [
        " 1 patches\n",
        "merged 1 patches into 1\n",
        "New VI"
       ]
      },
      {
       "output_type": "stream",
       "stream": "stdout",
       "text": [
        " 0.993095173831\n",
        "--------------------------------------------------------------------------------\n",
        "Merging for sureness s= 6.96272109053e-05\n",
        "merging 162 184\n",
        "recomputed"
       ]
      },
      {
       "output_type": "stream",
       "stream": "stdout",
       "text": [
        " 2 patches\n",
        "merged 2 patches into 2\n",
        "New VI"
       ]
      },
      {
       "output_type": "stream",
       "stream": "stdout",
       "text": [
        " 0.997772693096\n",
        "--------------------------------------------------------------------------------\n",
        "Merging for sureness s= 0.000124274069094\n",
        "merging 171 184\n",
        "recomputed"
       ]
      },
      {
       "output_type": "stream",
       "stream": "stdout",
       "text": [
        " 0 patches\n",
        "merged 0 patches into 0\n",
        "New VI"
       ]
      },
      {
       "output_type": "stream",
       "stream": "stdout",
       "text": [
        " 1.00863031465\n",
        "--------------------------------------------------------------------------------\n",
        "Merging for sureness s= 5.61096203455e-05\n",
        "merging 304 316\n",
        "recomputed"
       ]
      },
      {
       "output_type": "stream",
       "stream": "stdout",
       "text": [
        " 9 patches\n",
        "merged"
       ]
      },
      {
       "output_type": "stream",
       "stream": "stdout",
       "text": [
        " 9 patches into 9\n",
        "New VI"
       ]
      },
      {
       "output_type": "stream",
       "stream": "stdout",
       "text": [
        " 1.01036640411\n",
        "--------------------------------------------------------------------------------\n",
        "Merging for sureness s= 0.0186582952738\n",
        "merging 305 316\n",
        "recomputed"
       ]
      },
      {
       "output_type": "stream",
       "stream": "stdout",
       "text": [
        " 5 patches\n",
        "merged 5 patches into 5\n",
        "New VI"
       ]
      },
      {
       "output_type": "stream",
       "stream": "stdout",
       "text": [
        " 1.01379223611\n",
        "--------------------------------------------------------------------------------\n",
        "Merging for sureness s= 0.00493108713999\n",
        "merging 316 319\n",
        "recomputed"
       ]
      },
      {
       "output_type": "stream",
       "stream": "stdout",
       "text": [
        " 7 patches\n",
        "merged 7 patches into 7\n",
        "New VI"
       ]
      },
      {
       "output_type": "stream",
       "stream": "stdout",
       "text": [
        " 1.01611911224\n",
        "--------------------------------------------------------------------------------\n",
        "Merging for sureness s= 7.49137980165e-05\n",
        "merging 324 337\n",
        "recomputed"
       ]
      },
      {
       "output_type": "stream",
       "stream": "stdout",
       "text": [
        " 5 patches\n",
        "merged 5 patches into 5\n",
        "New VI"
       ]
      },
      {
       "output_type": "stream",
       "stream": "stdout",
       "text": [
        " 1.01835829926\n",
        "--------------------------------------------------------------------------------\n",
        "Merging for sureness s= 0.000302721920889\n",
        "merging 326 337\n",
        "recomputed"
       ]
      },
      {
       "output_type": "stream",
       "stream": "stdout",
       "text": [
        " 1 patches\n",
        "merged 1 patches into 1\n",
        "New VI"
       ]
      },
      {
       "output_type": "stream",
       "stream": "stdout",
       "text": [
        " 1.02059487033\n",
        "--------------------------------------------------------------------------------\n",
        "Merging for sureness s= 0.0129615813494\n",
        "merging 337 344\n",
        "recomputed"
       ]
      },
      {
       "output_type": "stream",
       "stream": "stdout",
       "text": [
        " 1 patches\n",
        "merged 1 patches into 1\n",
        "New VI"
       ]
      },
      {
       "output_type": "stream",
       "stream": "stdout",
       "text": [
        " 1.02808550469\n",
        "--------------------------------------------------------------------------------\n",
        "Merging for sureness s= 5.56331433472e-05\n",
        "merging 186 237\n",
        "recomputed"
       ]
      },
      {
       "output_type": "stream",
       "stream": "stdout",
       "text": [
        " 2 patches\n",
        "merged 2 patches into 2\n",
        "New VI"
       ]
      },
      {
       "output_type": "stream",
       "stream": "stdout",
       "text": [
        " 1.0337613013\n",
        "--------------------------------------------------------------------------------\n",
        "Merging for sureness s= 5.43354799447e-05\n",
        "merging 54 64\n",
        "recomputed"
       ]
      },
      {
       "output_type": "stream",
       "stream": "stdout",
       "text": [
        " 1 patches\n",
        "merged 1 patches into 1\n",
        "New VI"
       ]
      },
      {
       "output_type": "stream",
       "stream": "stdout",
       "text": [
        " 1.04079394923\n",
        "--------------------------------------------------------------------------------\n",
        "Merging for sureness s= 3.07362388412e-05\n",
        "merging 248 256\n",
        "recomputed"
       ]
      },
      {
       "output_type": "stream",
       "stream": "stdout",
       "text": [
        " 10 patches\n",
        "merged"
       ]
      },
      {
       "output_type": "stream",
       "stream": "stdout",
       "text": [
        " 10 patches into 10\n",
        "New VI"
       ]
      },
      {
       "output_type": "stream",
       "stream": "stdout",
       "text": [
        " 1.04592401748\n",
        "--------------------------------------------------------------------------------\n",
        "Merging for sureness s= 2.56460825767e-05\n",
        "merging 109 110\n",
        "recomputed"
       ]
      },
      {
       "output_type": "stream",
       "stream": "stdout",
       "text": [
        " 1 patches\n",
        "merged 1 patches into 1\n",
        "New VI"
       ]
      },
      {
       "output_type": "stream",
       "stream": "stdout",
       "text": [
        " 1.04792796417\n",
        "--------------------------------------------------------------------------------\n",
        "Merging for sureness s= 2.01856128115e-05\n",
        "merging 110 117\n",
        "recomputed"
       ]
      },
      {
       "output_type": "stream",
       "stream": "stdout",
       "text": [
        " 0 patches\n",
        "merged 0 patches into 0\n",
        "New VI"
       ]
      },
      {
       "output_type": "stream",
       "stream": "stdout",
       "text": [
        " 1.04801208051\n",
        "--------------------------------------------------------------------------------\n",
        "Merging for sureness s= 1.81296800292e-05\n",
        "merging 339 345\n",
        "recomputed"
       ]
      },
      {
       "output_type": "stream",
       "stream": "stdout",
       "text": [
        " 5 patches\n",
        "merged 5 patches into 5\n",
        "New VI"
       ]
      },
      {
       "output_type": "stream",
       "stream": "stdout",
       "text": [
        " 1.05322007998\n",
        "--------------------------------------------------------------------------------\n",
        "Merging for sureness s= 1.72018590092e-05\n",
        "merging 134 141\n",
        "recomputed"
       ]
      },
      {
       "output_type": "stream",
       "stream": "stdout",
       "text": [
        " 0 patches\n",
        "merged 0 patches into 0\n",
        "New VI"
       ]
      },
      {
       "output_type": "stream",
       "stream": "stdout",
       "text": [
        " 1.06055539865\n",
        "--------------------------------------------------------------------------------\n",
        "Merging for sureness s= 1.38983887155e-05\n",
        "merging 275 290\n",
        "recomputed"
       ]
      },
      {
       "output_type": "stream",
       "stream": "stdout",
       "text": [
        " 3 patches\n",
        "merged 3 patches into 3\n",
        "New VI"
       ]
      },
      {
       "output_type": "stream",
       "stream": "stdout",
       "text": [
        " 1.06229044529\n",
        "--------------------------------------------------------------------------------\n",
        "Merging for sureness s= 1.24616790345e-05\n",
        "merging 284 292\n",
        "recomputed"
       ]
      },
      {
       "output_type": "stream",
       "stream": "stdout",
       "text": [
        " 4 patches\n",
        "merged 4 patches into 4\n",
        "New VI"
       ]
      },
      {
       "output_type": "stream",
       "stream": "stdout",
       "text": [
        " 1.06281619431\n",
        "--------------------------------------------------------------------------------\n",
        "Merging for sureness s= 0.00108121067751\n",
        "merging 290 292\n",
        "recomputed"
       ]
      },
      {
       "output_type": "stream",
       "stream": "stdout",
       "text": [
        " 3 patches\n",
        "merged 3 patches into 3\n",
        "New VI"
       ]
      },
      {
       "output_type": "stream",
       "stream": "stdout",
       "text": [
        " 1.06367553035\n",
        "--------------------------------------------------------------------------------\n",
        "Merging for sureness s= 7.23307166481e-05\n",
        "merging 281 292\n",
        "recomputed"
       ]
      },
      {
       "output_type": "stream",
       "stream": "stdout",
       "text": [
        " 0 patches\n",
        "merged 0 patches into 0\n",
        "New VI"
       ]
      },
      {
       "output_type": "stream",
       "stream": "stdout",
       "text": [
        " 1.06707156035\n",
        "--------------------------------------------------------------------------------\n",
        "Merging for sureness s= 9.86942905001e-06\n",
        "merging 200 213\n",
        "recomputed"
       ]
      },
      {
       "output_type": "stream",
       "stream": "stdout",
       "text": [
        " 2 patches\n",
        "merged 2 patches into 2\n",
        "New VI"
       ]
      },
      {
       "output_type": "stream",
       "stream": "stdout",
       "text": [
        " 1.06813081798\n",
        "--------------------------------------------------------------------------------\n",
        "Merging for sureness s= 9.1600104497e-06\n",
        "merging 264 278\n",
        "recomputed"
       ]
      },
      {
       "output_type": "stream",
       "stream": "stdout",
       "text": [
        " 1 patches\n",
        "merged 1 patches into 1\n",
        "New VI"
       ]
      },
      {
       "output_type": "stream",
       "stream": "stdout",
       "text": [
        " 1.07183751588\n",
        "--------------------------------------------------------------------------------\n",
        "Merging for sureness s= 7.27422866476e-06\n",
        "merging 333 346\n",
        "recomputed"
       ]
      },
      {
       "output_type": "stream",
       "stream": "stdout",
       "text": [
        " 1 patches\n",
        "merged 1 patches into 1\n",
        "New VI"
       ]
      },
      {
       "output_type": "stream",
       "stream": "stdout",
       "text": [
        " 1.07894524493\n",
        "--------------------------------------------------------------------------------\n",
        "Merging for sureness s= 6.29206169833e-06\n",
        "merging 330 350\n",
        "recomputed"
       ]
      },
      {
       "output_type": "stream",
       "stream": "stdout",
       "text": [
        " 0 patches\n",
        "merged 0 patches into 0\n",
        "New VI"
       ]
      },
      {
       "output_type": "stream",
       "stream": "stdout",
       "text": [
        " 1.07880017844\n",
        "--------------------------------------------------------------------------------\n",
        "Merging for sureness s= 5.73383522351e-06\n",
        "merging 97 107\n",
        "recomputed"
       ]
      },
      {
       "output_type": "stream",
       "stream": "stdout",
       "text": [
        " 3 patches\n",
        "merged 3 patches into 3\n",
        "New VI"
       ]
      },
      {
       "output_type": "stream",
       "stream": "stdout",
       "text": [
        " 1.08082835798\n",
        "--------------------------------------------------------------------------------\n",
        "Merging for sureness s= 5.52352594241e-06\n",
        "merging 98 105\n",
        "recomputed"
       ]
      },
      {
       "output_type": "stream",
       "stream": "stdout",
       "text": [
        " 3 patches\n",
        "merged 3 patches into 3\n",
        "New VI"
       ]
      },
      {
       "output_type": "stream",
       "stream": "stdout",
       "text": [
        " 1.08201433188\n",
        "--------------------------------------------------------------------------------\n",
        "Merging for sureness s= 1.3852034499e-05\n",
        "merging 105 107\n",
        "recomputed"
       ]
      },
      {
       "output_type": "stream",
       "stream": "stdout",
       "text": [
        " 1 patches\n",
        "merged 1 patches into 1\n",
        "New VI"
       ]
      },
      {
       "output_type": "stream",
       "stream": "stdout",
       "text": [
        " 1.08535432081\n",
        "--------------------------------------------------------------------------------\n",
        "Merging for sureness s= 0.00022603290563\n",
        "merging 107 115\n",
        "recomputed"
       ]
      },
      {
       "output_type": "stream",
       "stream": "stdout",
       "text": [
        " 0 patches\n",
        "merged 0 patches into 0\n",
        "New VI"
       ]
      },
      {
       "output_type": "stream",
       "stream": "stdout",
       "text": [
        " 1.09508375765\n",
        "--------------------------------------------------------------------------------\n",
        "Merging for sureness s= 3.96905306843e-06\n",
        "merging 128 138\n",
        "recomputed"
       ]
      },
      {
       "output_type": "stream",
       "stream": "stdout",
       "text": [
        " 0 patches\n",
        "merged 0 patches into 0\n",
        "New VI"
       ]
      },
      {
       "output_type": "stream",
       "stream": "stdout",
       "text": [
        " 1.09694441016\n",
        "--------------------------------------------------------------------------------\n",
        "Merging for sureness s= 1.51399854076e-06\n",
        "merging 222 229\n",
        "recomputed"
       ]
      },
      {
       "output_type": "stream",
       "stream": "stdout",
       "text": [
        " 3 patches\n",
        "merged 3 patches into 3\n",
        "New VI"
       ]
      },
      {
       "output_type": "stream",
       "stream": "stdout",
       "text": [
        " 1.09731596212\n",
        "--------------------------------------------------------------------------------\n",
        "Merging for sureness s= 6.27182487278e-07\n",
        "merging 164 175\n",
        "recomputed"
       ]
      },
      {
       "output_type": "stream",
       "stream": "stdout",
       "text": [
        " 2 patches\n",
        "merged 2 patches into 2\n",
        "New VI"
       ]
      },
      {
       "output_type": "stream",
       "stream": "stdout",
       "text": [
        " 1.09827320379\n",
        "--------------------------------------------------------------------------------\n",
        "Merging for sureness s= 2.49067056757e-07\n",
        "merging 345 354\n",
        "recomputed"
       ]
      },
      {
       "output_type": "stream",
       "stream": "stdout",
       "text": [
        " 0 patches\n",
        "merged 0 patches into 0\n",
        "New VI"
       ]
      },
      {
       "output_type": "stream",
       "stream": "stdout",
       "text": [
        " 1.09690213077\n",
        "--------------------------------------------------------------------------------\n",
        "Merging for sureness s= 1.74677936116e-07\n",
        "merging 196 213\n",
        "recomputed"
       ]
      },
      {
       "output_type": "stream",
       "stream": "stdout",
       "text": [
        " 0 patches\n",
        "merged 0 patches into 0\n",
        "New VI"
       ]
      },
      {
       "output_type": "stream",
       "stream": "stdout",
       "text": [
        " 1.09898251133\n",
        "--------------------------------------------------------------------------------\n",
        "Merging for sureness s= 5.82502579505e-08\n",
        "merging 32 35\n",
        "recomputed"
       ]
      },
      {
       "output_type": "stream",
       "stream": "stdout",
       "text": [
        " 0 patches\n",
        "merged 0 patches into 0\n",
        "New VI"
       ]
      },
      {
       "output_type": "stream",
       "stream": "stdout",
       "text": [
        " 1.10024016345\n",
        "--------------------------------------------------------------------------------\n",
        "Merging for sureness s= 2.64421267104e-08\n",
        "merging 319 340\n",
        "recomputed"
       ]
      },
      {
       "output_type": "stream",
       "stream": "stdout",
       "text": [
        " 1 patches\n",
        "merged 1 patches into 1\n",
        "New VI"
       ]
      },
      {
       "output_type": "stream",
       "stream": "stdout",
       "text": [
        " 1.10450217832\n",
        "--------------------------------------------------------------------------------\n",
        "Merging for sureness s= 2.14274642474e-08\n",
        "merging 35 41\n",
        "recomputed"
       ]
      },
      {
       "output_type": "stream",
       "stream": "stdout",
       "text": [
        " 0 patches\n",
        "merged 0 patches into 0\n",
        "New VI"
       ]
      },
      {
       "output_type": "stream",
       "stream": "stdout",
       "text": [
        " 1.10401176371\n",
        "--------------------------------------------------------------------------------\n",
        "Merging for sureness s= 6.08252381795e-09\n",
        "merging 198 206\n",
        "recomputed"
       ]
      },
      {
       "output_type": "stream",
       "stream": "stdout",
       "text": [
        " 0 patches\n",
        "merged 0 patches into 0\n",
        "New VI"
       ]
      },
      {
       "output_type": "stream",
       "stream": "stdout",
       "text": [
        " 1.11575908871\n",
        "--------------------------------------------------------------------------------\n",
        "Merging for sureness s= 5.58614132729e-09\n",
        "merging 179 185\n",
        "recomputed"
       ]
      },
      {
       "output_type": "stream",
       "stream": "stdout",
       "text": [
        " 2 patches\n",
        "merged 2 patches into 2\n",
        "New VI"
       ]
      },
      {
       "output_type": "stream",
       "stream": "stdout",
       "text": [
        " 1.12062800845\n",
        "--------------------------------------------------------------------------------\n",
        "Merging for sureness s= 9.53697121275e-09\n",
        "merging 175 185\n",
        "recomputed"
       ]
      },
      {
       "output_type": "stream",
       "stream": "stdout",
       "text": [
        " 1 patches\n",
        "merged 1 patches into 1\n",
        "New VI"
       ]
      },
      {
       "output_type": "stream",
       "stream": "stdout",
       "text": [
        " 1.12474650855\n",
        "--------------------------------------------------------------------------------\n",
        "Merging for sureness s= 3.57668628048e-09\n",
        "merging 214 226\n",
        "recomputed"
       ]
      },
      {
       "output_type": "stream",
       "stream": "stdout",
       "text": [
        " 2 patches\n",
        "merged 2 patches into 2\n",
        "New VI"
       ]
      },
      {
       "output_type": "stream",
       "stream": "stdout",
       "text": [
        " 1.12563606634\n",
        "--------------------------------------------------------------------------------\n",
        "Merging for sureness s= 1.30898379211e-05\n",
        "merging 226 229\n",
        "recomputed"
       ]
      },
      {
       "output_type": "stream",
       "stream": "stdout",
       "text": [
        " 0 patches\n",
        "merged 0 patches into 0\n",
        "New VI"
       ]
      },
      {
       "output_type": "stream",
       "stream": "stdout",
       "text": [
        " 1.12758606996\n",
        "--------------------------------------------------------------------------------\n",
        "Merging for sureness s= 3.11817488496e-10\n",
        "merging 239 242\n",
        "recomputed"
       ]
      },
      {
       "output_type": "stream",
       "stream": "stdout",
       "text": [
        " 0 patches\n",
        "merged 0 patches into 0\n",
        "New VI"
       ]
      },
      {
       "output_type": "stream",
       "stream": "stdout",
       "text": [
        " 1.12686699013\n",
        "--------------------------------------------------------------------------------\n",
        "Merging for sureness s= 5.47161968512e-11\n",
        "merging 185 197\n",
        "recomputed"
       ]
      },
      {
       "output_type": "stream",
       "stream": "stdout",
       "text": [
        " 0 patches\n",
        "merged 0 patches into 0\n",
        "New VI"
       ]
      },
      {
       "output_type": "stream",
       "stream": "stdout",
       "text": [
        " 1.12905671853\n",
        "--------------------------------------------------------------------------------\n",
        "Merging for sureness s= 2.60045162622e-14\n",
        "merging 64 67\n",
        "recomputed"
       ]
      },
      {
       "output_type": "stream",
       "stream": "stdout",
       "text": [
        " 0 patches\n",
        "merged 0 patches into 0\n",
        "New VI"
       ]
      },
      {
       "output_type": "stream",
       "stream": "stdout",
       "text": [
        " 1.13016094155\n",
        "--------------------------------------------------------------------------------\n"
       ]
      }
     ],
     "prompt_number": 456
    },
    {
     "cell_type": "code",
     "collapsed": false,
     "input": [
      "index = vi_s.index(min(vi_s))\n",
      "print 'Before VI', before_VI\n",
      "print 'Lowest VI', vi_s[index]\n",
      "print 'Iterations', index\n",
      "print 'Sureness', surenesses[index]"
     ],
     "language": "python",
     "metadata": {},
     "outputs": [
      {
       "output_type": "stream",
       "stream": "stdout",
       "text": [
        "Before VI 0.817429945458\n",
        "Lowest VI 0.793848385157\n",
        "Iterations 40\n",
        "Sureness 0.473218262196\n"
       ]
      }
     ],
     "prompt_number": 481
    },
    {
     "cell_type": "code",
     "collapsed": false,
     "input": [
      "import matplotlib.pyplot as plt\n",
      "# create plot\n",
      "new_rhoana = propagate_max_overlap(seg, gold_normalized)\n",
      "before_VI = partition_comparison.variation_of_information(gold_normalized.ravel(), seg.ravel())\n",
      "target_vi = partition_comparison.variation_of_information(new_rhoana.ravel(), gold_normalized.ravel())\n",
      "\n",
      "bins = np.arange(0, len(vi_s))#np.arange(len(vi_s), 0, -1)\n",
      "# bins /= 100\n",
      "\n",
      "vi_s_ = vi_s #[x for (y,x) in sorted(zip(surenesses, vi_s))]\n",
      "surenesses_ = bins #surenesses#[y for (y,x) in sorted(zip(surenesses, vi_s))]\n",
      "\n",
      "original_vi = [before_VI]*len(vi_s)\n",
      "target_vi = [target_vi]*len(vi_s)\n",
      "\n",
      "fig, ax = plt.subplots()\n",
      "\n",
      "ax.plot(surenesses_, target_vi, 'k--', label='Target VI')\n",
      "ax.plot(surenesses_, vi_s_, 'k', label='Variation of Information')\n",
      "ax.plot(surenesses_, original_vi, 'k:', label='Rhoana VI before')\n",
      "# ax.set_yscale('log')\n",
      "\n",
      "# Now add the legend with some customizations.\n",
      "legend = ax.legend(loc='upper center', shadow=True)\n",
      "ax.set_ylim([0.6,1.5])\n",
      "\n",
      "# The frame is matplotlib.patches.Rectangle instance surrounding the legend.\n",
      "frame = legend.get_frame()\n",
      "frame.set_facecolor('0.90')\n",
      "\n",
      "# Set the fontsize\n",
      "for label in legend.get_texts():\n",
      "    label.set_fontsize('large')\n",
      "\n",
      "for label in legend.get_lines():\n",
      "    label.set_linewidth(1.5)  # the legend line width\n"
     ],
     "language": "python",
     "metadata": {},
     "outputs": [
      {
       "metadata": {},
       "output_type": "display_data",
       "png": "[encoded data removed]",
       "text": [
        "<matplotlib.figure.Figure at 0x1b5e35650>"
       ]
      }
     ],
     "prompt_number": 475
    },
    {
     "cell_type": "code",
     "collapsed": false,
     "input": [],
     "language": "python",
     "metadata": {},
     "outputs": []
    }
   ],
   "metadata": {}
  }
 ]
}