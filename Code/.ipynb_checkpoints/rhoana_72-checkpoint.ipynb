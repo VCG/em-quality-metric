{
 "metadata": {
  "name": "",
  "signature": "sha256:ad93bbdfec530207c081a4d5317165815b44c8fe9af8ed63e24f848a3a2c3d29"
 },
 "nbformat": 3,
 "nbformat_minor": 0,
 "worksheets": [
  {
   "cells": [
    {
     "cell_type": "code",
     "collapsed": false,
     "input": [
      "%load_ext autoreload\n",
      "%autoreload 2\n",
      "\n",
      "from matplotlib.pyplot import imshow\n",
      "%matplotlib inline\n",
      "\n",
      "import _metrics"
     ],
     "language": "python",
     "metadata": {},
     "outputs": [
      {
       "output_type": "stream",
       "stream": "stderr",
       "text": [
        "_metrics/tifffile.py:1995: UserWarning: failed to import _tifffile.decodepackbits\n",
        "  warnings.warn(\"failed to import %s\" % module_function)\n",
        "_metrics/tifffile.py:1995: UserWarning: failed to import _tifffile.decodelzw\n",
        "  warnings.warn(\"failed to import %s\" % module_function)\n",
        "_metrics/tifffile.py:1995: UserWarning: failed to import _tifffile.unpackints\n",
        "  warnings.warn(\"failed to import %s\" % module_function)\n"
       ]
      }
     ],
     "prompt_number": 1
    },
    {
     "cell_type": "code",
     "collapsed": false,
     "input": [
      "\n",
      "import cv2\n",
      "import glob\n",
      "import numpy as np\n",
      "import mahotas as mh\n",
      "import os\n",
      "import uuid\n",
      "import tifffile as tif\n",
      "from scipy import ndimage as nd\n",
      "from scipy.misc import imrotate\n",
      "import skimage.measure\n",
      "from skimage import img_as_ubyte\n",
      "import random\n",
      "import cPickle as pickle\n",
      "import time\n",
      "import partition_comparison\n",
      "\n",
      "DATA_PATH = '/Volumes/DATA1/EMQM_DATA/ac3x75/'\n",
      "GOLD_PATH = os.path.join(DATA_PATH,'gold/')\n",
      "RHOANA_PATH = os.path.join(DATA_PATH,'rhoana/')\n",
      "IMAGE_PATH = os.path.join(DATA_PATH,'input/')\n",
      "PROB_PATH = os.path.join(DATA_PATH,'prob/')\n",
      "PATCH_PATH = os.path.join(DATA_PATH,'test_rhoana/')\n",
      "\n",
      "\n",
      "gold = _metrics.Util.read(GOLD_PATH+'*.tif')\n",
      "rhoana = _metrics.Util.read(RHOANA_PATH+'*.tif')\n",
      "images = _metrics.Util.read(IMAGE_PATH+'*.tif')\n",
      "probs = _metrics.Util.read(PROB_PATH+'*.tif')"
     ],
     "language": "python",
     "metadata": {},
     "outputs": [
      {
       "output_type": "stream",
       "stream": "stdout",
       "text": [
        "Loaded 75 images.\n",
        "Loaded"
       ]
      },
      {
       "output_type": "stream",
       "stream": "stdout",
       "text": [
        " 75 images.\n",
        "Loaded"
       ]
      },
      {
       "output_type": "stream",
       "stream": "stdout",
       "text": [
        " 75 images.\n",
        "Loaded"
       ]
      },
      {
       "output_type": "stream",
       "stream": "stdout",
       "text": [
        " 75 images.\n"
       ]
      },
      {
       "output_type": "stream",
       "stream": "stderr",
       "text": [
        "tifffile.py:1995: UserWarning: failed to import _tifffile.decodepackbits\n",
        "  warnings.warn(\"failed to import %s\" % module_function)\n",
        "tifffile.py:1995: UserWarning: failed to import _tifffile.decodelzw\n",
        "  warnings.warn(\"failed to import %s\" % module_function)\n",
        "tifffile.py:1995: UserWarning: failed to import _tifffile.unpackints\n",
        "  warnings.warn(\"failed to import %s\" % module_function)\n"
       ]
      }
     ],
     "prompt_number": 2
    },
    {
     "cell_type": "code",
     "collapsed": false,
     "input": [
      "SLICE = 72"
     ],
     "language": "python",
     "metadata": {},
     "outputs": [],
     "prompt_number": 3
    },
    {
     "cell_type": "code",
     "collapsed": false,
     "input": [
      "image = images[SLICE]\n",
      "prob = probs[SLICE]\n",
      "seg = _metrics.Util.normalize_labels(rhoana[SLICE])[0]\n",
      "\n",
      "# fill and normalize gold\n",
      "gold_zeros = _metrics.Util.threshold(gold[SLICE], 0)\n",
      "gold_filled = _metrics.Util.fill(gold[SLICE], gold_zeros.astype(np.bool))\n",
      "gold_filled_relabeled = skimage.measure.label(gold_filled).astype(np.uint64)\n",
      "gold_normalized = _metrics.Util.normalize_labels(gold_filled_relabeled)[0]\n",
      "\n",
      "# color both segmentations\n",
      "cm = _metrics.Util.load_colormap('/Volumes/DATA1/ac3x75/mojo/ids/colorMap.hdf5')\n",
      "colored_rhoana_normalized = cm[seg % len(cm)]\n",
      "colored_gold_normalized = cm[gold_normalized % len(cm)]\n"
     ],
     "language": "python",
     "metadata": {},
     "outputs": [],
     "prompt_number": 4
    },
    {
     "cell_type": "code",
     "collapsed": false,
     "input": [
      "def grab_neighbors(array, label):\n",
      "\n",
      "    thresholded_array = _metrics.Util.threshold(array, label)\n",
      "    thresholded_array_dilated = mh.dilate(thresholded_array.astype(np.uint64))\n",
      "\n",
      "    all_neighbors = np.unique(array[thresholded_array_dilated == thresholded_array_dilated.max()].astype(np.uint64))\n",
      "    all_neighbors = np.delete(all_neighbors, np.where(all_neighbors == label))\n",
      "\n",
      "    return all_neighbors\n",
      "\n",
      "def grab_patch(image, prob, segmentation, l, n, patch_size=(75,75)):\n",
      "\n",
      "    borders = mh.labeled.border(segmentation, l, n)\n",
      "\n",
      "    borders_labeled = skimage.measure.label(borders)\n",
      "    \n",
      "    patches = []\n",
      "    \n",
      "    # check if we need multiple patches because of multiple borders\n",
      "    for b in range(1,borders_labeled.max()+1):\n",
      "#         print 'patch for border', b\n",
      "        \n",
      "        border = _metrics.Util.threshold(borders_labeled, b)\n",
      "\n",
      "        border_yx = indices = zip(*np.where(border==1))\n",
      "\n",
      "        # fault check if no border is found\n",
      "        if len(border_yx) < 2:\n",
      "            print 'no border', l, n, 'border', b\n",
      "            continue\n",
      "\n",
      "        #\n",
      "        # calculate border center properly\n",
      "        #\n",
      "        node = mh.center_of_mass(border)\n",
      "        nodes = border_yx\n",
      "        nodes = np.asarray(nodes)\n",
      "        deltas = nodes - node\n",
      "        dist_2 = np.einsum('ij,ij->i', deltas, deltas)\n",
      "        border_center = border_yx[np.argmin(dist_2)]\n",
      "\n",
      "        # check if border_center is too close to the 4 edges\n",
      "        new_border_center = [border_center[0], border_center[1]]\n",
      "        if border_center[0] < patch_size[0]/2:\n",
      "            return None\n",
      "        if border_center[0]+patch_size[0]/2 >= segmentation.shape[0]:\n",
      "            return None\n",
      "        if border_center[1] < patch_size[1]/2:\n",
      "            return None\n",
      "        if border_center[1]+patch_size[1]/2 >= segmentation.shape[1]:\n",
      "            return None\n",
      "\n",
      "        bbox = [new_border_center[0]-patch_size[0]/2, \n",
      "                new_border_center[0]+patch_size[0]/2,\n",
      "                new_border_center[1]-patch_size[1]/2, \n",
      "                new_border_center[1]+patch_size[1]/2]\n",
      "\n",
      "        ### workaround to not sample white border of probability map\n",
      "        if bbox[0] <= 33:\n",
      "            return None\n",
      "        if bbox[1] >= segmentation.shape[0]-33:\n",
      "            return None\n",
      "        if bbox[2] <= 33:\n",
      "            return None\n",
      "        if bbox[3] >= segmentation.shape[1]-33:\n",
      "            return None\n",
      "\n",
      "\n",
      "        # threshold for label1\n",
      "        array1 = _metrics.Util.threshold(segmentation, l).astype(np.uint8)\n",
      "        # threshold for label2\n",
      "        array2 = _metrics.Util.threshold(segmentation, n).astype(np.uint8)\n",
      "        merged_array = array1 + array2\n",
      "\n",
      "        # dilate for overlap\n",
      "        dilated_array1 = np.array(array1)\n",
      "        dilated_array2 = np.array(array2)\n",
      "        for o in range(10):\n",
      "            dilated_array1 = mh.dilate(dilated_array1.astype(np.uint64))\n",
      "            dilated_array2 = mh.dilate(dilated_array2.astype(np.uint64))\n",
      "        overlap = np.logical_and(dilated_array1, dilated_array2)\n",
      "        overlap[merged_array == 0] = 0\n",
      "\n",
      "        output = {}\n",
      "        output['id'] = str(uuid.uuid4())\n",
      "        output['image'] = image[bbox[0]:bbox[1] + 1, bbox[2]:bbox[3] + 1]\n",
      "        output['prob'] = prob[bbox[0]:bbox[1] + 1, bbox[2]:bbox[3] + 1]\n",
      "        output['l'] = l\n",
      "        output['n'] = n\n",
      "        output['bbox'] = bbox\n",
      "        output['border'] = border_yx\n",
      "        output['border_center'] = new_border_center\n",
      "        output['binary1'] = array1[bbox[0]:bbox[1] + 1, bbox[2]:bbox[3] + 1].astype(np.bool)\n",
      "        output['binary2'] = array2[bbox[0]:bbox[1] + 1, bbox[2]:bbox[3] + 1].astype(np.bool)\n",
      "        output['overlap'] = overlap[bbox[0]:bbox[1] + 1, bbox[2]:bbox[3] + 1].astype(np.bool)\n",
      "\n",
      "        patches.append(output)\n",
      "        \n",
      "    return patches\n",
      "    \n",
      "    \n",
      "\n",
      "def loop(image, prob, segmentation):\n",
      "    labels = range(1,len(_metrics.Util.get_histogram(segmentation.astype(np.uint64))))\n",
      "\n",
      "    patches = []\n",
      "    \n",
      "    for l in labels:\n",
      "        neighbors = grab_neighbors(segmentation, l)\n",
      "        for n in neighbors:\n",
      "            p = grab_patch(image, prob, segmentation, l, n)\n",
      "            if not p:\n",
      "                continue\n",
      "                \n",
      "            patches += p\n",
      "            \n",
      "    return patches\n",
      "\n",
      "def fill_matrix(m, patches):\n",
      "    \n",
      "    patch_grouper = {}\n",
      "    for p in patches:\n",
      "        # create key\n",
      "        minlabel = min(p['l'], p['n'])\n",
      "        maxlabel = max(p['l'], p['n'])\n",
      "        key = str(minlabel)+'-'+str(maxlabel)\n",
      "\n",
      "        if not key in patch_grouper:\n",
      "            patch_grouper[key] = []\n",
      "\n",
      "        patch_grouper[key] += [p]\n",
      "\n",
      "    # now average the probabilities\n",
      "    for k in patch_grouper.keys():\n",
      "\n",
      "        weights = []\n",
      "        predictions = []\n",
      "\n",
      "        for p in patch_grouper[k]:\n",
      "\n",
      "             weights.append(len(p['border']))\n",
      "             predictions.append(test_patch(val_fn, p))\n",
      "\n",
      "        if len(patch_grouper[k]) == 1:\n",
      "            weights[0] = 1\n",
      "\n",
      "        p_sum = 0\n",
      "        w_sum = 0\n",
      "        for i,w in enumerate(weights):\n",
      "            # weighted arithmetic mean\n",
      "            p_sum += w*predictions[i]\n",
      "            w_sum += w\n",
      "\n",
      "        p_sum /= w_sum\n",
      "\n",
      "        patch_grouper[k] = p_sum\n",
      "\n",
      "    for p in patch_grouper.keys():\n",
      "        l = int(p.split('-')[0])\n",
      "        n = int(p.split('-')[1])\n",
      "        \n",
      "        m[l,n] = patch_grouper[p]\n",
      "        \n",
      "    print 'merged', len(patches), 'patches into', len(patch_grouper.keys())\n",
      "        \n",
      "    return m\n",
      "\n",
      "            \n",
      "def setup_n():\n",
      "    from test_cnn_vis import TestCNN\n",
      "    t = TestCNN('7b76867e-c76a-416f-910a-7065e93c616a', 'patches_large2new')\n",
      "    val_fn = t.run()\n",
      "    \n",
      "    return val_fn\n",
      "            \n",
      "def test_patch(val_fn, p):\n",
      "\n",
      "    images = p['image'].reshape(-1, 1, 75, 75).astype(np.uint8)\n",
      "    probs = p['prob'].reshape(-1, 1, 75, 75).astype(np.uint8)\n",
      "    binary1s = p['binary1'].reshape(-1, 1, 75, 75).astype(np.uint8)*255\n",
      "    binary2s = p['binary2'].reshape(-1, 1, 75, 75).astype(np.uint8)*255\n",
      "    overlaps = p['overlap'].reshape(-1, 1, 75, 75).astype(np.uint8)*255\n",
      "    targets = np.array([0], dtype=np.uint8)\n",
      "    \n",
      "    pred, err, acc = val_fn(images, probs, binary1s, binary2s, overlaps, targets)\n",
      "            \n",
      "    return pred[0][1]\n",
      "\n",
      "def create_matrix(val_fn, segmentation, patches):\n",
      "    \n",
      "    \n",
      "    no_labels = len(_metrics.Util.get_histogram(segmentation.astype(np.uint64)))\n",
      "    \n",
      "    m = np.zeros((no_labels,no_labels), dtype=np.float)\n",
      "    m[:,:] = -1 # all uninitialised\n",
      " \n",
      "#     for p in patches:\n",
      "\n",
      "#         prediction = test_patch(val_fn, p)\n",
      "#         m[p['l'], p['n']] = prediction\n",
      "#         m[p['n'], p['l']] = prediction\n",
      "\n",
      "    m = fill_matrix(m, patches)\n",
      "\n",
      "    return m\n",
      "\n",
      "def merge(image, seg, prob, m_old, sureness=1.):\n",
      "    \n",
      "    out = np.array(seg)\n",
      "    m = np.array(m_old)\n",
      "    \n",
      "    patches = []\n",
      "    \n",
      "    # find largest value in matrix\n",
      "    largest_index = np.where(m==m.max())\n",
      "    l,n = (largest_index[0][0], largest_index[1][0])\n",
      "    \n",
      "    # merge these labels\n",
      "    print 'merging', l, n\n",
      "    out[out == l] = n\n",
      "    # set matrix as merged for this entry\n",
      "    m[l,:] = -2\n",
      "    m[:,l] = -2\n",
      "    \n",
      "    # grab neighbors of l\n",
      "    old_neighbors = grab_neighbors(seg, l)\n",
      "    # get patches for l and n_l\n",
      "    for n in old_neighbors:\n",
      "        neighbors = grab_neighbors(out, n)\n",
      "        for k in neighbors:\n",
      "            \n",
      "            # check if this is still a valid combination\n",
      "            if m[n,k] < 0:\n",
      "                # nope!\n",
      "                continue\n",
      "            \n",
      "            p = grab_patch(image, prob, out, n, k)\n",
      "            if not p:\n",
      "                continue\n",
      "\n",
      "            patches += p\n",
      "        \n",
      "    print 'recomputed', len(patches), 'patches'\n",
      "\n",
      "    # now we have a bunch of new patches\n",
      "    # -> update our matrix    \n",
      "#     for p in patches:\n",
      "#         prediction = test_patch(val_fn, p)\n",
      "#         m[p['l'], p['n']] = prediction\n",
      "#         m[p['n'], p['l']] = prediction\n",
      "\n",
      "    m = fill_matrix(m, patches)\n",
      "\n",
      "    return m, out\n",
      "\n",
      "\n",
      "\n",
      "def propagate_max_overlap(rhoana, gold):\n",
      "\n",
      "    out = np.array(rhoana)\n",
      "    \n",
      "    rhoana_labels = _metrics.Util.get_histogram(rhoana.astype(np.uint64))\n",
      "    \n",
      "    for l,k in enumerate(rhoana_labels):\n",
      "        if l == 0:\n",
      "            # ignore 0 since rhoana does not have it\n",
      "            continue\n",
      "        values = gold[rhoana == l]\n",
      "        largest_label = _metrics.Util.get_largest_label(values.astype(np.uint64))\n",
      "    \n",
      "        out[rhoana == l] = largest_label # set the largest label from gold here\n",
      "    \n",
      "    return out\n",
      "        "
     ],
     "language": "python",
     "metadata": {},
     "outputs": [],
     "prompt_number": 5
    },
    {
     "cell_type": "code",
     "collapsed": false,
     "input": [
      "import time\n",
      "t0 = time.time()\n",
      "p = loop(image, prob, seg)\n",
      "print time.time()-t0"
     ],
     "language": "python",
     "metadata": {},
     "outputs": [
      {
       "output_type": "stream",
       "stream": "stdout",
       "text": [
        "929.973999023\n"
       ]
      }
     ],
     "prompt_number": 6
    },
    {
     "cell_type": "code",
     "collapsed": false,
     "input": [
      "val_fn = setup_n()"
     ],
     "language": "python",
     "metadata": {},
     "outputs": [
      {
       "output_type": "stream",
       "stream": "stdout",
       "text": [
        "Loading ['/Volumes/DATA1/split_cnn/patches_large2new/7b76867e-c76a-416f-910a-7065e93c616a/configuration.txt']\n",
        "[\"{'outputpath': '/n/regal/pfister_lab/haehn/split_cnn/patches_large2new/', 'filtersize1': 9, 'filters3': 16, 'filters2': 16, 'batchsize': 100, 'datapath': '/n/regal/pfister_lab/haehn/', 'epochs': 500, 'runmode': 'cluster', 'filtersize2': 9, 'filtersize3': 9, 'filters1': 16, 'patchpath': 'patches_large2new', 'thirdconvlayer': True, 'learning_rate': 0.0001, 'momentum': 0.9}\"]\n",
        "Loading ['/Volumes/DATA1/split_cnn/patches_large2new/7b76867e-c76a-416f-910a-7065e93c616a/network_199.p']\n"
       ]
      },
      {
       "output_type": "stream",
       "stream": "stderr",
       "text": [
        "Using gpu device 0: GeForce GTX TITAN (CNMeM is disabled)\n"
       ]
      }
     ],
     "prompt_number": 7
    },
    {
     "cell_type": "code",
     "collapsed": false,
     "input": [
      "print 'creating matrix'\n",
      "m_new = create_matrix(val_fn, seg, p)\n",
      "out = seg\n",
      "sureness = 0.\n",
      "surenesses = []\n",
      "vi_s = []\n",
      "images = []\n",
      "\n",
      "\n",
      "while m_new.max() >= sureness:\n",
      "    print 'Merging for sureness s=', m_new.max()\n",
      "    surenesses.append(m_new.max())\n",
      "    \n",
      "    m_new, out = merge(image, out, prob, m_new)\n",
      "    \n",
      "    vi = partition_comparison.variation_of_information(out.ravel(), gold_normalized.ravel())\n",
      "    vi_s.append(vi)\n",
      "    \n",
      "    images.append(np.array(out))\n",
      "    \n",
      "    print 'New VI', vi\n",
      "    print '-'*80\n",
      "    "
     ],
     "language": "python",
     "metadata": {},
     "outputs": [
      {
       "output_type": "stream",
       "stream": "stdout",
       "text": [
        "creating matrix\n",
        "merged"
       ]
      },
      {
       "output_type": "stream",
       "stream": "stdout",
       "text": [
        " 1632 patches into 786\n",
        "Merging for sureness s= 1.0\n",
        "merging 54 85\n",
        "recomputed"
       ]
      },
      {
       "output_type": "stream",
       "stream": "stdout",
       "text": [
        " 36 patches\n",
        "merged"
       ]
      },
      {
       "output_type": "stream",
       "stream": "stdout",
       "text": [
        " 36 patches into 36\n",
        "New VI"
       ]
      },
      {
       "output_type": "stream",
       "stream": "stdout",
       "text": [
        " 0.81528801633\n",
        "--------------------------------------------------------------------------------\n",
        "Merging for sureness s= 0.999999761581\n",
        "merging 70 88\n",
        "recomputed"
       ]
      },
      {
       "output_type": "stream",
       "stream": "stdout",
       "text": [
        " 68 patches\n",
        "merged"
       ]
      },
      {
       "output_type": "stream",
       "stream": "stdout",
       "text": [
        " 68 patches into 60\n",
        "New VI"
       ]
      },
      {
       "output_type": "stream",
       "stream": "stdout",
       "text": [
        " 0.81519603426\n",
        "--------------------------------------------------------------------------------\n",
        "Merging for sureness s= 0.999999642372\n",
        "merging 87 88\n",
        "recomputed"
       ]
      },
      {
       "output_type": "stream",
       "stream": "stdout",
       "text": [
        " 10 patches\n",
        "merged"
       ]
      },
      {
       "output_type": "stream",
       "stream": "stdout",
       "text": [
        " 10 patches into 9\n",
        "New VI"
       ]
      },
      {
       "output_type": "stream",
       "stream": "stdout",
       "text": [
        " 0.815767511225\n",
        "--------------------------------------------------------------------------------\n",
        "Merging for sureness s= 0.999999046326\n",
        "merging 141 142\n",
        "recomputed"
       ]
      },
      {
       "output_type": "stream",
       "stream": "stdout",
       "text": [
        " 52 patches\n",
        "merged"
       ]
      },
      {
       "output_type": "stream",
       "stream": "stdout",
       "text": [
        " 52 patches into 46\n",
        "New VI"
       ]
      },
      {
       "output_type": "stream",
       "stream": "stdout",
       "text": [
        " 0.815175540334\n",
        "--------------------------------------------------------------------------------\n",
        "Merging for sureness s= 0.999983966351\n",
        "merging 73 76\n",
        "recomputed"
       ]
      },
      {
       "output_type": "stream",
       "stream": "stdout",
       "text": [
        " 33 patches\n",
        "merged"
       ]
      },
      {
       "output_type": "stream",
       "stream": "stdout",
       "text": [
        " 33 patches into 33\n",
        "New VI"
       ]
      },
      {
       "output_type": "stream",
       "stream": "stdout",
       "text": [
        " 0.815614138232\n",
        "--------------------------------------------------------------------------------\n",
        "Merging for sureness s= 0.999959111214\n",
        "merging 77 81\n",
        "recomputed"
       ]
      },
      {
       "output_type": "stream",
       "stream": "stdout",
       "text": [
        " 4 patches\n",
        "merged 4 patches into 4\n",
        "New VI"
       ]
      },
      {
       "output_type": "stream",
       "stream": "stdout",
       "text": [
        " 0.815145179356\n",
        "--------------------------------------------------------------------------------\n",
        "Merging for sureness s= 0.999926745892\n",
        "merging 187 237\n",
        "recomputed"
       ]
      },
      {
       "output_type": "stream",
       "stream": "stdout",
       "text": [
        " 105 patches\n",
        "merged"
       ]
      },
      {
       "output_type": "stream",
       "stream": "stdout",
       "text": [
        " 105 patches into 96\n",
        "New VI"
       ]
      },
      {
       "output_type": "stream",
       "stream": "stdout",
       "text": [
        " 0.818568208134\n",
        "--------------------------------------------------------------------------------\n",
        "Merging for sureness s= 0.999913811684\n",
        "merging 220 221\n",
        "recomputed"
       ]
      },
      {
       "output_type": "stream",
       "stream": "stdout",
       "text": [
        " 52 patches\n",
        "merged"
       ]
      },
      {
       "output_type": "stream",
       "stream": "stdout",
       "text": [
        " 52 patches into 50\n",
        "New VI"
       ]
      },
      {
       "output_type": "stream",
       "stream": "stdout",
       "text": [
        " 0.817877874667\n",
        "--------------------------------------------------------------------------------\n",
        "Merging for sureness s= 0.998923838139\n",
        "merging 134 139\n",
        "recomputed"
       ]
      },
      {
       "output_type": "stream",
       "stream": "stdout",
       "text": [
        " 79 patches\n",
        "merged"
       ]
      },
      {
       "output_type": "stream",
       "stream": "stdout",
       "text": [
        " 79 patches into 76\n",
        "New VI"
       ]
      },
      {
       "output_type": "stream",
       "stream": "stdout",
       "text": [
        " 0.818343820743\n",
        "--------------------------------------------------------------------------------\n",
        "Merging for sureness s= 0.99800235033\n",
        "merging 71 79\n",
        "recomputed"
       ]
      },
      {
       "output_type": "stream",
       "stream": "stdout",
       "text": [
        " 15 patches\n",
        "merged"
       ]
      },
      {
       "output_type": "stream",
       "stream": "stdout",
       "text": [
        " 15 patches into 15\n",
        "New VI"
       ]
      },
      {
       "output_type": "stream",
       "stream": "stdout",
       "text": [
        " 0.817975528999\n",
        "--------------------------------------------------------------------------------\n",
        "Merging for sureness s= 0.997940480709\n",
        "merging 119 121\n",
        "recomputed"
       ]
      },
      {
       "output_type": "stream",
       "stream": "stdout",
       "text": [
        " 38 patches\n",
        "merged"
       ]
      },
      {
       "output_type": "stream",
       "stream": "stdout",
       "text": [
        " 38 patches into 35\n",
        "New VI"
       ]
      },
      {
       "output_type": "stream",
       "stream": "stdout",
       "text": [
        " 0.817172638335\n",
        "--------------------------------------------------------------------------------\n",
        "Merging for sureness s= 0.996682107449\n",
        "merging 264 267\n",
        "recomputed"
       ]
      },
      {
       "output_type": "stream",
       "stream": "stdout",
       "text": [
        " 27 patches\n",
        "merged"
       ]
      },
      {
       "output_type": "stream",
       "stream": "stdout",
       "text": [
        " 27 patches into 25\n",
        "New VI"
       ]
      },
      {
       "output_type": "stream",
       "stream": "stdout",
       "text": [
        " 0.817141680923\n",
        "--------------------------------------------------------------------------------\n",
        "Merging for sureness s= 0.988263255358\n",
        "merging 294 347\n",
        "recomputed"
       ]
      },
      {
       "output_type": "stream",
       "stream": "stdout",
       "text": [
        " 13 patches\n",
        "merged"
       ]
      },
      {
       "output_type": "stream",
       "stream": "stdout",
       "text": [
        " 13 patches into 12\n",
        "New VI"
       ]
      },
      {
       "output_type": "stream",
       "stream": "stdout",
       "text": [
        " 0.81681308777\n",
        "--------------------------------------------------------------------------------\n",
        "Merging for sureness s= 0.982641518116\n",
        "merging 161 170\n",
        "recomputed"
       ]
      },
      {
       "output_type": "stream",
       "stream": "stdout",
       "text": [
        " 10 patches\n",
        "merged"
       ]
      },
      {
       "output_type": "stream",
       "stream": "stdout",
       "text": [
        " 10 patches into 10\n",
        "New VI"
       ]
      },
      {
       "output_type": "stream",
       "stream": "stdout",
       "text": [
        " 0.816493651039\n",
        "--------------------------------------------------------------------------------\n",
        "Merging for sureness s= 0.977346897125\n",
        "merging 351 357\n",
        "recomputed"
       ]
      },
      {
       "output_type": "stream",
       "stream": "stdout",
       "text": [
        " 10 patches\n",
        "merged"
       ]
      },
      {
       "output_type": "stream",
       "stream": "stdout",
       "text": [
        " 10 patches into 8\n",
        "New VI"
       ]
      },
      {
       "output_type": "stream",
       "stream": "stdout",
       "text": [
        " 0.817391829805\n",
        "--------------------------------------------------------------------------------\n",
        "Merging for sureness s= 0.975975096226\n",
        "merging 137 142\n",
        "recomputed"
       ]
      },
      {
       "output_type": "stream",
       "stream": "stdout",
       "text": [
        " 49 patches\n",
        "merged"
       ]
      },
      {
       "output_type": "stream",
       "stream": "stdout",
       "text": [
        " 49 patches into 44\n",
        "New VI"
       ]
      },
      {
       "output_type": "stream",
       "stream": "stdout",
       "text": [
        " 0.817012128143\n",
        "--------------------------------------------------------------------------------\n",
        "Merging for sureness s= 0.974584281445\n",
        "merging 143 149\n",
        "recomputed"
       ]
      },
      {
       "output_type": "stream",
       "stream": "stdout",
       "text": [
        " 17 patches\n",
        "merged"
       ]
      },
      {
       "output_type": "stream",
       "stream": "stdout",
       "text": [
        " 17 patches into 15\n",
        "New VI"
       ]
      },
      {
       "output_type": "stream",
       "stream": "stdout",
       "text": [
        " 0.816950654864\n",
        "--------------------------------------------------------------------------------\n",
        "Merging for sureness s= 0.973981261253\n",
        "merging 273 280\n",
        "recomputed"
       ]
      },
      {
       "output_type": "stream",
       "stream": "stdout",
       "text": [
        " 22 patches\n",
        "merged"
       ]
      },
      {
       "output_type": "stream",
       "stream": "stdout",
       "text": [
        " 22 patches into 22\n",
        "New VI"
       ]
      },
      {
       "output_type": "stream",
       "stream": "stdout",
       "text": [
        " 0.816942053894\n",
        "--------------------------------------------------------------------------------\n",
        "Merging for sureness s= 0.973600924015\n",
        "merging 263 336\n",
        "recomputed"
       ]
      },
      {
       "output_type": "stream",
       "stream": "stdout",
       "text": [
        " 47 patches\n",
        "merged"
       ]
      },
      {
       "output_type": "stream",
       "stream": "stdout",
       "text": [
        " 47 patches into 42\n",
        "New VI"
       ]
      },
      {
       "output_type": "stream",
       "stream": "stdout",
       "text": [
        " 0.817009510979\n",
        "--------------------------------------------------------------------------------\n",
        "Merging for sureness s= 0.97334676981\n",
        "merging 233 234\n",
        "recomputed"
       ]
      },
      {
       "output_type": "stream",
       "stream": "stdout",
       "text": [
        " 3 patches\n",
        "merged 3 patches into 3\n",
        "New VI"
       ]
      },
      {
       "output_type": "stream",
       "stream": "stdout",
       "text": [
        " 0.81657175676\n",
        "--------------------------------------------------------------------------------\n",
        "Merging for sureness s= 0.96887421608\n",
        "merging 272 291\n",
        "recomputed"
       ]
      },
      {
       "output_type": "stream",
       "stream": "stdout",
       "text": [
        " 20 patches\n",
        "merged"
       ]
      },
      {
       "output_type": "stream",
       "stream": "stdout",
       "text": [
        " 20 patches into 20\n",
        "New VI"
       ]
      },
      {
       "output_type": "stream",
       "stream": "stdout",
       "text": [
        " 0.815240160584\n",
        "--------------------------------------------------------------------------------\n",
        "Merging for sureness s= 0.965111494064\n",
        "merging 186 192\n",
        "recomputed"
       ]
      },
      {
       "output_type": "stream",
       "stream": "stdout",
       "text": [
        " 9 patches\n",
        "merged 9 patches into 9\n",
        "New VI"
       ]
      },
      {
       "output_type": "stream",
       "stream": "stdout",
       "text": [
        " 0.814914270955\n",
        "--------------------------------------------------------------------------------\n",
        "Merging for sureness s= 0.952825784683\n",
        "merging 329 347\n",
        "recomputed"
       ]
      },
      {
       "output_type": "stream",
       "stream": "stdout",
       "text": [
        " 0 patches\n",
        "merged 0 patches into 0\n",
        "New VI"
       ]
      },
      {
       "output_type": "stream",
       "stream": "stdout",
       "text": [
        " 0.833123734491\n",
        "--------------------------------------------------------------------------------\n",
        "Merging for sureness s= 0.90325242281\n",
        "merging 165 173\n",
        "recomputed"
       ]
      },
      {
       "output_type": "stream",
       "stream": "stdout",
       "text": [
        " 18 patches\n",
        "merged"
       ]
      },
      {
       "output_type": "stream",
       "stream": "stdout",
       "text": [
        " 18 patches into 16\n",
        "New VI"
       ]
      },
      {
       "output_type": "stream",
       "stream": "stdout",
       "text": [
        " 0.831712211416\n",
        "--------------------------------------------------------------------------------\n",
        "Merging for sureness s= 0.84769654274\n",
        "merging 96 100\n",
        "recomputed"
       ]
      },
      {
       "output_type": "stream",
       "stream": "stdout",
       "text": [
        " 13 patches\n",
        "merged"
       ]
      },
      {
       "output_type": "stream",
       "stream": "stdout",
       "text": [
        " 13 patches into 13\n",
        "New VI"
       ]
      },
      {
       "output_type": "stream",
       "stream": "stdout",
       "text": [
        " 0.82824122851\n",
        "--------------------------------------------------------------------------------\n",
        "Merging for sureness s= 0.963019549847\n",
        "merging 72 74\n",
        "recomputed"
       ]
      },
      {
       "output_type": "stream",
       "stream": "stdout",
       "text": [
        " 21 patches\n",
        "merged"
       ]
      },
      {
       "output_type": "stream",
       "stream": "stdout",
       "text": [
        " 21 patches into 21\n",
        "New VI"
       ]
      },
      {
       "output_type": "stream",
       "stream": "stdout",
       "text": [
        " 0.829054267491\n",
        "--------------------------------------------------------------------------------\n",
        "Merging for sureness s= 0.806560634307\n",
        "merging 337 347\n",
        "recomputed"
       ]
      },
      {
       "output_type": "stream",
       "stream": "stdout",
       "text": [
        " 0 patches\n",
        "merged 0 patches into 0\n",
        "New VI"
       ]
      },
      {
       "output_type": "stream",
       "stream": "stdout",
       "text": [
        " 0.825769444289\n",
        "--------------------------------------------------------------------------------\n",
        "Merging for sureness s= 0.780585706234\n",
        "merging 66 68\n",
        "recomputed"
       ]
      },
      {
       "output_type": "stream",
       "stream": "stdout",
       "text": [
        " 50 patches\n",
        "merged"
       ]
      },
      {
       "output_type": "stream",
       "stream": "stdout",
       "text": [
        " 50 patches into 45\n",
        "New VI"
       ]
      },
      {
       "output_type": "stream",
       "stream": "stdout",
       "text": [
        " 0.826812356963\n",
        "--------------------------------------------------------------------------------\n",
        "Merging for sureness s= 0.74942830205\n",
        "merging 63 109\n",
        "recomputed"
       ]
      },
      {
       "output_type": "stream",
       "stream": "stdout",
       "text": [
        " 11 patches\n",
        "merged"
       ]
      },
      {
       "output_type": "stream",
       "stream": "stdout",
       "text": [
        " 11 patches into 11\n",
        "New VI"
       ]
      },
      {
       "output_type": "stream",
       "stream": "stdout",
       "text": [
        " 0.825640627456\n",
        "--------------------------------------------------------------------------------\n",
        "Merging for sureness s= 0.605093665421\n",
        "merging 60 61\n",
        "recomputed"
       ]
      },
      {
       "output_type": "stream",
       "stream": "stdout",
       "text": [
        " 10 patches\n",
        "merged"
       ]
      },
      {
       "output_type": "stream",
       "stream": "stdout",
       "text": [
        " 10 patches into 10\n",
        "New VI"
       ]
      },
      {
       "output_type": "stream",
       "stream": "stdout",
       "text": [
        " 0.825718248862\n",
        "--------------------------------------------------------------------------------\n",
        "Merging for sureness s= 0.578068420291\n",
        "merging 283 285\n",
        "recomputed"
       ]
      },
      {
       "output_type": "stream",
       "stream": "stdout",
       "text": [
        " 3 patches\n",
        "merged 3 patches into 3\n",
        "New VI"
       ]
      },
      {
       "output_type": "stream",
       "stream": "stdout",
       "text": [
        " 0.825312233486\n",
        "--------------------------------------------------------------------------------\n",
        "Merging for sureness s= 0.5639770329\n",
        "merging 251 252\n",
        "recomputed"
       ]
      },
      {
       "output_type": "stream",
       "stream": "stdout",
       "text": [
        " 15 patches\n",
        "merged"
       ]
      },
      {
       "output_type": "stream",
       "stream": "stdout",
       "text": [
        " 15 patches into 14\n",
        "New VI"
       ]
      },
      {
       "output_type": "stream",
       "stream": "stdout",
       "text": [
        " 0.825078125345\n",
        "--------------------------------------------------------------------------------\n",
        "Merging for sureness s= 0.563781619072\n",
        "merging 228 239\n",
        "recomputed"
       ]
      },
      {
       "output_type": "stream",
       "stream": "stdout",
       "text": [
        " 50 patches\n",
        "merged"
       ]
      },
      {
       "output_type": "stream",
       "stream": "stdout",
       "text": [
        " 50 patches into 45\n",
        "New VI"
       ]
      },
      {
       "output_type": "stream",
       "stream": "stdout",
       "text": [
        " 0.825704988763\n",
        "--------------------------------------------------------------------------------\n",
        "Merging for sureness s= 0.549956083298\n",
        "merging 69 75\n",
        "recomputed"
       ]
      },
      {
       "output_type": "stream",
       "stream": "stdout",
       "text": [
        " 9 patches\n",
        "merged"
       ]
      },
      {
       "output_type": "stream",
       "stream": "stdout",
       "text": [
        " 9 patches into 8\n",
        "New VI"
       ]
      },
      {
       "output_type": "stream",
       "stream": "stdout",
       "text": [
        " 0.825591518441\n",
        "--------------------------------------------------------------------------------\n",
        "Merging for sureness s= 0.488742232323\n",
        "merging 118 136\n",
        "recomputed"
       ]
      },
      {
       "output_type": "stream",
       "stream": "stdout",
       "text": [
        " 14 patches\n",
        "merged"
       ]
      },
      {
       "output_type": "stream",
       "stream": "stdout",
       "text": [
        " 14 patches into 14\n",
        "New VI"
       ]
      },
      {
       "output_type": "stream",
       "stream": "stdout",
       "text": [
        " 0.825436174904\n",
        "--------------------------------------------------------------------------------\n",
        "Merging for sureness s= 0.483770616353\n",
        "merging 31 48\n",
        "recomputed"
       ]
      },
      {
       "output_type": "stream",
       "stream": "stdout",
       "text": [
        " 7 patches\n",
        "merged 7 patches into 7\n",
        "New VI"
       ]
      },
      {
       "output_type": "stream",
       "stream": "stdout",
       "text": [
        " 0.826015941388\n",
        "--------------------------------------------------------------------------------\n",
        "Merging for sureness s= 0.461118163541\n",
        "merging 178 183\n",
        "recomputed"
       ]
      },
      {
       "output_type": "stream",
       "stream": "stdout",
       "text": [
        " 32 patches\n",
        "merged"
       ]
      },
      {
       "output_type": "stream",
       "stream": "stdout",
       "text": [
        " 32 patches into 31\n",
        "New VI"
       ]
      },
      {
       "output_type": "stream",
       "stream": "stdout",
       "text": [
        " 0.825928944049\n",
        "--------------------------------------------------------------------------------\n",
        "Merging for sureness s= 0.407961517572\n",
        "merging 240 270\n",
        "recomputed"
       ]
      },
      {
       "output_type": "stream",
       "stream": "stdout",
       "text": [
        " 18 patches\n",
        "merged"
       ]
      },
      {
       "output_type": "stream",
       "stream": "stdout",
       "text": [
        " 18 patches into 18\n",
        "New VI"
       ]
      },
      {
       "output_type": "stream",
       "stream": "stdout",
       "text": [
        " 0.831709775143\n",
        "--------------------------------------------------------------------------------\n",
        "Merging for sureness s= 0.422244668007\n",
        "merging 253 268\n",
        "recomputed"
       ]
      },
      {
       "output_type": "stream",
       "stream": "stdout",
       "text": [
        " 23 patches\n",
        "merged"
       ]
      },
      {
       "output_type": "stream",
       "stream": "stdout",
       "text": [
        " 23 patches into 21\n",
        "New VI"
       ]
      },
      {
       "output_type": "stream",
       "stream": "stdout",
       "text": [
        " 0.832062249718\n",
        "--------------------------------------------------------------------------------\n",
        "Merging for sureness s= 0.403277017176\n",
        "merging 108 113\n",
        "recomputed"
       ]
      },
      {
       "output_type": "stream",
       "stream": "stdout",
       "text": [
        " 47 patches\n",
        "merged"
       ]
      },
      {
       "output_type": "stream",
       "stream": "stdout",
       "text": [
        " 47 patches into 43\n",
        "New VI"
       ]
      },
      {
       "output_type": "stream",
       "stream": "stdout",
       "text": [
        " 0.831860874826\n",
        "--------------------------------------------------------------------------------\n",
        "Merging for sureness s= 0.384062089026\n",
        "merging 296 300\n",
        "recomputed"
       ]
      },
      {
       "output_type": "stream",
       "stream": "stdout",
       "text": [
        " 24 patches\n",
        "merged"
       ]
      },
      {
       "output_type": "stream",
       "stream": "stdout",
       "text": [
        " 24 patches into 22\n",
        "New VI"
       ]
      },
      {
       "output_type": "stream",
       "stream": "stdout",
       "text": [
        " 0.832227702775\n",
        "--------------------------------------------------------------------------------\n",
        "Merging for sureness s= 0.370525121689\n",
        "merging 120 133\n",
        "recomputed"
       ]
      },
      {
       "output_type": "stream",
       "stream": "stdout",
       "text": [
        " 44 patches\n",
        "merged"
       ]
      },
      {
       "output_type": "stream",
       "stream": "stdout",
       "text": [
        " 44 patches into 40\n",
        "New VI"
       ]
      },
      {
       "output_type": "stream",
       "stream": "stdout",
       "text": [
        " 0.831111189178\n",
        "--------------------------------------------------------------------------------\n",
        "Merging for sureness s= 0.361693009734\n",
        "merging 330 341\n",
        "recomputed"
       ]
      },
      {
       "output_type": "stream",
       "stream": "stdout",
       "text": [
        " 5 patches\n",
        "merged 5 patches into 5\n",
        "New VI"
       ]
      },
      {
       "output_type": "stream",
       "stream": "stdout",
       "text": [
        " 0.827954832405\n",
        "--------------------------------------------------------------------------------\n",
        "Merging for sureness s= 0.694349348545\n",
        "merging 341 357\n",
        "recomputed"
       ]
      },
      {
       "output_type": "stream",
       "stream": "stdout",
       "text": [
        " 5 patches\n",
        "merged 5 patches into 5\n",
        "New VI"
       ]
      },
      {
       "output_type": "stream",
       "stream": "stdout",
       "text": [
        " 0.838438207718\n",
        "--------------------------------------------------------------------------------\n",
        "Merging for sureness s= 0.35680398345\n",
        "merging 242 243\n",
        "recomputed"
       ]
      },
      {
       "output_type": "stream",
       "stream": "stdout",
       "text": [
        " 16 patches\n",
        "merged"
       ]
      },
      {
       "output_type": "stream",
       "stream": "stdout",
       "text": [
        " 16 patches into 14\n",
        "New VI"
       ]
      },
      {
       "output_type": "stream",
       "stream": "stdout",
       "text": [
        " 0.837674335253\n",
        "--------------------------------------------------------------------------------\n",
        "Merging for sureness s= 0.31758441776\n",
        "merging 344 349\n",
        "recomputed"
       ]
      },
      {
       "output_type": "stream",
       "stream": "stdout",
       "text": [
        " 16 patches\n",
        "merged"
       ]
      },
      {
       "output_type": "stream",
       "stream": "stdout",
       "text": [
        " 16 patches into 15\n",
        "New VI"
       ]
      },
      {
       "output_type": "stream",
       "stream": "stdout",
       "text": [
        " 0.837147786561\n",
        "--------------------------------------------------------------------------------\n",
        "Merging for sureness s= 0.313646048307\n",
        "merging 203 208\n",
        "recomputed"
       ]
      },
      {
       "output_type": "stream",
       "stream": "stdout",
       "text": [
        " 24 patches\n",
        "merged"
       ]
      },
      {
       "output_type": "stream",
       "stream": "stdout",
       "text": [
        " 24 patches into 23\n",
        "New VI"
       ]
      },
      {
       "output_type": "stream",
       "stream": "stdout",
       "text": [
        " 0.836778736037\n",
        "--------------------------------------------------------------------------------\n",
        "Merging for sureness s= 0.295733362436\n",
        "merging 196 198\n",
        "recomputed"
       ]
      },
      {
       "output_type": "stream",
       "stream": "stdout",
       "text": [
        " 47 patches\n",
        "merged"
       ]
      },
      {
       "output_type": "stream",
       "stream": "stdout",
       "text": [
        " 47 patches into 44\n",
        "New VI"
       ]
      },
      {
       "output_type": "stream",
       "stream": "stdout",
       "text": [
        " 0.836774986608\n",
        "--------------------------------------------------------------------------------\n",
        "Merging for sureness s= 0.291760414839\n",
        "merging 101 102\n",
        "recomputed"
       ]
      },
      {
       "output_type": "stream",
       "stream": "stdout",
       "text": [
        " 4 patches\n",
        "merged 4 patches into 4\n",
        "New VI"
       ]
      },
      {
       "output_type": "stream",
       "stream": "stdout",
       "text": [
        " 0.844190223024\n",
        "--------------------------------------------------------------------------------\n",
        "Merging for sureness s= 0.271357297897\n",
        "merging 257 265\n",
        "recomputed"
       ]
      },
      {
       "output_type": "stream",
       "stream": "stdout",
       "text": [
        " 7 patches\n",
        "merged 7 patches into 7\n",
        "New VI"
       ]
      },
      {
       "output_type": "stream",
       "stream": "stdout",
       "text": [
        " 0.844631582893\n",
        "--------------------------------------------------------------------------------\n",
        "Merging for sureness s= 0.26800814271\n",
        "merging 17 117\n",
        "recomputed"
       ]
      },
      {
       "output_type": "stream",
       "stream": "stdout",
       "text": [
        " 68 patches\n",
        "merged"
       ]
      },
      {
       "output_type": "stream",
       "stream": "stdout",
       "text": [
        " 68 patches into 66\n",
        "New VI"
       ]
      },
      {
       "output_type": "stream",
       "stream": "stdout",
       "text": [
        " 0.855914915294\n",
        "--------------------------------------------------------------------------------\n",
        "Merging for sureness s= 0.2942456007\n",
        "merging 104 105\n",
        "recomputed"
       ]
      },
      {
       "output_type": "stream",
       "stream": "stdout",
       "text": [
        " 26 patches\n",
        "merged"
       ]
      },
      {
       "output_type": "stream",
       "stream": "stdout",
       "text": [
        " 26 patches into 24\n",
        "New VI"
       ]
      },
      {
       "output_type": "stream",
       "stream": "stdout",
       "text": [
        " 0.856321744966\n",
        "--------------------------------------------------------------------------------\n",
        "Merging for sureness s= 0.232076086104\n",
        "merging 323 332\n",
        "recomputed"
       ]
      },
      {
       "output_type": "stream",
       "stream": "stdout",
       "text": [
        " 12 patches\n",
        "merged"
       ]
      },
      {
       "output_type": "stream",
       "stream": "stdout",
       "text": [
        " 12 patches into 12\n",
        "New VI"
       ]
      },
      {
       "output_type": "stream",
       "stream": "stdout",
       "text": [
        " 0.857186958757\n",
        "--------------------------------------------------------------------------------\n",
        "Merging for sureness s= 0.226169856265\n",
        "merging 354 358\n",
        "recomputed"
       ]
      },
      {
       "output_type": "stream",
       "stream": "stdout",
       "text": [
        " 5 patches\n",
        "merged 5 patches into 5\n",
        "New VI"
       ]
      },
      {
       "output_type": "stream",
       "stream": "stdout",
       "text": [
        " 0.857382191316\n",
        "--------------------------------------------------------------------------------\n",
        "Merging for sureness s= 0.208647489548\n",
        "merging 156 163\n",
        "recomputed"
       ]
      },
      {
       "output_type": "stream",
       "stream": "stdout",
       "text": [
        " 16 patches\n",
        "merged"
       ]
      },
      {
       "output_type": "stream",
       "stream": "stdout",
       "text": [
        " 16 patches into 16\n",
        "New VI"
       ]
      },
      {
       "output_type": "stream",
       "stream": "stdout",
       "text": [
        " 0.857327399346\n",
        "--------------------------------------------------------------------------------\n",
        "Merging for sureness s= 0.197206482291\n",
        "merging 172 179\n",
        "recomputed"
       ]
      },
      {
       "output_type": "stream",
       "stream": "stdout",
       "text": [
        " 11 patches\n",
        "merged"
       ]
      },
      {
       "output_type": "stream",
       "stream": "stdout",
       "text": [
        " 11 patches into 11\n",
        "New VI"
       ]
      },
      {
       "output_type": "stream",
       "stream": "stdout",
       "text": [
        " 0.857013612178\n",
        "--------------------------------------------------------------------------------\n",
        "Merging for sureness s= 0.192473996431\n",
        "merging 231 235\n",
        "recomputed"
       ]
      },
      {
       "output_type": "stream",
       "stream": "stdout",
       "text": [
        " 9 patches\n",
        "merged"
       ]
      },
      {
       "output_type": "stream",
       "stream": "stdout",
       "text": [
        " 9 patches into 9\n",
        "New VI"
       ]
      },
      {
       "output_type": "stream",
       "stream": "stdout",
       "text": [
        " 0.856853500402\n",
        "--------------------------------------------------------------------------------\n",
        "Merging for sureness s= 0.182031907141\n",
        "merging 319 325\n",
        "recomputed"
       ]
      },
      {
       "output_type": "stream",
       "stream": "stdout",
       "text": [
        " 23 patches\n",
        "merged"
       ]
      },
      {
       "output_type": "stream",
       "stream": "stdout",
       "text": [
        " 23 patches into 23\n",
        "New VI"
       ]
      },
      {
       "output_type": "stream",
       "stream": "stdout",
       "text": [
        " 0.85633898215\n",
        "--------------------------------------------------------------------------------\n",
        "Merging for sureness s= 0.166425228119\n",
        "merging 218 222\n",
        "recomputed"
       ]
      },
      {
       "output_type": "stream",
       "stream": "stdout",
       "text": [
        " 18 patches\n",
        "merged"
       ]
      },
      {
       "output_type": "stream",
       "stream": "stdout",
       "text": [
        " 18 patches into 17\n",
        "New VI"
       ]
      },
      {
       "output_type": "stream",
       "stream": "stdout",
       "text": [
        " 0.856836337761\n",
        "--------------------------------------------------------------------------------\n",
        "Merging for sureness s= 0.160048156977\n",
        "merging 122 144\n",
        "recomputed"
       ]
      },
      {
       "output_type": "stream",
       "stream": "stdout",
       "text": [
        " 21 patches\n",
        "merged"
       ]
      },
      {
       "output_type": "stream",
       "stream": "stdout",
       "text": [
        " 21 patches into 21\n",
        "New VI"
       ]
      },
      {
       "output_type": "stream",
       "stream": "stdout",
       "text": [
        " 0.860043645212\n",
        "--------------------------------------------------------------------------------\n",
        "Merging for sureness s= 0.157263234258\n",
        "merging 18 40\n",
        "recomputed"
       ]
      },
      {
       "output_type": "stream",
       "stream": "stdout",
       "text": [
        " 14 patches\n",
        "merged"
       ]
      },
      {
       "output_type": "stream",
       "stream": "stdout",
       "text": [
        " 14 patches into 14\n",
        "New VI"
       ]
      },
      {
       "output_type": "stream",
       "stream": "stdout",
       "text": [
        " 0.858195457523\n",
        "--------------------------------------------------------------------------------\n",
        "Merging for sureness s= 0.999394893646\n",
        "merging 39 40\n",
        "recomputed"
       ]
      },
      {
       "output_type": "stream",
       "stream": "stdout",
       "text": [
        " 10 patches\n",
        "merged"
       ]
      },
      {
       "output_type": "stream",
       "stream": "stdout",
       "text": [
        " 10 patches into 10\n",
        "New VI"
       ]
      },
      {
       "output_type": "stream",
       "stream": "stdout",
       "text": [
        " 0.855747285693\n",
        "--------------------------------------------------------------------------------\n",
        "Merging for sureness s= 0.14661487937\n",
        "merging 229 230\n",
        "recomputed"
       ]
      },
      {
       "output_type": "stream",
       "stream": "stdout",
       "text": [
        " 5 patches\n",
        "merged 5 patches into 5\n",
        "New VI"
       ]
      },
      {
       "output_type": "stream",
       "stream": "stdout",
       "text": [
        " 0.855300684883\n",
        "--------------------------------------------------------------------------------\n",
        "Merging for sureness s= 0.140384465456\n",
        "merging 52 67\n",
        "recomputed"
       ]
      },
      {
       "output_type": "stream",
       "stream": "stdout",
       "text": [
        " 15 patches\n",
        "merged"
       ]
      },
      {
       "output_type": "stream",
       "stream": "stdout",
       "text": [
        " 15 patches into 15\n",
        "New VI"
       ]
      },
      {
       "output_type": "stream",
       "stream": "stdout",
       "text": [
        " 0.854598171263\n",
        "--------------------------------------------------------------------------------\n",
        "Merging for sureness s= 0.129131119698\n",
        "merging 159 166\n",
        "recomputed"
       ]
      },
      {
       "output_type": "stream",
       "stream": "stdout",
       "text": [
        " 12 patches\n",
        "merged"
       ]
      },
      {
       "output_type": "stream",
       "stream": "stdout",
       "text": [
        " 12 patches into 12\n",
        "New VI"
       ]
      },
      {
       "output_type": "stream",
       "stream": "stdout",
       "text": [
        " 0.854615714688\n",
        "--------------------------------------------------------------------------------\n",
        "Merging for sureness s= 0.127144299448\n",
        "merging 308 316\n",
        "recomputed"
       ]
      },
      {
       "output_type": "stream",
       "stream": "stdout",
       "text": [
        " 20 patches\n",
        "merged"
       ]
      },
      {
       "output_type": "stream",
       "stream": "stdout",
       "text": [
        " 20 patches into 18\n",
        "New VI"
       ]
      },
      {
       "output_type": "stream",
       "stream": "stdout",
       "text": [
        " 0.854111836391\n",
        "--------------------------------------------------------------------------------\n",
        "Merging for sureness s= 0.119198471308\n",
        "merging 127 128\n",
        "recomputed"
       ]
      },
      {
       "output_type": "stream",
       "stream": "stdout",
       "text": [
        " 9 patches\n",
        "merged"
       ]
      },
      {
       "output_type": "stream",
       "stream": "stdout",
       "text": [
        " 9 patches into 9\n",
        "New VI"
       ]
      },
      {
       "output_type": "stream",
       "stream": "stdout",
       "text": [
        " 0.85414097936\n",
        "--------------------------------------------------------------------------------\n",
        "Merging for sureness s= 0.117194116116\n",
        "merging 291 301\n",
        "recomputed"
       ]
      },
      {
       "output_type": "stream",
       "stream": "stdout",
       "text": [
        " 15 patches\n",
        "merged"
       ]
      },
      {
       "output_type": "stream",
       "stream": "stdout",
       "text": [
        " 15 patches into 15\n",
        "New VI"
       ]
      },
      {
       "output_type": "stream",
       "stream": "stdout",
       "text": [
        " 0.852466824898\n",
        "--------------------------------------------------------------------------------\n",
        "Merging for sureness s= 0.10244295001\n",
        "merging 100 126\n",
        "recomputed"
       ]
      },
      {
       "output_type": "stream",
       "stream": "stdout",
       "text": [
        " 11 patches\n",
        "merged"
       ]
      },
      {
       "output_type": "stream",
       "stream": "stdout",
       "text": [
        " 11 patches into 11\n",
        "New VI"
       ]
      },
      {
       "output_type": "stream",
       "stream": "stdout",
       "text": [
        " 0.856816097368\n",
        "--------------------------------------------------------------------------------\n",
        "Merging for sureness s= 0.0739813670516\n",
        "merging 204 210\n",
        "recomputed"
       ]
      },
      {
       "output_type": "stream",
       "stream": "stdout",
       "text": [
        " 11 patches\n",
        "merged"
       ]
      },
      {
       "output_type": "stream",
       "stream": "stdout",
       "text": [
        " 11 patches into 11\n",
        "New VI"
       ]
      },
      {
       "output_type": "stream",
       "stream": "stdout",
       "text": [
        " 0.856236119091\n",
        "--------------------------------------------------------------------------------\n",
        "Merging for sureness s= 0.0688554210142\n",
        "merging 44 88\n",
        "recomputed"
       ]
      },
      {
       "output_type": "stream",
       "stream": "stdout",
       "text": [
        " 13 patches\n",
        "merged"
       ]
      },
      {
       "output_type": "stream",
       "stream": "stdout",
       "text": [
        " 13 patches into 13\n",
        "New VI"
       ]
      },
      {
       "output_type": "stream",
       "stream": "stdout",
       "text": [
        " 0.868159403518\n",
        "--------------------------------------------------------------------------------\n",
        "Merging for sureness s= 0.0594406896271\n",
        "merging 175 182\n",
        "recomputed"
       ]
      },
      {
       "output_type": "stream",
       "stream": "stdout",
       "text": [
        " 12 patches\n",
        "merged"
       ]
      },
      {
       "output_type": "stream",
       "stream": "stdout",
       "text": [
        " 12 patches into 11\n",
        "New VI"
       ]
      },
      {
       "output_type": "stream",
       "stream": "stdout",
       "text": [
        " 0.86853518208\n",
        "--------------------------------------------------------------------------------\n",
        "Merging for sureness s= 0.31581556797\n",
        "merging 157 182\n",
        "recomputed"
       ]
      },
      {
       "output_type": "stream",
       "stream": "stdout",
       "text": [
        " 20 patches\n",
        "merged"
       ]
      },
      {
       "output_type": "stream",
       "stream": "stdout",
       "text": [
        " 20 patches into 18\n",
        "New VI"
       ]
      },
      {
       "output_type": "stream",
       "stream": "stdout",
       "text": [
        " 0.870644486415\n",
        "--------------------------------------------------------------------------------\n",
        "Merging for sureness s= 0.0581860430539\n",
        "merging 168 169\n",
        "recomputed"
       ]
      },
      {
       "output_type": "stream",
       "stream": "stdout",
       "text": [
        " 16 patches\n",
        "merged"
       ]
      },
      {
       "output_type": "stream",
       "stream": "stdout",
       "text": [
        " 16 patches into 14\n",
        "New VI"
       ]
      },
      {
       "output_type": "stream",
       "stream": "stdout",
       "text": [
        " 0.87016398648\n",
        "--------------------------------------------------------------------------------\n",
        "Merging for sureness s= 0.0465264879167\n",
        "merging 216 244\n",
        "recomputed"
       ]
      },
      {
       "output_type": "stream",
       "stream": "stdout",
       "text": [
        " 19 patches\n",
        "merged"
       ]
      },
      {
       "output_type": "stream",
       "stream": "stdout",
       "text": [
        " 19 patches into 19\n",
        "New VI"
       ]
      },
      {
       "output_type": "stream",
       "stream": "stdout",
       "text": [
        " 0.868760188991\n",
        "--------------------------------------------------------------------------------\n",
        "Merging for sureness s= 0.169246047735\n",
        "merging 219 244\n",
        "recomputed"
       ]
      },
      {
       "output_type": "stream",
       "stream": "stdout",
       "text": [
        " 19 patches\n",
        "merged"
       ]
      },
      {
       "output_type": "stream",
       "stream": "stdout",
       "text": [
        " 19 patches into 18\n",
        "New VI"
       ]
      },
      {
       "output_type": "stream",
       "stream": "stdout",
       "text": [
        " 0.873494372503\n",
        "--------------------------------------------------------------------------------\n",
        "Merging for sureness s= 0.0409786142409\n",
        "merging 352 357\n",
        "recomputed"
       ]
      },
      {
       "output_type": "stream",
       "stream": "stdout",
       "text": [
        " 9 patches\n",
        "merged"
       ]
      },
      {
       "output_type": "stream",
       "stream": "stdout",
       "text": [
        " 9 patches into 9\n",
        "New VI"
       ]
      },
      {
       "output_type": "stream",
       "stream": "stdout",
       "text": [
        " 0.888030431922\n",
        "--------------------------------------------------------------------------------\n",
        "Merging for sureness s= 0.0365113746375\n",
        "merging 275 282\n",
        "recomputed"
       ]
      },
      {
       "output_type": "stream",
       "stream": "stdout",
       "text": [
        " 7 patches\n",
        "merged 7 patches into 7\n",
        "New VI"
       ]
      },
      {
       "output_type": "stream",
       "stream": "stdout",
       "text": [
        " 0.887718381419\n",
        "--------------------------------------------------------------------------------\n",
        "Merging for sureness s= 0.0349972620606\n",
        "merging 177 180\n",
        "recomputed"
       ]
      },
      {
       "output_type": "stream",
       "stream": "stdout",
       "text": [
        " 7 patches\n",
        "merged 7 patches into 7\n",
        "New VI"
       ]
      },
      {
       "output_type": "stream",
       "stream": "stdout",
       "text": [
        " 0.888754650855\n",
        "--------------------------------------------------------------------------------\n",
        "Merging for sureness s= 0.0332790315151\n",
        "merging 236 255\n",
        "recomputed"
       ]
      },
      {
       "output_type": "stream",
       "stream": "stdout",
       "text": [
        " 14 patches\n",
        "merged"
       ]
      },
      {
       "output_type": "stream",
       "stream": "stdout",
       "text": [
        " 14 patches into 14\n",
        "New VI"
       ]
      },
      {
       "output_type": "stream",
       "stream": "stdout",
       "text": [
        " 0.88676639442\n",
        "--------------------------------------------------------------------------------\n",
        "Merging for sureness s= 0.976275146008\n",
        "merging 255 259\n",
        "recomputed"
       ]
      },
      {
       "output_type": "stream",
       "stream": "stdout",
       "text": [
        " 12 patches\n",
        "merged"
       ]
      },
      {
       "output_type": "stream",
       "stream": "stdout",
       "text": [
        " 12 patches into 12\n",
        "New VI"
       ]
      },
      {
       "output_type": "stream",
       "stream": "stdout",
       "text": [
        " 0.886740584727\n",
        "--------------------------------------------------------------------------------\n",
        "Merging for sureness s= 0.0305090323091\n",
        "merging 155 160\n",
        "recomputed"
       ]
      },
      {
       "output_type": "stream",
       "stream": "stdout",
       "text": [
        " 4 patches\n",
        "merged 4 patches into 4\n",
        "New VI"
       ]
      },
      {
       "output_type": "stream",
       "stream": "stdout",
       "text": [
        " 0.886023316257\n",
        "--------------------------------------------------------------------------------\n",
        "Merging for sureness s= 0.0287383496761\n",
        "merging 29 36\n",
        "recomputed"
       ]
      },
      {
       "output_type": "stream",
       "stream": "stdout",
       "text": [
        " 11 patches\n",
        "merged"
       ]
      },
      {
       "output_type": "stream",
       "stream": "stdout",
       "text": [
        " 11 patches into 11\n",
        "New VI"
       ]
      },
      {
       "output_type": "stream",
       "stream": "stdout",
       "text": [
        " 0.888874944131\n",
        "--------------------------------------------------------------------------------\n",
        "Merging for sureness s= 0.0260514989495\n",
        "merging 245 249\n",
        "recomputed"
       ]
      },
      {
       "output_type": "stream",
       "stream": "stdout",
       "text": [
        " 14 patches\n",
        "merged"
       ]
      },
      {
       "output_type": "stream",
       "stream": "stdout",
       "text": [
        " 14 patches into 12\n",
        "New VI"
       ]
      },
      {
       "output_type": "stream",
       "stream": "stdout",
       "text": [
        " 0.888203826773\n",
        "--------------------------------------------------------------------------------\n",
        "Merging for sureness s= 0.0241805873811\n",
        "merging 94 103\n",
        "recomputed"
       ]
      },
      {
       "output_type": "stream",
       "stream": "stdout",
       "text": [
        " 8 patches\n",
        "merged 8 patches into 8\n",
        "New VI"
       ]
      },
      {
       "output_type": "stream",
       "stream": "stdout",
       "text": [
        " 0.890446868356\n",
        "--------------------------------------------------------------------------------\n",
        "Merging for sureness s= 0.0228526759893\n",
        "merging 183 191\n",
        "recomputed"
       ]
      },
      {
       "output_type": "stream",
       "stream": "stdout",
       "text": [
        " 19 patches\n",
        "merged"
       ]
      },
      {
       "output_type": "stream",
       "stream": "stdout",
       "text": [
        " 19 patches into 18\n",
        "New VI"
       ]
      },
      {
       "output_type": "stream",
       "stream": "stdout",
       "text": [
        " 0.890496595258\n",
        "--------------------------------------------------------------------------------\n",
        "Merging for sureness s= 0.52715086937\n",
        "merging 182 191\n",
        "recomputed"
       ]
      },
      {
       "output_type": "stream",
       "stream": "stdout",
       "text": [
        " 17 patches\n",
        "merged"
       ]
      },
      {
       "output_type": "stream",
       "stream": "stdout",
       "text": [
        " 17 patches into 17\n",
        "New VI"
       ]
      },
      {
       "output_type": "stream",
       "stream": "stdout",
       "text": [
        " 0.890985440239\n",
        "--------------------------------------------------------------------------------\n",
        "Merging for sureness s= 0.0208926200867\n",
        "merging 224 234\n",
        "recomputed"
       ]
      },
      {
       "output_type": "stream",
       "stream": "stdout",
       "text": [
        " 4 patches\n",
        "merged 4 patches into 4\n",
        "New VI"
       ]
      },
      {
       "output_type": "stream",
       "stream": "stdout",
       "text": [
        " 0.889636984774\n",
        "--------------------------------------------------------------------------------\n",
        "Merging for sureness s= 0.688579678535\n",
        "merging 234 239\n",
        "recomputed"
       ]
      },
      {
       "output_type": "stream",
       "stream": "stdout",
       "text": [
        " 3 patches\n",
        "merged 3 patches into 3\n",
        "New VI"
       ]
      },
      {
       "output_type": "stream",
       "stream": "stdout",
       "text": [
        " 0.886935399229\n",
        "--------------------------------------------------------------------------------\n",
        "Merging for sureness s= 0.0197184369899\n",
        "merging 317 322\n",
        "recomputed"
       ]
      },
      {
       "output_type": "stream",
       "stream": "stdout",
       "text": [
        " 12 patches\n",
        "merged"
       ]
      },
      {
       "output_type": "stream",
       "stream": "stdout",
       "text": [
        " 12 patches into 12\n",
        "New VI"
       ]
      },
      {
       "output_type": "stream",
       "stream": "stdout",
       "text": [
        " 0.886034962113\n",
        "--------------------------------------------------------------------------------\n",
        "Merging for sureness s= 0.0185362901539\n",
        "merging 102 126\n",
        "recomputed"
       ]
      },
      {
       "output_type": "stream",
       "stream": "stdout",
       "text": [
        " 7 patches\n",
        "merged 7 patches into 7\n",
        "New VI"
       ]
      },
      {
       "output_type": "stream",
       "stream": "stdout",
       "text": [
        " 0.902785955994\n",
        "--------------------------------------------------------------------------------\n",
        "Merging for sureness s= 0.0185033474118\n",
        "merging 151 154\n",
        "recomputed"
       ]
      },
      {
       "output_type": "stream",
       "stream": "stdout",
       "text": [
        " 3 patches\n",
        "merged 3 patches into 3\n",
        "New VI"
       ]
      },
      {
       "output_type": "stream",
       "stream": "stdout",
       "text": [
        " 0.903282573432\n",
        "--------------------------------------------------------------------------------\n",
        "Merging for sureness s= 0.01441119425\n",
        "merging 284 292\n",
        "recomputed"
       ]
      },
      {
       "output_type": "stream",
       "stream": "stdout",
       "text": [
        " 14 patches\n",
        "merged"
       ]
      },
      {
       "output_type": "stream",
       "stream": "stdout",
       "text": [
        " 14 patches into 14\n",
        "New VI"
       ]
      },
      {
       "output_type": "stream",
       "stream": "stdout",
       "text": [
        " 0.90384445023\n",
        "--------------------------------------------------------------------------------\n",
        "Merging for sureness s= 0.0137006593868\n",
        "merging 274 280\n",
        "recomputed"
       ]
      },
      {
       "output_type": "stream",
       "stream": "stdout",
       "text": [
        " 18 patches\n",
        "merged"
       ]
      },
      {
       "output_type": "stream",
       "stream": "stdout",
       "text": [
        " 18 patches into 18\n",
        "New VI"
       ]
      },
      {
       "output_type": "stream",
       "stream": "stdout",
       "text": [
        " 0.905204259556\n",
        "--------------------------------------------------------------------------------\n",
        "Merging for sureness s= 0.0136409932747\n",
        "merging 132 138\n",
        "recomputed"
       ]
      },
      {
       "output_type": "stream",
       "stream": "stdout",
       "text": [
        " 5 patches\n",
        "merged 5 patches into 5\n",
        "New VI"
       ]
      },
      {
       "output_type": "stream",
       "stream": "stdout",
       "text": [
        " 0.905999781391\n",
        "--------------------------------------------------------------------------------\n",
        "Merging for sureness s= 0.0119612226263\n",
        "merging 210 221\n",
        "recomputed"
       ]
      },
      {
       "output_type": "stream",
       "stream": "stdout",
       "text": [
        " 7 patches\n",
        "merged 7 patches into 7\n",
        "New VI"
       ]
      },
      {
       "output_type": "stream",
       "stream": "stdout",
       "text": [
        " 0.90328578653\n",
        "--------------------------------------------------------------------------------\n",
        "Merging for sureness s= 0.0104854591191\n",
        "merging 243 260\n",
        "recomputed"
       ]
      },
      {
       "output_type": "stream",
       "stream": "stdout",
       "text": [
        " 14 patches\n",
        "merged"
       ]
      },
      {
       "output_type": "stream",
       "stream": "stdout",
       "text": [
        " 14 patches into 13\n",
        "New VI"
       ]
      },
      {
       "output_type": "stream",
       "stream": "stdout",
       "text": [
        " 0.903962792037\n",
        "--------------------------------------------------------------------------------\n",
        "Merging for sureness s= 0.0103799952194\n",
        "merging 47 59\n",
        "recomputed"
       ]
      },
      {
       "output_type": "stream",
       "stream": "stdout",
       "text": [
        " 4 patches\n",
        "merged 4 patches into 4\n",
        "New VI"
       ]
      },
      {
       "output_type": "stream",
       "stream": "stdout",
       "text": [
        " 0.904380140342\n",
        "--------------------------------------------------------------------------------\n",
        "Merging for sureness s= 0.00915211066604\n",
        "merging 174 181\n",
        "recomputed"
       ]
      },
      {
       "output_type": "stream",
       "stream": "stdout",
       "text": [
        " 9 patches\n",
        "merged 9 patches into 9\n",
        "New VI"
       ]
      },
      {
       "output_type": "stream",
       "stream": "stdout",
       "text": [
        " 0.903057710939\n",
        "--------------------------------------------------------------------------------\n",
        "Merging for sureness s= 0.00817970838398\n",
        "merging 139 149\n",
        "recomputed"
       ]
      },
      {
       "output_type": "stream",
       "stream": "stdout",
       "text": [
        " 24 patches\n",
        "merged"
       ]
      },
      {
       "output_type": "stream",
       "stream": "stdout",
       "text": [
        " 24 patches into 21\n",
        "New VI"
       ]
      },
      {
       "output_type": "stream",
       "stream": "stdout",
       "text": [
        " 0.906934505231\n",
        "--------------------------------------------------------------------------------\n",
        "Merging for sureness s= 0.0729494988918\n",
        "merging 130 149\n",
        "recomputed"
       ]
      },
      {
       "output_type": "stream",
       "stream": "stdout",
       "text": [
        " 11 patches\n",
        "merged"
       ]
      },
      {
       "output_type": "stream",
       "stream": "stdout",
       "text": [
        " 11 patches into 9\n",
        "New VI"
       ]
      },
      {
       "output_type": "stream",
       "stream": "stdout",
       "text": [
        " 0.909993602977\n",
        "--------------------------------------------------------------------------------\n",
        "Merging for sureness s= 0.00756205059588\n",
        "merging 106 111\n",
        "recomputed"
       ]
      },
      {
       "output_type": "stream",
       "stream": "stdout",
       "text": [
        " 7 patches\n",
        "merged 7 patches into 7\n",
        "New VI"
       ]
      },
      {
       "output_type": "stream",
       "stream": "stdout",
       "text": [
        " 0.90905689526\n",
        "--------------------------------------------------------------------------------\n",
        "Merging for sureness s= 0.00718811666593\n",
        "merging 86 99\n",
        "recomputed"
       ]
      },
      {
       "output_type": "stream",
       "stream": "stdout",
       "text": [
        " 6 patches\n",
        "merged 6 patches into 6\n",
        "New VI"
       ]
      },
      {
       "output_type": "stream",
       "stream": "stdout",
       "text": [
        " 0.909984851061\n",
        "--------------------------------------------------------------------------------\n",
        "Merging for sureness s= 0.00640050601214\n",
        "merging 116 121\n",
        "recomputed"
       ]
      },
      {
       "output_type": "stream",
       "stream": "stdout",
       "text": [
        " 2 patches\n",
        "merged 2 patches into 2\n",
        "New VI"
       ]
      },
      {
       "output_type": "stream",
       "stream": "stdout",
       "text": [
        " 0.909751464941\n",
        "--------------------------------------------------------------------------------\n",
        "Merging for sureness s= 0.00618383986875\n",
        "merging 131 133\n",
        "recomputed"
       ]
      },
      {
       "output_type": "stream",
       "stream": "stdout",
       "text": [
        " 3 patches\n",
        "merged 3 patches into 3\n",
        "New VI"
       ]
      },
      {
       "output_type": "stream",
       "stream": "stdout",
       "text": [
        " 0.907580790781\n",
        "--------------------------------------------------------------------------------\n",
        "Merging for sureness s= 0.00613693716086\n",
        "merging 125 149\n",
        "recomputed"
       ]
      },
      {
       "output_type": "stream",
       "stream": "stdout",
       "text": [
        " 22 patches\n",
        "merged"
       ]
      },
      {
       "output_type": "stream",
       "stream": "stdout",
       "text": [
        " 22 patches into 22\n",
        "New VI"
       ]
      },
      {
       "output_type": "stream",
       "stream": "stdout",
       "text": [
        " 0.918932103473\n",
        "--------------------------------------------------------------------------------\n",
        "Merging for sureness s= 0.00610939832404\n",
        "merging 214 222\n",
        "recomputed"
       ]
      },
      {
       "output_type": "stream",
       "stream": "stdout",
       "text": [
        " 5 patches\n",
        "merged 5 patches into 5\n",
        "New VI"
       ]
      },
      {
       "output_type": "stream",
       "stream": "stdout",
       "text": [
        " 0.918818433257\n",
        "--------------------------------------------------------------------------------\n",
        "Merging for sureness s= 0.00591683574021\n",
        "merging 302 312\n",
        "recomputed"
       ]
      },
      {
       "output_type": "stream",
       "stream": "stdout",
       "text": [
        " 11 patches\n",
        "merged"
       ]
      },
      {
       "output_type": "stream",
       "stream": "stdout",
       "text": [
        " 11 patches into 11\n",
        "New VI"
       ]
      },
      {
       "output_type": "stream",
       "stream": "stdout",
       "text": [
        " 0.919125790154\n",
        "--------------------------------------------------------------------------------\n",
        "Merging for sureness s= 0.00583316246048\n",
        "merging 190 199\n",
        "recomputed"
       ]
      },
      {
       "output_type": "stream",
       "stream": "stdout",
       "text": [
        " 2 patches\n",
        "merged 2 patches into 2\n",
        "New VI"
       ]
      },
      {
       "output_type": "stream",
       "stream": "stdout",
       "text": [
        " 0.92015822664\n",
        "--------------------------------------------------------------------------------\n",
        "Merging for sureness s= 0.00540289282799\n",
        "merging 194 221\n",
        "recomputed"
       ]
      },
      {
       "output_type": "stream",
       "stream": "stdout",
       "text": [
        " 12 patches\n",
        "merged"
       ]
      },
      {
       "output_type": "stream",
       "stream": "stdout",
       "text": [
        " 12 patches into 12\n",
        "New VI"
       ]
      },
      {
       "output_type": "stream",
       "stream": "stdout",
       "text": [
        " 0.93012881244\n",
        "--------------------------------------------------------------------------------\n",
        "Merging for sureness s= 0.00514719914645\n",
        "merging 117 129\n",
        "recomputed"
       ]
      },
      {
       "output_type": "stream",
       "stream": "stdout",
       "text": [
        " 17 patches\n",
        "merged"
       ]
      },
      {
       "output_type": "stream",
       "stream": "stdout",
       "text": [
        " 17 patches into 17\n",
        "New VI"
       ]
      },
      {
       "output_type": "stream",
       "stream": "stdout",
       "text": [
        " 0.932734080719\n",
        "--------------------------------------------------------------------------------\n",
        "Merging for sureness s= 0.0537302680314\n",
        "merging 129 138\n",
        "recomputed"
       ]
      },
      {
       "output_type": "stream",
       "stream": "stdout",
       "text": [
        " 16 patches\n",
        "merged"
       ]
      },
      {
       "output_type": "stream",
       "stream": "stdout",
       "text": [
        " 16 patches into 16\n",
        "New VI"
       ]
      },
      {
       "output_type": "stream",
       "stream": "stdout",
       "text": [
        " 0.939990271962\n",
        "--------------------------------------------------------------------------------\n",
        "Merging for sureness s= 0.042002607137\n",
        "merging 138 142\n",
        "recomputed"
       ]
      },
      {
       "output_type": "stream",
       "stream": "stdout",
       "text": [
        " 15 patches\n",
        "merged"
       ]
      },
      {
       "output_type": "stream",
       "stream": "stdout",
       "text": [
        " 15 patches into 15\n",
        "New VI"
       ]
      },
      {
       "output_type": "stream",
       "stream": "stdout",
       "text": [
        " 0.954645127113\n",
        "--------------------------------------------------------------------------------\n",
        "Merging for sureness s= 0.00470289634541\n",
        "merging 207 222\n",
        "recomputed"
       ]
      },
      {
       "output_type": "stream",
       "stream": "stdout",
       "text": [
        " 10 patches\n",
        "merged"
       ]
      },
      {
       "output_type": "stream",
       "stream": "stdout",
       "text": [
        " 10 patches into 10\n",
        "New VI"
       ]
      },
      {
       "output_type": "stream",
       "stream": "stdout",
       "text": [
        " 0.958362384162\n",
        "--------------------------------------------------------------------------------\n",
        "Merging for sureness s= 0.00398926669732\n",
        "merging 292 327\n",
        "recomputed"
       ]
      },
      {
       "output_type": "stream",
       "stream": "stdout",
       "text": [
        " 14 patches\n",
        "merged"
       ]
      },
      {
       "output_type": "stream",
       "stream": "stdout",
       "text": [
        " 14 patches into 14\n",
        "New VI"
       ]
      },
      {
       "output_type": "stream",
       "stream": "stdout",
       "text": [
        " 0.962879546027\n",
        "--------------------------------------------------------------------------------\n",
        "Merging for sureness s= 0.00396227044985\n",
        "merging 32 43\n",
        "recomputed"
       ]
      },
      {
       "output_type": "stream",
       "stream": "stdout",
       "text": [
        " 3 patches\n",
        "merged 3 patches into 3\n",
        "New VI"
       ]
      },
      {
       "output_type": "stream",
       "stream": "stdout",
       "text": [
        " 0.962109442156\n",
        "--------------------------------------------------------------------------------\n",
        "Merging for sureness s= 0.0035464358516\n",
        "merging 270 301\n",
        "recomputed"
       ]
      },
      {
       "output_type": "stream",
       "stream": "stdout",
       "text": [
        " 7 patches\n",
        "merged 7 patches into 7\n",
        "New VI"
       ]
      },
      {
       "output_type": "stream",
       "stream": "stdout",
       "text": [
        " 0.966685976074\n",
        "--------------------------------------------------------------------------------\n",
        "Merging for sureness s= 0.00304875453003\n",
        "merging 189 201\n",
        "recomputed"
       ]
      },
      {
       "output_type": "stream",
       "stream": "stdout",
       "text": [
        " 8 patches\n",
        "merged 8 patches into 8\n",
        "New VI"
       ]
      },
      {
       "output_type": "stream",
       "stream": "stdout",
       "text": [
        " 0.967726329071\n",
        "--------------------------------------------------------------------------------\n",
        "Merging for sureness s= 0.0229918826371\n",
        "merging 145 201\n",
        "recomputed"
       ]
      },
      {
       "output_type": "stream",
       "stream": "stdout",
       "text": [
        " 8 patches\n",
        "merged 8 patches into 8\n",
        "New VI"
       ]
      },
      {
       "output_type": "stream",
       "stream": "stdout",
       "text": [
        " 0.971061189052\n",
        "--------------------------------------------------------------------------------\n",
        "Merging for sureness s= 0.00289095495827\n",
        "merging 259 271\n",
        "recomputed"
       ]
      },
      {
       "output_type": "stream",
       "stream": "stdout",
       "text": [
        " 7 patches\n",
        "merged 7 patches into 7\n",
        "New VI"
       ]
      },
      {
       "output_type": "stream",
       "stream": "stdout",
       "text": [
        " 0.971394083573\n",
        "--------------------------------------------------------------------------------\n",
        "Merging for sureness s= 0.00264371442609\n",
        "merging 146 158\n",
        "recomputed"
       ]
      },
      {
       "output_type": "stream",
       "stream": "stdout",
       "text": [
        " 4 patches\n",
        "merged 4 patches into 4\n",
        "New VI"
       ]
      },
      {
       "output_type": "stream",
       "stream": "stdout",
       "text": [
        " 0.971559531358\n",
        "--------------------------------------------------------------------------------\n",
        "Merging for sureness s= 0.00712174642831\n",
        "merging 158 166\n",
        "recomputed"
       ]
      },
      {
       "output_type": "stream",
       "stream": "stdout",
       "text": [
        " 3 patches\n",
        "merged 3 patches into 3\n",
        "New VI"
       ]
      },
      {
       "output_type": "stream",
       "stream": "stdout",
       "text": [
        " 0.973596677855\n",
        "--------------------------------------------------------------------------------\n",
        "Merging for sureness s= 0.00261774519458\n",
        "merging 349 356\n",
        "recomputed"
       ]
      },
      {
       "output_type": "stream",
       "stream": "stdout",
       "text": [
        " 6 patches\n",
        "merged 6 patches into 6\n",
        "New VI"
       ]
      },
      {
       "output_type": "stream",
       "stream": "stdout",
       "text": [
        " 0.975105728743\n",
        "--------------------------------------------------------------------------------\n",
        "Merging for sureness s= 0.00247973882397\n",
        "merging 260 268\n",
        "recomputed"
       ]
      },
      {
       "output_type": "stream",
       "stream": "stdout",
       "text": [
        " 10 patches\n",
        "merged"
       ]
      },
      {
       "output_type": "stream",
       "stream": "stdout",
       "text": [
        " 10 patches into 10\n",
        "New VI"
       ]
      },
      {
       "output_type": "stream",
       "stream": "stdout",
       "text": [
        " 0.982348477291\n",
        "--------------------------------------------------------------------------------\n",
        "Merging for sureness s= 0.00229189475067\n",
        "merging 169 173\n",
        "recomputed"
       ]
      },
      {
       "output_type": "stream",
       "stream": "stdout",
       "text": [
        " 4 patches\n",
        "merged 4 patches into 4\n",
        "New VI"
       ]
      },
      {
       "output_type": "stream",
       "stream": "stdout",
       "text": [
        " 0.980420245149\n",
        "--------------------------------------------------------------------------------\n",
        "Merging for sureness s= 0.00215343083255\n",
        "merging 338 358\n",
        "recomputed"
       ]
      },
      {
       "output_type": "stream",
       "stream": "stdout",
       "text": [
        " 8 patches\n",
        "merged 8 patches into 8\n",
        "New VI"
       ]
      },
      {
       "output_type": "stream",
       "stream": "stdout",
       "text": [
        " 0.982310432775\n",
        "--------------------------------------------------------------------------------\n",
        "Merging for sureness s= 0.00211821333505\n",
        "merging 112 115\n",
        "recomputed"
       ]
      },
      {
       "output_type": "stream",
       "stream": "stdout",
       "text": [
        " 1 patches\n",
        "merged 1 patches into 1\n",
        "New VI"
       ]
      },
      {
       "output_type": "stream",
       "stream": "stdout",
       "text": [
        " 0.981633840395\n",
        "--------------------------------------------------------------------------------\n",
        "Merging for sureness s= 0.00170925783459\n",
        "merging 176 185\n",
        "recomputed"
       ]
      },
      {
       "output_type": "stream",
       "stream": "stdout",
       "text": [
        " 4 patches\n",
        "merged 4 patches into 4\n",
        "New VI"
       ]
      },
      {
       "output_type": "stream",
       "stream": "stdout",
       "text": [
        " 0.985930053784\n",
        "--------------------------------------------------------------------------------\n",
        "Merging for sureness s= 0.00163798790891\n",
        "merging 88 92\n",
        "recomputed"
       ]
      },
      {
       "output_type": "stream",
       "stream": "stdout",
       "text": [
        " 8 patches\n",
        "merged 8 patches into 8\n",
        "New VI"
       ]
      },
      {
       "output_type": "stream",
       "stream": "stdout",
       "text": [
        " 0.987558412886\n",
        "--------------------------------------------------------------------------------\n",
        "Merging for sureness s= 0.00152187445201\n",
        "merging 206 209\n",
        "recomputed"
       ]
      },
      {
       "output_type": "stream",
       "stream": "stdout",
       "text": [
        " 0 patches\n",
        "merged 0 patches into 0\n",
        "New VI"
       ]
      },
      {
       "output_type": "stream",
       "stream": "stdout",
       "text": [
        " 0.986823265052\n",
        "--------------------------------------------------------------------------------\n",
        "Merging for sureness s= 0.00127518025693\n",
        "merging 297 315\n",
        "recomputed"
       ]
      },
      {
       "output_type": "stream",
       "stream": "stdout",
       "text": [
        " 2 patches\n",
        "merged 2 patches into 2\n",
        "New VI"
       ]
      },
      {
       "output_type": "stream",
       "stream": "stdout",
       "text": [
        " 0.990631063316\n",
        "--------------------------------------------------------------------------------\n",
        "Merging for sureness s= 0.0702481791377\n",
        "merging 306 315\n",
        "recomputed"
       ]
      },
      {
       "output_type": "stream",
       "stream": "stdout",
       "text": [
        " 1 patches\n",
        "merged 1 patches into 1\n",
        "New VI"
       ]
      },
      {
       "output_type": "stream",
       "stream": "stdout",
       "text": [
        " 0.990356122527\n",
        "--------------------------------------------------------------------------------\n",
        "Merging for sureness s= 0.00106465246063\n",
        "merging 166 185\n",
        "recomputed"
       ]
      },
      {
       "output_type": "stream",
       "stream": "stdout",
       "text": [
        " 1 patches\n",
        "merged 1 patches into 1\n",
        "New VI"
       ]
      },
      {
       "output_type": "stream",
       "stream": "stdout",
       "text": [
        " 0.998829404199\n",
        "--------------------------------------------------------------------------------\n",
        "Merging for sureness s= 0.000982049270533\n",
        "merging 147 150\n",
        "recomputed"
       ]
      },
      {
       "output_type": "stream",
       "stream": "stdout",
       "text": [
        " 8 patches\n",
        "merged"
       ]
      },
      {
       "output_type": "stream",
       "stream": "stdout",
       "text": [
        " 8 patches into 8\n",
        "New VI"
       ]
      },
      {
       "output_type": "stream",
       "stream": "stdout",
       "text": [
        " 0.999327635628\n",
        "--------------------------------------------------------------------------------\n",
        "Merging for sureness s= 0.00088164024055\n",
        "merging 126 148\n",
        "recomputed"
       ]
      },
      {
       "output_type": "stream",
       "stream": "stdout",
       "text": [
        " 3 patches\n",
        "merged 3 patches into 3\n",
        "New VI"
       ]
      },
      {
       "output_type": "stream",
       "stream": "stdout",
       "text": [
        " 0.998898287969\n",
        "--------------------------------------------------------------------------------\n",
        "Merging for sureness s= 0.000824180897325\n",
        "merging 36 48\n",
        "recomputed"
       ]
      },
      {
       "output_type": "stream",
       "stream": "stdout",
       "text": [
        " 10 patches\n",
        "merged"
       ]
      },
      {
       "output_type": "stream",
       "stream": "stdout",
       "text": [
        " 10 patches into 10\n",
        "New VI"
       ]
      },
      {
       "output_type": "stream",
       "stream": "stdout",
       "text": [
        " 1.00045425401\n",
        "--------------------------------------------------------------------------------\n",
        "Merging for sureness s= 0.000565620139241\n",
        "merging 57 62\n",
        "recomputed"
       ]
      },
      {
       "output_type": "stream",
       "stream": "stdout",
       "text": [
        " 3 patches\n",
        "merged 3 patches into 3\n",
        "New VI"
       ]
      },
      {
       "output_type": "stream",
       "stream": "stdout",
       "text": [
        " 1.00379237328\n",
        "--------------------------------------------------------------------------------\n",
        "Merging for sureness s= 0.000459572474938\n",
        "merging 321 326\n",
        "recomputed"
       ]
      },
      {
       "output_type": "stream",
       "stream": "stdout",
       "text": [
        " 10 patches\n",
        "merged"
       ]
      },
      {
       "output_type": "stream",
       "stream": "stdout",
       "text": [
        " 10 patches into 10\n",
        "New VI"
       ]
      },
      {
       "output_type": "stream",
       "stream": "stdout",
       "text": [
        " 1.00537114838\n",
        "--------------------------------------------------------------------------------\n",
        "Merging for sureness s= 0.0443434901536\n",
        "merging 322 326\n",
        "recomputed"
       ]
      },
      {
       "output_type": "stream",
       "stream": "stdout",
       "text": [
        " 7 patches\n",
        "merged 7 patches into 7\n",
        "New VI"
       ]
      },
      {
       "output_type": "stream",
       "stream": "stdout",
       "text": [
        " 1.00729801028\n",
        "--------------------------------------------------------------------------------\n",
        "Merging for sureness s= 0.000427166320151\n",
        "merging 9 34\n",
        "recomputed"
       ]
      },
      {
       "output_type": "stream",
       "stream": "stdout",
       "text": [
        " 3 patches\n",
        "merged 3 patches into 3\n",
        "New VI"
       ]
      },
      {
       "output_type": "stream",
       "stream": "stdout",
       "text": [
        " 1.00871172765\n",
        "--------------------------------------------------------------------------------\n",
        "Merging for sureness s= 0.00042162250611\n",
        "merging 163 164\n",
        "recomputed"
       ]
      },
      {
       "output_type": "stream",
       "stream": "stdout",
       "text": [
        " 8 patches\n",
        "merged 8 patches into 8\n",
        "New VI"
       ]
      },
      {
       "output_type": "stream",
       "stream": "stdout",
       "text": [
        " 1.00846718146\n",
        "--------------------------------------------------------------------------------\n",
        "Merging for sureness s= 0.000399831944378\n",
        "merging 205 217\n",
        "recomputed"
       ]
      },
      {
       "output_type": "stream",
       "stream": "stdout",
       "text": [
        " 4 patches\n",
        "merged 4 patches into 4\n",
        "New VI"
       ]
      },
      {
       "output_type": "stream",
       "stream": "stdout",
       "text": [
        " 1.00925073246\n",
        "--------------------------------------------------------------------------------\n",
        "Merging for sureness s= 0.000397147727199\n",
        "merging 269 293\n",
        "recomputed"
       ]
      },
      {
       "output_type": "stream",
       "stream": "stdout",
       "text": [
        " 1 patches\n",
        "merged 1 patches into 1\n",
        "New VI"
       ]
      },
      {
       "output_type": "stream",
       "stream": "stdout",
       "text": [
        " 1.01089869438\n",
        "--------------------------------------------------------------------------------\n",
        "Merging for sureness s= 0.000380690005841\n",
        "merging 332 340\n",
        "recomputed"
       ]
      },
      {
       "output_type": "stream",
       "stream": "stdout",
       "text": [
        " 10 patches\n",
        "merged"
       ]
      },
      {
       "output_type": "stream",
       "stream": "stdout",
       "text": [
        " 10 patches into 10\n",
        "New VI"
       ]
      },
      {
       "output_type": "stream",
       "stream": "stdout",
       "text": [
        " 1.01217528253\n",
        "--------------------------------------------------------------------------------\n",
        "Merging for sureness s= 0.000312967109494\n",
        "merging 326 340\n",
        "recomputed"
       ]
      },
      {
       "output_type": "stream",
       "stream": "stdout",
       "text": [
        " 7 patches\n",
        "merged 7 patches into 7\n",
        "New VI"
       ]
      },
      {
       "output_type": "stream",
       "stream": "stdout",
       "text": [
        " 1.01669417325\n",
        "--------------------------------------------------------------------------------\n",
        "Merging for sureness s= 0.000300183950458\n",
        "merging 312 314\n",
        "recomputed"
       ]
      },
      {
       "output_type": "stream",
       "stream": "stdout",
       "text": [
        " 6 patches\n",
        "merged 6 patches into 6\n",
        "New VI"
       ]
      },
      {
       "output_type": "stream",
       "stream": "stdout",
       "text": [
        " 1.0186825138\n",
        "--------------------------------------------------------------------------------\n",
        "Merging for sureness s= 0.0475874654949\n",
        "merging 301 314\n",
        "recomputed"
       ]
      },
      {
       "output_type": "stream",
       "stream": "stdout",
       "text": [
        " 8 patches\n",
        "merged 8 patches into 8\n",
        "New VI"
       ]
      },
      {
       "output_type": "stream",
       "stream": "stdout",
       "text": [
        " 1.03103805749\n",
        "--------------------------------------------------------------------------------\n",
        "Merging for sureness s= 0.0976929739118\n",
        "merging 314 325\n",
        "recomputed"
       ]
      },
      {
       "output_type": "stream",
       "stream": "stdout",
       "text": [
        " 7 patches\n",
        "merged 7 patches into 7\n",
        "New VI"
       ]
      },
      {
       "output_type": "stream",
       "stream": "stdout",
       "text": [
        " 1.03099074731\n",
        "--------------------------------------------------------------------------------\n",
        "Merging for sureness s= 0.00029723404441\n",
        "merging 55 61\n",
        "recomputed"
       ]
      },
      {
       "output_type": "stream",
       "stream": "stdout",
       "text": [
        " 1 patches\n",
        "merged 1 patches into 1\n",
        "New VI"
       ]
      },
      {
       "output_type": "stream",
       "stream": "stdout",
       "text": [
        " 1.03143617563\n",
        "--------------------------------------------------------------------------------\n",
        "Merging for sureness s= 0.000235000494285\n",
        "merging 152 162\n",
        "recomputed"
       ]
      },
      {
       "output_type": "stream",
       "stream": "stdout",
       "text": [
        " 4 patches\n",
        "merged 4 patches into 4\n",
        "New VI"
       ]
      },
      {
       "output_type": "stream",
       "stream": "stdout",
       "text": [
        " 1.03244566961\n",
        "--------------------------------------------------------------------------------\n",
        "Merging for sureness s= 0.000157904170919\n",
        "merging 68 76\n",
        "recomputed"
       ]
      },
      {
       "output_type": "stream",
       "stream": "stdout",
       "text": [
        " 3 patches\n",
        "merged 3 patches into 3\n",
        "New VI"
       ]
      },
      {
       "output_type": "stream",
       "stream": "stdout",
       "text": [
        " 1.04125173258\n",
        "--------------------------------------------------------------------------------\n",
        "Merging for sureness s= 0.000134102869197\n",
        "merging 93 97\n",
        "recomputed"
       ]
      },
      {
       "output_type": "stream",
       "stream": "stdout",
       "text": [
        " 3 patches\n",
        "merged 3 patches into 3\n",
        "New VI"
       ]
      },
      {
       "output_type": "stream",
       "stream": "stdout",
       "text": [
        " 1.04170711834\n",
        "--------------------------------------------------------------------------------\n",
        "Merging for sureness s= 0.0224784296006\n",
        "merging 83 97\n",
        "recomputed"
       ]
      },
      {
       "output_type": "stream",
       "stream": "stdout",
       "text": [
        " 2 patches\n",
        "merged 2 patches into 2\n",
        "New VI"
       ]
      },
      {
       "output_type": "stream",
       "stream": "stdout",
       "text": [
        " 1.04090398845\n",
        "--------------------------------------------------------------------------------\n",
        "Merging for sureness s= 0.000108742089651\n",
        "merging 313 327\n",
        "recomputed"
       ]
      },
      {
       "output_type": "stream",
       "stream": "stdout",
       "text": [
        " 0 patches\n",
        "merged 0 patches into 0\n",
        "New VI"
       ]
      },
      {
       "output_type": "stream",
       "stream": "stdout",
       "text": [
        " 1.04876931988\n",
        "--------------------------------------------------------------------------------\n",
        "Merging for sureness s= 9.47780790739e-05\n",
        "merging 162 167\n",
        "recomputed"
       ]
      },
      {
       "output_type": "stream",
       "stream": "stdout",
       "text": [
        " 6 patches\n",
        "merged 6 patches into 6\n",
        "New VI"
       ]
      },
      {
       "output_type": "stream",
       "stream": "stdout",
       "text": [
        " 1.05085216836\n",
        "--------------------------------------------------------------------------------\n",
        "Merging for sureness s= 0.00380332418717\n",
        "merging 167 181\n",
        "recomputed"
       ]
      },
      {
       "output_type": "stream",
       "stream": "stdout",
       "text": [
        " 6 patches\n",
        "merged 6 patches into 6\n",
        "New VI"
       ]
      },
      {
       "output_type": "stream",
       "stream": "stdout",
       "text": [
        " 1.05474453915\n",
        "--------------------------------------------------------------------------------\n",
        "Merging for sureness s= 0.000739593699109\n",
        "merging 181 184\n",
        "recomputed"
       ]
      },
      {
       "output_type": "stream",
       "stream": "stdout",
       "text": [
        " 6 patches\n",
        "merged 6 patches into 6\n",
        "New VI"
       ]
      },
      {
       "output_type": "stream",
       "stream": "stdout",
       "text": [
        " 1.05793302604\n",
        "--------------------------------------------------------------------------------\n",
        "Merging for sureness s= 0.099971793592\n",
        "merging 173 184\n",
        "recomputed"
       ]
      },
      {
       "output_type": "stream",
       "stream": "stdout",
       "text": [
        " 2 patches\n",
        "merged 2 patches into 2\n",
        "New VI"
       ]
      },
      {
       "output_type": "stream",
       "stream": "stdout",
       "text": [
        " 1.06416212393\n",
        "--------------------------------------------------------------------------------\n",
        "Merging for sureness s= 9.13650801522e-05\n",
        "merging 334 340\n",
        "recomputed"
       ]
      },
      {
       "output_type": "stream",
       "stream": "stdout",
       "text": [
        " 1 patches\n",
        "merged 1 patches into 1\n",
        "New VI"
       ]
      },
      {
       "output_type": "stream",
       "stream": "stdout",
       "text": [
        " 1.06813313215\n",
        "--------------------------------------------------------------------------------\n",
        "Merging for sureness s= 8.19754422992e-05\n",
        "merging 107 111\n",
        "recomputed"
       ]
      },
      {
       "output_type": "stream",
       "stream": "stdout",
       "text": [
        " 1 patches\n",
        "merged 1 patches into 1\n",
        "New VI"
       ]
      },
      {
       "output_type": "stream",
       "stream": "stdout",
       "text": [
        " 1.06947780477\n",
        "--------------------------------------------------------------------------------\n",
        "Merging for sureness s= 5.17096268595e-05\n",
        "merging 61 65\n",
        "recomputed"
       ]
      },
      {
       "output_type": "stream",
       "stream": "stdout",
       "text": [
        " 1 patches\n",
        "merged 1 patches into 1\n",
        "New VI"
       ]
      },
      {
       "output_type": "stream",
       "stream": "stdout",
       "text": [
        " 1.06950716091\n",
        "--------------------------------------------------------------------------------\n",
        "Merging for sureness s= 4.32848974015e-05\n",
        "merging 81 91\n",
        "recomputed"
       ]
      },
      {
       "output_type": "stream",
       "stream": "stdout",
       "text": [
        " 1 patches\n",
        "merged 1 patches into 1\n",
        "New VI"
       ]
      },
      {
       "output_type": "stream",
       "stream": "stdout",
       "text": [
        " 1.07202607812\n",
        "--------------------------------------------------------------------------------\n",
        "Merging for sureness s= 4.09427484556e-05\n",
        "merging 333 350\n",
        "recomputed"
       ]
      },
      {
       "output_type": "stream",
       "stream": "stdout",
       "text": [
        " 1 patches\n",
        "merged 1 patches into 1\n",
        "New VI"
       ]
      },
      {
       "output_type": "stream",
       "stream": "stdout",
       "text": [
        " 1.07457715987\n",
        "--------------------------------------------------------------------------------\n",
        "Merging for sureness s= 3.84228987969e-05\n",
        "merging 192 197\n",
        "recomputed"
       ]
      },
      {
       "output_type": "stream",
       "stream": "stdout",
       "text": [
        " 0 patches\n",
        "merged 0 patches into 0\n",
        "New VI"
       ]
      },
      {
       "output_type": "stream",
       "stream": "stdout",
       "text": [
        " 1.07414970599\n",
        "--------------------------------------------------------------------------------\n",
        "Merging for sureness s= 3.80567616958e-05\n",
        "merging 164 171\n",
        "recomputed"
       ]
      },
      {
       "output_type": "stream",
       "stream": "stdout",
       "text": [
        " 1 patches\n",
        "merged 1 patches into 1\n",
        "New VI"
       ]
      },
      {
       "output_type": "stream",
       "stream": "stdout",
       "text": [
        " 1.07478095432\n",
        "--------------------------------------------------------------------------------\n",
        "Merging for sureness s= 3.65499909094e-05\n",
        "merging 180 188\n",
        "recomputed"
       ]
      },
      {
       "output_type": "stream",
       "stream": "stdout",
       "text": [
        " 2 patches\n",
        "merged 2 patches into 2\n",
        "New VI"
       ]
      },
      {
       "output_type": "stream",
       "stream": "stdout",
       "text": [
        " 1.07618108786\n",
        "--------------------------------------------------------------------------------\n",
        "Merging for sureness s= 0.00297610717826\n",
        "merging 188 199\n",
        "recomputed"
       ]
      },
      {
       "output_type": "stream",
       "stream": "stdout",
       "text": [
        " 1 patches\n",
        "merged 1 patches into 1\n",
        "New VI"
       ]
      },
      {
       "output_type": "stream",
       "stream": "stdout",
       "text": [
        " 1.07871410021\n",
        "--------------------------------------------------------------------------------\n",
        "Merging for sureness s= 3.35966906277e-05\n",
        "merging 252 265\n",
        "recomputed"
       ]
      },
      {
       "output_type": "stream",
       "stream": "stdout",
       "text": [
        " 2 patches\n",
        "merged 2 patches into 2\n",
        "New VI"
       ]
      },
      {
       "output_type": "stream",
       "stream": "stdout",
       "text": [
        " 1.07893016813\n",
        "--------------------------------------------------------------------------------\n",
        "Merging for sureness s= 2.55888098764e-05\n",
        "merging 342 350\n",
        "recomputed"
       ]
      },
      {
       "output_type": "stream",
       "stream": "stdout",
       "text": [
        " 0 patches\n",
        "merged 0 patches into 0\n",
        "New VI"
       ]
      },
      {
       "output_type": "stream",
       "stream": "stdout",
       "text": [
        " 1.08188496832\n",
        "--------------------------------------------------------------------------------\n",
        "Merging for sureness s= 1.88395788427e-05\n",
        "merging 256 261\n",
        "recomputed"
       ]
      },
      {
       "output_type": "stream",
       "stream": "stdout",
       "text": [
        " 3 patches\n",
        "merged 3 patches into 3\n",
        "New VI"
       ]
      },
      {
       "output_type": "stream",
       "stream": "stdout",
       "text": [
        " 1.08276217315\n",
        "--------------------------------------------------------------------------------\n",
        "Merging for sureness s= 0.000277997052763\n",
        "merging 261 265\n",
        "recomputed"
       ]
      },
      {
       "output_type": "stream",
       "stream": "stdout",
       "text": [
        " 2 patches\n",
        "merged 2 patches into 2\n",
        "New VI"
       ]
      },
      {
       "output_type": "stream",
       "stream": "stdout",
       "text": [
        " 1.08449698075\n",
        "--------------------------------------------------------------------------------\n",
        "Merging for sureness s= 1.41752570926e-05\n",
        "merging 298 318\n",
        "recomputed"
       ]
      },
      {
       "output_type": "stream",
       "stream": "stdout",
       "text": [
        " 2 patches\n",
        "merged 2 patches into 2\n",
        "New VI"
       ]
      },
      {
       "output_type": "stream",
       "stream": "stdout",
       "text": [
        " 1.08444212356\n",
        "--------------------------------------------------------------------------------\n",
        "Merging for sureness s= 5.84731697018e-06\n",
        "merging 135 144\n",
        "recomputed"
       ]
      },
      {
       "output_type": "stream",
       "stream": "stdout",
       "text": [
        " 0 patches\n",
        "merged 0 patches into 0\n",
        "New VI"
       ]
      },
      {
       "output_type": "stream",
       "stream": "stdout",
       "text": [
        " 1.08626397351\n",
        "--------------------------------------------------------------------------------\n",
        "Merging for sureness s= 4.73269392387e-06\n",
        "merging 99 103\n",
        "recomputed"
       ]
      },
      {
       "output_type": "stream",
       "stream": "stdout",
       "text": [
        " 3 patches\n",
        "merged 3 patches into 3\n",
        "New VI"
       ]
      },
      {
       "output_type": "stream",
       "stream": "stdout",
       "text": [
        " 1.09040190742\n",
        "--------------------------------------------------------------------------------\n",
        "Merging for sureness s= 4.71790690426e-06\n",
        "merging 307 310\n",
        "recomputed"
       ]
      },
      {
       "output_type": "stream",
       "stream": "stdout",
       "text": [
        " 1 patches\n",
        "merged 1 patches into 1\n",
        "New VI"
       ]
      },
      {
       "output_type": "stream",
       "stream": "stdout",
       "text": [
        " 1.09090969759\n",
        "--------------------------------------------------------------------------------\n",
        "Merging for sureness s= 2.96384587273e-06\n",
        "merging 267 277\n",
        "recomputed"
       ]
      },
      {
       "output_type": "stream",
       "stream": "stdout",
       "text": [
        " 3 patches\n",
        "merged 3 patches into 3\n",
        "New VI"
       ]
      },
      {
       "output_type": "stream",
       "stream": "stdout",
       "text": [
        " 1.09117525762\n",
        "--------------------------------------------------------------------------------\n",
        "Merging for sureness s= 3.02241678583e-05\n",
        "merging 241 277\n",
        "recomputed"
       ]
      },
      {
       "output_type": "stream",
       "stream": "stdout",
       "text": [
        " 1 patches\n",
        "merged 1 patches into 1\n",
        "New VI"
       ]
      },
      {
       "output_type": "stream",
       "stream": "stdout",
       "text": [
        " 1.09299319693\n",
        "--------------------------------------------------------------------------------\n",
        "Merging for sureness s= 2.36495452555e-06\n",
        "merging 300 310\n",
        "recomputed"
       ]
      },
      {
       "output_type": "stream",
       "stream": "stdout",
       "text": [
        " 1 patches\n",
        "merged 1 patches into 1\n",
        "New VI"
       ]
      },
      {
       "output_type": "stream",
       "stream": "stdout",
       "text": [
        " 1.09558265458\n",
        "--------------------------------------------------------------------------------\n",
        "Merging for sureness s= 1.91221533896e-06\n",
        "merging 353 356\n",
        "recomputed"
       ]
      },
      {
       "output_type": "stream",
       "stream": "stdout",
       "text": [
        " 0 patches\n",
        "merged 0 patches into 0\n",
        "New VI"
       ]
      },
      {
       "output_type": "stream",
       "stream": "stdout",
       "text": [
        " 1.09559399016\n",
        "--------------------------------------------------------------------------------\n",
        "Merging for sureness s= 1.47622699842e-06\n",
        "merging 49 59\n",
        "recomputed"
       ]
      },
      {
       "output_type": "stream",
       "stream": "stdout",
       "text": [
        " 0 patches\n",
        "merged 0 patches into 0\n",
        "New VI"
       ]
      },
      {
       "output_type": "stream",
       "stream": "stdout",
       "text": [
        " 1.09596859625\n",
        "--------------------------------------------------------------------------------\n",
        "Merging for sureness s= 1.3737038671e-06\n",
        "merging 105 111\n",
        "recomputed"
       ]
      },
      {
       "output_type": "stream",
       "stream": "stdout",
       "text": [
        " 0 patches\n",
        "merged 0 patches into 0\n",
        "New VI"
       ]
      },
      {
       "output_type": "stream",
       "stream": "stdout",
       "text": [
        " 1.10058268986\n",
        "--------------------------------------------------------------------------------\n",
        "Merging for sureness s= 1.23871325286e-06\n",
        "merging 201 213\n",
        "recomputed"
       ]
      },
      {
       "output_type": "stream",
       "stream": "stdout",
       "text": [
        " 1 patches\n",
        "merged 1 patches into 1\n",
        "New VI"
       ]
      },
      {
       "output_type": "stream",
       "stream": "stdout",
       "text": [
        " 1.10229723629\n",
        "--------------------------------------------------------------------------------\n",
        "Merging for sureness s= 8.24486733109e-07\n",
        "merging 211 217\n",
        "recomputed"
       ]
      },
      {
       "output_type": "stream",
       "stream": "stdout",
       "text": [
        " 2 patches\n",
        "merged 2 patches into 2\n",
        "New VI"
       ]
      },
      {
       "output_type": "stream",
       "stream": "stdout",
       "text": [
        " 1.10349786896\n",
        "--------------------------------------------------------------------------------\n",
        "Merging for sureness s= 5.44654199075e-07\n",
        "merging 46 58\n",
        "recomputed"
       ]
      },
      {
       "output_type": "stream",
       "stream": "stdout",
       "text": [
        " 1 patches\n",
        "merged 1 patches into 1\n",
        "New VI"
       ]
      },
      {
       "output_type": "stream",
       "stream": "stdout",
       "text": [
        " 1.10424106593\n",
        "--------------------------------------------------------------------------------\n",
        "Merging for sureness s= 4.67093286716e-07\n",
        "merging 281 282\n",
        "recomputed"
       ]
      },
      {
       "output_type": "stream",
       "stream": "stdout",
       "text": [
        " 1 patches\n",
        "merged 1 patches into 1\n",
        "New VI"
       ]
      },
      {
       "output_type": "stream",
       "stream": "stdout",
       "text": [
        " 1.10404923594\n",
        "--------------------------------------------------------------------------------\n",
        "Merging for sureness s= 2.42079067903e-07\n",
        "merging 95 103\n",
        "recomputed"
       ]
      },
      {
       "output_type": "stream",
       "stream": "stdout",
       "text": [
        " 1 patches\n",
        "merged 1 patches into 1\n",
        "New VI"
       ]
      },
      {
       "output_type": "stream",
       "stream": "stdout",
       "text": [
        " 1.10687056062\n",
        "--------------------------------------------------------------------------------\n",
        "Merging for sureness s= 1.9182449762e-07\n",
        "merging 82 90\n",
        "recomputed"
       ]
      },
      {
       "output_type": "stream",
       "stream": "stdout",
       "text": [
        " 1 patches\n",
        "merged 1 patches into 1\n",
        "New VI"
       ]
      },
      {
       "output_type": "stream",
       "stream": "stdout",
       "text": [
        " 1.10768664783\n",
        "--------------------------------------------------------------------------------\n",
        "Merging for sureness s= 0.00206707813777\n",
        "merging 85 90\n",
        "recomputed"
       ]
      },
      {
       "output_type": "stream",
       "stream": "stdout",
       "text": [
        " 0 patches\n",
        "merged 0 patches into 0\n",
        "New VI"
       ]
      },
      {
       "output_type": "stream",
       "stream": "stdout",
       "text": [
        " 1.11106231094\n",
        "--------------------------------------------------------------------------------\n",
        "Merging for sureness s= 1.12640265115e-07\n",
        "merging 160 170\n",
        "recomputed"
       ]
      },
      {
       "output_type": "stream",
       "stream": "stdout",
       "text": [
        " 0 patches\n",
        "merged 0 patches into 0\n",
        "New VI"
       ]
      },
      {
       "output_type": "stream",
       "stream": "stdout",
       "text": [
        " 1.11291543522\n",
        "--------------------------------------------------------------------------------\n",
        "Merging for sureness s= 1.05469673883e-07\n",
        "merging 62 97\n",
        "recomputed"
       ]
      },
      {
       "output_type": "stream",
       "stream": "stdout",
       "text": [
        " 1 patches\n",
        "merged 1 patches into 1\n",
        "New VI"
       ]
      },
      {
       "output_type": "stream",
       "stream": "stdout",
       "text": [
        " 1.11675937629\n",
        "--------------------------------------------------------------------------------\n",
        "Merging for sureness s= 9.7362708118e-08\n",
        "merging 217 226\n",
        "recomputed"
       ]
      },
      {
       "output_type": "stream",
       "stream": "stdout",
       "text": [
        " 0 patches\n",
        "merged 0 patches into 0\n",
        "New VI"
       ]
      },
      {
       "output_type": "stream",
       "stream": "stdout",
       "text": [
        " 1.11808280832\n",
        "--------------------------------------------------------------------------------\n",
        "Merging for sureness s= 7.8789682334e-08\n",
        "merging 315 324\n",
        "recomputed"
       ]
      },
      {
       "output_type": "stream",
       "stream": "stdout",
       "text": [
        " 0 patches\n",
        "merged 0 patches into 0\n",
        "New VI"
       ]
      },
      {
       "output_type": "stream",
       "stream": "stdout",
       "text": [
        " 1.11911101907\n",
        "--------------------------------------------------------------------------------\n",
        "Merging for sureness s= 5.76514018746e-08\n",
        "merging 238 246\n",
        "recomputed"
       ]
      },
      {
       "output_type": "stream",
       "stream": "stdout",
       "text": [
        " 1 patches\n",
        "merged 1 patches into 1\n",
        "New VI"
       ]
      },
      {
       "output_type": "stream",
       "stream": "stdout",
       "text": [
        " 1.12015704948\n",
        "--------------------------------------------------------------------------------\n",
        "Merging for sureness s= 0.0007239934057\n",
        "merging 244 246\n",
        "recomputed"
       ]
      },
      {
       "output_type": "stream",
       "stream": "stdout",
       "text": [
        " 0 patches\n",
        "merged 0 patches into 0\n",
        "New VI"
       ]
      },
      {
       "output_type": "stream",
       "stream": "stdout",
       "text": [
        " 1.12426590172\n",
        "--------------------------------------------------------------------------------\n",
        "Merging for sureness s= 2.42855868748e-08\n",
        "merging 282 295\n",
        "recomputed"
       ]
      },
      {
       "output_type": "stream",
       "stream": "stdout",
       "text": [
        " 0 patches\n",
        "merged 0 patches into 0\n",
        "New VI"
       ]
      },
      {
       "output_type": "stream",
       "stream": "stdout",
       "text": [
        " 1.12869180916\n",
        "--------------------------------------------------------------------------------\n",
        "Merging for sureness s= 4.17040357803e-09\n",
        "merging 303 316\n",
        "recomputed"
       ]
      },
      {
       "output_type": "stream",
       "stream": "stdout",
       "text": [
        " 1 patches\n",
        "merged 1 patches into 1\n",
        "New VI"
       ]
      },
      {
       "output_type": "stream",
       "stream": "stdout",
       "text": [
        " 1.1300924683\n",
        "--------------------------------------------------------------------------------\n",
        "Merging for sureness s= 3.94695032213e-09\n",
        "merging 48 51\n",
        "recomputed"
       ]
      },
      {
       "output_type": "stream",
       "stream": "stdout",
       "text": [
        " 2 patches\n",
        "merged 2 patches into 2\n",
        "New VI"
       ]
      },
      {
       "output_type": "stream",
       "stream": "stdout",
       "text": [
        " 1.13882249744\n",
        "--------------------------------------------------------------------------------\n",
        "Merging for sureness s= 7.74398449721e-06\n",
        "merging 43 51\n",
        "recomputed"
       ]
      },
      {
       "output_type": "stream",
       "stream": "stdout",
       "text": [
        " 0 patches\n",
        "merged 0 patches into 0\n",
        "New VI"
       ]
      },
      {
       "output_type": "stream",
       "stream": "stdout",
       "text": [
        " 1.14237879405\n",
        "--------------------------------------------------------------------------------\n",
        "Merging for sureness s= 1.06218756013e-09\n",
        "merging 74 84\n",
        "recomputed"
       ]
      },
      {
       "output_type": "stream",
       "stream": "stdout",
       "text": [
        " 0 patches\n",
        "merged 0 patches into 0\n",
        "New VI"
       ]
      },
      {
       "output_type": "stream",
       "stream": "stdout",
       "text": [
        " 1.14468027008\n",
        "--------------------------------------------------------------------------------\n",
        "Merging for sureness s= 4.25466412102e-10\n",
        "merging 289 309\n",
        "recomputed"
       ]
      },
      {
       "output_type": "stream",
       "stream": "stdout",
       "text": [
        " 0 patches\n",
        "merged 0 patches into 0\n",
        "New VI"
       ]
      },
      {
       "output_type": "stream",
       "stream": "stdout",
       "text": [
        " 1.14664327215\n",
        "--------------------------------------------------------------------------------\n",
        "Merging for sureness s= 1.01401794947e-11\n",
        "merging 91 123\n",
        "recomputed"
       ]
      },
      {
       "output_type": "stream",
       "stream": "stdout",
       "text": [
        " 0 patches\n",
        "merged 0 patches into 0\n",
        "New VI"
       ]
      },
      {
       "output_type": "stream",
       "stream": "stdout",
       "text": [
        " 1.14858943598\n",
        "--------------------------------------------------------------------------------\n",
        "Merging for sureness s= 8.36308087127e-14\n",
        "merging 268 290\n",
        "recomputed"
       ]
      },
      {
       "output_type": "stream",
       "stream": "stdout",
       "text": [
        " 0 patches\n",
        "merged 0 patches into 0\n",
        "New VI"
       ]
      },
      {
       "output_type": "stream",
       "stream": "stdout",
       "text": [
        " 1.15168913286\n",
        "--------------------------------------------------------------------------------\n"
       ]
      }
     ],
     "prompt_number": 8
    },
    {
     "cell_type": "code",
     "collapsed": false,
     "input": [
      "index = vi_s.index(min(vi_s))\n",
      "print 'Before VI', before_VI\n",
      "print 'Lowest VI', vi_s[index]\n",
      "print 'Iterations', index\n",
      "print 'Sureness', surenesses[index]"
     ],
     "language": "python",
     "metadata": {},
     "outputs": [
      {
       "output_type": "stream",
       "stream": "stdout",
       "text": [
        "Before VI 0.815437654764\n",
        "Lowest VI 0.814914270955\n",
        "Iterations 21\n",
        "Sureness 0.965111494064\n"
       ]
      }
     ],
     "prompt_number": 13
    },
    {
     "cell_type": "code",
     "collapsed": false,
     "input": [
      "import matplotlib.pyplot as plt\n",
      "# create plot\n",
      "new_rhoana = propagate_max_overlap(seg, gold_normalized)\n",
      "before_VI = partition_comparison.variation_of_information(gold_normalized.ravel(), seg.ravel())\n",
      "target_vi = partition_comparison.variation_of_information(new_rhoana.ravel(), gold_normalized.ravel())\n",
      "\n",
      "bins = np.arange(0, len(vi_s))#np.arange(len(vi_s), 0, -1)\n",
      "# bins /= 100\n",
      "\n",
      "vi_s_ = vi_s #[x for (y,x) in sorted(zip(surenesses, vi_s))]\n",
      "surenesses_ = bins #surenesses#[y for (y,x) in sorted(zip(surenesses, vi_s))]\n",
      "\n",
      "original_vi = [before_VI]*len(vi_s)\n",
      "target_vi = [target_vi]*len(vi_s)\n",
      "\n",
      "fig, ax = plt.subplots()\n",
      "\n",
      "ax.plot(surenesses_, target_vi, 'k--', label='Target VI')\n",
      "ax.plot(surenesses_, vi_s_, 'k', label='Variation of Information')\n",
      "ax.plot(surenesses_, original_vi, 'k:', label='Rhoana VI before')\n",
      "# ax.set_yscale('log')\n",
      "\n",
      "# Now add the legend with some customizations.\n",
      "legend = ax.legend(loc='upper center', shadow=True)\n",
      "ax.set_ylim([0.6,1.5])\n",
      "\n",
      "# The frame is matplotlib.patches.Rectangle instance surrounding the legend.\n",
      "frame = legend.get_frame()\n",
      "frame.set_facecolor('0.90')\n",
      "\n",
      "# Set the fontsize\n",
      "for label in legend.get_texts():\n",
      "    label.set_fontsize('large')\n",
      "\n",
      "for label in legend.get_lines():\n",
      "    label.set_linewidth(1.5)  # the legend line width\n"
     ],
     "language": "python",
     "metadata": {},
     "outputs": [
      {
       "metadata": {},
       "output_type": "display_data",
       "png": "[encoded data removed]",
       "text": [
        "<matplotlib.figure.Figure at 0x108a72110>"
       ]
      }
     ],
     "prompt_number": 10
    },
    {
     "cell_type": "code",
     "collapsed": false,
     "input": [],
     "language": "python",
     "metadata": {},
     "outputs": [],
     "prompt_number": 10
    }
   ],
   "metadata": {}
  }
 ]
}