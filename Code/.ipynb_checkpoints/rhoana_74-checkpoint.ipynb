{
 "metadata": {
  "name": "",
  "signature": "sha256:881a2d20415b3b69976b0f983a9e89bd3c107a3a10cbfa1437a1aac5c730c838"
 },
 "nbformat": 3,
 "nbformat_minor": 0,
 "worksheets": [
  {
   "cells": [
    {
     "cell_type": "code",
     "collapsed": false,
     "input": [
      "%load_ext autoreload\n",
      "%autoreload 2\n",
      "\n",
      "from matplotlib.pyplot import imshow\n",
      "%matplotlib inline\n",
      "\n",
      "import _metrics"
     ],
     "language": "python",
     "metadata": {},
     "outputs": [
      {
       "output_type": "stream",
       "stream": "stderr",
       "text": [
        "_metrics/tifffile.py:1995: UserWarning: failed to import _tifffile.decodepackbits\n",
        "  warnings.warn(\"failed to import %s\" % module_function)\n",
        "_metrics/tifffile.py:1995: UserWarning: failed to import _tifffile.decodelzw\n",
        "  warnings.warn(\"failed to import %s\" % module_function)\n",
        "_metrics/tifffile.py:1995: UserWarning: failed to import _tifffile.unpackints\n",
        "  warnings.warn(\"failed to import %s\" % module_function)\n"
       ]
      }
     ],
     "prompt_number": 1
    },
    {
     "cell_type": "code",
     "collapsed": false,
     "input": [
      "\n",
      "import cv2\n",
      "import glob\n",
      "import numpy as np\n",
      "import mahotas as mh\n",
      "import os\n",
      "import uuid\n",
      "import tifffile as tif\n",
      "from scipy import ndimage as nd\n",
      "from scipy.misc import imrotate\n",
      "import skimage.measure\n",
      "from skimage import img_as_ubyte\n",
      "import random\n",
      "import cPickle as pickle\n",
      "import time\n",
      "import partition_comparison\n",
      "\n",
      "DATA_PATH = '/Volumes/DATA1/EMQM_DATA/ac3x75/'\n",
      "GOLD_PATH = os.path.join(DATA_PATH,'gold/')\n",
      "RHOANA_PATH = os.path.join(DATA_PATH,'rhoana/')\n",
      "IMAGE_PATH = os.path.join(DATA_PATH,'input/')\n",
      "PROB_PATH = os.path.join(DATA_PATH,'prob/')\n",
      "PATCH_PATH = os.path.join(DATA_PATH,'test_rhoana/')\n",
      "\n",
      "\n",
      "gold = _metrics.Util.read(GOLD_PATH+'*.tif')\n",
      "rhoana = _metrics.Util.read(RHOANA_PATH+'*.tif')\n",
      "images = _metrics.Util.read(IMAGE_PATH+'*.tif')\n",
      "probs = _metrics.Util.read(PROB_PATH+'*.tif')"
     ],
     "language": "python",
     "metadata": {},
     "outputs": [
      {
       "output_type": "stream",
       "stream": "stdout",
       "text": [
        "Loaded 75 images.\n",
        "Loaded"
       ]
      },
      {
       "output_type": "stream",
       "stream": "stdout",
       "text": [
        " 75 images.\n",
        "Loaded"
       ]
      },
      {
       "output_type": "stream",
       "stream": "stdout",
       "text": [
        " 75 images.\n",
        "Loaded"
       ]
      },
      {
       "output_type": "stream",
       "stream": "stdout",
       "text": [
        " 75 images.\n"
       ]
      },
      {
       "output_type": "stream",
       "stream": "stderr",
       "text": [
        "tifffile.py:1995: UserWarning: failed to import _tifffile.decodepackbits\n",
        "  warnings.warn(\"failed to import %s\" % module_function)\n",
        "tifffile.py:1995: UserWarning: failed to import _tifffile.decodelzw\n",
        "  warnings.warn(\"failed to import %s\" % module_function)\n",
        "tifffile.py:1995: UserWarning: failed to import _tifffile.unpackints\n",
        "  warnings.warn(\"failed to import %s\" % module_function)\n"
       ]
      }
     ],
     "prompt_number": 2
    },
    {
     "cell_type": "code",
     "collapsed": false,
     "input": [
      "SLICE = 74"
     ],
     "language": "python",
     "metadata": {},
     "outputs": [],
     "prompt_number": 3
    },
    {
     "cell_type": "code",
     "collapsed": false,
     "input": [
      "image = images[SLICE]\n",
      "prob = probs[SLICE]\n",
      "seg = _metrics.Util.normalize_labels(rhoana[SLICE])[0]\n",
      "\n",
      "# fill and normalize gold\n",
      "gold_zeros = _metrics.Util.threshold(gold[SLICE], 0)\n",
      "gold_filled = _metrics.Util.fill(gold[SLICE], gold_zeros.astype(np.bool))\n",
      "gold_filled_relabeled = skimage.measure.label(gold_filled).astype(np.uint64)\n",
      "gold_normalized = _metrics.Util.normalize_labels(gold_filled_relabeled)[0]\n",
      "\n",
      "# color both segmentations\n",
      "cm = _metrics.Util.load_colormap('/Volumes/DATA1/ac3x75/mojo/ids/colorMap.hdf5')\n",
      "colored_rhoana_normalized = cm[seg % len(cm)]\n",
      "colored_gold_normalized = cm[gold_normalized % len(cm)]\n"
     ],
     "language": "python",
     "metadata": {},
     "outputs": [],
     "prompt_number": 4
    },
    {
     "cell_type": "code",
     "collapsed": false,
     "input": [
      "def grab_neighbors(array, label):\n",
      "\n",
      "    thresholded_array = _metrics.Util.threshold(array, label)\n",
      "    thresholded_array_dilated = mh.dilate(thresholded_array.astype(np.uint64))\n",
      "\n",
      "    all_neighbors = np.unique(array[thresholded_array_dilated == thresholded_array_dilated.max()].astype(np.uint64))\n",
      "    all_neighbors = np.delete(all_neighbors, np.where(all_neighbors == label))\n",
      "\n",
      "    return all_neighbors\n",
      "\n",
      "def grab_patch(image, prob, segmentation, l, n, patch_size=(75,75)):\n",
      "\n",
      "    borders = mh.labeled.border(segmentation, l, n)\n",
      "\n",
      "    borders_labeled = skimage.measure.label(borders)\n",
      "    \n",
      "    patches = []\n",
      "    \n",
      "    # check if we need multiple patches because of multiple borders\n",
      "    for b in range(1,borders_labeled.max()+1):\n",
      "#         print 'patch for border', b\n",
      "        \n",
      "        border = _metrics.Util.threshold(borders_labeled, b)\n",
      "\n",
      "        border_yx = indices = zip(*np.where(border==1))\n",
      "\n",
      "        # fault check if no border is found\n",
      "        if len(border_yx) < 2:\n",
      "            print 'no border', l, n, 'border', b\n",
      "            continue\n",
      "\n",
      "        #\n",
      "        # calculate border center properly\n",
      "        #\n",
      "        node = mh.center_of_mass(border)\n",
      "        nodes = border_yx\n",
      "        nodes = np.asarray(nodes)\n",
      "        deltas = nodes - node\n",
      "        dist_2 = np.einsum('ij,ij->i', deltas, deltas)\n",
      "        border_center = border_yx[np.argmin(dist_2)]\n",
      "\n",
      "        # check if border_center is too close to the 4 edges\n",
      "        new_border_center = [border_center[0], border_center[1]]\n",
      "        if border_center[0] < patch_size[0]/2:\n",
      "            return None\n",
      "        if border_center[0]+patch_size[0]/2 >= segmentation.shape[0]:\n",
      "            return None\n",
      "        if border_center[1] < patch_size[1]/2:\n",
      "            return None\n",
      "        if border_center[1]+patch_size[1]/2 >= segmentation.shape[1]:\n",
      "            return None\n",
      "\n",
      "        bbox = [new_border_center[0]-patch_size[0]/2, \n",
      "                new_border_center[0]+patch_size[0]/2,\n",
      "                new_border_center[1]-patch_size[1]/2, \n",
      "                new_border_center[1]+patch_size[1]/2]\n",
      "\n",
      "        ### workaround to not sample white border of probability map\n",
      "        if bbox[0] <= 33:\n",
      "            return None\n",
      "        if bbox[1] >= segmentation.shape[0]-33:\n",
      "            return None\n",
      "        if bbox[2] <= 33:\n",
      "            return None\n",
      "        if bbox[3] >= segmentation.shape[1]-33:\n",
      "            return None\n",
      "\n",
      "\n",
      "        # threshold for label1\n",
      "        array1 = _metrics.Util.threshold(segmentation, l).astype(np.uint8)\n",
      "        # threshold for label2\n",
      "        array2 = _metrics.Util.threshold(segmentation, n).astype(np.uint8)\n",
      "        merged_array = array1 + array2\n",
      "\n",
      "        # dilate for overlap\n",
      "        dilated_array1 = np.array(array1)\n",
      "        dilated_array2 = np.array(array2)\n",
      "        for o in range(10):\n",
      "            dilated_array1 = mh.dilate(dilated_array1.astype(np.uint64))\n",
      "            dilated_array2 = mh.dilate(dilated_array2.astype(np.uint64))\n",
      "        overlap = np.logical_and(dilated_array1, dilated_array2)\n",
      "        overlap[merged_array == 0] = 0\n",
      "\n",
      "        output = {}\n",
      "        output['id'] = str(uuid.uuid4())\n",
      "        output['image'] = image[bbox[0]:bbox[1] + 1, bbox[2]:bbox[3] + 1]\n",
      "        output['prob'] = prob[bbox[0]:bbox[1] + 1, bbox[2]:bbox[3] + 1]\n",
      "        output['l'] = l\n",
      "        output['n'] = n\n",
      "        output['bbox'] = bbox\n",
      "        output['border'] = border_yx\n",
      "        output['border_center'] = new_border_center\n",
      "        output['binary1'] = array1[bbox[0]:bbox[1] + 1, bbox[2]:bbox[3] + 1].astype(np.bool)\n",
      "        output['binary2'] = array2[bbox[0]:bbox[1] + 1, bbox[2]:bbox[3] + 1].astype(np.bool)\n",
      "        output['overlap'] = overlap[bbox[0]:bbox[1] + 1, bbox[2]:bbox[3] + 1].astype(np.bool)\n",
      "\n",
      "        patches.append(output)\n",
      "        \n",
      "    return patches\n",
      "    \n",
      "    \n",
      "\n",
      "def loop(image, prob, segmentation):\n",
      "    labels = range(1,len(_metrics.Util.get_histogram(segmentation.astype(np.uint64))))\n",
      "\n",
      "    patches = []\n",
      "    \n",
      "    for l in labels:\n",
      "        neighbors = grab_neighbors(segmentation, l)\n",
      "        for n in neighbors:\n",
      "            p = grab_patch(image, prob, segmentation, l, n)\n",
      "            if not p:\n",
      "                continue\n",
      "                \n",
      "            patches += p\n",
      "            \n",
      "    return patches\n",
      "\n",
      "def fill_matrix(m, patches):\n",
      "    \n",
      "    patch_grouper = {}\n",
      "    for p in patches:\n",
      "        # create key\n",
      "        minlabel = min(p['l'], p['n'])\n",
      "        maxlabel = max(p['l'], p['n'])\n",
      "        key = str(minlabel)+'-'+str(maxlabel)\n",
      "\n",
      "        if not key in patch_grouper:\n",
      "            patch_grouper[key] = []\n",
      "\n",
      "        patch_grouper[key] += [p]\n",
      "\n",
      "    # now average the probabilities\n",
      "    for k in patch_grouper.keys():\n",
      "\n",
      "        weights = []\n",
      "        predictions = []\n",
      "\n",
      "        for p in patch_grouper[k]:\n",
      "\n",
      "             weights.append(len(p['border']))\n",
      "             predictions.append(test_patch(val_fn, p))\n",
      "\n",
      "        if len(patch_grouper[k]) == 1:\n",
      "            weights[0] = 1\n",
      "\n",
      "        p_sum = 0\n",
      "        w_sum = 0\n",
      "        for i,w in enumerate(weights):\n",
      "            # weighted arithmetic mean\n",
      "            p_sum += w*predictions[i]\n",
      "            w_sum += w\n",
      "\n",
      "        p_sum /= w_sum\n",
      "\n",
      "        patch_grouper[k] = p_sum\n",
      "\n",
      "    for p in patch_grouper.keys():\n",
      "        l = int(p.split('-')[0])\n",
      "        n = int(p.split('-')[1])\n",
      "        \n",
      "        m[l,n] = patch_grouper[p]\n",
      "        \n",
      "    print 'merged', len(patches), 'patches into', len(patch_grouper.keys())\n",
      "        \n",
      "    return m\n",
      "\n",
      "            \n",
      "def setup_n():\n",
      "    from test_cnn_vis import TestCNN\n",
      "    t = TestCNN('7b76867e-c76a-416f-910a-7065e93c616a', 'patches_large2new')\n",
      "    val_fn = t.run()\n",
      "    \n",
      "    return val_fn\n",
      "            \n",
      "def test_patch(val_fn, p):\n",
      "\n",
      "    images = p['image'].reshape(-1, 1, 75, 75).astype(np.uint8)\n",
      "    probs = p['prob'].reshape(-1, 1, 75, 75).astype(np.uint8)\n",
      "    binary1s = p['binary1'].reshape(-1, 1, 75, 75).astype(np.uint8)*255\n",
      "    binary2s = p['binary2'].reshape(-1, 1, 75, 75).astype(np.uint8)*255\n",
      "    overlaps = p['overlap'].reshape(-1, 1, 75, 75).astype(np.uint8)*255\n",
      "    targets = np.array([0], dtype=np.uint8)\n",
      "    \n",
      "    pred, err, acc = val_fn(images, probs, binary1s, binary2s, overlaps, targets)\n",
      "            \n",
      "    return pred[0][1]\n",
      "\n",
      "def create_matrix(val_fn, segmentation, patches):\n",
      "    \n",
      "    \n",
      "    no_labels = len(_metrics.Util.get_histogram(segmentation.astype(np.uint64)))\n",
      "    \n",
      "    m = np.zeros((no_labels,no_labels), dtype=np.float)\n",
      "    m[:,:] = -1 # all uninitialised\n",
      " \n",
      "#     for p in patches:\n",
      "\n",
      "#         prediction = test_patch(val_fn, p)\n",
      "#         m[p['l'], p['n']] = prediction\n",
      "#         m[p['n'], p['l']] = prediction\n",
      "\n",
      "    m = fill_matrix(m, patches)\n",
      "\n",
      "    return m\n",
      "\n",
      "def merge(image, seg, prob, m_old, sureness=1.):\n",
      "    \n",
      "    out = np.array(seg)\n",
      "    m = np.array(m_old)\n",
      "    \n",
      "    patches = []\n",
      "    \n",
      "    # find largest value in matrix\n",
      "    largest_index = np.where(m==m.max())\n",
      "    l,n = (largest_index[0][0], largest_index[1][0])\n",
      "    \n",
      "    # merge these labels\n",
      "    print 'merging', l, n\n",
      "    out[out == l] = n\n",
      "    # set matrix as merged for this entry\n",
      "    m[l,:] = -2\n",
      "    m[:,l] = -2\n",
      "    \n",
      "    # grab neighbors of l\n",
      "    old_neighbors = grab_neighbors(seg, l)\n",
      "    # get patches for l and n_l\n",
      "    for n in old_neighbors:\n",
      "        neighbors = grab_neighbors(out, n)\n",
      "        for k in neighbors:\n",
      "            \n",
      "            # check if this is still a valid combination\n",
      "            if m[n,k] < 0:\n",
      "                # nope!\n",
      "                continue\n",
      "            \n",
      "            p = grab_patch(image, prob, out, n, k)\n",
      "            if not p:\n",
      "                continue\n",
      "\n",
      "            patches += p\n",
      "        \n",
      "    print 'recomputed', len(patches), 'patches'\n",
      "\n",
      "    # now we have a bunch of new patches\n",
      "    # -> update our matrix    \n",
      "#     for p in patches:\n",
      "#         prediction = test_patch(val_fn, p)\n",
      "#         m[p['l'], p['n']] = prediction\n",
      "#         m[p['n'], p['l']] = prediction\n",
      "\n",
      "    m = fill_matrix(m, patches)\n",
      "\n",
      "    return m, out\n",
      "\n",
      "\n",
      "\n",
      "def propagate_max_overlap(rhoana, gold):\n",
      "\n",
      "    out = np.array(rhoana)\n",
      "    \n",
      "    rhoana_labels = _metrics.Util.get_histogram(rhoana.astype(np.uint64))\n",
      "    \n",
      "    for l,k in enumerate(rhoana_labels):\n",
      "        if l == 0:\n",
      "            # ignore 0 since rhoana does not have it\n",
      "            continue\n",
      "        values = gold[rhoana == l]\n",
      "        largest_label = _metrics.Util.get_largest_label(values.astype(np.uint64))\n",
      "    \n",
      "        out[rhoana == l] = largest_label # set the largest label from gold here\n",
      "    \n",
      "    return out\n",
      "        "
     ],
     "language": "python",
     "metadata": {},
     "outputs": [],
     "prompt_number": 5
    },
    {
     "cell_type": "code",
     "collapsed": false,
     "input": [
      "import time\n",
      "t0 = time.time()\n",
      "p = loop(image, prob, seg)\n",
      "print time.time()-t0"
     ],
     "language": "python",
     "metadata": {},
     "outputs": [
      {
       "output_type": "stream",
       "stream": "stdout",
       "text": [
        "941.560980082\n"
       ]
      }
     ],
     "prompt_number": 6
    },
    {
     "cell_type": "code",
     "collapsed": false,
     "input": [
      "val_fn = setup_n()"
     ],
     "language": "python",
     "metadata": {},
     "outputs": [
      {
       "output_type": "stream",
       "stream": "stdout",
       "text": [
        "Loading ['/Volumes/DATA1/split_cnn/patches_large2new/7b76867e-c76a-416f-910a-7065e93c616a/configuration.txt']\n",
        "[\"{'outputpath': '/n/regal/pfister_lab/haehn/split_cnn/patches_large2new/', 'filtersize1': 9, 'filters3': 16, 'filters2': 16, 'batchsize': 100, 'datapath': '/n/regal/pfister_lab/haehn/', 'epochs': 500, 'runmode': 'cluster', 'filtersize2': 9, 'filtersize3': 9, 'filters1': 16, 'patchpath': 'patches_large2new', 'thirdconvlayer': True, 'learning_rate': 0.0001, 'momentum': 0.9}\"]\n",
        "Loading ['/Volumes/DATA1/split_cnn/patches_large2new/7b76867e-c76a-416f-910a-7065e93c616a/network_199.p']\n"
       ]
      },
      {
       "output_type": "stream",
       "stream": "stderr",
       "text": [
        "Using gpu device 0: GeForce GTX TITAN (CNMeM is disabled)\n"
       ]
      }
     ],
     "prompt_number": 7
    },
    {
     "cell_type": "code",
     "collapsed": false,
     "input": [
      "print 'creating matrix'\n",
      "m_new = create_matrix(val_fn, seg, p)\n",
      "out = seg\n",
      "sureness = 0.\n",
      "surenesses = []\n",
      "vi_s = []\n",
      "images = []\n",
      "\n",
      "\n",
      "while m_new.max() >= sureness:\n",
      "    print 'Merging for sureness s=', m_new.max()\n",
      "    surenesses.append(m_new.max())\n",
      "    \n",
      "    m_new, out = merge(image, out, prob, m_new)\n",
      "    \n",
      "    vi = partition_comparison.variation_of_information(out.ravel(), gold_normalized.ravel())\n",
      "    vi_s.append(vi)\n",
      "    \n",
      "    images.append(np.array(out))\n",
      "    \n",
      "    print 'New VI', vi\n",
      "    print '-'*80\n",
      "    "
     ],
     "language": "python",
     "metadata": {},
     "outputs": [
      {
       "output_type": "stream",
       "stream": "stdout",
       "text": [
        "creating matrix\n",
        "merged"
       ]
      },
      {
       "output_type": "stream",
       "stream": "stdout",
       "text": [
        " 1644 patches into 801\n",
        "Merging for sureness s= 1.0\n",
        "merging 154 166\n",
        "recomputed"
       ]
      },
      {
       "output_type": "stream",
       "stream": "stdout",
       "text": [
        " 23 patches\n",
        "merged"
       ]
      },
      {
       "output_type": "stream",
       "stream": "stdout",
       "text": [
        " 23 patches into 20\n",
        "New VI"
       ]
      },
      {
       "output_type": "stream",
       "stream": "stdout",
       "text": [
        " 0.834725301935\n",
        "--------------------------------------------------------------------------------\n",
        "Merging for sureness s= 1.0\n",
        "merging 156 160\n",
        "recomputed"
       ]
      },
      {
       "output_type": "stream",
       "stream": "stdout",
       "text": [
        " 34 patches\n",
        "merged"
       ]
      },
      {
       "output_type": "stream",
       "stream": "stdout",
       "text": [
        " 34 patches into 32\n",
        "New VI"
       ]
      },
      {
       "output_type": "stream",
       "stream": "stdout",
       "text": [
        " 0.835663031349\n",
        "--------------------------------------------------------------------------------\n",
        "Merging for sureness s= 1.0\n",
        "merging 281 315\n",
        "recomputed"
       ]
      },
      {
       "output_type": "stream",
       "stream": "stdout",
       "text": [
        " 18 patches\n",
        "merged"
       ]
      },
      {
       "output_type": "stream",
       "stream": "stdout",
       "text": [
        " 18 patches into 18\n",
        "New VI"
       ]
      },
      {
       "output_type": "stream",
       "stream": "stdout",
       "text": [
        " 0.835761531171\n",
        "--------------------------------------------------------------------------------\n",
        "Merging for sureness s= 1.0\n",
        "merging 309 315\n",
        "recomputed"
       ]
      },
      {
       "output_type": "stream",
       "stream": "stdout",
       "text": [
        " 23 patches\n",
        "merged"
       ]
      },
      {
       "output_type": "stream",
       "stream": "stdout",
       "text": [
        " 23 patches into 20\n",
        "New VI"
       ]
      },
      {
       "output_type": "stream",
       "stream": "stdout",
       "text": [
        " 0.8413142188\n",
        "--------------------------------------------------------------------------------\n",
        "Merging for sureness s= 0.999999880791\n",
        "merging 59 123\n",
        "recomputed"
       ]
      },
      {
       "output_type": "stream",
       "stream": "stdout",
       "text": [
        " 16 patches\n",
        "merged"
       ]
      },
      {
       "output_type": "stream",
       "stream": "stdout",
       "text": [
        " 16 patches into 16\n",
        "New VI"
       ]
      },
      {
       "output_type": "stream",
       "stream": "stdout",
       "text": [
        " 0.840087187851\n",
        "--------------------------------------------------------------------------------\n",
        "Merging for sureness s= 0.999999761581\n",
        "merging 319 320\n",
        "recomputed"
       ]
      },
      {
       "output_type": "stream",
       "stream": "stdout",
       "text": [
        " 18 patches\n",
        "merged"
       ]
      },
      {
       "output_type": "stream",
       "stream": "stdout",
       "text": [
        " 18 patches into 16\n",
        "New VI"
       ]
      },
      {
       "output_type": "stream",
       "stream": "stdout",
       "text": [
        " 0.839656508612\n",
        "--------------------------------------------------------------------------------\n",
        "Merging for sureness s= 0.999999642372\n",
        "merging 31 35\n",
        "recomputed"
       ]
      },
      {
       "output_type": "stream",
       "stream": "stdout",
       "text": [
        " 19 patches\n",
        "merged"
       ]
      },
      {
       "output_type": "stream",
       "stream": "stdout",
       "text": [
        " 19 patches into 18\n",
        "New VI"
       ]
      },
      {
       "output_type": "stream",
       "stream": "stdout",
       "text": [
        " 0.839091901859\n",
        "--------------------------------------------------------------------------------\n",
        "Merging for sureness s= 0.999999463558\n",
        "merging 44 49\n",
        "recomputed"
       ]
      },
      {
       "output_type": "stream",
       "stream": "stdout",
       "text": [
        " 11 patches\n",
        "merged"
       ]
      },
      {
       "output_type": "stream",
       "stream": "stdout",
       "text": [
        " 11 patches into 11\n",
        "New VI"
       ]
      },
      {
       "output_type": "stream",
       "stream": "stdout",
       "text": [
        " 0.839340185475\n",
        "--------------------------------------------------------------------------------\n",
        "Merging for sureness s= 0.999965727329\n",
        "merging 106 108\n",
        "recomputed"
       ]
      },
      {
       "output_type": "stream",
       "stream": "stdout",
       "text": [
        " 13 patches\n",
        "merged"
       ]
      },
      {
       "output_type": "stream",
       "stream": "stdout",
       "text": [
        " 13 patches into 13\n",
        "New VI"
       ]
      },
      {
       "output_type": "stream",
       "stream": "stdout",
       "text": [
        " 0.838243932983\n",
        "--------------------------------------------------------------------------------\n",
        "Merging for sureness s= 0.999921798706\n",
        "merging 97 136\n",
        "recomputed"
       ]
      },
      {
       "output_type": "stream",
       "stream": "stdout",
       "text": [
        " 63 patches\n",
        "merged"
       ]
      },
      {
       "output_type": "stream",
       "stream": "stdout",
       "text": [
        " 63 patches into 59\n",
        "New VI"
       ]
      },
      {
       "output_type": "stream",
       "stream": "stdout",
       "text": [
        " 0.838363483191\n",
        "--------------------------------------------------------------------------------\n",
        "Merging for sureness s= 0.99977222085\n",
        "merging 149 150\n",
        "recomputed"
       ]
      },
      {
       "output_type": "stream",
       "stream": "stdout",
       "text": [
        " 9 patches\n",
        "merged 9 patches into 9\n",
        "New VI"
       ]
      },
      {
       "output_type": "stream",
       "stream": "stdout",
       "text": [
        " 0.838452435846\n",
        "--------------------------------------------------------------------------------\n",
        "Merging for sureness s= 0.99943831563\n",
        "merging 64 68\n",
        "recomputed"
       ]
      },
      {
       "output_type": "stream",
       "stream": "stdout",
       "text": [
        " 72 patches\n",
        "merged"
       ]
      },
      {
       "output_type": "stream",
       "stream": "stdout",
       "text": [
        " 72 patches into 67\n",
        "New VI"
       ]
      },
      {
       "output_type": "stream",
       "stream": "stdout",
       "text": [
        " 0.837797136203\n",
        "--------------------------------------------------------------------------------\n",
        "Merging for sureness s= 0.999169230461\n",
        "merging 30 32\n",
        "recomputed"
       ]
      },
      {
       "output_type": "stream",
       "stream": "stdout",
       "text": [
        " 9 patches\n",
        "merged"
       ]
      },
      {
       "output_type": "stream",
       "stream": "stdout",
       "text": [
        " 9 patches into 9\n",
        "New VI"
       ]
      },
      {
       "output_type": "stream",
       "stream": "stdout",
       "text": [
        " 0.837538867973\n",
        "--------------------------------------------------------------------------------\n",
        "Merging for sureness s= 0.99739331007\n",
        "merging 211 212\n",
        "recomputed"
       ]
      },
      {
       "output_type": "stream",
       "stream": "stdout",
       "text": [
        " 26 patches\n",
        "merged"
       ]
      },
      {
       "output_type": "stream",
       "stream": "stdout",
       "text": [
        " 26 patches into 25\n",
        "New VI"
       ]
      },
      {
       "output_type": "stream",
       "stream": "stdout",
       "text": [
        " 0.837023862776\n",
        "--------------------------------------------------------------------------------\n",
        "Merging for sureness s= 0.993736177683\n",
        "merging 200 239\n",
        "recomputed"
       ]
      },
      {
       "output_type": "stream",
       "stream": "stdout",
       "text": [
        " 45 patches\n",
        "merged"
       ]
      },
      {
       "output_type": "stream",
       "stream": "stdout",
       "text": [
        " 45 patches into 45\n",
        "New VI"
       ]
      },
      {
       "output_type": "stream",
       "stream": "stdout",
       "text": [
        " 0.836533252774\n",
        "--------------------------------------------------------------------------------\n",
        "Merging for sureness s= 0.985098898411\n",
        "merging 78 86\n",
        "recomputed"
       ]
      },
      {
       "output_type": "stream",
       "stream": "stdout",
       "text": [
        " 18 patches\n",
        "merged"
       ]
      },
      {
       "output_type": "stream",
       "stream": "stdout",
       "text": [
        " 18 patches into 18\n",
        "New VI"
       ]
      },
      {
       "output_type": "stream",
       "stream": "stdout",
       "text": [
        " 0.836526161628\n",
        "--------------------------------------------------------------------------------\n",
        "Merging for sureness s= 0.980863213539\n",
        "merging 260 261\n",
        "recomputed"
       ]
      },
      {
       "output_type": "stream",
       "stream": "stdout",
       "text": [
        " 11 patches\n",
        "merged"
       ]
      },
      {
       "output_type": "stream",
       "stream": "stdout",
       "text": [
        " 11 patches into 11\n",
        "New VI"
       ]
      },
      {
       "output_type": "stream",
       "stream": "stdout",
       "text": [
        " 0.834508609157\n",
        "--------------------------------------------------------------------------------\n",
        "Merging for sureness s= 0.973511755466\n",
        "merging 160 173\n",
        "recomputed"
       ]
      },
      {
       "output_type": "stream",
       "stream": "stdout",
       "text": [
        " 40 patches\n",
        "merged"
       ]
      },
      {
       "output_type": "stream",
       "stream": "stdout",
       "text": [
        " 40 patches into 38\n",
        "New VI"
       ]
      },
      {
       "output_type": "stream",
       "stream": "stdout",
       "text": [
        " 0.834921620188\n",
        "--------------------------------------------------------------------------------\n",
        "Merging for sureness s= 0.964622378349\n",
        "merging 88 96\n",
        "recomputed"
       ]
      },
      {
       "output_type": "stream",
       "stream": "stdout",
       "text": [
        " 14 patches\n",
        "merged"
       ]
      },
      {
       "output_type": "stream",
       "stream": "stdout",
       "text": [
        " 14 patches into 14\n",
        "New VI"
       ]
      },
      {
       "output_type": "stream",
       "stream": "stdout",
       "text": [
        " 0.829784525706\n",
        "--------------------------------------------------------------------------------\n",
        "Merging for sureness s= 0.952350318432\n",
        "merging 210 223\n",
        "recomputed"
       ]
      },
      {
       "output_type": "stream",
       "stream": "stdout",
       "text": [
        " 15 patches\n",
        "merged"
       ]
      },
      {
       "output_type": "stream",
       "stream": "stdout",
       "text": [
        " 15 patches into 15\n",
        "New VI"
       ]
      },
      {
       "output_type": "stream",
       "stream": "stdout",
       "text": [
        " 0.832442260171\n",
        "--------------------------------------------------------------------------------\n",
        "Merging for sureness s= 0.943906784058\n",
        "merging 32 33\n",
        "recomputed"
       ]
      },
      {
       "output_type": "stream",
       "stream": "stdout",
       "text": [
        " 21 patches\n",
        "merged"
       ]
      },
      {
       "output_type": "stream",
       "stream": "stdout",
       "text": [
        " 21 patches into 20\n",
        "New VI"
       ]
      },
      {
       "output_type": "stream",
       "stream": "stdout",
       "text": [
        " 0.832149556487\n",
        "--------------------------------------------------------------------------------\n",
        "Merging for sureness s= 0.941852748394\n",
        "merging 251 267\n",
        "recomputed"
       ]
      },
      {
       "output_type": "stream",
       "stream": "stdout",
       "text": [
        " 32 patches\n",
        "merged"
       ]
      },
      {
       "output_type": "stream",
       "stream": "stdout",
       "text": [
        " 32 patches into 31\n",
        "New VI"
       ]
      },
      {
       "output_type": "stream",
       "stream": "stdout",
       "text": [
        " 0.830232603254\n",
        "--------------------------------------------------------------------------------\n",
        "Merging for sureness s= 0.914894014597\n",
        "merging 249 255\n",
        "recomputed"
       ]
      },
      {
       "output_type": "stream",
       "stream": "stdout",
       "text": [
        " 12 patches\n",
        "merged"
       ]
      },
      {
       "output_type": "stream",
       "stream": "stdout",
       "text": [
        " 12 patches into 12\n",
        "New VI"
       ]
      },
      {
       "output_type": "stream",
       "stream": "stdout",
       "text": [
        " 0.829901849367\n",
        "--------------------------------------------------------------------------------\n",
        "Merging for sureness s= 0.900794863701\n",
        "merging 267 279\n",
        "recomputed"
       ]
      },
      {
       "output_type": "stream",
       "stream": "stdout",
       "text": [
        " 32 patches\n",
        "merged"
       ]
      },
      {
       "output_type": "stream",
       "stream": "stdout",
       "text": [
        " 32 patches into 31\n",
        "New VI"
       ]
      },
      {
       "output_type": "stream",
       "stream": "stdout",
       "text": [
        " 0.829910197788\n",
        "--------------------------------------------------------------------------------\n",
        "Merging for sureness s= 0.878806143999\n",
        "merging 56 61\n",
        "recomputed"
       ]
      },
      {
       "output_type": "stream",
       "stream": "stdout",
       "text": [
        " 54 patches\n",
        "merged"
       ]
      },
      {
       "output_type": "stream",
       "stream": "stdout",
       "text": [
        " 54 patches into 50\n",
        "New VI"
       ]
      },
      {
       "output_type": "stream",
       "stream": "stdout",
       "text": [
        " 0.829866206778\n",
        "--------------------------------------------------------------------------------\n",
        "Merging for sureness s= 0.843197643757\n",
        "merging 39 46\n",
        "recomputed"
       ]
      },
      {
       "output_type": "stream",
       "stream": "stdout",
       "text": [
        " 16 patches\n",
        "merged"
       ]
      },
      {
       "output_type": "stream",
       "stream": "stdout",
       "text": [
        " 16 patches into 15\n",
        "New VI"
       ]
      },
      {
       "output_type": "stream",
       "stream": "stdout",
       "text": [
        " 0.83062827776\n",
        "--------------------------------------------------------------------------------\n",
        "Merging for sureness s= 0.838698416948\n",
        "merging 172 178\n",
        "recomputed"
       ]
      },
      {
       "output_type": "stream",
       "stream": "stdout",
       "text": [
        " 13 patches\n",
        "merged"
       ]
      },
      {
       "output_type": "stream",
       "stream": "stdout",
       "text": [
        " 13 patches into 13\n",
        "New VI"
       ]
      },
      {
       "output_type": "stream",
       "stream": "stdout",
       "text": [
        " 0.830513822259\n",
        "--------------------------------------------------------------------------------\n",
        "Merging for sureness s= 0.831971883774\n",
        "merging 45 72\n",
        "recomputed"
       ]
      },
      {
       "output_type": "stream",
       "stream": "stdout",
       "text": [
        " 39 patches\n",
        "merged"
       ]
      },
      {
       "output_type": "stream",
       "stream": "stdout",
       "text": [
        " 39 patches into 38\n",
        "New VI"
       ]
      },
      {
       "output_type": "stream",
       "stream": "stdout",
       "text": [
        " 0.830669596477\n",
        "--------------------------------------------------------------------------------\n",
        "Merging for sureness s= 0.968719124794\n",
        "merging 65 72\n",
        "recomputed"
       ]
      },
      {
       "output_type": "stream",
       "stream": "stdout",
       "text": [
        " 26 patches\n",
        "merged"
       ]
      },
      {
       "output_type": "stream",
       "stream": "stdout",
       "text": [
        " 26 patches into 25\n",
        "New VI"
       ]
      },
      {
       "output_type": "stream",
       "stream": "stdout",
       "text": [
        " 0.834556399431\n",
        "--------------------------------------------------------------------------------\n",
        "Merging for sureness s= 0.810238689184\n",
        "merging 191 199\n",
        "recomputed"
       ]
      },
      {
       "output_type": "stream",
       "stream": "stdout",
       "text": [
        " 15 patches\n",
        "merged"
       ]
      },
      {
       "output_type": "stream",
       "stream": "stdout",
       "text": [
        " 15 patches into 15\n",
        "New VI"
       ]
      },
      {
       "output_type": "stream",
       "stream": "stdout",
       "text": [
        " 0.834614941364\n",
        "--------------------------------------------------------------------------------\n",
        "Merging for sureness s= 0.846336841583\n",
        "merging 162 164\n",
        "recomputed"
       ]
      },
      {
       "output_type": "stream",
       "stream": "stdout",
       "text": [
        " 38 patches\n",
        "merged"
       ]
      },
      {
       "output_type": "stream",
       "stream": "stdout",
       "text": [
        " 38 patches into 38\n",
        "New VI"
       ]
      },
      {
       "output_type": "stream",
       "stream": "stdout",
       "text": [
        " 0.832994548476\n",
        "--------------------------------------------------------------------------------\n",
        "Merging for sureness s= 0.792869567871\n",
        "merging 104 107\n",
        "recomputed"
       ]
      },
      {
       "output_type": "stream",
       "stream": "stdout",
       "text": [
        " 54 patches\n",
        "merged"
       ]
      },
      {
       "output_type": "stream",
       "stream": "stdout",
       "text": [
        " 54 patches into 50\n",
        "New VI"
       ]
      },
      {
       "output_type": "stream",
       "stream": "stdout",
       "text": [
        " 0.832935244479\n",
        "--------------------------------------------------------------------------------\n",
        "Merging for sureness s= 0.775893479586\n",
        "merging 128 137\n",
        "recomputed"
       ]
      },
      {
       "output_type": "stream",
       "stream": "stdout",
       "text": [
        " 28 patches\n",
        "merged"
       ]
      },
      {
       "output_type": "stream",
       "stream": "stdout",
       "text": [
        " 28 patches into 28\n",
        "New VI"
       ]
      },
      {
       "output_type": "stream",
       "stream": "stdout",
       "text": [
        " 0.832868886057\n",
        "--------------------------------------------------------------------------------\n",
        "Merging for sureness s= 0.772511780262\n",
        "merging 197 204\n",
        "recomputed"
       ]
      },
      {
       "output_type": "stream",
       "stream": "stdout",
       "text": [
        " 15 patches\n",
        "merged"
       ]
      },
      {
       "output_type": "stream",
       "stream": "stdout",
       "text": [
        " 15 patches into 15\n",
        "New VI"
       ]
      },
      {
       "output_type": "stream",
       "stream": "stdout",
       "text": [
        " 0.833184638485\n",
        "--------------------------------------------------------------------------------\n",
        "Merging for sureness s= 0.737643450499\n",
        "merging 141 143\n",
        "recomputed"
       ]
      },
      {
       "output_type": "stream",
       "stream": "stdout",
       "text": [
        " 50 patches\n",
        "merged"
       ]
      },
      {
       "output_type": "stream",
       "stream": "stdout",
       "text": [
        " 50 patches into 46\n",
        "New VI"
       ]
      },
      {
       "output_type": "stream",
       "stream": "stdout",
       "text": [
        " 0.832877994119\n",
        "--------------------------------------------------------------------------------\n",
        "Merging for sureness s= 0.732671409845\n",
        "merging 285 303\n",
        "recomputed"
       ]
      },
      {
       "output_type": "stream",
       "stream": "stdout",
       "text": [
        " 23 patches\n",
        "merged"
       ]
      },
      {
       "output_type": "stream",
       "stream": "stdout",
       "text": [
        " 23 patches into 23\n",
        "New VI"
       ]
      },
      {
       "output_type": "stream",
       "stream": "stdout",
       "text": [
        " 0.832619208407\n",
        "--------------------------------------------------------------------------------\n",
        "Merging for sureness s= 0.729513168335\n",
        "merging 119 138\n",
        "recomputed"
       ]
      },
      {
       "output_type": "stream",
       "stream": "stdout",
       "text": [
        " 33 patches\n",
        "merged"
       ]
      },
      {
       "output_type": "stream",
       "stream": "stdout",
       "text": [
        " 33 patches into 31\n",
        "New VI"
       ]
      },
      {
       "output_type": "stream",
       "stream": "stdout",
       "text": [
        " 0.835416991308\n",
        "--------------------------------------------------------------------------------\n",
        "Merging for sureness s= 0.985585689545\n",
        "merging 131 138\n",
        "recomputed"
       ]
      },
      {
       "output_type": "stream",
       "stream": "stdout",
       "text": [
        " 7 patches\n",
        "merged 7 patches into 7\n",
        "New VI"
       ]
      },
      {
       "output_type": "stream",
       "stream": "stdout",
       "text": [
        " 0.835754905404\n",
        "--------------------------------------------------------------------------------\n",
        "Merging for sureness s= 0.707961916924\n",
        "merging 276 279\n",
        "recomputed"
       ]
      },
      {
       "output_type": "stream",
       "stream": "stdout",
       "text": [
        " 13 patches\n",
        "merged"
       ]
      },
      {
       "output_type": "stream",
       "stream": "stdout",
       "text": [
        " 13 patches into 13\n",
        "New VI"
       ]
      },
      {
       "output_type": "stream",
       "stream": "stdout",
       "text": [
        " 0.836728632105\n",
        "--------------------------------------------------------------------------------\n",
        "Merging for sureness s= 0.694652140141\n",
        "merging 322 332\n",
        "recomputed"
       ]
      },
      {
       "output_type": "stream",
       "stream": "stdout",
       "text": [
        " 17 patches\n",
        "merged"
       ]
      },
      {
       "output_type": "stream",
       "stream": "stdout",
       "text": [
        " 17 patches into 17\n",
        "New VI"
       ]
      },
      {
       "output_type": "stream",
       "stream": "stdout",
       "text": [
        " 0.83682795817\n",
        "--------------------------------------------------------------------------------\n",
        "Merging for sureness s= 0.669109642506\n",
        "merging 175 179\n",
        "recomputed"
       ]
      },
      {
       "output_type": "stream",
       "stream": "stdout",
       "text": [
        " 9 patches\n",
        "merged"
       ]
      },
      {
       "output_type": "stream",
       "stream": "stdout",
       "text": [
        " 9 patches into 9\n",
        "New VI"
       ]
      },
      {
       "output_type": "stream",
       "stream": "stdout",
       "text": [
        " 0.836264511209\n",
        "--------------------------------------------------------------------------------\n",
        "Merging for sureness s= 0.667794406414\n",
        "merging 49 53\n",
        "recomputed"
       ]
      },
      {
       "output_type": "stream",
       "stream": "stdout",
       "text": [
        " 13 patches\n",
        "merged"
       ]
      },
      {
       "output_type": "stream",
       "stream": "stdout",
       "text": [
        " 13 patches into 12\n",
        "New VI"
       ]
      },
      {
       "output_type": "stream",
       "stream": "stdout",
       "text": [
        " 0.836130341515\n",
        "--------------------------------------------------------------------------------\n",
        "Merging for sureness s= 0.667743995786\n",
        "merging 127 130\n",
        "recomputed"
       ]
      },
      {
       "output_type": "stream",
       "stream": "stdout",
       "text": [
        " 26 patches\n",
        "merged"
       ]
      },
      {
       "output_type": "stream",
       "stream": "stdout",
       "text": [
        " 26 patches into 26\n",
        "New VI"
       ]
      },
      {
       "output_type": "stream",
       "stream": "stdout",
       "text": [
        " 0.836303610001\n",
        "--------------------------------------------------------------------------------\n",
        "Merging for sureness s= 0.664504915476\n",
        "merging 286 293\n",
        "recomputed"
       ]
      },
      {
       "output_type": "stream",
       "stream": "stdout",
       "text": [
        " 12 patches\n",
        "merged"
       ]
      },
      {
       "output_type": "stream",
       "stream": "stdout",
       "text": [
        " 12 patches into 12\n",
        "New VI"
       ]
      },
      {
       "output_type": "stream",
       "stream": "stdout",
       "text": [
        " 0.835960799314\n",
        "--------------------------------------------------------------------------------\n",
        "Merging for sureness s= 0.999472260475\n",
        "merging 272 293\n",
        "recomputed"
       ]
      },
      {
       "output_type": "stream",
       "stream": "stdout",
       "text": [
        " 24 patches\n",
        "merged"
       ]
      },
      {
       "output_type": "stream",
       "stream": "stdout",
       "text": [
        " 24 patches into 22\n",
        "New VI"
       ]
      },
      {
       "output_type": "stream",
       "stream": "stdout",
       "text": [
        " 0.83469207836\n",
        "--------------------------------------------------------------------------------\n",
        "Merging for sureness s= 0.606986194849\n",
        "merging 287 290\n",
        "recomputed"
       ]
      },
      {
       "output_type": "stream",
       "stream": "stdout",
       "text": [
        " 12 patches\n",
        "merged"
       ]
      },
      {
       "output_type": "stream",
       "stream": "stdout",
       "text": [
        " 12 patches into 12\n",
        "New VI"
       ]
      },
      {
       "output_type": "stream",
       "stream": "stdout",
       "text": [
        " 0.835434781398\n",
        "--------------------------------------------------------------------------------\n",
        "Merging for sureness s= 0.552886962891\n",
        "merging 17 215\n",
        "recomputed"
       ]
      },
      {
       "output_type": "stream",
       "stream": "stdout",
       "text": [
        " 99 patches\n",
        "merged"
       ]
      },
      {
       "output_type": "stream",
       "stream": "stdout",
       "text": [
        " 99 patches into 98\n",
        "New VI"
       ]
      },
      {
       "output_type": "stream",
       "stream": "stdout",
       "text": [
        " 0.842705613546\n",
        "--------------------------------------------------------------------------------\n",
        "Merging for sureness s= 0.847920954227\n",
        "merging 213 215\n",
        "recomputed"
       ]
      },
      {
       "output_type": "stream",
       "stream": "stdout",
       "text": [
        " 11 patches\n",
        "merged"
       ]
      },
      {
       "output_type": "stream",
       "stream": "stdout",
       "text": [
        " 11 patches into 11\n",
        "New VI"
       ]
      },
      {
       "output_type": "stream",
       "stream": "stdout",
       "text": [
        " 0.843174833993\n",
        "--------------------------------------------------------------------------------\n",
        "Merging for sureness s= 0.547001779079\n",
        "merging 66 74\n",
        "recomputed"
       ]
      },
      {
       "output_type": "stream",
       "stream": "stdout",
       "text": [
        " 9 patches\n",
        "merged"
       ]
      },
      {
       "output_type": "stream",
       "stream": "stdout",
       "text": [
        " 9 patches into 9\n",
        "New VI"
       ]
      },
      {
       "output_type": "stream",
       "stream": "stdout",
       "text": [
        " 0.84304697388\n",
        "--------------------------------------------------------------------------------\n",
        "Merging for sureness s= 0.539796859026\n",
        "merging 87 90\n",
        "recomputed"
       ]
      },
      {
       "output_type": "stream",
       "stream": "stdout",
       "text": [
        " 14 patches\n",
        "merged"
       ]
      },
      {
       "output_type": "stream",
       "stream": "stdout",
       "text": [
        " 14 patches into 13\n",
        "New VI"
       ]
      },
      {
       "output_type": "stream",
       "stream": "stdout",
       "text": [
        " 0.842549343531\n",
        "--------------------------------------------------------------------------------\n",
        "Merging for sureness s= 0.426643192768\n",
        "merging 296 297\n",
        "recomputed"
       ]
      },
      {
       "output_type": "stream",
       "stream": "stdout",
       "text": [
        " 13 patches\n",
        "merged"
       ]
      },
      {
       "output_type": "stream",
       "stream": "stdout",
       "text": [
        " 13 patches into 12\n",
        "New VI"
       ]
      },
      {
       "output_type": "stream",
       "stream": "stdout",
       "text": [
        " 0.842485009797\n",
        "--------------------------------------------------------------------------------\n",
        "Merging for sureness s= 0.425595343113\n",
        "merging 333 335\n",
        "recomputed"
       ]
      },
      {
       "output_type": "stream",
       "stream": "stdout",
       "text": [
        " 9 patches\n",
        "merged 9 patches into 9\n",
        "New VI"
       ]
      },
      {
       "output_type": "stream",
       "stream": "stdout",
       "text": [
        " 0.842600885905\n",
        "--------------------------------------------------------------------------------\n",
        "Merging for sureness s= 0.425136297941\n",
        "merging 180 208\n",
        "recomputed"
       ]
      },
      {
       "output_type": "stream",
       "stream": "stdout",
       "text": [
        " 16 patches\n",
        "merged"
       ]
      },
      {
       "output_type": "stream",
       "stream": "stdout",
       "text": [
        " 16 patches into 16\n",
        "New VI"
       ]
      },
      {
       "output_type": "stream",
       "stream": "stdout",
       "text": [
        " 0.842396068945\n",
        "--------------------------------------------------------------------------------\n",
        "Merging for sureness s= 0.407172679901\n",
        "merging 163 177\n",
        "recomputed"
       ]
      },
      {
       "output_type": "stream",
       "stream": "stdout",
       "text": [
        " 15 patches\n",
        "merged"
       ]
      },
      {
       "output_type": "stream",
       "stream": "stdout",
       "text": [
        " 15 patches into 15\n",
        "New VI"
       ]
      },
      {
       "output_type": "stream",
       "stream": "stdout",
       "text": [
        " 0.842286625117\n",
        "--------------------------------------------------------------------------------\n",
        "Merging for sureness s= 0.33739066124\n",
        "merging 158 166\n",
        "recomputed"
       ]
      },
      {
       "output_type": "stream",
       "stream": "stdout",
       "text": [
        " 10 patches\n",
        "merged"
       ]
      },
      {
       "output_type": "stream",
       "stream": "stdout",
       "text": [
        " 10 patches into 9\n",
        "New VI"
       ]
      },
      {
       "output_type": "stream",
       "stream": "stdout",
       "text": [
        " 0.840738330922\n",
        "--------------------------------------------------------------------------------\n",
        "Merging for sureness s= 0.319297239184\n",
        "merging 121 130\n",
        "recomputed"
       ]
      },
      {
       "output_type": "stream",
       "stream": "stdout",
       "text": [
        " 19 patches\n",
        "merged"
       ]
      },
      {
       "output_type": "stream",
       "stream": "stdout",
       "text": [
        " 19 patches into 19\n",
        "New VI"
       ]
      },
      {
       "output_type": "stream",
       "stream": "stdout",
       "text": [
        " 0.840618144106\n",
        "--------------------------------------------------------------------------------\n",
        "Merging for sureness s= 0.316118091345\n",
        "merging 113 132\n",
        "recomputed"
       ]
      },
      {
       "output_type": "stream",
       "stream": "stdout",
       "text": [
        " 2 patches\n",
        "merged 2 patches into 2\n",
        "New VI"
       ]
      },
      {
       "output_type": "stream",
       "stream": "stdout",
       "text": [
        " 0.839336733804\n",
        "--------------------------------------------------------------------------------\n",
        "Merging for sureness s= 0.304866807535\n",
        "merging 227 233\n",
        "recomputed"
       ]
      },
      {
       "output_type": "stream",
       "stream": "stdout",
       "text": [
        " 6 patches\n",
        "merged 6 patches into 6\n",
        "New VI"
       ]
      },
      {
       "output_type": "stream",
       "stream": "stdout",
       "text": [
        " 0.839579976569\n",
        "--------------------------------------------------------------------------------\n",
        "Merging for sureness s= 0.288460671902\n",
        "merging 280 308\n",
        "recomputed"
       ]
      },
      {
       "output_type": "stream",
       "stream": "stdout",
       "text": [
        " 10 patches\n",
        "merged"
       ]
      },
      {
       "output_type": "stream",
       "stream": "stdout",
       "text": [
        " 10 patches into 10\n",
        "New VI"
       ]
      },
      {
       "output_type": "stream",
       "stream": "stdout",
       "text": [
        " 0.84026432352\n",
        "--------------------------------------------------------------------------------\n",
        "Merging for sureness s= 0.284629195929\n",
        "merging 47 57\n",
        "recomputed"
       ]
      },
      {
       "output_type": "stream",
       "stream": "stdout",
       "text": [
        " 25 patches\n",
        "merged"
       ]
      },
      {
       "output_type": "stream",
       "stream": "stdout",
       "text": [
        " 25 patches into 24\n",
        "New VI"
       ]
      },
      {
       "output_type": "stream",
       "stream": "stdout",
       "text": [
        " 0.840090793629\n",
        "--------------------------------------------------------------------------------\n",
        "Merging for sureness s= 0.266337692738\n",
        "merging 82 85\n",
        "recomputed"
       ]
      },
      {
       "output_type": "stream",
       "stream": "stdout",
       "text": [
        " 10 patches\n",
        "merged"
       ]
      },
      {
       "output_type": "stream",
       "stream": "stdout",
       "text": [
        " 10 patches into 9\n",
        "New VI"
       ]
      },
      {
       "output_type": "stream",
       "stream": "stdout",
       "text": [
        " 0.839708323381\n",
        "--------------------------------------------------------------------------------\n",
        "Merging for sureness s= 0.261617273092\n",
        "merging 21 35\n",
        "recomputed"
       ]
      },
      {
       "output_type": "stream",
       "stream": "stdout",
       "text": [
        " 21 patches\n",
        "merged"
       ]
      },
      {
       "output_type": "stream",
       "stream": "stdout",
       "text": [
        " 21 patches into 19\n",
        "New VI"
       ]
      },
      {
       "output_type": "stream",
       "stream": "stdout",
       "text": [
        " 0.841249977324\n",
        "--------------------------------------------------------------------------------\n",
        "Merging for sureness s= 0.257879912853\n",
        "merging 133 230\n",
        "recomputed"
       ]
      },
      {
       "output_type": "stream",
       "stream": "stdout",
       "text": [
        " 52 patches\n",
        "merged"
       ]
      },
      {
       "output_type": "stream",
       "stream": "stdout",
       "text": [
        " 52 patches into 50\n",
        "New VI"
       ]
      },
      {
       "output_type": "stream",
       "stream": "stdout",
       "text": [
        " 0.844166128636\n",
        "--------------------------------------------------------------------------------\n",
        "Merging for sureness s= 0.22694607079\n",
        "merging 99 101\n",
        "recomputed"
       ]
      },
      {
       "output_type": "stream",
       "stream": "stdout",
       "text": [
        " 9 patches\n",
        "merged"
       ]
      },
      {
       "output_type": "stream",
       "stream": "stdout",
       "text": [
        " 9 patches into 9\n",
        "New VI"
       ]
      },
      {
       "output_type": "stream",
       "stream": "stdout",
       "text": [
        " 0.844413108704\n",
        "--------------------------------------------------------------------------------\n",
        "Merging for sureness s= 0.222107633948\n",
        "merging 183 184\n",
        "recomputed"
       ]
      },
      {
       "output_type": "stream",
       "stream": "stdout",
       "text": [
        " 4 patches\n",
        "merged 4 patches into 4\n",
        "New VI"
       ]
      },
      {
       "output_type": "stream",
       "stream": "stdout",
       "text": [
        " 0.843969468054\n",
        "--------------------------------------------------------------------------------\n",
        "Merging for sureness s= 0.191369637847\n",
        "merging 335 340\n",
        "recomputed"
       ]
      },
      {
       "output_type": "stream",
       "stream": "stdout",
       "text": [
        " 6 patches\n",
        "merged 6 patches into 6\n",
        "New VI"
       ]
      },
      {
       "output_type": "stream",
       "stream": "stdout",
       "text": [
        " 0.844490137099\n",
        "--------------------------------------------------------------------------------\n",
        "Merging for sureness s= 0.178895279765\n",
        "merging 155 161\n",
        "recomputed"
       ]
      },
      {
       "output_type": "stream",
       "stream": "stdout",
       "text": [
        " 8 patches\n",
        "merged"
       ]
      },
      {
       "output_type": "stream",
       "stream": "stdout",
       "text": [
        " 8 patches into 8\n",
        "New VI"
       ]
      },
      {
       "output_type": "stream",
       "stream": "stdout",
       "text": [
        " 0.845059202971\n",
        "--------------------------------------------------------------------------------\n",
        "Merging for sureness s= 0.149298861623\n",
        "merging 184 206\n",
        "recomputed"
       ]
      },
      {
       "output_type": "stream",
       "stream": "stdout",
       "text": [
        " 3 patches\n",
        "merged 3 patches into 3\n",
        "New VI"
       ]
      },
      {
       "output_type": "stream",
       "stream": "stdout",
       "text": [
        " 0.844408829966\n",
        "--------------------------------------------------------------------------------\n",
        "Merging for sureness s= 0.976242303848\n",
        "merging 199 206\n",
        "recomputed"
       ]
      },
      {
       "output_type": "stream",
       "stream": "stdout",
       "text": [
        " 7 patches\n",
        "merged"
       ]
      },
      {
       "output_type": "stream",
       "stream": "stdout",
       "text": [
        " 7 patches into 7\n",
        "New VI"
       ]
      },
      {
       "output_type": "stream",
       "stream": "stdout",
       "text": [
        " 0.843938478783\n",
        "--------------------------------------------------------------------------------\n",
        "Merging for sureness s= 0.136531382799\n",
        "merging 181 229\n",
        "recomputed"
       ]
      },
      {
       "output_type": "stream",
       "stream": "stdout",
       "text": [
        " 13 patches\n",
        "merged"
       ]
      },
      {
       "output_type": "stream",
       "stream": "stdout",
       "text": [
        " 13 patches into 13\n",
        "New VI"
       ]
      },
      {
       "output_type": "stream",
       "stream": "stdout",
       "text": [
        " 0.8418882732\n",
        "--------------------------------------------------------------------------------\n",
        "Merging for sureness s= 0.128086581826\n",
        "merging 302 331\n",
        "recomputed"
       ]
      },
      {
       "output_type": "stream",
       "stream": "stdout",
       "text": [
        " 10 patches\n",
        "merged"
       ]
      },
      {
       "output_type": "stream",
       "stream": "stdout",
       "text": [
        " 10 patches into 10\n",
        "New VI"
       ]
      },
      {
       "output_type": "stream",
       "stream": "stdout",
       "text": [
        " 0.848206508591\n",
        "--------------------------------------------------------------------------------\n",
        "Merging for sureness s= 0.116714686155\n",
        "merging 275 282\n",
        "recomputed"
       ]
      },
      {
       "output_type": "stream",
       "stream": "stdout",
       "text": [
        " 18 patches\n",
        "merged"
       ]
      },
      {
       "output_type": "stream",
       "stream": "stdout",
       "text": [
        " 18 patches into 16\n",
        "New VI"
       ]
      },
      {
       "output_type": "stream",
       "stream": "stdout",
       "text": [
        " 0.847074835688\n",
        "--------------------------------------------------------------------------------\n",
        "Merging for sureness s= 0.116225928068\n",
        "merging 324 344\n",
        "recomputed"
       ]
      },
      {
       "output_type": "stream",
       "stream": "stdout",
       "text": [
        " 2 patches\n",
        "merged 2 patches into 2\n",
        "New VI"
       ]
      },
      {
       "output_type": "stream",
       "stream": "stdout",
       "text": [
        " 0.846960483822\n",
        "--------------------------------------------------------------------------------\n",
        "Merging for sureness s= 0.112034425139\n",
        "merging 254 297\n",
        "recomputed"
       ]
      },
      {
       "output_type": "stream",
       "stream": "stdout",
       "text": [
        " 33 patches\n",
        "merged"
       ]
      },
      {
       "output_type": "stream",
       "stream": "stdout",
       "text": [
        " 33 patches into 33\n",
        "New VI"
       ]
      },
      {
       "output_type": "stream",
       "stream": "stdout",
       "text": [
        " 0.869362334401\n",
        "--------------------------------------------------------------------------------\n",
        "Merging for sureness s= 0.106226028875\n",
        "merging 304 313\n",
        "recomputed"
       ]
      },
      {
       "output_type": "stream",
       "stream": "stdout",
       "text": [
        " 9 patches\n",
        "merged"
       ]
      },
      {
       "output_type": "stream",
       "stream": "stdout",
       "text": [
        " 9 patches into 9\n",
        "New VI"
       ]
      },
      {
       "output_type": "stream",
       "stream": "stdout",
       "text": [
        " 0.870021625059\n",
        "--------------------------------------------------------------------------------\n",
        "Merging for sureness s= 0.0968904495239\n",
        "merging 264 317\n",
        "recomputed"
       ]
      },
      {
       "output_type": "stream",
       "stream": "stdout",
       "text": [
        " 20 patches\n",
        "merged"
       ]
      },
      {
       "output_type": "stream",
       "stream": "stdout",
       "text": [
        " 20 patches into 20\n",
        "New VI"
       ]
      },
      {
       "output_type": "stream",
       "stream": "stdout",
       "text": [
        " 0.86957698513\n",
        "--------------------------------------------------------------------------------\n",
        "Merging for sureness s= 0.0790399111906\n",
        "merging 238 259\n",
        "recomputed"
       ]
      },
      {
       "output_type": "stream",
       "stream": "stdout",
       "text": [
        " 23 patches\n",
        "merged"
       ]
      },
      {
       "output_type": "stream",
       "stream": "stdout",
       "text": [
        " 23 patches into 21\n",
        "New VI"
       ]
      },
      {
       "output_type": "stream",
       "stream": "stdout",
       "text": [
        " 0.870693156718\n",
        "--------------------------------------------------------------------------------\n",
        "Merging for sureness s= 0.0710699334741\n",
        "merging 337 342\n",
        "recomputed"
       ]
      },
      {
       "output_type": "stream",
       "stream": "stdout",
       "text": [
        " 6 patches\n",
        "merged 6 patches into 6\n",
        "New VI"
       ]
      },
      {
       "output_type": "stream",
       "stream": "stdout",
       "text": [
        " 0.870732417602\n",
        "--------------------------------------------------------------------------------\n",
        "Merging for sureness s= 0.0702965706587\n",
        "merging 122 159\n",
        "recomputed"
       ]
      },
      {
       "output_type": "stream",
       "stream": "stdout",
       "text": [
        " 16 patches\n",
        "merged"
       ]
      },
      {
       "output_type": "stream",
       "stream": "stdout",
       "text": [
        " 16 patches into 16\n",
        "New VI"
       ]
      },
      {
       "output_type": "stream",
       "stream": "stdout",
       "text": [
        " 0.870511672349\n",
        "--------------------------------------------------------------------------------\n",
        "Merging for sureness s= 0.0687536299229\n",
        "merging 150 153\n",
        "recomputed"
       ]
      },
      {
       "output_type": "stream",
       "stream": "stdout",
       "text": [
        " 6 patches\n",
        "merged 6 patches into 6\n",
        "New VI"
       ]
      },
      {
       "output_type": "stream",
       "stream": "stdout",
       "text": [
        " 0.870742363913\n",
        "--------------------------------------------------------------------------------\n",
        "Merging for sureness s= 0.0618467777967\n",
        "merging 114 116\n",
        "recomputed"
       ]
      },
      {
       "output_type": "stream",
       "stream": "stdout",
       "text": [
        " 9 patches\n",
        "merged"
       ]
      },
      {
       "output_type": "stream",
       "stream": "stdout",
       "text": [
        " 9 patches into 9\n",
        "New VI"
       ]
      },
      {
       "output_type": "stream",
       "stream": "stdout",
       "text": [
        " 0.871131721024\n",
        "--------------------------------------------------------------------------------\n",
        "Merging for sureness s= 0.0615102685988\n",
        "merging 115 126\n",
        "recomputed"
       ]
      },
      {
       "output_type": "stream",
       "stream": "stdout",
       "text": [
        " 7 patches\n",
        "merged 7 patches into 7\n",
        "New VI"
       ]
      },
      {
       "output_type": "stream",
       "stream": "stdout",
       "text": [
        " 0.871888903047\n",
        "--------------------------------------------------------------------------------\n",
        "Merging for sureness s= 0.0597321949899\n",
        "merging 189 204\n",
        "recomputed"
       ]
      },
      {
       "output_type": "stream",
       "stream": "stdout",
       "text": [
        " 9 patches\n",
        "merged"
       ]
      },
      {
       "output_type": "stream",
       "stream": "stdout",
       "text": [
        " 9 patches into 9\n",
        "New VI"
       ]
      },
      {
       "output_type": "stream",
       "stream": "stdout",
       "text": [
        " 0.871790125572\n",
        "--------------------------------------------------------------------------------\n",
        "Merging for sureness s= 0.0592905916274\n",
        "merging 95 96\n",
        "recomputed"
       ]
      },
      {
       "output_type": "stream",
       "stream": "stdout",
       "text": [
        " 6 patches\n",
        "merged 6 patches into 6\n",
        "New VI"
       ]
      },
      {
       "output_type": "stream",
       "stream": "stdout",
       "text": [
        " 0.873767061735\n",
        "--------------------------------------------------------------------------------\n",
        "Merging for sureness s= 0.0581465922296\n",
        "merging 25 53\n",
        "recomputed"
       ]
      },
      {
       "output_type": "stream",
       "stream": "stdout",
       "text": [
        " 7 patches\n",
        "merged"
       ]
      },
      {
       "output_type": "stream",
       "stream": "stdout",
       "text": [
        " 7 patches into 7\n",
        "New VI"
       ]
      },
      {
       "output_type": "stream",
       "stream": "stdout",
       "text": [
        " 0.875587324415\n",
        "--------------------------------------------------------------------------------\n",
        "Merging for sureness s= 0.053594879806\n",
        "merging 248 252\n",
        "recomputed"
       ]
      },
      {
       "output_type": "stream",
       "stream": "stdout",
       "text": [
        " 8 patches\n",
        "merged 8 patches into 8\n",
        "New VI"
       ]
      },
      {
       "output_type": "stream",
       "stream": "stdout",
       "text": [
        " 0.875602004065\n",
        "--------------------------------------------------------------------------------\n",
        "Merging for sureness s= 0.05130571872\n",
        "merging 146 205\n",
        "recomputed"
       ]
      },
      {
       "output_type": "stream",
       "stream": "stdout",
       "text": [
        " 17 patches\n",
        "merged"
       ]
      },
      {
       "output_type": "stream",
       "stream": "stdout",
       "text": [
        " 17 patches into 17\n",
        "New VI"
       ]
      },
      {
       "output_type": "stream",
       "stream": "stdout",
       "text": [
        " 0.876107621482\n",
        "--------------------------------------------------------------------------------\n",
        "Merging for sureness s= 0.0496428273618\n",
        "merging 9 38\n",
        "recomputed"
       ]
      },
      {
       "output_type": "stream",
       "stream": "stdout",
       "text": [
        " 12 patches\n",
        "merged"
       ]
      },
      {
       "output_type": "stream",
       "stream": "stdout",
       "text": [
        " 12 patches into 10\n",
        "New VI"
       ]
      },
      {
       "output_type": "stream",
       "stream": "stdout",
       "text": [
        " 0.876113486843\n",
        "--------------------------------------------------------------------------------\n",
        "Merging for sureness s= 0.0450809374452\n",
        "merging 258 265\n",
        "recomputed"
       ]
      },
      {
       "output_type": "stream",
       "stream": "stdout",
       "text": [
        " 8 patches\n",
        "merged 8 patches into 8\n",
        "New VI"
       ]
      },
      {
       "output_type": "stream",
       "stream": "stdout",
       "text": [
        " 0.875991290419\n",
        "--------------------------------------------------------------------------------\n",
        "Merging for sureness s= 0.038758687675\n",
        "merging 153 159\n",
        "recomputed"
       ]
      },
      {
       "output_type": "stream",
       "stream": "stdout",
       "text": [
        " 7 patches\n",
        "merged 7 patches into 7\n",
        "New VI"
       ]
      },
      {
       "output_type": "stream",
       "stream": "stdout",
       "text": [
        " 0.876921038606\n",
        "--------------------------------------------------------------------------------\n",
        "Merging for sureness s= 0.0386663004756\n",
        "merging 310 323\n",
        "recomputed"
       ]
      },
      {
       "output_type": "stream",
       "stream": "stdout",
       "text": [
        " 2 patches\n",
        "merged 2 patches into 2\n",
        "New VI"
       ]
      },
      {
       "output_type": "stream",
       "stream": "stdout",
       "text": [
        " 0.876495306653\n",
        "--------------------------------------------------------------------------------\n",
        "Merging for sureness s= 0.0358737632632\n",
        "merging 74 81\n",
        "recomputed"
       ]
      },
      {
       "output_type": "stream",
       "stream": "stdout",
       "text": [
        " 2 patches\n",
        "merged 2 patches into 2\n",
        "New VI"
       ]
      },
      {
       "output_type": "stream",
       "stream": "stdout",
       "text": [
        " 0.877739458231\n",
        "--------------------------------------------------------------------------------\n",
        "Merging for sureness s= 0.0288811456412\n",
        "merging 41 61\n",
        "recomputed"
       ]
      },
      {
       "output_type": "stream",
       "stream": "stdout",
       "text": [
        " 9 patches\n",
        "merged"
       ]
      },
      {
       "output_type": "stream",
       "stream": "stdout",
       "text": [
        " 9 patches into 9\n",
        "New VI"
       ]
      },
      {
       "output_type": "stream",
       "stream": "stdout",
       "text": [
        " 0.877423050757\n",
        "--------------------------------------------------------------------------------\n",
        "Merging for sureness s= 0.0285366047174\n",
        "merging 259 274\n",
        "recomputed"
       ]
      },
      {
       "output_type": "stream",
       "stream": "stdout",
       "text": [
        " 19 patches\n",
        "merged"
       ]
      },
      {
       "output_type": "stream",
       "stream": "stdout",
       "text": [
        " 19 patches into 17\n",
        "New VI"
       ]
      },
      {
       "output_type": "stream",
       "stream": "stdout",
       "text": [
        " 0.882326159627\n",
        "--------------------------------------------------------------------------------\n",
        "Merging for sureness s= 0.0239962916821\n",
        "merging 89 98\n",
        "recomputed"
       ]
      },
      {
       "output_type": "stream",
       "stream": "stdout",
       "text": [
        " 6 patches\n",
        "merged 6 patches into 6\n",
        "New VI"
       ]
      },
      {
       "output_type": "stream",
       "stream": "stdout",
       "text": [
        " 0.88483936968\n",
        "--------------------------------------------------------------------------------\n",
        "Merging for sureness s= 0.021327969851\n",
        "merging 202 207\n",
        "recomputed"
       ]
      },
      {
       "output_type": "stream",
       "stream": "stdout",
       "text": [
        " 6 patches\n",
        "merged 6 patches into 6\n",
        "New VI"
       ]
      },
      {
       "output_type": "stream",
       "stream": "stdout",
       "text": [
        " 0.885730555606\n",
        "--------------------------------------------------------------------------------\n",
        "Merging for sureness s= 0.0210880115628\n",
        "merging 212 245\n",
        "recomputed"
       ]
      },
      {
       "output_type": "stream",
       "stream": "stdout",
       "text": [
        " 12 patches\n",
        "merged"
       ]
      },
      {
       "output_type": "stream",
       "stream": "stdout",
       "text": [
        " 12 patches into 12\n",
        "New VI"
       ]
      },
      {
       "output_type": "stream",
       "stream": "stdout",
       "text": [
        " 0.884796632603\n",
        "--------------------------------------------------------------------------------\n",
        "Merging for sureness s= 0.0192835016642\n",
        "merging 330 349\n",
        "recomputed"
       ]
      },
      {
       "output_type": "stream",
       "stream": "stdout",
       "text": [
        " 6 patches\n",
        "merged 6 patches into 6\n",
        "New VI"
       ]
      },
      {
       "output_type": "stream",
       "stream": "stdout",
       "text": [
        " 0.885609176786\n",
        "--------------------------------------------------------------------------------\n",
        "Merging for sureness s= 0.018548656255\n",
        "merging 298 305\n",
        "recomputed"
       ]
      },
      {
       "output_type": "stream",
       "stream": "stdout",
       "text": [
        " 15 patches\n",
        "merged"
       ]
      },
      {
       "output_type": "stream",
       "stream": "stdout",
       "text": [
        " 15 patches into 15\n",
        "New VI"
       ]
      },
      {
       "output_type": "stream",
       "stream": "stdout",
       "text": [
        " 0.886161267042\n",
        "--------------------------------------------------------------------------------\n",
        "Merging for sureness s= 0.145222887397\n",
        "merging 305 316\n",
        "recomputed"
       ]
      },
      {
       "output_type": "stream",
       "stream": "stdout",
       "text": [
        " 13 patches\n",
        "merged"
       ]
      },
      {
       "output_type": "stream",
       "stream": "stdout",
       "text": [
        " 13 patches into 13\n",
        "New VI"
       ]
      },
      {
       "output_type": "stream",
       "stream": "stdout",
       "text": [
        " 0.887146610031\n",
        "--------------------------------------------------------------------------------\n",
        "Merging for sureness s= 0.0181600470096\n",
        "merging 73 79\n",
        "recomputed"
       ]
      },
      {
       "output_type": "stream",
       "stream": "stdout",
       "text": [
        " 16 patches\n",
        "merged"
       ]
      },
      {
       "output_type": "stream",
       "stream": "stdout",
       "text": [
        " 16 patches into 15\n",
        "New VI"
       ]
      },
      {
       "output_type": "stream",
       "stream": "stdout",
       "text": [
        " 0.887075997132\n",
        "--------------------------------------------------------------------------------\n",
        "Merging for sureness s= 0.0168203152716\n",
        "merging 187 223\n",
        "recomputed"
       ]
      },
      {
       "output_type": "stream",
       "stream": "stdout",
       "text": [
        " 15 patches\n",
        "merged"
       ]
      },
      {
       "output_type": "stream",
       "stream": "stdout",
       "text": [
        " 15 patches into 14\n",
        "New VI"
       ]
      },
      {
       "output_type": "stream",
       "stream": "stdout",
       "text": [
        " 0.897769754776\n",
        "--------------------------------------------------------------------------------\n",
        "Merging for sureness s= 0.0149511303753\n",
        "merging 222 230\n",
        "recomputed"
       ]
      },
      {
       "output_type": "stream",
       "stream": "stdout",
       "text": [
        " 3 patches\n",
        "merged 3 patches into 3\n",
        "New VI"
       ]
      },
      {
       "output_type": "stream",
       "stream": "stdout",
       "text": [
        " 0.900418237699\n",
        "--------------------------------------------------------------------------------\n",
        "Merging for sureness s= 0.0349438078701\n",
        "merging 192 230\n",
        "recomputed"
       ]
      },
      {
       "output_type": "stream",
       "stream": "stdout",
       "text": [
        " 1 patches\n",
        "merged 1 patches into 1\n",
        "New VI"
       ]
      },
      {
       "output_type": "stream",
       "stream": "stdout",
       "text": [
        " 0.908224836618\n",
        "--------------------------------------------------------------------------------\n",
        "Merging for sureness s= 0.0133797870949\n",
        "merging 196 209\n",
        "recomputed"
       ]
      },
      {
       "output_type": "stream",
       "stream": "stdout",
       "text": [
        " 0 patches\n",
        "merged 0 patches into 0\n",
        "New VI"
       ]
      },
      {
       "output_type": "stream",
       "stream": "stdout",
       "text": [
        " 0.9084530909\n",
        "--------------------------------------------------------------------------------\n",
        "Merging for sureness s= 0.0124872541055\n",
        "merging 80 83\n",
        "recomputed"
       ]
      },
      {
       "output_type": "stream",
       "stream": "stdout",
       "text": [
        " 10 patches\n",
        "merged"
       ]
      },
      {
       "output_type": "stream",
       "stream": "stdout",
       "text": [
        " 10 patches into 10\n",
        "New VI"
       ]
      },
      {
       "output_type": "stream",
       "stream": "stdout",
       "text": [
        " 0.906104329504\n",
        "--------------------------------------------------------------------------------\n",
        "Merging for sureness s= 0.0123019563034\n",
        "merging 125 145\n",
        "recomputed"
       ]
      },
      {
       "output_type": "stream",
       "stream": "stdout",
       "text": [
        " 5 patches\n",
        "merged 5 patches into 5\n",
        "New VI"
       ]
      },
      {
       "output_type": "stream",
       "stream": "stdout",
       "text": [
        " 0.904967435644\n",
        "--------------------------------------------------------------------------------\n",
        "Merging for sureness s= 0.0116672031581\n",
        "merging 173 174\n",
        "recomputed"
       ]
      },
      {
       "output_type": "stream",
       "stream": "stdout",
       "text": [
        " 15 patches\n",
        "merged"
       ]
      },
      {
       "output_type": "stream",
       "stream": "stdout",
       "text": [
        " 15 patches into 14\n",
        "New VI"
       ]
      },
      {
       "output_type": "stream",
       "stream": "stdout",
       "text": [
        " 0.906102270914\n",
        "--------------------------------------------------------------------------------\n",
        "Merging for sureness s= 0.067803606391\n",
        "merging 170 174\n",
        "recomputed"
       ]
      },
      {
       "output_type": "stream",
       "stream": "stdout",
       "text": [
        " 17 patches\n",
        "merged"
       ]
      },
      {
       "output_type": "stream",
       "stream": "stdout",
       "text": [
        " 17 patches into 16\n",
        "New VI"
       ]
      },
      {
       "output_type": "stream",
       "stream": "stdout",
       "text": [
        " 0.910115112957\n",
        "--------------------------------------------------------------------------------\n",
        "Merging for sureness s= 0.01144924853\n",
        "merging 221 226\n",
        "recomputed"
       ]
      },
      {
       "output_type": "stream",
       "stream": "stdout",
       "text": [
        " 11 patches\n",
        "merged"
       ]
      },
      {
       "output_type": "stream",
       "stream": "stdout",
       "text": [
        " 11 patches into 11\n",
        "New VI"
       ]
      },
      {
       "output_type": "stream",
       "stream": "stdout",
       "text": [
        " 0.908099292381\n",
        "--------------------------------------------------------------------------------\n",
        "Merging for sureness s= 0.0105655025691\n",
        "merging 105 110\n",
        "recomputed"
       ]
      },
      {
       "output_type": "stream",
       "stream": "stdout",
       "text": [
        " 9 patches\n",
        "merged 9 patches into 9\n",
        "New VI"
       ]
      },
      {
       "output_type": "stream",
       "stream": "stdout",
       "text": [
        " 0.907334721063\n",
        "--------------------------------------------------------------------------------\n",
        "Merging for sureness s= 0.0653179511428\n",
        "merging 108 110\n",
        "recomputed"
       ]
      },
      {
       "output_type": "stream",
       "stream": "stdout",
       "text": [
        " 7 patches\n",
        "merged 7 patches into 7\n",
        "New VI"
       ]
      },
      {
       "output_type": "stream",
       "stream": "stdout",
       "text": [
        " 0.909037948402\n",
        "--------------------------------------------------------------------------------\n",
        "Merging for sureness s= 0.00862123258412\n",
        "merging 342 345\n",
        "recomputed"
       ]
      },
      {
       "output_type": "stream",
       "stream": "stdout",
       "text": [
        " 4 patches\n",
        "merged 4 patches into 4\n",
        "New VI"
       ]
      },
      {
       "output_type": "stream",
       "stream": "stdout",
       "text": [
        " 0.909850241389\n",
        "--------------------------------------------------------------------------------\n",
        "Merging for sureness s= 0.00844069477171\n",
        "merging 256 273\n",
        "recomputed"
       ]
      },
      {
       "output_type": "stream",
       "stream": "stdout",
       "text": [
        " 4 patches\n",
        "merged 4 patches into 4\n",
        "New VI"
       ]
      },
      {
       "output_type": "stream",
       "stream": "stdout",
       "text": [
        " 0.915295815281\n",
        "--------------------------------------------------------------------------------\n",
        "Merging for sureness s= 0.00597334373742\n",
        "merging 326 340\n",
        "recomputed"
       ]
      },
      {
       "output_type": "stream",
       "stream": "stdout",
       "text": [
        " 7 patches\n",
        "merged 7 patches into 7\n",
        "New VI"
       ]
      },
      {
       "output_type": "stream",
       "stream": "stdout",
       "text": [
        " 0.916694397094\n",
        "--------------------------------------------------------------------------------\n",
        "Merging for sureness s= 0.0337075777352\n",
        "merging 332 340\n",
        "recomputed"
       ]
      },
      {
       "output_type": "stream",
       "stream": "stdout",
       "text": [
        " 4 patches\n",
        "merged 4 patches into 4\n",
        "New VI"
       ]
      },
      {
       "output_type": "stream",
       "stream": "stdout",
       "text": [
        " 0.917186710392\n",
        "--------------------------------------------------------------------------------\n",
        "Merging for sureness s= 0.0058934725821\n",
        "merging 292 315\n",
        "recomputed"
       ]
      },
      {
       "output_type": "stream",
       "stream": "stdout",
       "text": [
        " 5 patches\n",
        "merged 5 patches into 4\n",
        "New VI"
       ]
      },
      {
       "output_type": "stream",
       "stream": "stdout",
       "text": [
        " 0.920257246916\n",
        "--------------------------------------------------------------------------------\n",
        "Merging for sureness s= 0.00565249519423\n",
        "merging 306 307\n",
        "recomputed"
       ]
      },
      {
       "output_type": "stream",
       "stream": "stdout",
       "text": [
        " 4 patches\n",
        "merged 4 patches into 4\n",
        "New VI"
       ]
      },
      {
       "output_type": "stream",
       "stream": "stdout",
       "text": [
        " 0.921556522774\n",
        "--------------------------------------------------------------------------------\n",
        "Merging for sureness s= 0.00541054224595\n",
        "merging 263 270\n",
        "recomputed"
       ]
      },
      {
       "output_type": "stream",
       "stream": "stdout",
       "text": [
        " 6 patches\n",
        "merged 6 patches into 6\n",
        "New VI"
       ]
      },
      {
       "output_type": "stream",
       "stream": "stdout",
       "text": [
        " 0.921246834629\n",
        "--------------------------------------------------------------------------------\n",
        "Merging for sureness s= 0.00521364808083\n",
        "merging 344 345\n",
        "recomputed"
       ]
      },
      {
       "output_type": "stream",
       "stream": "stdout",
       "text": [
        " 1 patches\n",
        "merged 1 patches into 1\n",
        "New VI"
       ]
      },
      {
       "output_type": "stream",
       "stream": "stdout",
       "text": [
        " 0.924884376755\n",
        "--------------------------------------------------------------------------------\n",
        "Merging for sureness s= 0.00448811270994\n",
        "merging 166 167\n",
        "recomputed"
       ]
      },
      {
       "output_type": "stream",
       "stream": "stdout",
       "text": [
        " 5 patches\n",
        "merged 5 patches into 5\n",
        "New VI"
       ]
      },
      {
       "output_type": "stream",
       "stream": "stdout",
       "text": [
        " 0.926862341139\n",
        "--------------------------------------------------------------------------------\n",
        "Merging for sureness s= 0.00435006991029\n",
        "merging 240 255\n",
        "recomputed"
       ]
      },
      {
       "output_type": "stream",
       "stream": "stdout",
       "text": [
        " 8 patches\n",
        "merged 8 patches into 8\n",
        "New VI"
       ]
      },
      {
       "output_type": "stream",
       "stream": "stdout",
       "text": [
        " 0.925472026393\n",
        "--------------------------------------------------------------------------------\n",
        "Merging for sureness s= 0.00433206418529\n",
        "merging 68 70\n",
        "recomputed"
       ]
      },
      {
       "output_type": "stream",
       "stream": "stdout",
       "text": [
        " 7 patches\n",
        "merged 7 patches into 7\n",
        "New VI"
       ]
      },
      {
       "output_type": "stream",
       "stream": "stdout",
       "text": [
        " 0.926272246968\n",
        "--------------------------------------------------------------------------------\n",
        "Merging for sureness s= 0.223703861237\n",
        "merging 40 70\n",
        "recomputed"
       ]
      },
      {
       "output_type": "stream",
       "stream": "stdout",
       "text": [
        " 4 patches\n",
        "merged 4 patches into 4\n",
        "New VI"
       ]
      },
      {
       "output_type": "stream",
       "stream": "stdout",
       "text": [
        " 0.938670033471\n",
        "--------------------------------------------------------------------------------\n",
        "Merging for sureness s= 0.0040122102946\n",
        "merging 58 60\n",
        "recomputed"
       ]
      },
      {
       "output_type": "stream",
       "stream": "stdout",
       "text": [
        " 2 patches\n",
        "merged 2 patches into 2\n",
        "New VI"
       ]
      },
      {
       "output_type": "stream",
       "stream": "stdout",
       "text": [
        " 0.936823712225\n",
        "--------------------------------------------------------------------------------\n",
        "Merging for sureness s= 0.00396341551095\n",
        "merging 164 165\n",
        "recomputed"
       ]
      },
      {
       "output_type": "stream",
       "stream": "stdout",
       "text": [
        " 8 patches\n",
        "merged 8 patches into 7\n",
        "New VI"
       ]
      },
      {
       "output_type": "stream",
       "stream": "stdout",
       "text": [
        " 0.940157805159\n",
        "--------------------------------------------------------------------------------\n",
        "Merging for sureness s= 0.00325763295405\n",
        "merging 60 93\n",
        "recomputed"
       ]
      },
      {
       "output_type": "stream",
       "stream": "stdout",
       "text": [
        " 1 patches\n",
        "merged 1 patches into 1\n",
        "New VI"
       ]
      },
      {
       "output_type": "stream",
       "stream": "stdout",
       "text": [
        " 0.941676585412\n",
        "--------------------------------------------------------------------------------\n",
        "Merging for sureness s= 0.00278653390706\n",
        "merging 293 297\n",
        "recomputed"
       ]
      },
      {
       "output_type": "stream",
       "stream": "stdout",
       "text": [
        " 3 patches\n",
        "merged 3 patches into 3\n",
        "New VI"
       ]
      },
      {
       "output_type": "stream",
       "stream": "stdout",
       "text": [
        " 0.948307259279\n",
        "--------------------------------------------------------------------------------\n",
        "Merging for sureness s= 0.205809652805\n",
        "merging 297 299\n",
        "recomputed"
       ]
      },
      {
       "output_type": "stream",
       "stream": "stdout",
       "text": [
        " 21 patches\n",
        "merged"
       ]
      },
      {
       "output_type": "stream",
       "stream": "stdout",
       "text": [
        " 21 patches into 19\n",
        "New VI"
       ]
      },
      {
       "output_type": "stream",
       "stream": "stdout",
       "text": [
        " 0.949132802159\n",
        "--------------------------------------------------------------------------------\n",
        "Merging for sureness s= 0.00252753659151\n",
        "merging 323 329\n",
        "recomputed"
       ]
      },
      {
       "output_type": "stream",
       "stream": "stdout",
       "text": [
        " 2 patches\n",
        "merged 2 patches into 2\n",
        "New VI"
       ]
      },
      {
       "output_type": "stream",
       "stream": "stdout",
       "text": [
        " 0.948085617941\n",
        "--------------------------------------------------------------------------------\n",
        "Merging for sureness s= 0.0034222821705\n",
        "merging 317 329\n",
        "recomputed"
       ]
      },
      {
       "output_type": "stream",
       "stream": "stdout",
       "text": [
        " 8 patches\n",
        "merged 8 patches into 8\n",
        "New VI"
       ]
      },
      {
       "output_type": "stream",
       "stream": "stdout",
       "text": [
        " 0.952810035784\n",
        "--------------------------------------------------------------------------------\n",
        "Merging for sureness s= 0.00197525601834\n",
        "merging 321 329\n",
        "recomputed"
       ]
      },
      {
       "output_type": "stream",
       "stream": "stdout",
       "text": [
        " 0 patches\n",
        "merged 0 patches into 0\n",
        "New VI"
       ]
      },
      {
       "output_type": "stream",
       "stream": "stdout",
       "text": [
        " 0.968527586572\n",
        "--------------------------------------------------------------------------------\n",
        "Merging for sureness s= 0.00188745732885\n",
        "merging 103 112\n",
        "recomputed"
       ]
      },
      {
       "output_type": "stream",
       "stream": "stdout",
       "text": [
        " 3 patches\n",
        "merged 3 patches into 3\n",
        "New VI"
       ]
      },
      {
       "output_type": "stream",
       "stream": "stdout",
       "text": [
        " 0.968702811021\n",
        "--------------------------------------------------------------------------------\n",
        "Merging for sureness s= 0.00700146052986\n",
        "merging 96 112\n",
        "recomputed"
       ]
      },
      {
       "output_type": "stream",
       "stream": "stdout",
       "text": [
        " 3 patches\n",
        "merged 3 patches into 3\n",
        "New VI"
       ]
      },
      {
       "output_type": "stream",
       "stream": "stdout",
       "text": [
        " 0.97070358021\n",
        "--------------------------------------------------------------------------------\n",
        "Merging for sureness s= 0.00185656920075\n",
        "merging 15 37\n",
        "recomputed"
       ]
      },
      {
       "output_type": "stream",
       "stream": "stdout",
       "text": [
        " 2 patches\n",
        "merged 2 patches into 2\n",
        "New VI"
       ]
      },
      {
       "output_type": "stream",
       "stream": "stdout",
       "text": [
        " 0.972672057284\n",
        "--------------------------------------------------------------------------------\n",
        "Merging for sureness s= 0.00124847574625\n",
        "merging 220 228\n",
        "recomputed"
       ]
      },
      {
       "output_type": "stream",
       "stream": "stdout",
       "text": [
        " 11 patches\n",
        "merged"
       ]
      },
      {
       "output_type": "stream",
       "stream": "stdout",
       "text": [
        " 11 patches into 11\n",
        "New VI"
       ]
      },
      {
       "output_type": "stream",
       "stream": "stdout",
       "text": [
        " 0.97127057036\n",
        "--------------------------------------------------------------------------------\n",
        "Merging for sureness s= 0.00122496439144\n",
        "merging 234 241\n",
        "recomputed"
       ]
      },
      {
       "output_type": "stream",
       "stream": "stdout",
       "text": [
        " 8 patches\n",
        "merged 8 patches into 7\n",
        "New VI"
       ]
      },
      {
       "output_type": "stream",
       "stream": "stdout",
       "text": [
        " 0.97190265977\n",
        "--------------------------------------------------------------------------------\n",
        "Merging for sureness s= 0.00110499118455\n",
        "merging 223 241\n",
        "recomputed"
       ]
      },
      {
       "output_type": "stream",
       "stream": "stdout",
       "text": [
        " 8 patches\n",
        "merged 8 patches into 8\n",
        "New VI"
       ]
      },
      {
       "output_type": "stream",
       "stream": "stdout",
       "text": [
        " 0.974935555694\n",
        "--------------------------------------------------------------------------------\n",
        "Merging for sureness s= 0.00247798068449\n",
        "merging 235 241\n",
        "recomputed"
       ]
      },
      {
       "output_type": "stream",
       "stream": "stdout",
       "text": [
        " 5 patches\n",
        "merged 5 patches into 4\n",
        "New VI"
       ]
      },
      {
       "output_type": "stream",
       "stream": "stdout",
       "text": [
        " 0.993987562442\n",
        "--------------------------------------------------------------------------------\n",
        "Merging for sureness s= 0.00105979782529\n",
        "merging 157 169\n",
        "recomputed"
       ]
      },
      {
       "output_type": "stream",
       "stream": "stdout",
       "text": [
        " 4 patches\n",
        "merged 4 patches into 4\n",
        "New VI"
       ]
      },
      {
       "output_type": "stream",
       "stream": "stdout",
       "text": [
        " 0.994710098882\n",
        "--------------------------------------------------------------------------------\n",
        "Merging for sureness s= 0.000852199271321\n",
        "merging 313 316\n",
        "recomputed"
       ]
      },
      {
       "output_type": "stream",
       "stream": "stdout",
       "text": [
        " 5 patches\n",
        "merged 5 patches into 5\n",
        "New VI"
       ]
      },
      {
       "output_type": "stream",
       "stream": "stdout",
       "text": [
        " 0.996425527463\n",
        "--------------------------------------------------------------------------------\n",
        "Merging for sureness s= 0.000787563505583\n",
        "merging 232 237\n",
        "recomputed"
       ]
      },
      {
       "output_type": "stream",
       "stream": "stdout",
       "text": [
        " 7 patches\n",
        "merged 7 patches into 7\n",
        "New VI"
       ]
      },
      {
       "output_type": "stream",
       "stream": "stdout",
       "text": [
        " 0.996067807652\n",
        "--------------------------------------------------------------------------------\n",
        "Merging for sureness s= 0.0696815848351\n",
        "merging 226 237\n",
        "recomputed"
       ]
      },
      {
       "output_type": "stream",
       "stream": "stdout",
       "text": [
        " 10 patches\n",
        "merged"
       ]
      },
      {
       "output_type": "stream",
       "stream": "stdout",
       "text": [
        " 10 patches into 10\n",
        "New VI"
       ]
      },
      {
       "output_type": "stream",
       "stream": "stdout",
       "text": [
        " 1.00050671552\n",
        "--------------------------------------------------------------------------------\n",
        "Merging for sureness s= 0.00130906165577\n",
        "merging 237 239\n",
        "recomputed"
       ]
      },
      {
       "output_type": "stream",
       "stream": "stdout",
       "text": [
        " 10 patches\n",
        "merged"
       ]
      },
      {
       "output_type": "stream",
       "stream": "stdout",
       "text": [
        " 10 patches into 10\n",
        "New VI"
       ]
      },
      {
       "output_type": "stream",
       "stream": "stdout",
       "text": [
        " 1.01505124177\n",
        "--------------------------------------------------------------------------------\n",
        "Merging for sureness s= 0.000675899384078\n",
        "merging 291 301\n",
        "recomputed"
       ]
      },
      {
       "output_type": "stream",
       "stream": "stdout",
       "text": [
        " 3 patches\n",
        "merged 3 patches into 3\n",
        "New VI"
       ]
      },
      {
       "output_type": "stream",
       "stream": "stdout",
       "text": [
        " 1.01615607218\n",
        "--------------------------------------------------------------------------------\n",
        "Merging for sureness s= 0.000632844690699\n",
        "merging 262 266\n",
        "recomputed"
       ]
      },
      {
       "output_type": "stream",
       "stream": "stdout",
       "text": [
        " 1 patches\n",
        "merged 1 patches into 1\n",
        "New VI"
       ]
      },
      {
       "output_type": "stream",
       "stream": "stdout",
       "text": [
        " 1.01760747195\n",
        "--------------------------------------------------------------------------------\n",
        "Merging for sureness s= 0.000512213038746\n",
        "merging 159 165\n",
        "recomputed"
       ]
      },
      {
       "output_type": "stream",
       "stream": "stdout",
       "text": [
        " 5 patches\n",
        "merged 5 patches into 5\n",
        "New VI"
       ]
      },
      {
       "output_type": "stream",
       "stream": "stdout",
       "text": [
        " 1.02570980758\n",
        "--------------------------------------------------------------------------------\n",
        "Merging for sureness s= 0.00355655606836\n",
        "merging 165 177\n",
        "recomputed"
       ]
      },
      {
       "output_type": "stream",
       "stream": "stdout",
       "text": [
        " 3 patches\n",
        "merged 3 patches into 3\n",
        "New VI"
       ]
      },
      {
       "output_type": "stream",
       "stream": "stdout",
       "text": [
        " 1.02914392302\n",
        "--------------------------------------------------------------------------------\n",
        "Merging for sureness s= 0.000505698902998\n",
        "merging 61 71\n",
        "recomputed"
       ]
      },
      {
       "output_type": "stream",
       "stream": "stdout",
       "text": [
        " 2 patches\n",
        "merged 2 patches into 2\n",
        "New VI"
       ]
      },
      {
       "output_type": "stream",
       "stream": "stdout",
       "text": [
        " 1.02765547633\n",
        "--------------------------------------------------------------------------------\n",
        "Merging for sureness s= 0.000438219256466\n",
        "merging 124 135\n",
        "recomputed"
       ]
      },
      {
       "output_type": "stream",
       "stream": "stdout",
       "text": [
        " 1 patches\n",
        "merged 1 patches into 1\n",
        "New VI"
       ]
      },
      {
       "output_type": "stream",
       "stream": "stdout",
       "text": [
        " 1.02830188657\n",
        "--------------------------------------------------------------------------------\n",
        "Merging for sureness s= 0.000259601103608\n",
        "merging 171 188\n",
        "recomputed"
       ]
      },
      {
       "output_type": "stream",
       "stream": "stdout",
       "text": [
        " 5 patches\n",
        "merged 5 patches into 5\n",
        "New VI"
       ]
      },
      {
       "output_type": "stream",
       "stream": "stdout",
       "text": [
        " 1.02978054029\n",
        "--------------------------------------------------------------------------------\n",
        "Merging for sureness s= 0.000442137505161\n",
        "merging 188 207\n",
        "recomputed"
       ]
      },
      {
       "output_type": "stream",
       "stream": "stdout",
       "text": [
        " 5 patches\n",
        "merged 5 patches into 5\n",
        "New VI"
       ]
      },
      {
       "output_type": "stream",
       "stream": "stdout",
       "text": [
        " 1.03225661366\n",
        "--------------------------------------------------------------------------------\n",
        "Merging for sureness s= 0.0119407493621\n",
        "merging 193 207\n",
        "recomputed"
       ]
      },
      {
       "output_type": "stream",
       "stream": "stdout",
       "text": [
        " 6 patches\n",
        "merged 6 patches into 6\n",
        "New VI"
       ]
      },
      {
       "output_type": "stream",
       "stream": "stdout",
       "text": [
        " 1.03316226244\n",
        "--------------------------------------------------------------------------------\n",
        "Merging for sureness s= 0.00124199909624\n",
        "merging 207 228\n",
        "recomputed"
       ]
      },
      {
       "output_type": "stream",
       "stream": "stdout",
       "text": [
        " 5 patches\n",
        "merged 5 patches into 5\n",
        "New VI"
       ]
      },
      {
       "output_type": "stream",
       "stream": "stdout",
       "text": [
        " 1.03752049618\n",
        "--------------------------------------------------------------------------------\n",
        "Merging for sureness s= 0.000133168825414\n",
        "merging 252 253\n",
        "recomputed"
       ]
      },
      {
       "output_type": "stream",
       "stream": "stdout",
       "text": [
        " 2 patches\n",
        "merged 2 patches into 2\n",
        "New VI"
       ]
      },
      {
       "output_type": "stream",
       "stream": "stdout",
       "text": [
        " 1.03796690956\n",
        "--------------------------------------------------------------------------------\n",
        "Merging for sureness s= 0.000124696991406\n",
        "merging 139 143\n",
        "recomputed"
       ]
      },
      {
       "output_type": "stream",
       "stream": "stdout",
       "text": [
        " 2 patches\n",
        "merged 2 patches into 2\n",
        "New VI"
       ]
      },
      {
       "output_type": "stream",
       "stream": "stdout",
       "text": [
        " 1.03831206996\n",
        "--------------------------------------------------------------------------------\n",
        "Merging for sureness s= 0.000114504247904\n",
        "merging 176 190\n",
        "recomputed"
       ]
      },
      {
       "output_type": "stream",
       "stream": "stdout",
       "text": [
        " 4 patches\n",
        "merged 4 patches into 4\n",
        "New VI"
       ]
      },
      {
       "output_type": "stream",
       "stream": "stdout",
       "text": [
        " 1.03961143116\n",
        "--------------------------------------------------------------------------------\n",
        "Merging for sureness s= 0.000104140788608\n",
        "merging 37 50\n",
        "recomputed"
       ]
      },
      {
       "output_type": "stream",
       "stream": "stdout",
       "text": [
        " 1 patches\n",
        "merged 1 patches into 1\n",
        "New VI"
       ]
      },
      {
       "output_type": "stream",
       "stream": "stdout",
       "text": [
        " 1.04155172555\n",
        "--------------------------------------------------------------------------------\n",
        "Merging for sureness s= 9.66822190094e-05\n",
        "merging 279 284\n",
        "recomputed"
       ]
      },
      {
       "output_type": "stream",
       "stream": "stdout",
       "text": [
        " 2 patches\n",
        "merged 2 patches into 2\n",
        "New VI"
       ]
      },
      {
       "output_type": "stream",
       "stream": "stdout",
       "text": [
        " 1.04473392251\n",
        "--------------------------------------------------------------------------------\n",
        "Merging for sureness s= 9.06872446649e-05\n",
        "merging 177 179\n",
        "recomputed"
       ]
      },
      {
       "output_type": "stream",
       "stream": "stdout",
       "text": [
        " 4 patches\n",
        "merged 4 patches into 4\n",
        "New VI"
       ]
      },
      {
       "output_type": "stream",
       "stream": "stdout",
       "text": [
        " 1.04774800305\n",
        "--------------------------------------------------------------------------------\n",
        "Merging for sureness s= 0.000327447021846\n",
        "merging 174 179\n",
        "recomputed"
       ]
      },
      {
       "output_type": "stream",
       "stream": "stdout",
       "text": [
        " 5 patches\n",
        "merged 5 patches into 5\n",
        "New VI"
       ]
      },
      {
       "output_type": "stream",
       "stream": "stdout",
       "text": [
        " 1.06346540908\n",
        "--------------------------------------------------------------------------------\n",
        "Merging for sureness s= 9.01969833649e-05\n",
        "merging 91 92\n",
        "recomputed"
       ]
      },
      {
       "output_type": "stream",
       "stream": "stdout",
       "text": [
        " 2 patches\n",
        "merged 2 patches into 2\n",
        "New VI"
       ]
      },
      {
       "output_type": "stream",
       "stream": "stdout",
       "text": [
        " 1.06474631041\n",
        "--------------------------------------------------------------------------------\n",
        "Merging for sureness s= 0.589481115341\n",
        "merging 92 98\n",
        "recomputed"
       ]
      },
      {
       "output_type": "stream",
       "stream": "stdout",
       "text": [
        " 1 patches\n",
        "merged 1 patches into 1\n",
        "New VI"
       ]
      },
      {
       "output_type": "stream",
       "stream": "stdout",
       "text": [
        " 1.06791138797\n",
        "--------------------------------------------------------------------------------\n",
        "Merging for sureness s= 6.48194836685e-05\n",
        "merging 307 316\n",
        "recomputed"
       ]
      },
      {
       "output_type": "stream",
       "stream": "stdout",
       "text": [
        " 2 patches\n",
        "merged 2 patches into 2\n",
        "New VI"
       ]
      },
      {
       "output_type": "stream",
       "stream": "stdout",
       "text": [
        " 1.07051594384\n",
        "--------------------------------------------------------------------------------\n",
        "Merging for sureness s= 5.92244214204e-05\n",
        "merging 161 169\n",
        "recomputed"
       ]
      },
      {
       "output_type": "stream",
       "stream": "stdout",
       "text": [
        " 1 patches\n",
        "merged 1 patches into 1\n",
        "New VI"
       ]
      },
      {
       "output_type": "stream",
       "stream": "stdout",
       "text": [
        " 1.07128097839\n",
        "--------------------------------------------------------------------------------\n",
        "Merging for sureness s= 4.64723743789e-05\n",
        "merging 79 83\n",
        "recomputed"
       ]
      },
      {
       "output_type": "stream",
       "stream": "stdout",
       "text": [
        " 4 patches\n",
        "merged 4 patches into 4\n",
        "New VI"
       ]
      },
      {
       "output_type": "stream",
       "stream": "stdout",
       "text": [
        " 1.09610902503\n",
        "--------------------------------------------------------------------------------\n",
        "Merging for sureness s= 3.99792697863e-05\n",
        "merging 340 349\n",
        "recomputed"
       ]
      },
      {
       "output_type": "stream",
       "stream": "stdout",
       "text": [
        " 4 patches\n",
        "merged 4 patches into 4\n",
        "New VI"
       ]
      },
      {
       "output_type": "stream",
       "stream": "stdout",
       "text": [
        " 1.09688926429\n",
        "--------------------------------------------------------------------------------\n",
        "Merging for sureness s= 0.0048560583964\n",
        "merging 346 349\n",
        "recomputed"
       ]
      },
      {
       "output_type": "stream",
       "stream": "stdout",
       "text": [
        " 0 patches\n",
        "merged 0 patches into 0\n",
        "New VI"
       ]
      },
      {
       "output_type": "stream",
       "stream": "stdout",
       "text": [
        " 1.10021463759\n",
        "--------------------------------------------------------------------------------\n",
        "Merging for sureness s= 3.98582124035e-05\n",
        "merging 265 271\n",
        "recomputed"
       ]
      },
      {
       "output_type": "stream",
       "stream": "stdout",
       "text": [
        " 0 patches\n",
        "merged 0 patches into 0\n",
        "New VI"
       ]
      },
      {
       "output_type": "stream",
       "stream": "stdout",
       "text": [
        " 1.10008280453\n",
        "--------------------------------------------------------------------------------\n",
        "Merging for sureness s= 3.72709873773e-05\n",
        "merging 130 140\n",
        "recomputed"
       ]
      },
      {
       "output_type": "stream",
       "stream": "stdout",
       "text": [
        " 3 patches\n",
        "merged 3 patches into 3\n",
        "New VI"
       ]
      },
      {
       "output_type": "stream",
       "stream": "stdout",
       "text": [
        " 1.10042473499\n",
        "--------------------------------------------------------------------------------\n",
        "Merging for sureness s= 3.05262110487e-05\n",
        "merging 90 93\n",
        "recomputed"
       ]
      },
      {
       "output_type": "stream",
       "stream": "stdout",
       "text": [
        " 0 patches\n",
        "merged 0 patches into 0\n",
        "New VI"
       ]
      },
      {
       "output_type": "stream",
       "stream": "stdout",
       "text": [
        " 1.1019677652\n",
        "--------------------------------------------------------------------------------\n",
        "Merging for sureness s= 2.54408496403e-05\n",
        "merging 182 195\n",
        "recomputed"
       ]
      },
      {
       "output_type": "stream",
       "stream": "stdout",
       "text": [
        " 1 patches\n",
        "merged 1 patches into 1\n",
        "New VI"
       ]
      },
      {
       "output_type": "stream",
       "stream": "stdout",
       "text": [
        " 1.10298118682\n",
        "--------------------------------------------------------------------------------\n",
        "Merging for sureness s= 1.7970074623e-05\n",
        "merging 289 290\n",
        "recomputed"
       ]
      },
      {
       "output_type": "stream",
       "stream": "stdout",
       "text": [
        " 0 patches\n",
        "merged 0 patches into 0\n",
        "New VI"
       ]
      },
      {
       "output_type": "stream",
       "stream": "stdout",
       "text": [
        " 1.10516236665\n",
        "--------------------------------------------------------------------------------\n",
        "Merging for sureness s= 1.10016344479e-05\n",
        "merging 167 178\n",
        "recomputed"
       ]
      },
      {
       "output_type": "stream",
       "stream": "stdout",
       "text": [
        " 1 patches\n",
        "merged 1 patches into 1\n",
        "New VI"
       ]
      },
      {
       "output_type": "stream",
       "stream": "stdout",
       "text": [
        " 1.10780108373\n",
        "--------------------------------------------------------------------------------\n",
        "Merging for sureness s= 1.09341708594e-05\n",
        "merging 327 328\n",
        "recomputed"
       ]
      },
      {
       "output_type": "stream",
       "stream": "stdout",
       "text": [
        " 4 patches\n",
        "merged 4 patches into 4\n",
        "New VI"
       ]
      },
      {
       "output_type": "stream",
       "stream": "stdout",
       "text": [
        " 1.10853033729\n",
        "--------------------------------------------------------------------------------\n",
        "Merging for sureness s= 0.000552836456336\n",
        "merging 318 328\n",
        "recomputed"
       ]
      },
      {
       "output_type": "stream",
       "stream": "stdout",
       "text": [
        " 2 patches\n",
        "merged 2 patches into 2\n",
        "New VI"
       ]
      },
      {
       "output_type": "stream",
       "stream": "stdout",
       "text": [
        " 1.10905372135\n",
        "--------------------------------------------------------------------------------\n",
        "Merging for sureness s= 9.40622612688e-06\n",
        "merging 100 107\n",
        "recomputed"
       ]
      },
      {
       "output_type": "stream",
       "stream": "stdout",
       "text": [
        " 1 patches\n",
        "merged 1 patches into 1\n",
        "New VI"
       ]
      },
      {
       "output_type": "stream",
       "stream": "stdout",
       "text": [
        " 1.10946668324\n",
        "--------------------------------------------------------------------------------\n",
        "Merging for sureness s= 8.51700860949e-06\n",
        "merging 19 42\n",
        "recomputed"
       ]
      },
      {
       "output_type": "stream",
       "stream": "stdout",
       "text": [
        " 1 patches\n",
        "merged 1 patches into 1\n",
        "New VI"
       ]
      },
      {
       "output_type": "stream",
       "stream": "stdout",
       "text": [
        " 1.11005577696\n",
        "--------------------------------------------------------------------------------\n",
        "Merging for sureness s= 5.22743448528e-06\n",
        "merging 6 42\n",
        "recomputed"
       ]
      },
      {
       "output_type": "stream",
       "stream": "stdout",
       "text": [
        " 0 patches\n",
        "merged 0 patches into 0\n",
        "New VI"
       ]
      },
      {
       "output_type": "stream",
       "stream": "stdout",
       "text": [
        " 1.11532873343\n",
        "--------------------------------------------------------------------------------\n",
        "Merging for sureness s= 3.29862359649e-06\n",
        "merging 243 253\n",
        "recomputed"
       ]
      },
      {
       "output_type": "stream",
       "stream": "stdout",
       "text": [
        " 1 patches\n",
        "merged 1 patches into 1\n",
        "New VI"
       ]
      },
      {
       "output_type": "stream",
       "stream": "stdout",
       "text": [
        " 1.11621353373\n",
        "--------------------------------------------------------------------------------\n",
        "Merging for sureness s= 0.000414442096371\n",
        "merging 246 253\n",
        "recomputed"
       ]
      },
      {
       "output_type": "stream",
       "stream": "stdout",
       "text": [
        " 0 patches\n",
        "merged 0 patches into 0\n",
        "New VI"
       ]
      },
      {
       "output_type": "stream",
       "stream": "stdout",
       "text": [
        " 1.118915996\n",
        "--------------------------------------------------------------------------------\n",
        "Merging for sureness s= 2.89171475742e-06\n",
        "merging 34 35\n",
        "recomputed"
       ]
      },
      {
       "output_type": "stream",
       "stream": "stdout",
       "text": [
        " 0 patches\n",
        "merged 0 patches into 0\n",
        "New VI"
       ]
      },
      {
       "output_type": "stream",
       "stream": "stdout",
       "text": [
        " 1.11844979081\n",
        "--------------------------------------------------------------------------------\n",
        "Merging for sureness s= 1.93923779079e-06\n",
        "merging 43 50\n",
        "recomputed"
       ]
      },
      {
       "output_type": "stream",
       "stream": "stdout",
       "text": [
        " 0 patches\n",
        "merged 0 patches into 0\n",
        "New VI"
       ]
      },
      {
       "output_type": "stream",
       "stream": "stdout",
       "text": [
        " 1.11942422344\n",
        "--------------------------------------------------------------------------------\n",
        "Merging for sureness s= 1.73933756287e-06\n",
        "merging 190 195\n",
        "recomputed"
       ]
      },
      {
       "output_type": "stream",
       "stream": "stdout",
       "text": [
        " 0 patches\n",
        "merged 0 patches into 0\n",
        "New VI"
       ]
      },
      {
       "output_type": "stream",
       "stream": "stdout",
       "text": [
        " 1.12158580341\n",
        "--------------------------------------------------------------------------------\n",
        "Merging for sureness s= 1.54823123921e-06\n",
        "merging 111 142\n",
        "recomputed"
       ]
      },
      {
       "output_type": "stream",
       "stream": "stdout",
       "text": [
        " 1 patches\n",
        "merged 1 patches into 1\n",
        "New VI"
       ]
      },
      {
       "output_type": "stream",
       "stream": "stdout",
       "text": [
        " 1.1225328382\n",
        "--------------------------------------------------------------------------------\n",
        "Merging for sureness s= 1.23091967907e-06\n",
        "merging 138 144\n",
        "recomputed"
       ]
      },
      {
       "output_type": "stream",
       "stream": "stdout",
       "text": [
        " 0 patches\n",
        "merged 0 patches into 0\n",
        "New VI"
       ]
      },
      {
       "output_type": "stream",
       "stream": "stdout",
       "text": [
        " 1.12503227325\n",
        "--------------------------------------------------------------------------------\n",
        "Merging for sureness s= 9.03913473849e-07\n",
        "merging 81 86\n",
        "recomputed"
       ]
      },
      {
       "output_type": "stream",
       "stream": "stdout",
       "text": [
        " 1 patches\n",
        "merged 1 patches into 1\n",
        "New VI"
       ]
      },
      {
       "output_type": "stream",
       "stream": "stdout",
       "text": [
        " 1.12593406846\n",
        "--------------------------------------------------------------------------------\n",
        "Merging for sureness s= 7.29622740892e-07\n",
        "merging 3 33\n",
        "recomputed"
       ]
      },
      {
       "output_type": "stream",
       "stream": "stdout",
       "text": [
        " 2 patches\n",
        "merged 2 patches into 2\n",
        "New VI"
       ]
      },
      {
       "output_type": "stream",
       "stream": "stdout",
       "text": [
        " 1.12629780971\n",
        "--------------------------------------------------------------------------------\n",
        "Merging for sureness s= 7.20443779301e-07\n",
        "merging 228 233\n",
        "recomputed"
       ]
      },
      {
       "output_type": "stream",
       "stream": "stdout",
       "text": [
        " 0 patches\n",
        "merged 0 patches into 0\n",
        "New VI"
       ]
      },
      {
       "output_type": "stream",
       "stream": "stdout",
       "text": [
        " 1.12835398501\n",
        "--------------------------------------------------------------------------------\n",
        "Merging for sureness s= 7.0706249744e-07\n",
        "merging 129 136\n",
        "recomputed"
       ]
      },
      {
       "output_type": "stream",
       "stream": "stdout",
       "text": [
        " 0 patches\n",
        "merged 0 patches into 0\n",
        "New VI"
       ]
      },
      {
       "output_type": "stream",
       "stream": "stdout",
       "text": [
        " 1.12957737023\n",
        "--------------------------------------------------------------------------------\n",
        "Merging for sureness s= 5.14146847763e-07\n",
        "merging 77 84\n",
        "recomputed"
       ]
      },
      {
       "output_type": "stream",
       "stream": "stdout",
       "text": [
        " 0 patches\n",
        "merged 0 patches into 0\n",
        "New VI"
       ]
      },
      {
       "output_type": "stream",
       "stream": "stdout",
       "text": [
        " 1.13066051876\n",
        "--------------------------------------------------------------------------------\n",
        "Merging for sureness s= 3.26693367469e-07\n",
        "merging 345 348\n",
        "recomputed"
       ]
      },
      {
       "output_type": "stream",
       "stream": "stdout",
       "text": [
        " 0 patches\n",
        "merged 0 patches into 0\n",
        "New VI"
       ]
      },
      {
       "output_type": "stream",
       "stream": "stdout",
       "text": [
        " 1.13375823051\n",
        "--------------------------------------------------------------------------------\n",
        "Merging for sureness s= 2.33629776858e-07\n",
        "merging 52 55\n",
        "recomputed"
       ]
      },
      {
       "output_type": "stream",
       "stream": "stdout",
       "text": [
        " 0 patches\n",
        "merged 0 patches into 0\n",
        "New VI"
       ]
      },
      {
       "output_type": "stream",
       "stream": "stdout",
       "text": [
        " 1.13453323048\n",
        "--------------------------------------------------------------------------------\n",
        "Merging for sureness s= 7.89720786543e-08\n",
        "merging 341 343\n",
        "recomputed"
       ]
      },
      {
       "output_type": "stream",
       "stream": "stdout",
       "text": [
        " 1 patches\n",
        "merged 1 patches into 1\n",
        "New VI"
       ]
      },
      {
       "output_type": "stream",
       "stream": "stdout",
       "text": [
        " 1.13800577672\n",
        "--------------------------------------------------------------------------------\n",
        "Merging for sureness s= 0.000141874887049\n",
        "merging 328 343\n",
        "recomputed"
       ]
      },
      {
       "output_type": "stream",
       "stream": "stdout",
       "text": [
        " 0 patches\n",
        "merged 0 patches into 0\n",
        "New VI"
       ]
      },
      {
       "output_type": "stream",
       "stream": "stdout",
       "text": [
        " 1.14243662283\n",
        "--------------------------------------------------------------------------------\n",
        "Merging for sureness s= 3.68378252347e-08\n",
        "merging 215 229\n",
        "recomputed"
       ]
      },
      {
       "output_type": "stream",
       "stream": "stdout",
       "text": [
        " 2 patches\n",
        "merged 2 patches into 2\n",
        "New VI"
       ]
      },
      {
       "output_type": "stream",
       "stream": "stdout",
       "text": [
        " 1.24234254182\n",
        "--------------------------------------------------------------------------------\n",
        "Merging for sureness s= 3.42548567289e-08\n",
        "merging 282 284\n",
        "recomputed"
       ]
      },
      {
       "output_type": "stream",
       "stream": "stdout",
       "text": [
        " 1 patches\n",
        "merged 1 patches into 1\n",
        "New VI"
       ]
      },
      {
       "output_type": "stream",
       "stream": "stdout",
       "text": [
        " 1.24535562702\n",
        "--------------------------------------------------------------------------------\n",
        "Merging for sureness s= 2.77092624401e-08\n",
        "merging 27 36\n",
        "recomputed"
       ]
      },
      {
       "output_type": "stream",
       "stream": "stdout",
       "text": [
        " 1 patches\n",
        "merged 1 patches into 1\n",
        "New VI"
       ]
      },
      {
       "output_type": "stream",
       "stream": "stdout",
       "text": [
        " 1.24675412937\n",
        "--------------------------------------------------------------------------------\n",
        "Merging for sureness s= 3.99196949274e-07\n",
        "merging 26 36\n",
        "recomputed"
       ]
      },
      {
       "output_type": "stream",
       "stream": "stdout",
       "text": [
        " 0 patches\n",
        "merged 0 patches into 0\n",
        "New VI"
       ]
      },
      {
       "output_type": "stream",
       "stream": "stdout",
       "text": [
        " 1.24989592459\n",
        "--------------------------------------------------------------------------------\n",
        "Merging for sureness s= 1.53773829226e-08\n",
        "merging 148 152\n",
        "recomputed"
       ]
      },
      {
       "output_type": "stream",
       "stream": "stdout",
       "text": [
        " 0 patches\n",
        "merged 0 patches into 0\n",
        "New VI"
       ]
      },
      {
       "output_type": "stream",
       "stream": "stdout",
       "text": [
        " 1.25027493057\n",
        "--------------------------------------------------------------------------------\n",
        "Merging for sureness s= 9.71501901148e-09\n",
        "merging 143 151\n",
        "recomputed"
       ]
      },
      {
       "output_type": "stream",
       "stream": "stdout",
       "text": [
        " 0 patches\n",
        "merged 0 patches into 0\n",
        "New VI"
       ]
      },
      {
       "output_type": "stream",
       "stream": "stdout",
       "text": [
        " 1.25230650654\n",
        "--------------------------------------------------------------------------------\n",
        "Merging for sureness s= 4.6067132331e-09\n",
        "merging 274 301\n",
        "recomputed"
       ]
      },
      {
       "output_type": "stream",
       "stream": "stdout",
       "text": [
        " 1 patches\n",
        "merged 1 patches into 1\n",
        "New VI"
       ]
      },
      {
       "output_type": "stream",
       "stream": "stdout",
       "text": [
        " 1.25711919462\n",
        "--------------------------------------------------------------------------------\n",
        "Merging for sureness s= 3.03906344534e-09\n",
        "merging 71 83\n",
        "recomputed"
       ]
      },
      {
       "output_type": "stream",
       "stream": "stdout",
       "text": [
        " 0 patches\n",
        "merged 0 patches into 0\n",
        "New VI"
       ]
      },
      {
       "output_type": "stream",
       "stream": "stdout",
       "text": [
        " 1.27592613437\n",
        "--------------------------------------------------------------------------------\n",
        "Merging for sureness s= 2.82035533816e-10\n",
        "merging 101 102\n",
        "recomputed"
       ]
      },
      {
       "output_type": "stream",
       "stream": "stdout",
       "text": [
        " 0 patches\n",
        "merged 0 patches into 0\n",
        "New VI"
       ]
      },
      {
       "output_type": "stream",
       "stream": "stdout",
       "text": [
        " 1.27700516912\n",
        "--------------------------------------------------------------------------------\n",
        "Merging for sureness s= 1.86386704681e-11\n",
        "merging 245 250\n",
        "recomputed"
       ]
      },
      {
       "output_type": "stream",
       "stream": "stdout",
       "text": [
        " 0 patches\n",
        "merged 0 patches into 0\n",
        "New VI"
       ]
      },
      {
       "output_type": "stream",
       "stream": "stdout",
       "text": [
        " 1.27976237218\n",
        "--------------------------------------------------------------------------------\n"
       ]
      }
     ],
     "prompt_number": 8
    },
    {
     "cell_type": "code",
     "collapsed": false,
     "input": [
      "index = vi_s.index(min(vi_s))\n",
      "print 'Before VI', before_VI\n",
      "print 'Lowest VI', vi_s[index]\n",
      "print 'Iterations', index\n",
      "print 'Sureness', surenesses[index]"
     ],
     "language": "python",
     "metadata": {},
     "outputs": [
      {
       "output_type": "stream",
       "stream": "stdout",
       "text": [
        "Before VI 0.835494987924\n",
        "Lowest VI 0.829784525706\n",
        "Iterations 18\n",
        "Sureness 0.964622378349\n"
       ]
      }
     ],
     "prompt_number": 16
    },
    {
     "cell_type": "code",
     "collapsed": false,
     "input": [
      "import matplotlib.pyplot as plt\n",
      "# create plot\n",
      "new_rhoana = propagate_max_overlap(seg, gold_normalized)\n",
      "before_VI = partition_comparison.variation_of_information(gold_normalized.ravel(), seg.ravel())\n",
      "target_vi = partition_comparison.variation_of_information(new_rhoana.ravel(), gold_normalized.ravel())\n",
      "\n",
      "bins = np.arange(0, len(vi_s))#np.arange(len(vi_s), 0, -1)\n",
      "# bins /= 100\n",
      "\n",
      "vi_s_ = vi_s #[x for (y,x) in sorted(zip(surenesses, vi_s))]\n",
      "surenesses_ = bins #surenesses#[y for (y,x) in sorted(zip(surenesses, vi_s))]\n",
      "\n",
      "original_vi = [before_VI]*len(vi_s)\n",
      "target_vi = [target_vi]*len(vi_s)\n",
      "\n",
      "fig, ax = plt.subplots()\n",
      "\n",
      "ax.plot(surenesses_, target_vi, 'k--', label='Target VI')\n",
      "ax.plot(surenesses_, vi_s_, 'k', label='Variation of Information')\n",
      "ax.plot(surenesses_, original_vi, 'k:', label='Rhoana VI before')\n",
      "# ax.set_yscale('log')\n",
      "\n",
      "# Now add the legend with some customizations.\n",
      "legend = ax.legend(loc='upper center', shadow=True)\n",
      "ax.set_ylim([0.6,1.5])\n",
      "\n",
      "# The frame is matplotlib.patches.Rectangle instance surrounding the legend.\n",
      "frame = legend.get_frame()\n",
      "frame.set_facecolor('0.90')\n",
      "\n",
      "# Set the fontsize\n",
      "for label in legend.get_texts():\n",
      "    label.set_fontsize('large')\n",
      "\n",
      "for label in legend.get_lines():\n",
      "    label.set_linewidth(1.5)  # the legend line width\n"
     ],
     "language": "python",
     "metadata": {},
     "outputs": [
      {
       "metadata": {},
       "output_type": "display_data",
       "png": "[encoded data removed]",
       "text": [
        "<matplotlib.figure.Figure at 0x10fb86110>"
       ]
      }
     ],
     "prompt_number": 10
    },
    {
     "cell_type": "code",
     "collapsed": false,
     "input": [],
     "language": "python",
     "metadata": {},
     "outputs": [],
     "prompt_number": 10
    }
   ],
   "metadata": {}
  }
 ]
}