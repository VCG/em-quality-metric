{
 "metadata": {
  "name": "",
  "signature": "sha256:601a4754fa952a42001b9ae1453d3055eed48d191683f35c3be1dcdd8bc78c57"
 },
 "nbformat": 3,
 "nbformat_minor": 0,
 "worksheets": [
  {
   "cells": [
    {
     "cell_type": "code",
     "collapsed": false,
     "input": [
      "%load_ext autoreload\n",
      "%autoreload 2\n",
      "\n",
      "from matplotlib.pyplot import imshow\n",
      "%matplotlib inline\n",
      "\n",
      "import _metrics"
     ],
     "language": "python",
     "metadata": {},
     "outputs": [
      {
       "output_type": "stream",
       "stream": "stderr",
       "text": [
        "_metrics/tifffile.py:1995: UserWarning: failed to import _tifffile.decodepackbits\n",
        "  warnings.warn(\"failed to import %s\" % module_function)\n",
        "_metrics/tifffile.py:1995: UserWarning: failed to import _tifffile.decodelzw\n",
        "  warnings.warn(\"failed to import %s\" % module_function)\n",
        "_metrics/tifffile.py:1995: UserWarning: failed to import _tifffile.unpackints\n",
        "  warnings.warn(\"failed to import %s\" % module_function)\n"
       ]
      }
     ],
     "prompt_number": 1
    },
    {
     "cell_type": "code",
     "collapsed": false,
     "input": [
      "\n",
      "import cv2\n",
      "import glob\n",
      "import numpy as np\n",
      "import mahotas as mh\n",
      "import os\n",
      "import uuid\n",
      "import tifffile as tif\n",
      "from scipy import ndimage as nd\n",
      "from scipy.misc import imrotate\n",
      "import skimage.measure\n",
      "from skimage import img_as_ubyte\n",
      "import random\n",
      "import cPickle as pickle\n",
      "import time\n",
      "import partition_comparison\n",
      "\n",
      "DATA_PATH = '/Volumes/DATA1/EMQM_DATA/ac3x75/'\n",
      "GOLD_PATH = os.path.join(DATA_PATH,'gold/')\n",
      "RHOANA_PATH = os.path.join(DATA_PATH,'rhoana/')\n",
      "IMAGE_PATH = os.path.join(DATA_PATH,'input/')\n",
      "PROB_PATH = os.path.join(DATA_PATH,'prob/')\n",
      "PATCH_PATH = os.path.join(DATA_PATH,'test_rhoana/')\n",
      "\n",
      "\n",
      "gold = _metrics.Util.read(GOLD_PATH+'*.tif')\n",
      "rhoana = _metrics.Util.read(RHOANA_PATH+'*.tif')\n",
      "images = _metrics.Util.read(IMAGE_PATH+'*.tif')\n",
      "probs = _metrics.Util.read(PROB_PATH+'*.tif')"
     ],
     "language": "python",
     "metadata": {},
     "outputs": [
      {
       "output_type": "stream",
       "stream": "stdout",
       "text": [
        "Loaded 75 images.\n",
        "Loaded"
       ]
      },
      {
       "output_type": "stream",
       "stream": "stdout",
       "text": [
        " 75 images.\n",
        "Loaded"
       ]
      },
      {
       "output_type": "stream",
       "stream": "stdout",
       "text": [
        " 75 images.\n",
        "Loaded"
       ]
      },
      {
       "output_type": "stream",
       "stream": "stdout",
       "text": [
        " 75 images.\n"
       ]
      },
      {
       "output_type": "stream",
       "stream": "stderr",
       "text": [
        "tifffile.py:1995: UserWarning: failed to import _tifffile.decodepackbits\n",
        "  warnings.warn(\"failed to import %s\" % module_function)\n",
        "tifffile.py:1995: UserWarning: failed to import _tifffile.decodelzw\n",
        "  warnings.warn(\"failed to import %s\" % module_function)\n",
        "tifffile.py:1995: UserWarning: failed to import _tifffile.unpackints\n",
        "  warnings.warn(\"failed to import %s\" % module_function)\n"
       ]
      }
     ],
     "prompt_number": 2
    },
    {
     "cell_type": "code",
     "collapsed": false,
     "input": [
      "SLICE = 70"
     ],
     "language": "python",
     "metadata": {},
     "outputs": [],
     "prompt_number": 3
    },
    {
     "cell_type": "code",
     "collapsed": false,
     "input": [
      "BBOX = [500,600,500,600]\n",
      "#BBOX = [465,635,465,635]\n"
     ],
     "language": "python",
     "metadata": {},
     "outputs": [],
     "prompt_number": 4
    },
    {
     "cell_type": "code",
     "collapsed": false,
     "input": [
      "image = images[SLICE,BBOX[0]:BBOX[1],BBOX[2]:BBOX[3]]\n",
      "prob = probs[SLICE,BBOX[0]:BBOX[1],BBOX[2]:BBOX[3]]\n",
      "seg = _metrics.Util.normalize_labels(rhoana[SLICE,BBOX[0]:BBOX[1],BBOX[2]:BBOX[3]])[0]\n",
      "\n",
      "# fill and normalize gold\n",
      "gold_zeros = _metrics.Util.threshold(gold[SLICE,BBOX[0]:BBOX[1],BBOX[2]:BBOX[3]], 0)\n",
      "gold_filled = _metrics.Util.fill(gold[SLICE,BBOX[0]:BBOX[1],BBOX[2]:BBOX[3]], gold_zeros.astype(np.bool))\n",
      "gold_filled_relabeled = skimage.measure.label(gold_filled).astype(np.uint64)\n",
      "gold_normalized = _metrics.Util.normalize_labels(gold_filled_relabeled)[0]\n",
      "\n",
      "# color both segmentations\n",
      "cm = _metrics.Util.load_colormap('/Volumes/DATA1/ac3x75/mojo/ids/colorMap.hdf5')\n",
      "colored_rhoana_normalized = cm[seg % len(cm)]\n",
      "colored_gold_normalized = cm[gold_normalized % len(cm)]\n"
     ],
     "language": "python",
     "metadata": {},
     "outputs": [],
     "prompt_number": 5
    },
    {
     "cell_type": "code",
     "collapsed": false,
     "input": [
      "imshow(colored_rhoana_normalized)"
     ],
     "language": "python",
     "metadata": {},
     "outputs": [
      {
       "metadata": {},
       "output_type": "pyout",
       "prompt_number": 6,
       "text": [
        "<matplotlib.image.AxesImage at 0x135596cd0>"
       ]
      },
      {
       "metadata": {},
       "output_type": "display_data",
       "png": "[encoded data removed]",
       "text": [
        "<matplotlib.figure.Figure at 0x109fc4410>"
       ]
      }
     ],
     "prompt_number": 6
    },
    {
     "cell_type": "code",
     "collapsed": false,
     "input": [
      "imshow(colored_gold_normalized)"
     ],
     "language": "python",
     "metadata": {},
     "outputs": [
      {
       "metadata": {},
       "output_type": "pyout",
       "prompt_number": 7,
       "text": [
        "<matplotlib.image.AxesImage at 0x10f822e10>"
       ]
      },
      {
       "metadata": {},
       "output_type": "display_data",
       "png": "[encoded data removed]",
       "text": [
        "<matplotlib.figure.Figure at 0x13558add0>"
       ]
      }
     ],
     "prompt_number": 7
    },
    {
     "cell_type": "code",
     "collapsed": false,
     "input": [
      "def grab_neighbors(array, label):\n",
      "\n",
      "    thresholded_array = _metrics.Util.threshold(array, label)\n",
      "    thresholded_array_dilated = mh.dilate(thresholded_array.astype(np.uint64))\n",
      "\n",
      "    all_neighbors = np.unique(array[thresholded_array_dilated == thresholded_array_dilated.max()].astype(np.uint64))\n",
      "    all_neighbors = np.delete(all_neighbors, np.where(all_neighbors == label))\n",
      "\n",
      "    return all_neighbors\n",
      "\n",
      "def grab_patch(image, prob, segmentation, l, n, patch_size=(75,75), skip_boundaries=False):\n",
      "\n",
      "    borders = mh.labeled.border(segmentation, l, n)\n",
      "\n",
      "    borders_labeled = skimage.measure.label(borders)\n",
      "    \n",
      "    patches = []\n",
      "    \n",
      "    # check if we need multiple patches because of multiple borders\n",
      "    for b in range(1,borders_labeled.max()+1):\n",
      "        #print 'patch for border', b\n",
      "        \n",
      "        border = _metrics.Util.threshold(borders_labeled, b)\n",
      "\n",
      "        border_yx = indices = zip(*np.where(border==1))\n",
      "\n",
      "        # fault check if no border is found\n",
      "        if len(border_yx) < 2:\n",
      "            print 'no border', l, n, 'border', b\n",
      "            continue\n",
      "\n",
      "        #\n",
      "        # calculate border center properly\n",
      "        #\n",
      "        node = mh.center_of_mass(border)\n",
      "        nodes = border_yx\n",
      "        nodes = np.asarray(nodes)\n",
      "        deltas = nodes - node\n",
      "        dist_2 = np.einsum('ij,ij->i', deltas, deltas)\n",
      "        border_center = border_yx[np.argmin(dist_2)]\n",
      "\n",
      "        # check if border_center is too close to the 4 edges\n",
      "        new_border_center = [border_center[0], border_center[1]]\n",
      "        if border_center[0] < patch_size[0]/2:\n",
      "            return None\n",
      "        if border_center[0]+patch_size[0]/2 >= segmentation.shape[0]:\n",
      "            return None\n",
      "        if border_center[1] < patch_size[1]/2:\n",
      "            return None\n",
      "        if border_center[1]+patch_size[1]/2 >= segmentation.shape[1]:\n",
      "            return None\n",
      "\n",
      "        bbox = [new_border_center[0]-patch_size[0]/2, \n",
      "                new_border_center[0]+patch_size[0]/2,\n",
      "                new_border_center[1]-patch_size[1]/2, \n",
      "                new_border_center[1]+patch_size[1]/2]\n",
      "\n",
      "        ### workaround to not sample white border of probability map\n",
      "        if skip_boundaries:\n",
      "            if bbox[0] <= 33:\n",
      "                return None\n",
      "            if bbox[1] >= segmentation.shape[0]-33:\n",
      "                return None\n",
      "            if bbox[2] <= 33:\n",
      "                return None\n",
      "            if bbox[3] >= segmentation.shape[1]-33:\n",
      "                return None\n",
      "\n",
      "\n",
      "        # threshold for label1\n",
      "        array1 = _metrics.Util.threshold(segmentation, l).astype(np.uint8)\n",
      "        # threshold for label2\n",
      "        array2 = _metrics.Util.threshold(segmentation, n).astype(np.uint8)\n",
      "        merged_array = array1 + array2\n",
      "\n",
      "        # dilate for overlap\n",
      "        dilated_array1 = np.array(array1)\n",
      "        dilated_array2 = np.array(array2)\n",
      "        for o in range(10):\n",
      "            dilated_array1 = mh.dilate(dilated_array1.astype(np.uint64))\n",
      "            dilated_array2 = mh.dilate(dilated_array2.astype(np.uint64))\n",
      "        overlap = np.logical_and(dilated_array1, dilated_array2)\n",
      "        overlap[merged_array == 0] = 0\n",
      "\n",
      "        output = {}\n",
      "        output['id'] = str(uuid.uuid4())\n",
      "        output['image'] = image[bbox[0]:bbox[1] + 1, bbox[2]:bbox[3] + 1]\n",
      "        output['prob'] = prob[bbox[0]:bbox[1] + 1, bbox[2]:bbox[3] + 1]\n",
      "        output['l'] = l\n",
      "        output['n'] = n\n",
      "        output['bbox'] = bbox\n",
      "        output['border'] = border_yx\n",
      "        output['border_center'] = new_border_center\n",
      "        output['binary1'] = array1[bbox[0]:bbox[1] + 1, bbox[2]:bbox[3] + 1].astype(np.bool)\n",
      "        output['binary2'] = array2[bbox[0]:bbox[1] + 1, bbox[2]:bbox[3] + 1].astype(np.bool)\n",
      "        output['overlap'] = overlap[bbox[0]:bbox[1] + 1, bbox[2]:bbox[3] + 1].astype(np.bool)\n",
      "\n",
      "        patches.append(output)\n",
      "        \n",
      "    return patches\n",
      "    \n",
      "    \n",
      "\n",
      "def loop(image, prob, segmentation):\n",
      "    labels = range(1,len(_metrics.Util.get_histogram(segmentation.astype(np.uint64))))\n",
      "#     print labels\n",
      "    patches = []\n",
      "    \n",
      "    for l in labels:\n",
      "        neighbors = grab_neighbors(segmentation, l)\n",
      "        for n in neighbors:\n",
      "            p = grab_patch(image, prob, segmentation, l, n)\n",
      "            if not p:\n",
      "                continue\n",
      "                \n",
      "            patches += p\n",
      "            \n",
      "    return patches\n",
      "\n",
      "def fill_matrix(m, patches):\n",
      "    \n",
      "    patch_grouper = {}\n",
      "    for p in patches:\n",
      "        # create key\n",
      "        minlabel = min(p['l'], p['n'])\n",
      "        maxlabel = max(p['l'], p['n'])\n",
      "        key = str(minlabel)+'-'+str(maxlabel)\n",
      "\n",
      "        if not key in patch_grouper:\n",
      "            patch_grouper[key] = []\n",
      "\n",
      "        patch_grouper[key] += [p]\n",
      "\n",
      "    # now average the probabilities\n",
      "    for k in patch_grouper.keys():\n",
      "\n",
      "        weights = []\n",
      "        predictions = []\n",
      "\n",
      "        for p in patch_grouper[k]:\n",
      "\n",
      "             weights.append(len(p['border']))\n",
      "             predictions.append(test_patch(val_fn, p))\n",
      "\n",
      "        if len(patch_grouper[k]) == 1:\n",
      "            weights[0] = 1\n",
      "\n",
      "        p_sum = 0\n",
      "        w_sum = 0\n",
      "        for i,w in enumerate(weights):\n",
      "            # weighted arithmetic mean\n",
      "            p_sum += w*predictions[i]\n",
      "            w_sum += w\n",
      "\n",
      "        p_sum /= w_sum\n",
      "\n",
      "        patch_grouper[k] = p_sum\n",
      "\n",
      "    for p in patch_grouper.keys():\n",
      "        l = int(p.split('-')[0])\n",
      "        n = int(p.split('-')[1])\n",
      "        \n",
      "        m[l,n] = patch_grouper[p]\n",
      "        m[n,l] = patch_grouper[p]\n",
      "        \n",
      "    print 'merged', len(patches), 'patches into', len(patch_grouper.keys())\n",
      "        \n",
      "    return m\n",
      "\n",
      "            \n",
      "def setup_n():\n",
      "    from test_cnn_vis import TestCNN\n",
      "    t = TestCNN('7b76867e-c76a-416f-910a-7065e93c616a', 'patches_large2new')\n",
      "    val_fn = t.run()\n",
      "    \n",
      "    return val_fn\n",
      "            \n",
      "def test_patch(val_fn, p):\n",
      "\n",
      "    images = p['image'].reshape(-1, 1, 75, 75).astype(np.uint8)\n",
      "    probs = p['prob'].reshape(-1, 1, 75, 75).astype(np.uint8)\n",
      "    binary1s = p['binary1'].reshape(-1, 1, 75, 75).astype(np.uint8)*255\n",
      "    binary2s = p['binary2'].reshape(-1, 1, 75, 75).astype(np.uint8)*255\n",
      "    overlaps = p['overlap'].reshape(-1, 1, 75, 75).astype(np.uint8)*255\n",
      "    targets = np.array([0], dtype=np.uint8)\n",
      "    \n",
      "    pred, err, acc = val_fn(images, probs, binary1s, binary2s, overlaps, targets)\n",
      "            \n",
      "    return pred[0][1]\n",
      "\n",
      "def create_matrix(val_fn, segmentation, patches):\n",
      "    \n",
      "    \n",
      "    no_labels = len(_metrics.Util.get_histogram(segmentation.astype(np.uint64)))\n",
      "    \n",
      "    m = np.zeros((no_labels,no_labels), dtype=np.float)\n",
      "    m[:,:] = -1 # all uninitialised\n",
      " \n",
      "#     for p in patches:\n",
      "\n",
      "#         prediction = test_patch(val_fn, p)\n",
      "#         m[p['l'], p['n']] = prediction\n",
      "#         m[p['n'], p['l']] = prediction\n",
      "\n",
      "    m = fill_matrix(m, patches)\n",
      "\n",
      "    return m\n",
      "\n",
      "P8_10_bef = None\n",
      "P8_10_aft = None\n",
      "\n",
      "def merge(image, seg, prob, m_old, sureness=1.):\n",
      "    \n",
      "    out = np.array(seg)\n",
      "    m = np.array(m_old)\n",
      "    \n",
      "    patches = []\n",
      "    \n",
      "    # find largest value in matrix\n",
      "    largest_index = np.where(m==m.max())\n",
      "    print largest_index\n",
      "    l,n = (largest_index[0][0], largest_index[1][0])\n",
      "#     if l==3:\n",
      "#         l=8\n",
      "\n",
      "    # merge these labels\n",
      "    print 'merging', l, n\n",
      "    out[out == l] = n\n",
      "    # set matrix as merged for this entry\n",
      "    m[l,:] = -2\n",
      "    m[:,l] = -2\n",
      "    \n",
      "    # grab neighbors of l\n",
      "    old_neighbors = grab_neighbors(seg, l)\n",
      "    # get patches for l and n_l\n",
      "    for n in old_neighbors:\n",
      "        neighbors = grab_neighbors(out, n)\n",
      "        for k in neighbors:\n",
      "            \n",
      "            # check if this is still a valid combination\n",
      "            if m[n,k] == -2:\n",
      "                # nope!\n",
      "                print 'not valid', n, k\n",
      "                continue\n",
      "            \n",
      "            p = grab_patch(image, prob, out, n, k)\n",
      "            if not p:\n",
      "                print 'problem', n, k\n",
      "                continue\n",
      "\n",
      "            patches += p\n",
      "        \n",
      "    print 'recomputed', len(patches), 'patches'\n",
      "\n",
      "    for p_ in patches:\n",
      "        print p_['l'], p_['n'], round(test_patch(val_fn, p_),2)\n",
      "    \n",
      "\n",
      "#     print 'bef fill', m[8,10], m[10,8]\n",
      "    \n",
      "    m = fill_matrix(m, patches)\n",
      "\n",
      "#     print 'aft fill', m[8,10], m[10,8]\n",
      "    \n",
      "    return m, out\n",
      "\n",
      "\n",
      "\n",
      "def propagate_max_overlap(rhoana, gold):\n",
      "\n",
      "    out = np.array(rhoana)\n",
      "    \n",
      "    rhoana_labels = _metrics.Util.get_histogram(rhoana.astype(np.uint64))\n",
      "    \n",
      "    for l,k in enumerate(rhoana_labels):\n",
      "        if l == 0:\n",
      "            # ignore 0 since rhoana does not have it\n",
      "            continue\n",
      "        values = gold[rhoana == l]\n",
      "        largest_label = _metrics.Util.get_largest_label(values.astype(np.uint64))\n",
      "    \n",
      "        out[rhoana == l] = largest_label # set the largest label from gold here\n",
      "    \n",
      "    return out\n",
      "        "
     ],
     "language": "python",
     "metadata": {},
     "outputs": [],
     "prompt_number": 8
    },
    {
     "cell_type": "code",
     "collapsed": false,
     "input": [
      "import time\n",
      "t0 = time.time()\n",
      "p = loop(image, prob, seg)\n",
      "print time.time()-t0\n",
      "print len(p)"
     ],
     "language": "python",
     "metadata": {},
     "outputs": [
      {
       "output_type": "stream",
       "stream": "stdout",
       "text": [
        "0.0666360855103\n",
        "6\n"
       ]
      }
     ],
     "prompt_number": 9
    },
    {
     "cell_type": "code",
     "collapsed": false,
     "input": [
      "ppp = []\n",
      "for p_ in p:\n",
      "    \n",
      "#     if p_['l'] == 3 and p_['n'] == 10:\n",
      "#         ppp.append(p_)\n",
      "#     if p_['n'] == 3 and p_['l'] == 10:\n",
      "#         ppp.append(p_)\n",
      "                \n",
      "        \n",
      "    print p_['l'], p_['n'], round(test_patch(val_fn, p_),4)"
     ],
     "language": "python",
     "metadata": {},
     "outputs": [
      {
       "output_type": "stream",
       "stream": "stdout",
       "text": [
        "1 5"
       ]
      },
      {
       "ename": "NameError",
       "evalue": "name 'val_fn' is not defined",
       "output_type": "pyerr",
       "traceback": [
        "\u001b[0;31m---------------------------------------------------------------------------\u001b[0m\n\u001b[0;31mNameError\u001b[0m                                 Traceback (most recent call last)",
        "\u001b[0;32m<ipython-input-10-3dac6ee63a62>\u001b[0m in \u001b[0;36m<module>\u001b[0;34m()\u001b[0m\n\u001b[1;32m      8\u001b[0m \u001b[0;34m\u001b[0m\u001b[0m\n\u001b[1;32m      9\u001b[0m \u001b[0;34m\u001b[0m\u001b[0m\n\u001b[0;32m---> 10\u001b[0;31m     \u001b[0;32mprint\u001b[0m \u001b[0mp_\u001b[0m\u001b[0;34m[\u001b[0m\u001b[0;34m'l'\u001b[0m\u001b[0;34m]\u001b[0m\u001b[0;34m,\u001b[0m \u001b[0mp_\u001b[0m\u001b[0;34m[\u001b[0m\u001b[0;34m'n'\u001b[0m\u001b[0;34m]\u001b[0m\u001b[0;34m,\u001b[0m \u001b[0mround\u001b[0m\u001b[0;34m(\u001b[0m\u001b[0mtest_patch\u001b[0m\u001b[0;34m(\u001b[0m\u001b[0mval_fn\u001b[0m\u001b[0;34m,\u001b[0m \u001b[0mp_\u001b[0m\u001b[0;34m)\u001b[0m\u001b[0;34m,\u001b[0m\u001b[0;36m4\u001b[0m\u001b[0;34m)\u001b[0m\u001b[0;34m\u001b[0m\u001b[0m\n\u001b[0m",
        "\u001b[0;31mNameError\u001b[0m: name 'val_fn' is not defined"
       ]
      }
     ],
     "prompt_number": 10
    },
    {
     "cell_type": "code",
     "collapsed": false,
     "input": [
      "test_patch(val_fn, p[0])"
     ],
     "language": "python",
     "metadata": {},
     "outputs": [
      {
       "metadata": {},
       "output_type": "pyout",
       "prompt_number": 192,
       "text": [
        "0.99969655"
       ]
      }
     ],
     "prompt_number": 192
    },
    {
     "cell_type": "code",
     "collapsed": false,
     "input": [
      "test_patch(val_fn, p[2])"
     ],
     "language": "python",
     "metadata": {},
     "outputs": [
      {
       "metadata": {},
       "output_type": "pyout",
       "prompt_number": 195,
       "text": [
        "1.0"
       ]
      }
     ],
     "prompt_number": 195
    },
    {
     "cell_type": "code",
     "collapsed": false,
     "input": [
      "m_small = create_matrix(val_fn, seg, p)"
     ],
     "language": "python",
     "metadata": {},
     "outputs": [
      {
       "output_type": "stream",
       "stream": "stdout",
       "text": [
        "merged 36 patches into 18\n"
       ]
      }
     ],
     "prompt_number": 70
    },
    {
     "cell_type": "code",
     "collapsed": false,
     "input": [
      "np.where(m_small != -1)"
     ],
     "language": "python",
     "metadata": {},
     "outputs": [
      {
       "metadata": {},
       "output_type": "pyout",
       "prompt_number": 71,
       "text": [
        "(array([ 3,  3,  3,  3,  3,  7,  8,  8,  8, 10, 11, 11, 13, 13, 14, 14, 15,\n",
        "        16]),\n",
        " array([ 8, 10, 13, 14, 16,  8, 10, 11, 13, 13, 13, 15, 14, 15, 15, 16, 16,\n",
        "        17]))"
       ]
      }
     ],
     "prompt_number": 71
    },
    {
     "cell_type": "code",
     "collapsed": false,
     "input": [
      "imshow(_metrics.Util.threshold(seg, 1))"
     ],
     "language": "python",
     "metadata": {},
     "outputs": [
      {
       "metadata": {},
       "output_type": "pyout",
       "prompt_number": 168,
       "text": [
        "<matplotlib.image.AxesImage at 0x1164bccd0>"
       ]
      },
      {
       "metadata": {},
       "output_type": "display_data",
       "png": "[encoded data removed]",
       "text": [
        "<matplotlib.figure.Figure at 0x1138ccb90>"
       ]
      }
     ],
     "prompt_number": 168
    },
    {
     "cell_type": "code",
     "collapsed": false,
     "input": [
      "imshow(_metrics.Util.threshold(seg, 5))"
     ],
     "language": "python",
     "metadata": {},
     "outputs": [
      {
       "metadata": {},
       "output_type": "pyout",
       "prompt_number": 174,
       "text": [
        "<matplotlib.image.AxesImage at 0x116623e50>"
       ]
      },
      {
       "metadata": {},
       "output_type": "display_data",
       "png": "[encoded data removed]",
       "text": [
        "<matplotlib.figure.Figure at 0x116558b50>"
       ]
      }
     ],
     "prompt_number": 174
    },
    {
     "cell_type": "code",
     "collapsed": false,
     "input": [
      "imshow(_metrics.Util.threshold(seg, 7))"
     ],
     "language": "python",
     "metadata": {},
     "outputs": [
      {
       "metadata": {},
       "output_type": "pyout",
       "prompt_number": 197,
       "text": [
        "<matplotlib.image.AxesImage at 0x116c8f5d0>"
       ]
      },
      {
       "metadata": {},
       "output_type": "display_data",
       "png": "[encoded data removed]",
       "text": [
        "<matplotlib.figure.Figure at 0x116bcad90>"
       ]
      }
     ],
     "prompt_number": 197
    },
    {
     "cell_type": "code",
     "collapsed": false,
     "input": [
      "val_fn = setup_n()"
     ],
     "language": "python",
     "metadata": {},
     "outputs": [
      {
       "output_type": "stream",
       "stream": "stderr",
       "text": [
        "ERROR (theano.sandbox.cuda): nvcc compiler not found on $PATH. Check your nvcc installation and try again.\n"
       ]
      },
      {
       "output_type": "stream",
       "stream": "stderr",
       "text": [
        "ERROR:theano.sandbox.cuda:nvcc compiler not found on $PATH. Check your nvcc installation and try again.\n"
       ]
      },
      {
       "output_type": "stream",
       "stream": "stdout",
       "text": [
        " Loading ['/Volumes/DATA1/split_cnn/patches_large2new/7b76867e-c76a-416f-910a-7065e93c616a/configuration.txt']\n",
        "[\"{'outputpath': '/n/regal/pfister_lab/haehn/split_cnn/patches_large2new/', 'filtersize1': 9, 'filters3': 16, 'filters2': 16, 'batchsize': 100, 'datapath': '/n/regal/pfister_lab/haehn/', 'epochs': 500, 'runmode': 'cluster', 'filtersize2': 9, 'filtersize3': 9, 'filters1': 16, 'patchpath': 'patches_large2new', 'thirdconvlayer': True, 'learning_rate': 0.0001, 'momentum': 0.9}\"]\n",
        "Loading ['/Volumes/DATA1/split_cnn/patches_large2new/7b76867e-c76a-416f-910a-7065e93c616a/network_199.p']\n"
       ]
      },
      {
       "ename": "ImportError",
       "evalue": "Cuda not found. Cannot unpickle CudaNdarray",
       "output_type": "pyerr",
       "traceback": [
        "\u001b[0;31m---------------------------------------------------------------------------\u001b[0m\n\u001b[0;31mImportError\u001b[0m                               Traceback (most recent call last)",
        "\u001b[0;32m<ipython-input-11-44c93e390a59>\u001b[0m in \u001b[0;36m<module>\u001b[0;34m()\u001b[0m\n\u001b[0;32m----> 1\u001b[0;31m \u001b[0mval_fn\u001b[0m \u001b[0;34m=\u001b[0m \u001b[0msetup_n\u001b[0m\u001b[0;34m(\u001b[0m\u001b[0;34m)\u001b[0m\u001b[0;34m\u001b[0m\u001b[0m\n\u001b[0m",
        "\u001b[0;32m<ipython-input-8-5eec7fa5fa49>\u001b[0m in \u001b[0;36msetup_n\u001b[0;34m()\u001b[0m\n\u001b[1;32m    172\u001b[0m     \u001b[0;32mfrom\u001b[0m \u001b[0mtest_cnn_vis\u001b[0m \u001b[0;32mimport\u001b[0m \u001b[0mTestCNN\u001b[0m\u001b[0;34m\u001b[0m\u001b[0m\n\u001b[1;32m    173\u001b[0m     \u001b[0mt\u001b[0m \u001b[0;34m=\u001b[0m \u001b[0mTestCNN\u001b[0m\u001b[0;34m(\u001b[0m\u001b[0;34m'7b76867e-c76a-416f-910a-7065e93c616a'\u001b[0m\u001b[0;34m,\u001b[0m \u001b[0;34m'patches_large2new'\u001b[0m\u001b[0;34m)\u001b[0m\u001b[0;34m\u001b[0m\u001b[0m\n\u001b[0;32m--> 174\u001b[0;31m     \u001b[0mval_fn\u001b[0m \u001b[0;34m=\u001b[0m \u001b[0mt\u001b[0m\u001b[0;34m.\u001b[0m\u001b[0mrun\u001b[0m\u001b[0;34m(\u001b[0m\u001b[0;34m)\u001b[0m\u001b[0;34m\u001b[0m\u001b[0m\n\u001b[0m\u001b[1;32m    175\u001b[0m \u001b[0;34m\u001b[0m\u001b[0m\n\u001b[1;32m    176\u001b[0m     \u001b[0;32mreturn\u001b[0m \u001b[0mval_fn\u001b[0m\u001b[0;34m\u001b[0m\u001b[0m\n",
        "\u001b[0;32m/Users/d/Projects/em-quality-metric/Code/test_cnn_vis.pyc\u001b[0m in \u001b[0;36mrun\u001b[0;34m(self, num_epochs)\u001b[0m\n\u001b[1;32m    108\u001b[0m     \u001b[0mconfig\u001b[0m \u001b[0;34m=\u001b[0m \u001b[0mself\u001b[0m\u001b[0;34m.\u001b[0m\u001b[0mload_configuration\u001b[0m\u001b[0;34m(\u001b[0m\u001b[0;34m)\u001b[0m\u001b[0;34m\u001b[0m\u001b[0m\n\u001b[1;32m    109\u001b[0m     \u001b[0mself\u001b[0m\u001b[0;34m.\u001b[0m\u001b[0m_BATCH_SIZE\u001b[0m \u001b[0;34m=\u001b[0m \u001b[0mconfig\u001b[0m\u001b[0;34m[\u001b[0m\u001b[0;34m'batchsize'\u001b[0m\u001b[0;34m]\u001b[0m\u001b[0;34m\u001b[0m\u001b[0m\n\u001b[0;32m--> 110\u001b[0;31m     \u001b[0mlayers\u001b[0m \u001b[0;34m=\u001b[0m \u001b[0mself\u001b[0m\u001b[0;34m.\u001b[0m\u001b[0mload_network\u001b[0m\u001b[0;34m(\u001b[0m\u001b[0;34m)\u001b[0m\u001b[0;34m\u001b[0m\u001b[0m\n\u001b[0m\u001b[1;32m    111\u001b[0m     \u001b[0mimage_var\u001b[0m \u001b[0;34m=\u001b[0m \u001b[0mlayers\u001b[0m\u001b[0;34m[\u001b[0m\u001b[0;34m'image'\u001b[0m\u001b[0;34m]\u001b[0m\u001b[0;34m[\u001b[0m\u001b[0;34m'input_layer'\u001b[0m\u001b[0;34m]\u001b[0m\u001b[0;34m.\u001b[0m\u001b[0minput_var\u001b[0m\u001b[0;34m\u001b[0m\u001b[0m\n\u001b[1;32m    112\u001b[0m     \u001b[0mprob_var\u001b[0m \u001b[0;34m=\u001b[0m \u001b[0mlayers\u001b[0m\u001b[0;34m[\u001b[0m\u001b[0;34m'prob'\u001b[0m\u001b[0;34m]\u001b[0m\u001b[0;34m[\u001b[0m\u001b[0;34m'input_layer'\u001b[0m\u001b[0;34m]\u001b[0m\u001b[0;34m.\u001b[0m\u001b[0minput_var\u001b[0m\u001b[0;34m\u001b[0m\u001b[0m\n",
        "\u001b[0;32m/Users/d/Projects/em-quality-metric/Code/test_cnn_vis.pyc\u001b[0m in \u001b[0;36mload_network\u001b[0;34m(self)\u001b[0m\n\u001b[1;32m     63\u001b[0m     \u001b[0;32mprint\u001b[0m \u001b[0;34m'Loading'\u001b[0m\u001b[0;34m,\u001b[0m \u001b[0mnetwork_file\u001b[0m\u001b[0;34m\u001b[0m\u001b[0m\n\u001b[1;32m     64\u001b[0m     \u001b[0;32mwith\u001b[0m \u001b[0mopen\u001b[0m\u001b[0;34m(\u001b[0m\u001b[0mnetwork_file\u001b[0m\u001b[0;34m[\u001b[0m\u001b[0;36m0\u001b[0m\u001b[0;34m]\u001b[0m\u001b[0;34m,\u001b[0m \u001b[0;34m'rb'\u001b[0m\u001b[0;34m)\u001b[0m \u001b[0;32mas\u001b[0m \u001b[0mf\u001b[0m\u001b[0;34m:\u001b[0m\u001b[0;34m\u001b[0m\u001b[0m\n\u001b[0;32m---> 65\u001b[0;31m         \u001b[0mn\u001b[0m \u001b[0;34m=\u001b[0m \u001b[0mpickle\u001b[0m\u001b[0;34m.\u001b[0m\u001b[0mload\u001b[0m\u001b[0;34m(\u001b[0m\u001b[0mf\u001b[0m\u001b[0;34m)\u001b[0m\u001b[0;34m\u001b[0m\u001b[0m\n\u001b[0m\u001b[1;32m     66\u001b[0m \u001b[0;34m\u001b[0m\u001b[0m\n\u001b[1;32m     67\u001b[0m     \u001b[0;31m# print n\u001b[0m\u001b[0;34m\u001b[0m\u001b[0;34m\u001b[0m\u001b[0m\n",
        "\u001b[0;32m/System/Library/Frameworks/Python.framework/Versions/2.7/lib/python2.7/pickle.pyc\u001b[0m in \u001b[0;36mload\u001b[0;34m(file)\u001b[0m\n\u001b[1;32m   1376\u001b[0m \u001b[0;34m\u001b[0m\u001b[0m\n\u001b[1;32m   1377\u001b[0m \u001b[0;32mdef\u001b[0m \u001b[0mload\u001b[0m\u001b[0;34m(\u001b[0m\u001b[0mfile\u001b[0m\u001b[0;34m)\u001b[0m\u001b[0;34m:\u001b[0m\u001b[0;34m\u001b[0m\u001b[0m\n\u001b[0;32m-> 1378\u001b[0;31m     \u001b[0;32mreturn\u001b[0m \u001b[0mUnpickler\u001b[0m\u001b[0;34m(\u001b[0m\u001b[0mfile\u001b[0m\u001b[0;34m)\u001b[0m\u001b[0;34m.\u001b[0m\u001b[0mload\u001b[0m\u001b[0;34m(\u001b[0m\u001b[0;34m)\u001b[0m\u001b[0;34m\u001b[0m\u001b[0m\n\u001b[0m\u001b[1;32m   1379\u001b[0m \u001b[0;34m\u001b[0m\u001b[0m\n\u001b[1;32m   1380\u001b[0m \u001b[0;32mdef\u001b[0m \u001b[0mloads\u001b[0m\u001b[0;34m(\u001b[0m\u001b[0mstr\u001b[0m\u001b[0;34m)\u001b[0m\u001b[0;34m:\u001b[0m\u001b[0;34m\u001b[0m\u001b[0m\n",
        "\u001b[0;32m/System/Library/Frameworks/Python.framework/Versions/2.7/lib/python2.7/pickle.pyc\u001b[0m in \u001b[0;36mload\u001b[0;34m(self)\u001b[0m\n\u001b[1;32m    856\u001b[0m             \u001b[0;32mwhile\u001b[0m \u001b[0;36m1\u001b[0m\u001b[0;34m:\u001b[0m\u001b[0;34m\u001b[0m\u001b[0m\n\u001b[1;32m    857\u001b[0m                 \u001b[0mkey\u001b[0m \u001b[0;34m=\u001b[0m \u001b[0mread\u001b[0m\u001b[0;34m(\u001b[0m\u001b[0;36m1\u001b[0m\u001b[0;34m)\u001b[0m\u001b[0;34m\u001b[0m\u001b[0m\n\u001b[0;32m--> 858\u001b[0;31m                 \u001b[0mdispatch\u001b[0m\u001b[0;34m[\u001b[0m\u001b[0mkey\u001b[0m\u001b[0;34m]\u001b[0m\u001b[0;34m(\u001b[0m\u001b[0mself\u001b[0m\u001b[0;34m)\u001b[0m\u001b[0;34m\u001b[0m\u001b[0m\n\u001b[0m\u001b[1;32m    859\u001b[0m         \u001b[0;32mexcept\u001b[0m \u001b[0m_Stop\u001b[0m\u001b[0;34m,\u001b[0m \u001b[0mstopinst\u001b[0m\u001b[0;34m:\u001b[0m\u001b[0;34m\u001b[0m\u001b[0m\n\u001b[1;32m    860\u001b[0m             \u001b[0;32mreturn\u001b[0m \u001b[0mstopinst\u001b[0m\u001b[0;34m.\u001b[0m\u001b[0mvalue\u001b[0m\u001b[0;34m\u001b[0m\u001b[0m\n",
        "\u001b[0;32m/System/Library/Frameworks/Python.framework/Versions/2.7/lib/python2.7/pickle.pyc\u001b[0m in \u001b[0;36mload_reduce\u001b[0;34m(self)\u001b[0m\n\u001b[1;32m   1131\u001b[0m         \u001b[0margs\u001b[0m \u001b[0;34m=\u001b[0m \u001b[0mstack\u001b[0m\u001b[0;34m.\u001b[0m\u001b[0mpop\u001b[0m\u001b[0;34m(\u001b[0m\u001b[0;34m)\u001b[0m\u001b[0;34m\u001b[0m\u001b[0m\n\u001b[1;32m   1132\u001b[0m         \u001b[0mfunc\u001b[0m \u001b[0;34m=\u001b[0m \u001b[0mstack\u001b[0m\u001b[0;34m[\u001b[0m\u001b[0;34m-\u001b[0m\u001b[0;36m1\u001b[0m\u001b[0;34m]\u001b[0m\u001b[0;34m\u001b[0m\u001b[0m\n\u001b[0;32m-> 1133\u001b[0;31m         \u001b[0mvalue\u001b[0m \u001b[0;34m=\u001b[0m \u001b[0mfunc\u001b[0m\u001b[0;34m(\u001b[0m\u001b[0;34m*\u001b[0m\u001b[0margs\u001b[0m\u001b[0;34m)\u001b[0m\u001b[0;34m\u001b[0m\u001b[0m\n\u001b[0m\u001b[1;32m   1134\u001b[0m         \u001b[0mstack\u001b[0m\u001b[0;34m[\u001b[0m\u001b[0;34m-\u001b[0m\u001b[0;36m1\u001b[0m\u001b[0;34m]\u001b[0m \u001b[0;34m=\u001b[0m \u001b[0mvalue\u001b[0m\u001b[0;34m\u001b[0m\u001b[0m\n\u001b[1;32m   1135\u001b[0m     \u001b[0mdispatch\u001b[0m\u001b[0;34m[\u001b[0m\u001b[0mREDUCE\u001b[0m\u001b[0;34m]\u001b[0m \u001b[0;34m=\u001b[0m \u001b[0mload_reduce\u001b[0m\u001b[0;34m\u001b[0m\u001b[0m\n",
        "\u001b[0;32m/Users/d/Library/Python/2.7/lib/python/site-packages/theano/sandbox/cuda/type.pyc\u001b[0m in \u001b[0;36mCudaNdarray_unpickler\u001b[0;34m(npa)\u001b[0m\n\u001b[1;32m    589\u001b[0m         \u001b[0;32mreturn\u001b[0m \u001b[0mcuda\u001b[0m\u001b[0;34m.\u001b[0m\u001b[0mCudaNdarray\u001b[0m\u001b[0;34m(\u001b[0m\u001b[0mnpa\u001b[0m\u001b[0;34m)\u001b[0m\u001b[0;34m\u001b[0m\u001b[0m\n\u001b[1;32m    590\u001b[0m     \u001b[0;32melse\u001b[0m\u001b[0;34m:\u001b[0m\u001b[0;34m\u001b[0m\u001b[0m\n\u001b[0;32m--> 591\u001b[0;31m         \u001b[0;32mraise\u001b[0m \u001b[0mImportError\u001b[0m\u001b[0;34m(\u001b[0m\u001b[0;34m\"Cuda not found. Cannot unpickle CudaNdarray\"\u001b[0m\u001b[0;34m)\u001b[0m\u001b[0;34m\u001b[0m\u001b[0m\n\u001b[0m\u001b[1;32m    592\u001b[0m \u001b[0;34m\u001b[0m\u001b[0m\n\u001b[1;32m    593\u001b[0m \u001b[0mcopyreg\u001b[0m\u001b[0;34m.\u001b[0m\u001b[0mconstructor\u001b[0m\u001b[0;34m(\u001b[0m\u001b[0mCudaNdarray_unpickler\u001b[0m\u001b[0;34m)\u001b[0m\u001b[0;34m\u001b[0m\u001b[0m\n",
        "\u001b[0;31mImportError\u001b[0m: Cuda not found. Cannot unpickle CudaNdarray"
       ]
      }
     ],
     "prompt_number": 11
    },
    {
     "cell_type": "code",
     "collapsed": false,
     "input": [
      "print 'creating matrix'\n",
      "m_new = create_matrix(val_fn, seg, p)\n",
      "out = seg\n",
      "sureness = 0.\n",
      "surenesses = []\n",
      "vi_s = []\n",
      "_images = []\n",
      "\n",
      "\n",
      "while m_new.max() >= sureness:\n",
      "    print 'Merging for sureness s=', m_new.max()\n",
      "    surenesses.append(m_new.max())\n",
      "    \n",
      "    m_new, out = merge(image, out, prob, m_new)\n",
      "    \n",
      "    \n",
      "    \n",
      "    vi = partition_comparison.variation_of_information(out.ravel(), gold_normalized.ravel())\n",
      "    vi_s.append(vi)\n",
      "    \n",
      "    _images.append(np.array(out))\n",
      "    \n",
      "    print 'New VI', vi\n",
      "    print 'New M Max', m_new.max()\n",
      "    print '-'*80\n",
      "    \n",
      "before_VI = partition_comparison.variation_of_information(gold_normalized.ravel(), seg.ravel())"
     ],
     "language": "python",
     "metadata": {},
     "outputs": [
      {
       "output_type": "stream",
       "stream": "stdout",
       "text": [
        "creating matrix\n",
        "merged"
       ]
      },
      {
       "output_type": "stream",
       "stream": "stdout",
       "text": [
        " 36 patches into 18\n",
        "Merging for sureness s= 0.999848276377\n",
        "(array([ 3, 10]), array([10,  3]))\n",
        "merging 3 10\n",
        "problem 1 2\n",
        "problem 1 10\n",
        "problem 2 1\n",
        "problem 2 10\n",
        "problem 4 5\n",
        "problem 4 6\n",
        "problem 4 10\n",
        "problem 6 4\n",
        "problem 6 5\n",
        "problem 6 7\n",
        "problem 6 8\n",
        "problem 6 10\n",
        "problem 7 6\n",
        "problem 7 10\n",
        "problem 8 5\n",
        "problem 8 6\n",
        "problem"
       ]
      },
      {
       "output_type": "stream",
       "stream": "stdout",
       "text": [
        " 8 9\n",
        "problem 8 12\n",
        "problem 10 1\n",
        "problem 10 2\n",
        "problem 10 4\n",
        "problem 10 6\n",
        "problem 10 7\n",
        "problem"
       ]
      },
      {
       "output_type": "stream",
       "stream": "stdout",
       "text": [
        " 10 17\n",
        "problem 10 19\n",
        "problem"
       ]
      },
      {
       "output_type": "stream",
       "stream": "stdout",
       "text": [
        " 16 18\n",
        "problem 17 10\n",
        "problem 17 18\n",
        "problem 17 19\n",
        "problem 19 10\n",
        "problem 19 15\n",
        "problem 19 17\n",
        "problem 19 18\n",
        "recomputed 23 patches\n",
        "7 8 0.0\n",
        "8 7 0.0\n",
        "8 10 0.0\n",
        "8 11 0.0\n",
        "8 13 "
       ]
      },
      {
       "output_type": "stream",
       "stream": "stdout",
       "text": [
        "0.0\n",
        "10 8 0.0\n",
        "10 13 0.0\n",
        "10 14 0.0\n",
        "10 16 0.0\n",
        "13 8 0.1\n",
        "13 10 0.0\n",
        "13 11 0.0\n",
        "13 14 0.75\n",
        "13 15 "
       ]
      },
      {
       "output_type": "stream",
       "stream": "stdout",
       "text": [
        "0.0\n",
        "14 10 0.39\n",
        "14 13 1.0\n",
        "14 15 0.0\n",
        "14 16 0.81\n",
        "16 10 0.0\n",
        "16 14 0.99\n",
        "16 15 0.66\n",
        "16 17 "
       ]
      },
      {
       "output_type": "stream",
       "stream": "stdout",
       "text": [
        "0.01\n",
        "17 16 0.01\n",
        "bef fill 0.999008715153 0.999008715153\n",
        "merged"
       ]
      },
      {
       "output_type": "stream",
       "stream": "stdout",
       "text": [
        " 23 patches into 14\n",
        "aft fill 8.68946292698e-09 8.68946292698e-09\n",
        "New VI 0.797839648332\n",
        "New M Max 0.901962429285\n",
        "--------------------------------------------------------------------------------\n",
        "Merging for sureness s= 0.901962429285\n",
        "(array([14, 16]), array([16, 14]))\n",
        "merging 14 16\n",
        "problem 10 1\n",
        "problem 10 2\n",
        "problem 10 4\n",
        "problem 10 6\n",
        "problem 10 7\n",
        "problem"
       ]
      },
      {
       "output_type": "stream",
       "stream": "stdout",
       "text": [
        " 10 17\n",
        "problem 10 19\n",
        "problem"
       ]
      },
      {
       "output_type": "stream",
       "stream": "stdout",
       "text": [
        " 15 9\n",
        "problem 15 12\n",
        "problem 15 18\n",
        "problem 15 19\n",
        "problem 15 20\n",
        "problem"
       ]
      },
      {
       "output_type": "stream",
       "stream": "stdout",
       "text": [
        " 16 18\n",
        "recomputed 15 patches\n",
        "10 8 0.0\n",
        "10 13 0.0\n",
        "10 16 0.0\n",
        "13 8 0.1\n",
        "13 10 0.0\n",
        "13 11 0.0\n",
        "13 15 0.0\n",
        "13 16 "
       ]
      },
      {
       "output_type": "stream",
       "stream": "stdout",
       "text": [
        "0.75\n",
        "15 11 0.0\n",
        "15 13 0.0\n",
        "15 16 0.0\n",
        "16 10 0.01\n",
        "16 13 1.0\n",
        "16 15 0.0\n",
        "16 17 0.0\n",
        "bef fill 8.68946292698e-09 8.68946292698e-09\n",
        "merged"
       ]
      },
      {
       "output_type": "stream",
       "stream": "stdout",
       "text": [
        " 15 patches into 10\n",
        "aft fill 1.0041988574e-08 1.0041988574e-08\n",
        "New VI 0.788226724283\n",
        "New M Max 0.876506894827\n",
        "--------------------------------------------------------------------------------\n",
        "Merging for sureness s= 0.876506894827\n",
        "(array([13, 16]), array([16, 13]))\n",
        "merging 13 16\n",
        "problem 8 5\n",
        "problem 8 6\n",
        "problem 8 9\n",
        "problem 8 12\n",
        "problem"
       ]
      },
      {
       "output_type": "stream",
       "stream": "stdout",
       "text": [
        " 10 1\n",
        "problem 10 2\n",
        "problem 10 4\n",
        "problem 10 6\n",
        "problem 10 7\n",
        "problem 10 17\n",
        "problem 10 19\n",
        "problem"
       ]
      },
      {
       "output_type": "stream",
       "stream": "stdout",
       "text": [
        " 11 12\n",
        "problem 15 9\n",
        "problem 15 12\n",
        "problem"
       ]
      },
      {
       "output_type": "stream",
       "stream": "stdout",
       "text": [
        " 15 18\n",
        "problem 15 19\n",
        "problem 15 20\n",
        "problem"
       ]
      },
      {
       "output_type": "stream",
       "stream": "stdout",
       "text": [
        " 16 18\n",
        "recomputed 16 patches\n",
        "8 7 0.0\n",
        "8 10 0.0\n",
        "8 11 0.0\n",
        "8 16 0.0\n",
        "10 8 0.0\n",
        "10 16 0.0\n",
        "11 8 0.0\n",
        "11 15 "
       ]
      },
      {
       "output_type": "stream",
       "stream": "stdout",
       "text": [
        "0.0\n",
        "11 16 0.0\n",
        "15 11 0.0\n",
        "15 16 0.98\n",
        "16 8 0.09\n",
        "16 10 0.0\n",
        "16 11 0.0\n",
        "16 15 0.94\n",
        "16 17 0.0\n",
        "bef fill 1.0041988574e-08 1.0041988574e-08\n",
        "merged"
       ]
      },
      {
       "output_type": "stream",
       "stream": "stdout",
       "text": [
        " 16 patches into 9\n",
        "aft fill 8.68946292698e-09 8.68946292698e-09\n",
        "New VI 0.76560945863\n",
        "New M Max 0.963925123215\n",
        "--------------------------------------------------------------------------------\n",
        "Merging for sureness s= 0.963925123215\n",
        "(array([15, 16]), array([16, 15]))\n",
        "merging 15 16\n",
        "problem 9 8\n",
        "problem 9 12\n",
        "problem 9 16\n",
        "problem 9 20\n",
        "problem 11 12\n",
        "problem 12 8\n",
        "problem 12 9\n",
        "problem 12 11\n",
        "problem 12 16\n",
        "problem"
       ]
      },
      {
       "output_type": "stream",
       "stream": "stdout",
       "text": [
        " 16 9\n",
        "problem 16 12\n",
        "problem 16 18\n",
        "problem 16 19\n",
        "problem 16 20\n",
        "problem"
       ]
      },
      {
       "output_type": "stream",
       "stream": "stdout",
       "text": [
        " 18 16\n",
        "problem 18 17\n",
        "problem 18 19\n",
        "problem 19 10\n",
        "problem 19 16\n",
        "problem 19 17\n",
        "problem 19 18\n",
        "problem 20 9\n",
        "problem 20 16\n",
        "recomputed 6 patches\n",
        "11 8 0.0\n",
        "11 16 0.0\n",
        "16 8 0.01\n",
        "16 10 0.0\n",
        "16 11 0.0\n",
        "16 17 "
       ]
      },
      {
       "output_type": "stream",
       "stream": "stdout",
       "text": [
        "0.0\n",
        "bef fill 8.68946292698e-09 8.68946292698e-09\n",
        "merged 6 patches into 5\n",
        "aft fill 8.68946292698e-09 8.68946292698e-09\n",
        "New VI 0.837435326171\n",
        "New M Max 0.00634457124397\n",
        "--------------------------------------------------------------------------------\n",
        "Merging for sureness s= 0.00634457124397\n",
        "(array([ 8, 16]), array([16,  8]))\n",
        "merging 8 16\n",
        "problem 5 4\n",
        "problem 5 6\n",
        "problem 5 16\n",
        "problem"
       ]
      },
      {
       "output_type": "stream",
       "stream": "stdout",
       "text": [
        " 6 4\n",
        "problem 6 5\n",
        "problem 6 7\n",
        "problem 6 10\n",
        "problem 6 16\n",
        "problem 7 6\n",
        "problem 7 10\n",
        "problem 9 12\n",
        "problem 9 16\n",
        "problem 9 20\n",
        "problem 10 1\n",
        "problem 10 2\n",
        "problem 10 4\n",
        "problem 10 6\n",
        "problem 10 7\n",
        "problem"
       ]
      },
      {
       "output_type": "stream",
       "stream": "stdout",
       "text": [
        " 10 17\n",
        "problem 10 19\n",
        "problem 11 12\n",
        "problem 12 9\n",
        "problem 12 11\n",
        "problem 12 16\n",
        "problem 16 5\n",
        "problem 16 6\n",
        "problem 16 9\n",
        "problem"
       ]
      },
      {
       "output_type": "stream",
       "stream": "stdout",
       "text": [
        " 16 12\n",
        "problem 16 18\n",
        "problem 16 19\n",
        "problem 16 20\n",
        "recomputed 7 patches\n",
        "7 16 0.0\n",
        "10 16 0.0\n",
        "11 16 0.01\n",
        "16 7 0.0\n",
        "16 10 "
       ]
      },
      {
       "output_type": "stream",
       "stream": "stdout",
       "text": [
        "0.0\n",
        "16 11 0.01\n",
        "16 17 0.0\n",
        "bef fill -2.0 -2.0\n",
        "merged"
       ]
      },
      {
       "output_type": "stream",
       "stream": "stdout",
       "text": [
        " 7 patches into 4\n",
        "aft fill -2.0 -2.0\n",
        "New VI 0.873321775009\n",
        "New M Max 0.00934836571105\n",
        "--------------------------------------------------------------------------------\n",
        "Merging for sureness s= 0.00934836571105\n",
        "(array([11, 16]), array([16, 11]))\n",
        "merging 11 16\n",
        "problem 12 9\n",
        "problem 12 16\n",
        "problem 16 5\n",
        "problem 16 6\n",
        "problem 16 9\n",
        "problem"
       ]
      },
      {
       "output_type": "stream",
       "stream": "stdout",
       "text": [
        " 16 12\n",
        "problem 16 18\n",
        "problem 16 19\n",
        "problem 16 20\n",
        "recomputed 3 patches\n",
        "16 7 0.0\n",
        "16 10 0.0\n",
        "16 17 0.0\n",
        "bef fill -2.0 -2.0\n",
        "merged"
       ]
      },
      {
       "output_type": "stream",
       "stream": "stdout",
       "text": [
        " 3 patches into 3\n",
        "aft fill -2.0 -2.0\n",
        "New VI 0.903306906785\n",
        "New M Max 0.00265022367239\n",
        "--------------------------------------------------------------------------------\n",
        "Merging for sureness s= 0.00265022367239\n",
        "(array([10, 16]), array([16, 10]))\n",
        "merging 10 16\n",
        "problem 1 2\n",
        "problem 1 16\n",
        "problem 2 1\n",
        "problem 2 16\n",
        "problem 4 5\n",
        "problem 4 6\n",
        "problem 4 16\n",
        "problem 6 4\n",
        "problem 6 5\n",
        "problem 6 7\n",
        "problem 6 16\n",
        "problem 7 6\n",
        "problem 7 16\n",
        "problem 16 1\n",
        "problem 16 2\n",
        "problem 16 4\n",
        "problem 16 5\n",
        "problem 16 6\n",
        "problem 16 7\n",
        "problem 16 9\n",
        "problem"
       ]
      },
      {
       "output_type": "stream",
       "stream": "stdout",
       "text": [
        " 16 12\n",
        "problem 16 17\n",
        "problem 16 18\n",
        "problem 16 19\n",
        "problem 16 20\n",
        "problem 17 16\n",
        "problem 17 18\n",
        "problem 17 19\n",
        "problem 19 16\n",
        "problem 19 17\n",
        "problem 19 18\n",
        "recomputed 0 patches\n",
        "bef fill -2.0 -2.0\n",
        "merged 0 patches into 0\n",
        "aft fill -2.0 -2.0\n",
        "New VI 1.37173759903\n",
        "New M Max 6.62145539536e-05\n",
        "--------------------------------------------------------------------------------\n",
        "Merging for sureness s= 6.62145539536e-05\n",
        "(array([16, 17]), array([17, 16]))\n",
        "merging 16 17\n",
        "problem 1 2\n",
        "problem 1 17\n",
        "problem 2 1\n",
        "problem 2 17\n",
        "problem 4 5\n",
        "problem 4 6\n",
        "problem 4 17\n",
        "problem 5 4\n",
        "problem 5 6\n",
        "problem 5 17\n",
        "problem"
       ]
      },
      {
       "output_type": "stream",
       "stream": "stdout",
       "text": [
        " 6 4\n",
        "problem 6 5\n",
        "problem 6 7\n",
        "problem 6 17\n",
        "problem 7 6\n",
        "problem 7 17\n",
        "problem 9 12\n",
        "problem 9 17\n",
        "problem 9 20\n",
        "problem 12 9\n",
        "problem 12 17\n",
        "problem 17 1\n",
        "problem 17 2\n",
        "problem 17 4\n",
        "problem 17 5\n",
        "problem 17 6\n",
        "problem 17 7\n",
        "problem 17 9\n",
        "problem 17 12\n",
        "problem 17 18\n",
        "problem 17 19\n",
        "problem 17 20\n",
        "problem 18 17\n",
        "problem"
       ]
      },
      {
       "output_type": "stream",
       "stream": "stdout",
       "text": [
        " 18 19\n",
        "problem 19 17\n",
        "problem 19 18\n",
        "problem 20 9\n",
        "problem 20 17\n",
        "recomputed 0 patches\n",
        "bef fill -2.0 -2.0\n",
        "merged 0 patches into 0\n",
        "aft fill -2.0 -2.0\n",
        "New VI 1.34195523938\n",
        "New M Max -1.0\n",
        "--------------------------------------------------------------------------------\n"
       ]
      }
     ],
     "prompt_number": 218
    },
    {
     "cell_type": "code",
     "collapsed": false,
     "input": [
      "index = vi_s.index(min(vi_s))\n",
      "print 'Before VI', before_VI\n",
      "print 'Lowest VI', vi_s[index]\n",
      "print 'Iterations', index\n",
      "print 'Sureness', surenesses[index]"
     ],
     "language": "python",
     "metadata": {},
     "outputs": [
      {
       "output_type": "stream",
       "stream": "stdout",
       "text": [
        "Before VI 0.799706644005\n",
        "Lowest VI 0.76560945863\n",
        "Iterations 2\n",
        "Sureness 0.876506894827\n"
       ]
      }
     ],
     "prompt_number": 229
    },
    {
     "cell_type": "code",
     "collapsed": false,
     "input": [
      "imshow(_images[-1])"
     ],
     "language": "python",
     "metadata": {},
     "outputs": [
      {
       "metadata": {},
       "output_type": "pyout",
       "prompt_number": 220,
       "text": [
        "<matplotlib.image.AxesImage at 0x1172d0510>"
       ]
      },
      {
       "metadata": {},
       "output_type": "display_data",
       "png": "[encoded data removed]",
       "text": [
        "<matplotlib.figure.Figure at 0x1170d5490>"
       ]
      }
     ],
     "prompt_number": 220
    },
    {
     "cell_type": "code",
     "collapsed": false,
     "input": [
      "imshow(_images[2])"
     ],
     "language": "python",
     "metadata": {},
     "outputs": [
      {
       "metadata": {},
       "output_type": "pyout",
       "prompt_number": 235,
       "text": [
        "<matplotlib.image.AxesImage at 0x117eadb90>"
       ]
      },
      {
       "metadata": {},
       "output_type": "display_data",
       "png": "[encoded data removed]",
       "text": [
        "<matplotlib.figure.Figure at 0x117cd4a10>"
       ]
      }
     ],
     "prompt_number": 235
    },
    {
     "cell_type": "code",
     "collapsed": false,
     "input": [
      "imshow(colored_rhoana_normalized)"
     ],
     "language": "python",
     "metadata": {},
     "outputs": [
      {
       "metadata": {},
       "output_type": "pyout",
       "prompt_number": 222,
       "text": [
        "<matplotlib.image.AxesImage at 0x117462ed0>"
       ]
      },
      {
       "metadata": {},
       "output_type": "display_data",
       "png": "[encoded data removed]",
       "text": [
        "<matplotlib.figure.Figure at 0x1172e6fd0>"
       ]
      }
     ],
     "prompt_number": 222
    },
    {
     "cell_type": "code",
     "collapsed": false,
     "input": [
      "imshow(colored_gold_normalized)"
     ],
     "language": "python",
     "metadata": {},
     "outputs": [
      {
       "metadata": {},
       "output_type": "pyout",
       "prompt_number": 221,
       "text": [
        "<matplotlib.image.AxesImage at 0x11742b210>"
       ]
      },
      {
       "metadata": {},
       "output_type": "display_data",
       "png": "[encoded data removed]",
       "text": [
        "<matplotlib.figure.Figure at 0x113842ed0>"
       ]
      }
     ],
     "prompt_number": 221
    },
    {
     "cell_type": "code",
     "collapsed": false,
     "input": [
      "import matplotlib.pyplot as plt\n",
      "# create plot\n",
      "new_rhoana = propagate_max_overlap(seg, gold_normalized)\n",
      "target_vi = partition_comparison.variation_of_information(new_rhoana.ravel(), gold_normalized.ravel())\n",
      "\n",
      "bins = np.arange(0, len(vi_s))#np.arange(len(vi_s), 0, -1)\n",
      "# bins /= 100\n",
      "\n",
      "vi_s_ = vi_s #[x for (y,x) in sorted(zip(surenesses, vi_s))]\n",
      "surenesses_ = bins #surenesses#[y for (y,x) in sorted(zip(surenesses, vi_s))]\n",
      "\n",
      "original_vi = [before_VI]*len(vi_s)\n",
      "target_vi = [target_vi]*len(vi_s)\n",
      "\n",
      "fig, ax = plt.subplots()\n",
      "\n",
      "ax.plot(surenesses_, target_vi, 'k--', label='Target VI')\n",
      "ax.plot(surenesses_, vi_s_, 'k', label='Variation of Information')\n",
      "ax.plot(surenesses_, original_vi, 'k:', label='Rhoana VI before')\n",
      "# ax.set_yscale('log')\n",
      "\n",
      "# Now add the legend with some customizations.\n",
      "legend = ax.legend(loc='upper center', shadow=True)\n",
      "ax.set_ylim([0.6,1.5])\n",
      "\n",
      "# The frame is matplotlib.patches.Rectangle instance surrounding the legend.\n",
      "frame = legend.get_frame()\n",
      "frame.set_facecolor('0.90')\n",
      "\n",
      "# Set the fontsize\n",
      "for label in legend.get_texts():\n",
      "    label.set_fontsize('large')\n",
      "\n",
      "for label in legend.get_lines():\n",
      "    label.set_linewidth(1.5)  # the legend line width\n"
     ],
     "language": "python",
     "metadata": {},
     "outputs": [
      {
       "metadata": {},
       "output_type": "display_data",
       "png": "[encoded data removed]",
       "text": [
        "<matplotlib.figure.Figure at 0x1b5e35650>"
       ]
      }
     ],
     "prompt_number": 475
    },
    {
     "cell_type": "code",
     "collapsed": false,
     "input": [],
     "language": "python",
     "metadata": {},
     "outputs": []
    }
   ],
   "metadata": {}
  }
 ]
}