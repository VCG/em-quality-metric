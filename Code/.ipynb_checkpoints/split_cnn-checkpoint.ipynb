{
 "metadata": {
  "name": "",
  "signature": "sha256:d74f33777f86dae0702dfe8bfbe04c38e87bc511bd0cdbeae76243bdfbd6ff19"
 },
 "nbformat": 3,
 "nbformat_minor": 0,
 "worksheets": [
  {
   "cells": [
    {
     "cell_type": "code",
     "collapsed": false,
     "input": [
      "%load_ext autoreload\n",
      "%autoreload 2\n",
      "\n",
      "import numpy as np\n",
      "\n",
      "from split_cnn import SplitCNN\n",
      "\n",
      "from matplotlib.pyplot import imshow\n",
      "%matplotlib inline"
     ],
     "language": "python",
     "metadata": {},
     "outputs": [
      {
       "output_type": "stream",
       "stream": "stderr",
       "text": [
        "Using gpu device 0: GeForce GTX TITAN (CNMeM is disabled)\n"
       ]
      }
     ],
     "prompt_number": 1
    },
    {
     "cell_type": "code",
     "collapsed": false,
     "input": [
      "s = SplitCNN()"
     ],
     "language": "python",
     "metadata": {},
     "outputs": [],
     "prompt_number": 2
    },
    {
     "cell_type": "code",
     "collapsed": false,
     "input": [
      "layers = s.run()"
     ],
     "language": "python",
     "metadata": {},
     "outputs": [
      {
       "output_type": "stream",
       "stream": "stdout",
       "text": [
        "Loading data...\n",
        "Starting training..."
       ]
      },
      {
       "output_type": "stream",
       "stream": "stdout",
       "text": [
        "\n",
        "Epoch 1 of 5 took 21.020s"
       ]
      },
      {
       "output_type": "stream",
       "stream": "stdout",
       "text": [
        "\n",
        "  training loss:\t\t1.408214\n",
        "  validation loss:\t\t0.315605\n",
        "  validation accuracy:\t\t91.43 %\n",
        "Epoch 2 of 5 took 20.479s"
       ]
      },
      {
       "output_type": "stream",
       "stream": "stdout",
       "text": [
        "\n",
        "  training loss:\t\t0.424700\n",
        "  validation loss:\t\t0.168228\n",
        "  validation accuracy:\t\t95.17 %\n",
        "Epoch 3 of 5 took 20.623s"
       ]
      },
      {
       "output_type": "stream",
       "stream": "stdout",
       "text": [
        "\n",
        "  training loss:\t\t0.290014\n",
        "  validation loss:\t\t0.128543\n",
        "  validation accuracy:\t\t96.33 %\n",
        "Epoch 4 of 5 took 20.706s"
       ]
      },
      {
       "output_type": "stream",
       "stream": "stdout",
       "text": [
        "\n",
        "  training loss:\t\t0.233751\n",
        "  validation loss:\t\t0.106384\n",
        "  validation accuracy:\t\t96.92 %\n",
        "Epoch 5 of 5 took 20.666s"
       ]
      },
      {
       "output_type": "stream",
       "stream": "stdout",
       "text": [
        "\n",
        "  training loss:\t\t0.204687\n",
        "  validation loss:\t\t0.090584\n",
        "  validation accuracy:\t\t97.54 %\n",
        "Final results:"
       ]
      },
      {
       "output_type": "stream",
       "stream": "stdout",
       "text": [
        "\n",
        "  test loss:\t\t\t0.089013\n",
        "  test accuracy:\t\t97.17 %\n"
       ]
      }
     ],
     "prompt_number": 6
    },
    {
     "cell_type": "code",
     "collapsed": false,
     "input": [
      "layers"
     ],
     "language": "python",
     "metadata": {},
     "outputs": [
      {
       "metadata": {},
       "output_type": "pyout",
       "prompt_number": 7,
       "text": [
        "{'binary1': {'c2d_layer': <lasagne.layers.conv.Conv2DLayer at 0x118cdd790>,\n",
        "  'c2d_layer2': <lasagne.layers.conv.Conv2DLayer at 0x118ce4110>,\n",
        "  'input_layer': <lasagne.layers.input.InputLayer at 0x118cdda90>,\n",
        "  'max_pool_layer': <lasagne.layers.pool.MaxPool2DLayer at 0x118cddd90>,\n",
        "  'max_pool_layer2': <lasagne.layers.pool.MaxPool2DLayer at 0x118cef210>,\n",
        "  'network': <lasagne.layers.pool.MaxPool2DLayer at 0x118cef210>},\n",
        " 'dense': {'dense_layer1': <lasagne.layers.dense.DenseLayer at 0x118cfae50>,\n",
        "  'dense_layer2': <lasagne.layers.dense.DenseLayer at 0x118aedbd0>,\n",
        "  'network': <lasagne.layers.dense.DenseLayer at 0x118aedbd0>},\n",
        " 'image': {'c2d_layer': <lasagne.layers.conv.Conv2DLayer at 0x118c6ac90>,\n",
        "  'c2d_layer2': <lasagne.layers.conv.Conv2DLayer at 0x10b372690>,\n",
        "  'input_layer': <lasagne.layers.input.InputLayer at 0x118c92c50>,\n",
        "  'max_pool_layer': <lasagne.layers.pool.MaxPool2DLayer at 0x118c90810>,\n",
        "  'max_pool_layer2': <lasagne.layers.pool.MaxPool2DLayer at 0x118cd0ad0>,\n",
        "  'network': <lasagne.layers.pool.MaxPool2DLayer at 0x118cd0ad0>},\n",
        " 'merged': {'network': <lasagne.layers.merge.ConcatLayer at 0x118cfa6d0>}}"
       ]
      }
     ],
     "prompt_number": 7
    },
    {
     "cell_type": "code",
     "collapsed": false,
     "input": [],
     "language": "python",
     "metadata": {},
     "outputs": []
    }
   ],
   "metadata": {}
  }
 ]
}