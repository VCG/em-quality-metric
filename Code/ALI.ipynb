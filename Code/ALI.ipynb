{
 "metadata": {
  "name": "",
  "signature": "sha256:fb11618b314bf2d04ea75a8a747eb567f761a6db1f5217e722294e47abdd0335"
 },
 "nbformat": 3,
 "nbformat_minor": 0,
 "worksheets": [
  {
   "cells": [
    {
     "cell_type": "code",
     "collapsed": false,
     "input": [
      "import numpy as np\n",
      "import mahotas as mh\n",
      "from matplotlib.pyplot import imshow\n",
      "%matplotlib inline"
     ],
     "language": "python",
     "metadata": {},
     "outputs": [],
     "prompt_number": 9
    },
    {
     "cell_type": "code",
     "collapsed": false,
     "input": [
      "output = np.zeros((2048,2048,3),dtype=np.uint8)\n",
      "output[:,:] = (0,0,200)"
     ],
     "language": "python",
     "metadata": {},
     "outputs": [],
     "prompt_number": 92
    },
    {
     "cell_type": "code",
     "collapsed": false,
     "input": [
      "output[0:512,0:512] = (0,0,255)\n",
      "output[0:512,1024:1024+512] = (0,0,255)\n",
      "output[512:1024, 512:1024] = (0,0,255)\n",
      "output[512:1024, 1536:1536+512] = (0,0,255)\n",
      "output[1024:1024+512,0:512] = (0,0,255)\n",
      "output[1024:1024+512,1024:1024+512] = (0,0,255)\n",
      "output[1536:1536+512, 512:1024] = (0,0,255)\n",
      "output[1536:1536+512, 1536:1536+512] = (0,0,255)"
     ],
     "language": "python",
     "metadata": {},
     "outputs": [],
     "prompt_number": 93
    },
    {
     "cell_type": "code",
     "collapsed": false,
     "input": [
      "output[0:2047,    504:520] = (0,0,0)\n",
      "output[0:2047,    1016:1032] = (0,0,0)\n",
      "output[0:2047,    1528:1544] = (0,0,0)\n",
      "output[504:520,   0:2047] = (0,0,0)\n",
      "output[1016:1032, 0:2047] = (0,0,0)\n",
      "output[1528:1544, 0:2047] = (0,0,0)"
     ],
     "language": "python",
     "metadata": {},
     "outputs": [],
     "prompt_number": 94
    },
    {
     "cell_type": "code",
     "collapsed": false,
     "input": [
      "output[1536:1536+512, 0:512] = (0,0,0)\n",
      "output[1536:1536+512, 512:1024] = (0,0,0)\n"
     ],
     "language": "python",
     "metadata": {},
     "outputs": [],
     "prompt_number": 96
    },
    {
     "cell_type": "code",
     "collapsed": false,
     "input": [
      "imshow(output)"
     ],
     "language": "python",
     "metadata": {},
     "outputs": [
      {
       "metadata": {},
       "output_type": "pyout",
       "prompt_number": 97,
       "text": [
        "<matplotlib.image.AxesImage at 0x134e14650>"
       ]
      },
      {
       "metadata": {},
       "output_type": "display_data",
       "png": "[encoded data removed]",
       "text": [
        "<matplotlib.figure.Figure at 0x132109f10>"
       ]
      }
     ],
     "prompt_number": 97
    },
    {
     "cell_type": "code",
     "collapsed": false,
     "input": [
      "mh.imsave('/tmp/dummy.tif', output)"
     ],
     "language": "python",
     "metadata": {},
     "outputs": [],
     "prompt_number": 30
    },
    {
     "cell_type": "code",
     "collapsed": false,
     "input": [],
     "language": "python",
     "metadata": {},
     "outputs": []
    }
   ],
   "metadata": {}
  }
 ]
}