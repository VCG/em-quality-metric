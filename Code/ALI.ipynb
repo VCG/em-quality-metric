{
 "metadata": {
  "name": "",
  "signature": "sha256:baf5456681f305eb5ad4b6f4c463c61a4456d30e399068ea0c91f60e411ab92f"
 },
 "nbformat": 3,
 "nbformat_minor": 0,
 "worksheets": [
  {
   "cells": [
    {
     "cell_type": "code",
     "collapsed": false,
     "input": [
      "import numpy as np\n",
      "import mahotas as mh\n",
      "from matplotlib.pyplot import imshow\n",
      "%matplotlib inline"
     ],
     "language": "python",
     "metadata": {},
     "outputs": [],
     "prompt_number": 9
    },
    {
     "cell_type": "code",
     "collapsed": false,
     "input": [
      "output = np.zeros((2048,2048,3),dtype=np.uint8)\n",
      "output[:,:] = (0,0,200)"
     ],
     "language": "python",
     "metadata": {},
     "outputs": [],
     "prompt_number": 10
    },
    {
     "cell_type": "code",
     "collapsed": false,
     "input": [
      "output[0:512,0:512] = (0,0,255)\n",
      "output[0:512,1024:1024+512] = (0,0,255)\n",
      "output[512:1024, 512:1024] = (0,0,255)\n",
      "output[512:1024, 1536:1536+512] = (0,0,255)\n",
      "output[1024:1024+512,0:512] = (0,0,255)\n",
      "output[1024:1024+512,1024:1024+512] = (0,0,255)\n",
      "output[1536:1536+512, 512:1024] = (0,0,255)\n",
      "output[1536:1536+512, 1536:1536+512] = (0,0,255)"
     ],
     "language": "python",
     "metadata": {},
     "outputs": [],
     "prompt_number": 26
    },
    {
     "cell_type": "code",
     "collapsed": false,
     "input": [
      "imshow(output)"
     ],
     "language": "python",
     "metadata": {},
     "outputs": [
      {
       "metadata": {},
       "output_type": "pyout",
       "prompt_number": 27,
       "text": [
        "<matplotlib.image.AxesImage at 0x11399a350>"
       ]
      },
      {
       "metadata": {},
       "output_type": "display_data",
       "png": "[encoded data removed]",
       "text": [
        "<matplotlib.figure.Figure at 0x1128d8090>"
       ]
      }
     ],
     "prompt_number": 27
    },
    {
     "cell_type": "code",
     "collapsed": false,
     "input": [
      "mh.imsave('/tmp/ali.tif', output)"
     ],
     "language": "python",
     "metadata": {},
     "outputs": [],
     "prompt_number": 30
    },
    {
     "cell_type": "code",
     "collapsed": false,
     "input": [],
     "language": "python",
     "metadata": {},
     "outputs": []
    }
   ],
   "metadata": {}
  }
 ]
}