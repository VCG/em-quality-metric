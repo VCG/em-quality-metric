{
 "metadata": {
  "name": "",
  "signature": "sha256:da09aaa702f66f3e78fcf189d3a0c85101c5348b489db336fd03557e4b90c42a"
 },
 "nbformat": 3,
 "nbformat_minor": 0,
 "worksheets": [
  {
   "cells": [
    {
     "cell_type": "code",
     "collapsed": false,
     "input": [
      "aaa ={\"129108\":151910,\"151905\":151910,\"151930\":151910,\"163326\":151910,\"163328\":151910}"
     ],
     "language": "python",
     "metadata": {},
     "outputs": [],
     "prompt_number": 1
    },
    {
     "cell_type": "code",
     "collapsed": false,
     "input": [
      "for a in aaa:\n",
      "    print a"
     ],
     "language": "python",
     "metadata": {},
     "outputs": [
      {
       "output_type": "stream",
       "stream": "stdout",
       "text": [
        "129108\n",
        "151905\n",
        "163326\n",
        "163328\n",
        "151930\n"
       ]
      }
     ],
     "prompt_number": 2
    },
    {
     "cell_type": "code",
     "collapsed": false,
     "input": [],
     "language": "python",
     "metadata": {},
     "outputs": []
    }
   ],
   "metadata": {}
  }
 ]
}