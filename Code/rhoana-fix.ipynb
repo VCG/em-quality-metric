{
 "metadata": {
  "name": "",
  "signature": "sha256:1b9930ab821294bb132b2b34a074a77dc929a453248bbcc83818a5c6cc8c94ee"
 },
 "nbformat": 3,
 "nbformat_minor": 0,
 "worksheets": [
  {
   "cells": [
    {
     "cell_type": "code",
     "collapsed": false,
     "input": [
      "%load_ext autoreload\n",
      "%autoreload 2\n",
      "\n",
      "from matplotlib.pyplot import imshow\n",
      "%matplotlib inline\n",
      "\n",
      "import _metrics"
     ],
     "language": "python",
     "metadata": {},
     "outputs": [
      {
       "output_type": "stream",
       "stream": "stderr",
       "text": [
        "_metrics/tifffile.py:1995: UserWarning: failed to import _tifffile.decodepackbits\n",
        "  warnings.warn(\"failed to import %s\" % module_function)\n",
        "_metrics/tifffile.py:1995: UserWarning: failed to import _tifffile.decodelzw\n",
        "  warnings.warn(\"failed to import %s\" % module_function)\n",
        "_metrics/tifffile.py:1995: UserWarning: failed to import _tifffile.unpackints\n",
        "  warnings.warn(\"failed to import %s\" % module_function)\n"
       ]
      }
     ],
     "prompt_number": 1
    },
    {
     "cell_type": "code",
     "collapsed": false,
     "input": [
      "\n",
      "import cv2\n",
      "import glob\n",
      "import numpy as np\n",
      "import mahotas as mh\n",
      "import os\n",
      "import uuid\n",
      "import tifffile as tif\n",
      "from scipy import ndimage as nd\n",
      "from scipy.misc import imrotate\n",
      "import skimage.measure\n",
      "from skimage import img_as_ubyte\n",
      "import random\n",
      "import cPickle as pickle\n",
      "import time\n",
      "import partition_comparison\n",
      "\n",
      "DATA_PATH = '/Volumes/DATA1/EMQM_DATA/ac3x75/'\n",
      "GOLD_PATH = os.path.join(DATA_PATH,'gold/')\n",
      "RHOANA_PATH = os.path.join(DATA_PATH,'rhoana/')\n",
      "IMAGE_PATH = os.path.join(DATA_PATH,'input/')\n",
      "PROB_PATH = os.path.join(DATA_PATH,'prob/')\n",
      "PATCH_PATH = os.path.join(DATA_PATH,'test_rhoana/')\n",
      "\n",
      "\n",
      "gold = _metrics.Util.read(GOLD_PATH+'*.tif')\n",
      "rhoana = _metrics.Util.read(RHOANA_PATH+'*.tif')\n",
      "images = _metrics.Util.read(IMAGE_PATH+'*.tif')\n",
      "probs = _metrics.Util.read(PROB_PATH+'*.tif')"
     ],
     "language": "python",
     "metadata": {},
     "outputs": [
      {
       "output_type": "stream",
       "stream": "stdout",
       "text": [
        "Loaded 75 images.\n",
        "Loaded"
       ]
      },
      {
       "output_type": "stream",
       "stream": "stdout",
       "text": [
        " 75 images.\n",
        "Loaded"
       ]
      },
      {
       "output_type": "stream",
       "stream": "stdout",
       "text": [
        " 75 images.\n",
        "Loaded"
       ]
      },
      {
       "output_type": "stream",
       "stream": "stdout",
       "text": [
        " 75 images.\n"
       ]
      },
      {
       "output_type": "stream",
       "stream": "stderr",
       "text": [
        "tifffile.py:1995: UserWarning: failed to import _tifffile.decodepackbits\n",
        "  warnings.warn(\"failed to import %s\" % module_function)\n",
        "tifffile.py:1995: UserWarning: failed to import _tifffile.decodelzw\n",
        "  warnings.warn(\"failed to import %s\" % module_function)\n",
        "tifffile.py:1995: UserWarning: failed to import _tifffile.unpackints\n",
        "  warnings.warn(\"failed to import %s\" % module_function)\n"
       ]
      }
     ],
     "prompt_number": 2
    },
    {
     "cell_type": "code",
     "collapsed": false,
     "input": [
      "SLICE = 70"
     ],
     "language": "python",
     "metadata": {},
     "outputs": [],
     "prompt_number": 3
    },
    {
     "cell_type": "code",
     "collapsed": false,
     "input": [
      "image = images[SLICE]\n",
      "prob = probs[SLICE]\n",
      "seg = _metrics.Util.normalize_labels(rhoana[SLICE])[0]\n",
      "\n",
      "# fill and normalize gold\n",
      "gold_zeros = _metrics.Util.threshold(gold[SLICE], 0)\n",
      "gold_filled = _metrics.Util.fill(gold[SLICE], gold_zeros.astype(np.bool))\n",
      "gold_filled_relabeled = skimage.measure.label(gold_filled).astype(np.uint64)\n",
      "gold_normalized = _metrics.Util.normalize_labels(gold_filled_relabeled)[0]\n",
      "\n",
      "# color both segmentations\n",
      "cm = _metrics.Util.load_colormap('/Volumes/DATA1/ac3x75/mojo/ids/colorMap.hdf5')\n",
      "colored_rhoana_normalized = cm[seg % len(cm)]\n",
      "colored_gold_normalized = cm[gold_normalized % len(cm)]\n"
     ],
     "language": "python",
     "metadata": {},
     "outputs": [],
     "prompt_number": 7
    },
    {
     "cell_type": "code",
     "collapsed": false,
     "input": [
      "def grab_neighbors(array, label):\n",
      "\n",
      "    thresholded_array = _metrics.Util.threshold(array, label)\n",
      "    thresholded_array_dilated = mh.dilate(thresholded_array.astype(np.uint64))\n",
      "\n",
      "    all_neighbors = np.unique(array[thresholded_array_dilated == thresholded_array_dilated.max()].astype(np.uint64))\n",
      "    all_neighbors = np.delete(all_neighbors, np.where(all_neighbors == label))\n",
      "\n",
      "    return all_neighbors\n",
      "\n",
      "def grab_patch(image, prob, segmentation, l, n, patch_size=(75,75)):\n",
      "\n",
      "    borders = mh.labeled.border(segmentation, l, n)\n",
      "\n",
      "    borders_labeled = skimage.measure.label(borders)\n",
      "    \n",
      "    patches = []\n",
      "    \n",
      "    # check if we need multiple patches because of multiple borders\n",
      "    for b in range(1,borders_labeled.max()+1):\n",
      "#         print 'patch for border', b\n",
      "        \n",
      "        border = _metrics.Util.threshold(borders_labeled, b)\n",
      "\n",
      "        border_yx = indices = zip(*np.where(border==1))\n",
      "\n",
      "        # fault check if no border is found\n",
      "        if len(border_yx) < 2:\n",
      "            print 'no border', l, n, 'border', b\n",
      "            continue\n",
      "\n",
      "        #\n",
      "        # calculate border center properly\n",
      "        #\n",
      "        node = mh.center_of_mass(border)\n",
      "        nodes = border_yx\n",
      "        nodes = np.asarray(nodes)\n",
      "        deltas = nodes - node\n",
      "        dist_2 = np.einsum('ij,ij->i', deltas, deltas)\n",
      "        border_center = border_yx[np.argmin(dist_2)]\n",
      "\n",
      "        # check if border_center is too close to the 4 edges\n",
      "        new_border_center = [border_center[0], border_center[1]]\n",
      "        if border_center[0] < patch_size[0]/2:\n",
      "            return None\n",
      "        if border_center[0]+patch_size[0]/2 >= segmentation.shape[0]:\n",
      "            return None\n",
      "        if border_center[1] < patch_size[1]/2:\n",
      "            return None\n",
      "        if border_center[1]+patch_size[1]/2 >= segmentation.shape[1]:\n",
      "            return None\n",
      "\n",
      "        bbox = [new_border_center[0]-patch_size[0]/2, \n",
      "                new_border_center[0]+patch_size[0]/2,\n",
      "                new_border_center[1]-patch_size[1]/2, \n",
      "                new_border_center[1]+patch_size[1]/2]\n",
      "\n",
      "        ### workaround to not sample white border of probability map\n",
      "        if bbox[0] <= 33:\n",
      "            return None\n",
      "        if bbox[1] >= segmentation.shape[0]-33:\n",
      "            return None\n",
      "        if bbox[2] <= 33:\n",
      "            return None\n",
      "        if bbox[3] >= segmentation.shape[1]-33:\n",
      "            return None\n",
      "\n",
      "\n",
      "        # threshold for label1\n",
      "        array1 = _metrics.Util.threshold(segmentation, l).astype(np.uint8)\n",
      "        # threshold for label2\n",
      "        array2 = _metrics.Util.threshold(segmentation, n).astype(np.uint8)\n",
      "        merged_array = array1 + array2\n",
      "\n",
      "        # dilate for overlap\n",
      "        dilated_array1 = np.array(array1)\n",
      "        dilated_array2 = np.array(array2)\n",
      "        for o in range(10):\n",
      "            dilated_array1 = mh.dilate(dilated_array1.astype(np.uint64))\n",
      "            dilated_array2 = mh.dilate(dilated_array2.astype(np.uint64))\n",
      "        overlap = np.logical_and(dilated_array1, dilated_array2)\n",
      "        overlap[merged_array == 0] = 0\n",
      "\n",
      "        output = {}\n",
      "        output['id'] = str(uuid.uuid4())\n",
      "        output['image'] = image[bbox[0]:bbox[1] + 1, bbox[2]:bbox[3] + 1]\n",
      "        output['prob'] = prob[bbox[0]:bbox[1] + 1, bbox[2]:bbox[3] + 1]\n",
      "        output['l'] = l\n",
      "        output['n'] = n\n",
      "        output['bbox'] = bbox\n",
      "        output['border'] = border_yx\n",
      "        output['border_center'] = new_border_center\n",
      "        output['binary1'] = array1[bbox[0]:bbox[1] + 1, bbox[2]:bbox[3] + 1].astype(np.bool)\n",
      "        output['binary2'] = array2[bbox[0]:bbox[1] + 1, bbox[2]:bbox[3] + 1].astype(np.bool)\n",
      "        output['overlap'] = overlap[bbox[0]:bbox[1] + 1, bbox[2]:bbox[3] + 1].astype(np.bool)\n",
      "\n",
      "        patches.append(output)\n",
      "        \n",
      "    return patches\n",
      "    \n",
      "    \n",
      "\n",
      "def loop(image, prob, segmentation):\n",
      "    labels = range(1,len(_metrics.Util.get_histogram(segmentation.astype(np.uint64))))\n",
      "\n",
      "    patches = []\n",
      "    \n",
      "    for l in labels:\n",
      "        neighbors = grab_neighbors(segmentation, l)\n",
      "        for n in neighbors:\n",
      "            p = grab_patch(image, prob, segmentation, l, n)\n",
      "            if not p:\n",
      "                continue\n",
      "                \n",
      "            patches += p\n",
      "            \n",
      "    return patches\n",
      "\n",
      "def fill_matrix(m, patches):\n",
      "    \n",
      "    patch_grouper = {}\n",
      "    for p in patches:\n",
      "        # create key\n",
      "        minlabel = min(p['l'], p['n'])\n",
      "        maxlabel = max(p['l'], p['n'])\n",
      "        key = str(minlabel)+'-'+str(maxlabel)\n",
      "\n",
      "        if not key in patch_grouper:\n",
      "            patch_grouper[key] = []\n",
      "\n",
      "        patch_grouper[key] += [p]\n",
      "\n",
      "    # now average the probabilities\n",
      "    for k in patch_grouper.keys():\n",
      "\n",
      "        weights = []\n",
      "        predictions = []\n",
      "\n",
      "        for p in patch_grouper[k]:\n",
      "\n",
      "             weights.append(len(p['border']))\n",
      "             predictions.append(test_patch(val_fn, p))\n",
      "\n",
      "        if len(patch_grouper[k]) == 1:\n",
      "            weights[0] = 1\n",
      "\n",
      "        p_sum = 0\n",
      "        w_sum = 0\n",
      "        for i,w in enumerate(weights):\n",
      "            # weighted arithmetic mean\n",
      "            p_sum += w*predictions[i]\n",
      "            w_sum += w\n",
      "\n",
      "        p_sum /= w_sum\n",
      "\n",
      "        patch_grouper[k] = p_sum\n",
      "\n",
      "    for p in patch_grouper.keys():\n",
      "        l = int(p.split('-')[0])\n",
      "        n = int(p.split('-')[1])\n",
      "        \n",
      "        m[l,n] = patch_grouper[p]\n",
      "        m[n,l] = patch_grouper[p]\n",
      "        \n",
      "    print 'merged', len(patches), 'patches into', len(patch_grouper.keys())\n",
      "        \n",
      "    return m\n",
      "\n",
      "            \n",
      "def setup_n():\n",
      "    from test_cnn_vis import TestCNN\n",
      "    t = TestCNN('7b76867e-c76a-416f-910a-7065e93c616a', 'patches_large2new')\n",
      "    val_fn = t.run()\n",
      "    \n",
      "    return val_fn\n",
      "            \n",
      "def test_patch(val_fn, p):\n",
      "\n",
      "    images = p['image'].reshape(-1, 1, 75, 75).astype(np.uint8)\n",
      "    probs = p['prob'].reshape(-1, 1, 75, 75).astype(np.uint8)\n",
      "    binary1s = p['binary1'].reshape(-1, 1, 75, 75).astype(np.uint8)*255\n",
      "    binary2s = p['binary2'].reshape(-1, 1, 75, 75).astype(np.uint8)*255\n",
      "    overlaps = p['overlap'].reshape(-1, 1, 75, 75).astype(np.uint8)*255\n",
      "    targets = np.array([0], dtype=np.uint8)\n",
      "    \n",
      "    pred, err, acc = val_fn(images, probs, binary1s, binary2s, overlaps, targets)\n",
      "            \n",
      "    return pred[0][1]\n",
      "\n",
      "def create_matrix(val_fn, segmentation, patches):\n",
      "    \n",
      "    \n",
      "    no_labels = len(_metrics.Util.get_histogram(segmentation.astype(np.uint64)))\n",
      "    \n",
      "    m = np.zeros((no_labels,no_labels), dtype=np.float)\n",
      "    m[:,:] = -1 # all uninitialised\n",
      " \n",
      "#     for p in patches:\n",
      "\n",
      "#         prediction = test_patch(val_fn, p)\n",
      "#         m[p['l'], p['n']] = prediction\n",
      "#         m[p['n'], p['l']] = prediction\n",
      "\n",
      "    m = fill_matrix(m, patches)\n",
      "\n",
      "    return m\n",
      "\n",
      "def merge(image, seg, prob, m_old, sureness=1.):\n",
      "    \n",
      "    out = np.array(seg)\n",
      "    m = np.array(m_old)\n",
      "    \n",
      "    patches = []\n",
      "    \n",
      "    # find largest value in matrix\n",
      "    largest_index = np.where(m==m.max())\n",
      "    l,n = (largest_index[0][0], largest_index[1][0])\n",
      "    \n",
      "    # merge these labels\n",
      "    print 'merging', l, n\n",
      "    out[out == l] = n\n",
      "    # set matrix as merged for this entry\n",
      "    m[l,:] = -2\n",
      "    m[:,l] = -2\n",
      "    \n",
      "    # grab neighbors of l\n",
      "    old_neighbors = grab_neighbors(seg, l)\n",
      "    # get patches for l and n_l\n",
      "    for n in old_neighbors:\n",
      "        neighbors = grab_neighbors(out, n)\n",
      "        for k in neighbors:\n",
      "            \n",
      "            # check if this is still a valid combination\n",
      "            if m[n,k] == -2:\n",
      "                # nope!\n",
      "                continue\n",
      "            \n",
      "            p = grab_patch(image, prob, out, n, k)\n",
      "            if not p:\n",
      "                continue\n",
      "\n",
      "            patches += p\n",
      "        \n",
      "    print 'recomputed', len(patches), 'patches'\n",
      "\n",
      "    # now we have a bunch of new patches\n",
      "    # -> update our matrix    \n",
      "#     for p in patches:\n",
      "#         prediction = test_patch(val_fn, p)\n",
      "#         m[p['l'], p['n']] = prediction\n",
      "#         m[p['n'], p['l']] = prediction\n",
      "\n",
      "    m = fill_matrix(m, patches)\n",
      "\n",
      "    return m, out\n",
      "\n",
      "\n",
      "\n",
      "def propagate_max_overlap(rhoana, gold):\n",
      "\n",
      "    out = np.array(rhoana)\n",
      "    \n",
      "    rhoana_labels = _metrics.Util.get_histogram(rhoana.astype(np.uint64))\n",
      "    \n",
      "    for l,k in enumerate(rhoana_labels):\n",
      "        if l == 0:\n",
      "            # ignore 0 since rhoana does not have it\n",
      "            continue\n",
      "        values = gold[rhoana == l]\n",
      "        largest_label = _metrics.Util.get_largest_label(values.astype(np.uint64))\n",
      "    \n",
      "        out[rhoana == l] = largest_label # set the largest label from gold here\n",
      "    \n",
      "    return out\n",
      "        "
     ],
     "language": "python",
     "metadata": {},
     "outputs": [],
     "prompt_number": 11
    },
    {
     "cell_type": "code",
     "collapsed": false,
     "input": [
      "import time\n",
      "t0 = time.time()\n",
      "p = loop(image, prob, seg)\n",
      "print time.time()-t0"
     ],
     "language": "python",
     "metadata": {},
     "outputs": [
      {
       "output_type": "stream",
       "stream": "stdout",
       "text": [
        "787.84239912\n"
       ]
      }
     ],
     "prompt_number": 9
    },
    {
     "cell_type": "code",
     "collapsed": false,
     "input": [
      "val_fn = setup_n()"
     ],
     "language": "python",
     "metadata": {},
     "outputs": [
      {
       "output_type": "stream",
       "stream": "stdout",
       "text": [
        "Loading ['/Volumes/DATA1/split_cnn/patches_large2new/7b76867e-c76a-416f-910a-7065e93c616a/configuration.txt']\n",
        "[\"{'outputpath': '/n/regal/pfister_lab/haehn/split_cnn/patches_large2new/', 'filtersize1': 9, 'filters3': 16, 'filters2': 16, 'batchsize': 100, 'datapath': '/n/regal/pfister_lab/haehn/', 'epochs': 500, 'runmode': 'cluster', 'filtersize2': 9, 'filtersize3': 9, 'filters1': 16, 'patchpath': 'patches_large2new', 'thirdconvlayer': True, 'learning_rate': 0.0001, 'momentum': 0.9}\"]\n",
        "Loading ['/Volumes/DATA1/split_cnn/patches_large2new/7b76867e-c76a-416f-910a-7065e93c616a/network_199.p']\n"
       ]
      },
      {
       "output_type": "stream",
       "stream": "stderr",
       "text": [
        "Using gpu device 0: GeForce GTX TITAN (CNMeM is disabled)\n"
       ]
      }
     ],
     "prompt_number": 10
    },
    {
     "cell_type": "code",
     "collapsed": false,
     "input": [
      "print 'creating matrix'\n",
      "m_new = create_matrix(val_fn, seg, p)\n",
      "out = seg\n",
      "sureness = 0.\n",
      "surenesses = []\n",
      "vi_s = []\n",
      "images = []\n",
      "before_VI = partition_comparison.variation_of_information(gold_normalized.ravel(), seg.ravel())\n",
      "\n",
      "max_counter = 0\n",
      "\n",
      "while m_new.max() >= sureness:\n",
      "    print 'Merging for sureness s=', m_new.max()\n",
      "    surenesses.append(m_new.max())\n",
      "    \n",
      "    m_new, out = merge(image, out, prob, m_new)\n",
      "    \n",
      "    vi = partition_comparison.variation_of_information(out.ravel(), gold_normalized.ravel())\n",
      "    vi_s.append(vi)\n",
      "    \n",
      "    images.append(np.array(out))\n",
      "    \n",
      "    print 'New VI', vi\n",
      "    print '-'*80\n",
      "    \n",
      "    max_counter += 1\n",
      "    "
     ],
     "language": "python",
     "metadata": {},
     "outputs": [
      {
       "output_type": "stream",
       "stream": "stdout",
       "text": [
        "creating matrix\n",
        "merged"
       ]
      },
      {
       "output_type": "stream",
       "stream": "stdout",
       "text": [
        " 1578 patches into 769\n",
        "Merging for sureness s= 1.0\n",
        "merging 56 92\n",
        "recomputed"
       ]
      },
      {
       "output_type": "stream",
       "stream": "stdout",
       "text": [
        " 82 patches\n",
        "merged"
       ]
      },
      {
       "output_type": "stream",
       "stream": "stdout",
       "text": [
        " 82 patches into 53\n",
        "New VI"
       ]
      },
      {
       "output_type": "stream",
       "stream": "stdout",
       "text": [
        " 0.817495412153\n",
        "--------------------------------------------------------------------------------\n",
        "Merging for sureness s= 1.0\n",
        "merging 93 94\n",
        "recomputed"
       ]
      },
      {
       "output_type": "stream",
       "stream": "stdout",
       "text": [
        " 23 patches\n",
        "merged"
       ]
      },
      {
       "output_type": "stream",
       "stream": "stdout",
       "text": [
        " 23 patches into 19\n",
        "New VI"
       ]
      },
      {
       "output_type": "stream",
       "stream": "stdout",
       "text": [
        " 0.817496076009\n",
        "--------------------------------------------------------------------------------\n",
        "Merging for sureness s= 1.0\n",
        "merging 125 145\n",
        "recomputed"
       ]
      },
      {
       "output_type": "stream",
       "stream": "stdout",
       "text": [
        " 46 patches\n",
        "merged"
       ]
      },
      {
       "output_type": "stream",
       "stream": "stdout",
       "text": [
        " 46 patches into 33\n",
        "New VI"
       ]
      },
      {
       "output_type": "stream",
       "stream": "stdout",
       "text": [
        " 0.817345725205\n",
        "--------------------------------------------------------------------------------\n",
        "Merging for sureness s= 1.0\n",
        "merging 224 228\n",
        "recomputed"
       ]
      },
      {
       "output_type": "stream",
       "stream": "stdout",
       "text": [
        " 29 patches\n",
        "merged"
       ]
      },
      {
       "output_type": "stream",
       "stream": "stdout",
       "text": [
        " 29 patches into 22\n",
        "New VI"
       ]
      },
      {
       "output_type": "stream",
       "stream": "stdout",
       "text": [
        " 0.816164002404\n",
        "--------------------------------------------------------------------------------\n",
        "Merging for sureness s= 1.0\n",
        "merging 315 318\n",
        "recomputed"
       ]
      },
      {
       "output_type": "stream",
       "stream": "stdout",
       "text": [
        " 60 patches\n",
        "merged"
       ]
      },
      {
       "output_type": "stream",
       "stream": "stdout",
       "text": [
        " 60 patches into 41\n",
        "New VI"
       ]
      },
      {
       "output_type": "stream",
       "stream": "stdout",
       "text": [
        " 0.815224805783\n",
        "--------------------------------------------------------------------------------\n",
        "Merging for sureness s= 0.999999344349\n",
        "merging 66 133\n",
        "recomputed"
       ]
      },
      {
       "output_type": "stream",
       "stream": "stdout",
       "text": [
        " 57 patches\n",
        "merged"
       ]
      },
      {
       "output_type": "stream",
       "stream": "stdout",
       "text": [
        " 57 patches into 36\n",
        "New VI"
       ]
      },
      {
       "output_type": "stream",
       "stream": "stdout",
       "text": [
        " 0.810386772272\n",
        "--------------------------------------------------------------------------------\n",
        "Merging for sureness s= 0.999994635582\n",
        "merging 209 225\n",
        "recomputed"
       ]
      },
      {
       "output_type": "stream",
       "stream": "stdout",
       "text": [
        " 108 patches\n",
        "merged"
       ]
      },
      {
       "output_type": "stream",
       "stream": "stdout",
       "text": [
        " 108 patches into 93\n",
        "New VI"
       ]
      },
      {
       "output_type": "stream",
       "stream": "stdout",
       "text": [
        " 0.810291085346\n",
        "--------------------------------------------------------------------------------\n",
        "Merging for sureness s= 0.999992251396\n",
        "merging 67 92\n",
        "recomputed"
       ]
      },
      {
       "output_type": "stream",
       "stream": "stdout",
       "text": [
        " 24 patches\n",
        "merged"
       ]
      },
      {
       "output_type": "stream",
       "stream": "stdout",
       "text": [
        " 24 patches into 19\n",
        "New VI"
       ]
      },
      {
       "output_type": "stream",
       "stream": "stdout",
       "text": [
        " 0.809773543923\n",
        "--------------------------------------------------------------------------------\n",
        "Merging for sureness s= 0.999952197075\n",
        "merging 172 173\n",
        "recomputed"
       ]
      },
      {
       "output_type": "stream",
       "stream": "stdout",
       "text": [
        " 33 patches\n",
        "merged"
       ]
      },
      {
       "output_type": "stream",
       "stream": "stdout",
       "text": [
        " 33 patches into 24\n",
        "New VI"
       ]
      },
      {
       "output_type": "stream",
       "stream": "stdout",
       "text": [
        " 0.809504817838\n",
        "--------------------------------------------------------------------------------\n",
        "Merging for sureness s= 0.999943912029\n",
        "merging 329 339\n",
        "recomputed"
       ]
      },
      {
       "output_type": "stream",
       "stream": "stdout",
       "text": [
        " 81 patches\n",
        "merged"
       ]
      },
      {
       "output_type": "stream",
       "stream": "stdout",
       "text": [
        " 81 patches into 49\n",
        "New VI"
       ]
      },
      {
       "output_type": "stream",
       "stream": "stdout",
       "text": [
        " 0.80816184235\n",
        "--------------------------------------------------------------------------------\n",
        "Merging for sureness s= 0.999909520149\n",
        "merging 303 317\n",
        "recomputed"
       ]
      },
      {
       "output_type": "stream",
       "stream": "stdout",
       "text": [
        " 35 patches\n",
        "merged"
       ]
      },
      {
       "output_type": "stream",
       "stream": "stdout",
       "text": [
        " 35 patches into 26\n",
        "New VI"
       ]
      },
      {
       "output_type": "stream",
       "stream": "stdout",
       "text": [
        " 0.807793095247\n",
        "--------------------------------------------------------------------------------\n",
        "Merging for sureness s= 0.999903678894\n",
        "merging 165 167\n",
        "recomputed"
       ]
      },
      {
       "output_type": "stream",
       "stream": "stdout",
       "text": [
        " 63 patches\n",
        "merged"
       ]
      },
      {
       "output_type": "stream",
       "stream": "stdout",
       "text": [
        " 63 patches into 56\n",
        "New VI"
       ]
      },
      {
       "output_type": "stream",
       "stream": "stdout",
       "text": [
        " 0.807625196272\n",
        "--------------------------------------------------------------------------------\n",
        "Merging for sureness s= 0.999897122383\n",
        "merging 255 259\n",
        "recomputed"
       ]
      },
      {
       "output_type": "stream",
       "stream": "stdout",
       "text": [
        " 57 patches\n",
        "merged"
       ]
      },
      {
       "output_type": "stream",
       "stream": "stdout",
       "text": [
        " 57 patches into 42\n",
        "New VI"
       ]
      },
      {
       "output_type": "stream",
       "stream": "stdout",
       "text": [
        " 0.807245717265\n",
        "--------------------------------------------------------------------------------\n",
        "Merging for sureness s= 0.999696552753\n",
        "merging 140 198\n",
        "recomputed"
       ]
      },
      {
       "output_type": "stream",
       "stream": "stdout",
       "text": [
        " 286 patches\n",
        "merged"
       ]
      },
      {
       "output_type": "stream",
       "stream": "stdout",
       "text": [
        " 286 patches into 196\n",
        "New VI"
       ]
      },
      {
       "output_type": "stream",
       "stream": "stdout",
       "text": [
        " 0.807261826022\n",
        "--------------------------------------------------------------------------------\n",
        "Merging for sureness s= 0.99965184927\n",
        "merging 151 157\n",
        "recomputed"
       ]
      },
      {
       "output_type": "stream",
       "stream": "stdout",
       "text": [
        " 41 patches\n",
        "merged"
       ]
      },
      {
       "output_type": "stream",
       "stream": "stdout",
       "text": [
        " 41 patches into 29\n",
        "New VI"
       ]
      },
      {
       "output_type": "stream",
       "stream": "stdout",
       "text": [
        " 0.807392229447\n",
        "--------------------------------------------------------------------------------\n",
        "Merging for sureness s= 0.998836219311\n",
        "merging 25 42\n",
        "recomputed"
       ]
      },
      {
       "output_type": "stream",
       "stream": "stdout",
       "text": [
        " 28 patches\n",
        "merged"
       ]
      },
      {
       "output_type": "stream",
       "stream": "stdout",
       "text": [
        " 28 patches into 24\n",
        "New VI"
       ]
      },
      {
       "output_type": "stream",
       "stream": "stdout",
       "text": [
        " 0.806641613873\n",
        "--------------------------------------------------------------------------------\n",
        "Merging for sureness s= 0.995340824127\n",
        "merging 261 328\n",
        "recomputed"
       ]
      },
      {
       "output_type": "stream",
       "stream": "stdout",
       "text": [
        " 117 patches\n",
        "merged"
       ]
      },
      {
       "output_type": "stream",
       "stream": "stdout",
       "text": [
        " 117 patches into 75\n",
        "New VI"
       ]
      },
      {
       "output_type": "stream",
       "stream": "stdout",
       "text": [
        " 0.806116165679\n",
        "--------------------------------------------------------------------------------\n",
        "Merging for sureness s= 0.988346070051\n",
        "merging 313 318\n",
        "recomputed"
       ]
      },
      {
       "output_type": "stream",
       "stream": "stdout",
       "text": [
        " 25 patches\n",
        "merged"
       ]
      },
      {
       "output_type": "stream",
       "stream": "stdout",
       "text": [
        " 25 patches into 23\n",
        "New VI"
       ]
      },
      {
       "output_type": "stream",
       "stream": "stdout",
       "text": [
        " 0.804934332616\n",
        "--------------------------------------------------------------------------------\n",
        "Merging for sureness s= 0.983582258224\n",
        "merging 158 161\n",
        "recomputed"
       ]
      },
      {
       "output_type": "stream",
       "stream": "stdout",
       "text": [
        " 32 patches\n",
        "merged"
       ]
      },
      {
       "output_type": "stream",
       "stream": "stdout",
       "text": [
        " 32 patches into 25\n",
        "New VI"
       ]
      },
      {
       "output_type": "stream",
       "stream": "stdout",
       "text": [
        " 0.80493479166\n",
        "--------------------------------------------------------------------------------\n",
        "Merging for sureness s= 0.978759109974\n",
        "merging 299 310\n",
        "recomputed"
       ]
      },
      {
       "output_type": "stream",
       "stream": "stdout",
       "text": [
        " 21 patches\n",
        "merged"
       ]
      },
      {
       "output_type": "stream",
       "stream": "stdout",
       "text": [
        " 21 patches into 16\n",
        "New VI"
       ]
      },
      {
       "output_type": "stream",
       "stream": "stdout",
       "text": [
        " 0.804850008339\n",
        "--------------------------------------------------------------------------------\n",
        "Merging for sureness s= 0.993987798691\n",
        "merging 295 352\n",
        "recomputed"
       ]
      },
      {
       "output_type": "stream",
       "stream": "stdout",
       "text": [
        " 44 patches\n",
        "merged"
       ]
      },
      {
       "output_type": "stream",
       "stream": "stdout",
       "text": [
        " 44 patches into 27\n",
        "New VI"
       ]
      },
      {
       "output_type": "stream",
       "stream": "stdout",
       "text": [
        " 0.804271064308\n",
        "--------------------------------------------------------------------------------\n",
        "Merging for sureness s= 0.976170569658\n",
        "merging 111 133\n",
        "recomputed"
       ]
      },
      {
       "output_type": "stream",
       "stream": "stdout",
       "text": [
        " 16 patches\n",
        "merged"
       ]
      },
      {
       "output_type": "stream",
       "stream": "stdout",
       "text": [
        " 16 patches into 14\n",
        "New VI"
       ]
      },
      {
       "output_type": "stream",
       "stream": "stdout",
       "text": [
        " 0.802387523362\n",
        "--------------------------------------------------------------------------------\n",
        "Merging for sureness s= 0.973912596703\n",
        "merging 310 312\n",
        "recomputed"
       ]
      },
      {
       "output_type": "stream",
       "stream": "stdout",
       "text": [
        " 20 patches\n",
        "merged"
       ]
      },
      {
       "output_type": "stream",
       "stream": "stdout",
       "text": [
        " 20 patches into 14\n",
        "New VI"
       ]
      },
      {
       "output_type": "stream",
       "stream": "stdout",
       "text": [
        " 0.802078369808\n",
        "--------------------------------------------------------------------------------\n",
        "Merging for sureness s= 0.970521509647\n",
        "merging 286 312\n",
        "recomputed"
       ]
      },
      {
       "output_type": "stream",
       "stream": "stdout",
       "text": [
        " 31 patches\n",
        "merged"
       ]
      },
      {
       "output_type": "stream",
       "stream": "stdout",
       "text": [
        " 31 patches into 20\n",
        "New VI"
       ]
      },
      {
       "output_type": "stream",
       "stream": "stdout",
       "text": [
        " 0.80121195831\n",
        "--------------------------------------------------------------------------------\n",
        "Merging for sureness s= 0.966457128525\n",
        "merging 322 355\n",
        "recomputed"
       ]
      },
      {
       "output_type": "stream",
       "stream": "stdout",
       "text": [
        " 32 patches\n",
        "merged"
       ]
      },
      {
       "output_type": "stream",
       "stream": "stdout",
       "text": [
        " 32 patches into 25\n",
        "New VI"
       ]
      },
      {
       "output_type": "stream",
       "stream": "stdout",
       "text": [
        " 0.801159926745\n",
        "--------------------------------------------------------------------------------\n",
        "Merging for sureness s= 0.958226561546\n",
        "merging 73 81\n",
        "recomputed"
       ]
      },
      {
       "output_type": "stream",
       "stream": "stdout",
       "text": [
        " 49 patches\n",
        "merged"
       ]
      },
      {
       "output_type": "stream",
       "stream": "stdout",
       "text": [
        " 49 patches into 36\n",
        "New VI"
       ]
      },
      {
       "output_type": "stream",
       "stream": "stdout",
       "text": [
        " 0.800517738251\n",
        "--------------------------------------------------------------------------------\n",
        "Merging for sureness s= 0.934277951717\n",
        "merging 181 182\n",
        "recomputed"
       ]
      },
      {
       "output_type": "stream",
       "stream": "stdout",
       "text": [
        " 63 patches\n",
        "merged"
       ]
      },
      {
       "output_type": "stream",
       "stream": "stdout",
       "text": [
        " 63 patches into 43\n",
        "New VI"
       ]
      },
      {
       "output_type": "stream",
       "stream": "stdout",
       "text": [
        " 0.800702906179\n",
        "--------------------------------------------------------------------------------\n",
        "Merging for sureness s= 0.932888269424\n",
        "merging 323 327\n",
        "recomputed"
       ]
      },
      {
       "output_type": "stream",
       "stream": "stdout",
       "text": [
        " 30 patches\n",
        "merged"
       ]
      },
      {
       "output_type": "stream",
       "stream": "stdout",
       "text": [
        " 30 patches into 23\n",
        "New VI"
       ]
      },
      {
       "output_type": "stream",
       "stream": "stdout",
       "text": [
        " 0.800439730222\n",
        "--------------------------------------------------------------------------------\n",
        "Merging for sureness s= 0.914203584194\n",
        "merging 191 193\n",
        "recomputed"
       ]
      },
      {
       "output_type": "stream",
       "stream": "stdout",
       "text": [
        " 65 patches\n",
        "merged"
       ]
      },
      {
       "output_type": "stream",
       "stream": "stdout",
       "text": [
        " 65 patches into 48\n",
        "New VI"
       ]
      },
      {
       "output_type": "stream",
       "stream": "stdout",
       "text": [
        " 0.799888828947\n",
        "--------------------------------------------------------------------------------\n",
        "Merging for sureness s= 0.912452340126\n",
        "merging 208 212\n",
        "recomputed"
       ]
      },
      {
       "output_type": "stream",
       "stream": "stdout",
       "text": [
        " 45 patches\n",
        "merged"
       ]
      },
      {
       "output_type": "stream",
       "stream": "stdout",
       "text": [
        " 45 patches into 34\n",
        "New VI"
       ]
      },
      {
       "output_type": "stream",
       "stream": "stdout",
       "text": [
        " 0.79978407613\n",
        "--------------------------------------------------------------------------------\n",
        "Merging for sureness s= 0.90297421813\n",
        "merging 327 328\n",
        "recomputed"
       ]
      },
      {
       "output_type": "stream",
       "stream": "stdout",
       "text": [
        " 37 patches\n",
        "merged"
       ]
      },
      {
       "output_type": "stream",
       "stream": "stdout",
       "text": [
        " 37 patches into 26\n",
        "New VI"
       ]
      },
      {
       "output_type": "stream",
       "stream": "stdout",
       "text": [
        " 0.79919900934\n",
        "--------------------------------------------------------------------------------\n",
        "Merging for sureness s= 0.901962429285\n",
        "merging 207 218\n",
        "recomputed"
       ]
      },
      {
       "output_type": "stream",
       "stream": "stdout",
       "text": [
        " 56 patches\n",
        "merged"
       ]
      },
      {
       "output_type": "stream",
       "stream": "stdout",
       "text": [
        " 56 patches into 50\n",
        "New VI"
       ]
      },
      {
       "output_type": "stream",
       "stream": "stdout",
       "text": [
        " 0.798932407801\n",
        "--------------------------------------------------------------------------------\n",
        "Merging for sureness s= 0.899576753378\n",
        "merging 15 150\n",
        "recomputed"
       ]
      },
      {
       "output_type": "stream",
       "stream": "stdout",
       "text": [
        " 341 patches\n",
        "merged"
       ]
      },
      {
       "output_type": "stream",
       "stream": "stdout",
       "text": [
        " 341 patches into 218\n",
        "New VI"
       ]
      },
      {
       "output_type": "stream",
       "stream": "stdout",
       "text": [
        " 0.803526469385\n",
        "--------------------------------------------------------------------------------\n",
        "Merging for sureness s= 0.91595518589\n",
        "merging 232 233\n",
        "recomputed"
       ]
      },
      {
       "output_type": "stream",
       "stream": "stdout",
       "text": [
        " 27 patches\n",
        "merged"
       ]
      },
      {
       "output_type": "stream",
       "stream": "stdout",
       "text": [
        " 27 patches into 17\n",
        "New VI"
       ]
      },
      {
       "output_type": "stream",
       "stream": "stdout",
       "text": [
        " 0.8023368684\n",
        "--------------------------------------------------------------------------------\n",
        "Merging for sureness s= 0.876506894827\n",
        "merging 206 218\n",
        "recomputed"
       ]
      },
      {
       "output_type": "stream",
       "stream": "stdout",
       "text": [
        " 64 patches\n",
        "merged"
       ]
      },
      {
       "output_type": "stream",
       "stream": "stdout",
       "text": [
        " 64 patches into 55\n",
        "New VI"
       ]
      },
      {
       "output_type": "stream",
       "stream": "stdout",
       "text": [
        " 0.801709608912\n",
        "--------------------------------------------------------------------------------\n",
        "Merging for sureness s= 0.963925123215\n",
        "merging 211 218\n",
        "recomputed"
       ]
      },
      {
       "output_type": "stream",
       "stream": "stdout",
       "text": [
        " 57 patches\n",
        "merged"
       ]
      },
      {
       "output_type": "stream",
       "stream": "stdout",
       "text": [
        " 57 patches into 40\n",
        "New VI"
       ]
      },
      {
       "output_type": "stream",
       "stream": "stdout",
       "text": [
        " 0.804074938586\n",
        "--------------------------------------------------------------------------------\n",
        "Merging for sureness s= 0.863917529583\n",
        "merging 148 149\n",
        "recomputed"
       ]
      },
      {
       "output_type": "stream",
       "stream": "stdout",
       "text": [
        " 102 patches\n",
        "merged"
       ]
      },
      {
       "output_type": "stream",
       "stream": "stdout",
       "text": [
        " 102 patches into 89\n",
        "New VI"
       ]
      },
      {
       "output_type": "stream",
       "stream": "stdout",
       "text": [
        " 0.803797318673\n",
        "--------------------------------------------------------------------------------\n",
        "Merging for sureness s= 0.857988655567\n",
        "merging 312 352\n",
        "recomputed"
       ]
      },
      {
       "output_type": "stream",
       "stream": "stdout",
       "text": [
        " 25 patches\n",
        "merged"
       ]
      },
      {
       "output_type": "stream",
       "stream": "stdout",
       "text": [
        " 25 patches into 17\n",
        "New VI"
       ]
      },
      {
       "output_type": "stream",
       "stream": "stdout",
       "text": [
        " 0.808588417199\n",
        "--------------------------------------------------------------------------------\n",
        "Merging for sureness s= 0.8562541008\n",
        "merging 167 170\n",
        "recomputed"
       ]
      },
      {
       "output_type": "stream",
       "stream": "stdout",
       "text": [
        " 72 patches\n",
        "merged"
       ]
      },
      {
       "output_type": "stream",
       "stream": "stdout",
       "text": [
        " 72 patches into 61\n",
        "New VI"
       ]
      },
      {
       "output_type": "stream",
       "stream": "stdout",
       "text": [
        " 0.807887142001\n",
        "--------------------------------------------------------------------------------\n",
        "Merging for sureness s= 0.827654421329\n",
        "merging 100 106\n",
        "recomputed"
       ]
      },
      {
       "output_type": "stream",
       "stream": "stdout",
       "text": [
        " 29 patches\n",
        "merged"
       ]
      },
      {
       "output_type": "stream",
       "stream": "stdout",
       "text": [
        " 29 patches into 24\n",
        "New VI"
       ]
      },
      {
       "output_type": "stream",
       "stream": "stdout",
       "text": [
        " 0.804969089413\n",
        "--------------------------------------------------------------------------------\n",
        "Merging for sureness s= 0.811664581299\n",
        "merging 69 78\n",
        "recomputed"
       ]
      },
      {
       "output_type": "stream",
       "stream": "stdout",
       "text": [
        " 67 patches\n",
        "merged"
       ]
      },
      {
       "output_type": "stream",
       "stream": "stdout",
       "text": [
        " 67 patches into 56\n",
        "New VI"
       ]
      },
      {
       "output_type": "stream",
       "stream": "stdout",
       "text": [
        " 0.805354670603\n",
        "--------------------------------------------------------------------------------\n",
        "Merging for sureness s= 0.804179370403\n",
        "merging 104 133\n",
        "recomputed"
       ]
      },
      {
       "output_type": "stream",
       "stream": "stdout",
       "text": [
        " 84 patches\n",
        "merged"
       ]
      },
      {
       "output_type": "stream",
       "stream": "stdout",
       "text": [
        " 84 patches into 67\n",
        "New VI"
       ]
      },
      {
       "output_type": "stream",
       "stream": "stdout",
       "text": [
        " 0.823654087254\n",
        "--------------------------------------------------------------------------------\n",
        "Merging for sureness s= 0.952828615904\n",
        "merging 133 134\n",
        "recomputed"
       ]
      },
      {
       "output_type": "stream",
       "stream": "stdout",
       "text": [
        " 110 patches\n",
        "merged"
       ]
      },
      {
       "output_type": "stream",
       "stream": "stdout",
       "text": [
        " 110 patches into 80\n",
        "New VI"
       ]
      },
      {
       "output_type": "stream",
       "stream": "stdout",
       "text": [
        " 0.821376001769\n",
        "--------------------------------------------------------------------------------\n",
        "Merging for sureness s= 0.788728962545\n",
        "merging 71 92\n",
        "recomputed"
       ]
      },
      {
       "output_type": "stream",
       "stream": "stdout",
       "text": [
        " 30 patches\n",
        "merged"
       ]
      },
      {
       "output_type": "stream",
       "stream": "stdout",
       "text": [
        " 30 patches into 24\n",
        "New VI"
       ]
      },
      {
       "output_type": "stream",
       "stream": "stdout",
       "text": [
        " 0.822331558978\n",
        "--------------------------------------------------------------------------------\n",
        "Merging for sureness s= 0.778571337461\n",
        "merging 331 333\n",
        "recomputed"
       ]
      },
      {
       "output_type": "stream",
       "stream": "stdout",
       "text": [
        " 31 patches\n",
        "merged"
       ]
      },
      {
       "output_type": "stream",
       "stream": "stdout",
       "text": [
        " 31 patches into 23\n",
        "New VI"
       ]
      },
      {
       "output_type": "stream",
       "stream": "stdout",
       "text": [
        " 0.82135711712\n",
        "--------------------------------------------------------------------------------\n",
        "Merging for sureness s= 0.758813977242\n",
        "merging 213 225\n",
        "recomputed"
       ]
      },
      {
       "output_type": "stream",
       "stream": "stdout",
       "text": [
        " 48 patches\n",
        "merged"
       ]
      },
      {
       "output_type": "stream",
       "stream": "stdout",
       "text": [
        " 48 patches into 42\n",
        "New VI"
       ]
      },
      {
       "output_type": "stream",
       "stream": "stdout",
       "text": [
        " 0.82241327525\n",
        "--------------------------------------------------------------------------------\n",
        "Merging for sureness s= 0.703884691\n",
        "merging 243 245\n",
        "recomputed"
       ]
      },
      {
       "output_type": "stream",
       "stream": "stdout",
       "text": [
        " 36 patches\n",
        "merged"
       ]
      },
      {
       "output_type": "stream",
       "stream": "stdout",
       "text": [
        " 36 patches into 30\n",
        "New VI"
       ]
      },
      {
       "output_type": "stream",
       "stream": "stdout",
       "text": [
        " 0.822504403942\n",
        "--------------------------------------------------------------------------------\n",
        "Merging for sureness s= 0.648061752319\n",
        "merging 146 153\n",
        "recomputed"
       ]
      },
      {
       "output_type": "stream",
       "stream": "stdout",
       "text": [
        " 49 patches\n",
        "merged"
       ]
      },
      {
       "output_type": "stream",
       "stream": "stdout",
       "text": [
        " 49 patches into 44\n",
        "New VI"
       ]
      },
      {
       "output_type": "stream",
       "stream": "stdout",
       "text": [
        " 0.821294228085\n",
        "--------------------------------------------------------------------------------\n",
        "Merging for sureness s= 0.774893343449\n",
        "merging 153 198\n",
        "recomputed"
       ]
      },
      {
       "output_type": "stream",
       "stream": "stdout",
       "text": [
        " 74 patches\n",
        "merged"
       ]
      },
      {
       "output_type": "stream",
       "stream": "stdout",
       "text": [
        " 74 patches into 59\n",
        "New VI"
       ]
      },
      {
       "output_type": "stream",
       "stream": "stdout",
       "text": [
        " 0.827492814012\n",
        "--------------------------------------------------------------------------------\n",
        "Merging for sureness s= 0.646556317806\n",
        "merging 270 290\n",
        "recomputed"
       ]
      },
      {
       "output_type": "stream",
       "stream": "stdout",
       "text": [
        " 54 patches\n",
        "merged"
       ]
      },
      {
       "output_type": "stream",
       "stream": "stdout",
       "text": [
        " 54 patches into 38\n",
        "New VI"
       ]
      },
      {
       "output_type": "stream",
       "stream": "stdout",
       "text": [
        " 0.825253403526\n",
        "--------------------------------------------------------------------------------\n",
        "Merging for sureness s= 0.631325796247\n",
        "merging 55 134\n",
        "recomputed"
       ]
      },
      {
       "output_type": "stream",
       "stream": "stdout",
       "text": [
        " 29 patches\n",
        "merged"
       ]
      },
      {
       "output_type": "stream",
       "stream": "stdout",
       "text": [
        " 29 patches into 22\n",
        "New VI"
       ]
      },
      {
       "output_type": "stream",
       "stream": "stdout",
       "text": [
        " 0.831569005929\n",
        "--------------------------------------------------------------------------------\n",
        "Merging for sureness s= 0.615505039692\n",
        "merging 221 228\n",
        "recomputed"
       ]
      },
      {
       "output_type": "stream",
       "stream": "stdout",
       "text": [
        " 50 patches\n",
        "merged"
       ]
      },
      {
       "output_type": "stream",
       "stream": "stdout",
       "text": [
        " 50 patches into 44\n",
        "New VI"
       ]
      },
      {
       "output_type": "stream",
       "stream": "stdout",
       "text": [
        " 0.830876774694\n",
        "--------------------------------------------------------------------------------\n",
        "Merging for sureness s= 0.565684631467\n",
        "merging 227 233\n",
        "recomputed"
       ]
      },
      {
       "output_type": "stream",
       "stream": "stdout",
       "text": [
        " 69 patches\n",
        "merged"
       ]
      },
      {
       "output_type": "stream",
       "stream": "stdout",
       "text": [
        " 69 patches into 57\n",
        "New VI"
       ]
      },
      {
       "output_type": "stream",
       "stream": "stdout",
       "text": [
        " 0.828679256214\n",
        "--------------------------------------------------------------------------------\n",
        "Merging for sureness s= 0.562470242381\n",
        "merging 217 219\n",
        "recomputed"
       ]
      },
      {
       "output_type": "stream",
       "stream": "stdout",
       "text": [
        " 35 patches\n",
        "merged"
       ]
      },
      {
       "output_type": "stream",
       "stream": "stdout",
       "text": [
        " 35 patches into 27\n",
        "New VI"
       ]
      },
      {
       "output_type": "stream",
       "stream": "stdout",
       "text": [
        " 0.828608363414\n",
        "--------------------------------------------------------------------------------\n",
        "Merging for sureness s= 0.53288730979\n",
        "merging 193 204\n",
        "recomputed"
       ]
      },
      {
       "output_type": "stream",
       "stream": "stdout",
       "text": [
        " 58 patches\n",
        "merged"
       ]
      },
      {
       "output_type": "stream",
       "stream": "stdout",
       "text": [
        " 58 patches into 44\n",
        "New VI"
       ]
      },
      {
       "output_type": "stream",
       "stream": "stdout",
       "text": [
        " 0.827799443801\n",
        "--------------------------------------------------------------------------------\n",
        "Merging for sureness s= 0.511310621878\n",
        "merging 333 339\n",
        "recomputed"
       ]
      },
      {
       "output_type": "stream",
       "stream": "stdout",
       "text": [
        " 23 patches\n",
        "merged"
       ]
      },
      {
       "output_type": "stream",
       "stream": "stdout",
       "text": [
        " 23 patches into 21\n",
        "New VI"
       ]
      },
      {
       "output_type": "stream",
       "stream": "stdout",
       "text": [
        " 0.823267001711\n",
        "--------------------------------------------------------------------------------\n",
        "Merging for sureness s= 0.5094627738\n",
        "merging 332 344\n",
        "recomputed"
       ]
      },
      {
       "output_type": "stream",
       "stream": "stdout",
       "text": [
        " 26 patches\n",
        "merged"
       ]
      },
      {
       "output_type": "stream",
       "stream": "stdout",
       "text": [
        " 26 patches into 19\n",
        "New VI"
       ]
      },
      {
       "output_type": "stream",
       "stream": "stdout",
       "text": [
        " 0.822390767251\n",
        "--------------------------------------------------------------------------------\n",
        "Merging for sureness s= 0.462960451841\n",
        "merging 170 188\n",
        "recomputed"
       ]
      },
      {
       "output_type": "stream",
       "stream": "stdout",
       "text": [
        " 75 patches\n",
        "merged"
       ]
      },
      {
       "output_type": "stream",
       "stream": "stdout",
       "text": [
        " 75 patches into 59\n",
        "New VI"
       ]
      },
      {
       "output_type": "stream",
       "stream": "stdout",
       "text": [
        " 0.823369878152\n",
        "--------------------------------------------------------------------------------\n",
        "Merging for sureness s= 0.41217439808\n",
        "merging 195 204\n",
        "recomputed"
       ]
      },
      {
       "output_type": "stream",
       "stream": "stdout",
       "text": [
        " 50 patches\n",
        "merged"
       ]
      },
      {
       "output_type": "stream",
       "stream": "stdout",
       "text": [
        " 50 patches into 39\n",
        "New VI"
       ]
      },
      {
       "output_type": "stream",
       "stream": "stdout",
       "text": [
        " 0.827189516444\n",
        "--------------------------------------------------------------------------------\n",
        "Merging for sureness s= 0.399323612452\n",
        "merging 168 198\n",
        "recomputed"
       ]
      },
      {
       "output_type": "stream",
       "stream": "stdout",
       "text": [
        " 57 patches\n",
        "merged"
       ]
      },
      {
       "output_type": "stream",
       "stream": "stdout",
       "text": [
        " 57 patches into 48\n",
        "New VI"
       ]
      },
      {
       "output_type": "stream",
       "stream": "stdout",
       "text": [
        " 0.827222396208\n",
        "--------------------------------------------------------------------------------\n",
        "Merging for sureness s= 0.965307295322\n",
        "merging 176 198\n",
        "recomputed"
       ]
      },
      {
       "output_type": "stream",
       "stream": "stdout",
       "text": [
        " 39 patches\n",
        "merged"
       ]
      },
      {
       "output_type": "stream",
       "stream": "stdout",
       "text": [
        " 39 patches into 37\n",
        "New VI"
       ]
      },
      {
       "output_type": "stream",
       "stream": "stdout",
       "text": [
        " 0.827092241514\n",
        "--------------------------------------------------------------------------------\n",
        "Merging for sureness s= 0.317683875561\n",
        "merging 245 252\n",
        "recomputed"
       ]
      },
      {
       "output_type": "stream",
       "stream": "stdout",
       "text": [
        " 42 patches\n",
        "merged"
       ]
      },
      {
       "output_type": "stream",
       "stream": "stdout",
       "text": [
        " 42 patches into 34\n",
        "New VI"
       ]
      },
      {
       "output_type": "stream",
       "stream": "stdout",
       "text": [
        " 0.827159366632\n",
        "--------------------------------------------------------------------------------\n",
        "Merging for sureness s= 0.258379161358\n",
        "merging 106 108\n",
        "recomputed"
       ]
      },
      {
       "output_type": "stream",
       "stream": "stdout",
       "text": [
        " 108 patches\n",
        "merged"
       ]
      },
      {
       "output_type": "stream",
       "stream": "stdout",
       "text": [
        " 108 patches into 77\n",
        "New VI"
       ]
      },
      {
       "output_type": "stream",
       "stream": "stdout",
       "text": [
        " 0.833153247033\n",
        "--------------------------------------------------------------------------------\n",
        "Merging for sureness s= 0.256100773811\n",
        "merging 294 302\n",
        "recomputed"
       ]
      },
      {
       "output_type": "stream",
       "stream": "stdout",
       "text": [
        " 44 patches\n",
        "merged"
       ]
      },
      {
       "output_type": "stream",
       "stream": "stdout",
       "text": [
        " 44 patches into 33\n",
        "New VI"
       ]
      },
      {
       "output_type": "stream",
       "stream": "stdout",
       "text": [
        " 0.832197862814\n",
        "--------------------------------------------------------------------------------\n",
        "Merging for sureness s= 0.235801130533\n",
        "merging 317 355\n",
        "recomputed"
       ]
      },
      {
       "output_type": "stream",
       "stream": "stdout",
       "text": [
        " 27 patches\n",
        "merged"
       ]
      },
      {
       "output_type": "stream",
       "stream": "stdout",
       "text": [
        " 27 patches into 22\n",
        "New VI"
       ]
      },
      {
       "output_type": "stream",
       "stream": "stdout",
       "text": [
        " 0.830270649726\n",
        "--------------------------------------------------------------------------------\n",
        "Merging for sureness s= 0.17696859315\n",
        "merging 285 352\n",
        "recomputed"
       ]
      },
      {
       "output_type": "stream",
       "stream": "stdout",
       "text": [
        " 16 patches\n",
        "merged"
       ]
      },
      {
       "output_type": "stream",
       "stream": "stdout",
       "text": [
        " 16 patches into 13\n",
        "New VI"
       ]
      },
      {
       "output_type": "stream",
       "stream": "stdout",
       "text": [
        " 0.830295609979\n",
        "--------------------------------------------------------------------------------\n",
        "Merging for sureness s= 0.168595004827\n",
        "merging 53 57\n",
        "recomputed"
       ]
      },
      {
       "output_type": "stream",
       "stream": "stdout",
       "text": [
        " 55 patches\n",
        "merged"
       ]
      },
      {
       "output_type": "stream",
       "stream": "stdout",
       "text": [
        " 55 patches into 46\n",
        "New VI"
       ]
      },
      {
       "output_type": "stream",
       "stream": "stdout",
       "text": [
        " 0.830523710484\n",
        "--------------------------------------------------------------------------------\n",
        "Merging for sureness s= 0.161973327398\n",
        "merging 108 115\n",
        "recomputed"
       ]
      },
      {
       "output_type": "stream",
       "stream": "stdout",
       "text": [
        " 119 patches\n",
        "merged"
       ]
      },
      {
       "output_type": "stream",
       "stream": "stdout",
       "text": [
        " 119 patches into 84\n",
        "New VI"
       ]
      },
      {
       "output_type": "stream",
       "stream": "stdout",
       "text": [
        " 0.829930003458\n",
        "--------------------------------------------------------------------------------\n",
        "Merging for sureness s= 0.156564950943\n",
        "merging 131 135\n",
        "recomputed"
       ]
      },
      {
       "output_type": "stream",
       "stream": "stdout",
       "text": [
        " 26 patches\n",
        "merged"
       ]
      },
      {
       "output_type": "stream",
       "stream": "stdout",
       "text": [
        " 26 patches into 21\n",
        "New VI"
       ]
      },
      {
       "output_type": "stream",
       "stream": "stdout",
       "text": [
        " 0.829976519106\n",
        "--------------------------------------------------------------------------------\n",
        "Merging for sureness s= 0.177695065737\n",
        "merging 112 198\n",
        "recomputed"
       ]
      },
      {
       "output_type": "stream",
       "stream": "stdout",
       "text": [
        " 122 patches\n",
        "merged"
       ]
      },
      {
       "output_type": "stream",
       "stream": "stdout",
       "text": [
        " 122 patches into 95\n",
        "New VI"
       ]
      },
      {
       "output_type": "stream",
       "stream": "stdout",
       "text": [
        " 0.852751152712\n",
        "--------------------------------------------------------------------------------\n",
        "Merging for sureness s= 0.155232107267\n",
        "merging 325 352\n",
        "recomputed"
       ]
      },
      {
       "output_type": "stream",
       "stream": "stdout",
       "text": [
        " 10 patches\n",
        "merged"
       ]
      },
      {
       "output_type": "stream",
       "stream": "stdout",
       "text": [
        " 10 patches into 6\n",
        "New VI"
       ]
      },
      {
       "output_type": "stream",
       "stream": "stdout",
       "text": [
        " 0.869090723242\n",
        "--------------------------------------------------------------------------------\n",
        "Merging for sureness s= 0.823845451111\n",
        "merging 335 352\n",
        "recomputed"
       ]
      },
      {
       "output_type": "stream",
       "stream": "stdout",
       "text": [
        " 4 patches\n",
        "merged 4 patches into 4\n",
        "New VI"
       ]
      },
      {
       "output_type": "stream",
       "stream": "stdout",
       "text": [
        " 0.865864846562\n",
        "--------------------------------------------------------------------------------\n",
        "Merging for sureness s= 0.669058918953\n",
        "merging 288 352\n",
        "recomputed"
       ]
      },
      {
       "output_type": "stream",
       "stream": "stdout",
       "text": [
        " 9 patches\n",
        "merged 9 patches into 8\n",
        "New VI"
       ]
      },
      {
       "output_type": "stream",
       "stream": "stdout",
       "text": [
        " 0.882990521678\n",
        "--------------------------------------------------------------------------------\n",
        "Merging for sureness s= 0.671704083681\n",
        "merging 244 352\n",
        "recomputed"
       ]
      },
      {
       "output_type": "stream",
       "stream": "stdout",
       "text": [
        " 50 patches\n",
        "merged"
       ]
      },
      {
       "output_type": "stream",
       "stream": "stdout",
       "text": [
        " 50 patches into 41\n",
        "New VI"
       ]
      },
      {
       "output_type": "stream",
       "stream": "stdout",
       "text": [
        " 0.91963623786\n",
        "--------------------------------------------------------------------------------\n",
        "Merging for sureness s= 0.14671741426\n",
        "merging 60 64\n",
        "recomputed"
       ]
      },
      {
       "output_type": "stream",
       "stream": "stdout",
       "text": [
        " 27 patches\n",
        "merged"
       ]
      },
      {
       "output_type": "stream",
       "stream": "stdout",
       "text": [
        " 27 patches into 22\n",
        "New VI"
       ]
      },
      {
       "output_type": "stream",
       "stream": "stdout",
       "text": [
        " 0.920280101353\n",
        "--------------------------------------------------------------------------------\n",
        "Merging for sureness s= 0.146454326808\n",
        "merging 115 128\n",
        "recomputed"
       ]
      },
      {
       "output_type": "stream",
       "stream": "stdout",
       "text": [
        " 120 patches\n",
        "merged"
       ]
      },
      {
       "output_type": "stream",
       "stream": "stdout",
       "text": [
        " 120 patches into 84\n",
        "New VI"
       ]
      },
      {
       "output_type": "stream",
       "stream": "stdout",
       "text": [
        " 0.91636859827\n",
        "--------------------------------------------------------------------------------\n",
        "Merging for sureness s= 0.145761862397\n",
        "merging 228 246\n",
        "recomputed"
       ]
      },
      {
       "output_type": "stream",
       "stream": "stdout",
       "text": [
        " 76 patches\n",
        "merged"
       ]
      },
      {
       "output_type": "stream",
       "stream": "stdout",
       "text": [
        " 76 patches into 62\n",
        "New VI"
       ]
      },
      {
       "output_type": "stream",
       "stream": "stdout",
       "text": [
        " 0.915755789875\n",
        "--------------------------------------------------------------------------------\n",
        "Merging for sureness s= 0.145067587495\n",
        "merging 134 150\n",
        "recomputed"
       ]
      },
      {
       "output_type": "stream",
       "stream": "stdout",
       "text": [
        " 108 patches\n",
        "merged"
       ]
      },
      {
       "output_type": "stream",
       "stream": "stdout",
       "text": [
        " 108 patches into 76\n",
        "New VI"
       ]
      },
      {
       "output_type": "stream",
       "stream": "stdout",
       "text": [
        " 1.02106859812\n",
        "--------------------------------------------------------------------------------\n",
        "Merging for sureness s= 0.143466724548\n",
        "merging 17 92\n",
        "recomputed"
       ]
      },
      {
       "output_type": "stream",
       "stream": "stdout",
       "text": [
        " 60 patches\n",
        "merged"
       ]
      },
      {
       "output_type": "stream",
       "stream": "stdout",
       "text": [
        " 60 patches into 41\n",
        "New VI"
       ]
      },
      {
       "output_type": "stream",
       "stream": "stdout",
       "text": [
        " 1.03581159025\n",
        "--------------------------------------------------------------------------------\n",
        "Merging for sureness s= 0.140742719173\n",
        "merging 268 275\n",
        "recomputed"
       ]
      },
      {
       "output_type": "stream",
       "stream": "stdout",
       "text": [
        " 55 patches\n",
        "merged"
       ]
      },
      {
       "output_type": "stream",
       "stream": "stdout",
       "text": [
        " 55 patches into 46\n",
        "New VI"
       ]
      },
      {
       "output_type": "stream",
       "stream": "stdout",
       "text": [
        " 1.03561717624\n",
        "--------------------------------------------------------------------------------\n",
        "Merging for sureness s= 0.136649698019\n",
        "merging 274 352\n",
        "recomputed"
       ]
      },
      {
       "output_type": "stream",
       "stream": "stdout",
       "text": [
        " 21 patches\n",
        "merged"
       ]
      },
      {
       "output_type": "stream",
       "stream": "stdout",
       "text": [
        " 21 patches into 18\n",
        "New VI"
       ]
      },
      {
       "output_type": "stream",
       "stream": "stdout",
       "text": [
        " 1.0419603801\n",
        "--------------------------------------------------------------------------------\n",
        "Merging for sureness s= 0.107465045527\n",
        "merging 247 260\n",
        "recomputed"
       ]
      },
      {
       "output_type": "stream",
       "stream": "stdout",
       "text": [
        " 62 patches\n",
        "merged"
       ]
      },
      {
       "output_type": "stream",
       "stream": "stdout",
       "text": [
        " 62 patches into 46\n",
        "New VI"
       ]
      },
      {
       "output_type": "stream",
       "stream": "stdout",
       "text": [
        " 1.04127446266\n",
        "--------------------------------------------------------------------------------\n",
        "Merging for sureness s= 0.669788986444\n",
        "merging 203 260\n",
        "recomputed"
       ]
      },
      {
       "output_type": "stream",
       "stream": "stdout",
       "text": [
        " 114 patches\n",
        "merged"
       ]
      },
      {
       "output_type": "stream",
       "stream": "stdout",
       "text": [
        " 114 patches into 87\n",
        "New VI"
       ]
      },
      {
       "output_type": "stream",
       "stream": "stdout",
       "text": [
        " 1.03915038549\n",
        "--------------------------------------------------------------------------------\n",
        "Merging for sureness s= 0.257672440261\n",
        "merging 233 240\n",
        "recomputed"
       ]
      },
      {
       "output_type": "stream",
       "stream": "stdout",
       "text": [
        " 79 patches\n",
        "merged"
       ]
      },
      {
       "output_type": "stream",
       "stream": "stdout",
       "text": [
        " 79 patches into 58\n",
        "New VI"
       ]
      },
      {
       "output_type": "stream",
       "stream": "stdout",
       "text": [
        " 1.03834048758\n",
        "--------------------------------------------------------------------------------\n",
        "Merging for sureness s= 0.444870602149\n",
        "merging 240 260\n",
        "recomputed"
       ]
      },
      {
       "output_type": "stream",
       "stream": "stdout",
       "text": [
        " 69 patches\n",
        "merged"
       ]
      },
      {
       "output_type": "stream",
       "stream": "stdout",
       "text": [
        " 69 patches into 53\n",
        "New VI"
       ]
      },
      {
       "output_type": "stream",
       "stream": "stdout",
       "text": [
        " 1.04735341049\n",
        "--------------------------------------------------------------------------------\n",
        "Merging for sureness s= 0.979742306609\n",
        "merging 236 260\n",
        "recomputed"
       ]
      },
      {
       "output_type": "stream",
       "stream": "stdout",
       "text": [
        " 4 patches\n",
        "merged 4 patches into 4\n",
        "New VI"
       ]
      },
      {
       "output_type": "stream",
       "stream": "stdout",
       "text": [
        " 1.04639257591\n",
        "--------------------------------------------------------------------------------\n",
        "Merging for sureness s= 0.098797980696\n",
        "merging 218 246\n",
        "recomputed"
       ]
      },
      {
       "output_type": "stream",
       "stream": "stdout",
       "text": [
        " 78 patches\n",
        "merged"
       ]
      },
      {
       "output_type": "stream",
       "stream": "stdout",
       "text": [
        " 78 patches into 59\n",
        "New VI"
       ]
      },
      {
       "output_type": "stream",
       "stream": "stdout",
       "text": [
        " 1.05041536351\n",
        "--------------------------------------------------------------------------------\n",
        "Merging for sureness s= 0.0927484259009\n",
        "merging 103 150\n",
        "recomputed"
       ]
      },
      {
       "output_type": "stream",
       "stream": "stdout",
       "text": [
        " 70 patches\n",
        "merged"
       ]
      },
      {
       "output_type": "stream",
       "stream": "stdout",
       "text": [
        " 70 patches into 56\n",
        "New VI"
       ]
      },
      {
       "output_type": "stream",
       "stream": "stdout",
       "text": [
        " 1.04958100846\n",
        "--------------------------------------------------------------------------------\n",
        "Merging for sureness s= 0.0920103862882\n",
        "merging 149 150\n",
        "recomputed"
       ]
      },
      {
       "output_type": "stream",
       "stream": "stdout",
       "text": [
        " 98 patches\n",
        "merged"
       ]
      },
      {
       "output_type": "stream",
       "stream": "stdout",
       "text": [
        " 98 patches into 79\n",
        "New VI"
       ]
      },
      {
       "output_type": "stream",
       "stream": "stdout",
       "text": [
        " 1.06635072802\n",
        "--------------------------------------------------------------------------------\n",
        "Merging for sureness s= 0.705207914114\n",
        "merging 150 159\n",
        "recomputed"
       ]
      },
      {
       "output_type": "stream",
       "stream": "stdout",
       "text": [
        " 299 patches\n",
        "merged"
       ]
      },
      {
       "output_type": "stream",
       "stream": "stdout",
       "text": [
        " 299 patches into 172\n",
        "New VI"
       ]
      },
      {
       "output_type": "stream",
       "stream": "stdout",
       "text": [
        " 1.07268386429\n",
        "--------------------------------------------------------------------------------\n",
        "Merging for sureness s= 0.92209482193\n",
        "merging 159 166\n",
        "recomputed"
       ]
      },
      {
       "output_type": "stream",
       "stream": "stdout",
       "text": [
        " 293 patches\n",
        "merged"
       ]
      },
      {
       "output_type": "stream",
       "stream": "stdout",
       "text": [
        " 293 patches into 168\n",
        "New VI"
       ]
      },
      {
       "output_type": "stream",
       "stream": "stdout",
       "text": [
        " 1.10138602184\n",
        "--------------------------------------------------------------------------------\n",
        "Merging for sureness s= 0.961541742086\n",
        "merging 163 166\n",
        "recomputed"
       ]
      },
      {
       "output_type": "stream",
       "stream": "stdout",
       "text": [
        " 62 patches\n",
        "merged"
       ]
      },
      {
       "output_type": "stream",
       "stream": "stdout",
       "text": [
        " 62 patches into 50\n",
        "New VI"
       ]
      },
      {
       "output_type": "stream",
       "stream": "stdout",
       "text": [
        " 1.10290143282\n",
        "--------------------------------------------------------------------------------\n",
        "Merging for sureness s= 0.485236719251\n",
        "merging 78 87\n",
        "recomputed"
       ]
      },
      {
       "output_type": "stream",
       "stream": "stdout",
       "text": [
        " 97 patches\n",
        "merged"
       ]
      },
      {
       "output_type": "stream",
       "stream": "stdout",
       "text": [
        " 97 patches into 70\n",
        "New VI"
       ]
      },
      {
       "output_type": "stream",
       "stream": "stdout",
       "text": [
        " 1.10445155426\n",
        "--------------------------------------------------------------------------------\n",
        "Merging for sureness s= 0.829479753971\n",
        "merging 87 91\n",
        "recomputed"
       ]
      },
      {
       "output_type": "stream",
       "stream": "stdout",
       "text": [
        " 95 patches\n",
        "merged"
       ]
      },
      {
       "output_type": "stream",
       "stream": "stdout",
       "text": [
        " 95 patches into 69\n",
        "New VI"
       ]
      },
      {
       "output_type": "stream",
       "stream": "stdout",
       "text": [
        " 1.10365196592\n",
        "--------------------------------------------------------------------------------\n",
        "Merging for sureness s= 0.999365538359\n",
        "merging 91 96\n",
        "recomputed"
       ]
      },
      {
       "output_type": "stream",
       "stream": "stdout",
       "text": [
        " 89 patches\n",
        "merged"
       ]
      },
      {
       "output_type": "stream",
       "stream": "stdout",
       "text": [
        " 89 patches into 66\n",
        "New VI"
       ]
      },
      {
       "output_type": "stream",
       "stream": "stdout",
       "text": [
        " 1.11033269279\n",
        "--------------------------------------------------------------------------------\n",
        "Merging for sureness s= 0.493395937607\n",
        "merging 68 85\n",
        "recomputed"
       ]
      },
      {
       "output_type": "stream",
       "stream": "stdout",
       "text": [
        " 82 patches\n",
        "merged"
       ]
      },
      {
       "output_type": "stream",
       "stream": "stdout",
       "text": [
        " 82 patches into 63\n",
        "New VI"
       ]
      },
      {
       "output_type": "stream",
       "stream": "stdout",
       "text": [
        " 1.11007618404\n",
        "--------------------------------------------------------------------------------\n",
        "Merging for sureness s= 0.122416111641\n",
        "merging 85 96\n",
        "recomputed"
       ]
      },
      {
       "output_type": "stream",
       "stream": "stdout",
       "text": [
        " 76 patches\n",
        "merged"
       ]
      },
      {
       "output_type": "stream",
       "stream": "stdout",
       "text": [
        " 76 patches into 60\n",
        "New VI"
       ]
      },
      {
       "output_type": "stream",
       "stream": "stdout",
       "text": [
        " 1.10979814197\n",
        "--------------------------------------------------------------------------------\n",
        "Merging for sureness s= 0.120308451355\n",
        "merging 225 234\n",
        "recomputed"
       ]
      },
      {
       "output_type": "stream",
       "stream": "stdout",
       "text": [
        " 96 patches\n",
        "merged"
       ]
      },
      {
       "output_type": "stream",
       "stream": "stdout",
       "text": [
        " 96 patches into 73\n",
        "New VI"
       ]
      },
      {
       "output_type": "stream",
       "stream": "stdout",
       "text": [
        " 1.10903647273\n",
        "--------------------------------------------------------------------------------\n",
        "Merging for sureness s= 0.0915633067489\n",
        "merging 81 82\n",
        "recomputed"
       ]
      },
      {
       "output_type": "stream",
       "stream": "stdout",
       "text": [
        " 53 patches\n",
        "merged"
       ]
      },
      {
       "output_type": "stream",
       "stream": "stdout",
       "text": [
        " 53 patches into 37\n",
        "New VI"
       ]
      },
      {
       "output_type": "stream",
       "stream": "stdout",
       "text": [
        " 1.10832002606\n",
        "--------------------------------------------------------------------------------\n",
        "Merging for sureness s= 0.0882264906541\n",
        "merging 320 326\n",
        "recomputed"
       ]
      },
      {
       "output_type": "stream",
       "stream": "stdout",
       "text": [
        " 24 patches\n",
        "merged"
       ]
      },
      {
       "output_type": "stream",
       "stream": "stdout",
       "text": [
        " 24 patches into 19\n",
        "New VI"
       ]
      },
      {
       "output_type": "stream",
       "stream": "stdout",
       "text": [
        " 1.10820729016\n",
        "--------------------------------------------------------------------------------\n",
        "Merging for sureness s= 0.0809442996979\n",
        "merging 142 152\n",
        "recomputed"
       ]
      },
      {
       "output_type": "stream",
       "stream": "stdout",
       "text": [
        " 46 patches\n",
        "merged"
       ]
      },
      {
       "output_type": "stream",
       "stream": "stdout",
       "text": [
        " 46 patches into 34\n",
        "New VI"
       ]
      },
      {
       "output_type": "stream",
       "stream": "stdout",
       "text": [
        " 1.11247123357\n",
        "--------------------------------------------------------------------------------\n",
        "Merging for sureness s= 0.204888179898\n",
        "merging 169 182\n",
        "recomputed"
       ]
      },
      {
       "output_type": "stream",
       "stream": "stdout",
       "text": [
        " 35 patches\n",
        "merged"
       ]
      },
      {
       "output_type": "stream",
       "stream": "stdout",
       "text": [
        " 35 patches into 28\n",
        "New VI"
       ]
      },
      {
       "output_type": "stream",
       "stream": "stdout",
       "text": [
        " 1.11211664067\n",
        "--------------------------------------------------------------------------------\n",
        "Merging for sureness s= 0.077476888895\n",
        "merging 345 355\n",
        "recomputed"
       ]
      },
      {
       "output_type": "stream",
       "stream": "stdout",
       "text": [
        " 35 patches\n",
        "merged"
       ]
      },
      {
       "output_type": "stream",
       "stream": "stdout",
       "text": [
        " 35 patches into 27\n",
        "New VI"
       ]
      },
      {
       "output_type": "stream",
       "stream": "stdout",
       "text": [
        " 1.11773634762\n",
        "--------------------------------------------------------------------------------\n",
        "Merging for sureness s= 0.0657697943971\n",
        "merging 34 42\n",
        "recomputed"
       ]
      },
      {
       "output_type": "stream",
       "stream": "stdout",
       "text": [
        " 73 patches\n",
        "merged"
       ]
      },
      {
       "output_type": "stream",
       "stream": "stdout",
       "text": [
        " 73 patches into 54\n",
        "New VI"
       ]
      },
      {
       "output_type": "stream",
       "stream": "stdout",
       "text": [
        " 1.11456329108\n",
        "--------------------------------------------------------------------------------\n",
        "Merging for sureness s= 0.0653259469982\n",
        "merging 43 44\n",
        "recomputed"
       ]
      },
      {
       "output_type": "stream",
       "stream": "stdout",
       "text": [
        " 13 patches\n",
        "merged"
       ]
      },
      {
       "output_type": "stream",
       "stream": "stdout",
       "text": [
        " 13 patches into 11\n",
        "New VI"
       ]
      },
      {
       "output_type": "stream",
       "stream": "stdout",
       "text": [
        " 1.11428757963\n",
        "--------------------------------------------------------------------------------\n",
        "Merging for sureness s= 0.065198071301\n",
        "merging 258 259\n",
        "recomputed"
       ]
      },
      {
       "output_type": "stream",
       "stream": "stdout",
       "text": [
        " 24 patches\n",
        "merged"
       ]
      },
      {
       "output_type": "stream",
       "stream": "stdout",
       "text": [
        " 24 patches into 19\n",
        "New VI"
       ]
      },
      {
       "output_type": "stream",
       "stream": "stdout",
       "text": [
        " 1.11439789919\n",
        "--------------------------------------------------------------------------------\n",
        "Merging for sureness s= 0.060552302748\n",
        "merging 283 355\n",
        "recomputed"
       ]
      },
      {
       "output_type": "stream",
       "stream": "stdout",
       "text": [
        " 34 patches\n",
        "merged"
       ]
      },
      {
       "output_type": "stream",
       "stream": "stdout",
       "text": [
        " 34 patches into 26\n",
        "New VI"
       ]
      },
      {
       "output_type": "stream",
       "stream": "stdout",
       "text": [
        " 1.11313575125\n",
        "--------------------------------------------------------------------------------\n",
        "Merging for sureness s= 0.0973333884031\n",
        "merging 276 355\n",
        "recomputed"
       ]
      },
      {
       "output_type": "stream",
       "stream": "stdout",
       "text": [
        " 48 patches\n",
        "merged"
       ]
      },
      {
       "output_type": "stream",
       "stream": "stdout",
       "text": [
        " 48 patches into 34\n",
        "New VI"
       ]
      },
      {
       "output_type": "stream",
       "stream": "stdout",
       "text": [
        " 1.12265676179\n",
        "--------------------------------------------------------------------------------\n",
        "Merging for sureness s= 0.0594632448629\n",
        "merging 127 141\n",
        "recomputed"
       ]
      },
      {
       "output_type": "stream",
       "stream": "stdout",
       "text": [
        " 52 patches\n",
        "merged"
       ]
      },
      {
       "output_type": "stream",
       "stream": "stdout",
       "text": [
        " 52 patches into 43\n",
        "New VI"
       ]
      },
      {
       "output_type": "stream",
       "stream": "stdout",
       "text": [
        " 1.12110309514\n",
        "--------------------------------------------------------------------------------\n",
        "Merging for sureness s= 0.053269892931\n",
        "merging 90 128\n",
        "recomputed"
       ]
      },
      {
       "output_type": "stream",
       "stream": "stdout",
       "text": [
        " 33 patches\n",
        "merged"
       ]
      },
      {
       "output_type": "stream",
       "stream": "stdout",
       "text": [
        " 33 patches into 26\n",
        "New VI"
       ]
      },
      {
       "output_type": "stream",
       "stream": "stdout",
       "text": [
        " 1.12518941685\n",
        "--------------------------------------------------------------------------------\n",
        "Merging for sureness s= 0.521639868617\n",
        "merging 88 128\n",
        "recomputed"
       ]
      },
      {
       "output_type": "stream",
       "stream": "stdout",
       "text": [
        " 43 patches\n",
        "merged"
       ]
      },
      {
       "output_type": "stream",
       "stream": "stdout",
       "text": [
        " 43 patches into 32\n",
        "New VI"
       ]
      },
      {
       "output_type": "stream",
       "stream": "stdout",
       "text": [
        " 1.1308750279\n",
        "--------------------------------------------------------------------------------\n",
        "Merging for sureness s= 0.0505615472794\n",
        "merging 239 260\n",
        "recomputed"
       ]
      },
      {
       "output_type": "stream",
       "stream": "stdout",
       "text": [
        " 56 patches\n",
        "merged"
       ]
      },
      {
       "output_type": "stream",
       "stream": "stdout",
       "text": [
        " 56 patches into 45\n",
        "New VI"
       ]
      },
      {
       "output_type": "stream",
       "stream": "stdout",
       "text": [
        " 1.12963248712\n",
        "--------------------------------------------------------------------------------\n",
        "Merging for sureness s= 0.0481745861471\n",
        "merging 128 138\n",
        "recomputed"
       ]
      },
      {
       "output_type": "stream",
       "stream": "stdout",
       "text": [
        " 116 patches\n",
        "merged"
       ]
      },
      {
       "output_type": "stream",
       "stream": "stdout",
       "text": [
        " 116 patches into 80\n",
        "New VI"
       ]
      },
      {
       "output_type": "stream",
       "stream": "stdout",
       "text": [
        " 1.13990205528\n",
        "--------------------------------------------------------------------------------\n",
        "Merging for sureness s= 0.0433349367231\n",
        "merging 33 38\n",
        "recomputed"
       ]
      },
      {
       "output_type": "stream",
       "stream": "stdout",
       "text": [
        " 92 patches\n",
        "merged"
       ]
      },
      {
       "output_type": "stream",
       "stream": "stdout",
       "text": [
        " 92 patches into 66\n",
        "New VI"
       ]
      },
      {
       "output_type": "stream",
       "stream": "stdout",
       "text": [
        " 1.14316340028\n",
        "--------------------------------------------------------------------------------\n",
        "Merging for sureness s= 0.0341779179871\n",
        "merging 186 246\n",
        "recomputed"
       ]
      },
      {
       "output_type": "stream",
       "stream": "stdout",
       "text": [
        " 64 patches\n",
        "merged"
       ]
      },
      {
       "output_type": "stream",
       "stream": "stdout",
       "text": [
        " 64 patches into 45\n",
        "New VI"
       ]
      },
      {
       "output_type": "stream",
       "stream": "stdout",
       "text": [
        " 1.15271915252\n",
        "--------------------------------------------------------------------------------\n",
        "Merging for sureness s= 0.513902783394\n",
        "merging 246 252\n",
        "recomputed"
       ]
      },
      {
       "output_type": "stream",
       "stream": "stdout",
       "text": [
        " 114 patches\n",
        "merged"
       ]
      },
      {
       "output_type": "stream",
       "stream": "stdout",
       "text": [
        " 114 patches into 81\n",
        "New VI"
       ]
      },
      {
       "output_type": "stream",
       "stream": "stdout",
       "text": [
        " 1.1548299808\n",
        "--------------------------------------------------------------------------------\n",
        "Merging for sureness s= 0.169396683574\n",
        "merging 237 252\n",
        "recomputed"
       ]
      },
      {
       "output_type": "stream",
       "stream": "stdout",
       "text": [
        " 54 patches\n",
        "merged"
       ]
      },
      {
       "output_type": "stream",
       "stream": "stdout",
       "text": [
        " 54 patches into 42\n",
        "New VI"
       ]
      },
      {
       "output_type": "stream",
       "stream": "stdout",
       "text": [
        " 1.16608462875\n",
        "--------------------------------------------------------------------------------\n",
        "Merging for sureness s= 0.0575409540907\n",
        "merging 185 212\n",
        "recomputed"
       ]
      },
      {
       "output_type": "stream",
       "stream": "stdout",
       "text": [
        " 65 patches\n",
        "merged"
       ]
      },
      {
       "output_type": "stream",
       "stream": "stdout",
       "text": [
        " 65 patches into 49\n",
        "New VI"
       ]
      },
      {
       "output_type": "stream",
       "stream": "stdout",
       "text": [
        " 1.16688025456\n",
        "--------------------------------------------------------------------------------\n",
        "Merging for sureness s= 0.0334143415093\n",
        "merging 64 92\n",
        "recomputed"
       ]
      },
      {
       "output_type": "stream",
       "stream": "stdout",
       "text": [
        " 32 patches\n",
        "merged"
       ]
      },
      {
       "output_type": "stream",
       "stream": "stdout",
       "text": [
        " 32 patches into 24\n",
        "New VI"
       ]
      },
      {
       "output_type": "stream",
       "stream": "stdout",
       "text": [
        " 1.17296865633\n",
        "--------------------------------------------------------------------------------\n",
        "Merging for sureness s= 0.219674466178\n",
        "merging 77 92\n",
        "recomputed"
       ]
      },
      {
       "output_type": "stream",
       "stream": "stdout",
       "text": [
        " 85 patches\n",
        "merged"
       ]
      },
      {
       "output_type": "stream",
       "stream": "stdout",
       "text": [
        " 85 patches into 64\n",
        "New VI"
       ]
      },
      {
       "output_type": "stream",
       "stream": "stdout",
       "text": [
        " 1.18816776242\n",
        "--------------------------------------------------------------------------------\n",
        "Merging for sureness s= 0.051537184976\n",
        "merging 92 97\n",
        "recomputed"
       ]
      },
      {
       "output_type": "stream",
       "stream": "stdout",
       "text": [
        " 125 patches\n",
        "merged"
       ]
      },
      {
       "output_type": "stream",
       "stream": "stdout",
       "text": [
        " 125 patches into 83\n",
        "New VI"
       ]
      },
      {
       "output_type": "stream",
       "stream": "stdout",
       "text": [
        " 1.1927351269\n",
        "--------------------------------------------------------------------------------\n",
        "Merging for sureness s= 0.0751153770834\n",
        "merging 61 65\n",
        "recomputed"
       ]
      },
      {
       "output_type": "stream",
       "stream": "stdout",
       "text": [
        " 32 patches\n",
        "merged"
       ]
      },
      {
       "output_type": "stream",
       "stream": "stdout",
       "text": [
        " 32 patches into 26\n",
        "New VI"
       ]
      },
      {
       "output_type": "stream",
       "stream": "stdout",
       "text": [
        " 1.19129248988\n",
        "--------------------------------------------------------------------------------\n",
        "Merging for sureness s= 0.0495965268435\n",
        "merging 44 97\n",
        "recomputed"
       ]
      },
      {
       "output_type": "stream",
       "stream": "stdout",
       "text": [
        " 78 patches\n",
        "merged"
       ]
      },
      {
       "output_type": "stream",
       "stream": "stdout",
       "text": [
        " 78 patches into 54\n",
        "New VI"
       ]
      },
      {
       "output_type": "stream",
       "stream": "stdout",
       "text": [
        " 1.22354082328\n",
        "--------------------------------------------------------------------------------\n",
        "Merging for sureness s= 0.981435853741\n",
        "merging 54 97\n",
        "recomputed"
       ]
      },
      {
       "output_type": "stream",
       "stream": "stdout",
       "text": [
        " 16 patches\n",
        "merged"
       ]
      },
      {
       "output_type": "stream",
       "stream": "stdout",
       "text": [
        " 16 patches into 14\n",
        "New VI"
       ]
      },
      {
       "output_type": "stream",
       "stream": "stdout",
       "text": [
        " 1.22519066173\n",
        "--------------------------------------------------------------------------------\n",
        "Merging for sureness s= 0.305448949337\n",
        "merging 94 97\n",
        "recomputed"
       ]
      },
      {
       "output_type": "stream",
       "stream": "stdout",
       "text": [
        " 59 patches\n",
        "merged"
       ]
      },
      {
       "output_type": "stream",
       "stream": "stdout",
       "text": [
        " 59 patches into 49\n",
        "New VI"
       ]
      },
      {
       "output_type": "stream",
       "stream": "stdout",
       "text": [
        " 1.2275241867\n",
        "--------------------------------------------------------------------------------\n",
        "Merging for sureness s= 0.0333149507642\n",
        "merging 124 166\n",
        "recomputed"
       ]
      },
      {
       "output_type": "stream",
       "stream": "stdout",
       "text": [
        " 79 patches\n",
        "merged"
       ]
      },
      {
       "output_type": "stream",
       "stream": "stdout",
       "text": [
        " 79 patches into 60\n",
        "New VI"
       ]
      },
      {
       "output_type": "stream",
       "stream": "stdout",
       "text": [
        " 1.24196690088\n",
        "--------------------------------------------------------------------------------\n",
        "Merging for sureness s= 0.0502910961593\n",
        "merging 166 198\n",
        "recomputed"
       ]
      },
      {
       "output_type": "stream",
       "stream": "stdout",
       "text": [
        " 218 patches\n",
        "merged"
       ]
      },
      {
       "output_type": "stream",
       "stream": "stdout",
       "text": [
        " 218 patches into 129\n",
        "New VI"
       ]
      },
      {
       "output_type": "stream",
       "stream": "stdout",
       "text": [
        " 1.38816305972\n",
        "--------------------------------------------------------------------------------\n",
        "Merging for sureness s= 0.689828221834\n",
        "merging 119 198\n",
        "recomputed"
       ]
      },
      {
       "output_type": "stream",
       "stream": "stdout",
       "text": [
        " 56 patches\n",
        "merged"
       ]
      },
      {
       "output_type": "stream",
       "stream": "stdout",
       "text": [
        " 56 patches into 50\n",
        "New VI"
       ]
      },
      {
       "output_type": "stream",
       "stream": "stdout",
       "text": [
        " 1.38985690819\n",
        "--------------------------------------------------------------------------------\n",
        "Merging for sureness s= 0.0397638566792\n",
        "merging 144 198\n",
        "recomputed"
       ]
      },
      {
       "output_type": "stream",
       "stream": "stdout",
       "text": [
        " 58 patches\n",
        "merged"
       ]
      },
      {
       "output_type": "stream",
       "stream": "stdout",
       "text": [
        " 58 patches into 49\n",
        "New VI"
       ]
      },
      {
       "output_type": "stream",
       "stream": "stdout",
       "text": [
        " 1.39212520401\n",
        "--------------------------------------------------------------------------------\n",
        "Merging for sureness s= 0.861248630083\n",
        "merging 143 198\n",
        "recomputed"
       ]
      },
      {
       "output_type": "stream",
       "stream": "stdout",
       "text": [
        " 54 patches\n",
        "merged"
       ]
      },
      {
       "output_type": "stream",
       "stream": "stdout",
       "text": [
        " 54 patches into 48\n",
        "New VI"
       ]
      },
      {
       "output_type": "stream",
       "stream": "stdout",
       "text": [
        " 1.39650878072\n",
        "--------------------------------------------------------------------------------\n",
        "Merging for sureness s= 0.0300494078547\n",
        "merging 212 219\n",
        "recomputed"
       ]
      },
      {
       "output_type": "stream",
       "stream": "stdout",
       "text": [
        " 63 patches\n",
        "merged"
       ]
      },
      {
       "output_type": "stream",
       "stream": "stdout",
       "text": [
        " 63 patches into 47\n",
        "New VI"
       ]
      },
      {
       "output_type": "stream",
       "stream": "stdout",
       "text": [
        " 1.39646042515\n",
        "--------------------------------------------------------------------------------\n",
        "Merging for sureness s= 0.325597021729\n",
        "merging 210 219\n",
        "recomputed"
       ]
      },
      {
       "output_type": "stream",
       "stream": "stdout",
       "text": [
        " 75 patches\n",
        "merged"
       ]
      },
      {
       "output_type": "stream",
       "stream": "stdout",
       "text": [
        " 75 patches into 55\n",
        "New VI"
       ]
      },
      {
       "output_type": "stream",
       "stream": "stdout",
       "text": [
        " 1.40371438038\n",
        "--------------------------------------------------------------------------------\n",
        "Merging for sureness s= 0.129579694131\n",
        "merging 219 252\n",
        "recomputed"
       ]
      },
      {
       "output_type": "stream",
       "stream": "stdout",
       "text": [
        " 92 patches\n",
        "merged"
       ]
      },
      {
       "output_type": "stream",
       "stream": "stdout",
       "text": [
        " 92 patches into 64\n",
        "New VI"
       ]
      },
      {
       "output_type": "stream",
       "stream": "stdout",
       "text": [
        " 1.43534704037\n",
        "--------------------------------------------------------------------------------\n",
        "Merging for sureness s= 0.980181848839\n",
        "merging 231 252\n",
        "recomputed"
       ]
      },
      {
       "output_type": "stream",
       "stream": "stdout",
       "text": [
        " 22 patches\n",
        "merged"
       ]
      },
      {
       "output_type": "stream",
       "stream": "stdout",
       "text": [
        " 22 patches into 21\n",
        "New VI"
       ]
      },
      {
       "output_type": "stream",
       "stream": "stdout",
       "text": [
        " 1.43684816876\n",
        "--------------------------------------------------------------------------------\n",
        "Merging for sureness s= 0.709030151367\n",
        "merging 252 352\n",
        "recomputed"
       ]
      },
      {
       "output_type": "stream",
       "stream": "stdout",
       "text": [
        " 191 patches\n",
        "merged"
       ]
      },
      {
       "output_type": "stream",
       "stream": "stdout",
       "text": [
        " 191 patches into 138\n",
        "New VI"
       ]
      },
      {
       "output_type": "stream",
       "stream": "stdout",
       "text": [
        " 1.5068488894\n",
        "--------------------------------------------------------------------------------\n",
        "Merging for sureness s= 0.0999199226499\n",
        "merging 259 352\n",
        "recomputed"
       ]
      },
      {
       "output_type": "stream",
       "stream": "stdout",
       "text": [
        " 48 patches\n",
        "merged"
       ]
      },
      {
       "output_type": "stream",
       "stream": "stdout",
       "text": [
        " 48 patches into 38\n",
        "New VI"
       ]
      },
      {
       "output_type": "stream",
       "stream": "stdout",
       "text": [
        " 1.51626529396\n",
        "--------------------------------------------------------------------------------\n",
        "Merging for sureness s= 0.0293469965691\n",
        "merging 183 188\n",
        "recomputed"
       ]
      },
      {
       "output_type": "stream",
       "stream": "stdout",
       "text": [
        " 62 patches\n",
        "merged"
       ]
      },
      {
       "output_type": "stream",
       "stream": "stdout",
       "text": [
        " 62 patches into 52\n",
        "New VI"
       ]
      },
      {
       "output_type": "stream",
       "stream": "stdout",
       "text": [
        " 1.51612711982\n",
        "--------------------------------------------------------------------------------\n",
        "Merging for sureness s= 0.0270073600113\n",
        "merging 114 121\n",
        "recomputed"
       ]
      },
      {
       "output_type": "stream",
       "stream": "stdout",
       "text": [
        " 67 patches\n",
        "merged"
       ]
      },
      {
       "output_type": "stream",
       "stream": "stdout",
       "text": [
        " 67 patches into 56\n",
        "New VI"
       ]
      },
      {
       "output_type": "stream",
       "stream": "stdout",
       "text": [
        " 1.51628265147\n",
        "--------------------------------------------------------------------------------\n",
        "Merging for sureness s= 0.202043088153\n",
        "merging 121 198\n",
        "recomputed"
       ]
      },
      {
       "output_type": "stream",
       "stream": "stdout",
       "text": [
        " 83 patches\n",
        "merged"
       ]
      },
      {
       "output_type": "stream",
       "stream": "stdout",
       "text": [
        " 83 patches into 66\n",
        "New VI"
       ]
      },
      {
       "output_type": "stream",
       "stream": "stdout",
       "text": [
        " 1.52630287626\n",
        "--------------------------------------------------------------------------------\n",
        "Merging for sureness s= 0.025162242353\n",
        "merging 253 256\n",
        "recomputed"
       ]
      },
      {
       "output_type": "stream",
       "stream": "stdout",
       "text": [
        " 66 patches\n",
        "merged"
       ]
      },
      {
       "output_type": "stream",
       "stream": "stdout",
       "text": [
        " 66 patches into 56\n",
        "New VI"
       ]
      },
      {
       "output_type": "stream",
       "stream": "stdout",
       "text": [
        " 1.52667337093\n",
        "--------------------------------------------------------------------------------\n",
        "Merging for sureness s= 0.0245506633073\n",
        "merging 105 138\n",
        "recomputed"
       ]
      },
      {
       "output_type": "stream",
       "stream": "stdout",
       "text": [
        " 21 patches\n",
        "merged"
       ]
      },
      {
       "output_type": "stream",
       "stream": "stdout",
       "text": [
        " 21 patches into 17\n",
        "New VI"
       ]
      },
      {
       "output_type": "stream",
       "stream": "stdout",
       "text": [
        " 1.52805374446\n",
        "--------------------------------------------------------------------------------\n",
        "Merging for sureness s= 0.0242212433368\n",
        "merging 38 198\n",
        "recomputed"
       ]
      },
      {
       "output_type": "stream",
       "stream": "stdout",
       "text": [
        " 98 patches\n",
        "merged"
       ]
      },
      {
       "output_type": "stream",
       "stream": "stdout",
       "text": [
        " 98 patches into 72\n",
        "New VI"
       ]
      },
      {
       "output_type": "stream",
       "stream": "stdout",
       "text": [
        " 1.57622281582\n",
        "--------------------------------------------------------------------------------\n",
        "Merging for sureness s= 0.022138879227\n",
        "merging 156 161\n",
        "recomputed"
       ]
      },
      {
       "output_type": "stream",
       "stream": "stdout",
       "text": [
        " 39 patches\n",
        "merged"
       ]
      },
      {
       "output_type": "stream",
       "stream": "stdout",
       "text": [
        " 39 patches into 29\n",
        "New VI"
       ]
      },
      {
       "output_type": "stream",
       "stream": "stdout",
       "text": [
        " 1.57660405418\n",
        "--------------------------------------------------------------------------------\n",
        "Merging for sureness s= 0.0221190396696\n",
        "merging 95 99\n",
        "recomputed"
       ]
      },
      {
       "output_type": "stream",
       "stream": "stdout",
       "text": [
        " 26 patches\n",
        "merged"
       ]
      },
      {
       "output_type": "stream",
       "stream": "stdout",
       "text": [
        " 26 patches into 19\n",
        "New VI"
       ]
      },
      {
       "output_type": "stream",
       "stream": "stdout",
       "text": [
        " 1.57710521394\n",
        "--------------------------------------------------------------------------------\n",
        "Merging for sureness s= 0.0217921119183\n",
        "merging 70 79\n",
        "recomputed"
       ]
      },
      {
       "output_type": "stream",
       "stream": "stdout",
       "text": [
        " 77 patches\n",
        "merged"
       ]
      },
      {
       "output_type": "stream",
       "stream": "stdout",
       "text": [
        " 77 patches into 65\n",
        "New VI"
       ]
      },
      {
       "output_type": "stream",
       "stream": "stdout",
       "text": [
        " 1.57724150281\n",
        "--------------------------------------------------------------------------------\n",
        "Merging for sureness s= 0.0185625832528\n",
        "merging 157 182\n",
        "recomputed"
       ]
      },
      {
       "output_type": "stream",
       "stream": "stdout",
       "text": [
        " 44 patches\n",
        "merged"
       ]
      },
      {
       "output_type": "stream",
       "stream": "stdout",
       "text": [
        " 44 patches into 33\n",
        "New VI"
       ]
      },
      {
       "output_type": "stream",
       "stream": "stdout",
       "text": [
        " 1.58043821909\n",
        "--------------------------------------------------------------------------------\n",
        "Merging for sureness s= 0.0178892724216\n",
        "merging 248 352\n",
        "recomputed"
       ]
      },
      {
       "output_type": "stream",
       "stream": "stdout",
       "text": [
        " 124 patches\n",
        "merged"
       ]
      },
      {
       "output_type": "stream",
       "stream": "stdout",
       "text": [
        " 124 patches into 100\n",
        "New VI"
       ]
      },
      {
       "output_type": "stream",
       "stream": "stdout",
       "text": [
        " 1.60545789717\n",
        "--------------------------------------------------------------------------------\n",
        "Merging for sureness s= 0.0177842229605\n",
        "merging 291 314\n",
        "recomputed"
       ]
      },
      {
       "output_type": "stream",
       "stream": "stdout",
       "text": [
        " 42 patches\n",
        "merged"
       ]
      },
      {
       "output_type": "stream",
       "stream": "stdout",
       "text": [
        " 42 patches into 38\n",
        "New VI"
       ]
      },
      {
       "output_type": "stream",
       "stream": "stdout",
       "text": [
        " 1.60980712565\n",
        "--------------------------------------------------------------------------------\n",
        "Merging for sureness s= 0.0212469389662\n",
        "merging 314 328\n",
        "recomputed"
       ]
      },
      {
       "output_type": "stream",
       "stream": "stdout",
       "text": [
        " 46 patches\n",
        "merged"
       ]
      },
      {
       "output_type": "stream",
       "stream": "stdout",
       "text": [
        " 46 patches into 40\n",
        "New VI"
       ]
      },
      {
       "output_type": "stream",
       "stream": "stdout",
       "text": [
        " 1.63438847466\n",
        "--------------------------------------------------------------------------------\n",
        "Merging for sureness s= 0.0521556064487\n",
        "merging 328 341\n",
        "recomputed"
       ]
      },
      {
       "output_type": "stream",
       "stream": "stdout",
       "text": [
        " 78 patches\n",
        "merged"
       ]
      },
      {
       "output_type": "stream",
       "stream": "stdout",
       "text": [
        " 78 patches into 50\n",
        "New VI"
       ]
      },
      {
       "output_type": "stream",
       "stream": "stdout",
       "text": [
        " 1.63560230716\n",
        "--------------------------------------------------------------------------------\n",
        "Merging for sureness s= 0.0171128381044\n",
        "merging 63 74\n",
        "recomputed"
       ]
      },
      {
       "output_type": "stream",
       "stream": "stdout",
       "text": [
        " 98 patches\n",
        "merged"
       ]
      },
      {
       "output_type": "stream",
       "stream": "stdout",
       "text": [
        " 98 patches into 76\n",
        "New VI"
       ]
      },
      {
       "output_type": "stream",
       "stream": "stdout",
       "text": [
        " 1.63479695415\n",
        "--------------------------------------------------------------------------------\n",
        "Merging for sureness s= 0.0127881038934\n",
        "merging 135 174\n",
        "recomputed"
       ]
      },
      {
       "output_type": "stream",
       "stream": "stdout",
       "text": [
        " 97 patches\n",
        "merged"
       ]
      },
      {
       "output_type": "stream",
       "stream": "stdout",
       "text": [
        " 97 patches into 72\n",
        "New VI"
       ]
      },
      {
       "output_type": "stream",
       "stream": "stdout",
       "text": [
        " 1.63502290577\n",
        "--------------------------------------------------------------------------------\n",
        "Merging for sureness s= 0.0117030031979\n",
        "merging 204 352\n",
        "recomputed"
       ]
      },
      {
       "output_type": "stream",
       "stream": "stdout",
       "text": [
        " 85 patches\n",
        "merged"
       ]
      },
      {
       "output_type": "stream",
       "stream": "stdout",
       "text": [
        " 85 patches into 63\n",
        "New VI"
       ]
      },
      {
       "output_type": "stream",
       "stream": "stdout",
       "text": [
        " 1.66943636197\n",
        "--------------------------------------------------------------------------------\n",
        "Merging for sureness s= 0.295977964997\n",
        "merging 152 352\n",
        "recomputed"
       ]
      },
      {
       "output_type": "stream",
       "stream": "stdout",
       "text": [
        " 88 patches\n",
        "merged"
       ]
      },
      {
       "output_type": "stream",
       "stream": "stdout",
       "text": [
        " 88 patches into 64\n",
        "New VI"
       ]
      },
      {
       "output_type": "stream",
       "stream": "stdout",
       "text": [
        " 1.69671147467\n",
        "--------------------------------------------------------------------------------\n",
        "Merging for sureness s= 0.257188727688\n",
        "merging 182 352\n",
        "recomputed"
       ]
      },
      {
       "output_type": "stream",
       "stream": "stdout",
       "text": [
        " 67 patches\n",
        "merged"
       ]
      },
      {
       "output_type": "stream",
       "stream": "stdout",
       "text": [
        " 67 patches into 52\n",
        "New VI"
       ]
      },
      {
       "output_type": "stream",
       "stream": "stdout",
       "text": [
        " 1.71530917606\n",
        "--------------------------------------------------------------------------------\n",
        "Merging for sureness s= 0.810769708455\n",
        "merging 197 352\n",
        "recomputed"
       ]
      },
      {
       "output_type": "stream",
       "stream": "stdout",
       "text": [
        " 37 patches\n",
        "merged"
       ]
      },
      {
       "output_type": "stream",
       "stream": "stdout",
       "text": [
        " 37 patches into 35\n",
        "New VI"
       ]
      },
      {
       "output_type": "stream",
       "stream": "stdout",
       "text": [
        " 1.71871863148\n",
        "--------------------------------------------------------------------------------\n",
        "Merging for sureness s= 0.792244493961\n",
        "merging 171 352\n",
        "recomputed"
       ]
      },
      {
       "output_type": "stream",
       "stream": "stdout",
       "text": [
        " 53 patches\n",
        "merged"
       ]
      },
      {
       "output_type": "stream",
       "stream": "stdout",
       "text": [
        " 53 patches into 42\n",
        "New VI"
       ]
      },
      {
       "output_type": "stream",
       "stream": "stdout",
       "text": [
        " 1.73258840025\n",
        "--------------------------------------------------------------------------------\n",
        "Merging for sureness s= 0.0195108950138\n",
        "merging 132 352\n",
        "recomputed"
       ]
      },
      {
       "output_type": "stream",
       "stream": "stdout",
       "text": [
        " 60 patches\n",
        "merged"
       ]
      },
      {
       "output_type": "stream",
       "stream": "stdout",
       "text": [
        " 60 patches into 50\n",
        "New VI"
       ]
      },
      {
       "output_type": "stream",
       "stream": "stdout",
       "text": [
        " 1.74611566394\n",
        "--------------------------------------------------------------------------------\n",
        "Merging for sureness s= 0.0112796537578\n",
        "merging 62 97\n",
        "recomputed"
       ]
      },
      {
       "output_type": "stream",
       "stream": "stdout",
       "text": [
        " 22 patches\n",
        "merged"
       ]
      },
      {
       "output_type": "stream",
       "stream": "stdout",
       "text": [
        " 22 patches into 18\n",
        "New VI"
       ]
      },
      {
       "output_type": "stream",
       "stream": "stdout",
       "text": [
        " 1.74927632799\n",
        "--------------------------------------------------------------------------------\n",
        "Merging for sureness s= 0.0111202679109\n",
        "merging 201 202\n",
        "recomputed"
       ]
      },
      {
       "output_type": "stream",
       "stream": "stdout",
       "text": [
        " 45 patches\n",
        "merged"
       ]
      },
      {
       "output_type": "stream",
       "stream": "stdout",
       "text": [
        " 45 patches into 38\n",
        "New VI"
       ]
      },
      {
       "output_type": "stream",
       "stream": "stdout",
       "text": [
        " 1.74912218302\n",
        "--------------------------------------------------------------------------------\n",
        "Merging for sureness s= 0.00989824626595\n",
        "merging 229 352\n",
        "recomputed"
       ]
      },
      {
       "output_type": "stream",
       "stream": "stdout",
       "text": [
        " 44 patches\n",
        "merged"
       ]
      },
      {
       "output_type": "stream",
       "stream": "stdout",
       "text": [
        " 44 patches into 38\n",
        "New VI"
       ]
      },
      {
       "output_type": "stream",
       "stream": "stdout",
       "text": [
        " 1.75378360519\n",
        "--------------------------------------------------------------------------------\n",
        "Merging for sureness s= 0.0721650738269\n",
        "merging 222 352\n",
        "recomputed"
       ]
      },
      {
       "output_type": "stream",
       "stream": "stdout",
       "text": [
        " 41 patches\n",
        "merged"
       ]
      },
      {
       "output_type": "stream",
       "stream": "stdout",
       "text": [
        " 41 patches into 35\n",
        "New VI"
       ]
      },
      {
       "output_type": "stream",
       "stream": "stdout",
       "text": [
        " 1.75677463499\n",
        "--------------------------------------------------------------------------------\n",
        "Merging for sureness s= 0.00948217173573\n",
        "merging 293 326\n",
        "recomputed"
       ]
      },
      {
       "output_type": "stream",
       "stream": "stdout",
       "text": [
        " 93 patches\n",
        "merged"
       ]
      },
      {
       "output_type": "stream",
       "stream": "stdout",
       "text": [
        " 93 patches into 73\n",
        "New VI"
       ]
      },
      {
       "output_type": "stream",
       "stream": "stdout",
       "text": [
        " 1.75512699071\n",
        "--------------------------------------------------------------------------------\n",
        "Merging for sureness s= 0.00902084223344\n",
        "merging 76 99\n",
        "recomputed"
       ]
      },
      {
       "output_type": "stream",
       "stream": "stdout",
       "text": [
        " 69 patches\n",
        "merged"
       ]
      },
      {
       "output_type": "stream",
       "stream": "stdout",
       "text": [
        " 69 patches into 55\n",
        "New VI"
       ]
      },
      {
       "output_type": "stream",
       "stream": "stdout",
       "text": [
        " 1.75387863907\n",
        "--------------------------------------------------------------------------------\n",
        "Merging for sureness s= 0.00727092800662\n",
        "merging 154 160\n",
        "recomputed"
       ]
      },
      {
       "output_type": "stream",
       "stream": "stdout",
       "text": [
        " 93 patches\n",
        "merged"
       ]
      },
      {
       "output_type": "stream",
       "stream": "stdout",
       "text": [
        " 93 patches into 70\n",
        "New VI"
       ]
      },
      {
       "output_type": "stream",
       "stream": "stdout",
       "text": [
        " 1.75398273643\n",
        "--------------------------------------------------------------------------------\n",
        "Merging for sureness s= 0.0541511664633\n",
        "merging 160 198\n",
        "recomputed"
       ]
      },
      {
       "output_type": "stream",
       "stream": "stdout",
       "text": [
        " 87 patches\n",
        "merged"
       ]
      },
      {
       "output_type": "stream",
       "stream": "stdout",
       "text": [
        " 87 patches into 68\n",
        "New VI"
       ]
      },
      {
       "output_type": "stream",
       "stream": "stdout",
       "text": [
        " 1.76527464639\n",
        "--------------------------------------------------------------------------------\n",
        "Merging for sureness s= 0.386811276571\n",
        "merging 174 198\n",
        "recomputed"
       ]
      },
      {
       "output_type": "stream",
       "stream": "stdout",
       "text": [
        " 76 patches\n",
        "merged"
       ]
      },
      {
       "output_type": "stream",
       "stream": "stdout",
       "text": [
        " 76 patches into 62\n",
        "New VI"
       ]
      },
      {
       "output_type": "stream",
       "stream": "stdout",
       "text": [
        " 1.78420368641\n",
        "--------------------------------------------------------------------------------\n",
        "Merging for sureness s= 0.0779839847237\n",
        "merging 180 198\n",
        "recomputed"
       ]
      },
      {
       "output_type": "stream",
       "stream": "stdout",
       "text": [
        " 98 patches\n",
        "merged"
       ]
      },
      {
       "output_type": "stream",
       "stream": "stdout",
       "text": [
        " 98 patches into 82\n",
        "New VI"
       ]
      },
      {
       "output_type": "stream",
       "stream": "stdout",
       "text": [
        " 1.79844640611\n",
        "--------------------------------------------------------------------------------\n",
        "Merging for sureness s= 0.00633549457416\n",
        "merging 242 260\n",
        "recomputed"
       ]
      },
      {
       "output_type": "stream",
       "stream": "stdout",
       "text": [
        " 59 patches\n",
        "merged"
       ]
      },
      {
       "output_type": "stream",
       "stream": "stdout",
       "text": [
        " 59 patches into 51\n",
        "New VI"
       ]
      },
      {
       "output_type": "stream",
       "stream": "stdout",
       "text": [
        " 1.79698328385\n",
        "--------------------------------------------------------------------------------\n",
        "Merging for sureness s= 0.0078352605924\n",
        "merging 216 260\n",
        "recomputed"
       ]
      },
      {
       "output_type": "stream",
       "stream": "stdout",
       "text": [
        " 59 patches\n",
        "merged"
       ]
      },
      {
       "output_type": "stream",
       "stream": "stdout",
       "text": [
        " 59 patches into 50\n",
        "New VI"
       ]
      },
      {
       "output_type": "stream",
       "stream": "stdout",
       "text": [
        " 1.79809087622\n",
        "--------------------------------------------------------------------------------\n",
        "Merging for sureness s= 0.215715326369\n",
        "merging 198 260\n",
        "recomputed"
       ]
      },
      {
       "output_type": "stream",
       "stream": "stdout",
       "text": [
        " 312 patches\n",
        "merged"
       ]
      },
      {
       "output_type": "stream",
       "stream": "stdout",
       "text": [
        " 312 patches into 180\n",
        "New VI"
       ]
      },
      {
       "output_type": "stream",
       "stream": "stdout",
       "text": [
        " 1.88323720079\n",
        "--------------------------------------------------------------------------------\n",
        "Merging for sureness s= 0.00825450976845\n",
        "merging 139 260\n",
        "recomputed"
       ]
      },
      {
       "output_type": "stream",
       "stream": "stdout",
       "text": [
        " 56 patches\n",
        "merged"
       ]
      },
      {
       "output_type": "stream",
       "stream": "stdout",
       "text": [
        " 56 patches into 48\n",
        "New VI"
       ]
      },
      {
       "output_type": "stream",
       "stream": "stdout",
       "text": [
        " 1.8838828531\n",
        "--------------------------------------------------------------------------------\n",
        "Merging for sureness s= 0.0082412911579\n",
        "merging 65 74\n",
        "recomputed"
       ]
      },
      {
       "output_type": "stream",
       "stream": "stdout",
       "text": [
        " 27 patches\n",
        "merged"
       ]
      },
      {
       "output_type": "stream",
       "stream": "stdout",
       "text": [
        " 27 patches into 21\n",
        "New VI"
       ]
      },
      {
       "output_type": "stream",
       "stream": "stdout",
       "text": [
        " 1.88532555561\n",
        "--------------------------------------------------------------------------------\n",
        "Merging for sureness s= 0.00824026350165\n",
        "merging 187 196\n",
        "recomputed"
       ]
      },
      {
       "output_type": "stream",
       "stream": "stdout",
       "text": [
        " 68 patches\n",
        "merged"
       ]
      },
      {
       "output_type": "stream",
       "stream": "stdout",
       "text": [
        " 68 patches into 53\n",
        "New VI"
       ]
      },
      {
       "output_type": "stream",
       "stream": "stdout",
       "text": [
        " 1.8862172932\n",
        "--------------------------------------------------------------------------------\n",
        "Merging for sureness s= 0.00623523723334\n",
        "merging 338 344\n",
        "recomputed"
       ]
      },
      {
       "output_type": "stream",
       "stream": "stdout",
       "text": [
        " 13 patches\n",
        "merged"
       ]
      },
      {
       "output_type": "stream",
       "stream": "stdout",
       "text": [
        " 13 patches into 10\n",
        "New VI"
       ]
      },
      {
       "output_type": "stream",
       "stream": "stdout",
       "text": [
        " 1.88733349144\n",
        "--------------------------------------------------------------------------------\n",
        "Merging for sureness s= 0.34743328765\n",
        "merging 330 344\n",
        "recomputed"
       ]
      },
      {
       "output_type": "stream",
       "stream": "stdout",
       "text": [
        " 22 patches\n",
        "merged"
       ]
      },
      {
       "output_type": "stream",
       "stream": "stdout",
       "text": [
        " 22 patches into 16\n",
        "New VI"
       ]
      },
      {
       "output_type": "stream",
       "stream": "stdout",
       "text": [
        " 1.88885464993\n",
        "--------------------------------------------------------------------------------\n",
        "Merging for sureness s= 0.0383177828044\n",
        "merging 318 344\n",
        "recomputed"
       ]
      },
      {
       "output_type": "stream",
       "stream": "stdout",
       "text": [
        " 28 patches\n",
        "merged"
       ]
      },
      {
       "output_type": "stream",
       "stream": "stdout",
       "text": [
        " 28 patches into 24\n",
        "New VI"
       ]
      },
      {
       "output_type": "stream",
       "stream": "stdout",
       "text": [
        " 1.88697130614\n",
        "--------------------------------------------------------------------------------\n",
        "Merging for sureness s= 0.539698168635\n",
        "merging 307 344\n",
        "recomputed"
       ]
      },
      {
       "output_type": "stream",
       "stream": "stdout",
       "text": [
        " 47 patches\n",
        "merged"
       ]
      },
      {
       "output_type": "stream",
       "stream": "stdout",
       "text": [
        " 47 patches into 34\n",
        "New VI"
       ]
      },
      {
       "output_type": "stream",
       "stream": "stdout",
       "text": [
        " 1.89867505498\n",
        "--------------------------------------------------------------------------------\n",
        "Merging for sureness s= 0.363075405359\n",
        "merging 344 350\n",
        "recomputed"
       ]
      },
      {
       "output_type": "stream",
       "stream": "stdout",
       "text": [
        " 70 patches\n",
        "merged"
       ]
      },
      {
       "output_type": "stream",
       "stream": "stdout",
       "text": [
        " 70 patches into 49\n",
        "New VI"
       ]
      },
      {
       "output_type": "stream",
       "stream": "stdout",
       "text": [
        " 1.89810519373\n",
        "--------------------------------------------------------------------------------\n",
        "Merging for sureness s= 0.00876338360831\n",
        "merging 302 309\n",
        "recomputed"
       ]
      },
      {
       "output_type": "stream",
       "stream": "stdout",
       "text": [
        " 39 patches\n",
        "merged"
       ]
      },
      {
       "output_type": "stream",
       "stream": "stdout",
       "text": [
        " 39 patches into 29\n",
        "New VI"
       ]
      },
      {
       "output_type": "stream",
       "stream": "stdout",
       "text": [
        " 1.89872389374\n",
        "--------------------------------------------------------------------------------\n",
        "Merging for sureness s= 0.0287724053487\n",
        "merging 290 309\n",
        "recomputed"
       ]
      },
      {
       "output_type": "stream",
       "stream": "stdout",
       "text": [
        " 78 patches\n",
        "merged"
       ]
      },
      {
       "output_type": "stream",
       "stream": "stdout",
       "text": [
        " 78 patches into 59\n",
        "New VI"
       ]
      },
      {
       "output_type": "stream",
       "stream": "stdout",
       "text": [
        " 1.9027287832\n",
        "--------------------------------------------------------------------------------\n",
        "Merging for sureness s= 0.00579501595348\n",
        "merging 113 260\n",
        "recomputed"
       ]
      },
      {
       "output_type": "stream",
       "stream": "stdout",
       "text": [
        " 63 patches\n",
        "merged"
       ]
      },
      {
       "output_type": "stream",
       "stream": "stdout",
       "text": [
        " 63 patches into 55\n",
        "New VI"
       ]
      },
      {
       "output_type": "stream",
       "stream": "stdout",
       "text": [
        " 1.90231412774\n",
        "--------------------------------------------------------------------------------\n",
        "Merging for sureness s= 0.00558064784855\n",
        "merging 234 260\n",
        "recomputed"
       ]
      },
      {
       "output_type": "stream",
       "stream": "stdout",
       "text": [
        " 58 patches\n",
        "merged"
       ]
      },
      {
       "output_type": "stream",
       "stream": "stdout",
       "text": [
        " 58 patches into 48\n",
        "New VI"
       ]
      },
      {
       "output_type": "stream",
       "stream": "stdout",
       "text": [
        " 1.91987975101\n",
        "--------------------------------------------------------------------------------\n",
        "Merging for sureness s= 0.0865166066214\n",
        "merging 196 260\n",
        "recomputed"
       ]
      },
      {
       "output_type": "stream",
       "stream": "stdout",
       "text": [
        " 57 patches\n",
        "merged"
       ]
      },
      {
       "output_type": "stream",
       "stream": "stdout",
       "text": [
        " 57 patches into 46\n",
        "New VI"
       ]
      },
      {
       "output_type": "stream",
       "stream": "stdout",
       "text": [
        " 1.93024809688\n",
        "--------------------------------------------------------------------------------\n",
        "Merging for sureness s= 0.0572286807001\n",
        "merging 200 260\n",
        "recomputed"
       ]
      },
      {
       "output_type": "stream",
       "stream": "stdout",
       "text": [
        " 51 patches\n",
        "merged"
       ]
      },
      {
       "output_type": "stream",
       "stream": "stdout",
       "text": [
        " 51 patches into 44\n",
        "New VI"
       ]
      },
      {
       "output_type": "stream",
       "stream": "stdout",
       "text": [
        " 1.93604500232\n",
        "--------------------------------------------------------------------------------\n",
        "Merging for sureness s= 0.00509684067219\n",
        "merging 57 260\n",
        "recomputed"
       ]
      },
      {
       "output_type": "stream",
       "stream": "stdout",
       "text": [
        " 62 patches\n",
        "merged"
       ]
      },
      {
       "output_type": "stream",
       "stream": "stdout",
       "text": [
        " 62 patches into 52\n",
        "New VI"
       ]
      },
      {
       "output_type": "stream",
       "stream": "stdout",
       "text": [
        " 1.93976035579\n",
        "--------------------------------------------------------------------------------\n",
        "Merging for sureness s= 0.052419077605\n",
        "merging 51 260\n",
        "recomputed"
       ]
      },
      {
       "output_type": "stream",
       "stream": "stdout",
       "text": [
        " 56 patches\n",
        "merged"
       ]
      },
      {
       "output_type": "stream",
       "stream": "stdout",
       "text": [
        " 56 patches into 50\n",
        "New VI"
       ]
      },
      {
       "output_type": "stream",
       "stream": "stdout",
       "text": [
        " 1.94157371891\n",
        "--------------------------------------------------------------------------------\n",
        "Merging for sureness s= 0.00490943482146\n",
        "merging 161 260\n",
        "recomputed"
       ]
      },
      {
       "output_type": "stream",
       "stream": "stdout",
       "text": [
        " 89 patches\n",
        "merged"
       ]
      },
      {
       "output_type": "stream",
       "stream": "stdout",
       "text": [
        " 89 patches into 74\n",
        "New VI"
       ]
      },
      {
       "output_type": "stream",
       "stream": "stdout",
       "text": [
        " 1.94921797304\n",
        "--------------------------------------------------------------------------------\n",
        "Merging for sureness s= 0.0392993269488\n",
        "merging 136 260\n",
        "recomputed"
       ]
      },
      {
       "output_type": "stream",
       "stream": "stdout",
       "text": [
        " 89 patches\n",
        "merged"
       ]
      },
      {
       "output_type": "stream",
       "stream": "stdout",
       "text": [
        " 89 patches into 74\n",
        "New VI"
       ]
      },
      {
       "output_type": "stream",
       "stream": "stdout",
       "text": [
        " 1.9594433972\n",
        "--------------------------------------------------------------------------------\n",
        "Merging for sureness s= 0.00487307459116\n",
        "merging 82 89\n",
        "recomputed"
       ]
      },
      {
       "output_type": "stream",
       "stream": "stdout",
       "text": [
        " 28 patches\n",
        "merged"
       ]
      },
      {
       "output_type": "stream",
       "stream": "stdout",
       "text": [
        " 28 patches into 23\n",
        "New VI"
       ]
      },
      {
       "output_type": "stream",
       "stream": "stdout",
       "text": [
        " 1.96012506704\n",
        "--------------------------------------------------------------------------------\n",
        "Merging for sureness s= 0.306920390576\n",
        "merging 89 138\n",
        "recomputed"
       ]
      },
      {
       "output_type": "stream",
       "stream": "stdout",
       "text": [
        " 26 patches\n",
        "merged"
       ]
      },
      {
       "output_type": "stream",
       "stream": "stdout",
       "text": [
        " 26 patches into 21\n",
        "New VI"
       ]
      },
      {
       "output_type": "stream",
       "stream": "stdout",
       "text": [
        " 1.96671961233\n",
        "--------------------------------------------------------------------------------\n",
        "Merging for sureness s= 0.998034417629\n",
        "merging 74 138\n",
        "recomputed"
       ]
      },
      {
       "output_type": "stream",
       "stream": "stdout",
       "text": [
        " 71 patches\n",
        "merged"
       ]
      },
      {
       "output_type": "stream",
       "stream": "stdout",
       "text": [
        " 71 patches into 55\n",
        "New VI"
       ]
      },
      {
       "output_type": "stream",
       "stream": "stdout",
       "text": [
        " 1.97517297463\n",
        "--------------------------------------------------------------------------------\n",
        "Merging for sureness s= 0.918484210968\n",
        "merging 97 138\n",
        "recomputed"
       ]
      },
      {
       "output_type": "stream",
       "stream": "stdout",
       "text": [
        " 79 patches\n",
        "merged"
       ]
      },
      {
       "output_type": "stream",
       "stream": "stdout",
       "text": [
        " 79 patches into 53\n",
        "New VI"
       ]
      },
      {
       "output_type": "stream",
       "stream": "stdout",
       "text": [
        " 2.03259529274\n",
        "--------------------------------------------------------------------------------\n",
        "Merging for sureness s= 0.93751180172\n",
        "merging 83 138\n",
        "recomputed"
       ]
      },
      {
       "output_type": "stream",
       "stream": "stdout",
       "text": [
        " 62 patches\n",
        "merged"
       ]
      },
      {
       "output_type": "stream",
       "stream": "stdout",
       "text": [
        " 62 patches into 47\n",
        "New VI"
       ]
      },
      {
       "output_type": "stream",
       "stream": "stdout",
       "text": [
        " 2.04288126451\n",
        "--------------------------------------------------------------------------------\n",
        "Merging for sureness s= 0.00853261724114\n",
        "merging 98 138\n",
        "recomputed"
       ]
      },
      {
       "output_type": "stream",
       "stream": "stdout",
       "text": [
        " 14 patches\n",
        "merged"
       ]
      },
      {
       "output_type": "stream",
       "stream": "stdout",
       "text": [
        " 14 patches into 11\n",
        "New VI"
       ]
      },
      {
       "output_type": "stream",
       "stream": "stdout",
       "text": [
        " 2.04891184553\n",
        "--------------------------------------------------------------------------------\n",
        "Merging for sureness s= 0.0183481732383\n",
        "merging 107 138\n",
        "recomputed"
       ]
      },
      {
       "output_type": "stream",
       "stream": "stdout",
       "text": [
        " 59 patches\n",
        "merged"
       ]
      },
      {
       "output_type": "stream",
       "stream": "stdout",
       "text": [
        " 59 patches into 45\n",
        "New VI"
       ]
      },
      {
       "output_type": "stream",
       "stream": "stdout",
       "text": [
        " 2.05983770391\n",
        "--------------------------------------------------------------------------------\n",
        "Merging for sureness s= 0.830460518599\n",
        "merging 118 138\n",
        "recomputed"
       ]
      },
      {
       "output_type": "stream",
       "stream": "stdout",
       "text": [
        " 58 patches\n",
        "merged"
       ]
      },
      {
       "output_type": "stream",
       "stream": "stdout",
       "text": [
        " 58 patches into 42\n",
        "New VI"
       ]
      },
      {
       "output_type": "stream",
       "stream": "stdout",
       "text": [
        " 2.06465590897\n",
        "--------------------------------------------------------------------------------\n",
        "Merging for sureness s= 0.00494049023837\n",
        "merging 99 138\n",
        "recomputed"
       ]
      },
      {
       "output_type": "stream",
       "stream": "stdout",
       "text": [
        " 54 patches\n",
        "merged"
       ]
      },
      {
       "output_type": "stream",
       "stream": "stdout",
       "text": [
        " 54 patches into 41\n",
        "New VI"
       ]
      },
      {
       "output_type": "stream",
       "stream": "stdout",
       "text": [
        " 2.06947083425\n",
        "--------------------------------------------------------------------------------\n",
        "Merging for sureness s= 0.00993582992086\n",
        "merging 138 260\n",
        "recomputed"
       ]
      },
      {
       "output_type": "stream",
       "stream": "stdout",
       "text": [
        " 58 patches\n",
        "merged"
       ]
      },
      {
       "output_type": "stream",
       "stream": "stdout",
       "text": [
        " 58 patches into 37\n",
        "New VI"
       ]
      },
      {
       "output_type": "stream",
       "stream": "stdout",
       "text": [
        " 2.28022096064\n",
        "--------------------------------------------------------------------------------\n",
        "Merging for sureness s= 0.847376422294\n",
        "merging 72 260\n",
        "recomputed"
       ]
      },
      {
       "output_type": "stream",
       "stream": "stdout",
       "text": [
        " 40 patches\n",
        "merged"
       ]
      },
      {
       "output_type": "stream",
       "stream": "stdout",
       "text": [
        " 40 patches into 33\n",
        "New VI"
       ]
      },
      {
       "output_type": "stream",
       "stream": "stdout",
       "text": [
        " 2.2884193161\n",
        "--------------------------------------------------------------------------------\n",
        "Merging for sureness s= 0.779279434303\n",
        "merging 123 260\n",
        "recomputed"
       ]
      },
      {
       "output_type": "stream",
       "stream": "stdout",
       "text": [
        " 38 patches\n",
        "merged"
       ]
      },
      {
       "output_type": "stream",
       "stream": "stdout",
       "text": [
        " 38 patches into 32\n",
        "New VI"
       ]
      },
      {
       "output_type": "stream",
       "stream": "stdout",
       "text": [
        " 2.28814496557\n",
        "--------------------------------------------------------------------------------\n",
        "Merging for sureness s= 0.761375799333\n",
        "merging 126 260\n",
        "recomputed"
       ]
      },
      {
       "output_type": "stream",
       "stream": "stdout",
       "text": [
        " 36 patches\n",
        "merged"
       ]
      },
      {
       "output_type": "stream",
       "stream": "stdout",
       "text": [
        " 36 patches into 31\n",
        "New VI"
       ]
      },
      {
       "output_type": "stream",
       "stream": "stdout",
       "text": [
        " 2.28955962971\n",
        "--------------------------------------------------------------------------------\n",
        "Merging for sureness s= 0.0325887054205\n",
        "merging 49 260\n",
        "recomputed"
       ]
      },
      {
       "output_type": "stream",
       "stream": "stdout",
       "text": [
        " 37 patches\n",
        "merged"
       ]
      },
      {
       "output_type": "stream",
       "stream": "stdout",
       "text": [
        " 37 patches into 31\n",
        "New VI"
       ]
      },
      {
       "output_type": "stream",
       "stream": "stdout",
       "text": [
        " 2.28952071901\n",
        "--------------------------------------------------------------------------------\n",
        "Merging for sureness s= 0.0114251775667\n",
        "merging 42 260\n",
        "recomputed"
       ]
      },
      {
       "output_type": "stream",
       "stream": "stdout",
       "text": [
        " 33 patches\n",
        "merged"
       ]
      },
      {
       "output_type": "stream",
       "stream": "stdout",
       "text": [
        " 33 patches into 29\n",
        "New VI"
       ]
      },
      {
       "output_type": "stream",
       "stream": "stdout",
       "text": [
        " 2.31733755916\n",
        "--------------------------------------------------------------------------------\n",
        "Merging for sureness s= 0.00462652635473\n",
        "merging 339 341\n",
        "recomputed"
       ]
      },
      {
       "output_type": "stream",
       "stream": "stdout",
       "text": [
        " 32 patches\n",
        "merged"
       ]
      },
      {
       "output_type": "stream",
       "stream": "stdout",
       "text": [
        " 32 patches into 22\n",
        "New VI"
       ]
      },
      {
       "output_type": "stream",
       "stream": "stdout",
       "text": [
        " 2.33534819251\n",
        "--------------------------------------------------------------------------------\n",
        "Merging for sureness s= 0.847836266809\n",
        "merging 321 341\n",
        "recomputed"
       ]
      },
      {
       "output_type": "stream",
       "stream": "stdout",
       "text": [
        " 10 patches\n",
        "merged"
       ]
      },
      {
       "output_type": "stream",
       "stream": "stdout",
       "text": [
        " 10 patches into 10\n",
        "New VI"
       ]
      },
      {
       "output_type": "stream",
       "stream": "stdout",
       "text": [
        " 2.33641965316\n",
        "--------------------------------------------------------------------------------\n",
        "Merging for sureness s= 0.0805548578501\n",
        "merging 264 341\n",
        "recomputed"
       ]
      },
      {
       "output_type": "stream",
       "stream": "stdout",
       "text": [
        " 59 patches\n",
        "merged"
       ]
      },
      {
       "output_type": "stream",
       "stream": "stdout",
       "text": [
        " 59 patches into 46\n",
        "New VI"
       ]
      },
      {
       "output_type": "stream",
       "stream": "stdout",
       "text": [
        " 2.35702646603\n",
        "--------------------------------------------------------------------------------\n",
        "Merging for sureness s= 0.0044182385318\n",
        "merging 341 346\n",
        "recomputed"
       ]
      },
      {
       "output_type": "stream",
       "stream": "stdout",
       "text": [
        " 74 patches\n",
        "merged"
       ]
      },
      {
       "output_type": "stream",
       "stream": "stdout",
       "text": [
        " 74 patches into 49\n",
        "New VI"
       ]
      },
      {
       "output_type": "stream",
       "stream": "stdout",
       "text": [
        " 2.39153498634\n",
        "--------------------------------------------------------------------------------\n",
        "Merging for sureness s= 0.00414275033366\n",
        "merging 20 260\n"
       ]
      },
      {
       "ename": "KeyboardInterrupt",
       "evalue": "",
       "output_type": "pyerr",
       "traceback": [
        "\u001b[0;31m---------------------------------------------------------------------------\u001b[0m\n\u001b[0;31mKeyboardInterrupt\u001b[0m                         Traceback (most recent call last)",
        "\u001b[0;32m<ipython-input-12-8bae7ad40050>\u001b[0m in \u001b[0;36m<module>\u001b[0;34m()\u001b[0m\n\u001b[1;32m     12\u001b[0m     \u001b[0msurenesses\u001b[0m\u001b[0;34m.\u001b[0m\u001b[0mappend\u001b[0m\u001b[0;34m(\u001b[0m\u001b[0mm_new\u001b[0m\u001b[0;34m.\u001b[0m\u001b[0mmax\u001b[0m\u001b[0;34m(\u001b[0m\u001b[0;34m)\u001b[0m\u001b[0;34m)\u001b[0m\u001b[0;34m\u001b[0m\u001b[0m\n\u001b[1;32m     13\u001b[0m \u001b[0;34m\u001b[0m\u001b[0m\n\u001b[0;32m---> 14\u001b[0;31m     \u001b[0mm_new\u001b[0m\u001b[0;34m,\u001b[0m \u001b[0mout\u001b[0m \u001b[0;34m=\u001b[0m \u001b[0mmerge\u001b[0m\u001b[0;34m(\u001b[0m\u001b[0mimage\u001b[0m\u001b[0;34m,\u001b[0m \u001b[0mout\u001b[0m\u001b[0;34m,\u001b[0m \u001b[0mprob\u001b[0m\u001b[0;34m,\u001b[0m \u001b[0mm_new\u001b[0m\u001b[0;34m)\u001b[0m\u001b[0;34m\u001b[0m\u001b[0m\n\u001b[0m\u001b[1;32m     15\u001b[0m \u001b[0;34m\u001b[0m\u001b[0m\n\u001b[1;32m     16\u001b[0m     \u001b[0mvi\u001b[0m \u001b[0;34m=\u001b[0m \u001b[0mpartition_comparison\u001b[0m\u001b[0;34m.\u001b[0m\u001b[0mvariation_of_information\u001b[0m\u001b[0;34m(\u001b[0m\u001b[0mout\u001b[0m\u001b[0;34m.\u001b[0m\u001b[0mravel\u001b[0m\u001b[0;34m(\u001b[0m\u001b[0;34m)\u001b[0m\u001b[0;34m,\u001b[0m \u001b[0mgold_normalized\u001b[0m\u001b[0;34m.\u001b[0m\u001b[0mravel\u001b[0m\u001b[0;34m(\u001b[0m\u001b[0;34m)\u001b[0m\u001b[0;34m)\u001b[0m\u001b[0;34m\u001b[0m\u001b[0m\n",
        "\u001b[0;32m<ipython-input-11-aaf4062143fa>\u001b[0m in \u001b[0;36mmerge\u001b[0;34m(image, seg, prob, m_old, sureness)\u001b[0m\n\u001b[1;32m    236\u001b[0m                 \u001b[0;32mcontinue\u001b[0m\u001b[0;34m\u001b[0m\u001b[0m\n\u001b[1;32m    237\u001b[0m \u001b[0;34m\u001b[0m\u001b[0m\n\u001b[0;32m--> 238\u001b[0;31m             \u001b[0mp\u001b[0m \u001b[0;34m=\u001b[0m \u001b[0mgrab_patch\u001b[0m\u001b[0;34m(\u001b[0m\u001b[0mimage\u001b[0m\u001b[0;34m,\u001b[0m \u001b[0mprob\u001b[0m\u001b[0;34m,\u001b[0m \u001b[0mout\u001b[0m\u001b[0;34m,\u001b[0m \u001b[0mn\u001b[0m\u001b[0;34m,\u001b[0m \u001b[0mk\u001b[0m\u001b[0;34m)\u001b[0m\u001b[0;34m\u001b[0m\u001b[0m\n\u001b[0m\u001b[1;32m    239\u001b[0m             \u001b[0;32mif\u001b[0m \u001b[0;32mnot\u001b[0m \u001b[0mp\u001b[0m\u001b[0;34m:\u001b[0m\u001b[0;34m\u001b[0m\u001b[0m\n\u001b[1;32m    240\u001b[0m                 \u001b[0;32mcontinue\u001b[0m\u001b[0;34m\u001b[0m\u001b[0m\n",
        "\u001b[0;32m<ipython-input-11-aaf4062143fa>\u001b[0m in \u001b[0;36mgrab_patch\u001b[0;34m(image, prob, segmentation, l, n, patch_size)\u001b[0m\n\u001b[1;32m     13\u001b[0m     \u001b[0mborders\u001b[0m \u001b[0;34m=\u001b[0m \u001b[0mmh\u001b[0m\u001b[0;34m.\u001b[0m\u001b[0mlabeled\u001b[0m\u001b[0;34m.\u001b[0m\u001b[0mborder\u001b[0m\u001b[0;34m(\u001b[0m\u001b[0msegmentation\u001b[0m\u001b[0;34m,\u001b[0m \u001b[0ml\u001b[0m\u001b[0;34m,\u001b[0m \u001b[0mn\u001b[0m\u001b[0;34m)\u001b[0m\u001b[0;34m\u001b[0m\u001b[0m\n\u001b[1;32m     14\u001b[0m \u001b[0;34m\u001b[0m\u001b[0m\n\u001b[0;32m---> 15\u001b[0;31m     \u001b[0mborders_labeled\u001b[0m \u001b[0;34m=\u001b[0m \u001b[0mskimage\u001b[0m\u001b[0;34m.\u001b[0m\u001b[0mmeasure\u001b[0m\u001b[0;34m.\u001b[0m\u001b[0mlabel\u001b[0m\u001b[0;34m(\u001b[0m\u001b[0mborders\u001b[0m\u001b[0;34m)\u001b[0m\u001b[0;34m\u001b[0m\u001b[0m\n\u001b[0m\u001b[1;32m     16\u001b[0m \u001b[0;34m\u001b[0m\u001b[0m\n\u001b[1;32m     17\u001b[0m     \u001b[0mpatches\u001b[0m \u001b[0;34m=\u001b[0m \u001b[0;34m[\u001b[0m\u001b[0;34m]\u001b[0m\u001b[0;34m\u001b[0m\u001b[0m\n",
        "\u001b[0;32m/Library/Python/2.7/site-packages/skimage/measure/_label.pyc\u001b[0m in \u001b[0;36mlabel\u001b[0;34m(input, neighbors, background, return_num, connectivity)\u001b[0m\n\u001b[1;32m      3\u001b[0m def label(input, neighbors=None, background=None, return_num=False,\n\u001b[1;32m      4\u001b[0m         connectivity=None):\n\u001b[0;32m----> 5\u001b[0;31m     \u001b[0;32mreturn\u001b[0m \u001b[0m_label\u001b[0m\u001b[0;34m(\u001b[0m\u001b[0minput\u001b[0m\u001b[0;34m,\u001b[0m \u001b[0mneighbors\u001b[0m\u001b[0;34m,\u001b[0m \u001b[0mbackground\u001b[0m\u001b[0;34m,\u001b[0m \u001b[0mreturn_num\u001b[0m\u001b[0;34m,\u001b[0m \u001b[0mconnectivity\u001b[0m\u001b[0;34m)\u001b[0m\u001b[0;34m\u001b[0m\u001b[0m\n\u001b[0m\u001b[1;32m      6\u001b[0m \u001b[0;34m\u001b[0m\u001b[0m\n\u001b[1;32m      7\u001b[0m \u001b[0mlabel\u001b[0m\u001b[0;34m.\u001b[0m\u001b[0m__doc__\u001b[0m \u001b[0;34m=\u001b[0m \u001b[0m_label\u001b[0m\u001b[0;34m.\u001b[0m\u001b[0m__doc__\u001b[0m\u001b[0;34m\u001b[0m\u001b[0m\n",
        "\u001b[0;31mKeyboardInterrupt\u001b[0m: "
       ]
      }
     ],
     "prompt_number": 12
    },
    {
     "cell_type": "code",
     "collapsed": false,
     "input": [
      "before_VI = partition_comparison.variation_of_information(gold_normalized.ravel(), seg.ravel())\n",
      "\n",
      "index = vi_s.index(min(vi_s))\n",
      "print 'Before VI', before_VI\n",
      "print 'Lowest VI', vi_s[index]\n",
      "print 'Iterations', index\n",
      "print 'Sureness', surenesses[index]"
     ],
     "language": "python",
     "metadata": {},
     "outputs": [
      {
       "output_type": "stream",
       "stream": "stdout",
       "text": [
        " Before VI 0.817429945458\n",
        "Lowest VI 0.798932407801\n",
        "Iterations 31\n",
        "Sureness 0.901962429285\n"
       ]
      }
     ],
     "prompt_number": 14
    },
    {
     "cell_type": "code",
     "collapsed": false,
     "input": [
      "import matplotlib.pyplot as plt\n",
      "# create plot\n",
      "new_rhoana = propagate_max_overlap(seg, gold_normalized)\n",
      "target_vi = partition_comparison.variation_of_information(new_rhoana.ravel(), gold_normalized.ravel())\n",
      "\n",
      "bins = np.arange(0, len(vi_s))#np.arange(len(vi_s), 0, -1)\n",
      "# bins /= 100\n",
      "\n",
      "vi_s_ = vi_s #[x for (y,x) in sorted(zip(surenesses, vi_s))]\n",
      "surenesses_ = bins #surenesses#[y for (y,x) in sorted(zip(surenesses, vi_s))]\n",
      "\n",
      "original_vi = [before_VI]*len(vi_s)\n",
      "target_vi = [target_vi]*len(vi_s)\n",
      "\n",
      "fig, ax = plt.subplots()\n",
      "\n",
      "ax.plot(surenesses_, target_vi, 'k--', label='Target VI')\n",
      "ax.plot(surenesses_, vi_s_, 'k', label='Variation of Information')\n",
      "ax.plot(surenesses_, original_vi, 'k:', label='Rhoana VI before')\n",
      "# ax.set_yscale('log')\n",
      "\n",
      "# Now add the legend with some customizations.\n",
      "legend = ax.legend(loc='upper center', shadow=True)\n",
      "ax.set_ylim([0.6,1.5])\n",
      "\n",
      "# The frame is matplotlib.patches.Rectangle instance surrounding the legend.\n",
      "frame = legend.get_frame()\n",
      "frame.set_facecolor('0.90')\n",
      "\n",
      "# Set the fontsize\n",
      "for label in legend.get_texts():\n",
      "    label.set_fontsize('large')\n",
      "\n",
      "for label in legend.get_lines():\n",
      "    label.set_linewidth(1.5)  # the legend line width\n"
     ],
     "language": "python",
     "metadata": {},
     "outputs": [
      {
       "metadata": {},
       "output_type": "display_data",
       "png": "[encoded data removed]",
       "text": [
        "<matplotlib.figure.Figure at 0x1b5e35650>"
       ]
      }
     ],
     "prompt_number": 475
    },
    {
     "cell_type": "code",
     "collapsed": false,
     "input": [
      "import matplotlib.pyplot as plt\n",
      "# create plot\n",
      "new_rhoana = propagate_max_overlap(seg, gold_normalized)\n",
      "target_vi = partition_comparison.variation_of_information(new_rhoana.ravel(), gold_normalized.ravel())\n",
      "\n",
      "bins = np.arange(0, len(vi_s))#np.arange(len(vi_s), 0, -1)\n",
      "# bins /= 100\n",
      "\n",
      "vi_s_ = vi_s #[x for (y,x) in sorted(zip(surenesses, vi_s))]\n",
      "surenesses_ = bins #surenesses#[y for (y,x) in sorted(zip(surenesses, vi_s))]\n",
      "\n",
      "original_vi = [before_VI]*len(vi_s)\n",
      "target_vi = [target_vi]*len(vi_s)\n",
      "\n",
      "fig, ax = plt.subplots()\n",
      "\n",
      "ax.plot(surenesses_, target_vi, 'k--', label='Target VI')\n",
      "ax.plot(surenesses_, vi_s_, 'k', label='Variation of Information')\n",
      "ax.plot(surenesses_, original_vi, 'k:', label='Rhoana VI before')\n",
      "# ax.set_yscale('log')\n",
      "\n",
      "# Now add the legend with some customizations.\n",
      "legend = ax.legend(loc='upper center', shadow=True)\n",
      "# ax.set_ylim([0.6,1.5])\n",
      "\n",
      "# The frame is matplotlib.patches.Rectangle instance surrounding the legend.\n",
      "frame = legend.get_frame()\n",
      "frame.set_facecolor('0.90')\n",
      "\n",
      "# Set the fontsize\n",
      "for label in legend.get_texts():\n",
      "    label.set_fontsize('large')\n",
      "\n",
      "for label in legend.get_lines():\n",
      "    label.set_linewidth(1.5)  # the legend line width"
     ],
     "language": "python",
     "metadata": {},
     "outputs": [
      {
       "metadata": {},
       "output_type": "display_data",
       "png": "[encoded data removed]",
       "text": [
        "<matplotlib.figure.Figure at 0x1b592ed90>"
       ]
      }
     ],
     "prompt_number": 19
    },
    {
     "cell_type": "code",
     "collapsed": false,
     "input": [
      "len(vi_s)"
     ],
     "language": "python",
     "metadata": {},
     "outputs": [
      {
       "metadata": {},
       "output_type": "pyout",
       "prompt_number": 20,
       "text": [
        "208"
       ]
      }
     ],
     "prompt_number": 20
    },
    {
     "cell_type": "code",
     "collapsed": false,
     "input": [
      "mh.im"
     ],
     "language": "python",
     "metadata": {},
     "outputs": []
    }
   ],
   "metadata": {}
  }
 ]
}