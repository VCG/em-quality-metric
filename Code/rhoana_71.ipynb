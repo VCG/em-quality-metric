{
 "metadata": {
  "name": "",
  "signature": "sha256:5e007c74a6624768bfe164f21f9e23afd34941c066c772fbe1f2cd263e0ac4a8"
 },
 "nbformat": 3,
 "nbformat_minor": 0,
 "worksheets": [
  {
   "cells": [
    {
     "cell_type": "code",
     "collapsed": false,
     "input": [
      "%load_ext autoreload\n",
      "%autoreload 2\n",
      "\n",
      "from matplotlib.pyplot import imshow\n",
      "%matplotlib inline\n",
      "\n",
      "import _metrics"
     ],
     "language": "python",
     "metadata": {},
     "outputs": [
      {
       "output_type": "stream",
       "stream": "stderr",
       "text": [
        "_metrics/tifffile.py:1995: UserWarning: failed to import _tifffile.decodepackbits\n",
        "  warnings.warn(\"failed to import %s\" % module_function)\n",
        "_metrics/tifffile.py:1995: UserWarning: failed to import _tifffile.decodelzw\n",
        "  warnings.warn(\"failed to import %s\" % module_function)\n",
        "_metrics/tifffile.py:1995: UserWarning: failed to import _tifffile.unpackints\n",
        "  warnings.warn(\"failed to import %s\" % module_function)\n"
       ]
      }
     ],
     "prompt_number": 1
    },
    {
     "cell_type": "code",
     "collapsed": false,
     "input": [
      "\n",
      "import cv2\n",
      "import glob\n",
      "import numpy as np\n",
      "import mahotas as mh\n",
      "import os\n",
      "import uuid\n",
      "import tifffile as tif\n",
      "from scipy import ndimage as nd\n",
      "from scipy.misc import imrotate\n",
      "import skimage.measure\n",
      "from skimage import img_as_ubyte\n",
      "import random\n",
      "import cPickle as pickle\n",
      "import time\n",
      "import partition_comparison\n",
      "\n",
      "DATA_PATH = '/Volumes/DATA1/EMQM_DATA/ac3x75/'\n",
      "GOLD_PATH = os.path.join(DATA_PATH,'gold/')\n",
      "RHOANA_PATH = os.path.join(DATA_PATH,'rhoana/')\n",
      "IMAGE_PATH = os.path.join(DATA_PATH,'input/')\n",
      "PROB_PATH = os.path.join(DATA_PATH,'prob/')\n",
      "PATCH_PATH = os.path.join(DATA_PATH,'test_rhoana/')\n",
      "\n",
      "\n",
      "gold = _metrics.Util.read(GOLD_PATH+'*.tif')\n",
      "rhoana = _metrics.Util.read(RHOANA_PATH+'*.tif')\n",
      "images = _metrics.Util.read(IMAGE_PATH+'*.tif')\n",
      "probs = _metrics.Util.read(PROB_PATH+'*.tif')"
     ],
     "language": "python",
     "metadata": {},
     "outputs": [
      {
       "output_type": "stream",
       "stream": "stdout",
       "text": [
        "Loaded 75 images.\n",
        "Loaded"
       ]
      },
      {
       "output_type": "stream",
       "stream": "stdout",
       "text": [
        " 75 images.\n",
        "Loaded"
       ]
      },
      {
       "output_type": "stream",
       "stream": "stdout",
       "text": [
        " 75 images.\n",
        "Loaded"
       ]
      },
      {
       "output_type": "stream",
       "stream": "stdout",
       "text": [
        " 75 images.\n"
       ]
      },
      {
       "output_type": "stream",
       "stream": "stderr",
       "text": [
        "tifffile.py:1995: UserWarning: failed to import _tifffile.decodepackbits\n",
        "  warnings.warn(\"failed to import %s\" % module_function)\n",
        "tifffile.py:1995: UserWarning: failed to import _tifffile.decodelzw\n",
        "  warnings.warn(\"failed to import %s\" % module_function)\n",
        "tifffile.py:1995: UserWarning: failed to import _tifffile.unpackints\n",
        "  warnings.warn(\"failed to import %s\" % module_function)\n"
       ]
      }
     ],
     "prompt_number": 2
    },
    {
     "cell_type": "code",
     "collapsed": false,
     "input": [
      "SLICE = 71"
     ],
     "language": "python",
     "metadata": {},
     "outputs": [],
     "prompt_number": 3
    },
    {
     "cell_type": "code",
     "collapsed": false,
     "input": [
      "image = images[SLICE]\n",
      "prob = probs[SLICE]\n",
      "seg = _metrics.Util.normalize_labels(rhoana[SLICE])[0]\n",
      "\n",
      "# fill and normalize gold\n",
      "gold_zeros = _metrics.Util.threshold(gold[SLICE], 0)\n",
      "gold_filled = _metrics.Util.fill(gold[SLICE], gold_zeros.astype(np.bool))\n",
      "gold_filled_relabeled = skimage.measure.label(gold_filled).astype(np.uint64)\n",
      "gold_normalized = _metrics.Util.normalize_labels(gold_filled_relabeled)[0]\n",
      "\n",
      "# color both segmentations\n",
      "cm = _metrics.Util.load_colormap('/Volumes/DATA1/ac3x75/mojo/ids/colorMap.hdf5')\n",
      "colored_rhoana_normalized = cm[seg % len(cm)]\n",
      "colored_gold_normalized = cm[gold_normalized % len(cm)]\n"
     ],
     "language": "python",
     "metadata": {},
     "outputs": [],
     "prompt_number": 4
    },
    {
     "cell_type": "code",
     "collapsed": false,
     "input": [
      "def grab_neighbors(array, label):\n",
      "\n",
      "    thresholded_array = _metrics.Util.threshold(array, label)\n",
      "    thresholded_array_dilated = mh.dilate(thresholded_array.astype(np.uint64))\n",
      "\n",
      "    all_neighbors = np.unique(array[thresholded_array_dilated == thresholded_array_dilated.max()].astype(np.uint64))\n",
      "    all_neighbors = np.delete(all_neighbors, np.where(all_neighbors == label))\n",
      "\n",
      "    return all_neighbors\n",
      "\n",
      "def grab_patch(image, prob, segmentation, l, n, patch_size=(75,75)):\n",
      "\n",
      "    borders = mh.labeled.border(segmentation, l, n)\n",
      "\n",
      "    borders_labeled = skimage.measure.label(borders)\n",
      "    \n",
      "    patches = []\n",
      "    \n",
      "    # check if we need multiple patches because of multiple borders\n",
      "    for b in range(1,borders_labeled.max()+1):\n",
      "#         print 'patch for border', b\n",
      "        \n",
      "        border = _metrics.Util.threshold(borders_labeled, b)\n",
      "\n",
      "        border_yx = indices = zip(*np.where(border==1))\n",
      "\n",
      "        # fault check if no border is found\n",
      "        if len(border_yx) < 2:\n",
      "            print 'no border', l, n, 'border', b\n",
      "            continue\n",
      "\n",
      "        #\n",
      "        # calculate border center properly\n",
      "        #\n",
      "        node = mh.center_of_mass(border)\n",
      "        nodes = border_yx\n",
      "        nodes = np.asarray(nodes)\n",
      "        deltas = nodes - node\n",
      "        dist_2 = np.einsum('ij,ij->i', deltas, deltas)\n",
      "        border_center = border_yx[np.argmin(dist_2)]\n",
      "\n",
      "        # check if border_center is too close to the 4 edges\n",
      "        new_border_center = [border_center[0], border_center[1]]\n",
      "        if border_center[0] < patch_size[0]/2:\n",
      "            return None\n",
      "        if border_center[0]+patch_size[0]/2 >= segmentation.shape[0]:\n",
      "            return None\n",
      "        if border_center[1] < patch_size[1]/2:\n",
      "            return None\n",
      "        if border_center[1]+patch_size[1]/2 >= segmentation.shape[1]:\n",
      "            return None\n",
      "\n",
      "        bbox = [new_border_center[0]-patch_size[0]/2, \n",
      "                new_border_center[0]+patch_size[0]/2,\n",
      "                new_border_center[1]-patch_size[1]/2, \n",
      "                new_border_center[1]+patch_size[1]/2]\n",
      "\n",
      "        ### workaround to not sample white border of probability map\n",
      "        if bbox[0] <= 33:\n",
      "            return None\n",
      "        if bbox[1] >= segmentation.shape[0]-33:\n",
      "            return None\n",
      "        if bbox[2] <= 33:\n",
      "            return None\n",
      "        if bbox[3] >= segmentation.shape[1]-33:\n",
      "            return None\n",
      "\n",
      "\n",
      "        # threshold for label1\n",
      "        array1 = _metrics.Util.threshold(segmentation, l).astype(np.uint8)\n",
      "        # threshold for label2\n",
      "        array2 = _metrics.Util.threshold(segmentation, n).astype(np.uint8)\n",
      "        merged_array = array1 + array2\n",
      "\n",
      "        # dilate for overlap\n",
      "        dilated_array1 = np.array(array1)\n",
      "        dilated_array2 = np.array(array2)\n",
      "        for o in range(10):\n",
      "            dilated_array1 = mh.dilate(dilated_array1.astype(np.uint64))\n",
      "            dilated_array2 = mh.dilate(dilated_array2.astype(np.uint64))\n",
      "        overlap = np.logical_and(dilated_array1, dilated_array2)\n",
      "        overlap[merged_array == 0] = 0\n",
      "\n",
      "        output = {}\n",
      "        output['id'] = str(uuid.uuid4())\n",
      "        output['image'] = image[bbox[0]:bbox[1] + 1, bbox[2]:bbox[3] + 1]\n",
      "        output['prob'] = prob[bbox[0]:bbox[1] + 1, bbox[2]:bbox[3] + 1]\n",
      "        output['l'] = l\n",
      "        output['n'] = n\n",
      "        output['bbox'] = bbox\n",
      "        output['border'] = border_yx\n",
      "        output['border_center'] = new_border_center\n",
      "        output['binary1'] = array1[bbox[0]:bbox[1] + 1, bbox[2]:bbox[3] + 1].astype(np.bool)\n",
      "        output['binary2'] = array2[bbox[0]:bbox[1] + 1, bbox[2]:bbox[3] + 1].astype(np.bool)\n",
      "        output['overlap'] = overlap[bbox[0]:bbox[1] + 1, bbox[2]:bbox[3] + 1].astype(np.bool)\n",
      "\n",
      "        patches.append(output)\n",
      "        \n",
      "    return patches\n",
      "    \n",
      "    \n",
      "\n",
      "def loop(image, prob, segmentation):\n",
      "    labels = range(1,len(_metrics.Util.get_histogram(segmentation.astype(np.uint64))))\n",
      "\n",
      "    patches = []\n",
      "    \n",
      "    for l in labels:\n",
      "        neighbors = grab_neighbors(segmentation, l)\n",
      "        for n in neighbors:\n",
      "            p = grab_patch(image, prob, segmentation, l, n)\n",
      "            if not p:\n",
      "                continue\n",
      "                \n",
      "            patches += p\n",
      "            \n",
      "    return patches\n",
      "\n",
      "def fill_matrix(m, patches):\n",
      "    \n",
      "    patch_grouper = {}\n",
      "    for p in patches:\n",
      "        # create key\n",
      "        minlabel = min(p['l'], p['n'])\n",
      "        maxlabel = max(p['l'], p['n'])\n",
      "        key = str(minlabel)+'-'+str(maxlabel)\n",
      "\n",
      "        if not key in patch_grouper:\n",
      "            patch_grouper[key] = []\n",
      "\n",
      "        patch_grouper[key] += [p]\n",
      "\n",
      "    # now average the probabilities\n",
      "    for k in patch_grouper.keys():\n",
      "\n",
      "        weights = []\n",
      "        predictions = []\n",
      "\n",
      "        for p in patch_grouper[k]:\n",
      "\n",
      "             weights.append(len(p['border']))\n",
      "             predictions.append(test_patch(val_fn, p))\n",
      "\n",
      "        if len(patch_grouper[k]) == 1:\n",
      "            weights[0] = 1\n",
      "\n",
      "        p_sum = 0\n",
      "        w_sum = 0\n",
      "        for i,w in enumerate(weights):\n",
      "            # weighted arithmetic mean\n",
      "            p_sum += w*predictions[i]\n",
      "            w_sum += w\n",
      "\n",
      "        p_sum /= w_sum\n",
      "\n",
      "        patch_grouper[k] = p_sum\n",
      "\n",
      "    for p in patch_grouper.keys():\n",
      "        l = int(p.split('-')[0])\n",
      "        n = int(p.split('-')[1])\n",
      "        \n",
      "        m[l,n] = patch_grouper[p]\n",
      "        \n",
      "    print 'merged', len(patches), 'patches into', len(patch_grouper.keys())\n",
      "        \n",
      "    return m\n",
      "\n",
      "            \n",
      "def setup_n():\n",
      "    from test_cnn_vis import TestCNN\n",
      "    t = TestCNN('7b76867e-c76a-416f-910a-7065e93c616a', 'patches_large2new')\n",
      "    val_fn = t.run()\n",
      "    \n",
      "    return val_fn\n",
      "            \n",
      "def test_patch(val_fn, p):\n",
      "\n",
      "    images = p['image'].reshape(-1, 1, 75, 75).astype(np.uint8)\n",
      "    probs = p['prob'].reshape(-1, 1, 75, 75).astype(np.uint8)\n",
      "    binary1s = p['binary1'].reshape(-1, 1, 75, 75).astype(np.uint8)*255\n",
      "    binary2s = p['binary2'].reshape(-1, 1, 75, 75).astype(np.uint8)*255\n",
      "    overlaps = p['overlap'].reshape(-1, 1, 75, 75).astype(np.uint8)*255\n",
      "    targets = np.array([0], dtype=np.uint8)\n",
      "    \n",
      "    pred, err, acc = val_fn(images, probs, binary1s, binary2s, overlaps, targets)\n",
      "            \n",
      "    return pred[0][1]\n",
      "\n",
      "def create_matrix(val_fn, segmentation, patches):\n",
      "    \n",
      "    \n",
      "    no_labels = len(_metrics.Util.get_histogram(segmentation.astype(np.uint64)))\n",
      "    \n",
      "    m = np.zeros((no_labels,no_labels), dtype=np.float)\n",
      "    m[:,:] = -1 # all uninitialised\n",
      " \n",
      "#     for p in patches:\n",
      "\n",
      "#         prediction = test_patch(val_fn, p)\n",
      "#         m[p['l'], p['n']] = prediction\n",
      "#         m[p['n'], p['l']] = prediction\n",
      "\n",
      "    m = fill_matrix(m, patches)\n",
      "\n",
      "    return m\n",
      "\n",
      "def merge(image, seg, prob, m_old, sureness=1.):\n",
      "    \n",
      "    out = np.array(seg)\n",
      "    m = np.array(m_old)\n",
      "    \n",
      "    patches = []\n",
      "    \n",
      "    # find largest value in matrix\n",
      "    largest_index = np.where(m==m.max())\n",
      "    l,n = (largest_index[0][0], largest_index[1][0])\n",
      "    \n",
      "    # merge these labels\n",
      "    print 'merging', l, n\n",
      "    out[out == l] = n\n",
      "    # set matrix as merged for this entry\n",
      "    m[l,:] = -2\n",
      "    m[:,l] = -2\n",
      "    \n",
      "    # grab neighbors of l\n",
      "    old_neighbors = grab_neighbors(seg, l)\n",
      "    # get patches for l and n_l\n",
      "    for n in old_neighbors:\n",
      "        neighbors = grab_neighbors(out, n)\n",
      "        for k in neighbors:\n",
      "            \n",
      "            # check if this is still a valid combination\n",
      "            if m[n,k] < 0:\n",
      "                # nope!\n",
      "                continue\n",
      "            \n",
      "            p = grab_patch(image, prob, out, n, k)\n",
      "            if not p:\n",
      "                continue\n",
      "\n",
      "            patches += p\n",
      "        \n",
      "    print 'recomputed', len(patches), 'patches'\n",
      "\n",
      "    # now we have a bunch of new patches\n",
      "    # -> update our matrix    \n",
      "#     for p in patches:\n",
      "#         prediction = test_patch(val_fn, p)\n",
      "#         m[p['l'], p['n']] = prediction\n",
      "#         m[p['n'], p['l']] = prediction\n",
      "\n",
      "    m = fill_matrix(m, patches)\n",
      "\n",
      "    return m, out\n",
      "\n",
      "\n",
      "\n",
      "def propagate_max_overlap(rhoana, gold):\n",
      "\n",
      "    out = np.array(rhoana)\n",
      "    \n",
      "    rhoana_labels = _metrics.Util.get_histogram(rhoana.astype(np.uint64))\n",
      "    \n",
      "    for l,k in enumerate(rhoana_labels):\n",
      "        if l == 0:\n",
      "            # ignore 0 since rhoana does not have it\n",
      "            continue\n",
      "        values = gold[rhoana == l]\n",
      "        largest_label = _metrics.Util.get_largest_label(values.astype(np.uint64))\n",
      "    \n",
      "        out[rhoana == l] = largest_label # set the largest label from gold here\n",
      "    \n",
      "    return out\n",
      "        "
     ],
     "language": "python",
     "metadata": {},
     "outputs": [],
     "prompt_number": 5
    },
    {
     "cell_type": "code",
     "collapsed": false,
     "input": [
      "import time\n",
      "t0 = time.time()\n",
      "p = loop(image, prob, seg)\n",
      "print time.time()-t0"
     ],
     "language": "python",
     "metadata": {},
     "outputs": [
      {
       "output_type": "stream",
       "stream": "stdout",
       "text": [
        "958.1900208\n"
       ]
      }
     ],
     "prompt_number": 6
    },
    {
     "cell_type": "code",
     "collapsed": false,
     "input": [
      "val_fn = setup_n()"
     ],
     "language": "python",
     "metadata": {},
     "outputs": [
      {
       "output_type": "stream",
       "stream": "stdout",
       "text": [
        "Loading ['/Volumes/DATA1/split_cnn/patches_large2new/7b76867e-c76a-416f-910a-7065e93c616a/configuration.txt']\n",
        "[\"{'outputpath': '/n/regal/pfister_lab/haehn/split_cnn/patches_large2new/', 'filtersize1': 9, 'filters3': 16, 'filters2': 16, 'batchsize': 100, 'datapath': '/n/regal/pfister_lab/haehn/', 'epochs': 500, 'runmode': 'cluster', 'filtersize2': 9, 'filtersize3': 9, 'filters1': 16, 'patchpath': 'patches_large2new', 'thirdconvlayer': True, 'learning_rate': 0.0001, 'momentum': 0.9}\"]\n",
        "Loading ['/Volumes/DATA1/split_cnn/patches_large2new/7b76867e-c76a-416f-910a-7065e93c616a/network_199.p']\n"
       ]
      },
      {
       "output_type": "stream",
       "stream": "stderr",
       "text": [
        "Using gpu device 0: GeForce GTX TITAN (CNMeM is disabled)\n"
       ]
      }
     ],
     "prompt_number": 7
    },
    {
     "cell_type": "code",
     "collapsed": false,
     "input": [
      "print 'creating matrix'\n",
      "m_new = create_matrix(val_fn, seg, p)\n",
      "out = seg\n",
      "sureness = 0.\n",
      "surenesses = []\n",
      "vi_s = []\n",
      "images = []\n",
      "\n",
      "\n",
      "while m_new.max() >= sureness:\n",
      "    print 'Merging for sureness s=', m_new.max()\n",
      "    surenesses.append(m_new.max())\n",
      "    \n",
      "    m_new, out = merge(image, out, prob, m_new)\n",
      "    \n",
      "    vi = partition_comparison.variation_of_information(out.ravel(), gold_normalized.ravel())\n",
      "    vi_s.append(vi)\n",
      "    \n",
      "    images.append(np.array(out))\n",
      "    \n",
      "    print 'New VI', vi\n",
      "    print '-'*80\n",
      "    "
     ],
     "language": "python",
     "metadata": {},
     "outputs": [
      {
       "output_type": "stream",
       "stream": "stdout",
       "text": [
        "creating matrix\n",
        "merged"
       ]
      },
      {
       "output_type": "stream",
       "stream": "stdout",
       "text": [
        " 1682 patches into 817\n",
        "Merging for sureness s= 1.0\n",
        "merging 144 156\n",
        "recomputed"
       ]
      },
      {
       "output_type": "stream",
       "stream": "stdout",
       "text": [
        " 90 patches\n",
        "merged"
       ]
      },
      {
       "output_type": "stream",
       "stream": "stdout",
       "text": [
        " 90 patches into 87\n",
        "New VI"
       ]
      },
      {
       "output_type": "stream",
       "stream": "stdout",
       "text": [
        " 0.794022623365\n",
        "--------------------------------------------------------------------------------\n",
        "Merging for sureness s= 1.0\n",
        "merging 222 226\n",
        "recomputed"
       ]
      },
      {
       "output_type": "stream",
       "stream": "stdout",
       "text": [
        " 17 patches\n",
        "merged"
       ]
      },
      {
       "output_type": "stream",
       "stream": "stdout",
       "text": [
        " 17 patches into 16\n",
        "New VI"
       ]
      },
      {
       "output_type": "stream",
       "stream": "stdout",
       "text": [
        " 0.793814682407\n",
        "--------------------------------------------------------------------------------\n",
        "Merging for sureness s= 1.0\n",
        "merging 228 265\n",
        "recomputed"
       ]
      },
      {
       "output_type": "stream",
       "stream": "stdout",
       "text": [
        " 61 patches\n",
        "merged"
       ]
      },
      {
       "output_type": "stream",
       "stream": "stdout",
       "text": [
        " 61 patches into 61\n",
        "New VI"
       ]
      },
      {
       "output_type": "stream",
       "stream": "stdout",
       "text": [
        " 0.793939323096\n",
        "--------------------------------------------------------------------------------\n",
        "Merging for sureness s= 0.999842375517\n",
        "merging 214 215\n",
        "recomputed"
       ]
      },
      {
       "output_type": "stream",
       "stream": "stdout",
       "text": [
        " 26 patches\n",
        "merged"
       ]
      },
      {
       "output_type": "stream",
       "stream": "stdout",
       "text": [
        " 26 patches into 25\n",
        "New VI"
       ]
      },
      {
       "output_type": "stream",
       "stream": "stdout",
       "text": [
        " 0.793763758096\n",
        "--------------------------------------------------------------------------------\n",
        "Merging for sureness s= 0.99973988533\n",
        "merging 139 167\n",
        "recomputed"
       ]
      },
      {
       "output_type": "stream",
       "stream": "stdout",
       "text": [
        " 46 patches\n",
        "merged"
       ]
      },
      {
       "output_type": "stream",
       "stream": "stdout",
       "text": [
        " 46 patches into 45\n",
        "New VI"
       ]
      },
      {
       "output_type": "stream",
       "stream": "stdout",
       "text": [
        " 0.793583877253\n",
        "--------------------------------------------------------------------------------\n",
        "Merging for sureness s= 0.999345719814\n",
        "merging 272 286\n",
        "recomputed"
       ]
      },
      {
       "output_type": "stream",
       "stream": "stdout",
       "text": [
        " 31 patches\n",
        "merged"
       ]
      },
      {
       "output_type": "stream",
       "stream": "stdout",
       "text": [
        " 31 patches into 31\n",
        "New VI"
       ]
      },
      {
       "output_type": "stream",
       "stream": "stdout",
       "text": [
        " 0.79288353706\n",
        "--------------------------------------------------------------------------------\n",
        "Merging for sureness s= 0.999271571636\n",
        "merging 131 136\n",
        "recomputed"
       ]
      },
      {
       "output_type": "stream",
       "stream": "stdout",
       "text": [
        " 43 patches\n",
        "merged"
       ]
      },
      {
       "output_type": "stream",
       "stream": "stdout",
       "text": [
        " 43 patches into 43\n",
        "New VI"
       ]
      },
      {
       "output_type": "stream",
       "stream": "stdout",
       "text": [
        " 0.793285310386\n",
        "--------------------------------------------------------------------------------\n",
        "Merging for sureness s= 0.99908643961\n",
        "merging 37 40\n",
        "recomputed"
       ]
      },
      {
       "output_type": "stream",
       "stream": "stdout",
       "text": [
        " 70 patches\n",
        "merged"
       ]
      },
      {
       "output_type": "stream",
       "stream": "stdout",
       "text": [
        " 70 patches into 68\n",
        "New VI"
       ]
      },
      {
       "output_type": "stream",
       "stream": "stdout",
       "text": [
        " 0.792756695324\n",
        "--------------------------------------------------------------------------------\n",
        "Merging for sureness s= 0.999054253101\n",
        "merging 154 160\n",
        "recomputed"
       ]
      },
      {
       "output_type": "stream",
       "stream": "stdout",
       "text": [
        " 54 patches\n",
        "merged"
       ]
      },
      {
       "output_type": "stream",
       "stream": "stdout",
       "text": [
        " 54 patches into 52\n",
        "New VI"
       ]
      },
      {
       "output_type": "stream",
       "stream": "stdout",
       "text": [
        " 0.793306480032\n",
        "--------------------------------------------------------------------------------\n",
        "Merging for sureness s= 0.998837769032\n",
        "merging 61 63\n",
        "recomputed"
       ]
      },
      {
       "output_type": "stream",
       "stream": "stdout",
       "text": [
        " 12 patches\n",
        "merged"
       ]
      },
      {
       "output_type": "stream",
       "stream": "stdout",
       "text": [
        " 12 patches into 12\n",
        "New VI"
       ]
      },
      {
       "output_type": "stream",
       "stream": "stdout",
       "text": [
        " 0.793563468378\n",
        "--------------------------------------------------------------------------------\n",
        "Merging for sureness s= 0.998164594173\n",
        "merging 251 269\n",
        "recomputed"
       ]
      },
      {
       "output_type": "stream",
       "stream": "stdout",
       "text": [
        " 44 patches\n",
        "merged"
       ]
      },
      {
       "output_type": "stream",
       "stream": "stdout",
       "text": [
        " 44 patches into 41\n",
        "New VI"
       ]
      },
      {
       "output_type": "stream",
       "stream": "stdout",
       "text": [
        " 0.793633265081\n",
        "--------------------------------------------------------------------------------\n",
        "Merging for sureness s= 0.997968494892\n",
        "merging 87 88\n",
        "recomputed"
       ]
      },
      {
       "output_type": "stream",
       "stream": "stdout",
       "text": [
        " 48 patches\n",
        "merged"
       ]
      },
      {
       "output_type": "stream",
       "stream": "stdout",
       "text": [
        " 48 patches into 46\n",
        "New VI"
       ]
      },
      {
       "output_type": "stream",
       "stream": "stdout",
       "text": [
        " 0.793395140848\n",
        "--------------------------------------------------------------------------------\n",
        "Merging for sureness s= 0.997536808252\n",
        "merging 333 335\n",
        "recomputed"
       ]
      },
      {
       "output_type": "stream",
       "stream": "stdout",
       "text": [
        " 27 patches\n",
        "merged"
       ]
      },
      {
       "output_type": "stream",
       "stream": "stdout",
       "text": [
        " 27 patches into 24\n",
        "New VI"
       ]
      },
      {
       "output_type": "stream",
       "stream": "stdout",
       "text": [
        " 0.792151477593\n",
        "--------------------------------------------------------------------------------\n",
        "Merging for sureness s= 0.999857902527\n",
        "merging 331 334\n",
        "recomputed"
       ]
      },
      {
       "output_type": "stream",
       "stream": "stdout",
       "text": [
        " 27 patches\n",
        "merged"
       ]
      },
      {
       "output_type": "stream",
       "stream": "stdout",
       "text": [
        " 27 patches into 26\n",
        "New VI"
       ]
      },
      {
       "output_type": "stream",
       "stream": "stdout",
       "text": [
        " 0.791802919705\n",
        "--------------------------------------------------------------------------------\n",
        "Merging for sureness s= 0.99284183979\n",
        "merging 105 106\n",
        "recomputed"
       ]
      },
      {
       "output_type": "stream",
       "stream": "stdout",
       "text": [
        " 57 patches\n",
        "merged"
       ]
      },
      {
       "output_type": "stream",
       "stream": "stdout",
       "text": [
        " 57 patches into 55\n",
        "New VI"
       ]
      },
      {
       "output_type": "stream",
       "stream": "stdout",
       "text": [
        " 0.791727482988\n",
        "--------------------------------------------------------------------------------\n",
        "Merging for sureness s= 0.975673645735\n",
        "merging 246 281\n",
        "recomputed"
       ]
      },
      {
       "output_type": "stream",
       "stream": "stdout",
       "text": [
        " 47 patches\n",
        "merged"
       ]
      },
      {
       "output_type": "stream",
       "stream": "stdout",
       "text": [
        " 47 patches into 46\n",
        "New VI"
       ]
      },
      {
       "output_type": "stream",
       "stream": "stdout",
       "text": [
        " 0.791009002299\n",
        "--------------------------------------------------------------------------------\n",
        "Merging for sureness s= 0.966938346624\n",
        "merging 185 210\n",
        "recomputed"
       ]
      },
      {
       "output_type": "stream",
       "stream": "stdout",
       "text": [
        " 21 patches\n",
        "merged"
       ]
      },
      {
       "output_type": "stream",
       "stream": "stdout",
       "text": [
        " 21 patches into 21\n",
        "New VI"
       ]
      },
      {
       "output_type": "stream",
       "stream": "stdout",
       "text": [
        " 0.790978125666\n",
        "--------------------------------------------------------------------------------\n",
        "Merging for sureness s= 0.958439201117\n",
        "merging 73 80\n",
        "recomputed"
       ]
      },
      {
       "output_type": "stream",
       "stream": "stdout",
       "text": [
        " 19 patches\n",
        "merged"
       ]
      },
      {
       "output_type": "stream",
       "stream": "stdout",
       "text": [
        " 19 patches into 19\n",
        "New VI"
       ]
      },
      {
       "output_type": "stream",
       "stream": "stdout",
       "text": [
        " 0.790430206464\n",
        "--------------------------------------------------------------------------------\n",
        "Merging for sureness s= 0.949038565159\n",
        "merging 159 162\n",
        "recomputed"
       ]
      },
      {
       "output_type": "stream",
       "stream": "stdout",
       "text": [
        " 49 patches\n",
        "merged"
       ]
      },
      {
       "output_type": "stream",
       "stream": "stdout",
       "text": [
        " 49 patches into 47\n",
        "New VI"
       ]
      },
      {
       "output_type": "stream",
       "stream": "stdout",
       "text": [
        " 0.790219381241\n",
        "--------------------------------------------------------------------------------\n",
        "Merging for sureness s= 0.946551144123\n",
        "merging 319 340\n",
        "recomputed"
       ]
      },
      {
       "output_type": "stream",
       "stream": "stdout",
       "text": [
        " 19 patches\n",
        "merged"
       ]
      },
      {
       "output_type": "stream",
       "stream": "stdout",
       "text": [
        " 19 patches into 19\n",
        "New VI"
       ]
      },
      {
       "output_type": "stream",
       "stream": "stdout",
       "text": [
        " 0.792408020792\n",
        "--------------------------------------------------------------------------------\n",
        "Merging for sureness s= 0.936908781528\n",
        "merging 315 342\n",
        "recomputed"
       ]
      },
      {
       "output_type": "stream",
       "stream": "stdout",
       "text": [
        " 23 patches\n",
        "merged"
       ]
      },
      {
       "output_type": "stream",
       "stream": "stdout",
       "text": [
        " 23 patches into 23\n",
        "New VI"
       ]
      },
      {
       "output_type": "stream",
       "stream": "stdout",
       "text": [
        " 0.790536625971\n",
        "--------------------------------------------------------------------------------\n",
        "Merging for sureness s= 0.926986455917\n",
        "merging 23 35\n",
        "recomputed"
       ]
      },
      {
       "output_type": "stream",
       "stream": "stdout",
       "text": [
        " 5 patches\n",
        "merged 5 patches into 5\n",
        "New VI"
       ]
      },
      {
       "output_type": "stream",
       "stream": "stdout",
       "text": [
        " 0.789789250519\n",
        "--------------------------------------------------------------------------------\n",
        "Merging for sureness s= 0.925310194492\n",
        "merging 173 187\n",
        "recomputed"
       ]
      },
      {
       "output_type": "stream",
       "stream": "stdout",
       "text": [
        " 53 patches\n",
        "merged"
       ]
      },
      {
       "output_type": "stream",
       "stream": "stdout",
       "text": [
        " 53 patches into 52\n",
        "New VI"
       ]
      },
      {
       "output_type": "stream",
       "stream": "stdout",
       "text": [
        " 0.794013930699\n",
        "--------------------------------------------------------------------------------\n",
        "Merging for sureness s= 0.908597648144\n",
        "merging 56 64\n",
        "recomputed"
       ]
      },
      {
       "output_type": "stream",
       "stream": "stdout",
       "text": [
        " 29 patches\n",
        "merged"
       ]
      },
      {
       "output_type": "stream",
       "stream": "stdout",
       "text": [
        " 29 patches into 29\n",
        "New VI"
       ]
      },
      {
       "output_type": "stream",
       "stream": "stdout",
       "text": [
        " 0.793390028451\n",
        "--------------------------------------------------------------------------------\n",
        "Merging for sureness s= 0.89980879426\n",
        "merging 147 165\n",
        "recomputed"
       ]
      },
      {
       "output_type": "stream",
       "stream": "stdout",
       "text": [
        " 17 patches\n",
        "merged"
       ]
      },
      {
       "output_type": "stream",
       "stream": "stdout",
       "text": [
        " 17 patches into 16\n",
        "New VI"
       ]
      },
      {
       "output_type": "stream",
       "stream": "stdout",
       "text": [
        " 0.79452316996\n",
        "--------------------------------------------------------------------------------\n",
        "Merging for sureness s= 0.874473571777\n",
        "merging 300 310\n",
        "recomputed"
       ]
      },
      {
       "output_type": "stream",
       "stream": "stdout",
       "text": [
        " 11 patches\n",
        "merged"
       ]
      },
      {
       "output_type": "stream",
       "stream": "stdout",
       "text": [
        " 11 patches into 11\n",
        "New VI"
       ]
      },
      {
       "output_type": "stream",
       "stream": "stdout",
       "text": [
        " 0.794445510501\n",
        "--------------------------------------------------------------------------------\n",
        "Merging for sureness s= 0.872058689594\n",
        "merging 264 329\n",
        "recomputed"
       ]
      },
      {
       "output_type": "stream",
       "stream": "stdout",
       "text": [
        " 26 patches\n",
        "merged"
       ]
      },
      {
       "output_type": "stream",
       "stream": "stdout",
       "text": [
        " 26 patches into 26\n",
        "New VI"
       ]
      },
      {
       "output_type": "stream",
       "stream": "stdout",
       "text": [
        " 0.793708313889\n",
        "--------------------------------------------------------------------------------\n",
        "Merging for sureness s= 0.843438327312\n",
        "merging 164 174\n",
        "recomputed"
       ]
      },
      {
       "output_type": "stream",
       "stream": "stdout",
       "text": [
        " 36 patches\n",
        "merged"
       ]
      },
      {
       "output_type": "stream",
       "stream": "stdout",
       "text": [
        " 36 patches into 36\n",
        "New VI"
       ]
      },
      {
       "output_type": "stream",
       "stream": "stdout",
       "text": [
        " 0.793246169556\n",
        "--------------------------------------------------------------------------------\n",
        "Merging for sureness s= 0.818429946899\n",
        "merging 241 242\n",
        "recomputed"
       ]
      },
      {
       "output_type": "stream",
       "stream": "stdout",
       "text": [
        " 10 patches\n",
        "merged"
       ]
      },
      {
       "output_type": "stream",
       "stream": "stdout",
       "text": [
        " 10 patches into 10\n",
        "New VI"
       ]
      },
      {
       "output_type": "stream",
       "stream": "stdout",
       "text": [
        " 0.793169492857\n",
        "--------------------------------------------------------------------------------\n",
        "Merging for sureness s= 0.791609346867\n",
        "merging 161 168\n",
        "recomputed"
       ]
      },
      {
       "output_type": "stream",
       "stream": "stdout",
       "text": [
        " 19 patches\n",
        "merged"
       ]
      },
      {
       "output_type": "stream",
       "stream": "stdout",
       "text": [
        " 19 patches into 18\n",
        "New VI"
       ]
      },
      {
       "output_type": "stream",
       "stream": "stdout",
       "text": [
        " 0.793237780256\n",
        "--------------------------------------------------------------------------------\n",
        "Merging for sureness s= 0.778327465057\n",
        "merging 266 280\n",
        "recomputed"
       ]
      },
      {
       "output_type": "stream",
       "stream": "stdout",
       "text": [
        " 28 patches\n",
        "merged"
       ]
      },
      {
       "output_type": "stream",
       "stream": "stdout",
       "text": [
        " 28 patches into 28\n",
        "New VI"
       ]
      },
      {
       "output_type": "stream",
       "stream": "stdout",
       "text": [
        " 0.797046661234\n",
        "--------------------------------------------------------------------------------\n",
        "Merging for sureness s= 0.776483207941\n",
        "merging 66 70\n",
        "recomputed"
       ]
      },
      {
       "output_type": "stream",
       "stream": "stdout",
       "text": [
        " 52 patches\n",
        "merged"
       ]
      },
      {
       "output_type": "stream",
       "stream": "stdout",
       "text": [
        " 52 patches into 49\n",
        "New VI"
       ]
      },
      {
       "output_type": "stream",
       "stream": "stdout",
       "text": [
        " 0.797544610251\n",
        "--------------------------------------------------------------------------------\n",
        "Merging for sureness s= 0.768261551857\n",
        "merging 356 363\n",
        "recomputed"
       ]
      },
      {
       "output_type": "stream",
       "stream": "stdout",
       "text": [
        " 15 patches\n",
        "merged"
       ]
      },
      {
       "output_type": "stream",
       "stream": "stdout",
       "text": [
        " 15 patches into 15\n",
        "New VI"
       ]
      },
      {
       "output_type": "stream",
       "stream": "stdout",
       "text": [
        " 0.796968847294\n",
        "--------------------------------------------------------------------------------\n",
        "Merging for sureness s= 0.735482156277\n",
        "merging 136 193\n",
        "recomputed"
       ]
      },
      {
       "output_type": "stream",
       "stream": "stdout",
       "text": [
        " 72 patches\n",
        "merged"
       ]
      },
      {
       "output_type": "stream",
       "stream": "stdout",
       "text": [
        " 72 patches into 72\n",
        "New VI"
       ]
      },
      {
       "output_type": "stream",
       "stream": "stdout",
       "text": [
        " 0.797395012116\n",
        "--------------------------------------------------------------------------------\n",
        "Merging for sureness s= 0.729463517666\n",
        "merging 254 259\n",
        "recomputed"
       ]
      },
      {
       "output_type": "stream",
       "stream": "stdout",
       "text": [
        " 12 patches\n",
        "merged"
       ]
      },
      {
       "output_type": "stream",
       "stream": "stdout",
       "text": [
        " 12 patches into 12\n",
        "New VI"
       ]
      },
      {
       "output_type": "stream",
       "stream": "stdout",
       "text": [
        " 0.797435824603\n",
        "--------------------------------------------------------------------------------\n",
        "Merging for sureness s= 0.712565600872\n",
        "merging 309 310\n",
        "recomputed"
       ]
      },
      {
       "output_type": "stream",
       "stream": "stdout",
       "text": [
        " 11 patches\n",
        "merged"
       ]
      },
      {
       "output_type": "stream",
       "stream": "stdout",
       "text": [
        " 11 patches into 11\n",
        "New VI"
       ]
      },
      {
       "output_type": "stream",
       "stream": "stdout",
       "text": [
        " 0.79769528146\n",
        "--------------------------------------------------------------------------------\n",
        "Merging for sureness s= 0.661856412888\n",
        "merging 308 312\n",
        "recomputed"
       ]
      },
      {
       "output_type": "stream",
       "stream": "stdout",
       "text": [
        " 7 patches\n",
        "merged 7 patches into 7\n",
        "New VI"
       ]
      },
      {
       "output_type": "stream",
       "stream": "stdout",
       "text": [
        " 0.797265638614\n",
        "--------------------------------------------------------------------------------\n",
        "Merging for sureness s= 0.527343690395\n",
        "merging 15 145\n",
        "recomputed"
       ]
      },
      {
       "output_type": "stream",
       "stream": "stdout",
       "text": [
        " 93 patches\n",
        "merged"
       ]
      },
      {
       "output_type": "stream",
       "stream": "stdout",
       "text": [
        " 93 patches into 92\n",
        "New VI"
       ]
      },
      {
       "output_type": "stream",
       "stream": "stdout",
       "text": [
        " 0.798665018573\n",
        "--------------------------------------------------------------------------------\n",
        "Merging for sureness s= 0.525145947933\n",
        "merging 301 316\n",
        "recomputed"
       ]
      },
      {
       "output_type": "stream",
       "stream": "stdout",
       "text": [
        " 10 patches\n",
        "merged"
       ]
      },
      {
       "output_type": "stream",
       "stream": "stdout",
       "text": [
        " 10 patches into 10\n",
        "New VI"
       ]
      },
      {
       "output_type": "stream",
       "stream": "stdout",
       "text": [
        " 0.798750481202\n",
        "--------------------------------------------------------------------------------\n",
        "Merging for sureness s= 0.486992657185\n",
        "merging 278 322\n",
        "recomputed"
       ]
      },
      {
       "output_type": "stream",
       "stream": "stdout",
       "text": [
        " 25 patches\n",
        "merged"
       ]
      },
      {
       "output_type": "stream",
       "stream": "stdout",
       "text": [
        " 25 patches into 24\n",
        "New VI"
       ]
      },
      {
       "output_type": "stream",
       "stream": "stdout",
       "text": [
        " 0.79840716695\n",
        "--------------------------------------------------------------------------------\n",
        "Merging for sureness s= 0.478630336002\n",
        "merging 117 138\n",
        "recomputed"
       ]
      },
      {
       "output_type": "stream",
       "stream": "stdout",
       "text": [
        " 19 patches\n",
        "merged"
       ]
      },
      {
       "output_type": "stream",
       "stream": "stdout",
       "text": [
        " 19 patches into 18\n",
        "New VI"
       ]
      },
      {
       "output_type": "stream",
       "stream": "stdout",
       "text": [
        " 0.798303230428\n",
        "--------------------------------------------------------------------------------\n",
        "Merging for sureness s= 0.478456795216\n",
        "merging 255 257\n",
        "recomputed"
       ]
      },
      {
       "output_type": "stream",
       "stream": "stdout",
       "text": [
        " 10 patches\n",
        "merged"
       ]
      },
      {
       "output_type": "stream",
       "stream": "stdout",
       "text": [
        " 10 patches into 10\n",
        "New VI"
       ]
      },
      {
       "output_type": "stream",
       "stream": "stdout",
       "text": [
        " 0.797785548706\n",
        "--------------------------------------------------------------------------------\n",
        "Merging for sureness s= 0.46560202539\n",
        "merging 27 32\n",
        "recomputed"
       ]
      },
      {
       "output_type": "stream",
       "stream": "stdout",
       "text": [
        " 19 patches\n",
        "merged"
       ]
      },
      {
       "output_type": "stream",
       "stream": "stdout",
       "text": [
        " 19 patches into 19\n",
        "New VI"
       ]
      },
      {
       "output_type": "stream",
       "stream": "stdout",
       "text": [
        " 0.800241519172\n",
        "--------------------------------------------------------------------------------\n",
        "Merging for sureness s= 0.562393784523\n",
        "merging 50 58\n",
        "recomputed"
       ]
      },
      {
       "output_type": "stream",
       "stream": "stdout",
       "text": [
        " 10 patches\n",
        "merged"
       ]
      },
      {
       "output_type": "stream",
       "stream": "stdout",
       "text": [
        " 10 patches into 10\n",
        "New VI"
       ]
      },
      {
       "output_type": "stream",
       "stream": "stdout",
       "text": [
        " 0.807098357189\n",
        "--------------------------------------------------------------------------------\n",
        "Merging for sureness s= 0.458113402128\n",
        "merging 338 345\n",
        "recomputed"
       ]
      },
      {
       "output_type": "stream",
       "stream": "stdout",
       "text": [
        " 12 patches\n",
        "merged"
       ]
      },
      {
       "output_type": "stream",
       "stream": "stdout",
       "text": [
        " 12 patches into 12\n",
        "New VI"
       ]
      },
      {
       "output_type": "stream",
       "stream": "stdout",
       "text": [
        " 0.807208385403\n",
        "--------------------------------------------------------------------------------\n",
        "Merging for sureness s= 0.447511434555\n",
        "merging 325 329\n",
        "recomputed"
       ]
      },
      {
       "output_type": "stream",
       "stream": "stdout",
       "text": [
        " 1 patches\n",
        "merged 1 patches into 1\n",
        "New VI"
       ]
      },
      {
       "output_type": "stream",
       "stream": "stdout",
       "text": [
        " 0.80693806282\n",
        "--------------------------------------------------------------------------------\n",
        "Merging for sureness s= 0.44670394063\n",
        "merging 187 204\n",
        "recomputed"
       ]
      },
      {
       "output_type": "stream",
       "stream": "stdout",
       "text": [
        " 27 patches\n",
        "merged"
       ]
      },
      {
       "output_type": "stream",
       "stream": "stdout",
       "text": [
        " 27 patches into 26\n",
        "New VI"
       ]
      },
      {
       "output_type": "stream",
       "stream": "stdout",
       "text": [
        " 0.815506206743\n",
        "--------------------------------------------------------------------------------\n",
        "Merging for sureness s= 0.736442029476\n",
        "merging 200 204\n",
        "recomputed"
       ]
      },
      {
       "output_type": "stream",
       "stream": "stdout",
       "text": [
        " 8 patches\n",
        "merged 8 patches into 8\n",
        "New VI"
       ]
      },
      {
       "output_type": "stream",
       "stream": "stdout",
       "text": [
        " 0.816519574756\n",
        "--------------------------------------------------------------------------------\n",
        "Merging for sureness s= 0.441661924124\n",
        "merging 305 313\n",
        "recomputed"
       ]
      },
      {
       "output_type": "stream",
       "stream": "stdout",
       "text": [
        " 8 patches\n",
        "merged 8 patches into 8\n",
        "New VI"
       ]
      },
      {
       "output_type": "stream",
       "stream": "stdout",
       "text": [
        " 0.816908543963\n",
        "--------------------------------------------------------------------------------\n",
        "Merging for sureness s= 0.433192431927\n",
        "merging 189 190\n",
        "recomputed"
       ]
      },
      {
       "output_type": "stream",
       "stream": "stdout",
       "text": [
        " 8 patches\n",
        "merged 8 patches into 8\n",
        "New VI"
       ]
      },
      {
       "output_type": "stream",
       "stream": "stdout",
       "text": [
        " 0.817009031361\n",
        "--------------------------------------------------------------------------------\n",
        "Merging for sureness s= 0.406912412494\n",
        "merging 178 191\n",
        "recomputed"
       ]
      },
      {
       "output_type": "stream",
       "stream": "stdout",
       "text": [
        " 21 patches\n",
        "merged"
       ]
      },
      {
       "output_type": "stream",
       "stream": "stdout",
       "text": [
        " 21 patches into 20\n",
        "New VI"
       ]
      },
      {
       "output_type": "stream",
       "stream": "stdout",
       "text": [
        " 0.81817496048\n",
        "--------------------------------------------------------------------------------\n",
        "Merging for sureness s= 0.386012494564\n",
        "merging 49 53\n",
        "recomputed"
       ]
      },
      {
       "output_type": "stream",
       "stream": "stdout",
       "text": [
        " 18 patches\n",
        "merged"
       ]
      },
      {
       "output_type": "stream",
       "stream": "stdout",
       "text": [
        " 18 patches into 18\n",
        "New VI"
       ]
      },
      {
       "output_type": "stream",
       "stream": "stdout",
       "text": [
        " 0.81683360859\n",
        "--------------------------------------------------------------------------------\n",
        "Merging for sureness s= 0.383845448494\n",
        "merging 101 108\n",
        "recomputed"
       ]
      },
      {
       "output_type": "stream",
       "stream": "stdout",
       "text": [
        " 13 patches\n",
        "merged"
       ]
      },
      {
       "output_type": "stream",
       "stream": "stdout",
       "text": [
        " 13 patches into 13\n",
        "New VI"
       ]
      },
      {
       "output_type": "stream",
       "stream": "stdout",
       "text": [
        " 0.816170309484\n",
        "--------------------------------------------------------------------------------\n",
        "Merging for sureness s= 0.358248451725\n",
        "merging 104 109\n",
        "recomputed"
       ]
      },
      {
       "output_type": "stream",
       "stream": "stdout",
       "text": [
        " 8 patches\n",
        "merged"
       ]
      },
      {
       "output_type": "stream",
       "stream": "stdout",
       "text": [
        " 8 patches into 8\n",
        "New VI"
       ]
      },
      {
       "output_type": "stream",
       "stream": "stdout",
       "text": [
        " 0.816034243693\n",
        "--------------------------------------------------------------------------------\n",
        "Merging for sureness s= 0.283023953438\n",
        "merging 198 227\n",
        "recomputed"
       ]
      },
      {
       "output_type": "stream",
       "stream": "stdout",
       "text": [
        " 15 patches\n",
        "merged"
       ]
      },
      {
       "output_type": "stream",
       "stream": "stdout",
       "text": [
        " 15 patches into 14\n",
        "New VI"
       ]
      },
      {
       "output_type": "stream",
       "stream": "stdout",
       "text": [
        " 0.816611219376\n",
        "--------------------------------------------------------------------------------\n",
        "Merging for sureness s= 0.28064969182\n",
        "merging 190 203\n",
        "recomputed"
       ]
      },
      {
       "output_type": "stream",
       "stream": "stdout",
       "text": [
        " 12 patches\n",
        "merged"
       ]
      },
      {
       "output_type": "stream",
       "stream": "stdout",
       "text": [
        " 12 patches into 12\n",
        "New VI"
       ]
      },
      {
       "output_type": "stream",
       "stream": "stdout",
       "text": [
        " 0.816580755632\n",
        "--------------------------------------------------------------------------------\n",
        "Merging for sureness s= 0.254567891359\n",
        "merging 72 74\n",
        "recomputed"
       ]
      },
      {
       "output_type": "stream",
       "stream": "stdout",
       "text": [
        " 12 patches\n",
        "merged"
       ]
      },
      {
       "output_type": "stream",
       "stream": "stdout",
       "text": [
        " 12 patches into 12\n",
        "New VI"
       ]
      },
      {
       "output_type": "stream",
       "stream": "stdout",
       "text": [
        " 0.81674578732\n",
        "--------------------------------------------------------------------------------\n",
        "Merging for sureness s= 0.253186941147\n",
        "merging 98 103\n",
        "recomputed"
       ]
      },
      {
       "output_type": "stream",
       "stream": "stdout",
       "text": [
        " 16 patches\n",
        "merged"
       ]
      },
      {
       "output_type": "stream",
       "stream": "stdout",
       "text": [
        " 16 patches into 16\n",
        "New VI"
       ]
      },
      {
       "output_type": "stream",
       "stream": "stdout",
       "text": [
        " 0.816234890625\n",
        "--------------------------------------------------------------------------------\n",
        "Merging for sureness s= 0.249338284135\n",
        "merging 357 365\n",
        "recomputed"
       ]
      },
      {
       "output_type": "stream",
       "stream": "stdout",
       "text": [
        " 6 patches\n",
        "merged 6 patches into 6\n",
        "New VI"
       ]
      },
      {
       "output_type": "stream",
       "stream": "stdout",
       "text": [
        " 0.815751103713\n",
        "--------------------------------------------------------------------------------\n",
        "Merging for sureness s= 0.246535480022\n",
        "merging 176 180\n",
        "recomputed"
       ]
      },
      {
       "output_type": "stream",
       "stream": "stdout",
       "text": [
        " 13 patches\n",
        "merged"
       ]
      },
      {
       "output_type": "stream",
       "stream": "stdout",
       "text": [
        " 13 patches into 12\n",
        "New VI"
       ]
      },
      {
       "output_type": "stream",
       "stream": "stdout",
       "text": [
        " 0.815254296943\n",
        "--------------------------------------------------------------------------------\n",
        "Merging for sureness s= 0.236602261662\n",
        "merging 58 121\n",
        "recomputed"
       ]
      },
      {
       "output_type": "stream",
       "stream": "stdout",
       "text": [
        " 13 patches\n",
        "merged"
       ]
      },
      {
       "output_type": "stream",
       "stream": "stdout",
       "text": [
        " 13 patches into 13\n",
        "New VI"
       ]
      },
      {
       "output_type": "stream",
       "stream": "stdout",
       "text": [
        " 0.814182890581\n",
        "--------------------------------------------------------------------------------\n",
        "Merging for sureness s= 0.796157777309\n",
        "merging 121 124\n",
        "recomputed"
       ]
      },
      {
       "output_type": "stream",
       "stream": "stdout",
       "text": [
        " 11 patches\n",
        "merged"
       ]
      },
      {
       "output_type": "stream",
       "stream": "stdout",
       "text": [
        " 11 patches into 11\n",
        "New VI"
       ]
      },
      {
       "output_type": "stream",
       "stream": "stdout",
       "text": [
        " 0.809548017641\n",
        "--------------------------------------------------------------------------------\n",
        "Merging for sureness s= 0.225062787533\n",
        "merging 155 165\n",
        "recomputed"
       ]
      },
      {
       "output_type": "stream",
       "stream": "stdout",
       "text": [
        " 8 patches\n",
        "merged 8 patches into 8\n",
        "New VI"
       ]
      },
      {
       "output_type": "stream",
       "stream": "stdout",
       "text": [
        " 0.809352651368\n",
        "--------------------------------------------------------------------------------\n",
        "Merging for sureness s= 0.215165063739\n",
        "merging 145 146\n",
        "recomputed"
       ]
      },
      {
       "output_type": "stream",
       "stream": "stdout",
       "text": [
        " 83 patches\n",
        "merged"
       ]
      },
      {
       "output_type": "stream",
       "stream": "stdout",
       "text": [
        " 83 patches into 81\n",
        "New VI"
       ]
      },
      {
       "output_type": "stream",
       "stream": "stdout",
       "text": [
        " 0.811781159937\n",
        "--------------------------------------------------------------------------------\n",
        "Merging for sureness s= 0.201253801584\n",
        "merging 57 62\n",
        "recomputed"
       ]
      },
      {
       "output_type": "stream",
       "stream": "stdout",
       "text": [
        " 3 patches\n",
        "merged 3 patches into 3\n",
        "New VI"
       ]
      },
      {
       "output_type": "stream",
       "stream": "stdout",
       "text": [
        " 0.811903891454\n",
        "--------------------------------------------------------------------------------\n",
        "Merging for sureness s= 0.196609660983\n",
        "merging 62 65\n",
        "recomputed"
       ]
      },
      {
       "output_type": "stream",
       "stream": "stdout",
       "text": [
        " 12 patches\n",
        "merged"
       ]
      },
      {
       "output_type": "stream",
       "stream": "stdout",
       "text": [
        " 12 patches into 11\n",
        "New VI"
       ]
      },
      {
       "output_type": "stream",
       "stream": "stdout",
       "text": [
        " 0.811904125823\n",
        "--------------------------------------------------------------------------------\n",
        "Merging for sureness s= 0.179742306471\n",
        "merging 262 281\n",
        "recomputed"
       ]
      },
      {
       "output_type": "stream",
       "stream": "stdout",
       "text": [
        " 11 patches\n",
        "merged"
       ]
      },
      {
       "output_type": "stream",
       "stream": "stdout",
       "text": [
        " 11 patches into 11\n",
        "New VI"
       ]
      },
      {
       "output_type": "stream",
       "stream": "stdout",
       "text": [
        " 0.806420912493\n",
        "--------------------------------------------------------------------------------\n",
        "Merging for sureness s= 0.174842968583\n",
        "merging 133 146\n",
        "recomputed"
       ]
      },
      {
       "output_type": "stream",
       "stream": "stdout",
       "text": [
        " 3 patches\n",
        "merged 3 patches into 3\n",
        "New VI"
       ]
      },
      {
       "output_type": "stream",
       "stream": "stdout",
       "text": [
        " 0.810798043465\n",
        "--------------------------------------------------------------------------------\n",
        "Merging for sureness s= 0.163536474109\n",
        "merging 106 111\n",
        "recomputed"
       ]
      },
      {
       "output_type": "stream",
       "stream": "stdout",
       "text": [
        " 9 patches\n",
        "merged 9 patches into 9\n",
        "New VI"
       ]
      },
      {
       "output_type": "stream",
       "stream": "stdout",
       "text": [
        " 0.809740520973\n",
        "--------------------------------------------------------------------------------\n",
        "Merging for sureness s= 0.99345946312\n",
        "merging 108 111\n",
        "recomputed"
       ]
      },
      {
       "output_type": "stream",
       "stream": "stdout",
       "text": [
        " 13 patches\n",
        "merged"
       ]
      },
      {
       "output_type": "stream",
       "stream": "stdout",
       "text": [
        " 13 patches into 13\n",
        "New VI"
       ]
      },
      {
       "output_type": "stream",
       "stream": "stdout",
       "text": [
        " 0.810275894918\n",
        "--------------------------------------------------------------------------------\n",
        "Merging for sureness s= 0.16028521955\n",
        "merging 244 247\n",
        "recomputed"
       ]
      },
      {
       "output_type": "stream",
       "stream": "stdout",
       "text": [
        " 6 patches\n",
        "merged 6 patches into 6\n",
        "New VI"
       ]
      },
      {
       "output_type": "stream",
       "stream": "stdout",
       "text": [
        " 0.80933025138\n",
        "--------------------------------------------------------------------------------\n",
        "Merging for sureness s= 0.157654672861\n",
        "merging 129 150\n",
        "recomputed"
       ]
      },
      {
       "output_type": "stream",
       "stream": "stdout",
       "text": [
        " 24 patches\n",
        "merged"
       ]
      },
      {
       "output_type": "stream",
       "stream": "stdout",
       "text": [
        " 24 patches into 22\n",
        "New VI"
       ]
      },
      {
       "output_type": "stream",
       "stream": "stdout",
       "text": [
        " 0.809631078688\n",
        "--------------------------------------------------------------------------------\n",
        "Merging for sureness s= 0.152659773827\n",
        "merging 125 149\n",
        "recomputed"
       ]
      },
      {
       "output_type": "stream",
       "stream": "stdout",
       "text": [
        " 23 patches\n",
        "merged"
       ]
      },
      {
       "output_type": "stream",
       "stream": "stdout",
       "text": [
        " 23 patches into 22\n",
        "New VI"
       ]
      },
      {
       "output_type": "stream",
       "stream": "stdout",
       "text": [
        " 0.8150418888\n",
        "--------------------------------------------------------------------------------\n",
        "Merging for sureness s= 0.148784726858\n",
        "merging 271 279\n",
        "recomputed"
       ]
      },
      {
       "output_type": "stream",
       "stream": "stdout",
       "text": [
        " 4 patches\n",
        "merged 4 patches into 4\n",
        "New VI"
       ]
      },
      {
       "output_type": "stream",
       "stream": "stdout",
       "text": [
        " 0.81592749078\n",
        "--------------------------------------------------------------------------------\n",
        "Merging for sureness s= 0.137581989169\n",
        "merging 311 318\n",
        "recomputed"
       ]
      },
      {
       "output_type": "stream",
       "stream": "stdout",
       "text": [
        " 8 patches\n",
        "merged 8 patches into 8\n",
        "New VI"
       ]
      },
      {
       "output_type": "stream",
       "stream": "stdout",
       "text": [
        " 0.815260524091\n",
        "--------------------------------------------------------------------------------\n",
        "Merging for sureness s= 0.126899540424\n",
        "merging 204 248\n",
        "recomputed"
       ]
      },
      {
       "output_type": "stream",
       "stream": "stdout",
       "text": [
        " 23 patches\n",
        "merged"
       ]
      },
      {
       "output_type": "stream",
       "stream": "stdout",
       "text": [
        " 23 patches into 22\n",
        "New VI"
       ]
      },
      {
       "output_type": "stream",
       "stream": "stdout",
       "text": [
        " 0.81466039302\n",
        "--------------------------------------------------------------------------------\n",
        "Merging for sureness s= 0.121529811037\n",
        "merging 227 235\n",
        "recomputed"
       ]
      },
      {
       "output_type": "stream",
       "stream": "stdout",
       "text": [
        " 9 patches\n",
        "merged"
       ]
      },
      {
       "output_type": "stream",
       "stream": "stdout",
       "text": [
        " 9 patches into 9\n",
        "New VI"
       ]
      },
      {
       "output_type": "stream",
       "stream": "stdout",
       "text": [
        " 0.818013691439\n",
        "--------------------------------------------------------------------------------\n",
        "Merging for sureness s= 0.161654055119\n",
        "merging 229 235\n",
        "recomputed"
       ]
      },
      {
       "output_type": "stream",
       "stream": "stdout",
       "text": [
        " 4 patches\n",
        "merged 4 patches into 4\n",
        "New VI"
       ]
      },
      {
       "output_type": "stream",
       "stream": "stdout",
       "text": [
        " 0.817853546458\n",
        "--------------------------------------------------------------------------------\n",
        "Merging for sureness s= 0.12860520184\n",
        "merging 235 243\n",
        "recomputed"
       ]
      },
      {
       "output_type": "stream",
       "stream": "stdout",
       "text": [
        " 4 patches\n",
        "merged 4 patches into 3\n",
        "New VI"
       ]
      },
      {
       "output_type": "stream",
       "stream": "stdout",
       "text": [
        " 0.816357777807\n",
        "--------------------------------------------------------------------------------\n",
        "Merging for sureness s= 0.992349421402\n",
        "merging 238 243\n",
        "recomputed"
       ]
      },
      {
       "output_type": "stream",
       "stream": "stdout",
       "text": [
        " 0 patches\n",
        "merged 0 patches into 0\n",
        "New VI"
       ]
      },
      {
       "output_type": "stream",
       "stream": "stdout",
       "text": [
        " 0.815641602491\n",
        "--------------------------------------------------------------------------------\n",
        "Merging for sureness s= 0.115774028003\n",
        "merging 75 78\n",
        "recomputed"
       ]
      },
      {
       "output_type": "stream",
       "stream": "stdout",
       "text": [
        " 9 patches\n",
        "merged"
       ]
      },
      {
       "output_type": "stream",
       "stream": "stdout",
       "text": [
        " 9 patches into 9\n",
        "New VI"
       ]
      },
      {
       "output_type": "stream",
       "stream": "stdout",
       "text": [
        " 0.814846187656\n",
        "--------------------------------------------------------------------------------\n",
        "Merging for sureness s= 0.109375067055\n",
        "merging 149 165\n",
        "recomputed"
       ]
      },
      {
       "output_type": "stream",
       "stream": "stdout",
       "text": [
        " 27 patches\n",
        "merged"
       ]
      },
      {
       "output_type": "stream",
       "stream": "stdout",
       "text": [
        " 27 patches into 27\n",
        "New VI"
       ]
      },
      {
       "output_type": "stream",
       "stream": "stdout",
       "text": [
        " 0.81971938503\n",
        "--------------------------------------------------------------------------------\n",
        "Merging for sureness s= 0.1026956141\n",
        "merging 124 127\n",
        "recomputed"
       ]
      },
      {
       "output_type": "stream",
       "stream": "stdout",
       "text": [
        " 8 patches\n",
        "merged"
       ]
      },
      {
       "output_type": "stream",
       "stream": "stdout",
       "text": [
        " 8 patches into 8\n",
        "New VI"
       ]
      },
      {
       "output_type": "stream",
       "stream": "stdout",
       "text": [
        " 0.817512201017\n",
        "--------------------------------------------------------------------------------\n",
        "Merging for sureness s= 0.101016432047\n",
        "merging 318 320\n",
        "recomputed"
       ]
      },
      {
       "output_type": "stream",
       "stream": "stdout",
       "text": [
        " 12 patches\n",
        "merged"
       ]
      },
      {
       "output_type": "stream",
       "stream": "stdout",
       "text": [
        " 12 patches into 12\n",
        "New VI"
       ]
      },
      {
       "output_type": "stream",
       "stream": "stdout",
       "text": [
        " 0.81768201479\n",
        "--------------------------------------------------------------------------------\n",
        "Merging for sureness s= 0.266748189926\n",
        "merging 316 320\n",
        "recomputed"
       ]
      },
      {
       "output_type": "stream",
       "stream": "stdout",
       "text": [
        " 4 patches\n",
        "merged 4 patches into 4\n",
        "New VI"
       ]
      },
      {
       "output_type": "stream",
       "stream": "stdout",
       "text": [
        " 0.81895869672\n",
        "--------------------------------------------------------------------------------\n",
        "Merging for sureness s= 0.0916162542999\n",
        "merging 142 148\n",
        "recomputed"
       ]
      },
      {
       "output_type": "stream",
       "stream": "stdout",
       "text": [
        " 21 patches\n",
        "merged"
       ]
      },
      {
       "output_type": "stream",
       "stream": "stdout",
       "text": [
        " 21 patches into 20\n",
        "New VI"
       ]
      },
      {
       "output_type": "stream",
       "stream": "stdout",
       "text": [
        " 0.818889448566\n",
        "--------------------------------------------------------------------------------\n",
        "Merging for sureness s= 0.0817352086306\n",
        "merging 284 289\n",
        "recomputed"
       ]
      },
      {
       "output_type": "stream",
       "stream": "stdout",
       "text": [
        " 11 patches\n",
        "merged"
       ]
      },
      {
       "output_type": "stream",
       "stream": "stdout",
       "text": [
        " 11 patches into 9\n",
        "New VI"
       ]
      },
      {
       "output_type": "stream",
       "stream": "stdout",
       "text": [
        " 0.81887961383\n",
        "--------------------------------------------------------------------------------\n",
        "Merging for sureness s= 0.0796918943524\n",
        "merging 118 135\n",
        "recomputed"
       ]
      },
      {
       "output_type": "stream",
       "stream": "stdout",
       "text": [
        " 0 patches\n",
        "merged 0 patches into 0\n",
        "New VI"
       ]
      },
      {
       "output_type": "stream",
       "stream": "stdout",
       "text": [
        " 0.81778850553\n",
        "--------------------------------------------------------------------------------\n",
        "Merging for sureness s= 0.0654512271285\n",
        "merging 7 53\n",
        "recomputed"
       ]
      },
      {
       "output_type": "stream",
       "stream": "stdout",
       "text": [
        " 8 patches\n",
        "merged"
       ]
      },
      {
       "output_type": "stream",
       "stream": "stdout",
       "text": [
        " 8 patches into 8\n",
        "New VI"
       ]
      },
      {
       "output_type": "stream",
       "stream": "stdout",
       "text": [
        " 0.831562757265\n",
        "--------------------------------------------------------------------------------\n",
        "Merging for sureness s= 0.0639735981822\n",
        "merging 116 134\n",
        "recomputed"
       ]
      },
      {
       "output_type": "stream",
       "stream": "stdout",
       "text": [
        " 7 patches\n",
        "merged 7 patches into 7\n",
        "New VI"
       ]
      },
      {
       "output_type": "stream",
       "stream": "stdout",
       "text": [
        " 0.832641312826\n",
        "--------------------------------------------------------------------------------\n",
        "Merging for sureness s= 0.280275553465\n",
        "merging 134 146\n",
        "recomputed"
       ]
      },
      {
       "output_type": "stream",
       "stream": "stdout",
       "text": [
        " 6 patches\n",
        "merged 6 patches into 6\n",
        "New VI"
       ]
      },
      {
       "output_type": "stream",
       "stream": "stdout",
       "text": [
        " 0.845190717615\n",
        "--------------------------------------------------------------------------------\n",
        "Merging for sureness s= 0.0629141423851\n",
        "merging 362 368\n",
        "recomputed"
       ]
      },
      {
       "output_type": "stream",
       "stream": "stdout",
       "text": [
        " 6 patches\n",
        "merged 6 patches into 6\n",
        "New VI"
       ]
      },
      {
       "output_type": "stream",
       "stream": "stdout",
       "text": [
        " 0.845346037574\n",
        "--------------------------------------------------------------------------------\n",
        "Merging for sureness s= 0.0529837720096\n",
        "merging 41 42\n",
        "recomputed"
       ]
      },
      {
       "output_type": "stream",
       "stream": "stdout",
       "text": [
        " 1 patches\n",
        "merged 1 patches into 1\n",
        "New VI"
       ]
      },
      {
       "output_type": "stream",
       "stream": "stdout",
       "text": [
        " 0.845613073893\n",
        "--------------------------------------------------------------------------------\n",
        "Merging for sureness s= 0.0498408451676\n",
        "merging 113 120\n",
        "recomputed"
       ]
      },
      {
       "output_type": "stream",
       "stream": "stdout",
       "text": [
        " 9 patches\n",
        "merged"
       ]
      },
      {
       "output_type": "stream",
       "stream": "stdout",
       "text": [
        " 9 patches into 9\n",
        "New VI"
       ]
      },
      {
       "output_type": "stream",
       "stream": "stdout",
       "text": [
        " 0.845522365103\n",
        "--------------------------------------------------------------------------------\n",
        "Merging for sureness s= 0.129959747195\n",
        "merging 111 120\n",
        "recomputed"
       ]
      },
      {
       "output_type": "stream",
       "stream": "stdout",
       "text": [
        " 17 patches\n",
        "merged"
       ]
      },
      {
       "output_type": "stream",
       "stream": "stdout",
       "text": [
        " 17 patches into 16\n",
        "New VI"
       ]
      },
      {
       "output_type": "stream",
       "stream": "stdout",
       "text": [
        " 0.844797942622\n",
        "--------------------------------------------------------------------------------\n",
        "Merging for sureness s= 0.067489258945\n",
        "merging 102 120\n",
        "recomputed"
       ]
      },
      {
       "output_type": "stream",
       "stream": "stdout",
       "text": [
        " 17 patches\n",
        "merged"
       ]
      },
      {
       "output_type": "stream",
       "stream": "stdout",
       "text": [
        " 17 patches into 16\n",
        "New VI"
       ]
      },
      {
       "output_type": "stream",
       "stream": "stdout",
       "text": [
        " 0.849473872005\n",
        "--------------------------------------------------------------------------------\n",
        "Merging for sureness s= 0.0446186494082\n",
        "merging 93 97\n",
        "recomputed"
       ]
      },
      {
       "output_type": "stream",
       "stream": "stdout",
       "text": [
        " 13 patches\n",
        "merged"
       ]
      },
      {
       "output_type": "stream",
       "stream": "stdout",
       "text": [
        " 13 patches into 13\n",
        "New VI"
       ]
      },
      {
       "output_type": "stream",
       "stream": "stdout",
       "text": [
        " 0.846177567052\n",
        "--------------------------------------------------------------------------------\n",
        "Merging for sureness s= 0.0307932943106\n",
        "merging 182 183\n",
        "recomputed"
       ]
      },
      {
       "output_type": "stream",
       "stream": "stdout",
       "text": [
        " 6 patches\n",
        "merged 6 patches into 6\n",
        "New VI"
       ]
      },
      {
       "output_type": "stream",
       "stream": "stdout",
       "text": [
        " 0.846160066335\n",
        "--------------------------------------------------------------------------------\n",
        "Merging for sureness s= 0.0286895893514\n",
        "merging 162 170\n",
        "recomputed"
       ]
      },
      {
       "output_type": "stream",
       "stream": "stdout",
       "text": [
        " 3 patches\n",
        "merged 3 patches into 3\n",
        "New VI"
       ]
      },
      {
       "output_type": "stream",
       "stream": "stdout",
       "text": [
        " 0.845366838499\n",
        "--------------------------------------------------------------------------------\n",
        "Merging for sureness s= 0.02782141231\n",
        "merging 223 231\n",
        "recomputed"
       ]
      },
      {
       "output_type": "stream",
       "stream": "stdout",
       "text": [
        " 11 patches\n",
        "merged"
       ]
      },
      {
       "output_type": "stream",
       "stream": "stdout",
       "text": [
        " 11 patches into 11\n",
        "New VI"
       ]
      },
      {
       "output_type": "stream",
       "stream": "stdout",
       "text": [
        " 0.846600567637\n",
        "--------------------------------------------------------------------------------\n",
        "Merging for sureness s= 0.0848362967372\n",
        "merging 208 231\n",
        "recomputed"
       ]
      },
      {
       "output_type": "stream",
       "stream": "stdout",
       "text": [
        " 18 patches\n",
        "merged"
       ]
      },
      {
       "output_type": "stream",
       "stream": "stdout",
       "text": [
        " 18 patches into 18\n",
        "New VI"
       ]
      },
      {
       "output_type": "stream",
       "stream": "stdout",
       "text": [
        " 0.857874566447\n",
        "--------------------------------------------------------------------------------\n",
        "Merging for sureness s= 0.0274952091277\n",
        "merging 283 298\n",
        "recomputed"
       ]
      },
      {
       "output_type": "stream",
       "stream": "stdout",
       "text": [
        " 8 patches\n",
        "merged"
       ]
      },
      {
       "output_type": "stream",
       "stream": "stdout",
       "text": [
        " 8 patches into 7\n",
        "New VI"
       ]
      },
      {
       "output_type": "stream",
       "stream": "stdout",
       "text": [
        " 0.857081734483\n",
        "--------------------------------------------------------------------------------\n",
        "Merging for sureness s= 0.0273573584855\n",
        "merging 74 78\n",
        "recomputed"
       ]
      },
      {
       "output_type": "stream",
       "stream": "stdout",
       "text": [
        " 16 patches\n",
        "merged"
       ]
      },
      {
       "output_type": "stream",
       "stream": "stdout",
       "text": [
        " 16 patches into 16\n",
        "New VI"
       ]
      },
      {
       "output_type": "stream",
       "stream": "stdout",
       "text": [
        " 0.858126994504\n",
        "--------------------------------------------------------------------------------\n",
        "Merging for sureness s= 0.523290872574\n",
        "merging 78 84\n",
        "recomputed"
       ]
      },
      {
       "output_type": "stream",
       "stream": "stdout",
       "text": [
        " 18 patches\n",
        "merged"
       ]
      },
      {
       "output_type": "stream",
       "stream": "stdout",
       "text": [
        " 18 patches into 18\n",
        "New VI"
       ]
      },
      {
       "output_type": "stream",
       "stream": "stdout",
       "text": [
        " 0.859940454663\n",
        "--------------------------------------------------------------------------------\n",
        "Merging for sureness s= 0.0262944754213\n",
        "merging 297 343\n",
        "recomputed"
       ]
      },
      {
       "output_type": "stream",
       "stream": "stdout",
       "text": [
        " 6 patches\n",
        "merged 6 patches into 6\n",
        "New VI"
       ]
      },
      {
       "output_type": "stream",
       "stream": "stdout",
       "text": [
        " 0.855918309151\n",
        "--------------------------------------------------------------------------------\n",
        "Merging for sureness s= 0.0256725363433\n",
        "merging 123 128\n",
        "recomputed"
       ]
      },
      {
       "output_type": "stream",
       "stream": "stdout",
       "text": [
        " 11 patches\n",
        "merged"
       ]
      },
      {
       "output_type": "stream",
       "stream": "stdout",
       "text": [
        " 11 patches into 10\n",
        "New VI"
       ]
      },
      {
       "output_type": "stream",
       "stream": "stdout",
       "text": [
        " 0.85668558862\n",
        "--------------------------------------------------------------------------------\n",
        "Merging for sureness s= 0.875252962112\n",
        "merging 120 128\n",
        "recomputed"
       ]
      },
      {
       "output_type": "stream",
       "stream": "stdout",
       "text": [
        " 18 patches\n",
        "merged"
       ]
      },
      {
       "output_type": "stream",
       "stream": "stdout",
       "text": [
        " 18 patches into 16\n",
        "New VI"
       ]
      },
      {
       "output_type": "stream",
       "stream": "stdout",
       "text": [
        " 0.863990632122\n",
        "--------------------------------------------------------------------------------\n",
        "Merging for sureness s= 0.0245049931109\n",
        "merging 172 196\n",
        "recomputed"
       ]
      },
      {
       "output_type": "stream",
       "stream": "stdout",
       "text": [
        " 14 patches\n",
        "merged"
       ]
      },
      {
       "output_type": "stream",
       "stream": "stdout",
       "text": [
        " 14 patches into 12\n",
        "New VI"
       ]
      },
      {
       "output_type": "stream",
       "stream": "stdout",
       "text": [
        " 0.86396952579\n",
        "--------------------------------------------------------------------------------\n",
        "Merging for sureness s= 0.0235060434788\n",
        "merging 321 340\n",
        "recomputed"
       ]
      },
      {
       "output_type": "stream",
       "stream": "stdout",
       "text": [
        " 3 patches\n",
        "merged 3 patches into 3\n",
        "New VI"
       ]
      },
      {
       "output_type": "stream",
       "stream": "stdout",
       "text": [
        " 0.865637412194\n",
        "--------------------------------------------------------------------------------\n",
        "Merging for sureness s= 0.0232196319848\n",
        "merging 97 109\n",
        "recomputed"
       ]
      },
      {
       "output_type": "stream",
       "stream": "stdout",
       "text": [
        " 10 patches\n",
        "merged"
       ]
      },
      {
       "output_type": "stream",
       "stream": "stdout",
       "text": [
        " 10 patches into 10\n",
        "New VI"
       ]
      },
      {
       "output_type": "stream",
       "stream": "stdout",
       "text": [
        " 0.867283981748\n",
        "--------------------------------------------------------------------------------\n",
        "Merging for sureness s= 0.0210603680462\n",
        "merging 250 282\n",
        "recomputed"
       ]
      },
      {
       "output_type": "stream",
       "stream": "stdout",
       "text": [
        " 6 patches\n",
        "merged 6 patches into 5\n",
        "New VI"
       ]
      },
      {
       "output_type": "stream",
       "stream": "stdout",
       "text": [
        " 0.867913077657\n",
        "--------------------------------------------------------------------------------\n",
        "Merging for sureness s= 0.0169980395585\n",
        "merging 84 85\n",
        "recomputed"
       ]
      },
      {
       "output_type": "stream",
       "stream": "stdout",
       "text": [
        " 13 patches\n",
        "merged"
       ]
      },
      {
       "output_type": "stream",
       "stream": "stdout",
       "text": [
        " 13 patches into 13\n",
        "New VI"
       ]
      },
      {
       "output_type": "stream",
       "stream": "stdout",
       "text": [
        " 0.871561145712\n",
        "--------------------------------------------------------------------------------\n",
        "Merging for sureness s= 0.0131398439407\n",
        "merging 328 339\n",
        "recomputed"
       ]
      },
      {
       "output_type": "stream",
       "stream": "stdout",
       "text": [
        " 6 patches\n",
        "merged 6 patches into 6\n",
        "New VI"
       ]
      },
      {
       "output_type": "stream",
       "stream": "stdout",
       "text": [
        " 0.871496835703\n",
        "--------------------------------------------------------------------------------\n",
        "Merging for sureness s= 0.00842326227576\n",
        "merging 63 69\n",
        "recomputed"
       ]
      },
      {
       "output_type": "stream",
       "stream": "stdout",
       "text": [
        " 1 patches\n",
        "merged 1 patches into 1\n",
        "New VI"
       ]
      },
      {
       "output_type": "stream",
       "stream": "stdout",
       "text": [
        " 0.87386667722\n",
        "--------------------------------------------------------------------------------\n",
        "Merging for sureness s= 0.007695869077\n",
        "merging 21 36\n",
        "recomputed"
       ]
      },
      {
       "output_type": "stream",
       "stream": "stdout",
       "text": [
        " 1 patches\n",
        "merged 1 patches into 1\n",
        "New VI"
       ]
      },
      {
       "output_type": "stream",
       "stream": "stdout",
       "text": [
        " 0.873282235184\n",
        "--------------------------------------------------------------------------------\n",
        "Merging for sureness s= 0.33435896039\n",
        "merging 31 36\n",
        "recomputed"
       ]
      },
      {
       "output_type": "stream",
       "stream": "stdout",
       "text": [
        " 0 patches\n",
        "merged 0 patches into 0\n",
        "New VI"
       ]
      },
      {
       "output_type": "stream",
       "stream": "stdout",
       "text": [
        " 0.871138341595\n",
        "--------------------------------------------------------------------------------\n",
        "Merging for sureness s= 0.00755806686357\n",
        "merging 291 332\n",
        "recomputed"
       ]
      },
      {
       "output_type": "stream",
       "stream": "stdout",
       "text": [
        " 3 patches\n",
        "merged 3 patches into 3\n",
        "New VI"
       ]
      },
      {
       "output_type": "stream",
       "stream": "stdout",
       "text": [
        " 0.883129644302\n",
        "--------------------------------------------------------------------------------\n",
        "Merging for sureness s= 0.00709722051397\n",
        "merging 151 166\n",
        "recomputed"
       ]
      },
      {
       "output_type": "stream",
       "stream": "stdout",
       "text": [
        " 14 patches\n",
        "merged"
       ]
      },
      {
       "output_type": "stream",
       "stream": "stdout",
       "text": [
        " 14 patches into 14\n",
        "New VI"
       ]
      },
      {
       "output_type": "stream",
       "stream": "stdout",
       "text": [
        " 0.883310579922\n",
        "--------------------------------------------------------------------------------\n",
        "Merging for sureness s= 0.00682063307613\n",
        "merging 202 211\n",
        "recomputed"
       ]
      },
      {
       "output_type": "stream",
       "stream": "stdout",
       "text": [
        " 2 patches\n",
        "merged 2 patches into 2\n",
        "New VI"
       ]
      },
      {
       "output_type": "stream",
       "stream": "stdout",
       "text": [
        " 0.882770257601\n",
        "--------------------------------------------------------------------------------\n",
        "Merging for sureness s= 0.0233282372355\n",
        "merging 206 211\n",
        "recomputed"
       ]
      },
      {
       "output_type": "stream",
       "stream": "stdout",
       "text": [
        " 1 patches\n",
        "merged 1 patches into 1\n",
        "New VI"
       ]
      },
      {
       "output_type": "stream",
       "stream": "stdout",
       "text": [
        " 0.882563579728\n",
        "--------------------------------------------------------------------------------\n",
        "Merging for sureness s= 0.00618098163977\n",
        "merging 86 91\n",
        "recomputed"
       ]
      },
      {
       "output_type": "stream",
       "stream": "stdout",
       "text": [
        " 6 patches\n",
        "merged 6 patches into 6\n",
        "New VI"
       ]
      },
      {
       "output_type": "stream",
       "stream": "stdout",
       "text": [
        " 0.883727801911\n",
        "--------------------------------------------------------------------------------\n",
        "Merging for sureness s= 0.00566800218076\n",
        "merging 339 342\n",
        "recomputed"
       ]
      },
      {
       "output_type": "stream",
       "stream": "stdout",
       "text": [
        " 5 patches\n",
        "merged 5 patches into 5\n",
        "New VI"
       ]
      },
      {
       "output_type": "stream",
       "stream": "stdout",
       "text": [
        " 0.88452014536\n",
        "--------------------------------------------------------------------------------\n",
        "Merging for sureness s= 0.00556141091511\n",
        "merging 364 368\n",
        "recomputed"
       ]
      },
      {
       "output_type": "stream",
       "stream": "stdout",
       "text": [
        " 2 patches\n",
        "merged 2 patches into 2\n",
        "New VI"
       ]
      },
      {
       "output_type": "stream",
       "stream": "stdout",
       "text": [
        " 0.885256467261\n",
        "--------------------------------------------------------------------------------\n",
        "Merging for sureness s= 0.00517534324899\n",
        "merging 279 296\n",
        "recomputed"
       ]
      },
      {
       "output_type": "stream",
       "stream": "stdout",
       "text": [
        " 1 patches\n",
        "merged 1 patches into 1\n",
        "New VI"
       ]
      },
      {
       "output_type": "stream",
       "stream": "stdout",
       "text": [
        " 0.885082473501\n",
        "--------------------------------------------------------------------------------\n",
        "Merging for sureness s= 0.00509284297004\n",
        "merging 332 348\n",
        "recomputed"
       ]
      },
      {
       "output_type": "stream",
       "stream": "stdout",
       "text": [
        " 2 patches\n",
        "merged 2 patches into 2\n",
        "New VI"
       ]
      },
      {
       "output_type": "stream",
       "stream": "stdout",
       "text": [
        " 0.885182085957\n",
        "--------------------------------------------------------------------------------\n",
        "Merging for sureness s= 0.00706390617415\n",
        "merging 343 348\n",
        "recomputed"
       ]
      },
      {
       "output_type": "stream",
       "stream": "stdout",
       "text": [
        " 2 patches\n",
        "merged 2 patches into 2\n",
        "New VI"
       ]
      },
      {
       "output_type": "stream",
       "stream": "stdout",
       "text": [
        " 0.905767824587\n",
        "--------------------------------------------------------------------------------\n",
        "Merging for sureness s= 0.00433486886322\n",
        "merging 148 153\n",
        "recomputed"
       ]
      },
      {
       "output_type": "stream",
       "stream": "stdout",
       "text": [
        " 14 patches\n",
        "merged"
       ]
      },
      {
       "output_type": "stream",
       "stream": "stdout",
       "text": [
        " 14 patches into 12\n",
        "New VI"
       ]
      },
      {
       "output_type": "stream",
       "stream": "stdout",
       "text": [
        " 0.906373325561\n",
        "--------------------------------------------------------------------------------\n",
        "Merging for sureness s= 0.592409323114\n",
        "merging 128 153\n",
        "recomputed"
       ]
      },
      {
       "output_type": "stream",
       "stream": "stdout",
       "text": [
        " 4 patches\n",
        "merged 4 patches into 4\n",
        "New VI"
       ]
      },
      {
       "output_type": "stream",
       "stream": "stdout",
       "text": [
        " 0.912013671329\n",
        "--------------------------------------------------------------------------------\n",
        "Merging for sureness s= 0.00298674730584\n",
        "merging 42 51\n",
        "recomputed"
       ]
      },
      {
       "output_type": "stream",
       "stream": "stdout",
       "text": [
        " 0 patches\n",
        "merged 0 patches into 0\n",
        "New VI"
       ]
      },
      {
       "output_type": "stream",
       "stream": "stdout",
       "text": [
        " 0.912275903634\n",
        "--------------------------------------------------------------------------------\n",
        "Merging for sureness s= 0.00297154230066\n",
        "merging 77 81\n",
        "recomputed"
       ]
      },
      {
       "output_type": "stream",
       "stream": "stdout",
       "text": [
        " 17 patches\n",
        "merged"
       ]
      },
      {
       "output_type": "stream",
       "stream": "stdout",
       "text": [
        " 17 patches into 17\n",
        "New VI"
       ]
      },
      {
       "output_type": "stream",
       "stream": "stdout",
       "text": [
        " 0.912086038783\n",
        "--------------------------------------------------------------------------------\n",
        "Merging for sureness s= 0.0125019550323\n",
        "merging 70 81\n",
        "recomputed"
       ]
      },
      {
       "output_type": "stream",
       "stream": "stdout",
       "text": [
        " 3 patches\n",
        "merged 3 patches into 3\n",
        "New VI"
       ]
      },
      {
       "output_type": "stream",
       "stream": "stdout",
       "text": [
        " 0.919205760977\n",
        "--------------------------------------------------------------------------------\n",
        "Merging for sureness s= 0.0024400302209\n",
        "merging 216 219\n",
        "recomputed"
       ]
      },
      {
       "output_type": "stream",
       "stream": "stdout",
       "text": [
        " 1 patches\n",
        "merged 1 patches into 1\n",
        "New VI"
       ]
      },
      {
       "output_type": "stream",
       "stream": "stdout",
       "text": [
        " 0.919004562051\n",
        "--------------------------------------------------------------------------------\n",
        "Merging for sureness s= 0.447473168373\n",
        "merging 219 226\n",
        "recomputed"
       ]
      },
      {
       "output_type": "stream",
       "stream": "stdout",
       "text": [
        " 0 patches\n",
        "merged 0 patches into 0\n",
        "New VI"
       ]
      },
      {
       "output_type": "stream",
       "stream": "stdout",
       "text": [
        " 0.918558631303\n",
        "--------------------------------------------------------------------------------\n",
        "Merging for sureness s= 0.00228746421635\n",
        "merging 48 55\n",
        "recomputed"
       ]
      },
      {
       "output_type": "stream",
       "stream": "stdout",
       "text": [
        " 0 patches\n",
        "merged 0 patches into 0\n",
        "New VI"
       ]
      },
      {
       "output_type": "stream",
       "stream": "stdout",
       "text": [
        " 0.919248494995\n",
        "--------------------------------------------------------------------------------\n",
        "Merging for sureness s= 0.00195564120077\n",
        "merging 260 270\n",
        "recomputed"
       ]
      },
      {
       "output_type": "stream",
       "stream": "stdout",
       "text": [
        " 8 patches\n",
        "merged"
       ]
      },
      {
       "output_type": "stream",
       "stream": "stdout",
       "text": [
        " 8 patches into 8\n",
        "New VI"
       ]
      },
      {
       "output_type": "stream",
       "stream": "stdout",
       "text": [
        " 0.918963171382\n",
        "--------------------------------------------------------------------------------\n",
        "Merging for sureness s= 0.00189103721641\n",
        "merging 171 180\n",
        "recomputed"
       ]
      },
      {
       "output_type": "stream",
       "stream": "stdout",
       "text": [
        " 3 patches\n",
        "merged 3 patches into 3\n",
        "New VI"
       ]
      },
      {
       "output_type": "stream",
       "stream": "stdout",
       "text": [
        " 0.920048341362\n",
        "--------------------------------------------------------------------------------\n",
        "Merging for sureness s= 0.00336689408869\n",
        "merging 163 180\n",
        "recomputed"
       ]
      },
      {
       "output_type": "stream",
       "stream": "stdout",
       "text": [
        " 3 patches\n",
        "merged 3 patches into 3\n",
        "New VI"
       ]
      },
      {
       "output_type": "stream",
       "stream": "stdout",
       "text": [
        " 0.920425181344\n",
        "--------------------------------------------------------------------------------\n",
        "Merging for sureness s= 0.00162733485922\n",
        "merging 303 312\n",
        "recomputed"
       ]
      },
      {
       "output_type": "stream",
       "stream": "stdout",
       "text": [
        " 2 patches\n",
        "merged 2 patches into 2\n",
        "New VI"
       ]
      },
      {
       "output_type": "stream",
       "stream": "stdout",
       "text": [
        " 0.921680836294\n",
        "--------------------------------------------------------------------------------\n",
        "Merging for sureness s= 0.00154446437955\n",
        "merging 45 46\n",
        "recomputed"
       ]
      },
      {
       "output_type": "stream",
       "stream": "stdout",
       "text": [
        " 3 patches\n",
        "merged 3 patches into 3\n",
        "New VI"
       ]
      },
      {
       "output_type": "stream",
       "stream": "stdout",
       "text": [
        " 0.922140361223\n",
        "--------------------------------------------------------------------------------\n",
        "Merging for sureness s= 0.00143568171188\n",
        "merging 281 289\n",
        "recomputed"
       ]
      },
      {
       "output_type": "stream",
       "stream": "stdout",
       "text": [
        " 6 patches\n",
        "merged 6 patches into 6\n",
        "New VI"
       ]
      },
      {
       "output_type": "stream",
       "stream": "stdout",
       "text": [
        " 0.926574106198\n",
        "--------------------------------------------------------------------------------\n",
        "Merging for sureness s= 0.00112334627192\n",
        "merging 132 135\n",
        "recomputed"
       ]
      },
      {
       "output_type": "stream",
       "stream": "stdout",
       "text": [
        " 3 patches\n",
        "merged 3 patches into 3\n",
        "New VI"
       ]
      },
      {
       "output_type": "stream",
       "stream": "stdout",
       "text": [
        " 0.924730900927\n",
        "--------------------------------------------------------------------------------\n",
        "Merging for sureness s= 0.000878739403561\n",
        "merging 213 217\n",
        "recomputed"
       ]
      },
      {
       "output_type": "stream",
       "stream": "stdout",
       "text": [
        " 0 patches\n",
        "merged 0 patches into 0\n",
        "New VI"
       ]
      },
      {
       "output_type": "stream",
       "stream": "stdout",
       "text": [
        " 0.924438971966\n",
        "--------------------------------------------------------------------------------\n",
        "Merging for sureness s= 0.000625514832791\n",
        "merging 231 249\n",
        "recomputed"
       ]
      },
      {
       "output_type": "stream",
       "stream": "stdout",
       "text": [
        " 12 patches\n",
        "merged"
       ]
      },
      {
       "output_type": "stream",
       "stream": "stdout",
       "text": [
        " 12 patches into 12\n",
        "New VI"
       ]
      },
      {
       "output_type": "stream",
       "stream": "stdout",
       "text": [
        " 0.923637238361\n",
        "--------------------------------------------------------------------------------\n",
        "Merging for sureness s= 0.000613000127487\n",
        "merging 99 103\n",
        "recomputed"
       ]
      },
      {
       "output_type": "stream",
       "stream": "stdout",
       "text": [
        " 5 patches\n",
        "merged 5 patches into 5\n",
        "New VI"
       ]
      },
      {
       "output_type": "stream",
       "stream": "stdout",
       "text": [
        " 0.93036801812\n",
        "--------------------------------------------------------------------------------\n",
        "Merging for sureness s= 0.000579207029659\n",
        "merging 324 330\n",
        "recomputed"
       ]
      },
      {
       "output_type": "stream",
       "stream": "stdout",
       "text": [
        " 1 patches\n",
        "merged 1 patches into 1\n",
        "New VI"
       ]
      },
      {
       "output_type": "stream",
       "stream": "stdout",
       "text": [
        " 0.930136199062\n",
        "--------------------------------------------------------------------------------\n",
        "Merging for sureness s= 0.15069834888\n",
        "merging 322 330\n",
        "recomputed"
       ]
      },
      {
       "output_type": "stream",
       "stream": "stdout",
       "text": [
        " 8 patches\n",
        "merged 8 patches into 8\n",
        "New VI"
       ]
      },
      {
       "output_type": "stream",
       "stream": "stdout",
       "text": [
        " 0.933312476434\n",
        "--------------------------------------------------------------------------------\n",
        "Merging for sureness s= 0.000501501257531\n",
        "merging 344 350\n",
        "recomputed"
       ]
      },
      {
       "output_type": "stream",
       "stream": "stdout",
       "text": [
        " 2 patches\n",
        "merged 2 patches into 2\n",
        "New VI"
       ]
      },
      {
       "output_type": "stream",
       "stream": "stdout",
       "text": [
        " 0.932912602122\n",
        "--------------------------------------------------------------------------------\n",
        "Merging for sureness s= 0.000483780691866\n",
        "merging 165 177\n",
        "recomputed"
       ]
      },
      {
       "output_type": "stream",
       "stream": "stdout",
       "text": [
        " 13 patches\n",
        "merged"
       ]
      },
      {
       "output_type": "stream",
       "stream": "stdout",
       "text": [
        " 13 patches into 12\n",
        "New VI"
       ]
      },
      {
       "output_type": "stream",
       "stream": "stdout",
       "text": [
        " 0.933348505186\n",
        "--------------------------------------------------------------------------------\n",
        "Merging for sureness s= 0.000424412435677\n",
        "merging 212 220\n",
        "recomputed"
       ]
      },
      {
       "output_type": "stream",
       "stream": "stdout",
       "text": [
        " 11 patches\n",
        "merged"
       ]
      },
      {
       "output_type": "stream",
       "stream": "stdout",
       "text": [
        " 11 patches into 11\n",
        "New VI"
       ]
      },
      {
       "output_type": "stream",
       "stream": "stdout",
       "text": [
        " 0.934259956405\n",
        "--------------------------------------------------------------------------------\n",
        "Merging for sureness s= 0.000690288085025\n",
        "merging 179 220\n",
        "recomputed"
       ]
      },
      {
       "output_type": "stream",
       "stream": "stdout",
       "text": [
        " 5 patches\n",
        "merged 5 patches into 5\n",
        "New VI"
       ]
      },
      {
       "output_type": "stream",
       "stream": "stdout",
       "text": [
        " 0.937372979698\n",
        "--------------------------------------------------------------------------------\n",
        "Merging for sureness s= 0.000399344513426\n",
        "merging 313 350\n",
        "recomputed"
       ]
      },
      {
       "output_type": "stream",
       "stream": "stdout",
       "text": [
        " 5 patches\n",
        "merged 5 patches into 5\n",
        "New VI"
       ]
      },
      {
       "output_type": "stream",
       "stream": "stdout",
       "text": [
        " 0.944765015615\n",
        "--------------------------------------------------------------------------------\n",
        "Merging for sureness s= 0.000351057117541\n",
        "merging 360 367\n",
        "recomputed"
       ]
      },
      {
       "output_type": "stream",
       "stream": "stdout",
       "text": [
        " 2 patches\n",
        "merged 2 patches into 2\n",
        "New VI"
       ]
      },
      {
       "output_type": "stream",
       "stream": "stdout",
       "text": [
        " 0.944427803951\n",
        "--------------------------------------------------------------------------------\n",
        "Merging for sureness s= 0.00029993330827\n",
        "merging 253 256\n",
        "recomputed"
       ]
      },
      {
       "output_type": "stream",
       "stream": "stdout",
       "text": [
        " 0 patches\n",
        "merged 0 patches into 0\n",
        "New VI"
       ]
      },
      {
       "output_type": "stream",
       "stream": "stdout",
       "text": [
        " 0.944807513745\n",
        "--------------------------------------------------------------------------------\n",
        "Merging for sureness s= 0.000292820710456\n",
        "merging 183 184\n",
        "recomputed"
       ]
      },
      {
       "output_type": "stream",
       "stream": "stdout",
       "text": [
        " 4 patches\n",
        "merged 4 patches into 4\n",
        "New VI"
       ]
      },
      {
       "output_type": "stream",
       "stream": "stdout",
       "text": [
        " 0.945589047358\n",
        "--------------------------------------------------------------------------------\n",
        "Merging for sureness s= 0.000249005883234\n",
        "merging 199 209\n",
        "recomputed"
       ]
      },
      {
       "output_type": "stream",
       "stream": "stdout",
       "text": [
        " 3 patches\n",
        "merged 3 patches into 3\n",
        "New VI"
       ]
      },
      {
       "output_type": "stream",
       "stream": "stdout",
       "text": [
        " 0.946634861569\n",
        "--------------------------------------------------------------------------------\n",
        "Merging for sureness s= 0.00023862272792\n",
        "merging 342 347\n",
        "recomputed"
       ]
      },
      {
       "output_type": "stream",
       "stream": "stdout",
       "text": [
        " 5 patches\n",
        "merged 5 patches into 5\n",
        "New VI"
       ]
      },
      {
       "output_type": "stream",
       "stream": "stdout",
       "text": [
        " 0.94899946097\n",
        "--------------------------------------------------------------------------------\n",
        "Merging for sureness s= 0.0291267242283\n",
        "merging 345 347\n",
        "recomputed"
       ]
      },
      {
       "output_type": "stream",
       "stream": "stdout",
       "text": [
        " 1 patches\n",
        "merged 1 patches into 1\n",
        "New VI"
       ]
      },
      {
       "output_type": "stream",
       "stream": "stdout",
       "text": [
        " 0.948106793865\n",
        "--------------------------------------------------------------------------------\n",
        "Merging for sureness s= 0.0179621148854\n",
        "merging 347 353\n",
        "recomputed"
       ]
      },
      {
       "output_type": "stream",
       "stream": "stdout",
       "text": [
        " 3 patches\n",
        "merged 3 patches into 3\n",
        "New VI"
       ]
      },
      {
       "output_type": "stream",
       "stream": "stdout",
       "text": [
        " 0.950037844904\n",
        "--------------------------------------------------------------------------------\n",
        "Merging for sureness s= 0.000230550431297\n",
        "merging 329 335\n",
        "recomputed"
       ]
      },
      {
       "output_type": "stream",
       "stream": "stdout",
       "text": [
        " 4 patches\n",
        "merged 4 patches into 4\n",
        "New VI"
       ]
      },
      {
       "output_type": "stream",
       "stream": "stdout",
       "text": [
        " 0.959604231546\n",
        "--------------------------------------------------------------------------------\n",
        "Merging for sureness s= 0.000220691188588\n",
        "merging 109 114\n",
        "recomputed"
       ]
      },
      {
       "output_type": "stream",
       "stream": "stdout",
       "text": [
        " 4 patches\n",
        "merged 4 patches into 4\n",
        "New VI"
       ]
      },
      {
       "output_type": "stream",
       "stream": "stdout",
       "text": [
        " 0.959914905669\n",
        "--------------------------------------------------------------------------------\n",
        "Merging for sureness s= 0.000177886555321\n",
        "merging 205 209\n",
        "recomputed"
       ]
      },
      {
       "output_type": "stream",
       "stream": "stdout",
       "text": [
        " 2 patches\n",
        "merged 2 patches into 2\n",
        "New VI"
       ]
      },
      {
       "output_type": "stream",
       "stream": "stdout",
       "text": [
        " 0.962637381231\n",
        "--------------------------------------------------------------------------------\n",
        "Merging for sureness s= 0.000432548928075\n",
        "merging 192 209\n",
        "recomputed"
       ]
      },
      {
       "output_type": "stream",
       "stream": "stdout",
       "text": [
        " 0 patches\n",
        "merged 0 patches into 0\n",
        "New VI"
       ]
      },
      {
       "output_type": "stream",
       "stream": "stdout",
       "text": [
        " 0.964554501343\n",
        "--------------------------------------------------------------------------------\n",
        "Merging for sureness s= 0.000169124483364\n",
        "merging 225 232\n",
        "recomputed"
       ]
      },
      {
       "output_type": "stream",
       "stream": "stdout",
       "text": [
        " 2 patches\n",
        "merged 2 patches into 2\n",
        "New VI"
       ]
      },
      {
       "output_type": "stream",
       "stream": "stdout",
       "text": [
        " 0.964552959252\n",
        "--------------------------------------------------------------------------------\n",
        "Merging for sureness s= 0.00282187061384\n",
        "merging 220 232\n",
        "recomputed"
       ]
      },
      {
       "output_type": "stream",
       "stream": "stdout",
       "text": [
        " 4 patches\n",
        "merged 4 patches into 4\n",
        "New VI"
       ]
      },
      {
       "output_type": "stream",
       "stream": "stdout",
       "text": [
        " 0.96536391283\n",
        "--------------------------------------------------------------------------------\n",
        "Merging for sureness s= 0.000166032026755\n",
        "merging 150 152\n",
        "recomputed"
       ]
      },
      {
       "output_type": "stream",
       "stream": "stdout",
       "text": [
        " 3 patches\n",
        "merged 3 patches into 2\n",
        "New VI"
       ]
      },
      {
       "output_type": "stream",
       "stream": "stdout",
       "text": [
        " 0.966356612289\n",
        "--------------------------------------------------------------------------------\n",
        "Merging for sureness s= 0.00701169203967\n",
        "merging 152 153\n",
        "recomputed"
       ]
      },
      {
       "output_type": "stream",
       "stream": "stdout",
       "text": [
        " 4 patches\n",
        "merged 4 patches into 3\n",
        "New VI"
       ]
      },
      {
       "output_type": "stream",
       "stream": "stdout",
       "text": [
        " 0.971151570775\n",
        "--------------------------------------------------------------------------------\n",
        "Merging for sureness s= 0.000164164826856\n",
        "merging 168 180\n",
        "recomputed"
       ]
      },
      {
       "output_type": "stream",
       "stream": "stdout",
       "text": [
        " 3 patches\n",
        "merged 3 patches into 2\n",
        "New VI"
       ]
      },
      {
       "output_type": "stream",
       "stream": "stdout",
       "text": [
        " 0.971584638033\n",
        "--------------------------------------------------------------------------------\n",
        "Merging for sureness s= 0.000158751943673\n",
        "merging 177 186\n",
        "recomputed"
       ]
      },
      {
       "output_type": "stream",
       "stream": "stdout",
       "text": [
        " 7 patches\n",
        "merged 7 patches into 7\n",
        "New VI"
       ]
      },
      {
       "output_type": "stream",
       "stream": "stdout",
       "text": [
        " 0.978750713065\n",
        "--------------------------------------------------------------------------------\n",
        "Merging for sureness s= 0.00429152976722\n",
        "merging 169 186\n",
        "recomputed"
       ]
      },
      {
       "output_type": "stream",
       "stream": "stdout",
       "text": [
        " 2 patches\n",
        "merged 2 patches into 2\n",
        "New VI"
       ]
      },
      {
       "output_type": "stream",
       "stream": "stdout",
       "text": [
        " 0.985924886981\n",
        "--------------------------------------------------------------------------------\n",
        "Merging for sureness s= 8.13418882899e-05\n",
        "merging 92 100\n",
        "recomputed"
       ]
      },
      {
       "output_type": "stream",
       "stream": "stdout",
       "text": [
        " 4 patches\n",
        "merged 4 patches into 4\n",
        "New VI"
       ]
      },
      {
       "output_type": "stream",
       "stream": "stdout",
       "text": [
        " 0.987844958718\n",
        "--------------------------------------------------------------------------------\n",
        "Merging for sureness s= 0.000118547170132\n",
        "merging 91 100\n",
        "recomputed"
       ]
      },
      {
       "output_type": "stream",
       "stream": "stdout",
       "text": [
        " 1 patches\n",
        "merged 1 patches into 1\n",
        "New VI"
       ]
      },
      {
       "output_type": "stream",
       "stream": "stdout",
       "text": [
        " 0.991067072282\n",
        "--------------------------------------------------------------------------------\n",
        "Merging for sureness s= 5.84462541156e-05\n",
        "merging 60 82\n",
        "recomputed"
       ]
      },
      {
       "output_type": "stream",
       "stream": "stdout",
       "text": [
        " 2 patches\n",
        "merged 2 patches into 2\n",
        "New VI"
       ]
      },
      {
       "output_type": "stream",
       "stream": "stdout",
       "text": [
        " 0.992859368265\n",
        "--------------------------------------------------------------------------------\n",
        "Merging for sureness s= 5.19373534189e-05\n",
        "merging 107 112\n",
        "recomputed"
       ]
      },
      {
       "output_type": "stream",
       "stream": "stdout",
       "text": [
        " 1 patches\n",
        "merged 1 patches into 1\n",
        "New VI"
       ]
      },
      {
       "output_type": "stream",
       "stream": "stdout",
       "text": [
        " 0.993611189381\n",
        "--------------------------------------------------------------------------------\n",
        "Merging for sureness s= 4.9918617151e-05\n",
        "merging 157 181\n",
        "recomputed"
       ]
      },
      {
       "output_type": "stream",
       "stream": "stdout",
       "text": [
        " 1 patches\n",
        "merged 1 patches into 1\n",
        "New VI"
       ]
      },
      {
       "output_type": "stream",
       "stream": "stdout",
       "text": [
        " 0.993952323392\n",
        "--------------------------------------------------------------------------------\n",
        "Merging for sureness s= 4.65038065158e-05\n",
        "merging 233 242\n",
        "recomputed"
       ]
      },
      {
       "output_type": "stream",
       "stream": "stdout",
       "text": [
        " 2 patches\n",
        "merged 2 patches into 2\n",
        "New VI"
       ]
      },
      {
       "output_type": "stream",
       "stream": "stdout",
       "text": [
        " 0.994652139026\n",
        "--------------------------------------------------------------------------------\n",
        "Merging for sureness s= 4.28576713603e-05\n",
        "merging 180 191\n",
        "recomputed"
       ]
      },
      {
       "output_type": "stream",
       "stream": "stdout",
       "text": [
        " 1 patches\n",
        "merged 1 patches into 1\n",
        "New VI"
       ]
      },
      {
       "output_type": "stream",
       "stream": "stdout",
       "text": [
        " 0.997732014156\n",
        "--------------------------------------------------------------------------------\n",
        "Merging for sureness s= 4.18429444835e-05\n",
        "merging 119 130\n",
        "recomputed"
       ]
      },
      {
       "output_type": "stream",
       "stream": "stdout",
       "text": [
        " 0 patches\n",
        "merged 0 patches into 0\n",
        "New VI"
       ]
      },
      {
       "output_type": "stream",
       "stream": "stdout",
       "text": [
        " 0.99869935546\n",
        "--------------------------------------------------------------------------------\n",
        "Merging for sureness s= 3.46441083821e-05\n",
        "merging 17 54\n",
        "recomputed"
       ]
      },
      {
       "output_type": "stream",
       "stream": "stdout",
       "text": [
        " 1 patches\n",
        "merged 1 patches into 1\n",
        "New VI"
       ]
      },
      {
       "output_type": "stream",
       "stream": "stdout",
       "text": [
        " 1.00257647725\n",
        "--------------------------------------------------------------------------------\n",
        "Merging for sureness s= 0.0012898807181\n",
        "merging 47 54\n",
        "recomputed"
       ]
      },
      {
       "output_type": "stream",
       "stream": "stdout",
       "text": [
        " 1 patches\n",
        "merged 1 patches into 1\n",
        "New VI"
       ]
      },
      {
       "output_type": "stream",
       "stream": "stdout",
       "text": [
        " 1.00646482091\n",
        "--------------------------------------------------------------------------------\n",
        "Merging for sureness s= 3.28378446284e-05\n",
        "merging 263 267\n",
        "recomputed"
       ]
      },
      {
       "output_type": "stream",
       "stream": "stdout",
       "text": [
        " 0 patches\n",
        "merged 0 patches into 0\n",
        "New VI"
       ]
      },
      {
       "output_type": "stream",
       "stream": "stdout",
       "text": [
        " 1.00678821979\n",
        "--------------------------------------------------------------------------------\n",
        "Merging for sureness s= 2.77447707049e-05\n",
        "merging 296 299\n",
        "recomputed"
       ]
      },
      {
       "output_type": "stream",
       "stream": "stdout",
       "text": [
        " 0 patches\n",
        "merged 0 patches into 0\n",
        "New VI"
       ]
      },
      {
       "output_type": "stream",
       "stream": "stdout",
       "text": [
        " 1.00944849398\n",
        "--------------------------------------------------------------------------------\n",
        "Merging for sureness s= 1.91935996554e-05\n",
        "merging 236 239\n",
        "recomputed"
       ]
      },
      {
       "output_type": "stream",
       "stream": "stdout",
       "text": [
        " 0 patches\n",
        "merged 0 patches into 0\n",
        "New VI"
       ]
      },
      {
       "output_type": "stream",
       "stream": "stdout",
       "text": [
        " 1.00883499236\n",
        "--------------------------------------------------------------------------------\n",
        "Merging for sureness s= 1.40119627758e-05\n",
        "merging 80 83\n",
        "recomputed"
       ]
      },
      {
       "output_type": "stream",
       "stream": "stdout",
       "text": [
        " 2 patches\n",
        "merged 2 patches into 2\n",
        "New VI"
       ]
      },
      {
       "output_type": "stream",
       "stream": "stdout",
       "text": [
        " 1.00957179213\n",
        "--------------------------------------------------------------------------------\n",
        "Merging for sureness s= 0.0127314794809\n",
        "merging 83 85\n",
        "recomputed"
       ]
      },
      {
       "output_type": "stream",
       "stream": "stdout",
       "text": [
        " 1 patches\n",
        "merged 1 patches into 1\n",
        "New VI"
       ]
      },
      {
       "output_type": "stream",
       "stream": "stdout",
       "text": [
        " 1.00967706404\n",
        "--------------------------------------------------------------------------------\n",
        "Merging for sureness s= 5.7727256717e-06\n",
        "merging 274 293\n",
        "recomputed"
       ]
      },
      {
       "output_type": "stream",
       "stream": "stdout",
       "text": [
        " 0 patches\n",
        "merged 0 patches into 0\n",
        "New VI"
       ]
      },
      {
       "output_type": "stream",
       "stream": "stdout",
       "text": [
        " 1.01119788271\n",
        "--------------------------------------------------------------------------------\n",
        "Merging for sureness s= 2.31247122429e-06\n",
        "merging 224 232\n",
        "recomputed"
       ]
      },
      {
       "output_type": "stream",
       "stream": "stdout",
       "text": [
        " 0 patches\n",
        "merged 0 patches into 0\n",
        "New VI"
       ]
      },
      {
       "output_type": "stream",
       "stream": "stdout",
       "text": [
        " 1.01375039854\n",
        "--------------------------------------------------------------------------------\n",
        "Merging for sureness s= 1.62502738021e-06\n",
        "merging 82 90\n",
        "recomputed"
       ]
      },
      {
       "output_type": "stream",
       "stream": "stdout",
       "text": [
        " 1 patches\n",
        "merged 1 patches into 1\n",
        "New VI"
       ]
      },
      {
       "output_type": "stream",
       "stream": "stdout",
       "text": [
        " 1.01330792621\n",
        "--------------------------------------------------------------------------------\n",
        "Merging for sureness s= 0.000370943394955\n",
        "merging 90 94\n",
        "recomputed"
       ]
      },
      {
       "output_type": "stream",
       "stream": "stdout",
       "text": [
        " 1 patches\n",
        "merged 1 patches into 1\n",
        "New VI"
       ]
      },
      {
       "output_type": "stream",
       "stream": "stdout",
       "text": [
        " 1.01455869906\n",
        "--------------------------------------------------------------------------------\n",
        "Merging for sureness s= 1.48358947172e-06\n",
        "merging 85 96\n",
        "recomputed"
       ]
      },
      {
       "output_type": "stream",
       "stream": "stdout",
       "text": [
        " 1 patches\n",
        "merged 1 patches into 1\n",
        "New VI"
       ]
      },
      {
       "output_type": "stream",
       "stream": "stdout",
       "text": [
        " 1.01662616878\n",
        "--------------------------------------------------------------------------------\n",
        "Merging for sureness s= 0.836531579494\n",
        "merging 96 100\n",
        "recomputed"
       ]
      },
      {
       "output_type": "stream",
       "stream": "stdout",
       "text": [
        " 0 patches\n",
        "merged 0 patches into 0\n",
        "New VI"
       ]
      },
      {
       "output_type": "stream",
       "stream": "stdout",
       "text": [
        " 1.02679889886\n",
        "--------------------------------------------------------------------------------\n",
        "Merging for sureness s= 8.34717525322e-07\n",
        "merging 71 89\n",
        "recomputed"
       ]
      },
      {
       "output_type": "stream",
       "stream": "stdout",
       "text": [
        " 1 patches\n",
        "merged 1 patches into 1\n",
        "New VI"
       ]
      },
      {
       "output_type": "stream",
       "stream": "stdout",
       "text": [
        " 1.02995596635\n",
        "--------------------------------------------------------------------------------\n",
        "Merging for sureness s= 6.60528485241e-07\n",
        "merging 268 269\n",
        "recomputed"
       ]
      },
      {
       "output_type": "stream",
       "stream": "stdout",
       "text": [
        " 0 patches\n",
        "merged 0 patches into 0\n",
        "New VI"
       ]
      },
      {
       "output_type": "stream",
       "stream": "stdout",
       "text": [
        " 1.03163234449\n",
        "--------------------------------------------------------------------------------\n",
        "Merging for sureness s= 6.02329464527e-07\n",
        "merging 341 346\n",
        "recomputed"
       ]
      },
      {
       "output_type": "stream",
       "stream": "stdout",
       "text": [
        " 2 patches\n",
        "merged 2 patches into 2\n",
        "New VI"
       ]
      },
      {
       "output_type": "stream",
       "stream": "stdout",
       "text": [
        " 1.0330099801\n",
        "--------------------------------------------------------------------------------\n",
        "Merging for sureness s= 0.00688240490854\n",
        "merging 340 346\n",
        "recomputed"
       ]
      },
      {
       "output_type": "stream",
       "stream": "stdout",
       "text": [
        " 2 patches\n",
        "merged 2 patches into 2\n",
        "New VI"
       ]
      },
      {
       "output_type": "stream",
       "stream": "stdout",
       "text": [
        " 1.03676360958\n",
        "--------------------------------------------------------------------------------\n",
        "Merging for sureness s= 6.22018944796e-07\n",
        "merging 346 367\n",
        "recomputed"
       ]
      },
      {
       "output_type": "stream",
       "stream": "stdout",
       "text": [
        " 1 patches\n",
        "merged 1 patches into 1\n",
        "New VI"
       ]
      },
      {
       "output_type": "stream",
       "stream": "stdout",
       "text": [
        " 1.03788148483\n",
        "--------------------------------------------------------------------------------\n",
        "Merging for sureness s= 4.7719640861e-07\n",
        "merging 29 32\n",
        "recomputed"
       ]
      },
      {
       "output_type": "stream",
       "stream": "stdout",
       "text": [
        " 1 patches\n",
        "merged 1 patches into 1\n",
        "New VI"
       ]
      },
      {
       "output_type": "stream",
       "stream": "stdout",
       "text": [
        " 1.04172082864\n",
        "--------------------------------------------------------------------------------\n",
        "Merging for sureness s= 1.33463487373e-07\n",
        "merging 317 323\n",
        "recomputed"
       ]
      },
      {
       "output_type": "stream",
       "stream": "stdout",
       "text": [
        " 0 patches\n",
        "merged 0 patches into 0\n",
        "New VI"
       ]
      },
      {
       "output_type": "stream",
       "stream": "stdout",
       "text": [
        " 1.04229567129\n",
        "--------------------------------------------------------------------------------\n",
        "Merging for sureness s= 9.24716836437e-09\n",
        "merging 89 122\n",
        "recomputed"
       ]
      },
      {
       "output_type": "stream",
       "stream": "stdout",
       "text": [
        " 1 patches\n",
        "merged 1 patches into 1\n",
        "New VI"
       ]
      },
      {
       "output_type": "stream",
       "stream": "stdout",
       "text": [
        " 1.04401222288\n",
        "--------------------------------------------------------------------------------\n",
        "Merging for sureness s= 8.74459615829e-09\n",
        "merging 273 288\n",
        "recomputed"
       ]
      },
      {
       "output_type": "stream",
       "stream": "stdout",
       "text": [
        " 2 patches\n",
        "merged 2 patches into 2\n",
        "New VI"
       ]
      },
      {
       "output_type": "stream",
       "stream": "stdout",
       "text": [
        " 1.04485129494\n",
        "--------------------------------------------------------------------------------\n",
        "Merging for sureness s= 2.73667422057e-09\n",
        "merging 354 363\n",
        "recomputed"
       ]
      },
      {
       "output_type": "stream",
       "stream": "stdout",
       "text": [
        " 0 patches\n",
        "merged 0 patches into 0\n",
        "New VI"
       ]
      },
      {
       "output_type": "stream",
       "stream": "stdout",
       "text": [
        " 1.0581528733\n",
        "--------------------------------------------------------------------------------\n",
        "Merging for sureness s= 9.69361924064e-10\n",
        "merging 307 312\n",
        "recomputed"
       ]
      },
      {
       "output_type": "stream",
       "stream": "stdout",
       "text": [
        " 0 patches\n",
        "merged 0 patches into 0\n",
        "New VI"
       ]
      },
      {
       "output_type": "stream",
       "stream": "stdout",
       "text": [
        " 1.06028547793\n",
        "--------------------------------------------------------------------------------\n",
        "Merging for sureness s= 6.51533327289e-10\n",
        "merging 288 306\n",
        "recomputed"
       ]
      },
      {
       "output_type": "stream",
       "stream": "stdout",
       "text": [
        " 0 patches\n",
        "merged 0 patches into 0\n",
        "New VI"
       ]
      },
      {
       "output_type": "stream",
       "stream": "stdout",
       "text": [
        " 1.0626686926\n",
        "--------------------------------------------------------------------------------\n",
        "Merging for sureness s= 3.18540555044e-10\n",
        "merging 186 195\n",
        "recomputed"
       ]
      },
      {
       "output_type": "stream",
       "stream": "stdout",
       "text": [
        " 0 patches\n",
        "merged 0 patches into 0\n",
        "New VI"
       ]
      },
      {
       "output_type": "stream",
       "stream": "stdout",
       "text": [
        " 1.06259910543\n",
        "--------------------------------------------------------------------------------\n",
        "Merging for sureness s= 1.18470866797e-11\n",
        "merging 35 46\n",
        "recomputed"
       ]
      },
      {
       "output_type": "stream",
       "stream": "stdout",
       "text": [
        " 0 patches\n",
        "merged 0 patches into 0\n",
        "New VI"
       ]
      },
      {
       "output_type": "stream",
       "stream": "stdout",
       "text": [
        " 1.06571036647\n",
        "--------------------------------------------------------------------------------\n",
        "Merging for sureness s= 2.11935729921e-16\n",
        "merging 170 174\n",
        "recomputed"
       ]
      },
      {
       "output_type": "stream",
       "stream": "stdout",
       "text": [
        " 0 patches\n",
        "merged 0 patches into 0\n",
        "New VI"
       ]
      },
      {
       "output_type": "stream",
       "stream": "stdout",
       "text": [
        " 1.06787440771\n",
        "--------------------------------------------------------------------------------\n"
       ]
      }
     ],
     "prompt_number": 8
    },
    {
     "cell_type": "code",
     "collapsed": false,
     "input": [
      "index = vi_s.index(min(vi_s))\n",
      "print 'Lowest VI', vi_s[index]\n",
      "print 'Iterations', 40\n",
      "print 'Sureness', surenesses[index]"
     ],
     "language": "python",
     "metadata": {},
     "outputs": [
      {
       "output_type": "stream",
       "stream": "stdout",
       "text": [
        "Lowest VI 0.789789250519\n",
        "Iterations 40\n",
        "Sureness 0.926986455917\n"
       ]
      }
     ],
     "prompt_number": 9
    },
    {
     "cell_type": "code",
     "collapsed": false,
     "input": [
      "import matplotlib.pyplot as plt\n",
      "# create plot\n",
      "new_rhoana = propagate_max_overlap(seg, gold_normalized)\n",
      "before_VI = partition_comparison.variation_of_information(gold_normalized.ravel(), seg.ravel())\n",
      "target_vi = partition_comparison.variation_of_information(new_rhoana.ravel(), gold_normalized.ravel())\n",
      "\n",
      "bins = np.arange(0, len(vi_s))#np.arange(len(vi_s), 0, -1)\n",
      "# bins /= 100\n",
      "\n",
      "vi_s_ = vi_s #[x for (y,x) in sorted(zip(surenesses, vi_s))]\n",
      "surenesses_ = bins #surenesses#[y for (y,x) in sorted(zip(surenesses, vi_s))]\n",
      "\n",
      "original_vi = [before_VI]*len(vi_s)\n",
      "target_vi = [target_vi]*len(vi_s)\n",
      "\n",
      "fig, ax = plt.subplots()\n",
      "\n",
      "ax.plot(surenesses_, target_vi, 'k--', label='Target VI')\n",
      "ax.plot(surenesses_, vi_s_, 'k', label='Variation of Information')\n",
      "ax.plot(surenesses_, original_vi, 'k:', label='Rhoana VI before')\n",
      "# ax.set_yscale('log')\n",
      "\n",
      "# Now add the legend with some customizations.\n",
      "legend = ax.legend(loc='upper center', shadow=True)\n",
      "ax.set_ylim([0.6,1.5])\n",
      "\n",
      "# The frame is matplotlib.patches.Rectangle instance surrounding the legend.\n",
      "frame = legend.get_frame()\n",
      "frame.set_facecolor('0.90')\n",
      "\n",
      "# Set the fontsize\n",
      "for label in legend.get_texts():\n",
      "    label.set_fontsize('large')\n",
      "\n",
      "for label in legend.get_lines():\n",
      "    label.set_linewidth(1.5)  # the legend line width\n"
     ],
     "language": "python",
     "metadata": {},
     "outputs": [
      {
       "metadata": {},
       "output_type": "display_data",
       "png": "[encoded data removed]",
       "text": [
        "<matplotlib.figure.Figure at 0x106478110>"
       ]
      }
     ],
     "prompt_number": 10
    },
    {
     "cell_type": "code",
     "collapsed": false,
     "input": [],
     "language": "python",
     "metadata": {},
     "outputs": [],
     "prompt_number": 10
    }
   ],
   "metadata": {}
  }
 ]
}