{
 "metadata": {
  "name": "",
  "signature": "sha256:f2a24f649b71ee49d83d5690bb292cf85d03a28ed4602ed1755506b069b22c57"
 },
 "nbformat": 3,
 "nbformat_minor": 0,
 "worksheets": [
  {
   "cells": [
    {
     "cell_type": "code",
     "collapsed": false,
     "input": [
      "%load_ext autoreload\n",
      "%autoreload 2\n",
      "\n",
      "from matplotlib.pyplot import imshow\n",
      "%matplotlib inline\n",
      "\n",
      "import _metrics"
     ],
     "language": "python",
     "metadata": {},
     "outputs": [
      {
       "output_type": "stream",
       "stream": "stderr",
       "text": [
        "_metrics/tifffile.py:1995: UserWarning: failed to import _tifffile.decodepackbits\n",
        "  warnings.warn(\"failed to import %s\" % module_function)\n",
        "_metrics/tifffile.py:1995: UserWarning: failed to import _tifffile.decodelzw\n",
        "  warnings.warn(\"failed to import %s\" % module_function)\n",
        "_metrics/tifffile.py:1995: UserWarning: failed to import _tifffile.unpackints\n",
        "  warnings.warn(\"failed to import %s\" % module_function)\n"
       ]
      }
     ],
     "prompt_number": 1
    },
    {
     "cell_type": "code",
     "collapsed": false,
     "input": [
      "\n",
      "import cv2\n",
      "import glob\n",
      "import numpy as np\n",
      "import mahotas as mh\n",
      "import os\n",
      "import uuid\n",
      "import tifffile as tif\n",
      "from scipy import ndimage as nd\n",
      "from scipy.misc import imrotate\n",
      "import skimage.measure\n",
      "from skimage import img_as_ubyte\n",
      "import random\n",
      "import cPickle as pickle\n",
      "import time\n",
      "import partition_comparison\n",
      "\n",
      "DATA_PATH = '/Volumes/DATA1/EMQM_DATA/ac3x75/'\n",
      "GOLD_PATH = os.path.join(DATA_PATH,'gold/')\n",
      "RHOANA_PATH = os.path.join(DATA_PATH,'rhoana/')\n",
      "IMAGE_PATH = os.path.join(DATA_PATH,'input/')\n",
      "PROB_PATH = os.path.join(DATA_PATH,'prob/')\n",
      "PATCH_PATH = os.path.join(DATA_PATH,'test_rhoana/')\n",
      "\n",
      "\n",
      "gold = _metrics.Util.read(GOLD_PATH+'*.tif')\n",
      "rhoana = _metrics.Util.read(RHOANA_PATH+'*.tif')\n",
      "images = _metrics.Util.read(IMAGE_PATH+'*.tif')\n",
      "probs = _metrics.Util.read(PROB_PATH+'*.tif')"
     ],
     "language": "python",
     "metadata": {},
     "outputs": [
      {
       "output_type": "stream",
       "stream": "stdout",
       "text": [
        "Loaded 75 images.\n",
        "Loaded"
       ]
      },
      {
       "output_type": "stream",
       "stream": "stdout",
       "text": [
        " 75 images.\n",
        "Loaded"
       ]
      },
      {
       "output_type": "stream",
       "stream": "stdout",
       "text": [
        " 75 images.\n",
        "Loaded"
       ]
      },
      {
       "output_type": "stream",
       "stream": "stdout",
       "text": [
        " 75 images.\n"
       ]
      },
      {
       "output_type": "stream",
       "stream": "stderr",
       "text": [
        "tifffile.py:1995: UserWarning: failed to import _tifffile.decodepackbits\n",
        "  warnings.warn(\"failed to import %s\" % module_function)\n",
        "tifffile.py:1995: UserWarning: failed to import _tifffile.decodelzw\n",
        "  warnings.warn(\"failed to import %s\" % module_function)\n",
        "tifffile.py:1995: UserWarning: failed to import _tifffile.unpackints\n",
        "  warnings.warn(\"failed to import %s\" % module_function)\n"
       ]
      }
     ],
     "prompt_number": 2
    },
    {
     "cell_type": "code",
     "collapsed": false,
     "input": [
      "SLICE = 70"
     ],
     "language": "python",
     "metadata": {},
     "outputs": [],
     "prompt_number": 4
    },
    {
     "cell_type": "code",
     "collapsed": false,
     "input": [
      "rhoana_normalized = _metrics.Util.normalize_labels(rhoana[SLICE])[0]\n",
      "\n",
      "# fill and normalize gold\n",
      "gold_zeros = _metrics.Util.threshold(gold[SLICE], 0)\n",
      "gold_filled = _metrics.Util.fill(gold[SLICE], gold_zeros.astype(np.bool))\n",
      "gold_filled_relabeled = skimage.measure.label(gold_filled).astype(np.uint64)\n",
      "gold_normalized = _metrics.Util.normalize_labels(gold_filled_relabeled)[0]\n",
      "\n",
      "# color both segmentations\n",
      "cm = _metrics.Util.load_colormap('/Volumes/DATA1/ac3x75/mojo/ids/colorMap.hdf5')\n",
      "colored_rhoana_normalized = cm[rhoana_normalized % len(cm)]\n",
      "colored_gold_normalized = cm[gold_normalized % len(cm)]"
     ],
     "language": "python",
     "metadata": {},
     "outputs": [],
     "prompt_number": 10
    },
    {
     "cell_type": "code",
     "collapsed": false,
     "input": [
      "#\n",
      "#\n",
      "# VI before any fixes\n",
      "#\n",
      "#\n",
      "partition_comparison.variation_of_information(gold_normalized.ravel(), rhoana_normalized.ravel())"
     ],
     "language": "python",
     "metadata": {},
     "outputs": [
      {
       "metadata": {},
       "output_type": "pyout",
       "prompt_number": 8,
       "text": [
        "0.8174299454577767"
       ]
      }
     ],
     "prompt_number": 8
    },
    {
     "cell_type": "code",
     "collapsed": false,
     "input": [
      "#\n",
      "#\n",
      "# let the CNN rate these for split errors\n",
      "#\n",
      "#\n",
      "def test_n(image, path, testfile, targetfile, only_show_bad=False, draw_bbox=True):\n",
      "    from test_cnn_vis import TestCNN\n",
      "    t = TestCNN('7b76867e-c76a-416f-910a-7065e93c616a', 'patches_large2new')\n",
      "    val_fn = t.run()\n",
      "    data, targets = t.load_dataset(path, testfile, targetfile)\n",
      "    for batch in t.iterate_minibatches(data, targets, len(targets), shuffle=False):\n",
      "            images, probs, binary1s, binary2s, overlaps, bboxs, borders, targets = batch\n",
      "            pred, err, acc = val_fn(images, probs, binary1s, binary2s, overlaps, targets)\n",
      "            \n",
      "    patches = []\n",
      "    \n",
      "    for i,p in enumerate(pred):\n",
      "        \n",
      "        bbox = bboxs[i]\n",
      "        border = borders[i]\n",
      "        target = targets[i]\n",
      "        \n",
      "        if isinstance (bbox, (np.ndarray, np.generic)) == False:\n",
      "            if isinstance (bbox, list) == False:\n",
      "                continue\n",
      "\n",
      "        patches.append([images[i], probs[i], binary1s[i], binary2s[i], bbox, border, p[1]])\n",
      "        \n",
      "    return patches\n",
      "    \n",
      "\n",
      "        \n",
      "patches = test_n(images[SLICE], PATCH_PATH, 'all.npz', 'all_targets.npz')"
     ],
     "language": "python",
     "metadata": {},
     "outputs": [
      {
       "output_type": "stream",
       "stream": "stdout",
       "text": [
        "Loading ['/Volumes/DATA1/split_cnn/patches_large2new/7b76867e-c76a-416f-910a-7065e93c616a/configuration.txt']\n",
        "[\"{'outputpath': '/n/regal/pfister_lab/haehn/split_cnn/patches_large2new/', 'filtersize1': 9, 'filters3': 16, 'filters2': 16, 'batchsize': 100, 'datapath': '/n/regal/pfister_lab/haehn/', 'epochs': 500, 'runmode': 'cluster', 'filtersize2': 9, 'filtersize3': 9, 'filters1': 16, 'patchpath': 'patches_large2new', 'thirdconvlayer': True, 'learning_rate': 0.0001, 'momentum': 0.9}\"]\n",
        "Loading ['/Volumes/DATA1/split_cnn/patches_large2new/7b76867e-c76a-416f-910a-7065e93c616a/network_199.p']\n"
       ]
      },
      {
       "output_type": "stream",
       "stream": "stderr",
       "text": [
        "Using gpu device 0: GeForce GTX TITAN (CNMeM is disabled)\n"
       ]
      }
     ],
     "prompt_number": 9
    },
    {
     "cell_type": "code",
     "collapsed": false,
     "input": [
      "def gen_error_view(gold, rhoana, spliterrors, sureness=1., outdir='/Volumes/DATA1/EMQM_DATA/ac3x75/RHOANA_SPLIT_CORRECTION/'):\n",
      "\n",
      "    store_split_errors('rhoana', rhoana, spliterrors, sureness, outdir)\n",
      "    store_split_errors('gold', gold, spliterrors, sureness, outdir)\n",
      "    \n",
      "    #return create_merge_table(rhoana, spliterrors, sureness)\n",
      "    \n",
      "def create_merge_table(arr, patches, requested_sureness_for_spliterror):\n",
      "    '''\n",
      "    '''\n",
      "    \n",
      "    fill_table = []\n",
      "    single_merges = {}\n",
      "    merge_table = {}\n",
      "    \n",
      "    for i,s in enumerate(patches):\n",
      "        \n",
      "        bbox = s[4]\n",
      "        label1 = s[2]\n",
      "        label2 = s[3]\n",
      "        sureness_for_spliterror = s[6]  # 0..1 for spliterror der gemerged werden soll\n",
      "        \n",
      "        \n",
      "        if sureness_for_spliterror < requested_sureness_for_spliterror:\n",
      "           continue\n",
      "        \n",
      "        cropped_seg = np.array(arr[bbox[0]:bbox[1]+1, bbox[2]:bbox[3]+1])\n",
      "        cropped_seg2 = np.array(cropped_seg)\n",
      "        \n",
      "        cropped_seg[label1.reshape(75,75) == 0] = 0\n",
      "        cropped_seg2[label2.reshape(75,75) == 0] = 0\n",
      "\n",
      "        labelvalue1 = cropped_seg.max()\n",
      "        labelvalue2 = cropped_seg2.max()\n",
      "        \n",
      "        if labelvalue1 == 0 or labelvalue2 == 0:\n",
      "            print 'err'\n",
      "            continue\n",
      "\n",
      "        minlabel12 = min(labelvalue1, labelvalue2)\n",
      "        maxlabel12 = max(labelvalue1, labelvalue2)\n",
      "        \n",
      "\n",
      "        # check if one of the labels is smaller than a patch\n",
      "        labelvalue1_smaller_than_patch = True\n",
      "        if labelvalue1 in cropped_seg[:,0] or labelvalue1 in cropped_seg[0,:] or labelvalue1 in cropped_seg[:,-1] or labelvalue1 in cropped_seg[-1,:]:\n",
      "            labelvalue1_smaller_than_patch = False\n",
      "        labelvalue2_smaller_than_patch = True\n",
      "        if labelvalue2 in cropped_seg2[:,0] or labelvalue2 in cropped_seg2[0,:] or labelvalue2 in cropped_seg2[:,-1] or labelvalue2 in cropped_seg2[-1,:]:\n",
      "            labelvalue2_smaller_than_patch = False\n",
      "\n",
      "        # wenn beide kleiner sind:\n",
      "        #   das kleinere mit dem groesseren mergen\n",
      "        # wenn nur eins kleiner ist:\n",
      "        #   dann das kleine loeschen und null werte auffuellen\n",
      "        # sonst:\n",
      "        #   normaler merge table eintrag        \n",
      "        if labelvalue1_smaller_than_patch and labelvalue2_smaller_than_patch:\n",
      "            \n",
      "            label1_size = len(cropped_seg[cropped_seg == labelvalue1])\n",
      "            label2_size = len(cropped_seg2[cropped_seg2 == labelvalue2])\n",
      "            \n",
      "            if label1_size < label2_size:\n",
      "                single_merges[labelvalue2] = labelvalue1\n",
      "            else:\n",
      "                single_merges[labelvalue1] = labelvalue2\n",
      "            \n",
      "        elif labelvalue1_smaller_than_patch != labelvalue2_smaller_than_patch:\n",
      "\n",
      "            label1_size = len(cropped_seg[cropped_seg == labelvalue1])\n",
      "            label2_size = len(cropped_seg2[cropped_seg2 == labelvalue2])\n",
      "            \n",
      "            if label1_size < label2_size:\n",
      "                fill_table.append(labelvalue1)\n",
      "            else:\n",
      "                fill_table.append(labelvalue2)\n",
      "            \n",
      "        else:\n",
      "        \n",
      "            if minlabel12 in single_merges.keys():\n",
      "                #print 'was single merge -> ignoring', minlabel12\n",
      "                continue\n",
      "        \n",
      "            if minlabel12 in merge_table:\n",
      "                if not maxlabel12 in merge_table[minlabel12]:\n",
      "                    merge_table[minlabel12].append(maxlabel12)\n",
      "            else:\n",
      "                merge_table[minlabel12] = [maxlabel12]\n",
      "\n",
      "\n",
      "    for k in merge_table.keys():\n",
      "        merge_table[k] = sorted(merge_table[k] + [k])\n",
      "            \n",
      "    merge_table = process_merge_table(merge_table)\n",
      "            \n",
      "        \n",
      "    return fill_table, single_merges, merge_table\n",
      "    \n",
      "\n",
      "def process_merge_table(mt_):\n",
      "    import copy\n",
      "    mt = copy.deepcopy(mt_)\n",
      "    for k1 in mt.keys():\n",
      "        for k2 in mt.keys():\n",
      "            if k2 > k1:\n",
      "                if k1 in mt.keys() and k2 in mt.keys():\n",
      "                    anzahl_gleicher_elemente = len(list(set(mt[k1]) & set(mt[k2])))\n",
      "                    if anzahl_gleicher_elemente > 0:\n",
      "                        mt[k1] += mt[k2]\n",
      "                        del mt[k2]\n",
      "        #mt[k1] = sorted(list(set(mt[k1])))\n",
      "    return mt    \n",
      "    \n",
      "    \n",
      "def store_split_errors(name, arr, spliterrors, sureness, outdir):\n",
      "    \n",
      "    out = np.zeros((arr.shape[0], arr.shape[1], 4))\n",
      "\n",
      "    out[:,:,0] = arr[:,:,0]\n",
      "    out[:,:,1] = arr[:,:,1]\n",
      "    out[:,:,2] = arr[:,:,2]\n",
      "    out[:,:,3] = 64\n",
      "\n",
      "    for i,s in enumerate(spliterrors):\n",
      "\n",
      "        ERROR = i\n",
      "\n",
      "        if spliterrors[ERROR][6] >= sureness:\n",
      "            color = (255,0,0,255)\n",
      "        else:\n",
      "            color = (0,255,0,255)\n",
      "\n",
      "        bbox = spliterrors[ERROR][4]\n",
      "\n",
      "        border = spliterrors[ERROR][5]\n",
      "        for c in border:\n",
      "            out[c[0], c[1]] = color\n",
      "\n",
      "    mh.imsave(os.path.join(outdir, 'compare_'+str(name)+'_'+str(sureness)+'.tif'), out.astype(np.uint8))\n",
      "    \n",
      "def apply_fixes(arr, fill_table, single_merges, mergetable):\n",
      "    '''\n",
      "    '''\n",
      "    out = np.array(arr)\n",
      "    for f in fill_table:\n",
      "\n",
      "        #print 'filled', f\n",
      "        label_zeros = _metrics.Util.threshold(out, f)\n",
      "        out = _metrics.Util.fill(out, label_zeros.astype(np.bool))\n",
      "\n",
      "    for s in single_merges.keys():\n",
      "        #print 'single merge', s, '->', single_merges[s]\n",
      "        out[out == s] = single_merges[s]\n",
      "    \n",
      "    return apply_merge_table(out, mergetable)\n",
      "\n",
      "    \n",
      "def apply_merge_table(arr, mergetable):\n",
      "    \n",
      "    out = np.array(arr)\n",
      "    \n",
      "    for k in mergetable.keys():\n",
      "        labels = mergetable[k]\n",
      "        \n",
      "        for l in labels:\n",
      "            out[out == l] = k\n",
      "            \n",
      "    return out\n",
      "\n",
      "\n",
      "def fix_splits(rhoana_normalized, gold_normalized, patches, slice, sureness=1., outdir='/Volumes/DATA1/EMQM_DATA/ac3x75/RHOANA_SPLIT_CORRECTION/'):\n",
      "    '''\n",
      "    '''\n",
      "    \n",
      "    # create folder for this sureness value\n",
      "    sureness_folder = os.path.join(outdir, str(slice), str(sureness))\n",
      "    if not os.path.exists(sureness_folder):\n",
      "        os.makedirs(sureness_folder)\n",
      "    \n",
      "    # colorize rhoana and gold\n",
      "    cm = _metrics.Util.load_colormap('/Volumes/DATA1/ac3x75/mojo/ids/colorMap.hdf5')\n",
      "    colored_rhoana_normalized = cm[rhoana_normalized % len(cm)]\n",
      "    colored_gold_normalized = cm[gold_normalized % len(cm)]\n",
      "    \n",
      "    # create border views\n",
      "    gen_error_view(colored_gold_normalized, colored_rhoana_normalized, patches, sureness=sureness, outdir=sureness_folder)\n",
      "    # create all fix tables\n",
      "    fill_table, single_merges, merge_table = create_merge_table(rhoana_normalized, patches, sureness)\n",
      "    # .. and apply them\n",
      "    applied_mt = apply_fixes(rhoana_normalized, fill_table, single_merges, merge_table)\n",
      "    \n",
      "    #applied_mt = apply_merge_table(rhoana_normalized, mt)\n",
      "    \n",
      "    \n",
      "    # .. colorize result\n",
      "    colored_applied_mt = cm[applied_mt % len(cm)]\n",
      "    \n",
      "    mh.imsave(os.path.join(sureness_folder, 'rhoana.tif'), colored_applied_mt)\n",
      "    \n",
      "    # print VI\n",
      "    vi = partition_comparison.variation_of_information(applied_mt.ravel(), gold_normalized.ravel())\n",
      "    print 'Sureness:', sureness, 'VI:', vi\n",
      "    \n",
      "    return vi"
     ],
     "language": "python",
     "metadata": {},
     "outputs": [],
     "prompt_number": 93
    },
    {
     "cell_type": "code",
     "collapsed": false,
     "input": [
      "r = range(90,101)\n",
      "vi_s = [0]*len(r)\n",
      "for s in r:\n",
      "    s /= 100.\n",
      "    fix_splits(rhoana_normalized, gold_normalized, patches, slice=SLICE, sureness=s)"
     ],
     "language": "python",
     "metadata": {},
     "outputs": [
      {
       "output_type": "stream",
       "stream": "stdout",
       "text": [
        "Sureness: 0.9 VI: "
       ]
      },
      {
       "output_type": "stream",
       "stream": "stdout",
       "text": [
        "0.813250408999\n",
        "Sureness:"
       ]
      },
      {
       "output_type": "stream",
       "stream": "stdout",
       "text": [
        " 0.91 VI: "
       ]
      },
      {
       "output_type": "stream",
       "stream": "stdout",
       "text": [
        "0.809886822525\n",
        "Sureness:"
       ]
      },
      {
       "output_type": "stream",
       "stream": "stdout",
       "text": [
        " 0.92 VI: "
       ]
      },
      {
       "output_type": "stream",
       "stream": "stdout",
       "text": [
        "0.810491318647\n",
        "Sureness:"
       ]
      },
      {
       "output_type": "stream",
       "stream": "stdout",
       "text": [
        " 0.93 VI: "
       ]
      },
      {
       "output_type": "stream",
       "stream": "stdout",
       "text": [
        "0.810202068676\n",
        "Sureness:"
       ]
      },
      {
       "output_type": "stream",
       "stream": "stdout",
       "text": [
        " 0.94 VI: "
       ]
      },
      {
       "output_type": "stream",
       "stream": "stdout",
       "text": [
        "0.810318258368\n",
        "Sureness:"
       ]
      },
      {
       "output_type": "stream",
       "stream": "stdout",
       "text": [
        " 0.95 VI: "
       ]
      },
      {
       "output_type": "stream",
       "stream": "stdout",
       "text": [
        "0.810318258368\n",
        "Sureness:"
       ]
      },
      {
       "output_type": "stream",
       "stream": "stdout",
       "text": [
        " 0.96 VI: "
       ]
      },
      {
       "output_type": "stream",
       "stream": "stdout",
       "text": [
        "0.810961162592\n",
        "Sureness:"
       ]
      },
      {
       "output_type": "stream",
       "stream": "stdout",
       "text": [
        " 0.97 VI: "
       ]
      },
      {
       "output_type": "stream",
       "stream": "stdout",
       "text": [
        "0.810961162592\n",
        "Sureness:"
       ]
      },
      {
       "output_type": "stream",
       "stream": "stdout",
       "text": [
        " 0.98 VI: "
       ]
      },
      {
       "output_type": "stream",
       "stream": "stdout",
       "text": [
        "0.813806901138\n",
        "Sureness:"
       ]
      },
      {
       "output_type": "stream",
       "stream": "stdout",
       "text": [
        " 0.99 VI: "
       ]
      },
      {
       "output_type": "stream",
       "stream": "stdout",
       "text": [
        "0.813806901138\n",
        "Sureness:"
       ]
      },
      {
       "output_type": "stream",
       "stream": "stdout",
       "text": [
        " 1.0 VI: "
       ]
      },
      {
       "output_type": "stream",
       "stream": "stdout",
       "text": [
        "0.821179048358\n"
       ]
      }
     ],
     "prompt_number": 106
    },
    {
     "cell_type": "code",
     "collapsed": false,
     "input": [
      "mt = fix_splits(rhoana_normalized, gold_normalized, patches, slice=SLICE, sureness=0.92)"
     ],
     "language": "python",
     "metadata": {},
     "outputs": [
      {
       "output_type": "stream",
       "stream": "stdout",
       "text": [
        "Sureness: 0.92 VI: "
       ]
      },
      {
       "output_type": "stream",
       "stream": "stdout",
       "text": [
        "0.810491318647\n"
       ]
      }
     ],
     "prompt_number": 104
    },
    {
     "cell_type": "code",
     "collapsed": false,
     "input": [
      "mt = fix_splits(rhoana_normalized, gold[SLICE].astype(np.int32), patches, slice=SLICE, sureness=0.92)"
     ],
     "language": "python",
     "metadata": {},
     "outputs": [
      {
       "output_type": "stream",
       "stream": "stdout",
       "text": [
        " Sureness: 0.92 VI: "
       ]
      },
      {
       "output_type": "stream",
       "stream": "stdout",
       "text": [
        "0.868320331202\n"
       ]
      }
     ],
     "prompt_number": 109
    },
    {
     "cell_type": "code",
     "collapsed": false,
     "input": [
      "mt"
     ],
     "language": "python",
     "metadata": {},
     "outputs": [
      {
       "metadata": {},
       "output_type": "pyout",
       "prompt_number": 32,
       "text": [
        "{15: [15, 165, 165, 167, 170],\n",
        " 25: [25, 42, 42, 43],\n",
        " 44: [44, 93, 93, 94],\n",
        " 56: [56, 67, 92, 71, 92, 89, 92],\n",
        " 66: [66, 111, 133],\n",
        " 73: [73, 81],\n",
        " 125: [125, 145, 142, 145],\n",
        " 140: [140, 198, 180, 198],\n",
        " 151: [151, 157],\n",
        " 158: [158, 161],\n",
        " 172: [172, 173],\n",
        " 181: [181, 193, 191, 193],\n",
        " 206: [206, 207, 207, 218],\n",
        " 208: [208, 212, 219],\n",
        " 209: [209, 225, 234],\n",
        " 221: [221, 224, 224, 228],\n",
        " 244: [244, 259, 255, 259],\n",
        " 261: [261, 328],\n",
        " 286: [286, 310, 299, 310],\n",
        " 295: [295, 352],\n",
        " 303: [303, 317, 317, 322, 322, 355],\n",
        " 307: [307, 315, 315, 318, 330],\n",
        " 329: [329, 339]}"
       ]
      }
     ],
     "prompt_number": 32
    },
    {
     "cell_type": "code",
     "collapsed": false,
     "input": [
      "rhoana_normalized[228,596]"
     ],
     "language": "python",
     "metadata": {},
     "outputs": [
      {
       "metadata": {},
       "output_type": "pyout",
       "prompt_number": 33,
       "text": [
        "93"
       ]
      }
     ],
     "prompt_number": 33
    },
    {
     "cell_type": "code",
     "collapsed": false,
     "input": [
      "imshow(_metrics.Util.threshold(rhoana_normalized, 93))"
     ],
     "language": "python",
     "metadata": {},
     "outputs": [
      {
       "metadata": {},
       "output_type": "pyout",
       "prompt_number": 34,
       "text": [
        "<matplotlib.image.AxesImage at 0x1c8ef5e90>"
       ]
      },
      {
       "metadata": {},
       "output_type": "display_data",
       "png": "[encoded data removed]",
       "text": [
        "<matplotlib.figure.Figure at 0x1b0d03290>"
       ]
      }
     ],
     "prompt_number": 34
    },
    {
     "cell_type": "code",
     "collapsed": false,
     "input": [
      "imshow(_metrics.Util.threshold(rhoana_normalized, 94))"
     ],
     "language": "python",
     "metadata": {},
     "outputs": [
      {
       "metadata": {},
       "output_type": "pyout",
       "prompt_number": 35,
       "text": [
        "<matplotlib.image.AxesImage at 0x1b0d5e410>"
       ]
      },
      {
       "metadata": {},
       "output_type": "display_data",
       "png": "[encoded data removed]",
       "text": [
        "<matplotlib.figure.Figure at 0x1c81bc510>"
       ]
      }
     ],
     "prompt_number": 35
    },
    {
     "cell_type": "code",
     "collapsed": false,
     "input": [
      "imshow(_metrics.Util.threshold(rhoana_normalized, 44))"
     ],
     "language": "python",
     "metadata": {},
     "outputs": [
      {
       "metadata": {},
       "output_type": "pyout",
       "prompt_number": 36,
       "text": [
        "<matplotlib.image.AxesImage at 0x1b0ca61d0>"
       ]
      },
      {
       "metadata": {},
       "output_type": "display_data",
       "png": "[encoded data removed]",
       "text": [
        "<matplotlib.figure.Figure at 0x1b0e7ae50>"
       ]
      }
     ],
     "prompt_number": 36
    },
    {
     "cell_type": "code",
     "collapsed": false,
     "input": [
      "def find_patch(segmentation, point, patches, requested_sureness_for_spliterror):\n",
      "\n",
      "    for i,s in enumerate(patches):\n",
      "\n",
      "        bbox = s[4]\n",
      "        label1 = s[2]\n",
      "        label2 = s[3]\n",
      "        sureness_for_spliterror = s[6]  # 0..1 for spliterror der gemerged werden soll\n",
      "\n",
      "\n",
      "        if sureness_for_spliterror < requested_sureness_for_spliterror:\n",
      "           continue\n",
      "\n",
      "        # check if our requested point is in the bounding box of this patch\n",
      "        if bbox[0] <= point[0] and bbox[1] >= point[0]:\n",
      "            if bbox[2] <= point[1] and bbox[3] >= point[1]:\n",
      "                print 'inside'\n",
      "\n",
      "                cropped_seg = np.array(segmentation[bbox[0]:bbox[1]+1, bbox[2]:bbox[3]+1])\n",
      "                cropped_seg2 = np.array(cropped_seg)\n",
      "\n",
      "                cropped_seg[label1.reshape(75,75) == 0] = 0\n",
      "                cropped_seg2[label2.reshape(75,75) == 0] = 0\n",
      "\n",
      "                labelvalue1 = cropped_seg.max()\n",
      "                labelvalue2 = cropped_seg2.max()\n",
      "                \n",
      "                # check if one of the labels is smaller than a patch\n",
      "                labelvalue1_smaller_than_patch = True\n",
      "                if labelvalue1 in cropped_seg[:,0] or labelvalue1 in cropped_seg[0,:] or labelvalue1 in cropped_seg[:,-1] or labelvalue1 in cropped_seg[-1,:]:\n",
      "                    labelvalue1_smaller_than_patch = False\n",
      "                labelvalue2_smaller_than_patch = True\n",
      "                if labelvalue2 in cropped_seg2[:,0] or labelvalue2 in cropped_seg2[0,:] or labelvalue2 in cropped_seg2[:,-1] or labelvalue2 in cropped_seg2[-1,:]:\n",
      "                    labelvalue2_smaller_than_patch = False\n",
      "                                        \n",
      "                # wenn beide kleiner sind:\n",
      "                #   das kleinere mit dem groesseren mergen\n",
      "                # wenn nur eins kleiner ist:\n",
      "                #   dann das kleine loeschen und null werte auffuellen\n",
      "                # sonst:\n",
      "                #   normaler merge table eintrag\n",
      "                \n",
      "\n",
      "                print 'lv1', labelvalue1_smaller_than_patch\n",
      "                print 'lv2', labelvalue2_smaller_than_patch\n",
      "                                \n",
      "                \n",
      "                print labelvalue1, labelvalue2\n",
      "        \n",
      "#                 if labelvalue1 == 93 and labelvalue2 == 94:\n",
      "                return cropped_seg, cropped_seg2\n",
      "        "
     ],
     "language": "python",
     "metadata": {},
     "outputs": [],
     "prompt_number": 80
    },
    {
     "cell_type": "code",
     "collapsed": false,
     "input": [
      "cropped_seg, cropped_seg2 = find_patch(rhoana_normalized, (228,596), patches, 0.97)"
     ],
     "language": "python",
     "metadata": {},
     "outputs": [
      {
       "output_type": "stream",
       "stream": "stdout",
       "text": [
        "inside\n",
        "lv1 False\n",
        "lv2 True\n",
        "44 93\n",
        "inside\n",
        "lv1 True\n",
        "lv2 False\n",
        "93 44\n",
        "inside\n",
        "lv1 True\n",
        "lv2 True\n",
        "93 94\n"
       ]
      }
     ],
     "prompt_number": 68
    },
    {
     "cell_type": "code",
     "collapsed": false,
     "input": [
      "labelvalue1 = 44\n",
      "if labelvalue1 in cropped_seg[:,0] or labelvalue1 in cropped_seg[0,:] or labelvalue1 in cropped_seg[:,-1] or labelvalue1 in cropped_seg[-1,:]:\n",
      "    print 'ja'\n"
     ],
     "language": "python",
     "metadata": {},
     "outputs": [
      {
       "output_type": "stream",
       "stream": "stdout",
       "text": [
        "ja\n"
       ]
      }
     ],
     "prompt_number": 56
    },
    {
     "cell_type": "code",
     "collapsed": false,
     "input": [
      "cropped_seg[:,-1]"
     ],
     "language": "python",
     "metadata": {},
     "outputs": [
      {
       "metadata": {},
       "output_type": "pyout",
       "prompt_number": 78,
       "text": [
        "array([0, 0, 0, 0, 0, 0, 0, 0, 0, 0, 0, 0, 0, 0, 0, 0, 0, 0, 0, 0, 0, 0, 0,\n",
        "       0, 0, 0, 0, 0, 0, 0, 0, 0, 0, 0, 0, 0, 0, 0, 0, 0, 0, 0, 0, 0, 0, 0,\n",
        "       0, 0, 0, 0, 0, 0, 0, 0, 0, 0, 0, 0, 0, 0, 0, 0, 0, 0, 0, 0, 0, 0, 0,\n",
        "       0, 0, 0, 0, 0, 0], dtype=int32)"
       ]
      }
     ],
     "prompt_number": 78
    },
    {
     "cell_type": "code",
     "collapsed": false,
     "input": [
      "imshow(cropped_seg2)"
     ],
     "language": "python",
     "metadata": {},
     "outputs": [
      {
       "metadata": {},
       "output_type": "pyout",
       "prompt_number": 81,
       "text": [
        "<matplotlib.image.AxesImage at 0x1809b3fd0>"
       ]
      },
      {
       "metadata": {},
       "output_type": "display_data",
       "png": "[encoded data removed]",
       "text": [
        "<matplotlib.figure.Figure at 0x1b0c812d0>"
       ]
      }
     ],
     "prompt_number": 81
    },
    {
     "cell_type": "code",
     "collapsed": false,
     "input": [
      "len(cropped_seg2[cropped_seg2 == 94])"
     ],
     "language": "python",
     "metadata": {},
     "outputs": [
      {
       "metadata": {},
       "output_type": "pyout",
       "prompt_number": 85,
       "text": [
        "712"
       ]
      }
     ],
     "prompt_number": 85
    },
    {
     "cell_type": "code",
     "collapsed": false,
     "input": [
      "len(cropped_seg[cropped_seg == 93])"
     ],
     "language": "python",
     "metadata": {},
     "outputs": [
      {
       "metadata": {},
       "output_type": "pyout",
       "prompt_number": 87,
       "text": [
        "155"
       ]
      }
     ],
     "prompt_number": 87
    },
    {
     "cell_type": "code",
     "collapsed": false,
     "input": [],
     "language": "python",
     "metadata": {},
     "outputs": []
    }
   ],
   "metadata": {}
  }
 ]
}