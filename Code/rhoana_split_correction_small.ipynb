{
 "metadata": {
  "name": "",
  "signature": "sha256:2350a07b40d89bb2f18b6dee42d4b9273cbf839bca9338c18367f3f80e22f087"
 },
 "nbformat": 3,
 "nbformat_minor": 0,
 "worksheets": [
  {
   "cells": [
    {
     "cell_type": "code",
     "collapsed": false,
     "input": [
      "%load_ext autoreload\n",
      "%autoreload 2\n",
      "\n",
      "from matplotlib.pyplot import imshow\n",
      "%matplotlib inline\n",
      "\n",
      "import _metrics"
     ],
     "language": "python",
     "metadata": {},
     "outputs": [
      {
       "output_type": "stream",
       "stream": "stderr",
       "text": [
        "_metrics/tifffile.py:1995: UserWarning: failed to import _tifffile.decodepackbits\n",
        "  warnings.warn(\"failed to import %s\" % module_function)\n",
        "_metrics/tifffile.py:1995: UserWarning: failed to import _tifffile.decodelzw\n",
        "  warnings.warn(\"failed to import %s\" % module_function)\n",
        "_metrics/tifffile.py:1995: UserWarning: failed to import _tifffile.unpackints\n",
        "  warnings.warn(\"failed to import %s\" % module_function)\n"
       ]
      }
     ],
     "prompt_number": 1
    },
    {
     "cell_type": "code",
     "collapsed": false,
     "input": [
      "\n",
      "import cv2\n",
      "import glob\n",
      "import numpy as np\n",
      "import mahotas as mh\n",
      "import os\n",
      "import uuid\n",
      "import tifffile as tif\n",
      "from scipy import ndimage as nd\n",
      "from scipy.misc import imrotate\n",
      "import skimage.measure\n",
      "from skimage import img_as_ubyte\n",
      "import random\n",
      "import cPickle as pickle\n",
      "import time\n",
      "import partition_comparison\n",
      "\n",
      "DATA_PATH = '/Volumes/DATA1/EMQM_DATA/ac3x75/'\n",
      "GOLD_PATH = os.path.join(DATA_PATH,'gold/')\n",
      "RHOANA_PATH = os.path.join(DATA_PATH,'rhoana/')\n",
      "IMAGE_PATH = os.path.join(DATA_PATH,'input/')\n",
      "PROB_PATH = os.path.join(DATA_PATH,'prob/')\n",
      "PATCH_PATH = os.path.join(DATA_PATH,'test_rhoana/')\n",
      "\n",
      "\n",
      "gold = _metrics.Util.read(GOLD_PATH+'*.tif')\n",
      "rhoana = _metrics.Util.read(RHOANA_PATH+'*.tif')\n",
      "images = _metrics.Util.read(IMAGE_PATH+'*.tif')\n",
      "probs = _metrics.Util.read(PROB_PATH+'*.tif')"
     ],
     "language": "python",
     "metadata": {},
     "outputs": [
      {
       "output_type": "stream",
       "stream": "stdout",
       "text": [
        "Loaded 75 images.\n",
        "Loaded"
       ]
      },
      {
       "output_type": "stream",
       "stream": "stdout",
       "text": [
        " 75 images.\n",
        "Loaded"
       ]
      },
      {
       "output_type": "stream",
       "stream": "stdout",
       "text": [
        " 75 images.\n",
        "Loaded"
       ]
      },
      {
       "output_type": "stream",
       "stream": "stdout",
       "text": [
        " 75 images.\n"
       ]
      },
      {
       "output_type": "stream",
       "stream": "stderr",
       "text": [
        "tifffile.py:1995: UserWarning: failed to import _tifffile.decodepackbits\n",
        "  warnings.warn(\"failed to import %s\" % module_function)\n",
        "tifffile.py:1995: UserWarning: failed to import _tifffile.decodelzw\n",
        "  warnings.warn(\"failed to import %s\" % module_function)\n",
        "tifffile.py:1995: UserWarning: failed to import _tifffile.unpackints\n",
        "  warnings.warn(\"failed to import %s\" % module_function)\n"
       ]
      }
     ],
     "prompt_number": 2
    },
    {
     "cell_type": "code",
     "collapsed": false,
     "input": [
      "SLICE = 70"
     ],
     "language": "python",
     "metadata": {},
     "outputs": [],
     "prompt_number": 3
    },
    {
     "cell_type": "code",
     "collapsed": false,
     "input": [
      "rhoana_normalized = _metrics.Util.normalize_labels(rhoana[SLICE])[0]\n",
      "\n",
      "# fill and normalize gold\n",
      "gold_zeros = _metrics.Util.threshold(gold[SLICE], 0)\n",
      "gold_filled = _metrics.Util.fill(gold[SLICE], gold_zeros.astype(np.bool))\n",
      "gold_filled_relabeled = skimage.measure.label(gold_filled).astype(np.uint64)\n",
      "gold_normalized = _metrics.Util.normalize_labels(gold_filled_relabeled)[0]\n",
      "\n",
      "# color both segmentations\n",
      "cm = _metrics.Util.load_colormap('/Volumes/DATA1/ac3x75/mojo/ids/colorMap.hdf5')\n",
      "colored_rhoana_normalized = cm[rhoana_normalized % len(cm)]\n",
      "colored_gold_normalized = cm[gold_normalized % len(cm)]"
     ],
     "language": "python",
     "metadata": {},
     "outputs": [],
     "prompt_number": 4
    },
    {
     "cell_type": "code",
     "collapsed": false,
     "input": [
      "#BB = [150,300,550,650]\n",
      "BB = [0,1024,0,1024]\n",
      "#BB = [170,350,390,550]"
     ],
     "language": "python",
     "metadata": {},
     "outputs": [],
     "prompt_number": 226
    },
    {
     "cell_type": "code",
     "collapsed": false,
     "input": [
      "imshow(colored_gold_normalized[BB[0]:BB[1],BB[2]:BB[3]])"
     ],
     "language": "python",
     "metadata": {},
     "outputs": [
      {
       "metadata": {},
       "output_type": "pyout",
       "prompt_number": 227,
       "text": [
        "<matplotlib.image.AxesImage at 0x1afa2e950>"
       ]
      },
      {
       "metadata": {},
       "output_type": "display_data",
       "png": "[encoded data removed]",
       "text": [
        "<matplotlib.figure.Figure at 0x1a43a4690>"
       ]
      }
     ],
     "prompt_number": 227
    },
    {
     "cell_type": "code",
     "collapsed": false,
     "input": [],
     "language": "python",
     "metadata": {},
     "outputs": [],
     "prompt_number": 16
    },
    {
     "cell_type": "code",
     "collapsed": false,
     "input": [
      "imshow(colored_rhoana_normalized[BB[0]:BB[1],BB[2]:BB[3]])"
     ],
     "language": "python",
     "metadata": {},
     "outputs": [
      {
       "metadata": {},
       "output_type": "pyout",
       "prompt_number": 219,
       "text": [
        "<matplotlib.image.AxesImage at 0x1c59bc6d0>"
       ]
      },
      {
       "metadata": {},
       "output_type": "display_data",
       "png": "[encoded data removed]",
       "text": [
        "<matplotlib.figure.Figure at 0x1ad06ff90>"
       ]
      }
     ],
     "prompt_number": 219
    },
    {
     "cell_type": "code",
     "collapsed": false,
     "input": [],
     "language": "python",
     "metadata": {},
     "outputs": []
    },
    {
     "cell_type": "code",
     "collapsed": false,
     "input": [],
     "language": "python",
     "metadata": {},
     "outputs": []
    },
    {
     "cell_type": "code",
     "collapsed": false,
     "input": [],
     "language": "python",
     "metadata": {},
     "outputs": []
    },
    {
     "cell_type": "code",
     "collapsed": false,
     "input": [
      "#\n",
      "#\n",
      "# VI before any fixes\n",
      "#\n",
      "#\n",
      "partition_comparison.variation_of_information(gold_normalized[BB[0]:BB[1],BB[2]:BB[3]].ravel(), rhoana_normalized[BB[0]:BB[1],BB[2]:BB[3]].ravel())"
     ],
     "language": "python",
     "metadata": {},
     "outputs": [
      {
       "metadata": {},
       "output_type": "pyout",
       "prompt_number": 228,
       "text": [
        "0.8174299454577767"
       ]
      }
     ],
     "prompt_number": 228
    },
    {
     "cell_type": "code",
     "collapsed": false,
     "input": [
      "#\n",
      "#\n",
      "# let the CNN rate these for split errors\n",
      "#\n",
      "#\n",
      "def test_n(image, path, testfile, targetfile, only_show_bad=False, draw_bbox=True):\n",
      "    from test_cnn_vis import TestCNN\n",
      "    t = TestCNN('7b76867e-c76a-416f-910a-7065e93c616a', 'patches_large2new')\n",
      "    val_fn = t.run()\n",
      "    data, targets = t.load_dataset(path, testfile, targetfile)\n",
      "    for batch in t.iterate_minibatches(data, targets, len(targets), shuffle=False):\n",
      "            images, probs, binary1s, binary2s, overlaps, bboxs, borders, targets = batch\n",
      "            pred, err, acc = val_fn(images, probs, binary1s, binary2s, overlaps, targets)\n",
      "            \n",
      "    patches = []\n",
      "    \n",
      "    for i,p in enumerate(pred):\n",
      "        \n",
      "        bbox = bboxs[i]\n",
      "        border = borders[i]\n",
      "        target = targets[i]\n",
      "        \n",
      "        if isinstance (bbox, (np.ndarray, np.generic)) == False:\n",
      "            if isinstance (bbox, list) == False:\n",
      "                continue\n",
      "\n",
      "        # check if bbox is in our BB\n",
      "        if bbox[0] >= BB[0] and bbox[1] <= BB[1] and bbox[2] >= BB[2] and bbox[3] <= BB[3]:\n",
      "                \n",
      "            patches.append([images[i], probs[i], binary1s[i], binary2s[i], bbox, border, p[1]])\n",
      "        \n",
      "    return patches\n",
      "    \n",
      "\n",
      "        \n",
      "patches = test_n(images[SLICE], PATCH_PATH, 'all.npz', 'all_targets.npz')"
     ],
     "language": "python",
     "metadata": {},
     "outputs": [
      {
       "output_type": "stream",
       "stream": "stdout",
       "text": [
        "Loading ['/Volumes/DATA1/split_cnn/patches_large2new/7b76867e-c76a-416f-910a-7065e93c616a/configuration.txt']\n",
        "[\"{'outputpath': '/n/regal/pfister_lab/haehn/split_cnn/patches_large2new/', 'filtersize1': 9, 'filters3': 16, 'filters2': 16, 'batchsize': 100, 'datapath': '/n/regal/pfister_lab/haehn/', 'epochs': 500, 'runmode': 'cluster', 'filtersize2': 9, 'filtersize3': 9, 'filters1': 16, 'patchpath': 'patches_large2new', 'thirdconvlayer': True, 'learning_rate': 0.0001, 'momentum': 0.9}\"]\n",
        "Loading ['/Volumes/DATA1/split_cnn/patches_large2new/7b76867e-c76a-416f-910a-7065e93c616a/network_199.p']\n"
       ]
      }
     ],
     "prompt_number": 229
    },
    {
     "cell_type": "code",
     "collapsed": false,
     "input": [
      "len(patches)\n"
     ],
     "language": "python",
     "metadata": {},
     "outputs": [
      {
       "metadata": {},
       "output_type": "pyout",
       "prompt_number": 222,
       "text": [
        "6"
       ]
      }
     ],
     "prompt_number": 222
    },
    {
     "cell_type": "code",
     "collapsed": false,
     "input": [
      "print patches[4][6]"
     ],
     "language": "python",
     "metadata": {},
     "outputs": [
      {
       "output_type": "stream",
       "stream": "stdout",
       "text": [
        "1.42563e-11\n"
       ]
      }
     ],
     "prompt_number": 82
    },
    {
     "cell_type": "code",
     "collapsed": false,
     "input": [
      "gen_error_view(colored_gold_normalized[BB[0]:BB[1],BB[2]:BB[3]], colored_rhoana_normalized[BB[0]:BB[1],BB[2]:BB[3]], patches, sureness=1.)"
     ],
     "language": "python",
     "metadata": {},
     "outputs": [],
     "prompt_number": 103
    },
    {
     "cell_type": "code",
     "collapsed": false,
     "input": [
      "mt = create_merge_table(rhoana_normalized[BB[0]:BB[1],BB[2]:BB[3]], patches, 0.92)"
     ],
     "language": "python",
     "metadata": {},
     "outputs": [
      {
       "output_type": "stream",
       "stream": "stdout",
       "text": [
        "15 [] [] False -1\n",
        "25 [(15, 165)] [(15, 0.94901347)] False -1\n",
        "25 [(25, 42), (15, 165)] [(25, 0.99960256), (15, 0.94901347)] True 0\n",
        "42 [(25, 42), (15, 165)] [(25, 0.99960256), (15, 0.94901347)] True 0\n",
        "42 [(25, 42), (15, 165)] [(25, 0.99960256), (15, 0.94901347)] True 0\n",
        "44 [(25, 42), (15, 165)] [(25, 0.99960256), (15, 0.94901347)] False -1\n",
        "56 [(25, 42), (44, 93), (15, 165)] [(25, 0.99960256), (44, 0.99999964), (15, 0.94901347)] False -1\n",
        "56 [(56, 67), (25, 42), (44, 93), (15, 165)] [(56, 0.99998522), (25, 0.99960256), (44, 0.99999964), (15, 0.94901347)] True 0\n",
        "66 [(56, 92), (25, 42), (44, 93), (15, 165)] [(56, 1.0), (25, 0.99960256), (44, 0.99999964), (15, 0.94901347)] False -1\n",
        "66 [(56, 92), (25, 42), (66, 111), (44, 93), (15, 165)] [(56, 1.0), (25, 0.99960256), (66, 0.97706008), (44, 0.99999964), (15, 0.94901347)] True 2\n",
        "56 [(56, 92), (25, 42), (66, 133), (44, 93), (15, 165)] [(56, 1.0), (25, 0.99960256), (66, 0.9999994), (44, 0.99999964), (15, 0.94901347)] True 0\n",
        "69 [(56, 92), (25, 42), (66, 133), (44, 93), (15, 165)] [(56, 1.0), (25, 0.99960256), (66, 0.9999994), (44, 0.99999964), (15, 0.94901347)] False -1\n",
        "71 [(66, 133), (69, 78), (44, 93), (15, 165), (56, 92), (25, 42)] [(66, 0.9999994), (69, 0.9533906), (44, 0.99999964), (15, 0.94901347), (56, 1.0), (25, 0.99960256)] True 4\n",
        "73 [(66, 133), (69, 78), (44, 93), (15, 165), (56, 92), (25, 42)] [(66, 0.9999994), (69, 0.9533906), (44, 0.99999964), (15, 0.94901347), (56, 1.0), (25, 0.99960256)] False -1\n",
        "77 [(66, 133), (69, 78), (73, 81), (44, 93), (15, 165), (56, 92), (25, 42)] [(66, 0.9999994), (69, 0.9533906), (73, 0.92307007), (44, 0.99999964), (15, 0.94901347), (56, 1.0), (25, 0.99960256)] True 3\n",
        "73 [(66, 133), (69, 78), (73, 81), (44, 93), (15, 165), (56, 92), (25, 42)] [(66, 0.9999994), (69, 0.9533906), (73, 0.92307007), (44, 0.99999964), (15, 0.94901347), (56, 1.0), (25, 0.99960256)] True 2\n",
        "68 [(66, 133), (69, 78), (73, 81), (44, 93), (15, 165), (56, 92), (25, 42)] [(66, 0.9999994), (69, 0.9533906), (73, 0.99338323), (44, 0.99999964), (15, 0.94901347), (56, 1.0), (25, 0.99960256)] False -1\n",
        "89 [(66, 133), (68, 85), (69, 78), (73, 81), (44, 93), (15, 165), (56, 92), (25, 42)] [(66, 0.9999994), (68, 0.93344492), (69, 0.9533906), (73, 0.99338323), (44, 0.99999964), (15, 0.94901347), (56, 1.0), (25, 0.99960256)] True 6\n",
        "56 [(66, 133), (68, 85), (69, 78), (73, 81), (44, 93), (15, 165), (56, 92), (25, 42)] [(66, 0.9999994), (68, 0.93344492), (69, 0.9533906), (73, 0.99338323), (44, 0.99999964), (15, 0.94901347), (56, 1.0), (25, 0.99960256)] True 6\n",
        "71 [(66, 133), (68, 85), (69, 78), (73, 81), (44, 93), (15, 165), (56, 92), (25, 42)] [(66, 0.9999994), (68, 0.93344492), (69, 0.9533906), (73, 0.99338323), (44, 0.99999964), (15, 0.94901347), (56, 1.0), (25, 0.99960256)] True 6\n",
        "89 [(66, 133), (68, 85), (69, 78), (73, 81), (44, 93), (15, 165), (56, 92), (25, 42)] [(66, 0.9999994), (68, 0.93344492), (69, 0.9533906), (73, 0.99338323), (44, 0.99999964), (15, 0.94901347), (56, 1.0), (25, 0.99960256)] True 6\n",
        "44 [(66, 133), (68, 85), (69, 78), (73, 81), (44, 93), (15, 165), (56, 92), (25, 42)] [(66, 0.9999994), (68, 0.93344492), (69, 0.9533906), (73, 0.99338323), (44, 0.99999964), (15, 0.94901347), (56, 1.0), (25, 0.99960256)] True 4\n",
        "93 [(66, 133), (68, 85), (69, 78), (73, 81), (44, 93), (15, 165), (56, 92), (25, 42)] [(66, 0.9999994), (68, 0.93344492), (69, 0.9533906), (73, 0.99338323), (44, 1.0), (15, 0.94901347), (56, 1.0), (25, 0.99960256)] True 4\n",
        "93 [(66, 133), (68, 85), (69, 78), (73, 81), (44, 93), (15, 165), (56, 92), (25, 42)] [(66, 0.9999994), (68, 0.93344492), (69, 0.9533906), (73, 0.99338323), (44, 1.0), (15, 0.94901347), (56, 1.0), (25, 0.99960256)] True 4\n",
        "66 [(66, 133), (68, 85), (69, 78), (73, 81), (44, 93), (15, 165), (56, 92), (25, 42)] [(66, 0.9999994), (68, 0.93344492), (69, 0.9533906), (73, 0.99338323), (44, 1.0), (15, 0.94901347), (56, 1.0), (25, 0.99960256)] True 0\n",
        "125 [(66, 133), (68, 85), (69, 78), (73, 81), (44, 93), (15, 165), (56, 92), (25, 42)] [(66, 0.9999994), (68, 0.93344492), (69, 0.9533906), (73, 0.99338323), (44, 1.0), (15, 0.94901347), (56, 1.0), (25, 0.99960256)] False -1\n",
        "66 [(66, 133), (68, 85), (69, 78), (73, 81), (44, 93), (15, 165), (56, 92), (25, 42), (125, 145)] [(66, 0.9999994), (68, 0.93344492), (69, 0.9533906), (73, 0.99338323), (44, 1.0), (15, 0.94901347), (56, 1.0), (25, 0.99960256), (125, 1.0)] True 0\n",
        "140 [(66, 133), (68, 85), (69, 78), (73, 81), (44, 93), (15, 165), (56, 92), (25, 42), (125, 145)] [(66, 0.9999994), (68, 0.93344492), (69, 0.9533906), (73, 0.99338323), (44, 1.0), (15, 0.94901347), (56, 1.0), (25, 0.99960256), (125, 1.0)] False -1\n",
        "142 [(66, 133), (68, 85), (69, 78), (73, 81), (44, 93), (15, 165), (140, 198), (56, 92), (25, 42), (125, 145)] [(66, 0.9999994), (68, 0.93344492), (69, 0.9533906), (73, 0.99338323), (44, 1.0), (15, 0.94901347), (140, 0.99969655), (56, 1.0), (25, 0.99960256), (125, 1.0)] True 9\n",
        "125 [(66, 133), (68, 85), (69, 78), (73, 81), (44, 93), (15, 165), (140, 198), (56, 92), (25, 42), (125, 145)] [(66, 0.9999994), (68, 0.93344492), (69, 0.9533906), (73, 0.99338323), (44, 1.0), (15, 0.94901347), (140, 0.99969655), (56, 1.0), (25, 0.99960256), (125, 1.0)] True 9\n",
        "142 [(66, 133), (68, 85), (69, 78), (73, 81), (44, 93), (15, 165), (140, 198), (56, 92), (25, 42), (125, 145)] [(66, 0.9999994), (68, 0.93344492), (69, 0.9533906), (73, 0.99338323), (44, 1.0), (15, 0.94901347), (140, 0.99969655), (56, 1.0), (25, 0.99960256), (125, 1.0)] True 9\n",
        "151 [(66, 133), (68, 85), (69, 78), (73, 81), (44, 93), (15, 165), (140, 198), (56, 92), (25, 42), (125, 145)] [(66, 0.9999994), (68, 0.93344492), (69, 0.9533906), (73, 0.99338323), (44, 1.0), (15, 0.94901347), (140, 0.99969655), (56, 1.0), (25, 0.99960256), (125, 1.0)] False -1\n",
        "151 [(66, 133), (68, 85), (69, 78), (73, 81), (44, 93), (15, 165), (140, 198), (151, 157), (56, 92), (25, 42), (125, 145)] [(66, 0.9999994), (68, 0.93344492), (69, 0.9533906), (73, 0.99338323), (44, 1.0), (15, 0.94901347), (140, 0.99969655), (151, 0.99999964), (56, 1.0), (25, 0.99960256), (125, 1.0)] True 7\n",
        "158 [(66, 133), (68, 85), (69, 78), (73, 81), (44, 93), (15, 165), (140, 198), (151, 157), (56, 92), (25, 42), (125, 145)] [(66, 0.9999994), (68, 0.93344492), (69, 0.9533906), (73, 0.99338323), (44, 1.0), (15, 0.94901347), (140, 0.99969655), (151, 0.99999964), (56, 1.0), (25, 0.99960256), (125, 1.0)] False -1\n",
        "158 [(66, 133), (68, 85), (69, 78), (73, 81), (44, 93), (15, 165), (140, 198), (151, 157), (56, 92), (25, 42), (125, 145), (158, 161)] [(66, 0.9999994), (68, 0.93344492), (69, 0.9533906), (73, 0.99338323), (44, 1.0), (15, 0.94901347), (140, 0.99969655), (151, 0.99999964), (56, 1.0), (25, 0.99960256), (125, 1.0), (158, 0.96859407)] True 11\n",
        "15 [(66, 133), (68, 85), (69, 78), (73, 81), (44, 93), (15, 165), (140, 198), (151, 157), (56, 92), (25, 42), (125, 145), (158, 161)] [(66, 0.9999994), (68, 0.93344492), (69, 0.9533906), (73, 0.99338323), (44, 1.0), (15, 0.94901347), (140, 0.99969655), (151, 0.99999964), (56, 1.0), (25, 0.99960256), (125, 1.0), (158, 0.99857044)] True 5\n",
        "165 [(66, 133), (68, 85), (69, 78), (73, 81), (44, 93), (15, 165), (140, 198), (151, 157), (56, 92), (25, 42), (125, 145), (158, 161)] [(66, 0.9999994), (68, 0.93344492), (69, 0.9533906), (73, 0.99338323), (44, 1.0), (15, 0.9999994), (140, 0.99969655), (151, 0.99999964), (56, 1.0), (25, 0.99960256), (125, 1.0), (158, 0.99857044)] True 5\n",
        "165 [(66, 133), (68, 85), (69, 78), (73, 81), (44, 93), (15, 165), (140, 198), (151, 157), (56, 92), (25, 42), (125, 145), (158, 161), (165, 167)] [(66, 0.9999994), (68, 0.93344492), (69, 0.9533906), (73, 0.99338323), (44, 1.0), (15, 0.9999994), (140, 0.99969655), (151, 0.99999964), (56, 1.0), (25, 0.99960256), (125, 1.0), (158, 0.99857044), (165, 1.0)] True 12\n",
        "165 [(66, 133), (68, 85), (69, 78), (73, 81), (44, 93), (15, 165), (140, 198), (151, 157), (56, 92), (25, 42), (125, 145), (158, 161), (165, 167)] [(66, 0.9999994), (68, 0.93344492), (69, 0.9533906), (73, 0.99338323), (44, 1.0), (15, 0.9999994), (140, 0.99969655), (151, 0.99999964), (56, 1.0), (25, 0.99960256), (125, 1.0), (158, 0.99857044), (165, 1.0)] True 12\n",
        "165 [(66, 133), (68, 85), (69, 78), (73, 81), (44, 93), (15, 165), (140, 198), (151, 157), (56, 92), (25, 42), (125, 145), (158, 161), (165, 167)] [(66, 0.9999994), (68, 0.93344492), (69, 0.9533906), (73, 0.99338323), (44, 1.0), (15, 0.9999994), (140, 0.99969655), (151, 0.99999964), (56, 1.0), (25, 0.99960256), (125, 1.0), (158, 0.99857044), (165, 1.0)] True 12\n",
        "172 [(66, 133), (68, 85), (69, 78), (73, 81), (44, 93), (15, 165), (140, 198), (151, 157), (56, 92), (25, 42), (125, 145), (158, 161), (165, 167)] [(66, 0.9999994), (68, 0.93344492), (69, 0.9533906), (73, 0.99338323), (44, 1.0), (15, 0.9999994), (140, 0.99969655), (151, 0.99999964), (56, 1.0), (25, 0.99960256), (125, 1.0), (158, 0.99857044), (165, 1.0)] False -1\n",
        "172 [(66, 133), (68, 85), (69, 78), (73, 81), (44, 93), (15, 165), (140, 198), (172, 173), (151, 157), (56, 92), (25, 42), (125, 145), (158, 161), (165, 167)] [(66, 0.9999994), (68, 0.93344492), (69, 0.9533906), (73, 0.99338323), (44, 1.0), (15, 0.9999994), (140, 0.99969655), (172, 0.9999665), (151, 0.99999964), (56, 1.0), (25, 0.99960256), (125, 1.0), (158, 0.99857044), (165, 1.0)] True 7\n",
        "180 [(66, 133), (68, 85), (69, 78), (73, 81), (44, 93), (15, 165), (140, 198), (172, 173), (151, 157), (56, 92), (25, 42), (125, 145), (158, 161), (165, 167)] [(66, 0.9999994), (68, 0.93344492), (69, 0.9533906), (73, 0.99338323), (44, 1.0), (15, 0.9999994), (140, 0.99969655), (172, 0.9999665), (151, 0.99999964), (56, 1.0), (25, 0.99960256), (125, 1.0), (158, 0.99857044), (165, 1.0)] True 6\n",
        "172 [(66, 133), (68, 85), (69, 78), (73, 81), (44, 93), (15, 165), (140, 198), (172, 173), (151, 157), (56, 92), (25, 42), (125, 145), (158, 161), (165, 167)] [(66, 0.9999994), (68, 0.93344492), (69, 0.9533906), (73, 0.99338323), (44, 1.0), (15, 0.9999994), (140, 0.99969655), (172, 0.9999665), (151, 0.99999964), (56, 1.0), (25, 0.99960256), (125, 1.0), (158, 0.99857044), (165, 1.0)] True 7\n",
        "181 [(66, 133), (68, 85), (69, 78), (73, 81), (44, 93), (15, 165), (140, 198), (172, 173), (151, 157), (56, 92), (25, 42), (125, 145), (158, 161), (165, 167)] [(66, 0.9999994), (68, 0.93344492), (69, 0.9533906), (73, 0.99338323), (44, 1.0), (15, 0.9999994), (140, 0.99969655), (172, 0.9999665), (151, 0.99999964), (56, 1.0), (25, 0.99960256), (125, 1.0), (158, 0.99857044), (165, 1.0)] False -1\n",
        "181 [(66, 133), (68, 85), (69, 78), (73, 81), (44, 93), (15, 165), (140, 198), (172, 173), (181, 182), (151, 157), (56, 92), (25, 42), (125, 145), (158, 161), (165, 167)] [(66, 0.9999994), (68, 0.93344492), (69, 0.9533906), (73, 0.99338323), (44, 1.0), (15, 0.9999994), (140, 0.99969655), (172, 0.9999665), (181, 0.93427783), (151, 0.99999964), (56, 1.0), (25, 0.99960256), (125, 1.0), (158, 0.99857044), (165, 1.0)] True 8\n",
        "191 [(66, 133), (68, 85), (69, 78), (73, 81), (44, 93), (15, 165), (140, 198), (172, 173), (181, 193), (151, 157), (56, 92), (25, 42), (125, 145), (158, 161), (165, 167)] [(66, 0.9999994), (68, 0.93344492), (69, 0.9533906), (73, 0.99338323), (44, 1.0), (15, 0.9999994), (140, 0.99969655), (172, 0.9999665), (181, 0.97618836), (151, 0.99999964), (56, 1.0), (25, 0.99960256), (125, 1.0), (158, 0.99857044), (165, 1.0)] True 8\n",
        "140 [(66, 133), (68, 85), (69, 78), (73, 81), (44, 93), (15, 165), (140, 198), (172, 173), (181, 193), (151, 157), (56, 92), (25, 42), (191, 193), (125, 145), (158, 161), (165, 167)] [(66, 0.9999994), (68, 0.93344492), (69, 0.9533906), (73, 0.99338323), (44, 1.0), (15, 0.9999994), (140, 0.99969655), (172, 0.9999665), (181, 0.97618836), (151, 0.99999964), (56, 1.0), (25, 0.99960256), (191, 0.99676156), (125, 1.0), (158, 0.99857044), (165, 1.0)] True 6\n",
        "180 [(66, 133), (68, 85), (69, 78), (73, 81), (44, 93), (15, 165), (140, 198), (172, 173), (181, 193), (151, 157), (56, 92), (25, 42), (191, 193), (125, 145), (158, 161), (165, 167)] [(66, 0.9999994), (68, 0.93344492), (69, 0.9533906), (73, 0.99338323), (44, 1.0), (15, 0.9999994), (140, 1.0), (172, 0.9999665), (181, 0.97618836), (151, 0.99999964), (56, 1.0), (25, 0.99960256), (191, 0.99676156), (125, 1.0), (158, 0.99857044), (165, 1.0)] True 6\n",
        "206 [(66, 133), (68, 85), (69, 78), (73, 81), (44, 93), (15, 165), (140, 198), (172, 173), (181, 193), (151, 157), (56, 92), (25, 42), (191, 193), (125, 145), (158, 161), (165, 167)] [(66, 0.9999994), (68, 0.93344492), (69, 0.9533906), (73, 0.99338323), (44, 1.0), (15, 0.9999994), (140, 1.0), (172, 0.9999665), (181, 0.97618836), (151, 0.99999964), (56, 1.0), (25, 0.99960256), (191, 0.99676156), (125, 1.0), (158, 0.99857044), (165, 1.0)] False -1\n",
        "209 [(66, 133), (68, 85), (69, 78), (73, 81), (44, 93), (206, 207), (15, 165), (140, 198), (172, 173), (181, 193), (151, 157), (56, 92), (25, 42), (191, 193), (125, 145), (158, 161), (165, 167)] [(66, 0.9999994), (68, 0.93344492), (69, 0.9533906), (73, 0.99338323), (44, 1.0), (206, 0.99813169), (15, 0.9999994), (140, 1.0), (172, 0.9999665), (181, 0.97618836), (151, 0.99999964), (56, 1.0), (25, 0.99960256), (191, 0.99676156), (125, 1.0), (158, 0.99857044), (165, 1.0)] False -1\n",
        "209 [(66, 133), (68, 85), (69, 78), (73, 81), (44, 93), (206, 207), (15, 165), (209, 225), (140, 198), (172, 173), (181, 193), (151, 157), (56, 92), (25, 42), (191, 193), (125, 145), (158, 161), (165, 167)] [(66, 0.9999994), (68, 0.93344492), (69, 0.9533906), (73, 0.99338323), (44, 1.0), (206, 0.99813169), (15, 0.9999994), (209, 0.99998927), (140, 1.0), (172, 0.9999665), (181, 0.97618836), (151, 0.99999964), (56, 1.0), (25, 0.99960256), (191, 0.99676156), (125, 1.0), (158, 0.99857044), (165, 1.0)] True 7\n",
        "208 [(66, 133), (68, 85), (69, 78), (73, 81), (44, 93), (206, 207), (15, 165), (209, 225), (140, 198), (172, 173), (181, 193), (151, 157), (56, 92), (25, 42), (191, 193), (125, 145), (158, 161), (165, 167)] [(66, 0.9999994), (68, 0.93344492), (69, 0.9533906), (73, 0.99338323), (44, 1.0), (206, 0.99813169), (15, 0.9999994), (209, 0.99998927), (140, 1.0), (172, 0.9999665), (181, 0.97618836), (151, 0.99999964), (56, 1.0), (25, 0.99960256), (191, 0.99676156), (125, 1.0), (158, 0.99857044), (165, 1.0)] False -1\n",
        "207 [(66, 133), (68, 85), (69, 78), (73, 81), (44, 93), (206, 207), (15, 165), (208, 212), (209, 225), (140, 198), (172, 173), (181, 193), (151, 157), (56, 92), (25, 42), (191, 193), (125, 145), (158, 161), (165, 167)] [(66, 0.9999994), (68, 0.93344492), (69, 0.9533906), (73, 0.99338323), (44, 1.0), (206, 0.99813169), (15, 0.9999994), (208, 0.99408436), (209, 0.99998927), (140, 1.0), (172, 0.9999665), (181, 0.97618836), (151, 0.99999964), (56, 1.0), (25, 0.99960256), (191, 0.99676156), (125, 1.0), (158, 0.99857044), (165, 1.0)] True 5\n",
        "208 [(66, 133), (68, 85), (69, 78), (73, 81), (44, 93), (206, 207), (15, 165), (208, 212), (209, 225), (140, 198), (172, 173), (181, 193), (151, 157), (56, 92), (25, 42), (191, 193), (125, 145), (158, 161), (165, 167)] [(66, 0.9999994), (68, 0.93344492), (69, 0.9533906), (73, 0.99338323), (44, 1.0), (206, 0.99813169), (15, 0.9999994), (208, 0.99408436), (209, 0.99998927), (140, 1.0), (172, 0.9999665), (181, 0.97618836), (151, 0.99999964), (56, 1.0), (25, 0.99960256), (191, 0.99676156), (125, 1.0), (158, 0.99857044), (165, 1.0)] True 7\n",
        "221 [(66, 133), (68, 85), (69, 78), (73, 81), (44, 93), (206, 207), (15, 165), (208, 219), (209, 225), (140, 198), (172, 173), (181, 193), (151, 157), (56, 92), (25, 42), (191, 193), (125, 145), (158, 161), (165, 167)] [(66, 0.9999994), (68, 0.93344492), (69, 0.9533906), (73, 0.99338323), (44, 1.0), (206, 0.99813169), (15, 0.9999994), (208, 0.99858922), (209, 0.99998927), (140, 1.0), (172, 0.9999665), (181, 0.97618836), (151, 0.99999964), (56, 1.0), (25, 0.99960256), (191, 0.99676156), (125, 1.0), (158, 0.99857044), (165, 1.0)] False -1\n",
        "224 [(66, 133), (68, 85), (69, 78), (221, 224), (73, 81), (44, 93), (206, 207), (15, 165), (208, 219), (209, 225), (140, 198), (172, 173), (181, 193), (151, 157), (56, 92), (25, 42), (191, 193), (125, 145), (158, 161), (165, 167)] [(66, 0.9999994), (68, 0.93344492), (69, 0.9533906), (221, 0.99859661), (73, 0.99338323), (44, 1.0), (206, 0.99813169), (15, 0.9999994), (208, 0.99858922), (209, 0.99998927), (140, 1.0), (172, 0.9999665), (181, 0.97618836), (151, 0.99999964), (56, 1.0), (25, 0.99960256), (191, 0.99676156), (125, 1.0), (158, 0.99857044), (165, 1.0)] True 3\n",
        "209 [(224, 228), (66, 133), (68, 85), (69, 78), (221, 224), (73, 81), (44, 93), (206, 207), (15, 165), (208, 219), (209, 225), (140, 198), (172, 173), (181, 193), (151, 157), (56, 92), (25, 42), (191, 193), (125, 145), (158, 161), (165, 167)] [(224, 1.0), (66, 0.9999994), (68, 0.93344492), (69, 0.9533906), (221, 0.99859661), (73, 0.99338323), (44, 1.0), (206, 0.99813169), (15, 0.9999994), (208, 0.99858922), (209, 0.99998927), (140, 1.0), (172, 0.9999665), (181, 0.97618836), (151, 0.99999964), (56, 1.0), (25, 0.99960256), (191, 0.99676156), (125, 1.0), (158, 0.99857044), (165, 1.0)] True 10\n",
        "224 [(224, 228), (66, 133), (68, 85), (69, 78), (221, 224), (73, 81), (44, 93), (206, 207), (15, 165), (208, 219), (209, 225), (140, 198), (172, 173), (181, 193), (151, 157), (56, 92), (25, 42), (191, 193), (125, 145), (158, 161), (165, 167)] [(224, 1.0), (66, 0.9999994), (68, 0.93344492), (69, 0.9533906), (221, 0.99859661), (73, 0.99338323), (44, 1.0), (206, 0.99813169), (15, 0.9999994), (208, 0.99858922), (209, 1.0), (140, 1.0), (172, 0.9999665), (181, 0.97618836), (151, 0.99999964), (56, 1.0), (25, 0.99960256), (191, 0.99676156), (125, 1.0), (158, 0.99857044), (165, 1.0)] True 4\n",
        "209 [(224, 228), (66, 133), (68, 85), (69, 78), (221, 224), (73, 81), (44, 93), (206, 207), (15, 165), (208, 219), (209, 225), (140, 198), (172, 173), (181, 193), (151, 157), (56, 92), (25, 42), (191, 193), (125, 145), (158, 161), (165, 167)] [(224, 1.0), (66, 0.9999994), (68, 0.93344492), (69, 0.9533906), (221, 0.99859661), (73, 0.99338323), (44, 1.0), (206, 0.99813169), (15, 0.9999994), (208, 0.99858922), (209, 1.0), (140, 1.0), (172, 0.9999665), (181, 0.97618836), (151, 0.99999964), (56, 1.0), (25, 0.99960256), (191, 0.99676156), (125, 1.0), (158, 0.99857044), (165, 1.0)] True 10\n",
        "244 [(224, 228), (66, 133), (68, 85), (69, 78), (221, 224), (73, 81), (44, 93), (206, 207), (15, 165), (208, 219), (209, 225), (140, 198), (172, 173), (181, 193), (151, 157), (56, 92), (25, 42), (191, 193), (125, 145), (158, 161), (165, 167)] [(224, 1.0), (66, 0.9999994), (68, 0.93344492), (69, 0.9533906), (221, 0.99859661), (73, 0.99338323), (44, 1.0), (206, 0.99813169), (15, 0.9999994), (208, 0.99858922), (209, 1.0), (140, 1.0), (172, 0.9999665), (181, 0.97618836), (151, 0.99999964), (56, 1.0), (25, 0.99960256), (191, 0.99676156), (125, 1.0), (158, 0.99857044), (165, 1.0)] False -1\n",
        "255 [(172, 173), (140, 198), (15, 165), (151, 157), (25, 42), (158, 161), (165, 167), (44, 93), (181, 193), (56, 92), (191, 193), (66, 133), (68, 85), (69, 78), (73, 81), (206, 207), (208, 219), (209, 225), (221, 224), (224, 228), (244, 259), (125, 145)] [(172, 0.9999665), (140, 1.0), (15, 0.9999994), (151, 0.99999964), (25, 0.99960256), (158, 0.99857044), (165, 1.0), (44, 1.0), (181, 0.97618836), (56, 1.0), (191, 0.99676156), (66, 0.9999994), (68, 0.93344492), (69, 0.9533906), (73, 0.99338323), (206, 0.99813169), (208, 0.99858922), (209, 1.0), (221, 0.99859661), (224, 1.0), (244, 0.98112446), (125, 1.0)] True 20\n",
        "244 [(172, 173), (140, 198), (15, 165), (151, 157), (25, 42), (158, 161), (165, 167), (44, 93), (181, 193), (56, 92), (191, 193), (66, 133), (68, 85), (69, 78), (73, 81), (206, 207), (208, 219), (209, 225), (221, 224), (224, 228), (244, 259), (125, 145), (255, 259)] [(172, 0.9999665), (140, 1.0), (15, 0.9999994), (151, 0.99999964), (25, 0.99960256), (158, 0.99857044), (165, 1.0), (44, 1.0), (181, 0.97618836), (56, 1.0), (191, 0.99676156), (66, 0.9999994), (68, 0.93344492), (69, 0.9533906), (73, 0.99338323), (206, 0.99813169), (208, 0.99858922), (209, 1.0), (221, 0.99859661), (224, 1.0), (244, 0.98112446), (125, 1.0), (255, 0.99979424)] True 22\n",
        "255 [(172, 173), (140, 198), (15, 165), (151, 157), (25, 42), (158, 161), (165, 167), (44, 93), (181, 193), (56, 92), (191, 193), (66, 133), (68, 85), (69, 78), (73, 81), (206, 207), (208, 219), (209, 225), (221, 224), (224, 228), (244, 259), (125, 145), (255, 259)] [(172, 0.9999665), (140, 1.0), (15, 0.9999994), (151, 0.99999964), (25, 0.99960256), (158, 0.99857044), (165, 1.0), (44, 1.0), (181, 0.97618836), (56, 1.0), (191, 0.99676156), (66, 0.9999994), (68, 0.93344492), (69, 0.9533906), (73, 0.99338323), (206, 0.99813169), (208, 0.99858922), (209, 1.0), (221, 0.99859661), (224, 1.0), (244, 0.99999976), (125, 1.0), (255, 0.99979424)] True 22\n",
        "261 [(172, 173), (140, 198), (15, 165), (151, 157), (25, 42), (158, 161), (165, 167), (44, 93), (181, 193), (56, 92), (191, 193), (66, 133), (68, 85), (69, 78), (73, 81), (206, 207), (208, 219), (209, 225), (221, 224), (224, 228), (244, 259), (125, 145), (255, 259)] [(172, 0.9999665), (140, 1.0), (15, 0.9999994), (151, 0.99999964), (25, 0.99960256), (158, 0.99857044), (165, 1.0), (44, 1.0), (181, 0.97618836), (56, 1.0), (191, 0.99676156), (66, 0.9999994), (68, 0.93344492), (69, 0.9533906), (73, 0.99338323), (206, 0.99813169), (208, 0.99858922), (209, 1.0), (221, 0.99859661), (224, 1.0), (244, 0.99999976), (125, 1.0), (255, 1.0)] False -1\n",
        "295 [(261, 328), (172, 173), (140, 198), (15, 165), (151, 157), (25, 42), (158, 161), (165, 167), (44, 93), (181, 193), (56, 92), (191, 193), (66, 133), (68, 85), (69, 78), (73, 81), (206, 207), (208, 219), (209, 225), (221, 224), (224, 228), (244, 259), (125, 145), (255, 259)] [(261, 0.99534082), (172, 0.9999665), (140, 1.0), (15, 0.9999994), (151, 0.99999964), (25, 0.99960256), (158, 0.99857044), (165, 1.0), (44, 1.0), (181, 0.97618836), (56, 1.0), (191, 0.99676156), (66, 0.9999994), (68, 0.93344492), (69, 0.9533906), (73, 0.99338323), (206, 0.99813169), (208, 0.99858922), (209, 1.0), (221, 0.99859661), (224, 1.0), (244, 0.99999976), (125, 1.0), (255, 1.0)] False -1\n",
        "295 [(261, 328), (172, 173), (140, 198), (15, 165), (151, 157), (25, 42), (158, 161), (165, 167), (295, 299), (44, 93), (181, 193), (56, 92), (191, 193), (66, 133), (68, 85), (69, 78), (73, 81), (206, 207), (208, 219), (209, 225), (221, 224), (224, 228), (244, 259), (125, 145), (255, 259)] [(261, 0.99534082), (172, 0.9999665), (140, 1.0), (15, 0.9999994), (151, 0.99999964), (25, 0.99960256), (158, 0.99857044), (165, 1.0), (295, 0.95368314), (44, 1.0), (181, 0.97618836), (56, 1.0), (191, 0.99676156), (66, 0.9999994), (68, 0.93344492), (69, 0.9533906), (73, 0.99338323), (206, 0.99813169), (208, 0.99858922), (209, 1.0), (221, 0.99859661), (224, 1.0), (244, 0.99999976), (125, 1.0), (255, 1.0)] True 8\n",
        "299 [(261, 328), (172, 173), (140, 198), (15, 165), (151, 157), (25, 42), (158, 161), (165, 167), (295, 352), (44, 93), (181, 193), (56, 92), (191, 193), (66, 133), (68, 85), (69, 78), (73, 81), (206, 207), (208, 219), (209, 225), (221, 224), (224, 228), (244, 259), (125, 145), (255, 259)] [(261, 0.99534082), (172, 0.9999665), (140, 1.0), (15, 0.9999994), (151, 0.99999964), (25, 0.99960256), (158, 0.99857044), (165, 1.0), (295, 0.9939878), (44, 1.0), (181, 0.97618836), (56, 1.0), (191, 0.99676156), (66, 0.9999994), (68, 0.93344492), (69, 0.9533906), (73, 0.99338323), (206, 0.99813169), (208, 0.99858922), (209, 1.0), (221, 0.99859661), (224, 1.0), (244, 0.99999976), (125, 1.0), (255, 1.0)] False -1\n",
        "303 [(261, 328), (172, 173), (140, 198), (15, 165), (151, 157), (25, 42), (158, 161), (165, 167), (295, 352), (299, 310), (44, 93), (181, 193), (56, 92), (191, 193), (66, 133), (68, 85), (69, 78), (73, 81), (206, 207), (208, 219), (209, 225), (221, 224), (224, 228), (244, 259), (125, 145), (255, 259)] [(261, 0.99534082), (172, 0.9999665), (140, 1.0), (15, 0.9999994), (151, 0.99999964), (25, 0.99960256), (158, 0.99857044), (165, 1.0), (295, 0.9939878), (299, 0.96665454), (44, 1.0), (181, 0.97618836), (56, 1.0), (191, 0.99676156), (66, 0.9999994), (68, 0.93344492), (69, 0.9533906), (73, 0.99338323), (206, 0.99813169), (208, 0.99858922), (209, 1.0), (221, 0.99859661), (224, 1.0), (244, 0.99999976), (125, 1.0), (255, 1.0)] False -1\n",
        "307 [(261, 328), (172, 173), (140, 198), (15, 165), (151, 157), (25, 42), (158, 161), (165, 167), (295, 352), (299, 310), (44, 93), (303, 317), (181, 193), (56, 92), (191, 193), (66, 133), (68, 85), (69, 78), (73, 81), (206, 207), (208, 219), (209, 225), (221, 224), (224, 228), (244, 259), (125, 145), (255, 259)] [(261, 0.99534082), (172, 0.9999665), (140, 1.0), (15, 0.9999994), (151, 0.99999964), (25, 0.99960256), (158, 0.99857044), (165, 1.0), (295, 0.9939878), (299, 0.96665454), (44, 1.0), (303, 0.99990463), (181, 0.97618836), (56, 1.0), (191, 0.99676156), (66, 0.9999994), (68, 0.93344492), (69, 0.9533906), (73, 0.99338323), (206, 0.99813169), (208, 0.99858922), (209, 1.0), (221, 0.99859661), (224, 1.0), (244, 0.99999976), (125, 1.0), (255, 1.0)] False -1\n",
        "286 [(261, 328), (172, 173), (140, 198), (15, 165), (151, 157), (25, 42), (158, 161), (165, 167), (295, 352), (299, 310), (44, 93), (303, 317), (307, 315), (181, 193), (56, 92), (191, 193), (66, 133), (68, 85), (69, 78), (73, 81), (206, 207), (208, 219), (209, 225), (221, 224), (224, 228), (244, 259), (125, 145), (255, 259)] [(261, 0.99534082), (172, 0.9999665), (140, 1.0), (15, 0.9999994), (151, 0.99999964), (25, 0.99960256), (158, 0.99857044), (165, 1.0), (295, 0.9939878), (299, 0.96665454), (44, 1.0), (303, 0.99990463), (307, 0.99999964), (181, 0.97618836), (56, 1.0), (191, 0.99676156), (66, 0.9999994), (68, 0.93344492), (69, 0.9533906), (73, 0.99338323), (206, 0.99813169), (208, 0.99858922), (209, 1.0), (221, 0.99859661), (224, 1.0), (244, 0.99999976), (125, 1.0), (255, 1.0)] True 9\n",
        "299 [(261, 328), (172, 173), (140, 198), (15, 165), (286, 310), (151, 157), (25, 42), (158, 161), (165, 167), (295, 352), (299, 310), (44, 93), (303, 317), (307, 315), (181, 193), (56, 92), (191, 193), (66, 133), (68, 85), (69, 78), (73, 81), (206, 207), (208, 219), (209, 225), (221, 224), (224, 228), (244, 259), (125, 145), (255, 259)] [(261, 0.99534082), (172, 0.9999665), (140, 1.0), (15, 0.9999994), (286, 0.99999952), (151, 0.99999964), (25, 0.99960256), (158, 0.99857044), (165, 1.0), (295, 0.9939878), (299, 0.96665454), (44, 1.0), (303, 0.99990463), (307, 0.99999964), (181, 0.97618836), (56, 1.0), (191, 0.99676156), (66, 0.9999994), (68, 0.93344492), (69, 0.9533906), (73, 0.99338323), (206, 0.99813169), (208, 0.99858922), (209, 1.0), (221, 0.99859661), (224, 1.0), (244, 0.99999976), (125, 1.0), (255, 1.0)] True 10\n",
        "310 [(261, 328), (172, 173), (140, 198), (15, 165), (286, 310), (151, 157), (25, 42), (158, 161), (165, 167), (295, 352), (299, 310), (44, 93), (303, 317), (307, 315), (181, 193), (56, 92), (191, 193), (66, 133), (68, 85), (69, 78), (73, 81), (206, 207), (208, 219), (209, 225), (221, 224), (224, 228), (244, 259), (125, 145), (255, 259)] [(261, 0.99534082), (172, 0.9999665), (140, 1.0), (15, 0.9999994), (286, 0.99999952), (151, 0.99999964), (25, 0.99960256), (158, 0.99857044), (165, 1.0), (295, 0.9939878), (299, 0.99086368), (44, 1.0), (303, 0.99990463), (307, 0.99999964), (181, 0.97618836), (56, 1.0), (191, 0.99676156), (66, 0.9999994), (68, 0.93344492), (69, 0.9533906), (73, 0.99338323), (206, 0.99813169), (208, 0.99858922), (209, 1.0), (221, 0.99859661), (224, 1.0), (244, 0.99999976), (125, 1.0), (255, 1.0)] True 10\n",
        "313 [(261, 328), (172, 173), (140, 198), (15, 165), (286, 310), (151, 157), (25, 42), (158, 161), (165, 167), (295, 352), (299, 310), (44, 93), (303, 317), (307, 315), (181, 193), (56, 92), (191, 193), (66, 133), (68, 85), (69, 78), (73, 81), (206, 207), (208, 219), (209, 225), (221, 224), (224, 228), (244, 259), (125, 145), (255, 259)] [(261, 0.99534082), (172, 0.9999665), (140, 1.0), (15, 0.9999994), (286, 0.99999952), (151, 0.99999964), (25, 0.99960256), (158, 0.99857044), (165, 1.0), (295, 0.9939878), (299, 0.99086368), (44, 1.0), (303, 0.99990463), (307, 0.99999964), (181, 0.97618836), (56, 1.0), (191, 0.99676156), (66, 0.9999994), (68, 0.93344492), (69, 0.9533906), (73, 0.99338323), (206, 0.99813169), (208, 0.99858922), (209, 1.0), (221, 0.99859661), (224, 1.0), (244, 0.99999976), (125, 1.0), (255, 1.0)] False -1\n",
        "307 [(261, 328), (172, 173), (140, 198), (15, 165), (286, 310), (151, 157), (25, 42), (158, 161), (165, 167), (295, 352), (299, 310), (44, 93), (303, 317), (307, 315), (181, 193), (56, 92), (313, 318), (191, 193), (66, 133), (68, 85), (69, 78), (73, 81), (206, 207), (208, 219), (209, 225), (221, 224), (224, 228), (244, 259), (125, 145), (255, 259)] [(261, 0.99534082), (172, 0.9999665), (140, 1.0), (15, 0.9999994), (286, 0.99999952), (151, 0.99999964), (25, 0.99960256), (158, 0.99857044), (165, 1.0), (295, 0.9939878), (299, 0.99086368), (44, 1.0), (303, 0.99990463), (307, 0.99999964), (181, 0.97618836), (56, 1.0), (313, 0.95334488), (191, 0.99676156), (66, 0.9999994), (68, 0.93344492), (69, 0.9533906), (73, 0.99338323), (206, 0.99813169), (208, 0.99858922), (209, 1.0), (221, 0.99859661), (224, 1.0), (244, 0.99999976), (125, 1.0), (255, 1.0)] True 13\n",
        "315 [(261, 328), (172, 173), (140, 198), (15, 165), (286, 310), (151, 157), (25, 42), (158, 161), (165, 167), (295, 352), (299, 310), (44, 93), (303, 317), (307, 315), (181, 193), (56, 92), (313, 318), (191, 193), (66, 133), (68, 85), (69, 78), (73, 81), (206, 207), (208, 219), (209, 225), (221, 224), (224, 228), (244, 259), (125, 145), (255, 259)] [(261, 0.99534082), (172, 0.9999665), (140, 1.0), (15, 0.9999994), (286, 0.99999952), (151, 0.99999964), (25, 0.99960256), (158, 0.99857044), (165, 1.0), (295, 0.9939878), (299, 0.99086368), (44, 1.0), (303, 0.99990463), (307, 1.0), (181, 0.97618836), (56, 1.0), (313, 0.95334488), (191, 0.99676156), (66, 0.9999994), (68, 0.93344492), (69, 0.9533906), (73, 0.99338323), (206, 0.99813169), (208, 0.99858922), (209, 1.0), (221, 0.99859661), (224, 1.0), (244, 0.99999976), (125, 1.0), (255, 1.0)] True 16\n",
        "315 [(261, 328), (172, 173), (140, 198), (15, 165), (286, 310), (151, 157), (25, 42), (158, 161), (165, 167), (295, 352), (299, 310), (44, 93), (303, 317), (307, 315), (181, 193), (56, 92), (313, 318), (315, 318), (191, 193), (66, 133), (68, 85), (69, 78), (73, 81), (206, 207), (208, 219), (209, 225), (221, 224), (224, 228), (244, 259), (125, 145), (255, 259)] [(261, 0.99534082), (172, 0.9999665), (140, 1.0), (15, 0.9999994), (286, 0.99999952), (151, 0.99999964), (25, 0.99960256), (158, 0.99857044), (165, 1.0), (295, 0.9939878), (299, 0.99086368), (44, 1.0), (303, 0.99990463), (307, 1.0), (181, 0.97618836), (56, 1.0), (313, 0.95334488), (315, 1.0), (191, 0.99676156), (66, 0.9999994), (68, 0.93344492), (69, 0.9533906), (73, 0.99338323), (206, 0.99813169), (208, 0.99858922), (209, 1.0), (221, 0.99859661), (224, 1.0), (244, 0.99999976), (125, 1.0), (255, 1.0)] True 17\n",
        "303 [(261, 328), (172, 173), (140, 198), (15, 165), (286, 310), (151, 157), (25, 42), (158, 161), (165, 167), (295, 352), (299, 310), (44, 93), (303, 317), (307, 315), (181, 193), (56, 92), (313, 318), (315, 318), (191, 193), (66, 133), (68, 85), (69, 78), (73, 81), (206, 207), (208, 219), (209, 225), (221, 224), (224, 228), (244, 259), (125, 145), (255, 259)] [(261, 0.99534082), (172, 0.9999665), (140, 1.0), (15, 0.9999994), (286, 0.99999952), (151, 0.99999964), (25, 0.99960256), (158, 0.99857044), (165, 1.0), (295, 0.9939878), (299, 0.99086368), (44, 1.0), (303, 0.99990463), (307, 1.0), (181, 0.97618836), (56, 1.0), (313, 0.95334488), (315, 1.0), (191, 0.99676156), (66, 0.9999994), (68, 0.93344492), (69, 0.9533906), (73, 0.99338323), (206, 0.99813169), (208, 0.99858922), (209, 1.0), (221, 0.99859661), (224, 1.0), (244, 0.99999976), (125, 1.0), (255, 1.0)] True 12\n",
        "317 [(261, 328), (172, 173), (140, 198), (15, 165), (286, 310), (151, 157), (25, 42), (158, 161), (165, 167), (295, 352), (299, 310), (44, 93), (303, 317), (307, 315), (181, 193), (56, 92), (313, 318), (315, 318), (191, 193), (66, 133), (68, 85), (69, 78), (73, 81), (206, 207), (208, 219), (209, 225), (221, 224), (224, 228), (244, 259), (125, 145), (255, 259)] [(261, 0.99534082), (172, 0.9999665), (140, 1.0), (15, 0.9999994), (286, 0.99999952), (151, 0.99999964), (25, 0.99960256), (158, 0.99857044), (165, 1.0), (295, 0.9939878), (299, 0.99086368), (44, 1.0), (303, 0.99991441), (307, 1.0), (181, 0.97618836), (56, 1.0), (313, 0.95334488), (315, 1.0), (191, 0.99676156), (66, 0.9999994), (68, 0.93344492), (69, 0.9533906), (73, 0.99338323), (206, 0.99813169), (208, 0.99858922), (209, 1.0), (221, 0.99859661), (224, 1.0), (244, 0.99999976), (125, 1.0), (255, 1.0)] True 12\n",
        "315 [(261, 328), (172, 173), (140, 198), (15, 165), (286, 310), (151, 157), (25, 42), (158, 161), (165, 167), (295, 352), (299, 310), (44, 93), (303, 317), (307, 315), (181, 193), (56, 92), (313, 318), (315, 318), (191, 193), (66, 133), (68, 85), (69, 78), (73, 81), (206, 207), (208, 219), (209, 225), (221, 224), (224, 228), (244, 259), (125, 145), (255, 259)] [(261, 0.99534082), (172, 0.9999665), (140, 1.0), (15, 0.9999994), (286, 0.99999952), (151, 0.99999964), (25, 0.99960256), (158, 0.99857044), (165, 1.0), (295, 0.9939878), (299, 0.99086368), (44, 1.0), (303, 0.99991441), (307, 1.0), (181, 0.97618836), (56, 1.0), (313, 0.95334488), (315, 1.0), (191, 0.99676156), (66, 0.9999994), (68, 0.93344492), (69, 0.9533906), (73, 0.99338323), (206, 0.99813169), (208, 0.99858922), (209, 1.0), (221, 0.99859661), (224, 1.0), (244, 0.99999976), (125, 1.0), (255, 1.0)] True 17\n",
        "317 [(261, 328), (172, 173), (140, 198), (15, 165), (286, 310), (151, 157), (25, 42), (158, 161), (165, 167), (295, 352), (299, 310), (44, 93), (303, 317), (307, 315), (181, 193), (56, 92), (313, 318), (315, 318), (191, 193), (66, 133), (68, 85), (69, 78), (73, 81), (206, 207), (208, 219), (209, 225), (221, 224), (224, 228), (244, 259), (125, 145), (255, 259)] [(261, 0.99534082), (172, 0.9999665), (140, 1.0), (15, 0.9999994), (286, 0.99999952), (151, 0.99999964), (25, 0.99960256), (158, 0.99857044), (165, 1.0), (295, 0.9939878), (299, 0.99086368), (44, 1.0), (303, 0.99991441), (307, 1.0), (181, 0.97618836), (56, 1.0), (313, 0.95334488), (315, 1.0), (191, 0.99676156), (66, 0.9999994), (68, 0.93344492), (69, 0.9533906), (73, 0.99338323), (206, 0.99813169), (208, 0.99858922), (209, 1.0), (221, 0.99859661), (224, 1.0), (244, 0.99999976), (125, 1.0), (255, 1.0)] True 12\n",
        "322 [(261, 328), (172, 173), (140, 198), (15, 165), (286, 310), (151, 157), (25, 42), (158, 161), (165, 167), (295, 352), (299, 310), (44, 93), (303, 317), (307, 315), (181, 193), (56, 92), (313, 318), (315, 318), (191, 193), (66, 133), (68, 85), (69, 78), (73, 81), (206, 207), (208, 219), (209, 225), (221, 224), (224, 228), (244, 259), (125, 145), (255, 259)] [(261, 0.99534082), (172, 0.9999665), (140, 1.0), (15, 0.9999994), (286, 0.99999952), (151, 0.99999964), (25, 0.99960256), (158, 0.99857044), (165, 1.0), (295, 0.9939878), (299, 0.99086368), (44, 1.0), (303, 0.99991441), (307, 1.0), (181, 0.97618836), (56, 1.0), (313, 0.95334488), (315, 1.0), (191, 0.99676156), (66, 0.9999994), (68, 0.93344492), (69, 0.9533906), (73, 0.99338323), (206, 0.99813169), (208, 0.99858922), (209, 1.0), (221, 0.99859661), (224, 1.0), (244, 0.99999976), (125, 1.0), (255, 1.0)] False -1\n",
        "323 [(261, 328), (172, 173), (140, 198), (322, 355), (15, 165), (286, 310), (151, 157), (25, 42), (158, 161), (165, 167), (295, 352), (299, 310), (44, 93), (303, 317), (307, 315), (181, 193), (56, 92), (313, 318), (315, 318), (191, 193), (66, 133), (68, 85), (69, 78), (73, 81), (206, 207), (208, 219), (209, 225), (221, 224), (224, 228), (244, 259), (125, 145), (255, 259)] [(261, 0.99534082), (172, 0.9999665), (140, 1.0), (322, 0.96645701), (15, 0.9999994), (286, 0.99999952), (151, 0.99999964), (25, 0.99960256), (158, 0.99857044), (165, 1.0), (295, 0.9939878), (299, 0.99086368), (44, 1.0), (303, 0.99991441), (307, 1.0), (181, 0.97618836), (56, 1.0), (313, 0.95334488), (315, 1.0), (191, 0.99676156), (66, 0.9999994), (68, 0.93344492), (69, 0.9533906), (73, 0.99338323), (206, 0.99813169), (208, 0.99858922), (209, 1.0), (221, 0.99859661), (224, 1.0), (244, 0.99999976), (125, 1.0), (255, 1.0)] False -1\n",
        "323 [(261, 328), (172, 173), (140, 198), (322, 355), (15, 165), (286, 310), (151, 157), (25, 42), (158, 161), (165, 167), (295, 352), (299, 310), (44, 93), (303, 317), (307, 315), (181, 193), (56, 92), (313, 318), (315, 318), (191, 193), (66, 133), (323, 327), (68, 85), (69, 78), (73, 81), (206, 207), (208, 219), (209, 225), (221, 224), (224, 228), (244, 259), (125, 145), (255, 259)] [(261, 0.99534082), (172, 0.9999665), (140, 1.0), (322, 0.96645701), (15, 0.9999994), (286, 0.99999952), (151, 0.99999964), (25, 0.99960256), (158, 0.99857044), (165, 1.0), (295, 0.9939878), (299, 0.99086368), (44, 1.0), (303, 0.99991441), (307, 1.0), (181, 0.97618836), (56, 1.0), (313, 0.95334488), (315, 1.0), (191, 0.99676156), (66, 0.9999994), (323, 0.93338126), (68, 0.93344492), (69, 0.9533906), (73, 0.99338323), (206, 0.99813169), (208, 0.99858922), (209, 1.0), (221, 0.99859661), (224, 1.0), (244, 0.99999976), (125, 1.0), (255, 1.0)] True 21\n",
        "261 [(261, 328), (172, 173), (140, 198), (322, 355), (15, 165), (286, 310), (151, 157), (25, 42), (158, 161), (165, 167), (295, 352), (299, 310), (44, 93), (303, 317), (307, 315), (181, 193), (56, 92), (313, 318), (315, 318), (191, 193), (66, 133), (323, 327), (68, 85), (69, 78), (73, 81), (206, 207), (208, 219), (209, 225), (221, 224), (224, 228), (244, 259), (125, 145), (255, 259)] [(261, 0.99534082), (172, 0.9999665), (140, 1.0), (322, 0.96645701), (15, 0.9999994), (286, 0.99999952), (151, 0.99999964), (25, 0.99960256), (158, 0.99857044), (165, 1.0), (295, 0.9939878), (299, 0.99086368), (44, 1.0), (303, 0.99991441), (307, 1.0), (181, 0.97618836), (56, 1.0), (313, 0.95334488), (315, 1.0), (191, 0.99676156), (66, 0.9999994), (323, 0.93338126), (68, 0.93344492), (69, 0.9533906), (73, 0.99338323), (206, 0.99813169), (208, 0.99858922), (209, 1.0), (221, 0.99859661), (224, 1.0), (244, 0.99999976), (125, 1.0), (255, 1.0)] True 0\n",
        "329 [(261, 328), (172, 173), (140, 198), (322, 355), (15, 165), (286, 310), (151, 157), (25, 42), (158, 161), (165, 167), (295, 352), (299, 310), (44, 93), (303, 317), (307, 315), (181, 193), (56, 92), (313, 318), (315, 318), (191, 193), (66, 133), (323, 327), (68, 85), (69, 78), (73, 81), (206, 207), (208, 219), (209, 225), (221, 224), (224, 228), (244, 259), (125, 145), (255, 259)] [(261, 0.99534082), (172, 0.9999665), (140, 1.0), (322, 0.96645701), (15, 0.9999994), (286, 0.99999952), (151, 0.99999964), (25, 0.99960256), (158, 0.99857044), (165, 1.0), (295, 0.9939878), (299, 0.99086368), (44, 1.0), (303, 0.99991441), (307, 1.0), (181, 0.97618836), (56, 1.0), (313, 0.95334488), (315, 1.0), (191, 0.99676156), (66, 0.9999994), (323, 0.93338126), (68, 0.93344492), (69, 0.9533906), (73, 0.99338323), (206, 0.99813169), (208, 0.99858922), (209, 1.0), (221, 0.99859661), (224, 1.0), (244, 0.99999976), (125, 1.0), (255, 1.0)] False -1\n",
        "315 [(261, 328), (172, 173), (140, 198), (322, 355), (15, 165), (286, 310), (151, 157), (25, 42), (158, 161), (165, 167), (295, 352), (299, 310), (44, 93), (303, 317), (307, 315), (181, 193), (329, 339), (56, 92), (313, 318), (315, 318), (191, 193), (66, 133), (323, 327), (68, 85), (69, 78), (73, 81), (206, 207), (208, 219), (209, 225), (221, 224), (224, 228), (244, 259), (125, 145), (255, 259)] [(261, 0.99534082), (172, 0.9999665), (140, 1.0), (322, 0.96645701), (15, 0.9999994), (286, 0.99999952), (151, 0.99999964), (25, 0.99960256), (158, 0.99857044), (165, 1.0), (295, 0.9939878), (299, 0.99086368), (44, 1.0), (303, 0.99991441), (307, 1.0), (181, 0.97618836), (329, 0.99997449), (56, 1.0), (313, 0.95334488), (315, 1.0), (191, 0.99676156), (66, 0.9999994), (323, 0.93338126), (68, 0.93344492), (69, 0.9533906), (73, 0.99338323), (206, 0.99813169), (208, 0.99858922), (209, 1.0), (221, 0.99859661), (224, 1.0), (244, 0.99999976), (125, 1.0), (255, 1.0)] True 19\n",
        "329 [(261, 328), (172, 173), (140, 198), (322, 355), (15, 165), (286, 310), (151, 157), (25, 42), (158, 161), (165, 167), (295, 352), (299, 310), (44, 93), (303, 317), (307, 315), (181, 193), (329, 339), (56, 92), (313, 318), (315, 318), (191, 193), (66, 133), (323, 327), (68, 85), (69, 78), (73, 81), (206, 207), (208, 219), (209, 225), (221, 224), (224, 228), (244, 259), (125, 145), (255, 259)] [(261, 0.99534082), (172, 0.9999665), (140, 1.0), (322, 0.96645701), (15, 0.9999994), (286, 0.99999952), (151, 0.99999964), (25, 0.99960256), (158, 0.99857044), (165, 1.0), (295, 0.9939878), (299, 0.99086368), (44, 1.0), (303, 0.99991441), (307, 1.0), (181, 0.97618836), (329, 0.99997449), (56, 1.0), (313, 0.95334488), (315, 1.0), (191, 0.99676156), (66, 0.9999994), (323, 0.93338126), (68, 0.93344492), (69, 0.9533906), (73, 0.99338323), (206, 0.99813169), (208, 0.99858922), (209, 1.0), (221, 0.99859661), (224, 1.0), (244, 0.99999976), (125, 1.0), (255, 1.0)] True 16\n",
        "295 [(261, 328), (172, 173), (140, 198), (322, 355), (15, 165), (286, 310), (151, 157), (25, 42), (158, 161), (165, 167), (295, 352), (299, 310), (44, 93), (303, 317), (307, 315), (181, 193), (329, 339), (56, 92), (313, 318), (315, 318), (191, 193), (66, 133), (323, 327), (68, 85), (69, 78), (73, 81), (206, 207), (208, 219), (209, 225), (221, 224), (224, 228), (244, 259), (125, 145), (255, 259)] [(261, 0.99534082), (172, 0.9999665), (140, 1.0), (322, 0.96645701), (15, 0.9999994), (286, 0.99999952), (151, 0.99999964), (25, 0.99960256), (158, 0.99857044), (165, 1.0), (295, 0.9939878), (299, 0.99086368), (44, 1.0), (303, 0.99991441), (307, 1.0), (181, 0.97618836), (329, 0.99997449), (56, 1.0), (313, 0.95334488), (315, 1.0), (191, 0.99676156), (66, 0.9999994), (323, 0.93338126), (68, 0.93344492), (69, 0.9533906), (73, 0.99338323), (206, 0.99813169), (208, 0.99858922), (209, 1.0), (221, 0.99859661), (224, 1.0), (244, 0.99999976), (125, 1.0), (255, 1.0)] True 10\n",
        "322 [(261, 328), (172, 173), (140, 198), (322, 355), (15, 165), (286, 310), (151, 157), (25, 42), (158, 161), (165, 167), (295, 352), (299, 310), (44, 93), (303, 317), (307, 315), (181, 193), (329, 339), (56, 92), (313, 318), (315, 318), (191, 193), (66, 133), (323, 327), (68, 85), (69, 78), (73, 81), (206, 207), (208, 219), (209, 225), (221, 224), (224, 228), (244, 259), (125, 145), (255, 259)] [(261, 0.99534082), (172, 0.9999665), (140, 1.0), (322, 0.96645701), (15, 0.9999994), (286, 0.99999952), (151, 0.99999964), (25, 0.99960256), (158, 0.99857044), (165, 1.0), (295, 0.9939878), (299, 0.99086368), (44, 1.0), (303, 0.99991441), (307, 1.0), (181, 0.97618836), (329, 0.99997449), (56, 1.0), (313, 0.95334488), (315, 1.0), (191, 0.99676156), (66, 0.9999994), (323, 0.93338126), (68, 0.93344492), (69, 0.9533906), (73, 0.99338323), (206, 0.99813169), (208, 0.99858922), (209, 1.0), (221, 0.99859661), (224, 1.0), (244, 0.99999976), (125, 1.0), (255, 1.0)] True 3\n"
       ]
      }
     ],
     "prompt_number": 233
    },
    {
     "cell_type": "code",
     "collapsed": false,
     "input": [
      "for i in mt.items():\n",
      "    print 92 in i"
     ],
     "language": "python",
     "metadata": {},
     "outputs": [
      {
       "output_type": "stream",
       "stream": "stdout",
       "text": [
        "True\n",
        "True\n",
        "True\n"
       ]
      }
     ],
     "prompt_number": 203
    },
    {
     "cell_type": "code",
     "collapsed": false,
     "input": [
      "imshow(_metrics.Util.threshold(rhoana_normalized[BB[0]:BB[1],BB[2]:BB[3]], 56))"
     ],
     "language": "python",
     "metadata": {},
     "outputs": [
      {
       "metadata": {},
       "output_type": "pyout",
       "prompt_number": 212,
       "text": [
        "<matplotlib.image.AxesImage at 0x1afa92ad0>"
       ]
      },
      {
       "metadata": {},
       "output_type": "display_data",
       "png": "[encoded data removed]",
       "text": [
        "<matplotlib.figure.Figure at 0x1a2b2d190>"
       ]
      }
     ],
     "prompt_number": 212
    },
    {
     "cell_type": "code",
     "collapsed": false,
     "input": [
      "imshow(_metrics.Util.threshold(rhoana_normalized[BB[0]:BB[1],BB[2]:BB[3]], 92))"
     ],
     "language": "python",
     "metadata": {},
     "outputs": [
      {
       "metadata": {},
       "output_type": "pyout",
       "prompt_number": 213,
       "text": [
        "<matplotlib.image.AxesImage at 0x1afaa43d0>"
       ]
      },
      {
       "metadata": {},
       "output_type": "display_data",
       "png": "[encoded data removed]",
       "text": [
        "<matplotlib.figure.Figure at 0x1afa79590>"
       ]
      }
     ],
     "prompt_number": 213
    },
    {
     "cell_type": "code",
     "collapsed": false,
     "input": [
      "imshow(_metrics.Util.threshold(rhoana_normalized[BB[0]:BB[1],BB[2]:BB[3]], 44))"
     ],
     "language": "python",
     "metadata": {},
     "outputs": [
      {
       "metadata": {},
       "output_type": "pyout",
       "prompt_number": 61,
       "text": [
        "<matplotlib.image.AxesImage at 0x1aee1cf10>"
       ]
      },
      {
       "metadata": {},
       "output_type": "display_data",
       "png": "[encoded data removed]",
       "text": [
        "<matplotlib.figure.Figure at 0x1a57de590>"
       ]
      }
     ],
     "prompt_number": 61
    },
    {
     "cell_type": "code",
     "collapsed": false,
     "input": [
      "after_mt = apply_merge_table(rhoana_normalized[BB[0]:BB[1],BB[2]:BB[3]], mt)"
     ],
     "language": "python",
     "metadata": {},
     "outputs": [],
     "prompt_number": 234
    },
    {
     "cell_type": "code",
     "collapsed": false,
     "input": [
      "imshow(after_mt)"
     ],
     "language": "python",
     "metadata": {},
     "outputs": [
      {
       "metadata": {},
       "output_type": "pyout",
       "prompt_number": 209,
       "text": [
        "<matplotlib.image.AxesImage at 0x1a2b44390>"
       ]
      },
      {
       "metadata": {},
       "output_type": "display_data",
       "png": "[encoded data removed]",
       "text": [
        "<matplotlib.figure.Figure at 0x1a4a70e90>"
       ]
      }
     ],
     "prompt_number": 209
    },
    {
     "cell_type": "code",
     "collapsed": false,
     "input": [
      "imshow(colored_gold_normalized[BB[0]:BB[1],BB[2]:BB[3]])"
     ],
     "language": "python",
     "metadata": {},
     "outputs": [
      {
       "metadata": {},
       "output_type": "pyout",
       "prompt_number": 214,
       "text": [
        "<matplotlib.image.AxesImage at 0x1ad066190>"
       ]
      },
      {
       "metadata": {},
       "output_type": "display_data",
       "png": "[encoded data removed]",
       "text": [
        "<matplotlib.figure.Figure at 0x1a24f6390>"
       ]
      }
     ],
     "prompt_number": 214
    },
    {
     "cell_type": "code",
     "collapsed": false,
     "input": [
      "partition_comparison.variation_of_information(gold_normalized[BB[0]:BB[1],BB[2]:BB[3]].ravel(), after_mt.ravel())"
     ],
     "language": "python",
     "metadata": {},
     "outputs": [
      {
       "metadata": {},
       "output_type": "pyout",
       "prompt_number": 235,
       "text": [
        "0.8157818714140301"
       ]
      }
     ],
     "prompt_number": 235
    },
    {
     "cell_type": "code",
     "collapsed": false,
     "input": [
      "0.8174299454577767 "
     ],
     "language": "python",
     "metadata": {},
     "outputs": []
    },
    {
     "cell_type": "code",
     "collapsed": false,
     "input": [
      "i,mt = fix_splits(rhoana_normalized[BB[0]:BB[1],BB[2]:BB[3]], gold_normalized[BB[0]:BB[1],BB[2]:BB[3]], patches, slice=SLICE, sureness=1.)"
     ],
     "language": "python",
     "metadata": {},
     "outputs": [
      {
       "output_type": "stream",
       "stream": "stdout",
       "text": [
        "56 [] [] False -1\n",
        "71 [(56, 92)] [(56, 1.0)] False -1\n",
        "89 [(56, 92), (71, 92)] [(56, 1.0), (71, 1.0)] False -1\n",
        "56 [(56, 92), (89, 92), (71, 92)] [(56, 1.0), (89, 1.0), (71, 1.0)] True 0\n",
        "71 [(56, 92), (89, 92), (71, 92)] [(56, 1.0), (89, 1.0), (71, 1.0)] True 2\n",
        "89 [(56, 92), (89, 92), (71, 92)] [(56, 1.0), (89, 1.0), (71, 1.0)] True 1\n",
        "44 [(56, 92), (89, 92), (71, 92)] [(56, 1.0), (89, 1.0), (71, 1.0)] False -1\n",
        "93 [(56, 92), (89, 92), (44, 93), (71, 92)] [(56, 1.0), (89, 1.0), (44, 1.0), (71, 1.0)] True 2\n",
        "93 [(56, 92), (89, 92), (44, 93), (71, 92)] [(56, 1.0), (89, 1.0), (44, 1.0), (71, 1.0)] True 2\n",
        "125 [(56, 92), (89, 92), (44, 93), (71, 92)] [(56, 1.0), (89, 1.0), (44, 1.0), (71, 1.0)] False -1\n",
        "125 [(56, 92), (89, 92), (44, 93), (125, 145), (71, 92)] [(56, 1.0), (89, 1.0), (44, 1.0), (125, 1.0), (71, 1.0)] True 3\n",
        "142 [(56, 92), (89, 92), (44, 93), (125, 145), (71, 92)] [(56, 1.0), (89, 1.0), (44, 1.0), (125, 1.0), (71, 1.0)] False -1\n",
        "165 [(71, 92), (44, 93), (142, 145), (56, 92), (89, 92), (125, 145)] [(71, 1.0), (44, 1.0), (142, 1.0), (56, 1.0), (89, 1.0), (125, 1.0)] False -1\n",
        "140 [(165, 167), (71, 92), (44, 93), (142, 145), (56, 92), (89, 92), (125, 145)] [(165, 1.0), (71, 1.0), (44, 1.0), (142, 1.0), (56, 1.0), (89, 1.0), (125, 1.0)] False -1\n",
        "180 [(165, 167), (71, 92), (140, 198), (44, 93), (142, 145), (56, 92), (89, 92), (125, 145)] [(165, 1.0), (71, 1.0), (140, 1.0), (44, 1.0), (142, 1.0), (56, 1.0), (89, 1.0), (125, 1.0)] False -1\n",
        "224 [(165, 167), (71, 92), (140, 198), (44, 93), (142, 145), (180, 198), (56, 92), (89, 92), (125, 145)] [(165, 1.0), (71, 1.0), (140, 1.0), (44, 1.0), (142, 1.0), (180, 1.0), (56, 1.0), (89, 1.0), (125, 1.0)] False -1\n",
        "209 [(224, 228), (165, 167), (71, 92), (140, 198), (44, 93), (142, 145), (180, 198), (56, 92), (89, 92), (125, 145)] [(224, 1.0), (165, 1.0), (71, 1.0), (140, 1.0), (44, 1.0), (142, 1.0), (180, 1.0), (56, 1.0), (89, 1.0), (125, 1.0)] False -1\n",
        "224 [(224, 228), (165, 167), (71, 92), (140, 198), (44, 93), (142, 145), (209, 225), (180, 198), (56, 92), (89, 92), (125, 145)] [(224, 1.0), (165, 1.0), (71, 1.0), (140, 1.0), (44, 1.0), (142, 1.0), (209, 1.0), (180, 1.0), (56, 1.0), (89, 1.0), (125, 1.0)] True 0\n",
        "255 [(224, 228), (165, 167), (71, 92), (140, 198), (44, 93), (142, 145), (209, 225), (180, 198), (56, 92), (89, 92), (125, 145)] [(224, 1.0), (165, 1.0), (71, 1.0), (140, 1.0), (44, 1.0), (142, 1.0), (209, 1.0), (180, 1.0), (56, 1.0), (89, 1.0), (125, 1.0)] False -1\n",
        "307 [(224, 228), (165, 167), (71, 92), (140, 198), (44, 93), (142, 145), (209, 225), (180, 198), (56, 92), (89, 92), (125, 145), (255, 259)] [(224, 1.0), (165, 1.0), (71, 1.0), (140, 1.0), (44, 1.0), (142, 1.0), (209, 1.0), (180, 1.0), (56, 1.0), (89, 1.0), (125, 1.0), (255, 1.0)] False -1\n",
        "315 [(224, 228), (165, 167), (71, 92), (140, 198), (44, 93), (142, 145), (209, 225), (307, 315), (180, 198), (56, 92), (89, 92), (125, 145), (255, 259)] [(224, 1.0), (165, 1.0), (71, 1.0), (140, 1.0), (44, 1.0), (142, 1.0), (209, 1.0), (307, 1.0), (180, 1.0), (56, 1.0), (89, 1.0), (125, 1.0), (255, 1.0)] True 7\n",
        "315 [(224, 228), (165, 167), (71, 92), (140, 198), (44, 93), (142, 145), (209, 225), (307, 315), (180, 198), (56, 92), (89, 92), (125, 145), (255, 259)] [(224, 1.0), (165, 1.0), (71, 1.0), (140, 1.0), (44, 1.0), (142, 1.0), (209, 1.0), (307, 1.0), (180, 1.0), (56, 1.0), (89, 1.0), (125, 1.0), (255, 1.0)] True 7\n",
        "315 [(224, 228), (165, 167), (71, 92), (140, 198), (44, 93), (142, 145), (209, 225), (307, 315), (180, 198), (56, 92), (89, 92), (125, 145), (255, 259)] [(224, 1.0), (165, 1.0), (71, 1.0), (140, 1.0), (44, 1.0), (142, 1.0), (209, 1.0), (307, 1.0), (180, 1.0), (56, 1.0), (89, 1.0), (125, 1.0), (255, 1.0)] True 7\n",
        "322 [(224, 228), (165, 167), (71, 92), (140, 198), (44, 93), (142, 145), (209, 225), (307, 315), (180, 198), (56, 92), (89, 92), (125, 145), (255, 259)] [(224, 1.0), (165, 1.0), (71, 1.0), (140, 1.0), (44, 1.0), (142, 1.0), (209, 1.0), (307, 1.0), (180, 1.0), (56, 1.0), (89, 1.0), (125, 1.0), (255, 1.0)] False -1\n",
        "Sureness:"
       ]
      },
      {
       "output_type": "stream",
       "stream": "stdout",
       "text": [
        " 1.0 VI: 0.834480367499\n"
       ]
      }
     ],
     "prompt_number": 176
    },
    {
     "cell_type": "code",
     "collapsed": false,
     "input": [
      "def gen_error_view(gold, rhoana, spliterrors, sureness=1., outdir='/Volumes/DATA1/EMQM_DATA/ac3x75/RHOANA_SPLIT_CORRECTION/SMALL/'):\n",
      "\n",
      "    store_split_errors('rhoana', rhoana, spliterrors, sureness, outdir)\n",
      "    store_split_errors('gold', gold, spliterrors, sureness, outdir)\n",
      "    \n",
      "    #return create_merge_table(rhoana, spliterrors, sureness)\n",
      "    \n",
      "def create_merge_table(arr, patches, requested_sureness_for_spliterror):\n",
      "    '''\n",
      "    '''\n",
      "\n",
      "    merge_table = {}\n",
      "    surenesses = {}\n",
      "    \n",
      "    for i,s in enumerate(patches):\n",
      "        \n",
      "        bbox = s[4]\n",
      "        label1 = s[2]\n",
      "        label2 = s[3]\n",
      "        sureness_for_spliterror = s[6]  # 0..1 for spliterror der gemerged werden soll\n",
      "        \n",
      "        \n",
      "        if sureness_for_spliterror < requested_sureness_for_spliterror:\n",
      "           continue\n",
      "        \n",
      "        cropped_seg = np.array(arr[bbox[0]-BB[0]:bbox[1]-BB[1]+1, bbox[2]-BB[2]:bbox[3]-BB[3]+1])\n",
      "        cropped_seg2 = np.array(cropped_seg)\n",
      "        \n",
      "        cropped_seg[label1.reshape(75,75) == 0] = 0\n",
      "        cropped_seg2[label2.reshape(75,75) == 0] = 0\n",
      "\n",
      "        labelvalue1 = cropped_seg.max()\n",
      "        labelvalue2 = cropped_seg2.max()\n",
      "        \n",
      "        if labelvalue1 == 0 or labelvalue2 == 0:\n",
      "            print 'err'\n",
      "            continue\n",
      "\n",
      "        minlabel12 = min(labelvalue1, labelvalue2)\n",
      "        maxlabel12 = max(labelvalue1, labelvalue2)\n",
      "        \n",
      "\n",
      "#         if minlabel12 in merge_table:\n",
      "#             if not maxlabel12 in merge_table[minlabel12]:\n",
      "#                 merge_table[minlabel12].append(maxlabel12)\n",
      "#         else:\n",
      "\n",
      "        already_merged = False\n",
      "        already_merged_where = -1\n",
      "        for k,i in enumerate(merge_table.items()):\n",
      "            if minlabel12 in i or maxlabel12 in i:\n",
      "                already_merged = True\n",
      "                already_merged_where = k\n",
      "                \n",
      "        #print minlabel12, merge_table.items(), surenesses.items(), already_merged, already_merged_where\n",
      "\n",
      "        if already_merged:\n",
      "            # check if the sureness is higher than the one before\n",
      "#             print minlabel12, 'there', merge_table[already_merged_where], surenesses[already_merged_where], sureness_for_spliterror\n",
      "            if surenesses.items()[already_merged_where][1] < sureness_for_spliterror:\n",
      "                # then replace\n",
      "                del merge_table.items()[already_merged_where]\n",
      "                del surenesses.items()[already_merged_where]\n",
      "                merge_table[minlabel12] = maxlabel12#, sureness_for_spliterror]\n",
      "                surenesses[minlabel12] = sureness_for_spliterror\n",
      "        else:\n",
      "            merge_table[minlabel12] = maxlabel12#, sureness_for_spliterror]\n",
      "            surenesses[minlabel12] = sureness_for_spliterror\n",
      "\n",
      "\n",
      "#     for k in merge_table.keys():\n",
      "#         merge_table[k] = sorted(merge_table[k] + [k])\n",
      "            \n",
      "#     merge_table = process_merge_table(merge_table)\n",
      "            \n",
      "        \n",
      "    return merge_table\n",
      "    \n",
      "\n",
      "def process_merge_table(mt_):\n",
      "    import copy\n",
      "    mt = copy.deepcopy(mt_)\n",
      "    for k1 in mt.keys():\n",
      "        for k2 in mt.keys():\n",
      "            if k2 > k1:\n",
      "                if k1 in mt.keys() and k2 in mt.keys():\n",
      "                    anzahl_gleicher_elemente = len(list(set(mt[k1]) & set(mt[k2])))\n",
      "                    if anzahl_gleicher_elemente > 0:\n",
      "                        mt[k1] += mt[k2]\n",
      "                        del mt[k2]\n",
      "        #mt[k1] = sorted(list(set(mt[k1])))\n",
      "    return mt    \n",
      "    \n",
      "    \n",
      "def store_split_errors(name, arr, spliterrors, sureness, outdir):\n",
      "    \n",
      "    out = np.zeros((arr.shape[0], arr.shape[1], 4))\n",
      "\n",
      "    out[:,:,0] = arr[:,:,0]\n",
      "    out[:,:,1] = arr[:,:,1]\n",
      "    out[:,:,2] = arr[:,:,2]\n",
      "    out[:,:,3] = 64\n",
      "\n",
      "    for i,s in enumerate(spliterrors):\n",
      "\n",
      "        ERROR = i\n",
      "\n",
      "        if spliterrors[ERROR][6] >= sureness:\n",
      "            color = (255,0,0,255)\n",
      "        else:\n",
      "            color = (0,255,0,255)\n",
      "\n",
      "        bbox = spliterrors[ERROR][4]\n",
      "\n",
      "        border = spliterrors[ERROR][5]\n",
      "        for c in border:\n",
      "            \n",
      "\n",
      "            out[c[0]-BB[0], c[1]-BB[2]] = color\n",
      "\n",
      "    mh.imsave(os.path.join(outdir, 'compare_'+str(name)+'_'+str(sureness)+'.tif'), out.astype(np.uint8))\n",
      "\n",
      "    \n",
      "def apply_merge_table(arr, mergetable):\n",
      "    \n",
      "    out = np.array(arr)\n",
      "    \n",
      "    for k in mergetable.keys():\n",
      "#         labels = mergetable[k]\n",
      "        \n",
      "#         for l in labels:\n",
      "#             out[out == l] = k\n",
      "        l = mergetable[k]\n",
      "        #print 'merging', l, k\n",
      "        out[out == k] = l\n",
      "    \n",
      "    return out\n",
      "\n",
      "\n",
      "def fix_splits(rhoana_normalized, gold_normalized, patches, slice, sureness=1., outdir='/Volumes/DATA1/EMQM_DATA/ac3x75/RHOANA_SPLIT_CORRECTION/SMALL/'):\n",
      "    '''\n",
      "    '''\n",
      "    \n",
      "    # create folder for this sureness value\n",
      "    sureness_folder = os.path.join(outdir, str(slice), str(sureness))\n",
      "    if not os.path.exists(sureness_folder):\n",
      "        os.makedirs(sureness_folder)\n",
      "    \n",
      "    # colorize rhoana and gold\n",
      "    cm = _metrics.Util.load_colormap('/Volumes/DATA1/ac3x75/mojo/ids/colorMap.hdf5')\n",
      "    colored_rhoana_normalized = cm[rhoana_normalized % len(cm)]\n",
      "    colored_gold_normalized = cm[gold_normalized % len(cm)]\n",
      "    \n",
      "    # create border views\n",
      "    gen_error_view(colored_gold_normalized, colored_rhoana_normalized, patches, sureness=sureness, outdir=sureness_folder)\n",
      "    # create all fix tables\n",
      "    merge_table = create_merge_table(rhoana_normalized, patches, sureness)\n",
      "    # .. and apply them\n",
      "#     print len(_metrics.Util.get_histogram(rhoana_normalized.astype(np.uint64)))\n",
      "    applied_mt = apply_merge_table(rhoana_normalized, merge_table)\n",
      "#     print len(_metrics.Util.get_histogram(applied_mt.astype(np.uint64)))    \n",
      "    \n",
      "    # .. colorize result\n",
      "    colored_applied_mt = cm[applied_mt % len(cm)]\n",
      "    \n",
      "    mh.imsave(os.path.join(sureness_folder, 'rhoana.tif'), colored_applied_mt)\n",
      "    \n",
      "    # print VI\n",
      "    vi = partition_comparison.variation_of_information(applied_mt.ravel(), gold_normalized.ravel())\n",
      "    #print 'Sureness:', sureness, 'VI:', vi\n",
      "    \n",
      "    return vi, applied_mt, merge_table"
     ],
     "language": "python",
     "metadata": {},
     "outputs": [],
     "prompt_number": 244
    },
    {
     "cell_type": "code",
     "collapsed": false,
     "input": [
      "r = range(0,101)\n",
      "vi_s = []#[0]*len(r)\n",
      "before_VI = partition_comparison.variation_of_information(gold_normalized[BB[0]:BB[1],BB[2]:BB[3]].ravel(), rhoana_normalized[BB[0]:BB[1],BB[2]:BB[3]].ravel())\n",
      "best = np.inf\n",
      "for s in r:\n",
      "    s /= 100.\n",
      "    #fix_splits(rhoana_normalized, gold_normalized, patches, slice=SLICE, sureness=s)\n",
      "    vi,i,mt = fix_splits(rhoana_normalized[BB[0]:BB[1],BB[2]:BB[3]], gold_normalized[BB[0]:BB[1],BB[2]:BB[3]], patches, slice=SLICE, sureness=s)\n",
      "    if vi < before_VI:\n",
      "        result = 'GOOD'\n",
      "    else:\n",
      "        result = 'BAD'\n",
      "    new_best = min(best, vi)\n",
      "    if new_best != best:\n",
      "        best_sureness = s\n",
      "        best = new_best\n",
      "    print result, 'Sureness:', s, 'VI:', vi\n",
      "    vi_s.append(vi)\n",
      "print 'BEST', best, 'SURENESS', best_sureness"
     ],
     "language": "python",
     "metadata": {},
     "outputs": [
      {
       "output_type": "stream",
       "stream": "stdout",
       "text": [
        "BAD Sureness: 0.0 VI: 1.16795353915\n",
        "BAD"
       ]
      },
      {
       "output_type": "stream",
       "stream": "stdout",
       "text": [
        " Sureness: 0.01 VI: 0.888795773717\n",
        "BAD"
       ]
      },
      {
       "output_type": "stream",
       "stream": "stdout",
       "text": [
        " Sureness: 0.02 VI: 0.885825368619\n",
        "BAD"
       ]
      },
      {
       "output_type": "stream",
       "stream": "stdout",
       "text": [
        " Sureness: 0.03 VI: 0.87030328575\n",
        "BAD"
       ]
      },
      {
       "output_type": "stream",
       "stream": "stdout",
       "text": [
        " Sureness: 0.04 VI: 0.869522868622\n",
        "BAD"
       ]
      },
      {
       "output_type": "stream",
       "stream": "stdout",
       "text": [
        " Sureness: 0.05 VI: 0.869522868622\n",
        "BAD"
       ]
      },
      {
       "output_type": "stream",
       "stream": "stdout",
       "text": [
        " Sureness: 0.06 VI: 0.862771779957\n",
        "BAD"
       ]
      },
      {
       "output_type": "stream",
       "stream": "stdout",
       "text": [
        " Sureness: 0.07 VI: 0.86291945897\n",
        "BAD"
       ]
      },
      {
       "output_type": "stream",
       "stream": "stdout",
       "text": [
        " Sureness: 0.08 VI: 0.862126777383\n",
        "BAD"
       ]
      },
      {
       "output_type": "stream",
       "stream": "stdout",
       "text": [
        " Sureness: 0.09 VI: 0.862126777383\n",
        "BAD"
       ]
      },
      {
       "output_type": "stream",
       "stream": "stdout",
       "text": [
        " Sureness: 0.1 VI: 0.862551766384\n",
        "BAD"
       ]
      },
      {
       "output_type": "stream",
       "stream": "stdout",
       "text": [
        " Sureness: 0.11 VI: 0.85398103324\n",
        "BAD"
       ]
      },
      {
       "output_type": "stream",
       "stream": "stdout",
       "text": [
        " Sureness: 0.12 VI: 0.85398103324\n",
        "BAD"
       ]
      },
      {
       "output_type": "stream",
       "stream": "stdout",
       "text": [
        " Sureness: 0.13 VI: 0.856259309246\n",
        "BAD"
       ]
      },
      {
       "output_type": "stream",
       "stream": "stdout",
       "text": [
        " Sureness: 0.14 VI: 0.855505359086\n",
        "BAD"
       ]
      },
      {
       "output_type": "stream",
       "stream": "stdout",
       "text": [
        " Sureness: 0.15 VI: 0.850737189228\n",
        "BAD"
       ]
      },
      {
       "output_type": "stream",
       "stream": "stdout",
       "text": [
        " Sureness: 0.16 VI: 0.850690673579\n",
        "BAD"
       ]
      },
      {
       "output_type": "stream",
       "stream": "stdout",
       "text": [
        " Sureness: 0.17 VI: 0.842031588824\n",
        "BAD"
       ]
      },
      {
       "output_type": "stream",
       "stream": "stdout",
       "text": [
        " Sureness: 0.18 VI: 0.842031588824\n",
        "BAD"
       ]
      },
      {
       "output_type": "stream",
       "stream": "stdout",
       "text": [
        " Sureness: 0.19 VI: 0.842717506267\n",
        "BAD"
       ]
      },
      {
       "output_type": "stream",
       "stream": "stdout",
       "text": [
        " Sureness: 0.2 VI: 0.842717506267\n",
        "BAD"
       ]
      },
      {
       "output_type": "stream",
       "stream": "stdout",
       "text": [
        " Sureness: 0.21 VI: 0.841203143605\n",
        "BAD"
       ]
      },
      {
       "output_type": "stream",
       "stream": "stdout",
       "text": [
        " Sureness: 0.22 VI: 0.841203143605\n",
        "BAD"
       ]
      },
      {
       "output_type": "stream",
       "stream": "stdout",
       "text": [
        " Sureness: 0.23 VI: 0.840593804742\n",
        "BAD"
       ]
      },
      {
       "output_type": "stream",
       "stream": "stdout",
       "text": [
        " Sureness: 0.24 VI: 0.840593804742\n",
        "BAD"
       ]
      },
      {
       "output_type": "stream",
       "stream": "stdout",
       "text": [
        " Sureness: 0.25 VI: 0.840593804742\n",
        "BAD"
       ]
      },
      {
       "output_type": "stream",
       "stream": "stdout",
       "text": [
        " Sureness: 0.26 VI: 0.840593804742\n",
        "BAD"
       ]
      },
      {
       "output_type": "stream",
       "stream": "stdout",
       "text": [
        " Sureness: 0.27 VI: 0.840593804742\n",
        "BAD"
       ]
      },
      {
       "output_type": "stream",
       "stream": "stdout",
       "text": [
        " Sureness: 0.28 VI: 0.827293544401\n",
        "BAD"
       ]
      },
      {
       "output_type": "stream",
       "stream": "stdout",
       "text": [
        " Sureness: 0.29 VI: 0.821376544549\n",
        "BAD"
       ]
      },
      {
       "output_type": "stream",
       "stream": "stdout",
       "text": [
        " Sureness: 0.3 VI: 0.821376544549\n",
        "BAD"
       ]
      },
      {
       "output_type": "stream",
       "stream": "stdout",
       "text": [
        " Sureness: 0.31 VI: 0.821376544549\n",
        "BAD"
       ]
      },
      {
       "output_type": "stream",
       "stream": "stdout",
       "text": [
        " Sureness: 0.32 VI: 0.821673003804\n",
        "BAD"
       ]
      },
      {
       "output_type": "stream",
       "stream": "stdout",
       "text": [
        " Sureness: 0.33 VI: 0.821673003804\n",
        "BAD"
       ]
      },
      {
       "output_type": "stream",
       "stream": "stdout",
       "text": [
        " Sureness: 0.34 VI: 0.821673003804\n",
        "GOOD"
       ]
      },
      {
       "output_type": "stream",
       "stream": "stdout",
       "text": [
        " Sureness: 0.35 VI: 0.815003998928\n",
        "GOOD"
       ]
      },
      {
       "output_type": "stream",
       "stream": "stdout",
       "text": [
        " Sureness: 0.36 VI: 0.815003998928\n",
        "GOOD"
       ]
      },
      {
       "output_type": "stream",
       "stream": "stdout",
       "text": [
        " Sureness: 0.37 VI: 0.815003998928\n",
        "GOOD"
       ]
      },
      {
       "output_type": "stream",
       "stream": "stdout",
       "text": [
        " Sureness: 0.38 VI: 0.815003998928\n",
        "GOOD"
       ]
      },
      {
       "output_type": "stream",
       "stream": "stdout",
       "text": [
        " Sureness: 0.39 VI: 0.815003998928\n",
        "GOOD"
       ]
      },
      {
       "output_type": "stream",
       "stream": "stdout",
       "text": [
        " Sureness: 0.4 VI: 0.815003998928\n",
        "GOOD"
       ]
      },
      {
       "output_type": "stream",
       "stream": "stdout",
       "text": [
        " Sureness: 0.41 VI: 0.81380508785\n",
        "GOOD"
       ]
      },
      {
       "output_type": "stream",
       "stream": "stdout",
       "text": [
        " Sureness: 0.42 VI: 0.81380508785\n",
        "GOOD"
       ]
      },
      {
       "output_type": "stream",
       "stream": "stdout",
       "text": [
        " Sureness: 0.43 VI: 0.81380508785\n",
        "GOOD"
       ]
      },
      {
       "output_type": "stream",
       "stream": "stdout",
       "text": [
        " Sureness: 0.44 VI: 0.81380508785\n",
        "GOOD"
       ]
      },
      {
       "output_type": "stream",
       "stream": "stdout",
       "text": [
        " Sureness: 0.45 VI: 0.81380508785\n",
        "GOOD"
       ]
      },
      {
       "output_type": "stream",
       "stream": "stdout",
       "text": [
        " Sureness: 0.46 VI: 0.81380508785\n",
        "GOOD"
       ]
      },
      {
       "output_type": "stream",
       "stream": "stdout",
       "text": [
        " Sureness: 0.47 VI: 0.813073179528\n",
        "GOOD"
       ]
      },
      {
       "output_type": "stream",
       "stream": "stdout",
       "text": [
        " Sureness: 0.48 VI: 0.813073179528\n",
        "GOOD"
       ]
      },
      {
       "output_type": "stream",
       "stream": "stdout",
       "text": [
        " Sureness: 0.49 VI: 0.813073179528\n",
        "GOOD"
       ]
      },
      {
       "output_type": "stream",
       "stream": "stdout",
       "text": [
        " Sureness: 0.5 VI: 0.813073179528\n",
        "GOOD"
       ]
      },
      {
       "output_type": "stream",
       "stream": "stdout",
       "text": [
        " Sureness: 0.51 VI: 0.813073179528\n",
        "GOOD"
       ]
      },
      {
       "output_type": "stream",
       "stream": "stdout",
       "text": [
        " Sureness: 0.52 VI: 0.813073179528\n",
        "GOOD"
       ]
      },
      {
       "output_type": "stream",
       "stream": "stdout",
       "text": [
        " Sureness: 0.53 VI: 0.813073179528\n",
        "GOOD"
       ]
      },
      {
       "output_type": "stream",
       "stream": "stdout",
       "text": [
        " Sureness: 0.54 VI: 0.813073179528\n",
        "GOOD"
       ]
      },
      {
       "output_type": "stream",
       "stream": "stdout",
       "text": [
        " Sureness: 0.55 VI: 0.813073179528\n",
        "GOOD"
       ]
      },
      {
       "output_type": "stream",
       "stream": "stdout",
       "text": [
        " Sureness: 0.56 VI: 0.813073179528\n",
        "GOOD"
       ]
      },
      {
       "output_type": "stream",
       "stream": "stdout",
       "text": [
        " Sureness: 0.57 VI: 0.813073179528\n",
        "GOOD"
       ]
      },
      {
       "output_type": "stream",
       "stream": "stdout",
       "text": [
        " Sureness: 0.58 VI: 0.813073179528\n",
        "GOOD"
       ]
      },
      {
       "output_type": "stream",
       "stream": "stdout",
       "text": [
        " Sureness: 0.59 VI: 0.813065745719\n",
        "GOOD"
       ]
      },
      {
       "output_type": "stream",
       "stream": "stdout",
       "text": [
        " Sureness: 0.6 VI: 0.813065745719\n",
        "GOOD"
       ]
      },
      {
       "output_type": "stream",
       "stream": "stdout",
       "text": [
        " Sureness: 0.61 VI: 0.813065745719\n",
        "GOOD"
       ]
      },
      {
       "output_type": "stream",
       "stream": "stdout",
       "text": [
        " Sureness: 0.62 VI: 0.813065745719\n",
        "GOOD"
       ]
      },
      {
       "output_type": "stream",
       "stream": "stdout",
       "text": [
        " Sureness: 0.63 VI: 0.813152598982\n",
        "GOOD"
       ]
      },
      {
       "output_type": "stream",
       "stream": "stdout",
       "text": [
        " Sureness: 0.64 VI: 0.813152598982\n",
        "GOOD"
       ]
      },
      {
       "output_type": "stream",
       "stream": "stdout",
       "text": [
        " Sureness: 0.65 VI: 0.813152598982\n",
        "GOOD"
       ]
      },
      {
       "output_type": "stream",
       "stream": "stdout",
       "text": [
        " Sureness: 0.66 VI: 0.813152598982\n",
        "GOOD"
       ]
      },
      {
       "output_type": "stream",
       "stream": "stdout",
       "text": [
        " Sureness: 0.67 VI: 0.812486294408\n",
        "GOOD"
       ]
      },
      {
       "output_type": "stream",
       "stream": "stdout",
       "text": [
        " Sureness: 0.68 VI: 0.812486294408\n",
        "GOOD"
       ]
      },
      {
       "output_type": "stream",
       "stream": "stdout",
       "text": [
        " Sureness: 0.69 VI: 0.813817815008\n",
        "GOOD"
       ]
      },
      {
       "output_type": "stream",
       "stream": "stdout",
       "text": [
        " Sureness: 0.7 VI: 0.813817815008\n",
        "GOOD"
       ]
      },
      {
       "output_type": "stream",
       "stream": "stdout",
       "text": [
        " Sureness: 0.71 VI: 0.813817815008\n",
        "GOOD"
       ]
      },
      {
       "output_type": "stream",
       "stream": "stdout",
       "text": [
        " Sureness: 0.72 VI: 0.813726686316\n",
        "GOOD"
       ]
      },
      {
       "output_type": "stream",
       "stream": "stdout",
       "text": [
        " Sureness: 0.73 VI: 0.813726686316\n",
        "GOOD"
       ]
      },
      {
       "output_type": "stream",
       "stream": "stdout",
       "text": [
        " Sureness: 0.74 VI: 0.813726686316\n",
        "GOOD"
       ]
      },
      {
       "output_type": "stream",
       "stream": "stdout",
       "text": [
        " Sureness: 0.75 VI: 0.813726686316\n",
        "GOOD"
       ]
      },
      {
       "output_type": "stream",
       "stream": "stdout",
       "text": [
        " Sureness: 0.76 VI: 0.813726686316\n",
        "GOOD"
       ]
      },
      {
       "output_type": "stream",
       "stream": "stdout",
       "text": [
        " Sureness: 0.77 VI: 0.813726686316\n",
        "GOOD"
       ]
      },
      {
       "output_type": "stream",
       "stream": "stdout",
       "text": [
        " Sureness: 0.78 VI: 0.813726686316\n",
        "GOOD"
       ]
      },
      {
       "output_type": "stream",
       "stream": "stdout",
       "text": [
        " Sureness: 0.79 VI: 0.813726686316\n",
        "GOOD"
       ]
      },
      {
       "output_type": "stream",
       "stream": "stdout",
       "text": [
        " Sureness: 0.8 VI: 0.813726686316\n",
        "GOOD"
       ]
      },
      {
       "output_type": "stream",
       "stream": "stdout",
       "text": [
        " Sureness: 0.81 VI: 0.813726686316\n",
        "GOOD"
       ]
      },
      {
       "output_type": "stream",
       "stream": "stdout",
       "text": [
        " Sureness: 0.82 VI: 0.813726686316\n",
        "GOOD"
       ]
      },
      {
       "output_type": "stream",
       "stream": "stdout",
       "text": [
        " Sureness: 0.83 VI: 0.816644738903\n",
        "GOOD"
       ]
      },
      {
       "output_type": "stream",
       "stream": "stdout",
       "text": [
        " Sureness: 0.84 VI: 0.810224563713\n",
        "GOOD"
       ]
      },
      {
       "output_type": "stream",
       "stream": "stdout",
       "text": [
        " Sureness: 0.85 VI: 0.812463974199\n",
        "GOOD"
       ]
      },
      {
       "output_type": "stream",
       "stream": "stdout",
       "text": [
        " Sureness: 0.86 VI: 0.813438416057\n",
        "GOOD"
       ]
      },
      {
       "output_type": "stream",
       "stream": "stdout",
       "text": [
        " Sureness: 0.87 VI: 0.813438416057\n",
        "GOOD"
       ]
      },
      {
       "output_type": "stream",
       "stream": "stdout",
       "text": [
        " Sureness: 0.88 VI: 0.814314650516\n",
        "GOOD"
       ]
      },
      {
       "output_type": "stream",
       "stream": "stdout",
       "text": [
        " Sureness: 0.89 VI: 0.814314650516\n",
        "GOOD"
       ]
      },
      {
       "output_type": "stream",
       "stream": "stdout",
       "text": [
        " Sureness: 0.9 VI: 0.814592270429\n",
        "GOOD"
       ]
      },
      {
       "output_type": "stream",
       "stream": "stdout",
       "text": [
        " Sureness: 0.91 VI: 0.814592270429\n",
        "GOOD"
       ]
      },
      {
       "output_type": "stream",
       "stream": "stdout",
       "text": [
        " Sureness: 0.92 VI: 0.815781871414\n",
        "GOOD"
       ]
      },
      {
       "output_type": "stream",
       "stream": "stdout",
       "text": [
        " Sureness: 0.93 VI: 0.815781871414\n",
        "GOOD"
       ]
      },
      {
       "output_type": "stream",
       "stream": "stdout",
       "text": [
        " Sureness: 0.94 VI: 0.816301556128\n",
        "GOOD"
       ]
      },
      {
       "output_type": "stream",
       "stream": "stdout",
       "text": [
        " Sureness: 0.95 VI: 0.816301556128\n",
        "GOOD"
       ]
      },
      {
       "output_type": "stream",
       "stream": "stdout",
       "text": [
        " Sureness: 0.96 VI: 0.816784557545\n",
        "GOOD"
       ]
      },
      {
       "output_type": "stream",
       "stream": "stdout",
       "text": [
        " Sureness: 0.97 VI: 0.817008381543\n",
        "GOOD"
       ]
      },
      {
       "output_type": "stream",
       "stream": "stdout",
       "text": [
        " Sureness: 0.98 VI: 0.814530321024\n",
        "GOOD"
       ]
      },
      {
       "output_type": "stream",
       "stream": "stdout",
       "text": [
        " Sureness: 0.99 VI: 0.814530321024\n",
        "BAD"
       ]
      },
      {
       "output_type": "stream",
       "stream": "stdout",
       "text": [
        " Sureness: 1.0 VI: 0.818519302805\n",
        "BEST 0.810224563713 SURENESS 0.84\n"
       ]
      }
     ],
     "prompt_number": 251
    },
    {
     "cell_type": "code",
     "collapsed": false,
     "input": [
      "partition_comparison.variation_of_information(gold_normalized[BB[0]:BB[1],BB[2]:BB[3]].ravel(), rhoana_normalized[BB[0]:BB[1],BB[2]:BB[3]].ravel())"
     ],
     "language": "python",
     "metadata": {},
     "outputs": [
      {
       "metadata": {},
       "output_type": "pyout",
       "prompt_number": 241,
       "text": [
        "0.8174299454577767"
       ]
      }
     ],
     "prompt_number": 241
    },
    {
     "cell_type": "code",
     "collapsed": false,
     "input": [],
     "language": "python",
     "metadata": {},
     "outputs": [
      {
       "output_type": "stream",
       "stream": "stderr",
       "text": [
        "/System/Library/Frameworks/Python.framework/Versions/2.7/Extras/lib/python/matplotlib/__init__.py:921: UserWarning:  This call to matplotlib.use() has no effect\n",
        "because the the backend has already been chosen;\n",
        "matplotlib.use() must be called *before* pylab, matplotlib.pyplot,\n",
        "or matplotlib.backends is imported for the first time.\n",
        "\n",
        "  if warn: warnings.warn(_use_error_msg)\n"
       ]
      }
     ],
     "prompt_number": 255
    },
    {
     "cell_type": "code",
     "collapsed": false,
     "input": [
      "# create plot\n",
      "\n",
      "bins = np.arange(0, len(vi_s))\n",
      "# bins /= 100\n",
      "original_vi = [before_VI]*101\n",
      "target_vi = [0.6172966624042235]*101\n",
      "\n",
      "fig, ax = plt.subplots()\n",
      "\n",
      "ax.plot(bins, target_vi, 'k--', label='Target VI')\n",
      "ax.plot(bins, vi_s, 'k', label='Variation of Information')\n",
      "ax.plot(bins, original_vi, 'k:', label='Rhoana VI before')\n",
      "# ax.set_yscale('log')\n",
      "\n",
      "# Now add the legend with some customizations.\n",
      "legend = ax.legend(loc='upper center', shadow=True)\n",
      "ax.set_ylim([0.6,1.5])\n",
      "\n",
      "# The frame is matplotlib.patches.Rectangle instance surrounding the legend.\n",
      "frame = legend.get_frame()\n",
      "frame.set_facecolor('0.90')\n",
      "\n",
      "# Set the fontsize\n",
      "for label in legend.get_texts():\n",
      "    label.set_fontsize('large')\n",
      "\n",
      "for label in legend.get_lines():\n",
      "    label.set_linewidth(1.5)  # the legend line width\n",
      "\n",
      "plt.savefig('/Volumes/DATA1/vi_s.tif')"
     ],
     "language": "python",
     "metadata": {},
     "outputs": [
      {
       "metadata": {},
       "output_type": "display_data",
       "png": "[encoded data removed]",
       "text": [
        "<matplotlib.figure.Figure at 0x1c59abc90>"
       ]
      }
     ],
     "prompt_number": 267
    },
    {
     "cell_type": "code",
     "collapsed": false,
     "input": [
      "i,mt = fix_splits(rhoana_normalized, gold_normalized, patches, slice=SLICE, sureness=.98)"
     ],
     "language": "python",
     "metadata": {},
     "outputs": [
      {
       "output_type": "stream",
       "stream": "stdout",
       "text": [
        "Sureness: 0.98 VI: 0.831202546033\n"
       ]
      }
     ],
     "prompt_number": 71
    },
    {
     "cell_type": "code",
     "collapsed": false,
     "input": [
      "i[i==145]"
     ],
     "language": "python",
     "metadata": {},
     "outputs": [
      {
       "metadata": {},
       "output_type": "pyout",
       "prompt_number": 59,
       "text": [
        "array([145, 145, 145, ..., 145, 145, 145], dtype=int32)"
       ]
      }
     ],
     "prompt_number": 59
    },
    {
     "cell_type": "code",
     "collapsed": false,
     "input": [
      "imshow(i)"
     ],
     "language": "python",
     "metadata": {},
     "outputs": [
      {
       "metadata": {},
       "output_type": "pyout",
       "prompt_number": 70,
       "text": [
        "<matplotlib.image.AxesImage at 0x1c933ea10>"
       ]
      },
      {
       "metadata": {},
       "output_type": "display_data",
       "png": "[encoded data removed]",
       "text": [
        "<matplotlib.figure.Figure at 0x1100542d0>"
       ]
      }
     ],
     "prompt_number": 70
    },
    {
     "cell_type": "code",
     "collapsed": false,
     "input": [
      "rhoana_normalized[228,596]"
     ],
     "language": "python",
     "metadata": {},
     "outputs": [
      {
       "metadata": {},
       "output_type": "pyout",
       "prompt_number": 33,
       "text": [
        "93"
       ]
      }
     ],
     "prompt_number": 33
    },
    {
     "cell_type": "code",
     "collapsed": false,
     "input": [
      "imshow(_metrics.Util.threshold(rhoana_normalized, 93))"
     ],
     "language": "python",
     "metadata": {},
     "outputs": [
      {
       "metadata": {},
       "output_type": "pyout",
       "prompt_number": 34,
       "text": [
        "<matplotlib.image.AxesImage at 0x1c8ef5e90>"
       ]
      },
      {
       "metadata": {},
       "output_type": "display_data",
       "png": "[encoded data removed]",
       "text": [
        "<matplotlib.figure.Figure at 0x1b0d03290>"
       ]
      }
     ],
     "prompt_number": 34
    },
    {
     "cell_type": "code",
     "collapsed": false,
     "input": [
      "imshow(_metrics.Util.threshold(rhoana_normalized, 94))"
     ],
     "language": "python",
     "metadata": {},
     "outputs": [
      {
       "metadata": {},
       "output_type": "pyout",
       "prompt_number": 35,
       "text": [
        "<matplotlib.image.AxesImage at 0x1b0d5e410>"
       ]
      },
      {
       "metadata": {},
       "output_type": "display_data",
       "png": "[encoded data removed]",
       "text": [
        "<matplotlib.figure.Figure at 0x1c81bc510>"
       ]
      }
     ],
     "prompt_number": 35
    },
    {
     "cell_type": "code",
     "collapsed": false,
     "input": [
      "imshow(_metrics.Util.threshold(rhoana_normalized, 44))"
     ],
     "language": "python",
     "metadata": {},
     "outputs": [
      {
       "metadata": {},
       "output_type": "pyout",
       "prompt_number": 36,
       "text": [
        "<matplotlib.image.AxesImage at 0x1b0ca61d0>"
       ]
      },
      {
       "metadata": {},
       "output_type": "display_data",
       "png": "[encoded data removed]",
       "text": [
        "<matplotlib.figure.Figure at 0x1b0e7ae50>"
       ]
      }
     ],
     "prompt_number": 36
    },
    {
     "cell_type": "code",
     "collapsed": false,
     "input": [],
     "language": "python",
     "metadata": {},
     "outputs": []
    }
   ],
   "metadata": {}
  }
 ]
}