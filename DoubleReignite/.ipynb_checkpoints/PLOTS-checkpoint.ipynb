{
 "metadata": {
  "name": "",
  "signature": "sha256:5eef0c1446123c734c7e843708b4b00390265967b10f0883e2611610cb67f1b1"
 },
 "nbformat": 3,
 "nbformat_minor": 0,
 "worksheets": []
}