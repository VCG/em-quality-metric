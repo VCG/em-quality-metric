{
 "metadata": {
  "name": "",
  "signature": "sha256:a2e18e69d2019e9dc1517038d3f7252a3aab063fce3977d909e5d852cd212d13"
 },
 "nbformat": 3,
 "nbformat_minor": 0,
 "worksheets": [
  {
   "cells": [
    {
     "cell_type": "code",
     "collapsed": false,
     "input": [
      "%load_ext autoreload\n",
      "%autoreload 2\n",
      "\n",
      "from cnn import CNN\n",
      "from dyn_cnn import DynCNN\n",
      "from util import Util\n",
      "from patch import Patch\n",
      "from fixer import Fixer\n",
      "from uglify import Uglify\n",
      "\n",
      "import mahotas as mh\n",
      "import numpy as np\n",
      "\n",
      "from matplotlib.pyplot import imshow\n",
      "import matplotlib.pyplot as plt\n",
      "%matplotlib inline"
     ],
     "language": "python",
     "metadata": {},
     "outputs": []
    },
    {
     "cell_type": "code",
     "collapsed": false,
     "input": [
      "#\n",
      "# viren's approach with our LARGER border_overlap\n",
      "#   image prob merged_array dyn_obj dyn_bnd border_overlap\n",
      "networks = []\n",
      "networks.append(CNN('viren_7', 'patches_7th', ['image', 'prob', 'merged_array']))\n",
      "networks.append(CNN('mine_7', 'patches_7th', ['image', 'prob', 'binary', 'border_overlap']))\n",
      "networks.append(CNN('mine_large_7', 'patches_7th', ['image', 'prob', 'binary', 'larger_border_overlap']))\n",
      "networks.append(CNN('mine_merged_7', 'patches_7th', ['image', 'prob', 'merged_array', 'border_overlap']))\n",
      "networks.append(CNN('mine_merged_large_7', 'patches_7th', ['image', 'prob', 'merged_array', 'larger_border_overlap']))\n",
      "networks.append(DynCNN('dyn_viren_7', 'patches_7th', ['image', 'prob', 'merged_array']))\n",
      "networks.append(DynCNN('dyn_mine_7', 'patches_7th', ['image', 'prob', 'binary', 'border_overlap']))\n",
      "networks.append(DynCNN('dyn_mine_large_7', 'patches_7th', ['image', 'prob', 'binary', 'larger_border_overlap']))\n",
      "networks.append(DynCNN('dyn_mine_merged_7', 'patches_7th', ['image', 'prob', 'merged_array', 'border_overlap']))\n",
      "networks.append(DynCNN('dyn_mine_merged_large_7', 'patches_7th', ['image', 'prob', 'merged_array', 'larger_border_overlap']))\n"
     ],
     "language": "python",
     "metadata": {},
     "outputs": [
      {
       "output_type": "stream",
       "stream": "stdout",
       "text": [
        "Loading ['/Volumes/DATA1/split_cnn/patches_7th/viren_7/configuration.txt']\n",
        "Loading /Volumes/DATA1/split_cnn/patches_7th/viren_7/network_190.p\n",
        "Loading"
       ]
      },
      {
       "output_type": "stream",
       "stream": "stdout",
       "text": [
        " ['/Volumes/DATA1/split_cnn/patches_7th/mine_7/configuration.txt']\n",
        "Loading /Volumes/DATA1/split_cnn/patches_7th/mine_7/network_140.p\n",
        "Loading"
       ]
      },
      {
       "output_type": "stream",
       "stream": "stdout",
       "text": [
        " ['/Volumes/DATA1/split_cnn/patches_7th/mine_large_7/configuration.txt']\n",
        "Loading /Volumes/DATA1/split_cnn/patches_7th/mine_large_7/network_150.p\n",
        "Loading"
       ]
      },
      {
       "output_type": "stream",
       "stream": "stdout",
       "text": [
        " ['/Volumes/DATA1/split_cnn/patches_7th/mine_merged_7/configuration.txt']\n",
        "Loading /Volumes/DATA1/split_cnn/patches_7th/mine_merged_7/network_140.p\n",
        "Loading"
       ]
      },
      {
       "output_type": "stream",
       "stream": "stdout",
       "text": [
        " ['/Volumes/DATA1/split_cnn/patches_7th/mine_merged_large_7/configuration.txt']\n",
        "Loading /Volumes/DATA1/split_cnn/patches_7th/mine_merged_large_7/network_140.p\n",
        "Loading"
       ]
      },
      {
       "output_type": "stream",
       "stream": "stdout",
       "text": [
        " ['/Volumes/DATA1/split_cnn/patches_7th/dyn_viren_7/configuration.txt']\n",
        "Loading /Volumes/DATA1/split_cnn/patches_7th/dyn_viren_7/network_190.p\n",
        "Loading"
       ]
      },
      {
       "output_type": "stream",
       "stream": "stdout",
       "text": [
        " ['/Volumes/DATA1/split_cnn/patches_7th/dyn_mine_7/configuration.txt']\n",
        "Loading /Volumes/DATA1/split_cnn/patches_7th/dyn_mine_7/network_140.p\n",
        "Loading"
       ]
      },
      {
       "output_type": "stream",
       "stream": "stdout",
       "text": [
        " ['/Volumes/DATA1/split_cnn/patches_7th/dyn_mine_large_7/configuration.txt']\n",
        "Loading /Volumes/DATA1/split_cnn/patches_7th/dyn_mine_large_7/network_140.p\n",
        "Loading"
       ]
      },
      {
       "output_type": "stream",
       "stream": "stdout",
       "text": [
        " ['/Volumes/DATA1/split_cnn/patches_7th/dyn_mine_merged_7/configuration.txt']\n",
        "Loading /Volumes/DATA1/split_cnn/patches_7th/dyn_mine_merged_7/network_140.p\n",
        "Loading"
       ]
      },
      {
       "output_type": "stream",
       "stream": "stdout",
       "text": [
        " ['/Volumes/DATA1/split_cnn/patches_7th/dyn_mine_merged_large_7/configuration.txt']\n",
        "Loading /Volumes/DATA1/split_cnn/patches_7th/dyn_mine_merged_large_7/network_140.p\n"
       ]
      }
     ],
     "prompt_number": 427
    },
    {
     "cell_type": "code",
     "collapsed": false,
     "input": [],
     "language": "python",
     "metadata": {},
     "outputs": []
    },
    {
     "cell_type": "code",
     "collapsed": false,
     "input": [
      "layers = DynCNN('dyn_mine_7', 'patches_7th', ['image', 'prob', 'binary', 'border_overlap'])"
     ],
     "language": "python",
     "metadata": {},
     "outputs": [
      {
       "output_type": "stream",
       "stream": "stdout",
       "text": [
        "Loading ['/Volumes/DATA1/split_cnn/patches_7th/dyn_mine_7/configuration.txt']\n",
        "Loading /Volumes/DATA1/split_cnn/patches_7th/dyn_mine_7/network_90.p\n"
       ]
      }
     ],
     "prompt_number": 359
    },
    {
     "cell_type": "code",
     "collapsed": false,
     "input": [
      "print layers._val_fn['image']['c2d_layer']._binary_mask"
     ],
     "language": "python",
     "metadata": {},
     "outputs": [
      {
       "output_type": "stream",
       "stream": "stdout",
       "text": [
        "binary_mask\n"
       ]
      }
     ],
     "prompt_number": 371
    },
    {
     "cell_type": "code",
     "collapsed": false,
     "input": [
      "print layers._val_fn['image']['input_layer'].input_var"
     ],
     "language": "python",
     "metadata": {},
     "outputs": [
      {
       "output_type": "stream",
       "stream": "stdout",
       "text": [
        "image\n"
       ]
      }
     ],
     "prompt_number": 374
    },
    {
     "cell_type": "code",
     "collapsed": false,
     "input": [
      "input_image, input_prob, input_gold, input_rhoana = Util.read_dojo_data() "
     ],
     "language": "python",
     "metadata": {},
     "outputs": [],
     "prompt_number": 416
    },
    {
     "cell_type": "code",
     "collapsed": false,
     "input": [
      "before_vi = Util.vi(input_gold, input_rhoana)\n",
      "print'VI before', before_vi"
     ],
     "language": "python",
     "metadata": {},
     "outputs": [
      {
       "output_type": "stream",
       "stream": "stdout",
       "text": [
        "VI before 0.976088150786\n"
       ]
      }
     ],
     "prompt_number": 178
    },
    {
     "cell_type": "code",
     "collapsed": false,
     "input": [
      "networks.append(DynCNN('dyn_viren_7', 'patches_7th', ['image', 'prob', 'merged_array']))\n"
     ],
     "language": "python",
     "metadata": {},
     "outputs": [
      {
       "output_type": "stream",
       "stream": "stdout",
       "text": [
        "Loading ['/Volumes/DATA1/split_cnn/patches_7th/dyn_viren_7/configuration.txt']\n",
        "Loading /Volumes/DATA1/split_cnn/patches_7th/dyn_viren_7/network_90.p\n",
        "[image, prob, merged_array, binary_mask, targets]"
       ]
      },
      {
       "output_type": "stream",
       "stream": "stdout",
       "text": [
        "\n"
       ]
      }
     ],
     "prompt_number": 237
    },
    {
     "cell_type": "code",
     "collapsed": false,
     "input": [
      "nnn=DynCNN('dyn_viren_7', 'patches_7th', ['image', 'prob', 'merged_array'])"
     ],
     "language": "python",
     "metadata": {},
     "outputs": [
      {
       "output_type": "stream",
       "stream": "stdout",
       "text": [
        "Loading ['/Volumes/DATA1/split_cnn/patches_7th/dyn_viren_7/configuration.txt']\n",
        "Loading /Volumes/DATA1/split_cnn/patches_7th/dyn_viren_7/network_90.p\n"
       ]
      }
     ],
     "prompt_number": 376
    },
    {
     "cell_type": "code",
     "collapsed": false,
     "input": [
      "nnn=DynCNN('dyn_viren_7', 'patches_7th', ['image', 'prob', 'merged_array'])"
     ],
     "language": "python",
     "metadata": {},
     "outputs": [
      {
       "output_type": "stream",
       "stream": "stdout",
       "text": [
        "Loading ['/Volumes/DATA1/split_cnn/patches_7th/dyn_viren_7/configuration.txt']\n",
        "Loading /Volumes/DATA1/split_cnn/patches_7th/dyn_viren_7/network_90.p\n"
       ]
      }
     ],
     "prompt_number": 243
    },
    {
     "cell_type": "code",
     "collapsed": false,
     "input": [
      "nnn._val_fn['image']['c2d_layer']._binary_mask"
     ],
     "language": "python",
     "metadata": {},
     "outputs": [
      {
       "metadata": {},
       "output_type": "pyout",
       "prompt_number": 250,
       "text": [
        "binary_mask"
       ]
      }
     ],
     "prompt_number": 250
    },
    {
     "cell_type": "code",
     "collapsed": false,
     "input": [
      "# for n in networks:\n",
      "print '-'*80\n",
      "print n._NETWORK_ID\n",
      "DOJO_SLICE=0\n",
      "vi_s, merge_pairs, surenesses = Fixer.splits(nnn, \n",
      "                                             input_image[DOJO_SLICE], \n",
      "                                             input_prob[DOJO_SLICE], \n",
      "                                             input_rhoana[DOJO_SLICE], \n",
      "                                             input_gold[DOJO_SLICE],\n",
      "                                             oversampling=False)"
     ],
     "language": "python",
     "metadata": {},
     "outputs": [
      {
       "output_type": "stream",
       "stream": "stdout",
       "text": [
        "--------------------------------------------------------------------------------\n",
        "mine_large_7\n",
        "464"
       ]
      },
      {
       "output_type": "stream",
       "stream": "stdout",
       "text": [
        " generated in 10.2652449608 seconds.\n",
        "Grouped into 116 patches in 0.00311303138733 seconds.\n",
        "Merge loop finished in"
       ]
      },
      {
       "output_type": "stream",
       "stream": "stdout",
       "text": [
        " 25.5608379841 seconds.\n",
        "Before VI: 0.633710175634\n",
        "Smallest VI: 0.611056899077\n",
        "Sureness threshold: 0.967285454273\n"
       ]
      }
     ],
     "prompt_number": 378
    },
    {
     "cell_type": "code",
     "collapsed": false,
     "input": [],
     "language": "python",
     "metadata": {},
     "outputs": []
    },
    {
     "cell_type": "code",
     "collapsed": false,
     "input": [],
     "language": "python",
     "metadata": {},
     "outputs": []
    },
    {
     "cell_type": "code",
     "collapsed": false,
     "input": [],
     "language": "python",
     "metadata": {},
     "outputs": []
    },
    {
     "cell_type": "code",
     "collapsed": false,
     "input": [],
     "language": "python",
     "metadata": {},
     "outputs": []
    },
    {
     "cell_type": "code",
     "collapsed": false,
     "input": [],
     "language": "python",
     "metadata": {},
     "outputs": []
    },
    {
     "cell_type": "code",
     "collapsed": false,
     "input": [
      "DOJO_SLICE=0\n",
      "vi_s, merge_pairs, surenesses = Fixer.splits(networks[5], \n",
      "                                             input_image[DOJO_SLICE], \n",
      "                                             input_prob[DOJO_SLICE], \n",
      "                                             input_rhoana[DOJO_SLICE], \n",
      "                                             input_gold[DOJO_SLICE],\n",
      "                                             oversampling=False)"
     ],
     "language": "python",
     "metadata": {},
     "outputs": [
      {
       "output_type": "stream",
       "stream": "stdout",
       "text": [
        "464 generated in 10.2630548477 seconds.\n",
        "Grouped into 116 patches in 0.00324702262878 seconds.\n"
       ]
      },
      {
       "ename": "TypeError",
       "evalue": "'dict' object is not callable",
       "output_type": "pyerr",
       "traceback": [
        "\u001b[0;31m---------------------------------------------------------------------------\u001b[0m\n\u001b[0;31mTypeError\u001b[0m                                 Traceback (most recent call last)",
        "\u001b[0;32m<ipython-input-352-509519f8ce6b>\u001b[0m in \u001b[0;36m<module>\u001b[0;34m()\u001b[0m\n\u001b[1;32m      5\u001b[0m                                              \u001b[0minput_rhoana\u001b[0m\u001b[0;34m[\u001b[0m\u001b[0mDOJO_SLICE\u001b[0m\u001b[0;34m]\u001b[0m\u001b[0;34m,\u001b[0m\u001b[0;34m\u001b[0m\u001b[0m\n\u001b[1;32m      6\u001b[0m                                              \u001b[0minput_gold\u001b[0m\u001b[0;34m[\u001b[0m\u001b[0mDOJO_SLICE\u001b[0m\u001b[0;34m]\u001b[0m\u001b[0;34m,\u001b[0m\u001b[0;34m\u001b[0m\u001b[0m\n\u001b[0;32m----> 7\u001b[0;31m                                              oversampling=False)\n\u001b[0m",
        "\u001b[0;32m/Users/d/Projects/em-quality-metric/Reignite/fixer.py\u001b[0m in \u001b[0;36msplits\u001b[0;34m(cnn, image, prob, segmentation, groundtruth, sureness_threshold, smallest_first, oversampling, verbose, max)\u001b[0m\n\u001b[1;32m     43\u001b[0m \u001b[0;34m\u001b[0m\u001b[0m\n\u001b[1;32m     44\u001b[0m       \u001b[0;31m# test this patch group for l and n\u001b[0m\u001b[0;34m\u001b[0m\u001b[0;34m\u001b[0m\u001b[0m\n\u001b[0;32m---> 45\u001b[0;31m       \u001b[0mprediction\u001b[0m \u001b[0;34m=\u001b[0m \u001b[0mPatch\u001b[0m\u001b[0;34m.\u001b[0m\u001b[0mtest_and_unify\u001b[0m\u001b[0;34m(\u001b[0m\u001b[0mgrouped_patches\u001b[0m\u001b[0;34m[\u001b[0m\u001b[0ml_n\u001b[0m\u001b[0;34m]\u001b[0m\u001b[0;34m,\u001b[0m \u001b[0mcnn\u001b[0m\u001b[0;34m)\u001b[0m\u001b[0;34m\u001b[0m\u001b[0m\n\u001b[0m\u001b[1;32m     46\u001b[0m \u001b[0;34m\u001b[0m\u001b[0m\n\u001b[1;32m     47\u001b[0m       \u001b[0;31m# fill value into matrix\u001b[0m\u001b[0;34m\u001b[0m\u001b[0;34m\u001b[0m\u001b[0m\n",
        "\u001b[0;32m/Users/d/Projects/em-quality-metric/Reignite/patch.py\u001b[0m in \u001b[0;36mtest_and_unify\u001b[0;34m(patches, cnn, method)\u001b[0m\n\u001b[1;32m    792\u001b[0m                       \u001b[0mvalid_border_points\u001b[0m \u001b[0;34m+=\u001b[0m \u001b[0;36m1\u001b[0m\u001b[0;34m\u001b[0m\u001b[0m\n\u001b[1;32m    793\u001b[0m \u001b[0;34m\u001b[0m\u001b[0m\n\u001b[0;32m--> 794\u001b[0;31m           \u001b[0mpred\u001b[0m \u001b[0;34m=\u001b[0m \u001b[0mcnn\u001b[0m\u001b[0;34m.\u001b[0m\u001b[0mtest_patch\u001b[0m\u001b[0;34m(\u001b[0m\u001b[0mp\u001b[0m\u001b[0;34m)\u001b[0m\u001b[0;34m\u001b[0m\u001b[0m\n\u001b[0m\u001b[1;32m    795\u001b[0m           \u001b[0mweights\u001b[0m\u001b[0;34m.\u001b[0m\u001b[0mappend\u001b[0m\u001b[0;34m(\u001b[0m\u001b[0mvalid_border_points\u001b[0m\u001b[0;34m)\u001b[0m\u001b[0;34m\u001b[0m\u001b[0m\n\u001b[1;32m    796\u001b[0m           \u001b[0mpredictions\u001b[0m\u001b[0;34m.\u001b[0m\u001b[0mappend\u001b[0m\u001b[0;34m(\u001b[0m\u001b[0mpred\u001b[0m\u001b[0;34m)\u001b[0m\u001b[0;34m\u001b[0m\u001b[0m\n",
        "\u001b[0;32m/Users/d/Projects/em-quality-metric/Reignite/dyn_cnn.py\u001b[0m in \u001b[0;36mtest_patch\u001b[0;34m(self, p)\u001b[0m\n\u001b[1;32m     79\u001b[0m     \u001b[0mtest_values\u001b[0m\u001b[0;34m.\u001b[0m\u001b[0mappend\u001b[0m\u001b[0;34m(\u001b[0m\u001b[0mtargets\u001b[0m\u001b[0;34m)\u001b[0m\u001b[0;34m\u001b[0m\u001b[0m\n\u001b[1;32m     80\u001b[0m \u001b[0;34m\u001b[0m\u001b[0m\n\u001b[0;32m---> 81\u001b[0;31m     \u001b[0mpred\u001b[0m\u001b[0;34m,\u001b[0m \u001b[0merr\u001b[0m\u001b[0;34m,\u001b[0m \u001b[0macc\u001b[0m \u001b[0;34m=\u001b[0m \u001b[0mself\u001b[0m\u001b[0;34m.\u001b[0m\u001b[0m_val_fn\u001b[0m\u001b[0;34m(\u001b[0m\u001b[0;34m*\u001b[0m\u001b[0mtest_values\u001b[0m\u001b[0;34m)\u001b[0m\u001b[0;31m#images, probs, binary1s, overlaps, targets)\u001b[0m\u001b[0;34m\u001b[0m\u001b[0m\n\u001b[0m\u001b[1;32m     82\u001b[0m \u001b[0;34m\u001b[0m\u001b[0m\n\u001b[1;32m     83\u001b[0m     \u001b[0;32mreturn\u001b[0m \u001b[0mpred\u001b[0m\u001b[0;34m[\u001b[0m\u001b[0;36m0\u001b[0m\u001b[0;34m]\u001b[0m\u001b[0;34m[\u001b[0m\u001b[0;36m1\u001b[0m\u001b[0;34m]\u001b[0m\u001b[0;34m\u001b[0m\u001b[0m\n",
        "\u001b[0;31mTypeError\u001b[0m: 'dict' object is not callable"
       ]
      }
     ],
     "prompt_number": 352
    },
    {
     "cell_type": "code",
     "collapsed": false,
     "input": [
      "DOJO_SLICE=1\n",
      "vi_s, merge_pairs, surenesses = Fixer.splits(networks[0], \n",
      "                                             input_image[DOJO_SLICE], \n",
      "                                             input_prob[DOJO_SLICE], \n",
      "                                             input_rhoana[DOJO_SLICE], \n",
      "                                             input_gold[DOJO_SLICE],\n",
      "                                             oversampling=False)"
     ],
     "language": "python",
     "metadata": {},
     "outputs": [
      {
       "output_type": "stream",
       "stream": "stdout",
       "text": [
        "432 generated in 9.35849905014 seconds.\n",
        "Grouped into 108 patches in 0.00281977653503 seconds.\n",
        "Merge loop finished in"
       ]
      },
      {
       "output_type": "stream",
       "stream": "stdout",
       "text": [
        " 26.8723540306 seconds.\n",
        "Before VI: 0.606817210128\n",
        "Smallest VI: 0.582033767864\n",
        "Sureness threshold: 0.775195360184\n"
       ]
      }
     ],
     "prompt_number": 309
    },
    {
     "cell_type": "code",
     "collapsed": false,
     "input": [],
     "language": "python",
     "metadata": {},
     "outputs": []
    },
    {
     "cell_type": "code",
     "collapsed": false,
     "input": [],
     "language": "python",
     "metadata": {},
     "outputs": []
    },
    {
     "cell_type": "code",
     "collapsed": false,
     "input": [
      "import time\n",
      "\n",
      "for n in networks:\n",
      "    t0 = time.time()\n",
      "    print '-'*80\n",
      "    print n._NETWORK_ID\n",
      "    new_seg = np.zeros(input_rhoana.shape)\n",
      "    for s in range(0,9):\n",
      "        DOJO_SLICE=s\n",
      "        vi_s, merge_pairs, surenesses = Fixer.splits(n, \n",
      "                                                     input_image[DOJO_SLICE], \n",
      "                                                     input_prob[DOJO_SLICE], \n",
      "                                                     input_rhoana[DOJO_SLICE], \n",
      "                                                     input_gold[DOJO_SLICE],\n",
      "                                                     oversampling=False,\n",
      "                                                     verbose=False)\n",
      "\n",
      "        best_vi_index = vi_s.index(min(vi_s))\n",
      "        best_mp = merge_pairs\n",
      "        best_fixed = Util.merge_steps(input_rhoana[DOJO_SLICE],best_mp,best=best_vi_index,store=True)\n",
      "        new_seg[s] = np.array(best_fixed)\n",
      "    print time.time()-t0, 'seconds'\n",
      "    print Util.vi(new_seg.astype(np.uint32), go)"
     ],
     "language": "python",
     "metadata": {},
     "outputs": [
      {
       "output_type": "stream",
       "stream": "stdout",
       "text": [
        "--------------------------------------------------------------------------------\n",
        "viren_7\n",
        "365.985594988"
       ]
      },
      {
       "output_type": "stream",
       "stream": "stdout",
       "text": [
        " seconds\n",
        "1.00306975736"
       ]
      },
      {
       "output_type": "stream",
       "stream": "stdout",
       "text": [
        "\n",
        "--------------------------------------------------------------------------------\n",
        "mine_7\n",
        "396.889542103"
       ]
      },
      {
       "output_type": "stream",
       "stream": "stdout",
       "text": [
        " seconds\n",
        "0.973800214973"
       ]
      },
      {
       "output_type": "stream",
       "stream": "stdout",
       "text": [
        "\n",
        "--------------------------------------------------------------------------------\n",
        "mine_large_7\n",
        "390.716886044"
       ]
      },
      {
       "output_type": "stream",
       "stream": "stdout",
       "text": [
        " seconds\n",
        "0.988834056471"
       ]
      },
      {
       "output_type": "stream",
       "stream": "stdout",
       "text": [
        "\n",
        "--------------------------------------------------------------------------------\n",
        "mine_merged_7\n",
        "392.285634041"
       ]
      },
      {
       "output_type": "stream",
       "stream": "stdout",
       "text": [
        " seconds\n",
        "0.976659272967"
       ]
      },
      {
       "output_type": "stream",
       "stream": "stdout",
       "text": [
        "\n",
        "--------------------------------------------------------------------------------\n",
        "mine_merged_large_7\n",
        "377.698097944"
       ]
      },
      {
       "output_type": "stream",
       "stream": "stdout",
       "text": [
        " seconds\n",
        "0.966675506885"
       ]
      },
      {
       "output_type": "stream",
       "stream": "stdout",
       "text": [
        "\n",
        "--------------------------------------------------------------------------------\n",
        "dyn_viren_7\n",
        "380.435683012"
       ]
      },
      {
       "output_type": "stream",
       "stream": "stdout",
       "text": [
        " seconds\n",
        "0.977853945134"
       ]
      },
      {
       "output_type": "stream",
       "stream": "stdout",
       "text": [
        "\n",
        "--------------------------------------------------------------------------------\n",
        "dyn_mine_7\n",
        "393.395061016"
       ]
      },
      {
       "output_type": "stream",
       "stream": "stdout",
       "text": [
        " seconds\n",
        "0.994747326313"
       ]
      },
      {
       "output_type": "stream",
       "stream": "stdout",
       "text": [
        "\n",
        "--------------------------------------------------------------------------------\n",
        "dyn_mine_large_7\n",
        "385.361565113"
       ]
      },
      {
       "output_type": "stream",
       "stream": "stdout",
       "text": [
        " seconds\n",
        "1.01704035042"
       ]
      },
      {
       "output_type": "stream",
       "stream": "stdout",
       "text": [
        "\n",
        "--------------------------------------------------------------------------------\n",
        "dyn_mine_merged_7\n",
        "391.643371105"
       ]
      },
      {
       "output_type": "stream",
       "stream": "stdout",
       "text": [
        " seconds\n",
        "1.03619319865"
       ]
      },
      {
       "output_type": "stream",
       "stream": "stdout",
       "text": [
        "\n",
        "--------------------------------------------------------------------------------\n",
        "dyn_mine_merged_large_7\n",
        "379.373774052"
       ]
      },
      {
       "output_type": "stream",
       "stream": "stdout",
       "text": [
        " seconds\n",
        "1.01611900573"
       ]
      },
      {
       "output_type": "stream",
       "stream": "stdout",
       "text": [
        "\n"
       ]
      }
     ],
     "prompt_number": 485
    },
    {
     "cell_type": "code",
     "collapsed": false,
     "input": [
      "Util.vi(input_gold, input_rhoana)"
     ],
     "language": "python",
     "metadata": {},
     "outputs": [
      {
       "metadata": {},
       "output_type": "pyout",
       "prompt_number": 253,
       "text": [
        "0.9760881507864134"
       ]
      }
     ],
     "prompt_number": 253
    },
    {
     "cell_type": "code",
     "collapsed": false,
     "input": [
      "im, pr, go, rh = Util.read_dojo_data()"
     ],
     "language": "python",
     "metadata": {},
     "outputs": [],
     "prompt_number": 254
    },
    {
     "cell_type": "code",
     "collapsed": false,
     "input": [
      "ed(go, rh)"
     ],
     "language": "python",
     "metadata": {},
     "outputs": [
      {
       "output_type": "stream",
       "stream": "stdout",
       "text": [
        "32 2D Split or 6 3D Split and 22 3D Merge operations required.\n"
       ]
      },
      {
       "metadata": {},
       "output_type": "pyout",
       "prompt_number": 255,
       "text": [
        "(32, 6, 22)"
       ]
      }
     ],
     "prompt_number": 255
    },
    {
     "cell_type": "code",
     "collapsed": false,
     "input": [
      "Util.vi(new_seg.astype(np.uint32), go)"
     ],
     "language": "python",
     "metadata": {},
     "outputs": [
      {
       "metadata": {},
       "output_type": "pyout",
       "prompt_number": 259,
       "text": [
        "0.9562566420822245"
       ]
      }
     ],
     "prompt_number": 259
    },
    {
     "cell_type": "code",
     "collapsed": false,
     "input": [
      "ed(input_gold, new_seg.astype(np.int64))"
     ],
     "language": "python",
     "metadata": {},
     "outputs": [
      {
       "output_type": "stream",
       "stream": "stdout",
       "text": [
        "32 2D Split or 8 3D Split and 23 3D Merge operations required.\n"
       ]
      },
      {
       "metadata": {},
       "output_type": "pyout",
       "prompt_number": 252,
       "text": [
        "(32, 8, 23)"
       ]
      }
     ],
     "prompt_number": 252
    },
    {
     "cell_type": "code",
     "collapsed": false,
     "input": [
      "ed(input_gold[0:1], input_rhoana[0:1].astype(np.int64))"
     ],
     "language": "python",
     "metadata": {},
     "outputs": [
      {
       "output_type": "stream",
       "stream": "stdout",
       "text": [
        "2 2D Split or 0 3D Split and 3 3D Merge operations required.\n"
       ]
      },
      {
       "metadata": {},
       "output_type": "pyout",
       "prompt_number": 204,
       "text": [
        "(2, 0, 3)"
       ]
      }
     ],
     "prompt_number": 204
    },
    {
     "cell_type": "code",
     "collapsed": false,
     "input": [
      "def ed(gt_stack, seg_stack):\n",
      "    min_2d_seg_size = 500\n",
      "    min_3d_seg_size = 2000    \n",
      "    \n",
      "    gt_ids = np.unique(gt_stack.ravel())\n",
      "    \n",
      "    seg_ids = np.unique(seg_stack.ravel())\n",
      "\n",
      "    # count 2d split operations required\n",
      "    split_count_2d = 0\n",
      "    for seg_id in seg_ids:\n",
      "        if seg_id == 0:\n",
      "            continue\n",
      "        for zi in range(seg_stack.shape[0]):\n",
      "            gt_counts = np.bincount(gt_stack[zi,:,:][seg_stack[zi,:,:]==seg_id])\n",
      "            if len(gt_counts) == 0:\n",
      "                continue\n",
      "            gt_counts[0] = 0\n",
      "            gt_counts[gt_counts < min_2d_seg_size] = 0\n",
      "            gt_objects = len(np.nonzero(gt_counts)[0])\n",
      "            if gt_objects > 1:\n",
      "                split_count_2d += gt_objects - 1\n",
      "\n",
      "    # count 3d split operations required\n",
      "    split_count_3d = 0\n",
      "    for seg_id in seg_ids:\n",
      "        if seg_id == 0:\n",
      "            continue\n",
      "        gt_counts = np.bincount(gt_stack[seg_stack==seg_id])\n",
      "        if len(gt_counts) == 0:\n",
      "            continue\n",
      "        gt_counts[0] = 0\n",
      "        gt_counts[gt_counts < min_3d_seg_size] = 0\n",
      "        gt_objects = len(np.nonzero(gt_counts)[0])\n",
      "        if gt_objects > 1:\n",
      "            split_count_3d += gt_objects - 1\n",
      "\n",
      "    # count 3d merge operations required\n",
      "    merge_count = 0\n",
      "    for gt_id in gt_ids:\n",
      "        if gt_id == 0:\n",
      "            continue\n",
      "        seg_counts = np.bincount(seg_stack[gt_stack==gt_id])\n",
      "        if len(seg_counts) == 0:\n",
      "            continue\n",
      "        seg_counts[0] = 0\n",
      "        seg_counts[seg_counts < min_3d_seg_size] = 0\n",
      "        seg_objects = len(np.nonzero(seg_counts)[0])\n",
      "        if seg_objects > 1:\n",
      "            merge_count += seg_objects - 1\n",
      "\n",
      "    print \"{0} 2D Split or {1} 3D Split and {2} 3D Merge operations required.\".format(split_count_2d, split_count_3d, merge_count)\n",
      "\n",
      "    return (split_count_2d, split_count_3d, merge_count)    "
     ],
     "language": "python",
     "metadata": {},
     "outputs": [],
     "prompt_number": 189
    },
    {
     "cell_type": "code",
     "collapsed": false,
     "input": [
      "after_vi = Util.vi(input_gold, new_seg.astype(np.uint32))\n",
      "print'VI after', after_vi"
     ],
     "language": "python",
     "metadata": {},
     "outputs": [
      {
       "output_type": "stream",
       "stream": "stdout",
       "text": [
        "VI before 1.02643961485\n"
       ]
      }
     ],
     "prompt_number": 186
    },
    {
     "cell_type": "code",
     "collapsed": false,
     "input": [
      "vi_s"
     ],
     "language": "python",
     "metadata": {},
     "outputs": [
      {
       "metadata": {},
       "output_type": "pyout",
       "prompt_number": 183,
       "text": [
        "[0.62492492210544,\n",
        " 0.6163466275058109,\n",
        " 0.6132314108536123,\n",
        " 0.6002891932841612,\n",
        " 0.606997756332686,\n",
        " 0.6035524736217246,\n",
        " 0.6047655179595948,\n",
        " 0.6006547645900095,\n",
        " 0.6083432224480116,\n",
        " 0.5993389579930035,\n",
        " 0.600556334246761,\n",
        " 0.6342007847848823,\n",
        " 0.6575523220641761,\n",
        " 0.6785369160539583,\n",
        " 0.6789437447445188,\n",
        " 0.6998333067192011,\n",
        " 0.7007771023734302,\n",
        " 0.7072093763902965,\n",
        " 0.7983022408505942,\n",
        " 0.8153837432171098,\n",
        " 0.8155308460337469,\n",
        " 0.8603648139628932,\n",
        " 0.8830300107704794,\n",
        " 0.8829195219205648,\n",
        " 0.9562174654486437,\n",
        " 0.9852588596246816,\n",
        " 1.0015485314980106,\n",
        " 1.013628301768703,\n",
        " 1.0574325470432182,\n",
        " 1.1660425558624654,\n",
        " 1.1746777883334296,\n",
        " 1.209010982883279,\n",
        " 1.244745862913911,\n",
        " 1.3671990607585771,\n",
        " 1.4662384781337359,\n",
        " 1.4865850145105197,\n",
        " 1.5016626651860108,\n",
        " 1.507768870735025,\n",
        " 1.566840273070314,\n",
        " 1.6273798112009876,\n",
        " 1.8920540406748305,\n",
        " 1.934639684812085,\n",
        " 1.9891476866628475,\n",
        " 1.994717042610997,\n",
        " 1.9876037049924387,\n",
        " 2.2180655521817823,\n",
        " 2.568730001049791,\n",
        " 2.8163411269678953,\n",
        " 2.8420184020679966,\n",
        " 2.914328843826898,\n",
        " 2.972025613460958,\n",
        " 3.0278309249607487]"
       ]
      }
     ],
     "prompt_number": 183
    },
    {
     "cell_type": "code",
     "collapsed": false,
     "input": [
      "a=Util.get_histogram(rhoana_out[0])"
     ],
     "language": "python",
     "metadata": {},
     "outputs": [],
     "prompt_number": 127
    },
    {
     "cell_type": "code",
     "collapsed": false,
     "input": [
      "b=Util.get_histogram(Util.normalize_labels(segs[0])[0])"
     ],
     "language": "python",
     "metadata": {},
     "outputs": [],
     "prompt_number": 128
    },
    {
     "cell_type": "code",
     "collapsed": false,
     "input": [
      "np.where(a==b)"
     ],
     "language": "python",
     "metadata": {},
     "outputs": [
      {
       "metadata": {},
       "output_type": "pyout",
       "prompt_number": 135,
       "text": [
        "(array([], dtype=int64),)"
       ]
      }
     ],
     "prompt_number": 135
    },
    {
     "cell_type": "code",
     "collapsed": false,
     "input": [
      "a==b"
     ],
     "language": "python",
     "metadata": {},
     "outputs": [
      {
       "metadata": {},
       "output_type": "pyout",
       "prompt_number": 134,
       "text": [
        "False"
       ]
      }
     ],
     "prompt_number": 134
    },
    {
     "cell_type": "code",
     "collapsed": false,
     "input": [
      "rhoana2 = tif.imread('/Users/d/Projects/dojo_data_vis2014/labels_after_automatic_segmentation/0.tif')"
     ],
     "language": "python",
     "metadata": {},
     "outputs": [],
     "prompt_number": 106
    },
    {
     "cell_type": "code",
     "collapsed": false,
     "input": [
      "Util.vi(rhoana2, segs[0])"
     ],
     "language": "python",
     "metadata": {},
     "outputs": [
      {
       "metadata": {},
       "output_type": "pyout",
       "prompt_number": 107,
       "text": [
        "0.0"
       ]
      }
     ],
     "prompt_number": 107
    },
    {
     "cell_type": "code",
     "collapsed": false,
     "input": [
      "Util.vi(rhoana_out[0], rhoana2)"
     ],
     "language": "python",
     "metadata": {},
     "outputs": [
      {
       "metadata": {},
       "output_type": "pyout",
       "prompt_number": 109,
       "text": [
        "0.019174108323829486"
       ]
      }
     ],
     "prompt_number": 109
    },
    {
     "cell_type": "code",
     "collapsed": false,
     "input": [
      "rhoana_out[0].shape"
     ],
     "language": "python",
     "metadata": {},
     "outputs": [
      {
       "metadata": {},
       "output_type": "pyout",
       "prompt_number": 110,
       "text": [
        "(1024, 1024)"
       ]
      }
     ],
     "prompt_number": 110
    },
    {
     "cell_type": "code",
     "collapsed": false,
     "input": [
      "rhoana2.shape"
     ],
     "language": "python",
     "metadata": {},
     "outputs": [
      {
       "metadata": {},
       "output_type": "pyout",
       "prompt_number": 111,
       "text": [
        "(1024, 1024)"
       ]
      }
     ],
     "prompt_number": 111
    },
    {
     "cell_type": "code",
     "collapsed": false,
     "input": [
      "imshow(Util.threshold(rhoana_out[0],60))"
     ],
     "language": "python",
     "metadata": {},
     "outputs": [
      {
       "metadata": {},
       "output_type": "pyout",
       "prompt_number": 118,
       "text": [
        "<matplotlib.image.AxesImage at 0x1117cbe10>"
       ]
      },
      {
       "metadata": {},
       "output_type": "display_data",
       "png": "[encoded data removed]",
       "text": [
        "<matplotlib.figure.Figure at 0x1117c1c10>"
       ]
      }
     ],
     "prompt_number": 118
    },
    {
     "cell_type": "code",
     "collapsed": false,
     "input": [
      "bbox = mh.bbox(Util.threshold(rhoana_out[0],60))"
     ],
     "language": "python",
     "metadata": {},
     "outputs": [],
     "prompt_number": 122
    },
    {
     "cell_type": "code",
     "collapsed": false,
     "input": [
      "Util.view(Util.crop_by_bbox(rhoana_out[0],bbox))"
     ],
     "language": "python",
     "metadata": {},
     "outputs": [
      {
       "metadata": {},
       "output_type": "display_data",
       "png": "[encoded data removed]",
       "text": [
        "<matplotlib.figure.Figure at 0x1117e33d0>"
       ]
      }
     ],
     "prompt_number": 124
    },
    {
     "cell_type": "code",
     "collapsed": false,
     "input": [
      "Util.view(Util.crop_by_bbox(segs[0],bbox))"
     ],
     "language": "python",
     "metadata": {},
     "outputs": [
      {
       "metadata": {},
       "output_type": "display_data",
       "png": "[encoded data removed]",
       "text": [
        "<matplotlib.figure.Figure at 0x1144a7d10>"
       ]
      }
     ],
     "prompt_number": 125
    },
    {
     "cell_type": "code",
     "collapsed": false,
     "input": [
      "Util.vi(Util.crop_by_bbox(rhoana_out[0],bbox), Util.crop_by_bbox(segs[0],bbox))"
     ],
     "language": "python",
     "metadata": {},
     "outputs": [
      {
       "metadata": {},
       "output_type": "pyout",
       "prompt_number": 137,
       "text": [
        "0.0"
       ]
      }
     ],
     "prompt_number": 137
    },
    {
     "cell_type": "code",
     "collapsed": false,
     "input": [
      "input_image = np.zeros((10,1024,1024))\n",
      "input_rhoana = np.zeros((10,1024,1024))\n",
      "input_gold = np.zeros((10,1024,1024))\n",
      "input_prob = np.zeros((10,1024,1024))\n",
      "input_rhoana = tif.imread('/Users/d/Projects/dojo_data_vis2014/labels_after_automatic_segmentation_multi.tif')\n",
      "input_gold = tif.imread('/Users/d/Projects/dojo_data_vis2014/groundtruth_multi.tif')\n",
      "for i in range(10):\n",
      "    input_prob[i] = tif.imread('/Users/d/Projects/dojo_data_vis2014/prob/'+str(i)+'_syn.tif')\n",
      "    input_image[i] = tif.imread('/Users/d/Projects/dojo_data_vis2014/images/'+str(i)+'.tif')\n",
      "    \n",
      "bbox = mh.bbox(input_image[0])\n",
      "bbox_larger = [bbox[0]-37, bbox[1]+37, bbox[2]-37, bbox[3]+37]\n",
      "\n",
      "input_image = input_image[:, bbox_larger[0]:bbox_larger[1], bbox_larger[2]:bbox_larger[3]]\n",
      "input_rhoana = input_rhoana[:, bbox_larger[0]:bbox_larger[1], bbox_larger[2]:bbox_larger[3]]\n",
      "input_gold = input_gold[:, bbox_larger[0]:bbox_larger[1], bbox_larger[2]:bbox_larger[3]]\n",
      "input_prob = input_prob[:, bbox_larger[0]:bbox_larger[1], bbox_larger[2]:bbox_larger[3]]"
     ],
     "language": "python",
     "metadata": {},
     "outputs": [],
     "prompt_number": 156
    },
    {
     "cell_type": "code",
     "collapsed": false,
     "input": [
      "Util.vi(input_gold.astype(np.uint32), input_rhoana)"
     ],
     "language": "python",
     "metadata": {},
     "outputs": [
      {
       "metadata": {},
       "output_type": "pyout",
       "prompt_number": 157,
       "text": [
        "0.9760881507864134"
       ]
      }
     ],
     "prompt_number": 157
    },
    {
     "cell_type": "code",
     "collapsed": false,
     "input": [
      "imshow(input_prob[0])"
     ],
     "language": "python",
     "metadata": {},
     "outputs": [
      {
       "metadata": {},
       "output_type": "pyout",
       "prompt_number": 159,
       "text": [
        "<matplotlib.image.AxesImage at 0x10ed4b5d0>"
       ]
      },
      {
       "metadata": {},
       "output_type": "display_data",
       "png": "[encoded data removed]",
       "text": [
        "<matplotlib.figure.Figure at 0x1117e3550>"
       ]
      }
     ],
     "prompt_number": 159
    },
    {
     "cell_type": "code",
     "collapsed": false,
     "input": [
      "input_image, input_prob, input_gold, input_rhoana = Util.read_dojo_data() "
     ],
     "language": "python",
     "metadata": {},
     "outputs": [],
     "prompt_number": 170
    },
    {
     "cell_type": "code",
     "collapsed": false,
     "input": [
      "imshow(input_gold[0])"
     ],
     "language": "python",
     "metadata": {},
     "outputs": [
      {
       "metadata": {},
       "output_type": "pyout",
       "prompt_number": 263,
       "text": [
        "<matplotlib.image.AxesImage at 0x127446790>"
       ]
      },
      {
       "metadata": {},
       "output_type": "display_data",
       "png": "[encoded data removed]",
       "text": [
        "<matplotlib.figure.Figure at 0x128f25a10>"
       ]
      }
     ],
     "prompt_number": 263
    },
    {
     "cell_type": "code",
     "collapsed": false,
     "input": [
      "len(fixed_slice==l)"
     ],
     "language": "python",
     "metadata": {},
     "outputs": [
      {
       "metadata": {},
       "output_type": "pyout",
       "prompt_number": 398,
       "text": [
        "474"
       ]
      }
     ],
     "prompt_number": 398
    },
    {
     "cell_type": "code",
     "collapsed": false,
     "input": [
      "t0 = time.time()\n",
      "fixed_volume = np.array(input_rhoana)\n",
      "\n",
      "for i in range(0,5):\n",
      "    print 'working on slice', i\n",
      "    \n",
      "    DOJO_SLICE = i\n",
      "\n",
      "    hist = Util.get_histogram(input_rhoana[DOJO_SLICE].astype(np.uint64))\n",
      "    labels = range(len(hist))\n",
      "    # np.random.shuffle(labels)\n",
      "    THRESHOLD = .3\n",
      "\n",
      "    slice_vi_diffs = []\n",
      "    split_errors = {}\n",
      "\n",
      "    fixed_slice = np.array(input_rhoana[DOJO_SLICE], dtype=np.uint64)\n",
      "\n",
      "    for l in labels:\n",
      "\n",
      "        if l == 0 or hist[l]<5000:\n",
      "#             print l, hist[l]\n",
      "            continue\n",
      "\n",
      "#         print l\n",
      "\n",
      "        before_merge_error = np.zeros(input_rhoana[DOJO_SLICE].shape)\n",
      "        before_merge_error[input_rhoana[0] == l] = 1\n",
      "    #     Util.view_labels(input_rhoana[0], l)\n",
      "    #     before_merge_error = mh.croptobbox(before_merge_error)\n",
      "\n",
      "\n",
      "        borders, best_border_image, result, result_no_border, results_no_border, predictions = Fixer.fix_single_merge(networks[5],\n",
      "                                                                                                                      input_image[DOJO_SLICE],\n",
      "                                                                                                                      input_prob[DOJO_SLICE],\n",
      "                                                                                                                      before_merge_error, N=30, \n",
      "                                                                                                                      erode=True, \n",
      "                                                                                                                      invert=True,\n",
      "                                                                                                                      dilate=True,\n",
      "                                                                                                                      border_seeds=True,\n",
      "                                                                                                                      oversampling=False)\n",
      "\n",
      "\n",
      "\n",
      "        if len(predictions) > 0:\n",
      "#             print l, predictions\n",
      "            lowest_prediction_index = predictions.index(min(predictions))\n",
      "            lowest_prediction = predictions[lowest_prediction_index]\n",
      "\n",
      "            if lowest_prediction < THRESHOLD:\n",
      "\n",
      "                print 'Found merge error', lowest_prediction, l\n",
      "\n",
      "                result[result != 0] += fixed_slice.max()\n",
      "\n",
      "                fixed_slice += result.astype(np.uint64)\n",
      "\n",
      "    #             split_errors[str(l)] = result\n",
      "\n",
      "    \n",
      "    fixed_volume[i] = fixed_slice\n",
      "\n",
      "\n",
      "print 'merge error correction done after',time.time()-t0, 'seconds'\n",
      "t0 = time.time()\n",
      "new_seg = np.array(fixed_volume)\n",
      "for s in range(0,5):\n",
      "    DOJO_SLICE=s\n",
      "    \n",
      "    sizes = mh.labeled.labeled_size(fixed_volume[DOJO_SLICE])\n",
      "    too_small = np.where(sizes < 200)\n",
      "    labeled_small = mh.labeled.remove_regions(fixed_volume[DOJO_SLICE], too_small)\n",
      "    labeled_small_zeros = Util.threshold(labeled_small, 0)\n",
      "    labeled_small = Util.fill(labeled_small, labeled_small_zeros.astype(np.bool))\n",
      "    labeled_small = Util.frame_image(labeled_small)\n",
      "    \n",
      "    vi_s, merge_pairs, surenesses = Fixer.splits(networks[0], \n",
      "                                                 input_image[DOJO_SLICE], \n",
      "                                                 input_prob[DOJO_SLICE], \n",
      "                                                 labeled_small.astype(np.int64), \n",
      "                                                 input_gold[DOJO_SLICE].astype(np.int64),\n",
      "                                                 oversampling=False,\n",
      "                                                 sureness_threshold=.7,\n",
      "                                                 verbose=False)\n",
      "\n",
      "    best_vi_index = vi_s.index(min(vi_s))\n",
      "    best_mp = merge_pairs\n",
      "    best_fixed = Util.merge_steps(fixed_volume[DOJO_SLICE],best_mp,best=best_vi_index,store=True)\n",
      "    new_seg[s] = np.array(best_fixed)    \n",
      "    \n",
      "print 'split correction done after', time.time()-t0, 'seconds'"
     ],
     "language": "python",
     "metadata": {},
     "outputs": [
      {
       "output_type": "stream",
       "stream": "stdout",
       "text": [
        "working on slice 0\n",
        "Found merge error"
       ]
      },
      {
       "output_type": "stream",
       "stream": "stdout",
       "text": [
        " 0.0231682565063 583\n",
        "working on slice"
       ]
      },
      {
       "output_type": "stream",
       "stream": "stdout",
       "text": [
        " 1\n",
        "Found merge error"
       ]
      },
      {
       "output_type": "stream",
       "stream": "stdout",
       "text": [
        " 0.219974428415 583\n",
        "working on slice"
       ]
      },
      {
       "output_type": "stream",
       "stream": "stdout",
       "text": [
        " 2\n",
        "Found merge error"
       ]
      },
      {
       "output_type": "stream",
       "stream": "stdout",
       "text": [
        " 0.164620727301 209\n",
        "Found merge error"
       ]
      },
      {
       "output_type": "stream",
       "stream": "stdout",
       "text": [
        " 0.0624006055295 1295\n",
        "working on slice"
       ]
      },
      {
       "output_type": "stream",
       "stream": "stdout",
       "text": [
        " 3\n",
        "Found merge error"
       ]
      },
      {
       "output_type": "stream",
       "stream": "stdout",
       "text": [
        " 0.0183126404881 209\n",
        "working on slice"
       ]
      },
      {
       "output_type": "stream",
       "stream": "stdout",
       "text": [
        " 4\n",
        "Found merge error"
       ]
      },
      {
       "output_type": "stream",
       "stream": "stdout",
       "text": [
        " 0.0209146197885 209\n",
        "Found merge error"
       ]
      },
      {
       "output_type": "stream",
       "stream": "stdout",
       "text": [
        " 0.296640008688 1295\n",
        "merge error correction done after"
       ]
      },
      {
       "output_type": "stream",
       "stream": "stdout",
       "text": [
        " 308.828082085 seconds\n",
        "split correction done after"
       ]
      },
      {
       "output_type": "stream",
       "stream": "stdout",
       "text": [
        " 127.1479671 seconds\n"
       ]
      }
     ],
     "prompt_number": 496
    },
    {
     "cell_type": "code",
     "collapsed": false,
     "input": [],
     "language": "python",
     "metadata": {},
     "outputs": []
    },
    {
     "cell_type": "code",
     "collapsed": false,
     "input": [
      "fixed_volume.shape"
     ],
     "language": "python",
     "metadata": {},
     "outputs": [
      {
       "metadata": {},
       "output_type": "pyout",
       "prompt_number": 487,
       "text": [
        "(10, 474, 474)"
       ]
      }
     ],
     "prompt_number": 487
    },
    {
     "cell_type": "code",
     "collapsed": false,
     "input": [
      "ed(input_gold[0:2].astype(np.int64),new_seg[0:2].astype(np.int64))"
     ],
     "language": "python",
     "metadata": {},
     "outputs": [
      {
       "output_type": "stream",
       "stream": "stdout",
       "text": [
        "3 2D Split or 0 3D Split and 5 3D Merge operations required.\n"
       ]
      },
      {
       "metadata": {},
       "output_type": "pyout",
       "prompt_number": 479,
       "text": [
        "(3, 0, 5)"
       ]
      }
     ],
     "prompt_number": 479
    },
    {
     "cell_type": "code",
     "collapsed": false,
     "input": [
      "ed(input_gold[0:2].astype(np.int64),input_rhoana[0:2].astype(np.int64))"
     ],
     "language": "python",
     "metadata": {},
     "outputs": [
      {
       "output_type": "stream",
       "stream": "stdout",
       "text": [
        "4 2D Split or 1 3D Split and 3 3D Merge operations required.\n"
       ]
      },
      {
       "metadata": {},
       "output_type": "pyout",
       "prompt_number": 480,
       "text": [
        "(4, 1, 3)"
       ]
      }
     ],
     "prompt_number": 480
    },
    {
     "cell_type": "code",
     "collapsed": false,
     "input": [
      "ed(input_gold.astype(np.int64),new_seg.astype(np.int64))"
     ],
     "language": "python",
     "metadata": {},
     "outputs": []
    },
    {
     "cell_type": "code",
     "collapsed": false,
     "input": [
      "Util.vi(input_rhoana.astype(np.uint64), input_gold.astype(np.uint64))"
     ],
     "language": "python",
     "metadata": {},
     "outputs": [
      {
       "metadata": {},
       "output_type": "pyout",
       "prompt_number": 481,
       "text": [
        "0.9760881507864063"
       ]
      }
     ],
     "prompt_number": 481
    },
    {
     "cell_type": "code",
     "collapsed": false,
     "input": [
      "import partition_comparison as pc\n",
      "pc.rand_index(input_rhoana.ravel().astype(np.uint64), input_gold.ravel().astype(np.uint64))"
     ],
     "language": "python",
     "metadata": {},
     "outputs": [
      {
       "metadata": {},
       "output_type": "pyout",
       "prompt_number": 483,
       "text": [
        "0.9792658542704651"
       ]
      }
     ],
     "prompt_number": 483
    },
    {
     "cell_type": "code",
     "collapsed": false,
     "input": [
      "pc.rand_index(new_seg.ravel().astype(np.uint64), input_gold.ravel().astype(np.uint64))"
     ],
     "language": "python",
     "metadata": {},
     "outputs": [
      {
       "metadata": {},
       "output_type": "pyout",
       "prompt_number": 484,
       "text": [
        "0.9726869752275882"
       ]
      }
     ],
     "prompt_number": 484
    },
    {
     "cell_type": "code",
     "collapsed": false,
     "input": [
      "Util.vi(Util.propagate_max_overlap(input_rhoana[9], input_gold[9]).astype(np.uint64), input_gold[9].astype(np.uint64))"
     ],
     "language": "python",
     "metadata": {},
     "outputs": [
      {
       "metadata": {},
       "output_type": "pyout",
       "prompt_number": 457,
       "text": [
        "0.4389906716346621"
       ]
      }
     ],
     "prompt_number": 457
    },
    {
     "cell_type": "code",
     "collapsed": false,
     "input": [
      "Util.vi(fixed_volume[0].astype(np.uint64), input_gold[0].astype(np.uint64))"
     ],
     "language": "python",
     "metadata": {},
     "outputs": [
      {
       "metadata": {},
       "output_type": "pyout",
       "prompt_number": 490,
       "text": [
        "0.6073928361376897"
       ]
      }
     ],
     "prompt_number": 490
    },
    {
     "cell_type": "code",
     "collapsed": false,
     "input": [
      "Util.vi(input_rhoana[0].astype(np.uint64), input_gold[0].astype(np.uint64))"
     ],
     "language": "python",
     "metadata": {},
     "outputs": [
      {
       "metadata": {},
       "output_type": "pyout",
       "prompt_number": 491,
       "text": [
        "0.6337101756336061"
       ]
      }
     ],
     "prompt_number": 491
    },
    {
     "cell_type": "code",
     "collapsed": false,
     "input": [
      "for i in range(0,10):\n",
      "    \n",
      "    print Util.vi(input_rhoana[i].astype(np.uint64), input_gold[i].astype(np.uint64)), Util.vi(fixed_volume[i].astype(np.uint64), input_gold[i].astype(np.uint64))\n",
      "    "
     ],
     "language": "python",
     "metadata": {},
     "outputs": [
      {
       "output_type": "stream",
       "stream": "stdout",
       "text": [
        "0.633710175634 0.607392836138\n",
        "0.606817210128 0.630073990039\n",
        "0.632449857485 "
       ]
      },
      {
       "output_type": "stream",
       "stream": "stdout",
       "text": [
        "0.702757365092\n",
        "0.680786806189 0.701908956881\n",
        "0.76533306697 0.842866787228\n",
        "0.74428853956"
       ]
      },
      {
       "output_type": "stream",
       "stream": "stdout",
       "text": [
        " 0.74428853956\n",
        "0.818019147997 0.818019147997\n",
        "0.816635961166 0.816635961166\n",
        "0.880125174779"
       ]
      },
      {
       "output_type": "stream",
       "stream": "stdout",
       "text": [
        " 0.880125174779\n",
        "0.837883076361 0.837883076361\n"
       ]
      }
     ],
     "prompt_number": 494
    },
    {
     "cell_type": "code",
     "collapsed": false,
     "input": [
      "np.array(best_fixed).shape"
     ],
     "language": "python",
     "metadata": {},
     "outputs": [
      {
       "metadata": {},
       "output_type": "pyout",
       "prompt_number": 331,
       "text": [
        "(474, 474)"
       ]
      }
     ],
     "prompt_number": 331
    },
    {
     "cell_type": "code",
     "collapsed": false,
     "input": [
      "s"
     ],
     "language": "python",
     "metadata": {},
     "outputs": [
      {
       "metadata": {},
       "output_type": "pyout",
       "prompt_number": 332,
       "text": [
        "0"
       ]
      }
     ],
     "prompt_number": 332
    },
    {
     "cell_type": "code",
     "collapsed": false,
     "input": [
      "imshow(Util.threshold(input_rhoana[0], 399))"
     ],
     "language": "python",
     "metadata": {},
     "outputs": [
      {
       "metadata": {},
       "output_type": "pyout",
       "prompt_number": 411,
       "text": [
        "<matplotlib.image.AxesImage at 0x1279a0f50>"
       ]
      },
      {
       "metadata": {},
       "output_type": "display_data",
       "png": "[encoded data removed]",
       "text": [
        "<matplotlib.figure.Figure at 0x128128150>"
       ]
      }
     ],
     "prompt_number": 411
    },
    {
     "cell_type": "code",
     "collapsed": false,
     "input": [
      "imshow(Util.threshold(input_gold[0], 583))"
     ],
     "language": "python",
     "metadata": {},
     "outputs": [
      {
       "metadata": {},
       "output_type": "pyout",
       "prompt_number": 281,
       "text": [
        "<matplotlib.image.AxesImage at 0x128d9ab90>"
       ]
      },
      {
       "metadata": {},
       "output_type": "display_data",
       "png": "[encoded data removed]",
       "text": [
        "<matplotlib.figure.Figure at 0x1270c5d50>"
       ]
      }
     ],
     "prompt_number": 281
    },
    {
     "cell_type": "code",
     "collapsed": false,
     "input": [
      "Util.view(input_rhoana[1])"
     ],
     "language": "python",
     "metadata": {},
     "outputs": [
      {
       "metadata": {},
       "output_type": "display_data",
       "png": "[encoded data removed]",
       "text": [
        "<matplotlib.figure.Figure at 0x128dcbe10>"
       ]
      }
     ],
     "prompt_number": 293
    },
    {
     "cell_type": "code",
     "collapsed": false,
     "input": [
      "Util.view(input_gold[1])"
     ],
     "language": "python",
     "metadata": {},
     "outputs": [
      {
       "metadata": {},
       "output_type": "display_data",
       "png": "[encoded data removed]",
       "text": [
        "<matplotlib.figure.Figure at 0x129457710>"
       ]
      }
     ],
     "prompt_number": 294
    },
    {
     "cell_type": "code",
     "collapsed": false,
     "input": [
      "Util.view(fixed_slice)"
     ],
     "language": "python",
     "metadata": {},
     "outputs": [
      {
       "metadata": {},
       "output_type": "display_data",
       "png": "[encoded data removed]",
       "text": [
        "<matplotlib.figure.Figure at 0x138f96dd0>"
       ]
      }
     ],
     "prompt_number": 414
    },
    {
     "cell_type": "code",
     "collapsed": false,
     "input": [
      "Util.vi(new_seg.astype(np.uint64), input_gold.astype(np.uint64))"
     ],
     "language": "python",
     "metadata": {},
     "outputs": [
      {
       "metadata": {},
       "output_type": "pyout",
       "prompt_number": 335,
       "text": [
        "1.3498242692025393"
       ]
      }
     ],
     "prompt_number": 335
    },
    {
     "cell_type": "code",
     "collapsed": false,
     "input": [
      "Util.vi(input_rhoana.astype(np.uint64), input_gold.astype(np.uint64))"
     ],
     "language": "python",
     "metadata": {},
     "outputs": [
      {
       "metadata": {},
       "output_type": "pyout",
       "prompt_number": 337,
       "text": [
        "0.9760881507864063"
       ]
      }
     ],
     "prompt_number": 337
    },
    {
     "cell_type": "code",
     "collapsed": false,
     "input": [
      "vi_s, merge_pairs, surenesses = Fixer.splits(networks[0], \n",
      "                                             input_image[DOJO_SLICE], \n",
      "                                             input_prob[DOJO_SLICE], \n",
      "                                             fixed_slice, \n",
      "                                             input_gold[DOJO_SLICE],\n",
      "                                             oversampling=False)"
     ],
     "language": "python",
     "metadata": {},
     "outputs": [
      {
       "ename": "KeyboardInterrupt",
       "evalue": "",
       "output_type": "pyerr",
       "traceback": [
        "\u001b[0;31m---------------------------------------------------------------------------\u001b[0m\n\u001b[0;31mKeyboardInterrupt\u001b[0m                         Traceback (most recent call last)",
        "\u001b[0;32m<ipython-input-320-f1eb5f2f04f5>\u001b[0m in \u001b[0;36m<module>\u001b[0;34m()\u001b[0m\n\u001b[1;32m      4\u001b[0m                                              \u001b[0mfixed_slice\u001b[0m\u001b[0;34m,\u001b[0m\u001b[0;34m\u001b[0m\u001b[0m\n\u001b[1;32m      5\u001b[0m                                              \u001b[0minput_gold\u001b[0m\u001b[0;34m[\u001b[0m\u001b[0mDOJO_SLICE\u001b[0m\u001b[0;34m]\u001b[0m\u001b[0;34m,\u001b[0m\u001b[0;34m\u001b[0m\u001b[0m\n\u001b[0;32m----> 6\u001b[0;31m                                              oversampling=False)\n\u001b[0m",
        "\u001b[0;32m/Users/d/Projects/em-quality-metric/Reignite/fixer.py\u001b[0m in \u001b[0;36msplits\u001b[0;34m(cnn, image, prob, segmentation, groundtruth, sureness_threshold, smallest_first, oversampling, verbose, max)\u001b[0m\n\u001b[1;32m     18\u001b[0m     '''\n\u001b[1;32m     19\u001b[0m     \u001b[0mt0\u001b[0m \u001b[0;34m=\u001b[0m \u001b[0mtime\u001b[0m\u001b[0;34m.\u001b[0m\u001b[0mtime\u001b[0m\u001b[0;34m(\u001b[0m\u001b[0;34m)\u001b[0m\u001b[0;34m\u001b[0m\u001b[0m\n\u001b[0;32m---> 20\u001b[0;31m     \u001b[0mpatches\u001b[0m \u001b[0;34m=\u001b[0m \u001b[0mPatch\u001b[0m\u001b[0;34m.\u001b[0m\u001b[0mpatchify\u001b[0m\u001b[0;34m(\u001b[0m\u001b[0mimage\u001b[0m\u001b[0;34m,\u001b[0m \u001b[0mprob\u001b[0m\u001b[0;34m,\u001b[0m \u001b[0msegmentation\u001b[0m\u001b[0;34m,\u001b[0m \u001b[0moversampling\u001b[0m\u001b[0;34m=\u001b[0m\u001b[0moversampling\u001b[0m\u001b[0;34m,\u001b[0m \u001b[0mmax\u001b[0m\u001b[0;34m=\u001b[0m\u001b[0mmax\u001b[0m\u001b[0;34m)\u001b[0m\u001b[0;34m\u001b[0m\u001b[0m\n\u001b[0m\u001b[1;32m     21\u001b[0m     \u001b[0;32mif\u001b[0m \u001b[0mverbose\u001b[0m\u001b[0;34m:\u001b[0m\u001b[0;34m\u001b[0m\u001b[0m\n\u001b[1;32m     22\u001b[0m       \u001b[0;32mprint\u001b[0m \u001b[0mlen\u001b[0m\u001b[0;34m(\u001b[0m\u001b[0mpatches\u001b[0m\u001b[0;34m)\u001b[0m\u001b[0;34m,\u001b[0m \u001b[0;34m'generated in'\u001b[0m\u001b[0;34m,\u001b[0m \u001b[0mtime\u001b[0m\u001b[0;34m.\u001b[0m\u001b[0mtime\u001b[0m\u001b[0;34m(\u001b[0m\u001b[0;34m)\u001b[0m\u001b[0;34m-\u001b[0m\u001b[0mt0\u001b[0m\u001b[0;34m,\u001b[0m \u001b[0;34m'seconds.'\u001b[0m\u001b[0;34m\u001b[0m\u001b[0m\n",
        "\u001b[0;32m/Users/d/Projects/em-quality-metric/Reignite/patch.py\u001b[0m in \u001b[0;36mpatchify\u001b[0;34m(image, prob, segmentation, sample_rate, min_pixels, max, oversampling, ignore_zero_neighbor)\u001b[0m\n\u001b[1;32m     80\u001b[0m \u001b[0;34m\u001b[0m\u001b[0m\n\u001b[1;32m     81\u001b[0m         \u001b[0;31m# print 'grabbing', l, n\u001b[0m\u001b[0;34m\u001b[0m\u001b[0;34m\u001b[0m\u001b[0m\n\u001b[0;32m---> 82\u001b[0;31m         \u001b[0mp_l\u001b[0m\u001b[0;34m,\u001b[0m \u001b[0mp_n\u001b[0m \u001b[0;34m=\u001b[0m \u001b[0mPatch\u001b[0m\u001b[0;34m.\u001b[0m\u001b[0mgrab\u001b[0m\u001b[0;34m(\u001b[0m\u001b[0mimage\u001b[0m\u001b[0;34m,\u001b[0m \u001b[0mprob\u001b[0m\u001b[0;34m,\u001b[0m \u001b[0msegmentation\u001b[0m\u001b[0;34m,\u001b[0m \u001b[0ml\u001b[0m\u001b[0;34m,\u001b[0m \u001b[0mn\u001b[0m\u001b[0;34m,\u001b[0m \u001b[0msample_rate\u001b[0m\u001b[0;34m,\u001b[0m \u001b[0moversampling\u001b[0m\u001b[0;34m=\u001b[0m\u001b[0moversampling\u001b[0m\u001b[0;34m)\u001b[0m\u001b[0;34m\u001b[0m\u001b[0m\n\u001b[0m\u001b[1;32m     83\u001b[0m \u001b[0;34m\u001b[0m\u001b[0m\n\u001b[1;32m     84\u001b[0m         \u001b[0mpatches\u001b[0m \u001b[0;34m+=\u001b[0m \u001b[0mp_l\u001b[0m\u001b[0;34m\u001b[0m\u001b[0m\n",
        "\u001b[0;32m/Users/d/Projects/em-quality-metric/Reignite/patch.py\u001b[0m in \u001b[0;36mgrab\u001b[0;34m(image, prob, segmentation, l, n, sample_rate, mode, oversampling, patch_size)\u001b[0m\n\u001b[1;32m     46\u001b[0m     \u001b[0;31m# analyze both borders\u001b[0m\u001b[0;34m\u001b[0m\u001b[0;34m\u001b[0m\u001b[0m\n\u001b[1;32m     47\u001b[0m     \u001b[0mpatches_l\u001b[0m \u001b[0;34m=\u001b[0m \u001b[0mPatch\u001b[0m\u001b[0;34m.\u001b[0m\u001b[0manalyze_border\u001b[0m\u001b[0;34m(\u001b[0m\u001b[0mimage\u001b[0m\u001b[0;34m,\u001b[0m \u001b[0mprob\u001b[0m\u001b[0;34m,\u001b[0m \u001b[0mbinary_l\u001b[0m\u001b[0;34m,\u001b[0m \u001b[0mbinary_n\u001b[0m\u001b[0;34m,\u001b[0m \u001b[0mborder\u001b[0m\u001b[0;34m,\u001b[0m \u001b[0ml\u001b[0m\u001b[0;34m,\u001b[0m \u001b[0mn\u001b[0m\u001b[0;34m,\u001b[0m \u001b[0msample_rate\u001b[0m\u001b[0;34m=\u001b[0m\u001b[0msample_rate\u001b[0m\u001b[0;34m,\u001b[0m \u001b[0mpatch_size\u001b[0m\u001b[0;34m=\u001b[0m\u001b[0mpatch_size\u001b[0m\u001b[0;34m,\u001b[0m \u001b[0moversampling\u001b[0m\u001b[0;34m=\u001b[0m\u001b[0moversampling\u001b[0m\u001b[0;34m,\u001b[0m \u001b[0mmode\u001b[0m\u001b[0;34m=\u001b[0m\u001b[0mmode\u001b[0m\u001b[0;34m)\u001b[0m\u001b[0;34m\u001b[0m\u001b[0m\n\u001b[0;32m---> 48\u001b[0;31m     \u001b[0mpatches_n\u001b[0m \u001b[0;34m=\u001b[0m \u001b[0mPatch\u001b[0m\u001b[0;34m.\u001b[0m\u001b[0manalyze_border\u001b[0m\u001b[0;34m(\u001b[0m\u001b[0mimage\u001b[0m\u001b[0;34m,\u001b[0m \u001b[0mprob\u001b[0m\u001b[0;34m,\u001b[0m \u001b[0mbinary_n\u001b[0m\u001b[0;34m,\u001b[0m \u001b[0mbinary_l\u001b[0m\u001b[0;34m,\u001b[0m \u001b[0mborder\u001b[0m\u001b[0;34m,\u001b[0m \u001b[0mn\u001b[0m\u001b[0;34m,\u001b[0m \u001b[0ml\u001b[0m\u001b[0;34m,\u001b[0m \u001b[0msample_rate\u001b[0m\u001b[0;34m=\u001b[0m\u001b[0msample_rate\u001b[0m\u001b[0;34m,\u001b[0m \u001b[0mpatch_size\u001b[0m\u001b[0;34m=\u001b[0m\u001b[0mpatch_size\u001b[0m\u001b[0;34m,\u001b[0m \u001b[0moversampling\u001b[0m\u001b[0;34m=\u001b[0m\u001b[0moversampling\u001b[0m\u001b[0;34m,\u001b[0m \u001b[0mmode\u001b[0m\u001b[0;34m=\u001b[0m\u001b[0mmode\u001b[0m\u001b[0;34m)\u001b[0m\u001b[0;34m\u001b[0m\u001b[0m\n\u001b[0m\u001b[1;32m     49\u001b[0m \u001b[0;34m\u001b[0m\u001b[0m\n\u001b[1;32m     50\u001b[0m     \u001b[0;32mreturn\u001b[0m \u001b[0mpatches_l\u001b[0m\u001b[0;34m,\u001b[0m \u001b[0mpatches_n\u001b[0m\u001b[0;34m\u001b[0m\u001b[0m\n",
        "\u001b[0;32m/Users/d/Projects/em-quality-metric/Reignite/patch.py\u001b[0m in \u001b[0;36manalyze_border\u001b[0;34m(image, prob, binary_mask, binary_mask2, border, l, n, mode, patch_size, sample_rate, oversampling)\u001b[0m\n\u001b[1;32m    477\u001b[0m \u001b[0;34m\u001b[0m\u001b[0m\n\u001b[1;32m    478\u001b[0m \u001b[0;34m\u001b[0m\u001b[0m\n\u001b[0;32m--> 479\u001b[0;31m           \u001b[0mdyn_bnd\u001b[0m \u001b[0;34m=\u001b[0m \u001b[0mrecreate_dyn_bnd\u001b[0m\u001b[0;34m(\u001b[0m\u001b[0mlabel1\u001b[0m\u001b[0;34m,\u001b[0m \u001b[0mlabel2\u001b[0m\u001b[0;34m)\u001b[0m\u001b[0;34m\u001b[0m\u001b[0m\n\u001b[0m\u001b[1;32m    480\u001b[0m           \u001b[0mdyn_obj\u001b[0m \u001b[0;34m=\u001b[0m \u001b[0mrecreate_dyn_obj\u001b[0m\u001b[0;34m(\u001b[0m\u001b[0mlabel1\u001b[0m\u001b[0;34m,\u001b[0m \u001b[0mlabel2\u001b[0m\u001b[0;34m)\u001b[0m\u001b[0;34m\u001b[0m\u001b[0m\n\u001b[1;32m    481\u001b[0m \u001b[0;34m\u001b[0m\u001b[0m\n",
        "\u001b[0;32m/Users/d/Projects/em-quality-metric/Reignite/patch.py\u001b[0m in \u001b[0;36mrecreate_dyn_bnd\u001b[0;34m(label1, label2, r)\u001b[0m\n\u001b[1;32m    455\u001b[0m               \u001b[0mdilated_label1\u001b[0m \u001b[0;34m=\u001b[0m \u001b[0mnp\u001b[0m\u001b[0;34m.\u001b[0m\u001b[0marray\u001b[0m\u001b[0;34m(\u001b[0m\u001b[0mlabel1\u001b[0m\u001b[0;34m)\u001b[0m\u001b[0;34m\u001b[0m\u001b[0m\n\u001b[1;32m    456\u001b[0m               \u001b[0;32mfor\u001b[0m \u001b[0mi\u001b[0m \u001b[0;32min\u001b[0m \u001b[0mrange\u001b[0m\u001b[0;34m(\u001b[0m\u001b[0mamount\u001b[0m\u001b[0;34m)\u001b[0m\u001b[0;34m:\u001b[0m\u001b[0;34m\u001b[0m\u001b[0m\n\u001b[0;32m--> 457\u001b[0;31m                   \u001b[0mdilated_label1\u001b[0m \u001b[0;34m=\u001b[0m \u001b[0mmh\u001b[0m\u001b[0;34m.\u001b[0m\u001b[0mdilate\u001b[0m\u001b[0;34m(\u001b[0m\u001b[0mdilated_label1\u001b[0m\u001b[0;34m)\u001b[0m\u001b[0;34m\u001b[0m\u001b[0m\n\u001b[0m\u001b[1;32m    458\u001b[0m \u001b[0;34m\u001b[0m\u001b[0m\n\u001b[1;32m    459\u001b[0m               \u001b[0mdilated_label2\u001b[0m \u001b[0;34m=\u001b[0m \u001b[0mnp\u001b[0m\u001b[0;34m.\u001b[0m\u001b[0marray\u001b[0m\u001b[0;34m(\u001b[0m\u001b[0mlabel2\u001b[0m\u001b[0;34m)\u001b[0m\u001b[0;34m\u001b[0m\u001b[0m\n",
        "\u001b[0;32m/Library/Python/2.7/site-packages/mahotas-1.3.0_git-py2.7-macosx-10.9-intel.egg/mahotas/morph.pyc\u001b[0m in \u001b[0;36mdilate\u001b[0;34m(A, Bc, out, output)\u001b[0m\n\u001b[1;32m    160\u001b[0m     \u001b[0mBc\u001b[0m \u001b[0;34m=\u001b[0m \u001b[0mget_structuring_elem\u001b[0m\u001b[0;34m(\u001b[0m\u001b[0mA\u001b[0m\u001b[0;34m,\u001b[0m\u001b[0mBc\u001b[0m\u001b[0;34m)\u001b[0m\u001b[0;34m\u001b[0m\u001b[0m\n\u001b[1;32m    161\u001b[0m     \u001b[0moutput\u001b[0m \u001b[0;34m=\u001b[0m \u001b[0m_get_output\u001b[0m\u001b[0;34m(\u001b[0m\u001b[0mA\u001b[0m\u001b[0;34m,\u001b[0m \u001b[0mout\u001b[0m\u001b[0;34m,\u001b[0m \u001b[0;34m'dilate'\u001b[0m\u001b[0;34m,\u001b[0m \u001b[0moutput\u001b[0m\u001b[0;34m=\u001b[0m\u001b[0moutput\u001b[0m\u001b[0;34m)\u001b[0m\u001b[0;34m\u001b[0m\u001b[0m\n\u001b[0;32m--> 162\u001b[0;31m     \u001b[0;32mreturn\u001b[0m \u001b[0m_morph\u001b[0m\u001b[0;34m.\u001b[0m\u001b[0mdilate\u001b[0m\u001b[0;34m(\u001b[0m\u001b[0mA\u001b[0m\u001b[0;34m,\u001b[0m \u001b[0mBc\u001b[0m\u001b[0;34m,\u001b[0m \u001b[0moutput\u001b[0m\u001b[0;34m)\u001b[0m\u001b[0;34m\u001b[0m\u001b[0m\n\u001b[0m\u001b[1;32m    163\u001b[0m \u001b[0;34m\u001b[0m\u001b[0m\n\u001b[1;32m    164\u001b[0m \u001b[0;32mdef\u001b[0m \u001b[0merode\u001b[0m\u001b[0;34m(\u001b[0m\u001b[0mA\u001b[0m\u001b[0;34m,\u001b[0m \u001b[0mBc\u001b[0m\u001b[0;34m=\u001b[0m\u001b[0mNone\u001b[0m\u001b[0;34m,\u001b[0m \u001b[0mout\u001b[0m\u001b[0;34m=\u001b[0m\u001b[0mNone\u001b[0m\u001b[0;34m,\u001b[0m \u001b[0moutput\u001b[0m\u001b[0;34m=\u001b[0m\u001b[0mNone\u001b[0m\u001b[0;34m)\u001b[0m\u001b[0;34m:\u001b[0m\u001b[0;34m\u001b[0m\u001b[0m\n",
        "\u001b[0;31mKeyboardInterrupt\u001b[0m: "
       ]
      }
     ],
     "prompt_number": 320
    },
    {
     "cell_type": "code",
     "collapsed": false,
     "input": [],
     "language": "python",
     "metadata": {},
     "outputs": []
    },
    {
     "cell_type": "code",
     "collapsed": false,
     "input": [],
     "language": "python",
     "metadata": {},
     "outputs": []
    },
    {
     "cell_type": "code",
     "collapsed": false,
     "input": [],
     "language": "python",
     "metadata": {},
     "outputs": []
    },
    {
     "cell_type": "code",
     "collapsed": false,
     "input": [
      "split_errors.keys()"
     ],
     "language": "python",
     "metadata": {},
     "outputs": [
      {
       "metadata": {},
       "output_type": "pyout",
       "prompt_number": 384,
       "text": [
        "[]"
       ]
      }
     ],
     "prompt_number": 384
    },
    {
     "cell_type": "code",
     "collapsed": false,
     "input": [
      "for s in split_errors:\n",
      "    s = split_errors[s]\n",
      "    Util.view(s)\n",
      "    "
     ],
     "language": "python",
     "metadata": {},
     "outputs": [
      {
       "metadata": {},
       "output_type": "display_data",
       "png": "[encoded data removed]",
       "text": [
        "<matplotlib.figure.Figure at 0x143c90150>"
       ]
      },
      {
       "metadata": {},
       "output_type": "display_data",
       "png": "[encoded data removed]",
       "text": [
        "<matplotlib.figure.Figure at 0x138fb23d0>"
       ]
      }
     ],
     "prompt_number": 297
    },
    {
     "cell_type": "code",
     "collapsed": false,
     "input": [
      "len(np.where(input_rhoana== 583)[0])"
     ],
     "language": "python",
     "metadata": {},
     "outputs": [
      {
       "metadata": {},
       "output_type": "pyout",
       "prompt_number": 338,
       "text": [
        "78337"
       ]
      }
     ],
     "prompt_number": 338
    },
    {
     "cell_type": "code",
     "collapsed": false,
     "input": [
      "np.mean(Util.get_histogram(new_seg[0]))"
     ],
     "language": "python",
     "metadata": {},
     "outputs": [
      {
       "metadata": {},
       "output_type": "pyout",
       "prompt_number": 340,
       "text": [
        "81.169075144508668"
       ]
      }
     ],
     "prompt_number": 340
    },
    {
     "cell_type": "code",
     "collapsed": false,
     "input": [
      "Util.view(new_seg[0])"
     ],
     "language": "python",
     "metadata": {},
     "outputs": [
      {
       "metadata": {},
       "output_type": "display_data",
       "png": "[encoded data removed]",
       "text": [
        "<matplotlib.figure.Figure at 0x12741a890>"
       ]
      }
     ],
     "prompt_number": 342
    },
    {
     "cell_type": "code",
     "collapsed": false,
     "input": [
      "imshow(fixed_slice)"
     ],
     "language": "python",
     "metadata": {},
     "outputs": [
      {
       "metadata": {},
       "output_type": "pyout",
       "prompt_number": 343,
       "text": [
        "<matplotlib.image.AxesImage at 0x143ce5110>"
       ]
      },
      {
       "metadata": {},
       "output_type": "display_data",
       "png": "[encoded data removed]",
       "text": [
        "<matplotlib.figure.Figure at 0x12b4eced0>"
       ]
      }
     ],
     "prompt_number": 343
    },
    {
     "cell_type": "code",
     "collapsed": false,
     "input": [
      "imshow(new_seg[-1])"
     ],
     "language": "python",
     "metadata": {},
     "outputs": [
      {
       "metadata": {},
       "output_type": "pyout",
       "prompt_number": 344,
       "text": [
        "<matplotlib.image.AxesImage at 0x12a050a90>"
       ]
      },
      {
       "metadata": {},
       "output_type": "display_data",
       "png": "[encoded data removed]",
       "text": [
        "<matplotlib.figure.Figure at 0x126637350>"
       ]
      }
     ],
     "prompt_number": 344
    },
    {
     "cell_type": "code",
     "collapsed": false,
     "input": [
      "sizes = mh.labeled.labeled_size(new_seg[0])\n",
      "too_small = np.where(sizes < 200)\n",
      "labeled_small = mh.labeled.remove_regions(new_seg[0], too_small)"
     ],
     "language": "python",
     "metadata": {},
     "outputs": [],
     "prompt_number": 382
    },
    {
     "cell_type": "code",
     "collapsed": false,
     "input": [
      "Util.view(labeled_small)"
     ],
     "language": "python",
     "metadata": {},
     "outputs": [
      {
       "metadata": {},
       "output_type": "display_data",
       "png": "[encoded data removed]",
       "text": [
        "<matplotlib.figure.Figure at 0x1273c0b90>"
       ]
      }
     ],
     "prompt_number": 431
    },
    {
     "cell_type": "code",
     "collapsed": false,
     "input": [
      "Util.view(Util.frame_image(labeled_small))"
     ],
     "language": "python",
     "metadata": {},
     "outputs": [
      {
       "metadata": {},
       "output_type": "display_data",
       "png": "[encoded data removed]",
       "text": [
        "<matplotlib.figure.Figure at 0x1262de0d0>"
       ]
      }
     ],
     "prompt_number": 435
    },
    {
     "cell_type": "code",
     "collapsed": false,
     "input": [
      "Util.view(Util.threshold(input_rhoana[5], 1230 ).astype(np.bool))"
     ],
     "language": "python",
     "metadata": {},
     "outputs": [
      {
       "metadata": {},
       "output_type": "display_data",
       "png": "[encoded data removed]",
       "text": [
        "<matplotlib.figure.Figure at 0x12704b710>"
       ]
      }
     ],
     "prompt_number": 462
    },
    {
     "cell_type": "code",
     "collapsed": false,
     "input": [
      "Util.view(new_seg[5])"
     ],
     "language": "python",
     "metadata": {},
     "outputs": [
      {
       "metadata": {},
       "output_type": "display_data",
       "png": "[encoded data removed]",
       "text": [
        "<matplotlib.figure.Figure at 0x1273c8050>"
       ]
      }
     ],
     "prompt_number": 463
    },
    {
     "cell_type": "code",
     "collapsed": false,
     "input": [
      "Util.view(input_gold[5])"
     ],
     "language": "python",
     "metadata": {},
     "outputs": [
      {
       "metadata": {},
       "output_type": "display_data",
       "png": "[encoded data removed]",
       "text": [
        "<matplotlib.figure.Figure at 0x1273e9550>"
       ]
      }
     ],
     "prompt_number": 464
    },
    {
     "cell_type": "code",
     "collapsed": false,
     "input": [],
     "language": "python",
     "metadata": {},
     "outputs": []
    }
   ],
   "metadata": {}
  }
 ]
}