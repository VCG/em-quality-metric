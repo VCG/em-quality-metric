{
 "metadata": {
  "name": "",
  "signature": "sha256:118739fc151a146f47b0d434c036d4d28e9bf9863b2a02dd1116a123188941c8"
 },
 "nbformat": 3,
 "nbformat_minor": 0,
 "worksheets": [
  {
   "cells": [
    {
     "cell_type": "code",
     "collapsed": false,
     "input": [
      "%load_ext autoreload\n",
      "%autoreload 2\n",
      "\n",
      "from cnn import CNN\n",
      "from experiment import Experiment\n",
      "from util import Util\n",
      "from patch import Patch\n",
      "from fixer import Fixer\n",
      "from uglify import Uglify\n",
      "\n",
      "import mahotas as mh\n",
      "import numpy as np\n",
      "\n",
      "from matplotlib.pyplot import imshow\n",
      "import matplotlib.pyplot as plt\n",
      "%matplotlib inline"
     ],
     "language": "python",
     "metadata": {},
     "outputs": [
      {
       "output_type": "stream",
       "stream": "stderr",
       "text": [
        "Using gpu device 0: GeForce GTX TITAN (CNMeM is disabled)\n"
       ]
      }
     ],
     "prompt_number": 1
    },
    {
     "cell_type": "code",
     "collapsed": false,
     "input": [
      "cnn = CNN('8b33e516-2311-4892-82f9-4e6079c261f8', 'patches_4th_10k')"
     ],
     "language": "python",
     "metadata": {},
     "outputs": [
      {
       "output_type": "stream",
       "stream": "stdout",
       "text": [
        "Loading ['/Volumes/DATA1/split_cnn/patches_4th_10k/8b33e516-2311-4892-82f9-4e6079c261f8/configuration.txt']\n",
        "Loading ['/Volumes/DATA1/split_cnn/patches_4th_10k/8b33e516-2311-4892-82f9-4e6079c261f8/network_19.p']\n"
       ]
      },
      {
       "output_type": "stream",
       "stream": "stderr",
       "text": [
        "/Users/d/Library/Python/2.7/lib/python/site-packages/theano/tensor/nnet/__init__.py:111: UserWarning: The `image_shape` keyword argument to `tensor.nnet.conv2d` is deprecated, it has been renamed to `input_shape`.\n",
        "  warnings.warn(\"The `image_shape` keyword argument to \"\n"
       ]
      }
     ],
     "prompt_number": 2
    },
    {
     "cell_type": "code",
     "collapsed": false,
     "input": [
      "vis, vi_diffs, surenesses, merge_pairs = Experiment.run_split_test_nn(cnn,\n",
      "                                                                   data='gt',\n",
      "                                                                   oversampling=True,\n",
      "                                                                   smallest_first=True,\n",
      "                                                                   bbox=[0,1024,0,1024])"
     ],
     "language": "python",
     "metadata": {},
     "outputs": [
      {
       "output_type": "stream",
       "stream": "stdout",
       "text": [
        "--------------------------------------------------------------------------------\n",
        "--------------------------------------------------------------------------------\n",
        "New Experiment:\n",
        "  Data: gt\n",
        "  Slices: [70, 71, 72, 73, 74]\n",
        "  Oversampling: True\n",
        "  Merge smallest first: True\n",
        "  No. splits to uglify: 2\n",
        "  Keep zeros in segmentation: True\n",
        "VI:"
       ]
      },
      {
       "output_type": "stream",
       "stream": "stdout",
       "text": [
        "\n",
        "  N:  5\n",
        "  Min:  0.330819288512\n",
        "  Max:  0.421351314449\n",
        "  Mean:  0.377291210483\n",
        "  Median:  0.358700859339\n",
        "  Std:  0.0359153705375\n",
        "  Var:  0.00128991384085\n",
        "VI before-after:\n",
        "  N:  5\n",
        "  Min:  0.241075573947\n",
        "  Max:  0.393923853707\n",
        "  Mean:  0.325157932768\n",
        "  Median:  0.317401822872\n",
        "  Std:  0.0515356762402\n",
        "  Var:  0.00265592592554\n",
        "Surenesses:\n",
        "  N:  5\n",
        "  Min:  0.0670377633491\n",
        "  Max:  0.283793152876\n",
        "  Mean:  0.153964459203\n",
        "  Median:  0.120034118848\n",
        "  Std:  0.0755817964431\n",
        "  Var:  0.00571260795356\n"
       ]
      }
     ],
     "prompt_number": 4
    },
    {
     "cell_type": "code",
     "collapsed": false,
     "input": [
      "vis, vi_diffs, surenesses, merge_pairs = Experiment.run_split_test_nn(cnn,\n",
      "                                                                   data='gt',\n",
      "                                                                   oversampling=False,\n",
      "                                                                   smallest_first=True,\n",
      "                                                                   bbox=[0,1024,0,1024])"
     ],
     "language": "python",
     "metadata": {},
     "outputs": [
      {
       "output_type": "stream",
       "stream": "stdout",
       "text": [
        "--------------------------------------------------------------------------------\n",
        "--------------------------------------------------------------------------------\n",
        "New Experiment:\n",
        "  Data: gt\n",
        "  Slices: [70, 71, 72, 73, 74]\n",
        "  Oversampling: False\n",
        "  Merge smallest first: True\n",
        "  No. splits to uglify: 2\n",
        "  Keep zeros in segmentation: True\n",
        "VI:"
       ]
      },
      {
       "output_type": "stream",
       "stream": "stdout",
       "text": [
        "\n",
        "  N:  5\n",
        "  Min:  0.343641199894\n",
        "  Max:  0.465427771914\n",
        "  Mean:  0.416934472149\n",
        "  Median:  0.448041177107\n",
        "  Std:  0.0475811138236\n",
        "  Var:  0.00226396239269\n",
        "VI before-after:\n",
        "  N:  5\n",
        "  Min:  0.237712842841\n",
        "  Max:  0.358305631833\n",
        "  Mean:  0.273046865715\n",
        "  Median:  0.256596545495\n",
        "  Std:  0.0432413575004\n",
        "  Var:  0.00186981499848\n",
        "Surenesses:\n",
        "  N:  5\n",
        "  Min:  0.0118485498242\n",
        "  Max:  0.256781727076\n",
        "  Mean:  0.0871093688204\n",
        "  Median:  0.0474894810468\n",
        "  Std:  0.0882584966909\n",
        "  Var:  0.00778956223814\n"
       ]
      }
     ],
     "prompt_number": 5
    },
    {
     "cell_type": "code",
     "collapsed": false,
     "input": [
      "vis, vi_diffs, surenesses, merge_pairs = Experiment.run_split_test_nn(cnn,\n",
      "                                                                   data='rhoana',\n",
      "                                                                   oversampling=True,\n",
      "                                                                   smallest_first=True,\n",
      "                                                                   bbox=[0,1024,0,1024])"
     ],
     "language": "python",
     "metadata": {},
     "outputs": [
      {
       "output_type": "stream",
       "stream": "stdout",
       "text": [
        "--------------------------------------------------------------------------------\n",
        "--------------------------------------------------------------------------------\n",
        "New Experiment:\n",
        "  Data: rhoana\n",
        "  Slices: [70, 71, 72, 73, 74]\n",
        "  Oversampling: True\n",
        "  Merge smallest first: True\n",
        "  No. splits to uglify: 2\n",
        "  Keep zeros in segmentation: True\n",
        "VI:"
       ]
      },
      {
       "output_type": "stream",
       "stream": "stdout",
       "text": [
        "\n",
        "  N:  5\n",
        "  Min:  0.489531565169\n",
        "  Max:  0.621027890082\n",
        "  Mean:  0.559275204568\n",
        "  Median:  0.562607915917\n",
        "  Std:  0.0497344726247\n",
        "  Var:  0.00247351776726\n",
        "VI before-after:\n",
        "  N:  5\n",
        "  Min:  -0.621027890082\n",
        "  Max:  -0.489531565169\n",
        "  Mean:  -0.559275204568\n",
        "  Median:  -0.562607915917\n",
        "  Std:  0.0497344726247\n",
        "  Var:  0.00247351776726\n",
        "Surenesses:\n",
        "  N:  5\n",
        "  Min:  0.551713464409\n",
        "  Max:  0.831794622058\n",
        "  Mean:  0.680515228125\n",
        "  Median:  0.674773617902\n",
        "  Std:  0.0981592675346\n",
        "  Var:  0.00963524180292\n"
       ]
      }
     ],
     "prompt_number": 6
    },
    {
     "cell_type": "code",
     "collapsed": false,
     "input": [
      "vis, vi_diffs, surenesses, merge_pairs = Experiment.run_split_test_nn(cnn,\n",
      "                                                                   data='rhoana',\n",
      "                                                                   oversampling=False,\n",
      "                                                                   smallest_first=True,\n",
      "                                                                   bbox=[0,1024,0,1024])"
     ],
     "language": "python",
     "metadata": {},
     "outputs": [
      {
       "output_type": "stream",
       "stream": "stdout",
       "text": [
        "--------------------------------------------------------------------------------\n",
        "--------------------------------------------------------------------------------\n",
        "New Experiment:\n",
        "  Data: rhoana\n",
        "  Slices: [70, 71, 72, 73, 74]\n",
        "  Oversampling: False\n",
        "  Merge smallest first: True\n",
        "  No. splits to uglify: 2\n",
        "  Keep zeros in segmentation: True\n",
        "VI:"
       ]
      },
      {
       "output_type": "stream",
       "stream": "stdout",
       "text": [
        "\n",
        "  N:  5\n",
        "  Min:  0.483783035997\n",
        "  Max:  0.610816448666\n",
        "  Mean:  0.551868988103\n",
        "  Median:  0.564686547277\n",
        "  Std:  0.0464236283661\n",
        "  Var:  0.00215515327067\n",
        "VI before-after:\n",
        "  N:  5\n",
        "  Min:  -0.610816448666\n",
        "  Max:  -0.483783035997\n",
        "  Mean:  -0.551868988103\n",
        "  Median:  -0.564686547277\n",
        "  Std:  0.0464236283661\n",
        "  Var:  0.00215515327067\n",
        "Surenesses:\n",
        "  N:  5\n",
        "  Min:  0.551982447505\n",
        "  Max:  0.984539479017\n",
        "  Mean:  0.804650297761\n",
        "  Median:  0.861152023077\n",
        "  Std:  0.146098624436\n",
        "  Var:  0.0213448080622\n"
       ]
      }
     ],
     "prompt_number": 7
    },
    {
     "cell_type": "code",
     "collapsed": false,
     "input": [],
     "language": "python",
     "metadata": {},
     "outputs": []
    }
   ],
   "metadata": {}
  }
 ]
}