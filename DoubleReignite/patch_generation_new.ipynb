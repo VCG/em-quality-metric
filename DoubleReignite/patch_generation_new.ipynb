{
 "metadata": {
  "name": "",
  "signature": "sha256:029226bc91b75f862bbdf7fe6f1419dff06372c1f15dc81839271d26f0b0db98"
 },
 "nbformat": 3,
 "nbformat_minor": 0,
 "worksheets": [
  {
   "cells": [
    {
     "cell_type": "code",
     "collapsed": false,
     "input": [
      "%load_ext autoreload\n",
      "%autoreload 2\n",
      "\n",
      "import os\n",
      "import numpy as np\n",
      "import time\n",
      "\n",
      "from patch import Patch\n",
      "from uglify import Uglify\n",
      "from util import Util\n",
      "from generator import Generator\n",
      "\n",
      "from matplotlib.pyplot import imshow\n",
      "import matplotlib.pyplot as plt\n",
      "%matplotlib inline"
     ],
     "language": "python",
     "metadata": {},
     "outputs": [
      {
       "output_type": "stream",
       "stream": "stdout",
       "text": [
        "The autoreload extension is already loaded. To reload it, use:\n",
        "  %reload_ext autoreload\n"
       ]
      }
     ],
     "prompt_number": 92
    },
    {
     "cell_type": "code",
     "collapsed": false,
     "input": [
      "\n",
      "DATA_PATH = '/Volumes/DATA1/EMQM_DATA/ac3x75/'\n",
      "GOLD_PATH = os.path.join(DATA_PATH,'gold/')\n",
      "IMAGE_PATH = os.path.join(DATA_PATH,'input/')\n",
      "PROB_PATH = os.path.join(DATA_PATH,'prob/')\n",
      "PATCH_PATH = os.path.join(DATA_PATH,'patches_4th/')\n",
      "\n"
     ],
     "language": "python",
     "metadata": {},
     "outputs": [],
     "prompt_number": 2
    },
    {
     "cell_type": "code",
     "collapsed": false,
     "input": [
      "def generate_patches(_type, start_slice, end_slice, count):\n",
      "\n",
      "    #\n",
      "    # patches\n",
      "    #\n",
      "    NO_PATCHES = count\n",
      "    \n",
      "    if _type == 'split':\n",
      "        #_type = Generator.generate_split_error\n",
      "        \n",
      "        p_target = np.ones(NO_PATCHES)\n",
      "    elif _type == 'correct':\n",
      "        #_type = Generator.generate_correct\n",
      "        \n",
      "        \n",
      "        \n",
      "        p_target = np.zeros(NO_PATCHES)        \n",
      "\n",
      "\n",
      "    patches = 0\n",
      "    data = []\n",
      "\n",
      "    PATCH_BYTES = 75*75\n",
      "    p_image = np.zeros((NO_PATCHES, PATCH_BYTES),dtype=np.uint8)\n",
      "    p_prob = np.zeros((NO_PATCHES, PATCH_BYTES),dtype=np.uint8)\n",
      "    p_binary = np.zeros((NO_PATCHES, PATCH_BYTES),dtype=np.bool)\n",
      "    p_merged_array = np.zeros((NO_PATCHES, PATCH_BYTES),dtype=np.bool)\n",
      "    p_dyn_obj = np.zeros((NO_PATCHES, PATCH_BYTES),dtype=np.bool)\n",
      "    p_dyn_bnd = np.zeros((NO_PATCHES, PATCH_BYTES),dtype=np.bool)\n",
      "    p_border_overlap = np.zeros((NO_PATCHES, PATCH_BYTES),dtype=np.bool)\n",
      "    p_larger_border_overlap = np.zeros((NO_PATCHES, PATCH_BYTES),dtype=np.bool)    \n",
      "\n",
      "#    max_per_slice = int(count / (end_slice - start_slice)) + 1\n",
      "#    print 'Max per slice', max_per_slice\n",
      "\n",
      "    requested_per_slice = int(NO_PATCHES / (end_slice - start_slice)) + 1\n",
      "    \n",
      "    patch_index = 0\n",
      "\n",
      "    for z in range(start_slice, end_slice):\n",
      "\n",
      "        t0 = time.time()\n",
      "        print 'working on slice', z\n",
      "        input_image, input_prob, input_gold, input_rhoana = Util.read_section(str(z).zfill(2), keep_zeros=True)\n",
      "\n",
      "        if _type == 'split':\n",
      "            \n",
      "            # uglify and patchify the slice\n",
      "            patches = Uglify.split_and_patchify(input_image, input_prob, input_gold, n=3, max=requested_per_slice, sample_rate=10)\n",
      "            \n",
      "        elif _type == 'correct':\n",
      "            \n",
      "            # just patchify\n",
      "            patches = Patch.patchify(input_image, input_prob, input_gold, sample_rate=10, max=requested_per_slice, oversampling=True, ignore_zero_neighbor=False)\n",
      "        \n",
      "        \n",
      "        real_no_patches = len(patches)\n",
      "        print 'generated', real_no_patches\n",
      "\n",
      "        if real_no_patches < requested_per_slice:\n",
      "            # duplicate a bunch of patches to match the requested number\n",
      "            patches_missing = requested_per_slice - real_no_patches\n",
      "            \n",
      "            copy_factor = int(patches_missing / real_no_patches) + 1\n",
      "            for c in range(copy_factor):\n",
      "                patches += patches\n",
      "                \n",
      "            print 'extended to', len(patches)\n",
      "            \n",
      "        patches = patches[0:requested_per_slice]\n",
      "            \n",
      "\n",
      "        for i, p in enumerate(patches):\n",
      "            \n",
      "            i = patch_index\n",
      "            \n",
      "            if i >= NO_PATCHES:\n",
      "                break\n",
      "            \n",
      "            p_image[i] = p['image'].ravel()\n",
      "            p_prob[i] = p['prob'].ravel()\n",
      "            p_binary[i] = p['binary'].ravel()\n",
      "            p_merged_array[i] = p['merged_array'].ravel()\n",
      "            p_dyn_obj[i] = p['dyn_obj'].ravel()\n",
      "            p_dyn_bnd[i] = p['dyn_bnd'].ravel()\n",
      "            p_border_overlap[i] = p['border_overlap'].ravel()\n",
      "            p_larger_border_overlap[i] = p['larger_border_overlap'].ravel()\n",
      "\n",
      "            patch_index += 1\n",
      "            \n",
      "        total = time.time() - t0\n",
      "        print total, 'seconds for', len(patches), _type, 'patches'\n",
      "\n",
      "    \n",
      "    return p_image, p_prob, p_binary, p_merged_array, p_dyn_obj, p_dyn_bnd, p_border_overlap, p_larger_border_overlap, p_target\n",
      "\n",
      "\n",
      "\n",
      "def shuffle_in_unison_inplace(a, b, c, d, e, f, g, h, i):\n",
      "    assert len(a) == len(b)\n",
      "    assert len(a) == len(h)\n",
      "    p = np.random.permutation(len(a))\n",
      "    return a[p], b[p], c[p], d[p], e[p], f[p], g[p], h[p], i[p]\n",
      "\n",
      "\n",
      "\n",
      "def run(start_slice, end_slice, count, filename):\n",
      "    \n",
      "    if not os.path.exists(PATCH_PATH):\n",
      "        os.makedirs(PATCH_PATH)\n",
      "    \n",
      "    correct = generate_patches('correct', start_slice, end_slice, count)\n",
      "    split = generate_patches('split', start_slice, end_slice, count)\n",
      "    \n",
      "    # concatenate arrays\n",
      "    combined_images = np.concatenate((correct[0], split[0]))\n",
      "    combined_probs = np.concatenate((correct[1], split[1]))\n",
      "    combined_binarys = np.concatenate((correct[2], split[2]))\n",
      "    combined_merged_arrays = np.concatenate((correct[3], split[3]))\n",
      "    combined_dyn_objs = np.concatenate((correct[4], split[4]))\n",
      "    combined_dyn_bnds = np.concatenate((correct[5], split[5]))\n",
      "    combined_border_overlaps = np.concatenate((correct[6], split[6]))\n",
      "    combined_larger_border_overlaps = np.concatenate((correct[7], split[7]))\n",
      "    combined_targets = np.concatenate((correct[8], split[8]))\n",
      "    \n",
      "    shuffled = shuffle_in_unison_inplace(combined_images,\n",
      "                                         combined_probs,\n",
      "                                         combined_binarys,\n",
      "                                         combined_merged_arrays,\n",
      "                                         combined_dyn_objs,\n",
      "                                         combined_dyn_bnds,\n",
      "                                         combined_border_overlaps,\n",
      "                                         combined_larger_border_overlaps,\n",
      "                                         combined_targets)\n",
      "    \n",
      "#     print combined_border_overlaps\n",
      "    \n",
      "    print 'saving..'\n",
      "    np.savez(PATCH_PATH+filename+'.npz', image=shuffled[0],\n",
      "                                         prob=shuffled[1],\n",
      "                                         binary=shuffled[2],\n",
      "                                         merged_array=shuffled[3],\n",
      "                                         dyn_obj=shuffled[4],\n",
      "                                         dyn_bnd=shuffled[5],\n",
      "                                         border_overlap=shuffled[6],\n",
      "                                         larger_border_overlaps=shuffled[7])\n",
      "    np.savez(PATCH_PATH+filename+'_targets.npz', targets=shuffled[8])\n",
      "    print 'Done!'\n",
      "    \n",
      "#     return correct, split, shuffled\n"
     ],
     "language": "python",
     "metadata": {},
     "outputs": [],
     "prompt_number": 246
    },
    {
     "cell_type": "code",
     "collapsed": false,
     "input": [
      "#run(0, 65, 100000, 'train')\n",
      "#run(65, 70, 10000, 'val')\n",
      "#run(70, 75, 10000, 'test')\n",
      "run(0,65,65000,'train')\n",
      "run(65,70,10000, 'val')\n",
      "run(70,75,10000, 'test')"
     ],
     "language": "python",
     "metadata": {},
     "outputs": [
      {
       "output_type": "stream",
       "stream": "stdout",
       "text": [
        "working on slice 0\n",
        "generated"
       ]
      },
      {
       "output_type": "stream",
       "stream": "stdout",
       "text": [
        " 1001\n",
        "19.33644104"
       ]
      },
      {
       "output_type": "stream",
       "stream": "stdout",
       "text": [
        " seconds for 1001 correct patches\n",
        "working on slice 1\n",
        "generated"
       ]
      },
      {
       "output_type": "stream",
       "stream": "stdout",
       "text": [
        " 1001\n",
        "18.347671032"
       ]
      },
      {
       "output_type": "stream",
       "stream": "stdout",
       "text": [
        " seconds for 1001 correct patches\n",
        "working on slice 2\n",
        "generated"
       ]
      },
      {
       "output_type": "stream",
       "stream": "stdout",
       "text": [
        " 1001\n",
        "18.8562049866"
       ]
      },
      {
       "output_type": "stream",
       "stream": "stdout",
       "text": [
        " seconds for 1001 correct patches\n",
        "working on slice 3\n",
        "generated"
       ]
      },
      {
       "output_type": "stream",
       "stream": "stdout",
       "text": [
        " 1001\n",
        "20.2752239704"
       ]
      },
      {
       "output_type": "stream",
       "stream": "stdout",
       "text": [
        " seconds for 1001 correct patches\n",
        "working on slice 4\n",
        "generated"
       ]
      },
      {
       "output_type": "stream",
       "stream": "stdout",
       "text": [
        " 1001\n",
        "19.7783880234"
       ]
      },
      {
       "output_type": "stream",
       "stream": "stdout",
       "text": [
        " seconds for 1001 correct patches\n",
        "working on slice 5\n",
        "generated"
       ]
      },
      {
       "output_type": "stream",
       "stream": "stdout",
       "text": [
        " 1001\n",
        "18.6261520386"
       ]
      },
      {
       "output_type": "stream",
       "stream": "stdout",
       "text": [
        " seconds for 1001 correct patches\n",
        "working on slice 6\n",
        "generated"
       ]
      },
      {
       "output_type": "stream",
       "stream": "stdout",
       "text": [
        " 1001\n",
        "18.7469711304"
       ]
      },
      {
       "output_type": "stream",
       "stream": "stdout",
       "text": [
        " seconds for 1001 correct patches\n",
        "working on slice 7\n",
        "generated"
       ]
      },
      {
       "output_type": "stream",
       "stream": "stdout",
       "text": [
        " 1001\n",
        "18.2157740593"
       ]
      },
      {
       "output_type": "stream",
       "stream": "stdout",
       "text": [
        " seconds for 1001 correct patches\n",
        "working on slice 8\n",
        "generated"
       ]
      },
      {
       "output_type": "stream",
       "stream": "stdout",
       "text": [
        " 1001\n",
        "18.7350749969"
       ]
      },
      {
       "output_type": "stream",
       "stream": "stdout",
       "text": [
        " seconds for 1001 correct patches\n",
        "working on slice 9\n",
        "generated"
       ]
      },
      {
       "output_type": "stream",
       "stream": "stdout",
       "text": [
        " 1001\n",
        "18.4385559559"
       ]
      },
      {
       "output_type": "stream",
       "stream": "stdout",
       "text": [
        " seconds for 1001 correct patches\n",
        "working on slice 10\n",
        "generated"
       ]
      },
      {
       "output_type": "stream",
       "stream": "stdout",
       "text": [
        " 1001\n",
        "18.3164548874"
       ]
      },
      {
       "output_type": "stream",
       "stream": "stdout",
       "text": [
        " seconds for 1001 correct patches\n",
        "working on slice 11\n",
        "generated"
       ]
      },
      {
       "output_type": "stream",
       "stream": "stdout",
       "text": [
        " 1001\n",
        "18.9776940346"
       ]
      },
      {
       "output_type": "stream",
       "stream": "stdout",
       "text": [
        " seconds for 1001 correct patches\n",
        "working on slice 12\n",
        "generated"
       ]
      },
      {
       "output_type": "stream",
       "stream": "stdout",
       "text": [
        " 1001\n",
        "18.9950211048"
       ]
      },
      {
       "output_type": "stream",
       "stream": "stdout",
       "text": [
        " seconds for 1001 correct patches\n",
        "working on slice 13\n",
        "generated"
       ]
      },
      {
       "output_type": "stream",
       "stream": "stdout",
       "text": [
        " 1001\n",
        "19.0335490704"
       ]
      },
      {
       "output_type": "stream",
       "stream": "stdout",
       "text": [
        " seconds for 1001 correct patches\n",
        "working on slice 14\n",
        "generated"
       ]
      },
      {
       "output_type": "stream",
       "stream": "stdout",
       "text": [
        " 1001\n",
        "19.2089920044"
       ]
      },
      {
       "output_type": "stream",
       "stream": "stdout",
       "text": [
        " seconds for 1001 correct patches\n",
        "working on slice 15\n",
        "generated"
       ]
      },
      {
       "output_type": "stream",
       "stream": "stdout",
       "text": [
        " 1001\n",
        "19.7837529182"
       ]
      },
      {
       "output_type": "stream",
       "stream": "stdout",
       "text": [
        " seconds for 1001 correct patches\n",
        "working on slice 16\n",
        "generated"
       ]
      },
      {
       "output_type": "stream",
       "stream": "stdout",
       "text": [
        " 1001\n",
        "19.1896851063"
       ]
      },
      {
       "output_type": "stream",
       "stream": "stdout",
       "text": [
        " seconds for 1001 correct patches\n",
        "working on slice 17\n",
        "generated"
       ]
      },
      {
       "output_type": "stream",
       "stream": "stdout",
       "text": [
        " 1001\n",
        "18.9604890347"
       ]
      },
      {
       "output_type": "stream",
       "stream": "stdout",
       "text": [
        " seconds for 1001 correct patches\n",
        "working on slice 18\n",
        "generated"
       ]
      },
      {
       "output_type": "stream",
       "stream": "stdout",
       "text": [
        " 1001\n",
        "20.7068059444"
       ]
      },
      {
       "output_type": "stream",
       "stream": "stdout",
       "text": [
        " seconds for 1001 correct patches\n",
        "working on slice 19\n",
        "generated"
       ]
      },
      {
       "output_type": "stream",
       "stream": "stdout",
       "text": [
        " 1001\n",
        "19.8196148872"
       ]
      },
      {
       "output_type": "stream",
       "stream": "stdout",
       "text": [
        " seconds for 1001 correct patches\n",
        "working on slice 20\n",
        "generated"
       ]
      },
      {
       "output_type": "stream",
       "stream": "stdout",
       "text": [
        " 1001\n",
        "18.5332369804"
       ]
      },
      {
       "output_type": "stream",
       "stream": "stdout",
       "text": [
        " seconds for 1001 correct patches\n",
        "working on slice 21\n",
        "generated"
       ]
      },
      {
       "output_type": "stream",
       "stream": "stdout",
       "text": [
        " 1001\n",
        "18.9749541283"
       ]
      },
      {
       "output_type": "stream",
       "stream": "stdout",
       "text": [
        " seconds for 1001 correct patches\n",
        "working on slice 22\n",
        "generated"
       ]
      },
      {
       "output_type": "stream",
       "stream": "stdout",
       "text": [
        " 1001\n",
        "19.1277759075"
       ]
      },
      {
       "output_type": "stream",
       "stream": "stdout",
       "text": [
        " seconds for 1001 correct patches\n",
        "working on slice 23\n",
        "generated"
       ]
      },
      {
       "output_type": "stream",
       "stream": "stdout",
       "text": [
        " 1001\n",
        "20.4680500031"
       ]
      },
      {
       "output_type": "stream",
       "stream": "stdout",
       "text": [
        " seconds for 1001 correct patches\n",
        "working on slice 24\n",
        "generated"
       ]
      },
      {
       "output_type": "stream",
       "stream": "stdout",
       "text": [
        " 1001\n",
        "19.4287600517"
       ]
      },
      {
       "output_type": "stream",
       "stream": "stdout",
       "text": [
        " seconds for 1001 correct patches\n",
        "working on slice 25\n",
        "generated"
       ]
      },
      {
       "output_type": "stream",
       "stream": "stdout",
       "text": [
        " 1001\n",
        "19.4273591042"
       ]
      },
      {
       "output_type": "stream",
       "stream": "stdout",
       "text": [
        " seconds for 1001 correct patches\n",
        "working on slice 26\n",
        "generated"
       ]
      },
      {
       "output_type": "stream",
       "stream": "stdout",
       "text": [
        " 1001\n",
        "18.8772330284"
       ]
      },
      {
       "output_type": "stream",
       "stream": "stdout",
       "text": [
        " seconds for 1001 correct patches\n",
        "working on slice 27\n",
        "generated"
       ]
      },
      {
       "output_type": "stream",
       "stream": "stdout",
       "text": [
        " 1001\n",
        "18.9488949776"
       ]
      },
      {
       "output_type": "stream",
       "stream": "stdout",
       "text": [
        " seconds for 1001 correct patches\n",
        "working on slice 28\n",
        "generated"
       ]
      },
      {
       "output_type": "stream",
       "stream": "stdout",
       "text": [
        " 1001\n",
        "18.9457931519"
       ]
      },
      {
       "output_type": "stream",
       "stream": "stdout",
       "text": [
        " seconds for 1001 correct patches\n",
        "working on slice 29\n",
        "generated"
       ]
      },
      {
       "output_type": "stream",
       "stream": "stdout",
       "text": [
        " 1001\n",
        "19.056636095"
       ]
      },
      {
       "output_type": "stream",
       "stream": "stdout",
       "text": [
        " seconds for 1001 correct patches\n",
        "working on slice 30\n",
        "generated"
       ]
      },
      {
       "output_type": "stream",
       "stream": "stdout",
       "text": [
        " 1001\n",
        "18.8831219673"
       ]
      },
      {
       "output_type": "stream",
       "stream": "stdout",
       "text": [
        " seconds for 1001 correct patches\n",
        "working on slice 31\n",
        "generated"
       ]
      },
      {
       "output_type": "stream",
       "stream": "stdout",
       "text": [
        " 1001\n",
        "18.3461580276"
       ]
      },
      {
       "output_type": "stream",
       "stream": "stdout",
       "text": [
        " seconds for 1001 correct patches\n",
        "working on slice 32\n",
        "generated"
       ]
      },
      {
       "output_type": "stream",
       "stream": "stdout",
       "text": [
        " 1001\n",
        "18.3098008633"
       ]
      },
      {
       "output_type": "stream",
       "stream": "stdout",
       "text": [
        " seconds for 1001 correct patches\n",
        "working on slice 33\n",
        "generated"
       ]
      },
      {
       "output_type": "stream",
       "stream": "stdout",
       "text": [
        " 1001\n",
        "18.9068219662"
       ]
      },
      {
       "output_type": "stream",
       "stream": "stdout",
       "text": [
        " seconds for 1001 correct patches\n",
        "working on slice 34\n",
        "generated"
       ]
      },
      {
       "output_type": "stream",
       "stream": "stdout",
       "text": [
        " 1001\n",
        "18.7680828571"
       ]
      },
      {
       "output_type": "stream",
       "stream": "stdout",
       "text": [
        " seconds for 1001 correct patches\n",
        "working on slice 35\n",
        "generated"
       ]
      },
      {
       "output_type": "stream",
       "stream": "stdout",
       "text": [
        " 1001\n",
        "18.6135399342"
       ]
      },
      {
       "output_type": "stream",
       "stream": "stdout",
       "text": [
        " seconds for 1001 correct patches\n",
        "working on slice 36\n",
        "generated"
       ]
      },
      {
       "output_type": "stream",
       "stream": "stdout",
       "text": [
        " 1001\n",
        "18.6833531857"
       ]
      },
      {
       "output_type": "stream",
       "stream": "stdout",
       "text": [
        " seconds for 1001 correct patches\n",
        "working on slice 37\n",
        "generated"
       ]
      },
      {
       "output_type": "stream",
       "stream": "stdout",
       "text": [
        " 1001\n",
        "18.7689499855"
       ]
      },
      {
       "output_type": "stream",
       "stream": "stdout",
       "text": [
        " seconds for 1001 correct patches\n",
        "working on slice 38\n",
        "generated"
       ]
      },
      {
       "output_type": "stream",
       "stream": "stdout",
       "text": [
        " 1001\n",
        "18.6168651581"
       ]
      },
      {
       "output_type": "stream",
       "stream": "stdout",
       "text": [
        " seconds for 1001 correct patches\n",
        "working on slice 39\n",
        "generated"
       ]
      },
      {
       "output_type": "stream",
       "stream": "stdout",
       "text": [
        " 1001\n",
        "19.0902688503"
       ]
      },
      {
       "output_type": "stream",
       "stream": "stdout",
       "text": [
        " seconds for 1001 correct patches\n",
        "working on slice 40\n",
        "generated"
       ]
      },
      {
       "output_type": "stream",
       "stream": "stdout",
       "text": [
        " 1001\n",
        "18.5777430534"
       ]
      },
      {
       "output_type": "stream",
       "stream": "stdout",
       "text": [
        " seconds for 1001 correct patches\n",
        "working on slice 41\n",
        "generated"
       ]
      },
      {
       "output_type": "stream",
       "stream": "stdout",
       "text": [
        " 1001\n",
        "18.7437992096"
       ]
      },
      {
       "output_type": "stream",
       "stream": "stdout",
       "text": [
        " seconds for 1001 correct patches\n",
        "working on slice 42\n",
        "generated"
       ]
      },
      {
       "output_type": "stream",
       "stream": "stdout",
       "text": [
        " 1001\n",
        "18.8090920448"
       ]
      },
      {
       "output_type": "stream",
       "stream": "stdout",
       "text": [
        " seconds for 1001 correct patches\n",
        "working on slice 43\n",
        "generated"
       ]
      },
      {
       "output_type": "stream",
       "stream": "stdout",
       "text": [
        " 1001\n",
        "19.4920270443"
       ]
      },
      {
       "output_type": "stream",
       "stream": "stdout",
       "text": [
        " seconds for 1001 correct patches\n",
        "working on slice 44\n",
        "generated"
       ]
      },
      {
       "output_type": "stream",
       "stream": "stdout",
       "text": [
        " 1001\n",
        "20.1769020557"
       ]
      },
      {
       "output_type": "stream",
       "stream": "stdout",
       "text": [
        " seconds for 1001 correct patches\n",
        "working on slice 45\n",
        "generated"
       ]
      },
      {
       "output_type": "stream",
       "stream": "stdout",
       "text": [
        " 1001\n",
        "19.0420029163"
       ]
      },
      {
       "output_type": "stream",
       "stream": "stdout",
       "text": [
        " seconds for 1001 correct patches\n",
        "working on slice 46\n",
        "generated"
       ]
      },
      {
       "output_type": "stream",
       "stream": "stdout",
       "text": [
        " 1001\n",
        "19.3503949642"
       ]
      },
      {
       "output_type": "stream",
       "stream": "stdout",
       "text": [
        " seconds for 1001 correct patches\n",
        "working on slice 47\n",
        "generated"
       ]
      },
      {
       "output_type": "stream",
       "stream": "stdout",
       "text": [
        " 1001\n",
        "21.0413601398"
       ]
      },
      {
       "output_type": "stream",
       "stream": "stdout",
       "text": [
        " seconds for 1001 correct patches\n",
        "working on slice 48\n",
        "generated"
       ]
      },
      {
       "output_type": "stream",
       "stream": "stdout",
       "text": [
        " 1001\n",
        "19.7365579605"
       ]
      },
      {
       "output_type": "stream",
       "stream": "stdout",
       "text": [
        " seconds for 1001 correct patches\n",
        "working on slice 49\n",
        "generated"
       ]
      },
      {
       "output_type": "stream",
       "stream": "stdout",
       "text": [
        " 1001\n",
        "20.4487280846"
       ]
      },
      {
       "output_type": "stream",
       "stream": "stdout",
       "text": [
        " seconds for 1001 correct patches\n",
        "working on slice 50\n",
        "generated"
       ]
      },
      {
       "output_type": "stream",
       "stream": "stdout",
       "text": [
        " 1001\n",
        "20.7674770355"
       ]
      },
      {
       "output_type": "stream",
       "stream": "stdout",
       "text": [
        " seconds for 1001 correct patches\n",
        "working on slice 51\n",
        "generated"
       ]
      },
      {
       "output_type": "stream",
       "stream": "stdout",
       "text": [
        " 1001\n",
        "19.9578239918"
       ]
      },
      {
       "output_type": "stream",
       "stream": "stdout",
       "text": [
        " seconds for 1001 correct patches\n",
        "working on slice 52\n",
        "generated"
       ]
      },
      {
       "output_type": "stream",
       "stream": "stdout",
       "text": [
        " 1001\n",
        "20.050661087"
       ]
      },
      {
       "output_type": "stream",
       "stream": "stdout",
       "text": [
        " seconds for 1001 correct patches\n",
        "working on slice 53\n",
        "generated"
       ]
      },
      {
       "output_type": "stream",
       "stream": "stdout",
       "text": [
        " 1001\n",
        "19.8539009094"
       ]
      },
      {
       "output_type": "stream",
       "stream": "stdout",
       "text": [
        " seconds for 1001 correct patches\n",
        "working on slice 54\n",
        "generated"
       ]
      },
      {
       "output_type": "stream",
       "stream": "stdout",
       "text": [
        " 1001\n",
        "19.766422987"
       ]
      },
      {
       "output_type": "stream",
       "stream": "stdout",
       "text": [
        " seconds for 1001 correct patches\n",
        "working on slice 55\n",
        "generated"
       ]
      },
      {
       "output_type": "stream",
       "stream": "stdout",
       "text": [
        " 1001\n",
        "19.7857129574"
       ]
      },
      {
       "output_type": "stream",
       "stream": "stdout",
       "text": [
        " seconds for 1001 correct patches\n",
        "working on slice 56\n",
        "generated"
       ]
      },
      {
       "output_type": "stream",
       "stream": "stdout",
       "text": [
        " 1001\n",
        "19.7036931515"
       ]
      },
      {
       "output_type": "stream",
       "stream": "stdout",
       "text": [
        " seconds for 1001 correct patches\n",
        "working on slice 57\n",
        "generated"
       ]
      },
      {
       "output_type": "stream",
       "stream": "stdout",
       "text": [
        " 1001\n",
        "19.2672758102"
       ]
      },
      {
       "output_type": "stream",
       "stream": "stdout",
       "text": [
        " seconds for 1001 correct patches\n",
        "working on slice 58\n",
        "generated"
       ]
      },
      {
       "output_type": "stream",
       "stream": "stdout",
       "text": [
        " 1001\n",
        "19.6531598568"
       ]
      },
      {
       "output_type": "stream",
       "stream": "stdout",
       "text": [
        " seconds for 1001 correct patches\n",
        "working on slice 59\n",
        "generated"
       ]
      },
      {
       "output_type": "stream",
       "stream": "stdout",
       "text": [
        " 1001\n",
        "20.6184661388"
       ]
      },
      {
       "output_type": "stream",
       "stream": "stdout",
       "text": [
        " seconds for 1001 correct patches\n",
        "working on slice 60\n",
        "generated"
       ]
      },
      {
       "output_type": "stream",
       "stream": "stdout",
       "text": [
        " 1001\n",
        "20.2472589016"
       ]
      },
      {
       "output_type": "stream",
       "stream": "stdout",
       "text": [
        " seconds for 1001 correct patches\n",
        "working on slice 61\n",
        "generated"
       ]
      },
      {
       "output_type": "stream",
       "stream": "stdout",
       "text": [
        " 1001\n",
        "20.0631399155"
       ]
      },
      {
       "output_type": "stream",
       "stream": "stdout",
       "text": [
        " seconds for 1001 correct patches\n",
        "working on slice 62\n",
        "generated"
       ]
      },
      {
       "output_type": "stream",
       "stream": "stdout",
       "text": [
        " 1001\n",
        "20.9490220547"
       ]
      },
      {
       "output_type": "stream",
       "stream": "stdout",
       "text": [
        " seconds for 1001 correct patches\n",
        "working on slice 63\n",
        "generated"
       ]
      },
      {
       "output_type": "stream",
       "stream": "stdout",
       "text": [
        " 1001\n",
        "21.0842359066"
       ]
      },
      {
       "output_type": "stream",
       "stream": "stdout",
       "text": [
        " seconds for 1001 correct patches\n",
        "working on slice 64\n",
        "generated"
       ]
      },
      {
       "output_type": "stream",
       "stream": "stdout",
       "text": [
        " 1001\n",
        "20.5657908916"
       ]
      },
      {
       "output_type": "stream",
       "stream": "stdout",
       "text": [
        " seconds for 1001 correct patches\n",
        "working on slice 0\n",
        "generated"
       ]
      },
      {
       "output_type": "stream",
       "stream": "stdout",
       "text": [
        " 1001\n",
        "56.549767971"
       ]
      },
      {
       "output_type": "stream",
       "stream": "stdout",
       "text": [
        " seconds for 1001 split patches\n",
        "working on slice 1\n",
        "generated"
       ]
      },
      {
       "output_type": "stream",
       "stream": "stdout",
       "text": [
        " 1001\n",
        "60.9066832066"
       ]
      },
      {
       "output_type": "stream",
       "stream": "stdout",
       "text": [
        " seconds for 1001 split patches\n",
        "working on slice 2\n",
        "generated"
       ]
      },
      {
       "output_type": "stream",
       "stream": "stdout",
       "text": [
        " 1001\n",
        "60.8118579388"
       ]
      },
      {
       "output_type": "stream",
       "stream": "stdout",
       "text": [
        " seconds for 1001 split patches\n",
        "working on slice 3\n",
        "generated"
       ]
      },
      {
       "output_type": "stream",
       "stream": "stdout",
       "text": [
        " 1001\n",
        "59.7605340481"
       ]
      },
      {
       "output_type": "stream",
       "stream": "stdout",
       "text": [
        " seconds for 1001 split patches\n",
        "working on slice 4\n",
        "generated"
       ]
      },
      {
       "output_type": "stream",
       "stream": "stdout",
       "text": [
        " 1001\n",
        "58.2477238178"
       ]
      },
      {
       "output_type": "stream",
       "stream": "stdout",
       "text": [
        " seconds for 1001 split patches\n",
        "working on slice 5\n",
        "generated"
       ]
      },
      {
       "output_type": "stream",
       "stream": "stdout",
       "text": [
        " 1001\n",
        "61.7344880104"
       ]
      },
      {
       "output_type": "stream",
       "stream": "stdout",
       "text": [
        " seconds for 1001 split patches\n",
        "working on slice 6\n",
        "generated"
       ]
      },
      {
       "output_type": "stream",
       "stream": "stdout",
       "text": [
        " 1001\n",
        "66.4722559452"
       ]
      },
      {
       "output_type": "stream",
       "stream": "stdout",
       "text": [
        " seconds for 1001 split patches\n",
        "working on slice 7\n",
        "generated"
       ]
      },
      {
       "output_type": "stream",
       "stream": "stdout",
       "text": [
        " 1001\n",
        "63.3428521156"
       ]
      },
      {
       "output_type": "stream",
       "stream": "stdout",
       "text": [
        " seconds for 1001 split patches\n",
        "working on slice 8\n",
        "generated"
       ]
      },
      {
       "output_type": "stream",
       "stream": "stdout",
       "text": [
        " 1001\n",
        "64.5650599003"
       ]
      },
      {
       "output_type": "stream",
       "stream": "stdout",
       "text": [
        " seconds for 1001 split patches\n",
        "working on slice 9\n",
        "generated"
       ]
      },
      {
       "output_type": "stream",
       "stream": "stdout",
       "text": [
        " 1001\n",
        "60.7462921143"
       ]
      },
      {
       "output_type": "stream",
       "stream": "stdout",
       "text": [
        " seconds for 1001 split patches\n",
        "working on slice 10\n",
        "generated"
       ]
      },
      {
       "output_type": "stream",
       "stream": "stdout",
       "text": [
        " 1001\n",
        "64.4895648956"
       ]
      },
      {
       "output_type": "stream",
       "stream": "stdout",
       "text": [
        " seconds for 1001 split patches\n",
        "working on slice 11\n",
        "generated"
       ]
      },
      {
       "output_type": "stream",
       "stream": "stdout",
       "text": [
        " 1001\n",
        "67.1467468739"
       ]
      },
      {
       "output_type": "stream",
       "stream": "stdout",
       "text": [
        " seconds for 1001 split patches\n",
        "working on slice 12\n",
        "generated"
       ]
      },
      {
       "output_type": "stream",
       "stream": "stdout",
       "text": [
        " 1001\n",
        "61.2048501968"
       ]
      },
      {
       "output_type": "stream",
       "stream": "stdout",
       "text": [
        " seconds for 1001 split patches\n",
        "working on slice 13\n",
        "generated"
       ]
      },
      {
       "output_type": "stream",
       "stream": "stdout",
       "text": [
        " 1001\n",
        "60.7680199146"
       ]
      },
      {
       "output_type": "stream",
       "stream": "stdout",
       "text": [
        " seconds for 1001 split patches\n",
        "working on slice 14\n",
        "generated"
       ]
      },
      {
       "output_type": "stream",
       "stream": "stdout",
       "text": [
        " 1001\n",
        "57.2530341148"
       ]
      },
      {
       "output_type": "stream",
       "stream": "stdout",
       "text": [
        " seconds for 1001 split patches\n",
        "working on slice 15\n",
        "generated"
       ]
      },
      {
       "output_type": "stream",
       "stream": "stdout",
       "text": [
        " 1001\n",
        "56.8416860104"
       ]
      },
      {
       "output_type": "stream",
       "stream": "stdout",
       "text": [
        " seconds for 1001 split patches\n",
        "working on slice 16\n",
        "generated"
       ]
      },
      {
       "output_type": "stream",
       "stream": "stdout",
       "text": [
        " 1001\n",
        "60.8175518513"
       ]
      },
      {
       "output_type": "stream",
       "stream": "stdout",
       "text": [
        " seconds for 1001 split patches\n",
        "working on slice 17\n",
        "generated"
       ]
      },
      {
       "output_type": "stream",
       "stream": "stdout",
       "text": [
        " 1001\n",
        "57.7364099026"
       ]
      },
      {
       "output_type": "stream",
       "stream": "stdout",
       "text": [
        " seconds for 1001 split patches\n",
        "working on slice 18\n",
        "generated"
       ]
      },
      {
       "output_type": "stream",
       "stream": "stdout",
       "text": [
        " 1001\n",
        "56.4911680222"
       ]
      },
      {
       "output_type": "stream",
       "stream": "stdout",
       "text": [
        " seconds for 1001 split patches\n",
        "working on slice 19\n",
        "generated"
       ]
      },
      {
       "output_type": "stream",
       "stream": "stdout",
       "text": [
        " 1001\n",
        "59.4744939804"
       ]
      },
      {
       "output_type": "stream",
       "stream": "stdout",
       "text": [
        " seconds for 1001 split patches\n",
        "working on slice 20\n",
        "generated"
       ]
      },
      {
       "output_type": "stream",
       "stream": "stdout",
       "text": [
        " 1001\n",
        "60.605492115"
       ]
      },
      {
       "output_type": "stream",
       "stream": "stdout",
       "text": [
        " seconds for 1001 split patches\n",
        "working on slice 21\n",
        "generated"
       ]
      },
      {
       "output_type": "stream",
       "stream": "stdout",
       "text": [
        " 1001\n",
        "60.3207139969"
       ]
      },
      {
       "output_type": "stream",
       "stream": "stdout",
       "text": [
        " seconds for 1001 split patches\n",
        "working on slice 22\n",
        "generated"
       ]
      },
      {
       "output_type": "stream",
       "stream": "stdout",
       "text": [
        " 1001\n",
        "64.6196639538"
       ]
      },
      {
       "output_type": "stream",
       "stream": "stdout",
       "text": [
        " seconds for 1001 split patches\n",
        "working on slice 23\n",
        "generated"
       ]
      },
      {
       "output_type": "stream",
       "stream": "stdout",
       "text": [
        " 1001\n",
        "58.6958580017"
       ]
      },
      {
       "output_type": "stream",
       "stream": "stdout",
       "text": [
        " seconds for 1001 split patches\n",
        "working on slice 24\n",
        "generated"
       ]
      },
      {
       "output_type": "stream",
       "stream": "stdout",
       "text": [
        " 1001\n",
        "58.9457700253"
       ]
      },
      {
       "output_type": "stream",
       "stream": "stdout",
       "text": [
        " seconds for 1001 split patches\n",
        "working on slice 25\n",
        "generated"
       ]
      },
      {
       "output_type": "stream",
       "stream": "stdout",
       "text": [
        " 994\n",
        "extended to 1988\n",
        "60.1009690762"
       ]
      },
      {
       "output_type": "stream",
       "stream": "stdout",
       "text": [
        " seconds for 1001 split patches\n",
        "working on slice 26\n",
        "generated"
       ]
      },
      {
       "output_type": "stream",
       "stream": "stdout",
       "text": [
        " 1001\n",
        "61.6456329823"
       ]
      },
      {
       "output_type": "stream",
       "stream": "stdout",
       "text": [
        " seconds for 1001 split patches\n",
        "working on slice 27\n",
        "generated"
       ]
      },
      {
       "output_type": "stream",
       "stream": "stdout",
       "text": [
        " 936\n",
        "extended to 1872\n",
        "57.9576869011"
       ]
      },
      {
       "output_type": "stream",
       "stream": "stdout",
       "text": [
        " seconds for 1001 split patches\n",
        "working on slice 28\n",
        "generated"
       ]
      },
      {
       "output_type": "stream",
       "stream": "stdout",
       "text": [
        " 988\n",
        "extended to 1976\n",
        "59.3333849907"
       ]
      },
      {
       "output_type": "stream",
       "stream": "stdout",
       "text": [
        " seconds for 1001 split patches\n",
        "working on slice 29\n",
        "generated"
       ]
      },
      {
       "output_type": "stream",
       "stream": "stdout",
       "text": [
        " 1001\n",
        "61.9551091194"
       ]
      },
      {
       "output_type": "stream",
       "stream": "stdout",
       "text": [
        " seconds for 1001 split patches\n",
        "working on slice 30\n",
        "generated"
       ]
      },
      {
       "output_type": "stream",
       "stream": "stdout",
       "text": [
        " 1001\n",
        "56.9368801117"
       ]
      },
      {
       "output_type": "stream",
       "stream": "stdout",
       "text": [
        " seconds for 1001 split patches\n",
        "working on slice 31\n",
        "generated"
       ]
      },
      {
       "output_type": "stream",
       "stream": "stdout",
       "text": [
        " 1000\n",
        "extended to 2000\n",
        "59.7667689323"
       ]
      },
      {
       "output_type": "stream",
       "stream": "stdout",
       "text": [
        " seconds for 1001 split patches\n",
        "working on slice 32\n",
        "generated"
       ]
      },
      {
       "output_type": "stream",
       "stream": "stdout",
       "text": [
        " 1001\n",
        "57.9003260136"
       ]
      },
      {
       "output_type": "stream",
       "stream": "stdout",
       "text": [
        " seconds for 1001 split patches\n",
        "working on slice 33\n",
        "generated"
       ]
      },
      {
       "output_type": "stream",
       "stream": "stdout",
       "text": [
        " 1001\n",
        "58.5215919018"
       ]
      },
      {
       "output_type": "stream",
       "stream": "stdout",
       "text": [
        " seconds for 1001 split patches\n",
        "working on slice 34\n",
        "generated"
       ]
      },
      {
       "output_type": "stream",
       "stream": "stdout",
       "text": [
        " 1001\n",
        "56.0789361"
       ]
      },
      {
       "output_type": "stream",
       "stream": "stdout",
       "text": [
        " seconds for 1001 split patches\n",
        "working on slice 35\n",
        "generated"
       ]
      },
      {
       "output_type": "stream",
       "stream": "stdout",
       "text": [
        " 1001\n",
        "55.8249759674"
       ]
      },
      {
       "output_type": "stream",
       "stream": "stdout",
       "text": [
        " seconds for 1001 split patches\n",
        "working on slice 36\n",
        "generated"
       ]
      },
      {
       "output_type": "stream",
       "stream": "stdout",
       "text": [
        " 1001\n",
        "58.6176290512"
       ]
      },
      {
       "output_type": "stream",
       "stream": "stdout",
       "text": [
        " seconds for 1001 split patches\n",
        "working on slice 37\n",
        "generated"
       ]
      },
      {
       "output_type": "stream",
       "stream": "stdout",
       "text": [
        " 1001\n",
        "56.3243420124"
       ]
      },
      {
       "output_type": "stream",
       "stream": "stdout",
       "text": [
        " seconds for 1001 split patches\n",
        "working on slice 38\n",
        "generated"
       ]
      },
      {
       "output_type": "stream",
       "stream": "stdout",
       "text": [
        " 1001\n",
        "56.8649289608"
       ]
      },
      {
       "output_type": "stream",
       "stream": "stdout",
       "text": [
        " seconds for 1001 split patches\n",
        "working on slice 39\n",
        "generated"
       ]
      },
      {
       "output_type": "stream",
       "stream": "stdout",
       "text": [
        " 1001\n",
        "57.3356130123"
       ]
      },
      {
       "output_type": "stream",
       "stream": "stdout",
       "text": [
        " seconds for 1001 split patches\n",
        "working on slice 40\n",
        "generated"
       ]
      },
      {
       "output_type": "stream",
       "stream": "stdout",
       "text": [
        " 996\n",
        "extended to 1992\n",
        "61.4905478954"
       ]
      },
      {
       "output_type": "stream",
       "stream": "stdout",
       "text": [
        " seconds for 1001 split patches\n",
        "working on slice 41\n",
        "generated"
       ]
      },
      {
       "output_type": "stream",
       "stream": "stdout",
       "text": [
        " 1001\n",
        "60.0117139816"
       ]
      },
      {
       "output_type": "stream",
       "stream": "stdout",
       "text": [
        " seconds for 1001 split patches\n",
        "working on slice 42\n",
        "generated"
       ]
      },
      {
       "output_type": "stream",
       "stream": "stdout",
       "text": [
        " 1001\n",
        "55.8575479984"
       ]
      },
      {
       "output_type": "stream",
       "stream": "stdout",
       "text": [
        " seconds for 1001 split patches\n",
        "working on slice 43\n",
        "generated"
       ]
      },
      {
       "output_type": "stream",
       "stream": "stdout",
       "text": [
        " 1001\n",
        "57.7943329811"
       ]
      },
      {
       "output_type": "stream",
       "stream": "stdout",
       "text": [
        " seconds for 1001 split patches\n",
        "working on slice 44\n",
        "generated"
       ]
      },
      {
       "output_type": "stream",
       "stream": "stdout",
       "text": [
        " 1001\n",
        "59.0809059143"
       ]
      },
      {
       "output_type": "stream",
       "stream": "stdout",
       "text": [
        " seconds for 1001 split patches\n",
        "working on slice 45\n",
        "generated"
       ]
      },
      {
       "output_type": "stream",
       "stream": "stdout",
       "text": [
        " 1001\n",
        "57.3891558647"
       ]
      },
      {
       "output_type": "stream",
       "stream": "stdout",
       "text": [
        " seconds for 1001 split patches\n",
        "working on slice 46\n",
        "generated"
       ]
      },
      {
       "output_type": "stream",
       "stream": "stdout",
       "text": [
        " 1001\n",
        "56.2662370205"
       ]
      },
      {
       "output_type": "stream",
       "stream": "stdout",
       "text": [
        " seconds for 1001 split patches\n",
        "working on slice 47\n",
        "generated"
       ]
      },
      {
       "output_type": "stream",
       "stream": "stdout",
       "text": [
        " 1001\n",
        "54.4654150009"
       ]
      },
      {
       "output_type": "stream",
       "stream": "stdout",
       "text": [
        " seconds for 1001 split patches\n",
        "working on slice 48\n",
        "generated"
       ]
      },
      {
       "output_type": "stream",
       "stream": "stdout",
       "text": [
        " 1001\n",
        "58.0789859295"
       ]
      },
      {
       "output_type": "stream",
       "stream": "stdout",
       "text": [
        " seconds for 1001 split patches\n",
        "working on slice 49\n",
        "generated"
       ]
      },
      {
       "output_type": "stream",
       "stream": "stdout",
       "text": [
        " 1001\n",
        "56.9277379513"
       ]
      },
      {
       "output_type": "stream",
       "stream": "stdout",
       "text": [
        " seconds for 1001 split patches\n",
        "working on slice 50\n",
        "generated"
       ]
      },
      {
       "output_type": "stream",
       "stream": "stdout",
       "text": [
        " 1001\n",
        "59.4376151562"
       ]
      },
      {
       "output_type": "stream",
       "stream": "stdout",
       "text": [
        " seconds for 1001 split patches\n",
        "working on slice 51\n",
        "generated"
       ]
      },
      {
       "output_type": "stream",
       "stream": "stdout",
       "text": [
        " 1001\n",
        "54.9208660126"
       ]
      },
      {
       "output_type": "stream",
       "stream": "stdout",
       "text": [
        " seconds for 1001 split patches\n",
        "working on slice 52\n",
        "generated"
       ]
      },
      {
       "output_type": "stream",
       "stream": "stdout",
       "text": [
        " 1001\n",
        "56.2559599876"
       ]
      },
      {
       "output_type": "stream",
       "stream": "stdout",
       "text": [
        " seconds for 1001 split patches\n",
        "working on slice 53\n",
        "generated"
       ]
      },
      {
       "output_type": "stream",
       "stream": "stdout",
       "text": [
        " 1001\n",
        "51.8546779156"
       ]
      },
      {
       "output_type": "stream",
       "stream": "stdout",
       "text": [
        " seconds for 1001 split patches\n",
        "working on slice 54\n",
        "generated"
       ]
      },
      {
       "output_type": "stream",
       "stream": "stdout",
       "text": [
        " 1001\n",
        "57.3772888184"
       ]
      },
      {
       "output_type": "stream",
       "stream": "stdout",
       "text": [
        " seconds for 1001 split patches\n",
        "working on slice 55\n",
        "generated"
       ]
      },
      {
       "output_type": "stream",
       "stream": "stdout",
       "text": [
        " 1001\n",
        "52.3474969864"
       ]
      },
      {
       "output_type": "stream",
       "stream": "stdout",
       "text": [
        " seconds for 1001 split patches\n",
        "working on slice 56\n",
        "generated"
       ]
      },
      {
       "output_type": "stream",
       "stream": "stdout",
       "text": [
        " 1001\n",
        "54.2744910717"
       ]
      },
      {
       "output_type": "stream",
       "stream": "stdout",
       "text": [
        " seconds for 1001 split patches\n",
        "working on slice 57\n",
        "generated"
       ]
      },
      {
       "output_type": "stream",
       "stream": "stdout",
       "text": [
        " 1001\n",
        "53.0259790421"
       ]
      },
      {
       "output_type": "stream",
       "stream": "stdout",
       "text": [
        " seconds for 1001 split patches\n",
        "working on slice 58\n",
        "generated"
       ]
      },
      {
       "output_type": "stream",
       "stream": "stdout",
       "text": [
        " 1001\n",
        "56.8006911278"
       ]
      },
      {
       "output_type": "stream",
       "stream": "stdout",
       "text": [
        " seconds for 1001 split patches\n",
        "working on slice 59\n",
        "generated"
       ]
      },
      {
       "output_type": "stream",
       "stream": "stdout",
       "text": [
        " 1001\n",
        "57.7465260029"
       ]
      },
      {
       "output_type": "stream",
       "stream": "stdout",
       "text": [
        " seconds for 1001 split patches\n",
        "working on slice 60\n",
        "generated"
       ]
      },
      {
       "output_type": "stream",
       "stream": "stdout",
       "text": [
        " 1001\n",
        "52.5156228542"
       ]
      },
      {
       "output_type": "stream",
       "stream": "stdout",
       "text": [
        " seconds for 1001 split patches\n",
        "working on slice 61\n",
        "generated"
       ]
      },
      {
       "output_type": "stream",
       "stream": "stdout",
       "text": [
        " 1001\n",
        "54.4393129349"
       ]
      },
      {
       "output_type": "stream",
       "stream": "stdout",
       "text": [
        " seconds for 1001 split patches\n",
        "working on slice 62\n",
        "generated"
       ]
      },
      {
       "output_type": "stream",
       "stream": "stdout",
       "text": [
        " 1001\n",
        "55.9774138927"
       ]
      },
      {
       "output_type": "stream",
       "stream": "stdout",
       "text": [
        " seconds for 1001 split patches\n",
        "working on slice 63\n",
        "generated"
       ]
      },
      {
       "output_type": "stream",
       "stream": "stdout",
       "text": [
        " 1001\n",
        "54.9526641369"
       ]
      },
      {
       "output_type": "stream",
       "stream": "stdout",
       "text": [
        " seconds for 1001 split patches\n",
        "working on slice 64\n",
        "generated"
       ]
      },
      {
       "output_type": "stream",
       "stream": "stdout",
       "text": [
        " 1001\n",
        "55.9779808521"
       ]
      },
      {
       "output_type": "stream",
       "stream": "stdout",
       "text": [
        " seconds for 1001 split patches\n",
        "saving.."
       ]
      },
      {
       "output_type": "stream",
       "stream": "stdout",
       "text": [
        "\n",
        "Done!"
       ]
      },
      {
       "output_type": "stream",
       "stream": "stdout",
       "text": [
        "\n",
        "working on slice"
       ]
      },
      {
       "output_type": "stream",
       "stream": "stdout",
       "text": [
        " 65\n",
        "generated"
       ]
      },
      {
       "output_type": "stream",
       "stream": "stdout",
       "text": [
        " 2001\n",
        "37.3806769848"
       ]
      },
      {
       "output_type": "stream",
       "stream": "stdout",
       "text": [
        " seconds for 2001 correct patches\n",
        "working on slice 66\n",
        "generated"
       ]
      },
      {
       "output_type": "stream",
       "stream": "stdout",
       "text": [
        " 2001\n",
        "37.1618142128"
       ]
      },
      {
       "output_type": "stream",
       "stream": "stdout",
       "text": [
        " seconds for 2001 correct patches\n",
        "working on slice 67\n",
        "generated"
       ]
      },
      {
       "output_type": "stream",
       "stream": "stdout",
       "text": [
        " 2001\n",
        "37.3562150002"
       ]
      },
      {
       "output_type": "stream",
       "stream": "stdout",
       "text": [
        " seconds for 2001 correct patches\n",
        "working on slice 68\n",
        "generated"
       ]
      },
      {
       "output_type": "stream",
       "stream": "stdout",
       "text": [
        " 2001\n",
        "37.2903258801"
       ]
      },
      {
       "output_type": "stream",
       "stream": "stdout",
       "text": [
        " seconds for 2001 correct patches\n",
        "working on slice 69\n",
        "generated"
       ]
      },
      {
       "output_type": "stream",
       "stream": "stdout",
       "text": [
        " 2001\n",
        "37.7082750797"
       ]
      },
      {
       "output_type": "stream",
       "stream": "stdout",
       "text": [
        " seconds for 2001 correct patches\n",
        "working on slice"
       ]
      },
      {
       "output_type": "stream",
       "stream": "stdout",
       "text": [
        " 65\n",
        "generated"
       ]
      },
      {
       "output_type": "stream",
       "stream": "stdout",
       "text": [
        " 1082\n",
        "extended to 2164\n",
        "62.8438200951"
       ]
      },
      {
       "output_type": "stream",
       "stream": "stdout",
       "text": [
        " seconds for 2001 split patches\n",
        "working on slice 66\n",
        "generated"
       ]
      },
      {
       "output_type": "stream",
       "stream": "stdout",
       "text": [
        " 1146\n",
        "extended to 2292\n",
        "64.591342926"
       ]
      },
      {
       "output_type": "stream",
       "stream": "stdout",
       "text": [
        " seconds for 2001 split patches\n",
        "working on slice 67\n",
        "generated"
       ]
      },
      {
       "output_type": "stream",
       "stream": "stdout",
       "text": [
        " 1044\n",
        "extended to 2088\n",
        "62.2338118553"
       ]
      },
      {
       "output_type": "stream",
       "stream": "stdout",
       "text": [
        " seconds for 2001 split patches\n",
        "working on slice 68\n",
        "generated"
       ]
      },
      {
       "output_type": "stream",
       "stream": "stdout",
       "text": [
        " 1060\n",
        "extended to 2120\n",
        "63.4050679207"
       ]
      },
      {
       "output_type": "stream",
       "stream": "stdout",
       "text": [
        " seconds for 2001 split patches\n",
        "working on slice 69\n",
        "generated"
       ]
      },
      {
       "output_type": "stream",
       "stream": "stdout",
       "text": [
        " 1064\n",
        "extended to 2128\n",
        "64.90011096"
       ]
      },
      {
       "output_type": "stream",
       "stream": "stdout",
       "text": [
        " seconds for 2001 split patches\n",
        "saving.."
       ]
      },
      {
       "output_type": "stream",
       "stream": "stdout",
       "text": [
        "\n",
        "Done!"
       ]
      },
      {
       "output_type": "stream",
       "stream": "stdout",
       "text": [
        "\n",
        "working on slice"
       ]
      },
      {
       "output_type": "stream",
       "stream": "stdout",
       "text": [
        " 70\n",
        "generated"
       ]
      },
      {
       "output_type": "stream",
       "stream": "stdout",
       "text": [
        " 2001\n",
        "38.1733510494"
       ]
      },
      {
       "output_type": "stream",
       "stream": "stdout",
       "text": [
        " seconds for 2001 correct patches\n",
        "working on slice 71\n",
        "generated"
       ]
      },
      {
       "output_type": "stream",
       "stream": "stdout",
       "text": [
        " 2001\n",
        "38.1380770206"
       ]
      },
      {
       "output_type": "stream",
       "stream": "stdout",
       "text": [
        " seconds for 2001 correct patches\n",
        "working on slice 72\n",
        "generated"
       ]
      },
      {
       "output_type": "stream",
       "stream": "stdout",
       "text": [
        " 2001\n",
        "37.3090860844"
       ]
      },
      {
       "output_type": "stream",
       "stream": "stdout",
       "text": [
        " seconds for 2001 correct patches\n",
        "working on slice 73\n",
        "generated"
       ]
      },
      {
       "output_type": "stream",
       "stream": "stdout",
       "text": [
        " 2001\n",
        "37.198007822"
       ]
      },
      {
       "output_type": "stream",
       "stream": "stdout",
       "text": [
        " seconds for 2001 correct patches\n",
        "working on slice 74\n",
        "generated"
       ]
      },
      {
       "output_type": "stream",
       "stream": "stdout",
       "text": [
        " 2001\n",
        "36.850301981"
       ]
      },
      {
       "output_type": "stream",
       "stream": "stdout",
       "text": [
        " seconds for 2001 correct patches\n",
        "working on slice"
       ]
      },
      {
       "output_type": "stream",
       "stream": "stdout",
       "text": [
        " 70\n",
        "generated"
       ]
      },
      {
       "output_type": "stream",
       "stream": "stdout",
       "text": [
        " 1064\n",
        "extended to 2128\n",
        "63.8016190529"
       ]
      },
      {
       "output_type": "stream",
       "stream": "stdout",
       "text": [
        " seconds for 2001 split patches\n",
        "working on slice 71\n",
        "generated"
       ]
      },
      {
       "output_type": "stream",
       "stream": "stdout",
       "text": [
        " 1078\n",
        "extended to 2156\n",
        "65.5914628506"
       ]
      },
      {
       "output_type": "stream",
       "stream": "stdout",
       "text": [
        " seconds for 2001 split patches\n",
        "working on slice 72\n",
        "generated"
       ]
      },
      {
       "output_type": "stream",
       "stream": "stdout",
       "text": [
        " 1068\n",
        "extended to 2136\n",
        "66.0065770149"
       ]
      },
      {
       "output_type": "stream",
       "stream": "stdout",
       "text": [
        " seconds for 2001 split patches\n",
        "working on slice 73\n",
        "generated"
       ]
      },
      {
       "output_type": "stream",
       "stream": "stdout",
       "text": [
        " 1122\n",
        "extended to 2244\n",
        "68.5985031128"
       ]
      },
      {
       "output_type": "stream",
       "stream": "stdout",
       "text": [
        " seconds for 2001 split patches\n",
        "working on slice 74\n",
        "generated"
       ]
      },
      {
       "output_type": "stream",
       "stream": "stdout",
       "text": [
        " 1150\n",
        "extended to 2300\n",
        "70.3189971447"
       ]
      },
      {
       "output_type": "stream",
       "stream": "stdout",
       "text": [
        " seconds for 2001 split patches\n",
        "saving.."
       ]
      },
      {
       "output_type": "stream",
       "stream": "stdout",
       "text": [
        "\n",
        "Done!"
       ]
      },
      {
       "output_type": "stream",
       "stream": "stdout",
       "text": [
        "\n"
       ]
      }
     ],
     "prompt_number": 247
    },
    {
     "cell_type": "code",
     "collapsed": false,
     "input": [
      "aaa = np.load(PATCH_PATH+'train.npz')\n",
      "bbb = np.load(PATCH_PATH+'train_targets.npz')"
     ],
     "language": "python",
     "metadata": {},
     "outputs": [],
     "prompt_number": 248
    },
    {
     "cell_type": "code",
     "collapsed": false,
     "input": [
      "len(aaa['image'])"
     ],
     "language": "python",
     "metadata": {},
     "outputs": [
      {
       "metadata": {},
       "output_type": "pyout",
       "prompt_number": 249,
       "text": [
        "130000"
       ]
      }
     ],
     "prompt_number": 249
    },
    {
     "cell_type": "code",
     "collapsed": false,
     "input": [
      "bbb['targets'][55555]"
     ],
     "language": "python",
     "metadata": {},
     "outputs": [
      {
       "metadata": {},
       "output_type": "pyout",
       "prompt_number": 255,
       "text": [
        "0.0"
       ]
      }
     ],
     "prompt_number": 255
    },
    {
     "cell_type": "code",
     "collapsed": false,
     "input": [
      "imshow(aaa['merged_array'][55555].reshape(75,75), cmap='gray')"
     ],
     "language": "python",
     "metadata": {},
     "outputs": [
      {
       "metadata": {},
       "output_type": "pyout",
       "prompt_number": 258,
       "text": [
        "<matplotlib.image.AxesImage at 0x11114f790>"
       ]
      },
      {
       "metadata": {},
       "output_type": "display_data",
       "png": "[encoded data removed]",
       "text": [
        "<matplotlib.figure.Figure at 0x11a132b10>"
       ]
      }
     ],
     "prompt_number": 258
    },
    {
     "cell_type": "code",
     "collapsed": false,
     "input": [
      "aaa['image'][55555].max()"
     ],
     "language": "python",
     "metadata": {},
     "outputs": [
      {
       "metadata": {},
       "output_type": "pyout",
       "prompt_number": 243,
       "text": [
        "0"
       ]
      }
     ],
     "prompt_number": 243
    },
    {
     "cell_type": "code",
     "collapsed": false,
     "input": [
      "imshow(aaa['merged_array'][1001].reshape(75,75), cmap='gray')"
     ],
     "language": "python",
     "metadata": {},
     "outputs": [
      {
       "metadata": {},
       "output_type": "pyout",
       "prompt_number": 39,
       "text": [
        "<matplotlib.image.AxesImage at 0x1173f0f10>"
       ]
      },
      {
       "metadata": {},
       "output_type": "display_data",
       "png": "[encoded data removed]",
       "text": [
        "<matplotlib.figure.Figure at 0x105f08790>"
       ]
      }
     ],
     "prompt_number": 39
    },
    {
     "cell_type": "code",
     "collapsed": false,
     "input": [
      "bbb['targets'][1001]"
     ],
     "language": "python",
     "metadata": {},
     "outputs": [
      {
       "metadata": {},
       "output_type": "pyout",
       "prompt_number": 37,
       "text": [
        "1.0"
       ]
      }
     ],
     "prompt_number": 37
    },
    {
     "cell_type": "code",
     "collapsed": false,
     "input": [],
     "language": "python",
     "metadata": {},
     "outputs": []
    }
   ],
   "metadata": {}
  }
 ]
}