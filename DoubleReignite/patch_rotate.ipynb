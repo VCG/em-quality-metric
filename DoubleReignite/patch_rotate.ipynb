{
 "metadata": {
  "name": "",
  "signature": "sha256:4d50ebaeaef0593190daad309be81eb11c88a590a81ca444c5e9f8dc3e2d821f"
 },
 "nbformat": 3,
 "nbformat_minor": 0,
 "worksheets": [
  {
   "cells": [
    {
     "cell_type": "code",
     "collapsed": false,
     "input": [
      "%load_ext autoreload\n",
      "%autoreload 2\n",
      "\n",
      "import os\n",
      "import numpy as np\n",
      "import time\n",
      "\n",
      "from patch import Patch\n",
      "from uglify import Uglify\n",
      "from util import Util\n",
      "from generator import Generator\n",
      "\n",
      "from matplotlib.pyplot import imshow\n",
      "import matplotlib.pyplot as plt\n",
      "%matplotlib inline"
     ],
     "language": "python",
     "metadata": {},
     "outputs": [],
     "prompt_number": 1
    },
    {
     "cell_type": "code",
     "collapsed": false,
     "input": [
      "\n",
      "DATA_PATH = '/Volumes/DATA1/EMQM_DATA/ac3x75/'\n",
      "GOLD_PATH = os.path.join(DATA_PATH,'gold/')\n",
      "IMAGE_PATH = os.path.join(DATA_PATH,'input/')\n",
      "PROB_PATH = os.path.join(DATA_PATH,'prob/')\n",
      "PATCH_PATH = os.path.join(DATA_PATH,'patches_4th/')\n",
      "\n"
     ],
     "language": "python",
     "metadata": {},
     "outputs": [],
     "prompt_number": 50
    },
    {
     "cell_type": "code",
     "collapsed": false,
     "input": [
      "training = np.load(PATCH_PATH+'train.npz')\n",
      "targets = np.load(PATCH_PATH+'train_targets.npz')"
     ],
     "language": "python",
     "metadata": {},
     "outputs": [],
     "prompt_number": 68
    },
    {
     "cell_type": "code",
     "collapsed": false,
     "input": [
      "len(training['image'])"
     ],
     "language": "python",
     "metadata": {},
     "outputs": [
      {
       "metadata": {},
       "output_type": "pyout",
       "prompt_number": 52,
       "text": [
        "130000"
       ]
      }
     ],
     "prompt_number": 52
    },
    {
     "cell_type": "code",
     "collapsed": false,
     "input": [
      "training = {\n",
      "    'image': training['image'].reshape(-1, 1, 75, 75),\n",
      "    'prob': training['prob'].reshape(-1, 1, 75, 75),\n",
      "    'binary': training['binary'].astype(np.uint8).reshape(-1, 1, 75, 75)*255,\n",
      "    'merged_array': training['merged_array'].astype(np.uint8).reshape(-1, 1, 75, 75)*255,\n",
      "    'dyn_obj': training['dyn_obj'].astype(np.uint8).reshape(-1, 1, 75, 75)*255,\n",
      "    'dyn_bnd': training['dyn_bnd'].astype(np.uint8).reshape(-1, 1, 75, 75)*255,\n",
      "    'border_overlap': training['border_overlap'].astype(np.uint8).reshape(-1, 1, 75, 75)*255,\n",
      "    'larger_border_overlap': training['larger_border_overlaps'].astype(np.uint8).reshape(-1, 1, 75, 75)*255\n",
      "}"
     ],
     "language": "python",
     "metadata": {},
     "outputs": [],
     "prompt_number": 69
    },
    {
     "cell_type": "code",
     "collapsed": false,
     "input": [
      "from sys import getsizeof\n",
      "getsizeof(training)"
     ],
     "language": "python",
     "metadata": {},
     "outputs": [
      {
       "metadata": {},
       "output_type": "pyout",
       "prompt_number": 58,
       "text": [
        "664"
       ]
      }
     ],
     "prompt_number": 58
    },
    {
     "cell_type": "code",
     "collapsed": false,
     "input": [
      "training_rotated['binary'].nbytes*8"
     ],
     "language": "python",
     "metadata": {},
     "outputs": [
      {
       "metadata": {},
       "output_type": "pyout",
       "prompt_number": 64,
       "text": [
        "5850000000"
       ]
      }
     ],
     "prompt_number": 64
    },
    {
     "cell_type": "code",
     "collapsed": false,
     "input": [
      "imshow(training['binary'][1500][0])"
     ],
     "language": "python",
     "metadata": {},
     "outputs": [
      {
       "metadata": {},
       "output_type": "pyout",
       "prompt_number": 70,
       "text": [
        "<matplotlib.image.AxesImage at 0x18d4dad90>"
       ]
      },
      {
       "metadata": {},
       "output_type": "display_data",
       "png": "[encoded data removed]",
       "text": [
        "<matplotlib.figure.Figure at 0x1a1a0e8d0>"
       ]
      }
     ],
     "prompt_number": 70
    },
    {
     "cell_type": "code",
     "collapsed": false,
     "input": [
      "import scipy.misc\n",
      "import time\n",
      "\n",
      "t0 = time.time()\n",
      "\n",
      "training_rotated = {}\n",
      "degrees = 90\n",
      "k=3\n",
      "for key in training.keys():\n",
      "    patches = training[key]\n",
      "    training_rotated[key] = np.array(patches)\n",
      "    for i,p in enumerate(patches):\n",
      "        array = p[0]\n",
      "        rotated_array = np.rot90(array, k)\n",
      "        training_rotated[key][i] = rotated_array\n",
      "\n",
      "print time.time()-t0\n",
      "        "
     ],
     "language": "python",
     "metadata": {},
     "outputs": [
      {
       "output_type": "stream",
       "stream": "stdout",
       "text": [
        "21.6151061058\n"
       ]
      }
     ],
     "prompt_number": 73
    },
    {
     "cell_type": "code",
     "collapsed": false,
     "input": [
      "t0 = time.time()\n",
      "\n",
      "training_rotated = {}\n",
      "k = 1\n",
      "for key in training.keys():\n",
      "    patches = training[key]\n",
      "#     training_rotated[key] = np.array(patches)\n",
      "    for i,p in enumerate(patches):\n",
      "        array = p[0]\n",
      "        rotated_array = scipy.misc.imrotate(array, degrees, interp='nearest')\n",
      "        training[key][i] = rotated_array\n",
      "\n",
      "print time.time()-t0"
     ],
     "language": "python",
     "metadata": {},
     "outputs": [
      {
       "output_type": "stream",
       "stream": "stdout",
       "text": [
        "15.3512239456\n"
       ]
      }
     ],
     "prompt_number": 43
    },
    {
     "cell_type": "code",
     "collapsed": false,
     "input": [
      "imshow(training_rotated['binary'][1500][0])"
     ],
     "language": "python",
     "metadata": {},
     "outputs": [
      {
       "metadata": {},
       "output_type": "pyout",
       "prompt_number": 74,
       "text": [
        "<matplotlib.image.AxesImage at 0x18d61a9d0>"
       ]
      },
      {
       "metadata": {},
       "output_type": "display_data",
       "png": "[encoded data removed]",
       "text": [
        "<matplotlib.figure.Figure at 0x18d5493d0>"
       ]
      }
     ],
     "prompt_number": 74
    },
    {
     "cell_type": "code",
     "collapsed": false,
     "input": [
      "training_rotated['image'].shape"
     ],
     "language": "python",
     "metadata": {},
     "outputs": [
      {
       "metadata": {},
       "output_type": "pyout",
       "prompt_number": 31,
       "text": [
        "(20000, 1, 75, 75)"
       ]
      }
     ],
     "prompt_number": 31
    },
    {
     "cell_type": "code",
     "collapsed": false,
     "input": [
      "range(1,4)"
     ],
     "language": "python",
     "metadata": {},
     "outputs": [
      {
       "metadata": {},
       "output_type": "pyout",
       "prompt_number": 76,
       "text": [
        "[1, 2, 3]"
       ]
      }
     ],
     "prompt_number": 76
    },
    {
     "cell_type": "code",
     "collapsed": false,
     "input": [],
     "language": "python",
     "metadata": {},
     "outputs": []
    }
   ],
   "metadata": {}
  }
 ]
}