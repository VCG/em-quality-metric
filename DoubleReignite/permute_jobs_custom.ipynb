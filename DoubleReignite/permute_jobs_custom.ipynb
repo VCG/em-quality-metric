{
 "metadata": {
  "name": "",
  "signature": "sha256:49a31e89bccddef26f6b7417800ebf8554ec7a4e7e8c0a4ddba5d75d5ad06ff4"
 },
 "nbformat": 3,
 "nbformat_minor": 0,
 "worksheets": [
  {
   "cells": [
    {
     "cell_type": "code",
     "collapsed": false,
     "input": [
      "#\n",
      "# LAUNCH THE JOBS WITH:\n",
      "# for f in *.slurm; do sbatch $f; done\n",
      "#\n",
      "\n",
      "import os\n",
      "import sys\n",
      "from string import Template\n",
      "import uuid"
     ],
     "language": "python",
     "metadata": {},
     "outputs": [],
     "prompt_number": 4
    },
    {
     "cell_type": "code",
     "collapsed": false,
     "input": [
      "PATCH_PATH = 'patches_7th'\n"
     ],
     "language": "python",
     "metadata": {},
     "outputs": [],
     "prompt_number": 5
    },
    {
     "cell_type": "code",
     "collapsed": false,
     "input": [
      "OUTPUT_PATH = 'custom_slurm/'+PATCH_PATH+'/'\n",
      "\n",
      "if not os.path.exists(OUTPUT_PATH):\n",
      "    os.makedirs(OUTPUT_PATH)\n",
      "\n",
      "slurm_header = \"\"\"#!/bin/bash\n",
      "#\n",
      "# add all other SBATCH directives here...\n",
      "#\n",
      "#SBATCH -p holyseasgpu\n",
      "#SBATCH --gres=gpu\n",
      "#SBATCH -n 1 # Number of cores\n",
      "#SBATCH -N 1 # Ensure that all cores are on one machine\n",
      "#SBATCH --gres=gpu\n",
      "#SBATCH --mem=24000\n",
      "#SBATCH -t 7-12:00\n",
      "#SBATCH --mail-type=ALL\n",
      "#SBATCH --mail-user=haehn@seas.harvard.edu\n",
      "#SBATCH -o /n/home05/haehn/slurm/out-$uuid.txt\n",
      "#SBATCH -e /n/home05/haehn/slurm/err-$uuid.txt\n",
      "\n",
      "# add additional commands needed for Lmod and module loads here\n",
      "source new-modules.sh\n",
      "#module load gcc/4.8.2-fasrc01 python/2.7.9-fasrc01\n",
      "module load Anaconda/2.1.0-fasrc01\n",
      "#module load cuda/7.5-fasrc01\n",
      "export CUDA_HOME=/usr/local/cuda-7.0\n",
      "export CUDA_LIB=/usr/local/cuda-7.0/lib64\n",
      "export CUDA_INCLUDE=/usr/local/cuda-7.0/include\n",
      "export PATH=/usr/local/cuda-7.0/bin:$PATH\n",
      "export CPATH=/usr/local/cuda-7.0/include:$CPATH\n",
      "export FPATH=/usr/local/cuda-7.0/include:$FPATH\n",
      "export LD_LIBRARY_PATH=/usr/local/cuda-7.0/lib:$LD_LIBRARY_PATH\n",
      "export LIBRARY_PATH=/usr/local/cuda-7.0/lib:$LIBRARY_PATH\n",
      "export LD_LIBRARY_PATH=/usr/local/cuda-7.0/lib64:$LD_LIBRARY_PATH\n",
      "export LIBRARY_PATH=/usr/local/cuda-7.0/lib64:$LIBRARY_PATH\n",
      "\n",
      "\"\"\"\n",
      "\n",
      "slurm_body = Template(\"\"\"\n",
      "# add commands for analyses here\n",
      "cd /n/home05/haehn/Projects/em-quality-metric/Reignite/\n",
      "python train_viren.py -r cluster --patchpath $patchpath --epochs $epochs --patchsize $patchsize --batchsize $batchsize --learning_rate $learning_rate --momentum $momentum --filters1 $no_filters --filters2 $no_filters --filters3 $no_filters --filtersize1 $filter_size --filtersize2 $filter_size --filtersize3 $filter_size --thirdconvlayer $thirdconvlayer --inputs $inputs --uuid $uuid\n",
      "\n",
      "# end of program\n",
      "exit 0;\n",
      "\"\"\")\n",
      "\n",
      "\n",
      "epochs = [500]\n",
      "batchsize = [100]#,1000]#,5000]#[100, 500, 1000]\n",
      "learning_rate = [0.00001]#, 0.01]#[0.000001, 0.00001, 0.0001, 0.001, 0.01]\n",
      "momentum = [0.9]\n",
      "thirdconvlayer = [False]\n",
      "no_filters = [16]\n",
      "filter_size = [13]\n",
      "inputs = {'dyn_mine':'image prob binary border_overlap',\n",
      "          'dyn_mine_large':'image prob binary larger_border_overlap',\n",
      "          'dyn_mine_merged':'image prob merged_array border_overlap',\n",
      "          'dyn_mine_merged_large':'image prob merged_array larger_border_overlap',\n",
      "          'dyn_viren':'image prob merged_array'}\n",
      "\n",
      "patch_size = 75\n",
      "\n",
      "no_jobs = 0\n",
      "\n",
      "for e in epochs:\n",
      "  for b in batchsize:\n",
      "    for l in learning_rate:\n",
      "      for m in momentum:\n",
      "        for c in thirdconvlayer:\n",
      "          for n in no_filters:\n",
      "            for s in filter_size:\n",
      "              for i in inputs.keys():\n",
      "              \n",
      "                  input = inputs[i]\n",
      "              \n",
      "                  no_jobs += 1\n",
      "                  uniqueid = i+'_7'#str(uuid.uuid4())\n",
      "\n",
      "                  new_slurm_body = slurm_body.substitute(patchpath=PATCH_PATH, epochs=e, batchsize=b, patchsize=patch_size, learning_rate=l, momentum=m, thirdconvlayer=c, no_filters=n, filter_size=s, uuid=uniqueid, inputs=input)\n",
      "                  slurm = slurm_header.replace('$uuid', uniqueid) + new_slurm_body\n",
      "\n",
      "                  with open(OUTPUT_PATH+str(i)+'_7'+'.slurm', 'w') as f:\n",
      "                    f.write(slurm)\n",
      "\n",
      "\n",
      "print no_jobs, 'slurms generated.'\n"
     ],
     "language": "python",
     "metadata": {},
     "outputs": [
      {
       "output_type": "stream",
       "stream": "stdout",
       "text": [
        "5 slurms generated.\n"
       ]
      }
     ],
     "prompt_number": 8
    },
    {
     "cell_type": "code",
     "collapsed": false,
     "input": [],
     "language": "python",
     "metadata": {},
     "outputs": []
    }
   ],
   "metadata": {}
  }
 ]
}