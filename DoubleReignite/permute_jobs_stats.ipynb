{
 "metadata": {
  "name": "",
  "signature": "sha256:81643eb0c09a5ba3c9b74c018fc3755cf93b580d493cf9f6de4d3c581ea784b3"
 },
 "nbformat": 3,
 "nbformat_minor": 0,
 "worksheets": [
  {
   "cells": [
    {
     "cell_type": "code",
     "collapsed": false,
     "input": [
      "#\n",
      "# LAUNCH THE JOBS WITH:\n",
      "# for f in *.slurm; do sbatch $f; done\n",
      "#\n",
      "\n",
      "import os\n",
      "import sys\n",
      "from string import Template\n",
      "import uuid"
     ],
     "language": "python",
     "metadata": {},
     "outputs": [],
     "prompt_number": 3
    },
    {
     "cell_type": "code",
     "collapsed": false,
     "input": [
      "PATCH_PATH = 'stats'\n"
     ],
     "language": "python",
     "metadata": {},
     "outputs": [],
     "prompt_number": 4
    },
    {
     "cell_type": "code",
     "collapsed": false,
     "input": [
      "OUTPUT_PATH = 'custom_slurm/'+PATCH_PATH+'/'\n",
      "\n",
      "if not os.path.exists(OUTPUT_PATH):\n",
      "    os.makedirs(OUTPUT_PATH)\n",
      "\n",
      "slurm_header = \"\"\"#!/bin/bash\n",
      "#\n",
      "# add all other SBATCH directives here...\n",
      "#\n",
      "#SBATCH -p holyseasgpu\n",
      "#SBATCH --gres=gpu\n",
      "#SBATCH -n 1 # Number of cores\n",
      "#SBATCH -N 1 # Ensure that all cores are on one machine\n",
      "#SBATCH --gres=gpu\n",
      "#SBATCH --mem=24000\n",
      "#SBATCH -t 7-12:00\n",
      "#SBATCH --mail-type=ALL\n",
      "#SBATCH --mail-user=haehn@seas.harvard.edu\n",
      "#SBATCH -o /n/home05/haehn/slurm/out-$uuid.txt\n",
      "#SBATCH -e /n/home05/haehn/slurm/err-$uuid.txt\n",
      "\n",
      "# add additional commands needed for Lmod and module loads here\n",
      "source new-modules.sh\n",
      "#module load gcc/4.8.2-fasrc01 python/2.7.9-fasrc01\n",
      "module load Anaconda/2.1.0-fasrc01\n",
      "#module load cuda/7.5-fasrc01\n",
      "export CUDA_HOME=/usr/local/cuda-7.0\n",
      "export CUDA_LIB=/usr/local/cuda-7.0/lib64\n",
      "export CUDA_INCLUDE=/usr/local/cuda-7.0/include\n",
      "export PATH=/usr/local/cuda-7.0/bin:$PATH\n",
      "export CPATH=/usr/local/cuda-7.0/include:$CPATH\n",
      "export FPATH=/usr/local/cuda-7.0/include:$FPATH\n",
      "export LD_LIBRARY_PATH=/usr/local/cuda-7.0/lib:$LD_LIBRARY_PATH\n",
      "export LIBRARY_PATH=/usr/local/cuda-7.0/lib:$LIBRARY_PATH\n",
      "export LD_LIBRARY_PATH=/usr/local/cuda-7.0/lib64:$LD_LIBRARY_PATH\n",
      "export LIBRARY_PATH=/usr/local/cuda-7.0/lib64:$LIBRARY_PATH\n",
      "\n",
      "\"\"\"\n",
      "\n",
      "slurm_body = Template(\"\"\"\n",
      "# add commands for analyses here\n",
      "cd /n/home05/haehn/Projects/em-quality-metric/Reignite/\n",
      "python run_stats.py $no\n",
      "\n",
      "# end of program\n",
      "exit 0;\n",
      "\"\"\")\n",
      "\n",
      "no_jobs = 0\n",
      "\n",
      "for i in range(1,14):\n",
      "\n",
      "\n",
      "  no_jobs += 1\n",
      "  uniqueid = str(i)+'_stats'#str(uuid.uuid4())\n",
      "\n",
      "  new_slurm_body = slurm_body.substitute(no=i, uuid=uniqueid)\n",
      "  slurm = slurm_header.replace('$uuid', uniqueid) + new_slurm_body\n",
      "\n",
      "  with open(OUTPUT_PATH+str(i)+'_stats'+'.slurm', 'w') as f:\n",
      "    f.write(slurm)\n",
      "\n",
      "\n",
      "print no_jobs, 'slurms generated.'\n"
     ],
     "language": "python",
     "metadata": {},
     "outputs": [
      {
       "output_type": "stream",
       "stream": "stdout",
       "text": [
        "13 slurms generated.\n"
       ]
      }
     ],
     "prompt_number": 6
    },
    {
     "cell_type": "code",
     "collapsed": false,
     "input": [],
     "language": "python",
     "metadata": {},
     "outputs": []
    }
   ],
   "metadata": {}
  }
 ]
}