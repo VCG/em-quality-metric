{
 "metadata": {
  "name": "",
  "signature": "sha256:3e0ad5ee6e075811928491f79726d6ac482d1a33fe063b00894cb31d8cf0d785"
 },
 "nbformat": 3,
 "nbformat_minor": 0,
 "worksheets": [
  {
   "cells": [
    {
     "cell_type": "code",
     "collapsed": false,
     "input": [
      "%load_ext autoreload\n",
      "%autoreload 2\n",
      "\n",
      "from matplotlib.pyplot import imshow\n",
      "import matplotlib.pyplot as plt\n",
      "%matplotlib inline\n",
      "\n",
      "\n",
      "import cv2\n",
      "import glob\n",
      "import numpy as np\n",
      "import mahotas as mh\n",
      "import os\n",
      "import uuid\n",
      "import tifffile as tif\n",
      "from scipy import ndimage as nd\n",
      "from scipy.misc import imrotate\n",
      "import skimage.measure\n",
      "from skimage import img_as_ubyte\n",
      "import random\n",
      "import cPickle as pickle\n",
      "import time\n",
      "import partition_comparison\n",
      "import copy\n",
      "import matplotlib.pyplot as plt\n",
      "from matplotlib.pyplot import imshow\n",
      "\n",
      "import _metrics\n",
      "\n",
      "DATA_PATH = '/Volumes/DATA1/EMQM_DATA/ac3x75/'\n",
      "GOLD_PATH = os.path.join(DATA_PATH,'gold/')\n",
      "RHOANA_PATH = os.path.join(DATA_PATH,'rhoana/')\n",
      "IMAGE_PATH = os.path.join(DATA_PATH,'input/')\n",
      "PROB_PATH = os.path.join(DATA_PATH,'prob/')\n",
      "PATCH_PATH = os.path.join(DATA_PATH,'test_rhoana/')\n",
      "OUTPUT_PATH = '/Volumes/DATA1/bulk_split_errors/'\n",
      "\n"
     ],
     "language": "python",
     "metadata": {},
     "outputs": [
      {
       "output_type": "stream",
       "stream": "stderr",
       "text": [
        "tifffile.py:1995: UserWarning: failed to import _tifffile.decodepackbits\n",
        "  warnings.warn(\"failed to import %s\" % module_function)\n",
        "tifffile.py:1995: UserWarning: failed to import _tifffile.decodelzw\n",
        "  warnings.warn(\"failed to import %s\" % module_function)\n",
        "tifffile.py:1995: UserWarning: failed to import _tifffile.unpackints\n",
        "  warnings.warn(\"failed to import %s\" % module_function)\n"
       ]
      }
     ],
     "prompt_number": 1
    },
    {
     "cell_type": "code",
     "collapsed": false,
     "input": [
      "from fix_split_errors_new import *\n",
      "\n",
      "\n",
      "\n",
      "val_fn = setup_n()"
     ],
     "language": "python",
     "metadata": {},
     "outputs": [
      {
       "output_type": "stream",
       "stream": "stderr",
       "text": [
        "Using gpu device 0: GeForce GTX TITAN (CNMeM is disabled)\n",
        "/Users/d/Library/Python/2.7/lib/python/site-packages/theano/tensor/nnet/__init__.py:111: UserWarning: The `image_shape` keyword argument to `tensor.nnet.conv2d` is deprecated, it has been renamed to `input_shape`.\n",
        "  warnings.warn(\"The `image_shape` keyword argument to \"\n"
       ]
      },
      {
       "output_type": "stream",
       "stream": "stdout",
       "text": [
        "Loading ['/Volumes/DATA1/split_cnn/patches_3rd_small/a6d1924e-059c-4987-8512-da16a8d1aaee/configuration.txt']\n",
        "[\"{'outputpath': '/Volumes/DATA1/split_cnn/patches_3rd_small/', 'uuid': 'a6d1924e-059c-4987-8512-da16a8d1aaee', 'filtersize1': 5, 'filters3': 32, 'filters2': 32, 'batchsize': 100, 'datapath': '/Volumes/DATA1/EMQM_DATA/ac3x75/', 'epochs': 20, 'runmode': 'local', 'filtersize2': 5, 'filtersize3': 5, 'filters1': 32, 'patchpath': 'patches_3rd_small', 'thirdconvlayer': False, 'learning_rate': 0.0001, 'momentum': 0.9}\"]\n",
        "Loading ['/Volumes/DATA1/split_cnn/patches_3rd_small/a6d1924e-059c-4987-8512-da16a8d1aaee/network_19.p']\n"
       ]
      }
     ],
     "prompt_number": 2
    },
    {
     "cell_type": "code",
     "collapsed": false,
     "input": [
      "slices = [70,71,72,73,74]\n",
      "splits_per_label = [1,2,3,4,5]\n",
      "\n",
      "best_surenesses = []\n",
      "bboxes = []\n",
      "global_vis = []\n",
      "global_before_vis = []\n",
      "global_diff_vis = []\n",
      "global_slices = []\n",
      "\n",
      "\n",
      "for b in range(100,900,200):\n",
      "    for b2 in range(100,900,200):\n",
      "        \n",
      "        BBOX = [b, b+200, b2, b2+200]\n",
      "\n",
      "        for s in slices:\n",
      "            gold = mh.imread(GOLD_PATH+'ac3_labels_00'+str(s)+'.tif')\n",
      "            rhoana = mh.imread(RHOANA_PATH+os.sep+\"z=000000\"+str(s)+\".tif\")\n",
      "            input_image = mh.imread(IMAGE_PATH+'ac3_input_00'+str(s)+'.tif')\n",
      "            prob = mh.imread(PROB_PATH+'ac3_input_00'+str(s)+'_syn.tif')\n",
      "\n",
      "\n",
      "            image = input_image[BBOX[0]:BBOX[1],BBOX[2]:BBOX[3]]\n",
      "            prob = prob[BBOX[0]:BBOX[1],BBOX[2]:BBOX[3]]\n",
      "            seg = _metrics.Util.normalize_labels(rhoana[BBOX[0]:BBOX[1],BBOX[2]:BBOX[3]])[0]\n",
      "\n",
      "\n",
      "\n",
      "            # fill and normalize gold\n",
      "            gold_zeros = _metrics.Util.threshold(gold[BBOX[0]:BBOX[1],BBOX[2]:BBOX[3]], 0)\n",
      "            gold_filled = _metrics.Util.fill(gold[BBOX[0]:BBOX[1],BBOX[2]:BBOX[3]], gold_zeros.astype(np.bool))\n",
      "            gold_filled_relabeled = skimage.measure.label(gold_filled).astype(np.uint64)\n",
      "            gold_normalized = _metrics.Util.normalize_labels(gold_filled_relabeled)[0]\n",
      "\n",
      "            # color both segmentations\n",
      "            cm = _metrics.Util.load_colormap('/Volumes/DATA1/ac3x75/mojo/ids/colorMap.hdf5')\n",
      "            colored_rhoana_normalized = cm[seg % len(cm)]\n",
      "            colored_gold_normalized = cm[gold_normalized % len(cm)]\n",
      "\n",
      "            gold_framed = np.array(gold_normalized)\n",
      "            gold_framed[:38] = 0\n",
      "            gold_framed[-38:] = 0\n",
      "            gold_framed[:,0:38] = 0\n",
      "            gold_framed[:,-38:] = 0\n",
      "            #imshow(gold_framed)    \n",
      "\n",
      "            image_framed = np.array(image)\n",
      "            #imshow(image_framed,cmap='gray')    \n",
      "\n",
      "#                 split_gold_normalized = create_spliterrors(image_framed, seg, splits).astype(np.uint64) #RHOANA\n",
      "#                 split_gold_normalized = _metrics.Util.normalize_labels(split_gold_normalized)[0]\n",
      "#                 colored_split_gold_normalized = cm[split_gold_normalized % len(cm)]\n",
      "#                 split_gold_normalized_framed = np.array(split_gold_normalized)\n",
      "            #imshow(split_gold_normalized.astype(np.uint64))    \n",
      "\n",
      "            # RHOANA\n",
      "            split_gold_normalized = seg\n",
      "            split_gold_normalized_framed = np.array(split_gold_normalized)\n",
      "\n",
      "            t0 = time.time()\n",
      "            p = loop(image, prob, split_gold_normalized_framed)\n",
      "            print len(p), 'patches generated in',time.time()-t0,'seconds'\n",
      "\n",
      "\n",
      "            m_new = create_matrix(val_fn, split_gold_normalized_framed, p)\n",
      "\n",
      "            t0 = time.time()\n",
      "            out = split_gold_normalized_framed\n",
      "            sureness = 0.\n",
      "\n",
      "\n",
      "            surenesses = []\n",
      "            vi_s = []\n",
      "            _images = [out]\n",
      "\n",
      "            before_VI = partition_comparison.variation_of_information(split_gold_normalized_framed.ravel(), gold_framed.ravel())\n",
      "\n",
      "            while m_new.max() >= sureness:\n",
      "\n",
      "                old_image = np.array(out)\n",
      "                m_old = np.array(m_new)\n",
      "\n",
      "                surenesses.append(m_new.max())    \n",
      "\n",
      "                m_new, out, patches, l, n = merge(val_fn, image, out, prob, m_new)\n",
      "\n",
      "                vi = partition_comparison.variation_of_information(out.ravel(), gold_framed.ravel())\n",
      "                vi_s.append(vi)    \n",
      "\n",
      "\n",
      "\n",
      "            # create plot\n",
      "            index = vi_s.index(min(vi_s))\n",
      "            out_text = 'Before VI ' + str(before_VI) + '\\n'\n",
      "            out_text += 'Lowest VI ' + str(vi_s[index]) + '\\n'\n",
      "            out_text += 'Iterations ' + str(index) + '\\n'\n",
      "            out_text += 'Sureness ' + str(surenesses[index]) + '\\n'\n",
      "            out_text += 'Ran in ' + str(time.time()-t0) + ' seconds\\n'\n",
      "\n",
      "            best_surenesses.append(surenesses[index])\n",
      "            bboxes.append(BBOX)\n",
      "            global_vis.append(vi_s[index])\n",
      "            global_before_vis.append(before_VI)\n",
      "            global_slices.append(s)\n",
      "            global_diff_vis.append(before_VI - vi_s[index])\n",
      "#                 global_splits.append(splits)\n",
      "\n",
      "            new_rhoana = propagate_max_overlap(split_gold_normalized, gold_framed)\n",
      "            target_vi = partition_comparison.variation_of_information(new_rhoana.ravel(), gold_framed.ravel())\n",
      "\n",
      "            bins = np.arange(0, len(vi_s))#np.arange(len(vi_s), 0, -1)\n",
      "            # bins /= 100\n",
      "\n",
      "            vi_s_ = vi_s #[x for (y,x) in sorted(zip(surenesses, vi_s))]\n",
      "            surenesses_ = bins #surenesses#[y for (y,x) in sorted(zip(surenesses, vi_s))]\n",
      "\n",
      "            original_vi = [before_VI]*len(vi_s)\n",
      "            target_vi = [target_vi]*len(vi_s)\n",
      "\n",
      "            fig, ax = plt.subplots()\n",
      "            fig.text(0,1,'\\n\\n\\n\\n\\n'+out_text)\n",
      "\n",
      "            ax.plot(surenesses_, target_vi, 'k--', label='Target VI')\n",
      "            ax.plot(surenesses_, vi_s_, 'k', label='Variation of Information')\n",
      "            ax.plot(surenesses_, original_vi, 'k:', label='VI before')\n",
      "            # ax.set_yscale('log')\n",
      "\n",
      "            # Now add the legend with some customizations.\n",
      "            legend = ax.legend(loc='upper center', shadow=True)\n",
      "            ax.set_ylim([-0.5,1.5])\n",
      "\n",
      "            # The frame is matplotlib.patches.Rectangle instance surrounding the legend.\n",
      "            frame = legend.get_frame()\n",
      "            frame.set_facecolor('0.90')\n",
      "\n",
      "            # Set the fontsize\n",
      "            for label in legend.get_texts():\n",
      "                label.set_fontsize('large')\n",
      "\n",
      "            for label in legend.get_lines():\n",
      "                label.set_linewidth(1.5)  # the legend line width\n",
      "\n",
      "            plt.savefig(OUTPUT_PATH+os.sep+'result'+str(s)+'.png')\n",
      "    "
     ],
     "language": "python",
     "metadata": {},
     "outputs": [
      {
       "output_type": "stream",
       "stream": "stdout",
       "text": [
        "236 patches generated in 3.23695993423 seconds\n",
        "242"
       ]
      },
      {
       "output_type": "stream",
       "stream": "stdout",
       "text": [
        " patches generated in 3.11837387085 seconds\n",
        "246"
       ]
      },
      {
       "output_type": "stream",
       "stream": "stdout",
       "text": [
        " patches generated in 3.13687086105 seconds\n",
        "212"
       ]
      },
      {
       "output_type": "stream",
       "stream": "stdout",
       "text": [
        " patches generated in 2.67212986946 seconds\n",
        "354"
       ]
      }
     ]
    },
    {
     "cell_type": "code",
     "collapsed": false,
     "input": [
      "best_surenesses"
     ],
     "language": "python",
     "metadata": {},
     "outputs": [
      {
       "metadata": {},
       "output_type": "pyout",
       "prompt_number": 8,
       "text": [
        "[0.51529610483387933,\n",
        " 0.10207276000497356,\n",
        " 0.21033738203399513,\n",
        " 0.8283698596060276,\n",
        " 0.29162431799340993,\n",
        " 0.80033971493442857,\n",
        " 0.80408576450177605,\n",
        " 0.9269585586511172,\n",
        " 0.056033897755176962,\n",
        " 0.70128270859519637,\n",
        " 0.20697952982531984,\n",
        " 0.027346057462348805,\n",
        " 0.01406871344425388,\n",
        " 0.23615171946585178,\n",
        " 0.23059668724331889,\n",
        " 0.70889077491655539,\n",
        " 0.069231543148678229,\n",
        " 0.25772450864315033,\n",
        " 0.965944999998266,\n",
        " 0.10855371489500006,\n",
        " 0.060694645240734653,\n",
        " 0.45685460120439531,\n",
        " 0.94601419568061829,\n",
        " 0.80440985783934593,\n",
        " 0.075490939143340555,\n",
        " 0.78896419703960419,\n",
        " 0.53634845780638551,\n",
        " 0.38639696252842742,\n",
        " 0.91788744926452637,\n",
        " 1.0,\n",
        " 0.34736729179656745,\n",
        " 0.22397187352180481,\n",
        " 0.18820202115654996,\n",
        " 0.21597434549281994,\n",
        " 0.10912328945267288,\n",
        " 0.85890970379114151,\n",
        " 0.85752546042203903,\n",
        " 0.15089469673603162,\n",
        " 0.99999991804361343,\n",
        " 1.0,\n",
        " 0.062425066190843953,\n",
        " 0.77862019709904084,\n",
        " 0.50908526120362463,\n",
        " 0.35584331728242063,\n",
        " 0.62021734407888007]"
       ]
      }
     ],
     "prompt_number": 8
    },
    {
     "cell_type": "code",
     "collapsed": false,
     "input": [
      "global_diff_vis"
     ],
     "language": "python",
     "metadata": {},
     "outputs": [
      {
       "metadata": {},
       "output_type": "pyout",
       "prompt_number": 9,
       "text": [
        "[-0.09768487024632955,\n",
        " -0.24604484834199836,\n",
        " -0.3773025953392235,\n",
        " -0.02546437223024789,\n",
        " 0.12808643162585254,\n",
        " 0.03112640133336919,\n",
        " -0.017398291593911264,\n",
        " 0.016089501839334996,\n",
        " -0.3088959575043768,\n",
        " 0.03594696065016301,\n",
        " 0.41541027232032934,\n",
        " 0.18822266114225594,\n",
        " -0.054663565566659855,\n",
        " 0.0005621716252797171,\n",
        " -0.37346073927279433,\n",
        " -0.0022610154062193896,\n",
        " -0.023441491947402145,\n",
        " 0.0016584421132651017,\n",
        " 0.01703971877204559,\n",
        " 0.008177225276799604,\n",
        " 0.014265454180439674,\n",
        " -0.0024711402193777765,\n",
        " 0.0,\n",
        " -5.38307421511508e-05,\n",
        " 0.008357439245879394,\n",
        " 0.05179447323973241,\n",
        " 0.016077312788568054,\n",
        " 0.013481108257363594,\n",
        " 0.014867405751978424,\n",
        " -0.02387354289928556,\n",
        " 0.05185619966719024,\n",
        " -0.005104287526206175,\n",
        " -0.024835941238393833,\n",
        " 0.03779269891200565,\n",
        " 0.06306272150941483,\n",
        " 0.0,\n",
        " 0.0015371135601887076,\n",
        " -0.019674799879201288,\n",
        " -0.0033379950622194343,\n",
        " -0.0016609695033187322,\n",
        " -0.24672127156013235,\n",
        " -0.17668901575941565,\n",
        " 0.36617365951741165,\n",
        " 0.3512183779600013,\n",
        " 0.12135818848157331]"
       ]
      }
     ],
     "prompt_number": 9
    },
    {
     "cell_type": "code",
     "collapsed": false,
     "input": [
      "import scipy.stats as stat"
     ],
     "language": "python",
     "metadata": {},
     "outputs": [],
     "prompt_number": 10
    },
    {
     "cell_type": "code",
     "collapsed": false,
     "input": [
      "stat.describe(global_vis)"
     ],
     "language": "python",
     "metadata": {},
     "outputs": [
      {
       "metadata": {},
       "output_type": "pyout",
       "prompt_number": 11,
       "text": [
        "(45,\n",
        " (0.026748943221719629, 1.4868989348058368),\n",
        " 0.56645596634719608,\n",
        " 0.11805637962934665,\n",
        " 0.7181672098238547,\n",
        " 0.6019094285383888)"
       ]
      }
     ],
     "prompt_number": 11
    },
    {
     "cell_type": "code",
     "collapsed": false,
     "input": [
      "stat.describe(global_diff_vis)"
     ],
     "language": "python",
     "metadata": {},
     "outputs": [
      {
       "metadata": {},
       "output_type": "pyout",
       "prompt_number": 12,
       "text": [
        "(45,\n",
        " (-0.3773025953392235, 0.41541027232032934),\n",
        " -0.0017084133792982816,\n",
        " 0.024012707476842286,\n",
        " 0.05493217565054875,\n",
        " 1.9204285717776122)"
       ]
      }
     ],
     "prompt_number": 12
    },
    {
     "cell_type": "code",
     "collapsed": false,
     "input": [],
     "language": "python",
     "metadata": {},
     "outputs": []
    }
   ],
   "metadata": {}
  }
 ]
}