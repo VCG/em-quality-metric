{
 "metadata": {
  "name": "",
  "signature": "sha256:b2d35ea77ba7a57930d7a47a5952de294c80e9a87e68df0f1e42b6b2916c6ff2"
 },
 "nbformat": 3,
 "nbformat_minor": 0,
 "worksheets": [
  {
   "cells": [
    {
     "cell_type": "code",
     "collapsed": false,
     "input": [
      "%load_ext autoreload\n",
      "%autoreload 2\n",
      "\n",
      "from matplotlib.pyplot import imshow\n",
      "import matplotlib.pyplot as plt\n",
      "%matplotlib inline\n",
      "import networkx as nx\n",
      "\n",
      "import cv2\n",
      "import glob\n",
      "import numpy as np\n",
      "import mahotas as mh\n",
      "import os\n",
      "import uuid\n",
      "import tifffile as tif\n",
      "from scipy import ndimage as nd\n",
      "from scipy.misc import imrotate\n",
      "import skimage.measure\n",
      "from skimage import img_as_ubyte\n",
      "import random\n",
      "import cPickle as pickle\n",
      "import time\n",
      "import partition_comparison\n",
      "import copy\n",
      "import matplotlib.pyplot as plt\n",
      "from matplotlib.pyplot import imshow\n",
      "\n",
      "import _metrics\n",
      "\n",
      "DATA_PATH = '/Volumes/DATA1/EMQM_DATA/ac3x75/'\n",
      "GOLD_PATH = os.path.join(DATA_PATH,'gold/')\n",
      "RHOANA_PATH = os.path.join(DATA_PATH,'rhoana/')\n",
      "IMAGE_PATH = os.path.join(DATA_PATH,'input/')\n",
      "PROB_PATH = os.path.join(DATA_PATH,'prob/')\n",
      "PATCH_PATH = os.path.join(DATA_PATH,'test_rhoana/')\n",
      "OUTPUT_PATH = '/Volumes/DATA1/bulk_split_errors/'\n",
      "\n"
     ],
     "language": "python",
     "metadata": {},
     "outputs": [
      {
       "output_type": "stream",
       "stream": "stdout",
       "text": [
        "The autoreload extension is already loaded. To reload it, use:\n",
        "  %reload_ext autoreload\n"
       ]
      }
     ],
     "prompt_number": 54
    },
    {
     "cell_type": "code",
     "collapsed": false,
     "input": [
      "from fix_split_errors import *\n",
      "\n",
      "# BBOX = [465,635,465,635]\n",
      "# BBOX = [300,700,300,700]\n",
      "BBOX = [400,700,400,700]\n",
      "val_fn = setup_n()"
     ],
     "language": "python",
     "metadata": {},
     "outputs": [
      {
       "output_type": "stream",
       "stream": "stdout",
       "text": [
        "Loading ['/Volumes/DATA1/split_cnn/patches_large2new/7b76867e-c76a-416f-910a-7065e93c616a/configuration.txt']\n",
        "[\"{'outputpath': '/n/regal/pfister_lab/haehn/split_cnn/patches_large2new/', 'filtersize1': 9, 'filters3': 16, 'filters2': 16, 'batchsize': 100, 'datapath': '/n/regal/pfister_lab/haehn/', 'epochs': 500, 'runmode': 'cluster', 'filtersize2': 9, 'filtersize3': 9, 'filters1': 16, 'patchpath': 'patches_large2new', 'thirdconvlayer': True, 'learning_rate': 0.0001, 'momentum': 0.9}\"]\n",
        "Loading ['/Volumes/DATA1/split_cnn/patches_large2new/7b76867e-c76a-416f-910a-7065e93c616a/network_199.p']\n"
       ]
      },
      {
       "output_type": "stream",
       "stream": "stderr",
       "text": [
        "Using gpu device 0: GeForce GTX TITAN (CNMeM is disabled)\n"
       ]
      }
     ],
     "prompt_number": 2
    },
    {
     "cell_type": "code",
     "collapsed": false,
     "input": [
      "def create_merge_error(seg, l):\n",
      "    \n",
      "    #copy seg\n",
      "    new_seg = np.array(seg)\n",
      "    \n",
      "    # grab one neighbor\n",
      "    neighbors = grab_neighbors(new_seg, l)\n",
      "    #neighbor = np.random.choice(neighbors)\n",
      "    \n",
      "    found_good = False\n",
      "    good_n = -1\n",
      "\n",
      "    for n in neighbors:\n",
      "      if len(new_seg[new_seg == n]) > 3000:\n",
      "        continue\n",
      "      else:\n",
      "        found_good = True\n",
      "        good_n = n\n",
      "        break\n",
      "\n",
      "    if not found_good:\n",
      "      return None\n",
      "    else:\n",
      "      neighbor = good_n\n",
      "\n",
      "    new_seg[new_seg == l] = neighbor\n",
      "        \n",
      "    print 'merged', l, neighbor\n",
      "    \n",
      "    return new_seg\n",
      "\n",
      "def create_patches_from_label_id(image, prob, seg, label_id):\n",
      "\n",
      "    patches = []\n",
      "    \n",
      "    #label_bbox = mh.bbox(_metrics.Util.threshold(seg, label_id))\n",
      "\n",
      "    isolated_label = _metrics.Util.threshold(seg, label_id)#[label_bbox[0]:label_bbox[1], label_bbox[2]:label_bbox[3]]\n",
      "    \n",
      "    eroded_isolated_label = np.array(isolated_label)\n",
      "    for i in range(10):\n",
      "        eroded_isolated_label = mh.erode(eroded_isolated_label.astype(np.bool))\n",
      "\n",
      "    potential_center_points = zip(*np.where(eroded_isolated_label == 1))\n",
      "    for p in potential_center_points:\n",
      "\n",
      "        # check if patch is possible\n",
      "        if p[0] <= 37 or p[0] >= eroded_isolated_label.shape[0]-37:\n",
      "            # not possible\n",
      "            continue\n",
      "        if p[1] <= 37 or p[1] >= eroded_isolated_label.shape[1]-37:\n",
      "            # also not possible\n",
      "            continue\n",
      "\n",
      "            \n",
      "        bbox = [p[0]-37, p[0]+37+1, p[1]-37, p[1]+37+1]\n",
      "        \n",
      "        patch = {}\n",
      "        patch['image'] = image[bbox[0]:bbox[1], bbox[2]:bbox[3]]\n",
      "        patch['prob'] = prob[bbox[0]:bbox[1], bbox[2]:bbox[3]]\n",
      "        patch['seg'] = isolated_label[bbox[0]:bbox[1], bbox[2]:bbox[3]].astype(np.bool)\n",
      "        patch['bbox'] = bbox\n",
      "        patch['border_center'] = (p[0], p[1])\n",
      "        \n",
      "        patches.append(patch)\n",
      "        \n",
      "    return patches    \n",
      "\n",
      "\n",
      "\n",
      "\n",
      "\n",
      "def create_merge_splits(i_patch):\n",
      "\n",
      "    image = i_patch['image']\n",
      "    prob = i_patch['prob']\n",
      "    seg = i_patch['seg']\n",
      "    \n",
      "    patches = []\n",
      "    \n",
      "    #g_image = mh.gaussian_filter(image, 3.5)\n",
      "    g_image = image\n",
      "\n",
      "    grad_x = np.gradient(g_image)[0]\n",
      "    grad_y = np.gradient(g_image)[1]\n",
      "    grad = np.sqrt(np.add(grad_x*grad_x, grad_y*grad_y))\n",
      "    grad -= grad.min()\n",
      "    grad /= (grad.max() - grad.min())\n",
      "    grad *= 255\n",
      "    grad = grad.astype(np.uint8)\n",
      "\n",
      "    G=nx.Graph()\n",
      "    for y in range(grad.shape[0]):\n",
      "        for x in range(grad.shape[1]):\n",
      "\n",
      "            vertex_name = str(y)+'-'+str(x)\n",
      "            left_vertex_name = str(y)+'-'+str(x-1)\n",
      "            top_vertex_name = str(y-1)+'-'+str(x)\n",
      "            G.add_node(vertex_name)\n",
      "\n",
      "            if x>0:\n",
      "                G.add_edge(left_vertex_name, vertex_name, weight=int(grad[y,x]))\n",
      "\n",
      "            if y>0:\n",
      "                G.add_edge(top_vertex_name, vertex_name, weight=int(grad[y,x]))\n",
      "\n",
      "    starts = range(0,75,10)\n",
      "    starts.append(74)\n",
      "    ends = list(reversed(range(0,75,10)))\n",
      "    ends = [74] + ends\n",
      "\n",
      "    \n",
      "    out = np.array(seg)\n",
      "\n",
      "    for i in range(len(starts)):\n",
      "\n",
      "        start = starts[i]\n",
      "        end = ends[i]\n",
      "\n",
      "        for sw in range(0,2):\n",
      "\n",
      "\n",
      "            if sw == 0:\n",
      "                start_v = str(start)+'-0'\n",
      "                end_v = str(end)+'-74'\n",
      "            else:\n",
      "                start_v = '0-'+str(start)\n",
      "                end_v = '74-'+str(end)\n",
      "\n",
      "            if i == 0 and sw>0:\n",
      "                # calculate first border only once\n",
      "                continue\n",
      "\n",
      "            if i == len(starts)-1 and sw>0:\n",
      "                # and last one only once\n",
      "                continue\n",
      "\n",
      "\n",
      "            out = np.zeros(grad.shape)\n",
      "\n",
      "#             fig = plt.figure()\n",
      "            sp = nx.dijkstra_path(G, start_v, '37-37')\n",
      "            sp2 = nx.dijkstra_path(G, '37-37', end_v)\n",
      "\n",
      "            border = []\n",
      "        \n",
      "            for s in sp:\n",
      "\n",
      "                y,x = s.split('-')\n",
      "                out[int(y), int(x)] = 1\n",
      "                border.append((int(y), int(x)))\n",
      "            for s in sp2:\n",
      "\n",
      "                y,x = s.split('-')\n",
      "                out[int(y), int(x)] = 1    \n",
      "                border.append((int(y), int(x)))\n",
      "                \n",
      "#             plt.imshow(out)\n",
      "            \n",
      "            #\n",
      "            # create label images for our patch\n",
      "            #\n",
      "            patch_new_labeled = skimage.measure.label(out)\n",
      "            patch_new_labeled[out == 1] = 1\n",
      "            patch_new_labeled[seg == 0] = 0\n",
      "            patch_new_labeled = mh.labeled.relabel(patch_new_labeled)[0]\n",
      "            array1 = _metrics.Util.threshold(patch_new_labeled, 1)\n",
      "            array2 = _metrics.Util.threshold(patch_new_labeled, 2)\n",
      "            merged_array = array1 + array2\n",
      "\n",
      "            dilated_array1 = np.array(array1)\n",
      "            dilated_array2 = np.array(array2)\n",
      "            for o in range(10):\n",
      "                dilated_array1 = mh.dilate(dilated_array1.astype(np.uint64))\n",
      "                dilated_array2 = mh.dilate(dilated_array2.astype(np.uint64))\n",
      "            overlap = np.logical_and(dilated_array1, dilated_array2)\n",
      "            overlap[merged_array == 0] = 0\n",
      "            \n",
      "            patch = {}\n",
      "            patch['image'] = image\n",
      "            patch['prob'] = prob\n",
      "            patch['binary1'] = array1.astype(np.bool)\n",
      "            patch['binary2'] = array2.astype(np.bool)\n",
      "            patch['overlap'] = overlap.astype(np.bool)\n",
      "            patch['border'] = border\n",
      "            patch['bbox'] = i_patch['bbox']\n",
      "            patch['border_center'] = i_patch['border_center']\n",
      "            patches.append(patch)\n",
      "            \n",
      "    return patches\n"
     ],
     "language": "python",
     "metadata": {},
     "outputs": [],
     "prompt_number": 55
    },
    {
     "cell_type": "code",
     "collapsed": false,
     "input": [
      "slices = [70]#,71,72,73,74]\n",
      "\n",
      "SPLITS_PER_LABEL = 3\n",
      "MERGES = 30\n",
      "\n",
      "for s in slices:\n",
      "    gold = mh.imread(GOLD_PATH+'ac3_labels_00'+str(s)+'.tif')\n",
      "    rhoana = mh.imread(RHOANA_PATH+os.sep+\"z=000000\"+str(s)+\".tif\")\n",
      "    input_image = mh.imread(IMAGE_PATH+'ac3_input_00'+str(s)+'.tif')\n",
      "    prob = mh.imread(PROB_PATH+'ac3_input_00'+str(s)+'_syn.tif')\n",
      "    \n",
      "\n",
      "    image = input_image[BBOX[0]:BBOX[1],BBOX[2]:BBOX[3]]\n",
      "    prob = prob[BBOX[0]:BBOX[1],BBOX[2]:BBOX[3]]\n",
      "    seg = _metrics.Util.normalize_labels(rhoana[BBOX[0]:BBOX[1],BBOX[2]:BBOX[3]])[0]\n",
      "\n",
      "    \n",
      "    \n",
      "    # fill and normalize gold\n",
      "    gold_zeros = _metrics.Util.threshold(gold[BBOX[0]:BBOX[1],BBOX[2]:BBOX[3]], 0)\n",
      "    gold_filled = _metrics.Util.fill(gold[BBOX[0]:BBOX[1],BBOX[2]:BBOX[3]], gold_zeros.astype(np.bool))\n",
      "    gold_filled_relabeled = skimage.measure.label(gold_filled).astype(np.uint64)\n",
      "    gold_normalized = _metrics.Util.normalize_labels(gold_filled_relabeled)[0]\n",
      "\n",
      "    # color both segmentations\n",
      "    cm = _metrics.Util.load_colormap('/Volumes/DATA1/ac3x75/mojo/ids/colorMap.hdf5')\n",
      "    colored_rhoana_normalized = cm[seg % len(cm)]\n",
      "    colored_gold_normalized = cm[gold_normalized % len(cm)]\n",
      "\n",
      "    gold_framed = np.array(gold_normalized)\n",
      "    gold_framed[:38] = 0\n",
      "    gold_framed[-38:] = 0\n",
      "    gold_framed[:,0:38] = 0\n",
      "    gold_framed[:,-38:] = 0\n",
      "    #imshow(gold_framed)    \n",
      "    \n",
      "    image_framed = np.array(image)\n",
      "    #imshow(image_framed,cmap='gray')    \n",
      "    \n",
      "    \n",
      "    #\n",
      "    # SPLIT ERRORS\n",
      "    #\n",
      "    split_gold_normalized = create_spliterrors(image_framed, gold_normalized, SPLITS_PER_LABEL).astype(np.uint64)\n",
      "    split_gold_normalized = _metrics.Util.normalize_labels(split_gold_normalized)[0]\n",
      "    colored_split_gold_normalized = cm[split_gold_normalized % len(cm)]\n",
      "    \n",
      "    print 'VI after split errors', partition_comparison.variation_of_information(split_gold_normalized.ravel(), gold_normalized.ravel())\n",
      "    \n",
      "    #\n",
      "    # MERGE ERRORS\n",
      "    #\n",
      "    merge_gold_normalized = np.array(split_gold_normalized)\n",
      "    hist = _metrics.Util.get_histogram(merge_gold_normalized.astype(np.uint64))\n",
      "\n",
      "    small_labels = np.where(hist < 3000)[0]\n",
      "    \n",
      "    for count,l in enumerate(small_labels[0:MERGES]):\n",
      "        \n",
      "        merge_gold_normalized = create_merge_error(merge_gold_normalized, l)\n",
      "        \n",
      "        \n",
      "    print 'VI after merge errors', partition_comparison.variation_of_information(merge_gold_normalized.ravel(), gold_normalized.ravel())\n",
      "    "
     ],
     "language": "python",
     "metadata": {},
     "outputs": [
      {
       "output_type": "stream",
       "stream": "stdout",
       "text": [
        "VI after split errors 1.02272680867\n",
        "merged 1 2\n",
        "merged 2 3\n",
        "merged 3 4\n",
        "merged 4 5\n",
        "merged 5 6\n",
        "merged 6 7\n",
        "merged 7 8\n",
        "merged 8 17\n",
        "merged 10 11\n",
        "merged 11 12\n",
        "merged 12 13\n",
        "merged 13 14\n",
        "merged 14 15\n",
        "merged 15 16\n",
        "merged 16 18\n",
        "merged 17 22\n",
        "merged 18 19\n",
        "merged 19 27\n",
        "merged 20 21\n",
        "merged 21 22\n",
        "merged"
       ]
      },
      {
       "output_type": "stream",
       "stream": "stdout",
       "text": [
        " 22 23\n",
        "merged 23 24\n",
        "merged 24 25\n",
        "merged 25 26\n",
        "merged 26 32\n",
        "merged 27 28\n",
        "merged 28 29\n",
        "merged 29 30\n",
        "merged 30 31\n",
        "merged 31 33\n",
        "VI after merge errors 1.12711317009\n"
       ]
      }
     ],
     "prompt_number": 23
    },
    {
     "cell_type": "code",
     "collapsed": false,
     "input": [
      "imshow(gold_normalized)"
     ],
     "language": "python",
     "metadata": {},
     "outputs": [
      {
       "metadata": {},
       "output_type": "pyout",
       "prompt_number": 38,
       "text": [
        "<matplotlib.image.AxesImage at 0x11e3c9990>"
       ]
      },
      {
       "metadata": {},
       "output_type": "display_data",
       "png": "[encoded data removed]",
       "text": [
        "<matplotlib.figure.Figure at 0x11c0dc4d0>"
       ]
      }
     ],
     "prompt_number": 38
    },
    {
     "cell_type": "code",
     "collapsed": false,
     "input": [
      "imshow(split_gold_normalized)"
     ],
     "language": "python",
     "metadata": {},
     "outputs": [
      {
       "metadata": {},
       "output_type": "pyout",
       "prompt_number": 24,
       "text": [
        "<matplotlib.image.AxesImage at 0x11c36f190>"
       ]
      },
      {
       "metadata": {},
       "output_type": "display_data",
       "png": "[encoded data removed]",
       "text": [
        "<matplotlib.figure.Figure at 0x11c68d290>"
       ]
      }
     ],
     "prompt_number": 24
    },
    {
     "cell_type": "code",
     "collapsed": false,
     "input": [
      "imshow(merge_gold_normalized)"
     ],
     "language": "python",
     "metadata": {},
     "outputs": [
      {
       "metadata": {},
       "output_type": "pyout",
       "prompt_number": 37,
       "text": [
        "<matplotlib.image.AxesImage at 0x1300b1150>"
       ]
      },
      {
       "metadata": {},
       "output_type": "display_data",
       "png": "[encoded data removed]",
       "text": [
        "<matplotlib.figure.Figure at 0x11d69b510>"
       ]
      }
     ],
     "prompt_number": 37
    },
    {
     "cell_type": "code",
     "collapsed": false,
     "input": [
      "#\n",
      "split_error_patches = loop(image, prob, merge_gold_normalized)\n",
      "split_m = create_matrix(val_fn, merge_gold_normalized, split_error_patches)"
     ],
     "language": "python",
     "metadata": {},
     "outputs": [],
     "prompt_number": 34
    },
    {
     "cell_type": "code",
     "collapsed": false,
     "input": [
      "number_of_split_errors = len(np.where(split_m == 1.)[0])\n",
      "print number_of_split_errors"
     ],
     "language": "python",
     "metadata": {},
     "outputs": [
      {
       "output_type": "stream",
       "stream": "stdout",
       "text": [
        "78\n"
       ]
      }
     ],
     "prompt_number": 36
    },
    {
     "cell_type": "code",
     "collapsed": false,
     "input": [
      "hist = _metrics.Util.get_histogram(merge_gold_normalized.astype(np.uint64))\n",
      "\n",
      "labels = np.where(hist >0)[0]\n",
      "\n",
      "merge_error_patches = []\n",
      "\n",
      "for l in labels:\n",
      "    merge_error_patches += create_patches_from_label_id(image, prob, merge_gold_normalized, l)\n",
      "\n",
      "number_of_merge_errors = 0\n",
      "\n",
      "for p in merge_error_patches:\n",
      "    \n",
      "    split_patches = create_merge_splits(p)\n",
      "\n",
      "    for p in split_patches:\n",
      "    \n",
      "        prediction = test_patch(val_fn, p)\n",
      "\n",
      "        if prediction < 0.1:\n",
      "            number_of_merge_errors += 1\n",
      "\n",
      "print number_of_merge_errors"
     ],
     "language": "python",
     "metadata": {},
     "outputs": [
      {
       "output_type": "stream",
       "stream": "stdout",
       "text": [
        "2\n"
       ]
      }
     ],
     "prompt_number": 56
    },
    {
     "cell_type": "code",
     "collapsed": false,
     "input": [
      "len(merge_error_patches)"
     ],
     "language": "python",
     "metadata": {},
     "outputs": [
      {
       "metadata": {},
       "output_type": "pyout",
       "prompt_number": 49,
       "text": [
        "15870"
       ]
      }
     ],
     "prompt_number": 49
    },
    {
     "cell_type": "code",
     "collapsed": false,
     "input": [],
     "language": "python",
     "metadata": {},
     "outputs": []
    }
   ],
   "metadata": {}
  }
 ]
}