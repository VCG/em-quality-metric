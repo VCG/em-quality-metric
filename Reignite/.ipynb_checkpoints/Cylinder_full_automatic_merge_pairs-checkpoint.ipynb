{
 "cells": [
  {
   "cell_type": "code",
   "execution_count": 1,
   "metadata": {
    "collapsed": false
   },
   "outputs": [
    {
     "name": "stderr",
     "output_type": "stream",
     "text": [
      "Using gpu device 0: GeForce GTX TITAN (CNMeM is disabled, CuDNN 4007)\n",
      "/home/d/nolearn/local/lib/python2.7/site-packages/theano/tensor/signal/downsample.py:6: UserWarning: downsample module has been moved to the theano.tensor.signal.pool module.\n",
      "  \"downsample module has been moved to the theano.tensor.signal.pool module.\")\n",
      "tifffile.py:1995: UserWarning: failed to import _tifffile.decodepackbits\n",
      "  warnings.warn(\"failed to import %s\" % module_function)\n",
      "tifffile.py:1995: UserWarning: failed to import _tifffile.decodelzw\n",
      "  warnings.warn(\"failed to import %s\" % module_function)\n",
      "tifffile.py:1995: UserWarning: failed to import _tifffile.unpackints\n",
      "  warnings.warn(\"failed to import %s\" % module_function)\n"
     ]
    }
   ],
   "source": [
    "%load_ext autoreload\n",
    "%autoreload 2\n",
    "\n",
    "from cnn import CNN\n",
    "from dyn_cnn import DynCNN\n",
    "from util import Util\n",
    "from patch import Patch\n",
    "from fixer import Fixer\n",
    "from uglify import Uglify\n",
    "\n",
    "import cPickle as pickle\n",
    "import os\n",
    "import mahotas as mh\n",
    "import numpy as np\n",
    "import time\n",
    "\n",
    "import mlproof as mlp\n",
    "\n",
    "\n",
    "from matplotlib.pyplot import imshow\n",
    "import matplotlib.pyplot as plt\n",
    "%matplotlib inline"
   ]
  },
  {
   "cell_type": "code",
   "execution_count": 40,
   "metadata": {
    "collapsed": false
   },
   "outputs": [
    {
     "name": "stdout",
     "output_type": "stream",
     "text": [
      "Loading z00000250.png\n"
     ]
    }
   ],
   "source": [
    "image, prob, mask, gold, rhoana = mlp.Util.read_section('/home/d/data/cylinder/', 250)"
   ]
  },
  {
   "cell_type": "code",
   "execution_count": 9,
   "metadata": {
    "collapsed": false
   },
   "outputs": [
    {
     "data": {
      "text/plain": [
       "0.37294998439310856"
      ]
     },
     "execution_count": 9,
     "metadata": {},
     "output_type": "execute_result"
    }
   ],
   "source": [
    "Util.vi(gold, rhoana)"
   ]
  },
  {
   "cell_type": "code",
   "execution_count": 4,
   "metadata": {
    "collapsed": false
   },
   "outputs": [],
   "source": [
    "with open('/home/d/nets/MergeNet_larger_border_overlap_cylinder1_dataaugmentation/net.p', 'rb') as f:\n",
    "    cnn = pickle.load(f)"
   ]
  },
  {
   "cell_type": "code",
   "execution_count": 10,
   "metadata": {
    "collapsed": false
   },
   "outputs": [
    {
     "name": "stdout",
     "output_type": "stream",
     "text": [
      "6252 generated in 376.84928298 seconds.\n",
      "Grouped into 1533 patches in 0.027116060257 seconds.\n",
      "Merge loop finished in 366.978486061 seconds.\n",
      "Before VI: 0.372949984393\n",
      "Smallest VI: 0.344331472155\n",
      "Sureness threshold: 0.975017488003\n"
     ]
    }
   ],
   "source": [
    "vi_s, merge_pairs, surenesses = Fixer.splits(cnn,image, prob, rhoana, gold, \n",
    "                                                 sureness_threshold=.95,\n",
    "                                                 verbose=True)"
   ]
  },
  {
   "cell_type": "code",
   "execution_count": 13,
   "metadata": {
    "collapsed": false
   },
   "outputs": [],
   "source": [
    "from uitools import UITools"
   ]
  },
  {
   "cell_type": "code",
   "execution_count": 41,
   "metadata": {
    "collapsed": false
   },
   "outputs": [
    {
     "ename": "KeyboardInterrupt",
     "evalue": "",
     "output_type": "error",
     "traceback": [
      "\u001b[1;31m---------------------------------------------------------------------------\u001b[0m",
      "\u001b[1;31mKeyboardInterrupt\u001b[0m                         Traceback (most recent call last)",
      "\u001b[1;32m<ipython-input-41-5726e6a6996f>\u001b[0m in \u001b[0;36m<module>\u001b[1;34m()\u001b[0m\n\u001b[1;32m----> 1\u001b[1;33m \u001b[0mmerge_errors\u001b[0m \u001b[1;33m=\u001b[0m \u001b[0mget_merge_errors\u001b[0m\u001b[1;33m(\u001b[0m\u001b[0mcnn\u001b[0m\u001b[1;33m,\u001b[0m \u001b[0mimage\u001b[0m\u001b[1;33m,\u001b[0m \u001b[0mprob\u001b[0m\u001b[1;33m,\u001b[0m \u001b[0mrhoana\u001b[0m\u001b[1;33m)\u001b[0m\u001b[1;33m\u001b[0m\u001b[0m\n\u001b[0m",
      "\u001b[1;32m<ipython-input-16-6b00be947baf>\u001b[0m in \u001b[0;36mget_merge_errors\u001b[1;34m(cnn, input_image, input_prob, input_rhoana)\u001b[0m\n\u001b[0;32m     31\u001b[0m                                           \u001b[0mdilate\u001b[0m\u001b[1;33m=\u001b[0m\u001b[0mTrue\u001b[0m\u001b[1;33m,\u001b[0m\u001b[1;33m\u001b[0m\u001b[0m\n\u001b[0;32m     32\u001b[0m                                           \u001b[0mborder_seeds\u001b[0m\u001b[1;33m=\u001b[0m\u001b[0mTrue\u001b[0m\u001b[1;33m,\u001b[0m\u001b[1;33m\u001b[0m\u001b[0m\n\u001b[1;32m---> 33\u001b[1;33m                                           oversampling=False)\n\u001b[0m\u001b[0;32m     34\u001b[0m \u001b[1;33m\u001b[0m\u001b[0m\n\u001b[0;32m     35\u001b[0m         \u001b[1;32mif\u001b[0m \u001b[0mlen\u001b[0m\u001b[1;33m(\u001b[0m\u001b[0mresults\u001b[0m\u001b[1;33m)\u001b[0m \u001b[1;33m>\u001b[0m \u001b[1;36m0\u001b[0m\u001b[1;33m:\u001b[0m\u001b[1;33m\u001b[0m\u001b[0m\n",
      "\u001b[1;32m/home/d/Projects/em-quality-metric/Reignite/fixer.py\u001b[0m in \u001b[0;36mfix_single_merge\u001b[1;34m(cnn, cropped_image, cropped_prob, cropped_binary, N, invert, dilate, border_seeds, erode, debug, before_merge_error, real_border, oversampling, crop)\u001b[0m\n\u001b[0;32m    600\u001b[0m \u001b[1;33m\u001b[0m\u001b[0m\n\u001b[0;32m    601\u001b[0m     \u001b[1;32mfor\u001b[0m \u001b[0mn\u001b[0m \u001b[1;32min\u001b[0m \u001b[0mrange\u001b[0m\u001b[1;33m(\u001b[0m\u001b[0mN\u001b[0m\u001b[1;33m)\u001b[0m\u001b[1;33m:\u001b[0m\u001b[1;33m\u001b[0m\u001b[0m\n\u001b[1;32m--> 602\u001b[1;33m         \u001b[0mws\u001b[0m \u001b[1;33m=\u001b[0m \u001b[0mUtil\u001b[0m\u001b[1;33m.\u001b[0m\u001b[0mrandom_watershed\u001b[0m\u001b[1;33m(\u001b[0m\u001b[0mdilated_binary\u001b[0m\u001b[1;33m,\u001b[0m \u001b[0mspeed_image\u001b[0m\u001b[1;33m,\u001b[0m \u001b[0mborder_seeds\u001b[0m\u001b[1;33m=\u001b[0m\u001b[0mborder_seeds\u001b[0m\u001b[1;33m,\u001b[0m \u001b[0merode\u001b[0m\u001b[1;33m=\u001b[0m\u001b[0merode\u001b[0m\u001b[1;33m)\u001b[0m\u001b[1;33m\u001b[0m\u001b[0m\n\u001b[0m\u001b[0;32m    603\u001b[0m \u001b[1;33m\u001b[0m\u001b[0m\n\u001b[0;32m    604\u001b[0m         \u001b[1;32mif\u001b[0m \u001b[0mws\u001b[0m\u001b[1;33m.\u001b[0m\u001b[0mmax\u001b[0m\u001b[1;33m(\u001b[0m\u001b[1;33m)\u001b[0m \u001b[1;33m==\u001b[0m \u001b[1;36m0\u001b[0m\u001b[1;33m:\u001b[0m\u001b[1;33m\u001b[0m\u001b[0m\n",
      "\u001b[1;32m/home/d/Projects/em-quality-metric/Reignite/util.pyc\u001b[0m in \u001b[0;36mrandom_watershed\u001b[1;34m(array, speed_image, border_seeds, erode)\u001b[0m\n\u001b[0;32m    549\u001b[0m     \u001b[1;31m# Util.view(seeds,large=True)\u001b[0m\u001b[1;33m\u001b[0m\u001b[1;33m\u001b[0m\u001b[0m\n\u001b[0;32m    550\u001b[0m     \u001b[1;31m# print speed_image.shape, seeds.shape\u001b[0m\u001b[1;33m\u001b[0m\u001b[1;33m\u001b[0m\u001b[0m\n\u001b[1;32m--> 551\u001b[1;33m     \u001b[0mws\u001b[0m \u001b[1;33m=\u001b[0m \u001b[0mmh\u001b[0m\u001b[1;33m.\u001b[0m\u001b[0mcwatershed\u001b[0m\u001b[1;33m(\u001b[0m\u001b[0mspeed_image\u001b[0m\u001b[1;33m,\u001b[0m \u001b[0mseeds\u001b[0m\u001b[1;33m)\u001b[0m\u001b[1;33m\u001b[0m\u001b[0m\n\u001b[0m\u001b[0;32m    552\u001b[0m     \u001b[0mws\u001b[0m\u001b[1;33m[\u001b[0m\u001b[0marray\u001b[0m \u001b[1;33m==\u001b[0m \u001b[1;36m0\u001b[0m\u001b[1;33m]\u001b[0m \u001b[1;33m=\u001b[0m \u001b[1;36m0\u001b[0m\u001b[1;33m\u001b[0m\u001b[0m\n\u001b[0;32m    553\u001b[0m \u001b[1;33m\u001b[0m\u001b[0m\n",
      "\u001b[1;32m/home/d/nolearn/local/lib/python2.7/site-packages/mahotas/morph.pyc\u001b[0m in \u001b[0;36mcwatershed\u001b[1;34m(surface, markers, Bc, return_lines)\u001b[0m\n\u001b[0;32m    310\u001b[0m     \u001b[0mmarkers\u001b[0m \u001b[1;33m=\u001b[0m \u001b[0mmarkers\u001b[0m\u001b[1;33m.\u001b[0m\u001b[0mastype\u001b[0m\u001b[1;33m(\u001b[0m\u001b[0mnp\u001b[0m\u001b[1;33m.\u001b[0m\u001b[0mint64\u001b[0m\u001b[1;33m)\u001b[0m\u001b[1;33m\u001b[0m\u001b[0m\n\u001b[0;32m    311\u001b[0m     \u001b[0mBc\u001b[0m \u001b[1;33m=\u001b[0m \u001b[0mget_structuring_elem\u001b[0m\u001b[1;33m(\u001b[0m\u001b[0msurface\u001b[0m\u001b[1;33m,\u001b[0m \u001b[0mBc\u001b[0m\u001b[1;33m)\u001b[0m\u001b[1;33m\u001b[0m\u001b[0m\n\u001b[1;32m--> 312\u001b[1;33m     \u001b[1;32mreturn\u001b[0m \u001b[0m_morph\u001b[0m\u001b[1;33m.\u001b[0m\u001b[0mcwatershed\u001b[0m\u001b[1;33m(\u001b[0m\u001b[0msurface\u001b[0m\u001b[1;33m,\u001b[0m \u001b[0mmarkers\u001b[0m\u001b[1;33m,\u001b[0m \u001b[0mBc\u001b[0m\u001b[1;33m,\u001b[0m \u001b[0mbool\u001b[0m\u001b[1;33m(\u001b[0m\u001b[0mreturn_lines\u001b[0m\u001b[1;33m)\u001b[0m\u001b[1;33m)\u001b[0m\u001b[1;33m\u001b[0m\u001b[0m\n\u001b[0m\u001b[0;32m    313\u001b[0m \u001b[1;33m\u001b[0m\u001b[0m\n\u001b[0;32m    314\u001b[0m \u001b[1;32mdef\u001b[0m \u001b[0mhitmiss\u001b[0m\u001b[1;33m(\u001b[0m\u001b[0minput\u001b[0m\u001b[1;33m,\u001b[0m \u001b[0mBc\u001b[0m\u001b[1;33m,\u001b[0m \u001b[0mout\u001b[0m\u001b[1;33m=\u001b[0m\u001b[0mNone\u001b[0m\u001b[1;33m,\u001b[0m \u001b[0moutput\u001b[0m\u001b[1;33m=\u001b[0m\u001b[0mNone\u001b[0m\u001b[1;33m)\u001b[0m\u001b[1;33m:\u001b[0m\u001b[1;33m\u001b[0m\u001b[0m\n",
      "\u001b[1;31mKeyboardInterrupt\u001b[0m: "
     ]
    }
   ],
   "source": [
    "merge_errors = get_merge_errors(cnn, image, prob, rhoana)"
   ]
  },
  {
   "cell_type": "code",
   "execution_count": 16,
   "metadata": {
    "collapsed": false
   },
   "outputs": [],
   "source": [
    "def get_merge_errors(cnn, input_image, input_prob, input_rhoana):\n",
    "    #\n",
    "    # this creates the top bins for the best five merge splits but also simulates the user who picks the best\n",
    "    #\n",
    "    #\n",
    "    t0 = time.time()\n",
    "    fixed_volume = np.array(input_rhoana)\n",
    "\n",
    "    merge_errors = []\n",
    "        \n",
    "    hist = Util.get_histogram(input_rhoana.astype(np.uint64))\n",
    "    labels = range(len(hist))\n",
    "\n",
    "    fixed_slice = np.array(input_rhoana, dtype=np.uint64)\n",
    "\n",
    "    for l in labels:\n",
    "\n",
    "        if l == 0 or hist[l]<3000:\n",
    "            continue\n",
    "\n",
    "        # single binary mask for label l\n",
    "        before_merge_error = np.zeros(input_rhoana.shape)\n",
    "        before_merge_error[fixed_slice == l] = 1\n",
    "\n",
    "        results = Fixer.fix_single_merge(cnn,\n",
    "                                          input_image,\n",
    "                                          input_prob,\n",
    "                                          before_merge_error, N=50, \n",
    "                                          erode=True, \n",
    "                                          invert=True,\n",
    "                                          dilate=True,\n",
    "                                          border_seeds=True,\n",
    "                                          oversampling=False)\n",
    "\n",
    "        if len(results) > 0:\n",
    "\n",
    "            #\n",
    "            # SORT THE PREDICTIONS (prediction, border)-tupels\n",
    "            # LOOK AT TOP 5\n",
    "            sorted_pred = sorted(results, key=lambda x: x[0])\n",
    "\n",
    "            top5 = sorted_pred[:5]\n",
    "\n",
    "            lowest_prediction = sorted_pred[0][0]\n",
    "\n",
    "\n",
    "            # store the merge error\n",
    "            # we need to store: z, l, results_no_border, borders, predictions\n",
    "            merge_errors.append((0, l, lowest_prediction, (top5)))\n",
    "                \n",
    "    if verbose:\n",
    "      print 'merge error correction done after',time.time()-t0, 'seconds'\n",
    "\n",
    "    return merge_errors"
   ]
  },
  {
   "cell_type": "code",
   "execution_count": 20,
   "metadata": {
    "collapsed": false
   },
   "outputs": [
    {
     "name": "stdout",
     "output_type": "stream",
     "text": [
      "Loading z00000250.png\n",
      "6252 generated in 386.685360909 seconds.\n",
      "Grouped into 1533 patches in 0.0252959728241 seconds.\n",
      "Merge loop finished in 371.824840069 seconds.\n",
      "Before VI: 0.372949984393\n",
      "Smallest VI: 0.344331472155\n",
      "Sureness threshold: 0.975017488003\n",
      "Loading z00000251.png\n",
      "5820 generated in 357.727037907 seconds.\n",
      "Grouped into 1422 patches in 0.0253109931946 seconds.\n",
      "Merge loop finished in 348.276534081 seconds.\n",
      "Before VI: 0.375702196618\n",
      "Smallest VI: 0.343974283504\n",
      "Sureness threshold: 0.999323785305\n",
      "Loading z00000252.png\n",
      "6368 generated in 396.131755829 seconds.\n",
      "Grouped into 1572 patches in 0.0281329154968 seconds.\n",
      "Merge loop finished in 373.461359978 seconds.\n",
      "Before VI: 0.410965843839\n",
      "Smallest VI: 0.36383302442\n",
      "Sureness threshold: 0.989225804806\n",
      "Loading z00000253.png\n",
      "5692 generated in 349.935687065 seconds.\n",
      "Grouped into 1402 patches in 0.0252420902252 seconds.\n",
      "Merge loop finished in 362.181889057 seconds.\n",
      "Before VI: 0.373934285105\n",
      "Smallest VI: 0.338268001883\n",
      "Sureness threshold: 0.99169665575\n",
      "Loading z00000254.png\n",
      "5460 generated in 338.16586709 seconds.\n",
      "Grouped into 1339 patches in 0.024120092392 seconds.\n",
      "Merge loop finished in 306.664346933 seconds.\n",
      "Before VI: 0.376228753109\n",
      "Smallest VI: 0.35554420284\n",
      "Sureness threshold: 0.991744220257\n",
      "Loading z00000255.png\n",
      "5404 generated in 333.222423077 seconds.\n",
      "Grouped into 1313 patches in 0.0237009525299 seconds.\n",
      "Merge loop finished in 295.491295099 seconds.\n",
      "Before VI: 0.373857608206\n",
      "Smallest VI: 0.348085298261\n",
      "Sureness threshold: 0.960476219654\n",
      "Loading z00000256.png\n",
      "5724 generated in 344.39958787 seconds.\n",
      "Grouped into 1393 patches in 0.0253810882568 seconds.\n",
      "Merge loop finished in 280.507729053 seconds.\n",
      "Before VI: 0.401403759767\n",
      "Smallest VI: 0.360320064514\n",
      "Sureness threshold: 0.965497374535\n",
      "Loading z00000257.png\n",
      "5524 generated in 338.366162062 seconds.\n",
      "Grouped into 1353 patches in 0.0232892036438 seconds.\n",
      "Merge loop finished in 338.301222086 seconds.\n",
      "Before VI: 0.455460938248\n",
      "Smallest VI: 0.420427119543\n",
      "Sureness threshold: 0.995136857033\n",
      "Loading z00000258.png\n",
      "5348 generated in 326.984452963 seconds.\n",
      "Grouped into 1304 patches in 0.020751953125 seconds.\n",
      "Merge loop finished in 288.269065857 seconds.\n",
      "Before VI: 0.446285783704\n",
      "Smallest VI: 0.414454931702\n",
      "Sureness threshold: 0.982235252857\n",
      "Loading z00000259.png\n",
      "5332 generated in 327.05881691 seconds.\n",
      "Grouped into 1299 patches in 0.0229868888855 seconds.\n",
      "Merge loop finished in 336.022304058 seconds.\n",
      "Before VI: 0.603034027102\n",
      "Smallest VI: 0.555039663767\n",
      "Sureness threshold: 0.990361571312\n",
      "Loading z00000260.png\n",
      "5240 generated in 318.138362169 seconds.\n",
      "Grouped into 1274 patches in 0.022696018219 seconds.\n",
      "Merge loop finished in 316.873296022 seconds.\n",
      "Before VI: 0.616351959027\n",
      "Smallest VI: 0.566629492523\n",
      "Sureness threshold: 0.99999666214\n",
      "Loading z00000261.png\n",
      "4836 generated in 296.357830048 seconds.\n",
      "Grouped into 1185 patches in 0.021271944046 seconds.\n",
      "Merge loop finished in 361.712471962 seconds.\n",
      "Before VI: 0.608701502373\n",
      "Smallest VI: 0.579992338535\n",
      "Sureness threshold: 0.993589401245\n",
      "Loading z00000262.png\n",
      "4840 generated in 297.72715497 seconds.\n",
      "Grouped into 1185 patches in 0.0209279060364 seconds.\n",
      "Merge loop finished in 242.886032104 seconds.\n",
      "Before VI: 0.591902475923\n",
      "Smallest VI: 0.532541068749\n",
      "Sureness threshold: 0.998143553734\n",
      "Loading z00000263.png\n",
      "4600 generated in 278.760028124 seconds.\n",
      "Grouped into 1131 patches in 0.0196390151978 seconds.\n",
      "Merge loop finished in 257.440736055 seconds.\n",
      "Before VI: 0.560545712985\n",
      "Smallest VI: 0.518949482753\n",
      "Sureness threshold: 0.985789418221\n",
      "Loading z00000264.png\n",
      "4548 generated in 285.589172125 seconds.\n",
      "Grouped into 1114 patches in 0.0195429325104 seconds.\n",
      "Merge loop finished in 247.411646843 seconds.\n",
      "Before VI: 0.570592566491\n",
      "Smallest VI: 0.513395047367\n",
      "Sureness threshold: 0.955864965916\n",
      "Loading z00000265.png\n",
      "4012 generated in 246.433806896 seconds.\n",
      "Grouped into 985 patches in 0.0172388553619 seconds.\n",
      "Merge loop finished in 219.643003225 seconds.\n",
      "Before VI: 0.595265103518\n",
      "Smallest VI: 0.570861529975\n",
      "Sureness threshold: 0.999715268612\n",
      "Loading z00000266.png\n",
      "3820 generated in 234.84039712 seconds.\n",
      "Grouped into 938 patches in 0.0166201591492 seconds.\n",
      "Merge loop finished in 252.312011003 seconds.\n",
      "Before VI: 0.579561598138\n",
      "Smallest VI: 0.512349516642\n",
      "Sureness threshold: 0.991411805153\n",
      "Loading z00000267.png\n",
      "3680 generated in 224.878064156 seconds.\n",
      "Grouped into 907 patches in 0.014454126358 seconds.\n",
      "Merge loop finished in 206.806972027 seconds.\n",
      "Before VI: 0.559416650154\n",
      "Smallest VI: 0.514537388718\n",
      "Sureness threshold: 0.999953746796\n",
      "Loading z00000268.png\n",
      "3620 generated in 223.79283905 seconds.\n",
      "Grouped into 889 patches in 0.0141100883484 seconds.\n",
      "Merge loop finished in 221.32326889 seconds.\n",
      "Before VI: 0.499463237204\n",
      "Smallest VI: 0.430577644131\n",
      "Sureness threshold: 0.965389370918\n",
      "Loading z00000269.png\n",
      "3488 generated in 215.678733826 seconds.\n",
      "Grouped into 864 patches in 0.0149300098419 seconds.\n",
      "Merge loop finished in 223.785399914 seconds.\n",
      "Before VI: 0.446189797402\n",
      "Smallest VI: 0.36598332316\n",
      "Sureness threshold: 0.997555971146\n",
      "Loading z00000270.png\n",
      "3104 generated in 188.982439041 seconds.\n",
      "Grouped into 764 patches in 0.0132639408112 seconds.\n",
      "Merge loop finished in 168.516304016 seconds.\n",
      "Before VI: 0.454863194335\n",
      "Smallest VI: 0.396994132553\n",
      "Sureness threshold: 0.960948705673\n",
      "Loading z00000271.png\n",
      "3032 generated in 184.466210127 seconds.\n",
      "Grouped into 741 patches in 0.0130450725555 seconds.\n",
      "Merge loop finished in 161.525510788 seconds.\n",
      "Before VI: 0.420502313963\n",
      "Smallest VI: 0.358216331162\n",
      "Sureness threshold: 0.959465444088\n",
      "Loading z00000272.png\n",
      "2824 generated in 173.55311799 seconds.\n",
      "Grouped into 688 patches in 0.0122661590576 seconds.\n",
      "Merge loop finished in 138.019020081 seconds.\n",
      "Before VI: 0.438592181023\n",
      "Smallest VI: 0.373352264742\n",
      "Sureness threshold: 0.984125614166\n",
      "Loading z00000273.png\n",
      "2700 generated in 166.226846218 seconds.\n",
      "Grouped into 670 patches in 0.0115900039673 seconds.\n",
      "Merge loop finished in 116.444005013 seconds.\n",
      "Before VI: 0.470558434538\n",
      "Smallest VI: 0.427438602858\n",
      "Sureness threshold: 0.989239573479\n",
      "Loading z00000274.png\n",
      "2484 generated in 157.591665983 seconds.\n",
      "Grouped into 608 patches in 0.0107998847961 seconds.\n",
      "Merge loop finished in 129.042482853 seconds.\n",
      "Before VI: 0.433080538249\n",
      "Smallest VI: 0.386754709394\n",
      "Sureness threshold: 0.994497776031\n",
      "Loading z00000275.png\n",
      "2160 generated in 138.432990074 seconds.\n",
      "Grouped into 533 patches in 0.00915217399597 seconds.\n",
      "Merge loop finished in 103.96447897 seconds.\n",
      "Before VI: 0.527164362396\n",
      "Smallest VI: 0.434615455119\n",
      "Sureness threshold: 0.962284445763\n",
      "Loading z00000276.png\n",
      "2020 generated in 129.822510958 seconds.\n",
      "Grouped into 501 patches in 0.00882315635681 seconds.\n",
      "Merge loop finished in 91.2449638844 seconds.\n",
      "Before VI: 0.498845369559\n",
      "Smallest VI: 0.408557740681\n",
      "Sureness threshold: 0.950933218002\n",
      "Loading z00000277.png\n",
      "2020 generated in 127.499876976 seconds.\n",
      "Grouped into 501 patches in 0.00926208496094 seconds.\n",
      "Merge loop finished in 97.9586899281 seconds.\n",
      "Before VI: 0.525181909745\n",
      "Smallest VI: 0.469148717168\n",
      "Sureness threshold: 0.994035482407\n",
      "Loading z00000278.png\n",
      "1988 generated in 126.889945984 seconds.\n",
      "Grouped into 496 patches in 0.00846385955811 seconds.\n",
      "Merge loop finished in 102.323601007 seconds.\n",
      "Before VI: 0.530762370939\n",
      "Smallest VI: 0.46902137382\n",
      "Sureness threshold: 0.990229487419\n",
      "Loading z00000279.png\n",
      "2032 generated in 132.101382017 seconds.\n",
      "Grouped into 506 patches in 0.00876188278198 seconds.\n",
      "Merge loop finished in 85.8762140274 seconds.\n",
      "Before VI: 0.575567464294\n",
      "Smallest VI: 0.484538493313\n",
      "Sureness threshold: 0.970019459724\n",
      "Loading z00000280.png\n",
      "1644 generated in 104.898836136 seconds.\n",
      "Grouped into 409 patches in 0.00702404975891 seconds.\n",
      "Merge loop finished in 62.2929418087 seconds.\n",
      "Before VI: 0.549671422703\n",
      "Smallest VI: 0.472387938429\n",
      "Sureness threshold: 0.962633728981\n",
      "Loading z00000281.png\n",
      "1384 generated in 84.2230861187 seconds.\n",
      "Grouped into 341 patches in 0.00608396530151 seconds.\n",
      "Merge loop finished in 51.0476160049 seconds.\n",
      "Before VI: 0.430850320435\n",
      "Smallest VI: 0.382108755627\n",
      "Sureness threshold: 0.99257260561\n",
      "Loading z00000282.png\n",
      "1348 generated in 84.3126699924 seconds.\n",
      "Grouped into 334 patches in 0.00574088096619 seconds.\n",
      "Merge loop finished in 49.3323719501 seconds.\n",
      "Before VI: 0.502439575425\n",
      "Smallest VI: 0.464773267729\n",
      "Sureness threshold: 0.999990344048\n",
      "Loading z00000283.png\n",
      "1144 generated in 73.0095560551 seconds.\n",
      "Grouped into 283 patches in 0.00490212440491 seconds.\n",
      "Merge loop finished in 37.622811079 seconds.\n",
      "Before VI: 0.498934910486\n",
      "Smallest VI: 0.432371128829\n",
      "Sureness threshold: 0.983648121357\n",
      "Loading z00000284.png\n",
      "1148 generated in 75.0422320366 seconds.\n",
      "Grouped into 285 patches in 0.00494885444641 seconds.\n",
      "Merge loop finished in 36.2039890289 seconds.\n",
      "Before VI: 0.546162170503\n",
      "Smallest VI: 0.472584167683\n",
      "Sureness threshold: 0.987103819847\n",
      "Loading z00000285.png\n",
      "1080 generated in 69.9644720554 seconds.\n",
      "Grouped into 270 patches in 0.00452780723572 seconds.\n",
      "Merge loop finished in 48.1091849804 seconds.\n",
      "Before VI: 0.485076187154\n",
      "Smallest VI: 0.420325821321\n",
      "Sureness threshold: 0.999902963638\n",
      "Loading z00000286.png\n",
      "880 generated in 60.853443861 seconds.\n",
      "Grouped into 219 patches in 0.00378894805908 seconds.\n",
      "Merge loop finished in 27.2412161827 seconds.\n",
      "Before VI: 0.480080172758\n",
      "Smallest VI: 0.435512374593\n",
      "Sureness threshold: 0.976541996002\n",
      "Loading z00000287.png\n",
      "884 generated in 61.0203840733 seconds.\n",
      "Grouped into 221 patches in 0.00378799438477 seconds.\n",
      "Merge loop finished in 38.9682309628 seconds.\n",
      "Before VI: 0.562095986661\n",
      "Smallest VI: 0.489517179159\n",
      "Sureness threshold: 0.959184885025\n",
      "Loading z00000288.png\n",
      "932 generated in 63.4760050774 seconds.\n",
      "Grouped into 233 patches in 0.00393486022949 seconds.\n",
      "Merge loop finished in 38.0789108276 seconds.\n",
      "Before VI: 0.63535469032\n",
      "Smallest VI: 0.527851847375\n",
      "Sureness threshold: 0.999095678329\n",
      "Loading z00000289.png\n",
      "804 generated in 54.7261900902 seconds.\n",
      "Grouped into 201 patches in 0.00334596633911 seconds.\n",
      "Merge loop finished in 23.4837818146 seconds.\n",
      "Before VI: 0.562789669677\n",
      "Smallest VI: 0.504441169545\n",
      "Sureness threshold: 0.964781463146\n",
      "Loading z00000290.png\n",
      "700 generated in 47.6996848583 seconds.\n",
      "Grouped into 174 patches in 0.00341987609863 seconds.\n",
      "Merge loop finished in 15.3431069851 seconds.\n",
      "Before VI: 0.524732743871\n",
      "Smallest VI: 0.482872056674\n",
      "Sureness threshold: 0.962143063545\n",
      "Loading z00000291.png\n",
      "628 generated in 43.3141198158 seconds.\n",
      "Grouped into 157 patches in 0.00268912315369 seconds.\n",
      "Merge loop finished in 18.722951889 seconds.\n",
      "Before VI: 0.52662549474\n",
      "Smallest VI: 0.500136589303\n",
      "Sureness threshold: 0.996558725834\n",
      "Loading z00000292.png\n",
      "476 generated in 35.0209481716 seconds.\n",
      "Grouped into 119 patches in 0.00303220748901 seconds.\n",
      "Merge loop finished in 13.1134431362 seconds.\n",
      "Before VI: 0.460475489865\n",
      "Smallest VI: 0.424047410807\n",
      "Sureness threshold: 0.998459100723\n",
      "Loading z00000293.png\n",
      "388 generated in 30.4110519886 seconds.\n",
      "Grouped into 97 patches in 0.00170207023621 seconds.\n",
      "Merge loop finished in 9.15893697739 seconds.\n",
      "Before VI: 0.484419146456\n",
      "Smallest VI: 0.459103699089\n",
      "Sureness threshold: 0.999609351158\n",
      "Loading z00000294.png\n",
      "320 generated in 25.166533947 seconds.\n",
      "Grouped into 80 patches in 0.00138211250305 seconds.\n",
      "Merge loop finished in 6.57029294968 seconds.\n",
      "Before VI: 0.45249120153\n",
      "Smallest VI: 0.436051344866\n",
      "Sureness threshold: 0.996336221695\n",
      "Loading z00000295.png\n",
      "252 generated in 20.3746590614 seconds.\n",
      "Grouped into 63 patches in 0.00109696388245 seconds.\n",
      "Merge loop finished in 7.95101809502 seconds.\n",
      "Before VI: 0.411820231346\n",
      "Smallest VI: 0.407050943748\n",
      "Sureness threshold: 0.966889679432\n",
      "Loading z00000296.png\n",
      "200 generated in 16.8827619553 seconds.\n",
      "Grouped into 50 patches in 0.00102591514587 seconds.\n",
      "Merge loop finished in 6.20826601982 seconds.\n",
      "Before VI: 0.402297246029\n",
      "Smallest VI: 0.396580240991\n",
      "Sureness threshold: 0.999927639961\n",
      "Loading z00000297.png\n",
      "72 generated in 7.40952992439 seconds.\n",
      "Grouped into 18 patches in 0.000473022460938 seconds.\n",
      "Merge loop finished in 2.33453583717 seconds.\n",
      "Before VI: 0.327394981131\n",
      "Smallest VI: 0.326471181015\n",
      "Sureness threshold: 0.99981212616\n",
      "Loading z00000298.png\n",
      "4 generated in 4.51580905914 seconds.\n",
      "Grouped into 1 patches in 0.000289916992188 seconds.\n",
      "Merge loop finished in 0.000385999679565 seconds.\n"
     ]
    },
    {
     "ename": "ValueError",
     "evalue": "zero-size array to reduction operation minimum which has no identity",
     "output_type": "error",
     "traceback": [
      "\u001b[1;31m---------------------------------------------------------------------------\u001b[0m",
      "\u001b[1;31mValueError\u001b[0m                                Traceback (most recent call last)",
      "\u001b[1;32m<ipython-input-20-259d3e224371>\u001b[0m in \u001b[0;36m<module>\u001b[1;34m()\u001b[0m\n\u001b[0;32m      8\u001b[0m     vi_s, merge_pairs, surenesses, m = Fixer.splits(cnn,image, prob, rhoana, gold, \n\u001b[0;32m      9\u001b[0m                                                      \u001b[0msureness_threshold\u001b[0m\u001b[1;33m=\u001b[0m\u001b[1;36m.95\u001b[0m\u001b[1;33m,\u001b[0m\u001b[1;33m\u001b[0m\u001b[0m\n\u001b[1;32m---> 10\u001b[1;33m                                                      verbose=True)\n\u001b[0m\u001b[0;32m     11\u001b[0m     \u001b[0mm_s\u001b[0m\u001b[1;33m.\u001b[0m\u001b[0mappend\u001b[0m\u001b[1;33m(\u001b[0m\u001b[0mm\u001b[0m\u001b[1;33m)\u001b[0m\u001b[1;33m\u001b[0m\u001b[0m\n\u001b[0;32m     12\u001b[0m     \u001b[0mcylinder_vi_s\u001b[0m\u001b[1;33m.\u001b[0m\u001b[0mappend\u001b[0m\u001b[1;33m(\u001b[0m\u001b[0mvi_s\u001b[0m\u001b[1;33m[\u001b[0m\u001b[1;33m-\u001b[0m\u001b[1;36m1\u001b[0m\u001b[1;33m]\u001b[0m\u001b[1;33m)\u001b[0m\u001b[1;33m\u001b[0m\u001b[0m\n",
      "\u001b[1;32m/home/d/Projects/em-quality-metric/Reignite/fixer.py\u001b[0m in \u001b[0;36msplits\u001b[1;34m(cnn, image, prob, segmentation, groundtruth, sureness_threshold, smallest_first, oversampling, verbose, max)\u001b[0m\n\u001b[0;32m    546\u001b[0m \u001b[1;33m\u001b[0m\u001b[0m\n\u001b[0;32m    547\u001b[0m     \u001b[1;32mif\u001b[0m \u001b[0mgroundtruth\u001b[0m\u001b[1;33m.\u001b[0m\u001b[0mshape\u001b[0m\u001b[1;33m[\u001b[0m\u001b[1;36m0\u001b[0m\u001b[1;33m]\u001b[0m\u001b[1;33m>\u001b[0m\u001b[1;36m1\u001b[0m \u001b[1;32mand\u001b[0m \u001b[0mgroundtruth\u001b[0m\u001b[1;33m.\u001b[0m\u001b[0mmax\u001b[0m\u001b[1;33m(\u001b[0m\u001b[1;33m)\u001b[0m\u001b[1;33m!=\u001b[0m\u001b[1;36m0\u001b[0m\u001b[1;33m:\u001b[0m\u001b[1;33m\u001b[0m\u001b[0m\n\u001b[1;32m--> 548\u001b[1;33m       \u001b[0mmin_vi_index\u001b[0m \u001b[1;33m=\u001b[0m \u001b[0mvi_s\u001b[0m\u001b[1;33m.\u001b[0m\u001b[0mindex\u001b[0m\u001b[1;33m(\u001b[0m\u001b[0mnp\u001b[0m\u001b[1;33m.\u001b[0m\u001b[0mmin\u001b[0m\u001b[1;33m(\u001b[0m\u001b[0mvi_s\u001b[0m\u001b[1;33m)\u001b[0m\u001b[1;33m)\u001b[0m\u001b[1;33m\u001b[0m\u001b[0m\n\u001b[0m\u001b[0;32m    549\u001b[0m       \u001b[1;32mif\u001b[0m \u001b[0mverbose\u001b[0m\u001b[1;33m:\u001b[0m\u001b[1;33m\u001b[0m\u001b[0m\n\u001b[0;32m    550\u001b[0m         \u001b[1;32mprint\u001b[0m \u001b[1;34m'Before VI:'\u001b[0m\u001b[1;33m,\u001b[0m \u001b[0mbefore_vi\u001b[0m\u001b[1;33m\u001b[0m\u001b[0m\n",
      "\u001b[1;32m/home/d/nolearn/local/lib/python2.7/site-packages/numpy/core/fromnumeric.pyc\u001b[0m in \u001b[0;36mamin\u001b[1;34m(a, axis, out, keepdims)\u001b[0m\n\u001b[0;32m   2347\u001b[0m         \u001b[1;32mexcept\u001b[0m \u001b[0mAttributeError\u001b[0m\u001b[1;33m:\u001b[0m\u001b[1;33m\u001b[0m\u001b[0m\n\u001b[0;32m   2348\u001b[0m             return _methods._amin(a, axis=axis,\n\u001b[1;32m-> 2349\u001b[1;33m                                   out=out, keepdims=keepdims)\n\u001b[0m\u001b[0;32m   2350\u001b[0m         \u001b[1;31m# NOTE: Dropping the keepdims parameter\u001b[0m\u001b[1;33m\u001b[0m\u001b[1;33m\u001b[0m\u001b[0m\n\u001b[0;32m   2351\u001b[0m         \u001b[1;32mreturn\u001b[0m \u001b[0mamin\u001b[0m\u001b[1;33m(\u001b[0m\u001b[0maxis\u001b[0m\u001b[1;33m=\u001b[0m\u001b[0maxis\u001b[0m\u001b[1;33m,\u001b[0m \u001b[0mout\u001b[0m\u001b[1;33m=\u001b[0m\u001b[0mout\u001b[0m\u001b[1;33m)\u001b[0m\u001b[1;33m\u001b[0m\u001b[0m\n",
      "\u001b[1;32m/home/d/nolearn/local/lib/python2.7/site-packages/numpy/core/_methods.pyc\u001b[0m in \u001b[0;36m_amin\u001b[1;34m(a, axis, out, keepdims)\u001b[0m\n\u001b[0;32m     27\u001b[0m \u001b[1;33m\u001b[0m\u001b[0m\n\u001b[0;32m     28\u001b[0m \u001b[1;32mdef\u001b[0m \u001b[0m_amin\u001b[0m\u001b[1;33m(\u001b[0m\u001b[0ma\u001b[0m\u001b[1;33m,\u001b[0m \u001b[0maxis\u001b[0m\u001b[1;33m=\u001b[0m\u001b[0mNone\u001b[0m\u001b[1;33m,\u001b[0m \u001b[0mout\u001b[0m\u001b[1;33m=\u001b[0m\u001b[0mNone\u001b[0m\u001b[1;33m,\u001b[0m \u001b[0mkeepdims\u001b[0m\u001b[1;33m=\u001b[0m\u001b[0mFalse\u001b[0m\u001b[1;33m)\u001b[0m\u001b[1;33m:\u001b[0m\u001b[1;33m\u001b[0m\u001b[0m\n\u001b[1;32m---> 29\u001b[1;33m     \u001b[1;32mreturn\u001b[0m \u001b[0mumr_minimum\u001b[0m\u001b[1;33m(\u001b[0m\u001b[0ma\u001b[0m\u001b[1;33m,\u001b[0m \u001b[0maxis\u001b[0m\u001b[1;33m,\u001b[0m \u001b[0mNone\u001b[0m\u001b[1;33m,\u001b[0m \u001b[0mout\u001b[0m\u001b[1;33m,\u001b[0m \u001b[0mkeepdims\u001b[0m\u001b[1;33m)\u001b[0m\u001b[1;33m\u001b[0m\u001b[0m\n\u001b[0m\u001b[0;32m     30\u001b[0m \u001b[1;33m\u001b[0m\u001b[0m\n\u001b[0;32m     31\u001b[0m \u001b[1;32mdef\u001b[0m \u001b[0m_sum\u001b[0m\u001b[1;33m(\u001b[0m\u001b[0ma\u001b[0m\u001b[1;33m,\u001b[0m \u001b[0maxis\u001b[0m\u001b[1;33m=\u001b[0m\u001b[0mNone\u001b[0m\u001b[1;33m,\u001b[0m \u001b[0mdtype\u001b[0m\u001b[1;33m=\u001b[0m\u001b[0mNone\u001b[0m\u001b[1;33m,\u001b[0m \u001b[0mout\u001b[0m\u001b[1;33m=\u001b[0m\u001b[0mNone\u001b[0m\u001b[1;33m,\u001b[0m \u001b[0mkeepdims\u001b[0m\u001b[1;33m=\u001b[0m\u001b[0mFalse\u001b[0m\u001b[1;33m)\u001b[0m\u001b[1;33m:\u001b[0m\u001b[1;33m\u001b[0m\u001b[0m\n",
      "\u001b[1;31mValueError\u001b[0m: zero-size array to reduction operation minimum which has no identity"
     ]
    }
   ],
   "source": [
    "before_vi_s = []\n",
    "cylinder_vi_s = []\n",
    "vi_diffs = []\n",
    "m_s = []\n",
    "for z in range(250, 300):\n",
    "    image, prob, mask, gold, rhoana = mlp.Util.read_section('/home/d/data/cylinder/', z)\n",
    "    before_vi_s.append(Util.vi(gold, rhoana))\n",
    "    vi_s, merge_pairs, surenesses, m = Fixer.splits(cnn,image, prob, rhoana, gold, \n",
    "                                                     sureness_threshold=.95,\n",
    "                                                     verbose=True)\n",
    "    m_s.append(m)\n",
    "    cylinder_vi_s.append(vi_s[-1])\n",
    "    vi_diffs.append(before_vi_s[-1]-cylinder_vi_s[-1])"
   ]
  },
  {
   "cell_type": "code",
   "execution_count": 21,
   "metadata": {
    "collapsed": false
   },
   "outputs": [
    {
     "data": {
      "text/plain": [
       "298"
      ]
     },
     "execution_count": 21,
     "metadata": {},
     "output_type": "execute_result"
    }
   ],
   "source": [
    "z"
   ]
  },
  {
   "cell_type": "code",
   "execution_count": 22,
   "metadata": {
    "collapsed": false
   },
   "outputs": [
    {
     "data": {
      "text/plain": [
       "[0.02850410016100291,\n",
       " 0.026289098543847977,\n",
       " 0.04243903505271085,\n",
       " 0.02135359013679672,\n",
       " 0.01788756281585613,\n",
       " 0.0257723099447853,\n",
       " 0.03040667797289487,\n",
       " 0.026439906495457244,\n",
       " 0.02527577840942552,\n",
       " 0.03613829031001892,\n",
       " 0.03773676193759101,\n",
       " 0.025346801262703167,\n",
       " 0.049446594838946645,\n",
       " 0.02602956391112432,\n",
       " 0.05444383674350739,\n",
       " 0.012760932746043174,\n",
       " 0.05841365165065593,\n",
       " 0.04231655233927967,\n",
       " 0.06756138542628953,\n",
       " 0.044623348293738374,\n",
       " 0.05717483029639947,\n",
       " 0.06218477911427556,\n",
       " 0.06358717938983727,\n",
       " 0.02988200089841797,\n",
       " 0.028029913104062665,\n",
       " 0.09205238607098387,\n",
       " 0.09028762887742481,\n",
       " 0.02937349489634844,\n",
       " 0.05321581456959734,\n",
       " 0.089790295851218,\n",
       " 0.07728348427360565,\n",
       " 0.04089020542771227,\n",
       " 0.008404536527030437,\n",
       " 0.06656378165668553,\n",
       " 0.07090021651908529,\n",
       " 0.05923234243461284,\n",
       " 0.044567798165193295,\n",
       " 0.07257880750171264,\n",
       " 0.08816872025487399,\n",
       " 0.05776560365426864,\n",
       " 0.041860687197528,\n",
       " 0.013331368105869323,\n",
       " 0.03483523119726062,\n",
       " 0.024997898933218465,\n",
       " 0.010620413362377512,\n",
       " 0.00475919457942986,\n",
       " 0.0003473012316996815,\n",
       " 0.0007455903436195399]"
      ]
     },
     "execution_count": 22,
     "metadata": {},
     "output_type": "execute_result"
    }
   ],
   "source": [
    "vi_diffs"
   ]
  },
  {
   "cell_type": "code",
   "execution_count": 38,
   "metadata": {
    "collapsed": false
   },
   "outputs": [
    {
     "data": {
      "text/plain": [
       "0.47479850263762785"
      ]
     },
     "execution_count": 38,
     "metadata": {},
     "output_type": "execute_result"
    }
   ],
   "source": [
    "np.mean(before_vi_s)"
   ]
  },
  {
   "cell_type": "code",
   "execution_count": 39,
   "metadata": {
    "collapsed": false
   },
   "outputs": [
    {
     "data": {
      "text/plain": [
       "0.43048052560018774"
      ]
     },
     "execution_count": 39,
     "metadata": {},
     "output_type": "execute_result"
    }
   ],
   "source": [
    "np.mean(cylinder_vi_s)"
   ]
  },
  {
   "cell_type": "code",
   "execution_count": 25,
   "metadata": {
    "collapsed": false
   },
   "outputs": [
    {
     "data": {
      "text/plain": [
       "[0.37294998439310856,\n",
       " 0.37570219661839666,\n",
       " 0.4109658438387207,\n",
       " 0.37393428510508553,\n",
       " 0.3762287531092978,\n",
       " 0.37385760820585645,\n",
       " 0.4014037597672475,\n",
       " 0.4554609382482129,\n",
       " 0.44628578370391203,\n",
       " 0.6030340271019625,\n",
       " 0.6163519590275044,\n",
       " 0.6087015023726021,\n",
       " 0.5919024759227103,\n",
       " 0.5605457129847213,\n",
       " 0.5705925664914542,\n",
       " 0.5952651035175354,\n",
       " 0.5795615981375537,\n",
       " 0.5594166501537927,\n",
       " 0.49946323720437213,\n",
       " 0.44618979740162246,\n",
       " 0.4548631943347914,\n",
       " 0.42050231396302173,\n",
       " 0.4385921810227087,\n",
       " 0.4705584345378737,\n",
       " 0.4330805382494942,\n",
       " 0.527164362396328,\n",
       " 0.4988453695588202,\n",
       " 0.5251819097450561,\n",
       " 0.5307623709392573,\n",
       " 0.5755674642935071,\n",
       " 0.5496714227025956,\n",
       " 0.4308503204354386,\n",
       " 0.5024395754252415,\n",
       " 0.4989349104857448,\n",
       " 0.5461621705031456,\n",
       " 0.48507618715427103,\n",
       " 0.4800801727583428,\n",
       " 0.5620959866608635,\n",
       " 0.6353546903196463,\n",
       " 0.5627896696766568,\n",
       " 0.5247327438711675,\n",
       " 0.5266254947401299,\n",
       " 0.46047548986476716,\n",
       " 0.48441914645616,\n",
       " 0.4524912015296758,\n",
       " 0.4118202313464083,\n",
       " 0.40229724602881056,\n",
       " 0.32739498113082055,\n",
       " 0.2032815684449769]"
      ]
     },
     "execution_count": 25,
     "metadata": {},
     "output_type": "execute_result"
    }
   ],
   "source": [
    "before_vi_s"
   ]
  },
  {
   "cell_type": "code",
   "execution_count": 29,
   "metadata": {
    "collapsed": false
   },
   "outputs": [
    {
     "data": {
      "text/plain": [
       "48"
      ]
     },
     "execution_count": 29,
     "metadata": {},
     "output_type": "execute_result"
    }
   ],
   "source": [
    "len(m_s)"
   ]
  },
  {
   "cell_type": "code",
   "execution_count": 32,
   "metadata": {
    "collapsed": false
   },
   "outputs": [
    {
     "ename": "IndexError",
     "evalue": "list index out of range",
     "output_type": "error",
     "traceback": [
      "\u001b[1;31m---------------------------------------------------------------------------\u001b[0m",
      "\u001b[1;31mIndexError\u001b[0m                                Traceback (most recent call last)",
      "\u001b[1;32m<ipython-input-32-43483250277b>\u001b[0m in \u001b[0;36m<module>\u001b[1;34m()\u001b[0m\n\u001b[1;32m----> 1\u001b[1;33m \u001b[0mm_s\u001b[0m\u001b[1;33m[\u001b[0m\u001b[1;36m298\u001b[0m\u001b[1;33m-\u001b[0m\u001b[1;36m250\u001b[0m\u001b[1;33m]\u001b[0m\u001b[1;33m\u001b[0m\u001b[0m\n\u001b[0m",
      "\u001b[1;31mIndexError\u001b[0m: list index out of range"
     ]
    }
   ],
   "source": [
    "m_s[298-250]"
   ]
  },
  {
   "cell_type": "code",
   "execution_count": 28,
   "metadata": {
    "collapsed": false
   },
   "outputs": [
    {
     "data": {
      "text/plain": [
       "[299]"
      ]
     },
     "execution_count": 28,
     "metadata": {},
     "output_type": "execute_result"
    }
   ],
   "source": [
    "range(299,300)"
   ]
  },
  {
   "cell_type": "code",
   "execution_count": 34,
   "metadata": {
    "collapsed": false
   },
   "outputs": [
    {
     "name": "stdout",
     "output_type": "stream",
     "text": [
      "Loading z00000298.png\n",
      "4 generated in 4.69571900368 seconds.\n",
      "Grouped into 1 patches in 6.29425048828e-05 seconds.\n",
      "Merge loop finished in 0.000369071960449 seconds.\n",
      "Loading z00000299.png\n",
      "0 generated in 0.0278921127319 seconds.\n",
      "Grouped into 0 patches in 2.90870666504e-05 seconds.\n",
      "Merge loop finished in 7.5101852417e-05 seconds.\n"
     ]
    }
   ],
   "source": [
    "# for z in range(298, 300):\n",
    "z=298\n",
    "image, prob, mask, gold, rhoana = mlp.Util.read_section('/home/d/data/cylinder/', z)\n",
    "#     before_vi_s.append(Util.vi(gold, rhoana))\n",
    "vi_s, merge_pairs, surenesses, m = Fixer.splits(cnn,image, prob, rhoana, gold, \n",
    "                                                 sureness_threshold=.95,\n",
    "                                                 verbose=True)\n",
    "# m_s.append(m)\n",
    "if len(vi_s) > 0:\n",
    "    cylinder_vi_s.append(vi_s[-1])\n",
    "    vi_diffs.append(before_vi_s[-1]-cylinder_vi_s[-1])\n",
    "else:\n",
    "    cylinder_vi_s.append(0)\n",
    "    vi_diffs.append(before_vi_s[-1])\n",
    "\n",
    "z=299\n",
    "image, prob, mask, gold, rhoana = mlp.Util.read_section('/home/d/data/cylinder/', z)\n",
    "before_vi_s.append(Util.vi(gold, rhoana))\n",
    "vi_s, merge_pairs, surenesses, m = Fixer.splits(cnn,image, prob, rhoana, gold, \n",
    "                                                 sureness_threshold=.95,\n",
    "                                                 verbose=True)\n",
    "m_s.append(m)\n",
    "if len(vi_s) > 0:\n",
    "    cylinder_vi_s.append(vi_s[-1])\n",
    "    vi_diffs.append(before_vi_s[-1]-cylinder_vi_s[-1])\n",
    "else:\n",
    "    cylinder_vi_s.append(0)\n",
    "    vi_diffs.append(before_vi_s[-1])"
   ]
  },
  {
   "cell_type": "code",
   "execution_count": 37,
   "metadata": {
    "collapsed": false
   },
   "outputs": [
    {
     "data": {
      "text/plain": [
       "50"
      ]
     },
     "execution_count": 37,
     "metadata": {},
     "output_type": "execute_result"
    }
   ],
   "source": [
    "len(vi_diffs)"
   ]
  },
  {
   "cell_type": "code",
   "execution_count": 46,
   "metadata": {
    "collapsed": false
   },
   "outputs": [],
   "source": [
    "#with open('/home/d/dojo_xp/data/bigM_cylinder_250_300.p', 'wb') as f:\n",
    "#    pickle.dump(m_s, f)"
   ]
  },
  {
   "cell_type": "code",
   "execution_count": 47,
   "metadata": {
    "collapsed": false,
    "scrolled": true
   },
   "outputs": [
    {
     "name": "stdout",
     "output_type": "stream",
     "text": [
      "Loading z00000250.png\n",
      "Loading z00000251.png\n",
      "Loading z00000252.png\n",
      "Loading z00000253.png\n",
      "Loading z00000254.png\n",
      "Loading z00000255.png\n",
      "Loading z00000256.png\n",
      "Loading z00000257.png\n",
      "Loading z00000258.png\n",
      "Loading z00000259.png\n",
      "Loading z00000260.png\n",
      "Loading z00000261.png\n",
      "Loading z00000262.png\n",
      "Loading z00000263.png\n",
      "Loading z00000264.png\n",
      "Loading z00000265.png\n",
      "Loading z00000266.png\n",
      "Loading z00000267.png\n",
      "Loading z00000268.png\n",
      "Loading z00000269.png\n",
      "Loading z00000270.png\n",
      "Loading z00000271.png\n",
      "Loading z00000272.png\n",
      "Loading z00000273.png\n",
      "Loading z00000274.png\n",
      "Loading z00000275.png\n",
      "Loading z00000276.png\n",
      "Loading z00000277.png\n",
      "Loading z00000278.png\n",
      "Loading z00000279.png\n",
      "Loading z00000280.png\n",
      "Loading z00000281.png\n",
      "Loading z00000282.png\n",
      "Loading z00000283.png\n",
      "Loading z00000284.png\n",
      "Loading z00000285.png\n",
      "Loading z00000286.png\n",
      "Loading z00000287.png\n",
      "Loading z00000288.png\n",
      "Loading z00000289.png\n",
      "Loading z00000290.png\n",
      "Loading z00000291.png\n",
      "Loading z00000292.png\n",
      "Loading z00000293.png\n",
      "Loading z00000294.png\n",
      "Loading z00000295.png\n",
      "Loading z00000296.png\n",
      "Loading z00000297.png\n",
      "Loading z00000298.png\n",
      "Loading z00000299.png\n"
     ]
    }
   ],
   "source": [
    "#\n",
    "# now automated user\n",
    "#\n",
    "\n",
    "# load data as volume\n",
    "volume = []\n",
    "volume_prob = []\n",
    "volume_segmentation = []\n",
    "volume_groundtruth = []\n",
    "for z in range(250, 300):\n",
    "    image, prob, mask, gold, rhoana = mlp.Util.read_section('/home/d/data/cylinder/', z)\n",
    "    \n",
    "    volume.append(image)\n",
    "    volume_prob.append(prob)\n",
    "    volume_segmentation.append(rhoana)\n",
    "    volume_groundtruth.append(gold)\n",
    "    "
   ]
  },
  {
   "cell_type": "code",
   "execution_count": 49,
   "metadata": {
    "collapsed": false
   },
   "outputs": [],
   "source": [
    "from fixer import Fixer"
   ]
  },
  {
   "cell_type": "code",
   "execution_count": 53,
   "metadata": {
    "collapsed": false
   },
   "outputs": [],
   "source": [
    "new_m_s, out_volume = Fixer.splits_global_from_M(cnn, m_s, \n",
    "                                                 volume, \n",
    "                                                 volume_prob, \n",
    "                                                 volume_segmentation, \n",
    "                                                 volume_groundtruth)"
   ]
  },
  {
   "cell_type": "code",
   "execution_count": 55,
   "metadata": {
    "collapsed": false
   },
   "outputs": [],
   "source": [
    "sim_user_vi_s = []\n",
    "for ov in range(out_volume.shape[0]):\n",
    "    vi = Util.vi(volume_groundtruth[ov], out_volume[ov])\n",
    "    sim_user_vi_s.append(vi)"
   ]
  },
  {
   "cell_type": "code",
   "execution_count": 56,
   "metadata": {
    "collapsed": false
   },
   "outputs": [
    {
     "data": {
      "text/plain": [
       "[0.37095217382355017,\n",
       " 0.3734009898741375,\n",
       " 0.40756873869895305,\n",
       " 0.36776293625678225,\n",
       " 0.3759834540484803,\n",
       " 0.36779124780368466,\n",
       " 0.39890467701099386,\n",
       " 0.44844350571188496,\n",
       " 0.4411967077891239,\n",
       " 0.5957326383015307,\n",
       " 0.5983145793575186,\n",
       " 0.5887364325510518,\n",
       " 0.5870299736616058,\n",
       " 0.5454769197467524,\n",
       " 0.5559007504749971,\n",
       " 0.5923274528974289,\n",
       " 0.5745816204774492,\n",
       " 0.5497092357749018,\n",
       " 0.4903541068341237,\n",
       " 0.42528595211914144,\n",
       " 0.4472384041936559,\n",
       " 0.41224751668111814,\n",
       " 0.43123033115152243,\n",
       " 0.46293089005168664,\n",
       " 0.4257582952779231,\n",
       " 0.5157003059771554,\n",
       " 0.49187802408204373,\n",
       " 0.5184656997008625,\n",
       " 0.5246791784860658,\n",
       " 0.568430062470128,\n",
       " 0.5414983408994152,\n",
       " 0.425745730148952,\n",
       " 0.4827125246880817,\n",
       " 0.4989349104857448,\n",
       " 0.517663437152776,\n",
       " 0.4850150106665705,\n",
       " 0.4768313747399908,\n",
       " 0.5620959866608635,\n",
       " 0.6334247185851591,\n",
       " 0.5609270233049877,\n",
       " 0.516790775720585,\n",
       " 0.5266254947401299,\n",
       " 0.46047548986476716,\n",
       " 0.4792217602676221,\n",
       " 0.44601155604026843,\n",
       " 0.4118202313464083,\n",
       " 0.40229724602881056,\n",
       " 0.32739498113082055,\n",
       " 0.2032815684449769,\n",
       " 0.0]"
      ]
     },
     "execution_count": 56,
     "metadata": {},
     "output_type": "execute_result"
    }
   ],
   "source": [
    "# after 30 mins\n",
    "sim_user_vi_s"
   ]
  },
  {
   "cell_type": "code",
   "execution_count": null,
   "metadata": {
    "collapsed": false
   },
   "outputs": [],
   "source": [
    "new_m_s, out_volume, fixes, vi_s30mins = Fixer.splits_global_from_M(cnn, m_s, \n",
    "                                                 volume, \n",
    "                                                 volume_prob, \n",
    "                                                 volume_segmentation, \n",
    "                                                 volume_groundtruth)"
   ]
  },
  {
   "cell_type": "code",
   "execution_count": null,
   "metadata": {
    "collapsed": true
   },
   "outputs": [],
   "source": []
  }
 ],
 "metadata": {
  "kernelspec": {
   "display_name": "Python 2",
   "language": "python",
   "name": "python2"
  },
  "language_info": {
   "codemirror_mode": {
    "name": "ipython",
    "version": 2
   },
   "file_extension": ".py",
   "mimetype": "text/x-python",
   "name": "python",
   "nbconvert_exporter": "python",
   "pygments_lexer": "ipython2",
   "version": "2.7.6"
  }
 },
 "nbformat": 4,
 "nbformat_minor": 0
}
