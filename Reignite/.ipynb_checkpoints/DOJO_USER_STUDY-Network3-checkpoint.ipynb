{
 "metadata": {
  "name": "",
  "signature": "sha256:133c099217d70509570443489dd7b510d39c22173030c2b6e9d3075c0c436915"
 },
 "nbformat": 3,
 "nbformat_minor": 0,
 "worksheets": [
  {
   "cells": [
    {
     "cell_type": "code",
     "collapsed": false,
     "input": [
      "%load_ext autoreload\n",
      "%autoreload 2\n",
      "\n",
      "from cnn import CNN\n",
      "from dyn_cnn import DynCNN\n",
      "from util import Util\n",
      "from patch import Patch\n",
      "from fixer import Fixer\n",
      "from uglify import Uglify\n",
      "\n",
      "import os\n",
      "import mahotas as mh\n",
      "import numpy as np\n",
      "import time\n",
      "\n",
      "from matplotlib.pyplot import imshow\n",
      "import matplotlib.pyplot as plt\n",
      "%matplotlib inline"
     ],
     "language": "python",
     "metadata": {},
     "outputs": [
      {
       "output_type": "stream",
       "stream": "stdout",
       "text": [
        "The autoreload extension is already loaded. To reload it, use:\n",
        "  %reload_ext autoreload\n"
       ]
      }
     ],
     "prompt_number": 190
    },
    {
     "cell_type": "code",
     "collapsed": false,
     "input": [
      "#\n",
      "# viren's approach with our LARGER border_overlap\n",
      "#   image prob merged_array dyn_obj dyn_bnd border_overlap\n",
      "networks = []\n",
      "networks.append(CNN('viren_7', 'patches_7th', ['image', 'prob', 'merged_array']))\n",
      "networks.append(CNN('mine_7', 'patches_7th', ['image', 'prob', 'binary', 'border_overlap']))\n",
      "networks.append(CNN('mine_large_7', 'patches_7th', ['image', 'prob', 'binary', 'larger_border_overlap']))\n",
      "networks.append(CNN('mine_merged_7', 'patches_7th', ['image', 'prob', 'merged_array', 'border_overlap']))\n",
      "networks.append(CNN('mine_merged_large_7', 'patches_7th', ['image', 'prob', 'merged_array', 'larger_border_overlap']))\n",
      "networks.append(DynCNN('dyn_viren_7', 'patches_7th', ['image', 'prob', 'merged_array']))\n",
      "networks.append(DynCNN('dyn_mine_7', 'patches_7th', ['image', 'prob', 'binary', 'border_overlap']))\n",
      "networks.append(DynCNN('dyn_mine_large_7', 'patches_7th', ['image', 'prob', 'binary', 'larger_border_overlap']))\n",
      "networks.append(DynCNN('dyn_mine_merged_7', 'patches_7th', ['image', 'prob', 'merged_array', 'border_overlap']))\n",
      "networks.append(DynCNN('dyn_mine_merged_large_7', 'patches_7th', ['image', 'prob', 'merged_array', 'larger_border_overlap']))\n"
     ],
     "language": "python",
     "metadata": {},
     "outputs": [
      {
       "output_type": "stream",
       "stream": "stdout",
       "text": [
        "Loading ['/Volumes/DATA1/split_cnn/patches_7th/viren_7/configuration.txt']\n",
        "Loading /Volumes/DATA1/split_cnn/patches_7th/viren_7/network_240.p\n",
        "Loading"
       ]
      },
      {
       "output_type": "stream",
       "stream": "stdout",
       "text": [
        " ['/Volumes/DATA1/split_cnn/patches_7th/mine_7/configuration.txt']\n",
        "Loading /Volumes/DATA1/split_cnn/patches_7th/mine_7/network_180.p\n",
        "Loading"
       ]
      },
      {
       "output_type": "stream",
       "stream": "stdout",
       "text": [
        " ['/Volumes/DATA1/split_cnn/patches_7th/mine_large_7/configuration.txt']\n",
        "Loading /Volumes/DATA1/split_cnn/patches_7th/mine_large_7/network_180.p\n",
        "Loading"
       ]
      },
      {
       "output_type": "stream",
       "stream": "stdout",
       "text": [
        " ['/Volumes/DATA1/split_cnn/patches_7th/mine_merged_7/configuration.txt']\n",
        "Loading /Volumes/DATA1/split_cnn/patches_7th/mine_merged_7/network_180.p\n",
        "Loading"
       ]
      },
      {
       "output_type": "stream",
       "stream": "stdout",
       "text": [
        " ['/Volumes/DATA1/split_cnn/patches_7th/mine_merged_large_7/configuration.txt']\n",
        "Loading /Volumes/DATA1/split_cnn/patches_7th/mine_merged_large_7/network_180.p\n",
        "Loading"
       ]
      },
      {
       "output_type": "stream",
       "stream": "stdout",
       "text": [
        " ['/Volumes/DATA1/split_cnn/patches_7th/dyn_viren_7/configuration.txt']\n",
        "Loading /Volumes/DATA1/split_cnn/patches_7th/dyn_viren_7/network_202.p\n",
        "Loading"
       ]
      },
      {
       "output_type": "stream",
       "stream": "stdout",
       "text": [
        " ['/Volumes/DATA1/split_cnn/patches_7th/dyn_mine_7/configuration.txt']\n",
        "Loading /Volumes/DATA1/split_cnn/patches_7th/dyn_mine_7/network_180.p\n",
        "Loading"
       ]
      },
      {
       "output_type": "stream",
       "stream": "stdout",
       "text": [
        " ['/Volumes/DATA1/split_cnn/patches_7th/dyn_mine_large_7/configuration.txt']\n",
        "Loading /Volumes/DATA1/split_cnn/patches_7th/dyn_mine_large_7/network_180.p\n",
        "Loading"
       ]
      },
      {
       "output_type": "stream",
       "stream": "stdout",
       "text": [
        " ['/Volumes/DATA1/split_cnn/patches_7th/dyn_mine_merged_7/configuration.txt']\n",
        "Loading /Volumes/DATA1/split_cnn/patches_7th/dyn_mine_merged_7/network_170.p\n",
        "Loading"
       ]
      },
      {
       "output_type": "stream",
       "stream": "stdout",
       "text": [
        " ['/Volumes/DATA1/split_cnn/patches_7th/dyn_mine_merged_large_7/configuration.txt']\n",
        "Loading /Volumes/DATA1/split_cnn/patches_7th/dyn_mine_merged_large_7/network_180.p\n"
       ]
      }
     ],
     "prompt_number": 191
    },
    {
     "cell_type": "code",
     "collapsed": false,
     "input": [
      "input_image, input_prob, input_gold, input_rhoana, dojo_bbox = Util.read_dojo_data() "
     ],
     "language": "python",
     "metadata": {},
     "outputs": [],
     "prompt_number": 196
    },
    {
     "cell_type": "code",
     "collapsed": false,
     "input": [
      "DOJO_USER_DATA_FOLDER = '/Users/d/Dropbox/DOJOSTUDY/'\n",
      "DOJO_USERS_IDS = [11,13,18,37,40,43,5,50,53,62]\n",
      "DOJO_USERS = []\n",
      "for d in DOJO_USERS_IDS:\n",
      "    DOJO_USERS.append('S'+str(d)+'tif')\n",
      "    \n",
      "def read_user(user, slice):\n",
      "    img = mh.imread(DOJO_USER_DATA_FOLDER+user+os.sep+'z='+str(slice).zfill(8)+'.tif')\n",
      "    img = Util.crop_by_bbox(img, dojo_bbox)\n",
      "    return Util.frame_image(img)\n",
      "\n",
      "def dojo_user_vi(user, slice, gt):\n",
      "    img = read_user(user, slice)\n",
      "    return Util.vi(img, gt)\n",
      "\n",
      "def fix_dojo_slice(cnn, slice, input_image, input_prob, input_rhoana, input_gold,t=0.):\n",
      "    DOJO_SLICE=slice\n",
      "    vi_s, merge_pairs, surenesses = Fixer.splits(cnn, \n",
      "                                                 input_image[DOJO_SLICE], \n",
      "                                                 input_prob[DOJO_SLICE], \n",
      "                                                 input_rhoana[DOJO_SLICE], \n",
      "                                                 input_gold[DOJO_SLICE],\n",
      "                                                 sureness_threshold=t,\n",
      "                                                 oversampling=False)\n",
      "\n",
      "    best_index = vi_s.index(np.min(vi_s))\n",
      "    best_vi = vi_s[best_index]\n",
      "    best_sureness = surenesses[best_index]\n",
      "    \n",
      "    return best_vi, best_sureness, vi_s, surenesses\n",
      "\n",
      "def fix_dojo_slice_user_simulated(cnn, slice, input_image, input_prob, input_rhoana, input_gold, error_rate=0,t=0):\n",
      "    DOJO_SLICE=slice\n",
      "    vi_s, merge_pairs, surenesses, good_fixes, bad_fixes = Fixer.splits_user_simulated(cnn, \n",
      "                                                 input_image[DOJO_SLICE], \n",
      "                                                 input_prob[DOJO_SLICE], \n",
      "                                                 input_rhoana[DOJO_SLICE], \n",
      "                                                 input_gold[DOJO_SLICE],\n",
      "                                                 error_rate=error_rate,\n",
      "                                                 sureness_threshold=t,                                                 \n",
      "                                                 oversampling=False)\n",
      "    \n",
      "    best_index = vi_s.index(np.min(vi_s))\n",
      "    best_vi = vi_s[best_index]\n",
      "    best_sureness = surenesses[best_index]\n",
      "    \n",
      "    return best_vi, good_fixes, bad_fixes, merge_pairs, vi_s\n",
      "\n",
      "def threed_vi(gt, seg):\n",
      "    total_vi = 0\n",
      "    slice_vi = []    \n",
      "    for i in range(10):\n",
      "        current_vi = Util.vi(gt[i].astype(np.int64), seg[i].astype(np.int64))\n",
      "        total_vi += current_vi\n",
      "        slice_vi.append(current_vi)\n",
      "    total_vi /= 10\n",
      "    return total_vi, slice_vi\n",
      "\n",
      "def user_threed_vi(gt, user):\n",
      "    total_vi = 0\n",
      "    slice_vi = []\n",
      "    for i in range(10):\n",
      "        current_vi = dojo_user_vi(user, i, gt[i])\n",
      "        total_vi += current_vi\n",
      "        slice_vi.append(current_vi)\n",
      "    total_vi /= 10\n",
      "    return total_vi, slice_vi\n",
      "    \n",
      "def cnn_threed_vi(cnn, input_image, input_prob, input_rhoana, input_gold):\n",
      "    total_vi = 0\n",
      "    slice_vi = []\n",
      "    slice_sureness = []\n",
      "    for i in range(10):\n",
      "        current_vi, sureness = fix_dojo_slice(cnn, i, input_image, input_prob, input_rhoana, input_gold)\n",
      "        total_vi += current_vi\n",
      "        slice_vi.append(current_vi)\n",
      "        slice_sureness.append(sureness)\n",
      "    total_vi /= 10\n",
      "    return total_vi, slice_vi, slice_sureness\n",
      "        "
     ],
     "language": "python",
     "metadata": {},
     "outputs": [],
     "prompt_number": 359
    },
    {
     "cell_type": "code",
     "collapsed": false,
     "input": [
      "threed_vi(input_gold, input_rhoana)"
     ],
     "language": "python",
     "metadata": {},
     "outputs": [
      {
       "metadata": {},
       "output_type": "pyout",
       "prompt_number": 59,
       "text": [
        "0.5933600951369349"
       ]
      }
     ],
     "prompt_number": 59
    },
    {
     "cell_type": "code",
     "collapsed": false,
     "input": [
      "cnn_vi_s = []\n",
      "cnn_slice_vi_s = []\n",
      "cnn_surenesses = []\n",
      "cnn_times = []\n",
      "for n in networks:\n",
      "    t0 = time.time()\n",
      "    cnn_vi, slice_vis, slice_sureness = cnn_threed_vi(n, input_image, input_prob, input_rhoana, input_gold)\n",
      "    cnn_vi_s.append(cnn_vi)\n",
      "    cnn_slice_vi_s.append(slice_vis)\n",
      "    cnn_surenesses.append(slice_sureness)\n",
      "    cnn_times.append(time.time()-t0)\n",
      "    "
     ],
     "language": "python",
     "metadata": {},
     "outputs": [
      {
       "output_type": "stream",
       "stream": "stdout",
       "text": [
        "464 generated in 10.1999530792 seconds.\n",
        "Grouped into 116 patches in 0.00298094749451 seconds.\n",
        "Merge loop finished in"
       ]
      },
      {
       "output_type": "stream",
       "stream": "stdout",
       "text": [
        " 20.2764430046 seconds.\n",
        "Before VI: 0.456495226471\n",
        "Smallest VI: 0.409136014296\n",
        "Sureness threshold: 0.972009241581\n",
        "448"
       ]
      },
      {
       "output_type": "stream",
       "stream": "stdout",
       "text": [
        " generated in 9.58536195755 seconds.\n",
        "Grouped into 112 patches in 0.00291514396667 seconds.\n",
        "Merge loop finished in"
       ]
      },
      {
       "output_type": "stream",
       "stream": "stdout",
       "text": [
        " 25.6222200394 seconds.\n",
        "Before VI: 0.429392255747\n",
        "Smallest VI: 0.410100319075\n",
        "Sureness threshold: 0.970213234425\n",
        "456"
       ]
      },
      {
       "output_type": "stream",
       "stream": "stdout",
       "text": [
        " generated in 9.93700003624 seconds.\n",
        "Grouped into 113 patches in 0.00300097465515 seconds.\n",
        "Merge loop finished in"
       ]
      },
      {
       "output_type": "stream",
       "stream": "stdout",
       "text": [
        " 21.2360320091 seconds.\n",
        "Before VI: 0.418126257718\n",
        "Smallest VI: 0.376229501303\n",
        "Sureness threshold: 0.982782185078\n",
        "484"
       ]
      },
      {
       "output_type": "stream",
       "stream": "stdout",
       "text": [
        " generated in 10.1840078831 seconds.\n",
        "Grouped into 121 patches in 0.00327706336975 seconds.\n",
        "Merge loop finished in"
       ]
      },
      {
       "output_type": "stream",
       "stream": "stdout",
       "text": [
        " 24.1566948891 seconds.\n",
        "Before VI: 0.417671556086\n",
        "Smallest VI: 0.4053514521\n",
        "Sureness threshold: 0.942233741283\n",
        "508"
       ]
      },
      {
       "output_type": "stream",
       "stream": "stdout",
       "text": [
        " generated in 10.6407830715 seconds.\n",
        "Grouped into 127 patches in 0.00337409973145 seconds.\n",
        "Merge loop finished in"
       ]
      },
      {
       "output_type": "stream",
       "stream": "stdout",
       "text": [
        " 23.1160581112 seconds.\n",
        "Before VI: 0.490719699543\n",
        "Smallest VI: 0.425035918862\n",
        "Sureness threshold: 0.728529036045\n",
        "488"
       ]
      },
      {
       "output_type": "stream",
       "stream": "stdout",
       "text": [
        " generated in 10.0535361767 seconds.\n",
        "Grouped into 122 patches in 0.00309109687805 seconds.\n",
        "Merge loop finished in"
       ]
      },
      {
       "output_type": "stream",
       "stream": "stdout",
       "text": [
        " 22.0516569614 seconds.\n",
        "Before VI: 0.462002769239\n",
        "Smallest VI: 0.429633748284\n",
        "Sureness threshold: 0.985827207565\n",
        "480"
       ]
      },
      {
       "output_type": "stream",
       "stream": "stdout",
       "text": [
        " generated in 9.92967104912 seconds.\n",
        "Grouped into 118 patches in 0.00568699836731 seconds.\n",
        "Merge loop finished in"
       ]
      },
      {
       "output_type": "stream",
       "stream": "stdout",
       "text": [
        " 19.5007808208 seconds.\n",
        "Before VI: 0.585184084074\n",
        "Smallest VI: 0.594299686633\n",
        "Sureness threshold: 0.982649564743\n",
        "460"
       ]
      },
      {
       "output_type": "stream",
       "stream": "stdout",
       "text": [
        " generated in 9.52427411079 seconds.\n",
        "Grouped into 113 patches in 0.00296902656555 seconds.\n",
        "Merge loop finished in"
       ]
      },
      {
       "output_type": "stream",
       "stream": "stdout",
       "text": [
        " 22.8545470238 seconds.\n",
        "Before VI: 0.634014826312\n",
        "Smallest VI: 0.617383760961\n",
        "Sureness threshold: 0.988467395306\n",
        "488"
       ]
      },
      {
       "output_type": "stream",
       "stream": "stdout",
       "text": [
        " generated in 10.1902201176 seconds.\n",
        "Grouped into 120 patches in 0.00314116477966 seconds.\n",
        "Merge loop finished in"
       ]
      },
      {
       "output_type": "stream",
       "stream": "stdout",
       "text": [
        " 23.2598948479 seconds.\n",
        "Before VI: 0.65525434104\n",
        "Smallest VI: 0.652767646206\n",
        "Sureness threshold: 0.996048867702\n",
        "540"
       ]
      },
      {
       "output_type": "stream",
       "stream": "stdout",
       "text": [
        " generated in 11.3247289658 seconds.\n",
        "Grouped into 135 patches in 0.00342607498169 seconds.\n",
        "Merge loop finished in"
       ]
      },
      {
       "output_type": "stream",
       "stream": "stdout",
       "text": [
        " 32.3392829895 seconds.\n",
        "Before VI: 0.596835205477\n",
        "Smallest VI: 0.571672300931\n",
        "Sureness threshold: 0.992354571819\n",
        "464"
       ]
      },
      {
       "output_type": "stream",
       "stream": "stdout",
       "text": [
        " generated in 10.112511158 seconds.\n",
        "Grouped into 116 patches in 0.00301694869995 seconds.\n",
        "Merge loop finished in"
       ]
      },
      {
       "output_type": "stream",
       "stream": "stdout",
       "text": [
        " 21.2796549797 seconds.\n",
        "Before VI: 0.456495226471\n",
        "Smallest VI: 0.42699863396\n",
        "Sureness threshold: 0.979651272297\n",
        "448"
       ]
      },
      {
       "output_type": "stream",
       "stream": "stdout",
       "text": [
        " generated in 9.54687309265 seconds.\n",
        "Grouped into 112 patches in 0.00298309326172 seconds.\n",
        "Merge loop finished in"
       ]
      },
      {
       "output_type": "stream",
       "stream": "stdout",
       "text": [
        " 22.4975540638 seconds.\n",
        "Before VI: 0.429392255747\n",
        "Smallest VI: 0.397938578885\n",
        "Sureness threshold: 0.881153106689\n",
        "456"
       ]
      },
      {
       "output_type": "stream",
       "stream": "stdout",
       "text": [
        " generated in 9.82635211945 seconds.\n",
        "Grouped into 113 patches in 0.00305104255676 seconds.\n",
        "Merge loop finished in"
       ]
      },
      {
       "output_type": "stream",
       "stream": "stdout",
       "text": [
        " 21.2912979126 seconds.\n",
        "Before VI: 0.418126257718\n",
        "Smallest VI: 0.397546376417\n",
        "Sureness threshold: 0.944938004017\n",
        "484"
       ]
      },
      {
       "output_type": "stream",
       "stream": "stdout",
       "text": [
        " generated in 10.1487550735 seconds.\n",
        "Grouped into 121 patches in 0.00327205657959 seconds.\n",
        "Merge loop finished in"
       ]
      },
      {
       "output_type": "stream",
       "stream": "stdout",
       "text": [
        " 24.6728539467 seconds.\n",
        "Before VI: 0.417671556086\n",
        "Smallest VI: 0.408266936423\n",
        "Sureness threshold: 0.99251550436\n",
        "508"
       ]
      },
      {
       "output_type": "stream",
       "stream": "stdout",
       "text": [
        " generated in 10.5947580338 seconds.\n",
        "Grouped into 127 patches in 0.00322103500366 seconds.\n",
        "Merge loop finished in"
       ]
      },
      {
       "output_type": "stream",
       "stream": "stdout",
       "text": [
        " 26.6464400291 seconds.\n",
        "Before VI: 0.490719699543\n",
        "Smallest VI: 0.420538457871\n",
        "Sureness threshold: 0.874773025513\n",
        "488"
       ]
      },
      {
       "output_type": "stream",
       "stream": "stdout",
       "text": [
        " generated in 10.069149971 seconds.\n",
        "Grouped into 122 patches in 0.00315499305725 seconds.\n",
        "Merge loop finished in"
       ]
      },
      {
       "output_type": "stream",
       "stream": "stdout",
       "text": [
        " 23.880177021 seconds.\n",
        "Before VI: 0.462002769239\n",
        "Smallest VI: 0.44868699879\n",
        "Sureness threshold: 0.993830680847\n",
        "480"
       ]
      },
      {
       "output_type": "stream",
       "stream": "stdout",
       "text": [
        " generated in 9.92301702499 seconds.\n",
        "Grouped into 118 patches in 0.00302290916443 seconds.\n",
        "Merge loop finished in"
       ]
      },
      {
       "output_type": "stream",
       "stream": "stdout",
       "text": [
        " 22.5814158916 seconds.\n",
        "Before VI: 0.585184084074\n",
        "Smallest VI: 0.579395362911\n",
        "Sureness threshold: 0.959493637085\n",
        "460"
       ]
      },
      {
       "output_type": "stream",
       "stream": "stdout",
       "text": [
        " generated in 9.49082398415 seconds.\n",
        "Grouped into 113 patches in 0.00295400619507 seconds.\n",
        "Merge loop finished in"
       ]
      },
      {
       "output_type": "stream",
       "stream": "stdout",
       "text": [
        " 24.5888600349 seconds.\n",
        "Before VI: 0.634014826312\n",
        "Smallest VI: 0.593390555549\n",
        "Sureness threshold: 0.968976855278\n",
        "488"
       ]
      },
      {
       "output_type": "stream",
       "stream": "stdout",
       "text": [
        " generated in 10.2120149136 seconds.\n",
        "Grouped into 120 patches in 0.00319814682007 seconds.\n",
        "Merge loop finished in"
       ]
      },
      {
       "output_type": "stream",
       "stream": "stdout",
       "text": [
        " 25.764509201 seconds.\n",
        "Before VI: 0.65525434104\n",
        "Smallest VI: 0.617225379049\n",
        "Sureness threshold: 0.964638233185\n",
        "540"
       ]
      },
      {
       "output_type": "stream",
       "stream": "stdout",
       "text": [
        " generated in 11.3297851086 seconds.\n",
        "Grouped into 135 patches in 0.00357604026794 seconds.\n",
        "Merge loop finished in"
       ]
      },
      {
       "output_type": "stream",
       "stream": "stdout",
       "text": [
        " 32.3377439976 seconds.\n",
        "Before VI: 0.596835205477\n",
        "Smallest VI: 0.571672300931\n",
        "Sureness threshold: 0.986479997635\n",
        "464"
       ]
      },
      {
       "output_type": "stream",
       "stream": "stdout",
       "text": [
        " generated in 10.1394720078 seconds.\n",
        "Grouped into 116 patches in 0.00302505493164 seconds.\n",
        "Merge loop finished in"
       ]
      },
      {
       "output_type": "stream",
       "stream": "stdout",
       "text": [
        " 20.4042470455 seconds.\n",
        "Before VI: 0.456495226471\n",
        "Smallest VI: 0.423074244122\n",
        "Sureness threshold: 0.962524533272\n",
        "448"
       ]
      },
      {
       "output_type": "stream",
       "stream": "stdout",
       "text": [
        " generated in 9.53662586212 seconds.\n",
        "Grouped into 112 patches in 0.00306391716003 seconds.\n",
        "Merge loop finished in"
       ]
      },
      {
       "output_type": "stream",
       "stream": "stdout",
       "text": [
        " 21.5205380917 seconds.\n",
        "Before VI: 0.429392255747\n",
        "Smallest VI: 0.406566336405\n",
        "Sureness threshold: 0.866549134254\n",
        "456"
       ]
      },
      {
       "output_type": "stream",
       "stream": "stdout",
       "text": [
        " generated in 9.82899284363 seconds.\n",
        "Grouped into 113 patches in 0.00291514396667 seconds.\n",
        "Merge loop finished in"
       ]
      },
      {
       "output_type": "stream",
       "stream": "stdout",
       "text": [
        " 21.9760642052 seconds.\n",
        "Before VI: 0.418126257718\n",
        "Smallest VI: 0.389582801449\n",
        "Sureness threshold: 0.958169817924\n",
        "484"
       ]
      },
      {
       "output_type": "stream",
       "stream": "stdout",
       "text": [
        " generated in 10.2004778385 seconds.\n",
        "Grouped into 121 patches in 0.00325489044189 seconds.\n",
        "Merge loop finished in"
       ]
      },
      {
       "output_type": "stream",
       "stream": "stdout",
       "text": [
        " 30.435199976 seconds.\n",
        "Before VI: 0.417671556086\n",
        "Smallest VI: 0.408519957673\n",
        "Sureness threshold: 0.924777030945\n",
        "508"
       ]
      },
      {
       "output_type": "stream",
       "stream": "stdout",
       "text": [
        " generated in 10.6750609875 seconds.\n",
        "Grouped into 127 patches in 0.00330495834351 seconds.\n",
        "Merge loop finished in"
       ]
      },
      {
       "output_type": "stream",
       "stream": "stdout",
       "text": [
        " 24.0474879742 seconds.\n",
        "Before VI: 0.490719699543\n",
        "Smallest VI: 0.418750143775\n",
        "Sureness threshold: 0.828786313534\n",
        "488"
       ]
      },
      {
       "output_type": "stream",
       "stream": "stdout",
       "text": [
        " generated in 10.1098470688 seconds.\n",
        "Grouped into 122 patches in 0.00355505943298 seconds.\n",
        "Merge loop finished in"
       ]
      },
      {
       "output_type": "stream",
       "stream": "stdout",
       "text": [
        " 26.9529020786 seconds.\n",
        "Before VI: 0.462002769239\n",
        "Smallest VI: 0.433829554243\n",
        "Sureness threshold: 0.962733864784\n",
        "480"
       ]
      },
      {
       "output_type": "stream",
       "stream": "stdout",
       "text": [
        " generated in 9.96908307076 seconds.\n",
        "Grouped into 118 patches in 0.00312995910645 seconds.\n",
        "Merge loop finished in"
       ]
      },
      {
       "output_type": "stream",
       "stream": "stdout",
       "text": [
        " 19.6628639698 seconds.\n",
        "Before VI: 0.585184084074\n",
        "Smallest VI: 0.584661121617\n",
        "Sureness threshold: 0.966188967228\n",
        "460"
       ]
      },
      {
       "output_type": "stream",
       "stream": "stdout",
       "text": [
        " generated in 9.55436301231 seconds.\n",
        "Grouped into 113 patches in 0.00292897224426 seconds.\n",
        "Merge loop finished in"
       ]
      },
      {
       "output_type": "stream",
       "stream": "stdout",
       "text": [
        " 26.1333730221 seconds.\n",
        "Before VI: 0.634014826312\n",
        "Smallest VI: 0.606569590083\n",
        "Sureness threshold: 0.970595300198\n",
        "488"
       ]
      },
      {
       "output_type": "stream",
       "stream": "stdout",
       "text": [
        " generated in 10.2453968525 seconds.\n",
        "Grouped into 120 patches in 0.00313901901245 seconds.\n",
        "Merge loop finished in"
       ]
      },
      {
       "output_type": "stream",
       "stream": "stdout",
       "text": [
        " 22.9123358727 seconds.\n",
        "Before VI: 0.65525434104\n",
        "Smallest VI: 0.658924941377\n",
        "Sureness threshold: 0.973468720913\n",
        "540"
       ]
      },
      {
       "output_type": "stream",
       "stream": "stdout",
       "text": [
        " generated in 11.3937170506 seconds.\n",
        "Grouped into 135 patches in 0.00350499153137 seconds.\n",
        "Merge loop finished in"
       ]
      },
      {
       "output_type": "stream",
       "stream": "stdout",
       "text": [
        " 31.5435419083 seconds.\n",
        "Before VI: 0.596835205477\n",
        "Smallest VI: 0.571672300931\n",
        "Sureness threshold: 0.982312440872\n",
        "464"
       ]
      },
      {
       "output_type": "stream",
       "stream": "stdout",
       "text": [
        " generated in 10.2272560596 seconds.\n",
        "Grouped into 116 patches in 0.00307202339172 seconds.\n",
        "Merge loop finished in"
       ]
      },
      {
       "output_type": "stream",
       "stream": "stdout",
       "text": [
        " 22.5207369328 seconds.\n",
        "Before VI: 0.456495226471\n",
        "Smallest VI: 0.409136014296\n",
        "Sureness threshold: 0.953363060951\n",
        "448"
       ]
      },
      {
       "output_type": "stream",
       "stream": "stdout",
       "text": [
        " generated in 9.55472207069 seconds.\n",
        "Grouped into 112 patches in 0.00292205810547 seconds.\n",
        "Merge loop finished in"
       ]
      },
      {
       "output_type": "stream",
       "stream": "stdout",
       "text": [
        " 19.2535290718 seconds.\n",
        "Before VI: 0.429392255747\n",
        "Smallest VI: 0.398579506093\n",
        "Sureness threshold: 0.890683233738\n",
        "456"
       ]
      },
      {
       "output_type": "stream",
       "stream": "stdout",
       "text": [
        " generated in 9.8195271492 seconds.\n",
        "Grouped into 113 patches in 0.00297498703003 seconds.\n",
        "Merge loop finished in"
       ]
      },
      {
       "output_type": "stream",
       "stream": "stdout",
       "text": [
        " 20.3150789738 seconds.\n",
        "Before VI: 0.418126257718\n",
        "Smallest VI: 0.382256489913\n",
        "Sureness threshold: 0.980306565762\n",
        "484"
       ]
      },
      {
       "output_type": "stream",
       "stream": "stdout",
       "text": [
        " generated in 10.1796410084 seconds.\n",
        "Grouped into 121 patches in 0.00337886810303 seconds.\n",
        "Merge loop finished in"
       ]
      },
      {
       "output_type": "stream",
       "stream": "stdout",
       "text": [
        " 24.1543831825 seconds.\n",
        "Before VI: 0.417671556086\n",
        "Smallest VI: 0.408266936423\n",
        "Sureness threshold: 0.997880280018\n",
        "508"
       ]
      },
      {
       "output_type": "stream",
       "stream": "stdout",
       "text": [
        " generated in 10.6352260113 seconds.\n",
        "Grouped into 127 patches in 0.00325393676758 seconds.\n",
        "Merge loop finished in"
       ]
      },
      {
       "output_type": "stream",
       "stream": "stdout",
       "text": [
        " 27.1617891788 seconds.\n",
        "Before VI: 0.490719699543\n",
        "Smallest VI: 0.424035837096\n",
        "Sureness threshold: 0.807042062283\n",
        "488"
       ]
      },
      {
       "output_type": "stream",
       "stream": "stdout",
       "text": [
        " generated in 10.5137269497 seconds.\n",
        "Grouped into 122 patches in 0.00317287445068 seconds.\n",
        "Merge loop finished in"
       ]
      },
      {
       "output_type": "stream",
       "stream": "stdout",
       "text": [
        " 24.0879461765 seconds.\n",
        "Before VI: 0.462002769239\n",
        "Smallest VI: 0.448312685079\n",
        "Sureness threshold: 0.991241157055\n",
        "480"
       ]
      },
      {
       "output_type": "stream",
       "stream": "stdout",
       "text": [
        " generated in 9.97897601128 seconds.\n",
        "Grouped into 118 patches in 0.00319886207581 seconds.\n",
        "Merge loop finished in"
       ]
      },
      {
       "output_type": "stream",
       "stream": "stdout",
       "text": [
        " 22.8003649712 seconds.\n",
        "Before VI: 0.585184084074\n",
        "Smallest VI: 0.589781825716\n",
        "Sureness threshold: 0.981243133545\n",
        "460"
       ]
      },
      {
       "output_type": "stream",
       "stream": "stdout",
       "text": [
        " generated in 9.85734701157 seconds.\n",
        "Grouped into 113 patches in 0.00305700302124 seconds.\n",
        "Merge loop finished in"
       ]
      },
      {
       "output_type": "stream",
       "stream": "stdout",
       "text": [
        " 24.2021110058 seconds.\n",
        "Before VI: 0.634014826312\n",
        "Smallest VI: 0.614443641316\n",
        "Sureness threshold: 0.976582825184\n",
        "488"
       ]
      },
      {
       "output_type": "stream",
       "stream": "stdout",
       "text": [
        " generated in 10.4072668552 seconds.\n",
        "Grouped into 120 patches in 0.00327610969543 seconds.\n",
        "Merge loop finished in"
       ]
      },
      {
       "output_type": "stream",
       "stream": "stdout",
       "text": [
        " 26.1831550598 seconds.\n",
        "Before VI: 0.65525434104\n",
        "Smallest VI: 0.627382052154\n",
        "Sureness threshold: 0.985428929329\n",
        "540"
       ]
      },
      {
       "output_type": "stream",
       "stream": "stdout",
       "text": [
        " generated in 11.8246328831 seconds.\n",
        "Grouped into 135 patches in 0.00350689888 seconds.\n",
        "Merge loop finished in"
       ]
      },
      {
       "output_type": "stream",
       "stream": "stdout",
       "text": [
        " 27.2847979069 seconds.\n",
        "Before VI: 0.596835205477\n",
        "Smallest VI: 0.563589923024\n",
        "Sureness threshold: 0.971716463566\n",
        "464"
       ]
      },
      {
       "output_type": "stream",
       "stream": "stdout",
       "text": [
        " generated in 10.163847208 seconds.\n",
        "Grouped into 116 patches in 0.00312399864197 seconds.\n",
        "Merge loop finished in"
       ]
      },
      {
       "output_type": "stream",
       "stream": "stdout",
       "text": [
        " 20.3639121056 seconds.\n",
        "Before VI: 0.456495226471\n",
        "Smallest VI: 0.413603555526\n",
        "Sureness threshold: 0.970817148685\n",
        "448"
       ]
      },
      {
       "output_type": "stream",
       "stream": "stdout",
       "text": [
        " generated in 9.63836479187 seconds.\n",
        "Grouped into 112 patches in 0.00286793708801 seconds.\n",
        "Merge loop finished in"
       ]
      },
      {
       "output_type": "stream",
       "stream": "stdout",
       "text": [
        " 21.7124130726 seconds.\n",
        "Before VI: 0.429392255747\n",
        "Smallest VI: 0.391505891228\n",
        "Sureness threshold: 0.718482911587\n",
        "456"
       ]
      },
      {
       "output_type": "stream",
       "stream": "stdout",
       "text": [
        " generated in 9.93647313118 seconds.\n",
        "Grouped into 113 patches in 0.00306701660156 seconds.\n",
        "Merge loop finished in"
       ]
      },
      {
       "output_type": "stream",
       "stream": "stdout",
       "text": [
        " 20.5454330444 seconds.\n",
        "Before VI: 0.418126257718\n",
        "Smallest VI: 0.393195250195\n",
        "Sureness threshold: 0.977622807026\n",
        "484"
       ]
      },
      {
       "output_type": "stream",
       "stream": "stdout",
       "text": [
        " generated in 10.2011070251 seconds.\n",
        "Grouped into 121 patches in 0.00318288803101 seconds.\n",
        "Merge loop finished in"
       ]
      },
      {
       "output_type": "stream",
       "stream": "stdout",
       "text": [
        " 25.2625749111 seconds.\n",
        "Before VI: 0.417671556086\n",
        "Smallest VI: 0.408266936423\n",
        "Sureness threshold: 0.983359634876\n",
        "508"
       ]
      },
      {
       "output_type": "stream",
       "stream": "stdout",
       "text": [
        " generated in 11.2944800854 seconds.\n",
        "Grouped into 127 patches in 0.0034191608429 seconds.\n",
        "Merge loop finished in"
       ]
      },
      {
       "output_type": "stream",
       "stream": "stdout",
       "text": [
        " 26.34176898 seconds.\n",
        "Before VI: 0.490719699543\n",
        "Smallest VI: 0.420538457871\n",
        "Sureness threshold: 0.91118067503\n",
        "488"
       ]
      },
      {
       "output_type": "stream",
       "stream": "stdout",
       "text": [
        " generated in 10.2845540047 seconds.\n",
        "Grouped into 122 patches in 0.00314807891846 seconds.\n",
        "Merge loop finished in"
       ]
      },
      {
       "output_type": "stream",
       "stream": "stdout",
       "text": [
        " 23.1646289825 seconds.\n",
        "Before VI: 0.462002769239\n",
        "Smallest VI: 0.456131233549\n",
        "Sureness threshold: 0.971665620804\n",
        "480"
       ]
      },
      {
       "output_type": "stream",
       "stream": "stdout",
       "text": [
        " generated in 9.99610996246 seconds.\n",
        "Grouped into 118 patches in 0.00309491157532 seconds.\n",
        "Merge loop finished in"
       ]
      },
      {
       "output_type": "stream",
       "stream": "stdout",
       "text": [
        " 19.0609130859 seconds.\n",
        "Before VI: 0.585184084074\n",
        "Smallest VI: 0.58491095219\n",
        "Sureness threshold: 0.979832172394\n",
        "460"
       ]
      },
      {
       "output_type": "stream",
       "stream": "stdout",
       "text": [
        " generated in 9.60295915604 seconds.\n",
        "Grouped into 113 patches in 0.00303316116333 seconds.\n",
        "Merge loop finished in"
       ]
      },
      {
       "output_type": "stream",
       "stream": "stdout",
       "text": [
        " 22.8929240704 seconds.\n",
        "Before VI: 0.634014826312\n",
        "Smallest VI: 0.617383760961\n",
        "Sureness threshold: 0.991404235363\n",
        "488"
       ]
      },
      {
       "output_type": "stream",
       "stream": "stdout",
       "text": [
        " generated in 10.2402229309 seconds.\n",
        "Grouped into 120 patches in 0.00379109382629 seconds.\n",
        "Merge loop finished in"
       ]
      },
      {
       "output_type": "stream",
       "stream": "stdout",
       "text": [
        " 20.5351960659 seconds.\n",
        "Before VI: 0.65525434104\n",
        "Smallest VI: 0.658924941377\n",
        "Sureness threshold: 0.971445977688\n",
        "540"
       ]
      },
      {
       "output_type": "stream",
       "stream": "stdout",
       "text": [
        " generated in 11.4271509647 seconds.\n",
        "Grouped into 135 patches in 0.003497838974 seconds.\n",
        "Merge loop finished in"
       ]
      },
      {
       "output_type": "stream",
       "stream": "stdout",
       "text": [
        " 32.5873889923 seconds.\n",
        "Before VI: 0.596835205477\n",
        "Smallest VI: 0.588619360303\n",
        "Sureness threshold: 0.933249592781\n",
        "464"
       ]
      },
      {
       "output_type": "stream",
       "stream": "stdout",
       "text": [
        " generated in 10.154335022 seconds.\n",
        "Grouped into 116 patches in 0.00299692153931 seconds.\n",
        "Merge loop finished in"
       ]
      },
      {
       "output_type": "stream",
       "stream": "stdout",
       "text": [
        " 19.5337491035 seconds.\n",
        "Before VI: 0.456495226471\n",
        "Smallest VI: 0.430396667203\n",
        "Sureness threshold: 0.952552318573\n",
        "448"
       ]
      },
      {
       "output_type": "stream",
       "stream": "stdout",
       "text": [
        " generated in 9.58894109726 seconds.\n",
        "Grouped into 112 patches in 0.00288391113281 seconds.\n",
        "Merge loop finished in"
       ]
      },
      {
       "output_type": "stream",
       "stream": "stdout",
       "text": [
        " 20.1015601158 seconds.\n",
        "Before VI: 0.429392255747\n",
        "Smallest VI: 0.39285045356\n",
        "Sureness threshold: 0.971280634403\n",
        "456"
       ]
      },
      {
       "output_type": "stream",
       "stream": "stdout",
       "text": [
        " generated in 9.81343483925 seconds.\n",
        "Grouped into 113 patches in 0.00302600860596 seconds.\n",
        "Merge loop finished in"
       ]
      },
      {
       "output_type": "stream",
       "stream": "stdout",
       "text": [
        " 21.7215390205 seconds.\n",
        "Before VI: 0.418126257718\n",
        "Smallest VI: 0.402538482011\n",
        "Sureness threshold: 0.991877198219\n",
        "484"
       ]
      },
      {
       "output_type": "stream",
       "stream": "stdout",
       "text": [
        " generated in 10.2072200775 seconds.\n",
        "Grouped into 121 patches in 0.00323700904846 seconds.\n",
        "Merge loop finished in"
       ]
      },
      {
       "output_type": "stream",
       "stream": "stdout",
       "text": [
        " 20.3684990406 seconds.\n",
        "Before VI: 0.417671556086\n",
        "Smallest VI: 0.410918570823\n",
        "Sureness threshold: 0.968139827251\n",
        "508"
       ]
      },
      {
       "output_type": "stream",
       "stream": "stdout",
       "text": [
        " generated in 10.6190068722 seconds.\n",
        "Grouped into 127 patches in 0.00323700904846 seconds.\n",
        "Merge loop finished in"
       ]
      },
      {
       "output_type": "stream",
       "stream": "stdout",
       "text": [
        " 27.7024388313 seconds.\n",
        "Before VI: 0.490719699543\n",
        "Smallest VI: 0.472484226801\n",
        "Sureness threshold: 0.940280079842\n",
        "488"
       ]
      },
      {
       "output_type": "stream",
       "stream": "stdout",
       "text": [
        " generated in 10.1663358212 seconds.\n",
        "Grouped into 122 patches in 0.00329113006592 seconds.\n",
        "Merge loop finished in"
       ]
      },
      {
       "output_type": "stream",
       "stream": "stdout",
       "text": [
        " 22.9591169357 seconds.\n",
        "Before VI: 0.462002769239\n",
        "Smallest VI: 0.397891921228\n",
        "Sureness threshold: 0.986952543259\n",
        "480"
       ]
      },
      {
       "output_type": "stream",
       "stream": "stdout",
       "text": [
        " generated in 9.9654519558 seconds.\n",
        "Grouped into 118 patches in 0.00318217277527 seconds.\n",
        "Merge loop finished in"
       ]
      },
      {
       "output_type": "stream",
       "stream": "stdout",
       "text": [
        " 22.6537280083 seconds.\n",
        "Before VI: 0.585184084074\n",
        "Smallest VI: 0.555433099432\n",
        "Sureness threshold: 0.98837608099\n",
        "460"
       ]
      },
      {
       "output_type": "stream",
       "stream": "stdout",
       "text": [
        " generated in 9.58613109589 seconds.\n",
        "Grouped into 113 patches in 0.00302505493164 seconds.\n",
        "Merge loop finished in"
       ]
      },
      {
       "output_type": "stream",
       "stream": "stdout",
       "text": [
        " 21.6349000931 seconds.\n",
        "Before VI: 0.634014826312\n",
        "Smallest VI: 0.616011139394\n",
        "Sureness threshold: 0.998591244221\n",
        "488"
       ]
      },
      {
       "output_type": "stream",
       "stream": "stdout",
       "text": [
        " generated in 10.2538650036 seconds.\n",
        "Grouped into 120 patches in 0.00311899185181 seconds.\n",
        "Merge loop finished in"
       ]
      },
      {
       "output_type": "stream",
       "stream": "stdout",
       "text": [
        " 24.6934950352 seconds.\n",
        "Before VI: 0.65525434104\n",
        "Smallest VI: 0.605680998713\n",
        "Sureness threshold: 0.838658869267\n",
        "540"
       ]
      },
      {
       "output_type": "stream",
       "stream": "stdout",
       "text": [
        " generated in 11.3453700542 seconds.\n",
        "Grouped into 135 patches in 0.00347304344177 seconds.\n",
        "Merge loop finished in"
       ]
      },
      {
       "output_type": "stream",
       "stream": "stdout",
       "text": [
        " 30.9871439934 seconds.\n",
        "Before VI: 0.596835205477\n",
        "Smallest VI: 0.594077144176\n",
        "Sureness threshold: 0.930587172508\n",
        "464"
       ]
      },
      {
       "output_type": "stream",
       "stream": "stdout",
       "text": [
        " generated in 10.1553859711 seconds.\n",
        "Grouped into 116 patches in 0.00300002098083 seconds.\n",
        "Merge loop finished in"
       ]
      },
      {
       "output_type": "stream",
       "stream": "stdout",
       "text": [
        " 19.8494639397 seconds.\n",
        "Before VI: 0.456495226471\n",
        "Smallest VI: 0.405025260926\n",
        "Sureness threshold: 0.95968747139\n",
        "448"
       ]
      },
      {
       "output_type": "stream",
       "stream": "stdout",
       "text": [
        " generated in 9.54463887215 seconds.\n",
        "Grouped into 112 patches in 0.00287008285522 seconds.\n",
        "Merge loop finished in"
       ]
      },
      {
       "output_type": "stream",
       "stream": "stdout",
       "text": [
        " 23.3531079292 seconds.\n",
        "Before VI: 0.429392255747\n",
        "Smallest VI: 0.392810921948\n",
        "Sureness threshold: 0.801667630672\n",
        "456"
       ]
      },
      {
       "output_type": "stream",
       "stream": "stdout",
       "text": [
        " generated in 9.88506197929 seconds.\n",
        "Grouped into 113 patches in 0.0028920173645 seconds.\n",
        "Merge loop finished in"
       ]
      },
      {
       "output_type": "stream",
       "stream": "stdout",
       "text": [
        " 20.2073369026 seconds.\n",
        "Before VI: 0.418126257718\n",
        "Smallest VI: 0.383555812838\n",
        "Sureness threshold: 0.967625975609\n",
        "484"
       ]
      },
      {
       "output_type": "stream",
       "stream": "stdout",
       "text": [
        " generated in 10.2716178894 seconds.\n",
        "Grouped into 121 patches in 0.00331592559814 seconds.\n",
        "Merge loop finished in"
       ]
      },
      {
       "output_type": "stream",
       "stream": "stdout",
       "text": [
        " 24.3670501709 seconds.\n",
        "Before VI: 0.417671556086\n",
        "Smallest VI: 0.414756071763\n",
        "Sureness threshold: 0.980943024158\n",
        "508"
       ]
      },
      {
       "output_type": "stream",
       "stream": "stdout",
       "text": [
        " generated in 10.7360489368 seconds.\n",
        "Grouped into 127 patches in 0.00332093238831 seconds.\n",
        "Merge loop finished in"
       ]
      },
      {
       "output_type": "stream",
       "stream": "stdout",
       "text": [
        " 27.1472370625 seconds.\n",
        "Before VI: 0.490719699543\n",
        "Smallest VI: 0.417877472591\n",
        "Sureness threshold: 0.852400839329\n",
        "488"
       ]
      },
      {
       "output_type": "stream",
       "stream": "stdout",
       "text": [
        " generated in 10.1012909412 seconds.\n",
        "Grouped into 122 patches in 0.00308084487915 seconds.\n",
        "Merge loop finished in"
       ]
      },
      {
       "output_type": "stream",
       "stream": "stdout",
       "text": [
        " 27.5766680241 seconds.\n",
        "Before VI: 0.462002769239\n",
        "Smallest VI: 0.468405481491\n",
        "Sureness threshold: 0.991881668568\n",
        "480"
       ]
      },
      {
       "output_type": "stream",
       "stream": "stdout",
       "text": [
        " generated in 9.95604014397 seconds.\n",
        "Grouped into 118 patches in 0.00310397148132 seconds.\n",
        "Merge loop finished in"
       ]
      },
      {
       "output_type": "stream",
       "stream": "stdout",
       "text": [
        " 22.5380558968 seconds.\n",
        "Before VI: 0.585184084074\n",
        "Smallest VI: 0.55621222415\n",
        "Sureness threshold: 0.98532140255\n",
        "460"
       ]
      },
      {
       "output_type": "stream",
       "stream": "stdout",
       "text": [
        " generated in 9.53866791725 seconds.\n",
        "Grouped into 113 patches in 0.00300407409668 seconds.\n",
        "Merge loop finished in"
       ]
      },
      {
       "output_type": "stream",
       "stream": "stdout",
       "text": [
        " 24.9819200039 seconds.\n",
        "Before VI: 0.634014826312\n",
        "Smallest VI: 0.618536806918\n",
        "Sureness threshold: 0.985147953033\n",
        "488"
       ]
      },
      {
       "output_type": "stream",
       "stream": "stdout",
       "text": [
        " generated in 10.2920980453 seconds.\n",
        "Grouped into 120 patches in 0.00325202941895 seconds.\n",
        "Merge loop finished in"
       ]
      },
      {
       "output_type": "stream",
       "stream": "stdout",
       "text": [
        " 26.7929160595 seconds.\n",
        "Before VI: 0.65525434104\n",
        "Smallest VI: 0.654824582961\n",
        "Sureness threshold: 0.990319848061\n",
        "540"
       ]
      },
      {
       "output_type": "stream",
       "stream": "stdout",
       "text": [
        " generated in 11.3786320686 seconds.\n",
        "Grouped into 135 patches in 0.00355505943298 seconds.\n",
        "Merge loop finished in"
       ]
      },
      {
       "output_type": "stream",
       "stream": "stdout",
       "text": [
        " 35.5026009083 seconds.\n",
        "Before VI: 0.596835205477\n",
        "Smallest VI: 0.599759051566\n",
        "Sureness threshold: 0.990857601166\n",
        "464"
       ]
      },
      {
       "output_type": "stream",
       "stream": "stdout",
       "text": [
        " generated in 10.1594741344 seconds.\n",
        "Grouped into 116 patches in 0.0030210018158 seconds.\n",
        "Merge loop finished in"
       ]
      },
      {
       "output_type": "stream",
       "stream": "stdout",
       "text": [
        " 20.4552798271 seconds.\n",
        "Before VI: 0.456495226471\n",
        "Smallest VI: 0.431905708322\n",
        "Sureness threshold: 0.968341290951\n",
        "448"
       ]
      },
      {
       "output_type": "stream",
       "stream": "stdout",
       "text": [
        " generated in 9.50456595421 seconds.\n",
        "Grouped into 112 patches in 0.00297403335571 seconds.\n",
        "Merge loop finished in"
       ]
      },
      {
       "output_type": "stream",
       "stream": "stdout",
       "text": [
        " 26.6383678913 seconds.\n",
        "Before VI: 0.429392255747\n",
        "Smallest VI: 0.39285045356\n",
        "Sureness threshold: 0.913296878338\n",
        "456"
       ]
      },
      {
       "output_type": "stream",
       "stream": "stdout",
       "text": [
        " generated in 9.86211013794 seconds.\n",
        "Grouped into 113 patches in 0.00296401977539 seconds.\n",
        "Merge loop finished in"
       ]
      },
      {
       "output_type": "stream",
       "stream": "stdout",
       "text": [
        " 23.439893961 seconds.\n",
        "Before VI: 0.418126257718\n",
        "Smallest VI: 0.405170577155\n",
        "Sureness threshold: 0.961898028851\n",
        "484"
       ]
      },
      {
       "output_type": "stream",
       "stream": "stdout",
       "text": [
        " generated in 10.5948200226 seconds.\n",
        "Grouped into 121 patches in 0.00327801704407 seconds.\n",
        "Merge loop finished in"
       ]
      },
      {
       "output_type": "stream",
       "stream": "stdout",
       "text": [
        " 24.5541620255 seconds.\n",
        "Before VI: 0.417671556086\n",
        "Smallest VI: 0.410773226391\n",
        "Sureness threshold: 0.992599964142\n",
        "508"
       ]
      },
      {
       "output_type": "stream",
       "stream": "stdout",
       "text": [
        " generated in 10.6584289074 seconds.\n",
        "Grouped into 127 patches in 0.00322198867798 seconds.\n",
        "Merge loop finished in"
       ]
      },
      {
       "output_type": "stream",
       "stream": "stdout",
       "text": [
        " 25.7837119102 seconds.\n",
        "Before VI: 0.490719699543\n",
        "Smallest VI: 0.424982643799\n",
        "Sureness threshold: 0.940909802914\n",
        "488"
       ]
      },
      {
       "output_type": "stream",
       "stream": "stdout",
       "text": [
        " generated in 10.1301441193 seconds.\n",
        "Grouped into 122 patches in 0.00336599349976 seconds.\n",
        "Merge loop finished in"
       ]
      },
      {
       "output_type": "stream",
       "stream": "stdout",
       "text": [
        " 25.1791808605 seconds.\n",
        "Before VI: 0.462002769239\n",
        "Smallest VI: 0.397891921228\n",
        "Sureness threshold: 0.978158354759\n",
        "480"
       ]
      },
      {
       "output_type": "stream",
       "stream": "stdout",
       "text": [
        " generated in 9.92855000496 seconds.\n",
        "Grouped into 118 patches in 0.00310206413269 seconds.\n",
        "Merge loop finished in"
       ]
      },
      {
       "output_type": "stream",
       "stream": "stdout",
       "text": [
        " 23.9483001232 seconds.\n",
        "Before VI: 0.585184084074\n",
        "Smallest VI: 0.53881600975\n",
        "Sureness threshold: 0.948326945305\n",
        "460"
       ]
      },
      {
       "output_type": "stream",
       "stream": "stdout",
       "text": [
        " generated in 9.43974614143 seconds.\n",
        "Grouped into 113 patches in 0.00293493270874 seconds.\n",
        "Merge loop finished in"
       ]
      },
      {
       "output_type": "stream",
       "stream": "stdout",
       "text": [
        " 27.0722689629 seconds.\n",
        "Before VI: 0.634014826312\n",
        "Smallest VI: 0.616011139394\n",
        "Sureness threshold: 0.98035210371\n",
        "488"
       ]
      },
      {
       "output_type": "stream",
       "stream": "stdout",
       "text": [
        " generated in 10.2744569778 seconds.\n",
        "Grouped into 120 patches in 0.00318598747253 seconds.\n",
        "Merge loop finished in"
       ]
      },
      {
       "output_type": "stream",
       "stream": "stdout",
       "text": [
        " 30.0187439919 seconds.\n",
        "Before VI: 0.65525434104\n",
        "Smallest VI: 0.621031501733\n",
        "Sureness threshold: 0.965229392052\n",
        "540"
       ]
      },
      {
       "output_type": "stream",
       "stream": "stdout",
       "text": [
        " generated in 11.3844518661 seconds.\n",
        "Grouped into 135 patches in 0.00350403785706 seconds.\n",
        "Merge loop finished in"
       ]
      },
      {
       "output_type": "stream",
       "stream": "stdout",
       "text": [
        " 34.4987242222 seconds.\n",
        "Before VI: 0.596835205477\n",
        "Smallest VI: 0.568322122869\n",
        "Sureness threshold: 0.97333240509\n",
        "464"
       ]
      },
      {
       "output_type": "stream",
       "stream": "stdout",
       "text": [
        " generated in 10.1180448532 seconds.\n",
        "Grouped into 116 patches in 0.00296092033386 seconds.\n",
        "Merge loop finished in"
       ]
      },
      {
       "output_type": "stream",
       "stream": "stdout",
       "text": [
        " 19.7143080235 seconds.\n",
        "Before VI: 0.456495226471\n",
        "Smallest VI: 0.401579978215\n",
        "Sureness threshold: 0.935973644257\n",
        "448"
       ]
      },
      {
       "output_type": "stream",
       "stream": "stdout",
       "text": [
        " generated in 9.56561613083 seconds.\n",
        "Grouped into 112 patches in 0.00291013717651 seconds.\n",
        "Merge loop finished in"
       ]
      },
      {
       "output_type": "stream",
       "stream": "stdout",
       "text": [
        " 24.2960541248 seconds.\n",
        "Before VI: 0.429392255747\n",
        "Smallest VI: 0.391818262275\n",
        "Sureness threshold: 0.67627286911\n",
        "456"
       ]
      },
      {
       "output_type": "stream",
       "stream": "stdout",
       "text": [
        " generated in 9.83530497551 seconds.\n",
        "Grouped into 113 patches in 0.00299310684204 seconds.\n",
        "Merge loop finished in"
       ]
      },
      {
       "output_type": "stream",
       "stream": "stdout",
       "text": [
        " 20.2524349689 seconds.\n",
        "Before VI: 0.418126257718\n",
        "Smallest VI: 0.383555812838\n",
        "Sureness threshold: 0.960301816463\n",
        "484"
       ]
      },
      {
       "output_type": "stream",
       "stream": "stdout",
       "text": [
        " generated in 10.172960043 seconds.\n",
        "Grouped into 121 patches in 0.00383806228638 seconds.\n",
        "Merge loop finished in"
       ]
      },
      {
       "output_type": "stream",
       "stream": "stdout",
       "text": [
        " 25.851888895 seconds.\n",
        "Before VI: 0.417671556086\n",
        "Smallest VI: 0.48817438785\n",
        "Sureness threshold: 0.987348973751\n",
        "508"
       ]
      },
      {
       "output_type": "stream",
       "stream": "stdout",
       "text": [
        " generated in 10.6435089111 seconds.\n",
        "Grouped into 127 patches in 0.00327086448669 seconds.\n",
        "Merge loop finished in"
       ]
      },
      {
       "output_type": "stream",
       "stream": "stdout",
       "text": [
        " 28.8967170715 seconds.\n",
        "Before VI: 0.490719699543\n",
        "Smallest VI: 0.424035837096\n",
        "Sureness threshold: 0.845545351505\n",
        "488"
       ]
      },
      {
       "output_type": "stream",
       "stream": "stdout",
       "text": [
        " generated in 10.2019479275 seconds.\n",
        "Grouped into 122 patches in 0.00312995910645 seconds.\n",
        "Merge loop finished in"
       ]
      },
      {
       "output_type": "stream",
       "stream": "stdout",
       "text": [
        " 24.1614558697 seconds.\n",
        "Before VI: 0.462002769239\n",
        "Smallest VI: 0.474480437701\n",
        "Sureness threshold: 0.990283966064\n",
        "480"
       ]
      },
      {
       "output_type": "stream",
       "stream": "stdout",
       "text": [
        " generated in 9.9454460144 seconds.\n",
        "Grouped into 118 patches in 0.00306105613708 seconds.\n",
        "Merge loop finished in"
       ]
      },
      {
       "output_type": "stream",
       "stream": "stdout",
       "text": [
        " 22.5366761684 seconds.\n",
        "Before VI: 0.585184084074\n",
        "Smallest VI: 0.560768804036\n",
        "Sureness threshold: 0.996326863766\n",
        "460"
       ]
      },
      {
       "output_type": "stream",
       "stream": "stdout",
       "text": [
        " generated in 9.52106714249 seconds.\n",
        "Grouped into 113 patches in 0.00291991233826 seconds.\n",
        "Merge loop finished in"
       ]
      },
      {
       "output_type": "stream",
       "stream": "stdout",
       "text": [
        " 24.1282260418 seconds.\n",
        "Before VI: 0.634014826312\n",
        "Smallest VI: 0.634530679417\n",
        "Sureness threshold: 0.991272211075\n",
        "488"
       ]
      },
      {
       "output_type": "stream",
       "stream": "stdout",
       "text": [
        " generated in 10.2281639576 seconds.\n",
        "Grouped into 120 patches in 0.00313591957092 seconds.\n",
        "Merge loop finished in"
       ]
      },
      {
       "output_type": "stream",
       "stream": "stdout",
       "text": [
        " 27.227091074 seconds.\n",
        "Before VI: 0.65525434104\n",
        "Smallest VI: 0.635593750185\n",
        "Sureness threshold: 0.986997008324\n",
        "540"
       ]
      },
      {
       "output_type": "stream",
       "stream": "stdout",
       "text": [
        " generated in 11.3334350586 seconds.\n",
        "Grouped into 135 patches in 0.00352120399475 seconds.\n",
        "Merge loop finished in"
       ]
      },
      {
       "output_type": "stream",
       "stream": "stdout",
       "text": [
        " 30.2100298405 seconds.\n",
        "Before VI: 0.596835205477\n",
        "Smallest VI: 0.592925171\n",
        "Sureness threshold: 0.992717385292\n",
        "464"
       ]
      },
      {
       "output_type": "stream",
       "stream": "stdout",
       "text": [
        " generated in 10.1110501289 seconds.\n",
        "Grouped into 116 patches in 0.0030620098114 seconds.\n",
        "Merge loop finished in"
       ]
      },
      {
       "output_type": "stream",
       "stream": "stdout",
       "text": [
        " 22.3835492134 seconds.\n",
        "Before VI: 0.456495226471\n",
        "Smallest VI: 0.435238666058\n",
        "Sureness threshold: 0.982308268547\n",
        "448"
       ]
      },
      {
       "output_type": "stream",
       "stream": "stdout",
       "text": [
        " generated in 9.61439800262 seconds.\n",
        "Grouped into 112 patches in 0.00349497795105 seconds.\n",
        "Merge loop finished in"
       ]
      },
      {
       "output_type": "stream",
       "stream": "stdout",
       "text": [
        " 20.1923508644 seconds.\n",
        "Before VI: 0.429392255747\n",
        "Smallest VI: 0.393411936543\n",
        "Sureness threshold: 0.834681630135\n",
        "456"
       ]
      },
      {
       "output_type": "stream",
       "stream": "stdout",
       "text": [
        " generated in 9.83498811722 seconds.\n",
        "Grouped into 113 patches in 0.00299596786499 seconds.\n",
        "Merge loop finished in"
       ]
      },
      {
       "output_type": "stream",
       "stream": "stdout",
       "text": [
        " 24.9449369907 seconds.\n",
        "Before VI: 0.418126257718\n",
        "Smallest VI: 0.401673022815\n",
        "Sureness threshold: 0.96444028616\n",
        "484"
       ]
      },
      {
       "output_type": "stream",
       "stream": "stdout",
       "text": [
        " generated in 10.2965118885 seconds.\n",
        "Grouped into 121 patches in 0.00325703620911 seconds.\n",
        "Merge loop finished in"
       ]
      },
      {
       "output_type": "stream",
       "stream": "stdout",
       "text": [
        " 22.2205030918 seconds.\n",
        "Before VI: 0.417671556086\n",
        "Smallest VI: 0.410103795791\n",
        "Sureness threshold: 0.928599536419\n",
        "508"
       ]
      },
      {
       "output_type": "stream",
       "stream": "stdout",
       "text": [
        " generated in 10.8580589294 seconds.\n",
        "Grouped into 127 patches in 0.00471901893616 seconds.\n",
        "Merge loop finished in"
       ]
      },
      {
       "output_type": "stream",
       "stream": "stdout",
       "text": [
        " 24.8935530186 seconds.\n",
        "Before VI: 0.490719699543\n",
        "Smallest VI: 0.468183604304\n",
        "Sureness threshold: 0.959592759609\n",
        "488"
       ]
      },
      {
       "output_type": "stream",
       "stream": "stdout",
       "text": [
        " generated in 10.0838780403 seconds.\n",
        "Grouped into 122 patches in 0.00312399864197 seconds.\n",
        "Merge loop finished in"
       ]
      },
      {
       "output_type": "stream",
       "stream": "stdout",
       "text": [
        " 24.2089381218 seconds.\n",
        "Before VI: 0.462002769239\n",
        "Smallest VI: 0.396955111147\n",
        "Sureness threshold: 0.963086545467\n",
        "480"
       ]
      },
      {
       "output_type": "stream",
       "stream": "stdout",
       "text": [
        " generated in 9.98757386208 seconds.\n",
        "Grouped into 118 patches in 0.00309205055237 seconds.\n",
        "Merge loop finished in"
       ]
      },
      {
       "output_type": "stream",
       "stream": "stdout",
       "text": [
        " 22.5845320225 seconds.\n",
        "Before VI: 0.585184084074\n",
        "Smallest VI: 0.555433099432\n",
        "Sureness threshold: 0.990037560463\n",
        "460"
       ]
      },
      {
       "output_type": "stream",
       "stream": "stdout",
       "text": [
        " generated in 9.51409697533 seconds.\n",
        "Grouped into 113 patches in 0.00296401977539 seconds.\n",
        "Merge loop finished in"
       ]
      },
      {
       "output_type": "stream",
       "stream": "stdout",
       "text": [
        " 22.7648069859 seconds.\n",
        "Before VI: 0.634014826312\n",
        "Smallest VI: 0.607975587044\n",
        "Sureness threshold: 0.977355480194\n",
        "488"
       ]
      },
      {
       "output_type": "stream",
       "stream": "stdout",
       "text": [
        " generated in 10.1954650879 seconds.\n",
        "Grouped into 120 patches in 0.00312805175781 seconds.\n",
        "Merge loop finished in"
       ]
      },
      {
       "output_type": "stream",
       "stream": "stdout",
       "text": [
        " 25.0013608932 seconds.\n",
        "Before VI: 0.65525434104\n",
        "Smallest VI: 0.634560383463\n",
        "Sureness threshold: 0.989400923252\n",
        "540"
       ]
      },
      {
       "output_type": "stream",
       "stream": "stdout",
       "text": [
        " generated in 11.3501629829 seconds.\n",
        "Grouped into 135 patches in 0.00349617004395 seconds.\n",
        "Merge loop finished in"
       ]
      },
      {
       "output_type": "stream",
       "stream": "stdout",
       "text": [
        " 27.7888028622 seconds.\n",
        "Before VI: 0.596835205477\n",
        "Smallest VI: 0.572642634332\n",
        "Sureness threshold: 0.982978761196\n"
       ]
      }
     ],
     "prompt_number": 201
    },
    {
     "cell_type": "code",
     "collapsed": false,
     "input": [
      "np.mean(cnn_times)"
     ],
     "language": "python",
     "metadata": {},
     "outputs": [
      {
       "metadata": {},
       "output_type": "pyout",
       "prompt_number": 271,
       "text": [
        "369.01299064159394"
       ]
      }
     ],
     "prompt_number": 271
    },
    {
     "cell_type": "code",
     "collapsed": false,
     "input": [
      "np.mean(cnn_slice_vi_s[2])"
     ],
     "language": "python",
     "metadata": {},
     "outputs": [
      {
       "metadata": {},
       "output_type": "pyout",
       "prompt_number": 267,
       "text": [
        "0.49021509916746309"
       ]
      }
     ],
     "prompt_number": 267
    },
    {
     "cell_type": "code",
     "collapsed": false,
     "input": [
      "Util.stats(cnn_surenesses)"
     ],
     "language": "python",
     "metadata": {},
     "outputs": [
      {
       "output_type": "stream",
       "stream": "stdout",
       "text": [
        "  N:  10\n",
        "  Min:  0.67627286911\n",
        "  Max:  0.998591244221\n",
        "  Mean:  0.950593363643\n",
        "  Median:  0.971555799246\n",
        "  Std:  0.0614820470092\n",
        "  Var:  0.00378004210444\n"
       ]
      }
     ],
     "prompt_number": 269
    },
    {
     "cell_type": "code",
     "collapsed": false,
     "input": [
      "\n",
      "objects = []\n",
      "performance = []\n",
      "user_slice_vis = []\n",
      "for i,d in enumerate(DOJO_USERS):\n",
      "    objects.append('User '+ str(i))\n",
      "    user_vi, slice_vis = user_threed_vi(input_gold, d)\n",
      "    performance.append(user_vi)\n",
      "    user_slice_vis.append(slice_vis)\n",
      "\n",
      "before_vi, before_slice_vis = threed_vi(input_gold, input_rhoana)    \n",
      "\n",
      "y_pos = np.arange(len(objects))    \n",
      "    \n",
      "fig, ax = plt.subplots()\n",
      "ax.plot(range(0,10), [before_vi]*len(objects), 'k--', label='rhoana VI')\n",
      "plt.bar(y_pos, performance, align='center', alpha=0.5)\n",
      "plt.xticks(y_pos, objects)\n",
      "ax.tick_params(axis='x', labelsize=7)\n",
      "ax.set_ylim(0,1.)\n",
      "\n",
      "plt.ylabel('Variation of Information')\n",
      "\n",
      "# Now add the legend with some customizations.\n",
      "legend = ax.legend(loc='upper right', shadow=True)\n",
      "\n",
      "# The frame is matplotlib.patches.Rectangle instance surrounding the legend.\n",
      "frame = legend.get_frame()\n",
      "frame.set_facecolor('0.90')\n",
      "\n",
      "# Set the fontsize\n",
      "for label in legend.get_texts():\n",
      "    label.set_fontsize('large')\n",
      "\n",
      "for label in legend.get_lines():\n",
      "    label.set_linewidth(1.5)  # the legend line width\n"
     ],
     "language": "python",
     "metadata": {},
     "outputs": [
      {
       "metadata": {},
       "output_type": "display_data",
       "png": "[encoded data removed]",
       "text": [
        "<matplotlib.figure.Figure at 0x111a9b990>"
       ]
      }
     ],
     "prompt_number": 270
    },
    {
     "cell_type": "code",
     "collapsed": false,
     "input": [
      "performance[7]"
     ],
     "language": "python",
     "metadata": {},
     "outputs": [
      {
       "metadata": {},
       "output_type": "pyout",
       "prompt_number": 204,
       "text": [
        "0.44734259296152945"
       ]
      }
     ],
     "prompt_number": 204
    },
    {
     "cell_type": "code",
     "collapsed": false,
     "input": [
      "objects = []\n",
      "performance = []\n",
      "# user_slice_vis = []\n",
      "for i,n in enumerate(networks):\n",
      "    objects.append(n._NETWORK_ID)\n",
      "#     user_vi, slice_vis = user_threed_vi(input_gold, d)\n",
      "    performance.append(cnn_vi_s[i])\n",
      "#     user_slice_vis.append(slice_vis)\n",
      "\n",
      "before_vi, before_slice_vis = threed_vi(input_gold, input_rhoana)    \n",
      "\n",
      "y_pos = np.arange(len(objects))    \n",
      "\n",
      "fig, ax = plt.subplots(figsize=(20,10))\n",
      "ax.plot(range(0,10), [before_vi]*len(objects), 'k--', label='rhoana VI')\n",
      "plt.bar(y_pos, performance, align='center', alpha=0.5, color='red')\n",
      "plt.xticks(y_pos, objects)\n",
      "ax.tick_params(axis='x', labelsize=7)\n",
      "ax.set_ylim(0,1.)\n",
      "plt.ylabel('Variation of Information')\n",
      "\n",
      "# Now add the legend with some customizations.\n",
      "legend = ax.legend(loc='upper right', shadow=True)\n",
      "\n",
      "# The frame is matplotlib.patches.Rectangle instance surrounding the legend.\n",
      "frame = legend.get_frame()\n",
      "frame.set_facecolor('0.90')\n",
      "\n",
      "# Set the fontsize\n",
      "for label in legend.get_texts():\n",
      "    label.set_fontsize('large')\n",
      "\n",
      "for label in legend.get_lines():\n",
      "    label.set_linewidth(1.5)  # the legend line width"
     ],
     "language": "python",
     "metadata": {},
     "outputs": [
      {
       "metadata": {},
       "output_type": "display_data",
       "png": "[encoded data removed]",
       "text": [
        "<matplotlib.figure.Figure at 0x11230b190>"
       ]
      }
     ],
     "prompt_number": 202
    },
    {
     "cell_type": "code",
     "collapsed": false,
     "input": [
      "simulated_user_er_vi_s =[]\n",
      "for er in range(0,20,2):\n",
      "    \n",
      "    er = er/100.\n",
      "    \n",
      "    simulated_user_vi_s2 = []\n",
      "    for i in range(0,10):\n",
      "        best_vi, good_fixes, bad_fixes, merge_pairs, vi_s  = fix_dojo_slice_user_simulated(networks[7],i, input_image, input_prob, input_rhoana,input_gold, error_rate=er)\n",
      "        simulated_user_vi_s2.append(vi_s[-1])\n",
      "\n",
      "    simulated_user_er_vi_s.append(np.mean(simulated_user_vi_s2))"
     ],
     "language": "python",
     "metadata": {},
     "outputs": []
    },
    {
     "cell_type": "code",
     "collapsed": false,
     "input": [
      "simulated_user_er_vi_s"
     ],
     "language": "python",
     "metadata": {},
     "outputs": [
      {
       "metadata": {},
       "output_type": "pyout",
       "prompt_number": 364,
       "text": [
        "[0.39430421016028483,\n",
        " 1.1642547709997983,\n",
        " 1.9709653273715642,\n",
        " 2.7398125410710663,\n",
        " 2.7035831007013966,\n",
        " 3.0736174511057017,\n",
        " 3.0984418028858625,\n",
        " 3.1963695269804333,\n",
        " 3.1723792784716798,\n",
        " 3.1737815311698032]"
       ]
      }
     ],
     "prompt_number": 364
    },
    {
     "cell_type": "code",
     "collapsed": false,
     "input": [],
     "language": "python",
     "metadata": {},
     "outputs": []
    },
    {
     "cell_type": "code",
     "collapsed": false,
     "input": [
      "best_vi, good_fixes, bad_fixes, merge_pairs, vi_s  = fix_dojo_slice_user_simulated(networks[7],0, input_image, input_prob, input_rhoana,input_gold, error_rate=.8, t=.95)"
     ],
     "language": "python",
     "metadata": {},
     "outputs": [
      {
       "output_type": "stream",
       "stream": "stdout",
       "text": [
        "464 generated in 10.1940250397 seconds.\n",
        "Grouped into 116 patches in 0.00290608406067 seconds.\n",
        "Start M"
       ]
      },
      {
       "output_type": "stream",
       "stream": "stdout",
       "text": [
        " 232\n",
        "user err\n",
        "user err\n",
        "user err\n",
        "user err"
       ]
      },
      {
       "output_type": "stream",
       "stream": "stdout",
       "text": [
        "\n",
        "user err\n",
        "user err\n",
        "user err"
       ]
      },
      {
       "output_type": "stream",
       "stream": "stdout",
       "text": [
        "\n",
        "user err\n",
        "user err"
       ]
      },
      {
       "output_type": "stream",
       "stream": "stdout",
       "text": [
        "\n",
        "user err\n",
        "Merge loop finished in 0.948987007141 seconds.\n",
        "Before VI: 0.456495226471\n",
        "Smallest VI: 0.456933935471\n",
        "Sureness threshold: 0.951163232327\n"
       ]
      }
     ],
     "prompt_number": 360
    },
    {
     "cell_type": "code",
     "collapsed": false,
     "input": [
      "vi_s[-1]"
     ],
     "language": "python",
     "metadata": {},
     "outputs": [
      {
       "metadata": {},
       "output_type": "pyout",
       "prompt_number": 362,
       "text": [
        "0.45958162558164073"
       ]
      }
     ],
     "prompt_number": 362
    },
    {
     "cell_type": "code",
     "collapsed": false,
     "input": [],
     "language": "python",
     "metadata": {},
     "outputs": []
    },
    {
     "cell_type": "code",
     "collapsed": false,
     "input": [
      "t0 = time.time()\n",
      "simulated_user_vi_s = []\n",
      "good_fixes = []\n",
      "bad_fixes = []\n",
      "for i in range(0,10):\n",
      "    simulated_user_vi, gf, bf,mps,vi_s  = fix_dojo_slice_user_simulated(networks[7],i, input_image, input_prob, input_rhoana,input_gold, error_rate=0.)\n",
      "    simulated_user_vi_s.append(simulated_user_vi)\n",
      "    good_fixes.append(gf)\n",
      "    bad_fixes.append(bf)\n",
      "\n",
      "print np.mean(simulated_user_vi_s)\n",
      "print 'ran in',time.time()-t0,'seconds'"
     ],
     "language": "python",
     "metadata": {},
     "outputs": [
      {
       "output_type": "stream",
       "stream": "stdout",
       "text": [
        "464 generated in 10.2098720074 seconds.\n",
        "Grouped into 116 patches in 0.00295400619507 seconds.\n",
        "Start M"
       ]
      },
      {
       "output_type": "stream",
       "stream": "stdout",
       "text": [
        " 232\n",
        "Merge loop finished in"
       ]
      },
      {
       "output_type": "stream",
       "stream": "stdout",
       "text": [
        " 4.7006149292 seconds.\n",
        "Before VI: 0.507538577929\n",
        "Smallest VI: 0.441898092166\n",
        "Sureness threshold: 0.488598167896\n",
        "448"
       ]
      },
      {
       "output_type": "stream",
       "stream": "stdout",
       "text": [
        " generated in 9.58975195885 seconds.\n",
        "Grouped into 112 patches in 0.00292778015137 seconds.\n",
        "Start M"
       ]
      },
      {
       "output_type": "stream",
       "stream": "stdout",
       "text": [
        " 224\n",
        "Merge loop finished in"
       ]
      },
      {
       "output_type": "stream",
       "stream": "stdout",
       "text": [
        " 4.75685596466 seconds.\n",
        "Before VI: 0.490232307552\n",
        "Smallest VI: 0.444150160444\n",
        "Sureness threshold: 0.333336651325\n"
       ]
      },
      {
       "ename": "KeyboardInterrupt",
       "evalue": "",
       "output_type": "pyerr",
       "traceback": [
        "\u001b[0;31m---------------------------------------------------------------------------\u001b[0m\n\u001b[0;31mKeyboardInterrupt\u001b[0m                         Traceback (most recent call last)",
        "\u001b[0;32m<ipython-input-195-1afdb56fda07>\u001b[0m in \u001b[0;36m<module>\u001b[0;34m()\u001b[0m\n\u001b[1;32m      4\u001b[0m \u001b[0mbad_fixes\u001b[0m \u001b[0;34m=\u001b[0m \u001b[0;34m[\u001b[0m\u001b[0;34m]\u001b[0m\u001b[0;34m\u001b[0m\u001b[0m\n\u001b[1;32m      5\u001b[0m \u001b[0;32mfor\u001b[0m \u001b[0mi\u001b[0m \u001b[0;32min\u001b[0m \u001b[0mrange\u001b[0m\u001b[0;34m(\u001b[0m\u001b[0;36m0\u001b[0m\u001b[0;34m,\u001b[0m\u001b[0;36m10\u001b[0m\u001b[0;34m)\u001b[0m\u001b[0;34m:\u001b[0m\u001b[0;34m\u001b[0m\u001b[0m\n\u001b[0;32m----> 6\u001b[0;31m     \u001b[0msimulated_user_vi\u001b[0m\u001b[0;34m,\u001b[0m \u001b[0mgf\u001b[0m\u001b[0;34m,\u001b[0m \u001b[0mbf\u001b[0m\u001b[0;34m,\u001b[0m\u001b[0mmps\u001b[0m\u001b[0;34m,\u001b[0m\u001b[0mvi_s\u001b[0m  \u001b[0;34m=\u001b[0m \u001b[0mfix_dojo_slice_user_simulated\u001b[0m\u001b[0;34m(\u001b[0m\u001b[0mnetworks\u001b[0m\u001b[0;34m[\u001b[0m\u001b[0;36m7\u001b[0m\u001b[0;34m]\u001b[0m\u001b[0;34m,\u001b[0m\u001b[0mi\u001b[0m\u001b[0;34m,\u001b[0m \u001b[0minput_image\u001b[0m\u001b[0;34m,\u001b[0m \u001b[0minput_prob\u001b[0m\u001b[0;34m,\u001b[0m \u001b[0minput_rhoana\u001b[0m\u001b[0;34m,\u001b[0m\u001b[0minput_gold\u001b[0m\u001b[0;34m,\u001b[0m \u001b[0merror_rate\u001b[0m\u001b[0;34m=\u001b[0m\u001b[0;36m0.\u001b[0m\u001b[0;34m)\u001b[0m\u001b[0;34m\u001b[0m\u001b[0m\n\u001b[0m\u001b[1;32m      7\u001b[0m     \u001b[0msimulated_user_vi_s\u001b[0m\u001b[0;34m.\u001b[0m\u001b[0mappend\u001b[0m\u001b[0;34m(\u001b[0m\u001b[0msimulated_user_vi\u001b[0m\u001b[0;34m)\u001b[0m\u001b[0;34m\u001b[0m\u001b[0m\n\u001b[1;32m      8\u001b[0m     \u001b[0mgood_fixes\u001b[0m\u001b[0;34m.\u001b[0m\u001b[0mappend\u001b[0m\u001b[0;34m(\u001b[0m\u001b[0mgf\u001b[0m\u001b[0;34m)\u001b[0m\u001b[0;34m\u001b[0m\u001b[0m\n",
        "\u001b[0;32m<ipython-input-177-51e192b0167c>\u001b[0m in \u001b[0;36mfix_dojo_slice_user_simulated\u001b[0;34m(cnn, slice, input_image, input_prob, input_rhoana, input_gold, error_rate)\u001b[0m\n\u001b[1;32m     37\u001b[0m                                                  \u001b[0minput_gold\u001b[0m\u001b[0;34m[\u001b[0m\u001b[0mDOJO_SLICE\u001b[0m\u001b[0;34m]\u001b[0m\u001b[0;34m,\u001b[0m\u001b[0;34m\u001b[0m\u001b[0m\n\u001b[1;32m     38\u001b[0m                                                  \u001b[0merror_rate\u001b[0m\u001b[0;34m=\u001b[0m\u001b[0merror_rate\u001b[0m\u001b[0;34m,\u001b[0m\u001b[0;34m\u001b[0m\u001b[0m\n\u001b[0;32m---> 39\u001b[0;31m                                                  oversampling=False)\n\u001b[0m\u001b[1;32m     40\u001b[0m \u001b[0;34m\u001b[0m\u001b[0m\n\u001b[1;32m     41\u001b[0m     \u001b[0mbest_index\u001b[0m \u001b[0;34m=\u001b[0m \u001b[0mvi_s\u001b[0m\u001b[0;34m.\u001b[0m\u001b[0mindex\u001b[0m\u001b[0;34m(\u001b[0m\u001b[0mnp\u001b[0m\u001b[0;34m.\u001b[0m\u001b[0mmin\u001b[0m\u001b[0;34m(\u001b[0m\u001b[0mvi_s\u001b[0m\u001b[0;34m)\u001b[0m\u001b[0;34m)\u001b[0m\u001b[0;34m\u001b[0m\u001b[0m\n",
        "\u001b[0;32m/Users/d/Projects/em-quality-metric/Reignite/fixer.py\u001b[0m in \u001b[0;36msplits_user_simulated\u001b[0;34m(cnn, image, prob, segmentation, groundtruth, error_rate, sureness_threshold, smallest_first, oversampling, verbose, max)\u001b[0m\n\u001b[1;32m     15\u001b[0m     '''\n\u001b[1;32m     16\u001b[0m     \u001b[0mt0\u001b[0m \u001b[0;34m=\u001b[0m \u001b[0mtime\u001b[0m\u001b[0;34m.\u001b[0m\u001b[0mtime\u001b[0m\u001b[0;34m(\u001b[0m\u001b[0;34m)\u001b[0m\u001b[0;34m\u001b[0m\u001b[0m\n\u001b[0;32m---> 17\u001b[0;31m     \u001b[0mpatches\u001b[0m \u001b[0;34m=\u001b[0m \u001b[0mPatch\u001b[0m\u001b[0;34m.\u001b[0m\u001b[0mpatchify\u001b[0m\u001b[0;34m(\u001b[0m\u001b[0mimage\u001b[0m\u001b[0;34m,\u001b[0m \u001b[0mprob\u001b[0m\u001b[0;34m,\u001b[0m \u001b[0msegmentation\u001b[0m\u001b[0;34m,\u001b[0m \u001b[0moversampling\u001b[0m\u001b[0;34m=\u001b[0m\u001b[0moversampling\u001b[0m\u001b[0;34m,\u001b[0m \u001b[0mmax\u001b[0m\u001b[0;34m=\u001b[0m\u001b[0mmax\u001b[0m\u001b[0;34m)\u001b[0m\u001b[0;34m\u001b[0m\u001b[0m\n\u001b[0m\u001b[1;32m     18\u001b[0m     \u001b[0;32mif\u001b[0m \u001b[0mverbose\u001b[0m\u001b[0;34m:\u001b[0m\u001b[0;34m\u001b[0m\u001b[0m\n\u001b[1;32m     19\u001b[0m       \u001b[0;32mprint\u001b[0m \u001b[0mlen\u001b[0m\u001b[0;34m(\u001b[0m\u001b[0mpatches\u001b[0m\u001b[0;34m)\u001b[0m\u001b[0;34m,\u001b[0m \u001b[0;34m'generated in'\u001b[0m\u001b[0;34m,\u001b[0m \u001b[0mtime\u001b[0m\u001b[0;34m.\u001b[0m\u001b[0mtime\u001b[0m\u001b[0;34m(\u001b[0m\u001b[0;34m)\u001b[0m\u001b[0;34m-\u001b[0m\u001b[0mt0\u001b[0m\u001b[0;34m,\u001b[0m \u001b[0;34m'seconds.'\u001b[0m\u001b[0;34m\u001b[0m\u001b[0m\n",
        "\u001b[0;32m/Users/d/Projects/em-quality-metric/Reignite/patch.pyc\u001b[0m in \u001b[0;36mpatchify\u001b[0;34m(image, prob, segmentation, sample_rate, min_pixels, max, oversampling, ignore_zero_neighbor)\u001b[0m\n\u001b[1;32m     80\u001b[0m \u001b[0;34m\u001b[0m\u001b[0m\n\u001b[1;32m     81\u001b[0m         \u001b[0;31m# print 'grabbing', l, n\u001b[0m\u001b[0;34m\u001b[0m\u001b[0;34m\u001b[0m\u001b[0m\n\u001b[0;32m---> 82\u001b[0;31m         \u001b[0mp_l\u001b[0m\u001b[0;34m,\u001b[0m \u001b[0mp_n\u001b[0m \u001b[0;34m=\u001b[0m \u001b[0mPatch\u001b[0m\u001b[0;34m.\u001b[0m\u001b[0mgrab\u001b[0m\u001b[0;34m(\u001b[0m\u001b[0mimage\u001b[0m\u001b[0;34m,\u001b[0m \u001b[0mprob\u001b[0m\u001b[0;34m,\u001b[0m \u001b[0msegmentation\u001b[0m\u001b[0;34m,\u001b[0m \u001b[0ml\u001b[0m\u001b[0;34m,\u001b[0m \u001b[0mn\u001b[0m\u001b[0;34m,\u001b[0m \u001b[0msample_rate\u001b[0m\u001b[0;34m,\u001b[0m \u001b[0moversampling\u001b[0m\u001b[0;34m=\u001b[0m\u001b[0moversampling\u001b[0m\u001b[0;34m)\u001b[0m\u001b[0;34m\u001b[0m\u001b[0m\n\u001b[0m\u001b[1;32m     83\u001b[0m \u001b[0;34m\u001b[0m\u001b[0m\n\u001b[1;32m     84\u001b[0m         \u001b[0mpatches\u001b[0m \u001b[0;34m+=\u001b[0m \u001b[0mp_l\u001b[0m\u001b[0;34m\u001b[0m\u001b[0m\n",
        "\u001b[0;32m/Users/d/Projects/em-quality-metric/Reignite/patch.pyc\u001b[0m in \u001b[0;36mgrab\u001b[0;34m(image, prob, segmentation, l, n, sample_rate, mode, oversampling, patch_size)\u001b[0m\n\u001b[1;32m     45\u001b[0m \u001b[0;34m\u001b[0m\u001b[0m\n\u001b[1;32m     46\u001b[0m     \u001b[0;31m# analyze both borders\u001b[0m\u001b[0;34m\u001b[0m\u001b[0;34m\u001b[0m\u001b[0m\n\u001b[0;32m---> 47\u001b[0;31m     \u001b[0mpatches_l\u001b[0m \u001b[0;34m=\u001b[0m \u001b[0mPatch\u001b[0m\u001b[0;34m.\u001b[0m\u001b[0manalyze_border\u001b[0m\u001b[0;34m(\u001b[0m\u001b[0mimage\u001b[0m\u001b[0;34m,\u001b[0m \u001b[0mprob\u001b[0m\u001b[0;34m,\u001b[0m \u001b[0mbinary_l\u001b[0m\u001b[0;34m,\u001b[0m \u001b[0mbinary_n\u001b[0m\u001b[0;34m,\u001b[0m \u001b[0mborder\u001b[0m\u001b[0;34m,\u001b[0m \u001b[0ml\u001b[0m\u001b[0;34m,\u001b[0m \u001b[0mn\u001b[0m\u001b[0;34m,\u001b[0m \u001b[0msample_rate\u001b[0m\u001b[0;34m=\u001b[0m\u001b[0msample_rate\u001b[0m\u001b[0;34m,\u001b[0m \u001b[0mpatch_size\u001b[0m\u001b[0;34m=\u001b[0m\u001b[0mpatch_size\u001b[0m\u001b[0;34m,\u001b[0m \u001b[0moversampling\u001b[0m\u001b[0;34m=\u001b[0m\u001b[0moversampling\u001b[0m\u001b[0;34m,\u001b[0m \u001b[0mmode\u001b[0m\u001b[0;34m=\u001b[0m\u001b[0mmode\u001b[0m\u001b[0;34m)\u001b[0m\u001b[0;34m\u001b[0m\u001b[0m\n\u001b[0m\u001b[1;32m     48\u001b[0m     \u001b[0mpatches_n\u001b[0m \u001b[0;34m=\u001b[0m \u001b[0mPatch\u001b[0m\u001b[0;34m.\u001b[0m\u001b[0manalyze_border\u001b[0m\u001b[0;34m(\u001b[0m\u001b[0mimage\u001b[0m\u001b[0;34m,\u001b[0m \u001b[0mprob\u001b[0m\u001b[0;34m,\u001b[0m \u001b[0mbinary_n\u001b[0m\u001b[0;34m,\u001b[0m \u001b[0mbinary_l\u001b[0m\u001b[0;34m,\u001b[0m \u001b[0mborder\u001b[0m\u001b[0;34m,\u001b[0m \u001b[0mn\u001b[0m\u001b[0;34m,\u001b[0m \u001b[0ml\u001b[0m\u001b[0;34m,\u001b[0m \u001b[0msample_rate\u001b[0m\u001b[0;34m=\u001b[0m\u001b[0msample_rate\u001b[0m\u001b[0;34m,\u001b[0m \u001b[0mpatch_size\u001b[0m\u001b[0;34m=\u001b[0m\u001b[0mpatch_size\u001b[0m\u001b[0;34m,\u001b[0m \u001b[0moversampling\u001b[0m\u001b[0;34m=\u001b[0m\u001b[0moversampling\u001b[0m\u001b[0;34m,\u001b[0m \u001b[0mmode\u001b[0m\u001b[0;34m=\u001b[0m\u001b[0mmode\u001b[0m\u001b[0;34m)\u001b[0m\u001b[0;34m\u001b[0m\u001b[0m\n\u001b[1;32m     49\u001b[0m \u001b[0;34m\u001b[0m\u001b[0m\n",
        "\u001b[0;32m/Users/d/Projects/em-quality-metric/Reignite/patch.pyc\u001b[0m in \u001b[0;36manalyze_border\u001b[0;34m(image, prob, binary_mask, binary_mask2, border, l, n, mode, patch_size, sample_rate, oversampling)\u001b[0m\n\u001b[1;32m    415\u001b[0m           \u001b[0mdilated_array2\u001b[0m \u001b[0;34m=\u001b[0m \u001b[0mnp\u001b[0m\u001b[0;34m.\u001b[0m\u001b[0marray\u001b[0m\u001b[0;34m(\u001b[0m\u001b[0mbinary_mask2\u001b[0m\u001b[0;34m[\u001b[0m\u001b[0mbbox\u001b[0m\u001b[0;34m[\u001b[0m\u001b[0;36m0\u001b[0m\u001b[0;34m]\u001b[0m\u001b[0;34m:\u001b[0m\u001b[0mbbox\u001b[0m\u001b[0;34m[\u001b[0m\u001b[0;36m1\u001b[0m\u001b[0;34m]\u001b[0m \u001b[0;34m+\u001b[0m \u001b[0;36m1\u001b[0m\u001b[0;34m,\u001b[0m \u001b[0mbbox\u001b[0m\u001b[0;34m[\u001b[0m\u001b[0;36m2\u001b[0m\u001b[0;34m]\u001b[0m\u001b[0;34m:\u001b[0m\u001b[0mbbox\u001b[0m\u001b[0;34m[\u001b[0m\u001b[0;36m3\u001b[0m\u001b[0;34m]\u001b[0m \u001b[0;34m+\u001b[0m \u001b[0;36m1\u001b[0m\u001b[0;34m]\u001b[0m\u001b[0;34m)\u001b[0m\u001b[0;34m\u001b[0m\u001b[0m\n\u001b[1;32m    416\u001b[0m           \u001b[0;32mfor\u001b[0m \u001b[0mo\u001b[0m \u001b[0;32min\u001b[0m \u001b[0mrange\u001b[0m\u001b[0;34m(\u001b[0m\u001b[0mpatch_size\u001b[0m\u001b[0;34m[\u001b[0m\u001b[0;36m0\u001b[0m\u001b[0;34m]\u001b[0m\u001b[0;34m/\u001b[0m\u001b[0;36m2\u001b[0m\u001b[0;34m)\u001b[0m\u001b[0;34m:\u001b[0m\u001b[0;34m\u001b[0m\u001b[0m\n\u001b[0;32m--> 417\u001b[0;31m               \u001b[0mdilated_array1\u001b[0m \u001b[0;34m=\u001b[0m \u001b[0mmh\u001b[0m\u001b[0;34m.\u001b[0m\u001b[0mdilate\u001b[0m\u001b[0;34m(\u001b[0m\u001b[0mdilated_array1\u001b[0m\u001b[0;34m.\u001b[0m\u001b[0mastype\u001b[0m\u001b[0;34m(\u001b[0m\u001b[0mnp\u001b[0m\u001b[0;34m.\u001b[0m\u001b[0muint64\u001b[0m\u001b[0;34m)\u001b[0m\u001b[0;34m)\u001b[0m\u001b[0;34m\u001b[0m\u001b[0m\n\u001b[0m\u001b[1;32m    418\u001b[0m               \u001b[0mdilated_array2\u001b[0m \u001b[0;34m=\u001b[0m \u001b[0mmh\u001b[0m\u001b[0;34m.\u001b[0m\u001b[0mdilate\u001b[0m\u001b[0;34m(\u001b[0m\u001b[0mdilated_array2\u001b[0m\u001b[0;34m.\u001b[0m\u001b[0mastype\u001b[0m\u001b[0;34m(\u001b[0m\u001b[0mnp\u001b[0m\u001b[0;34m.\u001b[0m\u001b[0muint64\u001b[0m\u001b[0;34m)\u001b[0m\u001b[0;34m)\u001b[0m\u001b[0;34m\u001b[0m\u001b[0m\n\u001b[1;32m    419\u001b[0m           \u001b[0moverlap\u001b[0m \u001b[0;34m=\u001b[0m \u001b[0mnp\u001b[0m\u001b[0;34m.\u001b[0m\u001b[0mlogical_and\u001b[0m\u001b[0;34m(\u001b[0m\u001b[0mdilated_array1\u001b[0m\u001b[0;34m,\u001b[0m \u001b[0mdilated_array2\u001b[0m\u001b[0;34m)\u001b[0m\u001b[0;34m\u001b[0m\u001b[0m\n",
        "\u001b[0;32m/Library/Python/2.7/site-packages/mahotas-1.3.0_git-py2.7-macosx-10.9-intel.egg/mahotas/morph.pyc\u001b[0m in \u001b[0;36mdilate\u001b[0;34m(A, Bc, out, output)\u001b[0m\n\u001b[1;32m    160\u001b[0m     \u001b[0mBc\u001b[0m \u001b[0;34m=\u001b[0m \u001b[0mget_structuring_elem\u001b[0m\u001b[0;34m(\u001b[0m\u001b[0mA\u001b[0m\u001b[0;34m,\u001b[0m\u001b[0mBc\u001b[0m\u001b[0;34m)\u001b[0m\u001b[0;34m\u001b[0m\u001b[0m\n\u001b[1;32m    161\u001b[0m     \u001b[0moutput\u001b[0m \u001b[0;34m=\u001b[0m \u001b[0m_get_output\u001b[0m\u001b[0;34m(\u001b[0m\u001b[0mA\u001b[0m\u001b[0;34m,\u001b[0m \u001b[0mout\u001b[0m\u001b[0;34m,\u001b[0m \u001b[0;34m'dilate'\u001b[0m\u001b[0;34m,\u001b[0m \u001b[0moutput\u001b[0m\u001b[0;34m=\u001b[0m\u001b[0moutput\u001b[0m\u001b[0;34m)\u001b[0m\u001b[0;34m\u001b[0m\u001b[0m\n\u001b[0;32m--> 162\u001b[0;31m     \u001b[0;32mreturn\u001b[0m \u001b[0m_morph\u001b[0m\u001b[0;34m.\u001b[0m\u001b[0mdilate\u001b[0m\u001b[0;34m(\u001b[0m\u001b[0mA\u001b[0m\u001b[0;34m,\u001b[0m \u001b[0mBc\u001b[0m\u001b[0;34m,\u001b[0m \u001b[0moutput\u001b[0m\u001b[0;34m)\u001b[0m\u001b[0;34m\u001b[0m\u001b[0m\n\u001b[0m\u001b[1;32m    163\u001b[0m \u001b[0;34m\u001b[0m\u001b[0m\n\u001b[1;32m    164\u001b[0m \u001b[0;32mdef\u001b[0m \u001b[0merode\u001b[0m\u001b[0;34m(\u001b[0m\u001b[0mA\u001b[0m\u001b[0;34m,\u001b[0m \u001b[0mBc\u001b[0m\u001b[0;34m=\u001b[0m\u001b[0mNone\u001b[0m\u001b[0;34m,\u001b[0m \u001b[0mout\u001b[0m\u001b[0;34m=\u001b[0m\u001b[0mNone\u001b[0m\u001b[0;34m,\u001b[0m \u001b[0moutput\u001b[0m\u001b[0;34m=\u001b[0m\u001b[0mNone\u001b[0m\u001b[0;34m)\u001b[0m\u001b[0;34m:\u001b[0m\u001b[0;34m\u001b[0m\u001b[0m\n",
        "\u001b[0;31mKeyboardInterrupt\u001b[0m: "
       ]
      }
     ],
     "prompt_number": 195
    },
    {
     "cell_type": "code",
     "collapsed": false,
     "input": [
      "print 'avg. good fixes', np.mean(good_fixes)\n",
      "print 'avg. bad fixes', np.mean(bad_fixes)"
     ],
     "language": "python",
     "metadata": {},
     "outputs": [
      {
       "output_type": "stream",
       "stream": "stdout",
       "text": [
        "avg. good fixes 18.0\n",
        "avg. bad fixes 63.0\n"
       ]
      }
     ],
     "prompt_number": 365
    },
    {
     "cell_type": "code",
     "collapsed": false,
     "input": [
      "Util.stats(good_fixes)"
     ],
     "language": "python",
     "metadata": {},
     "outputs": [
      {
       "output_type": "stream",
       "stream": "stdout",
       "text": [
        "  N:  10\n",
        "  Min:  10\n",
        "  Max:  23\n",
        "  Mean:  16.7\n",
        "  Median:  16.5\n",
        "  Std:  3.52278299076\n",
        "  Var:  12.41\n"
       ]
      }
     ],
     "prompt_number": 117
    },
    {
     "cell_type": "code",
     "collapsed": false,
     "input": [
      "Util.stats(bad_fixes)"
     ],
     "language": "python",
     "metadata": {},
     "outputs": [
      {
       "output_type": "stream",
       "stream": "stdout",
       "text": [
        "  N:  10\n",
        "  Min:  14\n",
        "  Max:  18\n",
        "  Mean:  16.0\n",
        "  Median:  16.0\n",
        "  Std:  1.18321595662\n",
        "  Var:  1.4\n"
       ]
      }
     ],
     "prompt_number": 118
    },
    {
     "cell_type": "code",
     "collapsed": false,
     "input": [
      "simulated_user_vi, gf, bf,mps, vi_s  = fix_dojo_slice_user_simulated(networks[7],0, input_image, input_prob, input_rhoana,input_gold, error_rate=0.)\n",
      "simulated_user_vi_s.append(simulated_user_vi)\n"
     ],
     "language": "python",
     "metadata": {},
     "outputs": [
      {
       "output_type": "stream",
       "stream": "stdout",
       "text": [
        "464 generated in 10.2087979317 seconds.\n",
        "Grouped into 116 patches in 0.00308203697205 seconds.\n",
        "Start M"
       ]
      },
      {
       "output_type": "stream",
       "stream": "stdout",
       "text": [
        " 232\n",
        "Merge loop finished in"
       ]
      },
      {
       "output_type": "stream",
       "stream": "stdout",
       "text": [
        " 4.63332414627 seconds.\n",
        "Before VI: 0.456495226471\n",
        "Smallest VI: 0.390161631168\n",
        "Sureness threshold: 0.488598167896\n"
       ]
      }
     ],
     "prompt_number": 205
    },
    {
     "cell_type": "code",
     "collapsed": false,
     "input": [
      "np.mean(bf)"
     ],
     "language": "python",
     "metadata": {},
     "outputs": [
      {
       "metadata": {},
       "output_type": "pyout",
       "prompt_number": 206,
       "text": [
        "91.0"
       ]
      }
     ],
     "prompt_number": 206
    },
    {
     "cell_type": "code",
     "collapsed": false,
     "input": [
      "np.mean(gf)"
     ],
     "language": "python",
     "metadata": {},
     "outputs": [
      {
       "metadata": {},
       "output_type": "pyout",
       "prompt_number": 207,
       "text": [
        "12.0"
       ]
      }
     ],
     "prompt_number": 207
    },
    {
     "cell_type": "code",
     "collapsed": false,
     "input": [
      "automatic_vi = fix_dojo_slice(networks[7],0, input_image, input_prob, input_rhoana,input_gold)"
     ],
     "language": "python",
     "metadata": {},
     "outputs": [
      {
       "output_type": "stream",
       "stream": "stdout",
       "text": [
        "464 generated in 10.2176311016 seconds.\n",
        "Grouped into 116 patches in 0.00299787521362 seconds.\n",
        "Merge loop finished in"
       ]
      },
      {
       "output_type": "stream",
       "stream": "stdout",
       "text": [
        " 20.6096220016 seconds.\n",
        "Before VI: 0.456495226471\n",
        "Smallest VI: 0.431905708322\n",
        "Sureness threshold: 0.968341290951\n"
       ]
      }
     ],
     "prompt_number": 211
    },
    {
     "cell_type": "code",
     "collapsed": false,
     "input": [],
     "language": "python",
     "metadata": {},
     "outputs": []
    },
    {
     "cell_type": "code",
     "collapsed": false,
     "input": [],
     "language": "python",
     "metadata": {},
     "outputs": []
    },
    {
     "cell_type": "code",
     "collapsed": false,
     "input": [
      "#\n",
      "# this creates the top bins for the best five merge splits but also simulates the user who picks the best\n",
      "#\n",
      "#\n",
      "\n",
      "\n",
      "t0 = time.time()\n",
      "fixed_volume = np.array(input_rhoana)\n",
      "\n",
      "top_bins = [0,0,0,0,0]\n",
      "top_bins_counter = [0,0,0,0,0]\n",
      "\n",
      "\n",
      "for i in range(0,10):\n",
      "    print 'working on slice', i\n",
      "    \n",
      "    DOJO_SLICE = i\n",
      "\n",
      "    pred_best_per_slice = []\n",
      "    results_best_per_slice = []\n",
      "    \n",
      "    hist = Util.get_histogram(input_rhoana[DOJO_SLICE].astype(np.uint64))\n",
      "    labels = range(len(hist))\n",
      "    # np.random.shuffle(labels)\n",
      "    THRESHOLD = .5\n",
      "\n",
      "    slice_vi_diffs = []\n",
      "    split_errors = {}\n",
      "\n",
      "    fixed_slice = np.array(input_rhoana[DOJO_SLICE], dtype=np.uint64)\n",
      "\n",
      "    for l in labels:\n",
      "\n",
      "        if l == 0 or hist[l]<3000:\n",
      "#             print l, hist[l]\n",
      "            continue\n",
      "\n",
      "#         print l\n",
      "\n",
      "        before_merge_error = np.zeros(input_rhoana[DOJO_SLICE].shape)\n",
      "        before_merge_error[fixed_slice == l] = 1\n",
      "    #     Util.view_labels(input_rhoana[0], l)\n",
      "    #     before_merge_error = mh.croptobbox(before_merge_error)\n",
      "\n",
      "\n",
      "        borders, best_border_image, result, result_no_border, results_no_border, predictions = Fixer.fix_single_merge(networks[7],\n",
      "                                                                                                                      input_image[DOJO_SLICE],\n",
      "                                                                                                                      input_prob[DOJO_SLICE],\n",
      "                                                                                                                      before_merge_error, N=30, \n",
      "                                                                                                                      erode=True, \n",
      "                                                                                                                      invert=True,\n",
      "                                                                                                                      dilate=True,\n",
      "                                                                                                                      border_seeds=True,\n",
      "                                                                                                                      oversampling=False)\n",
      "\n",
      "\n",
      "\n",
      "        if len(predictions) > 0:\n",
      "            \n",
      "            #\n",
      "            # SORT THE PREDICTIONS\n",
      "            # LOOK AT TOP 5\n",
      "            # CHOOSE THE ONE WITH THE BEST VI\n",
      "            sorted_pred = sorted(zip(results_no_border, predictions), key=lambda x: x[1])\n",
      "\n",
      "            vi_before_merge = Util.vi(fixed_slice.astype(np.int64), input_gold[DOJO_SLICE].astype(np.int64))\n",
      "            best_vi_after_merge = vi_before_merge\n",
      "            best_possible_result = np.array(fixed_slice)\n",
      "#             possible_results = []\n",
      "            \n",
      "            for pred in range(5):\n",
      "                \n",
      "                if pred >= len(sorted_pred):\n",
      "                    continue\n",
      "                    \n",
      "                if sorted_pred[pred][1] >= THRESHOLD:\n",
      "                    print sorted_pred[pred][1]\n",
      "                    continue\n",
      "\n",
      "\n",
      "                \n",
      "                slice_copy = np.array(fixed_slice, dtype=np.int64)\n",
      "                \n",
      "                current_result = sorted_pred[pred][0]\n",
      "                \n",
      "                current_result[current_result != 0] += fixed_slice.max()\n",
      "\n",
      "                slice_copy += current_result.astype(np.int64)\n",
      "\n",
      "                sizes = mh.labeled.labeled_size(slice_copy)\n",
      "                too_small = np.where(sizes < 200)\n",
      "                labeled_small = mh.labeled.remove_regions(slice_copy, too_small)\n",
      "                labeled_small_zeros = Util.threshold(labeled_small, 0)\n",
      "                labeled_small = Util.fill(labeled_small, labeled_small_zeros.astype(np.bool))\n",
      "                slice_copy = Util.frame_image(labeled_small).astype(np.uint64)          \n",
      "\n",
      "#                 if pred==0:\n",
      "#                     pred_best_per_slice.append(sorted_pred[0])\n",
      "#                     results_best_per_slice.append(slice_copy)                \n",
      "                \n",
      "                # NOW WE CHECK FOR THE VI\n",
      "                vi_after_merge = Util.vi(slice_copy.astype(np.int64), input_rhoana[DOJO_SLICE].astype(np.int64))\n",
      "                \n",
      "                if vi_after_merge < best_vi_after_merge:\n",
      "                    # this improves\n",
      "                    print 'new vi after merge fix', vi_after_merge, sorted_pred[pred][1]\n",
      "#                     possible_results.append(slice_copy)\n",
      "                    best_possible_result = np.array(slice_copy, dtype=np.int64)\n",
      "                    best_vi_after_merge = vi_after_merge\n",
      "            \n",
      "                    vi_diff = vi_before_merge - vi_after_merge\n",
      "                    if vi_diff > 0:\n",
      "                        top_bins[pred] += vi_diff\n",
      "                        for j in range(pred,5):\n",
      "                            top_bins[j] += vi_diff\n",
      "                            top_bins_counter[j] += 1            \n",
      "            \n",
      "                else:\n",
      "                    # reject it\n",
      "                    best_possible_result = np.array(fixed_slice, dtype=np.int64)\n",
      "            \n",
      "\n",
      "                        \n",
      "            \n",
      "            fixed_slice = best_possible_result\n",
      "            \n",
      "# #             print l, predictions\n",
      "#             lowest_prediction_index = predictions.index(min(predictions))\n",
      "#             lowest_prediction = predictions[lowest_prediction_index]\n",
      "\n",
      "#             if lowest_prediction < THRESHOLD:\n",
      "\n",
      "#                 print 'Found merge error', lowest_prediction, l\n",
      "\n",
      "#                 result[result != 0] += fixed_slice.max()\n",
      "\n",
      "#                 fixed_slice += result.astype(np.uint64)\n",
      "\n",
      "#     #             split_errors[str(l)] = result\n",
      "\n",
      "    \n",
      "    fixed_volume[i] = fixed_slice\n",
      "\n",
      "\n",
      "for i in range(5):\n",
      "    \n",
      "    top_bins[i] /= top_bins_counter[i]\n",
      "    \n",
      "print 'merge error correction done after',time.time()-t0, 'seconds'\n",
      "\n",
      "\n"
     ],
     "language": "python",
     "metadata": {},
     "outputs": [
      {
       "output_type": "stream",
       "stream": "stdout",
       "text": [
        "working on slice 0\n",
        "0.928759396076"
       ]
      },
      {
       "output_type": "stream",
       "stream": "stdout",
       "text": [
        "\n",
        "0.928759396076\n",
        "0.993708968163\n",
        "0.993708968163\n",
        "0.993708968163\n",
        "0.997002661228"
       ]
      },
      {
       "output_type": "stream",
       "stream": "stdout",
       "text": [
        "\n",
        "0.972538411617"
       ]
      },
      {
       "output_type": "stream",
       "stream": "stdout",
       "text": [
        "\n",
        "0.984108567238\n",
        "0.986369132996\n",
        "0.986369132996\n",
        "0.986369132996\n",
        "new vi after merge fix"
       ]
      },
      {
       "output_type": "stream",
       "stream": "stdout",
       "text": [
        " 0.0565973000008 0.385964632034\n",
        "0.955352246761"
       ]
      },
      {
       "output_type": "stream",
       "stream": "stdout",
       "text": [
        "\n",
        "0.967351734638\n",
        "0.967351734638\n",
        "0.98349660635\n",
        "0.98349660635\n",
        "working on slice"
       ]
      },
      {
       "output_type": "stream",
       "stream": "stdout",
       "text": [
        " 1\n",
        "0.891268610954"
       ]
      },
      {
       "output_type": "stream",
       "stream": "stdout",
       "text": [
        "\n",
        "0.891268610954\n",
        "0.891268610954\n",
        "0.891268610954\n",
        "0.891268610954\n",
        "new vi after merge fix"
       ]
      },
      {
       "output_type": "stream",
       "stream": "stdout",
       "text": [
        " 0.0454961062389 0.488413929939\n",
        "0.961799263954"
       ]
      },
      {
       "output_type": "stream",
       "stream": "stdout",
       "text": [
        "\n",
        "0.974876642227"
       ]
      },
      {
       "output_type": "stream",
       "stream": "stdout",
       "text": [
        "\n",
        "0.974876642227\n",
        "0.974876642227\n",
        "0.974876642227\n",
        "0.974876642227\n",
        "0.529033362865"
       ]
      },
      {
       "output_type": "stream",
       "stream": "stdout",
       "text": [
        "\n",
        "0.529033362865\n",
        "0.529033362865\n",
        "0.529033362865\n",
        "0.529033362865\n",
        "0.989430010319"
       ]
      },
      {
       "output_type": "stream",
       "stream": "stdout",
       "text": [
        "\n",
        "0.989430010319\n",
        "0.989430010319\n",
        "0.989430010319\n",
        "0.989430010319\n",
        "working on slice"
       ]
      },
      {
       "output_type": "stream",
       "stream": "stdout",
       "text": [
        " 2\n",
        "0.843024134636"
       ]
      },
      {
       "output_type": "stream",
       "stream": "stdout",
       "text": [
        "\n",
        "0.843024134636\n",
        "0.843024134636\n",
        "0.843024134636\n",
        "0.843024134636\n",
        "0.987919688225"
       ]
      },
      {
       "output_type": "stream",
       "stream": "stdout",
       "text": [
        "\n",
        "0.987919688225\n",
        "0.987919688225\n",
        "0.987919688225\n",
        "0.987919688225\n",
        "0.96632194519"
       ]
      },
      {
       "output_type": "stream",
       "stream": "stdout",
       "text": [
        "\n",
        "0.983550310135\n",
        "0.983550310135\n",
        "0.983550310135\n",
        "0.983550310135\n",
        "0.96381688118"
       ]
      },
      {
       "output_type": "stream",
       "stream": "stdout",
       "text": [
        "\n",
        "0.96381688118\n",
        "0.96381688118\n",
        "0.96381688118\n",
        "0.96381688118\n",
        "0.673778951168"
       ]
      },
      {
       "output_type": "stream",
       "stream": "stdout",
       "text": [
        "\n",
        "0.673778951168\n",
        "working on slice"
       ]
      },
      {
       "output_type": "stream",
       "stream": "stdout",
       "text": [
        " 3\n",
        "0.938260912895"
       ]
      },
      {
       "output_type": "stream",
       "stream": "stdout",
       "text": [
        "\n",
        "0.938260912895\n",
        "0.938260912895\n",
        "0.938260912895\n",
        "0.938260912895\n",
        "0.981029331684"
       ]
      },
      {
       "output_type": "stream",
       "stream": "stdout",
       "text": [
        "\n",
        "0.981029331684\n",
        "0.981029331684\n",
        "0.981029331684\n",
        "0.981029331684\n",
        "0.863840818405"
       ]
      },
      {
       "output_type": "stream",
       "stream": "stdout",
       "text": [
        "\n",
        "0.863840818405\n",
        "0.863840818405\n",
        "0.863840818405\n",
        "0.863840818405\n",
        "0.588272035122"
       ]
      },
      {
       "output_type": "stream",
       "stream": "stdout",
       "text": [
        "\n",
        "0.588272035122\n",
        "0.588272035122\n",
        "0.588272035122\n",
        "0.979184925556\n",
        "0.762771427631"
       ]
      },
      {
       "output_type": "stream",
       "stream": "stdout",
       "text": [
        "\n",
        "working on slice 4\n",
        "0.879419207573"
       ]
      },
      {
       "output_type": "stream",
       "stream": "stdout",
       "text": [
        "\n",
        "0.898998141289\n",
        "0.898998141289\n",
        "0.898998141289\n",
        "0.898998141289\n",
        "0.997419834137"
       ]
      },
      {
       "output_type": "stream",
       "stream": "stdout",
       "text": [
        "\n",
        "0.997419834137\n",
        "0.997419834137\n",
        "0.997419834137\n",
        "0.997419834137\n",
        "new vi after merge fix"
       ]
      },
      {
       "output_type": "stream",
       "stream": "stdout",
       "text": [
        " 0.0519289512884 0.292988151312\n",
        "0.952273547649"
       ]
      },
      {
       "output_type": "stream",
       "stream": "stdout",
       "text": [
        "\n",
        "0.952273547649\n",
        "0.952273547649\n",
        "0.952273547649\n",
        "0.952273547649\n",
        "working on slice"
       ]
      },
      {
       "output_type": "stream",
       "stream": "stdout",
       "text": [
        " 5\n",
        "0.917056977749"
       ]
      },
      {
       "output_type": "stream",
       "stream": "stdout",
       "text": [
        "\n",
        "0.884783089161"
       ]
      },
      {
       "output_type": "stream",
       "stream": "stdout",
       "text": [
        "\n",
        "0.884783089161\n",
        "0.884783089161\n",
        "0.884783089161\n",
        "0.884783089161\n",
        "0.980319082737"
       ]
      },
      {
       "output_type": "stream",
       "stream": "stdout",
       "text": [
        "\n",
        "0.980319082737\n",
        "0.980319082737\n",
        "0.980319082737\n",
        "0.980319082737\n",
        "0.9953597188"
       ]
      },
      {
       "output_type": "stream",
       "stream": "stdout",
       "text": [
        "\n",
        "0.9953597188\n",
        "0.9953597188\n",
        "0.9953597188\n",
        "0.9953597188\n",
        "working on slice"
       ]
      },
      {
       "output_type": "stream",
       "stream": "stdout",
       "text": [
        " 6\n",
        "0.854039132595"
       ]
      },
      {
       "output_type": "stream",
       "stream": "stdout",
       "text": [
        "\n",
        "0.998066008091\n",
        "0.998066008091\n",
        "0.998066008091\n",
        "0.998066008091\n",
        "0.961968123913"
       ]
      },
      {
       "output_type": "stream",
       "stream": "stdout",
       "text": [
        "\n",
        "0.961968123913\n",
        "0.961968123913\n",
        "0.961968123913\n",
        "0.961968123913\n",
        "0.927583515644"
       ]
      },
      {
       "output_type": "stream",
       "stream": "stdout",
       "text": [
        "\n",
        "0.927583515644\n",
        "0.927583515644\n",
        "0.927583515644\n",
        "0.927583515644\n",
        "0.857470035553"
       ]
      },
      {
       "output_type": "stream",
       "stream": "stdout",
       "text": [
        "\n",
        "0.97401458025\n",
        "0.97401458025\n",
        "0.97401458025\n",
        "0.97401458025\n",
        "0.996088147163"
       ]
      },
      {
       "output_type": "stream",
       "stream": "stdout",
       "text": [
        "\n",
        "0.996088147163\n",
        "working on slice"
       ]
      },
      {
       "output_type": "stream",
       "stream": "stdout",
       "text": [
        " 7\n",
        "0.758049547672"
       ]
      },
      {
       "output_type": "stream",
       "stream": "stdout",
       "text": [
        "\n",
        "0.758049547672\n",
        "0.758049547672\n",
        "0.758049547672\n",
        "0.758049547672\n",
        "0.919610917568"
       ]
      },
      {
       "output_type": "stream",
       "stream": "stdout",
       "text": [
        "\n",
        "0.950231194496"
       ]
      },
      {
       "output_type": "stream",
       "stream": "stdout",
       "text": [
        "\n",
        "0.950231194496\n",
        "0.950231194496\n",
        "0.950231194496\n",
        "0.950231194496\n",
        "0.999699532986"
       ]
      },
      {
       "output_type": "stream",
       "stream": "stdout",
       "text": [
        "\n",
        "0.971827030182"
       ]
      },
      {
       "output_type": "stream",
       "stream": "stdout",
       "text": [
        "\n",
        "0.915021121502"
       ]
      },
      {
       "output_type": "stream",
       "stream": "stdout",
       "text": [
        "\n",
        "working on slice"
       ]
      },
      {
       "output_type": "stream",
       "stream": "stdout",
       "text": [
        " 8\n",
        "0.954701006413"
       ]
      },
      {
       "output_type": "stream",
       "stream": "stdout",
       "text": [
        "\n",
        "0.954701006413\n",
        "0.954701006413\n",
        "0.928618133068"
       ]
      },
      {
       "output_type": "stream",
       "stream": "stdout",
       "text": [
        "\n",
        "0.928618133068\n",
        "0.965550363064\n",
        "0.968220055103\n",
        "0.968220055103\n",
        "0.939972102642"
       ]
      },
      {
       "output_type": "stream",
       "stream": "stdout",
       "text": [
        "\n",
        "0.982218801975"
       ]
      },
      {
       "output_type": "stream",
       "stream": "stdout",
       "text": [
        "\n",
        "0.982218801975\n",
        "0.982218801975\n",
        "0.982218801975\n",
        "0.982218801975\n",
        "new vi after merge fix"
       ]
      },
      {
       "output_type": "stream",
       "stream": "stdout",
       "text": [
        " 0.0565812431327 0.381048887968\n",
        "new vi after merge fix"
       ]
      },
      {
       "output_type": "stream",
       "stream": "stdout",
       "text": [
        " 0.0564732665759 0.381048887968\n",
        "new vi after merge fix"
       ]
      },
      {
       "output_type": "stream",
       "stream": "stdout",
       "text": [
        " 0.0444191865799 0.215496644378\n",
        "0.896028935909"
       ]
      },
      {
       "output_type": "stream",
       "stream": "stdout",
       "text": [
        "\n",
        "working on slice"
       ]
      },
      {
       "output_type": "stream",
       "stream": "stdout",
       "text": [
        " 9\n",
        "0.673781394958"
       ]
      },
      {
       "output_type": "stream",
       "stream": "stdout",
       "text": [
        "\n",
        "0.687069654465\n",
        "0.687069654465\n",
        "0.728894412518\n",
        "0.728894412518\n",
        "0.981602966785"
       ]
      },
      {
       "output_type": "stream",
       "stream": "stdout",
       "text": [
        "\n",
        "0.958560198545"
       ]
      },
      {
       "output_type": "stream",
       "stream": "stdout",
       "text": [
        "\n",
        "0.958560198545\n",
        "0.958560198545\n",
        "0.958560198545\n",
        "0.958560198545\n",
        "0.979370355606"
       ]
      },
      {
       "output_type": "stream",
       "stream": "stdout",
       "text": [
        "\n",
        "0.979370355606\n",
        "0.979370355606\n",
        "0.979370355606\n",
        "0.979370355606\n",
        "new vi after merge fix"
       ]
      },
      {
       "output_type": "stream",
       "stream": "stdout",
       "text": [
        " 0.0979157787919 0.0309201385826\n",
        "merge error correction done after"
       ]
      },
      {
       "output_type": "stream",
       "stream": "stdout",
       "text": [
        " 910.764736891 seconds\n"
       ]
      }
     ],
     "prompt_number": 314
    },
    {
     "cell_type": "code",
     "collapsed": false,
     "input": [
      "Util.vi(input_gold[0], input_rhoana[0])"
     ],
     "language": "python",
     "metadata": {},
     "outputs": [
      {
       "metadata": {},
       "output_type": "pyout",
       "prompt_number": 240,
       "text": [
        "0.4564952264711417"
       ]
      }
     ],
     "prompt_number": 240
    },
    {
     "cell_type": "code",
     "collapsed": false,
     "input": [
      "Util.vi(input_gold[0].astype(np.int64), fixed_volume[0].astype(np.int64))"
     ],
     "language": "python",
     "metadata": {},
     "outputs": [
      {
       "metadata": {},
       "output_type": "pyout",
       "prompt_number": 316,
       "text": [
        "0.4300420889106302"
       ]
      }
     ],
     "prompt_number": 316
    },
    {
     "cell_type": "code",
     "collapsed": false,
     "input": [
      "top_bins"
     ],
     "language": "python",
     "metadata": {},
     "outputs": [
      {
       "metadata": {},
       "output_type": "pyout",
       "prompt_number": 318,
       "text": [
        "[0.977004167762165,\n",
        " 0.4885020838810825,\n",
        " 0.4885020838810825,\n",
        " 0.5897963788878401,\n",
        " 0.5042562253929554]"
       ]
      }
     ],
     "prompt_number": 318
    },
    {
     "cell_type": "code",
     "collapsed": false,
     "input": [
      "#\n",
      "# test with user in the loop after merge correction\n",
      "#\n",
      "t0 = time.time()\n",
      "simulated_user_vi_s = []\n",
      "good_fixes = []\n",
      "bad_fixes = []\n",
      "for i in range(0,10):\n",
      "    simulated_user_vi, gf, bf,mps,vi_s  = fix_dojo_slice_user_simulated(networks[7],i, input_image, input_prob, input_rhoana,input_gold, error_rate=0.)\n",
      "    simulated_user_vi_s.append(simulated_user_vi)\n",
      "    good_fixes.append(gf)\n",
      "    bad_fixes.append(bf)\n",
      "\n",
      "print np.mean(simulated_user_vi_s)\n",
      "print 'ran in',time.time()-t0,'seconds'"
     ],
     "language": "python",
     "metadata": {},
     "outputs": [
      {
       "output_type": "stream",
       "stream": "stdout",
       "text": [
        "464 generated in 10.2049849033 seconds.\n",
        "Grouped into 116 patches in 0.00295996665955 seconds.\n",
        "Start M"
       ]
      },
      {
       "output_type": "stream",
       "stream": "stdout",
       "text": [
        " 232\n",
        "Merge loop finished in"
       ]
      },
      {
       "output_type": "stream",
       "stream": "stdout",
       "text": [
        " 4.64622402191 seconds.\n",
        "Before VI: 0.456495226471\n",
        "Smallest VI: 0.390161631168\n",
        "Sureness threshold: 0.488598167896\n",
        "448"
       ]
      },
      {
       "output_type": "stream",
       "stream": "stdout",
       "text": [
        " generated in 9.82217097282 seconds.\n",
        "Grouped into 112 patches in 0.00290298461914 seconds.\n",
        "Start M"
       ]
      },
      {
       "output_type": "stream",
       "stream": "stdout",
       "text": [
        " 224\n",
        "Merge loop finished in"
       ]
      },
      {
       "output_type": "stream",
       "stream": "stdout",
       "text": [
        " 5.05374312401 seconds.\n",
        "Before VI: 0.429392255747\n",
        "Smallest VI: 0.378655213857\n",
        "Sureness threshold: 0.333336651325\n",
        "456"
       ]
      },
      {
       "output_type": "stream",
       "stream": "stdout",
       "text": [
        " generated in 10.1591129303 seconds.\n",
        "Grouped into 113 patches in 0.00297808647156 seconds.\n",
        "Start M"
       ]
      },
      {
       "output_type": "stream",
       "stream": "stdout",
       "text": [
        " 226\n",
        "Merge loop finished in"
       ]
      },
      {
       "output_type": "stream",
       "stream": "stdout",
       "text": [
        " 4.84043502808 seconds.\n",
        "Before VI: 0.418126257718\n",
        "Smallest VI: 0.364915058683\n",
        "Sureness threshold: 0.0781380087137\n",
        "484"
       ]
      },
      {
       "output_type": "stream",
       "stream": "stdout",
       "text": [
        " generated in 10.5750179291 seconds.\n",
        "Grouped into 121 patches in 0.00321412086487 seconds.\n",
        "Start M"
       ]
      },
      {
       "output_type": "stream",
       "stream": "stdout",
       "text": [
        " 242\n",
        "Merge loop finished in"
       ]
      },
      {
       "output_type": "stream",
       "stream": "stdout",
       "text": [
        " 6.6533229351 seconds.\n",
        "Before VI: 0.417671556086\n",
        "Smallest VI: 0.343845013422\n",
        "Sureness threshold: 0.145584478974\n",
        "508"
       ]
      },
      {
       "output_type": "stream",
       "stream": "stdout",
       "text": [
        " generated in 11.032738924 seconds.\n",
        "Grouped into 127 patches in 0.00328898429871 seconds.\n",
        "Start M"
       ]
      },
      {
       "output_type": "stream",
       "stream": "stdout",
       "text": [
        " 254\n",
        "Merge loop finished in"
       ]
      },
      {
       "output_type": "stream",
       "stream": "stdout",
       "text": [
        " 7.11006999016 seconds.\n",
        "Before VI: 0.490719699543\n",
        "Smallest VI: 0.388722716942\n",
        "Sureness threshold: 0.0925669297576\n",
        "488"
       ]
      },
      {
       "output_type": "stream",
       "stream": "stdout",
       "text": [
        " generated in 10.4639689922 seconds.\n",
        "Grouped into 122 patches in 0.00318908691406 seconds.\n",
        "Start M"
       ]
      },
      {
       "output_type": "stream",
       "stream": "stdout",
       "text": [
        " 244\n",
        "Merge loop finished in"
       ]
      },
      {
       "output_type": "stream",
       "stream": "stdout",
       "text": [
        " 5.41981196404 seconds.\n",
        "Before VI: 0.462002769239\n",
        "Smallest VI: 0.37032569243\n",
        "Sureness threshold: 0.226229056716\n",
        "480"
       ]
      },
      {
       "output_type": "stream",
       "stream": "stdout",
       "text": [
        " generated in 10.2464210987 seconds.\n",
        "Grouped into 118 patches in 0.00303101539612 seconds.\n",
        "Start M"
       ]
      },
      {
       "output_type": "stream",
       "stream": "stdout",
       "text": [
        " 236\n",
        "Merge loop finished in"
       ]
      },
      {
       "output_type": "stream",
       "stream": "stdout",
       "text": [
        " 7.59304499626 seconds.\n",
        "Before VI: 0.585184084074\n",
        "Smallest VI: 0.4262203883\n",
        "Sureness threshold: 0.53979241848\n",
        "460"
       ]
      },
      {
       "output_type": "stream",
       "stream": "stdout",
       "text": [
        " generated in 9.82019591331 seconds.\n",
        "Grouped into 113 patches in 0.00291895866394 seconds.\n",
        "Start M"
       ]
      },
      {
       "output_type": "stream",
       "stream": "stdout",
       "text": [
        " 226\n",
        "Merge loop finished in"
       ]
      },
      {
       "output_type": "stream",
       "stream": "stdout",
       "text": [
        " 7.04263091087 seconds.\n",
        "Before VI: 0.634014826312\n",
        "Smallest VI: 0.459573298259\n",
        "Sureness threshold: 0.347367107868\n",
        "488"
       ]
      },
      {
       "output_type": "stream",
       "stream": "stdout",
       "text": [
        " generated in 10.3692309856 seconds.\n",
        "Grouped into 120 patches in 0.00311398506165 seconds.\n",
        "Start M"
       ]
      },
      {
       "output_type": "stream",
       "stream": "stdout",
       "text": [
        " 240\n",
        "Merge loop finished in"
       ]
      },
      {
       "output_type": "stream",
       "stream": "stdout",
       "text": [
        " 7.32263898849 seconds.\n",
        "Before VI: 0.65525434104\n",
        "Smallest VI: 0.430296861519\n",
        "Sureness threshold: 0.0707852840424\n",
        "540"
       ]
      },
      {
       "output_type": "stream",
       "stream": "stdout",
       "text": [
        " generated in 11.4259879589 seconds.\n",
        "Grouped into 135 patches in 0.00347495079041 seconds.\n",
        "Start M"
       ]
      },
      {
       "output_type": "stream",
       "stream": "stdout",
       "text": [
        " 270\n",
        "Merge loop finished in"
       ]
      },
      {
       "output_type": "stream",
       "stream": "stdout",
       "text": [
        " 7.0189678669 seconds.\n",
        "Before VI: 0.596835205477\n",
        "Smallest VI: 0.390326227022\n",
        "Sureness threshold: 0.130012884736\n",
        "0.39430421016\n",
        "ran in 193.574639797 seconds\n"
       ]
      }
     ],
     "prompt_number": 315
    },
    {
     "cell_type": "code",
     "collapsed": false,
     "input": [
      "simulated_user_vi_s"
     ],
     "language": "python",
     "metadata": {},
     "outputs": [
      {
       "metadata": {},
       "output_type": "pyout",
       "prompt_number": 317,
       "text": [
        "[0.3901616311678895,\n",
        " 0.37865521385721834,\n",
        " 0.3649150586826,\n",
        " 0.34384501342222507,\n",
        " 0.3887227169421976,\n",
        " 0.3703256924298932,\n",
        " 0.4262203882999849,\n",
        " 0.45957329825904836,\n",
        " 0.4302968615194871,\n",
        " 0.390326227022304]"
       ]
      }
     ],
     "prompt_number": 317
    },
    {
     "cell_type": "code",
     "collapsed": false,
     "input": [
      "t0 = time.time()\n",
      "#\n",
      "# test with\n",
      "#\n",
      "slice_vi_s_auto = []\n",
      "for i in range(10):\n",
      "    best_vi, best_sureness, vi_s, surenesses = fix_dojo_slice(networks[7],i, input_image, input_prob, fixed_volume2,input_gold,t=.95)\n",
      "    slice_vi_s_auto.append(vi_s[-1])\n",
      "    print 'VI @ t', vi_s[-1]\n",
      "print time.time()-t0"
     ],
     "language": "python",
     "metadata": {},
     "outputs": [
      {
       "output_type": "stream",
       "stream": "stdout",
       "text": [
        "464 generated in 10.2037439346 seconds.\n",
        "Grouped into 116 patches in 0.00293684005737 seconds.\n",
        "Merge loop finished in"
       ]
      },
      {
       "output_type": "stream",
       "stream": "stdout",
       "text": [
        " 1.87838697433 seconds.\n",
        "Before VI: 0.430042088911\n",
        "Smallest VI: 0.405329725841\n",
        "Sureness threshold: 0.968341290951\n",
        "VI @ t 0.418450933374\n",
        "432"
       ]
      },
      {
       "output_type": "stream",
       "stream": "stdout",
       "text": [
        " generated in 9.25866103172 seconds.\n",
        "Grouped into 108 patches in 0.0028178691864 seconds.\n",
        "Merge loop finished in"
       ]
      },
      {
       "output_type": "stream",
       "stream": "stdout",
       "text": [
        " 1.33308196068 seconds.\n",
        "Before VI: 0.426770725022\n",
        "Smallest VI: 0.392124874235\n",
        "Sureness threshold: 0.9707275033\n",
        "VI @ t 0.392124874235\n",
        "456"
       ]
      },
      {
       "output_type": "stream",
       "stream": "stdout",
       "text": [
        " generated in 9.85781979561 seconds.\n",
        "Grouped into 113 patches in 0.00292992591858 seconds.\n",
        "Merge loop finished in"
       ]
      },
      {
       "output_type": "stream",
       "stream": "stdout",
       "text": [
        " 1.11818218231 seconds.\n",
        "Before VI: 0.418126257718\n",
        "Smallest VI: 0.405170577155\n",
        "Sureness threshold: 0.961898028851\n",
        "VI @ t 0.424757985754\n",
        "484"
       ]
      },
      {
       "output_type": "stream",
       "stream": "stdout",
       "text": [
        " generated in 10.3093411922 seconds.\n",
        "Grouped into 121 patches in 0.00324106216431 seconds.\n",
        "Merge loop finished in"
       ]
      },
      {
       "output_type": "stream",
       "stream": "stdout",
       "text": [
        " 1.54223895073 seconds.\n",
        "Before VI: 0.417671556086\n",
        "Smallest VI: 0.410773226391\n",
        "Sureness threshold: 0.992599964142\n",
        "VI @ t 0.421609118042\n",
        "500"
       ]
      },
      {
       "output_type": "stream",
       "stream": "stdout",
       "text": [
        " generated in 10.5889821053 seconds.\n",
        "Grouped into 125 patches in 0.0031750202179 seconds.\n",
        "Merge loop finished in"
       ]
      },
      {
       "output_type": "stream",
       "stream": "stdout",
       "text": [
        " 4.17904496193 seconds.\n",
        "Before VI: 0.500257435181\n",
        "Smallest VI: 0.42020309533\n",
        "Sureness threshold: 0.950102388859\n",
        "VI @ t 0.42020309533\n",
        "488"
       ]
      },
      {
       "output_type": "stream",
       "stream": "stdout",
       "text": [
        " generated in 10.11186409 seconds.\n",
        "Grouped into 122 patches in 0.00338101387024 seconds.\n",
        "Merge loop finished in"
       ]
      },
      {
       "output_type": "stream",
       "stream": "stdout",
       "text": [
        " 4.5281689167 seconds.\n",
        "Before VI: 0.462002769239\n",
        "Smallest VI: 0.397891921228\n",
        "Sureness threshold: 0.978158354759\n",
        "VI @ t 0.422740644129\n",
        "480"
       ]
      },
      {
       "output_type": "stream",
       "stream": "stdout",
       "text": [
        " generated in 10.0500309467 seconds.\n",
        "Grouped into 118 patches in 0.00312209129333 seconds.\n",
        "Merge loop finished in"
       ]
      },
      {
       "output_type": "stream",
       "stream": "stdout",
       "text": [
        " 1.96310186386 seconds.\n",
        "Before VI: 0.585184084074\n",
        "Smallest VI: 0.550876519547\n",
        "Sureness threshold: 0.983813762665\n",
        "VI @ t 0.556758333705\n",
        "460"
       ]
      },
      {
       "output_type": "stream",
       "stream": "stdout",
       "text": [
        " generated in 9.55233597755 seconds.\n",
        "Grouped into 113 patches in 0.003005027771 seconds.\n",
        "Merge loop finished in"
       ]
      },
      {
       "output_type": "stream",
       "stream": "stdout",
       "text": [
        " 4.0413441658 seconds.\n",
        "Before VI: 0.634014826312\n",
        "Smallest VI: 0.616011139394\n",
        "Sureness threshold: 0.98035210371\n",
        "VI @ t 0.676621983211\n",
        "516"
       ]
      },
      {
       "output_type": "stream",
       "stream": "stdout",
       "text": [
        " generated in 10.6573700905 seconds.\n",
        "Grouped into 129 patches in 0.00330686569214 seconds.\n",
        "Merge loop finished in"
       ]
      },
      {
       "output_type": "stream",
       "stream": "stdout",
       "text": [
        " 4.18536305428 seconds.\n",
        "Before VI: 0.64464120004\n",
        "Smallest VI: 0.603551614991\n",
        "Sureness threshold: 0.960787773132\n",
        "VI @ t 0.614587946521\n",
        "516"
       ]
      },
      {
       "output_type": "stream",
       "stream": "stdout",
       "text": [
        " generated in 10.648553133 seconds.\n",
        "Grouped into 129 patches in 0.00328302383423 seconds.\n",
        "Merge loop finished in"
       ]
      },
      {
       "output_type": "stream",
       "stream": "stdout",
       "text": [
        " 2.64877104759 seconds.\n",
        "Before VI: 0.611664894769\n",
        "Smallest VI: 0.564369806986\n",
        "Sureness threshold: 0.97333240509\n",
        "VI @ t 0.621410009865\n",
        "155.140213966\n"
       ]
      }
     ],
     "prompt_number": 343
    },
    {
     "cell_type": "code",
     "collapsed": false,
     "input": [
      "#\n",
      "# test with\n",
      "#\n",
      "t0 = time.time()\n",
      "slice_vi_s_auto_r = []\n",
      "for i in range(10):\n",
      "    best_vi, best_sureness, vi_s, surenesses = fix_dojo_slice(networks[7],i, input_image, input_prob, input_rhoana,input_gold,t=.95)\n",
      "    slice_vi_s_auto_r.append(vi_s[-1])\n",
      "    print 'VI @ t', vi_s[-1]\n",
      "print time.time()-t0"
     ],
     "language": "python",
     "metadata": {},
     "outputs": [
      {
       "output_type": "stream",
       "stream": "stdout",
       "text": [
        "464 generated in 10.2446529865 seconds.\n",
        "Grouped into 116 patches in 0.00295090675354 seconds.\n",
        "Merge loop finished in"
       ]
      },
      {
       "output_type": "stream",
       "stream": "stdout",
       "text": [
        " 1.87912011147 seconds.\n",
        "Before VI: 0.456495226471\n",
        "Smallest VI: 0.431905708322\n",
        "Sureness threshold: 0.968341290951\n",
        "VI @ t 0.444961690458\n",
        "448"
       ]
      },
      {
       "output_type": "stream",
       "stream": "stdout",
       "text": [
        " generated in 9.60497283936 seconds.\n",
        "Grouped into 112 patches in 0.00294995307922 seconds.\n",
        "Merge loop finished in"
       ]
      },
      {
       "output_type": "stream",
       "stream": "stdout",
       "text": [
        " 1.34076094627 seconds.\n",
        "Before VI: 0.429392255747\n",
        "Smallest VI: 0.394909591297\n",
        "Sureness threshold: 0.9707275033\n",
        "VI @ t 0.394909591297\n",
        "456"
       ]
      },
      {
       "output_type": "stream",
       "stream": "stdout",
       "text": [
        " generated in 9.86333918571 seconds.\n",
        "Grouped into 113 patches in 0.00302982330322 seconds.\n",
        "Merge loop finished in"
       ]
      },
      {
       "output_type": "stream",
       "stream": "stdout",
       "text": [
        " 1.1138420105 seconds.\n",
        "Before VI: 0.418126257718\n",
        "Smallest VI: 0.405170577155\n",
        "Sureness threshold: 0.961898028851\n",
        "VI @ t 0.424757985754\n",
        "484"
       ]
      },
      {
       "output_type": "stream",
       "stream": "stdout",
       "text": [
        " generated in 10.1970169544 seconds.\n",
        "Grouped into 121 patches in 0.00322198867798 seconds.\n",
        "Merge loop finished in"
       ]
      },
      {
       "output_type": "stream",
       "stream": "stdout",
       "text": [
        " 1.5142531395 seconds.\n",
        "Before VI: 0.417671556086\n",
        "Smallest VI: 0.410773226391\n",
        "Sureness threshold: 0.992599964142\n",
        "VI @ t 0.421609118042\n",
        "508"
       ]
      },
      {
       "output_type": "stream",
       "stream": "stdout",
       "text": [
        " generated in 10.7127170563 seconds.\n",
        "Grouped into 127 patches in 0.00320792198181 seconds.\n",
        "Merge loop finished in"
       ]
      },
      {
       "output_type": "stream",
       "stream": "stdout",
       "text": [
        " 3.35915493965 seconds.\n",
        "Before VI: 0.490719699543\n",
        "Smallest VI: 0.43893168849\n",
        "Sureness threshold: 0.950102388859\n",
        "VI @ t 0.43893168849\n",
        "488"
       ]
      },
      {
       "output_type": "stream",
       "stream": "stdout",
       "text": [
        " generated in 10.2809929848 seconds.\n",
        "Grouped into 122 patches in 0.0032651424408 seconds.\n",
        "Merge loop finished in"
       ]
      },
      {
       "output_type": "stream",
       "stream": "stdout",
       "text": [
        " 4.52048707008 seconds.\n",
        "Before VI: 0.462002769239\n",
        "Smallest VI: 0.397891921228\n",
        "Sureness threshold: 0.978158354759\n",
        "VI @ t 0.422740644129\n",
        "480"
       ]
      },
      {
       "output_type": "stream",
       "stream": "stdout",
       "text": [
        " generated in 10.0363140106 seconds.\n",
        "Grouped into 118 patches in 0.00312399864197 seconds.\n",
        "Merge loop finished in"
       ]
      },
      {
       "output_type": "stream",
       "stream": "stdout",
       "text": [
        " 1.94817304611 seconds.\n",
        "Before VI: 0.585184084074\n",
        "Smallest VI: 0.550876519547\n",
        "Sureness threshold: 0.983813762665\n",
        "VI @ t 0.556758333705\n",
        "460"
       ]
      },
      {
       "output_type": "stream",
       "stream": "stdout",
       "text": [
        " generated in 9.59486579895 seconds.\n",
        "Grouped into 113 patches in 0.00317788124084 seconds.\n",
        "Merge loop finished in"
       ]
      },
      {
       "output_type": "stream",
       "stream": "stdout",
       "text": [
        " 4.03040194511 seconds.\n",
        "Before VI: 0.634014826312\n",
        "Smallest VI: 0.616011139394\n",
        "Sureness threshold: 0.98035210371\n",
        "VI @ t 0.676621983211\n",
        "488"
       ]
      },
      {
       "output_type": "stream",
       "stream": "stdout",
       "text": [
        " generated in 10.2900919914 seconds.\n",
        "Grouped into 120 patches in 0.00308609008789 seconds.\n",
        "Merge loop finished in"
       ]
      },
      {
       "output_type": "stream",
       "stream": "stdout",
       "text": [
        " 3.54678702354 seconds.\n",
        "Before VI: 0.65525434104\n",
        "Smallest VI: 0.621031501733\n",
        "Sureness threshold: 0.965229392052\n",
        "VI @ t 0.649995663936\n",
        "540"
       ]
      },
      {
       "output_type": "stream",
       "stream": "stdout",
       "text": [
        " generated in 11.487005949 seconds.\n",
        "Grouped into 135 patches in 0.00350713729858 seconds.\n",
        "Merge loop finished in"
       ]
      },
      {
       "output_type": "stream",
       "stream": "stdout",
       "text": [
        " 3.38394403458 seconds.\n",
        "Before VI: 0.596835205477\n",
        "Smallest VI: 0.568322122869\n",
        "Sureness threshold: 0.97333240509\n",
        "VI @ t 0.622413219944\n",
        "155.521562099\n"
       ]
      }
     ],
     "prompt_number": 344
    },
    {
     "cell_type": "code",
     "collapsed": false,
     "input": [
      "slice_vi_s_auto"
     ],
     "language": "python",
     "metadata": {},
     "outputs": [
      {
       "metadata": {},
       "output_type": "pyout",
       "prompt_number": 342,
       "text": [
        "[0.4184509333743103,\n",
        " 0.3921248742351109,\n",
        " 0.42475798575369517,\n",
        " 0.42160911804209533,\n",
        " 0.42020309533028843,\n",
        " 0.4227406441289636,\n",
        " 0.5567583337051563,\n",
        " 0.6766219832111187,\n",
        " 0.6145879465212047,\n",
        " 0.6214100098652011]"
       ]
      }
     ],
     "prompt_number": 342
    },
    {
     "cell_type": "code",
     "collapsed": false,
     "input": [],
     "language": "python",
     "metadata": {},
     "outputs": []
    },
    {
     "cell_type": "code",
     "collapsed": false,
     "input": [],
     "language": "python",
     "metadata": {},
     "outputs": []
    },
    {
     "cell_type": "code",
     "collapsed": false,
     "input": [
      "#\n",
      "# GREEDY\n",
      "#\n",
      "#\n",
      "\n",
      "\n",
      "t0 = time.time()\n",
      "fixed_volume2 = np.array(input_rhoana)\n",
      "\n",
      "top_bins = [0,0,0,0,0]\n",
      "top_bins_counter = [0,0,0,0,0]\n",
      "\n",
      "\n",
      "for i in range(0,10):\n",
      "    print 'working on slice', i\n",
      "    \n",
      "    DOJO_SLICE = i\n",
      "\n",
      "    pred_best_per_slice = []\n",
      "    results_best_per_slice = []\n",
      "    \n",
      "    hist = Util.get_histogram(input_rhoana[DOJO_SLICE].astype(np.uint64))\n",
      "    labels = range(len(hist))\n",
      "    # np.random.shuffle(labels)\n",
      "    THRESHOLD = .5\n",
      "\n",
      "    slice_vi_diffs = []\n",
      "    split_errors = {}\n",
      "\n",
      "    fixed_slice = np.array(input_rhoana[DOJO_SLICE], dtype=np.uint64)\n",
      "\n",
      "    for l in labels:\n",
      "\n",
      "        if l == 0 or hist[l]<3000:\n",
      "#             print l, hist[l]\n",
      "            continue\n",
      "\n",
      "#         print l\n",
      "\n",
      "        before_merge_error = np.zeros(input_rhoana[DOJO_SLICE].shape)\n",
      "        before_merge_error[fixed_slice == l] = 1\n",
      "    #     Util.view_labels(input_rhoana[0], l)\n",
      "    #     before_merge_error = mh.croptobbox(before_merge_error)\n",
      "\n",
      "\n",
      "        borders, best_border_image, result, result_no_border, results_no_border, predictions = Fixer.fix_single_merge(networks[7],\n",
      "                                                                                                                      input_image[DOJO_SLICE],\n",
      "                                                                                                                      input_prob[DOJO_SLICE],\n",
      "                                                                                                                      before_merge_error, N=30, \n",
      "                                                                                                                      erode=True, \n",
      "                                                                                                                      invert=True,\n",
      "                                                                                                                      dilate=True,\n",
      "                                                                                                                      border_seeds=True,\n",
      "                                                                                                                      oversampling=False)\n",
      "\n",
      "\n",
      "\n",
      "        if len(predictions) > 0:\n",
      "#             vi_before_merge = Util.vi(fixed_slice.astype(np.int64), input_gold[DOJO_SLICE].astype(np.int64))\n",
      "            #\n",
      "            # TAKE ONLY THE FIRST BEST RESULT\n",
      "            sorted_pred = sorted(zip(results_no_border, predictions), key=lambda x: x[1])\n",
      "            \n",
      "            if sorted_pred[0][1] > THRESHOLD:\n",
      "                continue\n",
      "                \n",
      "            print 'correcting ', l, 'w/', sorted_pred[0][1]\n",
      "                \n",
      "            \n",
      "            slice_copy = np.array(fixed_slice, dtype=np.int64)\n",
      "\n",
      "            current_result = sorted_pred[0][0]\n",
      "\n",
      "            current_result[current_result != 0] += fixed_slice.max()\n",
      "\n",
      "            slice_copy += current_result.astype(np.int64)            \n",
      "            \n",
      "            sizes = mh.labeled.labeled_size(slice_copy)\n",
      "            too_small = np.where(sizes < 200)\n",
      "            labeled_small = mh.labeled.remove_regions(slice_copy, too_small)\n",
      "            labeled_small_zeros = Util.threshold(labeled_small, 0)\n",
      "            labeled_small = Util.fill(labeled_small, labeled_small_zeros.astype(np.bool))\n",
      "            slice_copy = Util.frame_image(labeled_small).astype(np.uint64)          \n",
      "\n",
      "#             vi_after_merge = Util.vi(slice_copy.astype(np.int64), input_rhoana[DOJO_SLICE].astype(np.int64))\n",
      "            \n",
      "#             for i in range(5):\n",
      "#                 vi_diff = vi_before_merge - vi_after_merge\n",
      "#                 print vi_diff\n",
      "#                 if vi_diff > 0:\n",
      "#                     top_bins[pred] += vi_diff\n",
      "#                     for j in range(pred,5):\n",
      "#                         top_bins[j] += vi_diff\n",
      "#                         top_bins_counter[j] += 1     \n",
      "            \n",
      "            fixed_slice = slice_copy\n",
      "            \n",
      "# #             print l, predictions\n",
      "#             lowest_prediction_index = predictions.index(min(predictions))\n",
      "#             lowest_prediction = predictions[lowest_prediction_index]\n",
      "\n",
      "#             if lowest_prediction < THRESHOLD:\n",
      "\n",
      "#                 print 'Found merge error', lowest_prediction, l\n",
      "\n",
      "#                 result[result != 0] += fixed_slice.max()\n",
      "\n",
      "#                 fixed_slice += result.astype(np.uint64)\n",
      "\n",
      "#     #             split_errors[str(l)] = result\n",
      "\n",
      "    \n",
      "    fixed_volume2[i] = fixed_slice\n",
      "\n",
      "\n",
      "# for i in range(5):\n",
      "    \n",
      "#     top_bins[i] /= top_bins_counter[i]\n",
      "    \n",
      "print 'merge error correction done after',time.time()-t0, 'seconds'\n",
      "\n",
      "\n"
     ],
     "language": "python",
     "metadata": {},
     "outputs": [
      {
       "output_type": "stream",
       "stream": "stdout",
       "text": [
        "working on slice 0\n",
        "correcting "
       ]
      },
      {
       "output_type": "stream",
       "stream": "stdout",
       "text": [
        " 40 w/ 0.385964632034\n",
        "working on slice"
       ]
      },
      {
       "output_type": "stream",
       "stream": "stdout",
       "text": [
        " 1\n",
        "correcting "
       ]
      },
      {
       "output_type": "stream",
       "stream": "stdout",
       "text": [
        " 32 w/ 0.488413929939\n",
        "working on slice"
       ]
      },
      {
       "output_type": "stream",
       "stream": "stdout",
       "text": [
        " 2\n",
        "working on slice"
       ]
      },
      {
       "output_type": "stream",
       "stream": "stdout",
       "text": [
        " 3\n",
        "working on slice"
       ]
      },
      {
       "output_type": "stream",
       "stream": "stdout",
       "text": [
        " 4\n",
        "correcting "
       ]
      },
      {
       "output_type": "stream",
       "stream": "stdout",
       "text": [
        " 31 w/ 0.289200842381\n",
        "working on slice"
       ]
      },
      {
       "output_type": "stream",
       "stream": "stdout",
       "text": [
        " 5\n",
        "working on slice"
       ]
      },
      {
       "output_type": "stream",
       "stream": "stdout",
       "text": [
        " 6\n",
        "working on slice"
       ]
      },
      {
       "output_type": "stream",
       "stream": "stdout",
       "text": [
        " 7\n",
        "working on slice"
       ]
      },
      {
       "output_type": "stream",
       "stream": "stdout",
       "text": [
        " 8\n",
        "correcting "
       ]
      },
      {
       "output_type": "stream",
       "stream": "stdout",
       "text": [
        " 58 w/ 0.381048887968\n",
        "correcting "
       ]
      },
      {
       "output_type": "stream",
       "stream": "stdout",
       "text": [
        " 71 w/ 0.215496644378\n",
        "working on slice"
       ]
      },
      {
       "output_type": "stream",
       "stream": "stdout",
       "text": [
        " 9\n",
        "correcting "
       ]
      },
      {
       "output_type": "stream",
       "stream": "stdout",
       "text": [
        " 77 w/ 0.0309201385826\n",
        "merge error correction done after 912.851178169 seconds\n"
       ]
      }
     ],
     "prompt_number": 322
    },
    {
     "cell_type": "code",
     "collapsed": false,
     "input": [
      "user_slice_vis"
     ],
     "language": "python",
     "metadata": {},
     "outputs": [
      {
       "metadata": {},
       "output_type": "pyout",
       "prompt_number": 323,
       "text": [
        "[[0.5446643065403123,\n",
        "  0.5202083942196767,\n",
        "  0.4487308416799145,\n",
        "  0.5256271499720278,\n",
        "  0.6017310095955679,\n",
        "  0.5635849827171002,\n",
        "  0.48208509251280507,\n",
        "  0.49196247461004017,\n",
        "  0.5482387161546605,\n",
        "  0.5964249941272648],\n",
        " [0.49000138123615766,\n",
        "  0.4042343782110773,\n",
        "  0.5004854457403498,\n",
        "  0.4266450421850685,\n",
        "  0.5568891385529584,\n",
        "  0.5148034680512126,\n",
        "  0.6462890723019648,\n",
        "  0.6613813533553348,\n",
        "  0.6671288321276032,\n",
        "  0.6538467069160925],\n",
        " [0.4998991662113408,\n",
        "  0.442935961872414,\n",
        "  0.4259722670367694,\n",
        "  0.46123023510716,\n",
        "  0.5022720899614148,\n",
        "  0.4712287225498315,\n",
        "  0.5580440641754336,\n",
        "  0.5692840892112363,\n",
        "  0.6690348890513427,\n",
        "  0.6785597959903917],\n",
        " [0.39836869720195267,\n",
        "  0.3709202507302969,\n",
        "  0.40338011648347916,\n",
        "  0.427082479108539,\n",
        "  0.5017147063663963,\n",
        "  0.48204760368070065,\n",
        "  0.5898171380080761,\n",
        "  0.6002397803838102,\n",
        "  0.6237553737595674,\n",
        "  0.6145256350294899],\n",
        " [0.6515874676516002,\n",
        "  0.6444184225192346,\n",
        "  0.6523659531181139,\n",
        "  0.661813262141079,\n",
        "  0.7314962749548775,\n",
        "  0.700769449332916,\n",
        "  0.6690356979510002,\n",
        "  0.6455652061409003,\n",
        "  0.66570611396474,\n",
        "  0.6483860669512778],\n",
        " [0.4150845128978018,\n",
        "  0.3775967852518676,\n",
        "  0.380569792194998,\n",
        "  0.39857330224844123,\n",
        "  0.43962791701006765,\n",
        "  0.4202168799509849,\n",
        "  0.5430940692909614,\n",
        "  0.5725074443556553,\n",
        "  0.6080727035937468,\n",
        "  0.6244463533831377],\n",
        " [0.4629834618808628,\n",
        "  0.49713371263439754,\n",
        "  0.5950840175617138,\n",
        "  0.6202520625874408,\n",
        "  0.6968653940645373,\n",
        "  0.6418814899971297,\n",
        "  0.6608597009871646,\n",
        "  0.6274152988586579,\n",
        "  0.6902378382293257,\n",
        "  0.6554936572316663],\n",
        " [0.376404316570806,\n",
        "  0.3516472472473051,\n",
        "  0.4079547444039404,\n",
        "  0.45303068544352687,\n",
        "  0.4894595570074438,\n",
        "  0.47837141980718023,\n",
        "  0.469179784610529,\n",
        "  0.4852945056599962,\n",
        "  0.49897197205284005,\n",
        "  0.46311169681172704],\n",
        " [0.4638077404396146,\n",
        "  0.40108851115299515,\n",
        "  0.40018172100147353,\n",
        "  0.40753953719669855,\n",
        "  0.47430148554665585,\n",
        "  0.46062902589316135,\n",
        "  0.5677362697520394,\n",
        "  0.5735440515683301,\n",
        "  0.5762577358334093,\n",
        "  0.5254852773620522],\n",
        " [0.42905974297362626,\n",
        "  0.4019601823423553,\n",
        "  0.4303777037356271,\n",
        "  0.408534230150118,\n",
        "  0.489177280077179,\n",
        "  0.4759967107330656,\n",
        "  0.4282568838002696,\n",
        "  0.44277029375919863,\n",
        "  0.4904768894198428,\n",
        "  0.5263572886406847]]"
       ]
      }
     ],
     "prompt_number": 323
    },
    {
     "cell_type": "code",
     "collapsed": false,
     "input": [
      "slice_vi_user_avg=[0]*10\n",
      "for u in user_slice_vis:\n",
      "\n",
      "\n",
      "    for s in range(0,10):\n",
      "\n",
      "        slice_vi_user_avg[s] += u[s]\n",
      "        \n",
      "for s in range(0,10):\n",
      "    slice_vi_user_avg[s] /= 10"
     ],
     "language": "python",
     "metadata": {},
     "outputs": [],
     "prompt_number": 337
    },
    {
     "cell_type": "code",
     "collapsed": false,
     "input": [
      "user_slice_vis[7]"
     ],
     "language": "python",
     "metadata": {},
     "outputs": [
      {
       "metadata": {},
       "output_type": "pyout",
       "prompt_number": 325,
       "text": [
        "[0.376404316570806,\n",
        " 0.3516472472473051,\n",
        " 0.4079547444039404,\n",
        " 0.45303068544352687,\n",
        " 0.4894595570074438,\n",
        " 0.47837141980718023,\n",
        " 0.469179784610529,\n",
        " 0.4852945056599962,\n",
        " 0.49897197205284005,\n",
        " 0.46311169681172704]"
       ]
      }
     ],
     "prompt_number": 325
    },
    {
     "cell_type": "code",
     "collapsed": false,
     "input": [
      "slice_vi_user_avg"
     ],
     "language": "python",
     "metadata": {},
     "outputs": [
      {
       "metadata": {},
       "output_type": "pyout",
       "prompt_number": 338,
       "text": [
        "[0.4731860793604075,\n",
        " 0.44121438461816204,\n",
        " 0.46451026029563797,\n",
        " 0.47903279861401,\n",
        " 0.5483534853137099,\n",
        " 0.5209529752713282,\n",
        " 0.5614397773390244,\n",
        " 0.5669964497903159,\n",
        " 0.6037881064187078,\n",
        " 0.5986637472443784]"
       ]
      }
     ],
     "prompt_number": 338
    },
    {
     "cell_type": "code",
     "collapsed": false,
     "input": [],
     "language": "python",
     "metadata": {},
     "outputs": []
    }
   ],
   "metadata": {}
  }
 ]
}