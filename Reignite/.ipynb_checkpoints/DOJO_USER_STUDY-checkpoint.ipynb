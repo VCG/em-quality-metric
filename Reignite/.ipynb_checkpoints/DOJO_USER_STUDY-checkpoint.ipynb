{
 "metadata": {
  "name": "",
  "signature": "sha256:6259642041f9714f8c5e6c3038a841f172b178a158f0c746f541b5ff19c52b5b"
 },
 "nbformat": 3,
 "nbformat_minor": 0,
 "worksheets": [
  {
   "cells": [
    {
     "cell_type": "code",
     "collapsed": false,
     "input": [
      "%load_ext autoreload\n",
      "%autoreload 2\n",
      "\n",
      "from cnn import CNN\n",
      "from dyn_cnn import DynCNN\n",
      "from util import Util\n",
      "from patch import Patch\n",
      "from fixer import Fixer\n",
      "from uglify import Uglify\n",
      "\n",
      "import os\n",
      "import mahotas as mh\n",
      "import numpy as np\n",
      "\n",
      "from matplotlib.pyplot import imshow\n",
      "import matplotlib.pyplot as plt\n",
      "%matplotlib inline"
     ],
     "language": "python",
     "metadata": {},
     "outputs": [
      {
       "output_type": "stream",
       "stream": "stdout",
       "text": [
        "The autoreload extension is already loaded. To reload it, use:\n",
        "  %reload_ext autoreload\n"
       ]
      }
     ],
     "prompt_number": 96
    },
    {
     "cell_type": "code",
     "collapsed": false,
     "input": [
      "#\n",
      "# viren's approach with our LARGER border_overlap\n",
      "#   image prob merged_array dyn_obj dyn_bnd border_overlap\n",
      "networks = []\n",
      "networks.append(CNN('viren_7', 'patches_7th', ['image', 'prob', 'merged_array']))\n",
      "networks.append(CNN('mine_7', 'patches_7th', ['image', 'prob', 'binary', 'border_overlap']))\n",
      "networks.append(CNN('mine_large_7', 'patches_7th', ['image', 'prob', 'binary', 'larger_border_overlap']))\n",
      "networks.append(CNN('mine_merged_7', 'patches_7th', ['image', 'prob', 'merged_array', 'border_overlap']))\n",
      "networks.append(CNN('mine_merged_large_7', 'patches_7th', ['image', 'prob', 'merged_array', 'larger_border_overlap']))\n",
      "networks.append(DynCNN('dyn_viren_7', 'patches_7th', ['image', 'prob', 'merged_array']))\n",
      "networks.append(DynCNN('dyn_mine_7', 'patches_7th', ['image', 'prob', 'binary', 'border_overlap']))\n",
      "networks.append(DynCNN('dyn_mine_large_7', 'patches_7th', ['image', 'prob', 'binary', 'larger_border_overlap']))\n",
      "networks.append(DynCNN('dyn_mine_merged_7', 'patches_7th', ['image', 'prob', 'merged_array', 'border_overlap']))\n",
      "networks.append(DynCNN('dyn_mine_merged_large_7', 'patches_7th', ['image', 'prob', 'merged_array', 'larger_border_overlap']))\n"
     ],
     "language": "python",
     "metadata": {},
     "outputs": [
      {
       "output_type": "stream",
       "stream": "stdout",
       "text": [
        "Loading ['/Volumes/DATA1/split_cnn/patches_7th/viren_7/configuration.txt']\n",
        "Loading /Volumes/DATA1/split_cnn/patches_7th/viren_7/network_190.p\n",
        "Loading"
       ]
      },
      {
       "output_type": "stream",
       "stream": "stdout",
       "text": [
        " ['/Volumes/DATA1/split_cnn/patches_7th/mine_7/configuration.txt']\n",
        "Loading /Volumes/DATA1/split_cnn/patches_7th/mine_7/network_140.p\n",
        "Loading"
       ]
      },
      {
       "output_type": "stream",
       "stream": "stdout",
       "text": [
        " ['/Volumes/DATA1/split_cnn/patches_7th/mine_large_7/configuration.txt']\n",
        "Loading /Volumes/DATA1/split_cnn/patches_7th/mine_large_7/network_150.p\n",
        "Loading"
       ]
      },
      {
       "output_type": "stream",
       "stream": "stdout",
       "text": [
        " ['/Volumes/DATA1/split_cnn/patches_7th/mine_merged_7/configuration.txt']\n",
        "Loading /Volumes/DATA1/split_cnn/patches_7th/mine_merged_7/network_140.p\n",
        "Loading"
       ]
      },
      {
       "output_type": "stream",
       "stream": "stdout",
       "text": [
        " ['/Volumes/DATA1/split_cnn/patches_7th/mine_merged_large_7/configuration.txt']\n",
        "Loading /Volumes/DATA1/split_cnn/patches_7th/mine_merged_large_7/network_140.p\n",
        "Loading"
       ]
      },
      {
       "output_type": "stream",
       "stream": "stdout",
       "text": [
        " ['/Volumes/DATA1/split_cnn/patches_7th/dyn_viren_7/configuration.txt']\n",
        "Loading /Volumes/DATA1/split_cnn/patches_7th/dyn_viren_7/network_190.p\n",
        "Loading"
       ]
      },
      {
       "output_type": "stream",
       "stream": "stdout",
       "text": [
        " ['/Volumes/DATA1/split_cnn/patches_7th/dyn_mine_7/configuration.txt']\n",
        "Loading /Volumes/DATA1/split_cnn/patches_7th/dyn_mine_7/network_140.p\n",
        "Loading"
       ]
      },
      {
       "output_type": "stream",
       "stream": "stdout",
       "text": [
        " ['/Volumes/DATA1/split_cnn/patches_7th/dyn_mine_large_7/configuration.txt']\n",
        "Loading /Volumes/DATA1/split_cnn/patches_7th/dyn_mine_large_7/network_140.p\n",
        "Loading"
       ]
      },
      {
       "output_type": "stream",
       "stream": "stdout",
       "text": [
        " ['/Volumes/DATA1/split_cnn/patches_7th/dyn_mine_merged_7/configuration.txt']\n",
        "Loading /Volumes/DATA1/split_cnn/patches_7th/dyn_mine_merged_7/network_140.p\n",
        "Loading"
       ]
      },
      {
       "output_type": "stream",
       "stream": "stdout",
       "text": [
        " ['/Volumes/DATA1/split_cnn/patches_7th/dyn_mine_merged_large_7/configuration.txt']\n",
        "Loading /Volumes/DATA1/split_cnn/patches_7th/dyn_mine_merged_large_7/network_140.p\n"
       ]
      }
     ],
     "prompt_number": 2
    },
    {
     "cell_type": "code",
     "collapsed": false,
     "input": [
      "input_image, input_prob, input_gold, input_rhoana, dojo_bbox = Util.read_dojo_data() "
     ],
     "language": "python",
     "metadata": {},
     "outputs": [],
     "prompt_number": 27
    },
    {
     "cell_type": "code",
     "collapsed": false,
     "input": [
      "DOJO_USER_DATA_FOLDER = '/Users/d/Dropbox/DOJOSTUDY/'\n",
      "DOJO_USERS_IDS = [11,13,18,37,40,43,5,50,53,62]\n",
      "DOJO_USERS = []\n",
      "for d in DOJO_USERS_IDS:\n",
      "    DOJO_USERS.append('S'+str(d)+'tif')\n",
      "    \n",
      "def read_user(user, slice):\n",
      "    img = mh.imread(DOJO_USER_DATA_FOLDER+user+os.sep+'z='+str(slice).zfill(8)+'.tif')\n",
      "    img = Util.crop_by_bbox(img, dojo_bbox)\n",
      "    return Util.frame_image(img)\n",
      "\n",
      "def dojo_user_vi(user, slice, gt):\n",
      "    img = read_user(user, slice)\n",
      "    return Util.vi(img, gt)\n",
      "\n",
      "def fix_dojo_slice(cnn, slice, input_image, input_prob, input_rhoana, input_gold):\n",
      "    DOJO_SLICE=slice\n",
      "    vi_s, merge_pairs, surenesses = Fixer.splits(cnn, \n",
      "                                                 input_image[DOJO_SLICE], \n",
      "                                                 input_prob[DOJO_SLICE], \n",
      "                                                 input_rhoana[DOJO_SLICE], \n",
      "                                                 input_gold[DOJO_SLICE],\n",
      "                                                 oversampling=False)\n",
      "    \n",
      "    best_index = vi_s.index(np.min(vi_s))\n",
      "    best_vi = vi_s[best_index]\n",
      "    best_sureness = surenesses[best_index]\n",
      "    \n",
      "    return best_vi\n",
      "\n",
      "def fix_dojo_slice_user_simulated(cnn, slice, input_image, input_prob, input_rhoana, input_gold, error_rate=0):\n",
      "    DOJO_SLICE=slice\n",
      "    vi_s, merge_pairs, surenesses, good_fixes, bad_fixes = Fixer.splits_user_simulated(cnn, \n",
      "                                                 input_image[DOJO_SLICE], \n",
      "                                                 input_prob[DOJO_SLICE], \n",
      "                                                 input_rhoana[DOJO_SLICE], \n",
      "                                                 input_gold[DOJO_SLICE],\n",
      "                                                 error_rate=error_rate,\n",
      "                                                 oversampling=False)\n",
      "    \n",
      "    best_index = vi_s.index(np.min(vi_s))\n",
      "    best_vi = vi_s[best_index]\n",
      "    best_sureness = surenesses[best_index]\n",
      "    \n",
      "    return best_vi, good_fixes, bad_fixes, merge_pairs, vi_s\n",
      "\n",
      "def threed_vi(gt, seg):\n",
      "    total_vi = 0\n",
      "    slice_vi = []    \n",
      "    for i in range(10):\n",
      "        current_vi = Util.vi(gt[i].astype(np.int64), seg[i].astype(np.int64))\n",
      "        total_vi += current_vi\n",
      "        slice_vi.append(current_vi)\n",
      "    total_vi /= 10\n",
      "    return total_vi, slice_vi\n",
      "\n",
      "def user_threed_vi(gt, user):\n",
      "    total_vi = 0\n",
      "    slice_vi = []\n",
      "    for i in range(10):\n",
      "        current_vi = dojo_user_vi(user, i, gt[i])\n",
      "        total_vi += current_vi\n",
      "        slice_vi.append(current_vi)\n",
      "    total_vi /= 10\n",
      "    return total_vi, slice_vi\n",
      "    \n",
      "def cnn_threed_vi(cnn, input_image, input_prob, input_rhoana, input_gold):\n",
      "    total_vi = 0\n",
      "    slice_vi = []\n",
      "    for i in range(10):\n",
      "        current_vi = fix_dojo_slice(cnn, i, input_image, input_prob, input_rhoana, input_gold)\n",
      "        total_vi += current_vi\n",
      "        slice_vi.append(current_vi)\n",
      "    total_vi /= 10\n",
      "    return total_vi, slice_vi\n",
      "        "
     ],
     "language": "python",
     "metadata": {},
     "outputs": [],
     "prompt_number": 119
    },
    {
     "cell_type": "code",
     "collapsed": false,
     "input": [
      "threed_vi(input_gold, input_rhoana)"
     ],
     "language": "python",
     "metadata": {},
     "outputs": [
      {
       "metadata": {},
       "output_type": "pyout",
       "prompt_number": 59,
       "text": [
        "0.5933600951369349"
       ]
      }
     ],
     "prompt_number": 59
    },
    {
     "cell_type": "code",
     "collapsed": false,
     "input": [
      "s = read_user(DOJO_USERS[0], 0)"
     ],
     "language": "python",
     "metadata": {},
     "outputs": [],
     "prompt_number": 31
    },
    {
     "cell_type": "code",
     "collapsed": false,
     "input": [
      "dojo_user_vi(DOJO_USERS[0], 0, input_gold[0])"
     ],
     "language": "python",
     "metadata": {},
     "outputs": [
      {
       "metadata": {},
       "output_type": "pyout",
       "prompt_number": 47,
       "text": [
        "0.5952203126251234"
       ]
      }
     ],
     "prompt_number": 47
    },
    {
     "cell_type": "code",
     "collapsed": false,
     "input": [
      "user_threed_vi(input_gold, DOJO_USERS[0])"
     ],
     "language": "python",
     "metadata": {},
     "outputs": [
      {
       "metadata": {},
       "output_type": "pyout",
       "prompt_number": 66,
       "text": [
        "0.6123763116215853"
       ]
      }
     ],
     "prompt_number": 66
    },
    {
     "cell_type": "code",
     "collapsed": false,
     "input": [
      "cnn_vi_s = []\n",
      "cnn_slice_vi_s = []\n",
      "for n in networks:\n",
      "    cnn_vi, slice_vis = cnn_threed_vi(n, input_image, input_prob, input_rhoana, input_gold)\n",
      "    cnn_vi_s.append(cnn_vi)\n",
      "    cnn_slice_vi_s.append(slice_vis)"
     ],
     "language": "python",
     "metadata": {},
     "outputs": [
      {
       "output_type": "stream",
       "stream": "stdout",
       "text": [
        "464 generated in 10.1677742004 seconds.\n",
        "Grouped into 116 patches in 0.00291991233826 seconds.\n",
        "Merge loop finished in"
       ]
      },
      {
       "output_type": "stream",
       "stream": "stdout",
       "text": [
        " 20.9932849407 seconds.\n",
        "Before VI: 0.507538577929\n",
        "Smallest VI: 0.478351038899\n",
        "Sureness threshold: 0.988396584988\n",
        "448"
       ]
      },
      {
       "output_type": "stream",
       "stream": "stdout",
       "text": [
        " generated in 9.53196406364 seconds.\n",
        "Grouped into 112 patches in 0.00299096107483 seconds.\n",
        "Merge loop finished in"
       ]
      },
      {
       "output_type": "stream",
       "stream": "stdout",
       "text": [
        " 21.453592062 seconds.\n",
        "Before VI: 0.490232307552\n",
        "Smallest VI: 0.471245249465\n",
        "Sureness threshold: 0.971666872501\n",
        "456"
       ]
      },
      {
       "output_type": "stream",
       "stream": "stdout",
       "text": [
        " generated in 9.84784698486 seconds.\n",
        "Grouped into 113 patches in 0.00295114517212 seconds.\n",
        "Merge loop finished in"
       ]
      },
      {
       "output_type": "stream",
       "stream": "stdout",
       "text": [
        " 21.4250860214 seconds.\n",
        "Before VI: 0.497827841698\n",
        "Smallest VI: 0.456720733832\n",
        "Sureness threshold: 0.966541290283\n",
        "484"
       ]
      },
      {
       "output_type": "stream",
       "stream": "stdout",
       "text": [
        " generated in 10.2017660141 seconds.\n",
        "Grouped into 121 patches in 0.0036768913269 seconds.\n",
        "Merge loop finished in"
       ]
      },
      {
       "output_type": "stream",
       "stream": "stdout",
       "text": [
        " 24.7451519966 seconds.\n",
        "Before VI: 0.475793790256\n",
        "Smallest VI: 0.466486294491\n",
        "Sureness threshold: 0.987435936928\n",
        "508"
       ]
      },
      {
       "output_type": "stream",
       "stream": "stdout",
       "text": [
        " generated in 10.6068150997 seconds.\n",
        "Grouped into 127 patches in 0.00326895713806 seconds.\n",
        "Merge loop finished in"
       ]
      },
      {
       "output_type": "stream",
       "stream": "stdout",
       "text": [
        " 22.2964191437 seconds.\n",
        "Before VI: 0.539385975908\n",
        "Smallest VI: 0.480838131877\n",
        "Sureness threshold: 0.923251926899\n",
        "488"
       ]
      },
      {
       "output_type": "stream",
       "stream": "stdout",
       "text": [
        " generated in 10.031414032 seconds.\n",
        "Grouped into 122 patches in 0.00310921669006 seconds.\n",
        "Merge loop finished in"
       ]
      },
      {
       "output_type": "stream",
       "stream": "stdout",
       "text": [
        " 23.4304559231 seconds.\n",
        "Before VI: 0.504520787077\n",
        "Smallest VI: 0.486248710791\n",
        "Sureness threshold: 0.985986769199\n",
        "480"
       ]
      },
      {
       "output_type": "stream",
       "stream": "stdout",
       "text": [
        " generated in 9.90243601799 seconds.\n",
        "Grouped into 118 patches in 0.00304102897644 seconds.\n",
        "Merge loop finished in"
       ]
      },
      {
       "output_type": "stream",
       "stream": "stdout",
       "text": [
        " 19.5984148979 seconds.\n",
        "Before VI: 0.662753517153\n",
        "Smallest VI: 0.672980261046\n",
        "Sureness threshold: 0.986781358719\n",
        "460"
       ]
      },
      {
       "output_type": "stream",
       "stream": "stdout",
       "text": [
        " generated in 9.54383707047 seconds.\n",
        "Grouped into 113 patches in 0.00297713279724 seconds.\n",
        "Merge loop finished in"
       ]
      },
      {
       "output_type": "stream",
       "stream": "stdout",
       "text": [
        " 24.2723760605 seconds.\n",
        "Before VI: 0.865704145022\n",
        "Smallest VI: 0.850236334639\n",
        "Sureness threshold: 0.98960518837\n",
        "488"
       ]
      },
      {
       "output_type": "stream",
       "stream": "stdout",
       "text": [
        " generated in 10.234224081 seconds.\n",
        "Grouped into 120 patches in 0.00306415557861 seconds.\n",
        "Merge loop finished in"
       ]
      },
      {
       "output_type": "stream",
       "stream": "stdout",
       "text": [
        " 22.9401860237 seconds.\n",
        "Before VI: 0.676249707958\n",
        "Smallest VI: 0.673783963879\n",
        "Sureness threshold: 0.996882259846\n",
        "540"
       ]
      },
      {
       "output_type": "stream",
       "stream": "stdout",
       "text": [
        " generated in 11.3301799297 seconds.\n",
        "Grouped into 135 patches in 0.00341200828552 seconds.\n",
        "Merge loop finished in"
       ]
      },
      {
       "output_type": "stream",
       "stream": "stdout",
       "text": [
        " 27.4070811272 seconds.\n",
        "Before VI: 0.713594300816\n",
        "Smallest VI: 0.674325594319\n",
        "Sureness threshold: 0.978820919991\n",
        "464"
       ]
      },
      {
       "output_type": "stream",
       "stream": "stdout",
       "text": [
        " generated in 10.1348869801 seconds.\n",
        "Grouped into 116 patches in 0.00291609764099 seconds.\n",
        "Merge loop finished in"
       ]
      },
      {
       "output_type": "stream",
       "stream": "stdout",
       "text": [
        " 23.1463661194 seconds.\n",
        "Before VI: 0.507538577929\n",
        "Smallest VI: 0.478351038899\n",
        "Sureness threshold: 0.961569488049\n",
        "448"
       ]
      },
      {
       "output_type": "stream",
       "stream": "stdout",
       "text": [
        " generated in 9.54958510399 seconds.\n",
        "Grouped into 112 patches in 0.00284600257874 seconds.\n",
        "Merge loop finished in"
       ]
      },
      {
       "output_type": "stream",
       "stream": "stdout",
       "text": [
        " 21.5475690365 seconds.\n",
        "Before VI: 0.490232307552\n",
        "Smallest VI: 0.469721443725\n",
        "Sureness threshold: 0.839556992054\n",
        "456"
       ]
      },
      {
       "output_type": "stream",
       "stream": "stdout",
       "text": [
        " generated in 9.81598806381 seconds.\n",
        "Grouped into 113 patches in 0.00286412239075 seconds.\n",
        "Merge loop finished in"
       ]
      },
      {
       "output_type": "stream",
       "stream": "stdout",
       "text": [
        " 24.0695619583 seconds.\n",
        "Before VI: 0.497827841698\n",
        "Smallest VI: 0.482545209557\n",
        "Sureness threshold: 0.978772938251\n",
        "484"
       ]
      },
      {
       "output_type": "stream",
       "stream": "stdout",
       "text": [
        " generated in 10.2498259544 seconds.\n",
        "Grouped into 121 patches in 0.0031578540802 seconds.\n",
        "Merge loop finished in"
       ]
      },
      {
       "output_type": "stream",
       "stream": "stdout",
       "text": [
        " 32.6766450405 seconds.\n",
        "Before VI: 0.475793790256\n",
        "Smallest VI: 0.453799417121\n",
        "Sureness threshold: 0.935719966888\n",
        "508"
       ]
      },
      {
       "output_type": "stream",
       "stream": "stdout",
       "text": [
        " generated in 10.6789591312 seconds.\n",
        "Grouped into 127 patches in 0.00322294235229 seconds.\n",
        "Merge loop finished in"
       ]
      },
      {
       "output_type": "stream",
       "stream": "stdout",
       "text": [
        " 30.0032818317 seconds.\n",
        "Before VI: 0.539385975908\n",
        "Smallest VI: 0.480072247174\n",
        "Sureness threshold: 0.833626627922\n",
        "488"
       ]
      },
      {
       "output_type": "stream",
       "stream": "stdout",
       "text": [
        " generated in 10.1034069061 seconds.\n",
        "Grouped into 122 patches in 0.00322508811951 seconds.\n",
        "Merge loop finished in"
       ]
      },
      {
       "output_type": "stream",
       "stream": "stdout",
       "text": [
        " 25.6768169403 seconds.\n",
        "Before VI: 0.504520787077\n",
        "Smallest VI: 0.491091080188\n",
        "Sureness threshold: 0.985356986523\n",
        "480"
       ]
      },
      {
       "output_type": "stream",
       "stream": "stdout",
       "text": [
        " generated in 9.98152399063 seconds.\n",
        "Grouped into 118 patches in 0.00306105613708 seconds.\n",
        "Merge loop finished in"
       ]
      },
      {
       "output_type": "stream",
       "stream": "stdout",
       "text": [
        " 23.1636519432 seconds.\n",
        "Before VI: 0.662753517153\n",
        "Smallest VI: 0.656129768608\n",
        "Sureness threshold: 0.954845845699\n",
        "460"
       ]
      },
      {
       "output_type": "stream",
       "stream": "stdout",
       "text": [
        " generated in 9.56303906441 seconds.\n",
        "Grouped into 113 patches in 0.00293207168579 seconds.\n",
        "Merge loop finished in"
       ]
      },
      {
       "output_type": "stream",
       "stream": "stdout",
       "text": [
        " 24.2245960236 seconds.\n",
        "Before VI: 0.865704145022\n",
        "Smallest VI: 0.827455540631\n",
        "Sureness threshold: 0.96406596899\n",
        "488"
       ]
      },
      {
       "output_type": "stream",
       "stream": "stdout",
       "text": [
        " generated in 10.2205171585 seconds.\n",
        "Grouped into 120 patches in 0.00313901901245 seconds.\n",
        "Merge loop finished in"
       ]
      },
      {
       "output_type": "stream",
       "stream": "stdout",
       "text": [
        " 24.5284729004 seconds.\n",
        "Before VI: 0.676249707958\n",
        "Smallest VI: 0.626577935985\n",
        "Sureness threshold: 0.96275639534\n",
        "540"
       ]
      },
      {
       "output_type": "stream",
       "stream": "stdout",
       "text": [
        " generated in 11.4406750202 seconds.\n",
        "Grouped into 135 patches in 0.00346398353577 seconds.\n",
        "Merge loop finished in"
       ]
      },
      {
       "output_type": "stream",
       "stream": "stdout",
       "text": [
        " 30.8414530754 seconds.\n",
        "Before VI: 0.713594300816\n",
        "Smallest VI: 0.679625803125\n",
        "Sureness threshold: 0.978780031204\n",
        "464"
       ]
      },
      {
       "output_type": "stream",
       "stream": "stdout",
       "text": [
        " generated in 10.2260859013 seconds.\n",
        "Grouped into 116 patches in 0.00307393074036 seconds.\n",
        "Merge loop finished in"
       ]
      },
      {
       "output_type": "stream",
       "stream": "stdout",
       "text": [
        " 20.5727219582 seconds.\n",
        "Before VI: 0.507538577929\n",
        "Smallest VI: 0.470816990112\n",
        "Sureness threshold: 0.963160097599\n",
        "448"
       ]
      },
      {
       "output_type": "stream",
       "stream": "stdout",
       "text": [
        " generated in 9.50892615318 seconds.\n",
        "Grouped into 112 patches in 0.00279307365417 seconds.\n",
        "Merge loop finished in"
       ]
      },
      {
       "output_type": "stream",
       "stream": "stdout",
       "text": [
        " 22.3255629539 seconds.\n",
        "Before VI: 0.490232307552\n",
        "Smallest VI: 0.469508181877\n",
        "Sureness threshold: 0.831755280495\n",
        "456"
       ]
      },
      {
       "output_type": "stream",
       "stream": "stdout",
       "text": [
        " generated in 9.92917513847 seconds.\n",
        "Grouped into 113 patches in 0.00290203094482 seconds.\n",
        "Merge loop finished in"
       ]
      },
      {
       "output_type": "stream",
       "stream": "stdout",
       "text": [
        " 24.9057738781 seconds.\n",
        "Before VI: 0.497827841698\n",
        "Smallest VI: 0.462655266573\n",
        "Sureness threshold: 0.955844521523\n",
        "484"
       ]
      },
      {
       "output_type": "stream",
       "stream": "stdout",
       "text": [
        " generated in 10.2176730633 seconds.\n",
        "Grouped into 121 patches in 0.00321006774902 seconds.\n",
        "Merge loop finished in"
       ]
      },
      {
       "output_type": "stream",
       "stream": "stdout",
       "text": [
        " 31.0308279991 seconds.\n",
        "Before VI: 0.475793790256\n",
        "Smallest VI: 0.466486294491\n",
        "Sureness threshold: 0.987578809261\n",
        "508"
       ]
      },
      {
       "output_type": "stream",
       "stream": "stdout",
       "text": [
        " generated in 10.8943450451 seconds.\n",
        "Grouped into 127 patches in 0.00327610969543 seconds.\n",
        "Merge loop finished in"
       ]
      },
      {
       "output_type": "stream",
       "stream": "stdout",
       "text": [
        " 24.9305460453 seconds.\n",
        "Before VI: 0.539385975908\n",
        "Smallest VI: 0.468803892986\n",
        "Sureness threshold: 0.769690275192\n",
        "488"
       ]
      },
      {
       "output_type": "stream",
       "stream": "stdout",
       "text": [
        " generated in 10.4108080864 seconds.\n",
        "Grouped into 122 patches in 0.00310397148132 seconds.\n",
        "Merge loop finished in"
       ]
      },
      {
       "output_type": "stream",
       "stream": "stdout",
       "text": [
        " 27.6312658787 seconds.\n",
        "Before VI: 0.504520787077\n",
        "Smallest VI: 0.465778260103\n",
        "Sureness threshold: 0.951816618443\n",
        "480"
       ]
      },
      {
       "output_type": "stream",
       "stream": "stdout",
       "text": [
        " generated in 10.1388120651 seconds.\n",
        "Grouped into 118 patches in 0.00320291519165 seconds.\n",
        "Merge loop finished in"
       ]
      },
      {
       "output_type": "stream",
       "stream": "stdout",
       "text": [
        " 19.7601470947 seconds.\n",
        "Before VI: 0.662753517153\n",
        "Smallest VI: 0.661892562448\n",
        "Sureness threshold: 0.961217343807\n",
        "460"
       ]
      },
      {
       "output_type": "stream",
       "stream": "stdout",
       "text": [
        " generated in 9.69178295135 seconds.\n",
        "Grouped into 113 patches in 0.00309085845947 seconds.\n",
        "Merge loop finished in"
       ]
      },
      {
       "output_type": "stream",
       "stream": "stdout",
       "text": [
        " 27.660353899 seconds.\n",
        "Before VI: 0.865704145022\n",
        "Smallest VI: 0.850236334639\n",
        "Sureness threshold: 0.993434429169\n",
        "488"
       ]
      },
      {
       "output_type": "stream",
       "stream": "stdout",
       "text": [
        " generated in 10.4302639961 seconds.\n",
        "Grouped into 120 patches in 0.00339603424072 seconds.\n",
        "Merge loop finished in"
       ]
      },
      {
       "output_type": "stream",
       "stream": "stdout",
       "text": [
        " 26.2125349045 seconds.\n",
        "Before VI: 0.676249707958\n",
        "Smallest VI: 0.673783963879\n",
        "Sureness threshold: 0.969416022301\n",
        "540"
       ]
      },
      {
       "output_type": "stream",
       "stream": "stdout",
       "text": [
        " generated in 11.6087529659 seconds.\n",
        "Grouped into 135 patches in 0.00360608100891 seconds.\n",
        "Merge loop finished in"
       ]
      },
      {
       "output_type": "stream",
       "stream": "stdout",
       "text": [
        " 36.5172610283 seconds.\n",
        "Before VI: 0.713594300816\n",
        "Smallest VI: 0.689026739854\n",
        "Sureness threshold: 0.982105851173\n",
        "464"
       ]
      },
      {
       "output_type": "stream",
       "stream": "stdout",
       "text": [
        " generated in 10.3635277748 seconds.\n",
        "Grouped into 116 patches in 0.00303292274475 seconds.\n",
        "Merge loop finished in"
       ]
      },
      {
       "output_type": "stream",
       "stream": "stdout",
       "text": [
        " 21.8617830276 seconds.\n",
        "Before VI: 0.507538577929\n",
        "Smallest VI: 0.479304219496\n",
        "Sureness threshold: 0.974090695381\n",
        "448"
       ]
      },
      {
       "output_type": "stream",
       "stream": "stdout",
       "text": [
        " generated in 9.7495598793 seconds.\n",
        "Grouped into 112 patches in 0.00288510322571 seconds.\n",
        "Merge loop finished in"
       ]
      },
      {
       "output_type": "stream",
       "stream": "stdout",
       "text": [
        " 20.5287401676 seconds.\n",
        "Before VI: 0.490232307552\n",
        "Smallest VI: 0.459933840156\n",
        "Sureness threshold: 0.854562282562\n",
        "456"
       ]
      },
      {
       "output_type": "stream",
       "stream": "stdout",
       "text": [
        " generated in 10.0199429989 seconds.\n",
        "Grouped into 113 patches in 0.00298595428467 seconds.\n",
        "Merge loop finished in"
       ]
      },
      {
       "output_type": "stream",
       "stream": "stdout",
       "text": [
        " 20.0998361111 seconds.\n",
        "Before VI: 0.497827841698\n",
        "Smallest VI: 0.462655266573\n",
        "Sureness threshold: 0.985127151012\n",
        "484"
       ]
      },
      {
       "output_type": "stream",
       "stream": "stdout",
       "text": [
        " generated in 10.3509180546 seconds.\n",
        "Grouped into 121 patches in 0.00320100784302 seconds.\n",
        "Merge loop finished in"
       ]
      },
      {
       "output_type": "stream",
       "stream": "stdout",
       "text": [
        " 30.3218290806 seconds.\n",
        "Before VI: 0.475793790256\n",
        "Smallest VI: 0.466486294491\n",
        "Sureness threshold: 0.997506737709\n",
        "508"
       ]
      },
      {
       "output_type": "stream",
       "stream": "stdout",
       "text": [
        " generated in 10.799685955 seconds.\n",
        "Grouped into 127 patches in 0.00335788726807 seconds.\n",
        "Merge loop finished in"
       ]
      },
      {
       "output_type": "stream",
       "stream": "stdout",
       "text": [
        " 33.19064188 seconds.\n",
        "Before VI: 0.539385975908\n",
        "Smallest VI: 0.474163044632\n",
        "Sureness threshold: 0.753835141659\n",
        "488"
       ]
      },
      {
       "output_type": "stream",
       "stream": "stdout",
       "text": [
        " generated in 10.2233819962 seconds.\n",
        "Grouped into 122 patches in 0.00309705734253 seconds.\n",
        "Merge loop finished in"
       ]
      },
      {
       "output_type": "stream",
       "stream": "stdout",
       "text": [
        " 25.4333949089 seconds.\n",
        "Before VI: 0.504520787077\n",
        "Smallest VI: 0.490208910796\n",
        "Sureness threshold: 0.971896588802\n",
        "480"
       ]
      },
      {
       "output_type": "stream",
       "stream": "stdout",
       "text": [
        " generated in 9.99423313141 seconds.\n",
        "Grouped into 118 patches in 0.00320601463318 seconds.\n",
        "Merge loop finished in"
       ]
      },
      {
       "output_type": "stream",
       "stream": "stdout",
       "text": [
        " 22.1157062054 seconds.\n",
        "Before VI: 0.662753517153\n",
        "Smallest VI: 0.670517405708\n",
        "Sureness threshold: 0.972381711006\n",
        "460"
       ]
      },
      {
       "output_type": "stream",
       "stream": "stdout",
       "text": [
        " generated in 9.53247308731 seconds.\n",
        "Grouped into 113 patches in 0.00305819511414 seconds.\n",
        "Merge loop finished in"
       ]
      },
      {
       "output_type": "stream",
       "stream": "stdout",
       "text": [
        " 24.4359278679 seconds.\n",
        "Before VI: 0.865704145022\n",
        "Smallest VI: 0.850236334639\n",
        "Sureness threshold: 0.983392477036\n",
        "488"
       ]
      },
      {
       "output_type": "stream",
       "stream": "stdout",
       "text": [
        " generated in 10.2445859909 seconds.\n",
        "Grouped into 120 patches in 0.00315809249878 seconds.\n",
        "Merge loop finished in"
       ]
      },
      {
       "output_type": "stream",
       "stream": "stdout",
       "text": [
        " 25.7645998001 seconds.\n",
        "Before VI: 0.676249707958\n",
        "Smallest VI: 0.648871707314\n",
        "Sureness threshold: 0.975709080696\n",
        "540"
       ]
      },
      {
       "output_type": "stream",
       "stream": "stdout",
       "text": [
        " generated in 11.3925051689 seconds.\n",
        "Grouped into 135 patches in 0.00344109535217 seconds.\n",
        "Merge loop finished in"
       ]
      },
      {
       "output_type": "stream",
       "stream": "stdout",
       "text": [
        " 27.8809092045 seconds.\n",
        "Before VI: 0.713594300816\n",
        "Smallest VI: 0.680543924746\n",
        "Sureness threshold: 0.966283857822\n",
        "464"
       ]
      },
      {
       "output_type": "stream",
       "stream": "stdout",
       "text": [
        " generated in 10.1304450035 seconds.\n",
        "Grouped into 116 patches in 0.00293183326721 seconds.\n",
        "Merge loop finished in"
       ]
      },
      {
       "output_type": "stream",
       "stream": "stdout",
       "text": [
        " 20.7373859882 seconds.\n",
        "Before VI: 0.507538577929\n",
        "Smallest VI: 0.46509435737\n",
        "Sureness threshold: 0.964564919472\n",
        "448"
       ]
      },
      {
       "output_type": "stream",
       "stream": "stdout",
       "text": [
        " generated in 9.54746794701 seconds.\n",
        "Grouped into 112 patches in 0.00289011001587 seconds.\n",
        "Merge loop finished in"
       ]
      },
      {
       "output_type": "stream",
       "stream": "stdout",
       "text": [
        " 24.2616050243 seconds.\n",
        "Before VI: 0.490232307552\n",
        "Smallest VI: 0.454120406781\n",
        "Sureness threshold: 0.666051805019\n",
        "456"
       ]
      },
      {
       "output_type": "stream",
       "stream": "stdout",
       "text": [
        " generated in 9.8561000824 seconds.\n",
        "Grouped into 113 patches in 0.00289702415466 seconds.\n",
        "Merge loop finished in"
       ]
      },
      {
       "output_type": "stream",
       "stream": "stdout",
       "text": [
        " 23.0289130211 seconds.\n",
        "Before VI: 0.497827841698\n",
        "Smallest VI: 0.473372604328\n",
        "Sureness threshold: 0.974643588066\n",
        "484"
       ]
      },
      {
       "output_type": "stream",
       "stream": "stdout",
       "text": [
        " generated in 10.1766009331 seconds.\n",
        "Grouped into 121 patches in 0.00324988365173 seconds.\n",
        "Merge loop finished in"
       ]
      },
      {
       "output_type": "stream",
       "stream": "stdout",
       "text": [
        " 26.869107008 seconds.\n",
        "Before VI: 0.475793790256\n",
        "Smallest VI: 0.463618877244\n",
        "Sureness threshold: 0.975042462349\n",
        "508"
       ]
      },
      {
       "output_type": "stream",
       "stream": "stdout",
       "text": [
        " generated in 10.7367830276 seconds.\n",
        "Grouped into 127 patches in 0.00321102142334 seconds.\n",
        "Merge loop finished in"
       ]
      },
      {
       "output_type": "stream",
       "stream": "stdout",
       "text": [
        " 26.0886788368 seconds.\n",
        "Before VI: 0.539385975908\n",
        "Smallest VI: 0.470324667669\n",
        "Sureness threshold: 0.884791374207\n",
        "488"
       ]
      },
      {
       "output_type": "stream",
       "stream": "stdout",
       "text": [
        " generated in 10.1595630646 seconds.\n",
        "Grouped into 122 patches in 0.00314903259277 seconds.\n",
        "Merge loop finished in"
       ]
      },
      {
       "output_type": "stream",
       "stream": "stdout",
       "text": [
        " 24.4452869892 seconds.\n",
        "Before VI: 0.504520787077\n",
        "Smallest VI: 0.495500284162\n",
        "Sureness threshold: 0.966803967953\n",
        "480"
       ]
      },
      {
       "output_type": "stream",
       "stream": "stdout",
       "text": [
        " generated in 10.0019221306 seconds.\n",
        "Grouped into 118 patches in 0.00330185890198 seconds.\n",
        "Merge loop finished in"
       ]
      },
      {
       "output_type": "stream",
       "stream": "stdout",
       "text": [
        " 17.9676830769 seconds.\n",
        "Before VI: 0.662753517153\n",
        "Smallest VI: 0.658270919397\n",
        "Sureness threshold: 0.984785974026\n",
        "460"
       ]
      },
      {
       "output_type": "stream",
       "stream": "stdout",
       "text": [
        " generated in 9.53501987457 seconds.\n",
        "Grouped into 113 patches in 0.00302314758301 seconds.\n",
        "Merge loop finished in"
       ]
      },
      {
       "output_type": "stream",
       "stream": "stdout",
       "text": [
        " 20.7763080597 seconds.\n",
        "Before VI: 0.865704145022\n",
        "Smallest VI: 0.850236334639\n",
        "Sureness threshold: 0.985549271107\n",
        "488"
       ]
      },
      {
       "output_type": "stream",
       "stream": "stdout",
       "text": [
        " generated in 10.2846210003 seconds.\n",
        "Grouped into 120 patches in 0.00323009490967 seconds.\n",
        "Merge loop finished in"
       ]
      },
      {
       "output_type": "stream",
       "stream": "stdout",
       "text": [
        " 21.4565119743 seconds.\n",
        "Before VI: 0.676249707958\n",
        "Smallest VI: 0.680046967961\n",
        "Sureness threshold: 0.983747899532\n",
        "540"
       ]
      },
      {
       "output_type": "stream",
       "stream": "stdout",
       "text": [
        " generated in 11.4044578075 seconds.\n",
        "Grouped into 135 patches in 0.00351095199585 seconds.\n",
        "Merge loop finished in"
       ]
      },
      {
       "output_type": "stream",
       "stream": "stdout",
       "text": [
        " 31.9992721081 seconds.\n",
        "Before VI: 0.713594300816\n",
        "Smallest VI: 0.707375978148\n",
        "Sureness threshold: 0.972372353077\n",
        "464"
       ]
      },
      {
       "output_type": "stream",
       "stream": "stdout",
       "text": [
        " generated in 10.2290899754 seconds.\n",
        "Grouped into 116 patches in 0.00309085845947 seconds.\n",
        "Merge loop finished in"
       ]
      },
      {
       "output_type": "stream",
       "stream": "stdout",
       "text": [
        " 21.6586520672 seconds.\n",
        "Before VI: 0.507538577929\n",
        "Smallest VI: 0.48172065614\n",
        "Sureness threshold: 0.953910410404\n",
        "448"
       ]
      },
      {
       "output_type": "stream",
       "stream": "stdout",
       "text": [
        " generated in 9.58735895157 seconds.\n",
        "Grouped into 112 patches in 0.0028657913208 seconds.\n",
        "Merge loop finished in"
       ]
      },
      {
       "output_type": "stream",
       "stream": "stdout",
       "text": [
        " 20.0758280754 seconds.\n",
        "Before VI: 0.490232307552\n",
        "Smallest VI: 0.45427743256\n",
        "Sureness threshold: 0.970587551594\n",
        "456"
       ]
      },
      {
       "output_type": "stream",
       "stream": "stdout",
       "text": [
        " generated in 9.94375896454 seconds.\n",
        "Grouped into 113 patches in 0.00300002098083 seconds.\n",
        "Merge loop finished in"
       ]
      },
      {
       "output_type": "stream",
       "stream": "stdout",
       "text": [
        " 23.9643809795 seconds.\n",
        "Before VI: 0.497827841698\n",
        "Smallest VI: 0.463934657484\n",
        "Sureness threshold: 0.937029421329\n",
        "484"
       ]
      },
      {
       "output_type": "stream",
       "stream": "stdout",
       "text": [
        " generated in 10.2723338604 seconds.\n",
        "Grouped into 121 patches in 0.00319719314575 seconds.\n",
        "Merge loop finished in"
       ]
      },
      {
       "output_type": "stream",
       "stream": "stdout",
       "text": [
        " 21.0885329247 seconds.\n",
        "Before VI: 0.475793790256\n",
        "Smallest VI: 0.469385735376\n",
        "Sureness threshold: 0.970218598843\n",
        "508"
       ]
      },
      {
       "output_type": "stream",
       "stream": "stdout",
       "text": [
        " generated in 10.7403409481 seconds.\n",
        "Grouped into 127 patches in 0.00330281257629 seconds.\n",
        "Merge loop finished in"
       ]
      },
      {
       "output_type": "stream",
       "stream": "stdout",
       "text": [
        " 29.5914800167 seconds.\n",
        "Before VI: 0.539385975908\n",
        "Smallest VI: 0.519520580689\n",
        "Sureness threshold: 0.994868040085\n",
        "488"
       ]
      },
      {
       "output_type": "stream",
       "stream": "stdout",
       "text": [
        " generated in 10.1240930557 seconds.\n",
        "Grouped into 122 patches in 0.00313186645508 seconds.\n",
        "Merge loop finished in"
       ]
      },
      {
       "output_type": "stream",
       "stream": "stdout",
       "text": [
        " 23.4165971279 seconds.\n",
        "Before VI: 0.504520787077\n",
        "Smallest VI: 0.44116432145\n",
        "Sureness threshold: 0.987364649773\n",
        "480"
       ]
      },
      {
       "output_type": "stream",
       "stream": "stdout",
       "text": [
        " generated in 9.96888613701 seconds.\n",
        "Grouped into 118 patches in 0.00301504135132 seconds.\n",
        "Merge loop finished in"
       ]
      },
      {
       "output_type": "stream",
       "stream": "stdout",
       "text": [
        " 21.9660770893 seconds.\n",
        "Before VI: 0.662753517153\n",
        "Smallest VI: 0.633528037278\n",
        "Sureness threshold: 0.987411499023\n",
        "460"
       ]
      },
      {
       "output_type": "stream",
       "stream": "stdout",
       "text": [
        " generated in 9.56918001175 seconds.\n",
        "Grouped into 113 patches in 0.00290989875793 seconds.\n",
        "Merge loop finished in"
       ]
      },
      {
       "output_type": "stream",
       "stream": "stdout",
       "text": [
        " 21.4182789326 seconds.\n",
        "Before VI: 0.865704145022\n",
        "Smallest VI: 0.838652803427\n",
        "Sureness threshold: 0.957816541195\n",
        "488"
       ]
      },
      {
       "output_type": "stream",
       "stream": "stdout",
       "text": [
        " generated in 10.2808990479 seconds.\n",
        "Grouped into 120 patches in 0.00324296951294 seconds.\n",
        "Merge loop finished in"
       ]
      },
      {
       "output_type": "stream",
       "stream": "stdout",
       "text": [
        " 25.618324995 seconds.\n",
        "Before VI: 0.676249707958\n",
        "Smallest VI: 0.628354220904\n",
        "Sureness threshold: 0.851561903954\n",
        "540"
       ]
      },
      {
       "output_type": "stream",
       "stream": "stdout",
       "text": [
        " generated in 11.4166789055 seconds.\n",
        "Grouped into 135 patches in 0.0044469833374 seconds.\n",
        "Merge loop finished in"
       ]
      },
      {
       "output_type": "stream",
       "stream": "stdout",
       "text": [
        " 31.858299017 seconds.\n",
        "Before VI: 0.713594300816\n",
        "Smallest VI: 0.708921770404\n",
        "Sureness threshold: 0.930392622948\n",
        "464"
       ]
      },
      {
       "output_type": "stream",
       "stream": "stdout",
       "text": [
        " generated in 10.314895153 seconds.\n",
        "Grouped into 116 patches in 0.00299620628357 seconds.\n",
        "Merge loop finished in"
       ]
      },
      {
       "output_type": "stream",
       "stream": "stdout",
       "text": [
        " 19.6911659241 seconds.\n",
        "Before VI: 0.507538577929\n",
        "Smallest VI: 0.456607127987\n",
        "Sureness threshold: 0.967850863934\n",
        "448"
       ]
      },
      {
       "output_type": "stream",
       "stream": "stdout",
       "text": [
        " generated in 9.51192307472 seconds.\n",
        "Grouped into 112 patches in 0.00286102294922 seconds.\n",
        "Merge loop finished in"
       ]
      },
      {
       "output_type": "stream",
       "stream": "stdout",
       "text": [
        " 23.9758210182 seconds.\n",
        "Before VI: 0.490232307552\n",
        "Smallest VI: 0.457516297942\n",
        "Sureness threshold: 0.820542693138\n",
        "456"
       ]
      },
      {
       "output_type": "stream",
       "stream": "stdout",
       "text": [
        " generated in 9.86537098885 seconds.\n",
        "Grouped into 113 patches in 0.00339293479919 seconds.\n",
        "Merge loop finished in"
       ]
      },
      {
       "output_type": "stream",
       "stream": "stdout",
       "text": [
        " 21.7548291683 seconds.\n",
        "Before VI: 0.497827841698\n",
        "Smallest VI: 0.456720733832\n",
        "Sureness threshold: 0.97595334053\n",
        "484"
       ]
      },
      {
       "output_type": "stream",
       "stream": "stdout",
       "text": [
        " generated in 10.1146240234 seconds.\n",
        "Grouped into 121 patches in 0.0032970905304 seconds.\n",
        "Merge loop finished in"
       ]
      },
      {
       "output_type": "stream",
       "stream": "stdout",
       "text": [
        " 24.246065855 seconds.\n",
        "Before VI: 0.475793790256\n",
        "Smallest VI: 0.483349742132\n",
        "Sureness threshold: 0.981487214565\n",
        "508"
       ]
      },
      {
       "output_type": "stream",
       "stream": "stdout",
       "text": [
        " generated in 10.6326088905 seconds.\n",
        "Grouped into 127 patches in 0.00322294235229 seconds.\n",
        "Merge loop finished in"
       ]
      },
      {
       "output_type": "stream",
       "stream": "stdout",
       "text": [
        " 24.9421169758 seconds.\n",
        "Before VI: 0.539385975908\n",
        "Smallest VI: 0.467939097592\n",
        "Sureness threshold: 0.803802251816\n",
        "488"
       ]
      },
      {
       "output_type": "stream",
       "stream": "stdout",
       "text": [
        " generated in 10.1561601162 seconds.\n",
        "Grouped into 122 patches in 0.00311183929443 seconds.\n",
        "Merge loop finished in"
       ]
      },
      {
       "output_type": "stream",
       "stream": "stdout",
       "text": [
        " 26.1381177902 seconds.\n",
        "Before VI: 0.504520787077\n",
        "Smallest VI: 0.510970140113\n",
        "Sureness threshold: 0.992805182934\n",
        "480"
       ]
      },
      {
       "output_type": "stream",
       "stream": "stdout",
       "text": [
        " generated in 10.1678030491 seconds.\n",
        "Grouped into 118 patches in 0.00326204299927 seconds.\n",
        "Merge loop finished in"
       ]
      },
      {
       "output_type": "stream",
       "stream": "stdout",
       "text": [
        " 24.9014949799 seconds.\n",
        "Before VI: 0.662753517153\n",
        "Smallest VI: 0.639071019161\n",
        "Sureness threshold: 0.994100272655\n",
        "460"
       ]
      },
      {
       "output_type": "stream",
       "stream": "stdout",
       "text": [
        " generated in 9.53602480888 seconds.\n",
        "Grouped into 113 patches in 0.00297403335571 seconds.\n",
        "Merge loop finished in"
       ]
      },
      {
       "output_type": "stream",
       "stream": "stdout",
       "text": [
        " 24.8267540932 seconds.\n",
        "Before VI: 0.865704145022\n",
        "Smallest VI: 0.849587512389\n",
        "Sureness threshold: 0.988299965858\n",
        "488"
       ]
      },
      {
       "output_type": "stream",
       "stream": "stdout",
       "text": [
        " generated in 10.2096018791 seconds.\n",
        "Grouped into 120 patches in 0.00310301780701 seconds.\n",
        "Merge loop finished in"
       ]
      },
      {
       "output_type": "stream",
       "stream": "stdout",
       "text": [
        " 25.5249638557 seconds.\n",
        "Before VI: 0.676249707958\n",
        "Smallest VI: 0.692248088431\n",
        "Sureness threshold: 0.987862825394\n",
        "540"
       ]
      },
      {
       "output_type": "stream",
       "stream": "stdout",
       "text": [
        " generated in 11.3437948227 seconds.\n",
        "Grouped into 135 patches in 0.00343704223633 seconds.\n",
        "Merge loop finished in"
       ]
      },
      {
       "output_type": "stream",
       "stream": "stdout",
       "text": [
        " 34.4531359673 seconds.\n",
        "Before VI: 0.713594300816\n",
        "Smallest VI: 0.715749016564\n",
        "Sureness threshold: 0.990545034409\n",
        "464"
       ]
      },
      {
       "output_type": "stream",
       "stream": "stdout",
       "text": [
        " generated in 10.1127889156 seconds.\n",
        "Grouped into 116 patches in 0.00307607650757 seconds.\n",
        "Merge loop finished in"
       ]
      },
      {
       "output_type": "stream",
       "stream": "stdout",
       "text": [
        " 20.3743000031 seconds.\n",
        "Before VI: 0.507538577929\n",
        "Smallest VI: 0.489850590234\n",
        "Sureness threshold: 0.958553254604\n",
        "448"
       ]
      },
      {
       "output_type": "stream",
       "stream": "stdout",
       "text": [
        " generated in 9.57195997238 seconds.\n",
        "Grouped into 112 patches in 0.00291609764099 seconds.\n",
        "Merge loop finished in"
       ]
      },
      {
       "output_type": "stream",
       "stream": "stdout",
       "text": [
        " 22.7366461754 seconds.\n",
        "Before VI: 0.490232307552\n",
        "Smallest VI: 0.45427743256\n",
        "Sureness threshold: 0.902005016804\n",
        "456"
       ]
      },
      {
       "output_type": "stream",
       "stream": "stdout",
       "text": [
        " generated in 9.78340005875 seconds.\n",
        "Grouped into 113 patches in 0.00286912918091 seconds.\n",
        "Merge loop finished in"
       ]
      },
      {
       "output_type": "stream",
       "stream": "stdout",
       "text": [
        " 22.9272081852 seconds.\n",
        "Before VI: 0.497827841698\n",
        "Smallest VI: 0.485151822366\n",
        "Sureness threshold: 0.96320950985\n",
        "484"
       ]
      },
      {
       "output_type": "stream",
       "stream": "stdout",
       "text": [
        " generated in 10.1686317921 seconds.\n",
        "Grouped into 121 patches in 0.00366020202637 seconds.\n",
        "Merge loop finished in"
       ]
      },
      {
       "output_type": "stream",
       "stream": "stdout",
       "text": [
        " 21.8194990158 seconds.\n",
        "Before VI: 0.475793790256\n",
        "Smallest VI: 0.468966701366\n",
        "Sureness threshold: 0.990949809551\n",
        "508"
       ]
      },
      {
       "output_type": "stream",
       "stream": "stdout",
       "text": [
        " generated in 10.9922611713 seconds.\n",
        "Grouped into 127 patches in 0.00320196151733 seconds.\n",
        "Merge loop finished in"
       ]
      },
      {
       "output_type": "stream",
       "stream": "stdout",
       "text": [
        " 26.2734029293 seconds.\n",
        "Before VI: 0.539385975908\n",
        "Smallest VI: 0.473315627331\n",
        "Sureness threshold: 0.872703015804\n",
        "488"
       ]
      },
      {
       "output_type": "stream",
       "stream": "stdout",
       "text": [
        " generated in 10.1183180809 seconds.\n",
        "Grouped into 122 patches in 0.00307703018188 seconds.\n",
        "Merge loop finished in"
       ]
      },
      {
       "output_type": "stream",
       "stream": "stdout",
       "text": [
        " 25.5128698349 seconds.\n",
        "Before VI: 0.504520787077\n",
        "Smallest VI: 0.442402071737\n",
        "Sureness threshold: 0.972494781017\n",
        "480"
       ]
      },
      {
       "output_type": "stream",
       "stream": "stdout",
       "text": [
        " generated in 9.94299888611 seconds.\n",
        "Grouped into 118 patches in 0.00301814079285 seconds.\n",
        "Merge loop finished in"
       ]
      },
      {
       "output_type": "stream",
       "stream": "stdout",
       "text": [
        " 24.5719668865 seconds.\n",
        "Before VI: 0.662753517153\n",
        "Smallest VI: 0.611394433038\n",
        "Sureness threshold: 0.957565486431\n",
        "460"
       ]
      },
      {
       "output_type": "stream",
       "stream": "stdout",
       "text": [
        " generated in 9.50726985931 seconds.\n",
        "Grouped into 113 patches in 0.00293588638306 seconds.\n",
        "Merge loop finished in"
       ]
      },
      {
       "output_type": "stream",
       "stream": "stdout",
       "text": [
        " 23.8243560791 seconds.\n",
        "Before VI: 0.865704145022\n",
        "Smallest VI: 0.848904206328\n",
        "Sureness threshold: 0.969289779663\n",
        "488"
       ]
      },
      {
       "output_type": "stream",
       "stream": "stdout",
       "text": [
        " generated in 10.3280858994 seconds.\n",
        "Grouped into 120 patches in 0.00311088562012 seconds.\n",
        "Merge loop finished in"
       ]
      },
      {
       "output_type": "stream",
       "stream": "stdout",
       "text": [
        " 29.8355350494 seconds.\n",
        "Before VI: 0.676249707958\n",
        "Smallest VI: 0.632836896329\n",
        "Sureness threshold: 0.963834881783\n",
        "540"
       ]
      },
      {
       "output_type": "stream",
       "stream": "stdout",
       "text": [
        " generated in 11.39092803 seconds.\n",
        "Grouped into 135 patches in 0.00344920158386 seconds.\n",
        "Merge loop finished in"
       ]
      },
      {
       "output_type": "stream",
       "stream": "stdout",
       "text": [
        " 30.8913068771 seconds.\n",
        "Before VI: 0.713594300816\n",
        "Smallest VI: 0.680228020346\n",
        "Sureness threshold: 0.963822185993\n",
        "464"
       ]
      },
      {
       "output_type": "stream",
       "stream": "stdout",
       "text": [
        " generated in 10.2450330257 seconds.\n",
        "Grouped into 116 patches in 0.00300097465515 seconds.\n",
        "Merge loop finished in"
       ]
      },
      {
       "output_type": "stream",
       "stream": "stdout",
       "text": [
        " 20.9645619392 seconds.\n",
        "Before VI: 0.507538577929\n",
        "Smallest VI: 0.453197434369\n",
        "Sureness threshold: 0.93004244566\n",
        "448"
       ]
      },
      {
       "output_type": "stream",
       "stream": "stdout",
       "text": [
        " generated in 9.63783693314 seconds.\n",
        "Grouped into 112 patches in 0.0030300617218 seconds.\n",
        "Merge loop finished in"
       ]
      },
      {
       "output_type": "stream",
       "stream": "stdout",
       "text": [
        " 22.756373167 seconds.\n",
        "Before VI: 0.490232307552\n",
        "Smallest VI: 0.45427743256\n",
        "Sureness threshold: 0.903332471848\n",
        "456"
       ]
      },
      {
       "output_type": "stream",
       "stream": "stdout",
       "text": [
        " generated in 9.84654092789 seconds.\n",
        "Grouped into 113 patches in 0.00298810005188 seconds.\n",
        "Merge loop finished in"
       ]
      },
      {
       "output_type": "stream",
       "stream": "stdout",
       "text": [
        " 20.4738800526 seconds.\n",
        "Before VI: 0.497827841698\n",
        "Smallest VI: 0.463934657484\n",
        "Sureness threshold: 0.961602330208\n",
        "484"
       ]
      },
      {
       "output_type": "stream",
       "stream": "stdout",
       "text": [
        " generated in 10.2254040241 seconds.\n",
        "Grouped into 121 patches in 0.00321698188782 seconds.\n",
        "Merge loop finished in"
       ]
      },
      {
       "output_type": "stream",
       "stream": "stdout",
       "text": [
        " 26.5055589676 seconds.\n",
        "Before VI: 0.475793790256\n",
        "Smallest VI: 0.546532990155\n",
        "Sureness threshold: 0.98720651865\n",
        "508"
       ]
      },
      {
       "output_type": "stream",
       "stream": "stdout",
       "text": [
        " generated in 10.7248868942 seconds.\n",
        "Grouped into 127 patches in 0.00329804420471 seconds.\n",
        "Merge loop finished in"
       ]
      },
      {
       "output_type": "stream",
       "stream": "stdout",
       "text": [
        " 24.7136070728 seconds.\n",
        "Before VI: 0.539385975908\n",
        "Smallest VI: 0.491398547804\n",
        "Sureness threshold: 0.923853039742\n",
        "488"
       ]
      },
      {
       "output_type": "stream",
       "stream": "stdout",
       "text": [
        " generated in 10.1056699753 seconds.\n",
        "Grouped into 122 patches in 0.00316405296326 seconds.\n",
        "Merge loop finished in"
       ]
      },
      {
       "output_type": "stream",
       "stream": "stdout",
       "text": [
        " 24.1214101315 seconds.\n",
        "Before VI: 0.504520787077\n",
        "Smallest VI: 0.509756029314\n",
        "Sureness threshold: 0.987026929855\n",
        "480"
       ]
      },
      {
       "output_type": "stream",
       "stream": "stdout",
       "text": [
        " generated in 9.96843385696 seconds.\n",
        "Grouped into 118 patches in 0.00307583808899 seconds.\n",
        "Merge loop finished in"
       ]
      },
      {
       "output_type": "stream",
       "stream": "stdout",
       "text": [
        " 20.7783970833 seconds.\n",
        "Before VI: 0.662753517153\n",
        "Smallest VI: 0.635652888402\n",
        "Sureness threshold: 0.96818369627\n",
        "460"
       ]
      },
      {
       "output_type": "stream",
       "stream": "stdout",
       "text": [
        " generated in 9.58447504044 seconds.\n",
        "Grouped into 113 patches in 0.00298500061035 seconds.\n",
        "Merge loop finished in"
       ]
      },
      {
       "output_type": "stream",
       "stream": "stdout",
       "text": [
        " 25.1701779366 seconds.\n",
        "Before VI: 0.865704145022\n",
        "Smallest VI: 0.862805336376\n",
        "Sureness threshold: 0.983690679073\n",
        "488"
       ]
      },
      {
       "output_type": "stream",
       "stream": "stdout",
       "text": [
        " generated in 10.2066600323 seconds.\n",
        "Grouped into 120 patches in 0.00312089920044 seconds.\n",
        "Merge loop finished in"
       ]
      },
      {
       "output_type": "stream",
       "stream": "stdout",
       "text": [
        " 27.4651780128 seconds.\n",
        "Before VI: 0.676249707958\n",
        "Smallest VI: 0.655015893194\n",
        "Sureness threshold: 0.963585019112\n",
        "540"
       ]
      },
      {
       "output_type": "stream",
       "stream": "stdout",
       "text": [
        " generated in 11.364593029 seconds.\n",
        "Grouped into 135 patches in 0.00347900390625 seconds.\n",
        "Merge loop finished in"
       ]
      },
      {
       "output_type": "stream",
       "stream": "stdout",
       "text": [
        " 32.4530229568 seconds.\n",
        "Before VI: 0.713594300816\n",
        "Smallest VI: 0.704998063198\n",
        "Sureness threshold: 0.990911304951\n",
        "464"
       ]
      },
      {
       "output_type": "stream",
       "stream": "stdout",
       "text": [
        " generated in 10.1441781521 seconds.\n",
        "Grouped into 116 patches in 0.00308704376221 seconds.\n",
        "Merge loop finished in"
       ]
      },
      {
       "output_type": "stream",
       "stream": "stdout",
       "text": [
        " 24.2536520958 seconds.\n",
        "Before VI: 0.507538577929\n",
        "Smallest VI: 0.486510520414\n",
        "Sureness threshold: 0.974274754524\n",
        "448"
       ]
      },
      {
       "output_type": "stream",
       "stream": "stdout",
       "text": [
        " generated in 9.57757401466 seconds.\n",
        "Grouped into 112 patches in 0.0029079914093 seconds.\n",
        "Merge loop finished in"
       ]
      },
      {
       "output_type": "stream",
       "stream": "stdout",
       "text": [
        " 21.4898610115 seconds.\n",
        "Before VI: 0.490232307552\n",
        "Smallest VI: 0.458109442294\n",
        "Sureness threshold: 0.822587072849\n",
        "456"
       ]
      },
      {
       "output_type": "stream",
       "stream": "stdout",
       "text": [
        " generated in 9.88771009445 seconds.\n",
        "Grouped into 113 patches in 0.00287508964539 seconds.\n",
        "Merge loop finished in"
       ]
      },
      {
       "output_type": "stream",
       "stream": "stdout",
       "text": [
        " 27.1480920315 seconds.\n",
        "Before VI: 0.497827841698\n",
        "Smallest VI: 0.481717739245\n",
        "Sureness threshold: 0.957347154617\n",
        "484"
       ]
      },
      {
       "output_type": "stream",
       "stream": "stdout",
       "text": [
        " generated in 10.2082769871 seconds.\n",
        "Grouped into 121 patches in 0.00325608253479 seconds.\n",
        "Merge loop finished in"
       ]
      },
      {
       "output_type": "stream",
       "stream": "stdout",
       "text": [
        " 22.729793787 seconds.\n",
        "Before VI: 0.475793790256\n",
        "Smallest VI: 0.472973309075\n",
        "Sureness threshold: 0.930247068405\n",
        "508"
       ]
      },
      {
       "output_type": "stream",
       "stream": "stdout",
       "text": [
        " generated in 10.7419600487 seconds.\n",
        "Grouped into 127 patches in 0.00321197509766 seconds.\n",
        "Merge loop finished in"
       ]
      },
      {
       "output_type": "stream",
       "stream": "stdout",
       "text": [
        " 26.4516301155 seconds.\n",
        "Before VI: 0.539385975908\n",
        "Smallest VI: 0.513049590127\n",
        "Sureness threshold: 0.972484111786\n",
        "488"
       ]
      },
      {
       "output_type": "stream",
       "stream": "stdout",
       "text": [
        " generated in 10.0811839104 seconds.\n",
        "Grouped into 122 patches in 0.00306797027588 seconds.\n",
        "Merge loop finished in"
       ]
      },
      {
       "output_type": "stream",
       "stream": "stdout",
       "text": [
        " 24.0568990707 seconds.\n",
        "Before VI: 0.504520787077\n",
        "Smallest VI: 0.440235177365\n",
        "Sureness threshold: 0.956096351147\n",
        "480"
       ]
      },
      {
       "output_type": "stream",
       "stream": "stdout",
       "text": [
        " generated in 9.96813821793 seconds.\n",
        "Grouped into 118 patches in 0.00306010246277 seconds.\n",
        "Merge loop finished in"
       ]
      },
      {
       "output_type": "stream",
       "stream": "stdout",
       "text": [
        " 22.5483720303 seconds.\n",
        "Before VI: 0.662753517153\n",
        "Smallest VI: 0.633528037278\n",
        "Sureness threshold: 0.988401830196\n",
        "460"
       ]
      },
      {
       "output_type": "stream",
       "stream": "stdout",
       "text": [
        " generated in 9.50672078133 seconds.\n",
        "Grouped into 113 patches in 0.0029571056366 seconds.\n",
        "Merge loop finished in"
       ]
      },
      {
       "output_type": "stream",
       "stream": "stdout",
       "text": [
        " 22.6842980385 seconds.\n",
        "Before VI: 0.865704145022\n",
        "Smallest VI: 0.841681840161\n",
        "Sureness threshold: 0.978914797306\n",
        "488"
       ]
      },
      {
       "output_type": "stream",
       "stream": "stdout",
       "text": [
        " generated in 10.2302699089 seconds.\n",
        "Grouped into 120 patches in 0.00313687324524 seconds.\n",
        "Merge loop finished in"
       ]
      },
      {
       "output_type": "stream",
       "stream": "stdout",
       "text": [
        " 26.3405058384 seconds.\n",
        "Before VI: 0.676249707958\n",
        "Smallest VI: 0.668111217514\n",
        "Sureness threshold: 0.987314224243\n",
        "540"
       ]
      },
      {
       "output_type": "stream",
       "stream": "stdout",
       "text": [
        " generated in 11.3876731396 seconds.\n",
        "Grouped into 135 patches in 0.00349903106689 seconds.\n",
        "Merge loop finished in"
       ]
      },
      {
       "output_type": "stream",
       "stream": "stdout",
       "text": [
        " 28.9659979343 seconds.\n",
        "Before VI: 0.713594300816\n",
        "Smallest VI: 0.688377892938\n",
        "Sureness threshold: 0.978944659233\n"
       ]
      }
     ],
     "prompt_number": 84
    },
    {
     "cell_type": "code",
     "collapsed": false,
     "input": [
      "\n",
      "objects = []\n",
      "performance = []\n",
      "user_slice_vis = []\n",
      "for i,d in enumerate(DOJO_USERS):\n",
      "    objects.append('User '+ str(i))\n",
      "    user_vi, slice_vis = user_threed_vi(input_gold, d)\n",
      "    performance.append(user_vi)\n",
      "    user_slice_vis.append(slice_vis)\n",
      "\n",
      "before_vi, before_slice_vis = threed_vi(input_gold, input_rhoana)    \n",
      "\n",
      "y_pos = np.arange(len(objects))    \n",
      "    \n",
      "fig, ax = plt.subplots()\n",
      "ax.plot(range(0,10), [before_vi]*len(objects), 'k--', label='rhoana VI')\n",
      "plt.bar(y_pos, performance, align='center', alpha=0.5)\n",
      "plt.xticks(y_pos, objects)\n",
      "ax.tick_params(axis='x', labelsize=7)\n",
      "ax.set_ylim(0,1.)\n",
      "\n",
      "plt.ylabel('Variation of Information')\n",
      "\n",
      "# Now add the legend with some customizations.\n",
      "legend = ax.legend(loc='upper right', shadow=True)\n",
      "\n",
      "# The frame is matplotlib.patches.Rectangle instance surrounding the legend.\n",
      "frame = legend.get_frame()\n",
      "frame.set_facecolor('0.90')\n",
      "\n",
      "# Set the fontsize\n",
      "for label in legend.get_texts():\n",
      "    label.set_fontsize('large')\n",
      "\n",
      "for label in legend.get_lines():\n",
      "    label.set_linewidth(1.5)  # the legend line width\n"
     ],
     "language": "python",
     "metadata": {},
     "outputs": [
      {
       "metadata": {},
       "output_type": "display_data",
       "png": "[encoded data removed]",
       "text": [
        "<matplotlib.figure.Figure at 0x1137a1410>"
       ]
      }
     ],
     "prompt_number": 89
    },
    {
     "cell_type": "code",
     "collapsed": false,
     "input": [
      "objects = []\n",
      "performance = []\n",
      "# user_slice_vis = []\n",
      "for i,n in enumerate(networks):\n",
      "    objects.append(n._NETWORK_ID)\n",
      "#     user_vi, slice_vis = user_threed_vi(input_gold, d)\n",
      "    performance.append(cnn_vi_s[i])\n",
      "#     user_slice_vis.append(slice_vis)\n",
      "\n",
      "before_vi, before_slice_vis = threed_vi(input_gold, input_rhoana)    \n",
      "\n",
      "y_pos = np.arange(len(objects))    \n",
      "\n",
      "fig, ax = plt.subplots(figsize=(20,10))\n",
      "ax.plot(range(0,10), [before_vi]*len(objects), 'k--', label='rhoana VI')\n",
      "plt.bar(y_pos, performance, align='center', alpha=0.5, color='red')\n",
      "plt.xticks(y_pos, objects)\n",
      "ax.tick_params(axis='x', labelsize=7)\n",
      "ax.set_ylim(0,1.)\n",
      "plt.ylabel('Variation of Information')\n",
      "\n",
      "# Now add the legend with some customizations.\n",
      "legend = ax.legend(loc='upper right', shadow=True)\n",
      "\n",
      "# The frame is matplotlib.patches.Rectangle instance surrounding the legend.\n",
      "frame = legend.get_frame()\n",
      "frame.set_facecolor('0.90')\n",
      "\n",
      "# Set the fontsize\n",
      "for label in legend.get_texts():\n",
      "    label.set_fontsize('large')\n",
      "\n",
      "for label in legend.get_lines():\n",
      "    label.set_linewidth(1.5)  # the legend line width"
     ],
     "language": "python",
     "metadata": {},
     "outputs": [
      {
       "metadata": {},
       "output_type": "display_data",
       "png": "[encoded data removed]",
       "text": [
        "<matplotlib.figure.Figure at 0x1137b76d0>"
       ]
      }
     ],
     "prompt_number": 92
    },
    {
     "cell_type": "code",
     "collapsed": false,
     "input": [
      "simulated_user_er_vi_s =[]\n",
      "for er in range(0,100,20):\n",
      "    \n",
      "    er = er/100.\n",
      "    \n",
      "    simulated_user_vi_s = []\n",
      "    for i in range(0,10):\n",
      "        simulated_user_vi  = fix_dojo_slice_user_simulated(networks[7],i, input_image, input_prob, input_rhoana,input_gold, error_rate=er)\n",
      "        simulated_user_vi_s.append(simulated_user_vi)\n",
      "\n",
      "    simulated_user_er_vi_s.append(np.mean(simulated_user_vi_s))"
     ],
     "language": "python",
     "metadata": {},
     "outputs": [
      {
       "output_type": "stream",
       "stream": "stdout",
       "text": [
        "464 generated in 10.2238790989 seconds.\n",
        "Grouped into 116 patches in 0.00297117233276 seconds.\n",
        "bad fix, excluding it.."
       ]
      },
      {
       "output_type": "stream",
       "stream": "stdout",
       "text": [
        "\n",
        "bad fix, excluding it..\n",
        "bad fix, excluding it.."
       ]
      },
      {
       "output_type": "stream",
       "stream": "stdout",
       "text": [
        "\n",
        "bad fix, excluding it.."
       ]
      },
      {
       "output_type": "stream",
       "stream": "stdout",
       "text": [
        "\n",
        "bad fix, excluding it.."
       ]
      },
      {
       "output_type": "stream",
       "stream": "stdout",
       "text": [
        "\n",
        "bad fix, excluding it..\n",
        "bad fix, excluding it.."
       ]
      },
      {
       "output_type": "stream",
       "stream": "stdout",
       "text": [
        "\n",
        "bad fix, excluding it..\n",
        "bad fix, excluding it..\n",
        "bad fix, excluding it..\n",
        "bad fix, excluding it..\n",
        "bad fix, excluding it.."
       ]
      },
      {
       "output_type": "stream",
       "stream": "stdout",
       "text": [
        "\n",
        "bad fix, excluding it..\n",
        "bad fix, excluding it..\n",
        "Merge loop finished in 5.07940793037 seconds.\n",
        "Before VI: 0.507538577929\n",
        "Smallest VI: 0.481261730471\n",
        "Sureness threshold: 0.880719780922\n",
        "448"
       ]
      },
      {
       "output_type": "stream",
       "stream": "stdout",
       "text": [
        " generated in 9.62262487411 seconds.\n",
        "Grouped into 112 patches in 0.00294899940491 seconds.\n",
        "bad fix, excluding it.."
       ]
      },
      {
       "output_type": "stream",
       "stream": "stdout",
       "text": [
        "\n",
        "bad fix, excluding it..\n",
        "bad fix, excluding it..\n",
        "bad fix, excluding it.."
       ]
      },
      {
       "output_type": "stream",
       "stream": "stdout",
       "text": [
        "\n",
        "bad fix, excluding it..\n",
        "bad fix, excluding it..\n",
        "bad fix, excluding it..\n",
        "bad fix, excluding it..\n",
        "bad fix, excluding it.."
       ]
      },
      {
       "output_type": "stream",
       "stream": "stdout",
       "text": [
        "\n",
        "bad fix, excluding it..\n",
        "bad fix, excluding it..\n",
        "bad fix, excluding it..\n",
        "bad fix, excluding it..\n",
        "bad fix, excluding it.."
       ]
      },
      {
       "output_type": "stream",
       "stream": "stdout",
       "text": [
        "\n",
        "bad fix, excluding it..\n",
        "Merge loop finished in 5.01165699959 seconds.\n",
        "Before VI: 0.490232307552\n",
        "Smallest VI: 0.45427743256\n",
        "Sureness threshold: 0.902005016804\n",
        "456"
       ]
      },
      {
       "output_type": "stream",
       "stream": "stdout",
       "text": [
        " generated in 9.91748285294 seconds.\n",
        "Grouped into 113 patches in 0.00292992591858 seconds.\n",
        "bad fix, excluding it.."
       ]
      },
      {
       "output_type": "stream",
       "stream": "stdout",
       "text": [
        "\n",
        "bad fix, excluding it.."
       ]
      },
      {
       "output_type": "stream",
       "stream": "stdout",
       "text": [
        "\n",
        "bad fix, excluding it.."
       ]
      },
      {
       "output_type": "stream",
       "stream": "stdout",
       "text": [
        "\n",
        "bad fix, excluding it.."
       ]
      },
      {
       "output_type": "stream",
       "stream": "stdout",
       "text": [
        "\n",
        "bad fix, excluding it..\n",
        "bad fix, excluding it..\n",
        "bad fix, excluding it.."
       ]
      },
      {
       "output_type": "stream",
       "stream": "stdout",
       "text": [
        "\n",
        "bad fix, excluding it.."
       ]
      },
      {
       "output_type": "stream",
       "stream": "stdout",
       "text": [
        "\n",
        "bad fix, excluding it.."
       ]
      },
      {
       "output_type": "stream",
       "stream": "stdout",
       "text": [
        "\n",
        "bad fix, excluding it.."
       ]
      },
      {
       "output_type": "stream",
       "stream": "stdout",
       "text": [
        "\n",
        "bad fix, excluding it.."
       ]
      },
      {
       "output_type": "stream",
       "stream": "stdout",
       "text": [
        "\n",
        "bad fix, excluding it..\n",
        "bad fix, excluding it..\n",
        "bad fix, excluding it..\n",
        "bad fix, excluding it..\n",
        "bad fix, excluding it.."
       ]
      },
      {
       "output_type": "stream",
       "stream": "stdout",
       "text": [
        "\n",
        "bad fix, excluding it..\n",
        "bad fix, excluding it.."
       ]
      },
      {
       "output_type": "stream",
       "stream": "stdout",
       "text": [
        "\n",
        "Merge loop finished in 4.69833993912 seconds.\n",
        "Before VI: 0.497827841698\n",
        "Smallest VI: 0.477937898715\n",
        "Sureness threshold: 0.96320950985\n",
        "484"
       ]
      },
      {
       "output_type": "stream",
       "stream": "stdout",
       "text": [
        " generated in 10.3162519932 seconds.\n",
        "Grouped into 121 patches in 0.00321102142334 seconds.\n",
        "bad fix, excluding it.."
       ]
      },
      {
       "output_type": "stream",
       "stream": "stdout",
       "text": [
        "\n",
        "bad fix, excluding it.."
       ]
      },
      {
       "output_type": "stream",
       "stream": "stdout",
       "text": [
        "\n",
        "bad fix, excluding it.."
       ]
      },
      {
       "output_type": "stream",
       "stream": "stdout",
       "text": [
        "\n",
        "bad fix, excluding it..\n",
        "bad fix, excluding it.."
       ]
      },
      {
       "output_type": "stream",
       "stream": "stdout",
       "text": [
        "\n",
        "bad fix, excluding it.."
       ]
      },
      {
       "output_type": "stream",
       "stream": "stdout",
       "text": [
        "\n",
        "bad fix, excluding it..\n",
        "bad fix, excluding it..\n",
        "bad fix, excluding it..\n",
        "bad fix, excluding it..\n",
        "bad fix, excluding it..\n",
        "bad fix, excluding it.."
       ]
      },
      {
       "output_type": "stream",
       "stream": "stdout",
       "text": [
        "\n",
        "bad fix, excluding it..\n",
        "bad fix, excluding it..\n",
        "bad fix, excluding it..\n",
        "Merge loop finished in 5.86210584641 seconds.\n",
        "Before VI: 0.475793790256\n",
        "Smallest VI: 0.437976095782\n",
        "Sureness threshold: 0.635403633118\n",
        "508"
       ]
      },
      {
       "output_type": "stream",
       "stream": "stdout",
       "text": [
        " generated in 10.753895998 seconds.\n",
        "Grouped into 127 patches in 0.00327706336975 seconds.\n"
       ]
      },
      {
       "ename": "KeyboardInterrupt",
       "evalue": "",
       "output_type": "pyerr",
       "traceback": [
        "\u001b[0;31m---------------------------------------------------------------------------\u001b[0m\n\u001b[0;31mKeyboardInterrupt\u001b[0m                         Traceback (most recent call last)",
        "\u001b[0;32m<ipython-input-108-62ef6a4b9d2e>\u001b[0m in \u001b[0;36m<module>\u001b[0;34m()\u001b[0m\n\u001b[1;32m      6\u001b[0m     \u001b[0msimulated_user_vi_s\u001b[0m \u001b[0;34m=\u001b[0m \u001b[0;34m[\u001b[0m\u001b[0;34m]\u001b[0m\u001b[0;34m\u001b[0m\u001b[0m\n\u001b[1;32m      7\u001b[0m     \u001b[0;32mfor\u001b[0m \u001b[0mi\u001b[0m \u001b[0;32min\u001b[0m \u001b[0mrange\u001b[0m\u001b[0;34m(\u001b[0m\u001b[0;36m0\u001b[0m\u001b[0;34m,\u001b[0m\u001b[0;36m10\u001b[0m\u001b[0;34m)\u001b[0m\u001b[0;34m:\u001b[0m\u001b[0;34m\u001b[0m\u001b[0m\n\u001b[0;32m----> 8\u001b[0;31m         \u001b[0msimulated_user_vi\u001b[0m  \u001b[0;34m=\u001b[0m \u001b[0mfix_dojo_slice_user_simulated\u001b[0m\u001b[0;34m(\u001b[0m\u001b[0mnetworks\u001b[0m\u001b[0;34m[\u001b[0m\u001b[0;36m7\u001b[0m\u001b[0;34m]\u001b[0m\u001b[0;34m,\u001b[0m\u001b[0mi\u001b[0m\u001b[0;34m,\u001b[0m \u001b[0minput_image\u001b[0m\u001b[0;34m,\u001b[0m \u001b[0minput_prob\u001b[0m\u001b[0;34m,\u001b[0m \u001b[0minput_rhoana\u001b[0m\u001b[0;34m,\u001b[0m\u001b[0minput_gold\u001b[0m\u001b[0;34m,\u001b[0m \u001b[0merror_rate\u001b[0m\u001b[0;34m=\u001b[0m\u001b[0mer\u001b[0m\u001b[0;34m)\u001b[0m\u001b[0;34m\u001b[0m\u001b[0m\n\u001b[0m\u001b[1;32m      9\u001b[0m         \u001b[0msimulated_user_vi_s\u001b[0m\u001b[0;34m.\u001b[0m\u001b[0mappend\u001b[0m\u001b[0;34m(\u001b[0m\u001b[0msimulated_user_vi\u001b[0m\u001b[0;34m)\u001b[0m\u001b[0;34m\u001b[0m\u001b[0m\n\u001b[1;32m     10\u001b[0m \u001b[0;34m\u001b[0m\u001b[0m\n",
        "\u001b[0;32m<ipython-input-93-1b20838c6eca>\u001b[0m in \u001b[0;36mfix_dojo_slice_user_simulated\u001b[0;34m(cnn, slice, input_image, input_prob, input_rhoana, input_gold, error_rate)\u001b[0m\n\u001b[1;32m     37\u001b[0m                                                  \u001b[0minput_gold\u001b[0m\u001b[0;34m[\u001b[0m\u001b[0mDOJO_SLICE\u001b[0m\u001b[0;34m]\u001b[0m\u001b[0;34m,\u001b[0m\u001b[0;34m\u001b[0m\u001b[0m\n\u001b[1;32m     38\u001b[0m                                                  \u001b[0merror_rate\u001b[0m\u001b[0;34m=\u001b[0m\u001b[0merror_rate\u001b[0m\u001b[0;34m,\u001b[0m\u001b[0;34m\u001b[0m\u001b[0m\n\u001b[0;32m---> 39\u001b[0;31m                                                  oversampling=False)\n\u001b[0m\u001b[1;32m     40\u001b[0m \u001b[0;34m\u001b[0m\u001b[0m\n\u001b[1;32m     41\u001b[0m     \u001b[0mbest_index\u001b[0m \u001b[0;34m=\u001b[0m \u001b[0mvi_s\u001b[0m\u001b[0;34m.\u001b[0m\u001b[0mindex\u001b[0m\u001b[0;34m(\u001b[0m\u001b[0mnp\u001b[0m\u001b[0;34m.\u001b[0m\u001b[0mmin\u001b[0m\u001b[0;34m(\u001b[0m\u001b[0mvi_s\u001b[0m\u001b[0;34m)\u001b[0m\u001b[0;34m)\u001b[0m\u001b[0;34m\u001b[0m\u001b[0m\n",
        "\u001b[0;32m/Users/d/Projects/em-quality-metric/Reignite/fixer.py\u001b[0m in \u001b[0;36msplits_user_simulated\u001b[0;34m(cnn, image, prob, segmentation, groundtruth, error_rate, sureness_threshold, smallest_first, oversampling, verbose, max)\u001b[0m\n\u001b[1;32m     40\u001b[0m \u001b[0;34m\u001b[0m\u001b[0m\n\u001b[1;32m     41\u001b[0m       \u001b[0;31m# test this patch group for l and n\u001b[0m\u001b[0;34m\u001b[0m\u001b[0;34m\u001b[0m\u001b[0m\n\u001b[0;32m---> 42\u001b[0;31m       \u001b[0mprediction\u001b[0m \u001b[0;34m=\u001b[0m \u001b[0mPatch\u001b[0m\u001b[0;34m.\u001b[0m\u001b[0mtest_and_unify\u001b[0m\u001b[0;34m(\u001b[0m\u001b[0mgrouped_patches\u001b[0m\u001b[0;34m[\u001b[0m\u001b[0ml_n\u001b[0m\u001b[0;34m]\u001b[0m\u001b[0;34m,\u001b[0m \u001b[0mcnn\u001b[0m\u001b[0;34m)\u001b[0m\u001b[0;34m\u001b[0m\u001b[0m\n\u001b[0m\u001b[1;32m     43\u001b[0m \u001b[0;34m\u001b[0m\u001b[0m\n\u001b[1;32m     44\u001b[0m       \u001b[0;31m# fill value into matrix\u001b[0m\u001b[0;34m\u001b[0m\u001b[0;34m\u001b[0m\u001b[0m\n",
        "\u001b[0;32m/Users/d/Projects/em-quality-metric/Reignite/patch.pyc\u001b[0m in \u001b[0;36mtest_and_unify\u001b[0;34m(patches, cnn, method)\u001b[0m\n\u001b[1;32m    792\u001b[0m                       \u001b[0mvalid_border_points\u001b[0m \u001b[0;34m+=\u001b[0m \u001b[0;36m1\u001b[0m\u001b[0;34m\u001b[0m\u001b[0m\n\u001b[1;32m    793\u001b[0m \u001b[0;34m\u001b[0m\u001b[0m\n\u001b[0;32m--> 794\u001b[0;31m           \u001b[0mpred\u001b[0m \u001b[0;34m=\u001b[0m \u001b[0mcnn\u001b[0m\u001b[0;34m.\u001b[0m\u001b[0mtest_patch\u001b[0m\u001b[0;34m(\u001b[0m\u001b[0mp\u001b[0m\u001b[0;34m)\u001b[0m\u001b[0;34m\u001b[0m\u001b[0m\n\u001b[0m\u001b[1;32m    795\u001b[0m           \u001b[0mweights\u001b[0m\u001b[0;34m.\u001b[0m\u001b[0mappend\u001b[0m\u001b[0;34m(\u001b[0m\u001b[0mvalid_border_points\u001b[0m\u001b[0;34m)\u001b[0m\u001b[0;34m\u001b[0m\u001b[0m\n\u001b[1;32m    796\u001b[0m           \u001b[0mpredictions\u001b[0m\u001b[0;34m.\u001b[0m\u001b[0mappend\u001b[0m\u001b[0;34m(\u001b[0m\u001b[0mpred\u001b[0m\u001b[0;34m)\u001b[0m\u001b[0;34m\u001b[0m\u001b[0m\n",
        "\u001b[0;32m/Users/d/Projects/em-quality-metric/Reignite/dyn_cnn.pyc\u001b[0m in \u001b[0;36mtest_patch\u001b[0;34m(self, p)\u001b[0m\n\u001b[1;32m     83\u001b[0m \u001b[0;34m\u001b[0m\u001b[0m\n\u001b[1;32m     84\u001b[0m \u001b[0;34m\u001b[0m\u001b[0m\n\u001b[0;32m---> 85\u001b[0;31m     \u001b[0mpred\u001b[0m\u001b[0;34m,\u001b[0m \u001b[0merr\u001b[0m\u001b[0;34m,\u001b[0m \u001b[0macc\u001b[0m \u001b[0;34m=\u001b[0m \u001b[0mself\u001b[0m\u001b[0;34m.\u001b[0m\u001b[0m_val_fn\u001b[0m\u001b[0;34m(\u001b[0m\u001b[0;34m*\u001b[0m\u001b[0mtest_values\u001b[0m\u001b[0;34m)\u001b[0m\u001b[0;31m#images, probs, binary1s, overlaps, targets)\u001b[0m\u001b[0;34m\u001b[0m\u001b[0m\n\u001b[0m\u001b[1;32m     86\u001b[0m \u001b[0;34m\u001b[0m\u001b[0m\n\u001b[1;32m     87\u001b[0m     \u001b[0;32mreturn\u001b[0m \u001b[0mpred\u001b[0m\u001b[0;34m[\u001b[0m\u001b[0;36m0\u001b[0m\u001b[0;34m]\u001b[0m\u001b[0;34m[\u001b[0m\u001b[0;36m1\u001b[0m\u001b[0;34m]\u001b[0m\u001b[0;34m\u001b[0m\u001b[0m\n",
        "\u001b[0;32m/Users/d/Library/Python/2.7/lib/python/site-packages/theano/compile/function_module.pyc\u001b[0m in \u001b[0;36m__call__\u001b[0;34m(self, *args, **kwargs)\u001b[0m\n\u001b[1;32m    857\u001b[0m         \u001b[0mt0_fn\u001b[0m \u001b[0;34m=\u001b[0m \u001b[0mtime\u001b[0m\u001b[0;34m.\u001b[0m\u001b[0mtime\u001b[0m\u001b[0;34m(\u001b[0m\u001b[0;34m)\u001b[0m\u001b[0;34m\u001b[0m\u001b[0m\n\u001b[1;32m    858\u001b[0m         \u001b[0;32mtry\u001b[0m\u001b[0;34m:\u001b[0m\u001b[0;34m\u001b[0m\u001b[0m\n\u001b[0;32m--> 859\u001b[0;31m             \u001b[0moutputs\u001b[0m \u001b[0;34m=\u001b[0m \u001b[0mself\u001b[0m\u001b[0;34m.\u001b[0m\u001b[0mfn\u001b[0m\u001b[0;34m(\u001b[0m\u001b[0;34m)\u001b[0m\u001b[0;34m\u001b[0m\u001b[0m\n\u001b[0m\u001b[1;32m    860\u001b[0m         \u001b[0;32mexcept\u001b[0m \u001b[0mException\u001b[0m\u001b[0;34m:\u001b[0m\u001b[0;34m\u001b[0m\u001b[0m\n\u001b[1;32m    861\u001b[0m             \u001b[0;32mif\u001b[0m \u001b[0mhasattr\u001b[0m\u001b[0;34m(\u001b[0m\u001b[0mself\u001b[0m\u001b[0;34m.\u001b[0m\u001b[0mfn\u001b[0m\u001b[0;34m,\u001b[0m \u001b[0;34m'position_of_error'\u001b[0m\u001b[0;34m)\u001b[0m\u001b[0;34m:\u001b[0m\u001b[0;34m\u001b[0m\u001b[0m\n",
        "\u001b[0;31mKeyboardInterrupt\u001b[0m: "
       ]
      }
     ],
     "prompt_number": 108
    },
    {
     "cell_type": "code",
     "collapsed": false,
     "input": [],
     "language": "python",
     "metadata": {},
     "outputs": []
    },
    {
     "cell_type": "code",
     "collapsed": false,
     "input": [],
     "language": "python",
     "metadata": {},
     "outputs": []
    },
    {
     "cell_type": "code",
     "collapsed": false,
     "input": [
      "simulated_user_vi_s = []\n",
      "good_fixes = []\n",
      "bad_fixes = []\n",
      "for i in range(0,10):\n",
      "    simulated_user_vi, gf, bf  = fix_dojo_slice_user_simulated(networks[7],i, input_image, input_prob, input_rhoana,input_gold, error_rate=0.)\n",
      "    simulated_user_vi_s.append(simulated_user_vi)\n",
      "    good_fixes.append(gf)\n",
      "    bad_fixes.append(bf)\n",
      "\n",
      "print np.mean(simulated_user_vi_s)"
     ],
     "language": "python",
     "metadata": {},
     "outputs": [
      {
       "output_type": "stream",
       "stream": "stdout",
       "text": [
        "464 generated in 10.237473011 seconds.\n",
        "Grouped into 116 patches in 0.00293803215027 seconds.\n",
        "bad fix, excluding it.."
       ]
      },
      {
       "output_type": "stream",
       "stream": "stdout",
       "text": [
        "\n",
        "bad fix, excluding it..\n",
        "bad fix, excluding it.."
       ]
      },
      {
       "output_type": "stream",
       "stream": "stdout",
       "text": [
        "\n",
        "bad fix, excluding it.."
       ]
      },
      {
       "output_type": "stream",
       "stream": "stdout",
       "text": [
        "\n",
        "bad fix, excluding it.."
       ]
      },
      {
       "output_type": "stream",
       "stream": "stdout",
       "text": [
        "\n",
        "bad fix, excluding it..\n",
        "bad fix, excluding it.."
       ]
      },
      {
       "output_type": "stream",
       "stream": "stdout",
       "text": [
        "\n",
        "bad fix, excluding it..\n",
        "bad fix, excluding it..\n",
        "bad fix, excluding it..\n",
        "bad fix, excluding it..\n",
        "bad fix, excluding it.."
       ]
      },
      {
       "output_type": "stream",
       "stream": "stdout",
       "text": [
        "\n",
        "bad fix, excluding it..\n",
        "bad fix, excluding it..\n",
        "Merge loop finished in 5.08557200432 seconds.\n",
        "Before VI: 0.507538577929\n",
        "Smallest VI: 0.481261730471\n",
        "Sureness threshold: 0.880719780922\n",
        "448"
       ]
      },
      {
       "output_type": "stream",
       "stream": "stdout",
       "text": [
        " generated in 9.60588383675 seconds.\n",
        "Grouped into 112 patches in 0.00285506248474 seconds.\n",
        "bad fix, excluding it.."
       ]
      },
      {
       "output_type": "stream",
       "stream": "stdout",
       "text": [
        "\n",
        "bad fix, excluding it..\n",
        "bad fix, excluding it..\n",
        "bad fix, excluding it.."
       ]
      },
      {
       "output_type": "stream",
       "stream": "stdout",
       "text": [
        "\n",
        "bad fix, excluding it..\n",
        "bad fix, excluding it..\n",
        "bad fix, excluding it..\n",
        "bad fix, excluding it..\n",
        "bad fix, excluding it.."
       ]
      },
      {
       "output_type": "stream",
       "stream": "stdout",
       "text": [
        "\n",
        "bad fix, excluding it..\n",
        "bad fix, excluding it..\n",
        "bad fix, excluding it..\n",
        "bad fix, excluding it..\n",
        "bad fix, excluding it.."
       ]
      },
      {
       "output_type": "stream",
       "stream": "stdout",
       "text": [
        "\n",
        "bad fix, excluding it..\n",
        "Merge loop finished in 4.97136282921 seconds.\n",
        "Before VI: 0.490232307552\n",
        "Smallest VI: 0.45427743256\n",
        "Sureness threshold: 0.902005016804\n",
        "456"
       ]
      },
      {
       "output_type": "stream",
       "stream": "stdout",
       "text": [
        " generated in 9.8744020462 seconds.\n",
        "Grouped into 113 patches in 0.0029239654541 seconds.\n",
        "bad fix, excluding it.."
       ]
      },
      {
       "output_type": "stream",
       "stream": "stdout",
       "text": [
        "\n",
        "bad fix, excluding it.."
       ]
      },
      {
       "output_type": "stream",
       "stream": "stdout",
       "text": [
        "\n",
        "bad fix, excluding it.."
       ]
      },
      {
       "output_type": "stream",
       "stream": "stdout",
       "text": [
        "\n",
        "bad fix, excluding it.."
       ]
      },
      {
       "output_type": "stream",
       "stream": "stdout",
       "text": [
        "\n",
        "bad fix, excluding it..\n",
        "bad fix, excluding it..\n",
        "bad fix, excluding it.."
       ]
      },
      {
       "output_type": "stream",
       "stream": "stdout",
       "text": [
        "\n",
        "bad fix, excluding it.."
       ]
      },
      {
       "output_type": "stream",
       "stream": "stdout",
       "text": [
        "\n",
        "bad fix, excluding it.."
       ]
      },
      {
       "output_type": "stream",
       "stream": "stdout",
       "text": [
        "\n",
        "bad fix, excluding it.."
       ]
      },
      {
       "output_type": "stream",
       "stream": "stdout",
       "text": [
        "\n",
        "bad fix, excluding it.."
       ]
      },
      {
       "output_type": "stream",
       "stream": "stdout",
       "text": [
        "\n",
        "bad fix, excluding it..\n",
        "bad fix, excluding it..\n",
        "bad fix, excluding it..\n",
        "bad fix, excluding it..\n",
        "bad fix, excluding it..\n",
        "bad fix, excluding it.."
       ]
      },
      {
       "output_type": "stream",
       "stream": "stdout",
       "text": [
        "\n",
        "bad fix, excluding it.."
       ]
      },
      {
       "output_type": "stream",
       "stream": "stdout",
       "text": [
        "\n",
        "Merge loop finished in 4.6586420536 seconds.\n",
        "Before VI: 0.497827841698\n",
        "Smallest VI: 0.477937898715\n",
        "Sureness threshold: 0.96320950985\n",
        "484"
       ]
      },
      {
       "output_type": "stream",
       "stream": "stdout",
       "text": [
        " generated in 10.2348849773 seconds.\n",
        "Grouped into 121 patches in 0.00328397750854 seconds.\n",
        "bad fix, excluding it.."
       ]
      },
      {
       "output_type": "stream",
       "stream": "stdout",
       "text": [
        "\n",
        "bad fix, excluding it.."
       ]
      },
      {
       "output_type": "stream",
       "stream": "stdout",
       "text": [
        "\n",
        "bad fix, excluding it.."
       ]
      },
      {
       "output_type": "stream",
       "stream": "stdout",
       "text": [
        "\n",
        "bad fix, excluding it..\n",
        "bad fix, excluding it.."
       ]
      },
      {
       "output_type": "stream",
       "stream": "stdout",
       "text": [
        "\n",
        "bad fix, excluding it.."
       ]
      },
      {
       "output_type": "stream",
       "stream": "stdout",
       "text": [
        "\n",
        "bad fix, excluding it..\n",
        "bad fix, excluding it..\n",
        "bad fix, excluding it..\n",
        "bad fix, excluding it..\n",
        "bad fix, excluding it..\n",
        "bad fix, excluding it.."
       ]
      },
      {
       "output_type": "stream",
       "stream": "stdout",
       "text": [
        "\n",
        "bad fix, excluding it..\n",
        "bad fix, excluding it..\n",
        "bad fix, excluding it..\n",
        "Merge loop finished in 5.83627581596 seconds.\n",
        "Before VI: 0.475793790256\n",
        "Smallest VI: 0.437976095782\n",
        "Sureness threshold: 0.635403633118\n",
        "508"
       ]
      },
      {
       "output_type": "stream",
       "stream": "stdout",
       "text": [
        " generated in 10.6743359566 seconds.\n",
        "Grouped into 127 patches in 0.00326204299927 seconds.\n",
        "bad fix, excluding it.."
       ]
      },
      {
       "output_type": "stream",
       "stream": "stdout",
       "text": [
        "\n",
        "bad fix, excluding it..\n",
        "bad fix, excluding it.."
       ]
      },
      {
       "output_type": "stream",
       "stream": "stdout",
       "text": [
        "\n",
        "bad fix, excluding it..\n",
        "bad fix, excluding it..\n",
        "bad fix, excluding it.."
       ]
      },
      {
       "output_type": "stream",
       "stream": "stdout",
       "text": [
        "\n",
        "bad fix, excluding it.."
       ]
      },
      {
       "output_type": "stream",
       "stream": "stdout",
       "text": [
        "\n",
        "bad fix, excluding it..\n",
        "bad fix, excluding it..\n",
        "bad fix, excluding it..\n",
        "bad fix, excluding it.."
       ]
      },
      {
       "output_type": "stream",
       "stream": "stdout",
       "text": [
        "\n",
        "bad fix, excluding it.."
       ]
      },
      {
       "output_type": "stream",
       "stream": "stdout",
       "text": [
        "\n",
        "bad fix, excluding it..\n",
        "bad fix, excluding it..\n",
        "bad fix, excluding it..\n",
        "bad fix, excluding it..\n",
        "Merge loop finished in 7.92423510551 seconds.\n",
        "Before VI: 0.539385975908\n",
        "Smallest VI: 0.464978971559\n",
        "Sureness threshold: 0.929109334946\n",
        "488"
       ]
      },
      {
       "output_type": "stream",
       "stream": "stdout",
       "text": [
        " generated in 10.1658279896 seconds.\n",
        "Grouped into 122 patches in 0.00314593315125 seconds.\n",
        "bad fix, excluding it.."
       ]
      },
      {
       "output_type": "stream",
       "stream": "stdout",
       "text": [
        "\n",
        "bad fix, excluding it.."
       ]
      },
      {
       "output_type": "stream",
       "stream": "stdout",
       "text": [
        "\n",
        "bad fix, excluding it..\n",
        "bad fix, excluding it.."
       ]
      },
      {
       "output_type": "stream",
       "stream": "stdout",
       "text": [
        "\n",
        "bad fix, excluding it..\n",
        "bad fix, excluding it.."
       ]
      },
      {
       "output_type": "stream",
       "stream": "stdout",
       "text": [
        "\n",
        "bad fix, excluding it..\n",
        "bad fix, excluding it..\n",
        "bad fix, excluding it..\n",
        "bad fix, excluding it..\n",
        "bad fix, excluding it.."
       ]
      },
      {
       "output_type": "stream",
       "stream": "stdout",
       "text": [
        "\n",
        "bad fix, excluding it..\n",
        "bad fix, excluding it..\n",
        "bad fix, excluding it..\n",
        "bad fix, excluding it..\n",
        "bad fix, excluding it.."
       ]
      },
      {
       "output_type": "stream",
       "stream": "stdout",
       "text": [
        "\n",
        "Merge loop finished in 6.5204000473 seconds.\n",
        "Before VI: 0.504520787077\n",
        "Smallest VI: 0.442402071737\n",
        "Sureness threshold: 0.972494781017\n",
        "480"
       ]
      },
      {
       "output_type": "stream",
       "stream": "stdout",
       "text": [
        " generated in 10.0490341187 seconds.\n",
        "Grouped into 118 patches in 0.00308895111084 seconds.\n",
        "bad fix, excluding it.."
       ]
      },
      {
       "output_type": "stream",
       "stream": "stdout",
       "text": [
        "\n",
        "bad fix, excluding it.."
       ]
      },
      {
       "output_type": "stream",
       "stream": "stdout",
       "text": [
        "\n",
        "bad fix, excluding it..\n",
        "bad fix, excluding it..\n",
        "bad fix, excluding it.."
       ]
      },
      {
       "output_type": "stream",
       "stream": "stdout",
       "text": [
        "\n",
        "bad fix, excluding it..\n",
        "bad fix, excluding it.."
       ]
      },
      {
       "output_type": "stream",
       "stream": "stdout",
       "text": [
        "\n",
        "bad fix, excluding it.."
       ]
      },
      {
       "output_type": "stream",
       "stream": "stdout",
       "text": [
        "\n",
        "bad fix, excluding it..\n",
        "bad fix, excluding it..\n",
        "bad fix, excluding it..\n",
        "bad fix, excluding it..\n",
        "bad fix, excluding it.."
       ]
      },
      {
       "output_type": "stream",
       "stream": "stdout",
       "text": [
        "\n",
        "bad fix, excluding it..\n",
        "bad fix, excluding it..\n",
        "bad fix, excluding it..\n",
        "Merge loop finished in 8.84113693237 seconds.\n",
        "Before VI: 0.662753517153\n",
        "Smallest VI: 0.585350395271\n",
        "Sureness threshold: 0.763129353523\n",
        "460"
       ]
      },
      {
       "output_type": "stream",
       "stream": "stdout",
       "text": [
        " generated in 9.56764888763 seconds.\n",
        "Grouped into 113 patches in 0.00298285484314 seconds.\n",
        "bad fix, excluding it.."
       ]
      },
      {
       "output_type": "stream",
       "stream": "stdout",
       "text": [
        "\n",
        "bad fix, excluding it.."
       ]
      },
      {
       "output_type": "stream",
       "stream": "stdout",
       "text": [
        "\n",
        "bad fix, excluding it..\n",
        "bad fix, excluding it.."
       ]
      },
      {
       "output_type": "stream",
       "stream": "stdout",
       "text": [
        "\n",
        "bad fix, excluding it..\n",
        "bad fix, excluding it..\n",
        "bad fix, excluding it..\n",
        "bad fix, excluding it.."
       ]
      },
      {
       "output_type": "stream",
       "stream": "stdout",
       "text": [
        "\n",
        "bad fix, excluding it.."
       ]
      },
      {
       "output_type": "stream",
       "stream": "stdout",
       "text": [
        "\n",
        "bad fix, excluding it..\n",
        "bad fix, excluding it.."
       ]
      },
      {
       "output_type": "stream",
       "stream": "stdout",
       "text": [
        "\n",
        "bad fix, excluding it..\n",
        "bad fix, excluding it..\n",
        "bad fix, excluding it..\n",
        "bad fix, excluding it..\n",
        "bad fix, excluding it.."
       ]
      },
      {
       "output_type": "stream",
       "stream": "stdout",
       "text": [
        "\n",
        "Merge loop finished in 4.26916408539 seconds.\n",
        "Before VI: 0.865704145022\n",
        "Smallest VI: 0.848904206328\n",
        "Sureness threshold: 0.969289779663\n",
        "488"
       ]
      },
      {
       "output_type": "stream",
       "stream": "stdout",
       "text": [
        " generated in 10.3312251568 seconds.\n",
        "Grouped into 120 patches in 0.00313115119934 seconds.\n",
        "bad fix, excluding it.."
       ]
      },
      {
       "output_type": "stream",
       "stream": "stdout",
       "text": [
        "\n",
        "bad fix, excluding it.."
       ]
      },
      {
       "output_type": "stream",
       "stream": "stdout",
       "text": [
        "\n",
        "bad fix, excluding it.."
       ]
      },
      {
       "output_type": "stream",
       "stream": "stdout",
       "text": [
        "\n",
        "bad fix, excluding it.."
       ]
      },
      {
       "output_type": "stream",
       "stream": "stdout",
       "text": [
        "\n",
        "bad fix, excluding it.."
       ]
      },
      {
       "output_type": "stream",
       "stream": "stdout",
       "text": [
        "\n",
        "bad fix, excluding it.."
       ]
      },
      {
       "output_type": "stream",
       "stream": "stdout",
       "text": [
        "\n",
        "bad fix, excluding it.."
       ]
      },
      {
       "output_type": "stream",
       "stream": "stdout",
       "text": [
        "\n",
        "bad fix, excluding it.."
       ]
      },
      {
       "output_type": "stream",
       "stream": "stdout",
       "text": [
        "\n",
        "bad fix, excluding it..\n",
        "bad fix, excluding it.."
       ]
      },
      {
       "output_type": "stream",
       "stream": "stdout",
       "text": [
        "\n",
        "bad fix, excluding it.."
       ]
      },
      {
       "output_type": "stream",
       "stream": "stdout",
       "text": [
        "\n",
        "bad fix, excluding it..\n",
        "bad fix, excluding it..\n",
        "bad fix, excluding it..\n",
        "bad fix, excluding it..\n",
        "bad fix, excluding it.."
       ]
      },
      {
       "output_type": "stream",
       "stream": "stdout",
       "text": [
        "\n",
        "Merge loop finished in 8.38112807274 seconds.\n",
        "Before VI: 0.676249707958\n",
        "Smallest VI: 0.601358077156\n",
        "Sureness threshold: 0.759984493256\n",
        "540"
       ]
      },
      {
       "output_type": "stream",
       "stream": "stdout",
       "text": [
        " generated in 11.3811261654 seconds.\n",
        "Grouped into 135 patches in 0.00348091125488 seconds.\n",
        "bad fix, excluding it.."
       ]
      },
      {
       "output_type": "stream",
       "stream": "stdout",
       "text": [
        "\n",
        "bad fix, excluding it.."
       ]
      },
      {
       "output_type": "stream",
       "stream": "stdout",
       "text": [
        "\n",
        "bad fix, excluding it.."
       ]
      },
      {
       "output_type": "stream",
       "stream": "stdout",
       "text": [
        "\n",
        "bad fix, excluding it..\n",
        "bad fix, excluding it..\n",
        "bad fix, excluding it..\n",
        "bad fix, excluding it..\n",
        "bad fix, excluding it.."
       ]
      },
      {
       "output_type": "stream",
       "stream": "stdout",
       "text": [
        "\n",
        "bad fix, excluding it.."
       ]
      },
      {
       "output_type": "stream",
       "stream": "stdout",
       "text": [
        "\n",
        "bad fix, excluding it..\n",
        "bad fix, excluding it.."
       ]
      },
      {
       "output_type": "stream",
       "stream": "stdout",
       "text": [
        "\n",
        "bad fix, excluding it.."
       ]
      },
      {
       "output_type": "stream",
       "stream": "stdout",
       "text": [
        "\n",
        "bad fix, excluding it..\n",
        "bad fix, excluding it..\n",
        "bad fix, excluding it..\n",
        "bad fix, excluding it..\n",
        "bad fix, excluding it.."
       ]
      },
      {
       "output_type": "stream",
       "stream": "stdout",
       "text": [
        "\n",
        "bad fix, excluding it..\n",
        "Merge loop finished in 6.64608502388 seconds.\n",
        "Before VI: 0.713594300816\n",
        "Smallest VI: 0.648828837114\n",
        "Sureness threshold: 0.969431698322\n",
        "0.544327571669\n"
       ]
      }
     ],
     "prompt_number": 115
    },
    {
     "cell_type": "code",
     "collapsed": false,
     "input": [
      "print 'avg. good fixes', np.mean(good_fixes)\n",
      "print 'avg. bad fixes', np.mean(bad_fixes)"
     ],
     "language": "python",
     "metadata": {},
     "outputs": [
      {
       "output_type": "stream",
       "stream": "stdout",
       "text": [
        "avg. good fixes 16.7\n",
        "avg. bad fixes 16.0\n"
       ]
      }
     ],
     "prompt_number": 116
    },
    {
     "cell_type": "code",
     "collapsed": false,
     "input": [
      "Util.stats(good_fixes)"
     ],
     "language": "python",
     "metadata": {},
     "outputs": [
      {
       "output_type": "stream",
       "stream": "stdout",
       "text": [
        "  N:  10\n",
        "  Min:  10\n",
        "  Max:  23\n",
        "  Mean:  16.7\n",
        "  Median:  16.5\n",
        "  Std:  3.52278299076\n",
        "  Var:  12.41\n"
       ]
      }
     ],
     "prompt_number": 117
    },
    {
     "cell_type": "code",
     "collapsed": false,
     "input": [
      "Util.stats(bad_fixes)"
     ],
     "language": "python",
     "metadata": {},
     "outputs": [
      {
       "output_type": "stream",
       "stream": "stdout",
       "text": [
        "  N:  10\n",
        "  Min:  14\n",
        "  Max:  18\n",
        "  Mean:  16.0\n",
        "  Median:  16.0\n",
        "  Std:  1.18321595662\n",
        "  Var:  1.4\n"
       ]
      }
     ],
     "prompt_number": 118
    },
    {
     "cell_type": "code",
     "collapsed": false,
     "input": [
      "simulated_user_vi, gf, bf,mps  = fix_dojo_slice_user_simulated(networks[7],0, input_image, input_prob, input_rhoana,input_gold, error_rate=0.)\n",
      "simulated_user_vi_s.append(simulated_user_vi)\n"
     ],
     "language": "python",
     "metadata": {},
     "outputs": [
      {
       "output_type": "stream",
       "stream": "stdout",
       "text": [
        "464 generated in 10.1901431084 seconds.\n",
        "Grouped into 116 patches in 0.00293898582458 seconds.\n",
        "Start M"
       ]
      },
      {
       "output_type": "stream",
       "stream": "stdout",
       "text": [
        " 232\n",
        "M 232\n",
        "--------------------------------------------------------------------------------\n",
        "vi diff 0.00406829009503\n",
        "good fix"
       ]
      },
      {
       "output_type": "stream",
       "stream": "stdout",
       "text": [
        "\n",
        "size first label: 316\n",
        "size second label: 1107\n",
        "M"
       ]
      },
      {
       "output_type": "stream",
       "stream": "stdout",
       "text": [
        " 228\n",
        "--------------------------------------------------------------------------------\n",
        "vi diff 0.0125555194786\n",
        "good fix"
       ]
      },
      {
       "output_type": "stream",
       "stream": "stdout",
       "text": [
        "\n",
        "size first label: 3561\n",
        "size second label: 379\n",
        "M"
       ]
      },
      {
       "output_type": "stream",
       "stream": "stdout",
       "text": [
        " 224\n",
        "--------------------------------------------------------------------------------\n",
        "vi diff 0.0156385565549\n",
        "good fix"
       ]
      },
      {
       "output_type": "stream",
       "stream": "stdout",
       "text": [
        "\n",
        "size first label: 511\n",
        "size second label: 459\n",
        "M"
       ]
      },
      {
       "output_type": "stream",
       "stream": "stdout",
       "text": [
        " 218\n",
        "--------------------------------------------------------------------------------\n",
        "vi diff 0.00899472431527\n",
        "good fix"
       ]
      },
      {
       "output_type": "stream",
       "stream": "stdout",
       "text": [
        "\n",
        "size first label: 970\n",
        "size second label: 3940\n",
        "M"
       ]
      },
      {
       "output_type": "stream",
       "stream": "stdout",
       "text": [
        " 212\n",
        "--------------------------------------------------------------------------------\n",
        "vi diff 0.0176879876952\n",
        "good fix"
       ]
      },
      {
       "output_type": "stream",
       "stream": "stdout",
       "text": [
        "\n",
        "size first label: 2681\n",
        "size second label: 521\n",
        "M"
       ]
      },
      {
       "output_type": "stream",
       "stream": "stdout",
       "text": [
        " 206\n",
        "--------------------------------------------------------------------------------\n",
        "vi diff 0.0113885739495\n",
        "good fix"
       ]
      },
      {
       "output_type": "stream",
       "stream": "stdout",
       "text": [
        "\n",
        "size first label: 3202\n",
        "size second label: 4910\n",
        "M"
       ]
      },
      {
       "output_type": "stream",
       "stream": "stdout",
       "text": [
        " 200\n",
        "--------------------------------------------------------------------------------\n",
        "vi diff -0.00582124986338\n",
        "bad fix, excluding it..\n",
        "size first label: 1275\n",
        "size second label: 6795\n",
        "M 198\n",
        "--------------------------------------------------------------------------------\n",
        "vi diff -0.00949177223606\n",
        "bad fix, excluding it..\n",
        "size first label: 1423\n",
        "size second label: 7229\n",
        "M 196\n",
        "--------------------------------------------------------------------------------\n",
        "vi diff 0.014798267567\n",
        "good fix"
       ]
      },
      {
       "output_type": "stream",
       "stream": "stdout",
       "text": [
        "\n",
        "size first label: 306\n",
        "size second label: 390\n",
        "M"
       ]
      },
      {
       "output_type": "stream",
       "stream": "stdout",
       "text": [
        " 194\n",
        "--------------------------------------------------------------------------------\n",
        "vi diff 0.0262768474574\n",
        "good fix"
       ]
      },
      {
       "output_type": "stream",
       "stream": "stdout",
       "text": [
        "\n",
        "size first label: 8112\n",
        "size second label: 871\n",
        "M"
       ]
      },
      {
       "output_type": "stream",
       "stream": "stdout",
       "text": [
        " 188\n",
        "--------------------------------------------------------------------------------\n",
        "vi diff 0.0250720464611\n",
        "good fix"
       ]
      },
      {
       "output_type": "stream",
       "stream": "stdout",
       "text": [
        "\n",
        "size first label: 1266\n",
        "size second label: 462\n",
        "M"
       ]
      },
      {
       "output_type": "stream",
       "stream": "stdout",
       "text": [
        " 182\n",
        "--------------------------------------------------------------------------------\n",
        "vi diff -0.00893469217376\n",
        "bad fix, excluding it..\n",
        "size first label: 8983\n",
        "size second label: 3387\n",
        "M 180\n",
        "--------------------------------------------------------------------------------\n",
        "vi diff 0.0159893777218\n",
        "good fix"
       ]
      },
      {
       "output_type": "stream",
       "stream": "stdout",
       "text": [
        "\n",
        "size first label: 2123\n",
        "size second label: 1062\n",
        "M"
       ]
      },
      {
       "output_type": "stream",
       "stream": "stdout",
       "text": [
        " 174\n",
        "--------------------------------------------------------------------------------\n",
        "vi diff 0.00782195541618\n",
        "good fix"
       ]
      },
      {
       "output_type": "stream",
       "stream": "stdout",
       "text": [
        "\n",
        "size first label: 1307\n",
        "size second label: 5295\n",
        "M"
       ]
      },
      {
       "output_type": "stream",
       "stream": "stdout",
       "text": [
        " 172\n",
        "--------------------------------------------------------------------------------\n",
        "vi diff 0.00490079754906\n",
        "good fix"
       ]
      },
      {
       "output_type": "stream",
       "stream": "stdout",
       "text": [
        "\n",
        "size first label: 1275\n",
        "size second label: 553\n",
        "M"
       ]
      },
      {
       "output_type": "stream",
       "stream": "stdout",
       "text": [
        " 168\n",
        "--------------------------------------------------------------------------------\n",
        "vi diff 0.00370028372084\n",
        "good fix"
       ]
      },
      {
       "output_type": "stream",
       "stream": "stdout",
       "text": [
        "\n",
        "size first label: 696\n",
        "size second label: 1305\n",
        "M"
       ]
      },
      {
       "output_type": "stream",
       "stream": "stdout",
       "text": [
        " 164\n",
        "--------------------------------------------------------------------------------\n",
        "vi diff 0.00450853466295\n",
        "good fix"
       ]
      },
      {
       "output_type": "stream",
       "stream": "stdout",
       "text": [
        "\n",
        "size first label: 456\n",
        "size second label: 451\n",
        "M"
       ]
      },
      {
       "output_type": "stream",
       "stream": "stdout",
       "text": [
        " 158\n",
        "--------------------------------------------------------------------------------\n",
        "vi diff -0.0139142493867\n",
        "bad fix, excluding it..\n",
        "size first label: 1828\n",
        "size second label: 6795\n",
        "M 156\n",
        "--------------------------------------------------------------------------------\n",
        "vi diff -0.0102814494833\n",
        "bad fix, excluding it..\n",
        "size first label: 2103\n",
        "size second label: 2001\n",
        "M 154\n",
        "--------------------------------------------------------------------------------\n",
        "vi diff 0.00484746337714\n",
        "good fix"
       ]
      },
      {
       "output_type": "stream",
       "stream": "stdout",
       "text": [
        "\n",
        "size first label: 185\n",
        "size second label: 2623\n",
        "M"
       ]
      },
      {
       "output_type": "stream",
       "stream": "stdout",
       "text": [
        " 148\n",
        "--------------------------------------------------------------------------------\n",
        "vi diff -0.0435811491816\n",
        "bad fix, excluding it..\n",
        "size first label: 7562\n",
        "size second label: 4911\n",
        "M 146\n",
        "--------------------------------------------------------------------------------\n",
        "vi diff -0.0121819725839\n",
        "bad fix, excluding it..\n",
        "size first label: 3183\n",
        "size second label: 1828\n",
        "M 144\n",
        "--------------------------------------------------------------------------------\n",
        "vi diff -0.0120575904264\n",
        "bad fix, excluding it..\n",
        "size first label: 7400\n",
        "size second label: 1039\n",
        "M 142\n",
        "--------------------------------------------------------------------------------"
       ]
      },
      {
       "output_type": "stream",
       "stream": "stdout",
       "text": [
        "\n",
        "vi diff 0.00482764110272\n",
        "good fix"
       ]
      },
      {
       "output_type": "stream",
       "stream": "stdout",
       "text": [
        "\n",
        "size first label: 3722\n",
        "size second label: 516\n",
        "M"
       ]
      },
      {
       "output_type": "stream",
       "stream": "stdout",
       "text": [
        " 136\n",
        "--------------------------------------------------------------------------------\n",
        "vi diff 0.00212646956942\n",
        "good fix"
       ]
      },
      {
       "output_type": "stream",
       "stream": "stdout",
       "text": [
        "\n",
        "size first label: 650\n",
        "size second label: 8155\n",
        "M"
       ]
      },
      {
       "output_type": "stream",
       "stream": "stdout",
       "text": [
        " 134\n",
        "--------------------------------------------------------------------------------\n",
        "vi diff -0.0196268322116\n",
        "bad fix, excluding it..\n",
        "size first label: 6673\n",
        "size second label: 1828\n",
        "M 132\n",
        "--------------------------------------------------------------------------------\n",
        "vi diff 0.00387898156824\n",
        "good fix"
       ]
      },
      {
       "output_type": "stream",
       "stream": "stdout",
       "text": [
        "\n",
        "size first label: 3185\n",
        "size second label: 1703\n",
        "M"
       ]
      },
      {
       "output_type": "stream",
       "stream": "stdout",
       "text": [
        " 126\n",
        "--------------------------------------------------------------------------------\n",
        "vi diff -0.0307411200849\n",
        "bad fix, excluding it..\n",
        "size first label: 7562\n",
        "size second label: 2808\n",
        "M 124\n",
        "--------------------------------------------------------------------------------\n",
        "vi diff -0.0557579605381\n",
        "bad fix, excluding it..\n",
        "size first label: 7562\n",
        "size second label: 6602\n",
        "M 122\n",
        "--------------------------------------------------------------------------------\n",
        "vi diff -0.0266391376759\n",
        "bad fix, excluding it..\n",
        "size first label: 5376\n",
        "size second label: 2808\n",
        "M 120\n",
        "--------------------------------------------------------------------------------\n",
        "vi diff -0.00737720120804\n",
        "bad fix, excluding it..\n",
        "size first label: 2808\n",
        "size second label: 723\n",
        "M 118\n",
        "--------------------------------------------------------------------------------"
       ]
      },
      {
       "output_type": "stream",
       "stream": "stdout",
       "text": [
        "\n",
        "vi diff -0.00858349271326\n",
        "bad fix, excluding it..\n",
        "size first label: 4911\n",
        "size second label: 1069\n",
        "M 116\n",
        "--------------------------------------------------------------------------------\n",
        "vi diff -0.0178565449278\n",
        "bad fix, excluding it..\n",
        "size first label: 13345\n",
        "size second label: 1423\n",
        "M 114\n",
        "--------------------------------------------------------------------------------\n",
        "vi diff -0.0071111614085\n",
        "bad fix, excluding it..\n",
        "size first label: 4238\n",
        "size second label: 806\n",
        "M 112\n",
        "--------------------------------------------------------------------------------\n",
        "vi diff -0.00768753478136\n",
        "bad fix, excluding it..\n",
        "size first label: 8805\n",
        "size second label: 907\n",
        "M 110\n",
        "--------------------------------------------------------------------------------\n",
        "vi diff -0.0272778759827\n",
        "bad fix, excluding it..\n",
        "size first label: 4888\n",
        "size second label: 3387\n",
        "M 108\n",
        "--------------------------------------------------------------------------------"
       ]
      },
      {
       "output_type": "stream",
       "stream": "stdout",
       "text": [
        "\n",
        "vi diff -0.00385094516402\n",
        "bad fix, excluding it..\n",
        "size first label: 1728\n",
        "size second label: 8805\n",
        "M 106\n",
        "--------------------------------------------------------------------------------\n",
        "vi diff -0.0250912427739\n",
        "bad fix, excluding it..\n",
        "size first label: 6959\n",
        "size second label: 2001\n",
        "M 104\n",
        "--------------------------------------------------------------------------------\n",
        "vi diff -0.00289787504425\n",
        "bad fix, excluding it..\n",
        "size first label: 2001\n",
        "size second label: 806\n",
        "M 102\n",
        "--------------------------------------------------------------------------------\n",
        "vi diff -0.0403330250295\n",
        "bad fix, excluding it..\n",
        "size first label: 4888\n",
        "size second label: 7562\n",
        "M 100\n",
        "--------------------------------------------------------------------------------\n",
        "vi diff -0.00501460613113\n",
        "bad fix, excluding it..\n",
        "size first label: 1728\n",
        "size second label: 6959\n",
        "M 98\n",
        "--------------------------------------------------------------------------------"
       ]
      },
      {
       "output_type": "stream",
       "stream": "stdout",
       "text": [
        "\n",
        "vi diff -0.0150531349263\n",
        "bad fix, excluding it..\n",
        "size first label: 2001\n",
        "size second label: 3294\n",
        "M 96\n",
        "--------------------------------------------------------------------------------\n",
        "vi diff -0.00437558076346\n",
        "bad fix, excluding it..\n",
        "size first label: 1946\n",
        "size second label: 857\n",
        "M 94\n",
        "--------------------------------------------------------------------------------\n",
        "vi diff -0.0107893359263\n",
        "bad fix, excluding it..\n",
        "size first label: 4888\n",
        "size second label: 1040\n",
        "M 92\n",
        "--------------------------------------------------------------------------------\n",
        "vi diff -0.0331181924449\n",
        "bad fix, excluding it..\n",
        "size first label: 3183\n",
        "size second label: 6795\n",
        "M 90\n",
        "--------------------------------------------------------------------------------\n",
        "vi diff -0.0609868505287\n",
        "bad fix, excluding it..\n",
        "size first label: 6795\n",
        "size second label: 7400\n",
        "M 88\n",
        "--------------------------------------------------------------------------------"
       ]
      },
      {
       "output_type": "stream",
       "stream": "stdout",
       "text": [
        "\n",
        "vi diff -0.0550795393446\n",
        "bad fix, excluding it..\n",
        "size first label: 6795\n",
        "size second label: 7606\n",
        "M 86\n",
        "--------------------------------------------------------------------------------\n",
        "vi diff -0.0828321737344\n",
        "bad fix, excluding it..\n",
        "size first label: 13345\n",
        "size second label: 7562\n",
        "M 84\n",
        "--------------------------------------------------------------------------------\n",
        "vi diff -0.00469581320901\n",
        "bad fix, excluding it..\n",
        "size first label: 596\n",
        "size second label: 2808\n",
        "M 82\n",
        "--------------------------------------------------------------------------------\n",
        "vi diff -0.00908830261179\n",
        "bad fix, excluding it..\n",
        "size first label: 8983\n",
        "size second label: 596\n",
        "M 80\n",
        "--------------------------------------------------------------------------------\n",
        "vi diff -0.00441491464916\n",
        "bad fix, excluding it..\n",
        "size first label: 907\n",
        "size second label: 4238\n",
        "M 78\n",
        "--------------------------------------------------------------------------------"
       ]
      },
      {
       "output_type": "stream",
       "stream": "stdout",
       "text": [
        "\n",
        "vi diff -0.0241195093573\n",
        "bad fix, excluding it..\n",
        "size first label: 4911\n",
        "size second label: 2808\n",
        "M 76\n",
        "--------------------------------------------------------------------------------\n",
        "vi diff -0.00491987034063\n",
        "bad fix, excluding it..\n",
        "size first label: 6959\n",
        "size second label: 907\n",
        "M 74\n",
        "--------------------------------------------------------------------------------\n",
        "vi diff -0.0151188055914\n",
        "bad fix, excluding it..\n",
        "size first label: 7562\n",
        "size second label: 1069\n",
        "M 72\n",
        "--------------------------------------------------------------------------------\n",
        "vi diff -0.0243855088736\n",
        "bad fix, excluding it..\n",
        "size first label: 4238\n",
        "size second label: 3294\n",
        "M 70\n",
        "--------------------------------------------------------------------------------\n",
        "vi diff -0.00687979749837\n",
        "bad fix, excluding it..\n",
        "size first label: 907\n",
        "size second label: 7400\n",
        "M 68\n",
        "--------------------------------------------------------------------------------"
       ]
      },
      {
       "output_type": "stream",
       "stream": "stdout",
       "text": [
        "\n",
        "vi diff -0.0169300165286\n",
        "bad fix, excluding it..\n",
        "size first label: 4238\n",
        "size second label: 2001\n",
        "M 66\n",
        "--------------------------------------------------------------------------------\n",
        "vi diff -0.0055513729194\n",
        "bad fix, excluding it..\n",
        "size first label: 806\n",
        "size second label: 3294\n",
        "M 64\n",
        "--------------------------------------------------------------------------------\n",
        "vi diff -0.033452921589\n",
        "bad fix, excluding it..\n",
        "size first label: 8983\n",
        "size second label: 2808\n",
        "M 62\n",
        "--------------------------------------------------------------------------------\n",
        "vi diff -0.0590807704641\n",
        "bad fix, excluding it..\n",
        "size first label: 7400\n",
        "size second label: 7562\n",
        "M 60\n",
        "--------------------------------------------------------------------------------\n",
        "vi diff -0.00941332333705\n",
        "bad fix, excluding it..\n",
        "size first label: 3387\n",
        "size second label: 1040\n",
        "M 58\n",
        "--------------------------------------------------------------------------------"
       ]
      },
      {
       "output_type": "stream",
       "stream": "stdout",
       "text": [
        "\n",
        "vi diff -0.0302185285451\n",
        "bad fix, excluding it..\n",
        "size first label: 4238\n",
        "size second label: 4888\n",
        "M 56\n",
        "--------------------------------------------------------------------------------\n",
        "vi diff -0.0519901441932\n",
        "bad fix, excluding it..\n",
        "size first label: 7229\n",
        "size second label: 6602\n",
        "M 54\n",
        "--------------------------------------------------------------------------------\n",
        "vi diff -0.00732879987732\n",
        "bad fix, excluding it..\n",
        "size first label: 5376\n",
        "size second label: 596\n",
        "M 52\n",
        "--------------------------------------------------------------------------------\n",
        "vi diff -0.0303898568381\n",
        "bad fix, excluding it..\n",
        "size first label: 6959\n",
        "size second label: 4238\n",
        "M 50\n",
        "--------------------------------------------------------------------------------\n",
        "vi diff -0.0802116675515\n",
        "bad fix, excluding it..\n",
        "size first label: 7606\n",
        "size second label: 13345\n",
        "M 48\n",
        "--------------------------------------------------------------------------------"
       ]
      },
      {
       "output_type": "stream",
       "stream": "stdout",
       "text": [
        "\n",
        "vi diff -0.0141512105434\n",
        "bad fix, excluding it..\n",
        "size first label: 6602\n",
        "size second label: 1069\n",
        "M 46\n",
        "--------------------------------------------------------------------------------\n",
        "vi diff -0.0119706512259\n",
        "bad fix, excluding it..\n",
        "size first label: 7562\n",
        "size second label: 1039\n",
        "M 44\n",
        "--------------------------------------------------------------------------------\n",
        "vi diff -0.0860749281019\n",
        "bad fix, excluding it..\n",
        "size first label: 7400\n",
        "size second label: 13345\n",
        "M 42\n",
        "--------------------------------------------------------------------------------\n",
        "vi diff -0.0473966108473\n",
        "bad fix, excluding it..\n",
        "size first label: 4888\n",
        "size second label: 8983\n",
        "M 40\n",
        "--------------------------------------------------------------------------------"
       ]
      },
      {
       "output_type": "stream",
       "stream": "stdout",
       "text": [
        "\n",
        "vi diff -0.0349338555927\n",
        "bad fix, excluding it..\n",
        "size first label: 4888\n",
        "size second label: 5376\n",
        "M 38\n",
        "--------------------------------------------------------------------------------\n",
        "vi diff -0.0679305489206\n",
        "bad fix, excluding it..\n",
        "size first label: 8805\n",
        "size second label: 6959\n",
        "M 36\n",
        "--------------------------------------------------------------------------------\n",
        "vi diff -0.0538485880495\n",
        "bad fix, excluding it..\n",
        "size first label: 7562\n",
        "size second label: 7229\n",
        "M 34\n",
        "--------------------------------------------------------------------------------\n",
        "vi diff -0.0845802587109\n",
        "bad fix, excluding it..\n",
        "size first label: 13345\n",
        "size second label: 7229\n",
        "M 32\n",
        "--------------------------------------------------------------------------------\n",
        "vi diff -0.0137100610506\n",
        "bad fix, excluding it..\n",
        "size first label: 3387\n",
        "size second label: 1946\n",
        "M "
       ]
      },
      {
       "output_type": "stream",
       "stream": "stdout",
       "text": [
        "30\n",
        "--------------------------------------------------------------------------------\n",
        "vi diff -0.0176320991046\n",
        "bad fix, excluding it..\n",
        "size first label: 13345\n",
        "size second label: 1039\n",
        "M 28\n",
        "--------------------------------------------------------------------------------\n",
        "vi diff -0.0383181779061\n",
        "bad fix, excluding it..\n",
        "size first label: 7400\n",
        "size second label: 4888\n",
        "M 26\n",
        "--------------------------------------------------------------------------------\n",
        "vi diff -0.027376153128\n",
        "bad fix, excluding it..\n",
        "size first label: 1828\n",
        "size second label: 7606\n",
        "M 24\n",
        "--------------------------------------------------------------------------------\n",
        "vi diff -0.0694479147465\n",
        "bad fix, excluding it..\n",
        "size first label: 6795\n",
        "size second label: 13345\n",
        "M 22\n",
        "--------------------------------------------------------------------------------"
       ]
      },
      {
       "output_type": "stream",
       "stream": "stdout",
       "text": [
        "\n",
        "vi diff -0.0627682371125\n",
        "bad fix, excluding it..\n",
        "size first label: 8805\n",
        "size second label: 6795\n",
        "M 20\n",
        "--------------------------------------------------------------------------------\n",
        "vi diff -0.066834963736\n",
        "bad fix, excluding it..\n",
        "size first label: 8805\n",
        "size second label: 7400\n",
        "M 18\n",
        "--------------------------------------------------------------------------------\n",
        "vi diff -0.0477950831274\n",
        "bad fix, excluding it..\n",
        "size first label: 7562\n",
        "size second label: 5376\n",
        "M 16\n",
        "--------------------------------------------------------------------------------\n",
        "vi diff -0.0233861283356\n",
        "bad fix, excluding it..\n",
        "size first label: 4888\n",
        "size second label: 3294\n",
        "M 14\n",
        "--------------------------------------------------------------------------------\n",
        "vi diff -0.0385992661136\n",
        "bad fix, excluding it..\n",
        "size first label: 7400\n",
        "size second label: 4238\n",
        "M 12\n",
        "--------------------------------------------------------------------------------"
       ]
      },
      {
       "output_type": "stream",
       "stream": "stdout",
       "text": [
        "\n",
        "vi diff -0.039841837968\n",
        "bad fix, excluding it..\n",
        "size first label: 3183\n",
        "size second label: 8805\n",
        "M 10\n",
        "--------------------------------------------------------------------------------\n",
        "vi diff -0.00533635013957\n",
        "bad fix, excluding it..\n",
        "size first label: 3387\n",
        "size second label: 857\n",
        "M 8\n",
        "--------------------------------------------------------------------------------\n",
        "vi diff -0.0334414029603\n",
        "bad fix, excluding it..\n",
        "size first label: 2966\n",
        "size second label: 6959\n",
        "M 6\n",
        "--------------------------------------------------------------------------------\n",
        "vi diff -0.0237232360672\n",
        "bad fix, excluding it..\n",
        "size first label: 6959\n",
        "size second label: 2103\n",
        "M 4\n",
        "--------------------------------------------------------------------------------\n",
        "vi diff -0.0150596900159\n",
        "bad fix, excluding it..\n",
        "size first label: 2966\n",
        "size second label: 2103\n",
        "M 2\n",
        "--------------------------------------------------------------------------------"
       ]
      },
      {
       "output_type": "stream",
       "stream": "stdout",
       "text": [
        "\n",
        "vi diff -0.0471087465175\n",
        "bad fix, excluding it..\n",
        "size first label: 5376\n",
        "size second label: 8983\n",
        "Merge loop finished in 7.21133494377 seconds.\n",
        "Before VI: 0.507538577929\n",
        "Smallest VI: 0.481261730471\n",
        "Sureness threshold: 0.880719780922\n"
       ]
      },
      {
       "metadata": {},
       "output_type": "display_data",
       "png": "[encoded data removed]",
       "text": [
        "<matplotlib.figure.Figure at 0x112838dd0>"
       ]
      },
      {
       "metadata": {},
       "output_type": "display_data",
       "png": "[encoded data removed]",
       "text": [
        "<matplotlib.figure.Figure at 0x1164e9290>"
       ]
      },
      {
       "metadata": {},
       "output_type": "display_data",
       "png": "[encoded data removed]",
       "text": [
        "<matplotlib.figure.Figure at 0x11433ab50>"
       ]
      },
      {
       "metadata": {},
       "output_type": "display_data",
       "png": "[encoded data removed]",
       "text": [
        "<matplotlib.figure.Figure at 0x113837050>"
       ]
      },
      {
       "metadata": {},
       "output_type": "display_data",
       "png": "[encoded data removed]",
       "text": [
        "<matplotlib.figure.Figure at 0x116a8d510>"
       ]
      },
      {
       "metadata": {},
       "output_type": "display_data",
       "png": "[encoded data removed]",
       "text": [
        "<matplotlib.figure.Figure at 0x1149f60d0>"
       ]
      },
      {
       "metadata": {},
       "output_type": "display_data",
       "png": "[encoded data removed]",
       "text": [
        "<matplotlib.figure.Figure at 0x116463b10>"
       ]
      },
      {
       "metadata": {},
       "output_type": "display_data",
       "png": "[encoded data removed]",
       "text": [
        "<matplotlib.figure.Figure at 0x116546910>"
       ]
      },
      {
       "metadata": {},
       "output_type": "display_data",
       "png": "[encoded data removed]",
       "text": [
        "<matplotlib.figure.Figure at 0x116491490>"
       ]
      },
      {
       "metadata": {},
       "output_type": "display_data",
       "png": "[encoded data removed]",
       "text": [
        "<matplotlib.figure.Figure at 0x116692450>"
       ]
      },
      {
       "metadata": {},
       "output_type": "display_data",
       "png": "[encoded data removed]",
       "text": [
        "<matplotlib.figure.Figure at 0x11283cb10>"
       ]
      },
      {
       "metadata": {},
       "output_type": "display_data",
       "png": "[encoded data removed]",
       "text": [
        "<matplotlib.figure.Figure at 0x1169603d0>"
       ]
      },
      {
       "metadata": {},
       "output_type": "display_data",
       "png": "[encoded data removed]",
       "text": [
        "<matplotlib.figure.Figure at 0x1169fa790>"
       ]
      },
      {
       "metadata": {},
       "output_type": "display_data",
       "png": "[encoded data removed]",
       "text": [
        "<matplotlib.figure.Figure at 0x117601f50>"
       ]
      },
      {
       "metadata": {},
       "output_type": "display_data",
       "png": "[encoded data removed]",
       "text": [
        "<matplotlib.figure.Figure at 0x1176258d0>"
       ]
      },
      {
       "metadata": {},
       "output_type": "display_data",
       "png": "[encoded data removed]",
       "text": [
        "<matplotlib.figure.Figure at 0x114e442d0>"
       ]
      },
      {
       "metadata": {},
       "output_type": "display_data",
       "png": "[encoded data removed]",
       "text": [
        "<matplotlib.figure.Figure at 0x117af2c50>"
       ]
      },
      {
       "metadata": {},
       "output_type": "display_data",
       "png": "[encoded data removed]",
       "text": [
        "<matplotlib.figure.Figure at 0x1179f5590>"
       ]
      }
     ],
     "prompt_number": 171
    },
    {
     "cell_type": "code",
     "collapsed": false,
     "input": [
      "np.mean(bf)"
     ],
     "language": "python",
     "metadata": {},
     "outputs": [
      {
       "metadata": {},
       "output_type": "pyout",
       "prompt_number": 148,
       "text": [
        "72.0"
       ]
      }
     ],
     "prompt_number": 148
    },
    {
     "cell_type": "code",
     "collapsed": false,
     "input": [
      "np.mean(gf)"
     ],
     "language": "python",
     "metadata": {},
     "outputs": [
      {
       "metadata": {},
       "output_type": "pyout",
       "prompt_number": 149,
       "text": [
        "18.0"
       ]
      }
     ],
     "prompt_number": 149
    },
    {
     "cell_type": "code",
     "collapsed": false,
     "input": [],
     "language": "python",
     "metadata": {},
     "outputs": []
    },
    {
     "cell_type": "code",
     "collapsed": false,
     "input": [
      "best_merged = Util.merge_steps(input_rhoana[0],mps, best=simulated_user_vi.index(min(simulated_user_vi)),store=True)"
     ],
     "language": "python",
     "metadata": {},
     "outputs": [
      {
       "ename": "AttributeError",
       "evalue": "'float' object has no attribute 'index'",
       "output_type": "pyerr",
       "traceback": [
        "\u001b[0;31m---------------------------------------------------------------------------\u001b[0m\n\u001b[0;31mAttributeError\u001b[0m                            Traceback (most recent call last)",
        "\u001b[0;32m<ipython-input-176-31e9633e6133>\u001b[0m in \u001b[0;36m<module>\u001b[0;34m()\u001b[0m\n\u001b[0;32m----> 1\u001b[0;31m \u001b[0mbest_merged\u001b[0m \u001b[0;34m=\u001b[0m \u001b[0mUtil\u001b[0m\u001b[0;34m.\u001b[0m\u001b[0mmerge_steps\u001b[0m\u001b[0;34m(\u001b[0m\u001b[0minput_rhoana\u001b[0m\u001b[0;34m[\u001b[0m\u001b[0;36m0\u001b[0m\u001b[0;34m]\u001b[0m\u001b[0;34m,\u001b[0m\u001b[0mmps\u001b[0m\u001b[0;34m,\u001b[0m \u001b[0mbest\u001b[0m\u001b[0;34m=\u001b[0m\u001b[0msimulated_user_vi\u001b[0m\u001b[0;34m.\u001b[0m\u001b[0mindex\u001b[0m\u001b[0;34m(\u001b[0m\u001b[0mmin\u001b[0m\u001b[0;34m(\u001b[0m\u001b[0msimulated_user_vi\u001b[0m\u001b[0;34m)\u001b[0m\u001b[0;34m)\u001b[0m\u001b[0;34m,\u001b[0m\u001b[0mstore\u001b[0m\u001b[0;34m=\u001b[0m\u001b[0mTrue\u001b[0m\u001b[0;34m)\u001b[0m\u001b[0;34m\u001b[0m\u001b[0m\n\u001b[0m",
        "\u001b[0;31mAttributeError\u001b[0m: 'float' object has no attribute 'index'"
       ]
      }
     ],
     "prompt_number": 176
    },
    {
     "cell_type": "code",
     "collapsed": false,
     "input": [
      "Util.view(best_merged, large=True)"
     ],
     "language": "python",
     "metadata": {},
     "outputs": [
      {
       "metadata": {},
       "output_type": "display_data",
       "png": "[encoded data removed]",
       "text": [
        "<matplotlib.figure.Figure at 0x113659090>"
       ]
      }
     ],
     "prompt_number": 175
    },
    {
     "cell_type": "code",
     "collapsed": false,
     "input": [
      "last_merged = Util.merge_steps(input_rhoana[0],mps, best=len(mps)-1, store=True)"
     ],
     "language": "python",
     "metadata": {},
     "outputs": [],
     "prompt_number": 154
    },
    {
     "cell_type": "code",
     "collapsed": false,
     "input": [
      "Util.view(input_rhoana[0]-best_merged, large=True)"
     ],
     "language": "python",
     "metadata": {},
     "outputs": [
      {
       "metadata": {},
       "output_type": "display_data",
       "png": "[encoded data removed]",
       "text": [
        "<matplotlib.figure.Figure at 0x1137b7a90>"
       ]
      }
     ],
     "prompt_number": 167
    },
    {
     "cell_type": "code",
     "collapsed": false,
     "input": [
      "Util.view(input_gold[0], large=True)"
     ],
     "language": "python",
     "metadata": {},
     "outputs": [
      {
       "metadata": {},
       "output_type": "display_data",
       "png": "[encoded data removed]",
       "text": [
        "<matplotlib.figure.Figure at 0x11421a990>"
       ]
      }
     ],
     "prompt_number": 159
    },
    {
     "cell_type": "code",
     "collapsed": false,
     "input": [
      "automatic_vi = fix_dojo_slice(networks[7],0, input_image, input_prob, input_rhoana,input_gold)"
     ],
     "language": "python",
     "metadata": {},
     "outputs": [
      {
       "output_type": "stream",
       "stream": "stdout",
       "text": [
        "464 generated in 10.257281065 seconds.\n",
        "Grouped into 116 patches in 0.00296807289124 seconds.\n",
        "Merge loop finished in"
       ]
      },
      {
       "output_type": "stream",
       "stream": "stdout",
       "text": [
        " 20.5538561344 seconds.\n",
        "Before VI: 0.507538577929\n",
        "Smallest VI: 0.489850590234\n",
        "Sureness threshold: 0.958553254604\n"
       ]
      }
     ],
     "prompt_number": 98
    },
    {
     "cell_type": "code",
     "collapsed": false,
     "input": [
      "fix_dojo_slice_user_simulated(networks[7],i, input_image, input_prob, input_rhoana,input_gold, error_rate=er)"
     ],
     "language": "python",
     "metadata": {},
     "outputs": []
    },
    {
     "cell_type": "code",
     "collapsed": false,
     "input": [
      "Util.view(s, large=True)"
     ],
     "language": "python",
     "metadata": {},
     "outputs": [
      {
       "metadata": {},
       "output_type": "display_data",
       "png": "[encoded data removed]",
       "text": [
        "<matplotlib.figure.Figure at 0x11244a990>"
       ]
      }
     ],
     "prompt_number": 32
    },
    {
     "cell_type": "code",
     "collapsed": false,
     "input": [
      "Util.view(input_rhoana[0], large=True)"
     ],
     "language": "python",
     "metadata": {},
     "outputs": [
      {
       "metadata": {},
       "output_type": "display_data",
       "png": "[encoded data removed]",
       "text": [
        "<matplotlib.figure.Figure at 0x112430cd0>"
       ]
      }
     ],
     "prompt_number": 33
    },
    {
     "cell_type": "code",
     "collapsed": false,
     "input": [
      "len(input_rhoana[0]==100)"
     ],
     "language": "python",
     "metadata": {},
     "outputs": [
      {
       "metadata": {},
       "output_type": "pyout",
       "prompt_number": 128,
       "text": [
        "474"
       ]
      }
     ],
     "prompt_number": 128
    },
    {
     "cell_type": "code",
     "collapsed": false,
     "input": [
      "len(np.where(input_rhoana[0] == 1)[0])"
     ],
     "language": "python",
     "metadata": {},
     "outputs": [
      {
       "metadata": {},
       "output_type": "pyout",
       "prompt_number": 132,
       "text": [
        "505"
       ]
      }
     ],
     "prompt_number": 132
    },
    {
     "cell_type": "code",
     "collapsed": false,
     "input": [
      "len(Util.get_histogram(input_rhoana[0]))"
     ],
     "language": "python",
     "metadata": {},
     "outputs": [
      {
       "metadata": {},
       "output_type": "pyout",
       "prompt_number": 137,
       "text": [
        "85"
       ]
      }
     ],
     "prompt_number": 137
    },
    {
     "cell_type": "code",
     "collapsed": false,
     "input": [
      "combinations = {}\n",
      "for l in range(1,len(Util.get_histogram(input_rhoana[0]))):\n",
      "    for n in range(Util.grab_neighbors(input_rhoana[0], l)):\n",
      "        if n == 0:\n",
      "            continue\n",
      "            \n",
      "        minlabel = \n",
      "            "
     ],
     "language": "python",
     "metadata": {},
     "outputs": []
    }
   ],
   "metadata": {}
  }
 ]
}