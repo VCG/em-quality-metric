{
 "metadata": {
  "name": "",
  "signature": "sha256:3bad9cc7ca8c6b8bf275866f067899039cb5aeeacb48138a8ac68e56316d6c0c"
 },
 "nbformat": 3,
 "nbformat_minor": 0,
 "worksheets": [
  {
   "cells": [
    {
     "cell_type": "code",
     "collapsed": false,
     "input": [
      "%load_ext autoreload\n",
      "%autoreload 2\n",
      "\n",
      "from cnn import CNN\n",
      "from experiment import Experiment\n",
      "from util import Util\n",
      "from patch import Patch\n",
      "from fixer import Fixer\n",
      "from uglify import Uglify\n",
      "\n",
      "import mahotas as mh\n",
      "import numpy as np\n",
      "\n",
      "from matplotlib.pyplot import imshow\n",
      "import matplotlib.pyplot as plt\n",
      "%matplotlib inline"
     ],
     "language": "python",
     "metadata": {},
     "outputs": [
      {
       "output_type": "stream",
       "stream": "stderr",
       "text": [
        "Using gpu device 0: GeForce GTX TITAN (CNMeM is disabled)\n"
       ]
      }
     ],
     "prompt_number": 1
    },
    {
     "cell_type": "code",
     "collapsed": false,
     "input": [
      "cnn = CNN('8b33e516-2311-4892-82f9-4e6079c261f8', 'patches_4th_10k')"
     ],
     "language": "python",
     "metadata": {},
     "outputs": [
      {
       "output_type": "stream",
       "stream": "stdout",
       "text": [
        "Loading ['/Volumes/DATA1/split_cnn/patches_4th_10k/8b33e516-2311-4892-82f9-4e6079c261f8/configuration.txt']\n",
        "Loading ['/Volumes/DATA1/split_cnn/patches_4th_10k/8b33e516-2311-4892-82f9-4e6079c261f8/network_19.p']\n"
       ]
      },
      {
       "output_type": "stream",
       "stream": "stderr",
       "text": [
        "/Users/d/Library/Python/2.7/lib/python/site-packages/theano/tensor/nnet/__init__.py:111: UserWarning: The `image_shape` keyword argument to `tensor.nnet.conv2d` is deprecated, it has been renamed to `input_shape`.\n",
        "  warnings.warn(\"The `image_shape` keyword argument to \"\n"
       ]
      }
     ],
     "prompt_number": 2
    },
    {
     "cell_type": "code",
     "collapsed": false,
     "input": [
      "import time\n",
      "\n",
      "for i in range(5):\n",
      "    t0 = time.time()\n",
      "    vis, vi_diffs, surenesses, merge_pairs = Experiment.run_split_test(cnn,\n",
      "                                                                   data='gt',\n",
      "                                                                   oversampling=True,\n",
      "                                                                   smallest_first=True,\n",
      "                                                                   bbox=[0,1024,0,1024])\n",
      "    print 'Ran in', time.time()-t0, 'seconds.'"
     ],
     "language": "python",
     "metadata": {},
     "outputs": []
    },
    {
     "cell_type": "code",
     "collapsed": false,
     "input": [
      "import time\n",
      "\n",
      "for i in range(5):\n",
      "    t0 = time.time()\n",
      "    vis, vi_diffs, surenesses, merge_pairs = Experiment.run_split_test(cnn,\n",
      "                                                                   data='rhoana',\n",
      "                                                                   oversampling=True,\n",
      "                                                                   smallest_first=True,\n",
      "                                                                   bbox=[0,1024,0,1024])\n",
      "    print 'Ran in', time.time()-t0, 'seconds.'"
     ],
     "language": "python",
     "metadata": {},
     "outputs": []
    },
    {
     "cell_type": "code",
     "collapsed": false,
     "input": [],
     "language": "python",
     "metadata": {},
     "outputs": []
    }
   ],
   "metadata": {}
  }
 ]
}