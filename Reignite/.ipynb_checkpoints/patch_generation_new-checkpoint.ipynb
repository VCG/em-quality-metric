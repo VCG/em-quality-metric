{
 "metadata": {
  "name": "",
  "signature": "sha256:b273f96b86866c7cde0f35f3c82add9f347384ca4956011520f2508651e9363a"
 },
 "nbformat": 3,
 "nbformat_minor": 0,
 "worksheets": [
  {
   "cells": [
    {
     "cell_type": "code",
     "collapsed": false,
     "input": [
      "%load_ext autoreload\n",
      "%autoreload 2\n",
      "\n",
      "import os\n",
      "import numpy as np\n",
      "import time\n",
      "\n",
      "from patch import Patch\n",
      "from uglify import Uglify\n",
      "from util import Util\n",
      "from generator import Generator\n",
      "\n",
      "from matplotlib.pyplot import imshow\n",
      "import matplotlib.pyplot as plt\n",
      "%matplotlib inline"
     ],
     "language": "python",
     "metadata": {},
     "outputs": [
      {
       "output_type": "stream",
       "stream": "stdout",
       "text": [
        "The autoreload extension is already loaded. To reload it, use:\n",
        "  %reload_ext autoreload\n"
       ]
      }
     ],
     "prompt_number": 92
    },
    {
     "cell_type": "code",
     "collapsed": false,
     "input": [
      "\n",
      "DATA_PATH = '/Volumes/DATA1/EMQM_DATA/ac3x75/'\n",
      "GOLD_PATH = os.path.join(DATA_PATH,'gold/')\n",
      "IMAGE_PATH = os.path.join(DATA_PATH,'input/')\n",
      "PROB_PATH = os.path.join(DATA_PATH,'prob/')\n",
      "PATCH_PATH = os.path.join(DATA_PATH,'patches_4th/')\n",
      "\n"
     ],
     "language": "python",
     "metadata": {},
     "outputs": [],
     "prompt_number": 2
    },
    {
     "cell_type": "code",
     "collapsed": false,
     "input": [
      "def generate_patches(_type, start_slice, end_slice, count):\n",
      "\n",
      "    #\n",
      "    # patches\n",
      "    #\n",
      "    NO_PATCHES = count\n",
      "    \n",
      "    if _type == 'split':\n",
      "        #_type = Generator.generate_split_error\n",
      "        \n",
      "        p_target = np.ones(NO_PATCHES)\n",
      "    elif _type == 'correct':\n",
      "        #_type = Generator.generate_correct\n",
      "        \n",
      "        \n",
      "        \n",
      "        p_target = np.zeros(NO_PATCHES)        \n",
      "\n",
      "\n",
      "    patches = 0\n",
      "    data = []\n",
      "\n",
      "    PATCH_BYTES = 75*75\n",
      "    p_image = np.zeros((NO_PATCHES, PATCH_BYTES),dtype=np.uint8)\n",
      "    p_prob = np.zeros((NO_PATCHES, PATCH_BYTES),dtype=np.uint8)\n",
      "    p_binary = np.zeros((NO_PATCHES, PATCH_BYTES),dtype=np.bool)\n",
      "    p_merged_array = np.zeros((NO_PATCHES, PATCH_BYTES),dtype=np.bool)\n",
      "    p_dyn_obj = np.zeros((NO_PATCHES, PATCH_BYTES),dtype=np.bool)\n",
      "    p_dyn_bnd = np.zeros((NO_PATCHES, PATCH_BYTES),dtype=np.bool)\n",
      "    p_border_overlap = np.zeros((NO_PATCHES, PATCH_BYTES),dtype=np.bool)\n",
      "\n",
      "#    max_per_slice = int(count / (end_slice - start_slice)) + 1\n",
      "#    print 'Max per slice', max_per_slice\n",
      "\n",
      "    requested_per_slice = int(NO_PATCHES / (end_slice - start_slice))\n",
      "\n",
      "    for z in range(start_slice, end_slice):\n",
      "\n",
      "        t0 = time.time()\n",
      "        print 'working on slice', z\n",
      "        input_image, input_prob, input_gold, input_rhoana = Util.read_section(str(z).zfill(2), keep_zeros=True)\n",
      "\n",
      "        if _type == 'split':\n",
      "            \n",
      "            # uglify and patchify the slice\n",
      "            patches = Uglify.split_and_patchify(input_image, input_prob, input_gold, n=3, max=requested_per_slice, sample_rate=10)\n",
      "            \n",
      "        elif _type == 'correct':\n",
      "            \n",
      "            # just patchify\n",
      "            patches = Patch.patchify(input_image, input_prob, input_gold, sample_rate=10, max=requested_per_slice, oversampling=True, ignore_zero_neighbor=False)\n",
      "        \n",
      "        \n",
      "        real_no_patches = len(patches)\n",
      "        print 'generated', real_no_patches\n",
      "        if real_no_patches < requested_per_slice:\n",
      "            # duplicate a bunch of patches to match the requested number\n",
      "            patches_missing = requested_per_slice - real_no_patches\n",
      "            \n",
      "            copy_factor = int(patches_missing / real_no_patches) + 1\n",
      "            for c in range(copy_factor):\n",
      "                patches += patches\n",
      "                \n",
      "            print 'extended to', len(patches)\n",
      "            \n",
      "        patches = patches[0:requested_per_slice]\n",
      "            \n",
      "\n",
      "        for i, p in enumerate(patches):\n",
      "\n",
      "            p_image[i] = p['image'].ravel()\n",
      "            p_prob[i] = p['prob'].ravel()\n",
      "            p_binary[i] = p['binary'].ravel()\n",
      "            p_merged_array[i] = p['merged_array'].ravel()\n",
      "            p_dyn_obj[i] = p['dyn_obj'].ravel()\n",
      "            p_dyn_bnd[i] = p['dyn_bnd'].ravel()\n",
      "            p_border_overlap[i] = p['border_overlap'].ravel()\n",
      "\n",
      "        total = time.time() - t0\n",
      "        print total, 'seconds for', len(patches), _type, 'patches'\n",
      "\n",
      "    \n",
      "    return p_image, p_prob, p_binary, p_merged_array, p_dyn_obj, p_dyn_bnd, p_border_overlap, p_target\n",
      "\n",
      "\n",
      "\n",
      "def shuffle_in_unison_inplace(a, b, c, d, e, f, g, h):\n",
      "    assert len(a) == len(b)\n",
      "    p = np.random.permutation(len(a))\n",
      "    return a[p], b[p], c[p], d[p], e[p], f[p], g[p], h[p]\n",
      "\n",
      "\n",
      "\n",
      "def run(start_slice, end_slice, count, filename):\n",
      "    \n",
      "    if not os.path.exists(PATCH_PATH):\n",
      "        os.makedirs(PATCH_PATH)\n",
      "    \n",
      "    correct = generate_patches('correct', start_slice, end_slice, count)\n",
      "    split = generate_patches('split', start_slice, end_slice, count)\n",
      "    \n",
      "    # concatenate arrays\n",
      "    combined_images = np.concatenate((correct[0], split[0]))\n",
      "    combined_probs = np.concatenate((correct[1], split[1]))\n",
      "    combined_binarys = np.concatenate((correct[2], split[2]))\n",
      "    combined_merged_arrays = np.concatenate((correct[3], split[3]))\n",
      "    combined_dyn_objs = np.concatenate((correct[4], split[4]))\n",
      "    combined_dyn_bnds = np.concatenate((correct[5], split[5]))\n",
      "    combined_border_overlaps = np.concatenate((correct[6], split[6]))\n",
      "    combined_targets = np.concatenate((correct[7], split[7]))\n",
      "    \n",
      "    shuffled = shuffle_in_unison_inplace(combined_images,\n",
      "                                         combined_probs,\n",
      "                                         combined_binarys,\n",
      "                                         combined_merged_arrays,\n",
      "                                         combined_dyn_objs,\n",
      "                                         combined_dyn_bnds,\n",
      "                                         combined_border_overlaps,\n",
      "                                         combined_targets)\n",
      "    \n",
      "    print 'saving..'\n",
      "    np.savez(PATCH_PATH+filename+'.npz', image=shuffled[0],\n",
      "                                         prob=shuffled[1],\n",
      "                                         binary=shuffled[2],\n",
      "                                         merged_array=shuffled[3],\n",
      "                                         dyn_obj=shuffled[4],\n",
      "                                         dyn_bnd=shuffled[5],\n",
      "                                         border_overlap=shuffled[6])\n",
      "    np.savez(PATCH_PATH+filename+'_targets.npz', targets=shuffled[7])\n",
      "    print 'Done!'\n",
      "    \n",
      "    #return correct, split, shuffled\n"
     ],
     "language": "python",
     "metadata": {},
     "outputs": [],
     "prompt_number": 234
    },
    {
     "cell_type": "code",
     "collapsed": false,
     "input": [
      "#run(0, 65, 100000, 'train')\n",
      "#run(65, 70, 10000, 'val')\n",
      "#run(70, 75, 10000, 'test')\n",
      "run(0,65,65000,'train')\n",
      "run(65,70,10000, 'val')\n",
      "run(70,75,10000, 'test')"
     ],
     "language": "python",
     "metadata": {},
     "outputs": [
      {
       "output_type": "stream",
       "stream": "stdout",
       "text": [
        "working on slice 0\n",
        "generated"
       ]
      },
      {
       "output_type": "stream",
       "stream": "stdout",
       "text": [
        " 1000\n",
        "19.3535108566"
       ]
      },
      {
       "output_type": "stream",
       "stream": "stdout",
       "text": [
        " seconds for 1000 correct patches\n",
        "working on slice 1\n",
        "generated"
       ]
      },
      {
       "output_type": "stream",
       "stream": "stdout",
       "text": [
        " 1000\n",
        "18.2870700359"
       ]
      },
      {
       "output_type": "stream",
       "stream": "stdout",
       "text": [
        " seconds for 1000 correct patches\n",
        "working on slice 2\n",
        "generated"
       ]
      },
      {
       "output_type": "stream",
       "stream": "stdout",
       "text": [
        " 1000\n",
        "18.6090149879"
       ]
      },
      {
       "output_type": "stream",
       "stream": "stdout",
       "text": [
        " seconds for 1000 correct patches\n",
        "working on slice 3\n",
        "generated"
       ]
      },
      {
       "output_type": "stream",
       "stream": "stdout",
       "text": [
        " 1000\n",
        "19.9153630733"
       ]
      },
      {
       "output_type": "stream",
       "stream": "stdout",
       "text": [
        " seconds for 1000 correct patches\n",
        "working on slice 4\n",
        "generated"
       ]
      },
      {
       "output_type": "stream",
       "stream": "stdout",
       "text": [
        " 1000\n",
        "19.7167949677"
       ]
      },
      {
       "output_type": "stream",
       "stream": "stdout",
       "text": [
        " seconds for 1000 correct patches\n",
        "working on slice 5\n",
        "generated"
       ]
      },
      {
       "output_type": "stream",
       "stream": "stdout",
       "text": [
        " 1000\n",
        "18.5458729267"
       ]
      },
      {
       "output_type": "stream",
       "stream": "stdout",
       "text": [
        " seconds for 1000 correct patches\n",
        "working on slice 6\n",
        "generated"
       ]
      },
      {
       "output_type": "stream",
       "stream": "stdout",
       "text": [
        " 1000\n",
        "18.4832088947"
       ]
      },
      {
       "output_type": "stream",
       "stream": "stdout",
       "text": [
        " seconds for 1000 correct patches\n",
        "working on slice 7\n",
        "generated"
       ]
      },
      {
       "output_type": "stream",
       "stream": "stdout",
       "text": [
        " 1000\n",
        "17.8932909966"
       ]
      },
      {
       "output_type": "stream",
       "stream": "stdout",
       "text": [
        " seconds for 1000 correct patches\n",
        "working on slice 8\n",
        "generated"
       ]
      },
      {
       "output_type": "stream",
       "stream": "stdout",
       "text": [
        " 1000\n",
        "18.3322160244"
       ]
      },
      {
       "output_type": "stream",
       "stream": "stdout",
       "text": [
        " seconds for 1000 correct patches\n",
        "working on slice 9\n",
        "generated"
       ]
      },
      {
       "output_type": "stream",
       "stream": "stdout",
       "text": [
        " 1000\n",
        "17.8868300915"
       ]
      },
      {
       "output_type": "stream",
       "stream": "stdout",
       "text": [
        " seconds for 1000 correct patches\n",
        "working on slice 10\n",
        "generated"
       ]
      },
      {
       "output_type": "stream",
       "stream": "stdout",
       "text": [
        " 1000\n",
        "17.9247078896"
       ]
      },
      {
       "output_type": "stream",
       "stream": "stdout",
       "text": [
        " seconds for 1000 correct patches\n",
        "working on slice 11\n",
        "generated"
       ]
      },
      {
       "output_type": "stream",
       "stream": "stdout",
       "text": [
        " 1000\n",
        "18.6176049709"
       ]
      },
      {
       "output_type": "stream",
       "stream": "stdout",
       "text": [
        " seconds for 1000 correct patches\n",
        "working on slice 12\n",
        "generated"
       ]
      },
      {
       "output_type": "stream",
       "stream": "stdout",
       "text": [
        " 1000\n",
        "18.4310219288"
       ]
      },
      {
       "output_type": "stream",
       "stream": "stdout",
       "text": [
        " seconds for 1000 correct patches\n",
        "working on slice 13\n",
        "generated"
       ]
      },
      {
       "output_type": "stream",
       "stream": "stdout",
       "text": [
        " 1000\n",
        "18.3485529423"
       ]
      },
      {
       "output_type": "stream",
       "stream": "stdout",
       "text": [
        " seconds for 1000 correct patches\n",
        "working on slice 14\n",
        "generated"
       ]
      },
      {
       "output_type": "stream",
       "stream": "stdout",
       "text": [
        " 1000\n",
        "18.4541668892"
       ]
      },
      {
       "output_type": "stream",
       "stream": "stdout",
       "text": [
        " seconds for 1000 correct patches\n",
        "working on slice 15\n",
        "generated"
       ]
      },
      {
       "output_type": "stream",
       "stream": "stdout",
       "text": [
        " 1000\n",
        "18.9741230011"
       ]
      },
      {
       "output_type": "stream",
       "stream": "stdout",
       "text": [
        " seconds for 1000 correct patches\n",
        "working on slice 16\n",
        "generated"
       ]
      },
      {
       "output_type": "stream",
       "stream": "stdout",
       "text": [
        " 1000\n",
        "18.4890429974"
       ]
      },
      {
       "output_type": "stream",
       "stream": "stdout",
       "text": [
        " seconds for 1000 correct patches\n",
        "working on slice 17\n",
        "generated"
       ]
      },
      {
       "output_type": "stream",
       "stream": "stdout",
       "text": [
        " 1000\n",
        "18.6972060204"
       ]
      },
      {
       "output_type": "stream",
       "stream": "stdout",
       "text": [
        " seconds for 1000 correct patches\n",
        "working on slice 18\n",
        "generated"
       ]
      },
      {
       "output_type": "stream",
       "stream": "stdout",
       "text": [
        " 1000\n",
        "19.5395319462"
       ]
      },
      {
       "output_type": "stream",
       "stream": "stdout",
       "text": [
        " seconds for 1000 correct patches\n",
        "working on slice 19\n",
        "generated"
       ]
      },
      {
       "output_type": "stream",
       "stream": "stdout",
       "text": [
        " 1000\n",
        "19.2760481834"
       ]
      },
      {
       "output_type": "stream",
       "stream": "stdout",
       "text": [
        " seconds for 1000 correct patches\n",
        "working on slice 20\n",
        "generated"
       ]
      },
      {
       "output_type": "stream",
       "stream": "stdout",
       "text": [
        " 1000\n",
        "18.2411351204"
       ]
      },
      {
       "output_type": "stream",
       "stream": "stdout",
       "text": [
        " seconds for 1000 correct patches\n",
        "working on slice 21\n",
        "generated"
       ]
      },
      {
       "output_type": "stream",
       "stream": "stdout",
       "text": [
        " 1000\n",
        "18.6097991467"
       ]
      },
      {
       "output_type": "stream",
       "stream": "stdout",
       "text": [
        " seconds for 1000 correct patches\n",
        "working on slice 22\n",
        "generated"
       ]
      },
      {
       "output_type": "stream",
       "stream": "stdout",
       "text": [
        " 1000\n",
        "18.7038478851"
       ]
      },
      {
       "output_type": "stream",
       "stream": "stdout",
       "text": [
        " seconds for 1000 correct patches\n",
        "working on slice 23\n",
        "generated"
       ]
      },
      {
       "output_type": "stream",
       "stream": "stdout",
       "text": [
        " 1000\n",
        "19.5389311314"
       ]
      },
      {
       "output_type": "stream",
       "stream": "stdout",
       "text": [
        " seconds for 1000 correct patches\n",
        "working on slice 24\n",
        "generated"
       ]
      },
      {
       "output_type": "stream",
       "stream": "stdout",
       "text": [
        " 1000\n",
        "18.9061949253"
       ]
      }
     ]
    },
    {
     "cell_type": "code",
     "collapsed": false,
     "input": [
      "aaa = np.load(PATCH_PATH+'train.npz')\n",
      "bbb = np.load(PATCH_PATH+'train_targets.npz')"
     ],
     "language": "python",
     "metadata": {},
     "outputs": [],
     "prompt_number": 51
    },
    {
     "cell_type": "code",
     "collapsed": false,
     "input": [
      "len(aaa['image'])"
     ],
     "language": "python",
     "metadata": {},
     "outputs": [
      {
       "metadata": {},
       "output_type": "pyout",
       "prompt_number": 53,
       "text": [
        "6000"
       ]
      }
     ],
     "prompt_number": 53
    },
    {
     "cell_type": "code",
     "collapsed": false,
     "input": [
      "imshow(aaa['image'][1001].reshape(75,75), cmap='gray')"
     ],
     "language": "python",
     "metadata": {},
     "outputs": [
      {
       "metadata": {},
       "output_type": "pyout",
       "prompt_number": 32,
       "text": [
        "<matplotlib.image.AxesImage at 0x1063cb410>"
       ]
      },
      {
       "metadata": {},
       "output_type": "display_data",
       "png": "[encoded data removed]",
       "text": [
        "<matplotlib.figure.Figure at 0x105ebd350>"
       ]
      }
     ],
     "prompt_number": 32
    },
    {
     "cell_type": "code",
     "collapsed": false,
     "input": [
      "imshow(aaa['merged_array'][1001].reshape(75,75), cmap='gray')"
     ],
     "language": "python",
     "metadata": {},
     "outputs": [
      {
       "metadata": {},
       "output_type": "pyout",
       "prompt_number": 39,
       "text": [
        "<matplotlib.image.AxesImage at 0x1173f0f10>"
       ]
      },
      {
       "metadata": {},
       "output_type": "display_data",
       "png": "[encoded data removed]",
       "text": [
        "<matplotlib.figure.Figure at 0x105f08790>"
       ]
      }
     ],
     "prompt_number": 39
    },
    {
     "cell_type": "code",
     "collapsed": false,
     "input": [
      "bbb['targets'][1001]"
     ],
     "language": "python",
     "metadata": {},
     "outputs": [
      {
       "metadata": {},
       "output_type": "pyout",
       "prompt_number": 37,
       "text": [
        "1.0"
       ]
      }
     ],
     "prompt_number": 37
    },
    {
     "cell_type": "code",
     "collapsed": false,
     "input": [],
     "language": "python",
     "metadata": {},
     "outputs": []
    }
   ],
   "metadata": {}
  }
 ]
}