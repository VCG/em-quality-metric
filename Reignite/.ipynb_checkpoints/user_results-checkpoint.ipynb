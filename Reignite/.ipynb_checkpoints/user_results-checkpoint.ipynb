{
 "cells": [
  {
   "cell_type": "code",
   "execution_count": 64,
   "metadata": {
    "collapsed": false
   },
   "outputs": [],
   "source": [
    "import cPickle as pickle\n",
    "import numpy as np\n",
    "from uitools import UITools\n",
    "from util import Util"
   ]
  },
  {
   "cell_type": "code",
   "execution_count": 65,
   "metadata": {
    "collapsed": true
   },
   "outputs": [],
   "source": [
    "input_image, input_prob, input_gold, input_rhoana, dojo_bbox = Util.read_dojo_data() "
   ]
  },
  {
   "cell_type": "code",
   "execution_count": 31,
   "metadata": {
    "collapsed": false
   },
   "outputs": [],
   "source": [
    "john_c = [\"merge,current,merge,current,merge,1,merge,1,merge,1,merge,1,merge,current,split,1,split,1,split,1,split,current,split,1,split,current,split,current,split,1,split,1,split,current,split,1,split,current,split,current,split,1,split,1,split,current,split,current,split,current,split,1,split,1,split,1,split,current,split,1,split,current,split,current,split,1,split,current,split,1,split,current,split,1,split,1,split,1,split,current,split,1,split,current,split,1,split,current,split,current,split,1,split,1,split,current,split,1,split,current,split,current,split,current,split,1,split,current,split,1,split,current,split,1,split,1,split,1,split,1,split,1,split,current,split,current,split,1,split,1,split,current,split,current,split,current,split,current,split,current,split,current,split,1,split,current,split,1,split,current,split,current,split,current,split,1,split,1,split,current,split,current,split,current,split,current,split,current,split,current,split,current,split,1,split,1,split,1,split,1,split,1,split,current,split,current,split,current,split,current,split,1,split,1,split,current,split,1,split,1,split,1,split,current,split,current,split,1,split,current,split,current,split,current,split,1,split,current,split,current,split,1,split,current,split,current,split,1,split,current,split,current,split,current,split,1,split,current,split,current,split,1,split,current,split,current,split,current,split,current,split,1,split,1,split,current,split,1,split,1,split,current,split,1,split,current,split,1,split,1,split,1,split,current,split,current,split,current,split,current,split,1,split,current,split,current,split,current,split,current,split,1,split,current,split,current,split,current,split,current,split,current,split,current,split,current,split,current,split,current,split,1,split,current,split,current,split,current,split,1,split,current,split,current,split,current,split,current,split,current,split,1,split,current,split,current,split,1,split,current,split,current,split,current,split,current,split,current,split,current,split,current,split,current,split,current,split,current,split,1,split,current,split,current,split,current,split,current,split,1,split,current,split,1,split,1,split,current,split,current,split,current,split,current,split,1,split,1,split,current,split,current,split,current,split,current,split,current,split,current,split,current,split,1,split,1,split,current,split,current,split,1,split,current,split,current,split,current,split,1,split,1,split,1,split,current,split,current,split,current,split,current,split,1,split,current,split,current,split,current,split,current,split,1,split,1,split,current,split,1,split,1,split,current,split,current,split,current,split,1,split,current,split,current,split,current,split,current,split,current,split,1,split,current,split,current,split,1,split,current,split,1,split,current,split,current,split,current,split,current,split,1,split,current,split,current,split,current,split,current,split,1,split,1,split,current,split,1,split,current,split,1,split,1,split,1,split,1,split,1,split,1,split,current,split,1,split,current,split,current,split,current,split,current,split,1,split,1,split,current,split,current,split,1,split,1,split,1,split,current,split,1,split,current,split,1,split,current,split,current,split,1,split,1,split,current,split,1,split,current,split,1,split,current,split,current,split,current,split,current,split,1,split,1,split,1,split,1,split,current,split,current,split,current,split,current,split,current,split,current,split,1,split,current,split,current,split,current,split,current,split,current,split,1,split,current,split,1,split,current,split,current,split,current,split,current,split,current,split,current,split,current,split,current,split,current,split,current,split,current,split,current,split,current,split,current,split,current,split,1,split,current,split,current,split,current,split,current,split,current,split,1,split,1,split,current,split,current,split,1,split,1,split,current,split,current,split,current,split,1,split,1,split,1,split,current,split,current,split,current,split,current,split,current,split,1,split,current,split,1,split,1,split,1,split,current,split,current,split,current,split,current,split,current,split,1,split,current,split,current,split,1,split,current,split,current,split,current,split,current,split,current\"]\n",
    "john_c = john_c[0].split(',')\n",
    "baq = []\n",
    "for i in range(0,len(john_c)/2, 2):\n",
    "    baq.append([john_c[i], john_c[i+1]])\n",
    "john_c = baq"
   ]
  },
  {
   "cell_type": "code",
   "execution_count": 32,
   "metadata": {
    "collapsed": true
   },
   "outputs": [],
   "source": [
    "john_t = [\"10726,3820,11324,21558,13511,16244,10433,11041,6079,4086,5758,2194,3913,9536,9304,4529,6442,4879,3646,2446,2204,5988,13632,12776,10329,5268,3859,2524,20406,13635,7089,3840,5556,6349,12160,2581,4399,5001,7272,8887,4137,2109,2101,2543,3050,3276,2490,3052,2985,2148,6705,2654,3808,5382,2077,3070,6394,5141,1660,4468,3344,4233,2608,1629,15774,2570,3009,4101,2006,2891,6414,17103,4940,8345,1822,6332,3522,4294,10032,2227,17576,3268,5820,4555,8937,6293,6464,1491,3223,1460,1969,4343,2473,4105,8152,4504,2795,3733,2896,4004,1705,9156,1960,4313,1687,3326,6014,2731,2692,10950,7765,6319,2682,1698,3095,2022,2449,1774,1911,2959,1660,1865,2812,3473,2344,2594,4375,4272,1607,1384,3436,3074,2548,1281,8277,3833,8390,2288,2560,3089,4836,3855,5968,6462,1978,2108,2811,9734,4846,6057,2808,3624,5551,2738,3511,3931,3548,3103,2159,14954,2995,2454,2123,4483,2181,22188,2106,2012,2131,1665,6841,11923,1717,8908,6188,1834,2915,2862,3679,3046,1784,1982,4477,13415,1740,1605,5057,7237,3251,2186,3599,2203,3584,3035,2390,3389,4214,7621,1769,8277,1815,4727,3621,5594,1945,6851,3276,4250,1970,1648,1234,4916,4040,8463,2034,2415,6803,1737,2556,2738,2173,3484,1823,1244,2696,1195,4319,10104,3638,2040,4182,3457,3508,2096,5231,2148,1529,1302,1342,2395,3038,1871,2008,1492,2715,3010,1988,1650,2169,1012,2584,2932,5630,5207,2361,1477,2154,1341,1484,5101,2309,1749,4801,2530,2072,1753,3758,2649,1742,5408,1946,2364,2189,2408,9189,2024,2460,1695,3999,12629,1685,2592,1732,7194,2886,3041,1928,3047,7157,2593,1937,1672,3332,1336,1568,1762,1482,2768,1823,2164,1567,2178,1924,1802,1914,2842,2164,2478,1377,1551,3445,1784,1428,2899,2203,5536,9152,3098,1908,1974,2765,3226,2472,7483,7050,11133,2123,4506,2084,2706,5344,2039,5572,5242,5051,1139,4236,1872,1913,3479,1244,1858,2568,5277,5254,3952,6493,4490,1705,5188,1433,3638,1709,1967,1776,1831,1186,1724,1988,3378,1238,1622,1676,11609,5729,2896,7031\"]\n",
    "john_t = john_t[0].split(',')\n",
    "john_t = [int(v) for v in john_t]"
   ]
  },
  {
   "cell_type": "code",
   "execution_count": 74,
   "metadata": {
    "collapsed": false
   },
   "outputs": [],
   "source": [
    "with open('/home/d/dojo_xp/data/ui_real/john_new/times.p', 'rb') as f:\n",
    "    john_new_t = pickle.load(f)\n",
    "    john_new_t = [int(v) for v in john_new_t]\n",
    "with open('/home/d/dojo_xp/data/ui_real/john_new/corrections.p', 'rb') as f:\n",
    "    john_new_c = pickle.load(f)\n",
    "\n",
    "with open('/home/d/dojo_xp/data/ui_real/alyssa/times.p', 'rb') as f:\n",
    "    alyssa_t = pickle.load(f)\n",
    "    alyssa_t = [int(v) for v in alyssa_t]\n",
    "with open('/home/d/dojo_xp/data/ui_real/alyssa/corrections.p', 'rb') as f:\n",
    "    alyssa_c = pickle.load(f)\n",
    "\n",
    "with open('/home/d/dojo_xp/data/ui_real/alyssa_new/times.p', 'rb') as f:\n",
    "    alyssa_new_t = pickle.load(f)\n",
    "    alyssa_new_t = [int(v) for v in alyssa_new_t]\n",
    "with open('/home/d/dojo_xp/data/ui_real/alyssa_new/corrections.p', 'rb') as f:\n",
    "    alyssa_new_c = pickle.load(f)\n",
    "    \n",
    "with open('/home/d/dojo_xp/data/ui_real/josh_new/times.p', 'rb') as f:\n",
    "    josh_new_t = pickle.load(f)\n",
    "    josh_new_t = [int(v) for v in josh_new_t]\n",
    "with open('/home/d/dojo_xp/data/ui_real/josh_new/corrections.p', 'rb') as f:\n",
    "    josh_new_c = pickle.load(f)    \n",
    "    \n",
    "with open('/home/d/dojo_xp/data/ui_real/josh/times.p', 'rb') as f:\n",
    "    josh_t = pickle.load(f)\n",
    "    josh_t = [int(v) for v in josh_t]\n",
    "with open('/home/d/dojo_xp/data/ui_real/josh/corrections.p', 'rb') as f:\n",
    "    josh_c = pickle.load(f)        "
   ]
  },
  {
   "cell_type": "code",
   "execution_count": 66,
   "metadata": {
    "collapsed": true
   },
   "outputs": [],
   "source": [
    "def get_vi(user):\n",
    "    \n",
    "    with open('/home/d/dojo_xp/data/ui_real/'+user+'/ui_results.p', 'rb') as f:\n",
    "        vol = pickle.load(f)\n",
    "        \n",
    "    return UITools.VI(input_gold, vol)"
   ]
  },
  {
   "cell_type": "code",
   "execution_count": 48,
   "metadata": {
    "collapsed": true
   },
   "outputs": [],
   "source": [
    "def get_stats(old_times, new_times, old_corrections, new_corrections):\n",
    "    print 'Old CNN'\n",
    "    get_cnn_stats(old_times, old_corrections)\n",
    "    print '-'*80\n",
    "    print 'New CNN'\n",
    "    get_cnn_stats(new_times, new_corrections)    \n",
    "    \n",
    "def get_cnn_stats(t, c):\n",
    "    old_times = t\n",
    "    old_corrections = c\n",
    "\n",
    "    print 'avg. correction time [s]', np.mean(old_times)\n",
    "    print '# corrections viewed', len(old_corrections)\n",
    "    merge_corrections = 0\n",
    "    merge_corrections_accepted = 0\n",
    "    split_corrections = 0\n",
    "    split_corrections_accepted = 0\n",
    "    for c in old_corrections:\n",
    "        if c[0] == 'merge':\n",
    "            merge_corrections += 1\n",
    "            if c[1] != 'current':\n",
    "                merge_corrections_accepted += 1\n",
    "        if c[0] == 'split':\n",
    "            split_corrections += 1\n",
    "            if c[1] != 'current':\n",
    "                split_corrections_accepted += 1\n",
    "    \n",
    "    print '# merge corrections', merge_corrections\n",
    "    print '  # merge corrections accepted', merge_corrections_accepted\n",
    "    print '# split corrections', split_corrections\n",
    "    print '  # split corrections accepted', split_corrections_accepted\n",
    "    \n",
    "    "
   ]
  },
  {
   "cell_type": "code",
   "execution_count": 52,
   "metadata": {
    "collapsed": false
   },
   "outputs": [
    {
     "name": "stdout",
     "output_type": "stream",
     "text": [
      "Old CNN\n",
      "avg. correction time [s] 4185.29700272\n",
      "# corrections viewed 183\n",
      "# merge corrections 7\n",
      "  # merge corrections accepted 4\n",
      "# split corrections 176\n",
      "  # split corrections accepted 67\n",
      "--------------------------------------------------------------------------------\n",
      "New CNN\n",
      "avg. correction time [s] 2979.60846561\n",
      "# corrections viewed 378\n",
      "# merge corrections 18\n",
      "  # merge corrections accepted 5\n",
      "# split corrections 360\n",
      "  # split corrections accepted 135\n"
     ]
    }
   ],
   "source": [
    "get_stats(john_t, john_new_t, john_c, john_new_c)"
   ]
  },
  {
   "cell_type": "code",
   "execution_count": 53,
   "metadata": {
    "collapsed": false
   },
   "outputs": [
    {
     "name": "stdout",
     "output_type": "stream",
     "text": [
      "Old CNN\n",
      "avg. correction time [s] 2544.38747885\n",
      "# corrections viewed 591\n",
      "# merge corrections 7\n",
      "  # merge corrections accepted 3\n",
      "# split corrections 584\n",
      "  # split corrections accepted 118\n",
      "--------------------------------------------------------------------------------\n",
      "New CNN\n",
      "avg. correction time [s] 3178.68543689\n",
      "# corrections viewed 515\n",
      "# merge corrections 18\n",
      "  # merge corrections accepted 5\n",
      "# split corrections 497\n",
      "  # split corrections accepted 142\n"
     ]
    }
   ],
   "source": [
    "get_stats(alyssa_t, alyssa_new_t, alyssa_c, alyssa_new_c)"
   ]
  },
  {
   "cell_type": "code",
   "execution_count": 75,
   "metadata": {
    "collapsed": false
   },
   "outputs": [
    {
     "name": "stdout",
     "output_type": "stream",
     "text": [
      "Old CNN\n",
      "avg. correction time [s] 2315.90402477\n",
      "# corrections viewed 646\n",
      "# merge corrections 7\n",
      "  # merge corrections accepted 4\n",
      "# split corrections 639\n",
      "  # split corrections accepted 66\n",
      "--------------------------------------------------------------------------------\n",
      "New CNN\n",
      "avg. correction time [s] 3363.54747475\n",
      "# corrections viewed 495\n",
      "# merge corrections 18\n",
      "  # merge corrections accepted 7\n",
      "# split corrections 477\n",
      "  # split corrections accepted 68\n"
     ]
    }
   ],
   "source": [
    "get_stats(josh_t, josh_new_t, josh_c, josh_new_c)"
   ]
  },
  {
   "cell_type": "code",
   "execution_count": 58,
   "metadata": {
    "collapsed": false
   },
   "outputs": [
    {
     "data": {
      "text/plain": [
       "2861.5364578713061"
      ]
     },
     "execution_count": 58,
     "metadata": {},
     "output_type": "execute_result"
    }
   ],
   "source": [
    "(np.mean(alyssa_t) + np.mean(alyssa_new_t))/2"
   ]
  },
  {
   "cell_type": "code",
   "execution_count": 59,
   "metadata": {
    "collapsed": false
   },
   "outputs": [
    {
     "data": {
      "text/plain": [
       "3582.4527341666308"
      ]
     },
     "execution_count": 59,
     "metadata": {},
     "output_type": "execute_result"
    }
   ],
   "source": [
    "(np.mean(john_t) + np.mean(john_new_t))/2"
   ]
  },
  {
   "cell_type": "code",
   "execution_count": 78,
   "metadata": {
    "collapsed": false
   },
   "outputs": [
    {
     "data": {
      "text/plain": [
       "3094.5716472651916"
      ]
     },
     "execution_count": 78,
     "metadata": {},
     "output_type": "execute_result"
    }
   ],
   "source": [
    "(np.mean(alyssa_t) + np.mean(alyssa_new_t) + np.mean(john_t) + np.mean(john_new_t) + np.mean(josh_t) + np.mean(josh_new_t)) / 6"
   ]
  },
  {
   "cell_type": "code",
   "execution_count": 67,
   "metadata": {
    "collapsed": false
   },
   "outputs": [
    {
     "data": {
      "text/plain": [
       "(0.41881364293749374,\n",
       " 0.40722033062986718,\n",
       " [0.3651856141268395,\n",
       "  0.4133528064394696,\n",
       "  0.3694322598429256,\n",
       "  0.3599624600295863,\n",
       "  0.40108785482026477,\n",
       "  0.3751967937566443,\n",
       "  0.47182730331300515,\n",
       "  0.46384575749349644,\n",
       "  0.45849072833864835,\n",
       "  0.5097548512140575])"
      ]
     },
     "execution_count": 67,
     "metadata": {},
     "output_type": "execute_result"
    }
   ],
   "source": [
    "get_vi('alyssa')"
   ]
  },
  {
   "cell_type": "code",
   "execution_count": 68,
   "metadata": {
    "collapsed": false
   },
   "outputs": [
    {
     "data": {
      "text/plain": [
       "(0.41486393452602943,\n",
       " 0.39636468948831771,\n",
       " [0.36955775659747747,\n",
       "  0.39250293829836735,\n",
       "  0.3688303634072678,\n",
       "  0.37744240803449625,\n",
       "  0.40022644067826807,\n",
       "  0.3815527838331203,\n",
       "  0.4472774009966649,\n",
       "  0.44162415508056707,\n",
       "  0.4729849772418282,\n",
       "  0.4966401210922369])"
      ]
     },
     "execution_count": 68,
     "metadata": {},
     "output_type": "execute_result"
    }
   ],
   "source": [
    "get_vi('alyssa_new')"
   ]
  },
  {
   "cell_type": "code",
   "execution_count": 76,
   "metadata": {
    "collapsed": false
   },
   "outputs": [
    {
     "data": {
      "text/plain": [
       "(0.43098771325884427,\n",
       " 0.42991326308537126,\n",
       " [0.38391462029724366,\n",
       "  0.3946847332305694,\n",
       "  0.37407427574103735,\n",
       "  0.4011759534497692,\n",
       "  0.4739138170584196,\n",
       "  0.4152078242537236,\n",
       "  0.4633867209273719,\n",
       "  0.50604879870796,\n",
       "  0.4446187019170189,\n",
       "  0.45285168700532896])"
      ]
     },
     "execution_count": 76,
     "metadata": {},
     "output_type": "execute_result"
    }
   ],
   "source": [
    "get_vi('josh')"
   ]
  },
  {
   "cell_type": "code",
   "execution_count": 77,
   "metadata": {
    "collapsed": false
   },
   "outputs": [
    {
     "data": {
      "text/plain": [
       "(0.42204482729737569,\n",
       " 0.41498292627912026,\n",
       " [0.37484603520770676,\n",
       "  0.3939621266824016,\n",
       "  0.3896524948878737,\n",
       "  0.39639562518511084,\n",
       "  0.4477210348104004,\n",
       "  0.4647934798574145,\n",
       "  0.4647357412387576,\n",
       "  0.4583758825458508,\n",
       "  0.42396064070850503,\n",
       "  0.4060052118497355])"
      ]
     },
     "execution_count": 77,
     "metadata": {},
     "output_type": "execute_result"
    }
   ],
   "source": [
    "get_vi('josh_new')"
   ]
  },
  {
   "cell_type": "code",
   "execution_count": 69,
   "metadata": {
    "collapsed": false
   },
   "outputs": [
    {
     "data": {
      "text/plain": [
       "(0.4492015249994889,\n",
       " 0.42383959887814715,\n",
       " [0.36812078320470043,\n",
       "  0.38783882115440527,\n",
       "  0.3704662842063602,\n",
       "  0.39311893778920126,\n",
       "  0.39843228127000874,\n",
       "  0.44924691648628556,\n",
       "  0.5253949015368642,\n",
       "  0.5855955087302824,\n",
       "  0.4858481537541941,\n",
       "  0.5279526618625869])"
      ]
     },
     "execution_count": 69,
     "metadata": {},
     "output_type": "execute_result"
    }
   ],
   "source": [
    "get_vi('john')"
   ]
  },
  {
   "cell_type": "code",
   "execution_count": 70,
   "metadata": {
    "collapsed": false
   },
   "outputs": [
    {
     "data": {
      "text/plain": [
       "(0.44175784026333814,\n",
       " 0.44394694572420157,\n",
       " [0.37012190195707095,\n",
       "  0.38968960153287835,\n",
       "  0.37045672764672943,\n",
       "  0.38191441070762,\n",
       "  0.45717155397457265,\n",
       "  0.4307223374738305,\n",
       "  0.46325236818430504,\n",
       "  0.5049116191382206,\n",
       "  0.45915778345523783,\n",
       "  0.5901800985629162])"
      ]
     },
     "execution_count": 70,
     "metadata": {},
     "output_type": "execute_result"
    }
   ],
   "source": [
    "get_vi('john_new')"
   ]
  },
  {
   "cell_type": "code",
   "execution_count": null,
   "metadata": {
    "collapsed": true
   },
   "outputs": [],
   "source": []
  }
 ],
 "metadata": {
  "kernelspec": {
   "display_name": "Python 2",
   "language": "python",
   "name": "python2"
  },
  "language_info": {
   "codemirror_mode": {
    "name": "ipython",
    "version": 2
   },
   "file_extension": ".py",
   "mimetype": "text/x-python",
   "name": "python",
   "nbconvert_exporter": "python",
   "pygments_lexer": "ipython2",
   "version": "2.7.6"
  }
 },
 "nbformat": 4,
 "nbformat_minor": 0
}
