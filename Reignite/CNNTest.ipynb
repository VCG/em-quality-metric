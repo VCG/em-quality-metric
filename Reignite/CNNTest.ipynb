{
 "metadata": {
  "name": "",
  "signature": "sha256:e9974f8bfecef0df9c542087b86bf80eb8b3339955a646d09bcb22265c063c6e"
 },
 "nbformat": 3,
 "nbformat_minor": 0,
 "worksheets": [
  {
   "cells": [
    {
     "cell_type": "code",
     "collapsed": false,
     "input": [
      "%load_ext autoreload\n",
      "%autoreload 2\n",
      "\n",
      "from cnn import CNN\n",
      "from experiment import Experiment\n",
      "from util import Util\n",
      "from patch import Patch\n",
      "from fixer import Fixer\n",
      "from uglify import Uglify\n",
      "\n",
      "import mahotas as mh\n",
      "import numpy as np\n",
      "\n",
      "from matplotlib.pyplot import imshow\n",
      "import matplotlib.pyplot as plt\n",
      "%matplotlib inline"
     ],
     "language": "python",
     "metadata": {},
     "outputs": [
      {
       "output_type": "stream",
       "stream": "stderr",
       "text": [
        "Using gpu device 0: GeForce GTX TITAN (CNMeM is disabled)\n",
        "tifffile.py:1995: UserWarning: failed to import _tifffile.decodepackbits\n",
        "  warnings.warn(\"failed to import %s\" % module_function)\n"
       ]
      },
      {
       "output_type": "stream",
       "stream": "stderr",
       "text": [
        "tifffile.py:1995: UserWarning: failed to import _tifffile.decodelzw\n",
        "  warnings.warn(\"failed to import %s\" % module_function)\n",
        "tifffile.py:1995: UserWarning: failed to import _tifffile.unpackints\n",
        "  warnings.warn(\"failed to import %s\" % module_function)\n"
       ]
      }
     ],
     "prompt_number": 1
    },
    {
     "cell_type": "code",
     "collapsed": false,
     "input": [
      "cnn=CNN('mine_merged_large_7', 'patches_7th', ['image', 'prob', 'merged_array', 'larger_border_overlap'])"
     ],
     "language": "python",
     "metadata": {},
     "outputs": [
      {
       "output_type": "stream",
       "stream": "stdout",
       "text": [
        "Loading ['/Volumes/DATA1/split_cnn/patches_7th/mine_merged_large_7/configuration.txt']\n",
        "Loading /Volumes/DATA1/split_cnn/patches_7th/mine_merged_large_7/network_262.p\n"
       ]
      }
     ],
     "prompt_number": 8
    },
    {
     "cell_type": "code",
     "collapsed": false,
     "input": [
      "cnn._layers"
     ],
     "language": "python",
     "metadata": {},
     "outputs": [
      {
       "metadata": {},
       "output_type": "pyout",
       "prompt_number": 9,
       "text": [
        "{'dense': {'dense_layer1': <lasagne.layers.dense.DenseLayer at 0x10fd9cd10>,\n",
        "  'dense_layer2': <lasagne.layers.dense.DenseLayer at 0x110221d90>,\n",
        "  'network': <lasagne.layers.dense.DenseLayer at 0x110221d90>},\n",
        " 'image': {'c2d_layer': <lasagne.layers.conv.Conv2DLayer at 0x110221190>,\n",
        "  'c2d_layer2': <lasagne.layers.conv.Conv2DLayer at 0x110218fd0>,\n",
        "  'input_layer': <lasagne.layers.input.InputLayer at 0x1102212d0>,\n",
        "  'max_pool_layer': <lasagne.layers.pool.MaxPool2DLayer at 0x110221110>,\n",
        "  'max_pool_layer2': <lasagne.layers.pool.MaxPool2DLayer at 0x110218f50>,\n",
        "  'network': <lasagne.layers.pool.MaxPool2DLayer at 0x110218f50>},\n",
        " 'larger_border_overlap': {'c2d_layer': <lasagne.layers.conv.Conv2DLayer at 0x110221c10>,\n",
        "  'c2d_layer2': <lasagne.layers.conv.Conv2DLayer at 0x110221a90>,\n",
        "  'input_layer': <lasagne.layers.input.InputLayer at 0x110221d10>,\n",
        "  'max_pool_layer': <lasagne.layers.pool.MaxPool2DLayer at 0x110221b90>,\n",
        "  'max_pool_layer2': <lasagne.layers.pool.MaxPool2DLayer at 0x110221a10>,\n",
        "  'network': <lasagne.layers.pool.MaxPool2DLayer at 0x110221a10>},\n",
        " 'merged': {'network': <lasagne.layers.merge.ConcatLayer at 0x110218f10>},\n",
        " 'merged_array': {'c2d_layer': <lasagne.layers.conv.Conv2DLayer at 0x110221890>,\n",
        "  'c2d_layer2': <lasagne.layers.conv.Conv2DLayer at 0x110221710>,\n",
        "  'input_layer': <lasagne.layers.input.InputLayer at 0x110221990>,\n",
        "  'max_pool_layer': <lasagne.layers.pool.MaxPool2DLayer at 0x110221810>,\n",
        "  'max_pool_layer2': <lasagne.layers.pool.MaxPool2DLayer at 0x110221690>,\n",
        "  'network': <lasagne.layers.pool.MaxPool2DLayer at 0x110221690>},\n",
        " 'prob': {'c2d_layer': <lasagne.layers.conv.Conv2DLayer at 0x110221510>,\n",
        "  'c2d_layer2': <lasagne.layers.conv.Conv2DLayer at 0x110221390>,\n",
        "  'input_layer': <lasagne.layers.input.InputLayer at 0x110221610>,\n",
        "  'max_pool_layer': <lasagne.layers.pool.MaxPool2DLayer at 0x110221490>,\n",
        "  'max_pool_layer2': <lasagne.layers.pool.MaxPool2DLayer at 0x110221350>,\n",
        "  'network': <lasagne.layers.pool.MaxPool2DLayer at 0x110221350>}}"
       ]
      }
     ],
     "prompt_number": 9
    },
    {
     "cell_type": "code",
     "collapsed": false,
     "input": [
      "import lasagne"
     ],
     "language": "python",
     "metadata": {},
     "outputs": [],
     "prompt_number": 5
    },
    {
     "cell_type": "code",
     "collapsed": false,
     "input": [
      "lasagne.__version__"
     ],
     "language": "python",
     "metadata": {},
     "outputs": [
      {
       "metadata": {},
       "output_type": "pyout",
       "prompt_number": 6,
       "text": [
        "'0.1'"
       ]
      }
     ],
     "prompt_number": 6
    },
    {
     "cell_type": "code",
     "collapsed": false,
     "input": [
      "import theano"
     ],
     "language": "python",
     "metadata": {},
     "outputs": [],
     "prompt_number": 7
    },
    {
     "cell_type": "code",
     "collapsed": false,
     "input": [
      "theano.__version__"
     ],
     "language": "python",
     "metadata": {},
     "outputs": [
      {
       "metadata": {},
       "output_type": "pyout",
       "prompt_number": 8,
       "text": [
        "'0.7.0.dev-RELEASE'"
       ]
      }
     ],
     "prompt_number": 8
    },
    {
     "cell_type": "code",
     "collapsed": false,
     "input": [
      "lasagne.layers.dnn"
     ],
     "language": "python",
     "metadata": {},
     "outputs": [
      {
       "metadata": {},
       "output_type": "pyout",
       "prompt_number": 11,
       "text": [
        "<module 'lasagne.layers.dnn' from '/Users/d/Library/Python/2.7/lib/python/site-packages/lasagne/layers/dnn.pyc'>"
       ]
      }
     ],
     "prompt_number": 11
    },
    {
     "cell_type": "code",
     "collapsed": false,
     "input": [
      "import lasagne.layers.dnn"
     ],
     "language": "python",
     "metadata": {},
     "outputs": [],
     "prompt_number": 10
    },
    {
     "cell_type": "code",
     "collapsed": false,
     "input": [
      "from theano.sandbox.cuda import dnn"
     ],
     "language": "python",
     "metadata": {},
     "outputs": [],
     "prompt_number": 2
    },
    {
     "cell_type": "code",
     "collapsed": false,
     "input": [
      "dnn.dnn_available()"
     ],
     "language": "python",
     "metadata": {},
     "outputs": [
      {
       "metadata": {},
       "output_type": "pyout",
       "prompt_number": 3,
       "text": [
        "False"
       ]
      }
     ],
     "prompt_number": 3
    },
    {
     "cell_type": "code",
     "collapsed": false,
     "input": [
      "layer = cnn._layers['image']['c2d_layer']\n",
      "W = layer.W.get_value()\n",
      "b = layer.b.get_value()\n",
      "f = [w + bb for w, bb in zip(W, b)]\n",
      "\n",
      "gs = gridspec.GridSpec(6, 6)\n",
      "for i in range(layer.num_filters):\n",
      "    g = gs[i]\n",
      "    ax = plt.subplot(g)\n",
      "    ax.grid()\n",
      "    ax.set_xticks([])\n",
      "    ax.set_yticks([])\n",
      "    ax.imshow(f[i][0], cmap='gray')"
     ],
     "language": "python",
     "metadata": {},
     "outputs": [
      {
       "metadata": {},
       "output_type": "display_data",
       "png": "[encoded data removed]",
       "text": [
        "<matplotlib.figure.Figure at 0x110060e10>"
       ]
      }
     ],
     "prompt_number": 18
    },
    {
     "cell_type": "code",
     "collapsed": false,
     "input": [
      "from matplotlib import gridspec\n"
     ],
     "language": "python",
     "metadata": {},
     "outputs": [],
     "prompt_number": 12
    },
    {
     "cell_type": "code",
     "collapsed": false,
     "input": [
      "cnn._layers"
     ],
     "language": "python",
     "metadata": {},
     "outputs": [
      {
       "metadata": {},
       "output_type": "pyout",
       "prompt_number": 19,
       "text": [
        "{'dense': {'dense_layer1': <lasagne.layers.dense.DenseLayer at 0x10fd9cd10>,\n",
        "  'dense_layer2': <lasagne.layers.dense.DenseLayer at 0x110221d90>,\n",
        "  'network': <lasagne.layers.dense.DenseLayer at 0x110221d90>},\n",
        " 'image': {'c2d_layer': <lasagne.layers.conv.Conv2DLayer at 0x110221190>,\n",
        "  'c2d_layer2': <lasagne.layers.conv.Conv2DLayer at 0x110218fd0>,\n",
        "  'input_layer': <lasagne.layers.input.InputLayer at 0x1102212d0>,\n",
        "  'max_pool_layer': <lasagne.layers.pool.MaxPool2DLayer at 0x110221110>,\n",
        "  'max_pool_layer2': <lasagne.layers.pool.MaxPool2DLayer at 0x110218f50>,\n",
        "  'network': <lasagne.layers.pool.MaxPool2DLayer at 0x110218f50>},\n",
        " 'larger_border_overlap': {'c2d_layer': <lasagne.layers.conv.Conv2DLayer at 0x110221c10>,\n",
        "  'c2d_layer2': <lasagne.layers.conv.Conv2DLayer at 0x110221a90>,\n",
        "  'input_layer': <lasagne.layers.input.InputLayer at 0x110221d10>,\n",
        "  'max_pool_layer': <lasagne.layers.pool.MaxPool2DLayer at 0x110221b90>,\n",
        "  'max_pool_layer2': <lasagne.layers.pool.MaxPool2DLayer at 0x110221a10>,\n",
        "  'network': <lasagne.layers.pool.MaxPool2DLayer at 0x110221a10>},\n",
        " 'merged': {'network': <lasagne.layers.merge.ConcatLayer at 0x110218f10>},\n",
        " 'merged_array': {'c2d_layer': <lasagne.layers.conv.Conv2DLayer at 0x110221890>,\n",
        "  'c2d_layer2': <lasagne.layers.conv.Conv2DLayer at 0x110221710>,\n",
        "  'input_layer': <lasagne.layers.input.InputLayer at 0x110221990>,\n",
        "  'max_pool_layer': <lasagne.layers.pool.MaxPool2DLayer at 0x110221810>,\n",
        "  'max_pool_layer2': <lasagne.layers.pool.MaxPool2DLayer at 0x110221690>,\n",
        "  'network': <lasagne.layers.pool.MaxPool2DLayer at 0x110221690>},\n",
        " 'prob': {'c2d_layer': <lasagne.layers.conv.Conv2DLayer at 0x110221510>,\n",
        "  'c2d_layer2': <lasagne.layers.conv.Conv2DLayer at 0x110221390>,\n",
        "  'input_layer': <lasagne.layers.input.InputLayer at 0x110221610>,\n",
        "  'max_pool_layer': <lasagne.layers.pool.MaxPool2DLayer at 0x110221490>,\n",
        "  'max_pool_layer2': <lasagne.layers.pool.MaxPool2DLayer at 0x110221350>,\n",
        "  'network': <lasagne.layers.pool.MaxPool2DLayer at 0x110221350>}}"
       ]
      }
     ],
     "prompt_number": 19
    },
    {
     "cell_type": "code",
     "collapsed": false,
     "input": [],
     "language": "python",
     "metadata": {},
     "outputs": []
    }
   ],
   "metadata": {}
  }
 ]
}