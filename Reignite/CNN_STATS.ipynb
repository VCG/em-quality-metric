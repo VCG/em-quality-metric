{
 "cells": [
  {
   "cell_type": "code",
   "execution_count": 1,
   "metadata": {
    "collapsed": false
   },
   "outputs": [
    {
     "name": "stderr",
     "output_type": "stream",
     "text": [
      "Using gpu device 0: GeForce GTX TITAN (CNMeM is disabled, CuDNN 4007)\n",
      "/home/d/nolearn/local/lib/python2.7/site-packages/theano/tensor/signal/downsample.py:6: UserWarning: downsample module has been moved to the theano.tensor.signal.pool module.\n",
      "  \"downsample module has been moved to the theano.tensor.signal.pool module.\")\n",
      "tifffile.py:1995: UserWarning: failed to import _tifffile.decodepackbits\n",
      "  warnings.warn(\"failed to import %s\" % module_function)\n",
      "tifffile.py:1995: UserWarning: failed to import _tifffile.decodelzw\n",
      "  warnings.warn(\"failed to import %s\" % module_function)\n",
      "tifffile.py:1995: UserWarning: failed to import _tifffile.unpackints\n",
      "  warnings.warn(\"failed to import %s\" % module_function)\n"
     ]
    }
   ],
   "source": [
    "%load_ext autoreload\n",
    "%autoreload 2\n",
    "\n",
    "from cnn import CNN\n",
    "from dyn_cnn import DynCNN\n",
    "from util import Util\n",
    "from patch import Patch\n",
    "from fixer import Fixer\n",
    "from uglify import Uglify\n",
    "\n",
    "import cPickle as pickle\n",
    "import os\n",
    "import mahotas as mh\n",
    "import numpy as np\n",
    "import time\n",
    "\n",
    "import mlproof as mlp\n",
    "\n",
    "\n",
    "from matplotlib.pyplot import imshow\n",
    "import matplotlib.pyplot as plt\n",
    "%matplotlib inline"
   ]
  },
  {
   "cell_type": "code",
   "execution_count": 2,
   "metadata": {
    "collapsed": true
   },
   "outputs": [],
   "source": [
    "from sklearn.metrics import classification_report, accuracy_score\n"
   ]
  },
  {
   "cell_type": "code",
   "execution_count": 5,
   "metadata": {
    "collapsed": false
   },
   "outputs": [],
   "source": [
    "with open('/home/d/nets/MergeNet_cylinder1_larger_border_overlap_usevars/net.p', 'rb') as f:\n",
    "    cnn_large_border = pickle.load(f)\n",
    "with open('/home/d/nets/MergeNet_cylinder1_border_overlap_usevars/net.p', 'rb') as f:\n",
    "    cnn_small_border = pickle.load(f)\n",
    "with open('/home/d/nets/MergeNet_cylinder1_nooverlap_usevars/net.p', 'rb') as f:\n",
    "    cnn_no_border = pickle.load(f)"
   ]
  },
  {
   "cell_type": "code",
   "execution_count": 6,
   "metadata": {
    "collapsed": false
   },
   "outputs": [
    {
     "name": "stdout",
     "output_type": "stream",
     "text": [
      "Loaded /home/d/patches//cylinder1/ in 0.000701904296875 seconds.\n"
     ]
    }
   ],
   "source": [
    "X_train, y_train, X_test, y_test = mlp.Patch.load('cylinder1')"
   ]
  },
  {
   "cell_type": "code",
   "execution_count": 19,
   "metadata": {
    "collapsed": false
   },
   "outputs": [
    {
     "data": {
      "text/plain": [
       "[('image_input', lasagne.layers.input.InputLayer),\n",
       " ('image_conv1', lasagne.layers.conv.Conv2DLayer),\n",
       " ('image_pool1', lasagne.layers.pool.MaxPool2DLayer),\n",
       " ('image_conv2', lasagne.layers.conv.Conv2DLayer),\n",
       " ('image_pool2', lasagne.layers.pool.MaxPool2DLayer),\n",
       " ('prob_input', lasagne.layers.input.InputLayer),\n",
       " ('prob_conv1', lasagne.layers.conv.Conv2DLayer),\n",
       " ('prob_pool1', lasagne.layers.pool.MaxPool2DLayer),\n",
       " ('prob_conv2', lasagne.layers.conv.Conv2DLayer),\n",
       " ('prob_pool2', lasagne.layers.pool.MaxPool2DLayer),\n",
       " ('binary_input', lasagne.layers.input.InputLayer),\n",
       " ('binary_conv1', lasagne.layers.conv.Conv2DLayer),\n",
       " ('binary_pool1', lasagne.layers.pool.MaxPool2DLayer),\n",
       " ('binary_conv2', lasagne.layers.conv.Conv2DLayer),\n",
       " ('binary_pool2', lasagne.layers.pool.MaxPool2DLayer),\n",
       " ('border_input', lasagne.layers.input.InputLayer),\n",
       " ('border_conv1', lasagne.layers.conv.Conv2DLayer),\n",
       " ('border_pool1', lasagne.layers.pool.MaxPool2DLayer),\n",
       " ('border_conv2', lasagne.layers.conv.Conv2DLayer),\n",
       " ('border_pool2', lasagne.layers.pool.MaxPool2DLayer),\n",
       " ('merge', lasagne.layers.merge.ConcatLayer),\n",
       " ('hidden3', lasagne.layers.dense.DenseLayer),\n",
       " ('dropout3', lasagne.layers.noise.DropoutLayer),\n",
       " ('output', lasagne.layers.dense.DenseLayer)]"
      ]
     },
     "execution_count": 19,
     "metadata": {},
     "output_type": "execute_result"
    }
   ],
   "source": [
    "cnn_large_border.layers."
   ]
  },
  {
   "cell_type": "code",
   "execution_count": 7,
   "metadata": {
    "collapsed": true
   },
   "outputs": [],
   "source": [
    "cnn_no_border_y_true, cnn_no_border_y_pred = y_test, cnn_no_border.predict({'image_input': X_test['image'],\n",
    "           'prob_input': X_test['prob'],\n",
    "           'binary_input': X_test['merged_array']})"
   ]
  },
  {
   "cell_type": "code",
   "execution_count": 11,
   "metadata": {
    "collapsed": false
   },
   "outputs": [
    {
     "name": "stdout",
     "output_type": "stream",
     "text": [
      "             precision    recall  f1-score   support\n",
      "\n",
      "          0       0.91      0.89      0.90     13408\n",
      "          1       0.89      0.92      0.90     13408\n",
      "\n",
      "avg / total       0.90      0.90      0.90     26816\n",
      "\n"
     ]
    }
   ],
   "source": [
    "print(classification_report(cnn_no_border_y_true, cnn_no_border_y_pred))\n"
   ]
  },
  {
   "cell_type": "code",
   "execution_count": 15,
   "metadata": {
    "collapsed": false
   },
   "outputs": [
    {
     "data": {
      "text/plain": [
       "0.9034158711217184"
      ]
     },
     "execution_count": 15,
     "metadata": {},
     "output_type": "execute_result"
    }
   ],
   "source": [
    "cnn_no_border.score({'image_input': X_test['image'],\n",
    "           'prob_input': X_test['prob'],\n",
    "           'binary_input': X_test['merged_array']},\n",
    "           y_test)"
   ]
  },
  {
   "cell_type": "code",
   "execution_count": 9,
   "metadata": {
    "collapsed": false
   },
   "outputs": [],
   "source": [
    "cnn_large_border_y_true, cnn_large_border_y_pred = y_test, cnn_large_border.predict({'image_input': X_test['image'],\n",
    "           'prob_input': X_test['prob'],\n",
    "           'binary_input': X_test['merged_array'],'border_input':X_test['larger_border_overlap']})"
   ]
  },
  {
   "cell_type": "code",
   "execution_count": 12,
   "metadata": {
    "collapsed": false
   },
   "outputs": [
    {
     "name": "stdout",
     "output_type": "stream",
     "text": [
      "             precision    recall  f1-score   support\n",
      "\n",
      "          0       0.89      0.90      0.90     13408\n",
      "          1       0.90      0.89      0.89     13408\n",
      "\n",
      "avg / total       0.90      0.90      0.90     26816\n",
      "\n"
     ]
    }
   ],
   "source": [
    "print(classification_report(cnn_large_border_y_true, cnn_large_border_y_pred))\n"
   ]
  },
  {
   "cell_type": "code",
   "execution_count": 16,
   "metadata": {
    "collapsed": false
   },
   "outputs": [
    {
     "data": {
      "text/plain": [
       "0.8952863961813843"
      ]
     },
     "execution_count": 16,
     "metadata": {},
     "output_type": "execute_result"
    }
   ],
   "source": [
    "cnn_large_border.score({'image_input': X_test['image'],\n",
    "           'prob_input': X_test['prob'],\n",
    "           'binary_input': X_test['merged_array'],\n",
    "           'border_input':X_test['larger_border_overlap']},\n",
    "           y_test)"
   ]
  },
  {
   "cell_type": "code",
   "execution_count": 10,
   "metadata": {
    "collapsed": true
   },
   "outputs": [],
   "source": [
    "cnn_small_border_y_true, cnn_small_border_y_pred = y_test, cnn_small_border.predict({'image_input': X_test['image'],\n",
    "           'prob_input': X_test['prob'],\n",
    "           'binary_input': X_test['merged_array'],'border_input':X_test['border_overlap']})"
   ]
  },
  {
   "cell_type": "code",
   "execution_count": 13,
   "metadata": {
    "collapsed": false
   },
   "outputs": [
    {
     "name": "stdout",
     "output_type": "stream",
     "text": [
      "             precision    recall  f1-score   support\n",
      "\n",
      "          0       0.90      0.91      0.90     13408\n",
      "          1       0.91      0.90      0.90     13408\n",
      "\n",
      "avg / total       0.90      0.90      0.90     26816\n",
      "\n"
     ]
    }
   ],
   "source": [
    "print(classification_report(cnn_small_border_y_true, cnn_small_border_y_pred))\n"
   ]
  },
  {
   "cell_type": "code",
   "execution_count": 17,
   "metadata": {
    "collapsed": false
   },
   "outputs": [
    {
     "data": {
      "text/plain": [
       "0.9018869331742243"
      ]
     },
     "execution_count": 17,
     "metadata": {},
     "output_type": "execute_result"
    }
   ],
   "source": [
    "cnn_small_border.score({'image_input': X_test['image'],\n",
    "           'prob_input': X_test['prob'],\n",
    "           'binary_input': X_test['merged_array'],\n",
    "           'border_input':X_test['border_overlap']},\n",
    "           y_test)"
   ]
  },
  {
   "cell_type": "code",
   "execution_count": null,
   "metadata": {
    "collapsed": true
   },
   "outputs": [],
   "source": []
  }
 ],
 "metadata": {
  "kernelspec": {
   "display_name": "Python 2",
   "language": "python",
   "name": "python2"
  },
  "language_info": {
   "codemirror_mode": {
    "name": "ipython",
    "version": 2
   },
   "file_extension": ".py",
   "mimetype": "text/x-python",
   "name": "python",
   "nbconvert_exporter": "python",
   "pygments_lexer": "ipython2",
   "version": "2.7.6"
  }
 },
 "nbformat": 4,
 "nbformat_minor": 0
}
