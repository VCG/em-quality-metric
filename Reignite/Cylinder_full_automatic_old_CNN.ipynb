{
 "cells": [
  {
   "cell_type": "code",
   "execution_count": 2,
   "metadata": {
    "collapsed": false
   },
   "outputs": [
    {
     "name": "stdout",
     "output_type": "stream",
     "text": [
      "The autoreload extension is already loaded. To reload it, use:\n",
      "  %reload_ext autoreload\n"
     ]
    }
   ],
   "source": [
    "%load_ext autoreload\n",
    "%autoreload 2\n",
    "\n",
    "from cnn import CNN\n",
    "from dyn_cnn import DynCNN\n",
    "from util import Util\n",
    "from patch import Patch\n",
    "from fixer import Fixer\n",
    "from uglify import Uglify\n",
    "\n",
    "import cPickle as pickle\n",
    "import os\n",
    "import mahotas as mh\n",
    "import numpy as np\n",
    "import time\n",
    "\n",
    "import mlproof as mlp\n",
    "\n",
    "\n",
    "from matplotlib.pyplot import imshow\n",
    "import matplotlib.pyplot as plt\n",
    "%matplotlib inline"
   ]
  },
  {
   "cell_type": "code",
   "execution_count": 7,
   "metadata": {
    "collapsed": false
   },
   "outputs": [
    {
     "name": "stdout",
     "output_type": "stream",
     "text": [
      "Loading ['/home/d/dojo_xp/nets/mine_merged_large_7/configuration.txt']\n",
      "Loading /home/d/dojo_xp/nets/mine_merged_large_7/network_262.p\n"
     ]
    }
   ],
   "source": [
    "cnn = CNN('mine_merged_large_7', 'patches_7th', ['image', 'prob', 'merged_array', 'larger_border_overlap'])"
   ]
  },
  {
   "cell_type": "code",
   "execution_count": 24,
   "metadata": {
    "collapsed": false
   },
   "outputs": [
    {
     "name": "stdout",
     "output_type": "stream",
     "text": [
      "Loading z00000250.png\n",
      "6252 generated in 473.368923903 seconds.\n",
      "Grouped into 1533 patches in 0.0295310020447 seconds.\n",
      "Merge loop finished in 15.8967831135 seconds.\n",
      "Before VI: 0.372949984393\n",
      "Smallest VI: 0.372890773542\n",
      "Sureness threshold: 0.994400084019\n",
      "Loading z00000251.png\n",
      "5820 generated in 439.909374952 seconds.\n",
      "Grouped into 1422 patches in 0.0282411575317 seconds.\n",
      "Merge loop finished in 19.7120039463 seconds.\n",
      "Before VI: 0.375702196618\n",
      "Smallest VI: 0.374776599758\n",
      "Sureness threshold: 0.982509851456\n",
      "Loading z00000252.png\n",
      "6368 generated in 452.414687157 seconds.\n",
      "Grouped into 1572 patches in 0.0314021110535 seconds.\n",
      "Merge loop finished in 46.3850178719 seconds.\n",
      "Before VI: 0.410965843839\n",
      "Smallest VI: 0.402744823413\n",
      "Sureness threshold: 0.953416347504\n",
      "Loading z00000253.png\n",
      "5692 generated in 425.115846872 seconds.\n",
      "Grouped into 1402 patches in 0.0257389545441 seconds.\n",
      "Merge loop finished in 16.4905660152 seconds.\n",
      "Before VI: 0.373934285105\n",
      "Smallest VI: 0.369454273204\n",
      "Sureness threshold: 0.961709618568\n",
      "Loading z00000254.png\n",
      "5460 generated in 381.307743073 seconds.\n",
      "Grouped into 1339 patches in 0.0261330604553 seconds.\n",
      "Merge loop finished in 17.7872331142 seconds.\n",
      "Before VI: 0.376228753109\n",
      "Smallest VI: 0.372109321106\n",
      "Sureness threshold: 0.954320192337\n",
      "Loading z00000255.png\n",
      "5404 generated in 377.857413054 seconds.\n",
      "Grouped into 1313 patches in 0.0259191989899 seconds.\n",
      "Merge loop finished in 13.4108190536 seconds.\n",
      "Before VI: 0.373857608206\n",
      "Smallest VI: 0.371191534575\n",
      "Sureness threshold: 0.951940596104\n",
      "Loading z00000256.png\n",
      "5724 generated in 391.378978968 seconds.\n",
      "Grouped into 1393 patches in 0.0273811817169 seconds.\n",
      "Merge loop finished in 17.0589220524 seconds.\n",
      "Before VI: 0.401403759767\n",
      "Smallest VI: 0.399045859038\n",
      "Sureness threshold: 0.957469642162\n",
      "Loading z00000257.png\n",
      "5524 generated in 405.494091988 seconds.\n",
      "Grouped into 1353 patches in 0.0219190120697 seconds.\n",
      "Merge loop finished in 21.4550831318 seconds.\n",
      "Before VI: 0.455460938248\n",
      "Smallest VI: 0.453487375951\n",
      "Sureness threshold: 0.951098501682\n",
      "Loading z00000258.png\n",
      "5348 generated in 370.297645807 seconds.\n",
      "Grouped into 1304 patches in 0.024178981781 seconds.\n",
      "Merge loop finished in 22.1850750446 seconds.\n",
      "Before VI: 0.446285783704\n",
      "Smallest VI: 0.444144263033\n",
      "Sureness threshold: 0.952722072601\n",
      "Loading z00000259.png\n",
      "5332 generated in 370.341711998 seconds.\n",
      "Grouped into 1299 patches in 0.0248279571533 seconds.\n",
      "Merge loop finished in 26.1272258759 seconds.\n",
      "Before VI: 0.603034027102\n",
      "Smallest VI: 0.595689529038\n",
      "Sureness threshold: 0.972965061665\n",
      "Loading z00000260.png\n",
      "5240 generated in 362.485651016 seconds.\n",
      "Grouped into 1274 patches in 0.0257320404053 seconds.\n",
      "Merge loop finished in 34.2154481411 seconds.\n",
      "Before VI: 0.616351959027\n",
      "Smallest VI: 0.607438786284\n",
      "Sureness threshold: 0.952352702618\n",
      "Loading z00000261.png\n",
      "4836 generated in 368.643948078 seconds.\n",
      "Grouped into 1185 patches in 0.0234651565552 seconds.\n",
      "Merge loop finished in 36.2119050026 seconds.\n",
      "Before VI: 0.608701502373\n",
      "Smallest VI: 0.601248927485\n",
      "Sureness threshold: 0.951309144497\n",
      "Loading z00000262.png\n",
      "4840 generated in 340.392089844 seconds.\n",
      "Grouped into 1185 patches in 0.0215191841125 seconds.\n",
      "Merge loop finished in 27.8127481937 seconds.\n",
      "Before VI: 0.591902475923\n",
      "Smallest VI: 0.580555929054\n",
      "Sureness threshold: 0.952725291252\n",
      "Loading z00000263.png\n",
      "4600 generated in 321.376026869 seconds.\n",
      "Grouped into 1131 patches in 0.0216591358185 seconds.\n",
      "Merge loop finished in 27.3143880367 seconds.\n",
      "Before VI: 0.560545712985\n",
      "Smallest VI: 0.55065276074\n",
      "Sureness threshold: 0.956369757652\n",
      "Loading z00000264.png\n",
      "4548 generated in 318.446388006 seconds.\n",
      "Grouped into 1114 patches in 0.0218889713287 seconds.\n",
      "Merge loop finished in 19.2307918072 seconds.\n",
      "Before VI: 0.570592566491\n",
      "Smallest VI: 0.56652094517\n",
      "Sureness threshold: 0.974266588688\n",
      "Loading z00000265.png\n",
      "4012 generated in 281.019654036 seconds.\n",
      "Grouped into 985 patches in 0.0191400051117 seconds.\n",
      "Merge loop finished in 34.5857481956 seconds.\n",
      "Before VI: 0.595265103518\n",
      "Smallest VI: 0.594317645209\n",
      "Sureness threshold: 0.993009209633\n",
      "Loading z00000266.png\n",
      "3820 generated in 273.599236965 seconds.\n",
      "Grouped into 938 patches in 0.0185859203339 seconds.\n",
      "Merge loop finished in 35.3060138226 seconds.\n",
      "Before VI: 0.579561598138\n",
      "Smallest VI: 0.555084054755\n",
      "Sureness threshold: 0.950634717941\n",
      "Loading z00000267.png\n",
      "3680 generated in 258.655018091 seconds.\n",
      "Grouped into 907 patches in 0.0160448551178 seconds.\n",
      "Merge loop finished in 6.74558806419 seconds.\n",
      "Before VI: 0.559416650154\n",
      "Smallest VI: 0.547842827165\n",
      "Sureness threshold: 0.967929363251\n",
      "Loading z00000268.png\n",
      "3620 generated in 255.826931 seconds.\n",
      "Grouped into 889 patches in 0.0174407958984 seconds.\n",
      "Merge loop finished in 21.9614300728 seconds.\n",
      "Before VI: 0.499463237204\n",
      "Smallest VI: 0.477372179908\n",
      "Sureness threshold: 0.957514464855\n",
      "Loading z00000269.png\n",
      "3488 generated in 248.42700386 seconds.\n",
      "Grouped into 864 patches in 0.0167331695557 seconds.\n",
      "Merge loop finished in 45.1935009956 seconds.\n",
      "Before VI: 0.446189797402\n",
      "Smallest VI: 0.438785696638\n",
      "Sureness threshold: 0.978474199772\n",
      "Loading z00000270.png\n",
      "3104 generated in 217.332456827 seconds.\n",
      "Grouped into 764 patches in 0.0143730640411 seconds.\n",
      "Merge loop finished in 17.4111020565 seconds.\n",
      "Before VI: 0.454863194335\n",
      "Smallest VI: 0.442465985018\n",
      "Sureness threshold: 0.950456261635\n",
      "Loading z00000271.png\n",
      "3032 generated in 212.321209908 seconds.\n",
      "Grouped into 741 patches in 0.014436006546 seconds.\n",
      "Merge loop finished in 10.7726280689 seconds.\n",
      "Before VI: 0.420502313963\n",
      "Smallest VI: 0.417003713657\n",
      "Sureness threshold: 0.950148582458\n",
      "Loading z00000272.png\n",
      "2824 generated in 199.355259895 seconds.\n",
      "Grouped into 688 patches in 0.0103039741516 seconds.\n",
      "Merge loop finished in 12.6201310158 seconds.\n",
      "Before VI: 0.438592181023\n",
      "Smallest VI: 0.43635997435\n",
      "Sureness threshold: 0.954693496227\n",
      "Loading z00000273.png\n",
      "2700 generated in 192.376672983 seconds.\n",
      "Grouped into 670 patches in 0.0138249397278 seconds.\n",
      "Merge loop finished in 4.24909496307 seconds.\n",
      "Before VI: 0.470558434538\n",
      "Smallest VI: 0.467061593835\n",
      "Sureness threshold: 0.992821872234\n",
      "Loading z00000274.png\n",
      "2484 generated in 176.263126135 seconds.\n",
      "Grouped into 608 patches in 0.0121219158173 seconds.\n",
      "Merge loop finished in 15.2833588123 seconds.\n",
      "Before VI: 0.433080538249\n",
      "Smallest VI: 0.439569451026\n",
      "Sureness threshold: 0.98762100935\n",
      "Loading z00000275.png\n",
      "2160 generated in 155.99592185 seconds.\n",
      "Grouped into 533 patches in 0.0103859901428 seconds.\n",
      "Merge loop finished in 15.6402699947 seconds.\n",
      "Before VI: 0.527164362396\n",
      "Smallest VI: 0.49491078802\n",
      "Sureness threshold: 0.963886737823\n",
      "Loading z00000276.png\n",
      "2020 generated in 145.147526979 seconds.\n",
      "Grouped into 501 patches in 0.00909805297852 seconds.\n",
      "Merge loop finished in 12.5723249912 seconds.\n",
      "Before VI: 0.498845369559\n",
      "Smallest VI: 0.483917165328\n",
      "Sureness threshold: 0.962310314178\n",
      "Loading z00000277.png\n",
      "2020 generated in 143.183665037 seconds.\n",
      "Grouped into 501 patches in 0.00890207290649 seconds.\n",
      "Merge loop finished in 18.8789727688 seconds.\n",
      "Before VI: 0.525181909745\n",
      "Smallest VI: 0.515001078549\n",
      "Sureness threshold: 0.955559670925\n",
      "Loading z00000278.png\n",
      "1988 generated in 145.638001204 seconds.\n",
      "Grouped into 496 patches in 0.00949716567993 seconds.\n",
      "Merge loop finished in 20.9753108025 seconds.\n",
      "Before VI: 0.530762370939\n",
      "Smallest VI: 0.511865197795\n",
      "Sureness threshold: 0.955194175243\n",
      "Loading z00000279.png\n",
      "2032 generated in 157.058110952 seconds.\n",
      "Grouped into 506 patches in 0.00972819328308 seconds.\n",
      "Merge loop finished in 6.74503517151 seconds.\n",
      "Before VI: 0.575567464294\n",
      "Smallest VI: 0.567287832523\n",
      "Sureness threshold: 0.951310217381\n",
      "Loading z00000280.png\n",
      "1644 generated in 122.029427052 seconds.\n",
      "Grouped into 409 patches in 0.00760412216187 seconds.\n",
      "Merge loop finished in 8.10312390327 seconds.\n",
      "Before VI: 0.549671422703\n",
      "Smallest VI: 0.529059485999\n",
      "Sureness threshold: 0.967770755291\n",
      "Loading z00000281.png\n",
      "1384 generated in 103.148907185 seconds.\n",
      "Grouped into 341 patches in 0.00663614273071 seconds.\n",
      "Merge loop finished in 2.87092781067 seconds.\n",
      "Before VI: 0.430850320435\n",
      "Smallest VI: 0.428951727905\n",
      "Sureness threshold: 0.978656589985\n",
      "Loading z00000282.png\n",
      "1348 generated in 102.183180094 seconds.\n",
      "Grouped into 334 patches in 0.00658583641052 seconds.\n",
      "Merge loop finished in 3.82711911201 seconds.\n",
      "Before VI: 0.502439575425\n",
      "Smallest VI: 0.505308830088\n",
      "Sureness threshold: 0.955133974552\n",
      "Loading z00000283.png\n",
      "1144 generated in 90.5156559944 seconds.\n",
      "Grouped into 283 patches in 0.00513982772827 seconds.\n",
      "Merge loop finished in 3.62694191933 seconds.\n",
      "Before VI: 0.498934910486\n",
      "Smallest VI: 0.495775559117\n",
      "Sureness threshold: 0.965685546398\n",
      "Loading z00000284.png\n",
      "1148 generated in 90.6272361279 seconds.\n",
      "Grouped into 285 patches in 0.00603795051575 seconds.\n",
      "Merge loop finished in 0.00114607810974 seconds.\n"
     ]
    },
    {
     "ename": "ValueError",
     "evalue": "zero-size array to reduction operation minimum which has no identity",
     "output_type": "error",
     "traceback": [
      "\u001b[1;31m---------------------------------------------------------------------------\u001b[0m",
      "\u001b[1;31mValueError\u001b[0m                                Traceback (most recent call last)",
      "\u001b[1;32m<ipython-input-24-98163d58ba62>\u001b[0m in \u001b[0;36m<module>\u001b[1;34m()\u001b[0m\n\u001b[0;32m      8\u001b[0m     vi_s, merge_pairs, surenesses, m = Fixer.splits(cnn,image, prob, rhoana, gold, \n\u001b[0;32m      9\u001b[0m                                                      \u001b[0msureness_threshold\u001b[0m\u001b[1;33m=\u001b[0m\u001b[1;36m.95\u001b[0m\u001b[1;33m,\u001b[0m\u001b[1;33m\u001b[0m\u001b[0m\n\u001b[1;32m---> 10\u001b[1;33m                                                      verbose=True)\n\u001b[0m\u001b[0;32m     11\u001b[0m     \u001b[0mm_s\u001b[0m\u001b[1;33m.\u001b[0m\u001b[0mappend\u001b[0m\u001b[1;33m(\u001b[0m\u001b[0mm\u001b[0m\u001b[1;33m)\u001b[0m\u001b[1;33m\u001b[0m\u001b[0m\n\u001b[0;32m     12\u001b[0m     \u001b[0mcylinder_vi_s\u001b[0m\u001b[1;33m.\u001b[0m\u001b[0mappend\u001b[0m\u001b[1;33m(\u001b[0m\u001b[0mvi_s\u001b[0m\u001b[1;33m[\u001b[0m\u001b[1;33m-\u001b[0m\u001b[1;36m1\u001b[0m\u001b[1;33m]\u001b[0m\u001b[1;33m)\u001b[0m\u001b[1;33m\u001b[0m\u001b[0m\n",
      "\u001b[1;32m/home/d/Projects/em-quality-metric/Reignite/fixer.py\u001b[0m in \u001b[0;36msplits\u001b[1;34m(cnn, image, prob, segmentation, groundtruth, sureness_threshold, smallest_first, oversampling, verbose, max)\u001b[0m\n\u001b[0;32m    541\u001b[0m \u001b[1;33m\u001b[0m\u001b[0m\n\u001b[0;32m    542\u001b[0m     \u001b[1;32mif\u001b[0m \u001b[0mgroundtruth\u001b[0m\u001b[1;33m.\u001b[0m\u001b[0mshape\u001b[0m\u001b[1;33m[\u001b[0m\u001b[1;36m0\u001b[0m\u001b[1;33m]\u001b[0m\u001b[1;33m>\u001b[0m\u001b[1;36m1\u001b[0m \u001b[1;32mand\u001b[0m \u001b[0mgroundtruth\u001b[0m\u001b[1;33m.\u001b[0m\u001b[0mmax\u001b[0m\u001b[1;33m(\u001b[0m\u001b[1;33m)\u001b[0m\u001b[1;33m!=\u001b[0m\u001b[1;36m0\u001b[0m\u001b[1;33m:\u001b[0m\u001b[1;33m\u001b[0m\u001b[0m\n\u001b[1;32m--> 543\u001b[1;33m       \u001b[0mmin_vi_index\u001b[0m \u001b[1;33m=\u001b[0m \u001b[0mvi_s\u001b[0m\u001b[1;33m.\u001b[0m\u001b[0mindex\u001b[0m\u001b[1;33m(\u001b[0m\u001b[0mnp\u001b[0m\u001b[1;33m.\u001b[0m\u001b[0mmin\u001b[0m\u001b[1;33m(\u001b[0m\u001b[0mvi_s\u001b[0m\u001b[1;33m)\u001b[0m\u001b[1;33m)\u001b[0m\u001b[1;33m\u001b[0m\u001b[0m\n\u001b[0m\u001b[0;32m    544\u001b[0m       \u001b[1;32mif\u001b[0m \u001b[0mverbose\u001b[0m\u001b[1;33m:\u001b[0m\u001b[1;33m\u001b[0m\u001b[0m\n\u001b[0;32m    545\u001b[0m         \u001b[1;32mprint\u001b[0m \u001b[1;34m'Before VI:'\u001b[0m\u001b[1;33m,\u001b[0m \u001b[0mbefore_vi\u001b[0m\u001b[1;33m\u001b[0m\u001b[0m\n",
      "\u001b[1;32m/home/d/nolearn/local/lib/python2.7/site-packages/numpy/core/fromnumeric.pyc\u001b[0m in \u001b[0;36mamin\u001b[1;34m(a, axis, out, keepdims)\u001b[0m\n\u001b[0;32m   2352\u001b[0m         \u001b[1;32mexcept\u001b[0m \u001b[0mAttributeError\u001b[0m\u001b[1;33m:\u001b[0m\u001b[1;33m\u001b[0m\u001b[0m\n\u001b[0;32m   2353\u001b[0m             return _methods._amin(a, axis=axis,\n\u001b[1;32m-> 2354\u001b[1;33m                                   out=out, keepdims=keepdims)\n\u001b[0m\u001b[0;32m   2355\u001b[0m         \u001b[1;31m# NOTE: Dropping the keepdims parameter\u001b[0m\u001b[1;33m\u001b[0m\u001b[1;33m\u001b[0m\u001b[0m\n\u001b[0;32m   2356\u001b[0m         \u001b[1;32mreturn\u001b[0m \u001b[0mamin\u001b[0m\u001b[1;33m(\u001b[0m\u001b[0maxis\u001b[0m\u001b[1;33m=\u001b[0m\u001b[0maxis\u001b[0m\u001b[1;33m,\u001b[0m \u001b[0mout\u001b[0m\u001b[1;33m=\u001b[0m\u001b[0mout\u001b[0m\u001b[1;33m)\u001b[0m\u001b[1;33m\u001b[0m\u001b[0m\n",
      "\u001b[1;32m/home/d/nolearn/local/lib/python2.7/site-packages/numpy/core/_methods.pyc\u001b[0m in \u001b[0;36m_amin\u001b[1;34m(a, axis, out, keepdims)\u001b[0m\n\u001b[0;32m     27\u001b[0m \u001b[1;33m\u001b[0m\u001b[0m\n\u001b[0;32m     28\u001b[0m \u001b[1;32mdef\u001b[0m \u001b[0m_amin\u001b[0m\u001b[1;33m(\u001b[0m\u001b[0ma\u001b[0m\u001b[1;33m,\u001b[0m \u001b[0maxis\u001b[0m\u001b[1;33m=\u001b[0m\u001b[0mNone\u001b[0m\u001b[1;33m,\u001b[0m \u001b[0mout\u001b[0m\u001b[1;33m=\u001b[0m\u001b[0mNone\u001b[0m\u001b[1;33m,\u001b[0m \u001b[0mkeepdims\u001b[0m\u001b[1;33m=\u001b[0m\u001b[0mFalse\u001b[0m\u001b[1;33m)\u001b[0m\u001b[1;33m:\u001b[0m\u001b[1;33m\u001b[0m\u001b[0m\n\u001b[1;32m---> 29\u001b[1;33m     \u001b[1;32mreturn\u001b[0m \u001b[0mumr_minimum\u001b[0m\u001b[1;33m(\u001b[0m\u001b[0ma\u001b[0m\u001b[1;33m,\u001b[0m \u001b[0maxis\u001b[0m\u001b[1;33m,\u001b[0m \u001b[0mNone\u001b[0m\u001b[1;33m,\u001b[0m \u001b[0mout\u001b[0m\u001b[1;33m,\u001b[0m \u001b[0mkeepdims\u001b[0m\u001b[1;33m)\u001b[0m\u001b[1;33m\u001b[0m\u001b[0m\n\u001b[0m\u001b[0;32m     30\u001b[0m \u001b[1;33m\u001b[0m\u001b[0m\n\u001b[0;32m     31\u001b[0m \u001b[1;32mdef\u001b[0m \u001b[0m_sum\u001b[0m\u001b[1;33m(\u001b[0m\u001b[0ma\u001b[0m\u001b[1;33m,\u001b[0m \u001b[0maxis\u001b[0m\u001b[1;33m=\u001b[0m\u001b[0mNone\u001b[0m\u001b[1;33m,\u001b[0m \u001b[0mdtype\u001b[0m\u001b[1;33m=\u001b[0m\u001b[0mNone\u001b[0m\u001b[1;33m,\u001b[0m \u001b[0mout\u001b[0m\u001b[1;33m=\u001b[0m\u001b[0mNone\u001b[0m\u001b[1;33m,\u001b[0m \u001b[0mkeepdims\u001b[0m\u001b[1;33m=\u001b[0m\u001b[0mFalse\u001b[0m\u001b[1;33m)\u001b[0m\u001b[1;33m:\u001b[0m\u001b[1;33m\u001b[0m\u001b[0m\n",
      "\u001b[1;31mValueError\u001b[0m: zero-size array to reduction operation minimum which has no identity"
     ]
    }
   ],
   "source": [
    "before_vi_s = []\n",
    "cylinder_vi_s = []\n",
    "vi_diffs = []\n",
    "m_s = []\n",
    "for z in range(250, 300):\n",
    "    image, prob, mask, gold, rhoana = mlp.Util.read_section('/home/d/data/cylinder/', z)\n",
    "    before_vi_s.append(Util.vi(gold, rhoana))\n",
    "    vi_s, merge_pairs, surenesses, m = Fixer.splits(cnn,image, prob, rhoana, gold, \n",
    "                                                     sureness_threshold=.95,\n",
    "                                                     verbose=True)\n",
    "    m_s.append(m)\n",
    "    cylinder_vi_s.append(vi_s[-1])\n",
    "    vi_diffs.append(before_vi_s[-1]-cylinder_vi_s[-1])\n",
    "    "
   ]
  },
  {
   "cell_type": "code",
   "execution_count": 25,
   "metadata": {
    "collapsed": false
   },
   "outputs": [
    {
     "data": {
      "text/plain": [
       "[-0.0056648897170337165,\n",
       " -0.00044791744631655916,\n",
       " 0.007773157961902477,\n",
       " 0.003437557723732887,\n",
       " 0.003844148865421282,\n",
       " 0.0026660736307393407,\n",
       " 4.074808053644574e-06,\n",
       " 0.001973562296779363,\n",
       " 0.0021415206710626578,\n",
       " 0.003060422281441433,\n",
       " 0.008580336632887153,\n",
       " -0.00859971737481402,\n",
       " 0.011346546868798768,\n",
       " 0.006147297977134869,\n",
       " -0.0013146482606742893,\n",
       " -0.004068938464747873,\n",
       " 0.02444633184805589,\n",
       " 0.011414986532145122,\n",
       " 0.021431342711069945,\n",
       " -0.0060168944998144624,\n",
       " 0.01239720931714583,\n",
       " 0.0034986003063774973,\n",
       " 0.0016268346933339117,\n",
       " -0.0022898668573372305,\n",
       " -0.006488912776426936,\n",
       " 0.03225357437639076,\n",
       " 0.014928204230592712,\n",
       " 0.010180831196210605,\n",
       " 0.018897173144666546,\n",
       " 0.008279631770623297,\n",
       " 0.01752089880775376,\n",
       " 0.0018985925309120688,\n",
       " -0.002869254663091958,\n",
       " -0.0032268367088237326]"
      ]
     },
     "execution_count": 25,
     "metadata": {},
     "output_type": "execute_result"
    }
   ],
   "source": [
    "vi_diffs"
   ]
  },
  {
   "cell_type": "code",
   "execution_count": 39,
   "metadata": {
    "collapsed": false
   },
   "outputs": [
    {
     "data": {
      "text/plain": [
       "0.47479850263762785"
      ]
     },
     "execution_count": 39,
     "metadata": {},
     "output_type": "execute_result"
    }
   ],
   "source": [
    "np.mean(before_vi_s)"
   ]
  },
  {
   "cell_type": "code",
   "execution_count": 38,
   "metadata": {
    "collapsed": false
   },
   "outputs": [
    {
     "data": {
      "text/plain": [
       "0.42264790744226149"
      ]
     },
     "execution_count": 38,
     "metadata": {},
     "output_type": "execute_result"
    }
   ],
   "source": [
    "np.mean(cylinder_vi_s)"
   ]
  },
  {
   "cell_type": "code",
   "execution_count": 32,
   "metadata": {
    "collapsed": false
   },
   "outputs": [],
   "source": [
    "before_vi_s = before_vi_s[:-1]"
   ]
  },
  {
   "cell_type": "code",
   "execution_count": 37,
   "metadata": {
    "collapsed": false
   },
   "outputs": [
    {
     "data": {
      "text/plain": [
       "50"
      ]
     },
     "execution_count": 37,
     "metadata": {},
     "output_type": "execute_result"
    }
   ],
   "source": [
    "len(m_s)"
   ]
  },
  {
   "cell_type": "code",
   "execution_count": 36,
   "metadata": {
    "collapsed": false
   },
   "outputs": [
    {
     "data": {
      "text/plain": [
       "50"
      ]
     },
     "execution_count": 36,
     "metadata": {},
     "output_type": "execute_result"
    }
   ],
   "source": [
    "len(vi_diffs)"
   ]
  },
  {
   "cell_type": "code",
   "execution_count": 35,
   "metadata": {
    "collapsed": false
   },
   "outputs": [
    {
     "data": {
      "text/plain": [
       "50"
      ]
     },
     "execution_count": 35,
     "metadata": {},
     "output_type": "execute_result"
    }
   ],
   "source": [
    "len(before_vi_s)"
   ]
  },
  {
   "cell_type": "code",
   "execution_count": 34,
   "metadata": {
    "collapsed": false
   },
   "outputs": [
    {
     "name": "stdout",
     "output_type": "stream",
     "text": [
      "Loading z00000284.png\n",
      "1148 generated in 93.9149198532 seconds.\n",
      "Grouped into 285 patches in 0.0053699016571 seconds.\n",
      "Merge loop finished in 0.00127911567688 seconds.\n",
      "Loading z00000285.png\n",
      "1080 generated in 88.4759571552 seconds.\n",
      "Grouped into 270 patches in 0.00569200515747 seconds.\n",
      "Merge loop finished in 4.82971000671 seconds.\n",
      "Before VI: 0.485076187154\n",
      "Smallest VI: 0.469467206384\n",
      "Sureness threshold: 0.961599349976\n",
      "Loading z00000286.png\n",
      "880 generated in 74.0899040699 seconds.\n",
      "Grouped into 219 patches in 0.00446081161499 seconds.\n",
      "Merge loop finished in 1.353536129 seconds.\n",
      "Before VI: 0.480080172758\n",
      "Smallest VI: 0.479917571796\n",
      "Sureness threshold: 0.955254018307\n",
      "Loading z00000287.png\n",
      "884 generated in 74.2086091042 seconds.\n",
      "Grouped into 221 patches in 0.0043568611145 seconds.\n",
      "Merge loop finished in 3.15965104103 seconds.\n",
      "Before VI: 0.562095986661\n",
      "Smallest VI: 0.560943952478\n",
      "Sureness threshold: 0.97917509079\n",
      "Loading z00000288.png\n",
      "932 generated in 83.6915390491 seconds.\n",
      "Grouped into 233 patches in 0.00452494621277 seconds.\n",
      "Merge loop finished in 1.34857392311 seconds.\n",
      "Before VI: 0.63535469032\n",
      "Smallest VI: 0.625293072645\n",
      "Sureness threshold: 0.987669706345\n",
      "Loading z00000289.png\n",
      "804 generated in 71.3704669476 seconds.\n",
      "Grouped into 201 patches in 0.00401401519775 seconds.\n",
      "Merge loop finished in 2.28937983513 seconds.\n",
      "Before VI: 0.562789669677\n",
      "Smallest VI: 0.551506246503\n",
      "Sureness threshold: 0.985713124275\n",
      "Loading z00000290.png\n",
      "700 generated in 57.3055410385 seconds.\n",
      "Grouped into 174 patches in 0.00342321395874 seconds.\n",
      "Merge loop finished in 0.735580921173 seconds.\n",
      "Before VI: 0.524732743871\n",
      "Smallest VI: 0.519533842335\n",
      "Sureness threshold: 0.983659744263\n",
      "Loading z00000291.png\n",
      "628 generated in 55.9103691578 seconds.\n",
      "Grouped into 157 patches in 0.00303292274475 seconds.\n",
      "Merge loop finished in 0.507708072662 seconds.\n",
      "Before VI: 0.52662549474\n",
      "Smallest VI: 0.526627952919\n",
      "Sureness threshold: 0.954255640507\n",
      "Loading z00000292.png\n",
      "476 generated in 42.6563930511 seconds.\n",
      "Grouped into 119 patches in 0.00232601165771 seconds.\n",
      "Merge loop finished in 0.502871990204 seconds.\n",
      "Before VI: 0.460475489865\n",
      "Smallest VI: 0.460832939619\n",
      "Sureness threshold: 0.960874140263\n",
      "Loading z00000293.png\n",
      "388 generated in 38.1344251633 seconds.\n",
      "Grouped into 97 patches in 0.00192499160767 seconds.\n",
      "Merge loop finished in 0.00088906288147 seconds.\n",
      "Loading z00000294.png\n",
      "320 generated in 31.0538101196 seconds.\n",
      "Grouped into 80 patches in 0.00163602828979 seconds.\n",
      "Merge loop finished in 0.628121137619 seconds.\n",
      "Before VI: 0.45249120153\n",
      "Smallest VI: 0.450447942074\n",
      "Sureness threshold: 0.95041435957\n",
      "Loading z00000295.png\n",
      "252 generated in 25.5210871696 seconds.\n",
      "Grouped into 63 patches in 0.00125288963318 seconds.\n",
      "Merge loop finished in 0.000622034072876 seconds.\n",
      "Loading z00000296.png\n",
      "200 generated in 21.335321188 seconds.\n",
      "Grouped into 50 patches in 0.00104999542236 seconds.\n",
      "Merge loop finished in 0.000607013702393 seconds.\n",
      "Loading z00000297.png\n",
      "72 generated in 10.020717144 seconds.\n",
      "Grouped into 18 patches in 0.000549077987671 seconds.\n",
      "Merge loop finished in 0.000542879104614 seconds.\n",
      "Loading z00000298.png\n",
      "4 generated in 5.80912613869 seconds.\n",
      "Grouped into 1 patches in 8.41617584229e-05 seconds.\n",
      "Merge loop finished in 0.000581026077271 seconds.\n",
      "Loading z00000299.png\n",
      "0 generated in 0.0474650859833 seconds.\n",
      "Grouped into 0 patches in 7.39097595215e-05 seconds.\n",
      "Merge loop finished in 8.20159912109e-05 seconds.\n"
     ]
    }
   ],
   "source": [
    "for z in range(284, 300):\n",
    "    image, prob, mask, gold, rhoana = mlp.Util.read_section('/home/d/data/cylinder/', z)\n",
    "    before_vi_s.append(Util.vi(gold, rhoana))\n",
    "    vi_s, merge_pairs, surenesses, m = Fixer.splits(cnn,image, prob, rhoana, gold, \n",
    "                                                     sureness_threshold=.95,\n",
    "                                                     verbose=True)\n",
    "    m_s.append(m)\n",
    "    if len(vi_s) > 0:\n",
    "        cylinder_vi_s.append(vi_s[-1])\n",
    "        vi_diffs.append(before_vi_s[-1]-cylinder_vi_s[-1])\n",
    "    else:\n",
    "        cylinder_vi_s.append(0)\n",
    "        vi_diffs.append(before_vi_s[-1])"
   ]
  },
  {
   "cell_type": "code",
   "execution_count": 42,
   "metadata": {
    "collapsed": false
   },
   "outputs": [
    {
     "data": {
      "text/plain": [
       "[-0.0056648897170337165,\n",
       " -0.00044791744631655916,\n",
       " 0.007773157961902477,\n",
       " 0.003437557723732887,\n",
       " 0.003844148865421282,\n",
       " 0.0026660736307393407,\n",
       " 4.074808053644574e-06,\n",
       " 0.001973562296779363,\n",
       " 0.0021415206710626578,\n",
       " 0.003060422281441433,\n",
       " 0.008580336632887153,\n",
       " -0.00859971737481402,\n",
       " 0.011346546868798768,\n",
       " 0.006147297977134869,\n",
       " -0.0013146482606742893,\n",
       " -0.004068938464747873,\n",
       " 0.02444633184805589,\n",
       " 0.011414986532145122,\n",
       " 0.021431342711069945,\n",
       " -0.0060168944998144624,\n",
       " 0.01239720931714583,\n",
       " 0.0034986003063774973,\n",
       " 0.0016268346933339117,\n",
       " -0.0022898668573372305,\n",
       " -0.006488912776426936,\n",
       " 0.03225357437639076,\n",
       " 0.014928204230592712,\n",
       " 0.010180831196210605,\n",
       " 0.018897173144666546,\n",
       " 0.008279631770623297,\n",
       " 0.01752089880775376,\n",
       " 0.0018985925309120688,\n",
       " -0.002869254663091958,\n",
       " -0.0032268367088237326,\n",
       " 0.5461621705031456,\n",
       " 0.015088489895975776,\n",
       " 0.00016260096280529268,\n",
       " -8.500332184091519e-05,\n",
       " 0.010061617674273826,\n",
       " 0.011283423173543916,\n",
       " 0.005198901535982792,\n",
       " -2.4581784181521016e-06,\n",
       " -0.0003574497544791555,\n",
       " 0.48441914645616,\n",
       " 0.0020432594560029216,\n",
       " 0.4118202313464083,\n",
       " 0.40229724602881056,\n",
       " 0.32739498113082055,\n",
       " 0.2032815684449769,\n",
       " 0.0]"
      ]
     },
     "execution_count": 42,
     "metadata": {},
     "output_type": "execute_result"
    }
   ],
   "source": [
    "vi_diffs"
   ]
  },
  {
   "cell_type": "code",
   "execution_count": 41,
   "metadata": {
    "collapsed": false
   },
   "outputs": [
    {
     "data": {
      "text/plain": [
       "[0.3786148741101423,\n",
       " 0.3761501140647132,\n",
       " 0.4031926858768182,\n",
       " 0.37049672738135264,\n",
       " 0.37238460424387654,\n",
       " 0.3711915345751171,\n",
       " 0.40139968495919387,\n",
       " 0.4534873759514335,\n",
       " 0.4441442630328494,\n",
       " 0.5999736048205211,\n",
       " 0.6077716223946172,\n",
       " 0.6173012197474161,\n",
       " 0.5805559290539115,\n",
       " 0.5543984150075865,\n",
       " 0.5719072147521285,\n",
       " 0.5993340419822832,\n",
       " 0.5551152662894978,\n",
       " 0.5480016636216476,\n",
       " 0.4780318944933022,\n",
       " 0.4522066919014369,\n",
       " 0.44246598501764556,\n",
       " 0.41700371365664424,\n",
       " 0.4369653463293748,\n",
       " 0.47284830139521095,\n",
       " 0.43956945102592115,\n",
       " 0.49491078801993726,\n",
       " 0.4839171653282275,\n",
       " 0.5150010785488455,\n",
       " 0.5118651977945907,\n",
       " 0.5672878325228838,\n",
       " 0.5321505238948419,\n",
       " 0.4289517279045265,\n",
       " 0.5053088300883335,\n",
       " 0.5021617471945685,\n",
       " 0,\n",
       " 0.46998769725829526,\n",
       " 0.4799175717955375,\n",
       " 0.5621809899827044,\n",
       " 0.6252930726453725,\n",
       " 0.5515062465031129,\n",
       " 0.5195338423351847,\n",
       " 0.526627952918548,\n",
       " 0.4608329396192463,\n",
       " 0,\n",
       " 0.4504479420736729,\n",
       " 0,\n",
       " 0,\n",
       " 0,\n",
       " 0,\n",
       " 0]"
      ]
     },
     "execution_count": 41,
     "metadata": {},
     "output_type": "execute_result"
    }
   ],
   "source": [
    "cylinder_vi_s"
   ]
  },
  {
   "cell_type": "code",
   "execution_count": 43,
   "metadata": {
    "collapsed": true
   },
   "outputs": [],
   "source": [
    "#with open('/home/d/dojo_xp/data/_old_cnn_bigM_cylinder_250_300.p', 'wb') as f:\n",
    "#    pickle.dump(m_s, f)"
   ]
  },
  {
   "cell_type": "code",
   "execution_count": 44,
   "metadata": {
    "collapsed": false
   },
   "outputs": [
    {
     "name": "stdout",
     "output_type": "stream",
     "text": [
      "Loading z00000250.png\n",
      "Loading z00000251.png\n",
      "Loading z00000252.png\n",
      "Loading z00000253.png\n",
      "Loading z00000254.png\n",
      "Loading z00000255.png\n",
      "Loading z00000256.png\n",
      "Loading z00000257.png\n",
      "Loading z00000258.png\n",
      "Loading z00000259.png\n",
      "Loading z00000260.png\n",
      "Loading z00000261.png\n",
      "Loading z00000262.png\n",
      "Loading z00000263.png\n",
      "Loading z00000264.png\n",
      "Loading z00000265.png\n",
      "Loading z00000266.png\n",
      "Loading z00000267.png\n",
      "Loading z00000268.png\n",
      "Loading z00000269.png\n",
      "Loading z00000270.png\n",
      "Loading z00000271.png\n",
      "Loading z00000272.png\n",
      "Loading z00000273.png\n",
      "Loading z00000274.png\n",
      "Loading z00000275.png\n",
      "Loading z00000276.png\n",
      "Loading z00000277.png\n",
      "Loading z00000278.png\n",
      "Loading z00000279.png\n",
      "Loading z00000280.png\n",
      "Loading z00000281.png\n",
      "Loading z00000282.png\n",
      "Loading z00000283.png\n",
      "Loading z00000284.png\n",
      "Loading z00000285.png\n",
      "Loading z00000286.png\n",
      "Loading z00000287.png\n",
      "Loading z00000288.png\n",
      "Loading z00000289.png\n",
      "Loading z00000290.png\n",
      "Loading z00000291.png\n",
      "Loading z00000292.png\n",
      "Loading z00000293.png\n",
      "Loading z00000294.png\n",
      "Loading z00000295.png\n",
      "Loading z00000296.png\n",
      "Loading z00000297.png\n",
      "Loading z00000298.png\n",
      "Loading z00000299.png\n"
     ]
    }
   ],
   "source": [
    "#\n",
    "# now automated user\n",
    "#\n",
    "\n",
    "# load data as volume\n",
    "volume = []\n",
    "volume_prob = []\n",
    "volume_segmentation = []\n",
    "volume_groundtruth = []\n",
    "for z in range(250, 300):\n",
    "    image, prob, mask, gold, rhoana = mlp.Util.read_section('/home/d/data/cylinder/', z)\n",
    "    \n",
    "    volume.append(image)\n",
    "    volume_prob.append(prob)\n",
    "    volume_segmentation.append(rhoana)\n",
    "    volume_groundtruth.append(gold)"
   ]
  },
  {
   "cell_type": "code",
   "execution_count": 45,
   "metadata": {
    "collapsed": true
   },
   "outputs": [],
   "source": [
    "from fixer import Fixer"
   ]
  },
  {
   "cell_type": "code",
   "execution_count": 47,
   "metadata": {
    "collapsed": false
   },
   "outputs": [],
   "source": [
    "new_m_s, out_volume = Fixer.splits_global_from_M(cnn, m_s, \n",
    "                                                 volume, \n",
    "                                                 volume_prob, \n",
    "                                                 volume_segmentation, \n",
    "                                                 volume_groundtruth)"
   ]
  },
  {
   "cell_type": "code",
   "execution_count": 48,
   "metadata": {
    "collapsed": true
   },
   "outputs": [],
   "source": [
    "sim_user_vi_s = []\n",
    "for ov in range(out_volume.shape[0]):\n",
    "    vi = Util.vi(volume_groundtruth[ov], out_volume[ov])\n",
    "    sim_user_vi_s.append(vi)"
   ]
  },
  {
   "cell_type": "code",
   "execution_count": 49,
   "metadata": {
    "collapsed": false
   },
   "outputs": [
    {
     "data": {
      "text/plain": [
       "[0.365297941004596,\n",
       " 0.37332765466660334,\n",
       " 0.3983001724345572,\n",
       " 0.372023316562343,\n",
       " 0.3709848297623539,\n",
       " 0.37133308165057244,\n",
       " 0.39842326245250437,\n",
       " 0.45267898655934946,\n",
       " 0.44352306077643977,\n",
       " 0.5999395314374301,\n",
       " 0.6109411148192354,\n",
       " 0.6023204063872765,\n",
       " 0.5840082210880411,\n",
       " 0.5566650544037905,\n",
       " 0.569394433639518,\n",
       " 0.5873613923724754,\n",
       " 0.5697122461366817,\n",
       " 0.5570423196873424,\n",
       " 0.4910261156035798,\n",
       " 0.4282754587212452,\n",
       " 0.45288344931877145,\n",
       " 0.41874279328141917,\n",
       " 0.4369442000523778,\n",
       " 0.4672160075154794,\n",
       " 0.4250478310792447,\n",
       " 0.5047155436788469,\n",
       " 0.4826776224559506,\n",
       " 0.5055445500487332,\n",
       " 0.5024310789496313,\n",
       " 0.5645769090369575,\n",
       " 0.5431009539317859,\n",
       " 0.4308503204354386,\n",
       " 0.4940158996422994,\n",
       " 0.48618053648446935,\n",
       " 0.5461621705031456,\n",
       " 0.4847246939200023,\n",
       " 0.47905914770920344,\n",
       " 0.5620959866608635,\n",
       " 0.6348627124298467,\n",
       " 0.5627896696766568,\n",
       " 0.5247327438711675,\n",
       " 0.5266254947401299,\n",
       " 0.46047548986476716,\n",
       " 0.48441914645616,\n",
       " 0.4504479420736738,\n",
       " 0.4118202313464083,\n",
       " 0.40229724602881056,\n",
       " 0.32739498113082055,\n",
       " 0.2032815684449769,\n",
       " 0.0]"
      ]
     },
     "execution_count": 49,
     "metadata": {},
     "output_type": "execute_result"
    }
   ],
   "source": [
    "# after 30 mins\n",
    "sim_user_vi_s"
   ]
  },
  {
   "cell_type": "code",
   "execution_count": null,
   "metadata": {
    "collapsed": false
   },
   "outputs": [],
   "source": [
    "new_m_s, out_volume, fixes, vi_s30mins = Fixer.splits_global_from_M(cnn, m_s, \n",
    "                                                 volume, \n",
    "                                                 volume_prob, \n",
    "                                                 volume_segmentation, \n",
    "                                                 volume_groundtruth)"
   ]
  },
  {
   "cell_type": "code",
   "execution_count": 51,
   "metadata": {
    "collapsed": false
   },
   "outputs": [
    {
     "name": "stdout",
     "output_type": "stream",
     "text": [
      "a\n"
     ]
    }
   ],
   "source": [
    "print 'a'"
   ]
  },
  {
   "cell_type": "code",
   "execution_count": 52,
   "metadata": {
    "collapsed": false
   },
   "outputs": [
    {
     "ename": "NameError",
     "evalue": "name 'fixes' is not defined",
     "output_type": "error",
     "traceback": [
      "\u001b[1;31m---------------------------------------------------------------------------\u001b[0m",
      "\u001b[1;31mNameError\u001b[0m                                 Traceback (most recent call last)",
      "\u001b[1;32m<ipython-input-52-7861fdf36a92>\u001b[0m in \u001b[0;36m<module>\u001b[1;34m()\u001b[0m\n\u001b[1;32m----> 1\u001b[1;33m \u001b[0mfixes\u001b[0m\u001b[1;33m\u001b[0m\u001b[0m\n\u001b[0m",
      "\u001b[1;31mNameError\u001b[0m: name 'fixes' is not defined"
     ]
    }
   ],
   "source": [
    "fixes"
   ]
  },
  {
   "cell_type": "code",
   "execution_count": null,
   "metadata": {
    "collapsed": true
   },
   "outputs": [],
   "source": []
  }
 ],
 "metadata": {
  "kernelspec": {
   "display_name": "Python 2",
   "language": "python",
   "name": "python2"
  },
  "language_info": {
   "codemirror_mode": {
    "name": "ipython",
    "version": 2
   },
   "file_extension": ".py",
   "mimetype": "text/x-python",
   "name": "python",
   "nbconvert_exporter": "python",
   "pygments_lexer": "ipython2",
   "version": "2.7.6"
  }
 },
 "nbformat": 4,
 "nbformat_minor": 0
}
