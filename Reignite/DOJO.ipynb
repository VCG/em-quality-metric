{
 "metadata": {
  "name": "",
  "signature": "sha256:e542d8249032dd66ef5a5b332429868807268900f482320a42cf867e489907cf"
 },
 "nbformat": 3,
 "nbformat_minor": 0,
 "worksheets": [
  {
   "cells": [
    {
     "cell_type": "code",
     "collapsed": false,
     "input": [
      "%load_ext autoreload\n",
      "%autoreload 2\n",
      "\n",
      "from cnn import CNN\n",
      "from dyn_cnn import DynCNN\n",
      "from util import Util\n",
      "from patch import Patch\n",
      "from fixer import Fixer\n",
      "from uglify import Uglify\n",
      "\n",
      "import mahotas as mh\n",
      "import numpy as np\n",
      "\n",
      "from matplotlib.pyplot import imshow\n",
      "import matplotlib.pyplot as plt\n",
      "%matplotlib inline"
     ],
     "language": "python",
     "metadata": {},
     "outputs": []
    },
    {
     "cell_type": "code",
     "collapsed": false,
     "input": [
      "#\n",
      "# viren's approach with our LARGER border_overlap\n",
      "#   image prob merged_array dyn_obj dyn_bnd border_overlap\n",
      "networks = []\n",
      "networks.append(CNN('viren_7', 'patches_7th', ['image', 'prob', 'merged_array']))\n",
      "networks.append(CNN('mine_7', 'patches_7th', ['image', 'prob', 'binary', 'border_overlap']))\n",
      "networks.append(CNN('mine_large_7', 'patches_7th', ['image', 'prob', 'binary', 'larger_border_overlap']))\n",
      "networks.append(CNN('mine_merged_7', 'patches_7th', ['image', 'prob', 'merged_array', 'border_overlap']))\n",
      "networks.append(CNN('mine_merged_large_7', 'patches_7th', ['image', 'prob', 'merged_array', 'larger_border_overlap']))\n",
      "networks.append(DynCNN('dyn_viren_7', 'patches_7th', ['image', 'prob', 'merged_array']))\n",
      "networks.append(DynCNN('dyn_mine_7', 'patches_7th', ['image', 'prob', 'binary', 'border_overlap']))\n",
      "networks.append(DynCNN('dyn_mine_large_7', 'patches_7th', ['image', 'prob', 'binary', 'larger_border_overlap']))\n",
      "networks.append(DynCNN('dyn_mine_merged_7', 'patches_7th', ['image', 'prob', 'merged_array', 'border_overlap']))\n",
      "networks.append(DynCNN('dyn_mine_merged_large_7', 'patches_7th', ['image', 'prob', 'merged_array', 'larger_border_overlap']))\n"
     ],
     "language": "python",
     "metadata": {},
     "outputs": [
      {
       "output_type": "stream",
       "stream": "stdout",
       "text": [
        "Loading ['/Volumes/DATA1/split_cnn/patches_7th/viren_7/configuration.txt']\n",
        "Loading /Volumes/DATA1/split_cnn/patches_7th/viren_7/network_90.p\n",
        "Loading"
       ]
      },
      {
       "output_type": "stream",
       "stream": "stdout",
       "text": [
        " ['/Volumes/DATA1/split_cnn/patches_7th/mine_7/configuration.txt']\n",
        "Loading /Volumes/DATA1/split_cnn/patches_7th/mine_7/network_90.p\n",
        "Loading"
       ]
      },
      {
       "output_type": "stream",
       "stream": "stdout",
       "text": [
        " ['/Volumes/DATA1/split_cnn/patches_7th/mine_large_7/configuration.txt']\n",
        "Loading /Volumes/DATA1/split_cnn/patches_7th/mine_large_7/network_90.p\n",
        "Loading"
       ]
      },
      {
       "output_type": "stream",
       "stream": "stdout",
       "text": [
        " ['/Volumes/DATA1/split_cnn/patches_7th/mine_merged_7/configuration.txt']\n",
        "Loading /Volumes/DATA1/split_cnn/patches_7th/mine_merged_7/network_90.p\n",
        "Loading"
       ]
      },
      {
       "output_type": "stream",
       "stream": "stdout",
       "text": [
        " ['/Volumes/DATA1/split_cnn/patches_7th/mine_merged_large_7/configuration.txt']\n",
        "Loading /Volumes/DATA1/split_cnn/patches_7th/mine_merged_large_7/network_80.p\n",
        "Loading"
       ]
      },
      {
       "output_type": "stream",
       "stream": "stdout",
       "text": [
        " ['/Volumes/DATA1/split_cnn/patches_7th/dyn_viren_7/configuration.txt']\n",
        "Loading /Volumes/DATA1/split_cnn/patches_7th/dyn_viren_7/network_90.p\n",
        "Loading"
       ]
      },
      {
       "output_type": "stream",
       "stream": "stdout",
       "text": [
        " ['/Volumes/DATA1/split_cnn/patches_7th/dyn_mine_7/configuration.txt']\n",
        "Loading /Volumes/DATA1/split_cnn/patches_7th/dyn_mine_7/network_80.p\n",
        "Loading"
       ]
      },
      {
       "output_type": "stream",
       "stream": "stdout",
       "text": [
        " ['/Volumes/DATA1/split_cnn/patches_7th/dyn_mine_large_7/configuration.txt']\n",
        "Loading /Volumes/DATA1/split_cnn/patches_7th/dyn_mine_large_7/network_80.p\n",
        "Loading"
       ]
      },
      {
       "output_type": "stream",
       "stream": "stdout",
       "text": [
        " ['/Volumes/DATA1/split_cnn/patches_7th/dyn_mine_merged_7/configuration.txt']\n",
        "Loading /Volumes/DATA1/split_cnn/patches_7th/dyn_mine_merged_7/network_80.p\n",
        "Loading"
       ]
      },
      {
       "output_type": "stream",
       "stream": "stdout",
       "text": [
        " ['/Volumes/DATA1/split_cnn/patches_7th/dyn_mine_merged_large_7/configuration.txt']\n",
        "Loading /Volumes/DATA1/split_cnn/patches_7th/dyn_mine_merged_large_7/network_80.p\n"
       ]
      }
     ],
     "prompt_number": 221
    },
    {
     "cell_type": "code",
     "collapsed": false,
     "input": [
      "input_image, input_prob, input_gold, input_rhoana = Util.read_dojo_data() "
     ],
     "language": "python",
     "metadata": {},
     "outputs": [],
     "prompt_number": 177
    },
    {
     "cell_type": "code",
     "collapsed": false,
     "input": [
      "before_vi = Util.vi(input_gold, input_rhoana)\n",
      "print'VI before', before_vi"
     ],
     "language": "python",
     "metadata": {},
     "outputs": [
      {
       "output_type": "stream",
       "stream": "stdout",
       "text": [
        "VI before 0.976088150786\n"
       ]
      }
     ],
     "prompt_number": 178
    },
    {
     "cell_type": "code",
     "collapsed": false,
     "input": [
      "for n in networks:\n",
      "    print '-'*80\n",
      "    print n._NETWORK_ID\n",
      "    DOJO_SLICE=0\n",
      "    vi_s, merge_pairs, surenesses = Fixer.splits(n, \n",
      "                                                 input_image[DOJO_SLICE], \n",
      "                                                 input_prob[DOJO_SLICE], \n",
      "                                                 input_rhoana[DOJO_SLICE], \n",
      "                                                 input_gold[DOJO_SLICE],\n",
      "                                                 oversampling=False)"
     ],
     "language": "python",
     "metadata": {},
     "outputs": [
      {
       "output_type": "stream",
       "stream": "stdout",
       "text": [
        "--------------------------------------------------------------------------------\n",
        "viren_7\n",
        "464"
       ]
      },
      {
       "output_type": "stream",
       "stream": "stdout",
       "text": [
        " generated in 10.2715981007 seconds.\n",
        "Grouped into 116 patches in 0.00328302383423 seconds.\n",
        "Merge loop finished in"
       ]
      },
      {
       "output_type": "stream",
       "stream": "stdout",
       "text": [
        " 29.2768809795 seconds.\n",
        "Before VI: 0.633710175634\n",
        "Smallest VI: 0.592458944751\n",
        "Sureness threshold: 0.9831122756\n",
        "--------------------------------------------------------------------------------\n",
        "mine_7\n",
        "464"
       ]
      },
      {
       "output_type": "stream",
       "stream": "stdout",
       "text": [
        " generated in 10.2234239578 seconds.\n",
        "Grouped into 116 patches in 0.00297403335571 seconds.\n",
        "Merge loop finished in"
       ]
      },
      {
       "output_type": "stream",
       "stream": "stdout",
       "text": [
        " 27.5907590389 seconds.\n",
        "Before VI: 0.633710175634\n",
        "Smallest VI: 0.604213583123\n",
        "Sureness threshold: 0.989420294762\n",
        "--------------------------------------------------------------------------------\n",
        "mine_large_7\n",
        "464"
       ]
      },
      {
       "output_type": "stream",
       "stream": "stdout",
       "text": [
        " generated in 10.1598470211 seconds.\n",
        "Grouped into 116 patches in 0.00308895111084 seconds.\n",
        "Merge loop finished in"
       ]
      },
      {
       "output_type": "stream",
       "stream": "stdout",
       "text": [
        " 26.5238239765 seconds.\n",
        "Before VI: 0.633710175634\n",
        "Smallest VI: 0.604213583123\n",
        "Sureness threshold: 0.972602725029\n",
        "--------------------------------------------------------------------------------\n",
        "mine_merged_7\n",
        "464"
       ]
      },
      {
       "output_type": "stream",
       "stream": "stdout",
       "text": [
        " generated in 10.1983499527 seconds.\n",
        "Grouped into 116 patches in 0.00305914878845 seconds.\n",
        "Merge loop finished in"
       ]
      },
      {
       "output_type": "stream",
       "stream": "stdout",
       "text": [
        " 27.6784369946 seconds.\n",
        "Before VI: 0.633710175634\n",
        "Smallest VI: 0.605177468996\n",
        "Sureness threshold: 0.978768825531\n",
        "--------------------------------------------------------------------------------\n",
        "mine_merged_large_7\n",
        "464"
       ]
      },
      {
       "output_type": "stream",
       "stream": "stdout",
       "text": [
        " generated in 10.1861169338 seconds.\n",
        "Grouped into 116 patches in 0.00305604934692 seconds.\n",
        "Merge loop finished in"
       ]
      },
      {
       "output_type": "stream",
       "stream": "stdout",
       "text": [
        " 28.5814740658 seconds.\n",
        "Before VI: 0.633710175634\n",
        "Smallest VI: 0.599779521367\n",
        "Sureness threshold: 0.878059089184\n",
        "--------------------------------------------------------------------------------\n",
        "dyn_viren_7\n",
        "464"
       ]
      },
      {
       "output_type": "stream",
       "stream": "stdout",
       "text": [
        " generated in 10.2085688114 seconds.\n",
        "Grouped into 116 patches in 0.00313305854797 seconds.\n"
       ]
      },
      {
       "ename": "TypeError",
       "evalue": "('Bad input argument to theano function with name \"dyn_cnn.py:234\"  at index 3(0-based)', 'Wrong number of dimensions: expected 4, got 1 with shape (1,).')",
       "output_type": "pyerr",
       "traceback": [
        "\u001b[0;31m---------------------------------------------------------------------------\u001b[0m\n\u001b[0;31mTypeError\u001b[0m                                 Traceback (most recent call last)",
        "\u001b[0;32m<ipython-input-227-5f0528bb58ed>\u001b[0m in \u001b[0;36m<module>\u001b[0;34m()\u001b[0m\n\u001b[1;32m      8\u001b[0m                                                  \u001b[0minput_rhoana\u001b[0m\u001b[0;34m[\u001b[0m\u001b[0mDOJO_SLICE\u001b[0m\u001b[0;34m]\u001b[0m\u001b[0;34m,\u001b[0m\u001b[0;34m\u001b[0m\u001b[0m\n\u001b[1;32m      9\u001b[0m                                                  \u001b[0minput_gold\u001b[0m\u001b[0;34m[\u001b[0m\u001b[0mDOJO_SLICE\u001b[0m\u001b[0;34m]\u001b[0m\u001b[0;34m,\u001b[0m\u001b[0;34m\u001b[0m\u001b[0m\n\u001b[0;32m---> 10\u001b[0;31m                                                  oversampling=False)\n\u001b[0m",
        "\u001b[0;32m/Users/d/Projects/em-quality-metric/Reignite/fixer.pyc\u001b[0m in \u001b[0;36msplits\u001b[0;34m(cnn, image, prob, segmentation, groundtruth, smallest_first, oversampling, verbose, max)\u001b[0m\n\u001b[1;32m     40\u001b[0m \u001b[0;34m\u001b[0m\u001b[0m\n\u001b[1;32m     41\u001b[0m       \u001b[0;31m# test this patch group for l and n\u001b[0m\u001b[0;34m\u001b[0m\u001b[0;34m\u001b[0m\u001b[0m\n\u001b[0;32m---> 42\u001b[0;31m       \u001b[0mprediction\u001b[0m \u001b[0;34m=\u001b[0m \u001b[0mPatch\u001b[0m\u001b[0;34m.\u001b[0m\u001b[0mtest_and_unify\u001b[0m\u001b[0;34m(\u001b[0m\u001b[0mgrouped_patches\u001b[0m\u001b[0;34m[\u001b[0m\u001b[0ml_n\u001b[0m\u001b[0;34m]\u001b[0m\u001b[0;34m,\u001b[0m \u001b[0mcnn\u001b[0m\u001b[0;34m)\u001b[0m\u001b[0;34m\u001b[0m\u001b[0m\n\u001b[0m\u001b[1;32m     43\u001b[0m \u001b[0;34m\u001b[0m\u001b[0m\n\u001b[1;32m     44\u001b[0m       \u001b[0;31m# fill value into matrix\u001b[0m\u001b[0;34m\u001b[0m\u001b[0;34m\u001b[0m\u001b[0m\n",
        "\u001b[0;32m/Users/d/Projects/em-quality-metric/Reignite/patch.py\u001b[0m in \u001b[0;36mtest_and_unify\u001b[0;34m(patches, cnn, method)\u001b[0m\n\u001b[1;32m    792\u001b[0m                       \u001b[0mvalid_border_points\u001b[0m \u001b[0;34m+=\u001b[0m \u001b[0;36m1\u001b[0m\u001b[0;34m\u001b[0m\u001b[0m\n\u001b[1;32m    793\u001b[0m \u001b[0;34m\u001b[0m\u001b[0m\n\u001b[0;32m--> 794\u001b[0;31m           \u001b[0mpred\u001b[0m \u001b[0;34m=\u001b[0m \u001b[0mcnn\u001b[0m\u001b[0;34m.\u001b[0m\u001b[0mtest_patch\u001b[0m\u001b[0;34m(\u001b[0m\u001b[0mp\u001b[0m\u001b[0;34m)\u001b[0m\u001b[0;34m\u001b[0m\u001b[0m\n\u001b[0m\u001b[1;32m    795\u001b[0m           \u001b[0mweights\u001b[0m\u001b[0;34m.\u001b[0m\u001b[0mappend\u001b[0m\u001b[0;34m(\u001b[0m\u001b[0mvalid_border_points\u001b[0m\u001b[0;34m)\u001b[0m\u001b[0;34m\u001b[0m\u001b[0m\n\u001b[1;32m    796\u001b[0m           \u001b[0mpredictions\u001b[0m\u001b[0;34m.\u001b[0m\u001b[0mappend\u001b[0m\u001b[0;34m(\u001b[0m\u001b[0mpred\u001b[0m\u001b[0;34m)\u001b[0m\u001b[0;34m\u001b[0m\u001b[0m\n",
        "\u001b[0;32m/Users/d/Projects/em-quality-metric/Reignite/dyn_cnn.py\u001b[0m in \u001b[0;36mtest_patch\u001b[0;34m(self, p)\u001b[0m\n\u001b[1;32m     79\u001b[0m     \u001b[0mtest_values\u001b[0m\u001b[0;34m.\u001b[0m\u001b[0mappend\u001b[0m\u001b[0;34m(\u001b[0m\u001b[0mtargets\u001b[0m\u001b[0;34m)\u001b[0m\u001b[0;34m\u001b[0m\u001b[0m\n\u001b[1;32m     80\u001b[0m \u001b[0;34m\u001b[0m\u001b[0m\n\u001b[0;32m---> 81\u001b[0;31m     \u001b[0mpred\u001b[0m\u001b[0;34m,\u001b[0m \u001b[0merr\u001b[0m\u001b[0;34m,\u001b[0m \u001b[0macc\u001b[0m \u001b[0;34m=\u001b[0m \u001b[0mself\u001b[0m\u001b[0;34m.\u001b[0m\u001b[0m_val_fn\u001b[0m\u001b[0;34m(\u001b[0m\u001b[0;34m*\u001b[0m\u001b[0mtest_values\u001b[0m\u001b[0;34m)\u001b[0m\u001b[0;31m#images, probs, binary1s, overlaps, targets)\u001b[0m\u001b[0;34m\u001b[0m\u001b[0m\n\u001b[0m\u001b[1;32m     82\u001b[0m \u001b[0;34m\u001b[0m\u001b[0m\n\u001b[1;32m     83\u001b[0m     \u001b[0;32mreturn\u001b[0m \u001b[0mpred\u001b[0m\u001b[0;34m[\u001b[0m\u001b[0;36m0\u001b[0m\u001b[0;34m]\u001b[0m\u001b[0;34m[\u001b[0m\u001b[0;36m1\u001b[0m\u001b[0;34m]\u001b[0m\u001b[0;34m\u001b[0m\u001b[0m\n",
        "\u001b[0;32m/Users/d/Library/Python/2.7/lib/python/site-packages/theano/compile/function_module.pyc\u001b[0m in \u001b[0;36m__call__\u001b[0;34m(self, *args, **kwargs)\u001b[0m\n\u001b[1;32m    784\u001b[0m                         s.storage[0] = s.type.filter(\n\u001b[1;32m    785\u001b[0m                             \u001b[0marg\u001b[0m\u001b[0;34m,\u001b[0m \u001b[0mstrict\u001b[0m\u001b[0;34m=\u001b[0m\u001b[0ms\u001b[0m\u001b[0;34m.\u001b[0m\u001b[0mstrict\u001b[0m\u001b[0;34m,\u001b[0m\u001b[0;34m\u001b[0m\u001b[0m\n\u001b[0;32m--> 786\u001b[0;31m                             allow_downcast=s.allow_downcast)\n\u001b[0m\u001b[1;32m    787\u001b[0m \u001b[0;34m\u001b[0m\u001b[0m\n\u001b[1;32m    788\u001b[0m                     \u001b[0;32mexcept\u001b[0m \u001b[0mException\u001b[0m \u001b[0;32mas\u001b[0m \u001b[0me\u001b[0m\u001b[0;34m:\u001b[0m\u001b[0;34m\u001b[0m\u001b[0m\n",
        "\u001b[0;32m/Users/d/Library/Python/2.7/lib/python/site-packages/theano/tensor/type.pyc\u001b[0m in \u001b[0;36mfilter\u001b[0;34m(self, data, strict, allow_downcast)\u001b[0m\n\u001b[1;32m    175\u001b[0m             raise TypeError(\"Wrong number of dimensions: expected %s,\"\n\u001b[1;32m    176\u001b[0m                             \" got %s with shape %s.\" % (self.ndim, data.ndim,\n\u001b[0;32m--> 177\u001b[0;31m                                                         data.shape))\n\u001b[0m\u001b[1;32m    178\u001b[0m         \u001b[0;32mif\u001b[0m \u001b[0;32mnot\u001b[0m \u001b[0mdata\u001b[0m\u001b[0;34m.\u001b[0m\u001b[0mflags\u001b[0m\u001b[0;34m.\u001b[0m\u001b[0maligned\u001b[0m\u001b[0;34m:\u001b[0m\u001b[0;34m\u001b[0m\u001b[0m\n\u001b[1;32m    179\u001b[0m             \u001b[0;32mtry\u001b[0m\u001b[0;34m:\u001b[0m\u001b[0;34m\u001b[0m\u001b[0m\n",
        "\u001b[0;31mTypeError\u001b[0m: ('Bad input argument to theano function with name \"dyn_cnn.py:234\"  at index 3(0-based)', 'Wrong number of dimensions: expected 4, got 1 with shape (1,).')"
       ]
      }
     ],
     "prompt_number": 227
    },
    {
     "cell_type": "code",
     "collapsed": false,
     "input": [],
     "language": "python",
     "metadata": {},
     "outputs": []
    },
    {
     "cell_type": "code",
     "collapsed": false,
     "input": [],
     "language": "python",
     "metadata": {},
     "outputs": []
    },
    {
     "cell_type": "code",
     "collapsed": false,
     "input": [],
     "language": "python",
     "metadata": {},
     "outputs": []
    },
    {
     "cell_type": "code",
     "collapsed": false,
     "input": [],
     "language": "python",
     "metadata": {},
     "outputs": []
    },
    {
     "cell_type": "code",
     "collapsed": false,
     "input": [],
     "language": "python",
     "metadata": {},
     "outputs": []
    },
    {
     "cell_type": "code",
     "collapsed": false,
     "input": [
      "DOJO_SLICE=0\n",
      "vi_s, merge_pairs, surenesses = Fixer.splits(cnn_viren, \n",
      "                                             input_image[DOJO_SLICE], \n",
      "                                             input_prob[DOJO_SLICE], \n",
      "                                             input_rhoana[DOJO_SLICE], \n",
      "                                             input_gold[DOJO_SLICE],\n",
      "                                             oversampling=False)"
     ],
     "language": "python",
     "metadata": {},
     "outputs": [
      {
       "output_type": "stream",
       "stream": "stdout",
       "text": [
        "464 generated in 10.0480630398 seconds.\n",
        "Grouped into 116 patches in 0.00303983688354 seconds.\n",
        "Merge loop finished in"
       ]
      },
      {
       "output_type": "stream",
       "stream": "stdout",
       "text": [
        " 28.8254141808 seconds.\n",
        "Before VI: 0.633710175634\n",
        "Smallest VI: 0.592458944751\n",
        "Sureness threshold: 0.9831122756\n"
       ]
      }
     ],
     "prompt_number": 210
    },
    {
     "cell_type": "code",
     "collapsed": false,
     "input": [
      "DOJO_SLICE=0\n",
      "vi_s, merge_pairs, surenesses = Fixer.splits(cnn_mine, \n",
      "                                             input_image[DOJO_SLICE], \n",
      "                                             input_prob[DOJO_SLICE], \n",
      "                                             input_rhoana[DOJO_SLICE], \n",
      "                                             input_gold[DOJO_SLICE],\n",
      "                                             oversampling=False)"
     ],
     "language": "python",
     "metadata": {},
     "outputs": [
      {
       "output_type": "stream",
       "stream": "stdout",
       "text": [
        "464 generated in 10.1645050049 seconds.\n",
        "Grouped into 116 patches in 0.00299692153931 seconds.\n",
        "Merge loop finished in"
       ]
      },
      {
       "output_type": "stream",
       "stream": "stdout",
       "text": [
        " 27.4464330673 seconds.\n",
        "Before VI: 0.633710175634\n",
        "Smallest VI: 0.604213583123\n",
        "Sureness threshold: 0.989300698042\n"
       ]
      }
     ],
     "prompt_number": 211
    },
    {
     "cell_type": "code",
     "collapsed": false,
     "input": [],
     "language": "python",
     "metadata": {},
     "outputs": []
    },
    {
     "cell_type": "code",
     "collapsed": false,
     "input": [],
     "language": "python",
     "metadata": {},
     "outputs": []
    },
    {
     "cell_type": "code",
     "collapsed": false,
     "input": [
      "import time\n",
      "t0 = time.time()\n",
      "new_seg = np.zeros(input_rhoana.shape)\n",
      "for s in range(0,9):\n",
      "    DOJO_SLICE=s\n",
      "    vi_s, merge_pairs, surenesses = Fixer.splits(cnn, \n",
      "                                                 input_image[DOJO_SLICE], \n",
      "                                                 input_prob[DOJO_SLICE], \n",
      "                                                 input_rhoana[DOJO_SLICE], \n",
      "                                                 input_gold[DOJO_SLICE],\n",
      "                                                 oversampling=False)\n",
      "    \n",
      "    best_vi_index = vi_s.index(min(vi_s))\n",
      "    best_mp = merge_pairs\n",
      "    best_fixed = Util.merge_steps(input_rhoana[DOJO_SLICE],best_mp,best=best_vi_index,store=True)\n",
      "    new_seg[s] = np.array(best_fixed)\n",
      "print time.time()-t0, 'seconds'"
     ],
     "language": "python",
     "metadata": {},
     "outputs": [
      {
       "output_type": "stream",
       "stream": "stdout",
       "text": [
        "464 generated in 10.0010590553 seconds.\n",
        "Grouped into 116 patches in 0.00295400619507 seconds.\n",
        "Merge loop finished in"
       ]
      },
      {
       "output_type": "stream",
       "stream": "stdout",
       "text": [
        " 28.2519571781 seconds.\n",
        "Before VI: 0.633710175634\n",
        "Smallest VI: 0.599338957993\n",
        "Sureness threshold: 0.853635042906\n",
        "432"
       ]
      },
      {
       "output_type": "stream",
       "stream": "stdout",
       "text": [
        " generated in 9.20260286331 seconds.\n",
        "Grouped into 108 patches in 0.00307989120483 seconds.\n",
        "Merge loop finished in"
       ]
      },
      {
       "output_type": "stream",
       "stream": "stdout",
       "text": [
        " 27.2930870056 seconds.\n",
        "Before VI: 0.606817210128\n",
        "Smallest VI: 0.577422671003\n",
        "Sureness threshold: 0.94489517808\n",
        "448"
       ]
      },
      {
       "output_type": "stream",
       "stream": "stdout",
       "text": [
        " generated in 9.62891888618 seconds.\n",
        "Grouped into 111 patches in 0.00290083885193 seconds.\n",
        "Merge loop finished in"
       ]
      },
      {
       "output_type": "stream",
       "stream": "stdout",
       "text": [
        " 25.2186841965 seconds.\n",
        "Before VI: 0.632449857485\n",
        "Smallest VI: 0.595000004626\n",
        "Sureness threshold: 0.962474912405\n",
        "488"
       ]
      },
      {
       "output_type": "stream",
       "stream": "stdout",
       "text": [
        " generated in 10.0970270634 seconds.\n",
        "Grouped into 120 patches in 0.00317311286926 seconds.\n",
        "Merge loop finished in"
       ]
      },
      {
       "output_type": "stream",
       "stream": "stdout",
       "text": [
        " 39.4963550568 seconds.\n",
        "Before VI: 0.680786806189\n",
        "Smallest VI: 0.683597862884\n",
        "Sureness threshold: 0.997298598289\n",
        "492"
       ]
      },
      {
       "output_type": "stream",
       "stream": "stdout",
       "text": [
        " generated in 10.2049889565 seconds.\n",
        "Grouped into 121 patches in 0.00361299514771 seconds.\n",
        "Merge loop finished in"
       ]
      },
      {
       "output_type": "stream",
       "stream": "stdout",
       "text": [
        " 32.1676049232 seconds.\n",
        "Before VI: 0.76533306697\n",
        "Smallest VI: 0.739891224358\n",
        "Sureness threshold: 0.884004443884\n",
        "488"
       ]
      },
      {
       "output_type": "stream",
       "stream": "stdout",
       "text": [
        " generated in 9.84098315239 seconds.\n",
        "Grouped into 119 patches in 0.00325918197632 seconds.\n",
        "Merge loop finished in"
       ]
      },
      {
       "output_type": "stream",
       "stream": "stdout",
       "text": [
        " 27.9726810455 seconds.\n",
        "Before VI: 0.74428853956\n",
        "Smallest VI: 0.72672779122\n",
        "Sureness threshold: 0.988104134798\n",
        "468"
       ]
      },
      {
       "output_type": "stream",
       "stream": "stdout",
       "text": [
        " generated in 9.49454212189 seconds.\n",
        "Grouped into 114 patches in 0.00296211242676 seconds.\n",
        "Merge loop finished in"
       ]
      },
      {
       "output_type": "stream",
       "stream": "stdout",
       "text": [
        " 27.8366611004 seconds.\n",
        "Before VI: 0.818019147997\n",
        "Smallest VI: 0.829011167821\n",
        "Sureness threshold: 0.998854786158\n",
        "460"
       ]
      },
      {
       "output_type": "stream",
       "stream": "stdout",
       "text": [
        " generated in 9.34409689903 seconds.\n",
        "Grouped into 110 patches in 0.00307297706604 seconds.\n",
        "Merge loop finished in"
       ]
      },
      {
       "output_type": "stream",
       "stream": "stdout",
       "text": [
        " 29.696092844 seconds.\n",
        "Before VI: 0.816635961166\n",
        "Smallest VI: 0.816841885501\n",
        "Sureness threshold: 0.97340887785\n",
        "492"
       ]
      },
      {
       "output_type": "stream",
       "stream": "stdout",
       "text": [
        " generated in 10.1101009846 seconds.\n",
        "Grouped into 119 patches in 0.00315880775452 seconds.\n",
        "Merge loop finished in"
       ]
      },
      {
       "output_type": "stream",
       "stream": "stdout",
       "text": [
        " 30.5702338219 seconds.\n",
        "Before VI: 0.880125174779\n",
        "Smallest VI: 0.855672771662\n",
        "Sureness threshold: 0.99557185173\n",
        "378.342509031 seconds\n"
       ]
      }
     ],
     "prompt_number": 184
    },
    {
     "cell_type": "code",
     "collapsed": false,
     "input": [],
     "language": "python",
     "metadata": {},
     "outputs": []
    },
    {
     "cell_type": "code",
     "collapsed": false,
     "input": [
      "ed(input_gold, input_rhoana)"
     ],
     "language": "python",
     "metadata": {},
     "outputs": [
      {
       "output_type": "stream",
       "stream": "stdout",
       "text": [
        "32 2D Split or 6 3D Split and 22 3D Merge operations required.\n"
       ]
      },
      {
       "metadata": {},
       "output_type": "pyout",
       "prompt_number": 190,
       "text": [
        "(32, 6, 22)"
       ]
      }
     ],
     "prompt_number": 190
    },
    {
     "cell_type": "code",
     "collapsed": false,
     "input": [
      "ed(input_gold[0:1], new_seg[0:1].astype(np.int64))"
     ],
     "language": "python",
     "metadata": {},
     "outputs": [
      {
       "output_type": "stream",
       "stream": "stdout",
       "text": [
        "4 2D Split or 1 3D Split and 3 3D Merge operations required.\n"
       ]
      },
      {
       "metadata": {},
       "output_type": "pyout",
       "prompt_number": 205,
       "text": [
        "(4, 1, 3)"
       ]
      }
     ],
     "prompt_number": 205
    },
    {
     "cell_type": "code",
     "collapsed": false,
     "input": [
      "ed(input_gold[0:1], input_rhoana[0:1].astype(np.int64))"
     ],
     "language": "python",
     "metadata": {},
     "outputs": [
      {
       "output_type": "stream",
       "stream": "stdout",
       "text": [
        "2 2D Split or 0 3D Split and 3 3D Merge operations required.\n"
       ]
      },
      {
       "metadata": {},
       "output_type": "pyout",
       "prompt_number": 204,
       "text": [
        "(2, 0, 3)"
       ]
      }
     ],
     "prompt_number": 204
    },
    {
     "cell_type": "code",
     "collapsed": false,
     "input": [
      "def ed(gt_stack, seg_stack):\n",
      "    min_2d_seg_size = 500\n",
      "    min_3d_seg_size = 2000    \n",
      "    \n",
      "    gt_ids = np.unique(gt_stack.ravel())\n",
      "    \n",
      "    seg_ids = np.unique(seg_stack.ravel())\n",
      "\n",
      "    # count 2d split operations required\n",
      "    split_count_2d = 0\n",
      "    for seg_id in seg_ids:\n",
      "        if seg_id == 0:\n",
      "            continue\n",
      "        for zi in range(seg_stack.shape[0]):\n",
      "            gt_counts = np.bincount(gt_stack[zi,:,:][seg_stack[zi,:,:]==seg_id])\n",
      "            if len(gt_counts) == 0:\n",
      "                continue\n",
      "            gt_counts[0] = 0\n",
      "            gt_counts[gt_counts < min_2d_seg_size] = 0\n",
      "            gt_objects = len(np.nonzero(gt_counts)[0])\n",
      "            if gt_objects > 1:\n",
      "                split_count_2d += gt_objects - 1\n",
      "\n",
      "    # count 3d split operations required\n",
      "    split_count_3d = 0\n",
      "    for seg_id in seg_ids:\n",
      "        if seg_id == 0:\n",
      "            continue\n",
      "        gt_counts = np.bincount(gt_stack[seg_stack==seg_id])\n",
      "        if len(gt_counts) == 0:\n",
      "            continue\n",
      "        gt_counts[0] = 0\n",
      "        gt_counts[gt_counts < min_3d_seg_size] = 0\n",
      "        gt_objects = len(np.nonzero(gt_counts)[0])\n",
      "        if gt_objects > 1:\n",
      "            split_count_3d += gt_objects - 1\n",
      "\n",
      "    # count 3d merge operations required\n",
      "    merge_count = 0\n",
      "    for gt_id in gt_ids:\n",
      "        if gt_id == 0:\n",
      "            continue\n",
      "        seg_counts = np.bincount(seg_stack[gt_stack==gt_id])\n",
      "        if len(seg_counts) == 0:\n",
      "            continue\n",
      "        seg_counts[0] = 0\n",
      "        seg_counts[seg_counts < min_3d_seg_size] = 0\n",
      "        seg_objects = len(np.nonzero(seg_counts)[0])\n",
      "        if seg_objects > 1:\n",
      "            merge_count += seg_objects - 1\n",
      "\n",
      "    print \"{0} 2D Split or {1} 3D Split and {2} 3D Merge operations required.\".format(split_count_2d, split_count_3d, merge_count)\n",
      "\n",
      "    return (split_count_2d, split_count_3d, merge_count)    "
     ],
     "language": "python",
     "metadata": {},
     "outputs": [],
     "prompt_number": 189
    },
    {
     "cell_type": "code",
     "collapsed": false,
     "input": [
      "after_vi = Util.vi(input_gold, new_seg.astype(np.uint32))\n",
      "print'VI after', after_vi"
     ],
     "language": "python",
     "metadata": {},
     "outputs": [
      {
       "output_type": "stream",
       "stream": "stdout",
       "text": [
        "VI before 1.02643961485\n"
       ]
      }
     ],
     "prompt_number": 186
    },
    {
     "cell_type": "code",
     "collapsed": false,
     "input": [
      "vi_s"
     ],
     "language": "python",
     "metadata": {},
     "outputs": [
      {
       "metadata": {},
       "output_type": "pyout",
       "prompt_number": 183,
       "text": [
        "[0.62492492210544,\n",
        " 0.6163466275058109,\n",
        " 0.6132314108536123,\n",
        " 0.6002891932841612,\n",
        " 0.606997756332686,\n",
        " 0.6035524736217246,\n",
        " 0.6047655179595948,\n",
        " 0.6006547645900095,\n",
        " 0.6083432224480116,\n",
        " 0.5993389579930035,\n",
        " 0.600556334246761,\n",
        " 0.6342007847848823,\n",
        " 0.6575523220641761,\n",
        " 0.6785369160539583,\n",
        " 0.6789437447445188,\n",
        " 0.6998333067192011,\n",
        " 0.7007771023734302,\n",
        " 0.7072093763902965,\n",
        " 0.7983022408505942,\n",
        " 0.8153837432171098,\n",
        " 0.8155308460337469,\n",
        " 0.8603648139628932,\n",
        " 0.8830300107704794,\n",
        " 0.8829195219205648,\n",
        " 0.9562174654486437,\n",
        " 0.9852588596246816,\n",
        " 1.0015485314980106,\n",
        " 1.013628301768703,\n",
        " 1.0574325470432182,\n",
        " 1.1660425558624654,\n",
        " 1.1746777883334296,\n",
        " 1.209010982883279,\n",
        " 1.244745862913911,\n",
        " 1.3671990607585771,\n",
        " 1.4662384781337359,\n",
        " 1.4865850145105197,\n",
        " 1.5016626651860108,\n",
        " 1.507768870735025,\n",
        " 1.566840273070314,\n",
        " 1.6273798112009876,\n",
        " 1.8920540406748305,\n",
        " 1.934639684812085,\n",
        " 1.9891476866628475,\n",
        " 1.994717042610997,\n",
        " 1.9876037049924387,\n",
        " 2.2180655521817823,\n",
        " 2.568730001049791,\n",
        " 2.8163411269678953,\n",
        " 2.8420184020679966,\n",
        " 2.914328843826898,\n",
        " 2.972025613460958,\n",
        " 3.0278309249607487]"
       ]
      }
     ],
     "prompt_number": 183
    },
    {
     "cell_type": "code",
     "collapsed": false,
     "input": [
      "a=Util.get_histogram(rhoana_out[0])"
     ],
     "language": "python",
     "metadata": {},
     "outputs": [],
     "prompt_number": 127
    },
    {
     "cell_type": "code",
     "collapsed": false,
     "input": [
      "b=Util.get_histogram(Util.normalize_labels(segs[0])[0])"
     ],
     "language": "python",
     "metadata": {},
     "outputs": [],
     "prompt_number": 128
    },
    {
     "cell_type": "code",
     "collapsed": false,
     "input": [
      "np.where(a==b)"
     ],
     "language": "python",
     "metadata": {},
     "outputs": [
      {
       "metadata": {},
       "output_type": "pyout",
       "prompt_number": 135,
       "text": [
        "(array([], dtype=int64),)"
       ]
      }
     ],
     "prompt_number": 135
    },
    {
     "cell_type": "code",
     "collapsed": false,
     "input": [
      "a==b"
     ],
     "language": "python",
     "metadata": {},
     "outputs": [
      {
       "metadata": {},
       "output_type": "pyout",
       "prompt_number": 134,
       "text": [
        "False"
       ]
      }
     ],
     "prompt_number": 134
    },
    {
     "cell_type": "code",
     "collapsed": false,
     "input": [
      "rhoana2 = tif.imread('/Users/d/Projects/dojo_data_vis2014/labels_after_automatic_segmentation/0.tif')"
     ],
     "language": "python",
     "metadata": {},
     "outputs": [],
     "prompt_number": 106
    },
    {
     "cell_type": "code",
     "collapsed": false,
     "input": [
      "Util.vi(rhoana2, segs[0])"
     ],
     "language": "python",
     "metadata": {},
     "outputs": [
      {
       "metadata": {},
       "output_type": "pyout",
       "prompt_number": 107,
       "text": [
        "0.0"
       ]
      }
     ],
     "prompt_number": 107
    },
    {
     "cell_type": "code",
     "collapsed": false,
     "input": [
      "Util.vi(rhoana_out[0], rhoana2)"
     ],
     "language": "python",
     "metadata": {},
     "outputs": [
      {
       "metadata": {},
       "output_type": "pyout",
       "prompt_number": 109,
       "text": [
        "0.019174108323829486"
       ]
      }
     ],
     "prompt_number": 109
    },
    {
     "cell_type": "code",
     "collapsed": false,
     "input": [
      "rhoana_out[0].shape"
     ],
     "language": "python",
     "metadata": {},
     "outputs": [
      {
       "metadata": {},
       "output_type": "pyout",
       "prompt_number": 110,
       "text": [
        "(1024, 1024)"
       ]
      }
     ],
     "prompt_number": 110
    },
    {
     "cell_type": "code",
     "collapsed": false,
     "input": [
      "rhoana2.shape"
     ],
     "language": "python",
     "metadata": {},
     "outputs": [
      {
       "metadata": {},
       "output_type": "pyout",
       "prompt_number": 111,
       "text": [
        "(1024, 1024)"
       ]
      }
     ],
     "prompt_number": 111
    },
    {
     "cell_type": "code",
     "collapsed": false,
     "input": [
      "imshow(Util.threshold(rhoana_out[0],60))"
     ],
     "language": "python",
     "metadata": {},
     "outputs": [
      {
       "metadata": {},
       "output_type": "pyout",
       "prompt_number": 118,
       "text": [
        "<matplotlib.image.AxesImage at 0x1117cbe10>"
       ]
      },
      {
       "metadata": {},
       "output_type": "display_data",
       "png": "[encoded data removed]",
       "text": [
        "<matplotlib.figure.Figure at 0x1117c1c10>"
       ]
      }
     ],
     "prompt_number": 118
    },
    {
     "cell_type": "code",
     "collapsed": false,
     "input": [
      "bbox = mh.bbox(Util.threshold(rhoana_out[0],60))"
     ],
     "language": "python",
     "metadata": {},
     "outputs": [],
     "prompt_number": 122
    },
    {
     "cell_type": "code",
     "collapsed": false,
     "input": [
      "Util.view(Util.crop_by_bbox(rhoana_out[0],bbox))"
     ],
     "language": "python",
     "metadata": {},
     "outputs": [
      {
       "metadata": {},
       "output_type": "display_data",
       "png": "[encoded data removed]",
       "text": [
        "<matplotlib.figure.Figure at 0x1117e33d0>"
       ]
      }
     ],
     "prompt_number": 124
    },
    {
     "cell_type": "code",
     "collapsed": false,
     "input": [
      "Util.view(Util.crop_by_bbox(segs[0],bbox))"
     ],
     "language": "python",
     "metadata": {},
     "outputs": [
      {
       "metadata": {},
       "output_type": "display_data",
       "png": "[encoded data removed]",
       "text": [
        "<matplotlib.figure.Figure at 0x1144a7d10>"
       ]
      }
     ],
     "prompt_number": 125
    },
    {
     "cell_type": "code",
     "collapsed": false,
     "input": [
      "Util.vi(Util.crop_by_bbox(rhoana_out[0],bbox), Util.crop_by_bbox(segs[0],bbox))"
     ],
     "language": "python",
     "metadata": {},
     "outputs": [
      {
       "metadata": {},
       "output_type": "pyout",
       "prompt_number": 137,
       "text": [
        "0.0"
       ]
      }
     ],
     "prompt_number": 137
    },
    {
     "cell_type": "code",
     "collapsed": false,
     "input": [
      "input_image = np.zeros((10,1024,1024))\n",
      "input_rhoana = np.zeros((10,1024,1024))\n",
      "input_gold = np.zeros((10,1024,1024))\n",
      "input_prob = np.zeros((10,1024,1024))\n",
      "input_rhoana = tif.imread('/Users/d/Projects/dojo_data_vis2014/labels_after_automatic_segmentation_multi.tif')\n",
      "input_gold = tif.imread('/Users/d/Projects/dojo_data_vis2014/groundtruth_multi.tif')\n",
      "for i in range(10):\n",
      "    input_prob[i] = tif.imread('/Users/d/Projects/dojo_data_vis2014/prob/'+str(i)+'_syn.tif')\n",
      "    input_image[i] = tif.imread('/Users/d/Projects/dojo_data_vis2014/images/'+str(i)+'.tif')\n",
      "    \n",
      "bbox = mh.bbox(input_image[0])\n",
      "bbox_larger = [bbox[0]-37, bbox[1]+37, bbox[2]-37, bbox[3]+37]\n",
      "\n",
      "input_image = input_image[:, bbox_larger[0]:bbox_larger[1], bbox_larger[2]:bbox_larger[3]]\n",
      "input_rhoana = input_rhoana[:, bbox_larger[0]:bbox_larger[1], bbox_larger[2]:bbox_larger[3]]\n",
      "input_gold = input_gold[:, bbox_larger[0]:bbox_larger[1], bbox_larger[2]:bbox_larger[3]]\n",
      "input_prob = input_prob[:, bbox_larger[0]:bbox_larger[1], bbox_larger[2]:bbox_larger[3]]"
     ],
     "language": "python",
     "metadata": {},
     "outputs": [],
     "prompt_number": 156
    },
    {
     "cell_type": "code",
     "collapsed": false,
     "input": [
      "Util.vi(input_gold.astype(np.uint32), input_rhoana)"
     ],
     "language": "python",
     "metadata": {},
     "outputs": [
      {
       "metadata": {},
       "output_type": "pyout",
       "prompt_number": 157,
       "text": [
        "0.9760881507864134"
       ]
      }
     ],
     "prompt_number": 157
    },
    {
     "cell_type": "code",
     "collapsed": false,
     "input": [
      "imshow(input_prob[0])"
     ],
     "language": "python",
     "metadata": {},
     "outputs": [
      {
       "metadata": {},
       "output_type": "pyout",
       "prompt_number": 159,
       "text": [
        "<matplotlib.image.AxesImage at 0x10ed4b5d0>"
       ]
      },
      {
       "metadata": {},
       "output_type": "display_data",
       "png": "[encoded data removed]",
       "text": [
        "<matplotlib.figure.Figure at 0x1117e3550>"
       ]
      }
     ],
     "prompt_number": 159
    },
    {
     "cell_type": "code",
     "collapsed": false,
     "input": [
      "input_image, input_prob, input_gold, input_rhoana = Util.read_dojo_data() "
     ],
     "language": "python",
     "metadata": {},
     "outputs": [],
     "prompt_number": 170
    },
    {
     "cell_type": "code",
     "collapsed": false,
     "input": [
      "imshow(input_gold[0])"
     ],
     "language": "python",
     "metadata": {},
     "outputs": [
      {
       "metadata": {},
       "output_type": "pyout",
       "prompt_number": 168,
       "text": [
        "<matplotlib.image.AxesImage at 0x1113da110>"
       ]
      },
      {
       "metadata": {},
       "output_type": "display_data",
       "png": "[encoded data removed]",
       "text": [
        "<matplotlib.figure.Figure at 0x111118190>"
       ]
      }
     ],
     "prompt_number": 168
    },
    {
     "cell_type": "code",
     "collapsed": false,
     "input": [
      "Util.vi(input_gold, input_rhoana)"
     ],
     "language": "python",
     "metadata": {},
     "outputs": [
      {
       "metadata": {},
       "output_type": "pyout",
       "prompt_number": 171,
       "text": [
        "0.9760881507864134"
       ]
      }
     ],
     "prompt_number": 171
    },
    {
     "cell_type": "code",
     "collapsed": false,
     "input": [],
     "language": "python",
     "metadata": {},
     "outputs": []
    }
   ],
   "metadata": {}
  }
 ]
}