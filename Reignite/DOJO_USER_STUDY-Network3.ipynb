{
 "cells": [
  {
   "cell_type": "code",
   "execution_count": 1,
   "metadata": {
    "collapsed": false
   },
   "outputs": [
    {
     "name": "stderr",
     "output_type": "stream",
     "text": [
      "Using gpu device 0: GeForce GTX TITAN Black (CNMeM is disabled, CuDNN 4007)\n",
      "/home/d/nolearn/local/lib/python2.7/site-packages/theano/tensor/signal/downsample.py:6: UserWarning: downsample module has been moved to the theano.tensor.signal.pool module.\n",
      "  \"downsample module has been moved to the theano.tensor.signal.pool module.\")\n",
      "tifffile.py:1995: UserWarning: failed to import _tifffile.decodepackbits\n",
      "  warnings.warn(\"failed to import %s\" % module_function)\n",
      "tifffile.py:1995: UserWarning: failed to import _tifffile.decodelzw\n",
      "  warnings.warn(\"failed to import %s\" % module_function)\n",
      "tifffile.py:1995: UserWarning: failed to import _tifffile.unpackints\n",
      "  warnings.warn(\"failed to import %s\" % module_function)\n",
      "/home/d/nolearn/local/lib/python2.7/site-packages/matplotlib/font_manager.py:273: UserWarning: Matplotlib is building the font cache using fc-list. This may take a moment.\n",
      "  warnings.warn('Matplotlib is building the font cache using fc-list. This may take a moment.')\n"
     ]
    }
   ],
   "source": [
    "%load_ext autoreload\n",
    "%autoreload 2\n",
    "\n",
    "from cnn import CNN\n",
    "from dyn_cnn import DynCNN\n",
    "from util import Util\n",
    "from patch import Patch\n",
    "from fixer import Fixer\n",
    "from uglify import Uglify\n",
    "\n",
    "import os\n",
    "import mahotas as mh\n",
    "import numpy as np\n",
    "import time\n",
    "\n",
    "from matplotlib.pyplot import imshow\n",
    "import matplotlib.pyplot as plt\n",
    "%matplotlib inline"
   ]
  },
  {
   "cell_type": "code",
   "execution_count": 2,
   "metadata": {
    "collapsed": false
   },
   "outputs": [
    {
     "name": "stdout",
     "output_type": "stream",
     "text": [
      "Loading ['/home/d/dojo_xp/nets/viren_7/configuration.txt']\n",
      "Loading /home/d/dojo_xp/nets/viren_7/network_350.p\n",
      "Loading ['/home/d/dojo_xp/nets/mine_merged_7/configuration.txt']\n",
      "Loading /home/d/dojo_xp/nets/mine_merged_7/network_251.p\n",
      "Loading ['/home/d/dojo_xp/nets/mine_merged_large_7/configuration.txt']\n",
      "Loading /home/d/dojo_xp/nets/mine_merged_large_7/network_262.p\n"
     ]
    }
   ],
   "source": [
    "#\n",
    "# viren's approach with our LARGER border_overlap\n",
    "#   image prob merged_array dyn_obj dyn_bnd border_overlap\n",
    "networks = []\n",
    "networks.append(CNN('viren_7', 'patches_7th', ['image', 'prob', 'merged_array']))\n",
    "# networks.append(CNN('mine_7', 'patches_7th', ['image', 'prob', 'binary', 'border_overlap']))\n",
    "# networks.append(CNN('mine_large_7', 'patches_7th', ['image', 'prob', 'binary', 'larger_border_overlap']))\n",
    "networks.append(CNN('mine_merged_7', 'patches_7th', ['image', 'prob', 'merged_array', 'border_overlap']))\n",
    "networks.append(CNN('mine_merged_large_7', 'patches_7th', ['image', 'prob', 'merged_array', 'larger_border_overlap']))\n",
    "# networks.append(DynCNN('dyn_viren_7', 'patches_7th', ['image', 'prob', 'merged_array']))\n",
    "# networks.append(DynCNN('dyn_mine_7', 'patches_7th', ['image', 'prob', 'binary', 'border_overlap']))\n",
    "# networks.append(DynCNN('dyn_mine_large_7', 'patches_7th', ['image', 'prob', 'binary', 'larger_border_overlap']))\n",
    "# networks.append(DynCNN('dyn_mine_merged_7', 'patches_7th', ['image', 'prob', 'merged_array', 'border_overlap']))\n",
    "# networks.append(DynCNN('dyn_mine_merged_large_7', 'patches_7th', ['image', 'prob', 'merged_array', 'larger_border_overlap']))\n"
   ]
  },
  {
   "cell_type": "code",
   "execution_count": 4,
   "metadata": {
    "collapsed": false
   },
   "outputs": [],
   "source": [
    "input_image, input_prob, input_gold, input_rhoana, dojo_bbox = Util.read_dojo_data() "
   ]
  },
  {
   "cell_type": "code",
   "execution_count": 5,
   "metadata": {
    "collapsed": false
   },
   "outputs": [],
   "source": [
    "DOJO_USER_DATA_FOLDER = '/home/d/Dropbox/DOJOSTUDY/'\n",
    "DOJO_USERS_IDS = [11,13,18,37,40,43,5,50,53,62]\n",
    "DOJO_USERS = []\n",
    "for d in DOJO_USERS_IDS:\n",
    "    DOJO_USERS.append('S'+str(d)+'tif')\n",
    "    \n",
    "def read_user(user, slice):\n",
    "    img = mh.imread(DOJO_USER_DATA_FOLDER+user+os.sep+'z='+str(slice).zfill(8)+'.tif')\n",
    "    img = Util.crop_by_bbox(img, dojo_bbox)\n",
    "    return Util.frame_image(img)\n",
    "\n",
    "def dojo_user_vi(user, slice, gt):\n",
    "    img = read_user(user, slice)\n",
    "    return Util.vi(img, gt)\n",
    "\n",
    "def fix_dojo_slice(cnn, slice, input_image, input_prob, input_rhoana, input_gold,t=0.):\n",
    "    DOJO_SLICE=slice\n",
    "    vi_s, merge_pairs, surenesses = Fixer.splits(cnn, \n",
    "                                                 input_image[DOJO_SLICE], \n",
    "                                                 input_prob[DOJO_SLICE], \n",
    "                                                 input_rhoana[DOJO_SLICE], \n",
    "                                                 input_gold[DOJO_SLICE],\n",
    "                                                 sureness_threshold=t,\n",
    "                                                 oversampling=False)\n",
    "\n",
    "    best_index = vi_s.index(np.min(vi_s))\n",
    "    best_vi = vi_s[best_index]\n",
    "    best_sureness = surenesses[best_index]\n",
    "    \n",
    "    return best_vi, best_sureness, vi_s, surenesses\n",
    "\n",
    "def fix_dojo_slice_user_simulated(cnn, slice, input_image, input_prob, input_rhoana, input_gold, error_rate=0,t=0):\n",
    "    DOJO_SLICE=slice\n",
    "    vi_s, merge_pairs, surenesses, good_fixes, bad_fixes = Fixer.splits_user_simulated(cnn, \n",
    "                                                 input_image[DOJO_SLICE], \n",
    "                                                 input_prob[DOJO_SLICE], \n",
    "                                                 input_rhoana[DOJO_SLICE], \n",
    "                                                 input_gold[DOJO_SLICE],\n",
    "                                                 error_rate=error_rate,\n",
    "                                                 sureness_threshold=t,                                                 \n",
    "                                                 oversampling=False)\n",
    "    \n",
    "    best_index = vi_s.index(np.min(vi_s))\n",
    "    best_vi = vi_s[best_index]\n",
    "    best_sureness = surenesses[best_index]\n",
    "    \n",
    "    return best_vi, good_fixes, bad_fixes, merge_pairs, vi_s\n",
    "\n",
    "def threed_vi(gt, seg):\n",
    "    total_vi = 0\n",
    "    slice_vi = []    \n",
    "    for i in range(10):\n",
    "        current_vi = Util.vi(gt[i].astype(np.int64), seg[i].astype(np.int64))\n",
    "        total_vi += current_vi\n",
    "        slice_vi.append(current_vi)\n",
    "    total_vi /= 10\n",
    "    return total_vi, slice_vi\n",
    "\n",
    "def user_threed_vi(gt, user):\n",
    "    total_vi = 0\n",
    "    slice_vi = []\n",
    "    for i in range(10):\n",
    "        current_vi = dojo_user_vi(user, i, gt[i])\n",
    "        total_vi += current_vi\n",
    "        slice_vi.append(current_vi)\n",
    "    total_vi /= 10\n",
    "    return total_vi, slice_vi\n",
    "    \n",
    "def cnn_threed_vi(cnn, input_image, input_prob, input_rhoana, input_gold):\n",
    "    total_vi = 0\n",
    "    slice_vi = []\n",
    "    slice_sureness = []\n",
    "    for i in range(10):\n",
    "        current_vi, sureness = fix_dojo_slice(cnn, i, input_image, input_prob, input_rhoana, input_gold)\n",
    "        total_vi += current_vi\n",
    "        slice_vi.append(current_vi)\n",
    "        slice_sureness.append(sureness)\n",
    "    total_vi /= 10\n",
    "    return total_vi, slice_vi, slice_sureness\n",
    "        "
   ]
  },
  {
   "cell_type": "code",
   "execution_count": 6,
   "metadata": {
    "collapsed": false
   },
   "outputs": [
    {
     "data": {
      "text/plain": [
       "(0.5145696221706644,\n",
       " [0.4564952264711417,\n",
       "  0.4293922557471461,\n",
       "  0.41812625771753,\n",
       "  0.4176715560855522,\n",
       "  0.49071969954324857,\n",
       "  0.46200276923857864,\n",
       "  0.5851840840738847,\n",
       "  0.6340148263120815,\n",
       "  0.6552543410401137,\n",
       "  0.5968352054773662])"
      ]
     },
     "execution_count": 6,
     "metadata": {},
     "output_type": "execute_result"
    }
   ],
   "source": [
    "threed_vi(input_gold, input_rhoana)"
   ]
  },
  {
   "cell_type": "code",
   "execution_count": 77,
   "metadata": {
    "collapsed": false
   },
   "outputs": [
    {
     "name": "stdout",
     "output_type": "stream",
     "text": [
      "464 generated in 7.60894584656 seconds.\n",
      "Grouped into 116 patches in 0.0021641254425 seconds.\n",
      "448 generated in 9.04819417 seconds.\n",
      "Grouped into 112 patches in 0.00200915336609 seconds.\n",
      "456 generated in 9.20473504066 seconds.\n",
      "Grouped into 113 patches in 0.0023090839386 seconds.\n",
      "484 generated in 9.50823092461 seconds.\n",
      "Grouped into 121 patches in 0.002366065979 seconds.\n",
      "508 generated in 9.95910906792 seconds.\n",
      "Grouped into 127 patches in 0.00231218338013 seconds.\n",
      "488 generated in 9.64247512817 seconds.\n",
      "Grouped into 122 patches in 0.00241994857788 seconds.\n",
      "480 generated in 9.42580604553 seconds.\n",
      "Grouped into 118 patches in 0.00252485275269 seconds.\n",
      "460 generated in 9.08105683327 seconds.\n",
      "Grouped into 113 patches in 0.00245714187622 seconds.\n",
      "488 generated in 9.58530902863 seconds.\n",
      "Grouped into 120 patches in 0.00236010551453 seconds.\n",
      "540 generated in 10.7721099854 seconds.\n",
      "Grouped into 135 patches in 0.00259208679199 seconds.\n"
     ]
    }
   ],
   "source": [
    "bigM, out, patches = Fixer.splits_global(networks[2], input_image, input_prob, input_rhoana, input_gold)"
   ]
  },
  {
   "cell_type": "code",
   "execution_count": 34,
   "metadata": {
    "collapsed": false,
    "scrolled": true
   },
   "outputs": [
    {
     "data": {
      "image/png": "[encoded data removed]",
      "text/plain": [
       "<matplotlib.figure.Figure at 0x7f6a4ca07610>"
      ]
     },
     "metadata": {},
     "output_type": "display_data"
    },
    {
     "data": {
      "image/png": "[encoded data removed]",
      "text/plain": [
       "<matplotlib.figure.Figure at 0x7f6a4c986290>"
      ]
     },
     "metadata": {},
     "output_type": "display_data"
    },
    {
     "data": {
      "image/png": "[encoded data removed]",
      "text/plain": [
       "<matplotlib.figure.Figure at 0x7f6a4c912dd0>"
      ]
     },
     "metadata": {},
     "output_type": "display_data"
    },
    {
     "data": {
      "image/png": "[encoded data removed]",
      "text/plain": [
       "<matplotlib.figure.Figure at 0x7f6a4c88f210>"
      ]
     },
     "metadata": {},
     "output_type": "display_data"
    },
    {
     "data": {
      "image/png": "[encoded data removed]",
      "text/plain": [
       "<matplotlib.figure.Figure at 0x7f6a4c810e10>"
      ]
     },
     "metadata": {},
     "output_type": "display_data"
    },
    {
     "data": {
      "image/png": "[encoded data removed]",
      "text/plain": [
       "<matplotlib.figure.Figure at 0x7f6a4c797050>"
      ]
     },
     "metadata": {},
     "output_type": "display_data"
    },
    {
     "data": {
      "image/png": "[encoded data removed]",
      "text/plain": [
       "<matplotlib.figure.Figure at 0x7f6a4c724f10>"
      ]
     },
     "metadata": {},
     "output_type": "display_data"
    },
    {
     "data": {
      "image/png": "[encoded data removed]",
      "text/plain": [
       "<matplotlib.figure.Figure at 0x7f6a4c696910>"
      ]
     },
     "metadata": {},
     "output_type": "display_data"
    }
   ],
   "source": [
    "Patch.show(patches[0][0], networks[2], 0)"
   ]
  },
  {
   "cell_type": "code",
   "execution_count": 98,
   "metadata": {
    "collapsed": true
   },
   "outputs": [],
   "source": [
    "import cPickle as pickle\n",
    "with open('/home/d/dojo_xp/data/bigM.p', 'wb') as f:\n",
    "    pickle.dump(bigM, f)"
   ]
  },
  {
   "cell_type": "code",
   "execution_count": 58,
   "metadata": {
    "collapsed": false
   },
   "outputs": [],
   "source": [
    "flattened_patches = []\n",
    "for z in range(0,10):\n",
    "    for p in patches[z]:\n",
    "        p['z'] = z\n",
    "        flattened_patches.append(p)"
   ]
  },
  {
   "cell_type": "code",
   "execution_count": null,
   "metadata": {
    "collapsed": true
   },
   "outputs": [],
   "source": []
  },
  {
   "cell_type": "code",
   "execution_count": 96,
   "metadata": {
    "collapsed": false
   },
   "outputs": [],
   "source": [
    "bigM_max = -1\n",
    "bigM_max_index = None\n",
    "bigM_max_z = -1\n",
    "for z,m in enumerate(bigM):\n",
    "    if m.max() > bigM_max:\n",
    "        bigM_max = m.max()\n",
    "        bigM_max_indices = np.where(m == bigM_max)\n",
    "        bigM_max_index = (bigM_max_indices[0][0], bigM_max_indices[1][0])\n",
    "        bigM_max_z = z"
   ]
  },
  {
   "cell_type": "code",
   "execution_count": 97,
   "metadata": {
    "collapsed": false
   },
   "outputs": [
    {
     "data": {
      "text/plain": [
       "(51, 57)"
      ]
     },
     "execution_count": 97,
     "metadata": {},
     "output_type": "execute_result"
    }
   ],
   "source": [
    "bigM_max_index"
   ]
  },
  {
   "cell_type": "code",
   "execution_count": 95,
   "metadata": {
    "collapsed": false
   },
   "outputs": [
    {
     "data": {
      "text/plain": [
       "0.99518775939941406"
      ]
     },
     "execution_count": 95,
     "metadata": {},
     "output_type": "execute_result"
    }
   ],
   "source": [
    "bigM[bigM_max_z][51,57]"
   ]
  },
  {
   "cell_type": "code",
   "execution_count": 62,
   "metadata": {
    "collapsed": false
   },
   "outputs": [],
   "source": [
    "for p in flattened_patches:\n",
    "    pred = networks[2].test_patch(p)\n",
    "    p['prediction'] = pred"
   ]
  },
  {
   "cell_type": "code",
   "execution_count": 60,
   "metadata": {
    "collapsed": false
   },
   "outputs": [
    {
     "data": {
      "text/plain": [
       "4816"
      ]
     },
     "execution_count": 60,
     "metadata": {},
     "output_type": "execute_result"
    }
   ],
   "source": [
    "len(flattened_patches)"
   ]
  },
  {
   "cell_type": "code",
   "execution_count": 66,
   "metadata": {
    "collapsed": true
   },
   "outputs": [],
   "source": [
    "sorted_flattened_patches = sorted(flattened_patches, key=lambda x: x['prediction'], reverse=True)"
   ]
  },
  {
   "cell_type": "code",
   "execution_count": 68,
   "metadata": {
    "collapsed": false
   },
   "outputs": [
    {
     "data": {
      "text/plain": [
       "{'bbox': [285, 359, 131, 205],\n",
       " 'binary': array([[False, False, False, ..., False, False, False],\n",
       "        [False, False, False, ..., False, False, False],\n",
       "        [False, False, False, ..., False, False, False],\n",
       "        ..., \n",
       "        [False, False, False, ..., False, False, False],\n",
       "        [False, False, False, ..., False, False, False],\n",
       "        [False, False, False, ..., False, False, False]], dtype=bool),\n",
       " 'binary1': array([[False, False, False, ..., False, False, False],\n",
       "        [False, False, False, ..., False, False, False],\n",
       "        [False, False, False, ..., False, False, False],\n",
       "        ..., \n",
       "        [False, False, False, ..., False, False, False],\n",
       "        [False, False, False, ..., False, False, False],\n",
       "        [False, False, False, ..., False, False, False]], dtype=bool),\n",
       " 'binary2': array([[ True,  True,  True, ..., False, False, False],\n",
       "        [ True,  True,  True, ..., False, False, False],\n",
       "        [ True,  True,  True, ..., False, False, False],\n",
       "        ..., \n",
       "        [False, False, False, ..., False, False, False],\n",
       "        [False, False, False, ..., False, False, False],\n",
       "        [False, False, False, ..., False, False, False]], dtype=bool),\n",
       " 'border': [(307, 173),\n",
       "  (307, 174),\n",
       "  (308, 172),\n",
       "  (308, 173),\n",
       "  (309, 171),\n",
       "  (309, 172),\n",
       "  (310, 170),\n",
       "  (310, 171),\n",
       "  (311, 170),\n",
       "  (311, 171),\n",
       "  (312, 170),\n",
       "  (312, 171),\n",
       "  (313, 170),\n",
       "  (313, 171),\n",
       "  (314, 169),\n",
       "  (314, 170),\n",
       "  (315, 168),\n",
       "  (315, 169),\n",
       "  (316, 168),\n",
       "  (316, 169),\n",
       "  (317, 169),\n",
       "  (317, 170),\n",
       "  (318, 168),\n",
       "  (318, 169),\n",
       "  (319, 168),\n",
       "  (319, 169),\n",
       "  (320, 167),\n",
       "  (320, 168),\n",
       "  (321, 167),\n",
       "  (321, 168),\n",
       "  (322, 167),\n",
       "  (322, 168),\n",
       "  (323, 166),\n",
       "  (323, 167),\n",
       "  (324, 166),\n",
       "  (324, 167),\n",
       "  (325, 165),\n",
       "  (325, 166),\n",
       "  (326, 165),\n",
       "  (326, 166),\n",
       "  (327, 164),\n",
       "  (327, 165),\n",
       "  (328, 163),\n",
       "  (328, 164),\n",
       "  (329, 162),\n",
       "  (329, 163),\n",
       "  (330, 161),\n",
       "  (330, 162),\n",
       "  (331, 160),\n",
       "  (331, 161),\n",
       "  (332, 160),\n",
       "  (332, 161),\n",
       "  (333, 159),\n",
       "  (333, 160),\n",
       "  (334, 158),\n",
       "  (334, 159),\n",
       "  (335, 158),\n",
       "  (335, 159),\n",
       "  (336, 158),\n",
       "  (336, 159),\n",
       "  (337, 158),\n",
       "  (337, 159)],\n",
       " 'border_center': [322, 168],\n",
       " 'border_overlap': array([[False, False, False, ..., False, False, False],\n",
       "        [False, False, False, ..., False, False, False],\n",
       "        [False, False, False, ..., False, False, False],\n",
       "        ..., \n",
       "        [False, False, False, ..., False, False, False],\n",
       "        [False, False, False, ..., False, False, False],\n",
       "        [False, False, False, ..., False, False, False]], dtype=bool),\n",
       " 'dyn_bnd': array([[False, False, False, ..., False, False, False],\n",
       "        [False, False, False, ..., False, False, False],\n",
       "        [False, False, False, ..., False, False, False],\n",
       "        ..., \n",
       "        [False, False, False, ..., False, False, False],\n",
       "        [False, False, False, ..., False, False, False],\n",
       "        [False, False, False, ..., False, False, False]], dtype=bool),\n",
       " 'dyn_bnd_dyn_obj': array([[False, False, False, ..., False, False, False],\n",
       "        [False, False, False, ..., False, False, False],\n",
       "        [False, False, False, ..., False, False, False],\n",
       "        ..., \n",
       "        [False, False, False, ..., False, False, False],\n",
       "        [False, False, False, ..., False, False, False],\n",
       "        [False, False, False, ..., False, False, False]], dtype=bool),\n",
       " 'dyn_obj': array([[False, False, False, ..., False, False, False],\n",
       "        [False, False, False, ..., False, False, False],\n",
       "        [False, False, False, ..., False, False, False],\n",
       "        ..., \n",
       "        [False, False, False, ..., False, False, False],\n",
       "        [False, False, False, ..., False, False, False],\n",
       "        [False, False, False, ..., False, False, False]], dtype=bool),\n",
       " 'id': 'cfcbc020-86e3-4f88-97f0-f677556fc6a6',\n",
       " 'image': array([[101,  94,  78, ..., 150, 156, 151],\n",
       "        [105,  97, 104, ..., 158, 162, 156],\n",
       "        [107,  93, 105, ..., 157, 168, 162],\n",
       "        ..., \n",
       "        [ 81,  83,  77, ...,  64,  66,  77],\n",
       "        [108, 104,  86, ...,  56,  64,  73],\n",
       "        [ 95,  84,  72, ...,  55,  67,  86]], dtype=uint8),\n",
       " 'l': 51,\n",
       " 'larger_border_overlap': array([[False, False, False, ..., False, False, False],\n",
       "        [False, False, False, ..., False, False, False],\n",
       "        [False, False, False, ..., False, False, False],\n",
       "        ..., \n",
       "        [False, False, False, ..., False, False, False],\n",
       "        [False, False, False, ..., False, False, False],\n",
       "        [False, False, False, ..., False, False, False]], dtype=bool),\n",
       " 'merged_array': array([[ True,  True,  True, ..., False, False, False],\n",
       "        [ True,  True,  True, ..., False, False, False],\n",
       "        [ True,  True,  True, ..., False, False, False],\n",
       "        ..., \n",
       "        [False, False, False, ..., False, False, False],\n",
       "        [False, False, False, ..., False, False, False],\n",
       "        [False, False, False, ..., False, False, False]], dtype=bool),\n",
       " 'n': 57,\n",
       " 'overlap': array([[False, False, False, ..., False, False, False],\n",
       "        [False, False, False, ..., False, False, False],\n",
       "        [False, False, False, ..., False, False, False],\n",
       "        ..., \n",
       "        [False, False, False, ..., False, False, False],\n",
       "        [False, False, False, ..., False, False, False],\n",
       "        [False, False, False, ..., False, False, False]], dtype=bool),\n",
       " 'prediction': 0.99518776,\n",
       " 'prob': array([[243, 245, 246, ...,   0,   0,   0],\n",
       "        [210, 211, 208, ...,   0,   0,   0],\n",
       "        [ 24,  23,  18, ...,   0,   0,   0],\n",
       "        ..., \n",
       "        [205, 235, 235, ..., 241, 227, 161],\n",
       "        [176, 223, 239, ..., 241, 226, 125],\n",
       "        [127, 218, 237, ..., 243, 206,  83]], dtype=uint8),\n",
       " 'z': 0}"
      ]
     },
     "execution_count": 68,
     "metadata": {},
     "output_type": "execute_result"
    }
   ],
   "source": [
    "sorted_flattened_patches[0]"
   ]
  },
  {
   "cell_type": "code",
   "execution_count": 69,
   "metadata": {
    "collapsed": true
   },
   "outputs": [],
   "source": [
    "with open('/home/d/dojo_xp/data/dojo_data_vis2014_patches_predicted.p', 'wb') as f:\n",
    "    pickle.dump(sorted_flattened_patches, f)"
   ]
  },
  {
   "cell_type": "code",
   "execution_count": 36,
   "metadata": {
    "collapsed": false
   },
   "outputs": [
    {
     "data": {
      "text/plain": [
       "<matplotlib.image.AxesImage at 0x7f6a4c506310>"
      ]
     },
     "execution_count": 36,
     "metadata": {},
     "output_type": "execute_result"
    },
    {
     "data": {
      "image/png": "[encoded data removed]",
      "text/plain": [
       "<matplotlib.figure.Figure at 0x7f6a4c3d6c90>"
      ]
     },
     "metadata": {},
     "output_type": "display_data"
    }
   ],
   "source": [
    "imshow(input_image[0][38:112,144:218])"
   ]
  },
  {
   "cell_type": "code",
   "execution_count": 27,
   "metadata": {
    "collapsed": false
   },
   "outputs": [
    {
     "data": {
      "text/plain": [
       "(0.46831988319320567,\n",
       " [0.4050252609261369,\n",
       "  0.4121594568115894,\n",
       "  0.3918172770092099,\n",
       "  0.4053514521002537,\n",
       "  0.4337343707604937,\n",
       "  0.41851464530707894,\n",
       "  0.5240820744039167,\n",
       "  0.5830389613197333,\n",
       "  0.6172253790488904,\n",
       "  0.4922499542447536])"
      ]
     },
     "execution_count": 27,
     "metadata": {},
     "output_type": "execute_result"
    }
   ],
   "source": [
    "threed_vi(input_gold, out)"
   ]
  },
  {
   "cell_type": "code",
   "execution_count": 16,
   "metadata": {
    "collapsed": true
   },
   "outputs": [],
   "source": [
    "all_splits = []\n",
    "for m in bigM:\n",
    "    all_splits.extend (np.tril(m).flatten())"
   ]
  },
  {
   "cell_type": "code",
   "execution_count": 18,
   "metadata": {
    "collapsed": false
   },
   "outputs": [
    {
     "data": {
      "text/plain": [
       "0.93408244848251343"
      ]
     },
     "execution_count": 18,
     "metadata": {},
     "output_type": "execute_result"
    }
   ],
   "source": [
    "max(all_splits)"
   ]
  },
  {
   "cell_type": "code",
   "execution_count": 76,
   "metadata": {
    "collapsed": false
   },
   "outputs": [
    {
     "data": {
      "text/plain": [
       "0.93282866477966309"
      ]
     },
     "execution_count": 76,
     "metadata": {},
     "output_type": "execute_result"
    }
   ],
   "source": [
    "bigM[9].max()"
   ]
  },
  {
   "cell_type": "code",
   "execution_count": 23,
   "metadata": {
    "collapsed": false
   },
   "outputs": [
    {
     "data": {
      "image/png": "[encoded data removed]",
      "text/plain": [
       "<matplotlib.figure.Figure at 0x7f6a3eb72450>"
      ]
     },
     "metadata": {},
     "output_type": "display_data"
    }
   ],
   "source": [
    "Util.view(out[0])"
   ]
  },
  {
   "cell_type": "code",
   "execution_count": 24,
   "metadata": {
    "collapsed": false
   },
   "outputs": [
    {
     "data": {
      "image/png": "[encoded data removed]",
      "text/plain": [
       "<matplotlib.figure.Figure at 0x7f6a3e9c2410>"
      ]
     },
     "metadata": {},
     "output_type": "display_data"
    }
   ],
   "source": [
    "Util.view(input_gold[0])"
   ]
  },
  {
   "cell_type": "code",
   "execution_count": 25,
   "metadata": {
    "collapsed": false
   },
   "outputs": [
    {
     "data": {
      "image/png": "[encoded data removed]",
      "text/plain": [
       "<matplotlib.figure.Figure at 0x7f6a3ed60690>"
      ]
     },
     "metadata": {},
     "output_type": "display_data"
    }
   ],
   "source": [
    "Util.view(input_rhoana[0])"
   ]
  },
  {
   "cell_type": "code",
   "execution_count": 201,
   "metadata": {
    "collapsed": false
   },
   "outputs": [
    {
     "name": "stdout",
     "output_type": "stream",
     "text": [
      "464 generated in 10.1999530792 seconds.\n",
      "Grouped into 116 patches in 0.00298094749451 seconds.\n",
      "Merge loop finished in 20.2764430046 seconds.\n",
      "Before VI: 0.456495226471\n",
      "Smallest VI: 0.409136014296\n",
      "Sureness threshold: 0.972009241581\n",
      "448 generated in 9.58536195755 seconds.\n",
      "Grouped into 112 patches in 0.00291514396667 seconds.\n",
      "Merge loop finished in 25.6222200394 seconds.\n",
      "Before VI: 0.429392255747\n",
      "Smallest VI: 0.410100319075\n",
      "Sureness threshold: 0.970213234425\n",
      "456 generated in 9.93700003624 seconds.\n",
      "Grouped into 113 patches in 0.00300097465515 seconds.\n",
      "Merge loop finished in 21.2360320091 seconds.\n",
      "Before VI: 0.418126257718\n",
      "Smallest VI: 0.376229501303\n",
      "Sureness threshold: 0.982782185078\n",
      "484 generated in 10.1840078831 seconds.\n",
      "Grouped into 121 patches in 0.00327706336975 seconds.\n",
      "Merge loop finished in 24.1566948891 seconds.\n",
      "Before VI: 0.417671556086\n",
      "Smallest VI: 0.4053514521\n",
      "Sureness threshold: 0.942233741283\n",
      "508 generated in 10.6407830715 seconds.\n",
      "Grouped into 127 patches in 0.00337409973145 seconds.\n",
      "Merge loop finished in 23.1160581112 seconds.\n",
      "Before VI: 0.490719699543\n",
      "Smallest VI: 0.425035918862\n",
      "Sureness threshold: 0.728529036045\n",
      "488 generated in 10.0535361767 seconds.\n",
      "Grouped into 122 patches in 0.00309109687805 seconds.\n",
      "Merge loop finished in 22.0516569614 seconds.\n",
      "Before VI: 0.462002769239\n",
      "Smallest VI: 0.429633748284\n",
      "Sureness threshold: 0.985827207565\n",
      "480 generated in 9.92967104912 seconds.\n",
      "Grouped into 118 patches in 0.00568699836731 seconds.\n",
      "Merge loop finished in 19.5007808208 seconds.\n",
      "Before VI: 0.585184084074\n",
      "Smallest VI: 0.594299686633\n",
      "Sureness threshold: 0.982649564743\n",
      "460 generated in 9.52427411079 seconds.\n",
      "Grouped into 113 patches in 0.00296902656555 seconds.\n",
      "Merge loop finished in 22.8545470238 seconds.\n",
      "Before VI: 0.634014826312\n",
      "Smallest VI: 0.617383760961\n",
      "Sureness threshold: 0.988467395306\n",
      "488 generated in 10.1902201176 seconds.\n",
      "Grouped into 120 patches in 0.00314116477966 seconds.\n",
      "Merge loop finished in 23.2598948479 seconds.\n",
      "Before VI: 0.65525434104\n",
      "Smallest VI: 0.652767646206\n",
      "Sureness threshold: 0.996048867702\n",
      "540 generated in 11.3247289658 seconds.\n",
      "Grouped into 135 patches in 0.00342607498169 seconds.\n",
      "Merge loop finished in 32.3392829895 seconds.\n",
      "Before VI: 0.596835205477\n",
      "Smallest VI: 0.571672300931\n",
      "Sureness threshold: 0.992354571819\n",
      "464 generated in 10.112511158 seconds.\n",
      "Grouped into 116 patches in 0.00301694869995 seconds.\n",
      "Merge loop finished in 21.2796549797 seconds.\n",
      "Before VI: 0.456495226471\n",
      "Smallest VI: 0.42699863396\n",
      "Sureness threshold: 0.979651272297\n",
      "448 generated in 9.54687309265 seconds.\n",
      "Grouped into 112 patches in 0.00298309326172 seconds.\n",
      "Merge loop finished in 22.4975540638 seconds.\n",
      "Before VI: 0.429392255747\n",
      "Smallest VI: 0.397938578885\n",
      "Sureness threshold: 0.881153106689\n",
      "456 generated in 9.82635211945 seconds.\n",
      "Grouped into 113 patches in 0.00305104255676 seconds.\n",
      "Merge loop finished in 21.2912979126 seconds.\n",
      "Before VI: 0.418126257718\n",
      "Smallest VI: 0.397546376417\n",
      "Sureness threshold: 0.944938004017\n",
      "484 generated in 10.1487550735 seconds.\n",
      "Grouped into 121 patches in 0.00327205657959 seconds.\n",
      "Merge loop finished in 24.6728539467 seconds.\n",
      "Before VI: 0.417671556086\n",
      "Smallest VI: 0.408266936423\n",
      "Sureness threshold: 0.99251550436\n",
      "508 generated in 10.5947580338 seconds.\n",
      "Grouped into 127 patches in 0.00322103500366 seconds.\n",
      "Merge loop finished in 26.6464400291 seconds.\n",
      "Before VI: 0.490719699543\n",
      "Smallest VI: 0.420538457871\n",
      "Sureness threshold: 0.874773025513\n",
      "488 generated in 10.069149971 seconds.\n",
      "Grouped into 122 patches in 0.00315499305725 seconds.\n",
      "Merge loop finished in 23.880177021 seconds.\n",
      "Before VI: 0.462002769239\n",
      "Smallest VI: 0.44868699879\n",
      "Sureness threshold: 0.993830680847\n",
      "480 generated in 9.92301702499 seconds.\n",
      "Grouped into 118 patches in 0.00302290916443 seconds.\n",
      "Merge loop finished in 22.5814158916 seconds.\n",
      "Before VI: 0.585184084074\n",
      "Smallest VI: 0.579395362911\n",
      "Sureness threshold: 0.959493637085\n",
      "460 generated in 9.49082398415 seconds.\n",
      "Grouped into 113 patches in 0.00295400619507 seconds.\n",
      "Merge loop finished in 24.5888600349 seconds.\n",
      "Before VI: 0.634014826312\n",
      "Smallest VI: 0.593390555549\n",
      "Sureness threshold: 0.968976855278\n",
      "488 generated in 10.2120149136 seconds.\n",
      "Grouped into 120 patches in 0.00319814682007 seconds.\n",
      "Merge loop finished in 25.764509201 seconds.\n",
      "Before VI: 0.65525434104\n",
      "Smallest VI: 0.617225379049\n",
      "Sureness threshold: 0.964638233185\n",
      "540 generated in 11.3297851086 seconds.\n",
      "Grouped into 135 patches in 0.00357604026794 seconds.\n",
      "Merge loop finished in 32.3377439976 seconds.\n",
      "Before VI: 0.596835205477\n",
      "Smallest VI: 0.571672300931\n",
      "Sureness threshold: 0.986479997635\n",
      "464 generated in 10.1394720078 seconds.\n",
      "Grouped into 116 patches in 0.00302505493164 seconds.\n",
      "Merge loop finished in 20.4042470455 seconds.\n",
      "Before VI: 0.456495226471\n",
      "Smallest VI: 0.423074244122\n",
      "Sureness threshold: 0.962524533272\n",
      "448 generated in 9.53662586212 seconds.\n",
      "Grouped into 112 patches in 0.00306391716003 seconds.\n",
      "Merge loop finished in 21.5205380917 seconds.\n",
      "Before VI: 0.429392255747\n",
      "Smallest VI: 0.406566336405\n",
      "Sureness threshold: 0.866549134254\n",
      "456 generated in 9.82899284363 seconds.\n",
      "Grouped into 113 patches in 0.00291514396667 seconds.\n",
      "Merge loop finished in 21.9760642052 seconds.\n",
      "Before VI: 0.418126257718\n",
      "Smallest VI: 0.389582801449\n",
      "Sureness threshold: 0.958169817924\n",
      "484 generated in 10.2004778385 seconds.\n",
      "Grouped into 121 patches in 0.00325489044189 seconds.\n",
      "Merge loop finished in 30.435199976 seconds.\n",
      "Before VI: 0.417671556086\n",
      "Smallest VI: 0.408519957673\n",
      "Sureness threshold: 0.924777030945\n",
      "508 generated in 10.6750609875 seconds.\n",
      "Grouped into 127 patches in 0.00330495834351 seconds.\n",
      "Merge loop finished in 24.0474879742 seconds.\n",
      "Before VI: 0.490719699543\n",
      "Smallest VI: 0.418750143775\n",
      "Sureness threshold: 0.828786313534\n",
      "488 generated in 10.1098470688 seconds.\n",
      "Grouped into 122 patches in 0.00355505943298 seconds.\n",
      "Merge loop finished in 26.9529020786 seconds.\n",
      "Before VI: 0.462002769239\n",
      "Smallest VI: 0.433829554243\n",
      "Sureness threshold: 0.962733864784\n",
      "480 generated in 9.96908307076 seconds.\n",
      "Grouped into 118 patches in 0.00312995910645 seconds.\n",
      "Merge loop finished in 19.6628639698 seconds.\n",
      "Before VI: 0.585184084074\n",
      "Smallest VI: 0.584661121617\n",
      "Sureness threshold: 0.966188967228\n",
      "460 generated in 9.55436301231 seconds.\n",
      "Grouped into 113 patches in 0.00292897224426 seconds.\n",
      "Merge loop finished in 26.1333730221 seconds.\n",
      "Before VI: 0.634014826312\n",
      "Smallest VI: 0.606569590083\n",
      "Sureness threshold: 0.970595300198\n",
      "488 generated in 10.2453968525 seconds.\n",
      "Grouped into 120 patches in 0.00313901901245 seconds.\n",
      "Merge loop finished in 22.9123358727 seconds.\n",
      "Before VI: 0.65525434104\n",
      "Smallest VI: 0.658924941377\n",
      "Sureness threshold: 0.973468720913\n",
      "540 generated in 11.3937170506 seconds.\n",
      "Grouped into 135 patches in 0.00350499153137 seconds.\n",
      "Merge loop finished in 31.5435419083 seconds.\n",
      "Before VI: 0.596835205477\n",
      "Smallest VI: 0.571672300931\n",
      "Sureness threshold: 0.982312440872\n",
      "464 generated in 10.2272560596 seconds.\n",
      "Grouped into 116 patches in 0.00307202339172 seconds.\n",
      "Merge loop finished in 22.5207369328 seconds.\n",
      "Before VI: 0.456495226471\n",
      "Smallest VI: 0.409136014296\n",
      "Sureness threshold: 0.953363060951\n",
      "448 generated in 9.55472207069 seconds.\n",
      "Grouped into 112 patches in 0.00292205810547 seconds.\n",
      "Merge loop finished in 19.2535290718 seconds.\n",
      "Before VI: 0.429392255747\n",
      "Smallest VI: 0.398579506093\n",
      "Sureness threshold: 0.890683233738\n",
      "456 generated in 9.8195271492 seconds.\n",
      "Grouped into 113 patches in 0.00297498703003 seconds.\n",
      "Merge loop finished in 20.3150789738 seconds.\n",
      "Before VI: 0.418126257718\n",
      "Smallest VI: 0.382256489913\n",
      "Sureness threshold: 0.980306565762\n",
      "484 generated in 10.1796410084 seconds.\n",
      "Grouped into 121 patches in 0.00337886810303 seconds.\n",
      "Merge loop finished in 24.1543831825 seconds.\n",
      "Before VI: 0.417671556086\n",
      "Smallest VI: 0.408266936423\n",
      "Sureness threshold: 0.997880280018\n",
      "508 generated in 10.6352260113 seconds.\n",
      "Grouped into 127 patches in 0.00325393676758 seconds.\n",
      "Merge loop finished in 27.1617891788 seconds.\n",
      "Before VI: 0.490719699543\n",
      "Smallest VI: 0.424035837096\n",
      "Sureness threshold: 0.807042062283\n",
      "488 generated in 10.5137269497 seconds.\n",
      "Grouped into 122 patches in 0.00317287445068 seconds.\n",
      "Merge loop finished in 24.0879461765 seconds.\n",
      "Before VI: 0.462002769239\n",
      "Smallest VI: 0.448312685079\n",
      "Sureness threshold: 0.991241157055\n",
      "480 generated in 9.97897601128 seconds.\n",
      "Grouped into 118 patches in 0.00319886207581 seconds.\n",
      "Merge loop finished in 22.8003649712 seconds.\n",
      "Before VI: 0.585184084074\n",
      "Smallest VI: 0.589781825716\n",
      "Sureness threshold: 0.981243133545\n",
      "460 generated in 9.85734701157 seconds.\n",
      "Grouped into 113 patches in 0.00305700302124 seconds.\n",
      "Merge loop finished in 24.2021110058 seconds.\n",
      "Before VI: 0.634014826312\n",
      "Smallest VI: 0.614443641316\n",
      "Sureness threshold: 0.976582825184\n",
      "488 generated in 10.4072668552 seconds.\n",
      "Grouped into 120 patches in 0.00327610969543 seconds.\n",
      "Merge loop finished in 26.1831550598 seconds.\n",
      "Before VI: 0.65525434104\n",
      "Smallest VI: 0.627382052154\n",
      "Sureness threshold: 0.985428929329\n",
      "540 generated in 11.8246328831 seconds.\n",
      "Grouped into 135 patches in 0.00350689888 seconds.\n",
      "Merge loop finished in 27.2847979069 seconds.\n",
      "Before VI: 0.596835205477\n",
      "Smallest VI: 0.563589923024\n",
      "Sureness threshold: 0.971716463566\n",
      "464 generated in 10.163847208 seconds.\n",
      "Grouped into 116 patches in 0.00312399864197 seconds.\n",
      "Merge loop finished in 20.3639121056 seconds.\n",
      "Before VI: 0.456495226471\n",
      "Smallest VI: 0.413603555526\n",
      "Sureness threshold: 0.970817148685\n",
      "448 generated in 9.63836479187 seconds.\n",
      "Grouped into 112 patches in 0.00286793708801 seconds.\n",
      "Merge loop finished in 21.7124130726 seconds.\n",
      "Before VI: 0.429392255747\n",
      "Smallest VI: 0.391505891228\n",
      "Sureness threshold: 0.718482911587\n",
      "456 generated in 9.93647313118 seconds.\n",
      "Grouped into 113 patches in 0.00306701660156 seconds.\n",
      "Merge loop finished in 20.5454330444 seconds.\n",
      "Before VI: 0.418126257718\n",
      "Smallest VI: 0.393195250195\n",
      "Sureness threshold: 0.977622807026\n",
      "484 generated in 10.2011070251 seconds.\n",
      "Grouped into 121 patches in 0.00318288803101 seconds.\n",
      "Merge loop finished in 25.2625749111 seconds.\n",
      "Before VI: 0.417671556086\n",
      "Smallest VI: 0.408266936423\n",
      "Sureness threshold: 0.983359634876\n",
      "508 generated in 11.2944800854 seconds.\n",
      "Grouped into 127 patches in 0.0034191608429 seconds.\n",
      "Merge loop finished in 26.34176898 seconds.\n",
      "Before VI: 0.490719699543\n",
      "Smallest VI: 0.420538457871\n",
      "Sureness threshold: 0.91118067503\n",
      "488 generated in 10.2845540047 seconds.\n",
      "Grouped into 122 patches in 0.00314807891846 seconds.\n",
      "Merge loop finished in 23.1646289825 seconds.\n",
      "Before VI: 0.462002769239\n",
      "Smallest VI: 0.456131233549\n",
      "Sureness threshold: 0.971665620804\n",
      "480 generated in 9.99610996246 seconds.\n",
      "Grouped into 118 patches in 0.00309491157532 seconds.\n",
      "Merge loop finished in 19.0609130859 seconds.\n",
      "Before VI: 0.585184084074\n",
      "Smallest VI: 0.58491095219\n",
      "Sureness threshold: 0.979832172394\n",
      "460 generated in 9.60295915604 seconds.\n",
      "Grouped into 113 patches in 0.00303316116333 seconds.\n",
      "Merge loop finished in 22.8929240704 seconds.\n",
      "Before VI: 0.634014826312\n",
      "Smallest VI: 0.617383760961\n",
      "Sureness threshold: 0.991404235363\n",
      "488 generated in 10.2402229309 seconds.\n",
      "Grouped into 120 patches in 0.00379109382629 seconds.\n",
      "Merge loop finished in 20.5351960659 seconds.\n",
      "Before VI: 0.65525434104\n",
      "Smallest VI: 0.658924941377\n",
      "Sureness threshold: 0.971445977688\n",
      "540 generated in 11.4271509647 seconds.\n",
      "Grouped into 135 patches in 0.003497838974 seconds.\n",
      "Merge loop finished in 32.5873889923 seconds.\n",
      "Before VI: 0.596835205477\n",
      "Smallest VI: 0.588619360303\n",
      "Sureness threshold: 0.933249592781\n",
      "464 generated in 10.154335022 seconds.\n",
      "Grouped into 116 patches in 0.00299692153931 seconds.\n",
      "Merge loop finished in 19.5337491035 seconds.\n",
      "Before VI: 0.456495226471\n",
      "Smallest VI: 0.430396667203\n",
      "Sureness threshold: 0.952552318573\n",
      "448 generated in 9.58894109726 seconds.\n",
      "Grouped into 112 patches in 0.00288391113281 seconds.\n",
      "Merge loop finished in 20.1015601158 seconds.\n",
      "Before VI: 0.429392255747\n",
      "Smallest VI: 0.39285045356\n",
      "Sureness threshold: 0.971280634403\n",
      "456 generated in 9.81343483925 seconds.\n",
      "Grouped into 113 patches in 0.00302600860596 seconds.\n",
      "Merge loop finished in 21.7215390205 seconds.\n",
      "Before VI: 0.418126257718\n",
      "Smallest VI: 0.402538482011\n",
      "Sureness threshold: 0.991877198219\n",
      "484 generated in 10.2072200775 seconds.\n",
      "Grouped into 121 patches in 0.00323700904846 seconds.\n",
      "Merge loop finished in 20.3684990406 seconds.\n",
      "Before VI: 0.417671556086\n",
      "Smallest VI: 0.410918570823\n",
      "Sureness threshold: 0.968139827251\n",
      "508 generated in 10.6190068722 seconds.\n",
      "Grouped into 127 patches in 0.00323700904846 seconds.\n",
      "Merge loop finished in 27.7024388313 seconds.\n",
      "Before VI: 0.490719699543\n",
      "Smallest VI: 0.472484226801\n",
      "Sureness threshold: 0.940280079842\n",
      "488 generated in 10.1663358212 seconds.\n",
      "Grouped into 122 patches in 0.00329113006592 seconds.\n",
      "Merge loop finished in 22.9591169357 seconds.\n",
      "Before VI: 0.462002769239\n",
      "Smallest VI: 0.397891921228\n",
      "Sureness threshold: 0.986952543259\n",
      "480 generated in 9.9654519558 seconds.\n",
      "Grouped into 118 patches in 0.00318217277527 seconds.\n",
      "Merge loop finished in 22.6537280083 seconds.\n",
      "Before VI: 0.585184084074\n",
      "Smallest VI: 0.555433099432\n",
      "Sureness threshold: 0.98837608099\n",
      "460 generated in 9.58613109589 seconds.\n",
      "Grouped into 113 patches in 0.00302505493164 seconds.\n",
      "Merge loop finished in 21.6349000931 seconds.\n",
      "Before VI: 0.634014826312\n",
      "Smallest VI: 0.616011139394\n",
      "Sureness threshold: 0.998591244221\n",
      "488 generated in 10.2538650036 seconds.\n",
      "Grouped into 120 patches in 0.00311899185181 seconds.\n",
      "Merge loop finished in 24.6934950352 seconds.\n",
      "Before VI: 0.65525434104\n",
      "Smallest VI: 0.605680998713\n",
      "Sureness threshold: 0.838658869267\n",
      "540 generated in 11.3453700542 seconds.\n",
      "Grouped into 135 patches in 0.00347304344177 seconds.\n",
      "Merge loop finished in 30.9871439934 seconds.\n",
      "Before VI: 0.596835205477\n",
      "Smallest VI: 0.594077144176\n",
      "Sureness threshold: 0.930587172508\n",
      "464 generated in 10.1553859711 seconds.\n",
      "Grouped into 116 patches in 0.00300002098083 seconds.\n",
      "Merge loop finished in 19.8494639397 seconds.\n",
      "Before VI: 0.456495226471\n",
      "Smallest VI: 0.405025260926\n",
      "Sureness threshold: 0.95968747139\n",
      "448 generated in 9.54463887215 seconds.\n",
      "Grouped into 112 patches in 0.00287008285522 seconds.\n",
      "Merge loop finished in 23.3531079292 seconds.\n",
      "Before VI: 0.429392255747\n",
      "Smallest VI: 0.392810921948\n",
      "Sureness threshold: 0.801667630672\n",
      "456 generated in 9.88506197929 seconds.\n",
      "Grouped into 113 patches in 0.0028920173645 seconds.\n",
      "Merge loop finished in 20.2073369026 seconds.\n",
      "Before VI: 0.418126257718\n",
      "Smallest VI: 0.383555812838\n",
      "Sureness threshold: 0.967625975609\n",
      "484 generated in 10.2716178894 seconds.\n",
      "Grouped into 121 patches in 0.00331592559814 seconds.\n",
      "Merge loop finished in 24.3670501709 seconds.\n",
      "Before VI: 0.417671556086\n",
      "Smallest VI: 0.414756071763\n",
      "Sureness threshold: 0.980943024158\n",
      "508 generated in 10.7360489368 seconds.\n",
      "Grouped into 127 patches in 0.00332093238831 seconds.\n",
      "Merge loop finished in 27.1472370625 seconds.\n",
      "Before VI: 0.490719699543\n",
      "Smallest VI: 0.417877472591\n",
      "Sureness threshold: 0.852400839329\n",
      "488 generated in 10.1012909412 seconds.\n",
      "Grouped into 122 patches in 0.00308084487915 seconds.\n",
      "Merge loop finished in 27.5766680241 seconds.\n",
      "Before VI: 0.462002769239\n",
      "Smallest VI: 0.468405481491\n",
      "Sureness threshold: 0.991881668568\n",
      "480 generated in 9.95604014397 seconds.\n",
      "Grouped into 118 patches in 0.00310397148132 seconds.\n",
      "Merge loop finished in 22.5380558968 seconds.\n",
      "Before VI: 0.585184084074\n",
      "Smallest VI: 0.55621222415\n",
      "Sureness threshold: 0.98532140255\n",
      "460 generated in 9.53866791725 seconds.\n",
      "Grouped into 113 patches in 0.00300407409668 seconds.\n",
      "Merge loop finished in 24.9819200039 seconds.\n",
      "Before VI: 0.634014826312\n",
      "Smallest VI: 0.618536806918\n",
      "Sureness threshold: 0.985147953033\n",
      "488 generated in 10.2920980453 seconds.\n",
      "Grouped into 120 patches in 0.00325202941895 seconds.\n",
      "Merge loop finished in 26.7929160595 seconds.\n",
      "Before VI: 0.65525434104\n",
      "Smallest VI: 0.654824582961\n",
      "Sureness threshold: 0.990319848061\n",
      "540 generated in 11.3786320686 seconds.\n",
      "Grouped into 135 patches in 0.00355505943298 seconds.\n",
      "Merge loop finished in 35.5026009083 seconds.\n",
      "Before VI: 0.596835205477\n",
      "Smallest VI: 0.599759051566\n",
      "Sureness threshold: 0.990857601166\n",
      "464 generated in 10.1594741344 seconds.\n",
      "Grouped into 116 patches in 0.0030210018158 seconds.\n",
      "Merge loop finished in 20.4552798271 seconds.\n",
      "Before VI: 0.456495226471\n",
      "Smallest VI: 0.431905708322\n",
      "Sureness threshold: 0.968341290951\n",
      "448 generated in 9.50456595421 seconds.\n",
      "Grouped into 112 patches in 0.00297403335571 seconds.\n",
      "Merge loop finished in 26.6383678913 seconds.\n",
      "Before VI: 0.429392255747\n",
      "Smallest VI: 0.39285045356\n",
      "Sureness threshold: 0.913296878338\n",
      "456 generated in 9.86211013794 seconds.\n",
      "Grouped into 113 patches in 0.00296401977539 seconds.\n",
      "Merge loop finished in 23.439893961 seconds.\n",
      "Before VI: 0.418126257718\n",
      "Smallest VI: 0.405170577155\n",
      "Sureness threshold: 0.961898028851\n",
      "484 generated in 10.5948200226 seconds.\n",
      "Grouped into 121 patches in 0.00327801704407 seconds.\n",
      "Merge loop finished in 24.5541620255 seconds.\n",
      "Before VI: 0.417671556086\n",
      "Smallest VI: 0.410773226391\n",
      "Sureness threshold: 0.992599964142\n",
      "508 generated in 10.6584289074 seconds.\n",
      "Grouped into 127 patches in 0.00322198867798 seconds.\n",
      "Merge loop finished in 25.7837119102 seconds.\n",
      "Before VI: 0.490719699543\n",
      "Smallest VI: 0.424982643799\n",
      "Sureness threshold: 0.940909802914\n",
      "488 generated in 10.1301441193 seconds.\n",
      "Grouped into 122 patches in 0.00336599349976 seconds.\n",
      "Merge loop finished in 25.1791808605 seconds.\n",
      "Before VI: 0.462002769239\n",
      "Smallest VI: 0.397891921228\n",
      "Sureness threshold: 0.978158354759\n",
      "480 generated in 9.92855000496 seconds.\n",
      "Grouped into 118 patches in 0.00310206413269 seconds.\n",
      "Merge loop finished in 23.9483001232 seconds.\n",
      "Before VI: 0.585184084074\n",
      "Smallest VI: 0.53881600975\n",
      "Sureness threshold: 0.948326945305\n",
      "460 generated in 9.43974614143 seconds.\n",
      "Grouped into 113 patches in 0.00293493270874 seconds.\n",
      "Merge loop finished in 27.0722689629 seconds.\n",
      "Before VI: 0.634014826312\n",
      "Smallest VI: 0.616011139394\n",
      "Sureness threshold: 0.98035210371\n",
      "488 generated in 10.2744569778 seconds.\n",
      "Grouped into 120 patches in 0.00318598747253 seconds.\n",
      "Merge loop finished in 30.0187439919 seconds.\n",
      "Before VI: 0.65525434104\n",
      "Smallest VI: 0.621031501733\n",
      "Sureness threshold: 0.965229392052\n",
      "540 generated in 11.3844518661 seconds.\n",
      "Grouped into 135 patches in 0.00350403785706 seconds.\n",
      "Merge loop finished in 34.4987242222 seconds.\n",
      "Before VI: 0.596835205477\n",
      "Smallest VI: 0.568322122869\n",
      "Sureness threshold: 0.97333240509\n",
      "464 generated in 10.1180448532 seconds.\n",
      "Grouped into 116 patches in 0.00296092033386 seconds.\n",
      "Merge loop finished in 19.7143080235 seconds.\n",
      "Before VI: 0.456495226471\n",
      "Smallest VI: 0.401579978215\n",
      "Sureness threshold: 0.935973644257\n",
      "448 generated in 9.56561613083 seconds.\n",
      "Grouped into 112 patches in 0.00291013717651 seconds.\n",
      "Merge loop finished in 24.2960541248 seconds.\n",
      "Before VI: 0.429392255747\n",
      "Smallest VI: 0.391818262275\n",
      "Sureness threshold: 0.67627286911\n",
      "456 generated in 9.83530497551 seconds.\n",
      "Grouped into 113 patches in 0.00299310684204 seconds.\n",
      "Merge loop finished in 20.2524349689 seconds.\n",
      "Before VI: 0.418126257718\n",
      "Smallest VI: 0.383555812838\n",
      "Sureness threshold: 0.960301816463\n",
      "484 generated in 10.172960043 seconds.\n",
      "Grouped into 121 patches in 0.00383806228638 seconds.\n",
      "Merge loop finished in 25.851888895 seconds.\n",
      "Before VI: 0.417671556086\n",
      "Smallest VI: 0.48817438785\n",
      "Sureness threshold: 0.987348973751\n",
      "508 generated in 10.6435089111 seconds.\n",
      "Grouped into 127 patches in 0.00327086448669 seconds.\n",
      "Merge loop finished in 28.8967170715 seconds.\n",
      "Before VI: 0.490719699543\n",
      "Smallest VI: 0.424035837096\n",
      "Sureness threshold: 0.845545351505\n",
      "488 generated in 10.2019479275 seconds.\n",
      "Grouped into 122 patches in 0.00312995910645 seconds.\n",
      "Merge loop finished in 24.1614558697 seconds.\n",
      "Before VI: 0.462002769239\n",
      "Smallest VI: 0.474480437701\n",
      "Sureness threshold: 0.990283966064\n",
      "480 generated in 9.9454460144 seconds.\n",
      "Grouped into 118 patches in 0.00306105613708 seconds.\n",
      "Merge loop finished in 22.5366761684 seconds.\n",
      "Before VI: 0.585184084074\n",
      "Smallest VI: 0.560768804036\n",
      "Sureness threshold: 0.996326863766\n",
      "460 generated in 9.52106714249 seconds.\n",
      "Grouped into 113 patches in 0.00291991233826 seconds.\n",
      "Merge loop finished in 24.1282260418 seconds.\n",
      "Before VI: 0.634014826312\n",
      "Smallest VI: 0.634530679417\n",
      "Sureness threshold: 0.991272211075\n",
      "488 generated in 10.2281639576 seconds.\n",
      "Grouped into 120 patches in 0.00313591957092 seconds.\n",
      "Merge loop finished in 27.227091074 seconds.\n",
      "Before VI: 0.65525434104\n",
      "Smallest VI: 0.635593750185\n",
      "Sureness threshold: 0.986997008324\n",
      "540 generated in 11.3334350586 seconds.\n",
      "Grouped into 135 patches in 0.00352120399475 seconds.\n",
      "Merge loop finished in 30.2100298405 seconds.\n",
      "Before VI: 0.596835205477\n",
      "Smallest VI: 0.592925171\n",
      "Sureness threshold: 0.992717385292\n",
      "464 generated in 10.1110501289 seconds.\n",
      "Grouped into 116 patches in 0.0030620098114 seconds.\n",
      "Merge loop finished in 22.3835492134 seconds.\n",
      "Before VI: 0.456495226471\n",
      "Smallest VI: 0.435238666058\n",
      "Sureness threshold: 0.982308268547\n",
      "448 generated in 9.61439800262 seconds.\n",
      "Grouped into 112 patches in 0.00349497795105 seconds.\n",
      "Merge loop finished in 20.1923508644 seconds.\n",
      "Before VI: 0.429392255747\n",
      "Smallest VI: 0.393411936543\n",
      "Sureness threshold: 0.834681630135\n",
      "456 generated in 9.83498811722 seconds.\n",
      "Grouped into 113 patches in 0.00299596786499 seconds.\n",
      "Merge loop finished in 24.9449369907 seconds.\n",
      "Before VI: 0.418126257718\n",
      "Smallest VI: 0.401673022815\n",
      "Sureness threshold: 0.96444028616\n",
      "484 generated in 10.2965118885 seconds.\n",
      "Grouped into 121 patches in 0.00325703620911 seconds.\n",
      "Merge loop finished in 22.2205030918 seconds.\n",
      "Before VI: 0.417671556086\n",
      "Smallest VI: 0.410103795791\n",
      "Sureness threshold: 0.928599536419\n",
      "508 generated in 10.8580589294 seconds.\n",
      "Grouped into 127 patches in 0.00471901893616 seconds.\n",
      "Merge loop finished in 24.8935530186 seconds.\n",
      "Before VI: 0.490719699543\n",
      "Smallest VI: 0.468183604304\n",
      "Sureness threshold: 0.959592759609\n",
      "488 generated in 10.0838780403 seconds.\n",
      "Grouped into 122 patches in 0.00312399864197 seconds.\n",
      "Merge loop finished in 24.2089381218 seconds.\n",
      "Before VI: 0.462002769239\n",
      "Smallest VI: 0.396955111147\n",
      "Sureness threshold: 0.963086545467\n",
      "480 generated in 9.98757386208 seconds.\n",
      "Grouped into 118 patches in 0.00309205055237 seconds.\n",
      "Merge loop finished in 22.5845320225 seconds.\n",
      "Before VI: 0.585184084074\n",
      "Smallest VI: 0.555433099432\n",
      "Sureness threshold: 0.990037560463\n",
      "460 generated in 9.51409697533 seconds.\n",
      "Grouped into 113 patches in 0.00296401977539 seconds.\n",
      "Merge loop finished in 22.7648069859 seconds.\n",
      "Before VI: 0.634014826312\n",
      "Smallest VI: 0.607975587044\n",
      "Sureness threshold: 0.977355480194\n",
      "488 generated in 10.1954650879 seconds.\n",
      "Grouped into 120 patches in 0.00312805175781 seconds.\n",
      "Merge loop finished in 25.0013608932 seconds.\n",
      "Before VI: 0.65525434104\n",
      "Smallest VI: 0.634560383463\n",
      "Sureness threshold: 0.989400923252\n",
      "540 generated in 11.3501629829 seconds.\n",
      "Grouped into 135 patches in 0.00349617004395 seconds.\n",
      "Merge loop finished in 27.7888028622 seconds.\n",
      "Before VI: 0.596835205477\n",
      "Smallest VI: 0.572642634332\n",
      "Sureness threshold: 0.982978761196\n"
     ]
    }
   ],
   "source": [
    "cnn_vi_s = []\n",
    "cnn_slice_vi_s = []\n",
    "cnn_surenesses = []\n",
    "cnn_times = []\n",
    "for n in networks:\n",
    "    t0 = time.time()\n",
    "    cnn_vi, slice_vis, slice_sureness = cnn_threed_vi(n, input_image, input_prob, input_rhoana, input_gold)\n",
    "    cnn_vi_s.append(cnn_vi)\n",
    "    cnn_slice_vi_s.append(slice_vis)\n",
    "    cnn_surenesses.append(slice_sureness)\n",
    "    cnn_times.append(time.time()-t0)\n",
    "    "
   ]
  },
  {
   "cell_type": "code",
   "execution_count": 271,
   "metadata": {
    "collapsed": false
   },
   "outputs": [
    {
     "data": {
      "text/plain": [
       "369.01299064159394"
      ]
     },
     "execution_count": 271,
     "metadata": {},
     "output_type": "execute_result"
    }
   ],
   "source": [
    "np.mean(cnn_times)"
   ]
  },
  {
   "cell_type": "code",
   "execution_count": 267,
   "metadata": {
    "collapsed": false
   },
   "outputs": [
    {
     "data": {
      "text/plain": [
       "0.49021509916746309"
      ]
     },
     "execution_count": 267,
     "metadata": {},
     "output_type": "execute_result"
    }
   ],
   "source": [
    "np.mean(cnn_slice_vi_s[2])"
   ]
  },
  {
   "cell_type": "code",
   "execution_count": 269,
   "metadata": {
    "collapsed": false
   },
   "outputs": [
    {
     "name": "stdout",
     "output_type": "stream",
     "text": [
      "  N:  10\n",
      "  Min:  0.67627286911\n",
      "  Max:  0.998591244221\n",
      "  Mean:  0.950593363643\n",
      "  Median:  0.971555799246\n",
      "  Std:  0.0614820470092\n",
      "  Var:  0.00378004210444\n"
     ]
    }
   ],
   "source": [
    "Util.stats(cnn_surenesses)"
   ]
  },
  {
   "cell_type": "code",
   "execution_count": 270,
   "metadata": {
    "collapsed": false
   },
   "outputs": [
    {
     "data": {
      "image/png": "[encoded data removed]",
      "text/plain": [
       "<matplotlib.figure.Figure at 0x111a9b990>"
      ]
     },
     "metadata": {},
     "output_type": "display_data"
    }
   ],
   "source": [
    "\n",
    "objects = []\n",
    "performance = []\n",
    "user_slice_vis = []\n",
    "for i,d in enumerate(DOJO_USERS):\n",
    "    objects.append('User '+ str(i))\n",
    "    user_vi, slice_vis = user_threed_vi(input_gold, d)\n",
    "    performance.append(user_vi)\n",
    "    user_slice_vis.append(slice_vis)\n",
    "\n",
    "before_vi, before_slice_vis = threed_vi(input_gold, input_rhoana)    \n",
    "\n",
    "y_pos = np.arange(len(objects))    \n",
    "    \n",
    "fig, ax = plt.subplots()\n",
    "ax.plot(range(0,10), [before_vi]*len(objects), 'k--', label='rhoana VI')\n",
    "plt.bar(y_pos, performance, align='center', alpha=0.5)\n",
    "plt.xticks(y_pos, objects)\n",
    "ax.tick_params(axis='x', labelsize=7)\n",
    "ax.set_ylim(0,1.)\n",
    "\n",
    "plt.ylabel('Variation of Information')\n",
    "\n",
    "# Now add the legend with some customizations.\n",
    "legend = ax.legend(loc='upper right', shadow=True)\n",
    "\n",
    "# The frame is matplotlib.patches.Rectangle instance surrounding the legend.\n",
    "frame = legend.get_frame()\n",
    "frame.set_facecolor('0.90')\n",
    "\n",
    "# Set the fontsize\n",
    "for label in legend.get_texts():\n",
    "    label.set_fontsize('large')\n",
    "\n",
    "for label in legend.get_lines():\n",
    "    label.set_linewidth(1.5)  # the legend line width\n"
   ]
  },
  {
   "cell_type": "code",
   "execution_count": 204,
   "metadata": {
    "collapsed": false
   },
   "outputs": [
    {
     "data": {
      "text/plain": [
       "0.44734259296152945"
      ]
     },
     "execution_count": 204,
     "metadata": {},
     "output_type": "execute_result"
    }
   ],
   "source": [
    "performance[7]"
   ]
  },
  {
   "cell_type": "code",
   "execution_count": 202,
   "metadata": {
    "collapsed": false
   },
   "outputs": [
    {
     "data": {
      "image/png": "[encoded data removed]",
      "text/plain": [
       "<matplotlib.figure.Figure at 0x11230b190>"
      ]
     },
     "metadata": {},
     "output_type": "display_data"
    }
   ],
   "source": [
    "objects = []\n",
    "performance = []\n",
    "# user_slice_vis = []\n",
    "for i,n in enumerate(networks):\n",
    "    objects.append(n._NETWORK_ID)\n",
    "#     user_vi, slice_vis = user_threed_vi(input_gold, d)\n",
    "    performance.append(cnn_vi_s[i])\n",
    "#     user_slice_vis.append(slice_vis)\n",
    "\n",
    "before_vi, before_slice_vis = threed_vi(input_gold, input_rhoana)    \n",
    "\n",
    "y_pos = np.arange(len(objects))    \n",
    "\n",
    "fig, ax = plt.subplots(figsize=(20,10))\n",
    "ax.plot(range(0,10), [before_vi]*len(objects), 'k--', label='rhoana VI')\n",
    "plt.bar(y_pos, performance, align='center', alpha=0.5, color='red')\n",
    "plt.xticks(y_pos, objects)\n",
    "ax.tick_params(axis='x', labelsize=7)\n",
    "ax.set_ylim(0,1.)\n",
    "plt.ylabel('Variation of Information')\n",
    "\n",
    "# Now add the legend with some customizations.\n",
    "legend = ax.legend(loc='upper right', shadow=True)\n",
    "\n",
    "# The frame is matplotlib.patches.Rectangle instance surrounding the legend.\n",
    "frame = legend.get_frame()\n",
    "frame.set_facecolor('0.90')\n",
    "\n",
    "# Set the fontsize\n",
    "for label in legend.get_texts():\n",
    "    label.set_fontsize('large')\n",
    "\n",
    "for label in legend.get_lines():\n",
    "    label.set_linewidth(1.5)  # the legend line width"
   ]
  },
  {
   "cell_type": "code",
   "execution_count": null,
   "metadata": {
    "collapsed": false
   },
   "outputs": [],
   "source": [
    "simulated_user_er_vi_s =[]\n",
    "for er in range(0,20,2):\n",
    "    \n",
    "    er = er/100.\n",
    "    \n",
    "    simulated_user_vi_s2 = []\n",
    "    for i in range(0,10):\n",
    "        best_vi, good_fixes, bad_fixes, merge_pairs, vi_s  = fix_dojo_slice_user_simulated(networks[7],i, input_image, input_prob, input_rhoana,input_gold, error_rate=er)\n",
    "        simulated_user_vi_s2.append(vi_s[-1])\n",
    "\n",
    "    simulated_user_er_vi_s.append(np.mean(simulated_user_vi_s2))"
   ]
  },
  {
   "cell_type": "code",
   "execution_count": 364,
   "metadata": {
    "collapsed": false
   },
   "outputs": [
    {
     "data": {
      "text/plain": [
       "[0.39430421016028483,\n",
       " 1.1642547709997983,\n",
       " 1.9709653273715642,\n",
       " 2.7398125410710663,\n",
       " 2.7035831007013966,\n",
       " 3.0736174511057017,\n",
       " 3.0984418028858625,\n",
       " 3.1963695269804333,\n",
       " 3.1723792784716798,\n",
       " 3.1737815311698032]"
      ]
     },
     "execution_count": 364,
     "metadata": {},
     "output_type": "execute_result"
    }
   ],
   "source": [
    "simulated_user_er_vi_s"
   ]
  },
  {
   "cell_type": "code",
   "execution_count": null,
   "metadata": {
    "collapsed": false
   },
   "outputs": [],
   "source": []
  },
  {
   "cell_type": "code",
   "execution_count": 360,
   "metadata": {
    "collapsed": false
   },
   "outputs": [
    {
     "name": "stdout",
     "output_type": "stream",
     "text": [
      "464 generated in 10.1940250397 seconds.\n",
      "Grouped into 116 patches in 0.00290608406067 seconds.\n",
      "Start M 232\n",
      "user err\n",
      "user err\n",
      "user err\n",
      "user err\n",
      "user err\n",
      "user err\n",
      "user err\n",
      "user err\n",
      "user err\n",
      "user err\n",
      "Merge loop finished in 0.948987007141 seconds.\n",
      "Before VI: 0.456495226471\n",
      "Smallest VI: 0.456933935471\n",
      "Sureness threshold: 0.951163232327\n"
     ]
    }
   ],
   "source": [
    "best_vi, good_fixes, bad_fixes, merge_pairs, vi_s  = fix_dojo_slice_user_simulated(networks[7],0, input_image, input_prob, input_rhoana,input_gold, error_rate=.8, t=.95)"
   ]
  },
  {
   "cell_type": "code",
   "execution_count": 362,
   "metadata": {
    "collapsed": false
   },
   "outputs": [
    {
     "data": {
      "text/plain": [
       "0.45958162558164073"
      ]
     },
     "execution_count": 362,
     "metadata": {},
     "output_type": "execute_result"
    }
   ],
   "source": [
    "vi_s[-1]"
   ]
  },
  {
   "cell_type": "code",
   "execution_count": null,
   "metadata": {
    "collapsed": false
   },
   "outputs": [],
   "source": []
  },
  {
   "cell_type": "code",
   "execution_count": 195,
   "metadata": {
    "collapsed": false
   },
   "outputs": [
    {
     "name": "stdout",
     "output_type": "stream",
     "text": [
      "464 generated in 10.2098720074 seconds.\n",
      "Grouped into 116 patches in 0.00295400619507 seconds.\n",
      "Start M 232\n",
      "Merge loop finished in 4.7006149292 seconds.\n",
      "Before VI: 0.507538577929\n",
      "Smallest VI: 0.441898092166\n",
      "Sureness threshold: 0.488598167896\n",
      "448 generated in 9.58975195885 seconds.\n",
      "Grouped into 112 patches in 0.00292778015137 seconds.\n",
      "Start M 224\n",
      "Merge loop finished in 4.75685596466 seconds.\n",
      "Before VI: 0.490232307552\n",
      "Smallest VI: 0.444150160444\n",
      "Sureness threshold: 0.333336651325\n"
     ]
    },
    {
     "ename": "KeyboardInterrupt",
     "evalue": "",
     "output_type": "error",
     "traceback": [
      "\u001b[0;31m---------------------------------------------------------------------------\u001b[0m\n\u001b[0;31mKeyboardInterrupt\u001b[0m                         Traceback (most recent call last)",
      "\u001b[0;32m<ipython-input-195-1afdb56fda07>\u001b[0m in \u001b[0;36m<module>\u001b[0;34m()\u001b[0m\n\u001b[1;32m      4\u001b[0m \u001b[0mbad_fixes\u001b[0m \u001b[0;34m=\u001b[0m \u001b[0;34m[\u001b[0m\u001b[0;34m]\u001b[0m\u001b[0;34m\u001b[0m\u001b[0m\n\u001b[1;32m      5\u001b[0m \u001b[0;32mfor\u001b[0m \u001b[0mi\u001b[0m \u001b[0;32min\u001b[0m \u001b[0mrange\u001b[0m\u001b[0;34m(\u001b[0m\u001b[0;36m0\u001b[0m\u001b[0;34m,\u001b[0m\u001b[0;36m10\u001b[0m\u001b[0;34m)\u001b[0m\u001b[0;34m:\u001b[0m\u001b[0;34m\u001b[0m\u001b[0m\n\u001b[0;32m----> 6\u001b[0;31m     \u001b[0msimulated_user_vi\u001b[0m\u001b[0;34m,\u001b[0m \u001b[0mgf\u001b[0m\u001b[0;34m,\u001b[0m \u001b[0mbf\u001b[0m\u001b[0;34m,\u001b[0m\u001b[0mmps\u001b[0m\u001b[0;34m,\u001b[0m\u001b[0mvi_s\u001b[0m  \u001b[0;34m=\u001b[0m \u001b[0mfix_dojo_slice_user_simulated\u001b[0m\u001b[0;34m(\u001b[0m\u001b[0mnetworks\u001b[0m\u001b[0;34m[\u001b[0m\u001b[0;36m7\u001b[0m\u001b[0;34m]\u001b[0m\u001b[0;34m,\u001b[0m\u001b[0mi\u001b[0m\u001b[0;34m,\u001b[0m \u001b[0minput_image\u001b[0m\u001b[0;34m,\u001b[0m \u001b[0minput_prob\u001b[0m\u001b[0;34m,\u001b[0m \u001b[0minput_rhoana\u001b[0m\u001b[0;34m,\u001b[0m\u001b[0minput_gold\u001b[0m\u001b[0;34m,\u001b[0m \u001b[0merror_rate\u001b[0m\u001b[0;34m=\u001b[0m\u001b[0;36m0.\u001b[0m\u001b[0;34m)\u001b[0m\u001b[0;34m\u001b[0m\u001b[0m\n\u001b[0m\u001b[1;32m      7\u001b[0m     \u001b[0msimulated_user_vi_s\u001b[0m\u001b[0;34m.\u001b[0m\u001b[0mappend\u001b[0m\u001b[0;34m(\u001b[0m\u001b[0msimulated_user_vi\u001b[0m\u001b[0;34m)\u001b[0m\u001b[0;34m\u001b[0m\u001b[0m\n\u001b[1;32m      8\u001b[0m     \u001b[0mgood_fixes\u001b[0m\u001b[0;34m.\u001b[0m\u001b[0mappend\u001b[0m\u001b[0;34m(\u001b[0m\u001b[0mgf\u001b[0m\u001b[0;34m)\u001b[0m\u001b[0;34m\u001b[0m\u001b[0m\n",
      "\u001b[0;32m<ipython-input-177-51e192b0167c>\u001b[0m in \u001b[0;36mfix_dojo_slice_user_simulated\u001b[0;34m(cnn, slice, input_image, input_prob, input_rhoana, input_gold, error_rate)\u001b[0m\n\u001b[1;32m     37\u001b[0m                                                  \u001b[0minput_gold\u001b[0m\u001b[0;34m[\u001b[0m\u001b[0mDOJO_SLICE\u001b[0m\u001b[0;34m]\u001b[0m\u001b[0;34m,\u001b[0m\u001b[0;34m\u001b[0m\u001b[0m\n\u001b[1;32m     38\u001b[0m                                                  \u001b[0merror_rate\u001b[0m\u001b[0;34m=\u001b[0m\u001b[0merror_rate\u001b[0m\u001b[0;34m,\u001b[0m\u001b[0;34m\u001b[0m\u001b[0m\n\u001b[0;32m---> 39\u001b[0;31m                                                  oversampling=False)\n\u001b[0m\u001b[1;32m     40\u001b[0m \u001b[0;34m\u001b[0m\u001b[0m\n\u001b[1;32m     41\u001b[0m     \u001b[0mbest_index\u001b[0m \u001b[0;34m=\u001b[0m \u001b[0mvi_s\u001b[0m\u001b[0;34m.\u001b[0m\u001b[0mindex\u001b[0m\u001b[0;34m(\u001b[0m\u001b[0mnp\u001b[0m\u001b[0;34m.\u001b[0m\u001b[0mmin\u001b[0m\u001b[0;34m(\u001b[0m\u001b[0mvi_s\u001b[0m\u001b[0;34m)\u001b[0m\u001b[0;34m)\u001b[0m\u001b[0;34m\u001b[0m\u001b[0m\n",
      "\u001b[0;32m/Users/d/Projects/em-quality-metric/Reignite/fixer.py\u001b[0m in \u001b[0;36msplits_user_simulated\u001b[0;34m(cnn, image, prob, segmentation, groundtruth, error_rate, sureness_threshold, smallest_first, oversampling, verbose, max)\u001b[0m\n\u001b[1;32m     15\u001b[0m     '''\n\u001b[1;32m     16\u001b[0m     \u001b[0mt0\u001b[0m \u001b[0;34m=\u001b[0m \u001b[0mtime\u001b[0m\u001b[0;34m.\u001b[0m\u001b[0mtime\u001b[0m\u001b[0;34m(\u001b[0m\u001b[0;34m)\u001b[0m\u001b[0;34m\u001b[0m\u001b[0m\n\u001b[0;32m---> 17\u001b[0;31m     \u001b[0mpatches\u001b[0m \u001b[0;34m=\u001b[0m \u001b[0mPatch\u001b[0m\u001b[0;34m.\u001b[0m\u001b[0mpatchify\u001b[0m\u001b[0;34m(\u001b[0m\u001b[0mimage\u001b[0m\u001b[0;34m,\u001b[0m \u001b[0mprob\u001b[0m\u001b[0;34m,\u001b[0m \u001b[0msegmentation\u001b[0m\u001b[0;34m,\u001b[0m \u001b[0moversampling\u001b[0m\u001b[0;34m=\u001b[0m\u001b[0moversampling\u001b[0m\u001b[0;34m,\u001b[0m \u001b[0mmax\u001b[0m\u001b[0;34m=\u001b[0m\u001b[0mmax\u001b[0m\u001b[0;34m)\u001b[0m\u001b[0;34m\u001b[0m\u001b[0m\n\u001b[0m\u001b[1;32m     18\u001b[0m     \u001b[0;32mif\u001b[0m \u001b[0mverbose\u001b[0m\u001b[0;34m:\u001b[0m\u001b[0;34m\u001b[0m\u001b[0m\n\u001b[1;32m     19\u001b[0m       \u001b[0;32mprint\u001b[0m \u001b[0mlen\u001b[0m\u001b[0;34m(\u001b[0m\u001b[0mpatches\u001b[0m\u001b[0;34m)\u001b[0m\u001b[0;34m,\u001b[0m \u001b[0;34m'generated in'\u001b[0m\u001b[0;34m,\u001b[0m \u001b[0mtime\u001b[0m\u001b[0;34m.\u001b[0m\u001b[0mtime\u001b[0m\u001b[0;34m(\u001b[0m\u001b[0;34m)\u001b[0m\u001b[0;34m-\u001b[0m\u001b[0mt0\u001b[0m\u001b[0;34m,\u001b[0m \u001b[0;34m'seconds.'\u001b[0m\u001b[0;34m\u001b[0m\u001b[0m\n",
      "\u001b[0;32m/Users/d/Projects/em-quality-metric/Reignite/patch.pyc\u001b[0m in \u001b[0;36mpatchify\u001b[0;34m(image, prob, segmentation, sample_rate, min_pixels, max, oversampling, ignore_zero_neighbor)\u001b[0m\n\u001b[1;32m     80\u001b[0m \u001b[0;34m\u001b[0m\u001b[0m\n\u001b[1;32m     81\u001b[0m         \u001b[0;31m# print 'grabbing', l, n\u001b[0m\u001b[0;34m\u001b[0m\u001b[0;34m\u001b[0m\u001b[0m\n\u001b[0;32m---> 82\u001b[0;31m         \u001b[0mp_l\u001b[0m\u001b[0;34m,\u001b[0m \u001b[0mp_n\u001b[0m \u001b[0;34m=\u001b[0m \u001b[0mPatch\u001b[0m\u001b[0;34m.\u001b[0m\u001b[0mgrab\u001b[0m\u001b[0;34m(\u001b[0m\u001b[0mimage\u001b[0m\u001b[0;34m,\u001b[0m \u001b[0mprob\u001b[0m\u001b[0;34m,\u001b[0m \u001b[0msegmentation\u001b[0m\u001b[0;34m,\u001b[0m \u001b[0ml\u001b[0m\u001b[0;34m,\u001b[0m \u001b[0mn\u001b[0m\u001b[0;34m,\u001b[0m \u001b[0msample_rate\u001b[0m\u001b[0;34m,\u001b[0m \u001b[0moversampling\u001b[0m\u001b[0;34m=\u001b[0m\u001b[0moversampling\u001b[0m\u001b[0;34m)\u001b[0m\u001b[0;34m\u001b[0m\u001b[0m\n\u001b[0m\u001b[1;32m     83\u001b[0m \u001b[0;34m\u001b[0m\u001b[0m\n\u001b[1;32m     84\u001b[0m         \u001b[0mpatches\u001b[0m \u001b[0;34m+=\u001b[0m \u001b[0mp_l\u001b[0m\u001b[0;34m\u001b[0m\u001b[0m\n",
      "\u001b[0;32m/Users/d/Projects/em-quality-metric/Reignite/patch.pyc\u001b[0m in \u001b[0;36mgrab\u001b[0;34m(image, prob, segmentation, l, n, sample_rate, mode, oversampling, patch_size)\u001b[0m\n\u001b[1;32m     45\u001b[0m \u001b[0;34m\u001b[0m\u001b[0m\n\u001b[1;32m     46\u001b[0m     \u001b[0;31m# analyze both borders\u001b[0m\u001b[0;34m\u001b[0m\u001b[0;34m\u001b[0m\u001b[0m\n\u001b[0;32m---> 47\u001b[0;31m     \u001b[0mpatches_l\u001b[0m \u001b[0;34m=\u001b[0m \u001b[0mPatch\u001b[0m\u001b[0;34m.\u001b[0m\u001b[0manalyze_border\u001b[0m\u001b[0;34m(\u001b[0m\u001b[0mimage\u001b[0m\u001b[0;34m,\u001b[0m \u001b[0mprob\u001b[0m\u001b[0;34m,\u001b[0m \u001b[0mbinary_l\u001b[0m\u001b[0;34m,\u001b[0m \u001b[0mbinary_n\u001b[0m\u001b[0;34m,\u001b[0m \u001b[0mborder\u001b[0m\u001b[0;34m,\u001b[0m \u001b[0ml\u001b[0m\u001b[0;34m,\u001b[0m \u001b[0mn\u001b[0m\u001b[0;34m,\u001b[0m \u001b[0msample_rate\u001b[0m\u001b[0;34m=\u001b[0m\u001b[0msample_rate\u001b[0m\u001b[0;34m,\u001b[0m \u001b[0mpatch_size\u001b[0m\u001b[0;34m=\u001b[0m\u001b[0mpatch_size\u001b[0m\u001b[0;34m,\u001b[0m \u001b[0moversampling\u001b[0m\u001b[0;34m=\u001b[0m\u001b[0moversampling\u001b[0m\u001b[0;34m,\u001b[0m \u001b[0mmode\u001b[0m\u001b[0;34m=\u001b[0m\u001b[0mmode\u001b[0m\u001b[0;34m)\u001b[0m\u001b[0;34m\u001b[0m\u001b[0m\n\u001b[0m\u001b[1;32m     48\u001b[0m     \u001b[0mpatches_n\u001b[0m \u001b[0;34m=\u001b[0m \u001b[0mPatch\u001b[0m\u001b[0;34m.\u001b[0m\u001b[0manalyze_border\u001b[0m\u001b[0;34m(\u001b[0m\u001b[0mimage\u001b[0m\u001b[0;34m,\u001b[0m \u001b[0mprob\u001b[0m\u001b[0;34m,\u001b[0m \u001b[0mbinary_n\u001b[0m\u001b[0;34m,\u001b[0m \u001b[0mbinary_l\u001b[0m\u001b[0;34m,\u001b[0m \u001b[0mborder\u001b[0m\u001b[0;34m,\u001b[0m \u001b[0mn\u001b[0m\u001b[0;34m,\u001b[0m \u001b[0ml\u001b[0m\u001b[0;34m,\u001b[0m \u001b[0msample_rate\u001b[0m\u001b[0;34m=\u001b[0m\u001b[0msample_rate\u001b[0m\u001b[0;34m,\u001b[0m \u001b[0mpatch_size\u001b[0m\u001b[0;34m=\u001b[0m\u001b[0mpatch_size\u001b[0m\u001b[0;34m,\u001b[0m \u001b[0moversampling\u001b[0m\u001b[0;34m=\u001b[0m\u001b[0moversampling\u001b[0m\u001b[0;34m,\u001b[0m \u001b[0mmode\u001b[0m\u001b[0;34m=\u001b[0m\u001b[0mmode\u001b[0m\u001b[0;34m)\u001b[0m\u001b[0;34m\u001b[0m\u001b[0m\n\u001b[1;32m     49\u001b[0m \u001b[0;34m\u001b[0m\u001b[0m\n",
      "\u001b[0;32m/Users/d/Projects/em-quality-metric/Reignite/patch.pyc\u001b[0m in \u001b[0;36manalyze_border\u001b[0;34m(image, prob, binary_mask, binary_mask2, border, l, n, mode, patch_size, sample_rate, oversampling)\u001b[0m\n\u001b[1;32m    415\u001b[0m           \u001b[0mdilated_array2\u001b[0m \u001b[0;34m=\u001b[0m \u001b[0mnp\u001b[0m\u001b[0;34m.\u001b[0m\u001b[0marray\u001b[0m\u001b[0;34m(\u001b[0m\u001b[0mbinary_mask2\u001b[0m\u001b[0;34m[\u001b[0m\u001b[0mbbox\u001b[0m\u001b[0;34m[\u001b[0m\u001b[0;36m0\u001b[0m\u001b[0;34m]\u001b[0m\u001b[0;34m:\u001b[0m\u001b[0mbbox\u001b[0m\u001b[0;34m[\u001b[0m\u001b[0;36m1\u001b[0m\u001b[0;34m]\u001b[0m \u001b[0;34m+\u001b[0m \u001b[0;36m1\u001b[0m\u001b[0;34m,\u001b[0m \u001b[0mbbox\u001b[0m\u001b[0;34m[\u001b[0m\u001b[0;36m2\u001b[0m\u001b[0;34m]\u001b[0m\u001b[0;34m:\u001b[0m\u001b[0mbbox\u001b[0m\u001b[0;34m[\u001b[0m\u001b[0;36m3\u001b[0m\u001b[0;34m]\u001b[0m \u001b[0;34m+\u001b[0m \u001b[0;36m1\u001b[0m\u001b[0;34m]\u001b[0m\u001b[0;34m)\u001b[0m\u001b[0;34m\u001b[0m\u001b[0m\n\u001b[1;32m    416\u001b[0m           \u001b[0;32mfor\u001b[0m \u001b[0mo\u001b[0m \u001b[0;32min\u001b[0m \u001b[0mrange\u001b[0m\u001b[0;34m(\u001b[0m\u001b[0mpatch_size\u001b[0m\u001b[0;34m[\u001b[0m\u001b[0;36m0\u001b[0m\u001b[0;34m]\u001b[0m\u001b[0;34m/\u001b[0m\u001b[0;36m2\u001b[0m\u001b[0;34m)\u001b[0m\u001b[0;34m:\u001b[0m\u001b[0;34m\u001b[0m\u001b[0m\n\u001b[0;32m--> 417\u001b[0;31m               \u001b[0mdilated_array1\u001b[0m \u001b[0;34m=\u001b[0m \u001b[0mmh\u001b[0m\u001b[0;34m.\u001b[0m\u001b[0mdilate\u001b[0m\u001b[0;34m(\u001b[0m\u001b[0mdilated_array1\u001b[0m\u001b[0;34m.\u001b[0m\u001b[0mastype\u001b[0m\u001b[0;34m(\u001b[0m\u001b[0mnp\u001b[0m\u001b[0;34m.\u001b[0m\u001b[0muint64\u001b[0m\u001b[0;34m)\u001b[0m\u001b[0;34m)\u001b[0m\u001b[0;34m\u001b[0m\u001b[0m\n\u001b[0m\u001b[1;32m    418\u001b[0m               \u001b[0mdilated_array2\u001b[0m \u001b[0;34m=\u001b[0m \u001b[0mmh\u001b[0m\u001b[0;34m.\u001b[0m\u001b[0mdilate\u001b[0m\u001b[0;34m(\u001b[0m\u001b[0mdilated_array2\u001b[0m\u001b[0;34m.\u001b[0m\u001b[0mastype\u001b[0m\u001b[0;34m(\u001b[0m\u001b[0mnp\u001b[0m\u001b[0;34m.\u001b[0m\u001b[0muint64\u001b[0m\u001b[0;34m)\u001b[0m\u001b[0;34m)\u001b[0m\u001b[0;34m\u001b[0m\u001b[0m\n\u001b[1;32m    419\u001b[0m           \u001b[0moverlap\u001b[0m \u001b[0;34m=\u001b[0m \u001b[0mnp\u001b[0m\u001b[0;34m.\u001b[0m\u001b[0mlogical_and\u001b[0m\u001b[0;34m(\u001b[0m\u001b[0mdilated_array1\u001b[0m\u001b[0;34m,\u001b[0m \u001b[0mdilated_array2\u001b[0m\u001b[0;34m)\u001b[0m\u001b[0;34m\u001b[0m\u001b[0m\n",
      "\u001b[0;32m/Library/Python/2.7/site-packages/mahotas-1.3.0_git-py2.7-macosx-10.9-intel.egg/mahotas/morph.pyc\u001b[0m in \u001b[0;36mdilate\u001b[0;34m(A, Bc, out, output)\u001b[0m\n\u001b[1;32m    160\u001b[0m     \u001b[0mBc\u001b[0m \u001b[0;34m=\u001b[0m \u001b[0mget_structuring_elem\u001b[0m\u001b[0;34m(\u001b[0m\u001b[0mA\u001b[0m\u001b[0;34m,\u001b[0m\u001b[0mBc\u001b[0m\u001b[0;34m)\u001b[0m\u001b[0;34m\u001b[0m\u001b[0m\n\u001b[1;32m    161\u001b[0m     \u001b[0moutput\u001b[0m \u001b[0;34m=\u001b[0m \u001b[0m_get_output\u001b[0m\u001b[0;34m(\u001b[0m\u001b[0mA\u001b[0m\u001b[0;34m,\u001b[0m \u001b[0mout\u001b[0m\u001b[0;34m,\u001b[0m \u001b[0;34m'dilate'\u001b[0m\u001b[0;34m,\u001b[0m \u001b[0moutput\u001b[0m\u001b[0;34m=\u001b[0m\u001b[0moutput\u001b[0m\u001b[0;34m)\u001b[0m\u001b[0;34m\u001b[0m\u001b[0m\n\u001b[0;32m--> 162\u001b[0;31m     \u001b[0;32mreturn\u001b[0m \u001b[0m_morph\u001b[0m\u001b[0;34m.\u001b[0m\u001b[0mdilate\u001b[0m\u001b[0;34m(\u001b[0m\u001b[0mA\u001b[0m\u001b[0;34m,\u001b[0m \u001b[0mBc\u001b[0m\u001b[0;34m,\u001b[0m \u001b[0moutput\u001b[0m\u001b[0;34m)\u001b[0m\u001b[0;34m\u001b[0m\u001b[0m\n\u001b[0m\u001b[1;32m    163\u001b[0m \u001b[0;34m\u001b[0m\u001b[0m\n\u001b[1;32m    164\u001b[0m \u001b[0;32mdef\u001b[0m \u001b[0merode\u001b[0m\u001b[0;34m(\u001b[0m\u001b[0mA\u001b[0m\u001b[0;34m,\u001b[0m \u001b[0mBc\u001b[0m\u001b[0;34m=\u001b[0m\u001b[0mNone\u001b[0m\u001b[0;34m,\u001b[0m \u001b[0mout\u001b[0m\u001b[0;34m=\u001b[0m\u001b[0mNone\u001b[0m\u001b[0;34m,\u001b[0m \u001b[0moutput\u001b[0m\u001b[0;34m=\u001b[0m\u001b[0mNone\u001b[0m\u001b[0;34m)\u001b[0m\u001b[0;34m:\u001b[0m\u001b[0;34m\u001b[0m\u001b[0m\n",
      "\u001b[0;31mKeyboardInterrupt\u001b[0m: "
     ]
    }
   ],
   "source": [
    "t0 = time.time()\n",
    "simulated_user_vi_s = []\n",
    "good_fixes = []\n",
    "bad_fixes = []\n",
    "for i in range(0,10):\n",
    "    simulated_user_vi, gf, bf,mps,vi_s  = fix_dojo_slice_user_simulated(networks[7],i, input_image, input_prob, input_rhoana,input_gold, error_rate=0.)\n",
    "    simulated_user_vi_s.append(simulated_user_vi)\n",
    "    good_fixes.append(gf)\n",
    "    bad_fixes.append(bf)\n",
    "\n",
    "print np.mean(simulated_user_vi_s)\n",
    "print 'ran in',time.time()-t0,'seconds'"
   ]
  },
  {
   "cell_type": "code",
   "execution_count": 365,
   "metadata": {
    "collapsed": false
   },
   "outputs": [
    {
     "name": "stdout",
     "output_type": "stream",
     "text": [
      "avg. good fixes 18.0\n",
      "avg. bad fixes 63.0\n"
     ]
    }
   ],
   "source": [
    "print 'avg. good fixes', np.mean(good_fixes)\n",
    "print 'avg. bad fixes', np.mean(bad_fixes)"
   ]
  },
  {
   "cell_type": "code",
   "execution_count": 117,
   "metadata": {
    "collapsed": false
   },
   "outputs": [
    {
     "name": "stdout",
     "output_type": "stream",
     "text": [
      "  N:  10\n",
      "  Min:  10\n",
      "  Max:  23\n",
      "  Mean:  16.7\n",
      "  Median:  16.5\n",
      "  Std:  3.52278299076\n",
      "  Var:  12.41\n"
     ]
    }
   ],
   "source": [
    "Util.stats(good_fixes)"
   ]
  },
  {
   "cell_type": "code",
   "execution_count": 118,
   "metadata": {
    "collapsed": false
   },
   "outputs": [
    {
     "name": "stdout",
     "output_type": "stream",
     "text": [
      "  N:  10\n",
      "  Min:  14\n",
      "  Max:  18\n",
      "  Mean:  16.0\n",
      "  Median:  16.0\n",
      "  Std:  1.18321595662\n",
      "  Var:  1.4\n"
     ]
    }
   ],
   "source": [
    "Util.stats(bad_fixes)"
   ]
  },
  {
   "cell_type": "code",
   "execution_count": 205,
   "metadata": {
    "collapsed": false
   },
   "outputs": [
    {
     "name": "stdout",
     "output_type": "stream",
     "text": [
      "464 generated in 10.2087979317 seconds.\n",
      "Grouped into 116 patches in 0.00308203697205 seconds.\n",
      "Start M 232\n",
      "Merge loop finished in 4.63332414627 seconds.\n",
      "Before VI: 0.456495226471\n",
      "Smallest VI: 0.390161631168\n",
      "Sureness threshold: 0.488598167896\n"
     ]
    }
   ],
   "source": [
    "simulated_user_vi, gf, bf,mps, vi_s  = fix_dojo_slice_user_simulated(networks[7],0, input_image, input_prob, input_rhoana,input_gold, error_rate=0.)\n",
    "simulated_user_vi_s.append(simulated_user_vi)\n"
   ]
  },
  {
   "cell_type": "code",
   "execution_count": 206,
   "metadata": {
    "collapsed": false
   },
   "outputs": [
    {
     "data": {
      "text/plain": [
       "91.0"
      ]
     },
     "execution_count": 206,
     "metadata": {},
     "output_type": "execute_result"
    }
   ],
   "source": [
    "np.mean(bf)"
   ]
  },
  {
   "cell_type": "code",
   "execution_count": 207,
   "metadata": {
    "collapsed": false
   },
   "outputs": [
    {
     "data": {
      "text/plain": [
       "12.0"
      ]
     },
     "execution_count": 207,
     "metadata": {},
     "output_type": "execute_result"
    }
   ],
   "source": [
    "np.mean(gf)"
   ]
  },
  {
   "cell_type": "code",
   "execution_count": 211,
   "metadata": {
    "collapsed": false
   },
   "outputs": [
    {
     "name": "stdout",
     "output_type": "stream",
     "text": [
      "464 generated in 10.2176311016 seconds.\n",
      "Grouped into 116 patches in 0.00299787521362 seconds.\n",
      "Merge loop finished in 20.6096220016 seconds.\n",
      "Before VI: 0.456495226471\n",
      "Smallest VI: 0.431905708322\n",
      "Sureness threshold: 0.968341290951\n"
     ]
    }
   ],
   "source": [
    "automatic_vi = fix_dojo_slice(networks[7],0, input_image, input_prob, input_rhoana,input_gold)"
   ]
  },
  {
   "cell_type": "code",
   "execution_count": null,
   "metadata": {
    "collapsed": false
   },
   "outputs": [],
   "source": []
  },
  {
   "cell_type": "code",
   "execution_count": null,
   "metadata": {
    "collapsed": false
   },
   "outputs": [],
   "source": []
  },
  {
   "cell_type": "code",
   "execution_count": 13,
   "metadata": {
    "collapsed": false
   },
   "outputs": [
    {
     "name": "stdout",
     "output_type": "stream",
     "text": [
      "working on slice 0\n",
      "0.97477722168\n",
      "0.980441570282\n",
      "0.980441570282\n",
      "0.979606866837\n",
      "0.97931843996\n",
      "0.97931843996\n",
      "0.97931843996\n",
      "0.97931843996\n",
      "0.988114356995\n",
      "new vi after merge fix 0.0565973000008 0.235190048814\n",
      "0.969643354416\n",
      "0.969643354416\n",
      "0.969643354416\n",
      "0.969643354416\n",
      "0.979403555393\n",
      "working on slice 1\n",
      "0.88266313076\n",
      "0.97315210104\n",
      "0.97315210104\n",
      "0.97315210104\n",
      "0.97315210104\n",
      "new vi after merge fix 0.0447298369471 0.14734365046\n",
      "0.98409986496\n",
      "0.98409986496\n",
      "0.98409986496\n",
      "0.98409986496\n",
      "0.98409986496\n",
      "0.662750959396\n",
      "0.697023153305\n",
      "0.697038531303\n",
      "0.697038531303\n",
      "0.697038531303\n",
      "0.680756628513\n",
      "0.680756628513\n",
      "0.680756628513\n",
      "0.680756628513\n",
      "0.680756628513\n",
      "working on slice 2\n",
      "new vi after merge fix 0.0583962370959 0.103341110051\n",
      "new vi after merge fix 0.0572933726539 0.106839068234\n",
      "new vi after merge fix 0.0572552918174 0.107696890831\n",
      "new vi after merge fix 0.0570637763919 0.107696890831\n",
      "0.767908453941\n",
      "0.767908453941\n",
      "0.767908453941\n",
      "0.767908453941\n",
      "0.767908453941\n",
      "0.964510023594\n",
      "0.965065360069\n",
      "0.983438372612\n",
      "0.983438372612\n",
      "0.983438372612\n",
      "0.977895319462\n",
      "0.979098856449\n",
      "0.979098856449\n",
      "0.979098856449\n",
      "0.979098856449\n",
      "working on slice 3\n",
      "0.961415886879\n",
      "0.961853146553\n",
      "0.961853146553\n",
      "0.961853146553\n",
      "0.961853146553\n",
      "0.85905790329\n",
      "0.85905790329\n",
      "0.85905790329\n",
      "0.863236188889\n",
      "0.863236188889\n",
      "0.920542240143\n",
      "0.920542240143\n",
      "0.920542240143\n",
      "0.920542240143\n",
      "0.920542240143\n",
      "0.605611562729\n",
      "0.605611562729\n",
      "0.605611562729\n",
      "0.605611562729\n",
      "0.605611562729\n",
      "working on slice 4\n",
      "0.799193203449\n",
      "0.799193203449\n",
      "0.799193203449\n",
      "0.799193203449\n",
      "0.799193203449\n",
      "0.98008531332\n",
      "0.98008531332\n",
      "0.98008531332\n",
      "0.98008531332\n",
      "0.98008531332\n",
      "new vi after merge fix 0.0591181525033 0.0566307120025\n",
      "new vi after merge fix 0.0519289512884 0.0571395680308\n",
      "0.964735507965\n",
      "0.964735507965\n",
      "0.964735507965\n",
      "0.964735507965\n",
      "0.964735507965\n",
      "working on slice 5\n",
      "0.73142015934\n",
      "0.982543468475\n",
      "0.982543468475\n",
      "0.982543468475\n",
      "0.982543468475\n",
      "0.982543468475\n",
      "new vi after merge fix 0.0325169990811 0.250411212444\n",
      "0.815407335758\n",
      "0.815407335758\n",
      "0.815407335758\n",
      "0.815407335758\n",
      "0.993670701981\n",
      "0.993670701981\n",
      "0.993670701981\n",
      "0.993670701981\n",
      "0.993670701981\n",
      "working on slice 6\n",
      "0.969906508923\n",
      "0.969906508923\n",
      "0.969906508923\n",
      "0.969906508923\n",
      "0.969906508923\n",
      "0.986167490482\n",
      "0.986167490482\n",
      "0.986167490482\n",
      "0.986167490482\n",
      "0.986167490482\n",
      "0.821450233459\n",
      "0.821450233459\n",
      "0.821450233459\n",
      "0.821450233459\n",
      "0.821450233459\n",
      "0.873976409435\n",
      "0.873976409435\n",
      "0.873976409435\n",
      "0.873976409435\n",
      "0.873976409435\n",
      "working on slice 7\n",
      "0.611992001534\n",
      "0.780785799026\n",
      "0.780785799026\n",
      "0.780785799026\n",
      "0.780785799026\n",
      "0.954615056515\n",
      "0.954615056515\n",
      "0.954615056515\n",
      "0.954615056515\n",
      "0.954615056515\n",
      "0.856400430202\n",
      "0.856400430202\n",
      "0.82039886713\n",
      "working on slice 8\n",
      "0.920551538467\n",
      "0.920551538467\n",
      "0.920551538467\n",
      "0.920551538467\n",
      "0.920551538467\n",
      "0.656202733517\n",
      "0.914132297039\n",
      "0.914132297039\n",
      "0.914132297039\n",
      "0.914132297039\n",
      "0.82285964489\n",
      "new vi after merge fix 0.0386081183117 0.498091816902\n",
      "0.619271039963\n",
      "0.619271039963\n",
      "0.619271039963\n",
      "0.955278038979\n",
      "0.955278038979\n",
      "0.955278038979\n",
      "0.955278038979\n",
      "0.955278038979\n",
      "0.501743733883\n",
      "0.501743733883\n",
      "0.501743733883\n",
      "0.501743733883\n",
      "0.501743733883\n",
      "0.944483757019\n",
      "new vi after merge fix 0.0638363563808 0.266049414873\n",
      "working on slice 9\n",
      "0.578689455986\n",
      "0.578689455986\n",
      "0.615930259228\n",
      "0.615930259228\n",
      "0.615930259228\n",
      "0.972523093224\n",
      "0.924688518047\n",
      "0.924688518047\n",
      "0.924688518047\n",
      "0.924688518047\n",
      "0.924688518047\n",
      "0.907527327538\n",
      "0.963588476181\n",
      "0.963588476181\n",
      "0.963588476181\n",
      "0.981389582157\n",
      "0.981389582157\n",
      "new vi after merge fix 0.0979157787919 0.422070682049\n",
      "merge error correction done after 915.800732136 seconds\n"
     ]
    }
   ],
   "source": [
    "#\n",
    "# this creates the top bins for the best five merge splits but also simulates the user who picks the best\n",
    "#\n",
    "#\n",
    "\n",
    "\n",
    "t0 = time.time()\n",
    "fixed_volume = np.array(input_rhoana)\n",
    "\n",
    "top_bins = [0,0,0,0,0]\n",
    "top_bins_counter = [0,0,0,0,0]\n",
    "\n",
    "\n",
    "for i in range(0,10):\n",
    "    print 'working on slice', i\n",
    "    \n",
    "    DOJO_SLICE = i\n",
    "\n",
    "    pred_best_per_slice = []\n",
    "    results_best_per_slice = []\n",
    "    \n",
    "    hist = Util.get_histogram(input_rhoana[DOJO_SLICE].astype(np.uint64))\n",
    "    labels = range(len(hist))\n",
    "    # np.random.shuffle(labels)\n",
    "    THRESHOLD = .5\n",
    "\n",
    "    slice_vi_diffs = []\n",
    "    split_errors = {}\n",
    "\n",
    "    fixed_slice = np.array(input_rhoana[DOJO_SLICE], dtype=np.uint64)\n",
    "\n",
    "    for l in labels:\n",
    "\n",
    "        if l == 0 or hist[l]<3000:\n",
    "#             print l, hist[l]\n",
    "            continue\n",
    "\n",
    "#         print l\n",
    "\n",
    "        before_merge_error = np.zeros(input_rhoana[DOJO_SLICE].shape)\n",
    "        before_merge_error[fixed_slice == l] = 1\n",
    "    #     Util.view_labels(input_rhoana[0], l)\n",
    "    #     before_merge_error = mh.croptobbox(before_merge_error)\n",
    "\n",
    "\n",
    "        borders, best_border_image, result, result_no_border, results_no_border, predictions = Fixer.fix_single_merge(networks[2],\n",
    "                                                                                                                      input_image[DOJO_SLICE],\n",
    "                                                                                                                      input_prob[DOJO_SLICE],\n",
    "                                                                                                                      before_merge_error, N=30, \n",
    "                                                                                                                      erode=True, \n",
    "                                                                                                                      invert=True,\n",
    "                                                                                                                      dilate=True,\n",
    "                                                                                                                      border_seeds=True,\n",
    "                                                                                                                      oversampling=False)\n",
    "\n",
    "\n",
    "\n",
    "        if len(predictions) > 0:\n",
    "            \n",
    "            #\n",
    "            # SORT THE PREDICTIONS\n",
    "            # LOOK AT TOP 5\n",
    "            # CHOOSE THE ONE WITH THE BEST VI\n",
    "            sorted_pred = sorted(zip(results_no_border, predictions), key=lambda x: x[1])\n",
    "\n",
    "            vi_before_merge = Util.vi(fixed_slice.astype(np.int64), input_gold[DOJO_SLICE].astype(np.int64))\n",
    "            best_vi_after_merge = vi_before_merge\n",
    "            best_possible_result = np.array(fixed_slice)\n",
    "#             possible_results = []\n",
    "            \n",
    "            for pred in range(5):\n",
    "                \n",
    "                if pred >= len(sorted_pred):\n",
    "                    continue\n",
    "                    \n",
    "                if sorted_pred[pred][1] >= THRESHOLD:\n",
    "                    print sorted_pred[pred][1]\n",
    "                    continue\n",
    "\n",
    "\n",
    "                \n",
    "                slice_copy = np.array(fixed_slice, dtype=np.int64)\n",
    "                \n",
    "                current_result = sorted_pred[pred][0]\n",
    "                \n",
    "                current_result[current_result != 0] += fixed_slice.max()\n",
    "\n",
    "                slice_copy += current_result.astype(np.int64)\n",
    "\n",
    "                sizes = mh.labeled.labeled_size(slice_copy)\n",
    "                too_small = np.where(sizes < 200)\n",
    "                labeled_small = mh.labeled.remove_regions(slice_copy, too_small)\n",
    "                labeled_small_zeros = Util.threshold(labeled_small, 0)\n",
    "                labeled_small = Util.fill(labeled_small, labeled_small_zeros.astype(np.bool))\n",
    "                slice_copy = Util.frame_image(labeled_small).astype(np.uint64)          \n",
    "\n",
    "#                 if pred==0:\n",
    "#                     pred_best_per_slice.append(sorted_pred[0])\n",
    "#                     results_best_per_slice.append(slice_copy)                \n",
    "                \n",
    "                # NOW WE CHECK FOR THE VI\n",
    "                vi_after_merge = Util.vi(slice_copy.astype(np.int64), input_rhoana[DOJO_SLICE].astype(np.int64))\n",
    "                \n",
    "                if vi_after_merge < best_vi_after_merge:\n",
    "                    # this improves\n",
    "                    print 'new vi after merge fix', vi_after_merge, sorted_pred[pred][1]\n",
    "#                     possible_results.append(slice_copy)\n",
    "                    best_possible_result = np.array(slice_copy, dtype=np.int64)\n",
    "                    best_vi_after_merge = vi_after_merge\n",
    "            \n",
    "                    vi_diff = vi_before_merge - vi_after_merge\n",
    "                    if vi_diff > 0:\n",
    "                        top_bins[pred] += vi_diff\n",
    "                        for j in range(pred,5):\n",
    "                            top_bins[j] += vi_diff\n",
    "                            top_bins_counter[j] += 1            \n",
    "            \n",
    "                else:\n",
    "                    # reject it\n",
    "                    best_possible_result = np.array(fixed_slice, dtype=np.int64)\n",
    "            \n",
    "\n",
    "                        \n",
    "            \n",
    "            fixed_slice = best_possible_result\n",
    "            \n",
    "# #             print l, predictions\n",
    "#             lowest_prediction_index = predictions.index(min(predictions))\n",
    "#             lowest_prediction = predictions[lowest_prediction_index]\n",
    "\n",
    "#             if lowest_prediction < THRESHOLD:\n",
    "\n",
    "#                 print 'Found merge error', lowest_prediction, l\n",
    "\n",
    "#                 result[result != 0] += fixed_slice.max()\n",
    "\n",
    "#                 fixed_slice += result.astype(np.uint64)\n",
    "\n",
    "#     #             split_errors[str(l)] = result\n",
    "\n",
    "    \n",
    "    fixed_volume[i] = fixed_slice\n",
    "\n",
    "\n",
    "for i in range(5):\n",
    "    \n",
    "    top_bins[i] /= top_bins_counter[i]\n",
    "    \n",
    "print 'merge error correction done after',time.time()-t0, 'seconds'\n",
    "\n",
    "\n"
   ]
  },
  {
   "cell_type": "code",
   "execution_count": 17,
   "metadata": {
    "collapsed": false
   },
   "outputs": [
    {
     "data": {
      "text/plain": [
       "0.4564952264711417"
      ]
     },
     "execution_count": 17,
     "metadata": {},
     "output_type": "execute_result"
    }
   ],
   "source": [
    "Util.vi(input_gold[0], input_rhoana[0])"
   ]
  },
  {
   "cell_type": "code",
   "execution_count": 16,
   "metadata": {
    "collapsed": false
   },
   "outputs": [
    {
     "data": {
      "text/plain": [
       "0.4300420889106302"
      ]
     },
     "execution_count": 16,
     "metadata": {},
     "output_type": "execute_result"
    }
   ],
   "source": [
    "Util.vi(input_gold[0].astype(np.int64), fixed_volume[0].astype(np.int64))"
   ]
  },
  {
   "cell_type": "code",
   "execution_count": 318,
   "metadata": {
    "collapsed": false
   },
   "outputs": [
    {
     "data": {
      "text/plain": [
       "[0.977004167762165,\n",
       " 0.4885020838810825,\n",
       " 0.4885020838810825,\n",
       " 0.5897963788878401,\n",
       " 0.5042562253929554]"
      ]
     },
     "execution_count": 318,
     "metadata": {},
     "output_type": "execute_result"
    }
   ],
   "source": [
    "top_bins"
   ]
  },
  {
   "cell_type": "code",
   "execution_count": 18,
   "metadata": {
    "collapsed": false
   },
   "outputs": [
    {
     "name": "stdout",
     "output_type": "stream",
     "text": [
      "464 generated in 10.4705219269 seconds.\n",
      "Grouped into 116 patches in 0.00292086601257 seconds.\n",
      "Start M 232\n",
      "Merge loop finished in 4.440721035 seconds.\n",
      "Before VI: 0.430042088911\n",
      "Smallest VI: 0.363721327514\n",
      "Sureness threshold: 0.038141194731\n",
      "448 generated in 9.79514193535 seconds.\n",
      "Grouped into 112 patches in 0.00287485122681 seconds.\n",
      "Start M 224\n",
      "Merge loop finished in 4.86928701401 seconds.\n",
      "Before VI: 0.429392255747\n",
      "Smallest VI: 0.378655213857\n",
      "Sureness threshold: 0.272963374853\n",
      "488 generated in 10.3340890408 seconds.\n",
      "Grouped into 120 patches in 0.00333118438721 seconds.\n",
      "Start M 240\n",
      "Merge loop finished in 5.4602959156 seconds.\n",
      "Before VI: 0.453793096689\n",
      "Smallest VI: 0.370838037039\n",
      "Sureness threshold: 0.0634429380298\n",
      "484 generated in 10.3191709518 seconds.\n",
      "Grouped into 121 patches in 0.00320291519165 seconds.\n",
      "Start M 242\n",
      "Merge loop finished in 6.18146586418 seconds.\n",
      "Before VI: 0.417671556086\n",
      "Smallest VI: 0.343845013422\n",
      "Sureness threshold: 0.305156320333\n",
      "508 generated in 10.7559268475 seconds.\n",
      "Grouped into 127 patches in 0.00330090522766 seconds.\n",
      "Start M 254\n",
      "Merge loop finished in 7.17843317986 seconds.\n",
      "Before VI: 0.490719699543\n",
      "Smallest VI: 0.388722716942\n",
      "Sureness threshold: 0.0927795618773\n",
      "496 generated in 10.2011859417 seconds.\n",
      "Grouped into 124 patches in 0.00318789482117 seconds.\n",
      "Start M 248\n",
      "Merge loop finished in 5.16724586487 seconds.\n",
      "Before VI: 0.466999510245\n",
      "Smallest VI: 0.374599880105\n",
      "Sureness threshold: 0.266434311867\n",
      "480 generated in 10.0966761112 seconds.\n",
      "Grouped into 118 patches in 0.00339889526367 seconds.\n",
      "Start M 236\n",
      "Merge loop finished in 7.87482714653 seconds.\n",
      "Before VI: 0.585184084074\n",
      "Smallest VI: 0.4262203883\n",
      "Sureness threshold: 0.214045882225\n",
      "460 generated in 9.76901316643 seconds.\n",
      "Grouped into 113 patches in 0.00322294235229 seconds.\n",
      "Start M 226\n",
      "Merge loop finished in 7.33247900009 seconds.\n",
      "Before VI: 0.634014826312\n",
      "Smallest VI: 0.459573298259\n",
      "Sureness threshold: 0.224311381578\n",
      "496 generated in 10.4876368046 seconds.\n",
      "Grouped into 122 patches in 0.00317978858948 seconds.\n",
      "Start M 244\n",
      "Merge loop finished in 7.31245207787 seconds.\n",
      "Before VI: 0.670461723503\n",
      "Smallest VI: 0.434966865229\n",
      "Sureness threshold: 0.0616187937558\n",
      "540 generated in 11.6693451405 seconds.\n",
      "Grouped into 135 patches in 0.00357794761658 seconds.\n",
      "Start M 270\n",
      "Merge loop finished in 7.06869387627 seconds.\n",
      "Before VI: 0.596835205477\n",
      "Smallest VI: 0.390326227022\n",
      "Sureness threshold: 0.0449649654329\n",
      "0.393146896769\n",
      "ran in 195.597120047 seconds\n"
     ]
    }
   ],
   "source": [
    "#\n",
    "# test with user in the loop after merge correction\n",
    "#\n",
    "t0 = time.time()\n",
    "simulated_user_vi_s = []\n",
    "all_simulated_user_vi_s = []\n",
    "good_fixes = []\n",
    "bad_fixes = []\n",
    "for i in range(0,10):\n",
    "    simulated_user_vi, gf, bf,mps,vi_s  = fix_dojo_slice_user_simulated(networks[2],i, input_image, input_prob, fixed_volume,input_gold, error_rate=0.)\n",
    "    simulated_user_vi_s.append(simulated_user_vi)\n",
    "    all_simulated_user_vi_s += vi_s\n",
    "    good_fixes.append(gf)\n",
    "    bad_fixes.append(bf)\n",
    "\n",
    "print np.mean(simulated_user_vi_s)\n",
    "print 'ran in',time.time()-t0,'seconds'"
   ]
  },
  {
   "cell_type": "code",
   "execution_count": 31,
   "metadata": {
    "collapsed": false
   },
   "outputs": [
    {
     "data": {
      "text/plain": [
       "[0.3637213275138995,\n",
       " 0.37865521385721834,\n",
       " 0.3708380370394124,\n",
       " 0.34384501342222507,\n",
       " 0.3887227169421976,\n",
       " 0.374599880105297,\n",
       " 0.4262203882999849,\n",
       " 0.45957329825904836,\n",
       " 0.43496686522858763,\n",
       " 0.390326227022304]"
      ]
     },
     "execution_count": 31,
     "metadata": {},
     "output_type": "execute_result"
    }
   ],
   "source": [
    "simulated_user_vi_s"
   ]
  },
  {
   "cell_type": "code",
   "execution_count": 20,
   "metadata": {
    "collapsed": false
   },
   "outputs": [
    {
     "data": {
      "text/plain": [
       "[0.417820476552496,\n",
       " 0.4146896968242979,\n",
       " 0.4013668378750195,\n",
       " 0.39723554790260973,\n",
       " 0.3869361387002366,\n",
       " 0.3783149884453847,\n",
       " 0.37485249370628804,\n",
       " 0.3740317265204851,\n",
       " 0.3649824783395692,\n",
       " 0.3646137669921288,\n",
       " 0.3637213275138995,\n",
       " 0.4217174392978089,\n",
       " 0.4121594568115894,\n",
       " 0.41010031907462885,\n",
       " 0.39793857888483064,\n",
       " 0.39763963002122704,\n",
       " 0.3925515046962005,\n",
       " 0.3886323855594105,\n",
       " 0.38763972588711315,\n",
       " 0.38604605161966976,\n",
       " 0.3796133639632817,\n",
       " 0.3795852757527518,\n",
       " 0.37865521385721834,\n",
       " 0.4501723726960165,\n",
       " 0.42979600773214166,\n",
       " 0.42374097531920185,\n",
       " 0.40808066911098884,\n",
       " 0.4059058141776992,\n",
       " 0.3813606543286534,\n",
       " 0.3733914857022542,\n",
       " 0.3721390319101445,\n",
       " 0.37200621860143723,\n",
       " 0.37170330759698267,\n",
       " 0.37097914025312484,\n",
       " 0.3708380370394124,\n",
       " 0.4082669364230478,\n",
       " 0.4053514521002546,\n",
       " 0.4046747262260437,\n",
       " 0.39954443665185035,\n",
       " 0.399540250275324,\n",
       " 0.38298329829950895,\n",
       " 0.37072326503154507,\n",
       " 0.3699529546460063,\n",
       " 0.3547419338430613,\n",
       " 0.3540513099749054,\n",
       " 0.3537584251909207,\n",
       " 0.3456864810109037,\n",
       " 0.34384501342222507,\n",
       " 0.48121201135467473,\n",
       " 0.4625563940882449,\n",
       " 0.4448077191645332,\n",
       " 0.4337343707604937,\n",
       " 0.42558652462270175,\n",
       " 0.41497443392323774,\n",
       " 0.3989458726301276,\n",
       " 0.39889003085984864,\n",
       " 0.3980173596749337,\n",
       " 0.3934412502569513,\n",
       " 0.3926670436628834,\n",
       " 0.39069518527772473,\n",
       " 0.3896701164674097,\n",
       " 0.3887227169421976,\n",
       " 0.46182084478203134,\n",
       " 0.4572930833393958,\n",
       " 0.4511362637229839,\n",
       " 0.44320039849305193,\n",
       " 0.44318925476014837,\n",
       " 0.4423267197335017,\n",
       " 0.4233035074578124,\n",
       " 0.4191135929480092,\n",
       " 0.41657129929853287,\n",
       " 0.41619609548504766,\n",
       " 0.3946098711002941,\n",
       " 0.374599880105297,\n",
       " 0.580627504188457,\n",
       " 0.5796451934828495,\n",
       " 0.5794090427931229,\n",
       " 0.5713152723981958,\n",
       " 0.5533729484432053,\n",
       " 0.5299399791105106,\n",
       " 0.5240820744039185,\n",
       " 0.5177640590946702,\n",
       " 0.5163180036974184,\n",
       " 0.5158814507359022,\n",
       " 0.45346426086810965,\n",
       " 0.44229959628927507,\n",
       " 0.4394183507800591,\n",
       " 0.4384892324594336,\n",
       " 0.4262203882999849,\n",
       " 0.6173837609605801,\n",
       " 0.6070321667315124,\n",
       " 0.5830389613197342,\n",
       " 0.582767293610261,\n",
       " 0.564763606692571,\n",
       " 0.5631778828899892,\n",
       " 0.5622150951057652,\n",
       " 0.5612668433275605,\n",
       " 0.49630989758566635,\n",
       " 0.49586250419964273,\n",
       " 0.4673925636029477,\n",
       " 0.46152931686919807,\n",
       " 0.45957329825904836,\n",
       " 0.6682129151789216,\n",
       " 0.652071703864066,\n",
       " 0.6418684788518272,\n",
       " 0.6321546413266903,\n",
       " 0.6095071996395696,\n",
       " 0.6023811121866558,\n",
       " 0.5717532646103249,\n",
       " 0.5594591369254127,\n",
       " 0.5573913875906076,\n",
       " 0.5571540973630915,\n",
       " 0.5568809384848192,\n",
       " 0.4914983469491059,\n",
       " 0.48195435688132093,\n",
       " 0.48176775662575544,\n",
       " 0.4809696155323513,\n",
       " 0.4644136759332076,\n",
       " 0.43496686522858763,\n",
       " 0.5902134696174635,\n",
       " 0.5858929581550658,\n",
       " 0.5607300536090216,\n",
       " 0.5546612263408788,\n",
       " 0.4922499542447527,\n",
       " 0.48833991976769653,\n",
       " 0.4787111709510796,\n",
       " 0.4779135828838914,\n",
       " 0.4506588311532269,\n",
       " 0.45000067741533734,\n",
       " 0.4349896389580792,\n",
       " 0.4344464406174007,\n",
       " 0.43269816157257335,\n",
       " 0.42363271429588867,\n",
       " 0.39261993165470077,\n",
       " 0.390326227022304]"
      ]
     },
     "execution_count": 20,
     "metadata": {},
     "output_type": "execute_result"
    }
   ],
   "source": [
    "all_simulated_user_vi_s"
   ]
  },
  {
   "cell_type": "code",
   "execution_count": 22,
   "metadata": {
    "collapsed": false
   },
   "outputs": [
    {
     "name": "stdout",
     "output_type": "stream",
     "text": [
      "464 generated in 10.1638200283 seconds.\n",
      "Grouped into 116 patches in 0.00300598144531 seconds.\n",
      "Merge loop finished in 1.71372818947 seconds.\n",
      "Before VI: 0.430042088911\n",
      "Smallest VI: 0.378314988445\n",
      "Sureness threshold: 0.952890753746\n",
      "VI @ t 0.378314988445\n",
      "432 generated in 9.25861811638 seconds.\n",
      "Grouped into 108 patches in 0.00288009643555 seconds.\n",
      "Merge loop finished in 0.537919998169 seconds.\n",
      "Before VI: 0.426770725022\n",
      "Smallest VI: 0.409456373301\n",
      "Sureness threshold: 0.977823257446\n",
      "VI @ t 0.409456373301\n",
      "488 generated in 10.3415119648 seconds.\n",
      "Grouped into 120 patches in 0.00327897071838 seconds.\n",
      "Merge loop finished in 1.89525604248 seconds.\n",
      "Before VI: 0.453619230878\n",
      "Smallest VI: 0.425081801236\n",
      "Sureness threshold: 0.983194828033\n",
      "VI @ t 0.449435176502\n",
      "484 generated in 10.2153408527 seconds.\n",
      "Grouped into 121 patches in 0.00320911407471 seconds.\n",
      "Merge loop finished in 1.10382699966 seconds.\n",
      "Before VI: 0.417671556086\n",
      "Smallest VI: 0.408266936423\n",
      "Sureness threshold: 0.989515900612\n",
      "VI @ t 0.408589980663\n",
      "504 generated in 10.5868959427 seconds.\n",
      "Grouped into 126 patches in 0.00324296951294 seconds.\n",
      "Merge loop finished in 2.19659590721 seconds.\n",
      "Before VI: 0.505462878548\n",
      "Smallest VI: 0.448278113947\n",
      "Sureness threshold: 0.963624298573\n",
      "VI @ t 0.448569441616\n",
      "488 generated in 10.1511631012 seconds.\n",
      "Grouped into 122 patches in 0.00325298309326 seconds.\n",
      "Merge loop finished in 5.87854194641 seconds.\n",
      "Before VI: 0.462002769239\n",
      "Smallest VI: 0.456848039896\n",
      "Sureness threshold: 0.993210375309\n",
      "VI @ t 0.682141808096\n",
      "480 generated in 10.0095160007 seconds.\n",
      "Grouped into 118 patches in 0.00308513641357 seconds.\n",
      "Merge loop finished in 3.95254087448 seconds.\n",
      "Before VI: 0.585184084074\n",
      "Smallest VI: 0.585893262895\n",
      "Sureness threshold: 0.984789013863\n",
      "VI @ t 0.676179261096\n",
      "460 generated in 9.5370798111 seconds.\n",
      "Grouped into 113 patches in 0.00301790237427 seconds.\n",
      "Merge loop finished in 3.28506588936 seconds.\n",
      "Before VI: 0.634014826312\n",
      "Smallest VI: 0.617383760961\n",
      "Sureness threshold: 0.988722443581\n",
      "VI @ t 0.678014496419\n",
      "488 generated in 10.1772141457 seconds.\n",
      "Grouped into 122 patches in 0.00319695472717 seconds.\n",
      "Merge loop finished in 4.17882990837 seconds.\n",
      "Before VI: 0.639437860976\n",
      "Smallest VI: 0.643037927016\n",
      "Sureness threshold: 0.981951475143\n",
      "VI @ t 0.6899289717\n",
      "516 generated in 10.6001360416 seconds.\n",
      "Grouped into 129 patches in 0.00328207015991 seconds.\n",
      "Merge loop finished in 4.60678911209 seconds.\n",
      "Before VI: 0.611664894769\n",
      "Smallest VI: 0.613668663707\n",
      "Sureness threshold: 0.952245950699\n",
      "VI @ t 0.613668663707\n",
      "156.342232943\n"
     ]
    }
   ],
   "source": [
    "t0 = time.time()\n",
    "#\n",
    "# test with\n",
    "#\n",
    "all_slice_vi_s_auto = []\n",
    "slice_vi_s_auto = []\n",
    "for i in range(10):\n",
    "    best_vi, best_sureness, vi_s, surenesses = fix_dojo_slice(networks[2],i, input_image, input_prob, fixed_volume2,input_gold,t=.95)\n",
    "    slice_vi_s_auto.append(vi_s[-1])\n",
    "    all_slice_vi_s_auto += vi_s\n",
    "    print 'VI @ t', vi_s[-1]\n",
    "print time.time()-t0"
   ]
  },
  {
   "cell_type": "code",
   "execution_count": 25,
   "metadata": {
    "collapsed": false
   },
   "outputs": [
    {
     "data": {
      "text/plain": [
       "[0.3783149884453847,\n",
       " 0.4094563733013521,\n",
       " 0.4494351765024307,\n",
       " 0.4085899806629625,\n",
       " 0.4485694416162014,\n",
       " 0.6821418080964907,\n",
       " 0.6761792610958874,\n",
       " 0.6780144964186565,\n",
       " 0.6899289717002173,\n",
       " 0.6136686637069246]"
      ]
     },
     "execution_count": 25,
     "metadata": {},
     "output_type": "execute_result"
    }
   ],
   "source": [
    "slice_vi_s_auto"
   ]
  },
  {
   "cell_type": "code",
   "execution_count": 30,
   "metadata": {
    "collapsed": false
   },
   "outputs": [
    {
     "name": "stdout",
     "output_type": "stream",
     "text": [
      "464 generated in 10.8718328476 seconds.\n",
      "Grouped into 116 patches in 0.00434994697571 seconds.\n",
      "Merge loop finished in 1.78081798553 seconds.\n",
      "Before VI: 0.456495226471\n",
      "Smallest VI: 0.405025260926\n",
      "Sureness threshold: 0.952890753746\n",
      "VI @ t 0.405025260926\n",
      "448 generated in 10.0309159756 seconds.\n",
      "Grouped into 112 patches in 0.00307703018188 seconds.\n",
      "Merge loop finished in 0.546313047409 seconds.\n",
      "Before VI: 0.429392255747\n",
      "Smallest VI: 0.412159456812\n",
      "Sureness threshold: 0.977823257446\n",
      "VI @ t 0.412159456812\n",
      "456 generated in 10.4025521278 seconds.\n",
      "Grouped into 113 patches in 0.00426697731018 seconds.\n",
      "Merge loop finished in 2.16594195366 seconds.\n",
      "Before VI: 0.418126257718\n",
      "Smallest VI: 0.393195250195\n",
      "Sureness threshold: 0.983194828033\n",
      "VI @ t 0.417435833125\n",
      "484 generated in 16.1365380287 seconds.\n",
      "Grouped into 121 patches in 0.00606894493103 seconds.\n",
      "Merge loop finished in 1.76231884956 seconds.\n",
      "Before VI: 0.417671556086\n",
      "Smallest VI: 0.408266936423\n",
      "Sureness threshold: 0.989515900612\n",
      "VI @ t 0.408589980663\n",
      "508 generated in 17.8688528538 seconds.\n",
      "Grouped into 127 patches in 0.0045280456543 seconds.\n",
      "Merge loop finished in 2.73356199265 seconds.\n",
      "Before VI: 0.490719699543\n",
      "Smallest VI: 0.444807719165\n",
      "Sureness threshold: 0.963624298573\n",
      "VI @ t 0.445097731774\n",
      "488 generated in 20.180866003 seconds.\n",
      "Grouped into 122 patches in 0.0102851390839 seconds.\n",
      "Merge loop finished in 6.43296504021 seconds.\n",
      "Before VI: 0.462002769239\n",
      "Smallest VI: 0.456848039896\n",
      "Sureness threshold: 0.993210375309\n",
      "VI @ t 0.682141808096\n",
      "480 generated in 10.1570148468 seconds.\n",
      "Grouped into 118 patches in 0.0031590461731 seconds.\n",
      "Merge loop finished in 4.03122591972 seconds.\n",
      "Before VI: 0.585184084074\n",
      "Smallest VI: 0.585893262895\n",
      "Sureness threshold: 0.984789013863\n",
      "VI @ t 0.676179261096\n",
      "460 generated in 9.62800693512 seconds.\n",
      "Grouped into 113 patches in 0.00298500061035 seconds.\n",
      "Merge loop finished in 3.32282280922 seconds.\n",
      "Before VI: 0.634014826312\n",
      "Smallest VI: 0.617383760961\n",
      "Sureness threshold: 0.988722443581\n",
      "VI @ t 0.678014496419\n",
      "488 generated in 10.6187250614 seconds.\n",
      "Grouped into 120 patches in 0.00326704978943 seconds.\n",
      "Merge loop finished in 4.18793702126 seconds.\n",
      "Before VI: 0.65525434104\n",
      "Smallest VI: 0.658924941377\n",
      "Sureness threshold: 0.981951475143\n",
      "VI @ t 0.724438312321\n",
      "540 generated in 11.5251259804 seconds.\n",
      "Grouped into 135 patches in 0.0034921169281 seconds.\n",
      "Merge loop finished in 5.45676398277 seconds.\n",
      "Before VI: 0.596835205477\n",
      "Smallest VI: 0.600940171261\n",
      "Sureness threshold: 0.952245950699\n",
      "VI @ t 0.600940171261\n",
      "193.410205841\n"
     ]
    }
   ],
   "source": [
    "#\n",
    "# test with\n",
    "#\n",
    "t0 = time.time()\n",
    "slice_vi_s_auto_r = []\n",
    "all_slice_vi_s_auto_r = []\n",
    "for i in range(10):\n",
    "    best_vi, best_sureness, vi_s, surenesses = fix_dojo_slice(networks[2],i, input_image, input_prob, input_rhoana,input_gold,t=.95)\n",
    "    slice_vi_s_auto_r.append(vi_s[-1])\n",
    "    all_slice_vi_s_auto_r += vi_s\n",
    "    print 'VI @ t', vi_s[-1]\n",
    "print time.time()-t0"
   ]
  },
  {
   "cell_type": "code",
   "execution_count": 27,
   "metadata": {
    "collapsed": false
   },
   "outputs": [
    {
     "data": {
      "text/plain": [
       "[0.42796251983337186,\n",
       " 0.4217174392978089,\n",
       " 0.4174358331250909,\n",
       " 0.4082669364230478,\n",
       " 0.48121201135467473,\n",
       " 0.47232855073229363,\n",
       " 0.6060713480109081,\n",
       " 0.64878844095671,\n",
       " 0.6834066933519818,\n",
       " 0.6713322951756702]"
      ]
     },
     "execution_count": 27,
     "metadata": {},
     "output_type": "execute_result"
    }
   ],
   "source": [
    "slice_vi_s_auto_r"
   ]
  },
  {
   "cell_type": "code",
   "execution_count": null,
   "metadata": {
    "collapsed": false
   },
   "outputs": [],
   "source": []
  },
  {
   "cell_type": "code",
   "execution_count": null,
   "metadata": {
    "collapsed": false
   },
   "outputs": [],
   "source": []
  },
  {
   "cell_type": "code",
   "execution_count": 21,
   "metadata": {
    "collapsed": false
   },
   "outputs": [
    {
     "name": "stdout",
     "output_type": "stream",
     "text": [
      "working on slice 0\n",
      "correcting  40 w/ 0.235190048814\n",
      "working on slice 1\n",
      "correcting  32 w/ 0.14734365046\n",
      "working on slice 2\n",
      "correcting  11 w/ 0.107696890831\n",
      "working on slice 3\n",
      "working on slice 4\n",
      "correcting  31 w/ 0.0566307120025\n",
      "working on slice 5\n",
      "working on slice 6\n",
      "working on slice 7\n",
      "working on slice 8\n",
      "correcting  71 w/ 0.266049414873\n",
      "working on slice 9\n",
      "correcting  77 w/ 0.422070682049\n",
      "merge error correction done after 915.887941837 seconds\n"
     ]
    }
   ],
   "source": [
    "#\n",
    "# GREEDY\n",
    "#\n",
    "#\n",
    "\n",
    "\n",
    "t0 = time.time()\n",
    "fixed_volume2 = np.array(input_rhoana)\n",
    "\n",
    "top_bins = [0,0,0,0,0]\n",
    "top_bins_counter = [0,0,0,0,0]\n",
    "\n",
    "\n",
    "for i in range(0,10):\n",
    "    print 'working on slice', i\n",
    "    \n",
    "    DOJO_SLICE = i\n",
    "\n",
    "    pred_best_per_slice = []\n",
    "    results_best_per_slice = []\n",
    "    \n",
    "    hist = Util.get_histogram(input_rhoana[DOJO_SLICE].astype(np.uint64))\n",
    "    labels = range(len(hist))\n",
    "    # np.random.shuffle(labels)\n",
    "    THRESHOLD = .5\n",
    "\n",
    "    slice_vi_diffs = []\n",
    "    split_errors = {}\n",
    "\n",
    "    fixed_slice = np.array(input_rhoana[DOJO_SLICE], dtype=np.uint64)\n",
    "\n",
    "    for l in labels:\n",
    "\n",
    "        if l == 0 or hist[l]<3000:\n",
    "#             print l, hist[l]\n",
    "            continue\n",
    "\n",
    "#         print l\n",
    "\n",
    "        before_merge_error = np.zeros(input_rhoana[DOJO_SLICE].shape)\n",
    "        before_merge_error[fixed_slice == l] = 1\n",
    "    #     Util.view_labels(input_rhoana[0], l)\n",
    "    #     before_merge_error = mh.croptobbox(before_merge_error)\n",
    "\n",
    "\n",
    "        borders, best_border_image, result, result_no_border, results_no_border, predictions = Fixer.fix_single_merge(networks[2],\n",
    "                                                                                                                      input_image[DOJO_SLICE],\n",
    "                                                                                                                      input_prob[DOJO_SLICE],\n",
    "                                                                                                                      before_merge_error, N=30, \n",
    "                                                                                                                      erode=True, \n",
    "                                                                                                                      invert=True,\n",
    "                                                                                                                      dilate=True,\n",
    "                                                                                                                      border_seeds=True,\n",
    "                                                                                                                      oversampling=False)\n",
    "\n",
    "\n",
    "\n",
    "        if len(predictions) > 0:\n",
    "#             vi_before_merge = Util.vi(fixed_slice.astype(np.int64), input_gold[DOJO_SLICE].astype(np.int64))\n",
    "            #\n",
    "            # TAKE ONLY THE FIRST BEST RESULT\n",
    "            sorted_pred = sorted(zip(results_no_border, predictions), key=lambda x: x[1])\n",
    "            \n",
    "            if sorted_pred[0][1] > THRESHOLD:\n",
    "                continue\n",
    "                \n",
    "            print 'correcting ', l, 'w/', sorted_pred[0][1]\n",
    "                \n",
    "            \n",
    "            slice_copy = np.array(fixed_slice, dtype=np.int64)\n",
    "\n",
    "            current_result = sorted_pred[0][0]\n",
    "\n",
    "            current_result[current_result != 0] += fixed_slice.max()\n",
    "\n",
    "            slice_copy += current_result.astype(np.int64)            \n",
    "            \n",
    "            sizes = mh.labeled.labeled_size(slice_copy)\n",
    "            too_small = np.where(sizes < 200)\n",
    "            labeled_small = mh.labeled.remove_regions(slice_copy, too_small)\n",
    "            labeled_small_zeros = Util.threshold(labeled_small, 0)\n",
    "            labeled_small = Util.fill(labeled_small, labeled_small_zeros.astype(np.bool))\n",
    "            slice_copy = Util.frame_image(labeled_small).astype(np.uint64)          \n",
    "\n",
    "#             vi_after_merge = Util.vi(slice_copy.astype(np.int64), input_rhoana[DOJO_SLICE].astype(np.int64))\n",
    "            \n",
    "#             for i in range(5):\n",
    "#                 vi_diff = vi_before_merge - vi_after_merge\n",
    "#                 print vi_diff\n",
    "#                 if vi_diff > 0:\n",
    "#                     top_bins[pred] += vi_diff\n",
    "#                     for j in range(pred,5):\n",
    "#                         top_bins[j] += vi_diff\n",
    "#                         top_bins_counter[j] += 1     \n",
    "            \n",
    "            fixed_slice = slice_copy\n",
    "            \n",
    "# #             print l, predictions\n",
    "#             lowest_prediction_index = predictions.index(min(predictions))\n",
    "#             lowest_prediction = predictions[lowest_prediction_index]\n",
    "\n",
    "#             if lowest_prediction < THRESHOLD:\n",
    "\n",
    "#                 print 'Found merge error', lowest_prediction, l\n",
    "\n",
    "#                 result[result != 0] += fixed_slice.max()\n",
    "\n",
    "#                 fixed_slice += result.astype(np.uint64)\n",
    "\n",
    "#     #             split_errors[str(l)] = result\n",
    "\n",
    "    \n",
    "    fixed_volume2[i] = fixed_slice\n",
    "\n",
    "\n",
    "# for i in range(5):\n",
    "    \n",
    "#     top_bins[i] /= top_bins_counter[i]\n",
    "    \n",
    "print 'merge error correction done after',time.time()-t0, 'seconds'\n",
    "\n",
    "\n"
   ]
  },
  {
   "cell_type": "code",
   "execution_count": 323,
   "metadata": {
    "collapsed": false
   },
   "outputs": [
    {
     "data": {
      "text/plain": [
       "[[0.5446643065403123,\n",
       "  0.5202083942196767,\n",
       "  0.4487308416799145,\n",
       "  0.5256271499720278,\n",
       "  0.6017310095955679,\n",
       "  0.5635849827171002,\n",
       "  0.48208509251280507,\n",
       "  0.49196247461004017,\n",
       "  0.5482387161546605,\n",
       "  0.5964249941272648],\n",
       " [0.49000138123615766,\n",
       "  0.4042343782110773,\n",
       "  0.5004854457403498,\n",
       "  0.4266450421850685,\n",
       "  0.5568891385529584,\n",
       "  0.5148034680512126,\n",
       "  0.6462890723019648,\n",
       "  0.6613813533553348,\n",
       "  0.6671288321276032,\n",
       "  0.6538467069160925],\n",
       " [0.4998991662113408,\n",
       "  0.442935961872414,\n",
       "  0.4259722670367694,\n",
       "  0.46123023510716,\n",
       "  0.5022720899614148,\n",
       "  0.4712287225498315,\n",
       "  0.5580440641754336,\n",
       "  0.5692840892112363,\n",
       "  0.6690348890513427,\n",
       "  0.6785597959903917],\n",
       " [0.39836869720195267,\n",
       "  0.3709202507302969,\n",
       "  0.40338011648347916,\n",
       "  0.427082479108539,\n",
       "  0.5017147063663963,\n",
       "  0.48204760368070065,\n",
       "  0.5898171380080761,\n",
       "  0.6002397803838102,\n",
       "  0.6237553737595674,\n",
       "  0.6145256350294899],\n",
       " [0.6515874676516002,\n",
       "  0.6444184225192346,\n",
       "  0.6523659531181139,\n",
       "  0.661813262141079,\n",
       "  0.7314962749548775,\n",
       "  0.700769449332916,\n",
       "  0.6690356979510002,\n",
       "  0.6455652061409003,\n",
       "  0.66570611396474,\n",
       "  0.6483860669512778],\n",
       " [0.4150845128978018,\n",
       "  0.3775967852518676,\n",
       "  0.380569792194998,\n",
       "  0.39857330224844123,\n",
       "  0.43962791701006765,\n",
       "  0.4202168799509849,\n",
       "  0.5430940692909614,\n",
       "  0.5725074443556553,\n",
       "  0.6080727035937468,\n",
       "  0.6244463533831377],\n",
       " [0.4629834618808628,\n",
       "  0.49713371263439754,\n",
       "  0.5950840175617138,\n",
       "  0.6202520625874408,\n",
       "  0.6968653940645373,\n",
       "  0.6418814899971297,\n",
       "  0.6608597009871646,\n",
       "  0.6274152988586579,\n",
       "  0.6902378382293257,\n",
       "  0.6554936572316663],\n",
       " [0.376404316570806,\n",
       "  0.3516472472473051,\n",
       "  0.4079547444039404,\n",
       "  0.45303068544352687,\n",
       "  0.4894595570074438,\n",
       "  0.47837141980718023,\n",
       "  0.469179784610529,\n",
       "  0.4852945056599962,\n",
       "  0.49897197205284005,\n",
       "  0.46311169681172704],\n",
       " [0.4638077404396146,\n",
       "  0.40108851115299515,\n",
       "  0.40018172100147353,\n",
       "  0.40753953719669855,\n",
       "  0.47430148554665585,\n",
       "  0.46062902589316135,\n",
       "  0.5677362697520394,\n",
       "  0.5735440515683301,\n",
       "  0.5762577358334093,\n",
       "  0.5254852773620522],\n",
       " [0.42905974297362626,\n",
       "  0.4019601823423553,\n",
       "  0.4303777037356271,\n",
       "  0.408534230150118,\n",
       "  0.489177280077179,\n",
       "  0.4759967107330656,\n",
       "  0.4282568838002696,\n",
       "  0.44277029375919863,\n",
       "  0.4904768894198428,\n",
       "  0.5263572886406847]]"
      ]
     },
     "execution_count": 323,
     "metadata": {},
     "output_type": "execute_result"
    }
   ],
   "source": [
    "user_slice_vis"
   ]
  },
  {
   "cell_type": "code",
   "execution_count": 337,
   "metadata": {
    "collapsed": false
   },
   "outputs": [],
   "source": [
    "slice_vi_user_avg=[0]*10\n",
    "for u in user_slice_vis:\n",
    "\n",
    "\n",
    "    for s in range(0,10):\n",
    "\n",
    "        slice_vi_user_avg[s] += u[s]\n",
    "        \n",
    "for s in range(0,10):\n",
    "    slice_vi_user_avg[s] /= 10"
   ]
  },
  {
   "cell_type": "code",
   "execution_count": 325,
   "metadata": {
    "collapsed": false
   },
   "outputs": [
    {
     "data": {
      "text/plain": [
       "[0.376404316570806,\n",
       " 0.3516472472473051,\n",
       " 0.4079547444039404,\n",
       " 0.45303068544352687,\n",
       " 0.4894595570074438,\n",
       " 0.47837141980718023,\n",
       " 0.469179784610529,\n",
       " 0.4852945056599962,\n",
       " 0.49897197205284005,\n",
       " 0.46311169681172704]"
      ]
     },
     "execution_count": 325,
     "metadata": {},
     "output_type": "execute_result"
    }
   ],
   "source": [
    "user_slice_vis[7]"
   ]
  },
  {
   "cell_type": "code",
   "execution_count": 338,
   "metadata": {
    "collapsed": false
   },
   "outputs": [
    {
     "data": {
      "text/plain": [
       "[0.4731860793604075,\n",
       " 0.44121438461816204,\n",
       " 0.46451026029563797,\n",
       " 0.47903279861401,\n",
       " 0.5483534853137099,\n",
       " 0.5209529752713282,\n",
       " 0.5614397773390244,\n",
       " 0.5669964497903159,\n",
       " 0.6037881064187078,\n",
       " 0.5986637472443784]"
      ]
     },
     "execution_count": 338,
     "metadata": {},
     "output_type": "execute_result"
    }
   ],
   "source": [
    "slice_vi_user_avg"
   ]
  },
  {
   "cell_type": "code",
   "execution_count": null,
   "metadata": {
    "collapsed": false
   },
   "outputs": [],
   "source": []
  }
 ],
 "metadata": {
  "kernelspec": {
   "display_name": "Python 2",
   "language": "python",
   "name": "python2"
  },
  "language_info": {
   "codemirror_mode": {
    "name": "ipython",
    "version": 2
   },
   "file_extension": ".py",
   "mimetype": "text/x-python",
   "name": "python",
   "nbconvert_exporter": "python",
   "pygments_lexer": "ipython2",
   "version": "2.7.6"
  }
 },
 "nbformat": 4,
 "nbformat_minor": 0
}
