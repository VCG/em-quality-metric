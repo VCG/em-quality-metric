{
 "cells": [
  {
   "cell_type": "code",
   "execution_count": 1,
   "metadata": {
    "collapsed": false
   },
   "outputs": [
    {
     "name": "stderr",
     "output_type": "stream",
     "text": [
      "Using gpu device 0: GeForce GTX TITAN (CNMeM is disabled, CuDNN 4007)\n",
      "/home/d/nolearn/local/lib/python2.7/site-packages/theano/tensor/signal/downsample.py:6: UserWarning: downsample module has been moved to the theano.tensor.signal.pool module.\n",
      "  \"downsample module has been moved to the theano.tensor.signal.pool module.\")\n",
      "tifffile.py:1995: UserWarning: failed to import _tifffile.decodepackbits\n",
      "  warnings.warn(\"failed to import %s\" % module_function)\n",
      "tifffile.py:1995: UserWarning: failed to import _tifffile.decodelzw\n",
      "  warnings.warn(\"failed to import %s\" % module_function)\n",
      "tifffile.py:1995: UserWarning: failed to import _tifffile.unpackints\n",
      "  warnings.warn(\"failed to import %s\" % module_function)\n"
     ]
    }
   ],
   "source": [
    "%load_ext autoreload\n",
    "%autoreload 2\n",
    "\n",
    "from cnn import CNN\n",
    "from dyn_cnn import DynCNN\n",
    "from util import Util\n",
    "from patch import Patch\n",
    "from fixer import Fixer\n",
    "from uglify import Uglify\n",
    "\n",
    "import cPickle as pickle\n",
    "import os\n",
    "import mahotas as mh\n",
    "import numpy as np\n",
    "import time\n",
    "\n",
    "import mlproof as mlp\n",
    "\n",
    "\n",
    "from matplotlib.pyplot import imshow\n",
    "import matplotlib.pyplot as plt\n",
    "%matplotlib inline"
   ]
  },
  {
   "cell_type": "code",
   "execution_count": 2,
   "metadata": {
    "collapsed": true
   },
   "outputs": [],
   "source": [
    "DOJO_USER_DATA_FOLDER = '/home/d/Dropbox/DOJOSTUDY/'\n",
    "DOJO_USERS_IDS = [11,13,18,37,40,43,5,50,53,62]\n",
    "DOJO_USERS = []\n",
    "for d in DOJO_USERS_IDS:\n",
    "    DOJO_USERS.append('S'+str(d)+'tif')\n",
    "    \n",
    "def read_user(user, slice):\n",
    "    img = mh.imread(DOJO_USER_DATA_FOLDER+user+os.sep+'z='+str(slice).zfill(8)+'.tif')\n",
    "    img = Util.crop_by_bbox(img, dojo_bbox)\n",
    "    return Util.frame_image(img)\n",
    "\n",
    "def dojo_user_vi(user, slice, gt):\n",
    "    img = read_user(user, slice)\n",
    "    return Util.vi(img, gt)\n",
    "\n",
    "def fix_dojo_slice(cnn, slice, input_image, input_prob, input_rhoana, input_gold,t=0.):\n",
    "    DOJO_SLICE=slice\n",
    "    vi_s, merge_pairs, surenesses = Fixer.splits(cnn, \n",
    "                                                 input_image[DOJO_SLICE], \n",
    "                                                 input_prob[DOJO_SLICE], \n",
    "                                                 input_rhoana[DOJO_SLICE], \n",
    "                                                 input_gold[DOJO_SLICE],\n",
    "                                                 sureness_threshold=t,\n",
    "                                                 oversampling=False)\n",
    "\n",
    "    best_index = vi_s.index(np.min(vi_s))\n",
    "    best_vi = vi_s[best_index]\n",
    "    best_sureness = surenesses[best_index]\n",
    "    \n",
    "    return best_vi, best_sureness, vi_s, surenesses\n",
    "\n",
    "def fix_dojo_slice_user_simulated(cnn, slice, input_image, input_prob, input_rhoana, input_gold, error_rate=0,t=0):\n",
    "    DOJO_SLICE=slice\n",
    "    vi_s, merge_pairs, surenesses, good_fixes, bad_fixes = Fixer.splits_user_simulated(cnn, \n",
    "                                                 input_image[DOJO_SLICE], \n",
    "                                                 input_prob[DOJO_SLICE], \n",
    "                                                 input_rhoana[DOJO_SLICE], \n",
    "                                                 input_gold[DOJO_SLICE],\n",
    "                                                 error_rate=error_rate,\n",
    "                                                 sureness_threshold=t,                                                 \n",
    "                                                 oversampling=False)\n",
    "    \n",
    "    best_index = vi_s.index(np.min(vi_s))\n",
    "    best_vi = vi_s[best_index]\n",
    "    best_sureness = surenesses[best_index]\n",
    "    \n",
    "    return best_vi, good_fixes, bad_fixes, merge_pairs, vi_s\n",
    "\n",
    "def threed_vi(gt, seg):\n",
    "    total_vi = 0\n",
    "    slice_vi = []    \n",
    "    for i in range(10):\n",
    "        current_vi = Util.vi(gt[i].astype(np.int64), seg[i].astype(np.int64))\n",
    "        total_vi += current_vi\n",
    "        slice_vi.append(current_vi)\n",
    "    total_vi /= 10\n",
    "    return total_vi, slice_vi\n",
    "\n",
    "def user_threed_vi(gt, user):\n",
    "    total_vi = 0\n",
    "    slice_vi = []\n",
    "    for i in range(10):\n",
    "        current_vi = dojo_user_vi(user, i, gt[i])\n",
    "        total_vi += current_vi\n",
    "        slice_vi.append(current_vi)\n",
    "    total_vi /= 10\n",
    "    return total_vi, slice_vi\n",
    "    \n",
    "def cnn_threed_vi(cnn, input_image, input_prob, input_rhoana, input_gold):\n",
    "    total_vi = 0\n",
    "    slice_vi = []\n",
    "    slice_sureness = []\n",
    "    for i in range(10):\n",
    "        current_vi, sureness = fix_dojo_slice(cnn, i, input_image, input_prob, input_rhoana, input_gold)\n",
    "        total_vi += current_vi\n",
    "        slice_vi.append(current_vi)\n",
    "        slice_sureness.append(sureness)\n",
    "    total_vi /= 10\n",
    "    return total_vi, slice_vi, slice_sureness\n",
    "        "
   ]
  },
  {
   "cell_type": "code",
   "execution_count": 3,
   "metadata": {
    "collapsed": true
   },
   "outputs": [],
   "source": [
    "input_image, input_prob, input_gold, input_rhoana, dojo_bbox = Util.read_dojo_data() "
   ]
  },
  {
   "cell_type": "code",
   "execution_count": 4,
   "metadata": {
    "collapsed": false
   },
   "outputs": [],
   "source": [
    "with open('/home/d/nets/MergeNet_larger_border_overlap_cylinder1_dataaugmentation/net.p', 'rb') as f:\n",
    "    cnn = pickle.load(f)"
   ]
  },
  {
   "cell_type": "code",
   "execution_count": 4,
   "metadata": {
    "collapsed": true
   },
   "outputs": [],
   "source": [
    "# the new CNN\n",
    "with open('/home/d/nets/MergeNet_cylinder1_larger_border_overlap_usevars/net.p', 'rb') as f:\n",
    "    cnn = pickle.load(f)"
   ]
  },
  {
   "cell_type": "code",
   "execution_count": 5,
   "metadata": {
    "collapsed": true
   },
   "outputs": [],
   "source": [
    "with open('/home/d/dojo_xp/data/dojo_data_vis2014_patches_predicted.p', 'rb') as f:\n",
    "    patches = pickle.load(f)\n",
    "new_patches = []\n",
    "for p in patches:\n",
    "    p_new = {}\n",
    "    p_new['image'] = p['image'] / 255.\n",
    "    p_new['prob'] = p['prob'] / 255.\n",
    "    p_new['merged_array'] = p['merged_array'] \n",
    "    p_new['border_overlap'] = p['border_overlap'] \n",
    "    new_patches.append(p_new)"
   ]
  },
  {
   "cell_type": "code",
   "execution_count": null,
   "metadata": {
    "collapsed": true
   },
   "outputs": [],
   "source": []
  },
  {
   "cell_type": "code",
   "execution_count": null,
   "metadata": {
    "collapsed": true
   },
   "outputs": [],
   "source": []
  },
  {
   "cell_type": "code",
   "execution_count": null,
   "metadata": {
    "collapsed": true
   },
   "outputs": [],
   "source": []
  },
  {
   "cell_type": "code",
   "execution_count": null,
   "metadata": {
    "collapsed": true
   },
   "outputs": [],
   "source": []
  },
  {
   "cell_type": "code",
   "execution_count": null,
   "metadata": {
    "collapsed": true
   },
   "outputs": [],
   "source": []
  },
  {
   "cell_type": "code",
   "execution_count": 13,
   "metadata": {
    "collapsed": false
   },
   "outputs": [],
   "source": [
    "# fix one slice a time with sureness threshold .95\n",
    "vol_vi_s = []\n",
    "for z in range(10):\n",
    "    vi_s, merge_pairs, surenesses = Fixer.splits(cnn, input_image[z], input_prob[z], rhoana_after_merge_correction[z], input_gold[z], \n",
    "                                                 sureness_threshold=.95,\n",
    "                                                 verbose=False)\n",
    "    vol_vi_s.append(vi_s[-1])\n",
    "    "
   ]
  },
  {
   "cell_type": "code",
   "execution_count": 14,
   "metadata": {
    "collapsed": false
   },
   "outputs": [
    {
     "data": {
      "text/plain": [
       "0.56186645959149706"
      ]
     },
     "execution_count": 14,
     "metadata": {},
     "output_type": "execute_result"
    }
   ],
   "source": [
    "np.median(vol_vi_s)"
   ]
  },
  {
   "cell_type": "code",
   "execution_count": 15,
   "metadata": {
    "collapsed": false
   },
   "outputs": [
    {
     "data": {
      "text/plain": [
       "[0.3737786615798342,\n",
       " 0.394548115049429,\n",
       " 0.4611100240446344,\n",
       " 0.42946009966927434,\n",
       " 0.45653426673149156,\n",
       " 0.7313827147492598,\n",
       " 0.6626228951383597,\n",
       " 0.8701369111170498,\n",
       " 0.7400183520925676,\n",
       " 0.8747261709437684]"
      ]
     },
     "execution_count": 15,
     "metadata": {},
     "output_type": "execute_result"
    }
   ],
   "source": [
    "vol_vi_s"
   ]
  },
  {
   "cell_type": "code",
   "execution_count": null,
   "metadata": {
    "collapsed": true
   },
   "outputs": [],
   "source": []
  },
  {
   "cell_type": "code",
   "execution_count": 95,
   "metadata": {
    "collapsed": false
   },
   "outputs": [
    {
     "data": {
      "text/plain": [
       "0.49758863911900653"
      ]
     },
     "execution_count": 95,
     "metadata": {},
     "output_type": "execute_result"
    }
   ],
   "source": [
    "np.median(vol_vi_s)"
   ]
  },
  {
   "cell_type": "code",
   "execution_count": 97,
   "metadata": {
    "collapsed": false
   },
   "outputs": [
    {
     "data": {
      "text/plain": [
       "[0.38255406726973096,\n",
       " 0.39475205397438984,\n",
       " 0.37838898717369673,\n",
       " 0.4271712450368943,\n",
       " 0.3975991144058071,\n",
       " 0.8186454056420018,\n",
       " 0.7259866556400247,\n",
       " 0.6007895383730038,\n",
       " 0.5680060332011188,\n",
       " 1.0475679727790466]"
      ]
     },
     "execution_count": 97,
     "metadata": {},
     "output_type": "execute_result"
    }
   ],
   "source": [
    "vol_vi_s"
   ]
  },
  {
   "cell_type": "code",
   "execution_count": 96,
   "metadata": {
    "collapsed": false
   },
   "outputs": [
    {
     "data": {
      "text/plain": [
       "0.43564467471374124"
      ]
     },
     "execution_count": 96,
     "metadata": {},
     "output_type": "execute_result"
    }
   ],
   "source": [
    "# fix one slice a time with sureness threshold .99\n",
    "vol_vi_s2 = []\n",
    "for z in range(10):\n",
    "    vi_s, merge_pairs, surenesses = Fixer.splits(cnn, input_image[z], input_prob[z], rhoana_after_merge_correction[z], input_gold[z], \n",
    "                                                 sureness_threshold=.99,\n",
    "                                                 verbose=False)\n",
    "    vol_vi_s2.append(vi_s[-1])\n",
    "np.median(vol_vi_s2)"
   ]
  },
  {
   "cell_type": "code",
   "execution_count": 100,
   "metadata": {
    "collapsed": false
   },
   "outputs": [
    {
     "data": {
      "text/plain": [
       "[0.38255406726973096,\n",
       " 0.39475205397438984,\n",
       " 0.37838898717369673,\n",
       " 0.4090421399893156,\n",
       " 0.4144215663447275,\n",
       " 0.456867783082755,\n",
       " 0.6573175935752964,\n",
       " 0.5398166489091327,\n",
       " 0.5541351346259145,\n",
       " 0.9300709422453526]"
      ]
     },
     "execution_count": 100,
     "metadata": {},
     "output_type": "execute_result"
    }
   ],
   "source": [
    "vol_vi_s2"
   ]
  },
  {
   "cell_type": "code",
   "execution_count": 67,
   "metadata": {
    "collapsed": false
   },
   "outputs": [
    {
     "name": "stdout",
     "output_type": "stream",
     "text": [
      "476 generated in 7.67157196999 seconds.\n",
      "Grouped into 119 patches in 0.00206613540649 seconds.\n",
      "448 generated in 9.71588897705 seconds.\n",
      "Grouped into 112 patches in 0.00202512741089 seconds.\n",
      "472 generated in 9.95114207268 seconds.\n",
      "Grouped into 117 patches in 0.00208902359009 seconds.\n",
      "484 generated in 10.1509411335 seconds.\n",
      "Grouped into 121 patches in 0.00217294692993 seconds.\n",
      "520 generated in 10.9555058479 seconds.\n",
      "Grouped into 130 patches in 0.00229096412659 seconds.\n",
      "500 generated in 10.5159080029 seconds.\n",
      "Grouped into 125 patches in 0.00238180160522 seconds.\n",
      "480 generated in 10.139580965 seconds.\n",
      "Grouped into 118 patches in 0.00216102600098 seconds.\n",
      "476 generated in 9.9745631218 seconds.\n",
      "Grouped into 117 patches in 0.00213503837585 seconds.\n",
      "488 generated in 10.1972169876 seconds.\n",
      "Grouped into 122 patches in 0.00215101242065 seconds.\n",
      "552 generated in 11.2748889923 seconds.\n",
      "Grouped into 138 patches in 0.00254106521606 seconds.\n"
     ]
    }
   ],
   "source": [
    "# simulate user with error rate 0 with limit of N corrections\n",
    "bigM, out_vol, global_volume = Fixer.splits_global(cnn, input_image, input_prob, rhoana_after_merge_correction, input_gold)"
   ]
  },
  {
   "cell_type": "code",
   "execution_count": 17,
   "metadata": {
    "collapsed": false
   },
   "outputs": [
    {
     "data": {
      "text/plain": [
       "0.4144289172505391"
      ]
     },
     "execution_count": 17,
     "metadata": {},
     "output_type": "execute_result"
    }
   ],
   "source": [
    "# with 15 secs per correction\n",
    "user_simulated_vi = threed_vi(input_gold, out_vol)\n",
    "np.median(user_simulated_vi[1])"
   ]
  },
  {
   "cell_type": "code",
   "execution_count": 53,
   "metadata": {
    "collapsed": false
   },
   "outputs": [
    {
     "data": {
      "text/plain": [
       "0.40333873824924282"
      ]
     },
     "execution_count": 53,
     "metadata": {},
     "output_type": "execute_result"
    }
   ],
   "source": [
    "# with 5 secs per correction\n",
    "user_simulated_vi = threed_vi(input_gold, out_vol)\n",
    "np.median(user_simulated_vi[1])"
   ]
  },
  {
   "cell_type": "code",
   "execution_count": 68,
   "metadata": {
    "collapsed": false
   },
   "outputs": [
    {
     "data": {
      "text/plain": [
       "0.3938181020766125"
      ]
     },
     "execution_count": 68,
     "metadata": {},
     "output_type": "execute_result"
    }
   ],
   "source": [
    "# with 5 secs per correction after merge error correction\n",
    "user_simulated_vi = threed_vi(input_gold, out_vol)\n",
    "np.median(user_simulated_vi[1])"
   ]
  },
  {
   "cell_type": "code",
   "execution_count": 98,
   "metadata": {
    "collapsed": false
   },
   "outputs": [
    {
     "data": {
      "text/plain": [
       "(0.41273321981092315,\n",
       " [0.36469144760523253,\n",
       "  0.3800517083459587,\n",
       "  0.36488580658555847,\n",
       "  0.3706597645645271,\n",
       "  0.3973091017963517,\n",
       "  0.3903271023568733,\n",
       "  0.49296487907424513,\n",
       "  0.47382503975664036,\n",
       "  0.45760760586651106,\n",
       "  0.4350097421573329])"
      ]
     },
     "execution_count": 98,
     "metadata": {},
     "output_type": "execute_result"
    }
   ],
   "source": [
    "user_simulated_vi"
   ]
  },
  {
   "cell_type": "code",
   "execution_count": 51,
   "metadata": {
    "collapsed": true
   },
   "outputs": [],
   "source": [
    "out_vol"
   ]
  },
  {
   "cell_type": "code",
   "execution_count": 92,
   "metadata": {
    "collapsed": false
   },
   "outputs": [
    {
     "name": "stdout",
     "output_type": "stream",
     "text": [
      "488 generated in 7.87826013565 seconds.\n",
      "Grouped into 122 patches in 0.00233793258667 seconds.\n",
      "484 generated in 10.307518959 seconds.\n",
      "Grouped into 120 patches in 0.00215411186218 seconds.\n",
      "456 generated in 10.0021011829 seconds.\n",
      "Grouped into 113 patches in 0.00202298164368 seconds.\n",
      "484 generated in 10.1043610573 seconds.\n",
      "Grouped into 121 patches in 0.00216197967529 seconds.\n",
      "508 generated in 10.5845479965 seconds.\n",
      "Grouped into 127 patches in 0.00231695175171 seconds.\n",
      "512 generated in 10.6639130116 seconds.\n",
      "Grouped into 128 patches in 0.00233888626099 seconds.\n",
      "480 generated in 10.2517399788 seconds.\n",
      "Grouped into 118 patches in 0.00215315818787 seconds.\n",
      "460 generated in 9.76374006271 seconds.\n",
      "Grouped into 113 patches in 0.00204205513 seconds.\n",
      "500 generated in 10.3664739132 seconds.\n",
      "Grouped into 125 patches in 0.00223994255066 seconds.\n",
      "540 generated in 11.2085828781 seconds.\n",
      "Grouped into 135 patches in 0.00239396095276 seconds.\n"
     ]
    }
   ],
   "source": [
    "# random recommendations\n",
    "bigM, out_vol, global_volume = Fixer.splits_global(cnn, input_image, input_prob, rhoana_after_merge_correction_random, input_gold, randomize=True)"
   ]
  },
  {
   "cell_type": "code",
   "execution_count": 93,
   "metadata": {
    "collapsed": false
   },
   "outputs": [
    {
     "data": {
      "text/plain": [
       "0.47742953849063463"
      ]
     },
     "execution_count": 93,
     "metadata": {},
     "output_type": "execute_result"
    }
   ],
   "source": [
    "random_vi = threed_vi(input_gold, out_vol)\n",
    "np.median(random_vi[1]) "
   ]
  },
  {
   "cell_type": "code",
   "execution_count": 99,
   "metadata": {
    "collapsed": false
   },
   "outputs": [
    {
     "data": {
      "text/plain": [
       "(0.49098250120267145,\n",
       " [0.4595423295850365,\n",
       "  0.4308474043605237,\n",
       "  0.3986397439416596,\n",
       "  0.39881363108964063,\n",
       "  0.4774106038339303,\n",
       "  0.47744847314733896,\n",
       "  0.5331778295505849,\n",
       "  0.5657477626512799,\n",
       "  0.6298385736857668,\n",
       "  0.5383586601809531])"
      ]
     },
     "execution_count": 99,
     "metadata": {},
     "output_type": "execute_result"
    }
   ],
   "source": [
    "random_vi"
   ]
  },
  {
   "cell_type": "code",
   "execution_count": 30,
   "metadata": {
    "collapsed": false
   },
   "outputs": [
    {
     "name": "stdout",
     "output_type": "stream",
     "text": [
      "464 generated in 7.44634389877 seconds.\n",
      "Grouped into 116 patches in 0.00208497047424 seconds.\n",
      "448 generated in 9.60027599335 seconds.\n",
      "Grouped into 112 patches in 0.00206613540649 seconds.\n",
      "456 generated in 9.67844295502 seconds.\n",
      "Grouped into 113 patches in 0.00205779075623 seconds.\n",
      "484 generated in 10.0104978085 seconds.\n",
      "Grouped into 121 patches in 0.00217604637146 seconds.\n",
      "508 generated in 10.5294861794 seconds.\n",
      "Grouped into 127 patches in 0.0022828578949 seconds.\n",
      "488 generated in 10.2322368622 seconds.\n",
      "Grouped into 122 patches in 0.0022189617157 seconds.\n",
      "480 generated in 10.026018858 seconds.\n",
      "Grouped into 118 patches in 0.00217914581299 seconds.\n",
      "460 generated in 9.6668651104 seconds.\n",
      "Grouped into 113 patches in 0.00210499763489 seconds.\n",
      "488 generated in 10.0534870625 seconds.\n",
      "Grouped into 120 patches in 0.00218987464905 seconds.\n",
      "540 generated in 11.0391199589 seconds.\n",
      "Grouped into 135 patches in 0.00241494178772 seconds.\n"
     ]
    }
   ],
   "source": [
    "# create bigM for the UI tool\n",
    "bigM, a, global_volume = Fixer.splits_global(cnn, input_image, input_prob, input_rhoana, input_gold)"
   ]
  },
  {
   "cell_type": "code",
   "execution_count": 31,
   "metadata": {
    "collapsed": true
   },
   "outputs": [],
   "source": [
    "with open('/home/d/dojo_xp/data/bigM_new_cnn.p', 'wb') as f:\n",
    "    pickle.dump(bigM, f)"
   ]
  },
  {
   "cell_type": "code",
   "execution_count": 8,
   "metadata": {
    "collapsed": true
   },
   "outputs": [],
   "source": [
    "from uitools import UITools"
   ]
  },
  {
   "cell_type": "code",
   "execution_count": 9,
   "metadata": {
    "collapsed": false
   },
   "outputs": [
    {
     "name": "stdout",
     "output_type": "stream",
     "text": [
      "working on slice 0\n",
      "working on slice 1\n",
      "working on slice 2\n",
      "working on slice 3\n",
      "working on slice 4\n",
      "working on slice 5\n",
      "working on slice 6\n",
      "working on slice 7\n",
      "working on slice 8\n",
      "working on slice 9\n",
      "merge error correction done after 1112.44038391 seconds\n"
     ]
    }
   ],
   "source": [
    "merge_errors = UITools.get_top5_merge_errors(cnn, input_image, input_prob, input_rhoana)"
   ]
  },
  {
   "cell_type": "code",
   "execution_count": 11,
   "metadata": {
    "collapsed": true
   },
   "outputs": [],
   "source": [
    "with open('/home/d/dojo_xp/data/merges_new_cnn.p', 'wb') as f:\n",
    "    pickle.dump(merge_errors, f)"
   ]
  },
  {
   "cell_type": "code",
   "execution_count": 10,
   "metadata": {
    "collapsed": false
   },
   "outputs": [
    {
     "data": {
      "text/plain": [
       "19"
      ]
     },
     "execution_count": 10,
     "metadata": {},
     "output_type": "execute_result"
    }
   ],
   "source": [
    "len(merge_errors)"
   ]
  },
  {
   "cell_type": "code",
   "execution_count": 47,
   "metadata": {
    "collapsed": false
   },
   "outputs": [
    {
     "data": {
      "text/plain": [
       "1889.0"
      ]
     },
     "execution_count": 47,
     "metadata": {},
     "output_type": "execute_result"
    }
   ],
   "source": [
    "with open(os.path.join('/home/d/dojo_xp/data/ui_out/new_cnn_test_with_saving_times/times.p'), 'rb') as f:\n",
    "    c_t = pickle.load(f)\n",
    "    c_t = [int(v) for v in c_t]\n",
    "np.mean(c_t)"
   ]
  },
  {
   "cell_type": "code",
   "execution_count": null,
   "metadata": {
    "collapsed": true
   },
   "outputs": [],
   "source": []
  },
  {
   "cell_type": "code",
   "execution_count": 12,
   "metadata": {
    "collapsed": false
   },
   "outputs": [
    {
     "name": "stdout",
     "output_type": "stream",
     "text": [
      "corrected 0\n",
      "corrected 0\n",
      "corrected 1\n",
      "corrected 1\n",
      "corrected 1\n",
      "corrected 2\n",
      "corrected 2\n",
      "corrected 2\n",
      "corrected 3\n",
      "corrected 3\n",
      "corrected 4\n",
      "corrected 4\n",
      "corrected 5\n",
      "corrected 6\n",
      "corrected 7\n",
      "corrected 7\n",
      "corrected 8\n",
      "corrected 9\n",
      "corrected 9\n"
     ]
    }
   ],
   "source": [
    "#\n",
    "# APPLY MERGE ERROR CORRECTION TO RHOANA\n",
    "#\n",
    "rhoana_after_merge_correction = np.array(input_rhoana)\n",
    "# correct merge_errors if they are rated <.5\n",
    "for me in merge_errors:\n",
    "    pred = me[2]\n",
    "    if pred < .5:\n",
    "        z = me[0]\n",
    "        label = me[1]\n",
    "        border = me[3][0][1]\n",
    "        a,b,c,d,e,f,g,h,i = UITools.get_merge_error_image(input_image[z], rhoana_after_merge_correction[z], label, border)        \n",
    "        rhoana_after_merge_correction[z] = f\n",
    "        print 'corrected', z"
   ]
  },
  {
   "cell_type": "code",
   "execution_count": 91,
   "metadata": {
    "collapsed": false
   },
   "outputs": [
    {
     "name": "stdout",
     "output_type": "stream",
     "text": [
      "corrected 0\n",
      "corrected 0\n",
      "corrected 1\n",
      "corrected 1\n",
      "corrected 1\n",
      "corrected 1\n",
      "corrected 5\n",
      "corrected 5\n",
      "corrected 8\n",
      "corrected 8\n"
     ]
    }
   ],
   "source": [
    "#\n",
    "# APPLY MERGE ERROR CORRECTION TO RHOANA RANDOMLY\n",
    "#\n",
    "import random\n",
    "rhoana_after_merge_correction_random = np.array(input_rhoana)\n",
    "# correct merge_errors if they are rated <.5\n",
    "for me in merge_errors:\n",
    "    pred = me[2]\n",
    "    if random.random() < .5:\n",
    "        z = me[0]\n",
    "        label = me[1]\n",
    "        border = me[3][0][1]\n",
    "        a,b,c,d,e,f,g,h,i = UITools.get_merge_error_image(input_image[z], rhoana_after_merge_correction_random[z], label, border)        \n",
    "        rhoana_after_merge_correction_random[z] = f\n",
    "        print 'corrected', z"
   ]
  },
  {
   "cell_type": "code",
   "execution_count": 85,
   "metadata": {
    "collapsed": true
   },
   "outputs": [],
   "source": []
  },
  {
   "cell_type": "code",
   "execution_count": null,
   "metadata": {
    "collapsed": true
   },
   "outputs": [],
   "source": []
  }
 ],
 "metadata": {
  "kernelspec": {
   "display_name": "Python 2",
   "language": "python",
   "name": "python2"
  },
  "language_info": {
   "codemirror_mode": {
    "name": "ipython",
    "version": 2
   },
   "file_extension": ".py",
   "mimetype": "text/x-python",
   "name": "python",
   "nbconvert_exporter": "python",
   "pygments_lexer": "ipython2",
   "version": "2.7.6"
  }
 },
 "nbformat": 4,
 "nbformat_minor": 0
}
