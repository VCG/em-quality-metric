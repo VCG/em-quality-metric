{
 "cells": [
  {
   "cell_type": "code",
   "execution_count": 14,
   "metadata": {
    "collapsed": false
   },
   "outputs": [
    {
     "name": "stdout",
     "output_type": "stream",
     "text": [
      "The autoreload extension is already loaded. To reload it, use:\n",
      "  %reload_ext autoreload\n"
     ]
    }
   ],
   "source": [
    "%load_ext autoreload\n",
    "%autoreload 2\n",
    "\n",
    "from cnn import CNN\n",
    "from dyn_cnn import DynCNN\n",
    "from util import Util\n",
    "from patch import Patch\n",
    "from fixer import Fixer\n",
    "from uglify import Uglify\n",
    "\n",
    "import cPickle as pickle\n",
    "import os\n",
    "import mahotas as mh\n",
    "import numpy as np\n",
    "import time\n",
    "\n",
    "# import mlproof as mlp\n",
    "\n",
    "\n",
    "from matplotlib.pyplot import imshow\n",
    "import matplotlib.pyplot as plt\n",
    "%matplotlib inline"
   ]
  },
  {
   "cell_type": "code",
   "execution_count": 17,
   "metadata": {
    "collapsed": true
   },
   "outputs": [],
   "source": [
    "DOJO_USER_DATA_FOLDER = '/home/d/Dropbox/DOJOSTUDY/'\n",
    "DOJO_USERS_IDS = [11,13,18,37,40,43,5,50,53,62]\n",
    "DOJO_USERS = []\n",
    "for d in DOJO_USERS_IDS:\n",
    "    DOJO_USERS.append('S'+str(d)+'tif')\n",
    "    \n",
    "def read_user(user, slice):\n",
    "    img = mh.imread(DOJO_USER_DATA_FOLDER+user+os.sep+'z='+str(slice).zfill(8)+'.tif')\n",
    "    img = Util.crop_by_bbox(img, dojo_bbox)\n",
    "    return Util.frame_image(img)\n",
    "\n",
    "def dojo_user_vi(user, slice, gt):\n",
    "    img = read_user(user, slice)\n",
    "    return Util.vi(img, gt)\n",
    "\n",
    "def fix_dojo_slice(cnn, slice, input_image, input_prob, input_rhoana, input_gold,t=0.):\n",
    "    DOJO_SLICE=slice\n",
    "    vi_s, merge_pairs, surenesses = Fixer.splits(cnn, \n",
    "                                                 input_image[DOJO_SLICE], \n",
    "                                                 input_prob[DOJO_SLICE], \n",
    "                                                 input_rhoana[DOJO_SLICE], \n",
    "                                                 input_gold[DOJO_SLICE],\n",
    "                                                 sureness_threshold=t,\n",
    "                                                 oversampling=False)\n",
    "\n",
    "    best_index = vi_s.index(np.min(vi_s))\n",
    "    best_vi = vi_s[best_index]\n",
    "    best_sureness = surenesses[best_index]\n",
    "    \n",
    "    return best_vi, best_sureness, vi_s, surenesses\n",
    "\n",
    "def fix_dojo_slice_user_simulated(cnn, slice, input_image, input_prob, input_rhoana, input_gold, error_rate=0,t=0):\n",
    "    DOJO_SLICE=slice\n",
    "    vi_s, merge_pairs, surenesses, good_fixes, bad_fixes = Fixer.splits_user_simulated(cnn, \n",
    "                                                 input_image[DOJO_SLICE], \n",
    "                                                 input_prob[DOJO_SLICE], \n",
    "                                                 input_rhoana[DOJO_SLICE], \n",
    "                                                 input_gold[DOJO_SLICE],\n",
    "                                                 error_rate=error_rate,\n",
    "                                                 sureness_threshold=t,                                                 \n",
    "                                                 oversampling=False)\n",
    "    \n",
    "    best_index = vi_s.index(np.min(vi_s))\n",
    "    best_vi = vi_s[best_index]\n",
    "    best_sureness = surenesses[best_index]\n",
    "    \n",
    "    return best_vi, good_fixes, bad_fixes, merge_pairs, vi_s\n",
    "\n",
    "def threed_vi(gt, seg):\n",
    "    total_vi = 0\n",
    "    slice_vi = []    \n",
    "    for i in range(10):\n",
    "        current_vi = Util.vi(gt[i].astype(np.int64), seg[i].astype(np.int64))\n",
    "        total_vi += current_vi\n",
    "        slice_vi.append(current_vi)\n",
    "    total_vi /= 10\n",
    "    return total_vi, slice_vi\n",
    "\n",
    "def user_threed_vi(gt, user):\n",
    "    total_vi = 0\n",
    "    slice_vi = []\n",
    "    for i in range(10):\n",
    "        current_vi = dojo_user_vi(user, i, gt[i])\n",
    "        total_vi += current_vi\n",
    "        slice_vi.append(current_vi)\n",
    "    total_vi /= 10\n",
    "    return total_vi, slice_vi\n",
    "    \n",
    "def cnn_threed_vi(cnn, input_image, input_prob, input_rhoana, input_gold):\n",
    "    total_vi = 0\n",
    "    slice_vi = []\n",
    "    slice_sureness = []\n",
    "    for i in range(10):\n",
    "        current_vi, sureness = fix_dojo_slice(cnn, i, input_image, input_prob, input_rhoana, input_gold)\n",
    "        total_vi += current_vi\n",
    "        slice_vi.append(current_vi)\n",
    "        slice_sureness.append(sureness)\n",
    "    total_vi /= 10\n",
    "    return total_vi, slice_vi, slice_sureness\n",
    "        "
   ]
  },
  {
   "cell_type": "code",
   "execution_count": 2,
   "metadata": {
    "collapsed": true
   },
   "outputs": [],
   "source": [
    "input_image, input_prob, input_gold, input_rhoana, dojo_bbox = Util.read_dojo_data() "
   ]
  },
  {
   "cell_type": "code",
   "execution_count": 3,
   "metadata": {
    "collapsed": false
   },
   "outputs": [
    {
     "name": "stdout",
     "output_type": "stream",
     "text": [
      "Loading ['/home/d/dojo_xp/nets/mine_merged_large_7/configuration.txt']\n",
      "Loading /home/d/dojo_xp/nets/mine_merged_large_7/network_262.p\n"
     ]
    }
   ],
   "source": [
    "cnn = CNN('mine_merged_large_7', 'patches_7th', ['image', 'prob', 'merged_array', 'larger_border_overlap'])"
   ]
  },
  {
   "cell_type": "code",
   "execution_count": 4,
   "metadata": {
    "collapsed": true
   },
   "outputs": [],
   "source": [
    "with open('/home/d/dojo_xp/data/merges2.p', 'rb') as f:\n",
    "    merge_errors = pickle.load(f)"
   ]
  },
  {
   "cell_type": "code",
   "execution_count": 6,
   "metadata": {
    "collapsed": true
   },
   "outputs": [],
   "source": [
    "from uitools import UITools"
   ]
  },
  {
   "cell_type": "code",
   "execution_count": 7,
   "metadata": {
    "collapsed": false
   },
   "outputs": [
    {
     "name": "stdout",
     "output_type": "stream",
     "text": [
      "corrected 0\n",
      "corrected 1\n",
      "corrected 2\n",
      "corrected 4\n",
      "corrected 7\n",
      "corrected 8\n",
      "corrected 9\n"
     ]
    }
   ],
   "source": [
    "#\n",
    "# APPLY MERGE ERROR CORRECTION TO RHOANA\n",
    "#\n",
    "rhoana_after_merge_correction = np.array(input_rhoana)\n",
    "# correct merge_errors if they are rated <.5\n",
    "for me in merge_errors:\n",
    "    pred = me[2]\n",
    "    if pred < .5:\n",
    "        z = me[0]\n",
    "        label = me[1]\n",
    "        border = me[3][0][1]\n",
    "        a,b,c,d,e,f,g,h,i = UITools.get_merge_error_image(input_image[z], rhoana_after_merge_correction[z], label, border)        \n",
    "        rhoana_after_merge_correction[z] = f\n",
    "        print 'corrected', z"
   ]
  },
  {
   "cell_type": "code",
   "execution_count": 8,
   "metadata": {
    "collapsed": false
   },
   "outputs": [
    {
     "name": "stdout",
     "output_type": "stream",
     "text": [
      "corrected 8\n"
     ]
    }
   ],
   "source": [
    "#\n",
    "# APPLY MERGE ERROR CORRECTION TO RHOANA RANDOMLY\n",
    "#\n",
    "import random\n",
    "rhoana_after_merge_correction_random = np.array(input_rhoana)\n",
    "# correct merge_errors if they are rated <.5\n",
    "for me in merge_errors:\n",
    "    pred = me[2]\n",
    "    if random.random() < .5:\n",
    "        z = me[0]\n",
    "        label = me[1]\n",
    "        border = me[3][0][1]\n",
    "        a,b,c,d,e,f,g,h,i = UITools.get_merge_error_image(input_image[z], rhoana_after_merge_correction_random[z], label, border)        \n",
    "        rhoana_after_merge_correction_random[z] = f\n",
    "        print 'corrected', z"
   ]
  },
  {
   "cell_type": "code",
   "execution_count": 9,
   "metadata": {
    "collapsed": true
   },
   "outputs": [],
   "source": [
    "# fix one slice a time with sureness threshold .95\n",
    "vol_vi_s = []\n",
    "for z in range(10):\n",
    "    vi_s, merge_pairs, surenesses = Fixer.splits(cnn, input_image[z], input_prob[z], rhoana_after_merge_correction[z], input_gold[z], \n",
    "                                                 sureness_threshold=.95,\n",
    "                                                 verbose=False)\n",
    "    vol_vi_s.append(vi_s[-1])\n",
    "    "
   ]
  },
  {
   "cell_type": "code",
   "execution_count": 10,
   "metadata": {
    "collapsed": false
   },
   "outputs": [
    {
     "data": {
      "text/plain": [
       "0.53607027266523577"
      ]
     },
     "execution_count": 10,
     "metadata": {},
     "output_type": "execute_result"
    }
   ],
   "source": [
    "np.median(vol_vi_s)"
   ]
  },
  {
   "cell_type": "code",
   "execution_count": 11,
   "metadata": {
    "collapsed": false
   },
   "outputs": [
    {
     "data": {
      "text/plain": [
       "[0.37714099477120566,\n",
       " 0.4119345987453906,\n",
       " 0.41743583312508914,\n",
       " 0.4085899806629625,\n",
       " 0.4501137754484592,\n",
       " 0.6821418080964907,\n",
       " 0.6761792610958874,\n",
       " 0.6474979613212639,\n",
       " 0.6873224969701655,\n",
       " 0.6220267698820123]"
      ]
     },
     "execution_count": 11,
     "metadata": {},
     "output_type": "execute_result"
    }
   ],
   "source": [
    "vol_vi_s"
   ]
  },
  {
   "cell_type": "code",
   "execution_count": null,
   "metadata": {
    "collapsed": true
   },
   "outputs": [],
   "source": []
  },
  {
   "cell_type": "code",
   "execution_count": 15,
   "metadata": {
    "collapsed": false
   },
   "outputs": [
    {
     "name": "stdout",
     "output_type": "stream",
     "text": [
      "476 generated in 7.98501205444 seconds.\n",
      "Grouped into 119 patches in 0.00241112709045 seconds.\n",
      "456 generated in 9.01170992851 seconds.\n",
      "Grouped into 114 patches in 0.00247406959534 seconds.\n",
      "468 generated in 9.67066311836 seconds.\n",
      "Grouped into 116 patches in 0.00281810760498 seconds.\n",
      "484 generated in 9.60613203049 seconds.\n",
      "Grouped into 121 patches in 0.00263690948486 seconds.\n",
      "520 generated in 10.1628270149 seconds.\n",
      "Grouped into 130 patches in 0.00283885002136 seconds.\n",
      "488 generated in 9.88358092308 seconds.\n",
      "Grouped into 122 patches in 0.00248599052429 seconds.\n",
      "480 generated in 9.54860901833 seconds.\n",
      "Grouped into 118 patches in 0.0018470287323 seconds.\n",
      "476 generated in 9.00306010246 seconds.\n",
      "Grouped into 117 patches in 0.00239992141724 seconds.\n",
      "488 generated in 9.48145890236 seconds.\n",
      "Grouped into 122 patches in 0.002366065979 seconds.\n",
      "548 generated in 10.3332960606 seconds.\n",
      "Grouped into 137 patches in 0.00253081321716 seconds.\n"
     ]
    }
   ],
   "source": [
    "# simulate user with error rate 0 with limit of N corrections\n",
    "bigM, out_vol, global_volume = Fixer.splits_global(cnn, input_image, input_prob, rhoana_after_merge_correction, input_gold)"
   ]
  },
  {
   "cell_type": "code",
   "execution_count": 18,
   "metadata": {
    "collapsed": false
   },
   "outputs": [
    {
     "data": {
      "text/plain": [
       "0.40237352272697935"
      ]
     },
     "execution_count": 18,
     "metadata": {},
     "output_type": "execute_result"
    }
   ],
   "source": [
    "# with 5 secs per correction\n",
    "user_simulated_vi = threed_vi(input_gold, out_vol)\n",
    "np.median(user_simulated_vi[1])"
   ]
  },
  {
   "cell_type": "code",
   "execution_count": 19,
   "metadata": {
    "collapsed": false
   },
   "outputs": [
    {
     "data": {
      "text/plain": [
       "(0.4334672910251106,\n",
       " [0.3638747604452375,\n",
       "  0.39741416580385813,\n",
       "  0.3740647191814084,\n",
       "  0.39954443665184947,\n",
       "  0.40520260880210923,\n",
       "  0.3903271023568733,\n",
       "  0.5163180036974166,\n",
       "  0.5326613477925966,\n",
       "  0.5208193249023552,\n",
       "  0.43444644061740156])"
      ]
     },
     "execution_count": 19,
     "metadata": {},
     "output_type": "execute_result"
    }
   ],
   "source": [
    "user_simulated_vi"
   ]
  },
  {
   "cell_type": "code",
   "execution_count": 29,
   "metadata": {
    "collapsed": false
   },
   "outputs": [
    {
     "name": "stdout",
     "output_type": "stream",
     "text": [
      "464 generated in 8.26559686661 seconds.\n",
      "Grouped into 116 patches in 0.00186085700989 seconds.\n",
      "448 generated in 9.32174682617 seconds.\n",
      "Grouped into 112 patches in 0.00222396850586 seconds.\n",
      "456 generated in 9.37109494209 seconds.\n",
      "Grouped into 113 patches in 0.00216293334961 seconds.\n",
      "484 generated in 9.3007068634 seconds.\n",
      "Grouped into 121 patches in 0.00239300727844 seconds.\n",
      "508 generated in 10.3682589531 seconds.\n",
      "Grouped into 127 patches in 0.00270414352417 seconds.\n",
      "488 generated in 9.61003708839 seconds.\n",
      "Grouped into 122 patches in 0.0024528503418 seconds.\n",
      "480 generated in 9.77884984016 seconds.\n",
      "Grouped into 118 patches in 0.00230503082275 seconds.\n",
      "460 generated in 9.01172709465 seconds.\n",
      "Grouped into 113 patches in 0.00247287750244 seconds.\n",
      "488 generated in 9.67659783363 seconds.\n",
      "Grouped into 122 patches in 0.0023250579834 seconds.\n",
      "540 generated in 10.37352705 seconds.\n",
      "Grouped into 135 patches in 0.00284790992737 seconds.\n"
     ]
    }
   ],
   "source": [
    "# random recommendations\n",
    "bigM, out_vol, global_volume = Fixer.splits_global(cnn, input_image, input_prob, rhoana_after_merge_correction_random, input_gold, randomize=True)"
   ]
  },
  {
   "cell_type": "code",
   "execution_count": 30,
   "metadata": {
    "collapsed": false
   },
   "outputs": [
    {
     "data": {
      "text/plain": [
       "0.47222117404401454"
      ]
     },
     "execution_count": 30,
     "metadata": {},
     "output_type": "execute_result"
    }
   ],
   "source": [
    "random_vi = threed_vi(input_gold, out_vol)\n",
    "np.median(random_vi[1]) "
   ]
  },
  {
   "cell_type": "code",
   "execution_count": 31,
   "metadata": {
    "collapsed": false
   },
   "outputs": [
    {
     "data": {
      "text/plain": [
       "(0.4944449604498559,\n",
       " [0.43316548990430626,\n",
       "  0.41386189487693503,\n",
       "  0.40007574892515674,\n",
       "  0.40067752909270915,\n",
       "  0.4865130129098647,\n",
       "  0.45792933517816437,\n",
       "  0.5732451590105869,\n",
       "  0.59937227290765,\n",
       "  0.5868511567812682,\n",
       "  0.5927580049119179])"
      ]
     },
     "execution_count": 31,
     "metadata": {},
     "output_type": "execute_result"
    }
   ],
   "source": [
    "random_vi"
   ]
  },
  {
   "cell_type": "code",
   "execution_count": null,
   "metadata": {
    "collapsed": true
   },
   "outputs": [],
   "source": []
  }
 ],
 "metadata": {
  "kernelspec": {
   "display_name": "Python 2",
   "language": "python",
   "name": "python2"
  },
  "language_info": {
   "codemirror_mode": {
    "name": "ipython",
    "version": 2
   },
   "file_extension": ".py",
   "mimetype": "text/x-python",
   "name": "python",
   "nbconvert_exporter": "python",
   "pygments_lexer": "ipython2",
   "version": "2.7.6"
  }
 },
 "nbformat": 4,
 "nbformat_minor": 0
}
