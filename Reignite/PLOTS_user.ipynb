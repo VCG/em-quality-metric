{
 "cells": [
  {
   "cell_type": "code",
   "execution_count": 1,
   "metadata": {
    "collapsed": false
   },
   "outputs": [
    {
     "name": "stderr",
     "output_type": "stream",
     "text": [
      "Using gpu device 0: GeForce GTX TITAN (CNMeM is disabled, CuDNN 4007)\n",
      "/home/d/nolearn/local/lib/python2.7/site-packages/theano/tensor/signal/downsample.py:6: UserWarning: downsample module has been moved to the theano.tensor.signal.pool module.\n",
      "  \"downsample module has been moved to the theano.tensor.signal.pool module.\")\n",
      "tifffile.py:1995: UserWarning: failed to import _tifffile.decodepackbits\n",
      "  warnings.warn(\"failed to import %s\" % module_function)\n",
      "tifffile.py:1995: UserWarning: failed to import _tifffile.decodelzw\n",
      "  warnings.warn(\"failed to import %s\" % module_function)\n",
      "tifffile.py:1995: UserWarning: failed to import _tifffile.unpackints\n",
      "  warnings.warn(\"failed to import %s\" % module_function)\n"
     ]
    }
   ],
   "source": [
    "%load_ext autoreload\n",
    "%autoreload 2\n",
    "\n",
    "from cnn import CNN\n",
    "from experiment import Experiment\n",
    "from util import Util\n",
    "from patch import Patch\n",
    "from fixer import Fixer\n",
    "from uglify import Uglify\n",
    "\n",
    "from PIL import Image\n",
    "import mahotas as mh\n",
    "import numpy as np\n",
    "import os\n",
    "import cPickle as pickle\n",
    "from string import Template\n",
    "import shutil\n",
    "\n",
    "from matplotlib.pyplot import imshow\n",
    "import matplotlib.pyplot as plt\n",
    "%matplotlib inline"
   ]
  },
  {
   "cell_type": "code",
   "execution_count": 2,
   "metadata": {
    "collapsed": true
   },
   "outputs": [],
   "source": [
    "input_vi = [\n",
    "0.4564952265,\n",
    "0.4293922557,\n",
    "0.4181262577,\n",
    "0.4176715561,\n",
    "0.4907196995,\n",
    "0.4620027692,\n",
    "0.5851840841,\n",
    "0.6340148263,\n",
    "0.655254341,\n",
    "0.5968352055\n",
    "]\n",
    "\n",
    "dojo_best_user = [\n",
    "0.3764043166,\n",
    "0.3516472472,\n",
    "0.4079547444,\n",
    "0.4530306854,\n",
    "0.489459557,\n",
    "0.4783714198,\n",
    "0.4691797846,\n",
    "0.4852945057,\n",
    "0.4989719721,\n",
    "0.4631116968\n",
    "\n",
    "]\n",
    "\n",
    "dojo_avg_user = [\n",
    "0.4731860794,\n",
    "0.4412143846,\n",
    "0.4645102603,\n",
    "0.4790327986,\n",
    "0.5483534853,\n",
    "0.5209529753,\n",
    "0.5614397773,\n",
    "0.5669964498,\n",
    "0.6037881064,\n",
    "0.5986637472\n",
    "\n",
    "]\n"
   ]
  },
  {
   "cell_type": "code",
   "execution_count": null,
   "metadata": {
    "collapsed": true
   },
   "outputs": [],
   "source": []
  }
 ],
 "metadata": {
  "kernelspec": {
   "display_name": "Python 2",
   "language": "python",
   "name": "python2"
  },
  "language_info": {
   "codemirror_mode": {
    "name": "ipython",
    "version": 2
   },
   "file_extension": ".py",
   "mimetype": "text/x-python",
   "name": "python",
   "nbconvert_exporter": "python",
   "pygments_lexer": "ipython2",
   "version": "2.7.6"
  }
 },
 "nbformat": 4,
 "nbformat_minor": 0
}
