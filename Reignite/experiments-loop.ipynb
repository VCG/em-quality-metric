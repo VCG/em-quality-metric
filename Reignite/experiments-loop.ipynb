{
 "metadata": {
  "name": "",
  "signature": "sha256:38ec15404e930979b9c007758e908908d45e4a31b35c2ba0de5941916fa20e24"
 },
 "nbformat": 3,
 "nbformat_minor": 0,
 "worksheets": [
  {
   "cells": [
    {
     "cell_type": "code",
     "collapsed": false,
     "input": [
      "%load_ext autoreload\n",
      "%autoreload 2\n",
      "\n",
      "from cnn import CNN\n",
      "from experiment import Experiment\n",
      "from util import Util\n",
      "from patch import Patch\n",
      "from fixer import Fixer\n",
      "from uglify import Uglify\n",
      "\n",
      "import mahotas as mh\n",
      "import numpy as np\n",
      "\n",
      "from matplotlib.pyplot import imshow\n",
      "import matplotlib.pyplot as plt\n",
      "%matplotlib inline"
     ],
     "language": "python",
     "metadata": {},
     "outputs": [
      {
       "output_type": "stream",
       "stream": "stderr",
       "text": [
        "Using gpu device 0: GeForce GTX TITAN (CNMeM is disabled)\n"
       ]
      }
     ],
     "prompt_number": 1
    },
    {
     "cell_type": "code",
     "collapsed": false,
     "input": [
      "cnn = CNN('8b33e516-2311-4892-82f9-4e6079c261f8', 'patches_4th_10k')"
     ],
     "language": "python",
     "metadata": {},
     "outputs": [
      {
       "output_type": "stream",
       "stream": "stdout",
       "text": [
        "Loading ['/Volumes/DATA1/split_cnn/patches_4th_10k/8b33e516-2311-4892-82f9-4e6079c261f8/configuration.txt']\n",
        "Loading ['/Volumes/DATA1/split_cnn/patches_4th_10k/8b33e516-2311-4892-82f9-4e6079c261f8/network_19.p']\n"
       ]
      },
      {
       "output_type": "stream",
       "stream": "stderr",
       "text": [
        "/Users/d/Library/Python/2.7/lib/python/site-packages/theano/tensor/nnet/__init__.py:111: UserWarning: The `image_shape` keyword argument to `tensor.nnet.conv2d` is deprecated, it has been renamed to `input_shape`.\n",
        "  warnings.warn(\"The `image_shape` keyword argument to \"\n"
       ]
      }
     ],
     "prompt_number": 2
    },
    {
     "cell_type": "code",
     "collapsed": false,
     "input": [
      "import time\n",
      "\n",
      "for i in range(5):\n",
      "    t0 = time.time()\n",
      "    vis, vi_diffs, surenesses, merge_pairs = Experiment.run_split_test(cnn,\n",
      "                                                                   data='gt',\n",
      "                                                                   oversampling=True,\n",
      "                                                                   smallest_first=True,\n",
      "                                                                   slices=[70],\n",
      "                                                                   no_splits=1,\n",
      "                                                                   bbox=[0,1024,0,1024])\n",
      "    print 'Ran in', time.time()-t0, 'seconds.'"
     ],
     "language": "python",
     "metadata": {},
     "outputs": [
      {
       "output_type": "stream",
       "stream": "stdout",
       "text": [
        "--------------------------------------------------------------------------------\n",
        "--------------------------------------------------------------------------------\n",
        "New Experiment:\n",
        "  Data: gt\n",
        "  Slices: [70]\n",
        "  Oversampling: True\n",
        "  Merge smallest first: True\n",
        "  No. splits to uglify: 1\n",
        "  Keep zeros in segmentation: True\n",
        "VI:"
       ]
      },
      {
       "output_type": "stream",
       "stream": "stdout",
       "text": [
        "\n",
        "  N:  1\n",
        "  Min:  0.0888474328518\n",
        "  Max:  0.0888474328518\n",
        "  Mean:  0.0888474328518\n",
        "  Median:  0.0888474328518\n",
        "  Std:  0.0\n",
        "  Var:  0.0\n",
        "VI before-after:\n",
        "  N:  1\n",
        "  Min:  0.346428750322\n",
        "  Max:  0.346428750322\n",
        "  Mean:  0.346428750322\n",
        "  Median:  0.346428750322\n",
        "  Std:  0.0\n",
        "  Var:  0.0\n",
        "Surenesses:\n",
        "  N:  1\n",
        "  Min:  0.319420883575\n",
        "  Max:  0.319420883575\n",
        "  Mean:  0.319420883575\n",
        "  Median:  0.319420883575\n",
        "  Std:  0.0\n",
        "  Var:  0.0\n",
        "Ran in 7648.86914301 seconds.\n",
        "--------------------------------------------------------------------------------\n",
        "--------------------------------------------------------------------------------\n",
        "New Experiment:\n",
        "  Data: gt\n",
        "  Slices: [70]\n",
        "  Oversampling: True\n",
        "  Merge smallest first: True\n",
        "  No. splits to uglify: 1\n",
        "  Keep zeros in segmentation: True\n",
        "VI:"
       ]
      },
      {
       "output_type": "stream",
       "stream": "stdout",
       "text": [
        "\n",
        "  N:  1\n",
        "  Min:  0.101437946228\n",
        "  Max:  0.101437946228\n",
        "  Mean:  0.101437946228\n",
        "  Median:  0.101437946228\n",
        "  Std:  0.0\n",
        "  Var:  0.0\n",
        "VI before-after:\n",
        "  N:  1\n",
        "  Min:  0.40764075139\n",
        "  Max:  0.40764075139\n",
        "  Mean:  0.40764075139\n",
        "  Median:  0.40764075139\n",
        "  Std:  0.0\n",
        "  Var:  0.0\n",
        "Surenesses:\n",
        "  N:  1\n",
        "  Min:  0.306871835954\n",
        "  Max:  0.306871835954\n",
        "  Mean:  0.306871835954\n",
        "  Median:  0.306871835954\n",
        "  Std:  0.0\n",
        "  Var:  0.0\n",
        "Ran in 6809.02247715 seconds.\n",
        "--------------------------------------------------------------------------------\n",
        "--------------------------------------------------------------------------------\n",
        "New Experiment:\n",
        "  Data: gt\n",
        "  Slices: [70]\n",
        "  Oversampling: True\n",
        "  Merge smallest first: True\n",
        "  No. splits to uglify: 1\n",
        "  Keep zeros in segmentation: True\n",
        "VI:"
       ]
      },
      {
       "output_type": "stream",
       "stream": "stdout",
       "text": [
        "\n",
        "  N:  1\n",
        "  Min:  0.0653556465129\n",
        "  Max:  0.0653556465129\n",
        "  Mean:  0.0653556465129\n",
        "  Median:  0.0653556465129\n",
        "  Std:  0.0\n",
        "  Var:  0.0\n",
        "VI before-after:\n",
        "  N:  1\n",
        "  Min:  0.462872112086\n",
        "  Max:  0.462872112086\n",
        "  Mean:  0.462872112086\n",
        "  Median:  0.462872112086\n",
        "  Std:  0.0\n",
        "  Var:  0.0\n",
        "Surenesses:\n",
        "  N:  1\n",
        "  Min:  0.351799338273\n",
        "  Max:  0.351799338273\n",
        "  Mean:  0.351799338273\n",
        "  Median:  0.351799338273\n",
        "  Std:  0.0\n",
        "  Var:  0.0\n",
        "Ran in 6832.05128908 seconds.\n",
        "--------------------------------------------------------------------------------\n",
        "--------------------------------------------------------------------------------\n",
        "New Experiment:\n",
        "  Data: gt\n",
        "  Slices: [70]\n",
        "  Oversampling: True\n",
        "  Merge smallest first: True\n",
        "  No. splits to uglify: 1\n",
        "  Keep zeros in segmentation: True\n",
        "VI:"
       ]
      },
      {
       "output_type": "stream",
       "stream": "stdout",
       "text": [
        "\n",
        "  N:  1\n",
        "  Min:  0.0694018982461\n",
        "  Max:  0.0694018982461\n",
        "  Mean:  0.0694018982461\n",
        "  Median:  0.0694018982461\n",
        "  Std:  0.0\n",
        "  Var:  0.0\n",
        "VI before-after:\n",
        "  N:  1\n",
        "  Min:  0.428485439445\n",
        "  Max:  0.428485439445\n",
        "  Mean:  0.428485439445\n",
        "  Median:  0.428485439445\n",
        "  Std:  0.0\n",
        "  Var:  0.0\n",
        "Surenesses:\n",
        "  N:  1\n",
        "  Min:  0.337737843902\n",
        "  Max:  0.337737843902\n",
        "  Mean:  0.337737843902\n",
        "  Median:  0.337737843902\n",
        "  Std:  0.0\n",
        "  Var:  0.0\n",
        "Ran in 4478.801373 seconds.\n",
        "--------------------------------------------------------------------------------\n",
        "--------------------------------------------------------------------------------\n",
        "New Experiment:\n",
        "  Data: gt\n",
        "  Slices: [70]\n",
        "  Oversampling: True\n",
        "  Merge smallest first: True\n",
        "  No. splits to uglify: 1\n",
        "  Keep zeros in segmentation: True\n",
        "VI:"
       ]
      },
      {
       "output_type": "stream",
       "stream": "stdout",
       "text": [
        "\n",
        "  N:  1\n",
        "  Min:  0.0771451481417\n",
        "  Max:  0.0771451481417\n",
        "  Mean:  0.0771451481417\n",
        "  Median:  0.0771451481417\n",
        "  Std:  0.0\n",
        "  Var:  0.0\n",
        "VI before-after:\n",
        "  N:  1\n",
        "  Min:  0.338717033595\n",
        "  Max:  0.338717033595\n",
        "  Mean:  0.338717033595\n",
        "  Median:  0.338717033595\n",
        "  Std:  0.0\n",
        "  Var:  0.0\n",
        "Surenesses:\n",
        "  N:  1\n",
        "  Min:  0.398800008912\n",
        "  Max:  0.398800008912\n",
        "  Mean:  0.398800008912\n",
        "  Median:  0.398800008912\n",
        "  Std:  0.0\n",
        "  Var:  0.0\n",
        "Ran in 3552.87700105 seconds.\n"
       ]
      }
     ],
     "prompt_number": 5
    },
    {
     "cell_type": "code",
     "collapsed": false,
     "input": [
      "import time\n",
      "\n",
      "for i in range(5):\n",
      "    t0 = time.time()\n",
      "    vis, vi_diffs, surenesses, merge_pairs = Experiment.run_split_test(cnn,\n",
      "                                                                   data='rhoana',\n",
      "                                                                   oversampling=True,\n",
      "                                                                   smallest_first=True,\n",
      "                                                                   bbox=[0,1024,0,1024])\n",
      "    print 'Ran in', time.time()-t0, 'seconds.'"
     ],
     "language": "python",
     "metadata": {},
     "outputs": []
    },
    {
     "cell_type": "code",
     "collapsed": false,
     "input": [],
     "language": "python",
     "metadata": {},
     "outputs": []
    }
   ],
   "metadata": {}
  }
 ]
}