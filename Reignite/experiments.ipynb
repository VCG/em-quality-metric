{
 "metadata": {
  "name": "",
  "signature": "sha256:bcd93c3058d74c3fd248fcb6016a484a55091c1bd1e01deb0eda5a5b37c35ab2"
 },
 "nbformat": 3,
 "nbformat_minor": 0,
 "worksheets": [
  {
   "cells": [
    {
     "cell_type": "code",
     "collapsed": false,
     "input": [
      "%load_ext autoreload\n",
      "%autoreload 2\n",
      "\n",
      "from cnn import CNN\n",
      "from experiment import Experiment\n",
      "from util import Util\n",
      "from patch import Patch\n",
      "from fixer import Fixer\n",
      "from uglify import Uglify\n",
      "\n",
      "import mahotas as mh\n",
      "import numpy as np\n",
      "\n",
      "from matplotlib.pyplot import imshow\n",
      "import matplotlib.pyplot as plt\n",
      "%matplotlib inline"
     ],
     "language": "python",
     "metadata": {},
     "outputs": [
      {
       "output_type": "stream",
       "stream": "stderr",
       "text": [
        "Using gpu device 0: GeForce GTX TITAN (CNMeM is disabled)\n"
       ]
      }
     ],
     "prompt_number": 1
    },
    {
     "cell_type": "code",
     "collapsed": false,
     "input": [
      "cnn = CNN('8b33e516-2311-4892-82f9-4e6079c261f8', 'patches_4th_10k')"
     ],
     "language": "python",
     "metadata": {},
     "outputs": [
      {
       "output_type": "stream",
       "stream": "stdout",
       "text": [
        "Loading ['/Volumes/DATA1/split_cnn/patches_4th_10k/8b33e516-2311-4892-82f9-4e6079c261f8/configuration.txt']\n",
        "Loading ['/Volumes/DATA1/split_cnn/patches_4th_10k/8b33e516-2311-4892-82f9-4e6079c261f8/network_19.p']\n"
       ]
      },
      {
       "output_type": "stream",
       "stream": "stderr",
       "text": [
        "/Users/d/Library/Python/2.7/lib/python/site-packages/theano/tensor/nnet/__init__.py:111: UserWarning: The `image_shape` keyword argument to `tensor.nnet.conv2d` is deprecated, it has been renamed to `input_shape`.\n",
        "  warnings.warn(\"The `image_shape` keyword argument to \"\n"
       ]
      }
     ],
     "prompt_number": 2
    },
    {
     "cell_type": "code",
     "collapsed": false,
     "input": [
      "vis, vi_diffs, surenesses, merge_pairs = Experiment.run_split_test(cnn,\n",
      "                                                                   data='gt',\n",
      "                                                                   oversampling=True,\n",
      "                                                                   smallest_first=True,\n",
      "                                                                   bbox=[0,1024,0,1024])"
     ],
     "language": "python",
     "metadata": {},
     "outputs": [
      {
       "output_type": "stream",
       "stream": "stdout",
       "text": [
        "--------------------------------------------------------------------------------\n",
        "--------------------------------------------------------------------------------\n",
        "New Experiment:\n",
        "  Data: gt\n",
        "  Slices: [70, 71, 72, 73, 74]\n",
        "  Oversampling: True\n",
        "  Merge smallest first: True\n",
        "  No. splits to uglify: 2\n",
        "  Keep zeros in segmentation: True\n",
        "VI:"
       ]
      },
      {
       "output_type": "stream",
       "stream": "stdout",
       "text": [
        "\n",
        "  N:  5\n",
        "  Min:  0.0821250695984\n",
        "  Max:  0.132817912775\n",
        "  Mean:  0.121277102522\n",
        "  Median:  0.131105481522\n",
        "  Std:  0.0196374694345\n",
        "  Var:  0.00038563020579\n",
        "VI before-after:\n",
        "  N:  5\n",
        "  Min:  0.602144722568\n",
        "  Max:  0.709159778266\n",
        "  Mean:  0.640398052169\n",
        "  Median:  0.62732362333\n",
        "  Std:  0.0367763869607\n",
        "  Var:  0.00135250263789\n",
        "Surenesses:\n",
        "  N:  5\n",
        "  Min:  0.198021037266\n",
        "  Max:  0.317302270255\n",
        "  Mean:  0.251029697662\n",
        "  Median:  0.261052677679\n",
        "  Std:  0.0418190722352\n",
        "  Var:  0.00174883480261\n"
       ]
      }
     ],
     "prompt_number": 3
    },
    {
     "cell_type": "code",
     "collapsed": false,
     "input": [
      "vis, vi_diffs, surenesses, merge_pairs = Experiment.run_split_test(cnn,\n",
      "                                                                   data='gt',\n",
      "                                                                   oversampling=False,\n",
      "                                                                   smallest_first=True,\n",
      "                                                                   bbox=[0,1024,0,1024])"
     ],
     "language": "python",
     "metadata": {},
     "outputs": [
      {
       "output_type": "stream",
       "stream": "stdout",
       "text": [
        "--------------------------------------------------------------------------------\n",
        "--------------------------------------------------------------------------------\n",
        "New Experiment:\n",
        "  Data: gt\n",
        "  Slices: [70, 71, 72, 73, 74]\n",
        "  Oversampling: False\n",
        "  Merge smallest first: True\n",
        "  No. splits to uglify: 2\n",
        "  Keep zeros in segmentation: True\n",
        "VI:"
       ]
      },
      {
       "output_type": "stream",
       "stream": "stdout",
       "text": [
        "\n",
        "  N:  5\n",
        "  Min:  0.203189109931\n",
        "  Max:  0.297381192516\n",
        "  Mean:  0.260641814441\n",
        "  Median:  0.257976390448\n",
        "  Std:  0.0349766066449\n",
        "  Var:  0.00122336301239\n",
        "VI before-after:\n",
        "  N:  5\n",
        "  Min:  0.377303353177\n",
        "  Max:  0.534252666196\n",
        "  Mean:  0.475176214097\n",
        "  Median:  0.497980868693\n",
        "  Std:  0.0596783097491\n",
        "  Var:  0.00356150065451\n",
        "Surenesses:\n",
        "  N:  5\n",
        "  Min:  0.230572456078\n",
        "  Max:  0.403638541698\n",
        "  Mean:  0.293437059105\n",
        "  Median:  0.263314321637\n",
        "  Std:  0.0620376896031\n",
        "  Var:  0.00384867493129\n"
       ]
      }
     ],
     "prompt_number": 4
    },
    {
     "cell_type": "code",
     "collapsed": false,
     "input": [
      "vis, vi_diffs, surenesses, merge_pairs = Experiment.run_split_test(cnn,\n",
      "                                                                   data='rhoana',\n",
      "                                                                   oversampling=True,\n",
      "                                                                   smallest_first=True,\n",
      "                                                                   slices=[70],\n",
      "                                                                   bbox=[0,1024,0,1024])"
     ],
     "language": "python",
     "metadata": {},
     "outputs": [
      {
       "output_type": "stream",
       "stream": "stdout",
       "text": [
        "--------------------------------------------------------------------------------\n",
        "--------------------------------------------------------------------------------\n",
        "New Experiment:\n",
        "  Data: rhoana\n",
        "  Slices: [70]\n",
        "  Oversampling: True\n",
        "  Merge smallest first: True\n",
        "  No. splits to uglify: 2\n",
        "  Keep zeros in segmentation: True\n",
        "VI:"
       ]
      },
      {
       "output_type": "stream",
       "stream": "stdout",
       "text": [
        "\n",
        "  N:  1\n",
        "  Min:  0.497751032147\n",
        "  Max:  0.497751032147\n",
        "  Mean:  0.497751032147\n",
        "  Median:  0.497751032147\n",
        "  Std:  0.0\n",
        "  Var:  0.0\n",
        "VI before-after:\n",
        "  N:  1\n",
        "  Min:  0.0171343770211\n",
        "  Max:  0.0171343770211\n",
        "  Mean:  0.0171343770211\n",
        "  Median:  0.0171343770211\n",
        "  Std:  0.0\n",
        "  Var:  0.0\n",
        "Surenesses:\n",
        "  N:  1\n",
        "  Min:  0.472406644095\n",
        "  Max:  0.472406644095\n",
        "  Mean:  0.472406644095\n",
        "  Median:  0.472406644095\n",
        "  Std:  0.0\n",
        "  Var:  0.0\n"
       ]
      }
     ],
     "prompt_number": 8
    },
    {
     "cell_type": "code",
     "collapsed": false,
     "input": [
      "vis, vi_diffs, surenesses, merge_pairs = Experiment.run_split_test(cnn,\n",
      "                                                                   data='rhoana',\n",
      "                                                                   oversampling=True,\n",
      "                                                                   smallest_first=False,\n",
      "                                                                   slices=[71],\n",
      "                                                                   bbox=[0,1024,0,1024])"
     ],
     "language": "python",
     "metadata": {},
     "outputs": [
      {
       "output_type": "stream",
       "stream": "stdout",
       "text": [
        "--------------------------------------------------------------------------------\n",
        "--------------------------------------------------------------------------------\n",
        "New Experiment:\n",
        "  Data: rhoana\n",
        "  Slices: [71]\n",
        "  Oversampling: True\n",
        "  Merge smallest first: False\n",
        "  No. splits to uglify: 2\n",
        "  Keep zeros in segmentation: True\n",
        "VI:"
       ]
      },
      {
       "output_type": "stream",
       "stream": "stdout",
       "text": [
        "\n",
        "  N:  1\n",
        "  Min:  0.49239391932\n",
        "  Max:  0.49239391932\n",
        "  Mean:  0.49239391932\n",
        "  Median:  0.49239391932\n",
        "  Std:  0.0\n",
        "  Var:  0.0\n",
        "VI before-after:\n",
        "  N:  1\n",
        "  Min:  0.0357050297546\n",
        "  Max:  0.0357050297546\n",
        "  Mean:  0.0357050297546\n",
        "  Median:  0.0357050297546\n",
        "  Std:  0.0\n",
        "  Var:  0.0\n",
        "Surenesses:\n",
        "  N:  1\n",
        "  Min:  0.284576156021\n",
        "  Max:  0.284576156021\n",
        "  Mean:  0.284576156021\n",
        "  Median:  0.284576156021\n",
        "  Std:  0.0\n",
        "  Var:  0.0\n"
       ]
      }
     ],
     "prompt_number": 10
    },
    {
     "cell_type": "code",
     "collapsed": false,
     "input": [],
     "language": "python",
     "metadata": {},
     "outputs": []
    }
   ],
   "metadata": {}
  }
 ]
}