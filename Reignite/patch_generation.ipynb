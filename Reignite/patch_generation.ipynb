{
 "metadata": {
  "name": "",
  "signature": "sha256:a9e08868fb15bc9f70019683b07e07e25e8b0f827d105b0e7529894f2d793639"
 },
 "nbformat": 3,
 "nbformat_minor": 0,
 "worksheets": [
  {
   "cells": [
    {
     "cell_type": "code",
     "collapsed": false,
     "input": [
      "%load_ext autoreload\n",
      "%autoreload 2\n",
      "\n",
      "import os\n",
      "import numpy as np\n",
      "import time\n",
      "\n",
      "from util import Util\n",
      "from generator import Generator"
     ],
     "language": "python",
     "metadata": {},
     "outputs": [
      {
       "output_type": "stream",
       "stream": "stdout",
       "text": [
        "The autoreload extension is already loaded. To reload it, use:\n",
        "  %reload_ext autoreload\n"
       ]
      }
     ],
     "prompt_number": 9
    },
    {
     "cell_type": "code",
     "collapsed": false,
     "input": [
      "\n",
      "DATA_PATH = '/Volumes/DATA1/EMQM_DATA/ac3x75/'\n",
      "GOLD_PATH = os.path.join(DATA_PATH,'gold/')\n",
      "IMAGE_PATH = os.path.join(DATA_PATH,'input/')\n",
      "PROB_PATH = os.path.join(DATA_PATH,'prob/')\n",
      "PATCH_PATH = os.path.join(DATA_PATH,'patches_4th_100k/')\n",
      "\n"
     ],
     "language": "python",
     "metadata": {},
     "outputs": [],
     "prompt_number": 16
    },
    {
     "cell_type": "code",
     "collapsed": false,
     "input": [
      "def generate_patches(_type, start_slice, end_slice, count, filename):\n",
      "\n",
      "    #\n",
      "    # patches\n",
      "    #\n",
      "    NO_PATCHES = count\n",
      "    \n",
      "    if _type == 'split':\n",
      "        _type = Generator.generate_split_error\n",
      "        p_target = np.ones(NO_PATCHES)\n",
      "    elif _type == 'correct':\n",
      "        _type = Generator.generate_correct\n",
      "        p_target = np.zeros(NO_PATCHES)        \n",
      "\n",
      "    t0 = time.time()\n",
      "    patches = 0\n",
      "    data = []\n",
      "\n",
      "    PATCH_BYTES = 75*75\n",
      "    p_image = np.zeros((NO_PATCHES, PATCH_BYTES),dtype=np.uint8)\n",
      "    p_prob = np.zeros((NO_PATCHES, PATCH_BYTES),dtype=np.uint8)\n",
      "    p_label1 = np.zeros((NO_PATCHES, PATCH_BYTES),dtype=np.uint8)\n",
      "    p_overlap = np.zeros((NO_PATCHES, PATCH_BYTES),dtype=np.uint8)\n",
      "\n",
      "    max_per_slice = int(count / (end_slice - start_slice)) + 1\n",
      "    print 'Max per slice', max_per_slice\n",
      "\n",
      "    for z in range(start_slice, end_slice):\n",
      "\n",
      "        print 'working on slice', z\n",
      "        input_image, input_prob, input_gold, input_rhoana = Util.read_section(str(z).zfill(2), keep_zeros=True)\n",
      "\n",
      "        slice_counter = 0\n",
      "\n",
      "        for s in _type(input_image, input_prob, input_gold):\n",
      "\n",
      "            slice_counter += 1\n",
      "\n",
      "            patches += 1\n",
      "\n",
      "            if patches >= NO_PATCHES:\n",
      "                break            \n",
      "\n",
      "            if slice_counter >= max_per_slice:\n",
      "                break\n",
      "\n",
      "            p_image[patches] = s['image'].ravel()\n",
      "            p_prob[patches] = s['prob'].ravel()\n",
      "            p_label1[patches] = s['binary1'].ravel()\n",
      "            p_overlap[patches] = s['overlap'].ravel()\n",
      "\n",
      "\n",
      "\n",
      "            t1 = time.time()\n",
      "            total = t1-t0\n",
      "\n",
      "\n",
      "            if patches % 1000 == 0:\n",
      "                print 'Another 1000 generated after',total,'seconds'    \n",
      "\n",
      "        if patches >= NO_PATCHES:\n",
      "            break         \n",
      "            \n",
      "    print total, 'seconds for', patches, _type, 'patches'\n",
      "    \n",
      "    return p_image, p_prob, p_label1, p_overlap, p_target\n",
      "\n",
      "def shuffle_in_unison_inplace(a, b, c, d, e):\n",
      "    assert len(a) == len(b)\n",
      "    p = np.random.permutation(len(a))\n",
      "    return a[p], b[p], c[p], d[p], e[p]\n",
      "\n",
      "def run(start_slice, end_slice, count, filename):\n",
      "    \n",
      "    if not os.path.exists(PATCH_PATH):\n",
      "        os.makedirs(PATCH_PATH)\n",
      "    \n",
      "    correct = generate_patches('correct', start_slice, end_slice, count, filename)\n",
      "    split = generate_patches('split', start_slice, end_slice, count, filename)\n",
      "    \n",
      "    # concatenate arrays\n",
      "    combined_images = np.concatenate((correct[0], split[0]))\n",
      "    combined_probs = np.concatenate((correct[1], split[1]))\n",
      "    combined_label1s = np.concatenate((correct[2], split[2]))\n",
      "    combined_overlaps = np.concatenate((correct[3], split[3]))\n",
      "    combined_targets = np.concatenate((correct[4], split[4]))\n",
      "    \n",
      "    shuffled = shuffle_in_unison_inplace(combined_images, combined_probs, combined_label1s, combined_overlaps, combined_targets)\n",
      "    \n",
      "    print 'saving..'\n",
      "    np.savez(PATCH_PATH+filename+'.npz', image=shuffled[0], prob=shuffled[1], binary1=shuffled[2], overlap=shuffled[3])\n",
      "    np.savez(PATCH_PATH+filename+'_targets.npz', targets=shuffled[4])\n",
      "    print 'Done!'\n",
      "    \n",
      "    #return correct, split, shuffled\n"
     ],
     "language": "python",
     "metadata": {},
     "outputs": [],
     "prompt_number": 14
    },
    {
     "cell_type": "code",
     "collapsed": false,
     "input": [
      "run(0, 65, 100000, 'train')\n",
      "run(65, 70, 10000, 'val')\n",
      "run(70, 75, 10000, 'test')"
     ],
     "language": "python",
     "metadata": {},
     "outputs": [
      {
       "output_type": "stream",
       "stream": "stdout",
       "text": [
        "Max per slice 1539\n",
        "working on slice 0\n",
        "Another 1000 generated after"
       ]
      }
     ]
    },
    {
     "cell_type": "code",
     "collapsed": false,
     "input": [],
     "language": "python",
     "metadata": {},
     "outputs": []
    }
   ],
   "metadata": {}
  }
 ]
}