{
 "metadata": {
  "name": "",
  "signature": "sha256:b69b1a49af4dac8fd863cfd0c5a1ad0fc3f7ddc5ebbe8e23acda372cd2357a6b"
 },
 "nbformat": 3,
 "nbformat_minor": 0,
 "worksheets": [
  {
   "cells": [
    {
     "cell_type": "code",
     "collapsed": false,
     "input": [
      "%load_ext autoreload\n",
      "%autoreload 2\n",
      "\n",
      "import os\n",
      "import numpy as np\n",
      "import time\n",
      "\n",
      "from util import Util\n",
      "from generator import Generator"
     ],
     "language": "python",
     "metadata": {},
     "outputs": [
      {
       "output_type": "stream",
       "stream": "stdout",
       "text": [
        "The autoreload extension is already loaded. To reload it, use:\n",
        "  %reload_ext autoreload\n"
       ]
      }
     ],
     "prompt_number": 9
    },
    {
     "cell_type": "code",
     "collapsed": false,
     "input": [
      "\n",
      "DATA_PATH = '/Volumes/DATA1/EMQM_DATA/ac3x75/'\n",
      "GOLD_PATH = os.path.join(DATA_PATH,'gold/')\n",
      "IMAGE_PATH = os.path.join(DATA_PATH,'input/')\n",
      "PROB_PATH = os.path.join(DATA_PATH,'prob/')\n",
      "PATCH_PATH = os.path.join(DATA_PATH,'patches_4th_100k/')\n",
      "\n"
     ],
     "language": "python",
     "metadata": {},
     "outputs": [],
     "prompt_number": 16
    },
    {
     "cell_type": "code",
     "collapsed": false,
     "input": [
      "def generate_patches(_type, start_slice, end_slice, count, filename):\n",
      "\n",
      "    #\n",
      "    # patches\n",
      "    #\n",
      "    NO_PATCHES = count\n",
      "    \n",
      "    if _type == 'split':\n",
      "        _type = Generator.generate_split_error\n",
      "        p_target = np.ones(NO_PATCHES)\n",
      "    elif _type == 'correct':\n",
      "        _type = Generator.generate_correct\n",
      "        p_target = np.zeros(NO_PATCHES)        \n",
      "\n",
      "    t0 = time.time()\n",
      "    patches = 0\n",
      "    data = []\n",
      "\n",
      "    PATCH_BYTES = 75*75\n",
      "    p_image = np.zeros((NO_PATCHES, PATCH_BYTES),dtype=np.uint8)\n",
      "    p_prob = np.zeros((NO_PATCHES, PATCH_BYTES),dtype=np.uint8)\n",
      "    p_label1 = np.zeros((NO_PATCHES, PATCH_BYTES),dtype=np.uint8)\n",
      "    p_overlap = np.zeros((NO_PATCHES, PATCH_BYTES),dtype=np.uint8)\n",
      "\n",
      "    max_per_slice = int(count / (end_slice - start_slice)) + 1\n",
      "    print 'Max per slice', max_per_slice\n",
      "\n",
      "    for z in range(start_slice, end_slice):\n",
      "\n",
      "        print 'working on slice', z\n",
      "        input_image, input_prob, input_gold, input_rhoana = Util.read_section(str(z).zfill(2), keep_zeros=True)\n",
      "\n",
      "        slice_counter = 0\n",
      "\n",
      "        for s in _type(input_image, input_prob, input_gold):\n",
      "\n",
      "            slice_counter += 1\n",
      "\n",
      "            patches += 1\n",
      "\n",
      "            if patches >= NO_PATCHES:\n",
      "                break            \n",
      "\n",
      "            if slice_counter >= max_per_slice:\n",
      "                break\n",
      "\n",
      "            p_image[patches] = s['image'].ravel()\n",
      "            p_prob[patches] = s['prob'].ravel()\n",
      "            p_label1[patches] = s['binary1'].ravel()\n",
      "            p_overlap[patches] = s['overlap'].ravel()\n",
      "\n",
      "\n",
      "\n",
      "            t1 = time.time()\n",
      "            total = t1-t0\n",
      "\n",
      "\n",
      "            if patches % 1000 == 0:\n",
      "                print 'Another 1000 generated after',total,'seconds'    \n",
      "\n",
      "        if patches >= NO_PATCHES:\n",
      "            break         \n",
      "            \n",
      "    print total, 'seconds for', patches, _type, 'patches'\n",
      "    \n",
      "    return p_image, p_prob, p_label1, p_overlap, p_target\n",
      "\n",
      "def shuffle_in_unison_inplace(a, b, c, d, e):\n",
      "    assert len(a) == len(b)\n",
      "    p = np.random.permutation(len(a))\n",
      "    return a[p], b[p], c[p], d[p], e[p]\n",
      "\n",
      "def run(start_slice, end_slice, count, filename):\n",
      "    \n",
      "    if not os.path.exists(PATCH_PATH):\n",
      "        os.makedirs(PATCH_PATH)\n",
      "    \n",
      "    correct = generate_patches('correct', start_slice, end_slice, count, filename)\n",
      "    split = generate_patches('split', start_slice, end_slice, count, filename)\n",
      "    \n",
      "    # concatenate arrays\n",
      "    combined_images = np.concatenate((correct[0], split[0]))\n",
      "    combined_probs = np.concatenate((correct[1], split[1]))\n",
      "    combined_label1s = np.concatenate((correct[2], split[2]))\n",
      "    combined_overlaps = np.concatenate((correct[3], split[3]))\n",
      "    combined_targets = np.concatenate((correct[4], split[4]))\n",
      "    \n",
      "    shuffled = shuffle_in_unison_inplace(combined_images, combined_probs, combined_label1s, combined_overlaps, combined_targets)\n",
      "    \n",
      "    print 'saving..'\n",
      "    np.savez(PATCH_PATH+filename+'.npz', image=shuffled[0], prob=shuffled[1], binary1=shuffled[2], overlap=shuffled[3])\n",
      "    np.savez(PATCH_PATH+filename+'_targets.npz', targets=shuffled[4])\n",
      "    print 'Done!'\n",
      "    \n",
      "    #return correct, split, shuffled\n"
     ],
     "language": "python",
     "metadata": {},
     "outputs": [],
     "prompt_number": 14
    },
    {
     "cell_type": "code",
     "collapsed": false,
     "input": [
      "run(0, 65, 100000, 'train')\n",
      "run(65, 70, 10000, 'val')\n",
      "run(70, 75, 10000, 'test')"
     ],
     "language": "python",
     "metadata": {},
     "outputs": [
      {
       "output_type": "stream",
       "stream": "stdout",
       "text": [
        "Max per slice 1539\n",
        "working on slice 0\n",
        "Another 1000 generated after"
       ]
      },
      {
       "output_type": "stream",
       "stream": "stdout",
       "text": [
        " 33.6362719536 seconds\n",
        "working on slice"
       ]
      },
      {
       "output_type": "stream",
       "stream": "stdout",
       "text": [
        " 1\n",
        "Another 1000 generated after"
       ]
      },
      {
       "output_type": "stream",
       "stream": "stdout",
       "text": [
        " 68.3310890198 seconds\n",
        "Another 1000 generated after"
       ]
      },
      {
       "output_type": "stream",
       "stream": "stdout",
       "text": [
        " 108.386903048 seconds\n",
        "working on slice"
       ]
      },
      {
       "output_type": "stream",
       "stream": "stdout",
       "text": [
        " 2\n",
        "Another 1000 generated after"
       ]
      },
      {
       "output_type": "stream",
       "stream": "stdout",
       "text": [
        " 141.514722109 seconds\n",
        "working on slice"
       ]
      },
      {
       "output_type": "stream",
       "stream": "stdout",
       "text": [
        " 3\n",
        "Another 1000 generated after"
       ]
      },
      {
       "output_type": "stream",
       "stream": "stdout",
       "text": [
        " 175.547963142 seconds\n",
        "Another 1000 generated after"
       ]
      },
      {
       "output_type": "stream",
       "stream": "stdout",
       "text": [
        " 208.263880968 seconds\n",
        "working on slice"
       ]
      },
      {
       "output_type": "stream",
       "stream": "stdout",
       "text": [
        " 4\n",
        "Another 1000 generated after"
       ]
      },
      {
       "output_type": "stream",
       "stream": "stdout",
       "text": [
        " 242.46230793 seconds\n",
        "working on slice"
       ]
      },
      {
       "output_type": "stream",
       "stream": "stdout",
       "text": [
        " 5\n",
        "Another 1000 generated after"
       ]
      },
      {
       "output_type": "stream",
       "stream": "stdout",
       "text": [
        " 277.025316954 seconds\n",
        "Another 1000 generated after"
       ]
      },
      {
       "output_type": "stream",
       "stream": "stdout",
       "text": [
        " 312.654374123 seconds\n",
        "working on slice"
       ]
      },
      {
       "output_type": "stream",
       "stream": "stdout",
       "text": [
        " 6\n",
        "Another 1000 generated after"
       ]
      },
      {
       "output_type": "stream",
       "stream": "stdout",
       "text": [
        " 346.494711161 seconds\n",
        "working on slice"
       ]
      },
      {
       "output_type": "stream",
       "stream": "stdout",
       "text": [
        " 7\n",
        "Another 1000 generated after"
       ]
      },
      {
       "output_type": "stream",
       "stream": "stdout",
       "text": [
        " 379.077204943 seconds\n",
        "Another 1000 generated after"
       ]
      },
      {
       "output_type": "stream",
       "stream": "stdout",
       "text": [
        " 417.387103081 seconds\n",
        "working on slice"
       ]
      },
      {
       "output_type": "stream",
       "stream": "stdout",
       "text": [
        " 8\n",
        "Another 1000 generated after"
       ]
      },
      {
       "output_type": "stream",
       "stream": "stdout",
       "text": [
        " 459.138997078 seconds\n",
        "working on slice"
       ]
      },
      {
       "output_type": "stream",
       "stream": "stdout",
       "text": [
        " 9\n",
        "Another 1000 generated after"
       ]
      },
      {
       "output_type": "stream",
       "stream": "stdout",
       "text": [
        " 497.172493935 seconds\n",
        "Another 1000 generated after"
       ]
      },
      {
       "output_type": "stream",
       "stream": "stdout",
       "text": [
        " 537.058094978 seconds\n",
        "working on slice"
       ]
      },
      {
       "output_type": "stream",
       "stream": "stdout",
       "text": [
        " 10\n",
        "Another 1000 generated after"
       ]
      },
      {
       "output_type": "stream",
       "stream": "stdout",
       "text": [
        " 575.852185011 seconds\n",
        "working on slice"
       ]
      },
      {
       "output_type": "stream",
       "stream": "stdout",
       "text": [
        " 11\n",
        "Another 1000 generated after"
       ]
      },
      {
       "output_type": "stream",
       "stream": "stdout",
       "text": [
        " 615.006340027 seconds\n",
        "Another 1000 generated after"
       ]
      },
      {
       "output_type": "stream",
       "stream": "stdout",
       "text": [
        " 651.429582119 seconds\n",
        "working on slice"
       ]
      },
      {
       "output_type": "stream",
       "stream": "stdout",
       "text": [
        " 12\n",
        "Another 1000 generated after"
       ]
      },
      {
       "output_type": "stream",
       "stream": "stdout",
       "text": [
        " 685.394160986 seconds\n",
        "Another 1000 generated after"
       ]
      },
      {
       "output_type": "stream",
       "stream": "stdout",
       "text": [
        " 724.307480097 seconds\n",
        "working on slice"
       ]
      },
      {
       "output_type": "stream",
       "stream": "stdout",
       "text": [
        " 13\n",
        "Another 1000 generated after"
       ]
      },
      {
       "output_type": "stream",
       "stream": "stdout",
       "text": [
        " 766.577702045 seconds\n",
        "working on slice"
       ]
      },
      {
       "output_type": "stream",
       "stream": "stdout",
       "text": [
        " 14\n",
        "Another 1000 generated after"
       ]
      },
      {
       "output_type": "stream",
       "stream": "stdout",
       "text": [
        " 797.852513075 seconds\n",
        "Another 1000 generated after"
       ]
      },
      {
       "output_type": "stream",
       "stream": "stdout",
       "text": [
        " 834.950389147 seconds\n",
        "working on slice"
       ]
      },
      {
       "output_type": "stream",
       "stream": "stdout",
       "text": [
        " 15\n",
        "Another 1000 generated after"
       ]
      },
      {
       "output_type": "stream",
       "stream": "stdout",
       "text": [
        " 867.070436954 seconds\n",
        "working on slice"
       ]
      },
      {
       "output_type": "stream",
       "stream": "stdout",
       "text": [
        " 16\n",
        "Another 1000 generated after"
       ]
      },
      {
       "output_type": "stream",
       "stream": "stdout",
       "text": [
        " 907.404222965 seconds\n",
        "Another 1000 generated after"
       ]
      },
      {
       "output_type": "stream",
       "stream": "stdout",
       "text": [
        " 945.521654129 seconds\n",
        "working on slice"
       ]
      },
      {
       "output_type": "stream",
       "stream": "stdout",
       "text": [
        " 17\n",
        "Another 1000 generated after"
       ]
      },
      {
       "output_type": "stream",
       "stream": "stdout",
       "text": [
        " 978.120736122 seconds\n",
        "working on slice"
       ]
      },
      {
       "output_type": "stream",
       "stream": "stdout",
       "text": [
        " 18\n",
        "Another 1000 generated after"
       ]
      },
      {
       "output_type": "stream",
       "stream": "stdout",
       "text": [
        " 1013.40074611 seconds\n",
        "Another 1000 generated after"
       ]
      },
      {
       "output_type": "stream",
       "stream": "stdout",
       "text": [
        " 1049.109339 seconds\n",
        "working on slice"
       ]
      },
      {
       "output_type": "stream",
       "stream": "stdout",
       "text": [
        " 19\n",
        "Another 1000 generated after"
       ]
      },
      {
       "output_type": "stream",
       "stream": "stdout",
       "text": [
        " 1085.43482304 seconds\n",
        "working on slice"
       ]
      },
      {
       "output_type": "stream",
       "stream": "stdout",
       "text": [
        " 20\n",
        "Another 1000 generated after"
       ]
      },
      {
       "output_type": "stream",
       "stream": "stdout",
       "text": [
        " 1120.03097105 seconds\n",
        "Another 1000 generated after"
       ]
      },
      {
       "output_type": "stream",
       "stream": "stdout",
       "text": [
        " 1146.79731512 seconds\n",
        "working on slice"
       ]
      },
      {
       "output_type": "stream",
       "stream": "stdout",
       "text": [
        " 21\n",
        "Another 1000 generated after"
       ]
      },
      {
       "output_type": "stream",
       "stream": "stdout",
       "text": [
        " 1181.96024013 seconds\n",
        "working on slice"
       ]
      },
      {
       "output_type": "stream",
       "stream": "stdout",
       "text": [
        " 22\n",
        "Another 1000 generated after"
       ]
      },
      {
       "output_type": "stream",
       "stream": "stdout",
       "text": [
        " 1218.31605911 seconds\n",
        "Another 1000 generated after"
       ]
      },
      {
       "output_type": "stream",
       "stream": "stdout",
       "text": [
        " 1251.39254999 seconds\n",
        "working on slice"
       ]
      },
      {
       "output_type": "stream",
       "stream": "stdout",
       "text": [
        " 23\n",
        "Another 1000 generated after"
       ]
      },
      {
       "output_type": "stream",
       "stream": "stdout",
       "text": [
        " 1288.25319695 seconds\n",
        "working on slice"
       ]
      },
      {
       "output_type": "stream",
       "stream": "stdout",
       "text": [
        " 24\n",
        "Another 1000 generated after"
       ]
      },
      {
       "output_type": "stream",
       "stream": "stdout",
       "text": [
        " 1318.07019901 seconds\n",
        "Another 1000 generated after"
       ]
      },
      {
       "output_type": "stream",
       "stream": "stdout",
       "text": [
        " 1350.58889699 seconds\n",
        "working on slice"
       ]
      },
      {
       "output_type": "stream",
       "stream": "stdout",
       "text": [
        " 25\n",
        "Another 1000 generated after"
       ]
      },
      {
       "output_type": "stream",
       "stream": "stdout",
       "text": [
        " 1390.57561111 seconds\n",
        "Another 1000 generated after"
       ]
      },
      {
       "output_type": "stream",
       "stream": "stdout",
       "text": [
        " 1424.30696297 seconds\n",
        "working on slice 26\n",
        "Another 1000 generated after"
       ]
      },
      {
       "output_type": "stream",
       "stream": "stdout",
       "text": [
        " 1460.49521613 seconds\n",
        "working on slice"
       ]
      },
      {
       "output_type": "stream",
       "stream": "stdout",
       "text": [
        " 27\n",
        "Another 1000 generated after"
       ]
      },
      {
       "output_type": "stream",
       "stream": "stdout",
       "text": [
        " 1496.8789351 seconds\n",
        "Another 1000 generated after"
       ]
      },
      {
       "output_type": "stream",
       "stream": "stdout",
       "text": [
        " 1532.78979301 seconds\n",
        "working on slice"
       ]
      },
      {
       "output_type": "stream",
       "stream": "stdout",
       "text": [
        " 28\n",
        "Another 1000 generated after"
       ]
      },
      {
       "output_type": "stream",
       "stream": "stdout",
       "text": [
        " 1562.76127815 seconds\n",
        "working on slice"
       ]
      },
      {
       "output_type": "stream",
       "stream": "stdout",
       "text": [
        " 29\n",
        "Another 1000 generated after"
       ]
      },
      {
       "output_type": "stream",
       "stream": "stdout",
       "text": [
        " 1601.77044511 seconds\n",
        "Another 1000 generated after"
       ]
      },
      {
       "output_type": "stream",
       "stream": "stdout",
       "text": [
        " 1641.27657294 seconds\n",
        "working on slice"
       ]
      },
      {
       "output_type": "stream",
       "stream": "stdout",
       "text": [
        " 30\n",
        "Another 1000 generated after"
       ]
      },
      {
       "output_type": "stream",
       "stream": "stdout",
       "text": [
        " 1682.89433002 seconds\n",
        "working on slice"
       ]
      },
      {
       "output_type": "stream",
       "stream": "stdout",
       "text": [
        " 31\n",
        "Another 1000 generated after"
       ]
      },
      {
       "output_type": "stream",
       "stream": "stdout",
       "text": [
        " 1721.2327621 seconds\n",
        "Another 1000 generated after"
       ]
      },
      {
       "output_type": "stream",
       "stream": "stdout",
       "text": [
        " 1756.09661293 seconds\n",
        "working on slice"
       ]
      },
      {
       "output_type": "stream",
       "stream": "stdout",
       "text": [
        " 32\n",
        "Another 1000 generated after"
       ]
      },
      {
       "output_type": "stream",
       "stream": "stdout",
       "text": [
        " 1785.28904104 seconds\n",
        "working on slice"
       ]
      },
      {
       "output_type": "stream",
       "stream": "stdout",
       "text": [
        " 33\n",
        "Another 1000 generated after"
       ]
      },
      {
       "output_type": "stream",
       "stream": "stdout",
       "text": [
        " 1823.50230503 seconds\n",
        "Another 1000 generated after"
       ]
      },
      {
       "output_type": "stream",
       "stream": "stdout",
       "text": [
        " 1863.02241397 seconds\n",
        "working on slice"
       ]
      },
      {
       "output_type": "stream",
       "stream": "stdout",
       "text": [
        " 34\n",
        "Another 1000 generated after"
       ]
      },
      {
       "output_type": "stream",
       "stream": "stdout",
       "text": [
        " 1895.36350298 seconds\n",
        "working on slice"
       ]
      },
      {
       "output_type": "stream",
       "stream": "stdout",
       "text": [
        " 35\n",
        "Another 1000 generated after"
       ]
      },
      {
       "output_type": "stream",
       "stream": "stdout",
       "text": [
        " 1922.22084808 seconds\n",
        "Another 1000 generated after"
       ]
      },
      {
       "output_type": "stream",
       "stream": "stdout",
       "text": [
        " 1955.14208198 seconds\n",
        "working on slice"
       ]
      },
      {
       "output_type": "stream",
       "stream": "stdout",
       "text": [
        " 36\n",
        "Another 1000 generated after"
       ]
      },
      {
       "output_type": "stream",
       "stream": "stdout",
       "text": [
        " 1990.33864307 seconds\n",
        "working on slice"
       ]
      },
      {
       "output_type": "stream",
       "stream": "stdout",
       "text": [
        " 37\n",
        "Another 1000 generated after"
       ]
      },
      {
       "output_type": "stream",
       "stream": "stdout",
       "text": [
        " 2028.25873899 seconds\n",
        "Another 1000 generated after"
       ]
      },
      {
       "output_type": "stream",
       "stream": "stdout",
       "text": [
        " 2063.16012907 seconds\n",
        "working on slice"
       ]
      },
      {
       "output_type": "stream",
       "stream": "stdout",
       "text": [
        " 38\n",
        "Another 1000 generated after"
       ]
      },
      {
       "output_type": "stream",
       "stream": "stdout",
       "text": [
        " 2105.94683409 seconds\n",
        "Another 1000 generated after"
       ]
      },
      {
       "output_type": "stream",
       "stream": "stdout",
       "text": [
        " 2138.3093791 seconds\n",
        "working on slice"
       ]
      },
      {
       "output_type": "stream",
       "stream": "stdout",
       "text": [
        " 39\n",
        "Another 1000 generated after"
       ]
      },
      {
       "output_type": "stream",
       "stream": "stdout",
       "text": [
        " 2175.02835798 seconds\n",
        "working on slice"
       ]
      },
      {
       "output_type": "stream",
       "stream": "stdout",
       "text": [
        " 40\n",
        "Another 1000 generated after"
       ]
      },
      {
       "output_type": "stream",
       "stream": "stdout",
       "text": [
        " 2206.18675208 seconds\n",
        "Another 1000 generated after"
       ]
      },
      {
       "output_type": "stream",
       "stream": "stdout",
       "text": [
        " 2237.20641303 seconds\n",
        "working on slice"
       ]
      },
      {
       "output_type": "stream",
       "stream": "stdout",
       "text": [
        " 41\n",
        "Another 1000 generated after"
       ]
      },
      {
       "output_type": "stream",
       "stream": "stdout",
       "text": [
        " 2275.57009411 seconds\n",
        "working on slice"
       ]
      },
      {
       "output_type": "stream",
       "stream": "stdout",
       "text": [
        " 42\n",
        "Another 1000 generated after"
       ]
      },
      {
       "output_type": "stream",
       "stream": "stdout",
       "text": [
        " 2309.82276893 seconds\n",
        "Another 1000 generated after"
       ]
      },
      {
       "output_type": "stream",
       "stream": "stdout",
       "text": [
        " 2341.10365915 seconds\n",
        "working on slice"
       ]
      },
      {
       "output_type": "stream",
       "stream": "stdout",
       "text": [
        " 43\n",
        "Another 1000 generated after"
       ]
      },
      {
       "output_type": "stream",
       "stream": "stdout",
       "text": [
        " 2385.02292895 seconds\n",
        "working on slice"
       ]
      },
      {
       "output_type": "stream",
       "stream": "stdout",
       "text": [
        " 44\n",
        "Another 1000 generated after"
       ]
      },
      {
       "output_type": "stream",
       "stream": "stdout",
       "text": [
        " 2422.41978192 seconds\n",
        "Another 1000 generated after"
       ]
      },
      {
       "output_type": "stream",
       "stream": "stdout",
       "text": [
        " 2455.07667398 seconds\n",
        "working on slice"
       ]
      },
      {
       "output_type": "stream",
       "stream": "stdout",
       "text": [
        " 45\n",
        "Another 1000 generated after"
       ]
      },
      {
       "output_type": "stream",
       "stream": "stdout",
       "text": [
        " 2484.41519213 seconds\n",
        "working on slice"
       ]
      },
      {
       "output_type": "stream",
       "stream": "stdout",
       "text": [
        " 46\n",
        "Another 1000 generated after"
       ]
      },
      {
       "output_type": "stream",
       "stream": "stdout",
       "text": [
        " 2515.46936297 seconds\n",
        "Another 1000 generated after"
       ]
      },
      {
       "output_type": "stream",
       "stream": "stdout",
       "text": [
        " 2548.46377707 seconds\n",
        "working on slice"
       ]
      },
      {
       "output_type": "stream",
       "stream": "stdout",
       "text": [
        " 47\n",
        "Another 1000 generated after"
       ]
      },
      {
       "output_type": "stream",
       "stream": "stdout",
       "text": [
        " 2578.73835516 seconds\n",
        "working on slice"
       ]
      },
      {
       "output_type": "stream",
       "stream": "stdout",
       "text": [
        " 48\n",
        "Another 1000 generated after"
       ]
      },
      {
       "output_type": "stream",
       "stream": "stdout",
       "text": [
        " 2611.59656215 seconds\n",
        "Another 1000 generated after"
       ]
      },
      {
       "output_type": "stream",
       "stream": "stdout",
       "text": [
        " 2641.56911898 seconds\n",
        "working on slice"
       ]
      },
      {
       "output_type": "stream",
       "stream": "stdout",
       "text": [
        " 49\n",
        "Another 1000 generated after"
       ]
      },
      {
       "output_type": "stream",
       "stream": "stdout",
       "text": [
        " 2683.89191294 seconds\n",
        "working on slice"
       ]
      },
      {
       "output_type": "stream",
       "stream": "stdout",
       "text": [
        " 50\n",
        "Another 1000 generated after"
       ]
      },
      {
       "output_type": "stream",
       "stream": "stdout",
       "text": [
        " 2711.45659304 seconds\n",
        "Another 1000 generated after"
       ]
      },
      {
       "output_type": "stream",
       "stream": "stdout",
       "text": [
        " 2745.17759705 seconds\n",
        "working on slice"
       ]
      },
      {
       "output_type": "stream",
       "stream": "stdout",
       "text": [
        " 51\n",
        "Another 1000 generated after"
       ]
      },
      {
       "output_type": "stream",
       "stream": "stdout",
       "text": [
        " 2775.85046911 seconds\n",
        "Another 1000 generated after"
       ]
      },
      {
       "output_type": "stream",
       "stream": "stdout",
       "text": [
        " 2806.98611903 seconds\n",
        "working on slice 52\n",
        "Another 1000 generated after"
       ]
      },
      {
       "output_type": "stream",
       "stream": "stdout",
       "text": [
        " 2835.48870015 seconds\n",
        "working on slice"
       ]
      },
      {
       "output_type": "stream",
       "stream": "stdout",
       "text": [
        " 53\n",
        "Another 1000 generated after"
       ]
      },
      {
       "output_type": "stream",
       "stream": "stdout",
       "text": [
        " 2865.26813507 seconds\n",
        "Another 1000 generated after"
       ]
      },
      {
       "output_type": "stream",
       "stream": "stdout",
       "text": [
        " 2893.34898114 seconds\n",
        "working on slice"
       ]
      },
      {
       "output_type": "stream",
       "stream": "stdout",
       "text": [
        " 54\n",
        "Another 1000 generated after"
       ]
      },
      {
       "output_type": "stream",
       "stream": "stdout",
       "text": [
        " 2925.61129999 seconds\n",
        "working on slice"
       ]
      },
      {
       "output_type": "stream",
       "stream": "stdout",
       "text": [
        " 55\n",
        "Another 1000 generated after"
       ]
      },
      {
       "output_type": "stream",
       "stream": "stdout",
       "text": [
        " 2958.81066012 seconds\n",
        "Another 1000 generated after"
       ]
      },
      {
       "output_type": "stream",
       "stream": "stdout",
       "text": [
        " 2988.92868805 seconds\n",
        "working on slice"
       ]
      },
      {
       "output_type": "stream",
       "stream": "stdout",
       "text": [
        " 56\n",
        "Another 1000 generated after"
       ]
      },
      {
       "output_type": "stream",
       "stream": "stdout",
       "text": [
        " 3025.59967899 seconds\n",
        "working on slice"
       ]
      },
      {
       "output_type": "stream",
       "stream": "stdout",
       "text": [
        " 57\n",
        "Another 1000 generated after"
       ]
      },
      {
       "output_type": "stream",
       "stream": "stdout",
       "text": [
        " 3059.29001307 seconds\n",
        "Another 1000 generated after"
       ]
      },
      {
       "output_type": "stream",
       "stream": "stdout",
       "text": [
        " 3091.29025006 seconds\n",
        "working on slice"
       ]
      },
      {
       "output_type": "stream",
       "stream": "stdout",
       "text": [
        " 58\n",
        "Another 1000 generated after"
       ]
      },
      {
       "output_type": "stream",
       "stream": "stdout",
       "text": [
        " 3127.28219795 seconds\n",
        "working on slice"
       ]
      },
      {
       "output_type": "stream",
       "stream": "stdout",
       "text": [
        " 59\n",
        "Another 1000 generated after"
       ]
      },
      {
       "output_type": "stream",
       "stream": "stdout",
       "text": [
        " 3158.96739411 seconds\n",
        "Another 1000 generated after"
       ]
      },
      {
       "output_type": "stream",
       "stream": "stdout",
       "text": [
        " 3194.59442306 seconds\n",
        "working on slice"
       ]
      },
      {
       "output_type": "stream",
       "stream": "stdout",
       "text": [
        " 60\n",
        "Another 1000 generated after"
       ]
      },
      {
       "output_type": "stream",
       "stream": "stdout",
       "text": [
        " 3236.13917494 seconds\n",
        "working on slice"
       ]
      },
      {
       "output_type": "stream",
       "stream": "stdout",
       "text": [
        " 61\n",
        "Another 1000 generated after"
       ]
      },
      {
       "output_type": "stream",
       "stream": "stdout",
       "text": [
        " 3268.28796411 seconds\n",
        "Another 1000 generated after"
       ]
      },
      {
       "output_type": "stream",
       "stream": "stdout",
       "text": [
        " 3301.77206898 seconds\n",
        "working on slice"
       ]
      },
      {
       "output_type": "stream",
       "stream": "stdout",
       "text": [
        " 62\n",
        "Another 1000 generated after"
       ]
      },
      {
       "output_type": "stream",
       "stream": "stdout",
       "text": [
        " 3336.32589507 seconds\n",
        "working on slice"
       ]
      },
      {
       "output_type": "stream",
       "stream": "stdout",
       "text": [
        " 63\n",
        "Another 1000 generated after"
       ]
      },
      {
       "output_type": "stream",
       "stream": "stdout",
       "text": [
        " 3370.37248111 seconds\n",
        "Another 1000 generated after"
       ]
      },
      {
       "output_type": "stream",
       "stream": "stdout",
       "text": [
        " 3405.54053497 seconds\n",
        "working on slice"
       ]
      },
      {
       "output_type": "stream",
       "stream": "stdout",
       "text": [
        " 64\n",
        "Another 1000 generated after"
       ]
      },
      {
       "output_type": "stream",
       "stream": "stdout",
       "text": [
        " 3435.71828699 seconds\n",
        "3472.86294603"
       ]
      },
      {
       "output_type": "stream",
       "stream": "stdout",
       "text": [
        " seconds for 100000 <function generate_correct at 0x1100be410> patches\n",
        "Max per slice 1539\n",
        "working on slice 0\n",
        "Another 1000 generated after"
       ]
      },
      {
       "output_type": "stream",
       "stream": "stdout",
       "text": [
        " 24.1933000088 seconds\n",
        "Caught empty.."
       ]
      },
      {
       "output_type": "stream",
       "stream": "stdout",
       "text": [
        "\n",
        "Caught empty.."
       ]
      },
      {
       "output_type": "stream",
       "stream": "stdout",
       "text": [
        "\n",
        "Caught empty.."
       ]
      },
      {
       "output_type": "stream",
       "stream": "stdout",
       "text": [
        "\n",
        "working on slice"
       ]
      },
      {
       "output_type": "stream",
       "stream": "stdout",
       "text": [
        " 1\n",
        "Another 1000 generated after"
       ]
      },
      {
       "output_type": "stream",
       "stream": "stdout",
       "text": [
        " 49.7546200752 seconds\n",
        "Caught empty.."
       ]
      },
      {
       "output_type": "stream",
       "stream": "stdout",
       "text": [
        "\n",
        "Caught empty.."
       ]
      },
      {
       "output_type": "stream",
       "stream": "stdout",
       "text": [
        "\n",
        "Caught empty.."
       ]
      },
      {
       "output_type": "stream",
       "stream": "stdout",
       "text": [
        "\n",
        "Caught empty.."
       ]
      },
      {
       "output_type": "stream",
       "stream": "stdout",
       "text": [
        "\n",
        "Caught empty..\n",
        "Caught empty.."
       ]
      },
      {
       "output_type": "stream",
       "stream": "stdout",
       "text": [
        "\n",
        "Caught empty..\n",
        "Caught empty..\n",
        "Another 1000 generated after"
       ]
      },
      {
       "output_type": "stream",
       "stream": "stdout",
       "text": [
        " 71.7852549553 seconds\n",
        "working on slice"
       ]
      },
      {
       "output_type": "stream",
       "stream": "stdout",
       "text": [
        " 2\n",
        "Caught empty.."
       ]
      },
      {
       "output_type": "stream",
       "stream": "stdout",
       "text": [
        "\n",
        "Caught empty..\n",
        "Caught empty..\n",
        "Another 1000 generated after"
       ]
      },
      {
       "output_type": "stream",
       "stream": "stdout",
       "text": [
        " 98.2703831196 seconds\n",
        "Caught empty.."
       ]
      },
      {
       "output_type": "stream",
       "stream": "stdout",
       "text": [
        "\n",
        "Caught empty..\n",
        "Caught empty..\n",
        "Caught empty.."
       ]
      },
      {
       "output_type": "stream",
       "stream": "stdout",
       "text": [
        "\n",
        "Caught empty.."
       ]
      },
      {
       "output_type": "stream",
       "stream": "stdout",
       "text": [
        "\n",
        "Caught empty..\n",
        "Caught empty..\n",
        "working on slice"
       ]
      },
      {
       "output_type": "stream",
       "stream": "stdout",
       "text": [
        " 3\n",
        "Caught empty.."
       ]
      },
      {
       "output_type": "stream",
       "stream": "stdout",
       "text": [
        "\n",
        "Caught empty..\n",
        "Caught empty..\n",
        "Another 1000 generated after"
       ]
      },
      {
       "output_type": "stream",
       "stream": "stdout",
       "text": [
        " 122.678324938 seconds\n",
        "Another 1000 generated after"
       ]
      },
      {
       "output_type": "stream",
       "stream": "stdout",
       "text": [
        " 142.957715988 seconds\n",
        "working on slice"
       ]
      },
      {
       "output_type": "stream",
       "stream": "stdout",
       "text": [
        " 4\n",
        "Caught empty.."
       ]
      },
      {
       "output_type": "stream",
       "stream": "stdout",
       "text": [
        "\n",
        "Another 1000 generated after"
       ]
      },
      {
       "output_type": "stream",
       "stream": "stdout",
       "text": [
        " 167.373975992 seconds\n",
        "working on slice"
       ]
      },
      {
       "output_type": "stream",
       "stream": "stdout",
       "text": [
        " 5\n",
        "Another 1000 generated after"
       ]
      },
      {
       "output_type": "stream",
       "stream": "stdout",
       "text": [
        " 189.1768291 seconds\n",
        "Caught empty.."
       ]
      },
      {
       "output_type": "stream",
       "stream": "stdout",
       "text": [
        "\n",
        "Caught empty.."
       ]
      },
      {
       "output_type": "stream",
       "stream": "stdout",
       "text": [
        "\n",
        "Caught empty..\n",
        "Caught empty.."
       ]
      },
      {
       "output_type": "stream",
       "stream": "stdout",
       "text": [
        "\n",
        "Caught empty..\n",
        "Another 1000 generated after"
       ]
      },
      {
       "output_type": "stream",
       "stream": "stdout",
       "text": [
        " 214.170995951 seconds\n",
        "working on slice"
       ]
      },
      {
       "output_type": "stream",
       "stream": "stdout",
       "text": [
        " 6\n",
        "Caught empty.."
       ]
      },
      {
       "output_type": "stream",
       "stream": "stdout",
       "text": [
        "\n",
        "Caught empty.."
       ]
      },
      {
       "output_type": "stream",
       "stream": "stdout",
       "text": [
        "\n",
        "Another 1000 generated after"
       ]
      },
      {
       "output_type": "stream",
       "stream": "stdout",
       "text": [
        " 239.146492958 seconds\n",
        "Caught empty.."
       ]
      },
      {
       "output_type": "stream",
       "stream": "stdout",
       "text": [
        "\n",
        "Caught empty.."
       ]
      },
      {
       "output_type": "stream",
       "stream": "stdout",
       "text": [
        "\n",
        "Caught empty..\n",
        "Caught empty..\n",
        "Caught empty.."
       ]
      },
      {
       "output_type": "stream",
       "stream": "stdout",
       "text": [
        "\n",
        "Caught empty..\n",
        "working on slice"
       ]
      },
      {
       "output_type": "stream",
       "stream": "stdout",
       "text": [
        " 7\n",
        "Another 1000 generated after"
       ]
      },
      {
       "output_type": "stream",
       "stream": "stdout",
       "text": [
        " 263.142409086 seconds\n",
        "Another 1000 generated after"
       ]
      },
      {
       "output_type": "stream",
       "stream": "stdout",
       "text": [
        " 286.579007149 seconds\n",
        "Caught empty.."
       ]
      },
      {
       "output_type": "stream",
       "stream": "stdout",
       "text": [
        "\n",
        "working on slice"
       ]
      },
      {
       "output_type": "stream",
       "stream": "stdout",
       "text": [
        " 8\n",
        "Caught empty.."
       ]
      },
      {
       "output_type": "stream",
       "stream": "stdout",
       "text": [
        "\n",
        "Caught empty..\n",
        "Caught empty..\n",
        "Caught empty.."
       ]
      },
      {
       "output_type": "stream",
       "stream": "stdout",
       "text": [
        "\n",
        "Caught empty..\n",
        "Caught empty.."
       ]
      },
      {
       "output_type": "stream",
       "stream": "stdout",
       "text": [
        "\n",
        "Caught empty.."
       ]
      },
      {
       "output_type": "stream",
       "stream": "stdout",
       "text": [
        "\n",
        "Caught empty.."
       ]
      },
      {
       "output_type": "stream",
       "stream": "stdout",
       "text": [
        "\n",
        "Another 1000 generated after"
       ]
      },
      {
       "output_type": "stream",
       "stream": "stdout",
       "text": [
        " 317.416218996 seconds\n",
        "Caught empty.."
       ]
      },
      {
       "output_type": "stream",
       "stream": "stdout",
       "text": [
        "\n",
        "working on slice"
       ]
      },
      {
       "output_type": "stream",
       "stream": "stdout",
       "text": [
        " 9\n",
        "Another 1000 generated after"
       ]
      },
      {
       "output_type": "stream",
       "stream": "stdout",
       "text": [
        " 346.85694313 seconds\n",
        "Caught empty.."
       ]
      },
      {
       "output_type": "stream",
       "stream": "stdout",
       "text": [
        "\n",
        "Caught empty..\n",
        "Caught empty.."
       ]
      },
      {
       "output_type": "stream",
       "stream": "stdout",
       "text": [
        "\n",
        "Caught empty.."
       ]
      },
      {
       "output_type": "stream",
       "stream": "stdout",
       "text": [
        "\n",
        "Caught empty.."
       ]
      },
      {
       "output_type": "stream",
       "stream": "stdout",
       "text": [
        "\n",
        "Caught empty..\n",
        "Caught empty..\n",
        "Another 1000 generated after"
       ]
      },
      {
       "output_type": "stream",
       "stream": "stdout",
       "text": [
        " 372.963272095 seconds\n",
        "working on slice"
       ]
      },
      {
       "output_type": "stream",
       "stream": "stdout",
       "text": [
        " 10\n",
        "Another 1000 generated after"
       ]
      },
      {
       "output_type": "stream",
       "stream": "stdout",
       "text": [
        " 395.176120043 seconds\n",
        "Caught empty.."
       ]
      },
      {
       "output_type": "stream",
       "stream": "stdout",
       "text": [
        "\n",
        "Caught empty..\n",
        "Caught empty.."
       ]
      },
      {
       "output_type": "stream",
       "stream": "stdout",
       "text": [
        "\n",
        "working on slice"
       ]
      },
      {
       "output_type": "stream",
       "stream": "stdout",
       "text": [
        " 11\n",
        "Another 1000 generated after"
       ]
      },
      {
       "output_type": "stream",
       "stream": "stdout",
       "text": [
        " 419.974732161 seconds\n",
        "Caught empty.."
       ]
      },
      {
       "output_type": "stream",
       "stream": "stdout",
       "text": [
        "\n",
        "Caught empty..\n",
        "Caught empty..\n",
        "Another 1000 generated after"
       ]
      },
      {
       "output_type": "stream",
       "stream": "stdout",
       "text": [
        " 449.617367983 seconds\n",
        "Caught empty.."
       ]
      },
      {
       "output_type": "stream",
       "stream": "stdout",
       "text": [
        "\n",
        "Caught empty.."
       ]
      },
      {
       "output_type": "stream",
       "stream": "stdout",
       "text": [
        "\n",
        "Caught empty.."
       ]
      },
      {
       "output_type": "stream",
       "stream": "stdout",
       "text": [
        "\n",
        "Caught empty.."
       ]
      },
      {
       "output_type": "stream",
       "stream": "stdout",
       "text": [
        "\n",
        "Caught empty..\n",
        "working on slice"
       ]
      },
      {
       "output_type": "stream",
       "stream": "stdout",
       "text": [
        " 12\n",
        "Caught empty.."
       ]
      },
      {
       "output_type": "stream",
       "stream": "stdout",
       "text": [
        "\n",
        "Caught empty..\n",
        "Caught empty..\n",
        "Another 1000 generated after"
       ]
      },
      {
       "output_type": "stream",
       "stream": "stdout",
       "text": [
        " 477.912421942 seconds\n",
        "Caught empty.."
       ]
      },
      {
       "output_type": "stream",
       "stream": "stdout",
       "text": [
        "\n",
        "Caught empty.."
       ]
      },
      {
       "output_type": "stream",
       "stream": "stdout",
       "text": [
        "\n",
        "Caught empty..\n",
        "Caught empty.."
       ]
      },
      {
       "output_type": "stream",
       "stream": "stdout",
       "text": [
        "\n",
        "Caught empty.."
       ]
      },
      {
       "output_type": "stream",
       "stream": "stdout",
       "text": [
        "\n",
        "Caught empty..\n",
        "Another 1000 generated after"
       ]
      },
      {
       "output_type": "stream",
       "stream": "stdout",
       "text": [
        " 502.001132965 seconds\n",
        "working on slice 13\n",
        "Caught empty.."
       ]
      },
      {
       "output_type": "stream",
       "stream": "stdout",
       "text": [
        "\n",
        "Caught empty..\n",
        "Caught empty..\n",
        "Caught empty.."
       ]
      },
      {
       "output_type": "stream",
       "stream": "stdout",
       "text": [
        "\n",
        "Another 1000 generated after"
       ]
      },
      {
       "output_type": "stream",
       "stream": "stdout",
       "text": [
        " 523.574353933 seconds\n",
        "Caught empty.."
       ]
      },
      {
       "output_type": "stream",
       "stream": "stdout",
       "text": [
        "\n",
        "Caught empty.."
       ]
      },
      {
       "output_type": "stream",
       "stream": "stdout",
       "text": [
        "\n",
        "Caught empty.."
       ]
      },
      {
       "output_type": "stream",
       "stream": "stdout",
       "text": [
        "\n",
        "Caught empty..\n",
        "Caught empty..\n",
        "Caught empty.."
       ]
      },
      {
       "output_type": "stream",
       "stream": "stdout",
       "text": [
        "\n",
        "Caught empty.."
       ]
      },
      {
       "output_type": "stream",
       "stream": "stdout",
       "text": [
        "\n",
        "Caught empty.."
       ]
      },
      {
       "output_type": "stream",
       "stream": "stdout",
       "text": [
        "\n",
        "working on slice"
       ]
      },
      {
       "output_type": "stream",
       "stream": "stdout",
       "text": [
        " 14\n",
        "Another 1000 generated after"
       ]
      },
      {
       "output_type": "stream",
       "stream": "stdout",
       "text": [
        " 549.671780109 seconds\n",
        "Another 1000 generated after"
       ]
      },
      {
       "output_type": "stream",
       "stream": "stdout",
       "text": [
        " 569.056595087 seconds\n",
        "working on slice"
       ]
      },
      {
       "output_type": "stream",
       "stream": "stdout",
       "text": [
        " 15\n",
        "Caught empty.."
       ]
      },
      {
       "output_type": "stream",
       "stream": "stdout",
       "text": [
        "\n",
        "Caught empty..\n",
        "Caught empty..\n",
        "Caught empty.."
       ]
      },
      {
       "output_type": "stream",
       "stream": "stdout",
       "text": [
        "\n",
        "Caught empty.."
       ]
      },
      {
       "output_type": "stream",
       "stream": "stdout",
       "text": [
        "\n",
        "Caught empty.."
       ]
      },
      {
       "output_type": "stream",
       "stream": "stdout",
       "text": [
        "\n",
        "Another 1000 generated after"
       ]
      },
      {
       "output_type": "stream",
       "stream": "stdout",
       "text": [
        " 594.55847311 seconds\n",
        "Caught empty.."
       ]
      },
      {
       "output_type": "stream",
       "stream": "stdout",
       "text": [
        "\n",
        "Caught empty.."
       ]
      },
      {
       "output_type": "stream",
       "stream": "stdout",
       "text": [
        "\n",
        "working on slice"
       ]
      },
      {
       "output_type": "stream",
       "stream": "stdout",
       "text": [
        " 16\n",
        "Caught empty.."
       ]
      },
      {
       "output_type": "stream",
       "stream": "stdout",
       "text": [
        "\n",
        "Caught empty..\n",
        "Another 1000 generated after"
       ]
      },
      {
       "output_type": "stream",
       "stream": "stdout",
       "text": [
        " 617.809281111 seconds\n",
        "Caught empty.."
       ]
      },
      {
       "output_type": "stream",
       "stream": "stdout",
       "text": [
        "\n",
        "Caught empty.."
       ]
      },
      {
       "output_type": "stream",
       "stream": "stdout",
       "text": [
        "\n",
        "Caught empty.."
       ]
      },
      {
       "output_type": "stream",
       "stream": "stdout",
       "text": [
        "\n",
        "Another 1000 generated after"
       ]
      },
      {
       "output_type": "stream",
       "stream": "stdout",
       "text": [
        " 639.768878937 seconds\n",
        "working on slice"
       ]
      },
      {
       "output_type": "stream",
       "stream": "stdout",
       "text": [
        " 17\n",
        "Another 1000 generated after"
       ]
      },
      {
       "output_type": "stream",
       "stream": "stdout",
       "text": [
        " 662.78206706 seconds\n",
        "working on slice"
       ]
      },
      {
       "output_type": "stream",
       "stream": "stdout",
       "text": [
        " 18\n",
        "Another 1000 generated after"
       ]
      },
      {
       "output_type": "stream",
       "stream": "stdout",
       "text": [
        " 684.678892136 seconds\n",
        "Caught empty.."
       ]
      },
      {
       "output_type": "stream",
       "stream": "stdout",
       "text": [
        "\n",
        "Caught empty..\n",
        "Another 1000 generated after"
       ]
      },
      {
       "output_type": "stream",
       "stream": "stdout",
       "text": [
        " 706.191888094 seconds\n",
        "Caught empty.."
       ]
      },
      {
       "output_type": "stream",
       "stream": "stdout",
       "text": [
        "\n",
        "Caught empty..\n",
        "Caught empty..\n",
        "Caught empty.."
       ]
      },
      {
       "output_type": "stream",
       "stream": "stdout",
       "text": [
        "\n",
        "Caught empty..\n",
        "Caught empty..\n",
        "working on slice"
       ]
      },
      {
       "output_type": "stream",
       "stream": "stdout",
       "text": [
        " 19\n",
        "Caught empty.."
       ]
      },
      {
       "output_type": "stream",
       "stream": "stdout",
       "text": [
        "\n",
        "Caught empty..\n",
        "Caught empty..\n",
        "Caught empty.."
       ]
      },
      {
       "output_type": "stream",
       "stream": "stdout",
       "text": [
        "\n",
        "Caught empty..\n",
        "Caught empty..\n",
        "Caught empty.."
       ]
      },
      {
       "output_type": "stream",
       "stream": "stdout",
       "text": [
        "\n",
        "Caught empty.."
       ]
      },
      {
       "output_type": "stream",
       "stream": "stdout",
       "text": [
        "\n",
        "Caught empty.."
       ]
      },
      {
       "output_type": "stream",
       "stream": "stdout",
       "text": [
        "\n",
        "Caught empty..\n",
        "Caught empty..\n",
        "Another 1000 generated after"
       ]
      },
      {
       "output_type": "stream",
       "stream": "stdout",
       "text": [
        " 731.33873105 seconds\n",
        "Caught empty.."
       ]
      },
      {
       "output_type": "stream",
       "stream": "stdout",
       "text": [
        "\n",
        "Caught empty.."
       ]
      },
      {
       "output_type": "stream",
       "stream": "stdout",
       "text": [
        "\n",
        "Caught empty..\n",
        "Caught empty..\n",
        "working on slice"
       ]
      },
      {
       "output_type": "stream",
       "stream": "stdout",
       "text": [
        " 20\n",
        "Caught empty.."
       ]
      },
      {
       "output_type": "stream",
       "stream": "stdout",
       "text": [
        "\n",
        "Another 1000 generated after"
       ]
      },
      {
       "output_type": "stream",
       "stream": "stdout",
       "text": [
        " 757.364808083 seconds\n",
        "Caught empty.."
       ]
      },
      {
       "output_type": "stream",
       "stream": "stdout",
       "text": [
        "\n",
        "Caught empty..\n",
        "Caught empty..\n",
        "Another 1000 generated after"
       ]
      },
      {
       "output_type": "stream",
       "stream": "stdout",
       "text": [
        " 780.347989082 seconds\n",
        "working on slice"
       ]
      },
      {
       "output_type": "stream",
       "stream": "stdout",
       "text": [
        " 21\n",
        "Caught empty.."
       ]
      },
      {
       "output_type": "stream",
       "stream": "stdout",
       "text": [
        "\n",
        "Caught empty.."
       ]
      },
      {
       "output_type": "stream",
       "stream": "stdout",
       "text": [
        "\n",
        "Caught empty.."
       ]
      },
      {
       "output_type": "stream",
       "stream": "stdout",
       "text": [
        "\n",
        "Caught empty.."
       ]
      },
      {
       "output_type": "stream",
       "stream": "stdout",
       "text": [
        "\n",
        "Another 1000 generated after"
       ]
      },
      {
       "output_type": "stream",
       "stream": "stdout",
       "text": [
        " 805.899388075 seconds\n",
        "Caught empty.."
       ]
      },
      {
       "output_type": "stream",
       "stream": "stdout",
       "text": [
        "\n",
        "Caught empty..\n",
        "Caught empty..\n",
        "Caught empty.."
       ]
      },
      {
       "output_type": "stream",
       "stream": "stdout",
       "text": [
        "\n",
        "working on slice"
       ]
      },
      {
       "output_type": "stream",
       "stream": "stdout",
       "text": [
        " 22\n",
        "Another 1000 generated after"
       ]
      },
      {
       "output_type": "stream",
       "stream": "stdout",
       "text": [
        " 829.17803812 seconds\n",
        "Caught empty.."
       ]
      },
      {
       "output_type": "stream",
       "stream": "stdout",
       "text": [
        "\n",
        "Caught empty.."
       ]
      },
      {
       "output_type": "stream",
       "stream": "stdout",
       "text": [
        "\n",
        "Caught empty..\n",
        "Caught empty..\n",
        "Caught empty.."
       ]
      },
      {
       "output_type": "stream",
       "stream": "stdout",
       "text": [
        "\n",
        "Caught empty..\n",
        "Caught empty..\n",
        "Another 1000 generated after"
       ]
      },
      {
       "output_type": "stream",
       "stream": "stdout",
       "text": [
        " 851.862023115 seconds\n",
        "Caught empty.."
       ]
      },
      {
       "output_type": "stream",
       "stream": "stdout",
       "text": [
        "\n",
        "Caught empty.."
       ]
      },
      {
       "output_type": "stream",
       "stream": "stdout",
       "text": [
        "\n",
        "working on slice"
       ]
      },
      {
       "output_type": "stream",
       "stream": "stdout",
       "text": [
        " 23\n",
        "Caught empty.."
       ]
      },
      {
       "output_type": "stream",
       "stream": "stdout",
       "text": [
        "\n",
        "Caught empty.."
       ]
      },
      {
       "output_type": "stream",
       "stream": "stdout",
       "text": [
        "\n",
        "Caught empty.."
       ]
      },
      {
       "output_type": "stream",
       "stream": "stdout",
       "text": [
        "\n",
        "Caught empty..\n",
        "Caught empty.."
       ]
      },
      {
       "output_type": "stream",
       "stream": "stdout",
       "text": [
        "\n",
        "Caught empty..\n",
        "Caught empty..\n",
        "Another 1000 generated after"
       ]
      },
      {
       "output_type": "stream",
       "stream": "stdout",
       "text": [
        " 879.936861038 seconds\n",
        "working on slice"
       ]
      },
      {
       "output_type": "stream",
       "stream": "stdout",
       "text": [
        " 24\n",
        "Another 1000 generated after"
       ]
      },
      {
       "output_type": "stream",
       "stream": "stdout",
       "text": [
        " 903.074701071 seconds\n",
        "Another 1000 generated after"
       ]
      },
      {
       "output_type": "stream",
       "stream": "stdout",
       "text": [
        " 924.966609955 seconds\n",
        "Caught empty.."
       ]
      },
      {
       "output_type": "stream",
       "stream": "stdout",
       "text": [
        "\n",
        "Caught empty.."
       ]
      },
      {
       "output_type": "stream",
       "stream": "stdout",
       "text": [
        "\n",
        "Caught empty.."
       ]
      },
      {
       "output_type": "stream",
       "stream": "stdout",
       "text": [
        "\n",
        "Caught empty..\n",
        "Caught empty..\n",
        "working on slice"
       ]
      },
      {
       "output_type": "stream",
       "stream": "stdout",
       "text": [
        " 25\n",
        "Another 1000 generated after"
       ]
      },
      {
       "output_type": "stream",
       "stream": "stdout",
       "text": [
        " 948.220782042 seconds\n",
        "Another 1000 generated after"
       ]
      },
      {
       "output_type": "stream",
       "stream": "stdout",
       "text": [
        " 972.552127123 seconds\n",
        "working on slice"
       ]
      },
      {
       "output_type": "stream",
       "stream": "stdout",
       "text": [
        " 26\n",
        "Caught empty.."
       ]
      },
      {
       "output_type": "stream",
       "stream": "stdout",
       "text": [
        "\n",
        "Caught empty..\n",
        "Caught empty.."
       ]
      },
      {
       "output_type": "stream",
       "stream": "stdout",
       "text": [
        "\n",
        "Caught empty.."
       ]
      },
      {
       "output_type": "stream",
       "stream": "stdout",
       "text": [
        "\n",
        "Caught empty.."
       ]
      },
      {
       "output_type": "stream",
       "stream": "stdout",
       "text": [
        "\n",
        "Caught empty..\n",
        "Caught empty..\n",
        "Caught empty.."
       ]
      },
      {
       "output_type": "stream",
       "stream": "stdout",
       "text": [
        "\n",
        "Another 1000 generated after"
       ]
      },
      {
       "output_type": "stream",
       "stream": "stdout",
       "text": [
        " 997.896533966 seconds\n",
        "Caught empty.."
       ]
      },
      {
       "output_type": "stream",
       "stream": "stdout",
       "text": [
        "\n",
        "working on slice"
       ]
      },
      {
       "output_type": "stream",
       "stream": "stdout",
       "text": [
        " 27\n",
        "Caught empty.."
       ]
      },
      {
       "output_type": "stream",
       "stream": "stdout",
       "text": [
        "\n",
        "Another 1000 generated after"
       ]
      },
      {
       "output_type": "stream",
       "stream": "stdout",
       "text": [
        " 1024.02553201 seconds\n",
        "Caught empty.."
       ]
      },
      {
       "output_type": "stream",
       "stream": "stdout",
       "text": [
        "\n",
        "Caught empty..\n",
        "Caught empty.."
       ]
      },
      {
       "output_type": "stream",
       "stream": "stdout",
       "text": [
        "\n",
        "Caught empty..\n",
        "Caught empty..\n",
        "Caught empty.."
       ]
      },
      {
       "output_type": "stream",
       "stream": "stdout",
       "text": [
        "\n",
        "Caught empty.."
       ]
      },
      {
       "output_type": "stream",
       "stream": "stdout",
       "text": [
        "\n",
        "Another 1000 generated after"
       ]
      },
      {
       "output_type": "stream",
       "stream": "stdout",
       "text": [
        " 1046.16219497 seconds\n",
        "Caught empty.."
       ]
      },
      {
       "output_type": "stream",
       "stream": "stdout",
       "text": [
        "\n",
        "Caught empty..\n",
        "working on slice"
       ]
      },
      {
       "output_type": "stream",
       "stream": "stdout",
       "text": [
        " 28\n",
        "Caught empty.."
       ]
      },
      {
       "output_type": "stream",
       "stream": "stdout",
       "text": [
        "\n",
        "Caught empty.."
       ]
      },
      {
       "output_type": "stream",
       "stream": "stdout",
       "text": [
        "\n",
        "Caught empty..\n",
        "Caught empty..\n",
        "Caught empty.."
       ]
      },
      {
       "output_type": "stream",
       "stream": "stdout",
       "text": [
        "\n",
        "Another 1000 generated after"
       ]
      },
      {
       "output_type": "stream",
       "stream": "stdout",
       "text": [
        " 1067.5667901 seconds\n",
        "working on slice"
       ]
      },
      {
       "output_type": "stream",
       "stream": "stdout",
       "text": [
        " 29\n",
        "Another 1000 generated after"
       ]
      },
      {
       "output_type": "stream",
       "stream": "stdout",
       "text": [
        " 1091.48348904 seconds\n",
        "Caught empty.."
       ]
      },
      {
       "output_type": "stream",
       "stream": "stdout",
       "text": [
        "\n",
        "Another 1000 generated after"
       ]
      },
      {
       "output_type": "stream",
       "stream": "stdout",
       "text": [
        " 1117.49401808 seconds\n",
        "Caught empty.."
       ]
      },
      {
       "output_type": "stream",
       "stream": "stdout",
       "text": [
        "\n",
        "Caught empty..\n",
        "Caught empty..\n",
        "Caught empty.."
       ]
      },
      {
       "output_type": "stream",
       "stream": "stdout",
       "text": [
        "\n",
        "working on slice"
       ]
      },
      {
       "output_type": "stream",
       "stream": "stdout",
       "text": [
        " 30\n",
        "Caught empty.."
       ]
      },
      {
       "output_type": "stream",
       "stream": "stdout",
       "text": [
        "\n",
        "Caught empty.."
       ]
      },
      {
       "output_type": "stream",
       "stream": "stdout",
       "text": [
        "\n",
        "Caught empty.."
       ]
      },
      {
       "output_type": "stream",
       "stream": "stdout",
       "text": [
        "\n",
        "Another 1000 generated after"
       ]
      },
      {
       "output_type": "stream",
       "stream": "stdout",
       "text": [
        " 1147.78338599 seconds\n",
        "working on slice"
       ]
      },
      {
       "output_type": "stream",
       "stream": "stdout",
       "text": [
        " 31\n",
        "Caught empty.."
       ]
      },
      {
       "output_type": "stream",
       "stream": "stdout",
       "text": [
        "\n",
        "Another 1000 generated after"
       ]
      },
      {
       "output_type": "stream",
       "stream": "stdout",
       "text": [
        " 1169.20171404 seconds\n",
        "Caught empty.."
       ]
      },
      {
       "output_type": "stream",
       "stream": "stdout",
       "text": [
        "\n",
        "Another 1000 generated after"
       ]
      },
      {
       "output_type": "stream",
       "stream": "stdout",
       "text": [
        " 1194.44180608 seconds\n",
        "working on slice"
       ]
      },
      {
       "output_type": "stream",
       "stream": "stdout",
       "text": [
        " 32\n",
        "Caught empty.."
       ]
      },
      {
       "output_type": "stream",
       "stream": "stdout",
       "text": [
        "\n",
        "Caught empty.."
       ]
      },
      {
       "output_type": "stream",
       "stream": "stdout",
       "text": [
        "\n",
        "Caught empty..\n",
        "Caught empty..\n",
        "Caught empty.."
       ]
      },
      {
       "output_type": "stream",
       "stream": "stdout",
       "text": [
        "\n",
        "Caught empty.."
       ]
      },
      {
       "output_type": "stream",
       "stream": "stdout",
       "text": [
        "\n",
        "Another 1000 generated after"
       ]
      },
      {
       "output_type": "stream",
       "stream": "stdout",
       "text": [
        " 1218.97055411 seconds\n",
        "Caught empty.."
       ]
      },
      {
       "output_type": "stream",
       "stream": "stdout",
       "text": [
        "\n",
        "Caught empty..\n",
        "Caught empty..\n",
        "Caught empty.."
       ]
      },
      {
       "output_type": "stream",
       "stream": "stdout",
       "text": [
        "\n",
        "Caught empty..\n",
        "working on slice"
       ]
      },
      {
       "output_type": "stream",
       "stream": "stdout",
       "text": [
        " 33\n",
        "Another 1000 generated after"
       ]
      },
      {
       "output_type": "stream",
       "stream": "stdout",
       "text": [
        " 1243.86854196 seconds\n",
        "Caught empty.."
       ]
      },
      {
       "output_type": "stream",
       "stream": "stdout",
       "text": [
        "\n",
        "Caught empty.."
       ]
      },
      {
       "output_type": "stream",
       "stream": "stdout",
       "text": [
        "\n",
        "Caught empty..\n",
        "Caught empty..\n",
        "Caught empty.."
       ]
      },
      {
       "output_type": "stream",
       "stream": "stdout",
       "text": [
        "\n",
        "Caught empty..\n",
        "Caught empty..\n",
        "Another 1000 generated after"
       ]
      },
      {
       "output_type": "stream",
       "stream": "stdout",
       "text": [
        " 1268.78539109 seconds\n",
        "Caught empty.."
       ]
      },
      {
       "output_type": "stream",
       "stream": "stdout",
       "text": [
        "\n",
        "working on slice"
       ]
      },
      {
       "output_type": "stream",
       "stream": "stdout",
       "text": [
        " 34\n",
        "Caught empty.."
       ]
      },
      {
       "output_type": "stream",
       "stream": "stdout",
       "text": [
        "\n",
        "Another 1000 generated after"
       ]
      },
      {
       "output_type": "stream",
       "stream": "stdout",
       "text": [
        " 1290.46860194 seconds\n",
        "Caught empty.."
       ]
      },
      {
       "output_type": "stream",
       "stream": "stdout",
       "text": [
        "\n",
        "Caught empty..\n",
        "Caught empty..\n",
        "Caught empty.."
       ]
      },
      {
       "output_type": "stream",
       "stream": "stdout",
       "text": [
        "\n",
        "Caught empty..\n",
        "Caught empty..\n",
        "working on slice"
       ]
      },
      {
       "output_type": "stream",
       "stream": "stdout",
       "text": [
        " 35\n",
        "Caught empty.."
       ]
      },
      {
       "output_type": "stream",
       "stream": "stdout",
       "text": [
        "\n",
        "Another 1000 generated after"
       ]
      },
      {
       "output_type": "stream",
       "stream": "stdout",
       "text": [
        " 1314.84827113 seconds\n",
        "Caught empty.."
       ]
      },
      {
       "output_type": "stream",
       "stream": "stdout",
       "text": [
        "\n",
        "Caught empty..\n",
        "Caught empty.."
       ]
      },
      {
       "output_type": "stream",
       "stream": "stdout",
       "text": [
        "\n",
        "Caught empty..\n",
        "Caught empty..\n",
        "Caught empty.."
       ]
      },
      {
       "output_type": "stream",
       "stream": "stdout",
       "text": [
        "\n",
        "Caught empty.."
       ]
      },
      {
       "output_type": "stream",
       "stream": "stdout",
       "text": [
        "\n",
        "Another 1000 generated after"
       ]
      },
      {
       "output_type": "stream",
       "stream": "stdout",
       "text": [
        " 1342.68778896 seconds\n",
        "Caught empty.."
       ]
      },
      {
       "output_type": "stream",
       "stream": "stdout",
       "text": [
        "\n",
        "Caught empty..\n",
        "Caught empty..\n",
        "Caught empty.."
       ]
      },
      {
       "output_type": "stream",
       "stream": "stdout",
       "text": [
        "\n",
        "working on slice"
       ]
      },
      {
       "output_type": "stream",
       "stream": "stdout",
       "text": [
        " 36\n",
        "Caught empty.."
       ]
      },
      {
       "output_type": "stream",
       "stream": "stdout",
       "text": [
        "\n",
        "Caught empty..\n",
        "Another 1000 generated after"
       ]
      },
      {
       "output_type": "stream",
       "stream": "stdout",
       "text": [
        " 1366.24439812 seconds\n",
        "Caught empty.."
       ]
      },
      {
       "output_type": "stream",
       "stream": "stdout",
       "text": [
        "\n",
        "Caught empty..\n",
        "Caught empty..\n",
        "Caught empty.."
       ]
      },
      {
       "output_type": "stream",
       "stream": "stdout",
       "text": [
        "\n",
        "Caught empty..\n",
        "Caught empty..\n",
        "working on slice"
       ]
      },
      {
       "output_type": "stream",
       "stream": "stdout",
       "text": [
        " 37\n",
        "Another 1000 generated after"
       ]
      },
      {
       "output_type": "stream",
       "stream": "stdout",
       "text": [
        " 1392.5904901 seconds\n",
        "Caught empty.."
       ]
      },
      {
       "output_type": "stream",
       "stream": "stdout",
       "text": [
        "\n",
        "Caught empty..\n",
        "Caught empty..\n",
        "Another 1000 generated after"
       ]
      },
      {
       "output_type": "stream",
       "stream": "stdout",
       "text": [
        " 1416.69311905 seconds\n",
        "Caught empty.."
       ]
      },
      {
       "output_type": "stream",
       "stream": "stdout",
       "text": [
        "\n",
        "Caught empty..\n",
        "Caught empty..\n",
        "Caught empty.."
       ]
      },
      {
       "output_type": "stream",
       "stream": "stdout",
       "text": [
        "\n",
        "Caught empty..\n",
        "Caught empty..\n",
        "Caught empty.."
       ]
      },
      {
       "output_type": "stream",
       "stream": "stdout",
       "text": [
        "\n",
        "Caught empty..\n",
        "Caught empty..\n",
        "Caught empty.."
       ]
      },
      {
       "output_type": "stream",
       "stream": "stdout",
       "text": [
        "\n",
        "working on slice"
       ]
      },
      {
       "output_type": "stream",
       "stream": "stdout",
       "text": [
        " 38\n",
        "Caught empty.."
       ]
      },
      {
       "output_type": "stream",
       "stream": "stdout",
       "text": [
        "\n",
        "Another 1000 generated after"
       ]
      },
      {
       "output_type": "stream",
       "stream": "stdout",
       "text": [
        " 1441.14854097 seconds\n",
        "Caught empty.."
       ]
      },
      {
       "output_type": "stream",
       "stream": "stdout",
       "text": [
        "\n",
        "Another 1000 generated after"
       ]
      },
      {
       "output_type": "stream",
       "stream": "stdout",
       "text": [
        " 1464.80704093 seconds\n",
        "working on slice"
       ]
      },
      {
       "output_type": "stream",
       "stream": "stdout",
       "text": [
        " 39\n",
        "Caught empty.."
       ]
      },
      {
       "output_type": "stream",
       "stream": "stdout",
       "text": [
        "\n",
        "Another 1000 generated after"
       ]
      },
      {
       "output_type": "stream",
       "stream": "stdout",
       "text": [
        " 1487.43268514 seconds\n",
        "Caught empty.."
       ]
      },
      {
       "output_type": "stream",
       "stream": "stdout",
       "text": [
        "\n",
        "Caught empty..\n",
        "Caught empty..\n",
        "working on slice"
       ]
      },
      {
       "output_type": "stream",
       "stream": "stdout",
       "text": [
        " 40\n",
        "Caught empty.."
       ]
      },
      {
       "output_type": "stream",
       "stream": "stdout",
       "text": [
        "\n",
        "Caught empty..\n",
        "Caught empty..\n",
        "Another 1000 generated after"
       ]
      },
      {
       "output_type": "stream",
       "stream": "stdout",
       "text": [
        " 1511.67701316 seconds\n",
        "Another 1000 generated after"
       ]
      },
      {
       "output_type": "stream",
       "stream": "stdout",
       "text": [
        " 1532.96988797 seconds\n",
        "Caught empty.."
       ]
      },
      {
       "output_type": "stream",
       "stream": "stdout",
       "text": [
        "\n",
        "working on slice"
       ]
      },
      {
       "output_type": "stream",
       "stream": "stdout",
       "text": [
        " 41\n",
        "Caught empty.."
       ]
      },
      {
       "output_type": "stream",
       "stream": "stdout",
       "text": [
        "\n",
        "Caught empty..\n",
        "Caught empty.."
       ]
      },
      {
       "output_type": "stream",
       "stream": "stdout",
       "text": [
        "\n",
        "Caught empty.."
       ]
      },
      {
       "output_type": "stream",
       "stream": "stdout",
       "text": [
        "\n",
        "Another 1000 generated after"
       ]
      },
      {
       "output_type": "stream",
       "stream": "stdout",
       "text": [
        " 1555.59223199 seconds\n",
        "Caught empty.."
       ]
      },
      {
       "output_type": "stream",
       "stream": "stdout",
       "text": [
        "\n",
        "Caught empty..\n",
        "Caught empty..\n",
        "working on slice"
       ]
      },
      {
       "output_type": "stream",
       "stream": "stdout",
       "text": [
        " 42\n",
        "Another 1000 generated after"
       ]
      },
      {
       "output_type": "stream",
       "stream": "stdout",
       "text": [
        " 1578.68116713 seconds\n",
        "Caught empty.."
       ]
      },
      {
       "output_type": "stream",
       "stream": "stdout",
       "text": [
        "\n",
        "Caught empty.."
       ]
      },
      {
       "output_type": "stream",
       "stream": "stdout",
       "text": [
        "\n",
        "Caught empty..\n",
        "Caught empty.."
       ]
      },
      {
       "output_type": "stream",
       "stream": "stdout",
       "text": [
        "\n",
        "Caught empty.."
       ]
      },
      {
       "output_type": "stream",
       "stream": "stdout",
       "text": [
        "\n",
        "Another 1000 generated after"
       ]
      },
      {
       "output_type": "stream",
       "stream": "stdout",
       "text": [
        " 1604.99759793 seconds\n",
        "working on slice"
       ]
      },
      {
       "output_type": "stream",
       "stream": "stdout",
       "text": [
        " 43\n",
        "Caught empty.."
       ]
      },
      {
       "output_type": "stream",
       "stream": "stdout",
       "text": [
        "\n",
        "Caught empty..\n",
        "Caught empty..\n",
        "Caught empty.."
       ]
      },
      {
       "output_type": "stream",
       "stream": "stdout",
       "text": [
        "\n",
        "Caught empty..\n",
        "Caught empty..\n",
        "Caught empty.."
       ]
      },
      {
       "output_type": "stream",
       "stream": "stdout",
       "text": [
        "\n",
        "Another 1000 generated after"
       ]
      },
      {
       "output_type": "stream",
       "stream": "stdout",
       "text": [
        " 1625.03846908 seconds\n",
        "Caught empty.."
       ]
      },
      {
       "output_type": "stream",
       "stream": "stdout",
       "text": [
        "\n",
        "working on slice"
       ]
      },
      {
       "output_type": "stream",
       "stream": "stdout",
       "text": [
        " 44\n",
        "Another 1000 generated after"
       ]
      },
      {
       "output_type": "stream",
       "stream": "stdout",
       "text": [
        " 1651.25114107 seconds\n",
        "Caught empty.."
       ]
      },
      {
       "output_type": "stream",
       "stream": "stdout",
       "text": [
        "\n",
        "Caught empty..\n",
        "Caught empty..\n",
        "Caught empty.."
       ]
      },
      {
       "output_type": "stream",
       "stream": "stdout",
       "text": [
        "\n",
        "Caught empty.."
       ]
      },
      {
       "output_type": "stream",
       "stream": "stdout",
       "text": [
        "\n",
        "Caught empty.."
       ]
      },
      {
       "output_type": "stream",
       "stream": "stdout",
       "text": [
        "\n",
        "Caught empty.."
       ]
      },
      {
       "output_type": "stream",
       "stream": "stdout",
       "text": [
        "\n",
        "Another 1000 generated after"
       ]
      },
      {
       "output_type": "stream",
       "stream": "stdout",
       "text": [
        " 1673.63781404 seconds\n",
        "working on slice"
       ]
      },
      {
       "output_type": "stream",
       "stream": "stdout",
       "text": [
        " 45\n",
        "Caught empty.."
       ]
      },
      {
       "output_type": "stream",
       "stream": "stdout",
       "text": [
        "\n",
        "Caught empty..\n",
        "Caught empty..\n",
        "Caught empty.."
       ]
      },
      {
       "output_type": "stream",
       "stream": "stdout",
       "text": [
        "\n",
        "Caught empty.."
       ]
      },
      {
       "output_type": "stream",
       "stream": "stdout",
       "text": [
        "\n",
        "Caught empty..\n",
        "Another 1000 generated after"
       ]
      },
      {
       "output_type": "stream",
       "stream": "stdout",
       "text": [
        " 1698.87833095 seconds\n",
        "Caught empty.."
       ]
      },
      {
       "output_type": "stream",
       "stream": "stdout",
       "text": [
        "\n",
        "working on slice"
       ]
      },
      {
       "output_type": "stream",
       "stream": "stdout",
       "text": [
        " 46\n",
        "Caught empty.."
       ]
      },
      {
       "output_type": "stream",
       "stream": "stdout",
       "text": [
        "\n",
        "Caught empty..\n",
        "Caught empty..\n",
        "Another 1000 generated after"
       ]
      },
      {
       "output_type": "stream",
       "stream": "stdout",
       "text": [
        " 1724.82573199 seconds\n",
        "Caught empty.."
       ]
      },
      {
       "output_type": "stream",
       "stream": "stdout",
       "text": [
        "\n",
        "Caught empty..\n",
        "Another 1000 generated after"
       ]
      },
      {
       "output_type": "stream",
       "stream": "stdout",
       "text": [
        " 1747.67795801 seconds\n",
        "working on slice"
       ]
      },
      {
       "output_type": "stream",
       "stream": "stdout",
       "text": [
        " 47\n",
        "Caught empty.."
       ]
      },
      {
       "output_type": "stream",
       "stream": "stdout",
       "text": [
        "\n",
        "Caught empty..\n",
        "Caught empty.."
       ]
      },
      {
       "output_type": "stream",
       "stream": "stdout",
       "text": [
        "\n",
        "Caught empty.."
       ]
      },
      {
       "output_type": "stream",
       "stream": "stdout",
       "text": [
        "\n",
        "Caught empty.."
       ]
      },
      {
       "output_type": "stream",
       "stream": "stdout",
       "text": [
        "\n",
        "Another 1000 generated after"
       ]
      },
      {
       "output_type": "stream",
       "stream": "stdout",
       "text": [
        " 1771.14241195 seconds\n",
        "Caught empty.."
       ]
      },
      {
       "output_type": "stream",
       "stream": "stdout",
       "text": [
        "\n",
        "Caught empty.."
       ]
      },
      {
       "output_type": "stream",
       "stream": "stdout",
       "text": [
        "\n",
        "Caught empty..\n",
        "Caught empty..\n",
        "Caught empty.."
       ]
      },
      {
       "output_type": "stream",
       "stream": "stdout",
       "text": [
        "\n",
        "Caught empty..\n",
        "working on slice"
       ]
      },
      {
       "output_type": "stream",
       "stream": "stdout",
       "text": [
        " 48\n",
        "Another 1000 generated after"
       ]
      },
      {
       "output_type": "stream",
       "stream": "stdout",
       "text": [
        " 1795.91786695 seconds\n",
        "Caught empty.."
       ]
      },
      {
       "output_type": "stream",
       "stream": "stdout",
       "text": [
        "\n",
        "Caught empty..\n",
        "Caught empty..\n",
        "Caught empty.."
       ]
      },
      {
       "output_type": "stream",
       "stream": "stdout",
       "text": [
        "\n",
        "Caught empty..\n",
        "Another 1000 generated after"
       ]
      },
      {
       "output_type": "stream",
       "stream": "stdout",
       "text": [
        " 1817.96550798 seconds\n",
        "Caught empty.."
       ]
      },
      {
       "output_type": "stream",
       "stream": "stdout",
       "text": [
        "\n",
        "Caught empty..\n",
        "working on slice"
       ]
      },
      {
       "output_type": "stream",
       "stream": "stdout",
       "text": [
        " 49\n",
        "Caught empty.."
       ]
      },
      {
       "output_type": "stream",
       "stream": "stdout",
       "text": [
        "\n",
        "Caught empty..\n",
        "Caught empty.."
       ]
      },
      {
       "output_type": "stream",
       "stream": "stdout",
       "text": [
        "\n",
        "Caught empty..\n",
        "Caught empty..\n",
        "Another 1000 generated after"
       ]
      },
      {
       "output_type": "stream",
       "stream": "stdout",
       "text": [
        " 1842.74320006 seconds\n",
        "Caught empty.."
       ]
      },
      {
       "output_type": "stream",
       "stream": "stdout",
       "text": [
        "\n",
        "Caught empty..\n",
        "Caught empty..\n",
        "Caught empty.."
       ]
      },
      {
       "output_type": "stream",
       "stream": "stdout",
       "text": [
        "\n",
        "Caught empty.."
       ]
      },
      {
       "output_type": "stream",
       "stream": "stdout",
       "text": [
        "\n",
        "Caught empty..\n",
        "Caught empty..\n",
        "Caught empty.."
       ]
      },
      {
       "output_type": "stream",
       "stream": "stdout",
       "text": [
        "\n",
        "working on slice"
       ]
      },
      {
       "output_type": "stream",
       "stream": "stdout",
       "text": [
        " 50\n",
        "Another 1000 generated after"
       ]
      },
      {
       "output_type": "stream",
       "stream": "stdout",
       "text": [
        " 1868.11573696 seconds\n",
        "Caught empty.."
       ]
      },
      {
       "output_type": "stream",
       "stream": "stdout",
       "text": [
        "\n",
        "Caught empty..\n",
        "Caught empty..\n",
        "Caught empty.."
       ]
      },
      {
       "output_type": "stream",
       "stream": "stdout",
       "text": [
        "\n",
        "Another 1000 generated after"
       ]
      },
      {
       "output_type": "stream",
       "stream": "stdout",
       "text": [
        " 1891.36188793 seconds\n",
        "Caught empty.."
       ]
      },
      {
       "output_type": "stream",
       "stream": "stdout",
       "text": [
        "\n",
        "Caught empty..\n",
        "working on slice"
       ]
      },
      {
       "output_type": "stream",
       "stream": "stdout",
       "text": [
        " 51\n",
        "Caught empty.."
       ]
      },
      {
       "output_type": "stream",
       "stream": "stdout",
       "text": [
        "\n",
        "Caught empty..\n",
        "Caught empty..\n",
        "Another 1000 generated after"
       ]
      },
      {
       "output_type": "stream",
       "stream": "stdout",
       "text": [
        " 1916.84754205 seconds\n",
        "Caught empty.."
       ]
      },
      {
       "output_type": "stream",
       "stream": "stdout",
       "text": [
        "\n",
        "Caught empty..\n",
        "Caught empty..\n",
        "Caught empty.."
       ]
      },
      {
       "output_type": "stream",
       "stream": "stdout",
       "text": [
        "\n",
        "Caught empty..\n",
        "Caught empty..\n",
        "Another 1000 generated after"
       ]
      },
      {
       "output_type": "stream",
       "stream": "stdout",
       "text": [
        " 1938.94867611 seconds\n",
        "working on slice"
       ]
      },
      {
       "output_type": "stream",
       "stream": "stdout",
       "text": [
        " 52\n",
        "Caught empty.."
       ]
      },
      {
       "output_type": "stream",
       "stream": "stdout",
       "text": [
        "\n",
        "Caught empty..\n",
        "Caught empty..\n",
        "Caught empty.."
       ]
      },
      {
       "output_type": "stream",
       "stream": "stdout",
       "text": [
        "\n",
        "Caught empty..\n",
        "Another 1000 generated after"
       ]
      },
      {
       "output_type": "stream",
       "stream": "stdout",
       "text": [
        " 1961.99381304 seconds\n",
        "Caught empty.."
       ]
      },
      {
       "output_type": "stream",
       "stream": "stdout",
       "text": [
        "\n",
        "Caught empty..\n",
        "Caught empty..\n",
        "working on slice"
       ]
      },
      {
       "output_type": "stream",
       "stream": "stdout",
       "text": [
        " 53\n",
        "Another 1000 generated after"
       ]
      },
      {
       "output_type": "stream",
       "stream": "stdout",
       "text": [
        " 1982.50581098 seconds\n",
        "Caught empty.."
       ]
      },
      {
       "output_type": "stream",
       "stream": "stdout",
       "text": [
        "\n",
        "Caught empty..\n",
        "Another 1000 generated after"
       ]
      },
      {
       "output_type": "stream",
       "stream": "stdout",
       "text": [
        " 2009.49826097 seconds\n",
        "working on slice"
       ]
      },
      {
       "output_type": "stream",
       "stream": "stdout",
       "text": [
        " 54\n",
        "Caught empty.."
       ]
      },
      {
       "output_type": "stream",
       "stream": "stdout",
       "text": [
        "\n",
        "Caught empty..\n",
        "Caught empty..\n",
        "Caught empty.."
       ]
      },
      {
       "output_type": "stream",
       "stream": "stdout",
       "text": [
        "\n",
        "Caught empty..\n",
        "Caught empty..\n",
        "Another 1000 generated after"
       ]
      },
      {
       "output_type": "stream",
       "stream": "stdout",
       "text": [
        " 2032.70707893 seconds\n",
        "Caught empty.."
       ]
      },
      {
       "output_type": "stream",
       "stream": "stdout",
       "text": [
        "\n",
        "working on slice"
       ]
      },
      {
       "output_type": "stream",
       "stream": "stdout",
       "text": [
        " 55\n",
        "Caught empty.."
       ]
      },
      {
       "output_type": "stream",
       "stream": "stdout",
       "text": [
        "\n",
        "Caught empty..\n",
        "Caught empty..\n",
        "Caught empty.."
       ]
      },
      {
       "output_type": "stream",
       "stream": "stdout",
       "text": [
        "\n",
        "Caught empty..\n",
        "Caught empty..\n",
        "Another 1000 generated after"
       ]
      },
      {
       "output_type": "stream",
       "stream": "stdout",
       "text": [
        " 2057.75322008 seconds\n",
        "Caught empty.."
       ]
      },
      {
       "output_type": "stream",
       "stream": "stdout",
       "text": [
        "\n",
        "Caught empty..\n",
        "Caught empty..\n",
        "Another 1000 generated after"
       ]
      },
      {
       "output_type": "stream",
       "stream": "stdout",
       "text": [
        " 2080.530164 seconds\n",
        "working on slice"
       ]
      },
      {
       "output_type": "stream",
       "stream": "stdout",
       "text": [
        " 56\n",
        "Caught empty.."
       ]
      },
      {
       "output_type": "stream",
       "stream": "stdout",
       "text": [
        "\n",
        "Caught empty..\n",
        "Caught empty..\n",
        "Caught empty.."
       ]
      },
      {
       "output_type": "stream",
       "stream": "stdout",
       "text": [
        "\n",
        "Caught empty.."
       ]
      },
      {
       "output_type": "stream",
       "stream": "stdout",
       "text": [
        "\n",
        "Caught empty..\n",
        "Another 1000 generated after"
       ]
      },
      {
       "output_type": "stream",
       "stream": "stdout",
       "text": [
        " 2103.06868601 seconds\n",
        "Caught empty.."
       ]
      },
      {
       "output_type": "stream",
       "stream": "stdout",
       "text": [
        "\n",
        "Caught empty.."
       ]
      },
      {
       "output_type": "stream",
       "stream": "stdout",
       "text": [
        "\n",
        "Caught empty..\n",
        "Caught empty..\n",
        "Caught empty.."
       ]
      },
      {
       "output_type": "stream",
       "stream": "stdout",
       "text": [
        "\n",
        "Caught empty..\n",
        "Caught empty..\n",
        "working on slice"
       ]
      },
      {
       "output_type": "stream",
       "stream": "stdout",
       "text": [
        " 57\n",
        "Another 1000 generated after"
       ]
      },
      {
       "output_type": "stream",
       "stream": "stdout",
       "text": [
        " 2126.00917816 seconds\n",
        "Caught empty.."
       ]
      },
      {
       "output_type": "stream",
       "stream": "stdout",
       "text": [
        "\n",
        "Another 1000 generated after"
       ]
      },
      {
       "output_type": "stream",
       "stream": "stdout",
       "text": [
        " 2149.15564609 seconds\n",
        "working on slice"
       ]
      },
      {
       "output_type": "stream",
       "stream": "stdout",
       "text": [
        " 58\n",
        "Caught empty.."
       ]
      },
      {
       "output_type": "stream",
       "stream": "stdout",
       "text": [
        "\n",
        "Caught empty..\n",
        "Caught empty..\n",
        "Another 1000 generated after"
       ]
      },
      {
       "output_type": "stream",
       "stream": "stdout",
       "text": [
        " 2174.43700814 seconds\n",
        "Caught empty.."
       ]
      },
      {
       "output_type": "stream",
       "stream": "stdout",
       "text": [
        "\n",
        "Caught empty..\n",
        "Caught empty..\n",
        "Caught empty.."
       ]
      },
      {
       "output_type": "stream",
       "stream": "stdout",
       "text": [
        "\n",
        "Caught empty..\n",
        "Caught empty.."
       ]
      },
      {
       "output_type": "stream",
       "stream": "stdout",
       "text": [
        "\n",
        "Caught empty..\n",
        "Caught empty.."
       ]
      },
      {
       "output_type": "stream",
       "stream": "stdout",
       "text": [
        "\n",
        "Caught empty..\n",
        "Caught empty..\n",
        "working on slice"
       ]
      },
      {
       "output_type": "stream",
       "stream": "stdout",
       "text": [
        " 59\n",
        "Caught empty.."
       ]
      },
      {
       "output_type": "stream",
       "stream": "stdout",
       "text": [
        "\n",
        "Another 1000 generated after"
       ]
      },
      {
       "output_type": "stream",
       "stream": "stdout",
       "text": [
        " 2201.79455614 seconds\n",
        "Caught empty.."
       ]
      },
      {
       "output_type": "stream",
       "stream": "stdout",
       "text": [
        "\n",
        "Caught empty..\n",
        "Caught empty..\n",
        "Caught empty.."
       ]
      },
      {
       "output_type": "stream",
       "stream": "stdout",
       "text": [
        "\n",
        "Caught empty..\n",
        "Caught empty..\n",
        "Caught empty.."
       ]
      },
      {
       "output_type": "stream",
       "stream": "stdout",
       "text": [
        "\n",
        "Caught empty.."
       ]
      },
      {
       "output_type": "stream",
       "stream": "stdout",
       "text": [
        "\n",
        "Another 1000 generated after"
       ]
      },
      {
       "output_type": "stream",
       "stream": "stdout",
       "text": [
        " 2229.06452799 seconds\n",
        "working on slice"
       ]
      },
      {
       "output_type": "stream",
       "stream": "stdout",
       "text": [
        " 60\n",
        "Caught empty.."
       ]
      },
      {
       "output_type": "stream",
       "stream": "stdout",
       "text": [
        "\n",
        "Caught empty..\n",
        "Caught empty..\n",
        "Another 1000 generated after"
       ]
      },
      {
       "output_type": "stream",
       "stream": "stdout",
       "text": [
        " 2254.62629914 seconds\n",
        "Caught empty.."
       ]
      },
      {
       "output_type": "stream",
       "stream": "stdout",
       "text": [
        "\n",
        "Caught empty..\n",
        "Caught empty.."
       ]
      },
      {
       "output_type": "stream",
       "stream": "stdout",
       "text": [
        "\n",
        "Caught empty..\n",
        "Caught empty..\n",
        "working on slice"
       ]
      },
      {
       "output_type": "stream",
       "stream": "stdout",
       "text": [
        " 61\n",
        "Another 1000 generated after"
       ]
      },
      {
       "output_type": "stream",
       "stream": "stdout",
       "text": [
        " 2277.1334331 seconds\n",
        "Caught empty.."
       ]
      },
      {
       "output_type": "stream",
       "stream": "stdout",
       "text": [
        "\n",
        "Caught empty.."
       ]
      },
      {
       "output_type": "stream",
       "stream": "stdout",
       "text": [
        "\n",
        "Caught empty..\n",
        "Caught empty..\n",
        "Another 1000 generated after"
       ]
      },
      {
       "output_type": "stream",
       "stream": "stdout",
       "text": [
        " 2300.93209314 seconds\n",
        "Caught empty.."
       ]
      },
      {
       "output_type": "stream",
       "stream": "stdout",
       "text": [
        "\n",
        "working on slice"
       ]
      },
      {
       "output_type": "stream",
       "stream": "stdout",
       "text": [
        " 62\n",
        "Another 1000 generated after"
       ]
      },
      {
       "output_type": "stream",
       "stream": "stdout",
       "text": [
        " 2322.28030896 seconds\n",
        "Caught empty.."
       ]
      },
      {
       "output_type": "stream",
       "stream": "stdout",
       "text": [
        "\n",
        "Caught empty.."
       ]
      },
      {
       "output_type": "stream",
       "stream": "stdout",
       "text": [
        "\n",
        "Caught empty..\n",
        "Caught empty..\n",
        "Caught empty.."
       ]
      },
      {
       "output_type": "stream",
       "stream": "stdout",
       "text": [
        "\n",
        "working on slice"
       ]
      },
      {
       "output_type": "stream",
       "stream": "stdout",
       "text": [
        " 63\n",
        "Another 1000 generated after"
       ]
      },
      {
       "output_type": "stream",
       "stream": "stdout",
       "text": [
        " 2349.52893806 seconds\n",
        "Caught empty.."
       ]
      },
      {
       "output_type": "stream",
       "stream": "stdout",
       "text": [
        "\n",
        "Caught empty.."
       ]
      },
      {
       "output_type": "stream",
       "stream": "stdout",
       "text": [
        "\n",
        "Another 1000 generated after"
       ]
      },
      {
       "output_type": "stream",
       "stream": "stdout",
       "text": [
        " 2372.15380406 seconds\n",
        "working on slice"
       ]
      },
      {
       "output_type": "stream",
       "stream": "stdout",
       "text": [
        " 64\n",
        "Caught empty.."
       ]
      },
      {
       "output_type": "stream",
       "stream": "stdout",
       "text": [
        "\n",
        "Another 1000 generated after"
       ]
      },
      {
       "output_type": "stream",
       "stream": "stdout",
       "text": [
        " 2396.96363497 seconds\n",
        "Caught empty.."
       ]
      },
      {
       "output_type": "stream",
       "stream": "stdout",
       "text": [
        "\n",
        "Caught empty.."
       ]
      },
      {
       "output_type": "stream",
       "stream": "stdout",
       "text": [
        "\n",
        "Caught empty..\n",
        "Caught empty..\n",
        "Caught empty.."
       ]
      },
      {
       "output_type": "stream",
       "stream": "stdout",
       "text": [
        "\n",
        "Caught empty..\n",
        "Caught empty..\n",
        "2421.5231421"
       ]
      },
      {
       "output_type": "stream",
       "stream": "stdout",
       "text": [
        " seconds for 100000 <function generate_split_error at 0x1100be398> patches\n",
        "saving.."
       ]
      },
      {
       "output_type": "stream",
       "stream": "stdout",
       "text": [
        "\n",
        "Done!"
       ]
      },
      {
       "output_type": "stream",
       "stream": "stdout",
       "text": [
        "\n",
        "Max per slice"
       ]
      },
      {
       "output_type": "stream",
       "stream": "stdout",
       "text": [
        " 2001\n",
        "working on slice 65\n",
        "Another 1000 generated after"
       ]
      },
      {
       "output_type": "stream",
       "stream": "stdout",
       "text": [
        " 33.5658638477 seconds\n",
        "working on slice"
       ]
      },
      {
       "output_type": "stream",
       "stream": "stdout",
       "text": [
        " 66\n",
        "Another 1000 generated after"
       ]
      },
      {
       "output_type": "stream",
       "stream": "stdout",
       "text": [
        " 68.8937349319 seconds\n",
        "Another 1000 generated after"
       ]
      },
      {
       "output_type": "stream",
       "stream": "stdout",
       "text": [
        " 101.463587046 seconds\n",
        "working on slice"
       ]
      },
      {
       "output_type": "stream",
       "stream": "stdout",
       "text": [
        " 67\n",
        "Another 1000 generated after"
       ]
      },
      {
       "output_type": "stream",
       "stream": "stdout",
       "text": [
        " 135.755090952 seconds\n",
        "Another 1000 generated after"
       ]
      },
      {
       "output_type": "stream",
       "stream": "stdout",
       "text": [
        " 166.767642021 seconds\n",
        "working on slice"
       ]
      },
      {
       "output_type": "stream",
       "stream": "stdout",
       "text": [
        " 68\n",
        "Another 1000 generated after"
       ]
      },
      {
       "output_type": "stream",
       "stream": "stdout",
       "text": [
        " 201.016862869 seconds\n",
        "Another 1000 generated after"
       ]
      },
      {
       "output_type": "stream",
       "stream": "stdout",
       "text": [
        " 234.701289892 seconds\n",
        "working on slice"
       ]
      },
      {
       "output_type": "stream",
       "stream": "stdout",
       "text": [
        " 69\n",
        "Another 1000 generated after"
       ]
      },
      {
       "output_type": "stream",
       "stream": "stdout",
       "text": [
        " 268.925415039 seconds\n",
        "Another 1000 generated after"
       ]
      },
      {
       "output_type": "stream",
       "stream": "stdout",
       "text": [
        " 305.605933905 seconds\n",
        "339.062783957"
       ]
      },
      {
       "output_type": "stream",
       "stream": "stdout",
       "text": [
        " seconds for 9966 <function generate_correct at 0x1100be410> patches\n",
        "Max per slice 2001\n",
        "working on slice 65\n",
        "Caught empty.."
       ]
      },
      {
       "output_type": "stream",
       "stream": "stdout",
       "text": [
        "\n",
        "Another 1000 generated after"
       ]
      },
      {
       "output_type": "stream",
       "stream": "stdout",
       "text": [
        " 24.7040960789 seconds\n",
        "Caught empty.."
       ]
      },
      {
       "output_type": "stream",
       "stream": "stdout",
       "text": [
        "\n",
        "Caught empty..\n",
        "Caught empty..\n",
        "Another 1000 generated after"
       ]
      },
      {
       "output_type": "stream",
       "stream": "stdout",
       "text": [
        " 50.3493220806 seconds\n",
        "working on slice 66\n",
        "Another 1000 generated after"
       ]
      },
      {
       "output_type": "stream",
       "stream": "stdout",
       "text": [
        " 79.7260191441 seconds\n",
        "Caught empty.."
       ]
      },
      {
       "output_type": "stream",
       "stream": "stdout",
       "text": [
        "\n",
        "Caught empty..\n",
        "Caught empty.."
       ]
      },
      {
       "output_type": "stream",
       "stream": "stdout",
       "text": [
        "\n",
        "Caught empty..\n",
        "Caught empty..\n",
        "Caught empty.."
       ]
      },
      {
       "output_type": "stream",
       "stream": "stdout",
       "text": [
        "\n",
        "Caught empty..\n",
        "Another 1000 generated after"
       ]
      },
      {
       "output_type": "stream",
       "stream": "stdout",
       "text": [
        " 102.126559019 seconds\n",
        "working on slice 67\n",
        "Caught empty.."
       ]
      },
      {
       "output_type": "stream",
       "stream": "stdout",
       "text": [
        "\n",
        "Caught empty.."
       ]
      },
      {
       "output_type": "stream",
       "stream": "stdout",
       "text": [
        "\n",
        "Caught empty.."
       ]
      },
      {
       "output_type": "stream",
       "stream": "stdout",
       "text": [
        "\n",
        "Caught empty..\n",
        "Another 1000 generated after"
       ]
      },
      {
       "output_type": "stream",
       "stream": "stdout",
       "text": [
        " 127.133264065 seconds\n",
        "Caught empty.."
       ]
      },
      {
       "output_type": "stream",
       "stream": "stdout",
       "text": [
        "\n",
        "Caught empty..\n",
        "Caught empty..\n",
        "Another 1000 generated after"
       ]
      },
      {
       "output_type": "stream",
       "stream": "stdout",
       "text": [
        " 148.556812048 seconds\n",
        "working on slice 68\n",
        "Caught empty.."
       ]
      },
      {
       "output_type": "stream",
       "stream": "stdout",
       "text": [
        "\n",
        "Caught empty..\n",
        "Caught empty..\n",
        "Caught empty.."
       ]
      },
      {
       "output_type": "stream",
       "stream": "stdout",
       "text": [
        "\n",
        "Another 1000 generated after"
       ]
      },
      {
       "output_type": "stream",
       "stream": "stdout",
       "text": [
        " 173.331027031 seconds\n",
        "Caught empty.."
       ]
      },
      {
       "output_type": "stream",
       "stream": "stdout",
       "text": [
        "\n",
        "Caught empty..\n",
        "Caught empty.."
       ]
      },
      {
       "output_type": "stream",
       "stream": "stdout",
       "text": [
        "\n",
        "Another 1000 generated after"
       ]
      },
      {
       "output_type": "stream",
       "stream": "stdout",
       "text": [
        " 198.27234602 seconds\n",
        "working on slice"
       ]
      },
      {
       "output_type": "stream",
       "stream": "stdout",
       "text": [
        " 69\n",
        "Caught empty.."
       ]
      },
      {
       "output_type": "stream",
       "stream": "stdout",
       "text": [
        "\n",
        "Caught empty.."
       ]
      },
      {
       "output_type": "stream",
       "stream": "stdout",
       "text": [
        "\n",
        "Caught empty.."
       ]
      },
      {
       "output_type": "stream",
       "stream": "stdout",
       "text": [
        "\n",
        "Caught empty..\n",
        "Another 1000 generated after"
       ]
      },
      {
       "output_type": "stream",
       "stream": "stdout",
       "text": [
        " 230.618744135 seconds\n",
        "Caught empty.."
       ]
      },
      {
       "output_type": "stream",
       "stream": "stdout",
       "text": [
        "\n",
        "Caught empty..\n",
        "Caught empty..\n",
        "252.789569139"
       ]
      },
      {
       "output_type": "stream",
       "stream": "stdout",
       "text": [
        " seconds for 10000 <function generate_split_error at 0x1100be398> patches\n",
        "saving.."
       ]
      },
      {
       "output_type": "stream",
       "stream": "stdout",
       "text": [
        "\n",
        "Done!"
       ]
      },
      {
       "output_type": "stream",
       "stream": "stdout",
       "text": [
        "\n",
        "Max per slice"
       ]
      },
      {
       "output_type": "stream",
       "stream": "stdout",
       "text": [
        " 2001\n",
        "working on slice 70\n",
        "Another 1000 generated after"
       ]
      },
      {
       "output_type": "stream",
       "stream": "stdout",
       "text": [
        " 33.836758852 seconds\n",
        "working on slice"
       ]
      },
      {
       "output_type": "stream",
       "stream": "stdout",
       "text": [
        " 71\n",
        "Another 1000 generated after"
       ]
      },
      {
       "output_type": "stream",
       "stream": "stdout",
       "text": [
        " 68.3787739277 seconds\n",
        "Another 1000 generated after"
       ]
      },
      {
       "output_type": "stream",
       "stream": "stdout",
       "text": [
        " 102.157001019 seconds\n",
        "working on slice"
       ]
      },
      {
       "output_type": "stream",
       "stream": "stdout",
       "text": [
        " 72\n",
        "Another 1000 generated after"
       ]
      },
      {
       "output_type": "stream",
       "stream": "stdout",
       "text": [
        " 142.876364946 seconds\n",
        "Another 1000 generated after"
       ]
      },
      {
       "output_type": "stream",
       "stream": "stdout",
       "text": [
        " 177.403268814 seconds\n",
        "working on slice"
       ]
      },
      {
       "output_type": "stream",
       "stream": "stdout",
       "text": [
        " 73\n",
        "Another 1000 generated after"
       ]
      },
      {
       "output_type": "stream",
       "stream": "stdout",
       "text": [
        " 212.953639984 seconds\n",
        "Another 1000 generated after"
       ]
      },
      {
       "output_type": "stream",
       "stream": "stdout",
       "text": [
        " 249.76727581 seconds\n",
        "working on slice"
       ]
      },
      {
       "output_type": "stream",
       "stream": "stdout",
       "text": [
        " 74\n",
        "Another 1000 generated after"
       ]
      },
      {
       "output_type": "stream",
       "stream": "stdout",
       "text": [
        " 285.073515892 seconds\n",
        "Another 1000 generated after"
       ]
      },
      {
       "output_type": "stream",
       "stream": "stdout",
       "text": [
        " 321.325392008 seconds\n",
        "359.311364889"
       ]
      },
      {
       "output_type": "stream",
       "stream": "stdout",
       "text": [
        " seconds for 9933 <function generate_correct at 0x1100be410> patches\n",
        "Max per slice 2001\n",
        "working on slice 70\n",
        "Caught empty.."
       ]
      },
      {
       "output_type": "stream",
       "stream": "stdout",
       "text": [
        "\n",
        "Caught empty.."
       ]
      },
      {
       "output_type": "stream",
       "stream": "stdout",
       "text": [
        "\n",
        "Caught empty.."
       ]
      },
      {
       "output_type": "stream",
       "stream": "stdout",
       "text": [
        "\n",
        "Caught empty..\n",
        "Another 1000 generated after"
       ]
      },
      {
       "output_type": "stream",
       "stream": "stdout",
       "text": [
        " 23.121391058 seconds\n",
        "Caught empty.."
       ]
      },
      {
       "output_type": "stream",
       "stream": "stdout",
       "text": [
        "\n",
        "Caught empty.."
       ]
      },
      {
       "output_type": "stream",
       "stream": "stdout",
       "text": [
        "\n",
        "Caught empty..\n",
        "Caught empty..\n",
        "Caught empty.."
       ]
      },
      {
       "output_type": "stream",
       "stream": "stdout",
       "text": [
        "\n",
        "Caught empty.."
       ]
      },
      {
       "output_type": "stream",
       "stream": "stdout",
       "text": [
        "\n",
        "Caught empty..\n",
        "Caught empty..\n",
        "Another 1000 generated after"
       ]
      },
      {
       "output_type": "stream",
       "stream": "stdout",
       "text": [
        " 52.6353561878 seconds\n",
        "working on slice 71\n",
        "Caught empty.."
       ]
      },
      {
       "output_type": "stream",
       "stream": "stdout",
       "text": [
        "\n",
        "Caught empty..\n",
        "Caught empty.."
       ]
      },
      {
       "output_type": "stream",
       "stream": "stdout",
       "text": [
        "\n",
        "Caught empty..\n",
        "Caught empty..\n",
        "Another 1000 generated after"
       ]
      },
      {
       "output_type": "stream",
       "stream": "stdout",
       "text": [
        " 74.9801151752 seconds\n",
        "Caught empty.."
       ]
      },
      {
       "output_type": "stream",
       "stream": "stdout",
       "text": [
        "\n",
        "Caught empty..\n",
        "Caught empty..\n",
        "Another 1000 generated after"
       ]
      },
      {
       "output_type": "stream",
       "stream": "stdout",
       "text": [
        " 102.260525227 seconds\n",
        "working on slice 72\n",
        "Caught empty.."
       ]
      },
      {
       "output_type": "stream",
       "stream": "stdout",
       "text": [
        "\n",
        "Caught empty..\n",
        "Caught empty..\n",
        "Caught empty.."
       ]
      },
      {
       "output_type": "stream",
       "stream": "stdout",
       "text": [
        "\n",
        "Caught empty.."
       ]
      },
      {
       "output_type": "stream",
       "stream": "stdout",
       "text": [
        "\n",
        "Caught empty..\n",
        "Caught empty..\n",
        "Caught empty.."
       ]
      },
      {
       "output_type": "stream",
       "stream": "stdout",
       "text": [
        "\n",
        "Caught empty..\n",
        "Caught empty..\n",
        "Another 1000 generated after"
       ]
      },
      {
       "output_type": "stream",
       "stream": "stdout",
       "text": [
        " 126.640516043 seconds\n",
        "Caught empty.."
       ]
      },
      {
       "output_type": "stream",
       "stream": "stdout",
       "text": [
        "\n",
        "Another 1000 generated after"
       ]
      },
      {
       "output_type": "stream",
       "stream": "stdout",
       "text": [
        " 155.614101171 seconds\n",
        "working on slice 73\n",
        "Caught empty.."
       ]
      },
      {
       "output_type": "stream",
       "stream": "stdout",
       "text": [
        "\n",
        "Caught empty..\n",
        "Caught empty..\n",
        "Caught empty.."
       ]
      },
      {
       "output_type": "stream",
       "stream": "stdout",
       "text": [
        "\n",
        "Caught empty.."
       ]
      },
      {
       "output_type": "stream",
       "stream": "stdout",
       "text": [
        "\n",
        "Caught empty..\n",
        "Caught empty.."
       ]
      },
      {
       "output_type": "stream",
       "stream": "stdout",
       "text": [
        "\n",
        "Caught empty..\n",
        "Caught empty..\n",
        "Caught empty.."
       ]
      },
      {
       "output_type": "stream",
       "stream": "stdout",
       "text": [
        "\n",
        "Another 1000 generated after"
       ]
      },
      {
       "output_type": "stream",
       "stream": "stdout",
       "text": [
        " 183.854247093 seconds\n",
        "Caught empty.."
       ]
      },
      {
       "output_type": "stream",
       "stream": "stdout",
       "text": [
        "\n",
        "Caught empty..\n",
        "Caught empty..\n",
        "Caught empty.."
       ]
      },
      {
       "output_type": "stream",
       "stream": "stdout",
       "text": [
        "\n",
        "Caught empty..\n",
        "Caught empty..\n",
        "Caught empty.."
       ]
      },
      {
       "output_type": "stream",
       "stream": "stdout",
       "text": [
        "\n",
        "Another 1000 generated after"
       ]
      },
      {
       "output_type": "stream",
       "stream": "stdout",
       "text": [
        " 209.981856108 seconds\n",
        "working on slice 74\n",
        "Caught empty.."
       ]
      },
      {
       "output_type": "stream",
       "stream": "stdout",
       "text": [
        "\n",
        "Caught empty..\n",
        "Caught empty..\n",
        "Another 1000 generated after"
       ]
      },
      {
       "output_type": "stream",
       "stream": "stdout",
       "text": [
        " 235.748594046 seconds\n",
        "Caught empty.."
       ]
      },
      {
       "output_type": "stream",
       "stream": "stdout",
       "text": [
        "\n",
        "Caught empty..\n",
        "Caught empty..\n",
        "Caught empty.."
       ]
      },
      {
       "output_type": "stream",
       "stream": "stdout",
       "text": [
        "\n",
        "Caught empty.."
       ]
      },
      {
       "output_type": "stream",
       "stream": "stdout",
       "text": [
        "\n",
        "264.270738125"
       ]
      },
      {
       "output_type": "stream",
       "stream": "stdout",
       "text": [
        " seconds for 10000 <function generate_split_error at 0x1100be398> patches\n",
        "saving.."
       ]
      },
      {
       "output_type": "stream",
       "stream": "stdout",
       "text": [
        "\n",
        "Done!"
       ]
      },
      {
       "output_type": "stream",
       "stream": "stdout",
       "text": [
        "\n"
       ]
      }
     ],
     "prompt_number": 17
    },
    {
     "cell_type": "code",
     "collapsed": false,
     "input": [],
     "language": "python",
     "metadata": {},
     "outputs": []
    }
   ],
   "metadata": {}
  }
 ]
}