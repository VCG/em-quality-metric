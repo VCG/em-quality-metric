{
 "metadata": {
  "name": "",
  "signature": "sha256:a1b8a96b7896d88a69e0f4abc90b559ea0fde82ec3a8918f5cc2cf8b1b98f162"
 },
 "nbformat": 3,
 "nbformat_minor": 0,
 "worksheets": [
  {
   "cells": [
    {
     "cell_type": "code",
     "collapsed": false,
     "input": [
      "%load_ext autoreload\n",
      "%autoreload 2\n",
      "\n",
      "import os\n",
      "import numpy as np\n",
      "import time\n",
      "\n",
      "from patch import Patch\n",
      "from uglify import Uglify\n",
      "from util import Util\n",
      "from generator import Generator\n",
      "\n",
      "from matplotlib.pyplot import imshow\n",
      "import matplotlib.pyplot as plt\n",
      "%matplotlib inline"
     ],
     "language": "python",
     "metadata": {},
     "outputs": [
      {
       "output_type": "stream",
       "stream": "stdout",
       "text": [
        "The autoreload extension is already loaded. To reload it, use:\n",
        "  %reload_ext autoreload\n"
       ]
      }
     ],
     "prompt_number": 3
    },
    {
     "cell_type": "code",
     "collapsed": false,
     "input": [
      "\n",
      "DATA_PATH = '/Volumes/DATA1/EMQM_DATA/ac3x75/'\n",
      "GOLD_PATH = os.path.join(DATA_PATH,'gold/')\n",
      "IMAGE_PATH = os.path.join(DATA_PATH,'input/')\n",
      "PROB_PATH = os.path.join(DATA_PATH,'prob/')\n",
      "PATCH_PATH = os.path.join(DATA_PATH,'patches_8th/')\n",
      "\n"
     ],
     "language": "python",
     "metadata": {},
     "outputs": [],
     "prompt_number": 4
    },
    {
     "cell_type": "code",
     "collapsed": false,
     "input": [
      "def generate_patches(start_slice, end_slice):\n",
      "\n",
      "    patch_index = 0\n",
      "\n",
      "    all_patches_count = 0\n",
      "    all_error_patches = []\n",
      "    all_correct_patches = []\n",
      "    \n",
      "    for z in range(start_slice, end_slice):\n",
      "\n",
      "        t0 = time.time()\n",
      "        print 'working on slice', z\n",
      "        input_image, input_prob, input_gold, input_rhoana = Util.read_section(str(z).zfill(2), keep_zeros=True)\n",
      "\n",
      "        error_patches, patches = Patch.patchify_maxoverlap(input_image, input_prob, input_rhoana, input_gold, sample_rate=1, patch_size=(75,75))\n",
      "\n",
      "        print 'Generated', len(error_patches), 'split error patches and', len(patches), ' correct patches in', time.time()-t0, 'seconds.'\n",
      "        \n",
      "        \n",
      "        all_error_patches += error_patches\n",
      "        all_correct_patches += patches\n",
      "        \n",
      "    \n",
      "    \n",
      "    NO_PATCHES = len(all_error_patches) + len(all_correct_patches)\n",
      "\n",
      "    print 'We have a total of',NO_PATCHES,'patches.'\n",
      "    print 'Errors:',len(all_error_patches)\n",
      "    print 'Correct:',len(all_correct_patches)    \n",
      "    \n",
      "    PATCH_BYTES = 75*75\n",
      "    P_SIZE = (NO_PATCHES, 1, 75,75) # rather than raveled right now\n",
      "    \n",
      "    p_image = np.zeros(P_SIZE, dtype=np.float32)\n",
      "    p_prob = np.zeros(P_SIZE, dtype=np.float32)\n",
      "    p_binary = np.zeros(P_SIZE, dtype=np.bool)\n",
      "    p_merged_array = np.zeros(P_SIZE, dtype=np.bool)\n",
      "#     p_dyn_obj = np.zeros((NO_PATCHES, PATCH_BYTES),dtype=np.bool)\n",
      "#     p_dyn_bnd = np.zeros((NO_PATCHES, PATCH_BYTES),dtype=np.bool)\n",
      "    p_border_overlap = np.zeros(P_SIZE, dtype=np.bool)\n",
      "    p_larger_border_overlap = np.zeros(P_SIZE, dtype=np.bool)    \n",
      "    p_target = np.zeros(NO_PATCHES)\n",
      "\n",
      "\n",
      "    i = 0\n",
      "    for p in all_error_patches:\n",
      "        \n",
      "        p_image[i] = (p['image'].astype(np.float32)/255.)#.ravel()\n",
      "        p_prob[i] = (p['prob'].astype(np.float32)/255.)#.ravel()\n",
      "        p_binary[i] = p['binary']#.ravel()\n",
      "        p_merged_array[i] = p['merged_array']#.ravel()\n",
      "#         p_dyn_obj[i] = p['dyn_obj'].ravel()\n",
      "#         p_dyn_bnd[i] = p['dyn_bnd'].ravel()\n",
      "        p_border_overlap[i] = p['border_overlap']#.ravel()\n",
      "        p_larger_border_overlap[i] = p['larger_border_overlap']#.ravel()\n",
      "        p_target[i] = 1 # <--- important\n",
      "        i += 1\n",
      "\n",
      "        \n",
      "    for p in all_correct_patches:\n",
      "\n",
      "        p_image[i] = (p['image'].astype(np.float32)/255.)#.ravel()\n",
      "        p_prob[i] = (p['prob'].astype(np.float32)/255.)#.ravel()\n",
      "        p_binary[i] = p['binary']#.ravel()\n",
      "        p_merged_array[i] = p['merged_array']#.ravel()\n",
      "#         p_dyn_obj[i] = p['dyn_obj'].ravel()\n",
      "#         p_dyn_bnd[i] = p['dyn_bnd'].ravel()\n",
      "        p_border_overlap[i] = p['border_overlap']#.ravel()\n",
      "        p_larger_border_overlap[i] = p['larger_border_overlap']#.ravel()\n",
      "        p_target[i] = 0 # <--- important\n",
      "        i+=1\n",
      "        \n",
      "    \n",
      "#     return p_image, p_prob, p_binary, p_merged_array, p_dyn_obj, p_dyn_bnd, p_border_overlap, p_larger_border_overlap, p_target\n",
      "    return p_image, p_prob, p_binary, p_merged_array, p_border_overlap, p_larger_border_overlap, p_target\n",
      "\n",
      "\n",
      "\n",
      "def shuffle_in_unison_inplace(a, b, c, d, e, f, g):\n",
      "    assert len(a) == len(b)\n",
      "    assert len(a) == len(g)\n",
      "    p = np.random.permutation(len(a))\n",
      "    return a[p], b[p], c[p], d[p], e[p], f[p], g[p]\n",
      "\n",
      "\n",
      "\n",
      "def run(start_slice, end_slice, filename):\n",
      "    \n",
      "    if not os.path.exists(PATCH_PATH):\n",
      "        os.makedirs(PATCH_PATH)\n",
      "    \n",
      "    p = generate_patches(start_slice, end_slice)\n",
      "    \n",
      "    shuffled = shuffle_in_unison_inplace(p[0],\n",
      "                                         p[1],\n",
      "                                         p[2],\n",
      "                                         p[3],\n",
      "                                         p[4],\n",
      "                                         p[5],\n",
      "                                         p[6]\n",
      "                                        )\n",
      "    \n",
      "    print 'saving..'\n",
      "    np.savez(PATCH_PATH+filename+'.npz', image=shuffled[0],\n",
      "                                         prob=shuffled[1],\n",
      "                                         binary=shuffled[2],\n",
      "                                         merged_array=shuffled[3],\n",
      "#                                          dyn_obj=shuffled[4],\n",
      "#                                          dyn_bnd=shuffled[5],\n",
      "                                         border_overlap=shuffled[4],\n",
      "                                         larger_border_overlap=shuffled[5])\n",
      "    np.savez(PATCH_PATH+filename+'_targets.npz', targets=shuffled[6])\n",
      "    print 'Done!'\n",
      "    \n",
      "#     return correct, split, shuffled\n"
     ],
     "language": "python",
     "metadata": {},
     "outputs": [],
     "prompt_number": 8
    },
    {
     "cell_type": "code",
     "collapsed": false,
     "input": [
      "#run(0, 65, 100000, 'train')\n",
      "#run(65, 70, 10000, 'val')\n",
      "#run(70, 75, 10000, 'test')\n",
      "run(0,70, 'train')\n",
      "# run(65,67, 'val')\n",
      "run(70,75, 'test')"
     ],
     "language": "python",
     "metadata": {},
     "outputs": [
      {
       "output_type": "stream",
       "stream": "stdout",
       "text": [
        "working on slice 0\n",
        "Generated"
       ]
      },
      {
       "output_type": "stream",
       "stream": "stdout",
       "text": [
        " 368 split error patches and 368  correct patches in 162.595335007 seconds.\n",
        "working on slice 1\n",
        "Generated"
       ]
      },
      {
       "output_type": "stream",
       "stream": "stdout",
       "text": [
        " 328 split error patches and 328  correct patches in 157.981170893 seconds.\n",
        "working on slice 2\n",
        "Generated"
       ]
      },
      {
       "output_type": "stream",
       "stream": "stdout",
       "text": [
        " 264 split error patches and 264  correct patches in 154.049988031 seconds.\n",
        "working on slice 3\n",
        "Generated"
       ]
      },
      {
       "output_type": "stream",
       "stream": "stdout",
       "text": [
        " 212 split error patches and 212  correct patches in 154.826019049 seconds.\n",
        "working on slice 4\n",
        "Generated"
       ]
      },
      {
       "output_type": "stream",
       "stream": "stdout",
       "text": [
        " 300 split error patches and 300  correct patches in 156.177849054 seconds.\n",
        "working on slice 5\n",
        "Generated"
       ]
      },
      {
       "output_type": "stream",
       "stream": "stdout",
       "text": [
        " 208 split error patches and 208  correct patches in 147.245206833 seconds.\n",
        "working on slice 6\n",
        "Generated"
       ]
      },
      {
       "output_type": "stream",
       "stream": "stdout",
       "text": [
        " 228 split error patches and 228  correct patches in 145.684638023 seconds.\n",
        "working on slice 7\n",
        "Generated"
       ]
      },
      {
       "output_type": "stream",
       "stream": "stdout",
       "text": [
        " 260 split error patches and 260  correct patches in 150.336109877 seconds.\n",
        "working on slice 8\n",
        "Generated"
       ]
      },
      {
       "output_type": "stream",
       "stream": "stdout",
       "text": [
        " 284 split error patches and 284  correct patches in 150.531487942 seconds.\n",
        "working on slice 9\n",
        "Generated"
       ]
      },
      {
       "output_type": "stream",
       "stream": "stdout",
       "text": [
        " 236 split error patches and 236  correct patches in 149.016921043 seconds.\n",
        "working on slice 10\n",
        "Generated"
       ]
      },
      {
       "output_type": "stream",
       "stream": "stdout",
       "text": [
        " 288 split error patches and 288  correct patches in 155.393891096 seconds.\n",
        "working on slice 11\n",
        "Generated"
       ]
      },
      {
       "output_type": "stream",
       "stream": "stdout",
       "text": [
        " 472 split error patches and 472  correct patches in 157.374298811 seconds.\n",
        "working on slice 12\n",
        "Generated"
       ]
      },
      {
       "output_type": "stream",
       "stream": "stdout",
       "text": [
        " 352 split error patches and 352  correct patches in 158.778798103 seconds.\n",
        "working on slice 13\n",
        "Generated"
       ]
      },
      {
       "output_type": "stream",
       "stream": "stdout",
       "text": [
        " 284 split error patches and 284  correct patches in 154.931343079 seconds.\n",
        "working on slice 14\n",
        "Generated"
       ]
      },
      {
       "output_type": "stream",
       "stream": "stdout",
       "text": [
        " 340 split error patches and 340  correct patches in 154.407804966 seconds.\n",
        "working on slice 15\n",
        "Generated"
       ]
      },
      {
       "output_type": "stream",
       "stream": "stdout",
       "text": [
        " 388 split error patches and 388  correct patches in 164.255166054 seconds.\n",
        "working on slice 16\n",
        "Generated"
       ]
      },
      {
       "output_type": "stream",
       "stream": "stdout",
       "text": [
        " 324 split error patches and 324  correct patches in 159.029923201 seconds.\n",
        "working on slice 17\n",
        "Generated"
       ]
      },
      {
       "output_type": "stream",
       "stream": "stdout",
       "text": [
        " 352 split error patches and 352  correct patches in 165.500662804 seconds.\n",
        "working on slice 18\n",
        "Generated"
       ]
      },
      {
       "output_type": "stream",
       "stream": "stdout",
       "text": [
        " 276 split error patches and 276  correct patches in 155.514636993 seconds.\n",
        "working on slice 19\n",
        "Generated"
       ]
      },
      {
       "output_type": "stream",
       "stream": "stdout",
       "text": [
        " 332 split error patches and 332  correct patches in 162.227308035 seconds.\n",
        "working on slice 20\n",
        "Generated"
       ]
      },
      {
       "output_type": "stream",
       "stream": "stdout",
       "text": [
        " 328 split error patches and 328  correct patches in 158.979762077 seconds.\n",
        "working on slice 21\n",
        "Generated"
       ]
      },
      {
       "output_type": "stream",
       "stream": "stdout",
       "text": [
        " 360 split error patches and 360  correct patches in 162.953649998 seconds.\n",
        "working on slice 22\n",
        "Generated"
       ]
      },
      {
       "output_type": "stream",
       "stream": "stdout",
       "text": [
        " 300 split error patches and 300  correct patches in 155.022040129 seconds.\n",
        "working on slice 23\n",
        "Generated"
       ]
      },
      {
       "output_type": "stream",
       "stream": "stdout",
       "text": [
        " 324 split error patches and 324  correct patches in 154.456164122 seconds.\n",
        "working on slice 24\n",
        "Generated"
       ]
      },
      {
       "output_type": "stream",
       "stream": "stdout",
       "text": [
        " 344 split error patches and 344  correct patches in 150.972886086 seconds.\n",
        "working on slice 25\n",
        "Generated"
       ]
      },
      {
       "output_type": "stream",
       "stream": "stdout",
       "text": [
        " 256 split error patches and 256  correct patches in 145.221704006 seconds.\n",
        "working on slice 26\n",
        "Generated"
       ]
      },
      {
       "output_type": "stream",
       "stream": "stdout",
       "text": [
        " 276 split error patches and 276  correct patches in 146.773740053 seconds.\n",
        "working on slice 27\n",
        "Generated"
       ]
      },
      {
       "output_type": "stream",
       "stream": "stdout",
       "text": [
        " 272 split error patches and 272  correct patches in 141.29314208 seconds.\n",
        "working on slice 28\n",
        "Generated"
       ]
      },
      {
       "output_type": "stream",
       "stream": "stdout",
       "text": [
        " 260 split error patches and 260  correct patches in 135.34612298 seconds.\n",
        "working on slice 29\n",
        "Generated"
       ]
      },
      {
       "output_type": "stream",
       "stream": "stdout",
       "text": [
        " 244 split error patches and 244  correct patches in 135.931841135 seconds.\n",
        "working on slice 30\n",
        "Generated"
       ]
      },
      {
       "output_type": "stream",
       "stream": "stdout",
       "text": [
        " 244 split error patches and 244  correct patches in 144.465876102 seconds.\n",
        "working on slice 31\n",
        "Generated"
       ]
      },
      {
       "output_type": "stream",
       "stream": "stdout",
       "text": [
        " 128 split error patches and 128  correct patches in 129.418898106 seconds.\n",
        "working on slice 32\n",
        "Generated"
       ]
      },
      {
       "output_type": "stream",
       "stream": "stdout",
       "text": [
        " 220 split error patches and 220  correct patches in 139.466812134 seconds.\n",
        "working on slice 33\n",
        "Generated"
       ]
      },
      {
       "output_type": "stream",
       "stream": "stdout",
       "text": [
        " 252 split error patches and 252  correct patches in 139.337637901 seconds.\n",
        "working on slice 34\n",
        "Generated"
       ]
      },
      {
       "output_type": "stream",
       "stream": "stdout",
       "text": [
        " 224 split error patches and 224  correct patches in 137.858771801 seconds.\n",
        "working on slice 35\n",
        "Generated"
       ]
      },
      {
       "output_type": "stream",
       "stream": "stdout",
       "text": [
        " 200 split error patches and 200  correct patches in 136.187942982 seconds.\n",
        "working on slice 36\n",
        "Generated"
       ]
      },
      {
       "output_type": "stream",
       "stream": "stdout",
       "text": [
        " 248 split error patches and 248  correct patches in 145.818998814 seconds.\n",
        "working on slice 37\n",
        "Generated"
       ]
      },
      {
       "output_type": "stream",
       "stream": "stdout",
       "text": [
        " 212 split error patches and 212  correct patches in 142.551973104 seconds.\n",
        "working on slice 38\n",
        "Generated"
       ]
      },
      {
       "output_type": "stream",
       "stream": "stdout",
       "text": [
        " 284 split error patches and 284  correct patches in 143.377574921 seconds.\n",
        "working on slice 39\n",
        "Generated"
       ]
      },
      {
       "output_type": "stream",
       "stream": "stdout",
       "text": [
        " 220 split error patches and 220  correct patches in 139.105854988 seconds.\n",
        "working on slice 40\n",
        "Generated"
       ]
      },
      {
       "output_type": "stream",
       "stream": "stdout",
       "text": [
        " 248 split error patches and 248  correct patches in 148.036545038 seconds.\n",
        "working on slice 41\n",
        "Generated"
       ]
      },
      {
       "output_type": "stream",
       "stream": "stdout",
       "text": [
        " 248 split error patches and 248  correct patches in 143.548801184 seconds.\n",
        "working on slice 42\n",
        "Generated"
       ]
      },
      {
       "output_type": "stream",
       "stream": "stdout",
       "text": [
        " 272 split error patches and 272  correct patches in 150.301078081 seconds.\n",
        "working on slice 43\n",
        "Generated"
       ]
      },
      {
       "output_type": "stream",
       "stream": "stdout",
       "text": [
        " 340 split error patches and 340  correct patches in 155.39957881 seconds.\n",
        "working on slice 44\n",
        "Generated"
       ]
      },
      {
       "output_type": "stream",
       "stream": "stdout",
       "text": [
        " 316 split error patches and 316  correct patches in 153.163685083 seconds.\n",
        "working on slice 45\n",
        "Generated"
       ]
      },
      {
       "output_type": "stream",
       "stream": "stdout",
       "text": [
        " 352 split error patches and 352  correct patches in 153.560007811 seconds.\n",
        "working on slice 46\n",
        "Generated"
       ]
      },
      {
       "output_type": "stream",
       "stream": "stdout",
       "text": [
        " 352 split error patches and 352  correct patches in 156.818607092 seconds.\n",
        "working on slice 47\n",
        "Generated"
       ]
      },
      {
       "output_type": "stream",
       "stream": "stdout",
       "text": [
        " 396 split error patches and 396  correct patches in 153.688823938 seconds.\n",
        "working on slice 48\n",
        "Generated"
       ]
      },
      {
       "output_type": "stream",
       "stream": "stdout",
       "text": [
        " 372 split error patches and 372  correct patches in 155.339792013 seconds.\n",
        "working on slice 49\n",
        "Generated"
       ]
      },
      {
       "output_type": "stream",
       "stream": "stdout",
       "text": [
        " 428 split error patches and 428  correct patches in 163.184302807 seconds.\n",
        "working on slice 50\n",
        "Generated"
       ]
      },
      {
       "output_type": "stream",
       "stream": "stdout",
       "text": [
        " 280 split error patches and 280  correct patches in 151.501235962 seconds.\n",
        "working on slice 51\n",
        "Generated"
       ]
      },
      {
       "output_type": "stream",
       "stream": "stdout",
       "text": [
        " 344 split error patches and 344  correct patches in 156.509710073 seconds.\n",
        "working on slice 52\n",
        "Generated"
       ]
      },
      {
       "output_type": "stream",
       "stream": "stdout",
       "text": [
        " 316 split error patches and 316  correct patches in 155.890003204 seconds.\n",
        "working on slice 53\n",
        "Generated"
       ]
      },
      {
       "output_type": "stream",
       "stream": "stdout",
       "text": [
        " 324 split error patches and 324  correct patches in 157.748274088 seconds.\n",
        "working on slice 54\n",
        "Generated"
       ]
      },
      {
       "output_type": "stream",
       "stream": "stdout",
       "text": [
        " 528 split error patches and 528  correct patches in 165.011682987 seconds.\n",
        "working on slice 55\n",
        "Generated"
       ]
      },
      {
       "output_type": "stream",
       "stream": "stdout",
       "text": [
        " 324 split error patches and 324  correct patches in 151.428748131 seconds.\n",
        "working on slice 56\n",
        "Generated"
       ]
      },
      {
       "output_type": "stream",
       "stream": "stdout",
       "text": [
        " 316 split error patches and 316  correct patches in 157.425033092 seconds.\n",
        "working on slice 57\n",
        "Generated"
       ]
      },
      {
       "output_type": "stream",
       "stream": "stdout",
       "text": [
        " 352 split error patches and 352  correct patches in 158.265694857 seconds.\n",
        "working on slice 58\n",
        "Generated"
       ]
      },
      {
       "output_type": "stream",
       "stream": "stdout",
       "text": [
        " 360 split error patches and 360  correct patches in 153.360410929 seconds.\n",
        "working on slice 59\n",
        "Generated"
       ]
      },
      {
       "output_type": "stream",
       "stream": "stdout",
       "text": [
        " 300 split error patches and 300  correct patches in 147.657617092 seconds.\n",
        "working on slice 60\n",
        "Generated"
       ]
      },
      {
       "output_type": "stream",
       "stream": "stdout",
       "text": [
        " 312 split error patches and 312  correct patches in 161.021709919 seconds.\n",
        "working on slice 61\n",
        "Generated"
       ]
      },
      {
       "output_type": "stream",
       "stream": "stdout",
       "text": [
        " 312 split error patches and 312  correct patches in 157.333067894 seconds.\n",
        "working on slice 62\n",
        "Generated"
       ]
      },
      {
       "output_type": "stream",
       "stream": "stdout",
       "text": [
        " 408 split error patches and 408  correct patches in 159.542238951 seconds.\n",
        "working on slice 63\n",
        "Generated"
       ]
      },
      {
       "output_type": "stream",
       "stream": "stdout",
       "text": [
        " 504 split error patches and 504  correct patches in 180.069209814 seconds.\n",
        "working on slice 64\n",
        "Generated"
       ]
      },
      {
       "output_type": "stream",
       "stream": "stdout",
       "text": [
        " 416 split error patches and 416  correct patches in 164.682762146 seconds.\n",
        "working on slice 65\n",
        "Generated"
       ]
      },
      {
       "output_type": "stream",
       "stream": "stdout",
       "text": [
        " 424 split error patches and 424  correct patches in 165.985078096 seconds.\n",
        "working on slice 66\n",
        "Generated"
       ]
      },
      {
       "output_type": "stream",
       "stream": "stdout",
       "text": [
        " 352 split error patches and 352  correct patches in 163.492664814 seconds.\n",
        "working on slice 67\n",
        "Generated"
       ]
      },
      {
       "output_type": "stream",
       "stream": "stdout",
       "text": [
        " 376 split error patches and 376  correct patches in 166.123023033 seconds.\n",
        "working on slice 68\n",
        "Generated"
       ]
      },
      {
       "output_type": "stream",
       "stream": "stdout",
       "text": [
        " 388 split error patches and 388  correct patches in 158.643599033 seconds.\n",
        "working on slice 69\n",
        "Generated"
       ]
      },
      {
       "output_type": "stream",
       "stream": "stdout",
       "text": [
        " 344 split error patches and 344  correct patches in 164.48925209 seconds.\n",
        "We have a total of 43792 patches.\n",
        "Errors: 21896\n",
        "Correct: 21896\n",
        "saving.."
       ]
      },
      {
       "output_type": "stream",
       "stream": "stdout",
       "text": [
        "\n",
        "Done!"
       ]
      },
      {
       "output_type": "stream",
       "stream": "stdout",
       "text": [
        "\n",
        "working on slice"
       ]
      },
      {
       "output_type": "stream",
       "stream": "stdout",
       "text": [
        " 70\n",
        "Generated"
       ]
      },
      {
       "output_type": "stream",
       "stream": "stdout",
       "text": [
        " 336 split error patches and 336  correct patches in 164.207524061 seconds.\n",
        "working on slice 71\n",
        "Generated"
       ]
      },
      {
       "output_type": "stream",
       "stream": "stdout",
       "text": [
        " 328 split error patches and 328  correct patches in 171.494783163 seconds.\n",
        "working on slice 72\n",
        "Generated"
       ]
      },
      {
       "output_type": "stream",
       "stream": "stdout",
       "text": [
        " 344 split error patches and 344  correct patches in 165.305664062 seconds.\n",
        "working on slice 73\n",
        "Generated"
       ]
      },
      {
       "output_type": "stream",
       "stream": "stdout",
       "text": [
        " 240 split error patches and 240  correct patches in 151.608062983 seconds.\n",
        "working on slice 74\n",
        "Generated"
       ]
      },
      {
       "output_type": "stream",
       "stream": "stdout",
       "text": [
        " 280 split error patches and 280  correct patches in 167.175078154 seconds.\n",
        "We have a total of 3056 patches.\n",
        "Errors: 1528\n",
        "Correct: 1528\n",
        "saving.."
       ]
      },
      {
       "output_type": "stream",
       "stream": "stdout",
       "text": [
        "\n",
        "Done!"
       ]
      },
      {
       "output_type": "stream",
       "stream": "stdout",
       "text": [
        "\n"
       ]
      }
     ],
     "prompt_number": 25
    },
    {
     "cell_type": "code",
     "collapsed": false,
     "input": [
      "aaa = np.load(PATCH_PATH+'train.npz')\n",
      "bbb = np.load(PATCH_PATH+'train_targets.npz')"
     ],
     "language": "python",
     "metadata": {},
     "outputs": [],
     "prompt_number": 12
    },
    {
     "cell_type": "code",
     "collapsed": false,
     "input": [
      "bbb['targets']"
     ],
     "language": "python",
     "metadata": {},
     "outputs": [
      {
       "metadata": {},
       "output_type": "pyout",
       "prompt_number": 13,
       "text": [
        "array([ 1.,  1.,  1.,  0.,  1.,  0.,  0.,  0.,  1.,  0.,  1.,  0.,  1.,\n",
        "        1.,  0.,  0.,  0.,  1.,  0.,  0.,  0.,  1.,  0.,  0.,  1.,  0.,\n",
        "        1.,  1.,  1.,  0.,  1.,  0.,  0.,  0.,  0.,  0.,  0.,  0.,  1.,\n",
        "        0.,  1.,  1.,  1.,  1.,  1.,  1.,  1.,  0.,  0.,  1.,  1.,  1.,\n",
        "        0.,  1.,  0.,  1.,  1.,  0.,  0.,  1.,  0.,  0.,  1.,  0.,  0.,\n",
        "        0.,  1.,  1.,  0.,  0.,  0.,  0.,  0.,  1.,  0.,  0.,  0.,  0.,\n",
        "        1.,  0.,  1.,  0.,  0.,  1.,  0.,  0.,  1.,  1.,  0.,  0.,  0.,\n",
        "        1.,  1.,  1.,  1.,  1.,  1.,  0.,  1.,  0.,  1.,  0.,  0.,  0.,\n",
        "        0.,  0.,  0.,  1.,  1.,  0.,  1.,  0.,  1.,  1.,  1.,  0.,  1.,\n",
        "        1.,  1.,  1.,  1.,  1.,  1.,  0.,  0.,  1.,  1.,  0.,  1.,  1.,\n",
        "        0.,  0.,  0.,  0.,  0.,  1.,  1.,  0.,  0.,  0.,  1.,  1.,  0.,\n",
        "        0.,  0.,  0.,  0.,  1.,  1.,  0.,  0.,  0.,  1.,  1.,  1.,  1.,\n",
        "        1.,  0.,  0.,  1.,  1.,  0.,  1.,  0.,  0.,  1.,  1.,  1.,  0.,\n",
        "        0.,  1.,  0.,  0.,  0.,  1.,  0.,  1.,  0.,  0.,  0.,  0.,  1.,\n",
        "        1.,  0.,  0.,  0.,  1.,  0.,  1.,  0.,  1.,  0.,  1.,  1.,  1.,\n",
        "        0.,  1.,  0.,  1.,  1.,  0.,  1.,  1.,  0.,  0.,  1.,  1.,  1.,\n",
        "        1.,  0.,  0.,  0.,  1.,  1.,  1.,  1.,  0.,  0.,  1.,  0.,  0.,\n",
        "        0.,  1.,  1.,  0.,  0.,  1.,  1.,  1.,  1.,  1.,  0.,  0.,  1.,\n",
        "        0.,  0.,  0.,  1.,  0.,  0.,  1.,  0.,  0.,  1.,  1.,  0.,  0.,\n",
        "        1.,  1.,  0.,  0.,  1.,  1.,  1.,  0.,  0.,  1.,  1.,  1.,  0.,\n",
        "        1.,  0.,  1.,  0.,  1.,  1.,  1.,  0.,  0.,  1.,  1.,  0.,  1.,\n",
        "        1.,  0.,  1.,  1.,  0.,  0.,  1.,  0.,  1.,  1.,  0.,  0.,  1.,\n",
        "        0.,  1.,  0.,  0.,  0.,  1.,  1.,  0.,  0.,  1.,  0.,  0.,  1.,\n",
        "        1.,  0.,  0.,  1.,  1.,  1.,  0.,  0.,  1.,  0.,  0.,  0.,  1.,\n",
        "        0.,  1.,  1.,  0.,  1.,  0.,  0.,  0.,  1.,  0.,  1.,  1.,  0.,\n",
        "        0.,  0.,  1.,  1.,  0.,  0.,  0.,  0.,  1.,  1.,  1.,  1.,  1.,\n",
        "        0.,  1.,  0.,  1.,  1.,  1.,  1.,  0.,  0.,  0.,  1.,  1.,  0.,\n",
        "        1.,  1.,  0.,  0.,  0.,  0.,  0.,  1.,  1.,  0.,  1.,  1.,  1.,\n",
        "        0.,  1.,  1.,  1.,  1.,  0.,  1.,  0.,  1.,  0.,  1.,  1.,  0.,\n",
        "        0.,  0.,  0.,  0.,  1.,  1.,  0.,  0.,  0.,  0.,  1.,  0.,  1.,\n",
        "        1.,  0.,  0.,  1.,  1.,  0.,  1.,  0.,  1.,  0.,  1.,  1.,  0.,\n",
        "        0.,  1.,  1.,  0.,  0.,  1.,  0.,  1.,  1.,  0.,  1.,  0.,  1.,\n",
        "        1.,  1.,  0.,  1.,  0.,  0.,  0.,  1.,  0.,  0.,  1.,  1.,  0.,\n",
        "        0.,  0.,  0.,  0.,  0.,  1.,  1.,  1.,  0.,  0.,  0.,  1.,  0.,\n",
        "        1.,  0.,  0.,  1.,  1.,  1.,  1.,  1.,  1.,  0.,  1.,  1.,  1.,\n",
        "        1.,  1.,  0.,  1.,  0.,  0.,  0.,  0.,  0.,  1.,  0.,  0.,  0.,\n",
        "        0.,  0.,  0.,  1.,  1.,  1.,  1.,  0.,  0.,  0.,  1.,  0.,  0.,\n",
        "        1.,  1.,  0.,  0.,  1.,  1.,  0.,  1.,  0.,  1.,  1.,  0.,  0.,\n",
        "        0.,  1.,  1.,  0.,  1.,  0.,  0.,  1.,  1.,  1.,  0.,  0.,  1.,\n",
        "        0.,  0.,  0.,  1.,  0.,  1.,  0.,  1.,  1.,  0.,  0.,  1.,  0.,\n",
        "        1.,  0.,  1.,  0.,  0.,  1.,  1.,  1.,  0.,  1.,  1.,  1.,  0.,\n",
        "        0.,  1.,  1.,  1.,  1.,  0.,  1.,  1.,  1.,  1.,  0.,  1.,  0.,\n",
        "        0.,  1.,  0.,  0.,  0.,  1.,  1.,  0.,  0.,  0.,  1.,  0.,  0.,\n",
        "        0.,  0.,  1.,  1.,  1.,  0.,  1.,  0.,  0.,  0.,  0.,  0.,  0.,\n",
        "        1.,  1.,  1.,  0.,  1.,  1.,  0.,  1.,  0.,  0.,  0.,  1.,  1.,\n",
        "        1.,  0.,  0.,  0.,  1.,  1.,  1.,  0.,  0.,  1.,  0.,  1.,  1.,\n",
        "        0.,  1.,  1.,  0.,  1.,  0.,  0.,  0.,  1.,  0.,  0.,  0.,  0.,\n",
        "        1.,  1.,  1.,  0.,  0.,  1.,  1.,  0.,  0.,  1.,  0.,  0.,  0.,\n",
        "        0.,  0.,  0.,  1.,  1.,  1.,  1.,  1.,  1.,  0.,  1.,  1.,  1.,\n",
        "        0.,  1.,  1.,  0.,  1.,  1.,  1.,  0.,  0.,  0.,  1.,  1.,  0.,\n",
        "        1.,  0.,  1.,  1.,  0.,  1.,  0.,  1.,  1.,  0.,  0.,  0.,  0.,\n",
        "        1.,  0.,  1.,  1.,  1.,  1.,  0.,  1.,  0.,  1.,  0.,  1.,  1.,\n",
        "        1.,  0.,  1.,  1.,  1.,  1.,  1.,  1.,  1.,  1.,  1.,  1.,  0.,\n",
        "        1.,  0.,  1.,  1.,  0.,  0.,  0.,  1.,  1.,  0.,  1.,  0.,  1.,\n",
        "        1.,  0.,  0.,  0.,  1.,  1.,  0.,  0.,  0.,  1.,  1.,  0.,  1.,\n",
        "        1.,  1.,  1.,  0.,  0.,  1.,  1.,  0.,  0.,  1.,  0.,  0.,  0.,\n",
        "        0.,  0.,  0.,  1.,  1.,  1.,  0.,  1.])"
       ]
      }
     ],
     "prompt_number": 13
    },
    {
     "cell_type": "code",
     "collapsed": false,
     "input": [
      "len(aaa['image'])"
     ],
     "language": "python",
     "metadata": {},
     "outputs": [
      {
       "metadata": {},
       "output_type": "pyout",
       "prompt_number": 14,
       "text": [
        "736"
       ]
      }
     ],
     "prompt_number": 14
    },
    {
     "cell_type": "code",
     "collapsed": false,
     "input": [
      "len(bbb['targets'])"
     ],
     "language": "python",
     "metadata": {},
     "outputs": [
      {
       "metadata": {},
       "output_type": "pyout",
       "prompt_number": 15,
       "text": [
        "736"
       ]
      }
     ],
     "prompt_number": 15
    },
    {
     "cell_type": "code",
     "collapsed": false,
     "input": [
      "aaa['image'].shape"
     ],
     "language": "python",
     "metadata": {},
     "outputs": [
      {
       "metadata": {},
       "output_type": "pyout",
       "prompt_number": 16,
       "text": [
        "(736, 1, 75, 75)"
       ]
      }
     ],
     "prompt_number": 16
    },
    {
     "cell_type": "code",
     "collapsed": false,
     "input": [
      "imshow(aaa['merged_array'][500][0])"
     ],
     "language": "python",
     "metadata": {},
     "outputs": [
      {
       "metadata": {},
       "output_type": "pyout",
       "prompt_number": 24,
       "text": [
        "<matplotlib.image.AxesImage at 0x111e13f90>"
       ]
      },
      {
       "metadata": {},
       "output_type": "display_data",
       "png": "[encoded data removed]",
       "text": [
        "<matplotlib.figure.Figure at 0x111cf7310>"
       ]
      }
     ],
     "prompt_number": 24
    },
    {
     "cell_type": "code",
     "collapsed": false,
     "input": [
      "aaa['prob'][10000].reshape(75,75)"
     ],
     "language": "python",
     "metadata": {},
     "outputs": [
      {
       "metadata": {},
       "output_type": "pyout",
       "prompt_number": 13,
       "text": [
        "array([[ 0,  0,  0, ...,  0,  0,  0],\n",
        "       [ 0,  0,  0, ...,  0,  0,  0],\n",
        "       [ 0,  0,  0, ...,  0,  0,  0],\n",
        "       ..., \n",
        "       [ 0,  0,  0, ..., 22, 14, 14],\n",
        "       [ 0,  0,  0, ...,  5, 17, 19],\n",
        "       [ 0,  0,  0, ...,  1,  3, 12]], dtype=uint8)"
       ]
      }
     ],
     "prompt_number": 13
    },
    {
     "cell_type": "code",
     "collapsed": false,
     "input": [
      "imshow((aaa['prob'][10000].astype(np.double)/255).reshape(75,75))"
     ],
     "language": "python",
     "metadata": {},
     "outputs": [
      {
       "metadata": {},
       "output_type": "pyout",
       "prompt_number": 15,
       "text": [
        "<matplotlib.image.AxesImage at 0x1ad211850>"
       ]
      },
      {
       "metadata": {},
       "output_type": "display_data",
       "png": "[encoded data removed]",
       "text": [
        "<matplotlib.figure.Figure at 0x141a17350>"
       ]
      }
     ],
     "prompt_number": 15
    },
    {
     "cell_type": "code",
     "collapsed": false,
     "input": [
      "images = (aaa['image'].astype(np.double)/255).reshape(-1, 1, 75,75)"
     ],
     "language": "python",
     "metadata": {},
     "outputs": [],
     "prompt_number": 20
    },
    {
     "cell_type": "code",
     "collapsed": false,
     "input": [
      "probs = (aaa['prob'].astype(np.double)/255).reshape(-1, 1, 75,75)"
     ],
     "language": "python",
     "metadata": {},
     "outputs": [],
     "prompt_number": 21
    },
    {
     "cell_type": "code",
     "collapsed": false,
     "input": [
      "merged_arrays = aaa['merged_array'].reshape(-1, 1, 75,75)"
     ],
     "language": "python",
     "metadata": {},
     "outputs": [],
     "prompt_number": 22
    },
    {
     "cell_type": "code",
     "collapsed": false,
     "input": [
      "larger_border_overlaps = aaa['larger_border_overlap'].reshape(-1, 1, 75,75)"
     ],
     "language": "python",
     "metadata": {},
     "outputs": [],
     "prompt_number": 23
    },
    {
     "cell_type": "code",
     "collapsed": false,
     "input": [],
     "language": "python",
     "metadata": {},
     "outputs": []
    }
   ],
   "metadata": {}
  }
 ]
}