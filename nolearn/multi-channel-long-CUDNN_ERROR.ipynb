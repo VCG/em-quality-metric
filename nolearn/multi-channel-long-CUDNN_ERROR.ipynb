{
 "metadata": {
  "name": "",
  "signature": "sha256:372231dedc010f7b62c78833192fe3875b3a4db02006b883dcc480ecaa0a23ab"
 },
 "nbformat": 3,
 "nbformat_minor": 0,
 "worksheets": [
  {
   "cells": [
    {
     "cell_type": "code",
     "collapsed": false,
     "input": [
      "from __future__ import division, print_function\n",
      "\n",
      "%load_ext autoreload\n",
      "%autoreload 2\n",
      "\n",
      "IMAGE_HEIGHT = 75\n",
      "IMAGE_WIDTH = 75\n",
      "\n",
      "import scipy\n",
      "import theano\n",
      "import numpy as np\n",
      "\n",
      "import matplotlib.pyplot as plt\n",
      "from matplotlib import gridspec\n",
      "import seaborn as sns\n",
      "%matplotlib inline\n",
      "\n",
      "from sklearn.datasets import fetch_mldata\n",
      "from sklearn.cross_validation import train_test_split\n",
      "\n",
      "from nolearn.lasagne import NeuralNet\n",
      "from nolearn.lasagne import TrainSplit\n",
      "from nolearn.lasagne import PrintLayerInfo\n",
      "from nolearn.lasagne.visualize import plot_loss\n",
      "from nolearn.lasagne.visualize import plot_conv_weights\n",
      "from nolearn.lasagne.visualize import plot_conv_activity\n",
      "from nolearn.lasagne.visualize import plot_occlusion\n",
      "\n",
      "from lasagne import layers\n",
      "from lasagne import nonlinearities\n",
      "from lasagne.updates import nesterov_momentum\n",
      "\n",
      "\n",
      "\n",
      "from util import Util\n",
      "\n",
      "from theano.sandbox.cuda import dnn\n",
      "\n",
      "print ('CuDNN support:', dnn.dnn_available())"
     ],
     "language": "python",
     "metadata": {},
     "outputs": [
      {
       "output_type": "stream",
       "stream": "stderr",
       "text": [
        "Using gpu device 0: GeForce GTX TITAN Black (CNMeM is disabled, CuDNN 4007)\n",
        "/usr/local/lib/python2.7/dist-packages/theano/tensor/signal/downsample.py:6: UserWarning: downsample module has been moved to the theano.tensor.signal.pool module.\n",
        "  \"downsample module has been moved to the theano.tensor.signal.pool module.\")\n"
       ]
      },
      {
       "output_type": "stream",
       "stream": "stdout",
       "text": [
        "CuDNN support: True\n"
       ]
      },
      {
       "output_type": "stream",
       "stream": "stderr",
       "text": [
        "tifffile.py:1995: UserWarning: failed to import _tifffile.decodepackbits\n",
        "  warnings.warn(\"failed to import %s\" % module_function)\n",
        "tifffile.py:1995: UserWarning: failed to import _tifffile.decodelzw\n",
        "  warnings.warn(\"failed to import %s\" % module_function)\n",
        "tifffile.py:1995: UserWarning: failed to import _tifffile.unpackints\n",
        "  warnings.warn(\"failed to import %s\" % module_function)\n"
       ]
      }
     ],
     "prompt_number": 1
    },
    {
     "cell_type": "code",
     "collapsed": false,
     "input": [
      "class EarlyStopping(object):\n",
      "    def __init__(self, patience=100):\n",
      "        self.patience = patience\n",
      "        self.best_valid = np.inf\n",
      "        self.best_valid_epoch = 0\n",
      "        self.best_weights = None\n",
      "\n",
      "    def __call__(self, nn, train_history):\n",
      "        current_valid = train_history[-1]['valid_loss']\n",
      "        current_epoch = train_history[-1]['epoch']\n",
      "        if current_valid < self.best_valid:\n",
      "            self.best_valid = current_valid\n",
      "            self.best_valid_epoch = current_epoch\n",
      "            self.best_weights = nn.get_all_params_values()\n",
      "        elif self.best_valid_epoch + self.patience < current_epoch:\n",
      "            print(\"Early stopping.\")\n",
      "            print(\"Best valid loss was {:.6f} at epoch {}.\".format(\n",
      "                self.best_valid, self.best_valid_epoch))\n",
      "            nn.load_params_from(self.best_weights)\n",
      "            raise StopIteration()\n",
      "            \n",
      "class AdjustVariable(object):\n",
      "    def __init__(self, name, start=0.03, stop=0.001):\n",
      "        self.name = name\n",
      "        self.start, self.stop = start, stop\n",
      "        self.ls = None\n",
      "\n",
      "    def __call__(self, nn, train_history):\n",
      "        if self.ls is None:\n",
      "            self.ls = np.linspace(self.start, self.stop, nn.max_epochs)\n",
      "\n",
      "        epoch = train_history[-1]['epoch']\n",
      "        new_value = float32(self.ls[epoch - 1])\n",
      "        getattr(nn, self.name).set_value(new_value)            \n",
      "            \n",
      "def float32(k):\n",
      "    return np.cast['float32'](k)            "
     ],
     "language": "python",
     "metadata": {},
     "outputs": [],
     "prompt_number": 2
    },
    {
     "cell_type": "code",
     "collapsed": false,
     "input": [
      "X_train, y_train, X_val, y_val, X_test, y_test = Util.load_dataset('patches_8th')"
     ],
     "language": "python",
     "metadata": {},
     "outputs": [
      {
       "output_type": "stream",
       "stream": "stdout",
       "text": [
        "Loading data..\n"
       ]
      },
      {
       "ename": "KeyboardInterrupt",
       "evalue": "",
       "output_type": "pyerr",
       "traceback": [
        "\u001b[0;31m---------------------------------------------------------------------------\u001b[0m\n\u001b[0;31mKeyboardInterrupt\u001b[0m                         Traceback (most recent call last)",
        "\u001b[0;32m<ipython-input-5-81bf97e3e19b>\u001b[0m in \u001b[0;36m<module>\u001b[0;34m()\u001b[0m\n\u001b[0;32m----> 1\u001b[0;31m \u001b[0mX_train\u001b[0m\u001b[0;34m,\u001b[0m \u001b[0my_train\u001b[0m\u001b[0;34m,\u001b[0m \u001b[0mX_val\u001b[0m\u001b[0;34m,\u001b[0m \u001b[0my_val\u001b[0m\u001b[0;34m,\u001b[0m \u001b[0mX_test\u001b[0m\u001b[0;34m,\u001b[0m \u001b[0my_test\u001b[0m \u001b[0;34m=\u001b[0m \u001b[0mUtil\u001b[0m\u001b[0;34m.\u001b[0m\u001b[0mload_dataset\u001b[0m\u001b[0;34m(\u001b[0m\u001b[0;34m'patches_7th'\u001b[0m\u001b[0;34m)\u001b[0m\u001b[0;34m\u001b[0m\u001b[0m\n\u001b[0m",
        "\u001b[0;32m/Users/d/Projects/em-quality-metric/nolearn/util.py\u001b[0m in \u001b[0;36mload_dataset\u001b[0;34m(PATCH_PATH, patch_size)\u001b[0m\n\u001b[1;32m    742\u001b[0m       training = {\n\u001b[1;32m    743\u001b[0m         \u001b[0;34m'image'\u001b[0m\u001b[0;34m:\u001b[0m \u001b[0;34m(\u001b[0m\u001b[0mtraining\u001b[0m\u001b[0;34m[\u001b[0m\u001b[0;34m'image'\u001b[0m\u001b[0;34m]\u001b[0m\u001b[0;34m.\u001b[0m\u001b[0mastype\u001b[0m\u001b[0;34m(\u001b[0m\u001b[0mnp\u001b[0m\u001b[0;34m.\u001b[0m\u001b[0mdouble\u001b[0m\u001b[0;34m)\u001b[0m\u001b[0;34m/\u001b[0m\u001b[0;36m255\u001b[0m\u001b[0;34m)\u001b[0m\u001b[0;34m.\u001b[0m\u001b[0mreshape\u001b[0m\u001b[0;34m(\u001b[0m\u001b[0;34m-\u001b[0m\u001b[0;36m1\u001b[0m\u001b[0;34m,\u001b[0m \u001b[0;36m1\u001b[0m\u001b[0;34m,\u001b[0m \u001b[0mpatch_size\u001b[0m\u001b[0;34m[\u001b[0m\u001b[0;36m0\u001b[0m\u001b[0;34m]\u001b[0m\u001b[0;34m,\u001b[0m \u001b[0mpatch_size\u001b[0m\u001b[0;34m[\u001b[0m\u001b[0;36m1\u001b[0m\u001b[0;34m]\u001b[0m\u001b[0;34m)\u001b[0m\u001b[0;34m,\u001b[0m\u001b[0;34m\u001b[0m\u001b[0m\n\u001b[0;32m--> 744\u001b[0;31m         \u001b[0;34m'prob'\u001b[0m\u001b[0;34m:\u001b[0m \u001b[0;34m(\u001b[0m\u001b[0mtraining\u001b[0m\u001b[0;34m[\u001b[0m\u001b[0;34m'prob'\u001b[0m\u001b[0;34m]\u001b[0m\u001b[0;34m.\u001b[0m\u001b[0mastype\u001b[0m\u001b[0;34m(\u001b[0m\u001b[0mnp\u001b[0m\u001b[0;34m.\u001b[0m\u001b[0mdouble\u001b[0m\u001b[0;34m)\u001b[0m\u001b[0;34m/\u001b[0m\u001b[0;36m255\u001b[0m\u001b[0;34m)\u001b[0m\u001b[0;34m.\u001b[0m\u001b[0mreshape\u001b[0m\u001b[0;34m(\u001b[0m\u001b[0;34m-\u001b[0m\u001b[0;36m1\u001b[0m\u001b[0;34m,\u001b[0m \u001b[0;36m1\u001b[0m\u001b[0;34m,\u001b[0m \u001b[0mpatch_size\u001b[0m\u001b[0;34m[\u001b[0m\u001b[0;36m0\u001b[0m\u001b[0;34m]\u001b[0m\u001b[0;34m,\u001b[0m \u001b[0mpatch_size\u001b[0m\u001b[0;34m[\u001b[0m\u001b[0;36m1\u001b[0m\u001b[0;34m]\u001b[0m\u001b[0;34m)\u001b[0m\u001b[0;34m,\u001b[0m\u001b[0;34m\u001b[0m\u001b[0m\n\u001b[0m\u001b[1;32m    745\u001b[0m         \u001b[0;31m# 'binary': training['binary'].astype(np.uint8).reshape(-1, 1, patch_size[0], patch_size[1]),\u001b[0m\u001b[0;34m\u001b[0m\u001b[0;34m\u001b[0m\u001b[0m\n\u001b[1;32m    746\u001b[0m         \u001b[0;31m# 'binary1': training['binary1'].astype(np.uint8).reshape(-1, 1, patch_size[0], patch_size[1]),\u001b[0m\u001b[0;34m\u001b[0m\u001b[0;34m\u001b[0m\u001b[0m\n",
        "\u001b[0;31mKeyboardInterrupt\u001b[0m: "
       ]
      }
     ],
     "prompt_number": 5
    },
    {
     "cell_type": "code",
     "collapsed": false,
     "input": [
      "X_train.keys()"
     ],
     "language": "python",
     "metadata": {},
     "outputs": [
      {
       "metadata": {},
       "output_type": "pyout",
       "prompt_number": 7,
       "text": [
        "['binary',\n",
        " 'dyn_obj',\n",
        " 'dyn_bnd',\n",
        " 'image',\n",
        " 'border_overlap',\n",
        " 'prob',\n",
        " 'merged_array',\n",
        " 'larger_border_overlap']"
       ]
      }
     ],
     "prompt_number": 7
    },
    {
     "cell_type": "code",
     "collapsed": false,
     "input": [
      "net0 = NeuralNet(\n",
      "    layers=[\n",
      "        ('image', layers.InputLayer),\n",
      "#         ('image_conv1', layers.Conv2DLayer),\n",
      "        ('image_conv1', layers.dnn.Conv2DDNNLayer),\n",
      "        ('image_pool1', layers.MaxPool2DLayer),\n",
      "        ('image_dropout1', layers.DropoutLayer),\n",
      "#         ('image_conv2', layers.Conv2DLayer),\n",
      "        ('image_conv2', layers.dnn.Conv2DDNNLayer),\n",
      "        ('image_pool2', layers.MaxPool2DLayer),\n",
      "        ('image_dropout2', layers.DropoutLayer),\n",
      "\n",
      "        ('prob', layers.InputLayer),\n",
      "#         ('prob_conv1', layers.Conv2DLayer),\n",
      "        ('prob_conv1', layers.dnn.Conv2DDNNLayer),\n",
      "        ('prob_pool1', layers.MaxPool2DLayer),\n",
      "        ('prob_dropout1', layers.DropoutLayer),\n",
      "#         ('prob_conv2', layers.Conv2DLayer),\n",
      "        ('prob_conv2', layers.dnn.Conv2DDNNLayer),\n",
      "        ('prob_pool2', layers.MaxPool2DLayer),\n",
      "        ('prob_dropout2', layers.DropoutLayer),\n",
      "\n",
      "        ('binary', layers.InputLayer),\n",
      "#         ('binary_conv1', layers.Conv2DLayer),\n",
      "        ('binary_conv1', layers.dnn.Conv2DDNNLayer),\n",
      "        ('binary_pool1', layers.MaxPool2DLayer),\n",
      "        ('binary_dropout1', layers.DropoutLayer),\n",
      "#         ('binary_conv2', layers.Conv2DLayer),\n",
      "        ('binary_conv2', layers.dnn.Conv2DDNNLayer),\n",
      "        ('binary_pool2', layers.MaxPool2DLayer),\n",
      "        ('binary_dropout2', layers.DropoutLayer),\n",
      "\n",
      "        ('border', layers.InputLayer),\n",
      "#         ('border_conv1', layers.Conv2DLayer),\n",
      "        ('border_conv1', layers.dnn.Conv2DDNNLayer),\n",
      "        ('border_pool1', layers.MaxPool2DLayer),\n",
      "        ('border_dropout1', layers.DropoutLayer),\n",
      "#         ('border_conv2', layers.Conv2DLayer),\n",
      "        ('border_conv2', layers.dnn.Conv2DDNNLayer),\n",
      "        ('border_pool2', layers.MaxPool2DLayer),\n",
      "        ('border_dropout2', layers.DropoutLayer),\n",
      "\n",
      "        ('merge', layers.ConcatLayer),\n",
      "        ('hidden3', layers.DenseLayer),\n",
      "        ('dropout3', layers.DropoutLayer),\n",
      "        ('output', layers.DenseLayer),\n",
      "    ],\n",
      "\n",
      "    # image\n",
      "    image_shape=(None, 1, 75, 75),\n",
      "    # conv2d + pool + dropout\n",
      "    image_conv1_filter_size=(13,13), image_conv1_num_filters=16,\n",
      "    image_pool1_pool_size=(2,2),\n",
      "    image_dropout1_p=0.1,\n",
      "    # conv2d + pool + dropout\n",
      "    image_conv2_filter_size=(13,13), image_conv2_num_filters=16,\n",
      "    image_pool2_pool_size=(2,2),\n",
      "    image_dropout2_p=0.2,\n",
      "\n",
      "    # prob\n",
      "    prob_shape=(None, 1, 75, 75),\n",
      "\n",
      "    # conv2d + pool + dropout\n",
      "    prob_conv1_filter_size=(13,13), prob_conv1_num_filters=16,\n",
      "    prob_pool1_pool_size=(2,2),\n",
      "    prob_dropout1_p=0.1,\n",
      "    # conv2d + pool + dropout\n",
      "    prob_conv2_filter_size=(13,13), prob_conv2_num_filters=16,\n",
      "    prob_pool2_pool_size=(2,2),\n",
      "    prob_dropout2_p=0.2,\n",
      "\n",
      "    # binary\n",
      "    binary_shape=(None, 1, 75, 75),\n",
      "    # conv2d + pool + dropout\n",
      "    binary_conv1_filter_size=(13,13), binary_conv1_num_filters=16,\n",
      "    binary_pool1_pool_size=(2,2),\n",
      "    binary_dropout1_p=0.1,\n",
      "    # conv2d + pool + dropout\n",
      "    binary_conv2_filter_size=(13,13), binary_conv2_num_filters=16,\n",
      "    binary_pool2_pool_size=(2,2),\n",
      "    binary_dropout2_p=0.2,\n",
      "\n",
      "    # border\n",
      "    border_shape=(None, 1, 75, 75),\n",
      "    # conv2d + pool + dropout\n",
      "    border_conv1_filter_size=(13,13), border_conv1_num_filters=16,\n",
      "    border_pool1_pool_size=(2,2),\n",
      "    border_dropout1_p=0.1,\n",
      "    # conv2d + pool + dropout\n",
      "    border_conv2_filter_size=(13,13), border_conv2_num_filters=16,\n",
      "    border_pool2_pool_size=(2,2),\n",
      "    border_dropout2_p=0.2,\n",
      "\n",
      "    # concat\n",
      "    merge_incomings=['image_dropout2','prob_dropout2','binary_dropout2','border_dropout2'],\n",
      "\n",
      "    # dense layer 1\n",
      "    hidden3_num_units=256,\n",
      "    hidden3_nonlinearity=nonlinearities.rectify,\n",
      "    dropout3_p=0.5,\n",
      "\n",
      "    # dense layer 2\n",
      "    output_num_units=2,\n",
      "    output_nonlinearity=nonlinearities.softmax,\n",
      "\n",
      "\n",
      "\n",
      "    update=nesterov_momentum,\n",
      "    update_learning_rate=theano.shared(float32(0.03)),\n",
      "    update_momentum=theano.shared(float32(0.9)),\n",
      "\n",
      "\n",
      "    train_split=TrainSplit(eval_size=0.25),\n",
      "    max_epochs=300,\n",
      "    verbose=True,\n",
      "\n",
      "    on_epoch_finished=[\n",
      "        AdjustVariable('update_learning_rate', start=0.03, stop=0.0001),\n",
      "        AdjustVariable('update_momentum', start=0.9, stop=0.999),\n",
      "        EarlyStopping(patience=30),\n",
      "    ]\n",
      ")\n",
      "\n",
      "net0_fit = net0.fit({'image': X_train['image'].astype(np.float32),\n",
      "                     'prob': X_train['prob'].astype(np.float32),\n",
      "                     'binary': X_train['merged_array'],\n",
      "                     'border': X_train['larger_border_overlap']},\n",
      "                     y_train)"
     ],
     "language": "python",
     "metadata": {},
     "outputs": [
      {
       "output_type": "stream",
       "stream": "stdout",
       "text": [
        "# Neural Network with 1511874 learnable parameters\n",
        "\n",
        "## Layer information\n",
        "\n",
        "  #  name             size\n",
        "---  ---------------  --------\n",
        "  0  image            1x75x75\n",
        "  1  image_conv1      16x63x63\n",
        "  2  image_pool1      16x31x31\n",
        "  3  image_dropout1   16x31x31\n",
        "  4  image_conv2      16x19x19\n",
        "  5  image_pool2      16x9x9\n",
        "  6  image_dropout2   16x9x9\n",
        "  7  prob             1x75x75\n",
        "  8  prob_conv1       16x63x63\n",
        "  9  prob_pool1       16x31x31\n",
        " 10  prob_dropout1    16x31x31\n",
        " 11  prob_conv2       16x19x19\n",
        " 12  prob_pool2       16x9x9\n",
        " 13  prob_dropout2    16x9x9\n",
        " 14  binary           1x75x75\n",
        " 15  binary_conv1     16x63x63\n",
        " 16  binary_pool1     16x31x31\n",
        " 17  binary_dropout1  16x31x31\n",
        " 18  binary_conv2     16x19x19\n",
        " 19  binary_pool2     16x9x9\n",
        " 20  binary_dropout2  16x9x9\n",
        " 21  border           1x75x75\n",
        " 22  border_conv1     16x63x63\n",
        " 23  border_pool1     16x31x31\n",
        " 24  border_dropout1  16x31x31\n",
        " 25  border_conv2     16x19x19\n",
        " 26  border_pool2     16x9x9\n",
        " 27  border_dropout2  16x9x9\n",
        " 28  merge            64x9x9\n",
        " 29  hidden3          256\n",
        " 30  dropout3         256\n",
        " 31  output           2"
       ]
      },
      {
       "output_type": "stream",
       "stream": "stdout",
       "text": [
        "\n",
        "\n"
       ]
      },
      {
       "output_type": "stream",
       "stream": "stdout",
       "text": [
        "  epoch    train loss    valid loss    train/val    valid acc  dur\n",
        "-------  ------------  ------------  -----------  -----------  -------\n",
        "      1       \u001b[36m0.40694\u001b[0m       \u001b[32m0.33378\u001b[0m      1.21921      0.86004  639.29s\n"
       ]
      },
      {
       "output_type": "stream",
       "stream": "stdout",
       "text": [
        "      2       \u001b[36m0.31520\u001b[0m       \u001b[32m0.27036\u001b[0m      1.16584      0.88831  562.16s\n"
       ]
      },
      {
       "output_type": "stream",
       "stream": "stdout",
       "text": [
        "      3       \u001b[36m0.26947\u001b[0m       \u001b[32m0.25964\u001b[0m      1.03785      0.89062  560.34s\n"
       ]
      },
      {
       "output_type": "stream",
       "stream": "stdout",
       "text": [
        "      4       \u001b[36m0.23256\u001b[0m       \u001b[32m0.19172\u001b[0m      1.21302      0.92741  548.89s\n"
       ]
      },
      {
       "output_type": "stream",
       "stream": "stdout",
       "text": [
        "      5       \u001b[36m0.20351\u001b[0m       \u001b[32m0.15587\u001b[0m      1.30560      0.94107  556.94s\n"
       ]
      },
      {
       "output_type": "stream",
       "stream": "stdout",
       "text": [
        "      6       \u001b[36m0.17854\u001b[0m       \u001b[32m0.13736\u001b[0m      1.29978      0.95041  547.20s\n"
       ]
      },
      {
       "output_type": "stream",
       "stream": "stdout",
       "text": [
        "      7       \u001b[36m0.15937\u001b[0m       \u001b[32m0.12389\u001b[0m      1.28639      0.95298  551.24s\n"
       ]
      },
      {
       "output_type": "stream",
       "stream": "stdout",
       "text": [
        "      8       \u001b[36m0.14558\u001b[0m       \u001b[32m0.11320\u001b[0m      1.28602      0.95834  549.84s\n"
       ]
      },
      {
       "output_type": "stream",
       "stream": "stdout",
       "text": [
        "      9       \u001b[36m0.13184\u001b[0m       \u001b[32m0.09195\u001b[0m      1.43379      0.96728  552.03s\n"
       ]
      },
      {
       "output_type": "stream",
       "stream": "stdout",
       "text": [
        "     10       \u001b[36m0.12315\u001b[0m       0.09670      1.27351      0.96378  553.06s\n"
       ]
      },
      {
       "output_type": "stream",
       "stream": "stdout",
       "text": [
        "     11       \u001b[36m0.11402\u001b[0m       \u001b[32m0.07908\u001b[0m      1.44190      0.97287  546.87s\n"
       ]
      },
      {
       "output_type": "stream",
       "stream": "stdout",
       "text": [
        "     12       \u001b[36m0.10535\u001b[0m       \u001b[32m0.07093\u001b[0m      1.48534      0.97615  549.78s\n"
       ]
      },
      {
       "output_type": "stream",
       "stream": "stdout",
       "text": [
        "     13       \u001b[36m0.09645\u001b[0m       \u001b[32m0.06591\u001b[0m      1.46331      0.97755  552.05s\n"
       ]
      },
      {
       "output_type": "stream",
       "stream": "stdout",
       "text": [
        "     14       \u001b[36m0.09430\u001b[0m       \u001b[32m0.05908\u001b[0m      1.59609      0.97945  548.85s\n"
       ]
      },
      {
       "output_type": "stream",
       "stream": "stdout",
       "text": [
        "     15       \u001b[36m0.08531\u001b[0m       \u001b[32m0.05676\u001b[0m      1.50290      0.98114  546.10s\n"
       ]
      },
      {
       "output_type": "stream",
       "stream": "stdout",
       "text": [
        "     16       \u001b[36m0.08370\u001b[0m       \u001b[32m0.05208\u001b[0m      1.60729      0.98335  547.26s\n"
       ]
      },
      {
       "output_type": "stream",
       "stream": "stdout",
       "text": [
        "     17       \u001b[36m0.07884\u001b[0m       0.05466      1.44225      0.98101  548.66s\n"
       ]
      },
      {
       "output_type": "stream",
       "stream": "stdout",
       "text": [
        "     18       \u001b[36m0.07356\u001b[0m       \u001b[32m0.04647\u001b[0m      1.58305      0.98573  554.10s\n"
       ]
      },
      {
       "output_type": "stream",
       "stream": "stdout",
       "text": [
        "     19       \u001b[36m0.07120\u001b[0m       0.05058      1.40778      0.98448  547.04s\n"
       ]
      },
      {
       "output_type": "stream",
       "stream": "stdout",
       "text": [
        "     20       \u001b[36m0.06860\u001b[0m       0.05093      1.34712      0.98404  547.68s\n"
       ]
      },
      {
       "output_type": "stream",
       "stream": "stdout",
       "text": [
        "     21       \u001b[36m0.06671\u001b[0m       0.04936      1.35163      0.98447  546.32s\n"
       ]
      },
      {
       "output_type": "stream",
       "stream": "stdout",
       "text": [
        "     22       \u001b[36m0.06530\u001b[0m       \u001b[32m0.04084\u001b[0m      1.59869      0.98808  548.38s\n"
       ]
      },
      {
       "output_type": "stream",
       "stream": "stdout",
       "text": [
        "     23       \u001b[36m0.06447\u001b[0m       0.04389      1.46876      0.98737  549.01s\n"
       ]
      },
      {
       "output_type": "stream",
       "stream": "stdout",
       "text": [
        "     24       \u001b[36m0.06034\u001b[0m       \u001b[32m0.04035\u001b[0m      1.49545      0.98855  548.71s\n"
       ]
      },
      {
       "output_type": "stream",
       "stream": "stdout",
       "text": [
        "     25       \u001b[36m0.05845\u001b[0m       0.04827      1.21096      0.98527  546.87s\n"
       ]
      },
      {
       "output_type": "stream",
       "stream": "stdout",
       "text": [
        "     26       \u001b[36m0.05749\u001b[0m       \u001b[32m0.03580\u001b[0m      1.60607      0.99025  549.47s\n"
       ]
      },
      {
       "output_type": "stream",
       "stream": "stdout",
       "text": [
        "     27       \u001b[36m0.05446\u001b[0m       0.04569      1.19201      0.98625  545.48s\n"
       ]
      },
      {
       "output_type": "stream",
       "stream": "stdout",
       "text": [
        "     28       \u001b[36m0.05413\u001b[0m       \u001b[32m0.03541\u001b[0m      1.52841      0.99035  545.38s\n"
       ]
      },
      {
       "output_type": "stream",
       "stream": "stdout",
       "text": [
        "     29       \u001b[36m0.05246\u001b[0m       0.04951      1.05958      0.98478  546.56s\n"
       ]
      },
      {
       "output_type": "stream",
       "stream": "stdout",
       "text": [
        "     30       0.05352       0.04462      1.19954      0.98672  545.81s\n"
       ]
      },
      {
       "output_type": "stream",
       "stream": "stdout",
       "text": [
        "     31       \u001b[36m0.05018\u001b[0m       \u001b[32m0.03458\u001b[0m      1.45107      0.99096  548.09s\n"
       ]
      },
      {
       "output_type": "stream",
       "stream": "stdout",
       "text": [
        "     32       \u001b[36m0.04974\u001b[0m       \u001b[32m0.03437\u001b[0m      1.44719      0.99131  547.63s\n"
       ]
      },
      {
       "output_type": "stream",
       "stream": "stdout",
       "text": [
        "     33       \u001b[36m0.04873\u001b[0m       0.04170      1.16851      0.98863  546.54s\n"
       ]
      },
      {
       "output_type": "stream",
       "stream": "stdout",
       "text": [
        "     34       \u001b[36m0.04806\u001b[0m       \u001b[32m0.03423\u001b[0m      1.40407      0.99099  547.77s\n"
       ]
      },
      {
       "output_type": "stream",
       "stream": "stdout",
       "text": [
        "     35       \u001b[36m0.04539\u001b[0m       0.03752      1.20978      0.99086  545.66s\n"
       ]
      },
      {
       "output_type": "stream",
       "stream": "stdout",
       "text": [
        "     36       \u001b[36m0.04526\u001b[0m       0.03535      1.28025      0.99086  546.02s\n"
       ]
      },
      {
       "output_type": "stream",
       "stream": "stdout",
       "text": [
        "     37       \u001b[36m0.04389\u001b[0m       0.03978      1.10335      0.99001  545.25s\n"
       ]
      },
      {
       "output_type": "stream",
       "stream": "stdout",
       "text": [
        "     38       \u001b[36m0.04346\u001b[0m       \u001b[32m0.03183\u001b[0m      1.36544      0.99226  548.34s\n"
       ]
      },
      {
       "output_type": "stream",
       "stream": "stdout",
       "text": [
        "     39       0.04511       0.03395      1.32862      0.99103  546.01s\n"
       ]
      },
      {
       "output_type": "stream",
       "stream": "stdout",
       "text": [
        "     40       \u001b[36m0.04211\u001b[0m       0.03315      1.27017      0.99103  545.80s\n"
       ]
      },
      {
       "output_type": "stream",
       "stream": "stdout",
       "text": [
        "     41       0.04460       \u001b[32m0.03007\u001b[0m      1.48310      0.99274  546.21s\n"
       ]
      },
      {
       "output_type": "stream",
       "stream": "stdout",
       "text": [
        "     42       0.04263       0.03026      1.40869      0.99274  545.89s\n"
       ]
      },
      {
       "output_type": "stream",
       "stream": "stdout",
       "text": [
        "     43       \u001b[36m0.04022\u001b[0m       0.03489      1.15275      0.99043  546.35s\n"
       ]
      },
      {
       "output_type": "stream",
       "stream": "stdout",
       "text": [
        "     44       \u001b[36m0.03975\u001b[0m       0.04018      0.98931      0.98943  554.98s\n"
       ]
      },
      {
       "output_type": "stream",
       "stream": "stdout",
       "text": [
        "     45       \u001b[36m0.03925\u001b[0m       0.03236      1.21294      0.99171  549.92s\n"
       ]
      },
      {
       "output_type": "stream",
       "stream": "stdout",
       "text": [
        "     46       0.04198       0.03462      1.21258      0.99224  553.17s\n"
       ]
      },
      {
       "output_type": "stream",
       "stream": "stdout",
       "text": [
        "     47       \u001b[36m0.03657\u001b[0m       0.04337      0.84312      0.98891  553.48s\n"
       ]
      },
      {
       "output_type": "stream",
       "stream": "stdout",
       "text": [
        "     48       0.03886       0.03247      1.19675      0.99216  546.98s\n"
       ]
      },
      {
       "output_type": "stream",
       "stream": "stdout",
       "text": [
        "     49       0.03906       0.03236      1.20712      0.99106  550.51s\n"
       ]
      },
      {
       "output_type": "stream",
       "stream": "stdout",
       "text": [
        "     50       0.03962       0.03453      1.14756      0.99053  546.02s\n"
       ]
      },
      {
       "output_type": "stream",
       "stream": "stdout",
       "text": [
        "     51       0.03702       0.03458      1.07058      0.99143  552.85s\n"
       ]
      },
      {
       "output_type": "stream",
       "stream": "stdout",
       "text": [
        "     52       \u001b[36m0.03643\u001b[0m       0.03509      1.03811      0.99199  548.92s\n"
       ]
      },
      {
       "output_type": "stream",
       "stream": "stdout",
       "text": [
        "     53       0.03685       0.03453      1.06726      0.99114  545.73s\n"
       ]
      },
      {
       "output_type": "stream",
       "stream": "stdout",
       "text": [
        "     54       \u001b[36m0.03579\u001b[0m       0.04419      0.81002      0.98860  548.01s\n"
       ]
      },
      {
       "output_type": "stream",
       "stream": "stdout",
       "text": [
        "     55       \u001b[36m0.03475\u001b[0m       \u001b[32m0.02873\u001b[0m      1.20931      0.99326  545.77s\n"
       ]
      },
      {
       "output_type": "stream",
       "stream": "stdout",
       "text": [
        "     56       0.03546       0.03449      1.02815      0.99239  547.90s\n"
       ]
      },
      {
       "output_type": "stream",
       "stream": "stdout",
       "text": [
        "     57       \u001b[36m0.03387\u001b[0m       0.03441      0.98442      0.99226  546.52s\n"
       ]
      },
      {
       "output_type": "stream",
       "stream": "stdout",
       "text": [
        "     58       0.03617       0.03745      0.96580      0.99091  553.01s\n"
       ]
      },
      {
       "output_type": "stream",
       "stream": "stdout",
       "text": [
        "     59       0.03654       0.02907      1.25695      0.99301  551.04s\n"
       ]
      },
      {
       "output_type": "stream",
       "stream": "stdout",
       "text": [
        "     60       0.03443       0.03428      1.00444      0.99299  552.94s\n"
       ]
      },
      {
       "output_type": "stream",
       "stream": "stdout",
       "text": [
        "     61       0.03589       0.03364      1.06664      0.99236  546.12s\n"
       ]
      },
      {
       "output_type": "stream",
       "stream": "stdout",
       "text": [
        "     62       0.03469       0.03628      0.95599      0.99144  546.05s\n"
       ]
      },
      {
       "output_type": "stream",
       "stream": "stdout",
       "text": [
        "     63       0.03480       0.03282      1.06018      0.99269  551.49s\n"
       ]
      },
      {
       "output_type": "stream",
       "stream": "stdout",
       "text": [
        "     64       \u001b[36m0.03187\u001b[0m       0.03491      0.91296      0.99241  550.00s\n"
       ]
      },
      {
       "output_type": "stream",
       "stream": "stdout",
       "text": [
        "     65       0.03200       0.03314      0.96538      0.99236  547.00s\n"
       ]
      },
      {
       "output_type": "stream",
       "stream": "stdout",
       "text": [
        "     66       0.03200       0.03159      1.01300      0.99316  545.72s\n"
       ]
      },
      {
       "output_type": "stream",
       "stream": "stdout",
       "text": [
        "     67       \u001b[36m0.03165\u001b[0m       0.03117      1.01526      0.99331  546.26s\n"
       ]
      },
      {
       "output_type": "stream",
       "stream": "stdout",
       "text": [
        "     68       \u001b[36m0.03158\u001b[0m       0.03181      0.99267      0.99366  546.00s\n"
       ]
      },
      {
       "output_type": "stream",
       "stream": "stdout",
       "text": [
        "     69       0.03219       0.03157      1.01953      0.99304  548.20s\n"
       ]
      },
      {
       "output_type": "stream",
       "stream": "stdout",
       "text": [
        "     70       0.03255       0.03224      1.00961      0.99271  545.87s\n"
       ]
      },
      {
       "output_type": "stream",
       "stream": "stdout",
       "text": [
        "     71       \u001b[36m0.03027\u001b[0m       0.03351      0.90347      0.99326  551.49s\n"
       ]
      },
      {
       "output_type": "stream",
       "stream": "stdout",
       "text": [
        "     72       0.03084       0.03318      0.92953      0.99328  546.45s\n"
       ]
      },
      {
       "output_type": "stream",
       "stream": "stdout",
       "text": [
        "     73       0.03194       0.03198      0.99892      0.99353  548.12s\n"
       ]
      },
      {
       "output_type": "stream",
       "stream": "stdout",
       "text": [
        "     74       0.03069       0.03140      0.97726      0.99328  551.83s\n"
       ]
      },
      {
       "output_type": "stream",
       "stream": "stdout",
       "text": [
        "     75       \u001b[36m0.03009\u001b[0m       0.03584      0.83949      0.99269  545.87s\n"
       ]
      },
      {
       "output_type": "stream",
       "stream": "stdout",
       "text": [
        "     76       0.03011       0.03694      0.81525      0.99188  547.34s\n"
       ]
      },
      {
       "output_type": "stream",
       "stream": "stdout",
       "text": [
        "     77       0.03019       0.03165      0.95393      0.99339  546.09s\n"
       ]
      },
      {
       "output_type": "stream",
       "stream": "stdout",
       "text": [
        "     78       0.03098       0.03194      0.96987      0.99361  549.15s\n"
       ]
      },
      {
       "output_type": "stream",
       "stream": "stdout",
       "text": [
        "     79       \u001b[36m0.02933\u001b[0m       0.03928      0.74670      0.99221  545.89s\n"
       ]
      },
      {
       "output_type": "stream",
       "stream": "stdout",
       "text": [
        "     80       0.02954       0.03507      0.84223      0.99298  545.80s\n"
       ]
      },
      {
       "output_type": "stream",
       "stream": "stdout",
       "text": [
        "     81       0.03093       0.03835      0.80646      0.99199  545.95s\n"
       ]
      },
      {
       "output_type": "stream",
       "stream": "stdout",
       "text": [
        "     82       \u001b[36m0.02920\u001b[0m       0.03492      0.83615      0.99328  546.87s\n"
       ]
      },
      {
       "output_type": "stream",
       "stream": "stdout",
       "text": [
        "     83       \u001b[36m0.02822\u001b[0m       0.03487      0.80921      0.99228  545.90s\n"
       ]
      },
      {
       "output_type": "stream",
       "stream": "stdout",
       "text": [
        "     84       0.03018       0.03457      0.87314      0.99313  549.49s\n"
       ]
      },
      {
       "output_type": "stream",
       "stream": "stdout",
       "text": [
        "     85       0.02864       0.03780      0.75768      0.99238  545.84s\n"
       ]
      },
      {
       "output_type": "stream",
       "stream": "stdout",
       "text": [
        "Early stopping.\n",
        "Best valid loss was 0.028733 at epoch 55.\n",
        "Loaded parameters to layer 'image_conv1' (shape 16x1x13x13)."
       ]
      },
      {
       "output_type": "stream",
       "stream": "stdout",
       "text": [
        "\n",
        "Loaded parameters to layer 'image_conv1' (shape 16).\n",
        "Loaded parameters to layer 'image_conv2' (shape 16x16x13x13).\n",
        "Loaded parameters to layer 'image_conv2' (shape 16).\n",
        "Loaded parameters to layer 'prob_conv1' (shape 16x1x13x13).\n",
        "Loaded parameters to layer 'prob_conv1' (shape 16).\n",
        "Loaded parameters to layer 'prob_conv2' (shape 16x16x13x13).\n",
        "Loaded parameters to layer 'prob_conv2' (shape 16).\n",
        "Loaded parameters to layer 'binary_conv1' (shape 16x1x13x13).\n",
        "Loaded parameters to layer 'binary_conv1' (shape 16).\n",
        "Loaded parameters to layer 'binary_conv2' (shape 16x16x13x13).\n",
        "Loaded parameters to layer 'binary_conv2' (shape 16).\n",
        "Loaded parameters to layer 'border_conv1' (shape 16x1x13x13).\n",
        "Loaded parameters to layer 'border_conv1' (shape 16).\n",
        "Loaded parameters to layer 'border_conv2' (shape 16x16x13x13).\n",
        "Loaded parameters to layer 'border_conv2' (shape 16).\n",
        "Loaded parameters to layer 'hidden3' (shape 5184x256)."
       ]
      },
      {
       "output_type": "stream",
       "stream": "stdout",
       "text": [
        "\n",
        "Loaded parameters to layer 'hidden3' (shape 256).\n",
        "Loaded parameters to layer 'output' (shape 256x2).\n",
        "Loaded parameters to layer 'output' (shape 2).\n"
       ]
      }
     ],
     "prompt_number": 29
    },
    {
     "cell_type": "code",
     "collapsed": false,
     "input": [
      "net0.score({'image': X_test['image'].astype(np.float32),\n",
      "           'prob':X_test['prob'].astype(np.float32),\n",
      "           'binary':X_test['merged_array'].astype(np.float32),\n",
      "           'border':X_test['larger_border_overlap'].astype(np.float32)},           \n",
      "           y_test)"
     ],
     "language": "python",
     "metadata": {},
     "outputs": [
      {
       "metadata": {},
       "output_type": "pyout",
       "prompt_number": 36,
       "text": [
        "0.8173277661795407"
       ]
      }
     ],
     "prompt_number": 36
    },
    {
     "cell_type": "code",
     "collapsed": false,
     "input": [
      "net0_layers = net0.get_all_layers()"
     ],
     "language": "python",
     "metadata": {},
     "outputs": [],
     "prompt_number": 32
    },
    {
     "cell_type": "code",
     "collapsed": false,
     "input": [
      "plot_loss(net0)"
     ],
     "language": "python",
     "metadata": {},
     "outputs": [
      {
       "metadata": {},
       "output_type": "pyout",
       "prompt_number": 34,
       "text": [
        "<module 'matplotlib.pyplot' from '/System/Library/Frameworks/Python.framework/Versions/2.7/Extras/lib/python/matplotlib/pyplot.pyc'>"
       ]
      },
      {
       "metadata": {},
       "output_type": "display_data",
       "png": "[encoded data removed]",
       "text": [
        "<matplotlib.figure.Figure at 0x112c9fc10>"
       ]
      }
     ],
     "prompt_number": 34
    },
    {
     "cell_type": "code",
     "collapsed": false,
     "input": [
      "plot_conv_weights(net0_layers[1])"
     ],
     "language": "python",
     "metadata": {},
     "outputs": [
      {
       "metadata": {},
       "output_type": "pyout",
       "prompt_number": 45,
       "text": [
        "<module 'matplotlib.pyplot' from '/System/Library/Frameworks/Python.framework/Versions/2.7/Extras/lib/python/matplotlib/pyplot.pyc'>"
       ]
      },
      {
       "metadata": {},
       "output_type": "display_data",
       "png": "[encoded data removed]",
       "text": [
        "<matplotlib.figure.Figure at 0xaf171c6d0>"
       ]
      }
     ],
     "prompt_number": 45
    },
    {
     "cell_type": "code",
     "collapsed": false,
     "input": [
      "plot_conv_weights(net0_layers[8])"
     ],
     "language": "python",
     "metadata": {},
     "outputs": [
      {
       "metadata": {},
       "output_type": "pyout",
       "prompt_number": 38,
       "text": [
        "<module 'matplotlib.pyplot' from '/System/Library/Frameworks/Python.framework/Versions/2.7/Extras/lib/python/matplotlib/pyplot.pyc'>"
       ]
      },
      {
       "metadata": {},
       "output_type": "display_data",
       "png": "[encoded data removed]",
       "text": [
        "<matplotlib.figure.Figure at 0x11614b690>"
       ]
      }
     ],
     "prompt_number": 38
    },
    {
     "cell_type": "code",
     "collapsed": false,
     "input": [
      "plot_conv_weights(net0_layers[15])"
     ],
     "language": "python",
     "metadata": {},
     "outputs": [
      {
       "metadata": {},
       "output_type": "pyout",
       "prompt_number": 40,
       "text": [
        "<module 'matplotlib.pyplot' from '/System/Library/Frameworks/Python.framework/Versions/2.7/Extras/lib/python/matplotlib/pyplot.pyc'>"
       ]
      },
      {
       "metadata": {},
       "output_type": "display_data",
       "png": "[encoded data removed]",
       "text": [
        "<matplotlib.figure.Figure at 0x1159c2e10>"
       ]
      }
     ],
     "prompt_number": 40
    },
    {
     "cell_type": "code",
     "collapsed": false,
     "input": [
      "plot_conv_weights(net0_layers[22])"
     ],
     "language": "python",
     "metadata": {},
     "outputs": [
      {
       "metadata": {},
       "output_type": "pyout",
       "prompt_number": 41,
       "text": [
        "<module 'matplotlib.pyplot' from '/System/Library/Frameworks/Python.framework/Versions/2.7/Extras/lib/python/matplotlib/pyplot.pyc'>"
       ]
      },
      {
       "metadata": {},
       "output_type": "display_data",
       "png": "[encoded data removed]",
       "text": [
        "<matplotlib.figure.Figure at 0x1161cd710>"
       ]
      }
     ],
     "prompt_number": 41
    },
    {
     "cell_type": "code",
     "collapsed": false,
     "input": [],
     "language": "python",
     "metadata": {},
     "outputs": []
    },
    {
     "cell_type": "code",
     "collapsed": false,
     "input": [
      "plot_conv_activity(net0_layers[8], X_train['prob'][0:1].astype(np.float32))"
     ],
     "language": "python",
     "metadata": {},
     "outputs": [
      {
       "output_type": "stream",
       "stream": "stdout",
       "text": [
        "ERROR! Session/line number was not unique in database. History logging moved to new session 370\n"
       ]
      },
      {
       "metadata": {},
       "output_type": "pyout",
       "prompt_number": 42,
       "text": [
        "<module 'matplotlib.pyplot' from '/System/Library/Frameworks/Python.framework/Versions/2.7/Extras/lib/python/matplotlib/pyplot.pyc'>"
       ]
      },
      {
       "metadata": {},
       "output_type": "display_data",
       "png": "[encoded data removed]",
       "text": [
        "<matplotlib.figure.Figure at 0x1fca4aad0>"
       ]
      }
     ],
     "prompt_number": 42
    },
    {
     "cell_type": "code",
     "collapsed": false,
     "input": [
      "plot_conv_activity(net0_layers[15], X_train['merged_array'][0:1].astype(np.float32))"
     ],
     "language": "python",
     "metadata": {},
     "outputs": [
      {
       "metadata": {},
       "output_type": "pyout",
       "prompt_number": 43,
       "text": [
        "<module 'matplotlib.pyplot' from '/System/Library/Frameworks/Python.framework/Versions/2.7/Extras/lib/python/matplotlib/pyplot.pyc'>"
       ]
      },
      {
       "metadata": {},
       "output_type": "display_data",
       "png": "[encoded data removed]",
       "text": [
        "<matplotlib.figure.Figure at 0xaf19a7e50>"
       ]
      }
     ],
     "prompt_number": 43
    },
    {
     "cell_type": "code",
     "collapsed": false,
     "input": [
      "plot_conv_activity(net0_layers[15], X_train['larger_border_overlap'][0:1].astype(np.float32))"
     ],
     "language": "python",
     "metadata": {},
     "outputs": [
      {
       "metadata": {},
       "output_type": "pyout",
       "prompt_number": 44,
       "text": [
        "<module 'matplotlib.pyplot' from '/System/Library/Frameworks/Python.framework/Versions/2.7/Extras/lib/python/matplotlib/pyplot.pyc'>"
       ]
      },
      {
       "metadata": {},
       "output_type": "display_data",
       "png": "[encoded data removed]",
       "text": [
        "<matplotlib.figure.Figure at 0xaf1901f90>"
       ]
      }
     ],
     "prompt_number": 44
    },
    {
     "cell_type": "code",
     "collapsed": false,
     "input": [
      "input_rgb = np.concatenate((X_train['image'], X_train['prob'], X_train['merged_array'], X_train['larger_border_overlap']), 1)"
     ],
     "language": "python",
     "metadata": {},
     "outputs": []
    },
    {
     "cell_type": "code",
     "collapsed": false,
     "input": [
      "input_rgb.shape"
     ],
     "language": "python",
     "metadata": {},
     "outputs": []
    },
    {
     "cell_type": "code",
     "collapsed": false,
     "input": [
      "net1 = NeuralNet(\n",
      "    layers=[\n",
      "        ('image', layers.InputLayer),\n",
      "#         ('image_conv1', layers.Conv2DLayer),\n",
      "        ('image_conv1', layers.dnn.Conv2DDNNLayer),\n",
      "        ('image_pool1', layers.MaxPool2DLayer),\n",
      "#         ('image_dropout1', layers.DropoutLayer),\n",
      "#         ('image_conv2', layers.Conv2DLayer),\n",
      "        ('image_conv2', layers.dnn.Conv2DDNNLayer),\n",
      "        ('image_pool2', layers.MaxPool2DLayer),\n",
      "#         ('image_dropout2', layers.DropoutLayer),\n",
      "\n",
      "        ('hidden3', layers.DenseLayer),\n",
      "        ('dropout3', layers.DropoutLayer),\n",
      "        ('output', layers.DenseLayer),\n",
      "    ],\n",
      "\n",
      "    # image\n",
      "    image_shape=(None, 4, 75, 75),\n",
      "    # conv2d + pool + dropout\n",
      "    image_conv1_filter_size=(13,13), image_conv1_num_filters=16,\n",
      "    image_pool1_pool_size=(2,2),\n",
      "#     image_dropout1_p=0.1,\n",
      "    # conv2d + pool + dropout\n",
      "    image_conv2_filter_size=(13,13), image_conv2_num_filters=16,\n",
      "    image_pool2_pool_size=(2,2),\n",
      "#     image_dropout2_p=0.2,\n",
      "\n",
      "    # dense layer 1\n",
      "    hidden3_num_units=256,\n",
      "    hidden3_nonlinearity=nonlinearities.rectify,\n",
      "    dropout3_p=0.5,\n",
      "\n",
      "    # dense layer 2\n",
      "    output_num_units=2,\n",
      "    output_nonlinearity=nonlinearities.softmax,\n",
      "\n",
      "\n",
      "\n",
      "    update=nesterov_momentum,\n",
      "    update_learning_rate=0.001,\n",
      "    update_momentum=0.9,\n",
      "#     update_learning_rate=theano.shared(float32(0.03)),\n",
      "#     update_momentum=theano.shared(float32(0.9)),\n",
      "\n",
      "\n",
      "    train_split=TrainSplit(eval_size=0.25),\n",
      "    max_epochs=300,\n",
      "    verbose=True,\n",
      "\n",
      "    on_epoch_finished=[\n",
      "#         AdjustVariable('update_learning_rate', start=0.03, stop=0.0001),\n",
      "#         AdjustVariable('update_momentum', start=0.9, stop=0.999),\n",
      "        EarlyStopping(patience=30),\n",
      "    ]\n",
      ")\n",
      "\n",
      "net1_fit = net1.fit(input_rgb,\n",
      "                     y_train.astype(np.uint8))"
     ],
     "language": "python",
     "metadata": {},
     "outputs": [
      {
       "output_type": "stream",
       "stream": "stdout",
       "text": [
        "# Neural Network with 386658 learnable parameters\n",
        "\n",
        "## Layer information\n",
        "\n",
        "  #  name         size\n",
        "---  -----------  --------\n",
        "  0  image        4x75x75\n",
        "  1  image_conv1  16x63x63\n",
        "  2  image_pool1  16x31x31\n",
        "  3  image_conv2  16x19x19\n",
        "  4  image_pool2  16x9x9\n",
        "  5  hidden3      256\n",
        "  6  dropout3     256\n",
        "  7  output       2\n",
        "\n"
       ]
      },
      {
       "output_type": "stream",
       "stream": "stdout",
       "text": [
        "  epoch    train loss    valid loss    train/val    valid acc  dur\n",
        "-------  ------------  ------------  -----------  -----------  ------\n",
        "      1       \u001b[36m0.54334\u001b[0m       \u001b[32m0.43251\u001b[0m      1.25625      0.80059  18.79s\n"
       ]
      },
      {
       "output_type": "stream",
       "stream": "stdout",
       "text": [
        "      2       \u001b[36m0.42446\u001b[0m       \u001b[32m0.40759\u001b[0m      1.04139      0.81676  18.83s\n"
       ]
      },
      {
       "output_type": "stream",
       "stream": "stdout",
       "text": [
        "      3       \u001b[36m0.40335\u001b[0m       \u001b[32m0.39109\u001b[0m      1.03137      0.82429  18.89s\n"
       ]
      },
      {
       "output_type": "stream",
       "stream": "stdout",
       "text": [
        "      4       \u001b[36m0.38914\u001b[0m       \u001b[32m0.37953\u001b[0m      1.02531      0.82965  18.89s\n"
       ]
      },
      {
       "output_type": "stream",
       "stream": "stdout",
       "text": [
        "      5       \u001b[36m0.38065\u001b[0m       \u001b[32m0.37147\u001b[0m      1.02472      0.83383  18.84s\n"
       ]
      },
      {
       "output_type": "stream",
       "stream": "stdout",
       "text": [
        "      6       \u001b[36m0.37307\u001b[0m       \u001b[32m0.36540\u001b[0m      1.02099      0.83829  19.15s\n"
       ]
      },
      {
       "output_type": "stream",
       "stream": "stdout",
       "text": [
        "      7       \u001b[36m0.36388\u001b[0m       \u001b[32m0.35873\u001b[0m      1.01437      0.84199  19.25s\n"
       ]
      },
      {
       "output_type": "stream",
       "stream": "stdout",
       "text": [
        "      8       \u001b[36m0.35821\u001b[0m       \u001b[32m0.35415\u001b[0m      1.01145      0.84500  19.27s\n"
       ]
      },
      {
       "output_type": "stream",
       "stream": "stdout",
       "text": [
        "      9       \u001b[36m0.35035\u001b[0m       \u001b[32m0.34715\u001b[0m      1.00921      0.84799  19.48s\n"
       ]
      },
      {
       "output_type": "stream",
       "stream": "stdout",
       "text": [
        "     10       \u001b[36m0.34533\u001b[0m       \u001b[32m0.34299\u001b[0m      1.00680      0.85017  19.50s\n"
       ]
      },
      {
       "output_type": "stream",
       "stream": "stdout",
       "text": [
        "     11       \u001b[36m0.34023\u001b[0m       \u001b[32m0.33921\u001b[0m      1.00301      0.85218  19.50s\n"
       ]
      },
      {
       "output_type": "stream",
       "stream": "stdout",
       "text": [
        "     12       \u001b[36m0.33459\u001b[0m       \u001b[32m0.33272\u001b[0m      1.00561      0.85671  19.50s\n"
       ]
      },
      {
       "output_type": "stream",
       "stream": "stdout",
       "text": [
        "     13       \u001b[36m0.32738\u001b[0m       \u001b[32m0.32743\u001b[0m      0.99986      0.85905  19.45s\n"
       ]
      },
      {
       "output_type": "stream",
       "stream": "stdout",
       "text": [
        "     14       \u001b[36m0.32141\u001b[0m       \u001b[32m0.32246\u001b[0m      0.99674      0.86150  19.56s\n"
       ]
      },
      {
       "output_type": "stream",
       "stream": "stdout",
       "text": [
        "     15       \u001b[36m0.31600\u001b[0m       \u001b[32m0.31805\u001b[0m      0.99357      0.86166  19.68s\n"
       ]
      },
      {
       "output_type": "stream",
       "stream": "stdout",
       "text": [
        "     16       \u001b[36m0.31000\u001b[0m       \u001b[32m0.31366\u001b[0m      0.98834      0.86288  19.67s\n"
       ]
      },
      {
       "output_type": "stream",
       "stream": "stdout",
       "text": [
        "     17       \u001b[36m0.30390\u001b[0m       \u001b[32m0.30780\u001b[0m      0.98732      0.86840  19.69s\n"
       ]
      },
      {
       "output_type": "stream",
       "stream": "stdout",
       "text": [
        "     18       \u001b[36m0.29852\u001b[0m       \u001b[32m0.30349\u001b[0m      0.98361      0.87058  19.70s\n"
       ]
      },
      {
       "output_type": "stream",
       "stream": "stdout",
       "text": [
        "     19       \u001b[36m0.29190\u001b[0m       \u001b[32m0.30167\u001b[0m      0.96761      0.86939  19.71s\n"
       ]
      },
      {
       "output_type": "stream",
       "stream": "stdout",
       "text": [
        "     20       \u001b[36m0.28454\u001b[0m       \u001b[32m0.29452\u001b[0m      0.96613      0.87821  19.71s\n"
       ]
      },
      {
       "output_type": "stream",
       "stream": "stdout",
       "text": [
        "     21       \u001b[36m0.28013\u001b[0m       \u001b[32m0.29370\u001b[0m      0.95380      0.87666  19.71s\n"
       ]
      },
      {
       "output_type": "stream",
       "stream": "stdout",
       "text": [
        "     22       \u001b[36m0.27162\u001b[0m       \u001b[32m0.28446\u001b[0m      0.95485      0.88120  19.72s\n"
       ]
      },
      {
       "output_type": "stream",
       "stream": "stdout",
       "text": [
        "     23       \u001b[36m0.26517\u001b[0m       \u001b[32m0.28180\u001b[0m      0.94100      0.88176  19.71s\n"
       ]
      },
      {
       "output_type": "stream",
       "stream": "stdout",
       "text": [
        "     24       \u001b[36m0.25854\u001b[0m       \u001b[32m0.27445\u001b[0m      0.94201      0.88720  19.70s\n"
       ]
      },
      {
       "output_type": "stream",
       "stream": "stdout",
       "text": [
        "     25       \u001b[36m0.25260\u001b[0m       \u001b[32m0.27060\u001b[0m      0.93348      0.88720  19.69s\n"
       ]
      },
      {
       "output_type": "stream",
       "stream": "stdout",
       "text": [
        "     26       \u001b[36m0.24536\u001b[0m       \u001b[32m0.26327\u001b[0m      0.93197      0.89200  19.66s\n"
       ]
      },
      {
       "output_type": "stream",
       "stream": "stdout",
       "text": [
        "     27       \u001b[36m0.23982\u001b[0m       \u001b[32m0.25998\u001b[0m      0.92246      0.89584  19.57s\n"
       ]
      },
      {
       "output_type": "stream",
       "stream": "stdout",
       "text": [
        "     28       \u001b[36m0.23373\u001b[0m       \u001b[32m0.25401\u001b[0m      0.92016      0.90011  19.70s\n"
       ]
      },
      {
       "output_type": "stream",
       "stream": "stdout",
       "text": [
        "     29       \u001b[36m0.22775\u001b[0m       \u001b[32m0.24817\u001b[0m      0.91769      0.90193  19.66s\n"
       ]
      },
      {
       "output_type": "stream",
       "stream": "stdout",
       "text": [
        "     30       \u001b[36m0.22148\u001b[0m       \u001b[32m0.24203\u001b[0m      0.91512      0.90528  19.63s\n"
       ]
      },
      {
       "output_type": "stream",
       "stream": "stdout",
       "text": [
        "     31       \u001b[36m0.21362\u001b[0m       \u001b[32m0.24075\u001b[0m      0.88733      0.90600  19.46s\n"
       ]
      },
      {
       "output_type": "stream",
       "stream": "stdout",
       "text": [
        "     32       \u001b[36m0.20802\u001b[0m       \u001b[32m0.23435\u001b[0m      0.88765      0.90927  19.45s\n"
       ]
      },
      {
       "output_type": "stream",
       "stream": "stdout",
       "text": [
        "     33       \u001b[36m0.20310\u001b[0m       \u001b[32m0.22941\u001b[0m      0.88530      0.91126  19.46s\n"
       ]
      },
      {
       "output_type": "stream",
       "stream": "stdout",
       "text": [
        "     34       \u001b[36m0.19551\u001b[0m       \u001b[32m0.22264\u001b[0m      0.87817      0.91534  19.47s\n"
       ]
      },
      {
       "output_type": "stream",
       "stream": "stdout",
       "text": [
        "     35       \u001b[36m0.18970\u001b[0m       0.22421      0.84611      0.91263  19.49s\n"
       ]
      },
      {
       "output_type": "stream",
       "stream": "stdout",
       "text": [
        "     36       \u001b[36m0.18148\u001b[0m       \u001b[32m0.21399\u001b[0m      0.84810      0.91849  19.70s\n"
       ]
      },
      {
       "output_type": "stream",
       "stream": "stdout",
       "text": [
        "     37       \u001b[36m0.17353\u001b[0m       \u001b[32m0.21011\u001b[0m      0.82592      0.92126  19.65s\n"
       ]
      },
      {
       "output_type": "stream",
       "stream": "stdout",
       "text": [
        "     38       \u001b[36m0.16663\u001b[0m       \u001b[32m0.20263\u001b[0m      0.82233      0.92241  19.85s\n"
       ]
      },
      {
       "output_type": "stream",
       "stream": "stdout",
       "text": [
        "     39       \u001b[36m0.16300\u001b[0m       \u001b[32m0.19978\u001b[0m      0.81589      0.92334  19.74s\n"
       ]
      },
      {
       "output_type": "stream",
       "stream": "stdout",
       "text": [
        "     40       \u001b[36m0.15612\u001b[0m       \u001b[32m0.18904\u001b[0m      0.82583      0.92904  19.53s\n"
       ]
      },
      {
       "output_type": "stream",
       "stream": "stdout",
       "text": [
        "     41       \u001b[36m0.15207\u001b[0m       0.19133      0.79482      0.92750  19.50s\n"
       ]
      },
      {
       "output_type": "stream",
       "stream": "stdout",
       "text": [
        "     42       \u001b[36m0.14520\u001b[0m       \u001b[32m0.18872\u001b[0m      0.76939      0.93042  19.39s\n"
       ]
      },
      {
       "output_type": "stream",
       "stream": "stdout",
       "text": [
        "     43       \u001b[36m0.13823\u001b[0m       \u001b[32m0.18647\u001b[0m      0.74130      0.93049  19.48s\n"
       ]
      },
      {
       "output_type": "stream",
       "stream": "stdout",
       "text": [
        "     44       \u001b[36m0.13428\u001b[0m       \u001b[32m0.17328\u001b[0m      0.77492      0.93601  19.45s\n"
       ]
      },
      {
       "output_type": "stream",
       "stream": "stdout",
       "text": [
        "     45       \u001b[36m0.12697\u001b[0m       \u001b[32m0.16826\u001b[0m      0.75461      0.93893  19.46s\n"
       ]
      },
      {
       "output_type": "stream",
       "stream": "stdout",
       "text": [
        "     46       \u001b[36m0.12420\u001b[0m       \u001b[32m0.16604\u001b[0m      0.74804      0.93948  19.48s\n"
       ]
      },
      {
       "output_type": "stream",
       "stream": "stdout",
       "text": [
        "     47       \u001b[36m0.11802\u001b[0m       \u001b[32m0.16049\u001b[0m      0.73538      0.94200  19.44s\n"
       ]
      },
      {
       "output_type": "stream",
       "stream": "stdout",
       "text": [
        "     48       \u001b[36m0.11390\u001b[0m       \u001b[32m0.15825\u001b[0m      0.71976      0.94412  19.42s\n"
       ]
      },
      {
       "output_type": "stream",
       "stream": "stdout",
       "text": [
        "     49       \u001b[36m0.10572\u001b[0m       \u001b[32m0.15470\u001b[0m      0.68341      0.94372  19.46s\n"
       ]
      },
      {
       "output_type": "stream",
       "stream": "stdout",
       "text": [
        "     50       \u001b[36m0.10521\u001b[0m       \u001b[32m0.14410\u001b[0m      0.73010      0.95018  19.46s\n"
       ]
      },
      {
       "output_type": "stream",
       "stream": "stdout",
       "text": [
        "     51       \u001b[36m0.09977\u001b[0m       0.14455      0.69019      0.94971  19.42s\n"
       ]
      },
      {
       "output_type": "stream",
       "stream": "stdout",
       "text": [
        "     52       \u001b[36m0.09524\u001b[0m       0.15558      0.61215      0.94239  19.41s\n"
       ]
      },
      {
       "output_type": "stream",
       "stream": "stdout",
       "text": [
        "     53       \u001b[36m0.08956\u001b[0m       0.14565      0.61492      0.94964  19.45s\n"
       ]
      },
      {
       "output_type": "stream",
       "stream": "stdout",
       "text": [
        "     54       \u001b[36m0.08641\u001b[0m       \u001b[32m0.13474\u001b[0m      0.64127      0.95219  19.42s\n"
       ]
      },
      {
       "output_type": "stream",
       "stream": "stdout",
       "text": [
        "     55       \u001b[36m0.08370\u001b[0m       0.15088      0.55475      0.94639  19.41s\n"
       ]
      },
      {
       "output_type": "stream",
       "stream": "stdout",
       "text": [
        "     56       \u001b[36m0.08142\u001b[0m       \u001b[32m0.12191\u001b[0m      0.66784      0.96142  19.43s\n"
       ]
      },
      {
       "output_type": "stream",
       "stream": "stdout",
       "text": [
        "     57       \u001b[36m0.07461\u001b[0m       0.12529      0.59552      0.96116  19.42s\n"
       ]
      },
      {
       "output_type": "stream",
       "stream": "stdout",
       "text": [
        "     58       \u001b[36m0.07296\u001b[0m       0.13305      0.54837      0.95536  19.41s\n"
       ]
      },
      {
       "output_type": "stream",
       "stream": "stdout",
       "text": [
        "     59       \u001b[36m0.06948\u001b[0m       0.13825      0.50258      0.95427  19.42s\n"
       ]
      },
      {
       "output_type": "stream",
       "stream": "stdout",
       "text": [
        "     60       \u001b[36m0.06731\u001b[0m       \u001b[32m0.11509\u001b[0m      0.58488      0.96660  19.43s\n"
       ]
      },
      {
       "output_type": "stream",
       "stream": "stdout",
       "text": [
        "     61       \u001b[36m0.06328\u001b[0m       0.12521      0.50540      0.95936  19.46s\n"
       ]
      },
      {
       "output_type": "stream",
       "stream": "stdout",
       "text": [
        "     62       \u001b[36m0.06119\u001b[0m       \u001b[32m0.10464\u001b[0m      0.58474      0.96978  20.38s\n"
       ]
      },
      {
       "output_type": "stream",
       "stream": "stdout",
       "text": [
        "     63       \u001b[36m0.05760\u001b[0m       0.12071      0.47715      0.96323  20.28s\n"
       ]
      },
      {
       "output_type": "stream",
       "stream": "stdout",
       "text": [
        "     64       \u001b[36m0.05628\u001b[0m       0.11410      0.49323      0.96671  19.94s\n"
       ]
      },
      {
       "output_type": "stream",
       "stream": "stdout",
       "text": [
        "     65       \u001b[36m0.05290\u001b[0m       0.13316      0.39725      0.95820  19.96s\n"
       ]
      },
      {
       "output_type": "stream",
       "stream": "stdout",
       "text": [
        "     66       \u001b[36m0.05175\u001b[0m       0.11133      0.46489      0.96859  19.94s\n"
       ]
      },
      {
       "output_type": "stream",
       "stream": "stdout",
       "text": [
        "     67       \u001b[36m0.05072\u001b[0m       0.11114      0.45633      0.96859  19.70s\n"
       ]
      },
      {
       "output_type": "stream",
       "stream": "stdout",
       "text": [
        "     68       \u001b[36m0.04815\u001b[0m       0.11270      0.42726      0.96833  19.57s\n"
       ]
      },
      {
       "output_type": "stream",
       "stream": "stdout",
       "text": [
        "     69       \u001b[36m0.04583\u001b[0m       0.11439      0.40066      0.96718  20.68s\n"
       ]
      },
      {
       "output_type": "stream",
       "stream": "stdout",
       "text": [
        "     70       \u001b[36m0.04325\u001b[0m       \u001b[32m0.10207\u001b[0m      0.42378      0.97340  19.76s\n"
       ]
      },
      {
       "output_type": "stream",
       "stream": "stdout",
       "text": [
        "     71       \u001b[36m0.04221\u001b[0m       \u001b[32m0.09751\u001b[0m      0.43282      0.97649  19.78s\n"
       ]
      },
      {
       "output_type": "stream",
       "stream": "stdout",
       "text": [
        "     72       \u001b[36m0.04063\u001b[0m       0.10805      0.37602      0.97222  19.63s\n"
       ]
      },
      {
       "output_type": "stream",
       "stream": "stdout",
       "text": [
        "     73       \u001b[36m0.03852\u001b[0m       \u001b[32m0.09413\u001b[0m      0.40925      0.97722  19.73s\n"
       ]
      },
      {
       "output_type": "stream",
       "stream": "stdout",
       "text": [
        "     74       \u001b[36m0.03769\u001b[0m       0.09579      0.39348      0.97667  19.58s\n"
       ]
      },
      {
       "output_type": "stream",
       "stream": "stdout",
       "text": [
        "     75       \u001b[36m0.03567\u001b[0m       0.09856      0.36195      0.97678  19.45s\n"
       ]
      },
      {
       "output_type": "stream",
       "stream": "stdout",
       "text": [
        "     76       \u001b[36m0.03480\u001b[0m       0.11486      0.30299      0.97205  19.69s\n"
       ]
      },
      {
       "output_type": "stream",
       "stream": "stdout",
       "text": [
        "     77       \u001b[36m0.03283\u001b[0m       \u001b[32m0.08532\u001b[0m      0.38477      0.98076  20.12s\n"
       ]
      },
      {
       "output_type": "stream",
       "stream": "stdout",
       "text": [
        "     78       \u001b[36m0.03280\u001b[0m       0.09941      0.32998      0.97649  19.74s\n"
       ]
      },
      {
       "output_type": "stream",
       "stream": "stdout",
       "text": [
        "     79       \u001b[36m0.03156\u001b[0m       0.08780      0.35946      0.97869  19.81s\n"
       ]
      },
      {
       "output_type": "stream",
       "stream": "stdout",
       "text": [
        "     80       0.03245       0.09842      0.32975      0.97804  19.74s\n"
       ]
      },
      {
       "output_type": "stream",
       "stream": "stdout",
       "text": [
        "     81       \u001b[36m0.02775\u001b[0m       0.10359      0.26791      0.97651  19.88s\n"
       ]
      },
      {
       "output_type": "stream",
       "stream": "stdout",
       "text": [
        "     82       \u001b[36m0.02773\u001b[0m       0.09349      0.29660      0.98113  19.60s\n"
       ]
      },
      {
       "output_type": "stream",
       "stream": "stdout",
       "text": [
        "     83       \u001b[36m0.02728\u001b[0m       0.10152      0.26873      0.97768  19.79s\n"
       ]
      },
      {
       "output_type": "stream",
       "stream": "stdout",
       "text": [
        "     84       \u001b[36m0.02584\u001b[0m       0.09374      0.27565      0.98032  20.68s\n"
       ]
      },
      {
       "output_type": "stream",
       "stream": "stdout",
       "text": [
        "     85       \u001b[36m0.02577\u001b[0m       0.10263      0.25109      0.97751  19.37s\n"
       ]
      },
      {
       "output_type": "stream",
       "stream": "stdout",
       "text": [
        "     86       \u001b[36m0.02367\u001b[0m       0.11612      0.20384      0.97571  19.41s\n"
       ]
      },
      {
       "output_type": "stream",
       "stream": "stdout",
       "text": [
        "     87       \u001b[36m0.02264\u001b[0m       0.10350      0.21880      0.97776  19.32s\n"
       ]
      },
      {
       "output_type": "stream",
       "stream": "stdout",
       "text": [
        "     88       0.02354       0.09177      0.25650      0.98185  19.35s\n"
       ]
      },
      {
       "output_type": "stream",
       "stream": "stdout",
       "text": [
        "     89       0.02290       0.11098      0.20636      0.97614  19.41s\n"
       ]
      },
      {
       "output_type": "stream",
       "stream": "stdout",
       "text": [
        "     90       \u001b[36m0.02030\u001b[0m       0.08889      0.22832      0.98285  19.41s\n"
       ]
      },
      {
       "output_type": "stream",
       "stream": "stdout",
       "text": [
        "     91       0.02188       0.09311      0.23499      0.98303  19.32s\n"
       ]
      },
      {
       "output_type": "stream",
       "stream": "stdout",
       "text": [
        "     92       0.02083       0.09813      0.21230      0.98077  19.35s\n"
       ]
      },
      {
       "output_type": "stream",
       "stream": "stdout",
       "text": [
        "     93       \u001b[36m0.01990\u001b[0m       0.09369      0.21241      0.98113  19.40s\n"
       ]
      },
      {
       "output_type": "stream",
       "stream": "stdout",
       "text": [
        "     94       0.02036       0.10825      0.18804      0.98032  19.41s\n"
       ]
      },
      {
       "output_type": "stream",
       "stream": "stdout",
       "text": [
        "     95       \u001b[36m0.01830\u001b[0m       0.10500      0.17427      0.98049  19.39s\n"
       ]
      },
      {
       "output_type": "stream",
       "stream": "stdout",
       "text": [
        "     96       0.01881       0.10050      0.18715      0.98094  19.80s\n"
       ]
      },
      {
       "output_type": "stream",
       "stream": "stdout",
       "text": [
        "     97       \u001b[36m0.01669\u001b[0m       0.09342      0.17864      0.98403  19.42s\n"
       ]
      },
      {
       "output_type": "stream",
       "stream": "stdout",
       "text": [
        "     98       \u001b[36m0.01581\u001b[0m       0.09604      0.16461      0.98286  19.72s\n"
       ]
      },
      {
       "output_type": "stream",
       "stream": "stdout",
       "text": [
        "     99       0.01699       0.09389      0.18092      0.98341  19.52s\n"
       ]
      },
      {
       "output_type": "stream",
       "stream": "stdout",
       "text": [
        "    100       \u001b[36m0.01500\u001b[0m       0.10706      0.14011      0.98032  19.47s\n"
       ]
      },
      {
       "output_type": "stream",
       "stream": "stdout",
       "text": [
        "    101       0.01698       0.09041      0.18784      0.98475  19.36s\n"
       ]
      },
      {
       "output_type": "stream",
       "stream": "stdout",
       "text": [
        "    102       0.01542       0.10438      0.14775      0.98203  19.53s\n"
       ]
      },
      {
       "output_type": "stream",
       "stream": "stdout",
       "text": [
        "    103       0.01564       0.10249      0.15257      0.98175  19.68s\n"
       ]
      },
      {
       "output_type": "stream",
       "stream": "stdout",
       "text": [
        "    104       \u001b[36m0.01477\u001b[0m       0.08850      0.16685      0.98477  19.45s\n"
       ]
      },
      {
       "output_type": "stream",
       "stream": "stdout",
       "text": [
        "    105       \u001b[36m0.01340\u001b[0m       0.11473      0.11675      0.98023  19.53s\n"
       ]
      },
      {
       "output_type": "stream",
       "stream": "stdout",
       "text": [
        "    106       \u001b[36m0.01276\u001b[0m       0.11138      0.11460      0.98096  19.41s\n"
       ]
      },
      {
       "output_type": "stream",
       "stream": "stdout",
       "text": [
        "    107       0.01404       0.09960      0.14099      0.98294  19.40s\n"
       ]
      },
      {
       "output_type": "stream",
       "stream": "stdout",
       "text": [
        "Early stopping.\n",
        "Best valid loss was 0.085322 at epoch 77.\n",
        "Loaded parameters to layer 'image_conv1' (shape 16x4x13x13).\n",
        "Loaded parameters to layer 'image_conv1' (shape 16).\n",
        "Loaded parameters to layer 'image_conv2' (shape 16x16x13x13).\n",
        "Loaded parameters to layer 'image_conv2' (shape 16).\n",
        "Loaded parameters to layer 'hidden3' (shape 1296x256).\n",
        "Loaded parameters to layer 'hidden3' (shape 256).\n",
        "Loaded parameters to layer 'output' (shape 256x2).\n",
        "Loaded parameters to layer 'output' (shape 2).\n"
       ]
      }
     ],
     "prompt_number": 9
    },
    {
     "cell_type": "code",
     "collapsed": false,
     "input": [],
     "language": "python",
     "metadata": {},
     "outputs": []
    },
    {
     "cell_type": "code",
     "collapsed": false,
     "input": [
      "X_train, y_train, X_test, y_test = Util.load('patches_binary_border')"
     ],
     "language": "python",
     "metadata": {},
     "outputs": [
      {
       "output_type": "stream",
       "stream": "stdout",
       "text": [
        "Loading data..\n"
       ]
      }
     ],
     "prompt_number": 10
    },
    {
     "cell_type": "code",
     "collapsed": false,
     "input": [
      "plt.imshow(X_test['merged_array'][0][0])"
     ],
     "language": "python",
     "metadata": {},
     "outputs": [
      {
       "metadata": {},
       "output_type": "pyout",
       "prompt_number": 11,
       "text": [
        "<matplotlib.image.AxesImage at 0x7f12ea587d10>"
       ]
      },
      {
       "metadata": {},
       "output_type": "display_data",
       "png": "[encoded data removed]",
       "text": [
        "<matplotlib.figure.Figure at 0x7f1296eb3a90>"
       ]
      }
     ],
     "prompt_number": 11
    },
    {
     "cell_type": "code",
     "collapsed": false,
     "input": [
      "input_rgb = np.concatenate((X_train['image'], X_train['prob'], X_train['merged_array'], X_train['larger_border_overlap']), 1)"
     ],
     "language": "python",
     "metadata": {},
     "outputs": [],
     "prompt_number": 5
    },
    {
     "cell_type": "code",
     "collapsed": false,
     "input": [
      "test_rgb = np.concatenate((X_test['image'], X_test['prob'], X_test['merged_array'], X_test['larger_border_overlap']), 1)"
     ],
     "language": "python",
     "metadata": {},
     "outputs": [],
     "prompt_number": 12
    },
    {
     "cell_type": "code",
     "collapsed": false,
     "input": [
      "input_rgb[0,1].dtype"
     ],
     "language": "python",
     "metadata": {},
     "outputs": [
      {
       "metadata": {},
       "output_type": "pyout",
       "prompt_number": 6,
       "text": [
        "dtype('float32')"
       ]
      }
     ],
     "prompt_number": 6
    },
    {
     "cell_type": "code",
     "collapsed": false,
     "input": [
      "y_train = y_train['targets']"
     ],
     "language": "python",
     "metadata": {},
     "outputs": [],
     "prompt_number": 7
    },
    {
     "cell_type": "code",
     "collapsed": false,
     "input": [
      "y_train.dtype"
     ],
     "language": "python",
     "metadata": {},
     "outputs": [
      {
       "metadata": {},
       "output_type": "pyout",
       "prompt_number": 8,
       "text": [
        "dtype('float64')"
       ]
      }
     ],
     "prompt_number": 8
    },
    {
     "cell_type": "code",
     "collapsed": false,
     "input": [
      "y_test = y_test['targets']"
     ],
     "language": "python",
     "metadata": {},
     "outputs": [],
     "prompt_number": 13
    },
    {
     "cell_type": "code",
     "collapsed": false,
     "input": [
      "net1.score(test_rgb,\n",
      "                     y_test.astype(np.uint8))"
     ],
     "language": "python",
     "metadata": {},
     "outputs": [
      {
       "metadata": {},
       "output_type": "pyout",
       "prompt_number": 14,
       "text": [
        "0.800392670157068"
       ]
      }
     ],
     "prompt_number": 14
    },
    {
     "cell_type": "code",
     "collapsed": false,
     "input": [
      "net1_layers = net1.get_all_layers()"
     ],
     "language": "python",
     "metadata": {},
     "outputs": [],
     "prompt_number": 15
    },
    {
     "cell_type": "code",
     "collapsed": false,
     "input": [
      "plot_loss(net1)"
     ],
     "language": "python",
     "metadata": {},
     "outputs": [
      {
       "metadata": {},
       "output_type": "pyout",
       "prompt_number": 16,
       "text": [
        "<module 'matplotlib.pyplot' from '/usr/lib/pymodules/python2.7/matplotlib/pyplot.pyc'>"
       ]
      },
      {
       "metadata": {},
       "output_type": "display_data",
       "png": "[encoded data removed]",
       "text": [
        "<matplotlib.figure.Figure at 0x7f12ea578e50>"
       ]
      }
     ],
     "prompt_number": 16
    },
    {
     "cell_type": "code",
     "collapsed": false,
     "input": [
      "plot_conv_weights(net1_layers[1])"
     ],
     "language": "python",
     "metadata": {},
     "outputs": [
      {
       "metadata": {},
       "output_type": "pyout",
       "prompt_number": 17,
       "text": [
        "<module 'matplotlib.pyplot' from '/usr/lib/pymodules/python2.7/matplotlib/pyplot.pyc'>"
       ]
      },
      {
       "metadata": {},
       "output_type": "display_data",
       "png": "[encoded data removed]",
       "text": [
        "<matplotlib.figure.Figure at 0x7f1308578b50>"
       ]
      },
      {
       "metadata": {},
       "output_type": "display_data",
       "png": "[encoded data removed]",
       "text": [
        "<matplotlib.figure.Figure at 0x7f128bfeb650>"
       ]
      },
      {
       "metadata": {},
       "output_type": "display_data",
       "png": "[encoded data removed]",
       "text": [
        "<matplotlib.figure.Figure at 0x7f128b8ed950>"
       ]
      },
      {
       "metadata": {},
       "output_type": "display_data",
       "png": "[encoded data removed]",
       "text": [
        "<matplotlib.figure.Figure at 0x7f128b0cb9d0>"
       ]
      }
     ],
     "prompt_number": 17
    },
    {
     "cell_type": "code",
     "collapsed": false,
     "input": [],
     "language": "python",
     "metadata": {},
     "outputs": []
    }
   ],
   "metadata": {}
  }
 ]
}