{
 "metadata": {
  "name": "",
  "signature": "sha256:372231dedc010f7b62c78833192fe3875b3a4db02006b883dcc480ecaa0a23ab"
 },
 "nbformat": 3,
 "nbformat_minor": 0,
 "worksheets": [
  {
   "cells": [
    {
     "cell_type": "code",
     "collapsed": false,
     "input": [
      "from __future__ import division, print_function\n",
      "\n",
      "%load_ext autoreload\n",
      "%autoreload 2\n",
      "\n",
      "IMAGE_HEIGHT = 75\n",
      "IMAGE_WIDTH = 75\n",
      "\n",
      "import scipy\n",
      "import theano\n",
      "import numpy as np\n",
      "\n",
      "import matplotlib.pyplot as plt\n",
      "from matplotlib import gridspec\n",
      "import seaborn as sns\n",
      "%matplotlib inline\n",
      "\n",
      "from sklearn.datasets import fetch_mldata\n",
      "from sklearn.cross_validation import train_test_split\n",
      "\n",
      "from nolearn.lasagne import NeuralNet\n",
      "from nolearn.lasagne import TrainSplit\n",
      "from nolearn.lasagne import PrintLayerInfo\n",
      "from nolearn.lasagne.visualize import plot_loss\n",
      "from nolearn.lasagne.visualize import plot_conv_weights\n",
      "from nolearn.lasagne.visualize import plot_conv_activity\n",
      "from nolearn.lasagne.visualize import plot_occlusion\n",
      "\n",
      "from lasagne import layers\n",
      "from lasagne import nonlinearities\n",
      "from lasagne.updates import nesterov_momentum\n",
      "\n",
      "\n",
      "\n",
      "from util import Util\n",
      "\n",
      "from theano.sandbox.cuda import dnn\n",
      "\n",
      "print ('CuDNN support:', dnn.dnn_available())"
     ],
     "language": "python",
     "metadata": {},
     "outputs": [
      {
       "output_type": "stream",
       "stream": "stderr",
       "text": [
        "Using gpu device 0: GeForce GTX TITAN (CNMeM is disabled)\n",
        "/Library/Python/2.7/site-packages/numpy/core/fromnumeric.py:2641: VisibleDeprecationWarning: `rank` is deprecated; use the `ndim` attribute or function instead. To find the rank of a matrix see `numpy.linalg.matrix_rank`.\n",
        "  VisibleDeprecationWarning)\n"
       ]
      },
      {
       "output_type": "stream",
       "stream": "stdout",
       "text": [
        "CuDNN support: True\n"
       ]
      },
      {
       "output_type": "stream",
       "stream": "stderr",
       "text": [
        "tifffile.py:1995: UserWarning: failed to import _tifffile.decodepackbits\n",
        "  warnings.warn(\"failed to import %s\" % module_function)\n",
        "tifffile.py:1995: UserWarning: failed to import _tifffile.decodelzw\n",
        "  warnings.warn(\"failed to import %s\" % module_function)\n",
        "tifffile.py:1995: UserWarning: failed to import _tifffile.unpackints\n",
        "  warnings.warn(\"failed to import %s\" % module_function)\n"
       ]
      }
     ],
     "prompt_number": 1
    },
    {
     "cell_type": "code",
     "collapsed": false,
     "input": [
      "class EarlyStopping(object):\n",
      "    def __init__(self, patience=100):\n",
      "        self.patience = patience\n",
      "        self.best_valid = np.inf\n",
      "        self.best_valid_epoch = 0\n",
      "        self.best_weights = None\n",
      "\n",
      "    def __call__(self, nn, train_history):\n",
      "        current_valid = train_history[-1]['valid_loss']\n",
      "        current_epoch = train_history[-1]['epoch']\n",
      "        if current_valid < self.best_valid:\n",
      "            self.best_valid = current_valid\n",
      "            self.best_valid_epoch = current_epoch\n",
      "            self.best_weights = nn.get_all_params_values()\n",
      "        elif self.best_valid_epoch + self.patience < current_epoch:\n",
      "            print(\"Early stopping.\")\n",
      "            print(\"Best valid loss was {:.6f} at epoch {}.\".format(\n",
      "                self.best_valid, self.best_valid_epoch))\n",
      "            nn.load_params_from(self.best_weights)\n",
      "            raise StopIteration()\n",
      "            \n",
      "class AdjustVariable(object):\n",
      "    def __init__(self, name, start=0.03, stop=0.001):\n",
      "        self.name = name\n",
      "        self.start, self.stop = start, stop\n",
      "        self.ls = None\n",
      "\n",
      "    def __call__(self, nn, train_history):\n",
      "        if self.ls is None:\n",
      "            self.ls = np.linspace(self.start, self.stop, nn.max_epochs)\n",
      "\n",
      "        epoch = train_history[-1]['epoch']\n",
      "        new_value = float32(self.ls[epoch - 1])\n",
      "        getattr(nn, self.name).set_value(new_value)            \n",
      "            \n",
      "def float32(k):\n",
      "    return np.cast['float32'](k)            "
     ],
     "language": "python",
     "metadata": {},
     "outputs": [],
     "prompt_number": 2
    },
    {
     "cell_type": "code",
     "collapsed": false,
     "input": [
      "X_train, y_train, X_val, y_val, X_test, y_test = Util.load_dataset('patches_8th')"
     ],
     "language": "python",
     "metadata": {},
     "outputs": [
      {
       "output_type": "stream",
       "stream": "stdout",
       "text": [
        "Loading data..\n"
       ]
      },
      {
       "ename": "KeyboardInterrupt",
       "evalue": "",
       "output_type": "pyerr",
       "traceback": [
        "\u001b[0;31m---------------------------------------------------------------------------\u001b[0m\n\u001b[0;31mKeyboardInterrupt\u001b[0m                         Traceback (most recent call last)",
        "\u001b[0;32m<ipython-input-5-81bf97e3e19b>\u001b[0m in \u001b[0;36m<module>\u001b[0;34m()\u001b[0m\n\u001b[0;32m----> 1\u001b[0;31m \u001b[0mX_train\u001b[0m\u001b[0;34m,\u001b[0m \u001b[0my_train\u001b[0m\u001b[0;34m,\u001b[0m \u001b[0mX_val\u001b[0m\u001b[0;34m,\u001b[0m \u001b[0my_val\u001b[0m\u001b[0;34m,\u001b[0m \u001b[0mX_test\u001b[0m\u001b[0;34m,\u001b[0m \u001b[0my_test\u001b[0m \u001b[0;34m=\u001b[0m \u001b[0mUtil\u001b[0m\u001b[0;34m.\u001b[0m\u001b[0mload_dataset\u001b[0m\u001b[0;34m(\u001b[0m\u001b[0;34m'patches_7th'\u001b[0m\u001b[0;34m)\u001b[0m\u001b[0;34m\u001b[0m\u001b[0m\n\u001b[0m",
        "\u001b[0;32m/Users/d/Projects/em-quality-metric/nolearn/util.py\u001b[0m in \u001b[0;36mload_dataset\u001b[0;34m(PATCH_PATH, patch_size)\u001b[0m\n\u001b[1;32m    742\u001b[0m       training = {\n\u001b[1;32m    743\u001b[0m         \u001b[0;34m'image'\u001b[0m\u001b[0;34m:\u001b[0m \u001b[0;34m(\u001b[0m\u001b[0mtraining\u001b[0m\u001b[0;34m[\u001b[0m\u001b[0;34m'image'\u001b[0m\u001b[0;34m]\u001b[0m\u001b[0;34m.\u001b[0m\u001b[0mastype\u001b[0m\u001b[0;34m(\u001b[0m\u001b[0mnp\u001b[0m\u001b[0;34m.\u001b[0m\u001b[0mdouble\u001b[0m\u001b[0;34m)\u001b[0m\u001b[0;34m/\u001b[0m\u001b[0;36m255\u001b[0m\u001b[0;34m)\u001b[0m\u001b[0;34m.\u001b[0m\u001b[0mreshape\u001b[0m\u001b[0;34m(\u001b[0m\u001b[0;34m-\u001b[0m\u001b[0;36m1\u001b[0m\u001b[0;34m,\u001b[0m \u001b[0;36m1\u001b[0m\u001b[0;34m,\u001b[0m \u001b[0mpatch_size\u001b[0m\u001b[0;34m[\u001b[0m\u001b[0;36m0\u001b[0m\u001b[0;34m]\u001b[0m\u001b[0;34m,\u001b[0m \u001b[0mpatch_size\u001b[0m\u001b[0;34m[\u001b[0m\u001b[0;36m1\u001b[0m\u001b[0;34m]\u001b[0m\u001b[0;34m)\u001b[0m\u001b[0;34m,\u001b[0m\u001b[0;34m\u001b[0m\u001b[0m\n\u001b[0;32m--> 744\u001b[0;31m         \u001b[0;34m'prob'\u001b[0m\u001b[0;34m:\u001b[0m \u001b[0;34m(\u001b[0m\u001b[0mtraining\u001b[0m\u001b[0;34m[\u001b[0m\u001b[0;34m'prob'\u001b[0m\u001b[0;34m]\u001b[0m\u001b[0;34m.\u001b[0m\u001b[0mastype\u001b[0m\u001b[0;34m(\u001b[0m\u001b[0mnp\u001b[0m\u001b[0;34m.\u001b[0m\u001b[0mdouble\u001b[0m\u001b[0;34m)\u001b[0m\u001b[0;34m/\u001b[0m\u001b[0;36m255\u001b[0m\u001b[0;34m)\u001b[0m\u001b[0;34m.\u001b[0m\u001b[0mreshape\u001b[0m\u001b[0;34m(\u001b[0m\u001b[0;34m-\u001b[0m\u001b[0;36m1\u001b[0m\u001b[0;34m,\u001b[0m \u001b[0;36m1\u001b[0m\u001b[0;34m,\u001b[0m \u001b[0mpatch_size\u001b[0m\u001b[0;34m[\u001b[0m\u001b[0;36m0\u001b[0m\u001b[0;34m]\u001b[0m\u001b[0;34m,\u001b[0m \u001b[0mpatch_size\u001b[0m\u001b[0;34m[\u001b[0m\u001b[0;36m1\u001b[0m\u001b[0;34m]\u001b[0m\u001b[0;34m)\u001b[0m\u001b[0;34m,\u001b[0m\u001b[0;34m\u001b[0m\u001b[0m\n\u001b[0m\u001b[1;32m    745\u001b[0m         \u001b[0;31m# 'binary': training['binary'].astype(np.uint8).reshape(-1, 1, patch_size[0], patch_size[1]),\u001b[0m\u001b[0;34m\u001b[0m\u001b[0;34m\u001b[0m\u001b[0m\n\u001b[1;32m    746\u001b[0m         \u001b[0;31m# 'binary1': training['binary1'].astype(np.uint8).reshape(-1, 1, patch_size[0], patch_size[1]),\u001b[0m\u001b[0;34m\u001b[0m\u001b[0;34m\u001b[0m\u001b[0m\n",
        "\u001b[0;31mKeyboardInterrupt\u001b[0m: "
       ]
      }
     ],
     "prompt_number": 5
    },
    {
     "cell_type": "code",
     "collapsed": false,
     "input": [
      "X_train.keys()"
     ],
     "language": "python",
     "metadata": {},
     "outputs": [
      {
       "metadata": {},
       "output_type": "pyout",
       "prompt_number": 7,
       "text": [
        "['binary',\n",
        " 'dyn_obj',\n",
        " 'dyn_bnd',\n",
        " 'image',\n",
        " 'border_overlap',\n",
        " 'prob',\n",
        " 'merged_array',\n",
        " 'larger_border_overlap']"
       ]
      }
     ],
     "prompt_number": 7
    },
    {
     "cell_type": "code",
     "collapsed": false,
     "input": [
      "net0 = NeuralNet(\n",
      "    layers=[\n",
      "        ('image', layers.InputLayer),\n",
      "#         ('image_conv1', layers.Conv2DLayer),\n",
      "        ('image_conv1', layers.dnn.Conv2DDNNLayer),\n",
      "        ('image_pool1', layers.MaxPool2DLayer),\n",
      "        ('image_dropout1', layers.DropoutLayer),\n",
      "#         ('image_conv2', layers.Conv2DLayer),\n",
      "        ('image_conv2', layers.dnn.Conv2DDNNLayer),\n",
      "        ('image_pool2', layers.MaxPool2DLayer),\n",
      "        ('image_dropout2', layers.DropoutLayer),\n",
      "\n",
      "        ('prob', layers.InputLayer),\n",
      "#         ('prob_conv1', layers.Conv2DLayer),\n",
      "        ('prob_conv1', layers.dnn.Conv2DDNNLayer),\n",
      "        ('prob_pool1', layers.MaxPool2DLayer),\n",
      "        ('prob_dropout1', layers.DropoutLayer),\n",
      "#         ('prob_conv2', layers.Conv2DLayer),\n",
      "        ('prob_conv2', layers.dnn.Conv2DDNNLayer),\n",
      "        ('prob_pool2', layers.MaxPool2DLayer),\n",
      "        ('prob_dropout2', layers.DropoutLayer),\n",
      "\n",
      "        ('binary', layers.InputLayer),\n",
      "#         ('binary_conv1', layers.Conv2DLayer),\n",
      "        ('binary_conv1', layers.dnn.Conv2DDNNLayer),\n",
      "        ('binary_pool1', layers.MaxPool2DLayer),\n",
      "        ('binary_dropout1', layers.DropoutLayer),\n",
      "#         ('binary_conv2', layers.Conv2DLayer),\n",
      "        ('binary_conv2', layers.dnn.Conv2DDNNLayer),\n",
      "        ('binary_pool2', layers.MaxPool2DLayer),\n",
      "        ('binary_dropout2', layers.DropoutLayer),\n",
      "\n",
      "        ('border', layers.InputLayer),\n",
      "#         ('border_conv1', layers.Conv2DLayer),\n",
      "        ('border_conv1', layers.dnn.Conv2DDNNLayer),\n",
      "        ('border_pool1', layers.MaxPool2DLayer),\n",
      "        ('border_dropout1', layers.DropoutLayer),\n",
      "#         ('border_conv2', layers.Conv2DLayer),\n",
      "        ('border_conv2', layers.dnn.Conv2DDNNLayer),\n",
      "        ('border_pool2', layers.MaxPool2DLayer),\n",
      "        ('border_dropout2', layers.DropoutLayer),\n",
      "\n",
      "        ('merge', layers.ConcatLayer),\n",
      "        ('hidden3', layers.DenseLayer),\n",
      "        ('dropout3', layers.DropoutLayer),\n",
      "        ('output', layers.DenseLayer),\n",
      "    ],\n",
      "\n",
      "    # image\n",
      "    image_shape=(None, 1, 75, 75),\n",
      "    # conv2d + pool + dropout\n",
      "    image_conv1_filter_size=(13,13), image_conv1_num_filters=16,\n",
      "    image_pool1_pool_size=(2,2),\n",
      "    image_dropout1_p=0.1,\n",
      "    # conv2d + pool + dropout\n",
      "    image_conv2_filter_size=(13,13), image_conv2_num_filters=16,\n",
      "    image_pool2_pool_size=(2,2),\n",
      "    image_dropout2_p=0.2,\n",
      "\n",
      "    # prob\n",
      "    prob_shape=(None, 1, 75, 75),\n",
      "\n",
      "    # conv2d + pool + dropout\n",
      "    prob_conv1_filter_size=(13,13), prob_conv1_num_filters=16,\n",
      "    prob_pool1_pool_size=(2,2),\n",
      "    prob_dropout1_p=0.1,\n",
      "    # conv2d + pool + dropout\n",
      "    prob_conv2_filter_size=(13,13), prob_conv2_num_filters=16,\n",
      "    prob_pool2_pool_size=(2,2),\n",
      "    prob_dropout2_p=0.2,\n",
      "\n",
      "    # binary\n",
      "    binary_shape=(None, 1, 75, 75),\n",
      "    # conv2d + pool + dropout\n",
      "    binary_conv1_filter_size=(13,13), binary_conv1_num_filters=16,\n",
      "    binary_pool1_pool_size=(2,2),\n",
      "    binary_dropout1_p=0.1,\n",
      "    # conv2d + pool + dropout\n",
      "    binary_conv2_filter_size=(13,13), binary_conv2_num_filters=16,\n",
      "    binary_pool2_pool_size=(2,2),\n",
      "    binary_dropout2_p=0.2,\n",
      "\n",
      "    # border\n",
      "    border_shape=(None, 1, 75, 75),\n",
      "    # conv2d + pool + dropout\n",
      "    border_conv1_filter_size=(13,13), border_conv1_num_filters=16,\n",
      "    border_pool1_pool_size=(2,2),\n",
      "    border_dropout1_p=0.1,\n",
      "    # conv2d + pool + dropout\n",
      "    border_conv2_filter_size=(13,13), border_conv2_num_filters=16,\n",
      "    border_pool2_pool_size=(2,2),\n",
      "    border_dropout2_p=0.2,\n",
      "\n",
      "    # concat\n",
      "    merge_incomings=['image_dropout2','prob_dropout2','binary_dropout2','border_dropout2'],\n",
      "\n",
      "    # dense layer 1\n",
      "    hidden3_num_units=256,\n",
      "    hidden3_nonlinearity=nonlinearities.rectify,\n",
      "    dropout3_p=0.5,\n",
      "\n",
      "    # dense layer 2\n",
      "    output_num_units=2,\n",
      "    output_nonlinearity=nonlinearities.softmax,\n",
      "\n",
      "\n",
      "\n",
      "    update=nesterov_momentum,\n",
      "    update_learning_rate=theano.shared(float32(0.03)),\n",
      "    update_momentum=theano.shared(float32(0.9)),\n",
      "\n",
      "\n",
      "    train_split=TrainSplit(eval_size=0.25),\n",
      "    max_epochs=300,\n",
      "    verbose=True,\n",
      "\n",
      "    on_epoch_finished=[\n",
      "        AdjustVariable('update_learning_rate', start=0.03, stop=0.0001),\n",
      "        AdjustVariable('update_momentum', start=0.9, stop=0.999),\n",
      "        EarlyStopping(patience=30),\n",
      "    ]\n",
      ")\n",
      "\n",
      "net0_fit = net0.fit({'image': X_train['image'].astype(np.float32),\n",
      "                     'prob': X_train['prob'].astype(np.float32),\n",
      "                     'binary': X_train['merged_array'],\n",
      "                     'border': X_train['larger_border_overlap']},\n",
      "                     y_train)"
     ],
     "language": "python",
     "metadata": {},
     "outputs": [
      {
       "output_type": "stream",
       "stream": "stdout",
       "text": [
        "# Neural Network with 1511874 learnable parameters\n",
        "\n",
        "## Layer information\n",
        "\n",
        "  #  name             size\n",
        "---  ---------------  --------\n",
        "  0  image            1x75x75\n",
        "  1  image_conv1      16x63x63\n",
        "  2  image_pool1      16x31x31\n",
        "  3  image_dropout1   16x31x31\n",
        "  4  image_conv2      16x19x19\n",
        "  5  image_pool2      16x9x9\n",
        "  6  image_dropout2   16x9x9\n",
        "  7  prob             1x75x75\n",
        "  8  prob_conv1       16x63x63\n",
        "  9  prob_pool1       16x31x31\n",
        " 10  prob_dropout1    16x31x31\n",
        " 11  prob_conv2       16x19x19\n",
        " 12  prob_pool2       16x9x9\n",
        " 13  prob_dropout2    16x9x9\n",
        " 14  binary           1x75x75\n",
        " 15  binary_conv1     16x63x63\n",
        " 16  binary_pool1     16x31x31\n",
        " 17  binary_dropout1  16x31x31\n",
        " 18  binary_conv2     16x19x19\n",
        " 19  binary_pool2     16x9x9\n",
        " 20  binary_dropout2  16x9x9\n",
        " 21  border           1x75x75\n",
        " 22  border_conv1     16x63x63\n",
        " 23  border_pool1     16x31x31\n",
        " 24  border_dropout1  16x31x31\n",
        " 25  border_conv2     16x19x19\n",
        " 26  border_pool2     16x9x9\n",
        " 27  border_dropout2  16x9x9\n",
        " 28  merge            64x9x9\n",
        " 29  hidden3          256\n",
        " 30  dropout3         256\n",
        " 31  output           2"
       ]
      },
      {
       "output_type": "stream",
       "stream": "stdout",
       "text": [
        "\n",
        "\n"
       ]
      },
      {
       "output_type": "stream",
       "stream": "stdout",
       "text": [
        "  epoch    train loss    valid loss    train/val    valid acc  dur\n",
        "-------  ------------  ------------  -----------  -----------  -------\n",
        "      1       \u001b[36m0.40694\u001b[0m       \u001b[32m0.33378\u001b[0m      1.21921      0.86004  639.29s\n"
       ]
      },
      {
       "output_type": "stream",
       "stream": "stdout",
       "text": [
        "      2       \u001b[36m0.31520\u001b[0m       \u001b[32m0.27036\u001b[0m      1.16584      0.88831  562.16s\n"
       ]
      },
      {
       "output_type": "stream",
       "stream": "stdout",
       "text": [
        "      3       \u001b[36m0.26947\u001b[0m       \u001b[32m0.25964\u001b[0m      1.03785      0.89062  560.34s\n"
       ]
      },
      {
       "output_type": "stream",
       "stream": "stdout",
       "text": [
        "      4       \u001b[36m0.23256\u001b[0m       \u001b[32m0.19172\u001b[0m      1.21302      0.92741  548.89s\n"
       ]
      },
      {
       "output_type": "stream",
       "stream": "stdout",
       "text": [
        "      5       \u001b[36m0.20351\u001b[0m       \u001b[32m0.15587\u001b[0m      1.30560      0.94107  556.94s\n"
       ]
      },
      {
       "output_type": "stream",
       "stream": "stdout",
       "text": [
        "      6       \u001b[36m0.17854\u001b[0m       \u001b[32m0.13736\u001b[0m      1.29978      0.95041  547.20s\n"
       ]
      },
      {
       "output_type": "stream",
       "stream": "stdout",
       "text": [
        "      7       \u001b[36m0.15937\u001b[0m       \u001b[32m0.12389\u001b[0m      1.28639      0.95298  551.24s\n"
       ]
      },
      {
       "output_type": "stream",
       "stream": "stdout",
       "text": [
        "      8       \u001b[36m0.14558\u001b[0m       \u001b[32m0.11320\u001b[0m      1.28602      0.95834  549.84s\n"
       ]
      },
      {
       "output_type": "stream",
       "stream": "stdout",
       "text": [
        "      9       \u001b[36m0.13184\u001b[0m       \u001b[32m0.09195\u001b[0m      1.43379      0.96728  552.03s\n"
       ]
      },
      {
       "output_type": "stream",
       "stream": "stdout",
       "text": [
        "     10       \u001b[36m0.12315\u001b[0m       0.09670      1.27351      0.96378  553.06s\n"
       ]
      },
      {
       "output_type": "stream",
       "stream": "stdout",
       "text": [
        "     11       \u001b[36m0.11402\u001b[0m       \u001b[32m0.07908\u001b[0m      1.44190      0.97287  546.87s\n"
       ]
      },
      {
       "output_type": "stream",
       "stream": "stdout",
       "text": [
        "     12       \u001b[36m0.10535\u001b[0m       \u001b[32m0.07093\u001b[0m      1.48534      0.97615  549.78s\n"
       ]
      },
      {
       "output_type": "stream",
       "stream": "stdout",
       "text": [
        "     13       \u001b[36m0.09645\u001b[0m       \u001b[32m0.06591\u001b[0m      1.46331      0.97755  552.05s\n"
       ]
      },
      {
       "output_type": "stream",
       "stream": "stdout",
       "text": [
        "     14       \u001b[36m0.09430\u001b[0m       \u001b[32m0.05908\u001b[0m      1.59609      0.97945  548.85s\n"
       ]
      },
      {
       "output_type": "stream",
       "stream": "stdout",
       "text": [
        "     15       \u001b[36m0.08531\u001b[0m       \u001b[32m0.05676\u001b[0m      1.50290      0.98114  546.10s\n"
       ]
      },
      {
       "output_type": "stream",
       "stream": "stdout",
       "text": [
        "     16       \u001b[36m0.08370\u001b[0m       \u001b[32m0.05208\u001b[0m      1.60729      0.98335  547.26s\n"
       ]
      },
      {
       "output_type": "stream",
       "stream": "stdout",
       "text": [
        "     17       \u001b[36m0.07884\u001b[0m       0.05466      1.44225      0.98101  548.66s\n"
       ]
      },
      {
       "output_type": "stream",
       "stream": "stdout",
       "text": [
        "     18       \u001b[36m0.07356\u001b[0m       \u001b[32m0.04647\u001b[0m      1.58305      0.98573  554.10s\n"
       ]
      },
      {
       "output_type": "stream",
       "stream": "stdout",
       "text": [
        "     19       \u001b[36m0.07120\u001b[0m       0.05058      1.40778      0.98448  547.04s\n"
       ]
      },
      {
       "output_type": "stream",
       "stream": "stdout",
       "text": [
        "     20       \u001b[36m0.06860\u001b[0m       0.05093      1.34712      0.98404  547.68s\n"
       ]
      },
      {
       "output_type": "stream",
       "stream": "stdout",
       "text": [
        "     21       \u001b[36m0.06671\u001b[0m       0.04936      1.35163      0.98447  546.32s\n"
       ]
      },
      {
       "output_type": "stream",
       "stream": "stdout",
       "text": [
        "     22       \u001b[36m0.06530\u001b[0m       \u001b[32m0.04084\u001b[0m      1.59869      0.98808  548.38s\n"
       ]
      },
      {
       "output_type": "stream",
       "stream": "stdout",
       "text": [
        "     23       \u001b[36m0.06447\u001b[0m       0.04389      1.46876      0.98737  549.01s\n"
       ]
      },
      {
       "output_type": "stream",
       "stream": "stdout",
       "text": [
        "     24       \u001b[36m0.06034\u001b[0m       \u001b[32m0.04035\u001b[0m      1.49545      0.98855  548.71s\n"
       ]
      },
      {
       "output_type": "stream",
       "stream": "stdout",
       "text": [
        "     25       \u001b[36m0.05845\u001b[0m       0.04827      1.21096      0.98527  546.87s\n"
       ]
      },
      {
       "output_type": "stream",
       "stream": "stdout",
       "text": [
        "     26       \u001b[36m0.05749\u001b[0m       \u001b[32m0.03580\u001b[0m      1.60607      0.99025  549.47s\n"
       ]
      },
      {
       "output_type": "stream",
       "stream": "stdout",
       "text": [
        "     27       \u001b[36m0.05446\u001b[0m       0.04569      1.19201      0.98625  545.48s\n"
       ]
      },
      {
       "output_type": "stream",
       "stream": "stdout",
       "text": [
        "     28       \u001b[36m0.05413\u001b[0m       \u001b[32m0.03541\u001b[0m      1.52841      0.99035  545.38s\n"
       ]
      },
      {
       "output_type": "stream",
       "stream": "stdout",
       "text": [
        "     29       \u001b[36m0.05246\u001b[0m       0.04951      1.05958      0.98478  546.56s\n"
       ]
      },
      {
       "output_type": "stream",
       "stream": "stdout",
       "text": [
        "     30       0.05352       0.04462      1.19954      0.98672  545.81s\n"
       ]
      },
      {
       "output_type": "stream",
       "stream": "stdout",
       "text": [
        "     31       \u001b[36m0.05018\u001b[0m       \u001b[32m0.03458\u001b[0m      1.45107      0.99096  548.09s\n"
       ]
      },
      {
       "output_type": "stream",
       "stream": "stdout",
       "text": [
        "     32       \u001b[36m0.04974\u001b[0m       \u001b[32m0.03437\u001b[0m      1.44719      0.99131  547.63s\n"
       ]
      },
      {
       "output_type": "stream",
       "stream": "stdout",
       "text": [
        "     33       \u001b[36m0.04873\u001b[0m       0.04170      1.16851      0.98863  546.54s\n"
       ]
      },
      {
       "output_type": "stream",
       "stream": "stdout",
       "text": [
        "     34       \u001b[36m0.04806\u001b[0m       \u001b[32m0.03423\u001b[0m      1.40407      0.99099  547.77s\n"
       ]
      },
      {
       "output_type": "stream",
       "stream": "stdout",
       "text": [
        "     35       \u001b[36m0.04539\u001b[0m       0.03752      1.20978      0.99086  545.66s\n"
       ]
      },
      {
       "output_type": "stream",
       "stream": "stdout",
       "text": [
        "     36       \u001b[36m0.04526\u001b[0m       0.03535      1.28025      0.99086  546.02s\n"
       ]
      },
      {
       "output_type": "stream",
       "stream": "stdout",
       "text": [
        "     37       \u001b[36m0.04389\u001b[0m       0.03978      1.10335      0.99001  545.25s\n"
       ]
      },
      {
       "output_type": "stream",
       "stream": "stdout",
       "text": [
        "     38       \u001b[36m0.04346\u001b[0m       \u001b[32m0.03183\u001b[0m      1.36544      0.99226  548.34s\n"
       ]
      },
      {
       "output_type": "stream",
       "stream": "stdout",
       "text": [
        "     39       0.04511       0.03395      1.32862      0.99103  546.01s\n"
       ]
      },
      {
       "output_type": "stream",
       "stream": "stdout",
       "text": [
        "     40       \u001b[36m0.04211\u001b[0m       0.03315      1.27017      0.99103  545.80s\n"
       ]
      },
      {
       "output_type": "stream",
       "stream": "stdout",
       "text": [
        "     41       0.04460       \u001b[32m0.03007\u001b[0m      1.48310      0.99274  546.21s\n"
       ]
      },
      {
       "output_type": "stream",
       "stream": "stdout",
       "text": [
        "     42       0.04263       0.03026      1.40869      0.99274  545.89s\n"
       ]
      },
      {
       "output_type": "stream",
       "stream": "stdout",
       "text": [
        "     43       \u001b[36m0.04022\u001b[0m       0.03489      1.15275      0.99043  546.35s\n"
       ]
      },
      {
       "output_type": "stream",
       "stream": "stdout",
       "text": [
        "     44       \u001b[36m0.03975\u001b[0m       0.04018      0.98931      0.98943  554.98s\n"
       ]
      },
      {
       "output_type": "stream",
       "stream": "stdout",
       "text": [
        "     45       \u001b[36m0.03925\u001b[0m       0.03236      1.21294      0.99171  549.92s\n"
       ]
      },
      {
       "output_type": "stream",
       "stream": "stdout",
       "text": [
        "     46       0.04198       0.03462      1.21258      0.99224  553.17s\n"
       ]
      },
      {
       "output_type": "stream",
       "stream": "stdout",
       "text": [
        "     47       \u001b[36m0.03657\u001b[0m       0.04337      0.84312      0.98891  553.48s\n"
       ]
      },
      {
       "output_type": "stream",
       "stream": "stdout",
       "text": [
        "     48       0.03886       0.03247      1.19675      0.99216  546.98s\n"
       ]
      },
      {
       "output_type": "stream",
       "stream": "stdout",
       "text": [
        "     49       0.03906       0.03236      1.20712      0.99106  550.51s\n"
       ]
      },
      {
       "output_type": "stream",
       "stream": "stdout",
       "text": [
        "     50       0.03962       0.03453      1.14756      0.99053  546.02s\n"
       ]
      },
      {
       "output_type": "stream",
       "stream": "stdout",
       "text": [
        "     51       0.03702       0.03458      1.07058      0.99143  552.85s\n"
       ]
      },
      {
       "output_type": "stream",
       "stream": "stdout",
       "text": [
        "     52       \u001b[36m0.03643\u001b[0m       0.03509      1.03811      0.99199  548.92s\n"
       ]
      },
      {
       "output_type": "stream",
       "stream": "stdout",
       "text": [
        "     53       0.03685       0.03453      1.06726      0.99114  545.73s\n"
       ]
      },
      {
       "output_type": "stream",
       "stream": "stdout",
       "text": [
        "     54       \u001b[36m0.03579\u001b[0m       0.04419      0.81002      0.98860  548.01s\n"
       ]
      },
      {
       "output_type": "stream",
       "stream": "stdout",
       "text": [
        "     55       \u001b[36m0.03475\u001b[0m       \u001b[32m0.02873\u001b[0m      1.20931      0.99326  545.77s\n"
       ]
      },
      {
       "output_type": "stream",
       "stream": "stdout",
       "text": [
        "     56       0.03546       0.03449      1.02815      0.99239  547.90s\n"
       ]
      },
      {
       "output_type": "stream",
       "stream": "stdout",
       "text": [
        "     57       \u001b[36m0.03387\u001b[0m       0.03441      0.98442      0.99226  546.52s\n"
       ]
      },
      {
       "output_type": "stream",
       "stream": "stdout",
       "text": [
        "     58       0.03617       0.03745      0.96580      0.99091  553.01s\n"
       ]
      },
      {
       "output_type": "stream",
       "stream": "stdout",
       "text": [
        "     59       0.03654       0.02907      1.25695      0.99301  551.04s\n"
       ]
      },
      {
       "output_type": "stream",
       "stream": "stdout",
       "text": [
        "     60       0.03443       0.03428      1.00444      0.99299  552.94s\n"
       ]
      },
      {
       "output_type": "stream",
       "stream": "stdout",
       "text": [
        "     61       0.03589       0.03364      1.06664      0.99236  546.12s\n"
       ]
      },
      {
       "output_type": "stream",
       "stream": "stdout",
       "text": [
        "     62       0.03469       0.03628      0.95599      0.99144  546.05s\n"
       ]
      },
      {
       "output_type": "stream",
       "stream": "stdout",
       "text": [
        "     63       0.03480       0.03282      1.06018      0.99269  551.49s\n"
       ]
      },
      {
       "output_type": "stream",
       "stream": "stdout",
       "text": [
        "     64       \u001b[36m0.03187\u001b[0m       0.03491      0.91296      0.99241  550.00s\n"
       ]
      },
      {
       "output_type": "stream",
       "stream": "stdout",
       "text": [
        "     65       0.03200       0.03314      0.96538      0.99236  547.00s\n"
       ]
      },
      {
       "output_type": "stream",
       "stream": "stdout",
       "text": [
        "     66       0.03200       0.03159      1.01300      0.99316  545.72s\n"
       ]
      },
      {
       "output_type": "stream",
       "stream": "stdout",
       "text": [
        "     67       \u001b[36m0.03165\u001b[0m       0.03117      1.01526      0.99331  546.26s\n"
       ]
      },
      {
       "output_type": "stream",
       "stream": "stdout",
       "text": [
        "     68       \u001b[36m0.03158\u001b[0m       0.03181      0.99267      0.99366  546.00s\n"
       ]
      },
      {
       "output_type": "stream",
       "stream": "stdout",
       "text": [
        "     69       0.03219       0.03157      1.01953      0.99304  548.20s\n"
       ]
      },
      {
       "output_type": "stream",
       "stream": "stdout",
       "text": [
        "     70       0.03255       0.03224      1.00961      0.99271  545.87s\n"
       ]
      },
      {
       "output_type": "stream",
       "stream": "stdout",
       "text": [
        "     71       \u001b[36m0.03027\u001b[0m       0.03351      0.90347      0.99326  551.49s\n"
       ]
      },
      {
       "output_type": "stream",
       "stream": "stdout",
       "text": [
        "     72       0.03084       0.03318      0.92953      0.99328  546.45s\n"
       ]
      },
      {
       "output_type": "stream",
       "stream": "stdout",
       "text": [
        "     73       0.03194       0.03198      0.99892      0.99353  548.12s\n"
       ]
      },
      {
       "output_type": "stream",
       "stream": "stdout",
       "text": [
        "     74       0.03069       0.03140      0.97726      0.99328  551.83s\n"
       ]
      },
      {
       "output_type": "stream",
       "stream": "stdout",
       "text": [
        "     75       \u001b[36m0.03009\u001b[0m       0.03584      0.83949      0.99269  545.87s\n"
       ]
      },
      {
       "output_type": "stream",
       "stream": "stdout",
       "text": [
        "     76       0.03011       0.03694      0.81525      0.99188  547.34s\n"
       ]
      },
      {
       "output_type": "stream",
       "stream": "stdout",
       "text": [
        "     77       0.03019       0.03165      0.95393      0.99339  546.09s\n"
       ]
      },
      {
       "output_type": "stream",
       "stream": "stdout",
       "text": [
        "     78       0.03098       0.03194      0.96987      0.99361  549.15s\n"
       ]
      },
      {
       "output_type": "stream",
       "stream": "stdout",
       "text": [
        "     79       \u001b[36m0.02933\u001b[0m       0.03928      0.74670      0.99221  545.89s\n"
       ]
      },
      {
       "output_type": "stream",
       "stream": "stdout",
       "text": [
        "     80       0.02954       0.03507      0.84223      0.99298  545.80s\n"
       ]
      },
      {
       "output_type": "stream",
       "stream": "stdout",
       "text": [
        "     81       0.03093       0.03835      0.80646      0.99199  545.95s\n"
       ]
      },
      {
       "output_type": "stream",
       "stream": "stdout",
       "text": [
        "     82       \u001b[36m0.02920\u001b[0m       0.03492      0.83615      0.99328  546.87s\n"
       ]
      },
      {
       "output_type": "stream",
       "stream": "stdout",
       "text": [
        "     83       \u001b[36m0.02822\u001b[0m       0.03487      0.80921      0.99228  545.90s\n"
       ]
      },
      {
       "output_type": "stream",
       "stream": "stdout",
       "text": [
        "     84       0.03018       0.03457      0.87314      0.99313  549.49s\n"
       ]
      },
      {
       "output_type": "stream",
       "stream": "stdout",
       "text": [
        "     85       0.02864       0.03780      0.75768      0.99238  545.84s\n"
       ]
      },
      {
       "output_type": "stream",
       "stream": "stdout",
       "text": [
        "Early stopping.\n",
        "Best valid loss was 0.028733 at epoch 55.\n",
        "Loaded parameters to layer 'image_conv1' (shape 16x1x13x13)."
       ]
      },
      {
       "output_type": "stream",
       "stream": "stdout",
       "text": [
        "\n",
        "Loaded parameters to layer 'image_conv1' (shape 16).\n",
        "Loaded parameters to layer 'image_conv2' (shape 16x16x13x13).\n",
        "Loaded parameters to layer 'image_conv2' (shape 16).\n",
        "Loaded parameters to layer 'prob_conv1' (shape 16x1x13x13).\n",
        "Loaded parameters to layer 'prob_conv1' (shape 16).\n",
        "Loaded parameters to layer 'prob_conv2' (shape 16x16x13x13).\n",
        "Loaded parameters to layer 'prob_conv2' (shape 16).\n",
        "Loaded parameters to layer 'binary_conv1' (shape 16x1x13x13).\n",
        "Loaded parameters to layer 'binary_conv1' (shape 16).\n",
        "Loaded parameters to layer 'binary_conv2' (shape 16x16x13x13).\n",
        "Loaded parameters to layer 'binary_conv2' (shape 16).\n",
        "Loaded parameters to layer 'border_conv1' (shape 16x1x13x13).\n",
        "Loaded parameters to layer 'border_conv1' (shape 16).\n",
        "Loaded parameters to layer 'border_conv2' (shape 16x16x13x13).\n",
        "Loaded parameters to layer 'border_conv2' (shape 16).\n",
        "Loaded parameters to layer 'hidden3' (shape 5184x256)."
       ]
      },
      {
       "output_type": "stream",
       "stream": "stdout",
       "text": [
        "\n",
        "Loaded parameters to layer 'hidden3' (shape 256).\n",
        "Loaded parameters to layer 'output' (shape 256x2).\n",
        "Loaded parameters to layer 'output' (shape 2).\n"
       ]
      }
     ],
     "prompt_number": 29
    },
    {
     "cell_type": "code",
     "collapsed": false,
     "input": [
      "net0.score({'image': X_test['image'].astype(np.float32),\n",
      "           'prob':X_test['prob'].astype(np.float32),\n",
      "           'binary':X_test['merged_array'].astype(np.float32),\n",
      "           'border':X_test['larger_border_overlap'].astype(np.float32)},           \n",
      "           y_test)"
     ],
     "language": "python",
     "metadata": {},
     "outputs": [
      {
       "metadata": {},
       "output_type": "pyout",
       "prompt_number": 36,
       "text": [
        "0.8173277661795407"
       ]
      }
     ],
     "prompt_number": 36
    },
    {
     "cell_type": "code",
     "collapsed": false,
     "input": [
      "net0_layers = net0.get_all_layers()"
     ],
     "language": "python",
     "metadata": {},
     "outputs": [],
     "prompt_number": 32
    },
    {
     "cell_type": "code",
     "collapsed": false,
     "input": [
      "plot_loss(net0)"
     ],
     "language": "python",
     "metadata": {},
     "outputs": [
      {
       "metadata": {},
       "output_type": "pyout",
       "prompt_number": 34,
       "text": [
        "<module 'matplotlib.pyplot' from '/System/Library/Frameworks/Python.framework/Versions/2.7/Extras/lib/python/matplotlib/pyplot.pyc'>"
       ]
      },
      {
       "metadata": {},
       "output_type": "display_data",
       "png": "[encoded data removed]",
       "text": [
        "<matplotlib.figure.Figure at 0x112c9fc10>"
       ]
      }
     ],
     "prompt_number": 34
    },
    {
     "cell_type": "code",
     "collapsed": false,
     "input": [
      "plot_conv_weights(net0_layers[1])"
     ],
     "language": "python",
     "metadata": {},
     "outputs": [
      {
       "metadata": {},
       "output_type": "pyout",
       "prompt_number": 45,
       "text": [
        "<module 'matplotlib.pyplot' from '/System/Library/Frameworks/Python.framework/Versions/2.7/Extras/lib/python/matplotlib/pyplot.pyc'>"
       ]
      },
      {
       "metadata": {},
       "output_type": "display_data",
       "png": "[encoded data removed]",
       "text": [
        "<matplotlib.figure.Figure at 0xaf171c6d0>"
       ]
      }
     ],
     "prompt_number": 45
    },
    {
     "cell_type": "code",
     "collapsed": false,
     "input": [
      "plot_conv_weights(net0_layers[8])"
     ],
     "language": "python",
     "metadata": {},
     "outputs": [
      {
       "metadata": {},
       "output_type": "pyout",
       "prompt_number": 38,
       "text": [
        "<module 'matplotlib.pyplot' from '/System/Library/Frameworks/Python.framework/Versions/2.7/Extras/lib/python/matplotlib/pyplot.pyc'>"
       ]
      },
      {
       "metadata": {},
       "output_type": "display_data",
       "png": "[encoded data removed]",
       "text": [
        "<matplotlib.figure.Figure at 0x11614b690>"
       ]
      }
     ],
     "prompt_number": 38
    },
    {
     "cell_type": "code",
     "collapsed": false,
     "input": [
      "plot_conv_weights(net0_layers[15])"
     ],
     "language": "python",
     "metadata": {},
     "outputs": [
      {
       "metadata": {},
       "output_type": "pyout",
       "prompt_number": 40,
       "text": [
        "<module 'matplotlib.pyplot' from '/System/Library/Frameworks/Python.framework/Versions/2.7/Extras/lib/python/matplotlib/pyplot.pyc'>"
       ]
      },
      {
       "metadata": {},
       "output_type": "display_data",
       "png": "[encoded data removed]",
       "text": [
        "<matplotlib.figure.Figure at 0x1159c2e10>"
       ]
      }
     ],
     "prompt_number": 40
    },
    {
     "cell_type": "code",
     "collapsed": false,
     "input": [
      "plot_conv_weights(net0_layers[22])"
     ],
     "language": "python",
     "metadata": {},
     "outputs": [
      {
       "metadata": {},
       "output_type": "pyout",
       "prompt_number": 41,
       "text": [
        "<module 'matplotlib.pyplot' from '/System/Library/Frameworks/Python.framework/Versions/2.7/Extras/lib/python/matplotlib/pyplot.pyc'>"
       ]
      },
      {
       "metadata": {},
       "output_type": "display_data",
       "png": "[encoded data removed]",
       "text": [
        "<matplotlib.figure.Figure at 0x1161cd710>"
       ]
      }
     ],
     "prompt_number": 41
    },
    {
     "cell_type": "code",
     "collapsed": false,
     "input": [],
     "language": "python",
     "metadata": {},
     "outputs": []
    },
    {
     "cell_type": "code",
     "collapsed": false,
     "input": [
      "plot_conv_activity(net0_layers[8], X_train['prob'][0:1].astype(np.float32))"
     ],
     "language": "python",
     "metadata": {},
     "outputs": [
      {
       "output_type": "stream",
       "stream": "stdout",
       "text": [
        "ERROR! Session/line number was not unique in database. History logging moved to new session 370\n"
       ]
      },
      {
       "metadata": {},
       "output_type": "pyout",
       "prompt_number": 42,
       "text": [
        "<module 'matplotlib.pyplot' from '/System/Library/Frameworks/Python.framework/Versions/2.7/Extras/lib/python/matplotlib/pyplot.pyc'>"
       ]
      },
      {
       "metadata": {},
       "output_type": "display_data",
       "png": "[encoded data removed]",
       "text": [
        "<matplotlib.figure.Figure at 0x1fca4aad0>"
       ]
      }
     ],
     "prompt_number": 42
    },
    {
     "cell_type": "code",
     "collapsed": false,
     "input": [
      "plot_conv_activity(net0_layers[15], X_train['merged_array'][0:1].astype(np.float32))"
     ],
     "language": "python",
     "metadata": {},
     "outputs": [
      {
       "metadata": {},
       "output_type": "pyout",
       "prompt_number": 43,
       "text": [
        "<module 'matplotlib.pyplot' from '/System/Library/Frameworks/Python.framework/Versions/2.7/Extras/lib/python/matplotlib/pyplot.pyc'>"
       ]
      },
      {
       "metadata": {},
       "output_type": "display_data",
       "png": "[encoded data removed]",
       "text": [
        "<matplotlib.figure.Figure at 0xaf19a7e50>"
       ]
      }
     ],
     "prompt_number": 43
    },
    {
     "cell_type": "code",
     "collapsed": false,
     "input": [
      "plot_conv_activity(net0_layers[15], X_train['larger_border_overlap'][0:1].astype(np.float32))"
     ],
     "language": "python",
     "metadata": {},
     "outputs": [
      {
       "metadata": {},
       "output_type": "pyout",
       "prompt_number": 44,
       "text": [
        "<module 'matplotlib.pyplot' from '/System/Library/Frameworks/Python.framework/Versions/2.7/Extras/lib/python/matplotlib/pyplot.pyc'>"
       ]
      },
      {
       "metadata": {},
       "output_type": "display_data",
       "png": "[encoded data removed]",
       "text": [
        "<matplotlib.figure.Figure at 0xaf1901f90>"
       ]
      }
     ],
     "prompt_number": 44
    },
    {
     "cell_type": "code",
     "collapsed": false,
     "input": [
      "input_rgb = np.concatenate((X_train['image'], X_train['prob'], X_train['merged_array'], X_train['larger_border_overlap']), 1)"
     ],
     "language": "python",
     "metadata": {},
     "outputs": []
    },
    {
     "cell_type": "code",
     "collapsed": false,
     "input": [
      "input_rgb.shape"
     ],
     "language": "python",
     "metadata": {},
     "outputs": []
    },
    {
     "cell_type": "code",
     "collapsed": false,
     "input": [
      "net1 = NeuralNet(\n",
      "    layers=[\n",
      "        ('image', layers.InputLayer),\n",
      "#         ('image_conv1', layers.Conv2DLayer),\n",
      "        ('image_conv1', layers.dnn.Conv2DDNNLayer),\n",
      "        ('image_pool1', layers.MaxPool2DLayer),\n",
      "        ('image_dropout1', layers.DropoutLayer),\n",
      "#         ('image_conv2', layers.Conv2DLayer),\n",
      "        ('image_conv2', layers.dnn.Conv2DDNNLayer),\n",
      "        ('image_pool2', layers.MaxPool2DLayer),\n",
      "        ('image_dropout2', layers.DropoutLayer),\n",
      "\n",
      "        ('hidden3', layers.DenseLayer),\n",
      "        ('dropout3', layers.DropoutLayer),\n",
      "        ('output', layers.DenseLayer),\n",
      "    ],\n",
      "\n",
      "    # image\n",
      "    image_shape=(None, 4, 75, 75),\n",
      "    # conv2d + pool + dropout\n",
      "    image_conv1_filter_size=(13,13), image_conv1_num_filters=16,\n",
      "    image_pool1_pool_size=(2,2),\n",
      "    image_dropout1_p=0.1,\n",
      "    # conv2d + pool + dropout\n",
      "    image_conv2_filter_size=(13,13), image_conv2_num_filters=16,\n",
      "    image_pool2_pool_size=(2,2),\n",
      "    image_dropout2_p=0.2,\n",
      "\n",
      "    # dense layer 1\n",
      "    hidden3_num_units=256,\n",
      "    hidden3_nonlinearity=nonlinearities.rectify,\n",
      "    dropout3_p=0.5,\n",
      "\n",
      "    # dense layer 2\n",
      "    output_num_units=2,\n",
      "    output_nonlinearity=nonlinearities.softmax,\n",
      "\n",
      "\n",
      "\n",
      "    update=nesterov_momentum,\n",
      "    update_learning_rate=theano.shared(float32(0.03)),\n",
      "    update_momentum=theano.shared(float32(0.9)),\n",
      "\n",
      "\n",
      "    train_split=TrainSplit(eval_size=0.25),\n",
      "    max_epochs=300,\n",
      "    verbose=True,\n",
      "\n",
      "    on_epoch_finished=[\n",
      "        AdjustVariable('update_learning_rate', start=0.03, stop=0.0001),\n",
      "        AdjustVariable('update_momentum', start=0.9, stop=0.999),\n",
      "        EarlyStopping(patience=30),\n",
      "    ]\n",
      ")\n",
      "\n",
      "net1_fit = net1.fit(input_rgb,\n",
      "                     y_train)"
     ],
     "language": "python",
     "metadata": {},
     "outputs": [
      {
       "output_type": "stream",
       "stream": "stderr",
       "text": [
        "WARNING (theano.gof.cmodule): Removing key file /Users/d/.theano/compiledir_Darwin-13.4.0-x86_64-i386-64bit-i386-2.7.5-64/tmpfvE_5R/key.pkl because the corresponding module is gone from the file system.\n"
       ]
      },
      {
       "output_type": "stream",
       "stream": "stderr",
       "text": [
        "WARNING:theano.gof.cmodule:Removing key file /Users/d/.theano/compiledir_Darwin-13.4.0-x86_64-i386-64bit-i386-2.7.5-64/tmpfvE_5R/key.pkl because the corresponding module is gone from the file system.\n"
       ]
      },
      {
       "output_type": "stream",
       "stream": "stderr",
       "text": [
        "WARNING (theano.gof.cmodule): Removing key file /Users/d/.theano/compiledir_Darwin-13.4.0-x86_64-i386-64bit-i386-2.7.5-64/tmpwlpN7m/key.pkl because the corresponding module is gone from the file system.\n"
       ]
      },
      {
       "output_type": "stream",
       "stream": "stderr",
       "text": [
        "WARNING:theano.gof.cmodule:Removing key file /Users/d/.theano/compiledir_Darwin-13.4.0-x86_64-i386-64bit-i386-2.7.5-64/tmpwlpN7m/key.pkl because the corresponding module is gone from the file system.\n"
       ]
      },
      {
       "output_type": "stream",
       "stream": "stderr",
       "text": [
        "WARNING (theano.gof.cmodule): Removing key file /Users/d/.theano/compiledir_Darwin-13.4.0-x86_64-i386-64bit-i386-2.7.5-64/tmpK2mUvj/key.pkl because the corresponding module is gone from the file system.\n"
       ]
      },
      {
       "output_type": "stream",
       "stream": "stderr",
       "text": [
        "WARNING:theano.gof.cmodule:Removing key file /Users/d/.theano/compiledir_Darwin-13.4.0-x86_64-i386-64bit-i386-2.7.5-64/tmpK2mUvj/key.pkl because the corresponding module is gone from the file system.\n"
       ]
      },
      {
       "output_type": "stream",
       "stream": "stderr",
       "text": [
        "WARNING (theano.gof.cmodule): A module that was loaded by this ModuleCache can no longer be read from file /Users/d/.theano/compiledir_Darwin-13.4.0-x86_64-i386-64bit-i386-2.7.5-64/tmpJr_wLB/a580bccbf73b14529a3ef659e7dfff62.so... this could lead to problems.\n"
       ]
      },
      {
       "output_type": "stream",
       "stream": "stderr",
       "text": [
        "WARNING:theano.gof.cmodule:A module that was loaded by this ModuleCache can no longer be read from file /Users/d/.theano/compiledir_Darwin-13.4.0-x86_64-i386-64bit-i386-2.7.5-64/tmpJr_wLB/a580bccbf73b14529a3ef659e7dfff62.so... this could lead to problems.\n"
       ]
      },
      {
       "output_type": "stream",
       "stream": "stderr",
       "text": [
        "WARNING (theano.gof.cmodule): Removing key file /Users/d/.theano/compiledir_Darwin-13.4.0-x86_64-i386-64bit-i386-2.7.5-64/tmpJr_wLB/key.pkl because the corresponding module is gone from the file system.\n"
       ]
      },
      {
       "output_type": "stream",
       "stream": "stderr",
       "text": [
        "WARNING:theano.gof.cmodule:Removing key file /Users/d/.theano/compiledir_Darwin-13.4.0-x86_64-i386-64bit-i386-2.7.5-64/tmpJr_wLB/key.pkl because the corresponding module is gone from the file system.\n"
       ]
      },
      {
       "output_type": "stream",
       "stream": "stderr",
       "text": [
        "WARNING (theano.gof.cmodule): Removing key file /Users/d/.theano/compiledir_Darwin-13.4.0-x86_64-i386-64bit-i386-2.7.5-64/tmpO8LVHf/key.pkl because the corresponding module is gone from the file system.\n"
       ]
      },
      {
       "output_type": "stream",
       "stream": "stderr",
       "text": [
        "WARNING:theano.gof.cmodule:Removing key file /Users/d/.theano/compiledir_Darwin-13.4.0-x86_64-i386-64bit-i386-2.7.5-64/tmpO8LVHf/key.pkl because the corresponding module is gone from the file system.\n"
       ]
      },
      {
       "output_type": "stream",
       "stream": "stderr",
       "text": [
        "WARNING (theano.gof.cmodule): Removing key file /Users/d/.theano/compiledir_Darwin-13.4.0-x86_64-i386-64bit-i386-2.7.5-64/tmpvBZmOs/key.pkl because the corresponding module is gone from the file system.\n"
       ]
      },
      {
       "output_type": "stream",
       "stream": "stderr",
       "text": [
        "WARNING:theano.gof.cmodule:Removing key file /Users/d/.theano/compiledir_Darwin-13.4.0-x86_64-i386-64bit-i386-2.7.5-64/tmpvBZmOs/key.pkl because the corresponding module is gone from the file system.\n"
       ]
      },
      {
       "output_type": "stream",
       "stream": "stderr",
       "text": [
        "WARNING (theano.gof.cmodule): A module that was loaded by this ModuleCache can no longer be read from file /Users/d/.theano/compiledir_Darwin-13.4.0-x86_64-i386-64bit-i386-2.7.5-64/tmp_XfCgS/1f08b8e24ebc71512128db6673c780b9.so... this could lead to problems.\n"
       ]
      },
      {
       "output_type": "stream",
       "stream": "stderr",
       "text": [
        "WARNING:theano.gof.cmodule:A module that was loaded by this ModuleCache can no longer be read from file /Users/d/.theano/compiledir_Darwin-13.4.0-x86_64-i386-64bit-i386-2.7.5-64/tmp_XfCgS/1f08b8e24ebc71512128db6673c780b9.so... this could lead to problems.\n"
       ]
      },
      {
       "output_type": "stream",
       "stream": "stderr",
       "text": [
        "WARNING (theano.gof.cmodule): Removing key file /Users/d/.theano/compiledir_Darwin-13.4.0-x86_64-i386-64bit-i386-2.7.5-64/tmp_XfCgS/key.pkl because the corresponding module is gone from the file system.\n"
       ]
      },
      {
       "output_type": "stream",
       "stream": "stderr",
       "text": [
        "WARNING:theano.gof.cmodule:Removing key file /Users/d/.theano/compiledir_Darwin-13.4.0-x86_64-i386-64bit-i386-2.7.5-64/tmp_XfCgS/key.pkl because the corresponding module is gone from the file system.\n"
       ]
      },
      {
       "output_type": "stream",
       "stream": "stderr",
       "text": [
        "WARNING (theano.gof.cmodule): A module that was loaded by this ModuleCache can no longer be read from file /Users/d/.theano/compiledir_Darwin-13.4.0-x86_64-i386-64bit-i386-2.7.5-64/tmpGi1rEr/f1de5245a274fc645cfe106f7b8e469d.so... this could lead to problems.\n"
       ]
      },
      {
       "output_type": "stream",
       "stream": "stderr",
       "text": [
        "WARNING:theano.gof.cmodule:A module that was loaded by this ModuleCache can no longer be read from file /Users/d/.theano/compiledir_Darwin-13.4.0-x86_64-i386-64bit-i386-2.7.5-64/tmpGi1rEr/f1de5245a274fc645cfe106f7b8e469d.so... this could lead to problems.\n"
       ]
      },
      {
       "output_type": "stream",
       "stream": "stderr",
       "text": [
        "WARNING (theano.gof.cmodule): Removing key file /Users/d/.theano/compiledir_Darwin-13.4.0-x86_64-i386-64bit-i386-2.7.5-64/tmpGi1rEr/key.pkl because the corresponding module is gone from the file system.\n"
       ]
      },
      {
       "output_type": "stream",
       "stream": "stderr",
       "text": [
        "WARNING:theano.gof.cmodule:Removing key file /Users/d/.theano/compiledir_Darwin-13.4.0-x86_64-i386-64bit-i386-2.7.5-64/tmpGi1rEr/key.pkl because the corresponding module is gone from the file system.\n"
       ]
      },
      {
       "output_type": "stream",
       "stream": "stderr",
       "text": [
        "WARNING (theano.gof.cmodule): A module that was loaded by this ModuleCache can no longer be read from file /Users/d/.theano/compiledir_Darwin-13.4.0-x86_64-i386-64bit-i386-2.7.5-64/tmpiOKNnk/202335defcb44c61551a028499ac2803.so... this could lead to problems.\n"
       ]
      },
      {
       "output_type": "stream",
       "stream": "stderr",
       "text": [
        "WARNING:theano.gof.cmodule:A module that was loaded by this ModuleCache can no longer be read from file /Users/d/.theano/compiledir_Darwin-13.4.0-x86_64-i386-64bit-i386-2.7.5-64/tmpiOKNnk/202335defcb44c61551a028499ac2803.so... this could lead to problems.\n"
       ]
      },
      {
       "output_type": "stream",
       "stream": "stderr",
       "text": [
        "WARNING (theano.gof.cmodule): Removing key file /Users/d/.theano/compiledir_Darwin-13.4.0-x86_64-i386-64bit-i386-2.7.5-64/tmpiOKNnk/key.pkl because the corresponding module is gone from the file system.\n"
       ]
      },
      {
       "output_type": "stream",
       "stream": "stderr",
       "text": [
        "WARNING:theano.gof.cmodule:Removing key file /Users/d/.theano/compiledir_Darwin-13.4.0-x86_64-i386-64bit-i386-2.7.5-64/tmpiOKNnk/key.pkl because the corresponding module is gone from the file system.\n"
       ]
      },
      {
       "output_type": "stream",
       "stream": "stderr",
       "text": [
        "WARNING (theano.gof.cmodule): Removing key file /Users/d/.theano/compiledir_Darwin-13.4.0-x86_64-i386-64bit-i386-2.7.5-64/tmpg3tVYc/key.pkl because the corresponding module is gone from the file system.\n"
       ]
      },
      {
       "output_type": "stream",
       "stream": "stderr",
       "text": [
        "WARNING:theano.gof.cmodule:Removing key file /Users/d/.theano/compiledir_Darwin-13.4.0-x86_64-i386-64bit-i386-2.7.5-64/tmpg3tVYc/key.pkl because the corresponding module is gone from the file system.\n"
       ]
      },
      {
       "output_type": "stream",
       "stream": "stderr",
       "text": [
        "WARNING (theano.gof.cmodule): Removing key file /Users/d/.theano/compiledir_Darwin-13.4.0-x86_64-i386-64bit-i386-2.7.5-64/tmp93Duwa/key.pkl because the corresponding module is gone from the file system.\n"
       ]
      },
      {
       "output_type": "stream",
       "stream": "stderr",
       "text": [
        "WARNING:theano.gof.cmodule:Removing key file /Users/d/.theano/compiledir_Darwin-13.4.0-x86_64-i386-64bit-i386-2.7.5-64/tmp93Duwa/key.pkl because the corresponding module is gone from the file system.\n"
       ]
      },
      {
       "output_type": "stream",
       "stream": "stderr",
       "text": [
        "WARNING (theano.gof.cmodule): Removing key file /Users/d/.theano/compiledir_Darwin-13.4.0-x86_64-i386-64bit-i386-2.7.5-64/tmpmQZt9x/key.pkl because the corresponding module is gone from the file system.\n"
       ]
      },
      {
       "output_type": "stream",
       "stream": "stderr",
       "text": [
        "WARNING:theano.gof.cmodule:Removing key file /Users/d/.theano/compiledir_Darwin-13.4.0-x86_64-i386-64bit-i386-2.7.5-64/tmpmQZt9x/key.pkl because the corresponding module is gone from the file system.\n"
       ]
      },
      {
       "output_type": "stream",
       "stream": "stderr",
       "text": [
        "WARNING (theano.gof.cmodule): A module that was loaded by this ModuleCache can no longer be read from file /Users/d/.theano/compiledir_Darwin-13.4.0-x86_64-i386-64bit-i386-2.7.5-64/tmpb8P1o0/b03cd6fae2de9794e1d1779c5bc898fd.so... this could lead to problems.\n"
       ]
      },
      {
       "output_type": "stream",
       "stream": "stderr",
       "text": [
        "WARNING:theano.gof.cmodule:A module that was loaded by this ModuleCache can no longer be read from file /Users/d/.theano/compiledir_Darwin-13.4.0-x86_64-i386-64bit-i386-2.7.5-64/tmpb8P1o0/b03cd6fae2de9794e1d1779c5bc898fd.so... this could lead to problems.\n"
       ]
      },
      {
       "output_type": "stream",
       "stream": "stderr",
       "text": [
        "WARNING (theano.gof.cmodule): Removing key file /Users/d/.theano/compiledir_Darwin-13.4.0-x86_64-i386-64bit-i386-2.7.5-64/tmpb8P1o0/key.pkl because the corresponding module is gone from the file system.\n"
       ]
      },
      {
       "output_type": "stream",
       "stream": "stderr",
       "text": [
        "WARNING:theano.gof.cmodule:Removing key file /Users/d/.theano/compiledir_Darwin-13.4.0-x86_64-i386-64bit-i386-2.7.5-64/tmpb8P1o0/key.pkl because the corresponding module is gone from the file system.\n"
       ]
      },
      {
       "output_type": "stream",
       "stream": "stderr",
       "text": [
        "WARNING (theano.gof.cmodule): Removing key file /Users/d/.theano/compiledir_Darwin-13.4.0-x86_64-i386-64bit-i386-2.7.5-64/tmpaQXCXx/key.pkl because the corresponding module is gone from the file system.\n"
       ]
      },
      {
       "output_type": "stream",
       "stream": "stderr",
       "text": [
        "WARNING:theano.gof.cmodule:Removing key file /Users/d/.theano/compiledir_Darwin-13.4.0-x86_64-i386-64bit-i386-2.7.5-64/tmpaQXCXx/key.pkl because the corresponding module is gone from the file system.\n"
       ]
      },
      {
       "output_type": "stream",
       "stream": "stderr",
       "text": [
        "WARNING (theano.gof.cmodule): Removing key file /Users/d/.theano/compiledir_Darwin-13.4.0-x86_64-i386-64bit-i386-2.7.5-64/tmp2uhsil/key.pkl because the corresponding module is gone from the file system.\n"
       ]
      },
      {
       "output_type": "stream",
       "stream": "stderr",
       "text": [
        "WARNING:theano.gof.cmodule:Removing key file /Users/d/.theano/compiledir_Darwin-13.4.0-x86_64-i386-64bit-i386-2.7.5-64/tmp2uhsil/key.pkl because the corresponding module is gone from the file system.\n"
       ]
      },
      {
       "output_type": "stream",
       "stream": "stderr",
       "text": [
        "WARNING (theano.gof.cmodule): Removing key file /Users/d/.theano/compiledir_Darwin-13.4.0-x86_64-i386-64bit-i386-2.7.5-64/tmpRZvVKA/key.pkl because the corresponding module is gone from the file system.\n"
       ]
      },
      {
       "output_type": "stream",
       "stream": "stderr",
       "text": [
        "WARNING:theano.gof.cmodule:Removing key file /Users/d/.theano/compiledir_Darwin-13.4.0-x86_64-i386-64bit-i386-2.7.5-64/tmpRZvVKA/key.pkl because the corresponding module is gone from the file system.\n"
       ]
      },
      {
       "output_type": "stream",
       "stream": "stderr",
       "text": [
        "WARNING (theano.gof.cmodule): Removing key file /Users/d/.theano/compiledir_Darwin-13.4.0-x86_64-i386-64bit-i386-2.7.5-64/tmp3DIXhS/key.pkl because the corresponding module is gone from the file system.\n"
       ]
      },
      {
       "output_type": "stream",
       "stream": "stderr",
       "text": [
        "WARNING:theano.gof.cmodule:Removing key file /Users/d/.theano/compiledir_Darwin-13.4.0-x86_64-i386-64bit-i386-2.7.5-64/tmp3DIXhS/key.pkl because the corresponding module is gone from the file system.\n"
       ]
      },
      {
       "output_type": "stream",
       "stream": "stderr",
       "text": [
        "WARNING (theano.gof.cmodule): A module that was loaded by this ModuleCache can no longer be read from file /Users/d/.theano/compiledir_Darwin-13.4.0-x86_64-i386-64bit-i386-2.7.5-64/tmpke0SzX/cdb0b986639740d2acf156f042fe37d2.so... this could lead to problems.\n"
       ]
      },
      {
       "output_type": "stream",
       "stream": "stderr",
       "text": [
        "WARNING:theano.gof.cmodule:A module that was loaded by this ModuleCache can no longer be read from file /Users/d/.theano/compiledir_Darwin-13.4.0-x86_64-i386-64bit-i386-2.7.5-64/tmpke0SzX/cdb0b986639740d2acf156f042fe37d2.so... this could lead to problems.\n"
       ]
      },
      {
       "output_type": "stream",
       "stream": "stderr",
       "text": [
        "WARNING (theano.gof.cmodule): Removing key file /Users/d/.theano/compiledir_Darwin-13.4.0-x86_64-i386-64bit-i386-2.7.5-64/tmpke0SzX/key.pkl because the corresponding module is gone from the file system.\n"
       ]
      },
      {
       "output_type": "stream",
       "stream": "stderr",
       "text": [
        "WARNING:theano.gof.cmodule:Removing key file /Users/d/.theano/compiledir_Darwin-13.4.0-x86_64-i386-64bit-i386-2.7.5-64/tmpke0SzX/key.pkl because the corresponding module is gone from the file system.\n"
       ]
      },
      {
       "output_type": "stream",
       "stream": "stderr",
       "text": [
        "WARNING (theano.gof.cmodule): Removing key file /Users/d/.theano/compiledir_Darwin-13.4.0-x86_64-i386-64bit-i386-2.7.5-64/tmp1fMXFw/key.pkl because the corresponding module is gone from the file system.\n"
       ]
      },
      {
       "output_type": "stream",
       "stream": "stderr",
       "text": [
        "WARNING:theano.gof.cmodule:Removing key file /Users/d/.theano/compiledir_Darwin-13.4.0-x86_64-i386-64bit-i386-2.7.5-64/tmp1fMXFw/key.pkl because the corresponding module is gone from the file system.\n"
       ]
      },
      {
       "output_type": "stream",
       "stream": "stderr",
       "text": [
        "WARNING (theano.gof.cmodule): Removing key file /Users/d/.theano/compiledir_Darwin-13.4.0-x86_64-i386-64bit-i386-2.7.5-64/tmpbbXn0C/key.pkl because the corresponding module is gone from the file system.\n"
       ]
      },
      {
       "output_type": "stream",
       "stream": "stderr",
       "text": [
        "WARNING:theano.gof.cmodule:Removing key file /Users/d/.theano/compiledir_Darwin-13.4.0-x86_64-i386-64bit-i386-2.7.5-64/tmpbbXn0C/key.pkl because the corresponding module is gone from the file system.\n"
       ]
      },
      {
       "output_type": "stream",
       "stream": "stderr",
       "text": [
        "WARNING (theano.gof.cmodule): A module that was loaded by this ModuleCache can no longer be read from file /Users/d/.theano/compiledir_Darwin-13.4.0-x86_64-i386-64bit-i386-2.7.5-64/tmpXygba8/a16bc42439b8f6f8784645c1cd3c5d13.so... this could lead to problems.\n"
       ]
      },
      {
       "output_type": "stream",
       "stream": "stderr",
       "text": [
        "WARNING:theano.gof.cmodule:A module that was loaded by this ModuleCache can no longer be read from file /Users/d/.theano/compiledir_Darwin-13.4.0-x86_64-i386-64bit-i386-2.7.5-64/tmpXygba8/a16bc42439b8f6f8784645c1cd3c5d13.so... this could lead to problems.\n"
       ]
      },
      {
       "output_type": "stream",
       "stream": "stderr",
       "text": [
        "WARNING (theano.gof.cmodule): Removing key file /Users/d/.theano/compiledir_Darwin-13.4.0-x86_64-i386-64bit-i386-2.7.5-64/tmpXygba8/key.pkl because the corresponding module is gone from the file system.\n"
       ]
      },
      {
       "output_type": "stream",
       "stream": "stderr",
       "text": [
        "WARNING:theano.gof.cmodule:Removing key file /Users/d/.theano/compiledir_Darwin-13.4.0-x86_64-i386-64bit-i386-2.7.5-64/tmpXygba8/key.pkl because the corresponding module is gone from the file system.\n"
       ]
      },
      {
       "output_type": "stream",
       "stream": "stderr",
       "text": [
        "WARNING (theano.gof.cmodule): Removing key file /Users/d/.theano/compiledir_Darwin-13.4.0-x86_64-i386-64bit-i386-2.7.5-64/tmpDSZ7vZ/key.pkl because the corresponding module is gone from the file system.\n"
       ]
      },
      {
       "output_type": "stream",
       "stream": "stderr",
       "text": [
        "WARNING:theano.gof.cmodule:Removing key file /Users/d/.theano/compiledir_Darwin-13.4.0-x86_64-i386-64bit-i386-2.7.5-64/tmpDSZ7vZ/key.pkl because the corresponding module is gone from the file system.\n"
       ]
      },
      {
       "output_type": "stream",
       "stream": "stderr",
       "text": [
        "WARNING (theano.gof.cmodule): A module that was loaded by this ModuleCache can no longer be read from file /Users/d/.theano/compiledir_Darwin-13.4.0-x86_64-i386-64bit-i386-2.7.5-64/tmp0p_qic/df759d5ffdd8d77ea62872864812b8f7.so... this could lead to problems.\n"
       ]
      },
      {
       "output_type": "stream",
       "stream": "stderr",
       "text": [
        "WARNING:theano.gof.cmodule:A module that was loaded by this ModuleCache can no longer be read from file /Users/d/.theano/compiledir_Darwin-13.4.0-x86_64-i386-64bit-i386-2.7.5-64/tmp0p_qic/df759d5ffdd8d77ea62872864812b8f7.so... this could lead to problems.\n"
       ]
      },
      {
       "output_type": "stream",
       "stream": "stderr",
       "text": [
        "WARNING (theano.gof.cmodule): Removing key file /Users/d/.theano/compiledir_Darwin-13.4.0-x86_64-i386-64bit-i386-2.7.5-64/tmp0p_qic/key.pkl because the corresponding module is gone from the file system.\n"
       ]
      },
      {
       "output_type": "stream",
       "stream": "stderr",
       "text": [
        "WARNING:theano.gof.cmodule:Removing key file /Users/d/.theano/compiledir_Darwin-13.4.0-x86_64-i386-64bit-i386-2.7.5-64/tmp0p_qic/key.pkl because the corresponding module is gone from the file system.\n"
       ]
      },
      {
       "output_type": "stream",
       "stream": "stderr",
       "text": [
        "WARNING (theano.gof.cmodule): A module that was loaded by this ModuleCache can no longer be read from file /Users/d/.theano/compiledir_Darwin-13.4.0-x86_64-i386-64bit-i386-2.7.5-64/tmpH1rWK2/fc0a77fd0d7a0a0c610947f403047873.so... this could lead to problems.\n"
       ]
      },
      {
       "output_type": "stream",
       "stream": "stderr",
       "text": [
        "WARNING:theano.gof.cmodule:A module that was loaded by this ModuleCache can no longer be read from file /Users/d/.theano/compiledir_Darwin-13.4.0-x86_64-i386-64bit-i386-2.7.5-64/tmpH1rWK2/fc0a77fd0d7a0a0c610947f403047873.so... this could lead to problems.\n"
       ]
      },
      {
       "output_type": "stream",
       "stream": "stderr",
       "text": [
        "WARNING (theano.gof.cmodule): Removing key file /Users/d/.theano/compiledir_Darwin-13.4.0-x86_64-i386-64bit-i386-2.7.5-64/tmpH1rWK2/key.pkl because the corresponding module is gone from the file system.\n"
       ]
      },
      {
       "output_type": "stream",
       "stream": "stderr",
       "text": [
        "WARNING:theano.gof.cmodule:Removing key file /Users/d/.theano/compiledir_Darwin-13.4.0-x86_64-i386-64bit-i386-2.7.5-64/tmpH1rWK2/key.pkl because the corresponding module is gone from the file system.\n"
       ]
      },
      {
       "output_type": "stream",
       "stream": "stderr",
       "text": [
        "WARNING (theano.gof.cmodule): A module that was loaded by this ModuleCache can no longer be read from file /Users/d/.theano/compiledir_Darwin-13.4.0-x86_64-i386-64bit-i386-2.7.5-64/tmp_7waHa/5558d5d588540c868bea4e3d250b251f.so... this could lead to problems.\n"
       ]
      },
      {
       "output_type": "stream",
       "stream": "stderr",
       "text": [
        "WARNING:theano.gof.cmodule:A module that was loaded by this ModuleCache can no longer be read from file /Users/d/.theano/compiledir_Darwin-13.4.0-x86_64-i386-64bit-i386-2.7.5-64/tmp_7waHa/5558d5d588540c868bea4e3d250b251f.so... this could lead to problems.\n"
       ]
      },
      {
       "output_type": "stream",
       "stream": "stderr",
       "text": [
        "WARNING (theano.gof.cmodule): Removing key file /Users/d/.theano/compiledir_Darwin-13.4.0-x86_64-i386-64bit-i386-2.7.5-64/tmp_7waHa/key.pkl because the corresponding module is gone from the file system.\n"
       ]
      },
      {
       "output_type": "stream",
       "stream": "stderr",
       "text": [
        "WARNING:theano.gof.cmodule:Removing key file /Users/d/.theano/compiledir_Darwin-13.4.0-x86_64-i386-64bit-i386-2.7.5-64/tmp_7waHa/key.pkl because the corresponding module is gone from the file system.\n"
       ]
      },
      {
       "output_type": "stream",
       "stream": "stderr",
       "text": [
        "WARNING (theano.gof.cmodule): A module that was loaded by this ModuleCache can no longer be read from file /Users/d/.theano/compiledir_Darwin-13.4.0-x86_64-i386-64bit-i386-2.7.5-64/tmpsyZR2S/6a2cb7efcc659aa4683f1c787b80b297.so... this could lead to problems.\n"
       ]
      },
      {
       "output_type": "stream",
       "stream": "stderr",
       "text": [
        "WARNING:theano.gof.cmodule:A module that was loaded by this ModuleCache can no longer be read from file /Users/d/.theano/compiledir_Darwin-13.4.0-x86_64-i386-64bit-i386-2.7.5-64/tmpsyZR2S/6a2cb7efcc659aa4683f1c787b80b297.so... this could lead to problems.\n"
       ]
      },
      {
       "output_type": "stream",
       "stream": "stderr",
       "text": [
        "WARNING (theano.gof.cmodule): Removing key file /Users/d/.theano/compiledir_Darwin-13.4.0-x86_64-i386-64bit-i386-2.7.5-64/tmpsyZR2S/key.pkl because the corresponding module is gone from the file system.\n"
       ]
      },
      {
       "output_type": "stream",
       "stream": "stderr",
       "text": [
        "WARNING:theano.gof.cmodule:Removing key file /Users/d/.theano/compiledir_Darwin-13.4.0-x86_64-i386-64bit-i386-2.7.5-64/tmpsyZR2S/key.pkl because the corresponding module is gone from the file system.\n"
       ]
      },
      {
       "output_type": "stream",
       "stream": "stderr",
       "text": [
        "WARNING (theano.gof.cmodule): A module that was loaded by this ModuleCache can no longer be read from file /Users/d/.theano/compiledir_Darwin-13.4.0-x86_64-i386-64bit-i386-2.7.5-64/tmp_Pln_y/6174b19f8005a60d6a2faaae7ff1c9a7.so... this could lead to problems.\n"
       ]
      },
      {
       "output_type": "stream",
       "stream": "stderr",
       "text": [
        "WARNING:theano.gof.cmodule:A module that was loaded by this ModuleCache can no longer be read from file /Users/d/.theano/compiledir_Darwin-13.4.0-x86_64-i386-64bit-i386-2.7.5-64/tmp_Pln_y/6174b19f8005a60d6a2faaae7ff1c9a7.so... this could lead to problems.\n"
       ]
      },
      {
       "output_type": "stream",
       "stream": "stderr",
       "text": [
        "WARNING (theano.gof.cmodule): Removing key file /Users/d/.theano/compiledir_Darwin-13.4.0-x86_64-i386-64bit-i386-2.7.5-64/tmp_Pln_y/key.pkl because the corresponding module is gone from the file system.\n"
       ]
      },
      {
       "output_type": "stream",
       "stream": "stderr",
       "text": [
        "WARNING:theano.gof.cmodule:Removing key file /Users/d/.theano/compiledir_Darwin-13.4.0-x86_64-i386-64bit-i386-2.7.5-64/tmp_Pln_y/key.pkl because the corresponding module is gone from the file system.\n"
       ]
      },
      {
       "output_type": "stream",
       "stream": "stderr",
       "text": [
        "WARNING (theano.gof.cmodule): A module that was loaded by this ModuleCache can no longer be read from file /Users/d/.theano/compiledir_Darwin-13.4.0-x86_64-i386-64bit-i386-2.7.5-64/tmpm09NpC/97496c4d3cf9a06dc4082cc141f918d2.so... this could lead to problems.\n"
       ]
      },
      {
       "output_type": "stream",
       "stream": "stderr",
       "text": [
        "WARNING:theano.gof.cmodule:A module that was loaded by this ModuleCache can no longer be read from file /Users/d/.theano/compiledir_Darwin-13.4.0-x86_64-i386-64bit-i386-2.7.5-64/tmpm09NpC/97496c4d3cf9a06dc4082cc141f918d2.so... this could lead to problems.\n"
       ]
      },
      {
       "output_type": "stream",
       "stream": "stderr",
       "text": [
        "WARNING (theano.gof.cmodule): Removing key file /Users/d/.theano/compiledir_Darwin-13.4.0-x86_64-i386-64bit-i386-2.7.5-64/tmpm09NpC/key.pkl because the corresponding module is gone from the file system.\n"
       ]
      },
      {
       "output_type": "stream",
       "stream": "stderr",
       "text": [
        "WARNING:theano.gof.cmodule:Removing key file /Users/d/.theano/compiledir_Darwin-13.4.0-x86_64-i386-64bit-i386-2.7.5-64/tmpm09NpC/key.pkl because the corresponding module is gone from the file system.\n"
       ]
      },
      {
       "output_type": "stream",
       "stream": "stderr",
       "text": [
        "WARNING (theano.gof.cmodule): Removing key file /Users/d/.theano/compiledir_Darwin-13.4.0-x86_64-i386-64bit-i386-2.7.5-64/tmpAA9RRE/key.pkl because the corresponding module is gone from the file system.\n"
       ]
      },
      {
       "output_type": "stream",
       "stream": "stderr",
       "text": [
        "WARNING:theano.gof.cmodule:Removing key file /Users/d/.theano/compiledir_Darwin-13.4.0-x86_64-i386-64bit-i386-2.7.5-64/tmpAA9RRE/key.pkl because the corresponding module is gone from the file system.\n"
       ]
      },
      {
       "output_type": "stream",
       "stream": "stderr",
       "text": [
        "WARNING (theano.gof.cmodule): A module that was loaded by this ModuleCache can no longer be read from file /Users/d/.theano/compiledir_Darwin-13.4.0-x86_64-i386-64bit-i386-2.7.5-64/tmpWEhbwe/129bf836bf9451e1dd0e6e45c61fe24c.so... this could lead to problems.\n"
       ]
      },
      {
       "output_type": "stream",
       "stream": "stderr",
       "text": [
        "WARNING:theano.gof.cmodule:A module that was loaded by this ModuleCache can no longer be read from file /Users/d/.theano/compiledir_Darwin-13.4.0-x86_64-i386-64bit-i386-2.7.5-64/tmpWEhbwe/129bf836bf9451e1dd0e6e45c61fe24c.so... this could lead to problems.\n"
       ]
      },
      {
       "output_type": "stream",
       "stream": "stderr",
       "text": [
        "WARNING (theano.gof.cmodule): Removing key file /Users/d/.theano/compiledir_Darwin-13.4.0-x86_64-i386-64bit-i386-2.7.5-64/tmpWEhbwe/key.pkl because the corresponding module is gone from the file system.\n"
       ]
      },
      {
       "output_type": "stream",
       "stream": "stderr",
       "text": [
        "WARNING:theano.gof.cmodule:Removing key file /Users/d/.theano/compiledir_Darwin-13.4.0-x86_64-i386-64bit-i386-2.7.5-64/tmpWEhbwe/key.pkl because the corresponding module is gone from the file system.\n"
       ]
      },
      {
       "output_type": "stream",
       "stream": "stderr",
       "text": [
        "WARNING (theano.gof.cmodule): Removing key file /Users/d/.theano/compiledir_Darwin-13.4.0-x86_64-i386-64bit-i386-2.7.5-64/tmpop4qJH/key.pkl because the corresponding module is gone from the file system.\n"
       ]
      },
      {
       "output_type": "stream",
       "stream": "stderr",
       "text": [
        "WARNING:theano.gof.cmodule:Removing key file /Users/d/.theano/compiledir_Darwin-13.4.0-x86_64-i386-64bit-i386-2.7.5-64/tmpop4qJH/key.pkl because the corresponding module is gone from the file system.\n"
       ]
      },
      {
       "output_type": "stream",
       "stream": "stderr",
       "text": [
        "WARNING (theano.gof.cmodule): Removing key file /Users/d/.theano/compiledir_Darwin-13.4.0-x86_64-i386-64bit-i386-2.7.5-64/tmpakUyMg/key.pkl because the corresponding module is gone from the file system.\n"
       ]
      },
      {
       "output_type": "stream",
       "stream": "stderr",
       "text": [
        "WARNING:theano.gof.cmodule:Removing key file /Users/d/.theano/compiledir_Darwin-13.4.0-x86_64-i386-64bit-i386-2.7.5-64/tmpakUyMg/key.pkl because the corresponding module is gone from the file system.\n"
       ]
      },
      {
       "output_type": "stream",
       "stream": "stderr",
       "text": [
        "WARNING (theano.gof.cmodule): Removing key file /Users/d/.theano/compiledir_Darwin-13.4.0-x86_64-i386-64bit-i386-2.7.5-64/tmp3CYwDn/key.pkl because the corresponding module is gone from the file system.\n"
       ]
      },
      {
       "output_type": "stream",
       "stream": "stderr",
       "text": [
        "WARNING:theano.gof.cmodule:Removing key file /Users/d/.theano/compiledir_Darwin-13.4.0-x86_64-i386-64bit-i386-2.7.5-64/tmp3CYwDn/key.pkl because the corresponding module is gone from the file system.\n"
       ]
      },
      {
       "output_type": "stream",
       "stream": "stderr",
       "text": [
        "WARNING (theano.gof.cmodule): Removing key file /Users/d/.theano/compiledir_Darwin-13.4.0-x86_64-i386-64bit-i386-2.7.5-64/tmpy8RpOF/key.pkl because the corresponding module is gone from the file system.\n"
       ]
      },
      {
       "output_type": "stream",
       "stream": "stderr",
       "text": [
        "WARNING:theano.gof.cmodule:Removing key file /Users/d/.theano/compiledir_Darwin-13.4.0-x86_64-i386-64bit-i386-2.7.5-64/tmpy8RpOF/key.pkl because the corresponding module is gone from the file system.\n"
       ]
      },
      {
       "output_type": "stream",
       "stream": "stderr",
       "text": [
        "WARNING (theano.gof.cmodule): Removing key file /Users/d/.theano/compiledir_Darwin-13.4.0-x86_64-i386-64bit-i386-2.7.5-64/tmpHfnqix/key.pkl because the corresponding module is gone from the file system.\n"
       ]
      },
      {
       "output_type": "stream",
       "stream": "stderr",
       "text": [
        "WARNING:theano.gof.cmodule:Removing key file /Users/d/.theano/compiledir_Darwin-13.4.0-x86_64-i386-64bit-i386-2.7.5-64/tmpHfnqix/key.pkl because the corresponding module is gone from the file system.\n"
       ]
      },
      {
       "output_type": "stream",
       "stream": "stderr",
       "text": [
        "WARNING (theano.gof.cmodule): Removing key file /Users/d/.theano/compiledir_Darwin-13.4.0-x86_64-i386-64bit-i386-2.7.5-64/tmp2JnqmM/key.pkl because the corresponding module is gone from the file system.\n"
       ]
      },
      {
       "output_type": "stream",
       "stream": "stderr",
       "text": [
        "WARNING:theano.gof.cmodule:Removing key file /Users/d/.theano/compiledir_Darwin-13.4.0-x86_64-i386-64bit-i386-2.7.5-64/tmp2JnqmM/key.pkl because the corresponding module is gone from the file system.\n"
       ]
      },
      {
       "output_type": "stream",
       "stream": "stderr",
       "text": [
        "WARNING (theano.gof.cmodule): Removing key file /Users/d/.theano/compiledir_Darwin-13.4.0-x86_64-i386-64bit-i386-2.7.5-64/tmpMXuBUx/key.pkl because the corresponding module is gone from the file system.\n"
       ]
      },
      {
       "output_type": "stream",
       "stream": "stderr",
       "text": [
        "WARNING:theano.gof.cmodule:Removing key file /Users/d/.theano/compiledir_Darwin-13.4.0-x86_64-i386-64bit-i386-2.7.5-64/tmpMXuBUx/key.pkl because the corresponding module is gone from the file system.\n"
       ]
      },
      {
       "output_type": "stream",
       "stream": "stderr",
       "text": [
        "WARNING (theano.gof.cmodule): Removing key file /Users/d/.theano/compiledir_Darwin-13.4.0-x86_64-i386-64bit-i386-2.7.5-64/tmp_kqNit/key.pkl because the corresponding module is gone from the file system.\n"
       ]
      },
      {
       "output_type": "stream",
       "stream": "stderr",
       "text": [
        "WARNING:theano.gof.cmodule:Removing key file /Users/d/.theano/compiledir_Darwin-13.4.0-x86_64-i386-64bit-i386-2.7.5-64/tmp_kqNit/key.pkl because the corresponding module is gone from the file system.\n"
       ]
      },
      {
       "output_type": "stream",
       "stream": "stderr",
       "text": [
        "WARNING (theano.gof.cmodule): Removing key file /Users/d/.theano/compiledir_Darwin-13.4.0-x86_64-i386-64bit-i386-2.7.5-64/tmpgZe1a4/key.pkl because the corresponding module is gone from the file system.\n"
       ]
      },
      {
       "output_type": "stream",
       "stream": "stderr",
       "text": [
        "WARNING:theano.gof.cmodule:Removing key file /Users/d/.theano/compiledir_Darwin-13.4.0-x86_64-i386-64bit-i386-2.7.5-64/tmpgZe1a4/key.pkl because the corresponding module is gone from the file system.\n"
       ]
      },
      {
       "output_type": "stream",
       "stream": "stderr",
       "text": [
        "WARNING (theano.gof.cmodule): Removing key file /Users/d/.theano/compiledir_Darwin-13.4.0-x86_64-i386-64bit-i386-2.7.5-64/tmpbHJDM5/key.pkl because the corresponding module is gone from the file system.\n"
       ]
      },
      {
       "output_type": "stream",
       "stream": "stderr",
       "text": [
        "WARNING:theano.gof.cmodule:Removing key file /Users/d/.theano/compiledir_Darwin-13.4.0-x86_64-i386-64bit-i386-2.7.5-64/tmpbHJDM5/key.pkl because the corresponding module is gone from the file system.\n"
       ]
      },
      {
       "output_type": "stream",
       "stream": "stderr",
       "text": [
        "WARNING (theano.gof.cmodule): A module that was loaded by this ModuleCache can no longer be read from file /Users/d/.theano/compiledir_Darwin-13.4.0-x86_64-i386-64bit-i386-2.7.5-64/tmph3Mkk9/f7ca9a45a70a38477c38239644db2324.so... this could lead to problems.\n"
       ]
      },
      {
       "output_type": "stream",
       "stream": "stderr",
       "text": [
        "WARNING:theano.gof.cmodule:A module that was loaded by this ModuleCache can no longer be read from file /Users/d/.theano/compiledir_Darwin-13.4.0-x86_64-i386-64bit-i386-2.7.5-64/tmph3Mkk9/f7ca9a45a70a38477c38239644db2324.so... this could lead to problems.\n"
       ]
      },
      {
       "output_type": "stream",
       "stream": "stderr",
       "text": [
        "WARNING (theano.gof.cmodule): Removing key file /Users/d/.theano/compiledir_Darwin-13.4.0-x86_64-i386-64bit-i386-2.7.5-64/tmph3Mkk9/key.pkl because the corresponding module is gone from the file system.\n"
       ]
      },
      {
       "output_type": "stream",
       "stream": "stderr",
       "text": [
        "WARNING:theano.gof.cmodule:Removing key file /Users/d/.theano/compiledir_Darwin-13.4.0-x86_64-i386-64bit-i386-2.7.5-64/tmph3Mkk9/key.pkl because the corresponding module is gone from the file system.\n"
       ]
      },
      {
       "output_type": "stream",
       "stream": "stderr",
       "text": [
        "WARNING (theano.gof.cmodule): A module that was loaded by this ModuleCache can no longer be read from file /Users/d/.theano/compiledir_Darwin-13.4.0-x86_64-i386-64bit-i386-2.7.5-64/tmpphuVVg/923a9fa749a9cde5a747c4613023e7db.so... this could lead to problems.\n"
       ]
      },
      {
       "output_type": "stream",
       "stream": "stderr",
       "text": [
        "WARNING:theano.gof.cmodule:A module that was loaded by this ModuleCache can no longer be read from file /Users/d/.theano/compiledir_Darwin-13.4.0-x86_64-i386-64bit-i386-2.7.5-64/tmpphuVVg/923a9fa749a9cde5a747c4613023e7db.so... this could lead to problems.\n"
       ]
      },
      {
       "output_type": "stream",
       "stream": "stderr",
       "text": [
        "WARNING (theano.gof.cmodule): Removing key file /Users/d/.theano/compiledir_Darwin-13.4.0-x86_64-i386-64bit-i386-2.7.5-64/tmpphuVVg/key.pkl because the corresponding module is gone from the file system.\n"
       ]
      },
      {
       "output_type": "stream",
       "stream": "stderr",
       "text": [
        "WARNING:theano.gof.cmodule:Removing key file /Users/d/.theano/compiledir_Darwin-13.4.0-x86_64-i386-64bit-i386-2.7.5-64/tmpphuVVg/key.pkl because the corresponding module is gone from the file system.\n"
       ]
      },
      {
       "output_type": "stream",
       "stream": "stderr",
       "text": [
        "WARNING (theano.gof.cmodule): Removing key file /Users/d/.theano/compiledir_Darwin-13.4.0-x86_64-i386-64bit-i386-2.7.5-64/tmp652nus/key.pkl because the corresponding module is gone from the file system.\n"
       ]
      },
      {
       "output_type": "stream",
       "stream": "stderr",
       "text": [
        "WARNING:theano.gof.cmodule:Removing key file /Users/d/.theano/compiledir_Darwin-13.4.0-x86_64-i386-64bit-i386-2.7.5-64/tmp652nus/key.pkl because the corresponding module is gone from the file system.\n"
       ]
      },
      {
       "output_type": "stream",
       "stream": "stderr",
       "text": [
        "WARNING (theano.gof.cmodule): Removing key file /Users/d/.theano/compiledir_Darwin-13.4.0-x86_64-i386-64bit-i386-2.7.5-64/tmpuDN6SR/key.pkl because the corresponding module is gone from the file system.\n"
       ]
      },
      {
       "output_type": "stream",
       "stream": "stderr",
       "text": [
        "WARNING:theano.gof.cmodule:Removing key file /Users/d/.theano/compiledir_Darwin-13.4.0-x86_64-i386-64bit-i386-2.7.5-64/tmpuDN6SR/key.pkl because the corresponding module is gone from the file system.\n"
       ]
      },
      {
       "output_type": "stream",
       "stream": "stderr",
       "text": [
        "WARNING (theano.gof.cmodule): Removing key file /Users/d/.theano/compiledir_Darwin-13.4.0-x86_64-i386-64bit-i386-2.7.5-64/tmprmJk9V/key.pkl because the corresponding module is gone from the file system.\n"
       ]
      },
      {
       "output_type": "stream",
       "stream": "stderr",
       "text": [
        "WARNING:theano.gof.cmodule:Removing key file /Users/d/.theano/compiledir_Darwin-13.4.0-x86_64-i386-64bit-i386-2.7.5-64/tmprmJk9V/key.pkl because the corresponding module is gone from the file system.\n"
       ]
      },
      {
       "output_type": "stream",
       "stream": "stderr",
       "text": [
        "WARNING (theano.gof.cmodule): Removing key file /Users/d/.theano/compiledir_Darwin-13.4.0-x86_64-i386-64bit-i386-2.7.5-64/tmpx90eL4/key.pkl because the corresponding module is gone from the file system.\n"
       ]
      },
      {
       "output_type": "stream",
       "stream": "stderr",
       "text": [
        "WARNING:theano.gof.cmodule:Removing key file /Users/d/.theano/compiledir_Darwin-13.4.0-x86_64-i386-64bit-i386-2.7.5-64/tmpx90eL4/key.pkl because the corresponding module is gone from the file system.\n"
       ]
      },
      {
       "output_type": "stream",
       "stream": "stderr",
       "text": [
        "WARNING (theano.gof.cmodule): Removing key file /Users/d/.theano/compiledir_Darwin-13.4.0-x86_64-i386-64bit-i386-2.7.5-64/tmpIhRikp/key.pkl because the corresponding module is gone from the file system.\n"
       ]
      },
      {
       "output_type": "stream",
       "stream": "stderr",
       "text": [
        "WARNING:theano.gof.cmodule:Removing key file /Users/d/.theano/compiledir_Darwin-13.4.0-x86_64-i386-64bit-i386-2.7.5-64/tmpIhRikp/key.pkl because the corresponding module is gone from the file system.\n"
       ]
      },
      {
       "output_type": "stream",
       "stream": "stderr",
       "text": [
        "WARNING (theano.gof.cmodule): Removing key file /Users/d/.theano/compiledir_Darwin-13.4.0-x86_64-i386-64bit-i386-2.7.5-64/tmpqJrdg9/key.pkl because the corresponding module is gone from the file system.\n"
       ]
      },
      {
       "output_type": "stream",
       "stream": "stderr",
       "text": [
        "WARNING:theano.gof.cmodule:Removing key file /Users/d/.theano/compiledir_Darwin-13.4.0-x86_64-i386-64bit-i386-2.7.5-64/tmpqJrdg9/key.pkl because the corresponding module is gone from the file system.\n"
       ]
      },
      {
       "output_type": "stream",
       "stream": "stderr",
       "text": [
        "WARNING (theano.gof.cmodule): Removing key file /Users/d/.theano/compiledir_Darwin-13.4.0-x86_64-i386-64bit-i386-2.7.5-64/tmpJJLSM0/key.pkl because the corresponding module is gone from the file system.\n"
       ]
      },
      {
       "output_type": "stream",
       "stream": "stderr",
       "text": [
        "WARNING:theano.gof.cmodule:Removing key file /Users/d/.theano/compiledir_Darwin-13.4.0-x86_64-i386-64bit-i386-2.7.5-64/tmpJJLSM0/key.pkl because the corresponding module is gone from the file system.\n"
       ]
      },
      {
       "output_type": "stream",
       "stream": "stderr",
       "text": [
        "WARNING (theano.gof.cmodule): Removing key file /Users/d/.theano/compiledir_Darwin-13.4.0-x86_64-i386-64bit-i386-2.7.5-64/tmpAHC6pY/key.pkl because the corresponding module is gone from the file system.\n"
       ]
      },
      {
       "output_type": "stream",
       "stream": "stderr",
       "text": [
        "WARNING:theano.gof.cmodule:Removing key file /Users/d/.theano/compiledir_Darwin-13.4.0-x86_64-i386-64bit-i386-2.7.5-64/tmpAHC6pY/key.pkl because the corresponding module is gone from the file system.\n"
       ]
      },
      {
       "output_type": "stream",
       "stream": "stderr",
       "text": [
        "WARNING (theano.gof.cmodule): Removing key file /Users/d/.theano/compiledir_Darwin-13.4.0-x86_64-i386-64bit-i386-2.7.5-64/tmpNhJ8am/key.pkl because the corresponding module is gone from the file system.\n"
       ]
      },
      {
       "output_type": "stream",
       "stream": "stderr",
       "text": [
        "WARNING:theano.gof.cmodule:Removing key file /Users/d/.theano/compiledir_Darwin-13.4.0-x86_64-i386-64bit-i386-2.7.5-64/tmpNhJ8am/key.pkl because the corresponding module is gone from the file system.\n"
       ]
      },
      {
       "output_type": "stream",
       "stream": "stderr",
       "text": [
        "WARNING (theano.gof.cmodule): A module that was loaded by this ModuleCache can no longer be read from file /Users/d/.theano/compiledir_Darwin-13.4.0-x86_64-i386-64bit-i386-2.7.5-64/tmpjW5NAD/8dbb9aa346da1b094a0d4f32ac022d07.so... this could lead to problems.\n"
       ]
      },
      {
       "output_type": "stream",
       "stream": "stderr",
       "text": [
        "WARNING:theano.gof.cmodule:A module that was loaded by this ModuleCache can no longer be read from file /Users/d/.theano/compiledir_Darwin-13.4.0-x86_64-i386-64bit-i386-2.7.5-64/tmpjW5NAD/8dbb9aa346da1b094a0d4f32ac022d07.so... this could lead to problems.\n"
       ]
      },
      {
       "output_type": "stream",
       "stream": "stderr",
       "text": [
        "WARNING (theano.gof.cmodule): Removing key file /Users/d/.theano/compiledir_Darwin-13.4.0-x86_64-i386-64bit-i386-2.7.5-64/tmpjW5NAD/key.pkl because the corresponding module is gone from the file system.\n"
       ]
      },
      {
       "output_type": "stream",
       "stream": "stderr",
       "text": [
        "WARNING:theano.gof.cmodule:Removing key file /Users/d/.theano/compiledir_Darwin-13.4.0-x86_64-i386-64bit-i386-2.7.5-64/tmpjW5NAD/key.pkl because the corresponding module is gone from the file system.\n"
       ]
      },
      {
       "output_type": "stream",
       "stream": "stderr",
       "text": [
        "WARNING (theano.gof.cmodule): A module that was loaded by this ModuleCache can no longer be read from file /Users/d/.theano/compiledir_Darwin-13.4.0-x86_64-i386-64bit-i386-2.7.5-64/tmpdNNdzR/afbaa7b36dd6451ec278a6e6338d23a7.so... this could lead to problems.\n"
       ]
      },
      {
       "output_type": "stream",
       "stream": "stderr",
       "text": [
        "WARNING:theano.gof.cmodule:A module that was loaded by this ModuleCache can no longer be read from file /Users/d/.theano/compiledir_Darwin-13.4.0-x86_64-i386-64bit-i386-2.7.5-64/tmpdNNdzR/afbaa7b36dd6451ec278a6e6338d23a7.so... this could lead to problems.\n"
       ]
      },
      {
       "output_type": "stream",
       "stream": "stderr",
       "text": [
        "WARNING (theano.gof.cmodule): Removing key file /Users/d/.theano/compiledir_Darwin-13.4.0-x86_64-i386-64bit-i386-2.7.5-64/tmpdNNdzR/key.pkl because the corresponding module is gone from the file system.\n"
       ]
      },
      {
       "output_type": "stream",
       "stream": "stderr",
       "text": [
        "WARNING:theano.gof.cmodule:Removing key file /Users/d/.theano/compiledir_Darwin-13.4.0-x86_64-i386-64bit-i386-2.7.5-64/tmpdNNdzR/key.pkl because the corresponding module is gone from the file system.\n"
       ]
      },
      {
       "output_type": "stream",
       "stream": "stderr",
       "text": [
        "WARNING (theano.gof.cmodule): Removing key file /Users/d/.theano/compiledir_Darwin-13.4.0-x86_64-i386-64bit-i386-2.7.5-64/tmpHVpsO6/key.pkl because the corresponding module is gone from the file system.\n"
       ]
      },
      {
       "output_type": "stream",
       "stream": "stderr",
       "text": [
        "WARNING:theano.gof.cmodule:Removing key file /Users/d/.theano/compiledir_Darwin-13.4.0-x86_64-i386-64bit-i386-2.7.5-64/tmpHVpsO6/key.pkl because the corresponding module is gone from the file system.\n"
       ]
      },
      {
       "output_type": "stream",
       "stream": "stderr",
       "text": [
        "WARNING (theano.gof.cmodule): Removing key file /Users/d/.theano/compiledir_Darwin-13.4.0-x86_64-i386-64bit-i386-2.7.5-64/tmplUI5x3/key.pkl because the corresponding module is gone from the file system.\n"
       ]
      },
      {
       "output_type": "stream",
       "stream": "stderr",
       "text": [
        "WARNING:theano.gof.cmodule:Removing key file /Users/d/.theano/compiledir_Darwin-13.4.0-x86_64-i386-64bit-i386-2.7.5-64/tmplUI5x3/key.pkl because the corresponding module is gone from the file system.\n"
       ]
      },
      {
       "output_type": "stream",
       "stream": "stderr",
       "text": [
        "WARNING (theano.gof.cmodule): A module that was loaded by this ModuleCache can no longer be read from file /Users/d/.theano/compiledir_Darwin-13.4.0-x86_64-i386-64bit-i386-2.7.5-64/tmplllIh9/1e353aa940d8cc9918d5ac0fa83bd238.so... this could lead to problems.\n"
       ]
      },
      {
       "output_type": "stream",
       "stream": "stderr",
       "text": [
        "WARNING:theano.gof.cmodule:A module that was loaded by this ModuleCache can no longer be read from file /Users/d/.theano/compiledir_Darwin-13.4.0-x86_64-i386-64bit-i386-2.7.5-64/tmplllIh9/1e353aa940d8cc9918d5ac0fa83bd238.so... this could lead to problems.\n"
       ]
      },
      {
       "output_type": "stream",
       "stream": "stderr",
       "text": [
        "WARNING (theano.gof.cmodule): Removing key file /Users/d/.theano/compiledir_Darwin-13.4.0-x86_64-i386-64bit-i386-2.7.5-64/tmplllIh9/key.pkl because the corresponding module is gone from the file system.\n"
       ]
      },
      {
       "output_type": "stream",
       "stream": "stderr",
       "text": [
        "WARNING:theano.gof.cmodule:Removing key file /Users/d/.theano/compiledir_Darwin-13.4.0-x86_64-i386-64bit-i386-2.7.5-64/tmplllIh9/key.pkl because the corresponding module is gone from the file system.\n"
       ]
      },
      {
       "output_type": "stream",
       "stream": "stderr",
       "text": [
        "WARNING (theano.gof.cmodule): Removing key file /Users/d/.theano/compiledir_Darwin-13.4.0-x86_64-i386-64bit-i386-2.7.5-64/tmpZjFrGh/key.pkl because the corresponding module is gone from the file system.\n"
       ]
      },
      {
       "output_type": "stream",
       "stream": "stderr",
       "text": [
        "WARNING:theano.gof.cmodule:Removing key file /Users/d/.theano/compiledir_Darwin-13.4.0-x86_64-i386-64bit-i386-2.7.5-64/tmpZjFrGh/key.pkl because the corresponding module is gone from the file system.\n"
       ]
      },
      {
       "output_type": "stream",
       "stream": "stderr",
       "text": [
        "WARNING (theano.gof.cmodule): A module that was loaded by this ModuleCache can no longer be read from file /Users/d/.theano/compiledir_Darwin-13.4.0-x86_64-i386-64bit-i386-2.7.5-64/tmp_hUAFo/4ce8583806d303b0cd0c07b70c9900ec.so... this could lead to problems.\n"
       ]
      },
      {
       "output_type": "stream",
       "stream": "stderr",
       "text": [
        "WARNING:theano.gof.cmodule:A module that was loaded by this ModuleCache can no longer be read from file /Users/d/.theano/compiledir_Darwin-13.4.0-x86_64-i386-64bit-i386-2.7.5-64/tmp_hUAFo/4ce8583806d303b0cd0c07b70c9900ec.so... this could lead to problems.\n"
       ]
      },
      {
       "output_type": "stream",
       "stream": "stderr",
       "text": [
        "WARNING (theano.gof.cmodule): Removing key file /Users/d/.theano/compiledir_Darwin-13.4.0-x86_64-i386-64bit-i386-2.7.5-64/tmp_hUAFo/key.pkl because the corresponding module is gone from the file system.\n"
       ]
      },
      {
       "output_type": "stream",
       "stream": "stderr",
       "text": [
        "WARNING:theano.gof.cmodule:Removing key file /Users/d/.theano/compiledir_Darwin-13.4.0-x86_64-i386-64bit-i386-2.7.5-64/tmp_hUAFo/key.pkl because the corresponding module is gone from the file system.\n"
       ]
      },
      {
       "output_type": "stream",
       "stream": "stderr",
       "text": [
        "WARNING (theano.gof.cmodule): Removing key file /Users/d/.theano/compiledir_Darwin-13.4.0-x86_64-i386-64bit-i386-2.7.5-64/tmpP_DCyY/key.pkl because the corresponding module is gone from the file system.\n"
       ]
      },
      {
       "output_type": "stream",
       "stream": "stderr",
       "text": [
        "WARNING:theano.gof.cmodule:Removing key file /Users/d/.theano/compiledir_Darwin-13.4.0-x86_64-i386-64bit-i386-2.7.5-64/tmpP_DCyY/key.pkl because the corresponding module is gone from the file system.\n"
       ]
      },
      {
       "output_type": "stream",
       "stream": "stderr",
       "text": [
        "WARNING (theano.gof.cmodule): A module that was loaded by this ModuleCache can no longer be read from file /Users/d/.theano/compiledir_Darwin-13.4.0-x86_64-i386-64bit-i386-2.7.5-64/tmp79G3yl/b1fa843c2a3dd547db645e57fb4853e7.so... this could lead to problems.\n"
       ]
      },
      {
       "output_type": "stream",
       "stream": "stderr",
       "text": [
        "WARNING:theano.gof.cmodule:A module that was loaded by this ModuleCache can no longer be read from file /Users/d/.theano/compiledir_Darwin-13.4.0-x86_64-i386-64bit-i386-2.7.5-64/tmp79G3yl/b1fa843c2a3dd547db645e57fb4853e7.so... this could lead to problems.\n"
       ]
      },
      {
       "output_type": "stream",
       "stream": "stderr",
       "text": [
        "WARNING (theano.gof.cmodule): Removing key file /Users/d/.theano/compiledir_Darwin-13.4.0-x86_64-i386-64bit-i386-2.7.5-64/tmp79G3yl/key.pkl because the corresponding module is gone from the file system.\n"
       ]
      },
      {
       "output_type": "stream",
       "stream": "stderr",
       "text": [
        "WARNING:theano.gof.cmodule:Removing key file /Users/d/.theano/compiledir_Darwin-13.4.0-x86_64-i386-64bit-i386-2.7.5-64/tmp79G3yl/key.pkl because the corresponding module is gone from the file system.\n"
       ]
      },
      {
       "output_type": "stream",
       "stream": "stderr",
       "text": [
        "WARNING (theano.gof.cmodule): Removing key file /Users/d/.theano/compiledir_Darwin-13.4.0-x86_64-i386-64bit-i386-2.7.5-64/tmprbpvXA/key.pkl because the corresponding module is gone from the file system.\n"
       ]
      },
      {
       "output_type": "stream",
       "stream": "stderr",
       "text": [
        "WARNING:theano.gof.cmodule:Removing key file /Users/d/.theano/compiledir_Darwin-13.4.0-x86_64-i386-64bit-i386-2.7.5-64/tmprbpvXA/key.pkl because the corresponding module is gone from the file system.\n"
       ]
      },
      {
       "output_type": "stream",
       "stream": "stderr",
       "text": [
        "WARNING (theano.gof.cmodule): Removing key file /Users/d/.theano/compiledir_Darwin-13.4.0-x86_64-i386-64bit-i386-2.7.5-64/tmpqKBspl/key.pkl because the corresponding module is gone from the file system.\n"
       ]
      },
      {
       "output_type": "stream",
       "stream": "stderr",
       "text": [
        "WARNING:theano.gof.cmodule:Removing key file /Users/d/.theano/compiledir_Darwin-13.4.0-x86_64-i386-64bit-i386-2.7.5-64/tmpqKBspl/key.pkl because the corresponding module is gone from the file system.\n"
       ]
      },
      {
       "output_type": "stream",
       "stream": "stderr",
       "text": [
        "WARNING (theano.gof.cmodule): A module that was loaded by this ModuleCache can no longer be read from file /Users/d/.theano/compiledir_Darwin-13.4.0-x86_64-i386-64bit-i386-2.7.5-64/tmp5ItPuL/8e7b50a8223127f83423bdce68ed1923.so... this could lead to problems.\n"
       ]
      },
      {
       "output_type": "stream",
       "stream": "stderr",
       "text": [
        "WARNING:theano.gof.cmodule:A module that was loaded by this ModuleCache can no longer be read from file /Users/d/.theano/compiledir_Darwin-13.4.0-x86_64-i386-64bit-i386-2.7.5-64/tmp5ItPuL/8e7b50a8223127f83423bdce68ed1923.so... this could lead to problems.\n"
       ]
      },
      {
       "output_type": "stream",
       "stream": "stderr",
       "text": [
        "WARNING (theano.gof.cmodule): Removing key file /Users/d/.theano/compiledir_Darwin-13.4.0-x86_64-i386-64bit-i386-2.7.5-64/tmp5ItPuL/key.pkl because the corresponding module is gone from the file system.\n"
       ]
      },
      {
       "output_type": "stream",
       "stream": "stderr",
       "text": [
        "WARNING:theano.gof.cmodule:Removing key file /Users/d/.theano/compiledir_Darwin-13.4.0-x86_64-i386-64bit-i386-2.7.5-64/tmp5ItPuL/key.pkl because the corresponding module is gone from the file system.\n"
       ]
      },
      {
       "output_type": "stream",
       "stream": "stderr",
       "text": [
        "WARNING (theano.gof.cmodule): Removing key file /Users/d/.theano/compiledir_Darwin-13.4.0-x86_64-i386-64bit-i386-2.7.5-64/tmpltJmWQ/key.pkl because the corresponding module is gone from the file system.\n"
       ]
      },
      {
       "output_type": "stream",
       "stream": "stderr",
       "text": [
        "WARNING:theano.gof.cmodule:Removing key file /Users/d/.theano/compiledir_Darwin-13.4.0-x86_64-i386-64bit-i386-2.7.5-64/tmpltJmWQ/key.pkl because the corresponding module is gone from the file system.\n"
       ]
      },
      {
       "output_type": "stream",
       "stream": "stderr",
       "text": [
        "WARNING (theano.gof.cmodule): A module that was loaded by this ModuleCache can no longer be read from file /Users/d/.theano/compiledir_Darwin-13.4.0-x86_64-i386-64bit-i386-2.7.5-64/tmprCa5rr/31d32c90a0a8c9947520af7b0739ac02.so... this could lead to problems.\n"
       ]
      },
      {
       "output_type": "stream",
       "stream": "stderr",
       "text": [
        "WARNING:theano.gof.cmodule:A module that was loaded by this ModuleCache can no longer be read from file /Users/d/.theano/compiledir_Darwin-13.4.0-x86_64-i386-64bit-i386-2.7.5-64/tmprCa5rr/31d32c90a0a8c9947520af7b0739ac02.so... this could lead to problems.\n"
       ]
      },
      {
       "output_type": "stream",
       "stream": "stderr",
       "text": [
        "WARNING (theano.gof.cmodule): Removing key file /Users/d/.theano/compiledir_Darwin-13.4.0-x86_64-i386-64bit-i386-2.7.5-64/tmprCa5rr/key.pkl because the corresponding module is gone from the file system.\n"
       ]
      },
      {
       "output_type": "stream",
       "stream": "stderr",
       "text": [
        "WARNING:theano.gof.cmodule:Removing key file /Users/d/.theano/compiledir_Darwin-13.4.0-x86_64-i386-64bit-i386-2.7.5-64/tmprCa5rr/key.pkl because the corresponding module is gone from the file system.\n"
       ]
      },
      {
       "output_type": "stream",
       "stream": "stderr",
       "text": [
        "WARNING (theano.gof.cmodule): Removing key file /Users/d/.theano/compiledir_Darwin-13.4.0-x86_64-i386-64bit-i386-2.7.5-64/tmpVhUiZ2/key.pkl because the corresponding module is gone from the file system.\n"
       ]
      },
      {
       "output_type": "stream",
       "stream": "stderr",
       "text": [
        "WARNING:theano.gof.cmodule:Removing key file /Users/d/.theano/compiledir_Darwin-13.4.0-x86_64-i386-64bit-i386-2.7.5-64/tmpVhUiZ2/key.pkl because the corresponding module is gone from the file system.\n"
       ]
      },
      {
       "output_type": "stream",
       "stream": "stderr",
       "text": [
        "WARNING (theano.gof.cmodule): A module that was loaded by this ModuleCache can no longer be read from file /Users/d/.theano/compiledir_Darwin-13.4.0-x86_64-i386-64bit-i386-2.7.5-64/tmpGNlu6m/265abc51f7c376c224983485238ff1a5.so... this could lead to problems.\n"
       ]
      },
      {
       "output_type": "stream",
       "stream": "stderr",
       "text": [
        "WARNING:theano.gof.cmodule:A module that was loaded by this ModuleCache can no longer be read from file /Users/d/.theano/compiledir_Darwin-13.4.0-x86_64-i386-64bit-i386-2.7.5-64/tmpGNlu6m/265abc51f7c376c224983485238ff1a5.so... this could lead to problems.\n"
       ]
      },
      {
       "output_type": "stream",
       "stream": "stderr",
       "text": [
        "WARNING (theano.gof.cmodule): Removing key file /Users/d/.theano/compiledir_Darwin-13.4.0-x86_64-i386-64bit-i386-2.7.5-64/tmpVHU3Gk/key.pkl because the corresponding module is gone from the file system.\n"
       ]
      },
      {
       "output_type": "stream",
       "stream": "stderr",
       "text": [
        "WARNING:theano.gof.cmodule:Removing key file /Users/d/.theano/compiledir_Darwin-13.4.0-x86_64-i386-64bit-i386-2.7.5-64/tmpVHU3Gk/key.pkl because the corresponding module is gone from the file system.\n"
       ]
      },
      {
       "output_type": "stream",
       "stream": "stderr",
       "text": [
        "WARNING (theano.gof.cmodule): Removing key file /Users/d/.theano/compiledir_Darwin-13.4.0-x86_64-i386-64bit-i386-2.7.5-64/tmpl_Lm6A/key.pkl because the corresponding module is gone from the file system.\n"
       ]
      },
      {
       "output_type": "stream",
       "stream": "stderr",
       "text": [
        "WARNING:theano.gof.cmodule:Removing key file /Users/d/.theano/compiledir_Darwin-13.4.0-x86_64-i386-64bit-i386-2.7.5-64/tmpl_Lm6A/key.pkl because the corresponding module is gone from the file system.\n"
       ]
      },
      {
       "output_type": "stream",
       "stream": "stderr",
       "text": [
        "WARNING (theano.gof.cmodule): Removing key file /Users/d/.theano/compiledir_Darwin-13.4.0-x86_64-i386-64bit-i386-2.7.5-64/tmp8KWyf6/key.pkl because the corresponding module is gone from the file system.\n"
       ]
      },
      {
       "output_type": "stream",
       "stream": "stderr",
       "text": [
        "WARNING:theano.gof.cmodule:Removing key file /Users/d/.theano/compiledir_Darwin-13.4.0-x86_64-i386-64bit-i386-2.7.5-64/tmp8KWyf6/key.pkl because the corresponding module is gone from the file system.\n"
       ]
      },
      {
       "output_type": "stream",
       "stream": "stderr",
       "text": [
        "WARNING (theano.gof.cmodule): Removing key file /Users/d/.theano/compiledir_Darwin-13.4.0-x86_64-i386-64bit-i386-2.7.5-64/tmpxJqoAU/key.pkl because the corresponding module is gone from the file system.\n"
       ]
      },
      {
       "output_type": "stream",
       "stream": "stderr",
       "text": [
        "WARNING:theano.gof.cmodule:Removing key file /Users/d/.theano/compiledir_Darwin-13.4.0-x86_64-i386-64bit-i386-2.7.5-64/tmpxJqoAU/key.pkl because the corresponding module is gone from the file system.\n"
       ]
      },
      {
       "output_type": "stream",
       "stream": "stderr",
       "text": [
        "WARNING (theano.gof.cmodule): Removing key file /Users/d/.theano/compiledir_Darwin-13.4.0-x86_64-i386-64bit-i386-2.7.5-64/tmpLEKGsm/key.pkl because the corresponding module is gone from the file system.\n"
       ]
      },
      {
       "output_type": "stream",
       "stream": "stderr",
       "text": [
        "WARNING:theano.gof.cmodule:Removing key file /Users/d/.theano/compiledir_Darwin-13.4.0-x86_64-i386-64bit-i386-2.7.5-64/tmpLEKGsm/key.pkl because the corresponding module is gone from the file system.\n"
       ]
      },
      {
       "output_type": "stream",
       "stream": "stderr",
       "text": [
        "WARNING (theano.gof.cmodule): Removing key file /Users/d/.theano/compiledir_Darwin-13.4.0-x86_64-i386-64bit-i386-2.7.5-64/tmp4BqhZr/key.pkl because the corresponding module is gone from the file system.\n"
       ]
      },
      {
       "output_type": "stream",
       "stream": "stderr",
       "text": [
        "WARNING:theano.gof.cmodule:Removing key file /Users/d/.theano/compiledir_Darwin-13.4.0-x86_64-i386-64bit-i386-2.7.5-64/tmp4BqhZr/key.pkl because the corresponding module is gone from the file system.\n"
       ]
      },
      {
       "output_type": "stream",
       "stream": "stderr",
       "text": [
        "WARNING (theano.gof.cmodule): Removing key file /Users/d/.theano/compiledir_Darwin-13.4.0-x86_64-i386-64bit-i386-2.7.5-64/tmpNPCoKZ/key.pkl because the corresponding module is gone from the file system.\n"
       ]
      },
      {
       "output_type": "stream",
       "stream": "stderr",
       "text": [
        "WARNING:theano.gof.cmodule:Removing key file /Users/d/.theano/compiledir_Darwin-13.4.0-x86_64-i386-64bit-i386-2.7.5-64/tmpNPCoKZ/key.pkl because the corresponding module is gone from the file system.\n"
       ]
      },
      {
       "output_type": "stream",
       "stream": "stderr",
       "text": [
        "WARNING (theano.gof.cmodule): Removing key file /Users/d/.theano/compiledir_Darwin-13.4.0-x86_64-i386-64bit-i386-2.7.5-64/tmpL_Apn9/key.pkl because the corresponding module is gone from the file system.\n"
       ]
      },
      {
       "output_type": "stream",
       "stream": "stderr",
       "text": [
        "WARNING:theano.gof.cmodule:Removing key file /Users/d/.theano/compiledir_Darwin-13.4.0-x86_64-i386-64bit-i386-2.7.5-64/tmpL_Apn9/key.pkl because the corresponding module is gone from the file system.\n"
       ]
      },
      {
       "output_type": "stream",
       "stream": "stderr",
       "text": [
        "WARNING (theano.gof.cmodule): Removing key file /Users/d/.theano/compiledir_Darwin-13.4.0-x86_64-i386-64bit-i386-2.7.5-64/tmpuzXXuP/key.pkl because the corresponding module is gone from the file system.\n"
       ]
      },
      {
       "output_type": "stream",
       "stream": "stderr",
       "text": [
        "WARNING:theano.gof.cmodule:Removing key file /Users/d/.theano/compiledir_Darwin-13.4.0-x86_64-i386-64bit-i386-2.7.5-64/tmpuzXXuP/key.pkl because the corresponding module is gone from the file system.\n"
       ]
      },
      {
       "output_type": "stream",
       "stream": "stderr",
       "text": [
        "WARNING (theano.gof.cmodule): Removing key file /Users/d/.theano/compiledir_Darwin-13.4.0-x86_64-i386-64bit-i386-2.7.5-64/tmpACJtIN/key.pkl because the corresponding module is gone from the file system.\n"
       ]
      },
      {
       "output_type": "stream",
       "stream": "stderr",
       "text": [
        "WARNING:theano.gof.cmodule:Removing key file /Users/d/.theano/compiledir_Darwin-13.4.0-x86_64-i386-64bit-i386-2.7.5-64/tmpACJtIN/key.pkl because the corresponding module is gone from the file system.\n"
       ]
      },
      {
       "output_type": "stream",
       "stream": "stderr",
       "text": [
        "WARNING (theano.gof.cmodule): Removing key file /Users/d/.theano/compiledir_Darwin-13.4.0-x86_64-i386-64bit-i386-2.7.5-64/tmpoyulUv/key.pkl because the corresponding module is gone from the file system.\n"
       ]
      },
      {
       "output_type": "stream",
       "stream": "stderr",
       "text": [
        "WARNING:theano.gof.cmodule:Removing key file /Users/d/.theano/compiledir_Darwin-13.4.0-x86_64-i386-64bit-i386-2.7.5-64/tmpoyulUv/key.pkl because the corresponding module is gone from the file system.\n"
       ]
      },
      {
       "output_type": "stream",
       "stream": "stderr",
       "text": [
        "WARNING (theano.gof.cmodule): A module that was loaded by this ModuleCache can no longer be read from file /Users/d/.theano/compiledir_Darwin-13.4.0-x86_64-i386-64bit-i386-2.7.5-64/tmpzhjmGX/f4bd33b5907272802305dcff1ff738ad.so... this could lead to problems.\n"
       ]
      },
      {
       "output_type": "stream",
       "stream": "stderr",
       "text": [
        "WARNING:theano.gof.cmodule:A module that was loaded by this ModuleCache can no longer be read from file /Users/d/.theano/compiledir_Darwin-13.4.0-x86_64-i386-64bit-i386-2.7.5-64/tmpzhjmGX/f4bd33b5907272802305dcff1ff738ad.so... this could lead to problems.\n"
       ]
      },
      {
       "output_type": "stream",
       "stream": "stderr",
       "text": [
        "WARNING (theano.gof.cmodule): Removing key file /Users/d/.theano/compiledir_Darwin-13.4.0-x86_64-i386-64bit-i386-2.7.5-64/tmpzhjmGX/key.pkl because the corresponding module is gone from the file system.\n"
       ]
      },
      {
       "output_type": "stream",
       "stream": "stderr",
       "text": [
        "WARNING:theano.gof.cmodule:Removing key file /Users/d/.theano/compiledir_Darwin-13.4.0-x86_64-i386-64bit-i386-2.7.5-64/tmpzhjmGX/key.pkl because the corresponding module is gone from the file system.\n"
       ]
      },
      {
       "output_type": "stream",
       "stream": "stderr",
       "text": [
        "WARNING (theano.gof.cmodule): Removing key file /Users/d/.theano/compiledir_Darwin-13.4.0-x86_64-i386-64bit-i386-2.7.5-64/tmpFpJwUs/key.pkl because the corresponding module is gone from the file system.\n"
       ]
      },
      {
       "output_type": "stream",
       "stream": "stderr",
       "text": [
        "WARNING:theano.gof.cmodule:Removing key file /Users/d/.theano/compiledir_Darwin-13.4.0-x86_64-i386-64bit-i386-2.7.5-64/tmpFpJwUs/key.pkl because the corresponding module is gone from the file system.\n"
       ]
      },
      {
       "output_type": "stream",
       "stream": "stderr",
       "text": [
        "WARNING (theano.gof.cmodule): Removing key file /Users/d/.theano/compiledir_Darwin-13.4.0-x86_64-i386-64bit-i386-2.7.5-64/tmpc0xHw3/key.pkl because the corresponding module is gone from the file system.\n"
       ]
      },
      {
       "output_type": "stream",
       "stream": "stderr",
       "text": [
        "WARNING:theano.gof.cmodule:Removing key file /Users/d/.theano/compiledir_Darwin-13.4.0-x86_64-i386-64bit-i386-2.7.5-64/tmpc0xHw3/key.pkl because the corresponding module is gone from the file system.\n"
       ]
      },
      {
       "output_type": "stream",
       "stream": "stderr",
       "text": [
        "WARNING (theano.gof.cmodule): A module that was loaded by this ModuleCache can no longer be read from file /Users/d/.theano/compiledir_Darwin-13.4.0-x86_64-i386-64bit-i386-2.7.5-64/tmp1Kz_j5/da6ac6908198a9d83223e8a2be6b76b9.so... this could lead to problems.\n"
       ]
      },
      {
       "output_type": "stream",
       "stream": "stderr",
       "text": [
        "WARNING:theano.gof.cmodule:A module that was loaded by this ModuleCache can no longer be read from file /Users/d/.theano/compiledir_Darwin-13.4.0-x86_64-i386-64bit-i386-2.7.5-64/tmp1Kz_j5/da6ac6908198a9d83223e8a2be6b76b9.so... this could lead to problems.\n"
       ]
      },
      {
       "output_type": "stream",
       "stream": "stderr",
       "text": [
        "WARNING (theano.gof.cmodule): Removing key file /Users/d/.theano/compiledir_Darwin-13.4.0-x86_64-i386-64bit-i386-2.7.5-64/tmp1Kz_j5/key.pkl because the corresponding module is gone from the file system.\n"
       ]
      },
      {
       "output_type": "stream",
       "stream": "stderr",
       "text": [
        "WARNING:theano.gof.cmodule:Removing key file /Users/d/.theano/compiledir_Darwin-13.4.0-x86_64-i386-64bit-i386-2.7.5-64/tmp1Kz_j5/key.pkl because the corresponding module is gone from the file system.\n"
       ]
      },
      {
       "output_type": "stream",
       "stream": "stderr",
       "text": [
        "WARNING (theano.gof.cmodule): Removing key file /Users/d/.theano/compiledir_Darwin-13.4.0-x86_64-i386-64bit-i386-2.7.5-64/tmpsoNZx9/key.pkl because the corresponding module is gone from the file system.\n"
       ]
      },
      {
       "output_type": "stream",
       "stream": "stderr",
       "text": [
        "WARNING:theano.gof.cmodule:Removing key file /Users/d/.theano/compiledir_Darwin-13.4.0-x86_64-i386-64bit-i386-2.7.5-64/tmpsoNZx9/key.pkl because the corresponding module is gone from the file system.\n"
       ]
      },
      {
       "output_type": "stream",
       "stream": "stderr",
       "text": [
        "WARNING (theano.gof.cmodule): Removing key file /Users/d/.theano/compiledir_Darwin-13.4.0-x86_64-i386-64bit-i386-2.7.5-64/tmpvsp_dG/key.pkl because the corresponding module is gone from the file system.\n"
       ]
      },
      {
       "output_type": "stream",
       "stream": "stderr",
       "text": [
        "WARNING:theano.gof.cmodule:Removing key file /Users/d/.theano/compiledir_Darwin-13.4.0-x86_64-i386-64bit-i386-2.7.5-64/tmpvsp_dG/key.pkl because the corresponding module is gone from the file system.\n"
       ]
      },
      {
       "output_type": "stream",
       "stream": "stderr",
       "text": [
        "WARNING (theano.gof.cmodule): Removing key file /Users/d/.theano/compiledir_Darwin-13.4.0-x86_64-i386-64bit-i386-2.7.5-64/tmpAc_JNJ/key.pkl because the corresponding module is gone from the file system.\n"
       ]
      },
      {
       "output_type": "stream",
       "stream": "stderr",
       "text": [
        "WARNING:theano.gof.cmodule:Removing key file /Users/d/.theano/compiledir_Darwin-13.4.0-x86_64-i386-64bit-i386-2.7.5-64/tmpAc_JNJ/key.pkl because the corresponding module is gone from the file system.\n"
       ]
      },
      {
       "output_type": "stream",
       "stream": "stderr",
       "text": [
        "WARNING (theano.gof.cmodule): Removing key file /Users/d/.theano/compiledir_Darwin-13.4.0-x86_64-i386-64bit-i386-2.7.5-64/tmpFjTbaw/key.pkl because the corresponding module is gone from the file system.\n"
       ]
      },
      {
       "output_type": "stream",
       "stream": "stderr",
       "text": [
        "WARNING:theano.gof.cmodule:Removing key file /Users/d/.theano/compiledir_Darwin-13.4.0-x86_64-i386-64bit-i386-2.7.5-64/tmpFjTbaw/key.pkl because the corresponding module is gone from the file system.\n"
       ]
      },
      {
       "output_type": "stream",
       "stream": "stderr",
       "text": [
        "WARNING (theano.gof.cmodule): Removing key file /Users/d/.theano/compiledir_Darwin-13.4.0-x86_64-i386-64bit-i386-2.7.5-64/tmpeE0W3e/key.pkl because the corresponding module is gone from the file system.\n"
       ]
      },
      {
       "output_type": "stream",
       "stream": "stderr",
       "text": [
        "WARNING:theano.gof.cmodule:Removing key file /Users/d/.theano/compiledir_Darwin-13.4.0-x86_64-i386-64bit-i386-2.7.5-64/tmpeE0W3e/key.pkl because the corresponding module is gone from the file system.\n"
       ]
      },
      {
       "output_type": "stream",
       "stream": "stderr",
       "text": [
        "WARNING (theano.gof.cmodule): Removing key file /Users/d/.theano/compiledir_Darwin-13.4.0-x86_64-i386-64bit-i386-2.7.5-64/tmpNEutnR/key.pkl because the corresponding module is gone from the file system.\n"
       ]
      },
      {
       "output_type": "stream",
       "stream": "stderr",
       "text": [
        "WARNING:theano.gof.cmodule:Removing key file /Users/d/.theano/compiledir_Darwin-13.4.0-x86_64-i386-64bit-i386-2.7.5-64/tmpNEutnR/key.pkl because the corresponding module is gone from the file system.\n"
       ]
      },
      {
       "output_type": "stream",
       "stream": "stderr",
       "text": [
        "WARNING (theano.gof.cmodule): A module that was loaded by this ModuleCache can no longer be read from file /Users/d/.theano/compiledir_Darwin-13.4.0-x86_64-i386-64bit-i386-2.7.5-64/tmphEAG7k/4550a3dbca274c9db15a78d4da6390f5.so... this could lead to problems.\n"
       ]
      },
      {
       "output_type": "stream",
       "stream": "stderr",
       "text": [
        "WARNING:theano.gof.cmodule:A module that was loaded by this ModuleCache can no longer be read from file /Users/d/.theano/compiledir_Darwin-13.4.0-x86_64-i386-64bit-i386-2.7.5-64/tmphEAG7k/4550a3dbca274c9db15a78d4da6390f5.so... this could lead to problems.\n"
       ]
      },
      {
       "output_type": "stream",
       "stream": "stderr",
       "text": [
        "WARNING (theano.gof.cmodule): Removing key file /Users/d/.theano/compiledir_Darwin-13.4.0-x86_64-i386-64bit-i386-2.7.5-64/tmphEAG7k/key.pkl because the corresponding module is gone from the file system.\n"
       ]
      },
      {
       "output_type": "stream",
       "stream": "stderr",
       "text": [
        "WARNING:theano.gof.cmodule:Removing key file /Users/d/.theano/compiledir_Darwin-13.4.0-x86_64-i386-64bit-i386-2.7.5-64/tmphEAG7k/key.pkl because the corresponding module is gone from the file system.\n"
       ]
      },
      {
       "output_type": "stream",
       "stream": "stderr",
       "text": [
        "WARNING (theano.gof.cmodule): Removing key file /Users/d/.theano/compiledir_Darwin-13.4.0-x86_64-i386-64bit-i386-2.7.5-64/tmpyMc_Zi/key.pkl because the corresponding module is gone from the file system.\n"
       ]
      },
      {
       "output_type": "stream",
       "stream": "stderr",
       "text": [
        "WARNING:theano.gof.cmodule:Removing key file /Users/d/.theano/compiledir_Darwin-13.4.0-x86_64-i386-64bit-i386-2.7.5-64/tmpyMc_Zi/key.pkl because the corresponding module is gone from the file system.\n"
       ]
      },
      {
       "output_type": "stream",
       "stream": "stderr",
       "text": [
        "WARNING (theano.gof.cmodule): Removing key file /Users/d/.theano/compiledir_Darwin-13.4.0-x86_64-i386-64bit-i386-2.7.5-64/tmpOV2iFv/key.pkl because the corresponding module is gone from the file system.\n"
       ]
      },
      {
       "output_type": "stream",
       "stream": "stderr",
       "text": [
        "WARNING:theano.gof.cmodule:Removing key file /Users/d/.theano/compiledir_Darwin-13.4.0-x86_64-i386-64bit-i386-2.7.5-64/tmpOV2iFv/key.pkl because the corresponding module is gone from the file system.\n"
       ]
      },
      {
       "output_type": "stream",
       "stream": "stderr",
       "text": [
        "WARNING (theano.gof.cmodule): A module that was loaded by this ModuleCache can no longer be read from file /Users/d/.theano/compiledir_Darwin-13.4.0-x86_64-i386-64bit-i386-2.7.5-64/tmpfrGkmc/3822e09213127a9018d8f73e171845df.so... this could lead to problems.\n"
       ]
      },
      {
       "output_type": "stream",
       "stream": "stderr",
       "text": [
        "WARNING:theano.gof.cmodule:A module that was loaded by this ModuleCache can no longer be read from file /Users/d/.theano/compiledir_Darwin-13.4.0-x86_64-i386-64bit-i386-2.7.5-64/tmpfrGkmc/3822e09213127a9018d8f73e171845df.so... this could lead to problems.\n"
       ]
      },
      {
       "output_type": "stream",
       "stream": "stderr",
       "text": [
        "WARNING (theano.gof.cmodule): Removing key file /Users/d/.theano/compiledir_Darwin-13.4.0-x86_64-i386-64bit-i386-2.7.5-64/tmpfrGkmc/key.pkl because the corresponding module is gone from the file system.\n"
       ]
      },
      {
       "output_type": "stream",
       "stream": "stderr",
       "text": [
        "WARNING:theano.gof.cmodule:Removing key file /Users/d/.theano/compiledir_Darwin-13.4.0-x86_64-i386-64bit-i386-2.7.5-64/tmpfrGkmc/key.pkl because the corresponding module is gone from the file system.\n"
       ]
      },
      {
       "output_type": "stream",
       "stream": "stderr",
       "text": [
        "WARNING (theano.gof.cmodule): A module that was loaded by this ModuleCache can no longer be read from file /Users/d/.theano/compiledir_Darwin-13.4.0-x86_64-i386-64bit-i386-2.7.5-64/tmpTc2zB_/736ba118cc80d5864baab09e91102c0e.so... this could lead to problems.\n"
       ]
      },
      {
       "output_type": "stream",
       "stream": "stderr",
       "text": [
        "WARNING:theano.gof.cmodule:A module that was loaded by this ModuleCache can no longer be read from file /Users/d/.theano/compiledir_Darwin-13.4.0-x86_64-i386-64bit-i386-2.7.5-64/tmpTc2zB_/736ba118cc80d5864baab09e91102c0e.so... this could lead to problems.\n"
       ]
      },
      {
       "output_type": "stream",
       "stream": "stderr",
       "text": [
        "WARNING (theano.gof.cmodule): Removing key file /Users/d/.theano/compiledir_Darwin-13.4.0-x86_64-i386-64bit-i386-2.7.5-64/tmpTc2zB_/key.pkl because the corresponding module is gone from the file system.\n"
       ]
      },
      {
       "output_type": "stream",
       "stream": "stderr",
       "text": [
        "WARNING:theano.gof.cmodule:Removing key file /Users/d/.theano/compiledir_Darwin-13.4.0-x86_64-i386-64bit-i386-2.7.5-64/tmpTc2zB_/key.pkl because the corresponding module is gone from the file system.\n"
       ]
      },
      {
       "output_type": "stream",
       "stream": "stderr",
       "text": [
        "WARNING (theano.gof.cmodule): A module that was loaded by this ModuleCache can no longer be read from file /Users/d/.theano/compiledir_Darwin-13.4.0-x86_64-i386-64bit-i386-2.7.5-64/tmpXmVcIh/cb300564adfbc410205a29019d4a0c03.so... this could lead to problems.\n"
       ]
      },
      {
       "output_type": "stream",
       "stream": "stderr",
       "text": [
        "WARNING:theano.gof.cmodule:A module that was loaded by this ModuleCache can no longer be read from file /Users/d/.theano/compiledir_Darwin-13.4.0-x86_64-i386-64bit-i386-2.7.5-64/tmpXmVcIh/cb300564adfbc410205a29019d4a0c03.so... this could lead to problems.\n"
       ]
      },
      {
       "output_type": "stream",
       "stream": "stderr",
       "text": [
        "WARNING (theano.gof.cmodule): Removing key file /Users/d/.theano/compiledir_Darwin-13.4.0-x86_64-i386-64bit-i386-2.7.5-64/tmpXmVcIh/key.pkl because the corresponding module is gone from the file system.\n"
       ]
      },
      {
       "output_type": "stream",
       "stream": "stderr",
       "text": [
        "WARNING:theano.gof.cmodule:Removing key file /Users/d/.theano/compiledir_Darwin-13.4.0-x86_64-i386-64bit-i386-2.7.5-64/tmpXmVcIh/key.pkl because the corresponding module is gone from the file system.\n"
       ]
      }
     ],
     "prompt_number": 23
    },
    {
     "cell_type": "code",
     "collapsed": false,
     "input": [],
     "language": "python",
     "metadata": {},
     "outputs": []
    },
    {
     "cell_type": "code",
     "collapsed": false,
     "input": [
      "X_train, y_train = Util.load('patches_binary_border')"
     ],
     "language": "python",
     "metadata": {},
     "outputs": [
      {
       "output_type": "stream",
       "stream": "stdout",
       "text": [
        "Loading data..\n"
       ]
      }
     ],
     "prompt_number": 5
    },
    {
     "cell_type": "code",
     "collapsed": false,
     "input": [
      "plt.imshow(X_train['merged_array'][0][0])"
     ],
     "language": "python",
     "metadata": {},
     "outputs": [
      {
       "metadata": {},
       "output_type": "pyout",
       "prompt_number": 13,
       "text": [
        "<matplotlib.image.AxesImage at 0x1ef5c8610>"
       ]
      },
      {
       "metadata": {},
       "output_type": "display_data",
       "png": "[encoded data removed]",
       "text": [
        "<matplotlib.figure.Figure at 0x197193750>"
       ]
      }
     ],
     "prompt_number": 13
    },
    {
     "cell_type": "code",
     "collapsed": false,
     "input": [
      "input_rgb = np.concatenate((X_train['image'], X_train['prob'], X_train['merged_array'], X_train['larger_border_overlap']), 1)"
     ],
     "language": "python",
     "metadata": {},
     "outputs": [],
     "prompt_number": 14
    },
    {
     "cell_type": "code",
     "collapsed": false,
     "input": [
      "input_rgb.shape"
     ],
     "language": "python",
     "metadata": {},
     "outputs": [
      {
       "metadata": {},
       "output_type": "pyout",
       "prompt_number": 15,
       "text": [
        "(43792, 4, 75, 75)"
       ]
      }
     ],
     "prompt_number": 15
    },
    {
     "cell_type": "code",
     "collapsed": false,
     "input": [
      "y_train = y_train['targets']"
     ],
     "language": "python",
     "metadata": {},
     "outputs": [],
     "prompt_number": 18
    },
    {
     "cell_type": "code",
     "collapsed": false,
     "input": [
      "y_train.shape"
     ],
     "language": "python",
     "metadata": {},
     "outputs": [
      {
       "metadata": {},
       "output_type": "pyout",
       "prompt_number": 19,
       "text": [
        "(43792,)"
       ]
      }
     ],
     "prompt_number": 19
    },
    {
     "cell_type": "code",
     "collapsed": false,
     "input": [],
     "language": "python",
     "metadata": {},
     "outputs": []
    }
   ],
   "metadata": {}
  }
 ]
}