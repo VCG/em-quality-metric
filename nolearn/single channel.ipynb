{
 "metadata": {
  "name": "",
  "signature": "sha256:395530f8e28919af3dd3194a0922835902b212b3900b53f81ee827cc97c1e331"
 },
 "nbformat": 3,
 "nbformat_minor": 0,
 "worksheets": [
  {
   "cells": [
    {
     "cell_type": "code",
     "collapsed": false,
     "input": [
      "from __future__ import division, print_function\n",
      "\n",
      "%load_ext autoreload\n",
      "%autoreload 2\n",
      "\n",
      "IMAGE_HEIGHT = 75\n",
      "IMAGE_WIDTH = 75\n",
      "\n",
      "import scipy\n",
      "import theano\n",
      "import numpy as np\n",
      "\n",
      "import matplotlib.pyplot as plt\n",
      "from matplotlib import gridspec\n",
      "import seaborn as sns\n",
      "%matplotlib inline\n",
      "\n",
      "from sklearn.datasets import fetch_mldata\n",
      "from sklearn.cross_validation import train_test_split\n",
      "\n",
      "from nolearn.lasagne import NeuralNet\n",
      "from lasagne import layers\n",
      "from lasagne import nonlinearities\n",
      "from lasagne.updates import nesterov_momentum\n",
      "\n",
      "\n",
      "\n",
      "from util import Util"
     ],
     "language": "python",
     "metadata": {},
     "outputs": [
      {
       "output_type": "stream",
       "stream": "stderr",
       "text": [
        "Using gpu device 0: GeForce GTX TITAN (CNMeM is disabled)\n",
        "/Library/Python/2.7/site-packages/numpy/core/fromnumeric.py:2641: VisibleDeprecationWarning: `rank` is deprecated; use the `ndim` attribute or function instead. To find the rank of a matrix see `numpy.linalg.matrix_rank`.\n",
        "  VisibleDeprecationWarning)\n"
       ]
      },
      {
       "output_type": "stream",
       "stream": "stderr",
       "text": [
        "tifffile.py:1995: UserWarning: failed to import _tifffile.decodepackbits\n",
        "  warnings.warn(\"failed to import %s\" % module_function)\n",
        "tifffile.py:1995: UserWarning: failed to import _tifffile.decodelzw\n",
        "  warnings.warn(\"failed to import %s\" % module_function)\n",
        "tifffile.py:1995: UserWarning: failed to import _tifffile.unpackints\n",
        "  warnings.warn(\"failed to import %s\" % module_function)\n"
       ]
      }
     ],
     "prompt_number": 2
    },
    {
     "cell_type": "code",
     "collapsed": false,
     "input": [
      "X_train, y_train, X_val, y_val, X_test, y_test = Util.load_dataset('patches_7th')"
     ],
     "language": "python",
     "metadata": {},
     "outputs": [],
     "prompt_number": 12
    },
    {
     "cell_type": "code",
     "collapsed": false,
     "input": [
      "# X_train, X_test, y_train, y_test = train_test_split(X, y, test_size=0.25, random_state=42)\n",
      "\n",
      "# X_train = X_train.reshape(-1, 1, IMAGE_HEIGHT, IMAGE_WIDTH)\n",
      "# X_test = X_test.reshape(-1, 1, IMAGE_HEIGHT, IMAGE_WIDTH)\n",
      "\n",
      "print(X_train['image'].shape, X_val['image'].shape)"
     ],
     "language": "python",
     "metadata": {},
     "outputs": [
      {
       "output_type": "stream",
       "stream": "stdout",
       "text": [
        "(159656, 1, 75, 75) (14928, 1, 75, 75)\n"
       ]
      }
     ],
     "prompt_number": 13
    },
    {
     "cell_type": "code",
     "collapsed": false,
     "input": [
      "clf = NeuralNet(\n",
      "    layers=[\n",
      "        ('input', layers.InputLayer),\n",
      "\n",
      "        ('conv1', layers.Conv2DLayer),\n",
      "        ('pool1', layers.MaxPool2DLayer),\n",
      "        ('dropout1', layers.DropoutLayer),\n",
      "\n",
      "        ('conv2', layers.Conv2DLayer),\n",
      "        ('pool2', layers.MaxPool2DLayer),\n",
      "        ('dropout2', layers.DropoutLayer),\n",
      "\n",
      "        ('hidden3', layers.DenseLayer),\n",
      "        ('dropout3', layers.DropoutLayer),\n",
      "        ('output', layers.DenseLayer),\n",
      "    ],\n",
      "\n",
      "    # input\n",
      "    input_shape=(None, 1, 75, 75),\n",
      "\n",
      "    # conv2d + pool + dropout\n",
      "    conv1_filter_size=(13,13), conv1_num_filters=16,\n",
      "    pool1_pool_size=(2,2),\n",
      "    dropout1_p=0.1,\n",
      "\n",
      "    # conv2d + pool + dropout\n",
      "    conv2_filter_size=(13,13), conv2_num_filters=16,\n",
      "    pool2_pool_size=(2,2),\n",
      "    dropout2_p=0.2,\n",
      "\n",
      "    # dense layer 1\n",
      "    hidden3_num_units=256,\n",
      "    hidden3_nonlinearity=nonlinearities.rectify,\n",
      "    dropout3_p=0.5,\n",
      "\n",
      "    # dense layer 2\n",
      "    output_num_units=2,\n",
      "    output_nonlinearity=nonlinearities.softmax,\n",
      "\n",
      "\n",
      "\n",
      "    update=nesterov_momentum,\n",
      "    update_learning_rate=0.01,\n",
      "    update_momentum=0.9,\n",
      "\n",
      "    max_epochs=100,\n",
      "    verbose=True\n",
      ")\n",
      "\n",
      "clf.fit(X_train['image'].astype(np.float32), y_train)"
     ],
     "language": "python",
     "metadata": {},
     "outputs": [
      {
       "output_type": "stream",
       "stream": "stdout",
       "text": [
        "# Neural Network with 378546 learnable parameters\n",
        "\n",
        "## Layer information\n",
        "\n",
        "  #  name      size\n",
        "---  --------  --------\n",
        "  0  input     1x75x75\n",
        "  1  conv1     16x63x63\n",
        "  2  pool1     16x31x31\n",
        "  3  dropout1  16x31x31\n",
        "  4  conv2     16x19x19\n",
        "  5  pool2     16x9x9\n",
        "  6  dropout2  16x9x9\n",
        "  7  hidden3   256\n",
        "  8  dropout3  256\n",
        "  9  output    2"
       ]
      },
      {
       "output_type": "stream",
       "stream": "stdout",
       "text": [
        "\n",
        "\n"
       ]
      },
      {
       "output_type": "stream",
       "stream": "stdout",
       "text": [
        "  epoch    train loss    valid loss    train/val    valid acc  dur\n",
        "-------  ------------  ------------  -----------  -----------  -------\n",
        "      1       \u001b[36m0.67474\u001b[0m       \u001b[32m0.60367\u001b[0m      1.11774      0.68266  151.38s\n"
       ]
      },
      {
       "output_type": "stream",
       "stream": "stdout",
       "text": [
        "      2       \u001b[36m0.57850\u001b[0m       \u001b[32m0.53561\u001b[0m      1.08008      0.73465  144.89s\n"
       ]
      },
      {
       "output_type": "stream",
       "stream": "stdout",
       "text": [
        "      3       \u001b[36m0.53013\u001b[0m       \u001b[32m0.50210\u001b[0m      1.05582      0.75378  144.89s\n"
       ]
      },
      {
       "output_type": "stream",
       "stream": "stdout",
       "text": [
        "      4       \u001b[36m0.50290\u001b[0m       \u001b[32m0.49757\u001b[0m      1.01072      0.75546  144.94s\n"
       ]
      },
      {
       "output_type": "stream",
       "stream": "stdout",
       "text": [
        "      5       \u001b[36m0.48351\u001b[0m       \u001b[32m0.47179\u001b[0m      1.02484      0.77298  144.92s\n"
       ]
      },
      {
       "output_type": "stream",
       "stream": "stdout",
       "text": [
        "      6       \u001b[36m0.46460\u001b[0m       \u001b[32m0.45337\u001b[0m      1.02476      0.78531  143.55s\n"
       ]
      },
      {
       "output_type": "stream",
       "stream": "stdout",
       "text": [
        "      7       \u001b[36m0.44659\u001b[0m       \u001b[32m0.43295\u001b[0m      1.03151      0.79760  142.22s\n"
       ]
      },
      {
       "output_type": "stream",
       "stream": "stdout",
       "text": [
        "      8       \u001b[36m0.42821\u001b[0m       \u001b[32m0.40368\u001b[0m      1.06074      0.81710  142.23s\n"
       ]
      },
      {
       "output_type": "stream",
       "stream": "stdout",
       "text": [
        "      9       \u001b[36m0.41090\u001b[0m       0.40390      1.01734      0.81804  142.24s\n"
       ]
      },
      {
       "output_type": "stream",
       "stream": "stdout",
       "text": [
        "     10       \u001b[36m0.39361\u001b[0m       \u001b[32m0.33919\u001b[0m      1.16041      0.85583  142.14s\n"
       ]
      },
      {
       "output_type": "stream",
       "stream": "stdout",
       "text": [
        "     11       \u001b[36m0.37605\u001b[0m       \u001b[32m0.33351\u001b[0m      1.12756      0.86036  142.19s\n"
       ]
      },
      {
       "output_type": "stream",
       "stream": "stdout",
       "text": [
        "     12       \u001b[36m0.36003\u001b[0m       \u001b[32m0.31295\u001b[0m      1.15045      0.87148  142.15s\n"
       ]
      },
      {
       "output_type": "stream",
       "stream": "stdout",
       "text": [
        "     13       \u001b[36m0.34641\u001b[0m       0.31993      1.08276      0.86526  142.22s\n"
       ]
      },
      {
       "output_type": "stream",
       "stream": "stdout",
       "text": [
        "     14       \u001b[36m0.33138\u001b[0m       \u001b[32m0.28249\u001b[0m      1.17307      0.88455  142.16s\n"
       ]
      },
      {
       "output_type": "stream",
       "stream": "stdout",
       "text": [
        "     15       \u001b[36m0.31813\u001b[0m       \u001b[32m0.26197\u001b[0m      1.21441      0.89992  142.24s\n"
       ]
      },
      {
       "output_type": "stream",
       "stream": "stdout",
       "text": [
        "     16       \u001b[36m0.30632\u001b[0m       \u001b[32m0.24181\u001b[0m      1.26679      0.91288  142.18s\n"
       ]
      },
      {
       "output_type": "stream",
       "stream": "stdout",
       "text": [
        "     17       \u001b[36m0.29137\u001b[0m       0.24356      1.19627      0.90487  142.16s\n"
       ]
      },
      {
       "output_type": "stream",
       "stream": "stdout",
       "text": [
        "     18       \u001b[36m0.28091\u001b[0m       \u001b[32m0.23904\u001b[0m      1.17516      0.90491  142.21s\n"
       ]
      },
      {
       "output_type": "stream",
       "stream": "stdout",
       "text": [
        "     19       \u001b[36m0.27148\u001b[0m       \u001b[32m0.21043\u001b[0m      1.29014      0.92076  142.17s\n"
       ]
      },
      {
       "output_type": "stream",
       "stream": "stdout",
       "text": [
        "     20       \u001b[36m0.26204\u001b[0m       \u001b[32m0.20166\u001b[0m      1.29943      0.92376  142.20s\n"
       ]
      },
      {
       "output_type": "stream",
       "stream": "stdout",
       "text": [
        "     21       \u001b[36m0.25122\u001b[0m       \u001b[32m0.18029\u001b[0m      1.39344      0.93510  142.16s\n"
       ]
      },
      {
       "output_type": "stream",
       "stream": "stdout",
       "text": [
        "     22       \u001b[36m0.24294\u001b[0m       \u001b[32m0.17919\u001b[0m      1.35577      0.93658  142.17s\n"
       ]
      },
      {
       "output_type": "stream",
       "stream": "stdout",
       "text": [
        "     23       \u001b[36m0.23316\u001b[0m       \u001b[32m0.16756\u001b[0m      1.39150      0.93876  142.23s\n"
       ]
      },
      {
       "output_type": "stream",
       "stream": "stdout",
       "text": [
        "     24       \u001b[36m0.22797\u001b[0m       0.16875      1.35092      0.93791  142.18s\n"
       ]
      },
      {
       "output_type": "stream",
       "stream": "stdout",
       "text": [
        "     25       \u001b[36m0.22011\u001b[0m       \u001b[32m0.13954\u001b[0m      1.57741      0.95815  142.16s\n"
       ]
      },
      {
       "output_type": "stream",
       "stream": "stdout",
       "text": [
        "     26       \u001b[36m0.21300\u001b[0m       0.15332      1.38922      0.94508  142.22s\n"
       ]
      },
      {
       "output_type": "stream",
       "stream": "stdout",
       "text": [
        "     27       \u001b[36m0.21068\u001b[0m       \u001b[32m0.12788\u001b[0m      1.64748      0.96046  142.18s\n"
       ]
      },
      {
       "output_type": "stream",
       "stream": "stdout",
       "text": [
        "     28       \u001b[36m0.20425\u001b[0m       0.13436      1.52018      0.95602  142.17s\n"
       ]
      },
      {
       "output_type": "stream",
       "stream": "stdout",
       "text": [
        "     29       \u001b[36m0.19609\u001b[0m       0.14205      1.38049      0.94789  142.23s\n"
       ]
      },
      {
       "output_type": "stream",
       "stream": "stdout",
       "text": [
        "     30       \u001b[36m0.19162\u001b[0m       \u001b[32m0.11736\u001b[0m      1.63274      0.96180  142.14s\n"
       ]
      },
      {
       "output_type": "stream",
       "stream": "stdout",
       "text": [
        "     31       \u001b[36m0.18952\u001b[0m       0.12583      1.50618      0.96227  142.17s\n"
       ]
      },
      {
       "output_type": "stream",
       "stream": "stdout",
       "text": [
        "     32       \u001b[36m0.18264\u001b[0m       \u001b[32m0.11505\u001b[0m      1.58748      0.96599  142.16s\n"
       ]
      },
      {
       "output_type": "stream",
       "stream": "stdout",
       "text": [
        "     33       0.18361       \u001b[32m0.11403\u001b[0m      1.61011      0.96306  142.15s\n"
       ]
      },
      {
       "output_type": "stream",
       "stream": "stdout",
       "text": [
        "     34       \u001b[36m0.17831\u001b[0m       0.11638      1.53213      0.96343  142.14s\n"
       ]
      },
      {
       "output_type": "stream",
       "stream": "stdout",
       "text": [
        "     35       \u001b[36m0.17548\u001b[0m       0.11883      1.47674      0.96100  142.15s\n"
       ]
      },
      {
       "output_type": "stream",
       "stream": "stdout",
       "text": [
        "     36       \u001b[36m0.16976\u001b[0m       \u001b[32m0.10738\u001b[0m      1.58085      0.96687  142.15s\n"
       ]
      },
      {
       "output_type": "stream",
       "stream": "stdout",
       "text": [
        "     37       \u001b[36m0.16872\u001b[0m       \u001b[32m0.09658\u001b[0m      1.74701      0.97080  142.17s\n"
       ]
      },
      {
       "output_type": "stream",
       "stream": "stdout",
       "text": [
        "     38       \u001b[36m0.16222\u001b[0m       0.09864      1.64451      0.97074  142.16s\n"
       ]
      },
      {
       "output_type": "stream",
       "stream": "stdout",
       "text": [
        "     39       \u001b[36m0.15997\u001b[0m       \u001b[32m0.09027\u001b[0m      1.77213      0.97675  142.16s\n"
       ]
      },
      {
       "output_type": "stream",
       "stream": "stdout",
       "text": [
        "     40       \u001b[36m0.15997\u001b[0m       0.10708      1.49393      0.96605  142.18s\n"
       ]
      },
      {
       "output_type": "stream",
       "stream": "stdout",
       "text": [
        "     41       \u001b[36m0.15547\u001b[0m       \u001b[32m0.07984\u001b[0m      1.94723      0.97928  142.19s\n"
       ]
      },
      {
       "output_type": "stream",
       "stream": "stdout",
       "text": [
        "     42       \u001b[36m0.15248\u001b[0m       \u001b[32m0.07562\u001b[0m      2.01646      0.97786  142.19s\n"
       ]
      },
      {
       "output_type": "stream",
       "stream": "stdout",
       "text": [
        "     43       \u001b[36m0.15030\u001b[0m       0.07762      1.93619      0.97853  142.15s\n"
       ]
      },
      {
       "output_type": "stream",
       "stream": "stdout",
       "text": [
        "     44       \u001b[36m0.14835\u001b[0m       0.07732      1.91863      0.97918  142.16s\n"
       ]
      },
      {
       "output_type": "stream",
       "stream": "stdout",
       "text": [
        "     45       \u001b[36m0.14591\u001b[0m       \u001b[32m0.07003\u001b[0m      2.08346      0.98294  142.15s\n"
       ]
      },
      {
       "output_type": "stream",
       "stream": "stdout",
       "text": [
        "     46       \u001b[36m0.14504\u001b[0m       0.08353      1.73642      0.97505  142.18s\n"
       ]
      },
      {
       "output_type": "stream",
       "stream": "stdout",
       "text": [
        "     47       \u001b[36m0.14366\u001b[0m       0.08020      1.79124      0.97671  142.14s\n"
       ]
      },
      {
       "output_type": "stream",
       "stream": "stdout",
       "text": [
        "     48       \u001b[36m0.14075\u001b[0m       \u001b[32m0.06501\u001b[0m      2.16521      0.98271  142.22s\n"
       ]
      },
      {
       "output_type": "stream",
       "stream": "stdout",
       "text": [
        "     49       \u001b[36m0.13778\u001b[0m       0.08337      1.65266      0.97283  142.21s\n"
       ]
      },
      {
       "output_type": "stream",
       "stream": "stdout",
       "text": [
        "     50       0.13833       0.07059      1.95951      0.98087  142.22s\n"
       ]
      },
      {
       "output_type": "stream",
       "stream": "stdout",
       "text": [
        "     51       0.13825       0.06715      2.05881      0.98209  142.15s\n"
       ]
      },
      {
       "output_type": "stream",
       "stream": "stdout",
       "text": [
        "     52       \u001b[36m0.13310\u001b[0m       \u001b[32m0.06494\u001b[0m      2.04945      0.98171  142.15s\n"
       ]
      },
      {
       "output_type": "stream",
       "stream": "stdout",
       "text": [
        "     53       0.13344       0.06900      1.93381      0.97874  142.22s\n"
       ]
      },
      {
       "output_type": "stream",
       "stream": "stdout",
       "text": [
        "     54       0.13311       0.07268      1.83156      0.97855  142.19s\n"
       ]
      },
      {
       "output_type": "stream",
       "stream": "stdout",
       "text": [
        "     55       \u001b[36m0.13152\u001b[0m       \u001b[32m0.06342\u001b[0m      2.07369      0.98190  142.19s\n"
       ]
      },
      {
       "output_type": "stream",
       "stream": "stdout",
       "text": [
        "     56       \u001b[36m0.12703\u001b[0m       0.06390      1.98794      0.98209  142.18s\n"
       ]
      },
      {
       "output_type": "stream",
       "stream": "stdout",
       "text": [
        "     57       0.12726       0.06686      1.90343      0.98246  142.20s\n"
       ]
      },
      {
       "output_type": "stream",
       "stream": "stdout",
       "text": [
        "     58       \u001b[36m0.12668\u001b[0m       0.06660      1.90203      0.98099  142.19s\n"
       ]
      },
      {
       "output_type": "stream",
       "stream": "stdout",
       "text": [
        "     59       \u001b[36m0.12445\u001b[0m       0.06442      1.93198      0.98221  142.22s\n"
       ]
      },
      {
       "output_type": "stream",
       "stream": "stdout",
       "text": [
        "     60       0.12524       0.06740      1.85802      0.98114  142.19s\n"
       ]
      },
      {
       "output_type": "stream",
       "stream": "stdout",
       "text": [
        "     61       \u001b[36m0.12237\u001b[0m       \u001b[32m0.05635\u001b[0m      2.17169      0.98515  142.19s\n"
       ]
      },
      {
       "output_type": "stream",
       "stream": "stdout",
       "text": [
        "     62       \u001b[36m0.12138\u001b[0m       0.06006      2.02105      0.98311  142.19s\n"
       ]
      },
      {
       "output_type": "stream",
       "stream": "stdout",
       "text": [
        "     63       \u001b[36m0.12086\u001b[0m       0.05795      2.08572      0.98521  142.20s\n"
       ]
      },
      {
       "output_type": "stream",
       "stream": "stdout",
       "text": [
        "     64       \u001b[36m0.11966\u001b[0m       0.06002      1.99373      0.98352  142.20s\n"
       ]
      },
      {
       "output_type": "stream",
       "stream": "stdout",
       "text": [
        "     65       \u001b[36m0.11594\u001b[0m       0.06220      1.86389      0.98312  142.23s\n"
       ]
      },
      {
       "output_type": "stream",
       "stream": "stdout",
       "text": [
        "     66       \u001b[36m0.11521\u001b[0m       0.05832      1.97529      0.98464  142.16s\n"
       ]
      },
      {
       "output_type": "stream",
       "stream": "stdout",
       "text": [
        "     67       0.11534       0.05669      2.03465      0.98487  142.18s\n"
       ]
      },
      {
       "output_type": "stream",
       "stream": "stdout",
       "text": [
        "     68       0.11638       0.05712      2.03742      0.98471  142.14s\n"
       ]
      },
      {
       "output_type": "stream",
       "stream": "stdout",
       "text": [
        "     69       \u001b[36m0.11472\u001b[0m       0.06464      1.77487      0.98255  142.22s\n"
       ]
      },
      {
       "output_type": "stream",
       "stream": "stdout",
       "text": [
        "     70       \u001b[36m0.11425\u001b[0m       \u001b[32m0.05104\u001b[0m      2.23848      0.98755  142.19s\n"
       ]
      },
      {
       "output_type": "stream",
       "stream": "stdout",
       "text": [
        "     71       \u001b[36m0.11268\u001b[0m       0.06307      1.78646      0.98374  142.18s\n"
       ]
      },
      {
       "output_type": "stream",
       "stream": "stdout",
       "text": [
        "     72       0.11293       0.07259      1.55578      0.97812  142.21s\n"
       ]
      },
      {
       "output_type": "stream",
       "stream": "stdout",
       "text": [
        "     73       \u001b[36m0.11083\u001b[0m       0.05292      2.09443      0.98640  142.16s\n"
       ]
      },
      {
       "output_type": "stream",
       "stream": "stdout",
       "text": [
        "     74       \u001b[36m0.10923\u001b[0m       0.05863      1.86290      0.98405  142.19s\n"
       ]
      },
      {
       "output_type": "stream",
       "stream": "stdout",
       "text": [
        "     75       \u001b[36m0.10908\u001b[0m       0.05642      1.93353      0.98362  142.25s\n"
       ]
      },
      {
       "output_type": "stream",
       "stream": "stdout",
       "text": [
        "     76       \u001b[36m0.10819\u001b[0m       0.05368      2.01526      0.98565  142.20s\n"
       ]
      },
      {
       "output_type": "stream",
       "stream": "stdout",
       "text": [
        "     77       0.10994       \u001b[32m0.05066\u001b[0m      2.16999      0.98671  142.16s\n"
       ]
      },
      {
       "output_type": "stream",
       "stream": "stdout",
       "text": [
        "     78       \u001b[36m0.10717\u001b[0m       \u001b[32m0.04960\u001b[0m      2.16068      0.98758  142.22s\n"
       ]
      },
      {
       "output_type": "stream",
       "stream": "stdout",
       "text": [
        "     79       0.10774       0.05638      1.91110      0.98480  142.16s\n"
       ]
      },
      {
       "output_type": "stream",
       "stream": "stdout",
       "text": [
        "     80       \u001b[36m0.10446\u001b[0m       0.06273      1.66516      0.98246  142.21s\n"
       ]
      },
      {
       "output_type": "stream",
       "stream": "stdout",
       "text": [
        "     81       \u001b[36m0.10410\u001b[0m       0.05833      1.78475      0.98437  142.19s\n"
       ]
      },
      {
       "output_type": "stream",
       "stream": "stdout",
       "text": [
        "     82       0.10621       \u001b[32m0.04832\u001b[0m      2.19799      0.98775  142.21s\n"
       ]
      },
      {
       "output_type": "stream",
       "stream": "stdout",
       "text": [
        "     83       0.10422       0.05804      1.79562      0.98371  142.25s\n"
       ]
      },
      {
       "output_type": "stream",
       "stream": "stdout",
       "text": [
        "     84       0.10515       0.04978      2.11222      0.98740  142.25s\n"
       ]
      },
      {
       "output_type": "stream",
       "stream": "stdout",
       "text": [
        "     85       \u001b[36m0.10220\u001b[0m       0.05701      1.79279      0.98452  142.26s\n"
       ]
      },
      {
       "output_type": "stream",
       "stream": "stdout",
       "text": [
        "     86       0.10283       0.06142      1.67423      0.98346  142.25s\n"
       ]
      },
      {
       "output_type": "stream",
       "stream": "stdout",
       "text": [
        "     87       \u001b[36m0.10113\u001b[0m       0.06070      1.66622      0.98377  142.26s\n"
       ]
      },
      {
       "output_type": "stream",
       "stream": "stdout",
       "text": [
        "     88       \u001b[36m0.09986\u001b[0m       \u001b[32m0.04777\u001b[0m      2.09033      0.98728  142.21s\n"
       ]
      },
      {
       "output_type": "stream",
       "stream": "stdout",
       "text": [
        "     89       0.10235       0.04836      2.11637      0.98762  142.24s\n"
       ]
      },
      {
       "output_type": "stream",
       "stream": "stdout",
       "text": [
        "     90       0.10012       \u001b[32m0.04538\u001b[0m      2.20623      0.98790  142.20s\n"
       ]
      },
      {
       "output_type": "stream",
       "stream": "stdout",
       "text": [
        "     91       \u001b[36m0.09740\u001b[0m       0.05476      1.77881      0.98490  142.21s\n"
       ]
      },
      {
       "output_type": "stream",
       "stream": "stdout",
       "text": [
        "     92       0.09988       0.05507      1.81370      0.98527  142.20s\n"
       ]
      },
      {
       "output_type": "stream",
       "stream": "stdout",
       "text": [
        "     93       0.09798       0.05755      1.70264      0.98393  142.18s\n"
       ]
      },
      {
       "output_type": "stream",
       "stream": "stdout",
       "text": [
        "     94       \u001b[36m0.09721\u001b[0m       0.04750      2.04651      0.98755  142.17s\n"
       ]
      },
      {
       "output_type": "stream",
       "stream": "stdout",
       "text": [
        "     95       0.09727       0.05591      1.73994      0.98549  142.21s\n"
       ]
      },
      {
       "output_type": "stream",
       "stream": "stdout",
       "text": [
        "     96       \u001b[36m0.09584\u001b[0m       0.05227      1.83363      0.98652  142.16s\n"
       ]
      },
      {
       "output_type": "stream",
       "stream": "stdout",
       "text": [
        "     97       0.09773       0.04932      1.98140      0.98730  142.13s\n"
       ]
      },
      {
       "output_type": "stream",
       "stream": "stdout",
       "text": [
        "     98       0.09589       0.05751      1.66728      0.98565  142.12s\n"
       ]
      },
      {
       "output_type": "stream",
       "stream": "stdout",
       "text": [
        "     99       \u001b[36m0.09501\u001b[0m       \u001b[32m0.04208\u001b[0m      2.25809      0.98871  142.22s\n"
       ]
      },
      {
       "output_type": "stream",
       "stream": "stdout",
       "text": [
        "    100       \u001b[36m0.09492\u001b[0m       0.04576      2.07454      0.98815  142.18s\n"
       ]
      },
      {
       "metadata": {},
       "output_type": "pyout",
       "prompt_number": 14,
       "text": [
        "NeuralNet(X_tensor_type=None,\n",
        "     batch_iterator_test=<nolearn.lasagne.base.BatchIterator object at 0x1175c3710>,\n",
        "     batch_iterator_train=<nolearn.lasagne.base.BatchIterator object at 0x1175c35d0>,\n",
        "     check_input=True, conv1_filter_size=(13, 13), conv1_num_filters=16,\n",
        "     conv2_filter_size=(13, 13), conv2_num_filters=16, custom_scores=None,\n",
        "     dropout1_p=0.1, dropout2_p=0.2, dropout3_p=0.5,\n",
        "     hidden3_nonlinearity=<function rectify at 0x1175797d0>,\n",
        "     hidden3_num_units=256, input_shape=(None, 1, 75, 75),\n",
        "     layers=[('input', <class 'lasagne.layers.input.InputLayer'>), ('conv1', <class 'lasagne.layers.conv.Conv2DLayer'>), ('pool1', <class 'lasagne.layers.pool.MaxPool2DLayer'>), ('dropout1', <class 'lasagne.layers.noise.DropoutLayer'>), ('conv2', <class 'lasagne.layers.conv.Conv2DLayer'>), ('pool2', <cla...<class 'lasagne.layers.noise.DropoutLayer'>), ('output', <class 'lasagne.layers.dense.DenseLayer'>)],\n",
        "     loss=None, max_epochs=100, more_params={},\n",
        "     objective=<function objective at 0x1175c0cf8>,\n",
        "     objective_loss_function=<function categorical_crossentropy at 0x1175a9578>,\n",
        "     on_batch_finished=[],\n",
        "     on_epoch_finished=[<nolearn.lasagne.handlers.PrintLog instance at 0x1d5261bd8>],\n",
        "     on_training_finished=[],\n",
        "     on_training_started=[<nolearn.lasagne.handlers.PrintLayerInfo instance at 0x1d52617a0>],\n",
        "     output_nonlinearity=<function softmax at 0x1175796e0>,\n",
        "     output_num_units=2, pool1_pool_size=(2, 2), pool2_pool_size=(2, 2),\n",
        "     regression=False,\n",
        "     train_split=<nolearn.lasagne.base.TrainSplit object at 0x1175c3790>,\n",
        "     update=<function nesterov_momentum at 0x1175b4f50>,\n",
        "     update_learning_rate=0.01, update_momentum=0.9,\n",
        "     use_label_encoder=False, verbose=True,\n",
        "     y_tensor_type=TensorType(int32, vector))"
       ]
      }
     ],
     "prompt_number": 14
    },
    {
     "cell_type": "code",
     "collapsed": false,
     "input": [
      "clf.score(X_test['image'].astype(np.float32), y_test)"
     ],
     "language": "python",
     "metadata": {},
     "outputs": [
      {
       "metadata": {},
       "output_type": "pyout",
       "prompt_number": 15,
       "text": [
        "0.7397355601948504"
       ]
      }
     ],
     "prompt_number": 15
    },
    {
     "cell_type": "code",
     "collapsed": false,
     "input": [
      "clf_layers = clf.get_all_layers()"
     ],
     "language": "python",
     "metadata": {},
     "outputs": [],
     "prompt_number": 16
    },
    {
     "cell_type": "code",
     "collapsed": false,
     "input": [
      "clf_layers"
     ],
     "language": "python",
     "metadata": {},
     "outputs": [
      {
       "metadata": {},
       "output_type": "pyout",
       "prompt_number": 21,
       "text": [
        "[<lasagne.layers.input.InputLayer at 0x1d57aa610>,\n",
        " <lasagne.layers.conv.Conv2DLayer at 0x1d57aaf90>,\n",
        " <lasagne.layers.pool.MaxPool2DLayer at 0x1d57aacd0>,\n",
        " <lasagne.layers.noise.DropoutLayer at 0x1d57aac50>,\n",
        " <lasagne.layers.conv.Conv2DLayer at 0x1d57aa090>,\n",
        " <lasagne.layers.pool.MaxPool2DLayer at 0x1d57aaed0>,\n",
        " <lasagne.layers.noise.DropoutLayer at 0x1d57aa190>,\n",
        " <lasagne.layers.dense.DenseLayer at 0x1d57aa790>,\n",
        " <lasagne.layers.noise.DropoutLayer at 0x1d57aa650>,\n",
        " <lasagne.layers.dense.DenseLayer at 0x155ce65d0>]"
       ]
      }
     ],
     "prompt_number": 21
    },
    {
     "cell_type": "code",
     "collapsed": false,
     "input": [
      "layer = clf_layers[1]\n",
      "W = layer.W.get_value()\n",
      "b = layer.b.get_value()\n",
      "f = [w + bb for w, bb in zip(W, b)]\n",
      "\n",
      "gs = gridspec.GridSpec(6, 6)\n",
      "for i in range(layer.num_filters):\n",
      "    g = gs[i]\n",
      "    ax = plt.subplot(g)\n",
      "    ax.grid()\n",
      "    ax.set_xticks([])\n",
      "    ax.set_yticks([])\n",
      "    ax.imshow(f[i][0], cmap='gray')"
     ],
     "language": "python",
     "metadata": {},
     "outputs": [
      {
       "metadata": {},
       "output_type": "display_data",
       "png": "[encoded data removed]",
       "text": [
        "<matplotlib.figure.Figure at 0x10b8b1f90>"
       ]
      }
     ],
     "prompt_number": 17
    },
    {
     "cell_type": "code",
     "collapsed": false,
     "input": [
      "output = layer.get_output_for(X_test['image'][:1]).eval()[0]\n",
      "gs = gridspec.GridSpec(6, 6)\n",
      "for i in range(layer.num_filters):\n",
      "    g = gs[i]\n",
      "    ax = plt.subplot(g)\n",
      "    ax.grid()\n",
      "    ax.set_xticks([])\n",
      "    ax.set_yticks([])\n",
      "    ax.imshow(output[i], cmap='gray')"
     ],
     "language": "python",
     "metadata": {},
     "outputs": [
      {
       "ename": "AttributeError",
       "evalue": "'numpy.ndarray' object has no attribute 'type'",
       "output_type": "pyerr",
       "traceback": [
        "\u001b[0;31m---------------------------------------------------------------------------\u001b[0m\n\u001b[0;31mAttributeError\u001b[0m                            Traceback (most recent call last)",
        "\u001b[0;32m<ipython-input-29-b956d4a857e9>\u001b[0m in \u001b[0;36m<module>\u001b[0;34m()\u001b[0m\n\u001b[0;32m----> 1\u001b[0;31m \u001b[0moutput\u001b[0m \u001b[0;34m=\u001b[0m \u001b[0mlayer\u001b[0m\u001b[0;34m.\u001b[0m\u001b[0mget_output_for\u001b[0m\u001b[0;34m(\u001b[0m\u001b[0mX_test\u001b[0m\u001b[0;34m[\u001b[0m\u001b[0;34m'image'\u001b[0m\u001b[0;34m]\u001b[0m\u001b[0;34m[\u001b[0m\u001b[0;36m0\u001b[0m\u001b[0;34m]\u001b[0m\u001b[0;34m)\u001b[0m\u001b[0;34m.\u001b[0m\u001b[0meval\u001b[0m\u001b[0;34m(\u001b[0m\u001b[0;34m)\u001b[0m\u001b[0;34m[\u001b[0m\u001b[0;36m0\u001b[0m\u001b[0;34m]\u001b[0m\u001b[0;34m\u001b[0m\u001b[0m\n\u001b[0m\u001b[1;32m      2\u001b[0m \u001b[0mgs\u001b[0m \u001b[0;34m=\u001b[0m \u001b[0mgridspec\u001b[0m\u001b[0;34m.\u001b[0m\u001b[0mGridSpec\u001b[0m\u001b[0;34m(\u001b[0m\u001b[0;36m6\u001b[0m\u001b[0;34m,\u001b[0m \u001b[0;36m6\u001b[0m\u001b[0;34m)\u001b[0m\u001b[0;34m\u001b[0m\u001b[0m\n\u001b[1;32m      3\u001b[0m \u001b[0;32mfor\u001b[0m \u001b[0mi\u001b[0m \u001b[0;32min\u001b[0m \u001b[0mrange\u001b[0m\u001b[0;34m(\u001b[0m\u001b[0mlayer\u001b[0m\u001b[0;34m.\u001b[0m\u001b[0mnum_filters\u001b[0m\u001b[0;34m)\u001b[0m\u001b[0;34m:\u001b[0m\u001b[0;34m\u001b[0m\u001b[0m\n\u001b[1;32m      4\u001b[0m     \u001b[0mg\u001b[0m \u001b[0;34m=\u001b[0m \u001b[0mgs\u001b[0m\u001b[0;34m[\u001b[0m\u001b[0mi\u001b[0m\u001b[0;34m]\u001b[0m\u001b[0;34m\u001b[0m\u001b[0m\n\u001b[1;32m      5\u001b[0m     \u001b[0max\u001b[0m \u001b[0;34m=\u001b[0m \u001b[0mplt\u001b[0m\u001b[0;34m.\u001b[0m\u001b[0msubplot\u001b[0m\u001b[0;34m(\u001b[0m\u001b[0mg\u001b[0m\u001b[0;34m)\u001b[0m\u001b[0;34m\u001b[0m\u001b[0m\n",
        "\u001b[0;32m/Users/d/Library/Python/2.7/lib/python/site-packages/lasagne/layers/conv.pyc\u001b[0m in \u001b[0;36mget_output_for\u001b[0;34m(self, input, input_shape, **kwargs)\u001b[0m\n\u001b[1;32m    487\u001b[0m                                       \u001b[0mimage_shape\u001b[0m\u001b[0;34m=\u001b[0m\u001b[0minput_shape\u001b[0m\u001b[0;34m,\u001b[0m\u001b[0;34m\u001b[0m\u001b[0m\n\u001b[1;32m    488\u001b[0m                                       \u001b[0mfilter_shape\u001b[0m\u001b[0;34m=\u001b[0m\u001b[0mself\u001b[0m\u001b[0;34m.\u001b[0m\u001b[0mget_W_shape\u001b[0m\u001b[0;34m(\u001b[0m\u001b[0;34m)\u001b[0m\u001b[0;34m,\u001b[0m\u001b[0;34m\u001b[0m\u001b[0m\n\u001b[0;32m--> 489\u001b[0;31m                                       border_mode=border_mode)\n\u001b[0m\u001b[1;32m    490\u001b[0m \u001b[0;34m\u001b[0m\u001b[0m\n\u001b[1;32m    491\u001b[0m         \u001b[0;32mif\u001b[0m \u001b[0mself\u001b[0m\u001b[0;34m.\u001b[0m\u001b[0mb\u001b[0m \u001b[0;32mis\u001b[0m \u001b[0mNone\u001b[0m\u001b[0;34m:\u001b[0m\u001b[0;34m\u001b[0m\u001b[0m\n",
        "\u001b[0;32m/Users/d/Library/Python/2.7/lib/python/site-packages/theano/tensor/nnet/__init__.pyc\u001b[0m in \u001b[0;36mconv2d\u001b[0;34m(input, filters, input_shape, filter_shape, border_mode, subsample, filter_flip, image_shape, **kwargs)\u001b[0m\n\u001b[1;32m    119\u001b[0m \u001b[0;34m\u001b[0m\u001b[0m\n\u001b[1;32m    120\u001b[0m     return abstract_conv2d(input, filters, input_shape, filter_shape,\n\u001b[0;32m--> 121\u001b[0;31m                            border_mode, subsample, filter_flip)\n\u001b[0m\u001b[1;32m    122\u001b[0m \u001b[0;34m\u001b[0m\u001b[0m\n\u001b[1;32m    123\u001b[0m \u001b[0;34m\u001b[0m\u001b[0m\n",
        "\u001b[0;32m/Users/d/Library/Python/2.7/lib/python/site-packages/theano/tensor/nnet/abstract_conv.pyc\u001b[0m in \u001b[0;36mconv2d\u001b[0;34m(input, filters, input_shape, filter_shape, border_mode, subsample, filter_flip)\u001b[0m\n\u001b[1;32m    175\u001b[0m                              \u001b[0msubsample\u001b[0m\u001b[0;34m=\u001b[0m\u001b[0msubsample\u001b[0m\u001b[0;34m,\u001b[0m\u001b[0;34m\u001b[0m\u001b[0m\n\u001b[1;32m    176\u001b[0m                              filter_flip=filter_flip)\n\u001b[0;32m--> 177\u001b[0;31m     \u001b[0;32mreturn\u001b[0m \u001b[0mconv_op\u001b[0m\u001b[0;34m(\u001b[0m\u001b[0minput\u001b[0m\u001b[0;34m,\u001b[0m \u001b[0mfilters\u001b[0m\u001b[0;34m)\u001b[0m\u001b[0;34m\u001b[0m\u001b[0m\n\u001b[0m\u001b[1;32m    178\u001b[0m \u001b[0;34m\u001b[0m\u001b[0m\n\u001b[1;32m    179\u001b[0m \u001b[0;34m\u001b[0m\u001b[0m\n",
        "\u001b[0;32m/Users/d/Library/Python/2.7/lib/python/site-packages/theano/gof/op.pyc\u001b[0m in \u001b[0;36m__call__\u001b[0;34m(self, *inputs, **kwargs)\u001b[0m\n\u001b[1;32m    598\u001b[0m         \"\"\"\n\u001b[1;32m    599\u001b[0m         \u001b[0mreturn_list\u001b[0m \u001b[0;34m=\u001b[0m \u001b[0mkwargs\u001b[0m\u001b[0;34m.\u001b[0m\u001b[0mpop\u001b[0m\u001b[0;34m(\u001b[0m\u001b[0;34m'return_list'\u001b[0m\u001b[0;34m,\u001b[0m \u001b[0mFalse\u001b[0m\u001b[0;34m)\u001b[0m\u001b[0;34m\u001b[0m\u001b[0m\n\u001b[0;32m--> 600\u001b[0;31m         \u001b[0mnode\u001b[0m \u001b[0;34m=\u001b[0m \u001b[0mself\u001b[0m\u001b[0;34m.\u001b[0m\u001b[0mmake_node\u001b[0m\u001b[0;34m(\u001b[0m\u001b[0;34m*\u001b[0m\u001b[0minputs\u001b[0m\u001b[0;34m,\u001b[0m \u001b[0;34m**\u001b[0m\u001b[0mkwargs\u001b[0m\u001b[0;34m)\u001b[0m\u001b[0;34m\u001b[0m\u001b[0m\n\u001b[0m\u001b[1;32m    601\u001b[0m \u001b[0;34m\u001b[0m\u001b[0m\n\u001b[1;32m    602\u001b[0m         \u001b[0;32mif\u001b[0m \u001b[0mconfig\u001b[0m\u001b[0;34m.\u001b[0m\u001b[0mcompute_test_value\u001b[0m \u001b[0;34m!=\u001b[0m \u001b[0;34m'off'\u001b[0m\u001b[0;34m:\u001b[0m\u001b[0;34m\u001b[0m\u001b[0m\n",
        "\u001b[0;32m/Users/d/Library/Python/2.7/lib/python/site-packages/theano/tensor/nnet/abstract_conv.pyc\u001b[0m in \u001b[0;36mmake_node\u001b[0;34m(self, img, kern)\u001b[0m\n\u001b[1;32m    287\u001b[0m \u001b[0;34m\u001b[0m\u001b[0m\n\u001b[1;32m    288\u001b[0m     \u001b[0;32mdef\u001b[0m \u001b[0mmake_node\u001b[0m\u001b[0;34m(\u001b[0m\u001b[0mself\u001b[0m\u001b[0;34m,\u001b[0m \u001b[0mimg\u001b[0m\u001b[0;34m,\u001b[0m \u001b[0mkern\u001b[0m\u001b[0;34m)\u001b[0m\u001b[0;34m:\u001b[0m\u001b[0;34m\u001b[0m\u001b[0m\n\u001b[0;32m--> 289\u001b[0;31m         \u001b[0;32mif\u001b[0m \u001b[0mimg\u001b[0m\u001b[0;34m.\u001b[0m\u001b[0mtype\u001b[0m\u001b[0;34m.\u001b[0m\u001b[0mndim\u001b[0m \u001b[0;34m!=\u001b[0m \u001b[0;36m4\u001b[0m\u001b[0;34m:\u001b[0m\u001b[0;34m\u001b[0m\u001b[0m\n\u001b[0m\u001b[1;32m    290\u001b[0m             \u001b[0;32mraise\u001b[0m \u001b[0mTypeError\u001b[0m\u001b[0;34m(\u001b[0m\u001b[0;34m'img must be 4D tensor'\u001b[0m\u001b[0;34m)\u001b[0m\u001b[0;34m\u001b[0m\u001b[0m\n\u001b[1;32m    291\u001b[0m         \u001b[0;32mif\u001b[0m \u001b[0mkern\u001b[0m\u001b[0;34m.\u001b[0m\u001b[0mtype\u001b[0m\u001b[0;34m.\u001b[0m\u001b[0mndim\u001b[0m \u001b[0;34m!=\u001b[0m \u001b[0;36m4\u001b[0m\u001b[0;34m:\u001b[0m\u001b[0;34m\u001b[0m\u001b[0m\n",
        "\u001b[0;31mAttributeError\u001b[0m: 'numpy.ndarray' object has no attribute 'type'"
       ]
      }
     ],
     "prompt_number": 29
    },
    {
     "cell_type": "code",
     "collapsed": false,
     "input": [
      "layer = clf_layers[1]\n",
      "W = layer.W.get_value()\n",
      "b = layer.b.get_value()\n",
      "f = [w + bb for w, bb in zip(W, b)]\n",
      "\n",
      "gs = gridspec.GridSpec(6, 6)\n",
      "for i in range(layer.num_filters):\n",
      "    g = gs[i]\n",
      "    ax = plt.subplot(g)\n",
      "    ax.grid()\n",
      "    ax.set_xticks([])\n",
      "    ax.set_yticks([])\n",
      "    ax.imshow(f[i][0], cmap='gray')"
     ],
     "language": "python",
     "metadata": {},
     "outputs": [
      {
       "metadata": {},
       "output_type": "display_data",
       "png": "[encoded data removed]",
       "text": [
        "<matplotlib.figure.Figure at 0x1d5956490>"
       ]
      }
     ],
     "prompt_number": 20
    },
    {
     "cell_type": "code",
     "collapsed": false,
     "input": [
      "clf_layers"
     ],
     "language": "python",
     "metadata": {},
     "outputs": [
      {
       "metadata": {},
       "output_type": "pyout",
       "prompt_number": 19,
       "text": [
        "[<lasagne.layers.input.InputLayer at 0x1d57aa610>,\n",
        " <lasagne.layers.conv.Conv2DLayer at 0x1d57aaf90>,\n",
        " <lasagne.layers.pool.MaxPool2DLayer at 0x1d57aacd0>,\n",
        " <lasagne.layers.noise.DropoutLayer at 0x1d57aac50>,\n",
        " <lasagne.layers.conv.Conv2DLayer at 0x1d57aa090>,\n",
        " <lasagne.layers.pool.MaxPool2DLayer at 0x1d57aaed0>,\n",
        " <lasagne.layers.noise.DropoutLayer at 0x1d57aa190>,\n",
        " <lasagne.layers.dense.DenseLayer at 0x1d57aa790>,\n",
        " <lasagne.layers.noise.DropoutLayer at 0x1d57aa650>,\n",
        " <lasagne.layers.dense.DenseLayer at 0x155ce65d0>]"
       ]
      }
     ],
     "prompt_number": 19
    },
    {
     "cell_type": "code",
     "collapsed": false,
     "input": [
      "from theano.sandbox.cuda import dnn\n",
      "dnn.dnn_available()"
     ],
     "language": "python",
     "metadata": {},
     "outputs": [
      {
       "metadata": {},
       "output_type": "pyout",
       "prompt_number": 6,
       "text": [
        "False"
       ]
      }
     ],
     "prompt_number": 6
    },
    {
     "cell_type": "code",
     "collapsed": false,
     "input": [],
     "language": "python",
     "metadata": {},
     "outputs": []
    }
   ],
   "metadata": {}
  }
 ]
}